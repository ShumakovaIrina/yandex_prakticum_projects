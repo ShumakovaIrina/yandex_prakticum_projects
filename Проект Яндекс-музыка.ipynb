{
 "cells": [
  {
   "cell_type": "markdown",
   "metadata": {
    "id": "E0vqbgi9ay0H"
   },
   "source": [
    "# Яндекс.Музыка"
   ]
  },
  {
   "cell_type": "markdown",
   "metadata": {
    "id": "VUC88oWjTJw2"
   },
   "source": [
    "Сравнение Москвы и Петербурга окружено мифами. Например:\n",
    " * Москва — мегаполис, подчинённый жёсткому ритму рабочей недели;\n",
    " * Петербург — культурная столица, со своими вкусами.\n",
    "\n",
    "На данных Яндекс.Музыки вы сравните поведение пользователей двух столиц.\n",
    "\n",
    "**Цель исследования** — проверьте три гипотезы:\n",
    "1. Активность пользователей зависит от дня недели. Причём в Москве и Петербурге это проявляется по-разному.\n",
    "2. В понедельник утром в Москве преобладают одни жанры, а в Петербурге — другие. Так же и вечером пятницы преобладают разные жанры — в зависимости от города. \n",
    "3. Москва и Петербург предпочитают разные жанры музыки. В Москве чаще слушают поп-музыку, в Петербурге — русский рэп.\n",
    "\n",
    "**Ход исследования**\n",
    "\n",
    "Данные о поведении пользователей вы получите из файла `yandex_music_project.csv`. О качестве данных ничего не известно. Поэтому перед проверкой гипотез понадобится обзор данных. \n",
    "\n",
    "Вы проверите данные на ошибки и оцените их влияние на исследование. Затем, на этапе предобработки вы поищете возможность исправить самые критичные ошибки данных.\n",
    " \n",
    "Таким образом, исследование пройдёт в три этапа:\n",
    " 1. Обзор данных.\n",
    " 2. Предобработка данных.\n",
    " 3. Проверка гипотез.\n",
    "\n"
   ]
  },
  {
   "cell_type": "markdown",
   "metadata": {
    "id": "Ml1hmfXC_Zcs"
   },
   "source": [
    "## Обзор данных\n",
    "\n",
    "Составьте первое представление о данных Яндекс.Музыки.\n",
    "\n",
    "\n"
   ]
  },
  {
   "cell_type": "markdown",
   "metadata": {
    "id": "57eAOGIz_Zcs"
   },
   "source": [
    "Основной инструмент аналитика — `pandas`. Импортируйте эту библиотеку."
   ]
  },
  {
   "cell_type": "code",
   "execution_count": 1,
   "metadata": {
    "id": "AXN7PHPN_Zcs"
   },
   "outputs": [],
   "source": [
    "# импорт библиотеки pandas\n",
    "import pandas as pd\n"
   ]
  },
  {
   "cell_type": "markdown",
   "metadata": {
    "id": "SG23P8tt_Zcs"
   },
   "source": [
    "Прочитайте файл `yandex_music_project.csv` из папки `/datasets` и сохраните его в переменной `df`:"
   ]
  },
  {
   "cell_type": "code",
   "execution_count": 2,
   "metadata": {
    "id": "fFVu7vqh_Zct",
    "scrolled": true
   },
   "outputs": [],
   "source": [
    "# чтение файла с данными и сохранение в df\n",
    "df = pd.read_csv('/datasets/yandex_music_project.csv')\n"
   ]
  },
  {
   "cell_type": "markdown",
   "metadata": {
    "id": "rDoOMd3uTqnZ"
   },
   "source": [
    "Выведите на экран первые десять строк таблицы:"
   ]
  },
  {
   "cell_type": "code",
   "execution_count": 3,
   "metadata": {
    "id": "oWTVX3gW_Zct"
   },
   "outputs": [
    {
     "data": {
      "text/html": [
       "<div>\n",
       "<style scoped>\n",
       "    .dataframe tbody tr th:only-of-type {\n",
       "        vertical-align: middle;\n",
       "    }\n",
       "\n",
       "    .dataframe tbody tr th {\n",
       "        vertical-align: top;\n",
       "    }\n",
       "\n",
       "    .dataframe thead th {\n",
       "        text-align: right;\n",
       "    }\n",
       "</style>\n",
       "<table border=\"1\" class=\"dataframe\">\n",
       "  <thead>\n",
       "    <tr style=\"text-align: right;\">\n",
       "      <th></th>\n",
       "      <th>userID</th>\n",
       "      <th>Track</th>\n",
       "      <th>artist</th>\n",
       "      <th>genre</th>\n",
       "      <th>City</th>\n",
       "      <th>time</th>\n",
       "      <th>Day</th>\n",
       "    </tr>\n",
       "  </thead>\n",
       "  <tbody>\n",
       "    <tr>\n",
       "      <th>0</th>\n",
       "      <td>FFB692EC</td>\n",
       "      <td>Kamigata To Boots</td>\n",
       "      <td>The Mass Missile</td>\n",
       "      <td>rock</td>\n",
       "      <td>Saint-Petersburg</td>\n",
       "      <td>20:28:33</td>\n",
       "      <td>Wednesday</td>\n",
       "    </tr>\n",
       "    <tr>\n",
       "      <th>1</th>\n",
       "      <td>55204538</td>\n",
       "      <td>Delayed Because of Accident</td>\n",
       "      <td>Andreas Rönnberg</td>\n",
       "      <td>rock</td>\n",
       "      <td>Moscow</td>\n",
       "      <td>14:07:09</td>\n",
       "      <td>Friday</td>\n",
       "    </tr>\n",
       "    <tr>\n",
       "      <th>2</th>\n",
       "      <td>20EC38</td>\n",
       "      <td>Funiculì funiculà</td>\n",
       "      <td>Mario Lanza</td>\n",
       "      <td>pop</td>\n",
       "      <td>Saint-Petersburg</td>\n",
       "      <td>20:58:07</td>\n",
       "      <td>Wednesday</td>\n",
       "    </tr>\n",
       "    <tr>\n",
       "      <th>3</th>\n",
       "      <td>A3DD03C9</td>\n",
       "      <td>Dragons in the Sunset</td>\n",
       "      <td>Fire + Ice</td>\n",
       "      <td>folk</td>\n",
       "      <td>Saint-Petersburg</td>\n",
       "      <td>08:37:09</td>\n",
       "      <td>Monday</td>\n",
       "    </tr>\n",
       "    <tr>\n",
       "      <th>4</th>\n",
       "      <td>E2DC1FAE</td>\n",
       "      <td>Soul People</td>\n",
       "      <td>Space Echo</td>\n",
       "      <td>dance</td>\n",
       "      <td>Moscow</td>\n",
       "      <td>08:34:34</td>\n",
       "      <td>Monday</td>\n",
       "    </tr>\n",
       "    <tr>\n",
       "      <th>5</th>\n",
       "      <td>842029A1</td>\n",
       "      <td>Преданная</td>\n",
       "      <td>IMPERVTOR</td>\n",
       "      <td>rusrap</td>\n",
       "      <td>Saint-Petersburg</td>\n",
       "      <td>13:09:41</td>\n",
       "      <td>Friday</td>\n",
       "    </tr>\n",
       "    <tr>\n",
       "      <th>6</th>\n",
       "      <td>4CB90AA5</td>\n",
       "      <td>True</td>\n",
       "      <td>Roman Messer</td>\n",
       "      <td>dance</td>\n",
       "      <td>Moscow</td>\n",
       "      <td>13:00:07</td>\n",
       "      <td>Wednesday</td>\n",
       "    </tr>\n",
       "    <tr>\n",
       "      <th>7</th>\n",
       "      <td>F03E1C1F</td>\n",
       "      <td>Feeling This Way</td>\n",
       "      <td>Polina Griffith</td>\n",
       "      <td>dance</td>\n",
       "      <td>Moscow</td>\n",
       "      <td>20:47:49</td>\n",
       "      <td>Wednesday</td>\n",
       "    </tr>\n",
       "    <tr>\n",
       "      <th>8</th>\n",
       "      <td>8FA1D3BE</td>\n",
       "      <td>И вновь продолжается бой</td>\n",
       "      <td>NaN</td>\n",
       "      <td>ruspop</td>\n",
       "      <td>Moscow</td>\n",
       "      <td>09:17:40</td>\n",
       "      <td>Friday</td>\n",
       "    </tr>\n",
       "    <tr>\n",
       "      <th>9</th>\n",
       "      <td>E772D5C0</td>\n",
       "      <td>Pessimist</td>\n",
       "      <td>NaN</td>\n",
       "      <td>dance</td>\n",
       "      <td>Saint-Petersburg</td>\n",
       "      <td>21:20:49</td>\n",
       "      <td>Wednesday</td>\n",
       "    </tr>\n",
       "  </tbody>\n",
       "</table>\n",
       "</div>"
      ],
      "text/plain": [
       "     userID                        Track            artist   genre  \\\n",
       "0  FFB692EC            Kamigata To Boots  The Mass Missile    rock   \n",
       "1  55204538  Delayed Because of Accident  Andreas Rönnberg    rock   \n",
       "2    20EC38            Funiculì funiculà       Mario Lanza     pop   \n",
       "3  A3DD03C9        Dragons in the Sunset        Fire + Ice    folk   \n",
       "4  E2DC1FAE                  Soul People        Space Echo   dance   \n",
       "5  842029A1                    Преданная         IMPERVTOR  rusrap   \n",
       "6  4CB90AA5                         True      Roman Messer   dance   \n",
       "7  F03E1C1F             Feeling This Way   Polina Griffith   dance   \n",
       "8  8FA1D3BE     И вновь продолжается бой               NaN  ruspop   \n",
       "9  E772D5C0                    Pessimist               NaN   dance   \n",
       "\n",
       "             City        time        Day  \n",
       "0  Saint-Petersburg  20:28:33  Wednesday  \n",
       "1            Moscow  14:07:09     Friday  \n",
       "2  Saint-Petersburg  20:58:07  Wednesday  \n",
       "3  Saint-Petersburg  08:37:09     Monday  \n",
       "4            Moscow  08:34:34     Monday  \n",
       "5  Saint-Petersburg  13:09:41     Friday  \n",
       "6            Moscow  13:00:07  Wednesday  \n",
       "7            Moscow  20:47:49  Wednesday  \n",
       "8            Moscow  09:17:40     Friday  \n",
       "9  Saint-Petersburg  21:20:49  Wednesday  "
      ]
     },
     "metadata": {},
     "output_type": "display_data"
    }
   ],
   "source": [
    "# получение первых 10 строк таблицы df\n",
    "display(df.head(10))\n"
   ]
  },
  {
   "cell_type": "markdown",
   "metadata": {
    "id": "EO73Kwic_Zct"
   },
   "source": [
    "Одной командой получить общую информацию о таблице:"
   ]
  },
  {
   "cell_type": "code",
   "execution_count": 4,
   "metadata": {
    "id": "DSf2kIb-_Zct"
   },
   "outputs": [
    {
     "name": "stdout",
     "output_type": "stream",
     "text": [
      "<class 'pandas.core.frame.DataFrame'>\n",
      "RangeIndex: 65079 entries, 0 to 65078\n",
      "Data columns (total 7 columns):\n",
      " #   Column    Non-Null Count  Dtype \n",
      "---  ------    --------------  ----- \n",
      " 0     userID  65079 non-null  object\n",
      " 1   Track     63848 non-null  object\n",
      " 2   artist    57876 non-null  object\n",
      " 3   genre     63881 non-null  object\n",
      " 4     City    65079 non-null  object\n",
      " 5   time      65079 non-null  object\n",
      " 6   Day       65079 non-null  object\n",
      "dtypes: object(7)\n",
      "memory usage: 3.5+ MB\n"
     ]
    }
   ],
   "source": [
    "# получение общей информации о данных в таблице df\n",
    "df.info()\n"
   ]
  },
  {
   "cell_type": "markdown",
   "metadata": {
    "id": "TaQ2Iwbr_Zct"
   },
   "source": [
    "Итак, в таблице семь столбцов. Тип данных во всех столбцах — `object`.\n",
    "\n",
    "Согласно документации к данным:\n",
    "* `userID` — идентификатор пользователя;\n",
    "* `Track` — название трека;  \n",
    "* `artist` — имя исполнителя;\n",
    "* `genre` — название жанра;\n",
    "* `City` — город пользователя;\n",
    "* `time` — время начала прослушивания;\n",
    "* `Day` — день недели.\n",
    "\n",
    "В названиях колонок видны три нарушения стиля:\n",
    "1. Строчные буквы сочетаются с прописными.\n",
    "2. Встречаются пробелы.\n",
    "3. Найдите ещё одну проблему в названии колонок и опишите её в этом пункте.\n",
    "\n",
    "\n",
    "\n",
    "Количество значений в столбцах различается. Значит, в данных есть пропущенные значения.\n"
   ]
  },
  {
   "cell_type": "markdown",
   "metadata": {
    "id": "MCB6-dXG_Zct"
   },
   "source": [
    "**Выводы**\n",
    "\n",
    "В каждой строке таблицы — данные о прослушанном треке. Часть колонок описывает саму композицию: название, исполнителя и жанр. Остальные данные рассказывают о пользователе: из какого он города, когда он слушал музыку. \n",
    "\n",
    "Предварительно можно утверждать, что, данных достаточно для проверки гипотез. Но встречаются пропуски в данных, а в названиях колонок — расхождения с хорошим стилем.\n",
    "\n",
    "Чтобы двигаться дальше, нужно устранить проблемы в данных."
   ]
  },
  {
   "cell_type": "markdown",
   "metadata": {
    "id": "SjYF6Ub9_Zct"
   },
   "source": [
    "## Предобработка данных\n",
    "Исправьте стиль в заголовках столбцов, исключите пропуски. Затем проверьте данные на дубликаты."
   ]
  },
  {
   "cell_type": "markdown",
   "metadata": {
    "id": "dIaKXr29_Zct"
   },
   "source": [
    "### Стиль заголовков\n",
    "Выведите на экран названия столбцов:"
   ]
  },
  {
   "cell_type": "code",
   "execution_count": 5,
   "metadata": {
    "id": "oKOTdF_Q_Zct"
   },
   "outputs": [
    {
     "data": {
      "text/plain": [
       "Index(['  userID', 'Track', 'artist', 'genre', '  City  ', 'time', 'Day'], dtype='object')"
      ]
     },
     "metadata": {},
     "output_type": "display_data"
    }
   ],
   "source": [
    "# перечень названий столбцов таблицы df\n",
    "display(df.columns)\n"
   ]
  },
  {
   "cell_type": "markdown",
   "metadata": {
    "id": "zj5534cv_Zct"
   },
   "source": [
    "Приведите названия в соответствие с хорошим стилем:\n",
    "* несколько слов в названии запишите в «змеином_регистре»,\n",
    "* все символы сделайте строчными,\n",
    "* устраните пробелы.\n",
    "\n",
    "Для этого переименуйте колонки так:\n",
    "* `'  userID'` → `'user_id'`;\n",
    "* `'Track'` → `'track'`;\n",
    "* `'  City  '` → `'city'`;\n",
    "* `'Day'` → `'day'`."
   ]
  },
  {
   "cell_type": "code",
   "execution_count": 6,
   "metadata": {
    "id": "ISlFqs5y_Zct"
   },
   "outputs": [],
   "source": [
    "# переименование столбцов\n",
    "df=df.rename(columns={'  userID':'user_id','Track':'track','  City  ':'city','Day':'day'})\n"
   ]
  },
  {
   "cell_type": "markdown",
   "metadata": {
    "id": "1dqbh00J_Zct"
   },
   "source": [
    "Проверьте результат. Для этого ещё раз выведите на экран названия столбцов:"
   ]
  },
  {
   "cell_type": "code",
   "execution_count": 7,
   "metadata": {
    "id": "d4NOAmTW_Zct"
   },
   "outputs": [
    {
     "data": {
      "text/plain": [
       "Index(['user_id', 'track', 'artist', 'genre', 'city', 'time', 'day'], dtype='object')"
      ]
     },
     "metadata": {},
     "output_type": "display_data"
    }
   ],
   "source": [
    "# проверка результатов - перечень названий столбцов\n",
    "display(df.columns)\n"
   ]
  },
  {
   "cell_type": "markdown",
   "metadata": {
    "id": "5ISfbcfY_Zct"
   },
   "source": [
    "### Пропуски значений\n",
    "Сначала посчитайте, сколько в таблице пропущенных значений. Для этого достаточно двух методов `pandas`:"
   ]
  },
  {
   "cell_type": "code",
   "execution_count": 8,
   "metadata": {
    "id": "RskX29qr_Zct"
   },
   "outputs": [
    {
     "data": {
      "text/plain": [
       "user_id       0\n",
       "track      1231\n",
       "artist     7203\n",
       "genre      1198\n",
       "city          0\n",
       "time          0\n",
       "day           0\n",
       "dtype: int64"
      ]
     },
     "metadata": {},
     "output_type": "display_data"
    }
   ],
   "source": [
    "# подсчёт пропусков\n",
    "display(df.isna().sum())  \n"
   ]
  },
  {
   "cell_type": "markdown",
   "metadata": {
    "id": "qubhgnlO_Zct"
   },
   "source": [
    "Не все пропущенные значения влияют на исследование. Так в `track` и `artist` пропуски не важны для вашей работы. Достаточно заменить их явными обозначениями.\n",
    "\n",
    "Но пропуски в `genre` могут помешать сравнению музыкальных вкусов в Москве и Санкт-Петербурге. На практике было бы правильно установить причину пропусков и восстановить данные. Такой возможности нет в учебном проекте. Придётся:\n",
    "* заполнить и эти пропуски явными обозначениями,\n",
    "* оценить, насколько они повредят расчётам. "
   ]
  },
  {
   "cell_type": "markdown",
   "metadata": {
    "id": "fSv2laPA_Zct"
   },
   "source": [
    "Замените пропущенные значения в столбцах `track`, `artist` и `genre` на строку `'unknown'`. Для этого создайте список `columns_to_replace`, переберите его элементы циклом `for` и для каждого столбца выполните замену пропущенных значений:"
   ]
  },
  {
   "cell_type": "code",
   "execution_count": 9,
   "metadata": {
    "id": "KplB5qWs_Zct"
   },
   "outputs": [],
   "source": [
    "# перебор названий столбцов в цикле и замена пропущенных значений на 'unknown'\n",
    "columns_to_replace = ['track','artist','genre']\n",
    "for column in columns_to_replace:\n",
    "    df[column]=df[column].fillna('unknown')\n",
    "             "
   ]
  },
  {
   "cell_type": "markdown",
   "metadata": {
    "id": "Ilsm-MZo_Zct"
   },
   "source": [
    "Убедитесь, что в таблице не осталось пропусков. Для этого ещё раз посчитайте пропущенные значения."
   ]
  },
  {
   "cell_type": "code",
   "execution_count": 10,
   "metadata": {
    "id": "Tq4nYRX4_Zct"
   },
   "outputs": [
    {
     "data": {
      "text/plain": [
       "user_id    0\n",
       "track      0\n",
       "artist     0\n",
       "genre      0\n",
       "city       0\n",
       "time       0\n",
       "day        0\n",
       "dtype: int64"
      ]
     },
     "metadata": {},
     "output_type": "display_data"
    }
   ],
   "source": [
    "# подсчёт пропусков\n",
    "display(df.isna().sum())     \n"
   ]
  },
  {
   "cell_type": "markdown",
   "metadata": {
    "id": "BWKRtBJ3_Zct"
   },
   "source": [
    "### Дубликаты\n",
    "Посчитайте явные дубликаты в таблице одной командой:"
   ]
  },
  {
   "cell_type": "code",
   "execution_count": 11,
   "metadata": {
    "id": "36eES_S0_Zct",
    "scrolled": false
   },
   "outputs": [
    {
     "data": {
      "text/plain": [
       "3826"
      ]
     },
     "metadata": {},
     "output_type": "display_data"
    }
   ],
   "source": [
    "\n",
    "# подсчёт явных дубликатов\n",
    "display(df.duplicated().sum())\n"
   ]
  },
  {
   "cell_type": "markdown",
   "metadata": {
    "id": "Ot25h6XR_Zct"
   },
   "source": [
    "Вызовите специальный метод `pandas`, чтобы удалить явные дубликаты:"
   ]
  },
  {
   "cell_type": "code",
   "execution_count": 12,
   "metadata": {
    "id": "exFHq6tt_Zct",
    "scrolled": true
   },
   "outputs": [],
   "source": [
    "# удаление явных дубликатов (с удалением старых индексов и формированием новых)\n",
    "df=df.drop_duplicates().reset_index(drop=True)\n"
   ]
  },
  {
   "cell_type": "markdown",
   "metadata": {
    "id": "Im2YwBEG_Zct"
   },
   "source": [
    "Ещё раз посчитайте явные дубликаты в таблице — убедитесь, что полностью от них избавились:"
   ]
  },
  {
   "cell_type": "code",
   "execution_count": 13,
   "metadata": {
    "id": "-8PuNWQ0_Zct"
   },
   "outputs": [
    {
     "data": {
      "text/plain": [
       "0"
      ]
     },
     "metadata": {},
     "output_type": "display_data"
    }
   ],
   "source": [
    "# проверка на отсутствие дубликатов\n",
    "display(df.duplicated().sum())\n"
   ]
  },
  {
   "cell_type": "markdown",
   "metadata": {
    "id": "QlFBsxAr_Zct"
   },
   "source": [
    "Теперь избавьтесь от неявных дубликатов в колонке `genre`. Например, название одного и того же жанра может быть записано немного по-разному. Такие ошибки тоже повлияют на результат исследования."
   ]
  },
  {
   "cell_type": "markdown",
   "metadata": {
    "id": "eSjWwsOh_Zct"
   },
   "source": [
    "Выведите на экран список уникальных названий жанров, отсортированный в алфавитном порядке. Для этого:\n",
    "* извлеките нужный столбец датафрейма, \n",
    "* примените к нему метод сортировки,\n",
    "* для отсортированного столбца вызовите метод, который вернёт уникальные значения из столбца."
   ]
  },
  {
   "cell_type": "code",
   "execution_count": 14,
   "metadata": {
    "id": "JIUcqzZN_Zct",
    "scrolled": true
   },
   "outputs": [
    {
     "data": {
      "text/plain": [
       "array(['acid', 'acoustic', 'action', 'adult', 'africa', 'afrikaans',\n",
       "       'alternative', 'alternativepunk', 'ambient', 'americana',\n",
       "       'animated', 'anime', 'arabesk', 'arabic', 'arena',\n",
       "       'argentinetango', 'art', 'audiobook', 'author', 'avantgarde',\n",
       "       'axé', 'baile', 'balkan', 'beats', 'bigroom', 'black', 'bluegrass',\n",
       "       'blues', 'bollywood', 'bossa', 'brazilian', 'breakbeat', 'breaks',\n",
       "       'broadway', 'cantautori', 'cantopop', 'canzone', 'caribbean',\n",
       "       'caucasian', 'celtic', 'chamber', 'chanson', 'children', 'chill',\n",
       "       'chinese', 'choral', 'christian', 'christmas', 'classical',\n",
       "       'classicmetal', 'club', 'colombian', 'comedy', 'conjazz',\n",
       "       'contemporary', 'country', 'cuban', 'dance', 'dancehall',\n",
       "       'dancepop', 'dark', 'death', 'deep', 'deutschrock', 'deutschspr',\n",
       "       'dirty', 'disco', 'dnb', 'documentary', 'downbeat', 'downtempo',\n",
       "       'drum', 'dub', 'dubstep', 'eastern', 'easy', 'electronic',\n",
       "       'electropop', 'emo', 'entehno', 'epicmetal', 'estrada', 'ethnic',\n",
       "       'eurofolk', 'european', 'experimental', 'extrememetal', 'fado',\n",
       "       'fairytail', 'film', 'fitness', 'flamenco', 'folk', 'folklore',\n",
       "       'folkmetal', 'folkrock', 'folktronica', 'forró', 'frankreich',\n",
       "       'französisch', 'french', 'funk', 'future', 'gangsta', 'garage',\n",
       "       'german', 'ghazal', 'gitarre', 'glitch', 'gospel', 'gothic',\n",
       "       'grime', 'grunge', 'gypsy', 'handsup', \"hard'n'heavy\", 'hardcore',\n",
       "       'hardstyle', 'hardtechno', 'hip', 'hip-hop', 'hiphop',\n",
       "       'historisch', 'holiday', 'hop', 'horror', 'house', 'hymn', 'idm',\n",
       "       'independent', 'indian', 'indie', 'indipop', 'industrial',\n",
       "       'inspirational', 'instrumental', 'international', 'irish', 'jam',\n",
       "       'japanese', 'jazz', 'jewish', 'jpop', 'jungle', 'k-pop',\n",
       "       'karadeniz', 'karaoke', 'kayokyoku', 'korean', 'laiko', 'latin',\n",
       "       'latino', 'leftfield', 'local', 'lounge', 'loungeelectronic',\n",
       "       'lovers', 'malaysian', 'mandopop', 'marschmusik', 'meditative',\n",
       "       'mediterranean', 'melodic', 'metal', 'metalcore', 'mexican',\n",
       "       'middle', 'minimal', 'miscellaneous', 'modern', 'mood', 'mpb',\n",
       "       'muslim', 'native', 'neoklassik', 'neue', 'new', 'newage',\n",
       "       'newwave', 'nu', 'nujazz', 'numetal', 'oceania', 'old', 'opera',\n",
       "       'orchestral', 'other', 'piano', 'podcasts', 'pop', 'popdance',\n",
       "       'popelectronic', 'popeurodance', 'poprussian', 'post',\n",
       "       'posthardcore', 'postrock', 'power', 'progmetal', 'progressive',\n",
       "       'psychedelic', 'punjabi', 'punk', 'quebecois', 'ragga', 'ram',\n",
       "       'rancheras', 'rap', 'rave', 'reggae', 'reggaeton', 'regional',\n",
       "       'relax', 'religious', 'retro', 'rhythm', 'rnb', 'rnr', 'rock',\n",
       "       'rockabilly', 'rockalternative', 'rockindie', 'rockother',\n",
       "       'romance', 'roots', 'ruspop', 'rusrap', 'rusrock', 'russian',\n",
       "       'salsa', 'samba', 'scenic', 'schlager', 'self', 'sertanejo',\n",
       "       'shanson', 'shoegazing', 'showtunes', 'singer', 'ska', 'skarock',\n",
       "       'slow', 'smooth', 'soft', 'soul', 'soulful', 'sound', 'soundtrack',\n",
       "       'southern', 'specialty', 'speech', 'spiritual', 'sport',\n",
       "       'stonerrock', 'surf', 'swing', 'synthpop', 'synthrock',\n",
       "       'sängerportrait', 'tango', 'tanzorchester', 'taraftar', 'tatar',\n",
       "       'tech', 'techno', 'teen', 'thrash', 'top', 'traditional',\n",
       "       'tradjazz', 'trance', 'tribal', 'trip', 'triphop', 'tropical',\n",
       "       'türk', 'türkçe', 'ukrrock', 'unknown', 'urban', 'uzbek',\n",
       "       'variété', 'vi', 'videogame', 'vocal', 'western', 'world',\n",
       "       'worldbeat', 'ïîï', 'электроника'], dtype=object)"
      ]
     },
     "metadata": {},
     "output_type": "display_data"
    }
   ],
   "source": [
    "# Просмотр уникальных названий жанров\n",
    "display(df['genre'].sort_values().unique())\n"
   ]
  },
  {
   "cell_type": "markdown",
   "metadata": {
    "id": "qej-Qmuo_Zct"
   },
   "source": [
    "Просмотрите список и найдите неявные дубликаты названия `hiphop`. Это могут быть названия с ошибками или альтернативные названия того же жанра.\n",
    "\n",
    "Вы увидите следующие неявные дубликаты:\n",
    "* *hip*,\n",
    "* *hop*,\n",
    "* *hip-hop*.\n",
    "\n",
    "Чтобы очистить от них таблицу, напишите функцию `replace_wrong_genres()` с двумя параметрами: \n",
    "* `wrong_genres` — список дубликатов,\n",
    "* `correct_genre` — строка с правильным значением.\n",
    "\n",
    "Функция должна исправить колонку `genre` в таблице `df`: заменить каждое значение из списка `wrong_genres` на значение из `correct_genre`."
   ]
  },
  {
   "cell_type": "code",
   "execution_count": 15,
   "metadata": {
    "id": "ErNDkmns_Zct",
    "scrolled": true
   },
   "outputs": [],
   "source": [
    "def replace_wrong_genres(wrong_genres,correct_genre):\n",
    "    for wrong_genre in wrong_genres:\n",
    "        df['genre']=df ['genre'].replace(wrong_genre,correct_genre)\n",
    "# Функция для замены неявных дубликатов"
   ]
  },
  {
   "cell_type": "markdown",
   "metadata": {
    "id": "aDoBJxbA_Zct"
   },
   "source": [
    "Вызовите `replace_wrong_genres()` и передайте ей такие аргументы, чтобы она устранила неявные дубликаты: вместо `hip`, `hop` и `hip-hop` в таблице должно быть значение `hiphop`:"
   ]
  },
  {
   "cell_type": "code",
   "execution_count": 16,
   "metadata": {
    "id": "YN5i2hpmSo09"
   },
   "outputs": [
    {
     "data": {
      "text/html": [
       "<div>\n",
       "<style scoped>\n",
       "    .dataframe tbody tr th:only-of-type {\n",
       "        vertical-align: middle;\n",
       "    }\n",
       "\n",
       "    .dataframe tbody tr th {\n",
       "        vertical-align: top;\n",
       "    }\n",
       "\n",
       "    .dataframe thead th {\n",
       "        text-align: right;\n",
       "    }\n",
       "</style>\n",
       "<table border=\"1\" class=\"dataframe\">\n",
       "  <thead>\n",
       "    <tr style=\"text-align: right;\">\n",
       "      <th></th>\n",
       "      <th>user_id</th>\n",
       "      <th>track</th>\n",
       "      <th>artist</th>\n",
       "      <th>genre</th>\n",
       "      <th>city</th>\n",
       "      <th>time</th>\n",
       "      <th>day</th>\n",
       "    </tr>\n",
       "  </thead>\n",
       "  <tbody>\n",
       "    <tr>\n",
       "      <th>0</th>\n",
       "      <td>FFB692EC</td>\n",
       "      <td>Kamigata To Boots</td>\n",
       "      <td>The Mass Missile</td>\n",
       "      <td>rock</td>\n",
       "      <td>Saint-Petersburg</td>\n",
       "      <td>20:28:33</td>\n",
       "      <td>Wednesday</td>\n",
       "    </tr>\n",
       "    <tr>\n",
       "      <th>1</th>\n",
       "      <td>55204538</td>\n",
       "      <td>Delayed Because of Accident</td>\n",
       "      <td>Andreas Rönnberg</td>\n",
       "      <td>rock</td>\n",
       "      <td>Moscow</td>\n",
       "      <td>14:07:09</td>\n",
       "      <td>Friday</td>\n",
       "    </tr>\n",
       "    <tr>\n",
       "      <th>2</th>\n",
       "      <td>20EC38</td>\n",
       "      <td>Funiculì funiculà</td>\n",
       "      <td>Mario Lanza</td>\n",
       "      <td>pop</td>\n",
       "      <td>Saint-Petersburg</td>\n",
       "      <td>20:58:07</td>\n",
       "      <td>Wednesday</td>\n",
       "    </tr>\n",
       "    <tr>\n",
       "      <th>3</th>\n",
       "      <td>A3DD03C9</td>\n",
       "      <td>Dragons in the Sunset</td>\n",
       "      <td>Fire + Ice</td>\n",
       "      <td>folk</td>\n",
       "      <td>Saint-Petersburg</td>\n",
       "      <td>08:37:09</td>\n",
       "      <td>Monday</td>\n",
       "    </tr>\n",
       "    <tr>\n",
       "      <th>4</th>\n",
       "      <td>E2DC1FAE</td>\n",
       "      <td>Soul People</td>\n",
       "      <td>Space Echo</td>\n",
       "      <td>dance</td>\n",
       "      <td>Moscow</td>\n",
       "      <td>08:34:34</td>\n",
       "      <td>Monday</td>\n",
       "    </tr>\n",
       "    <tr>\n",
       "      <th>...</th>\n",
       "      <td>...</td>\n",
       "      <td>...</td>\n",
       "      <td>...</td>\n",
       "      <td>...</td>\n",
       "      <td>...</td>\n",
       "      <td>...</td>\n",
       "      <td>...</td>\n",
       "    </tr>\n",
       "    <tr>\n",
       "      <th>61248</th>\n",
       "      <td>729CBB09</td>\n",
       "      <td>My Name</td>\n",
       "      <td>McLean</td>\n",
       "      <td>rnb</td>\n",
       "      <td>Moscow</td>\n",
       "      <td>13:32:28</td>\n",
       "      <td>Wednesday</td>\n",
       "    </tr>\n",
       "    <tr>\n",
       "      <th>61249</th>\n",
       "      <td>D08D4A55</td>\n",
       "      <td>Maybe One Day (feat. Black Spade)</td>\n",
       "      <td>Blu &amp; Exile</td>\n",
       "      <td>hiphop</td>\n",
       "      <td>Saint-Petersburg</td>\n",
       "      <td>10:00:00</td>\n",
       "      <td>Monday</td>\n",
       "    </tr>\n",
       "    <tr>\n",
       "      <th>61250</th>\n",
       "      <td>C5E3A0D5</td>\n",
       "      <td>Jalopiina</td>\n",
       "      <td>unknown</td>\n",
       "      <td>industrial</td>\n",
       "      <td>Moscow</td>\n",
       "      <td>20:09:26</td>\n",
       "      <td>Friday</td>\n",
       "    </tr>\n",
       "    <tr>\n",
       "      <th>61251</th>\n",
       "      <td>321D0506</td>\n",
       "      <td>Freight Train</td>\n",
       "      <td>Chas McDevitt</td>\n",
       "      <td>rock</td>\n",
       "      <td>Moscow</td>\n",
       "      <td>21:43:59</td>\n",
       "      <td>Friday</td>\n",
       "    </tr>\n",
       "    <tr>\n",
       "      <th>61252</th>\n",
       "      <td>3A64EF84</td>\n",
       "      <td>Tell Me Sweet Little Lies</td>\n",
       "      <td>Monica Lopez</td>\n",
       "      <td>country</td>\n",
       "      <td>Moscow</td>\n",
       "      <td>21:59:46</td>\n",
       "      <td>Friday</td>\n",
       "    </tr>\n",
       "  </tbody>\n",
       "</table>\n",
       "<p>61253 rows × 7 columns</p>\n",
       "</div>"
      ],
      "text/plain": [
       "        user_id                              track            artist  \\\n",
       "0      FFB692EC                  Kamigata To Boots  The Mass Missile   \n",
       "1      55204538        Delayed Because of Accident  Andreas Rönnberg   \n",
       "2        20EC38                  Funiculì funiculà       Mario Lanza   \n",
       "3      A3DD03C9              Dragons in the Sunset        Fire + Ice   \n",
       "4      E2DC1FAE                        Soul People        Space Echo   \n",
       "...         ...                                ...               ...   \n",
       "61248  729CBB09                            My Name            McLean   \n",
       "61249  D08D4A55  Maybe One Day (feat. Black Spade)       Blu & Exile   \n",
       "61250  C5E3A0D5                          Jalopiina           unknown   \n",
       "61251  321D0506                      Freight Train     Chas McDevitt   \n",
       "61252  3A64EF84          Tell Me Sweet Little Lies      Monica Lopez   \n",
       "\n",
       "            genre              city      time        day  \n",
       "0            rock  Saint-Petersburg  20:28:33  Wednesday  \n",
       "1            rock            Moscow  14:07:09     Friday  \n",
       "2             pop  Saint-Petersburg  20:58:07  Wednesday  \n",
       "3            folk  Saint-Petersburg  08:37:09     Monday  \n",
       "4           dance            Moscow  08:34:34     Monday  \n",
       "...           ...               ...       ...        ...  \n",
       "61248         rnb            Moscow  13:32:28  Wednesday  \n",
       "61249      hiphop  Saint-Petersburg  10:00:00     Monday  \n",
       "61250  industrial            Moscow  20:09:26     Friday  \n",
       "61251        rock            Moscow  21:43:59     Friday  \n",
       "61252     country            Moscow  21:59:46     Friday  \n",
       "\n",
       "[61253 rows x 7 columns]"
      ]
     },
     "metadata": {},
     "output_type": "display_data"
    }
   ],
   "source": [
    "duplicates=['hip','hop','hip-hop'] \n",
    "genre ='hiphop'\n",
    "replace_wrong_genres(duplicates,genre)\n",
    "display(df)"
   ]
  },
  {
   "cell_type": "markdown",
   "metadata": {
    "id": "zQKF16_RG15m"
   },
   "source": [
    "Проверьте, что заменили неправильные названия:\n",
    "\n",
    "*   hip\n",
    "*   hop\n",
    "*   hip-hop\n",
    "\n",
    "Выведите отсортированный список уникальных значений столбца `genre`:"
   ]
  },
  {
   "cell_type": "code",
   "execution_count": 17,
   "metadata": {
    "id": "wvixALnFG15m"
   },
   "outputs": [
    {
     "data": {
      "text/plain": [
       "array(['acid', 'acoustic', 'action', 'adult', 'africa', 'afrikaans',\n",
       "       'alternative', 'alternativepunk', 'ambient', 'americana',\n",
       "       'animated', 'anime', 'arabesk', 'arabic', 'arena',\n",
       "       'argentinetango', 'art', 'audiobook', 'author', 'avantgarde',\n",
       "       'axé', 'baile', 'balkan', 'beats', 'bigroom', 'black', 'bluegrass',\n",
       "       'blues', 'bollywood', 'bossa', 'brazilian', 'breakbeat', 'breaks',\n",
       "       'broadway', 'cantautori', 'cantopop', 'canzone', 'caribbean',\n",
       "       'caucasian', 'celtic', 'chamber', 'chanson', 'children', 'chill',\n",
       "       'chinese', 'choral', 'christian', 'christmas', 'classical',\n",
       "       'classicmetal', 'club', 'colombian', 'comedy', 'conjazz',\n",
       "       'contemporary', 'country', 'cuban', 'dance', 'dancehall',\n",
       "       'dancepop', 'dark', 'death', 'deep', 'deutschrock', 'deutschspr',\n",
       "       'dirty', 'disco', 'dnb', 'documentary', 'downbeat', 'downtempo',\n",
       "       'drum', 'dub', 'dubstep', 'eastern', 'easy', 'electronic',\n",
       "       'electropop', 'emo', 'entehno', 'epicmetal', 'estrada', 'ethnic',\n",
       "       'eurofolk', 'european', 'experimental', 'extrememetal', 'fado',\n",
       "       'fairytail', 'film', 'fitness', 'flamenco', 'folk', 'folklore',\n",
       "       'folkmetal', 'folkrock', 'folktronica', 'forró', 'frankreich',\n",
       "       'französisch', 'french', 'funk', 'future', 'gangsta', 'garage',\n",
       "       'german', 'ghazal', 'gitarre', 'glitch', 'gospel', 'gothic',\n",
       "       'grime', 'grunge', 'gypsy', 'handsup', \"hard'n'heavy\", 'hardcore',\n",
       "       'hardstyle', 'hardtechno', 'hiphop', 'historisch', 'holiday',\n",
       "       'horror', 'house', 'hymn', 'idm', 'independent', 'indian', 'indie',\n",
       "       'indipop', 'industrial', 'inspirational', 'instrumental',\n",
       "       'international', 'irish', 'jam', 'japanese', 'jazz', 'jewish',\n",
       "       'jpop', 'jungle', 'k-pop', 'karadeniz', 'karaoke', 'kayokyoku',\n",
       "       'korean', 'laiko', 'latin', 'latino', 'leftfield', 'local',\n",
       "       'lounge', 'loungeelectronic', 'lovers', 'malaysian', 'mandopop',\n",
       "       'marschmusik', 'meditative', 'mediterranean', 'melodic', 'metal',\n",
       "       'metalcore', 'mexican', 'middle', 'minimal', 'miscellaneous',\n",
       "       'modern', 'mood', 'mpb', 'muslim', 'native', 'neoklassik', 'neue',\n",
       "       'new', 'newage', 'newwave', 'nu', 'nujazz', 'numetal', 'oceania',\n",
       "       'old', 'opera', 'orchestral', 'other', 'piano', 'podcasts', 'pop',\n",
       "       'popdance', 'popelectronic', 'popeurodance', 'poprussian', 'post',\n",
       "       'posthardcore', 'postrock', 'power', 'progmetal', 'progressive',\n",
       "       'psychedelic', 'punjabi', 'punk', 'quebecois', 'ragga', 'ram',\n",
       "       'rancheras', 'rap', 'rave', 'reggae', 'reggaeton', 'regional',\n",
       "       'relax', 'religious', 'retro', 'rhythm', 'rnb', 'rnr', 'rock',\n",
       "       'rockabilly', 'rockalternative', 'rockindie', 'rockother',\n",
       "       'romance', 'roots', 'ruspop', 'rusrap', 'rusrock', 'russian',\n",
       "       'salsa', 'samba', 'scenic', 'schlager', 'self', 'sertanejo',\n",
       "       'shanson', 'shoegazing', 'showtunes', 'singer', 'ska', 'skarock',\n",
       "       'slow', 'smooth', 'soft', 'soul', 'soulful', 'sound', 'soundtrack',\n",
       "       'southern', 'specialty', 'speech', 'spiritual', 'sport',\n",
       "       'stonerrock', 'surf', 'swing', 'synthpop', 'synthrock',\n",
       "       'sängerportrait', 'tango', 'tanzorchester', 'taraftar', 'tatar',\n",
       "       'tech', 'techno', 'teen', 'thrash', 'top', 'traditional',\n",
       "       'tradjazz', 'trance', 'tribal', 'trip', 'triphop', 'tropical',\n",
       "       'türk', 'türkçe', 'ukrrock', 'unknown', 'urban', 'uzbek',\n",
       "       'variété', 'vi', 'videogame', 'vocal', 'western', 'world',\n",
       "       'worldbeat', 'ïîï', 'электроника'], dtype=object)"
      ]
     },
     "metadata": {},
     "output_type": "display_data"
    }
   ],
   "source": [
    "# Проверка на неявные дубликаты\n",
    "display(df['genre'].sort_values().unique())"
   ]
  },
  {
   "cell_type": "markdown",
   "metadata": {
    "id": "jz6a9-7HQUDd"
   },
   "source": [
    "**Выводы**\n",
    "\n",
    "Предобработка обнаружила три проблемы в данных:\n",
    "\n",
    "- нарушения в стиле заголовков,\n",
    "- пропущенные значения,\n",
    "- дубликаты — явные и неявные.\n",
    "\n",
    "Вы исправили заголовки, чтобы упростить работу с таблицей. Без дубликатов исследование станет более точным.\n",
    "\n",
    "Пропущенные значения вы заменили на `'unknown'`. Ещё предстоит увидеть, не повредят ли исследованию пропуски в колонке `genre`.\n",
    "\n",
    "Теперь можно перейти к проверке гипотез. "
   ]
  },
  {
   "cell_type": "markdown",
   "metadata": {
    "id": "WttZHXH0SqKk"
   },
   "source": [
    "## Проверка гипотез"
   ]
  },
  {
   "cell_type": "markdown",
   "metadata": {
    "id": "Im936VVi_Zcu"
   },
   "source": [
    "### Сравнение поведения пользователей двух столиц"
   ]
  },
  {
   "cell_type": "markdown",
   "metadata": {
    "id": "nwt_MuaL_Zcu"
   },
   "source": [
    "Первая гипотеза утверждает, что пользователи по-разному слушают музыку в Москве и Санкт-Петербурге. Проверьте это предположение по данным о трёх днях недели — понедельнике, среде и пятнице. Для этого:\n",
    "\n",
    "* Разделите пользователей Москвы и Санкт-Петербурга\n",
    "* Сравните, сколько треков послушала каждая группа пользователей в понедельник, среду и пятницу.\n"
   ]
  },
  {
   "cell_type": "markdown",
   "metadata": {
    "id": "8Dw_YMmT_Zcu"
   },
   "source": [
    "Для тренировки сначала выполните каждый из расчётов по отдельности. \n",
    "\n",
    "Оцените активность пользователей в каждом городе. Сгруппируйте данные по городу и посчитайте прослушивания в каждой группе.\n",
    "\n"
   ]
  },
  {
   "cell_type": "code",
   "execution_count": 18,
   "metadata": {
    "id": "0_Qs96oh_Zcu",
    "scrolled": false
   },
   "outputs": [
    {
     "data": {
      "text/plain": [
       "city\n",
       "Moscow              42741\n",
       "Saint-Petersburg    18512\n",
       "Name: city, dtype: int64"
      ]
     },
     "metadata": {},
     "output_type": "display_data"
    }
   ],
   "source": [
    "# Подсчёт прослушиваний в каждом город\n",
    "city_count =df.groupby('city')['city'].count()\n",
    "display(city_count) "
   ]
  },
  {
   "cell_type": "markdown",
   "metadata": {
    "id": "dzli3w8o_Zcu"
   },
   "source": [
    "В Москве прослушиваний больше, чем в Петербурге. Из этого не следует, что московские пользователи чаще слушают музыку. Просто самих пользователей в Москве больше.\n",
    "\n",
    "Теперь сгруппируйте данные по дню недели и подсчитайте прослушивания в понедельник, среду и пятницу. Учтите, что в данных есть информация только о прослушиваниях только за эти дни.\n"
   ]
  },
  {
   "cell_type": "code",
   "execution_count": 19,
   "metadata": {
    "id": "uZMKjiJz_Zcu"
   },
   "outputs": [
    {
     "data": {
      "text/plain": [
       "day\n",
       "Friday       21840\n",
       "Monday       21354\n",
       "Wednesday    18059\n",
       "Name: day, dtype: int64"
      ]
     },
     "metadata": {},
     "output_type": "display_data"
    }
   ],
   "source": [
    "# Подсчёт прослушиваний в каждый из трёх дней\n",
    "day_count =df.groupby('day')['day'].count()\n",
    "display(day_count)"
   ]
  },
  {
   "cell_type": "markdown",
   "metadata": {
    "id": "cC2tNrlL_Zcu"
   },
   "source": [
    "В среднем пользователи из двух городов менее активны по средам. Но картина может измениться, если рассмотреть каждый город в отдельности."
   ]
  },
  {
   "cell_type": "markdown",
   "metadata": {
    "id": "POzs8bGa_Zcu"
   },
   "source": [
    "Вы видели, как работает группировка по городу и по дням недели. Теперь напишите функцию, которая объединит два эти расчёта.\n",
    "\n",
    "Создайте функцию `number_tracks()`, которая посчитает прослушивания для заданного дня и города. Ей понадобятся два параметра:\n",
    "* день недели,\n",
    "* название города.\n",
    "\n",
    "В функции сохраните в переменную строки исходной таблицы, у которых значение:\n",
    "  * в колонке `day` равно параметру `day`,\n",
    "  * в колонке `city` равно параметру `city`.\n",
    "\n",
    "Для этого примените последовательную фильтрацию с логической индексацией.\n",
    "\n",
    "Затем посчитайте значения в столбце `user_id` получившейся таблицы. Результат сохраните в новую переменную. Верните эту переменную из функции."
   ]
  },
  {
   "cell_type": "code",
   "execution_count": 20,
   "metadata": {
    "id": "Nz3GdQB1_Zcu"
   },
   "outputs": [],
   "source": [
    "def number_tracks(day, city):\n",
    "    track_list= df[df['day'] == day] \n",
    "    track_list= track_list[track_list['city'] == city]\n",
    "    \n",
    "    # в столбце 'city' равно параметру city (используйте последовательную фильтраци\n",
    "    track_list_count=track_list['user_id'].count()\n",
    "    return track_list_count\n",
    "  \n",
    "   \n",
    "\n",
    " #сохраняется число значений столбца 'user_id',\n",
    "# рассчитанное методом count() для таблицы track_list.\n",
    "# Функция возвращает число - значение track_list_count.\n",
    "\n",
    "# Функция для подсчёта прослушиваний для конкретного города и дня.\n",
    "# С помощью последовательной фильтрации с логической индексацией она \n",
    "# сначала получит из исходной таблицы строки с нужным днём,\n",
    "# затем из результата отфильтрует строки с нужным городом,\n",
    "# методом count() посчитает количество значений в колонке user_id. \n",
    "# Это количество функция вернёт в качестве результата"
   ]
  },
  {
   "cell_type": "markdown",
   "metadata": {
    "id": "ytf7xFrFJQ2r"
   },
   "source": [
    "Вызовите `number_tracks()` шесть раз, меняя значение параметров — так, чтобы получить данные для каждого города в каждый из трёх дней."
   ]
  },
  {
   "cell_type": "code",
   "execution_count": 21,
   "metadata": {
    "id": "rJcRATNQ_Zcu"
   },
   "outputs": [
    {
     "data": {
      "text/plain": [
       "15740"
      ]
     },
     "execution_count": 21,
     "metadata": {},
     "output_type": "execute_result"
    }
   ],
   "source": [
    "# колво прослушиваний в Москве по понедельникам\n",
    "number_tracks('Monday','Moscow',)\n",
    "   "
   ]
  },
  {
   "cell_type": "code",
   "execution_count": 22,
   "metadata": {
    "scrolled": true
   },
   "outputs": [
    {
     "data": {
      "text/plain": [
       "5614"
      ]
     },
     "execution_count": 22,
     "metadata": {},
     "output_type": "execute_result"
    }
   ],
   "source": [
    "    # количество прослушиваний в Санкт-Петербурге по понедельникам\n",
    "number_tracks('Monday','Saint-Petersburg')\n",
    "   \n"
   ]
  },
  {
   "cell_type": "code",
   "execution_count": 23,
   "metadata": {
    "id": "_NTy2VPU_Zcu",
    "scrolled": true
   },
   "outputs": [
    {
     "data": {
      "text/plain": [
       "11056"
      ]
     },
     "execution_count": 23,
     "metadata": {},
     "output_type": "execute_result"
    }
   ],
   "source": [
    "number_tracks('Wednesday','Moscow')\n",
    " \n",
    "      # количество прослушиваний в Москве по средам"
   ]
  },
  {
   "cell_type": "code",
   "execution_count": 24,
   "metadata": {
    "id": "j2y3TAwo_Zcu"
   },
   "outputs": [
    {
     "data": {
      "text/plain": [
       "7003"
      ]
     },
     "execution_count": 24,
     "metadata": {},
     "output_type": "execute_result"
    }
   ],
   "source": [
    "number_tracks('Wednesday','Saint-Petersburg')\n",
    "\n",
    "# количество прослушиваний в Санкт-Петербурге по средам"
   ]
  },
  {
   "cell_type": "code",
   "execution_count": 25,
   "metadata": {
    "id": "vYDw5u_K_Zcu"
   },
   "outputs": [
    {
     "data": {
      "text/plain": [
       "15945"
      ]
     },
     "execution_count": 25,
     "metadata": {},
     "output_type": "execute_result"
    }
   ],
   "source": [
    "number_tracks('Friday','Moscow')\n",
    "        \n",
    "        \n",
    "        \n",
    "      # количество прослушиваний в Москве по пятницам"
   ]
  },
  {
   "cell_type": "code",
   "execution_count": 26,
   "metadata": {
    "id": "8_yzFtW3_Zcu"
   },
   "outputs": [
    {
     "data": {
      "text/plain": [
       "5895"
      ]
     },
     "execution_count": 26,
     "metadata": {},
     "output_type": "execute_result"
    }
   ],
   "source": [
    "number_tracks('Friday','Saint-Petersburg')\n",
    "        #прослушиваний в Санкт-Петербурге по пятницам"
   ]
  },
  {
   "cell_type": "markdown",
   "metadata": {
    "id": "7QXffbO-_Zcu"
   },
   "source": [
    "Создайте c помощью конструктора `pd.DataFrame` таблицу, где\n",
    "* названия колонок — `['city', 'monday', 'wednesday', 'friday']`;\n",
    "* данные — результаты, которые вы получили с помощью `number_tracks`."
   ]
  },
  {
   "cell_type": "code",
   "execution_count": 29,
   "metadata": {},
   "outputs": [
    {
     "data": {
      "text/html": [
       "<div>\n",
       "<style scoped>\n",
       "    .dataframe tbody tr th:only-of-type {\n",
       "        vertical-align: middle;\n",
       "    }\n",
       "\n",
       "    .dataframe tbody tr th {\n",
       "        vertical-align: top;\n",
       "    }\n",
       "\n",
       "    .dataframe thead th {\n",
       "        text-align: right;\n",
       "    }\n",
       "</style>\n",
       "<table border=\"1\" class=\"dataframe\">\n",
       "  <thead>\n",
       "    <tr style=\"text-align: right;\">\n",
       "      <th></th>\n",
       "      <th>city</th>\n",
       "      <th>monday</th>\n",
       "      <th>wednesday</th>\n",
       "      <th>friday</th>\n",
       "    </tr>\n",
       "  </thead>\n",
       "  <tbody>\n",
       "    <tr>\n",
       "      <th>0</th>\n",
       "      <td>Moscow</td>\n",
       "      <td>15740</td>\n",
       "      <td>11056</td>\n",
       "      <td>15945</td>\n",
       "    </tr>\n",
       "    <tr>\n",
       "      <th>1</th>\n",
       "      <td>Saint-Petersburg</td>\n",
       "      <td>5614</td>\n",
       "      <td>7003</td>\n",
       "      <td>5895</td>\n",
       "    </tr>\n",
       "  </tbody>\n",
       "</table>\n",
       "</div>"
      ],
      "text/plain": [
       "               city  monday  wednesday  friday\n",
       "0            Moscow   15740      11056   15945\n",
       "1  Saint-Petersburg    5614       7003    5895"
      ]
     },
     "metadata": {},
     "output_type": "display_data"
    }
   ],
   "source": [
    "table=pd.DataFrame(data=[('Moscow', 15740, 11056, 15945),\n",
    "                         ('Saint-Petersburg', 5614, 7003, 5895)], \n",
    "                   columns=['city', 'monday', 'wednesday', 'friday'])\n",
    "\n",
    "display(table)"
   ]
  },
  {
   "cell_type": "markdown",
   "metadata": {
    "id": "-EgPIHYu_Zcu"
   },
   "source": [
    "**Выводы**\n",
    "\n",
    "Данные показывают разницу поведения пользователей:\n",
    "\n",
    "- В Москве пик прослушиваний приходится на понедельник и пятницу, а в среду заметен спад.\n",
    "- В Петербурге, наоборот, больше слушают музыку по средам. Активность в понедельник и пятницу здесь почти в равной мере уступает среде.\n",
    "\n",
    "Значит, данные говорят в пользу первой гипотезы."
   ]
  },
  {
   "cell_type": "markdown",
   "metadata": {
    "id": "atZAxtq4_Zcu"
   },
   "source": [
    "### Музыка в начале и в конце недели"
   ]
  },
  {
   "cell_type": "markdown",
   "metadata": {
    "id": "eXrQqXFH_Zcu"
   },
   "source": [
    "Согласно второй гипотезе, утром в понедельник в Москве преобладают одни жанры, а в Петербурге — другие. Так же и вечером пятницы преобладают разные жанры — в зависимости от города."
   ]
  },
  {
   "cell_type": "markdown",
   "metadata": {
    "id": "S8UcW6Hw_Zcu"
   },
   "source": [
    "Сохраните таблицы с данными в две переменные:\n",
    "* по Москве — в `moscow_general`;\n",
    "* по Санкт-Петербургу — в `spb_general`."
   ]
  },
  {
   "cell_type": "code",
   "execution_count": null,
   "metadata": {
    "id": "qeaFfM_P_Zcu"
   },
   "outputs": [],
   "source": [
    "moscow_general=df[df['city']=='Moscow']# получение таблицы moscow_general из тех строк таблицы df, \n",
    "# для которых значение в столбце 'city' равно 'Moscow'\n"
   ]
  },
  {
   "cell_type": "code",
   "execution_count": null,
   "metadata": {
    "id": "ORaVRKto_Zcu"
   },
   "outputs": [],
   "source": [
    "spb_general=df[df['city']=='Saint-Petersburg']# получение таблицы spb_general из тех строк таблицы df,\n",
    "# для которых значение в столбце 'city' равно 'Saint-Petersburg'\n"
   ]
  },
  {
   "cell_type": "markdown",
   "metadata": {
    "id": "MEJV-CX2_Zcu"
   },
   "source": [
    "Создайте функцию `genre_weekday()` с четырьмя параметрами:\n",
    "* таблица (датафрейм) с данными,\n",
    "* день недели,\n",
    "* начальная временная метка в формате 'hh:mm', \n",
    "* последняя временная метка в формате 'hh:mm'.\n",
    "\n",
    "Функция должна вернуть информацию о топ-10 жанров тех треков, которые прослушивали в указанный день, в промежутке между двумя отметками времени."
   ]
  },
  {
   "cell_type": "code",
   "execution_count": null,
   "metadata": {
    "id": "laJT9BYl_Zcu"
   },
   "outputs": [],
   "source": [
    "# Объявление функции genre_weekday() с параметрами table, day, time1, time2,\n",
    "#  значение в столбце day равно значению аргумента day\n",
    "def genre_weekday(table, day, time1, time2):\n",
    "\n",
    "    genre_df = table[df['day'] == day]\n",
    "\n",
    "    genre_df = genre_df[genre_df['time'] > time1] #    - значение в столбце time больше значения аргумента time1\n",
    "    genre_df = genre_df[genre_df['time'] < time2]#    - значение в столбце time меньше значения аргумента time2\n",
    "#    Используйте последовательную фильтрацию с помощью логической индексации.\n",
    "# 2) сгруппировать датафрейм genre_df по столбцу genre, взять один из его\n",
    "#    столбцов и посчитать методом count() количество записей для каждого из\n",
    "#    присутствующих жанров, получившийся Series записать в переменную\n",
    "\n",
    "    genre_df_count = genre_df.groupby('genre')['genre'].count()\n",
    "#    genre_df_count\n",
    "# 3) отсортировать genre_df_count по убыванию встречаемости и сохранить\n",
    "\n",
    "    genre_df_sorted = genre_df_count.sort_values(ascending=False)\n",
    "\n",
    "    return genre_df_sorted.head(10)\n",
    "#    в переменную genre_df_sorted\n",
    "# 4) вернуть Series из 10 первых значений genre_df_sorted, это будут топ-10\n",
    "#    популярных жанров (в указанный день, в заданное время)"
   ]
  },
  {
   "cell_type": "markdown",
   "metadata": {
    "id": "la2s2_PF_Zcu"
   },
   "source": [
    "Cравните результаты функции `genre_weekday()` для Москвы и Санкт-Петербурга в понедельник утром (с 7:00 до 11:00) и в пятницу вечером (с 17:00 до 23:00):"
   ]
  },
  {
   "cell_type": "code",
   "execution_count": null,
   "metadata": {
    "id": "yz7itPUQ_Zcu"
   },
   "outputs": [],
   "source": [
    "# вызов функции для утра понедельника в Москве (вместо df — таблица moscow_general)\n",
    "# объекты, хранящие время, являются строками и сравниваются как строки\n",
    "genre_weekday(moscow_general, 'Monday', '07:00', '11:00')"
   ]
  },
  {
   "cell_type": "code",
   "execution_count": null,
   "metadata": {
    "id": "kwUcHPdy_Zcu",
    "scrolled": true
   },
   "outputs": [],
   "source": [
    "genre_weekday(spb_general, 'Monday', '07:00', '11:00')# вызов функции для утра понедельника в Петербурге (вместо df — таблица spb_general)"
   ]
  },
  {
   "cell_type": "code",
   "execution_count": null,
   "metadata": {
    "id": "EzXVRE1o_Zcu"
   },
   "outputs": [],
   "source": [
    "genre_weekday(moscow_general, 'Friday', '17:00', '23:00')# вызов функции для вечера пятницы в Москве"
   ]
  },
  {
   "cell_type": "code",
   "execution_count": null,
   "metadata": {
    "id": "JZaEKu5v_Zcu"
   },
   "outputs": [],
   "source": [
    "genre_weekday(spb_general, 'Friday', '17:00', '23:00')# вызов функции для вечера пятницы в Петербурге"
   ]
  },
  {
   "cell_type": "markdown",
   "metadata": {
    "id": "wrCe4MNX_Zcu"
   },
   "source": [
    "**Выводы**\n",
    "\n",
    "Если сравнить топ-10 жанров в понедельник утром, можно сделать такие выводы:\n",
    "\n",
    "1. В Москве и Петербурге слушают похожую музыку. Единственное отличие — в московский рейтинг вошёл жанр “world”, а в петербургский — джаз и классика.\n",
    "\n",
    "2. В Москве пропущенных значений оказалось так много, что значение `'unknown'` заняло десятое место среди самых популярных жанров. Значит, пропущенные значения занимают существенную долю в данных и угрожают достоверности исследования.\n",
    "\n",
    "Вечер пятницы не меняет эту картину. Некоторые жанры поднимаются немного выше, другие спускаются, но в целом топ-10 остаётся тем же самым.\n",
    "\n",
    "Таким образом, вторая гипотеза подтвердилась лишь частично:\n",
    "* Пользователи слушают похожую музыку в начале недели и в конце.\n",
    "* Разница между Москвой и Петербургом не слишком выражена. В Москве чаще слушают русскую популярную музыку, в Петербурге — джаз.\n",
    "\n",
    "Однако пропуски в данных ставят под сомнение этот результат. В Москве их так много, что рейтинг топ-10 мог бы выглядеть иначе, если бы не утерянные  данные о жанрах."
   ]
  },
  {
   "cell_type": "markdown",
   "metadata": {
    "id": "JolODAqr_Zcu"
   },
   "source": [
    "### Жанровые предпочтения в Москве и Петербурге\n",
    "\n",
    "Гипотеза: Петербург — столица рэпа, музыку этого жанра там слушают чаще, чем в Москве.  А Москва — город контрастов, в котором, тем не менее, преобладает поп-музыка."
   ]
  },
  {
   "cell_type": "markdown",
   "metadata": {
    "id": "DlegSvaT_Zcu"
   },
   "source": [
    "Сгруппируйте таблицу `moscow_general` по жанру и посчитайте прослушивания треков каждого жанра методом `count()`. Затем отсортируйте результат в порядке убывания и сохраните его в таблице `moscow_genres`."
   ]
  },
  {
   "cell_type": "code",
   "execution_count": null,
   "metadata": {
    "id": "r19lIPke_Zcu",
    "scrolled": true
   },
   "outputs": [],
   "source": [
    "moscow_general= moscow_general.groupby('genre')['genre'].count()\n",
    "# одной строкой: группировка таблицы moscow_general по столбцу 'genre', \n",
    "# подсчёт числа значений 'genre' в этой группировке методом count(), \n",
    "moscow_genres=moscow_general.sort_values(ascending=False)\n",
    "# сортировка получившегося Series в порядке убывания и сохранение в moscow_genres"
   ]
  },
  {
   "cell_type": "markdown",
   "metadata": {
    "id": "6kMuomxTiIr8"
   },
   "source": [
    "Выведите на экран первые десять строк `moscow_genres`:"
   ]
  },
  {
   "cell_type": "code",
   "execution_count": null,
   "metadata": {
    "id": "WhCSooF8_Zcv"
   },
   "outputs": [],
   "source": [
    "display(moscow_genres.head(10))\n",
    "# просмотр первых 10 строк moscow_genres"
   ]
  },
  {
   "cell_type": "markdown",
   "metadata": {
    "id": "cnPG2vnN_Zcv"
   },
   "source": [
    "Теперь повторите то же и для Петербурга.\n",
    "\n",
    "Сгруппируйте таблицу `spb_general` по жанру. Посчитайте прослушивания треков каждого жанра. Результат отсортируйте в порядке убывания и сохраните в таблице `spb_genres`:\n"
   ]
  },
  {
   "cell_type": "code",
   "execution_count": null,
   "metadata": {
    "id": "gluLIpE7_Zcv",
    "scrolled": true
   },
   "outputs": [],
   "source": [
    "spb_general=spb_general.groupby('genre')['genre'].count()# одной строкой: группировка таблицы spb_general по столбцу 'genre', \n",
    "# подсчёт числа значений 'genre' в этой группировке методом count(), \n",
    "spb_genres=spb_general.sort_values(ascending=False)# сортировка получившегося Series в порядке убывания и сохранение в spb_genres"
   ]
  },
  {
   "cell_type": "markdown",
   "metadata": {
    "id": "5Doha_ODgyQ8"
   },
   "source": [
    "Выведите на экран первые десять строк `spb_genres`:"
   ]
  },
  {
   "cell_type": "code",
   "execution_count": null,
   "metadata": {
    "id": "uaGJHjVU_Zcv"
   },
   "outputs": [],
   "source": [
    "display(spb_genres.head(10))# просмотр первых 10 строк spb_genres"
   ]
  },
  {
   "cell_type": "markdown",
   "metadata": {
    "id": "RY51YJYu_Zcv"
   },
   "source": [
    "**Выводы**"
   ]
  },
  {
   "cell_type": "markdown",
   "metadata": {
    "id": "nVhnJEm__Zcv"
   },
   "source": [
    "Гипотеза частично подтвердилась:\n",
    "* Поп-музыка — самый популярный жанр в Москве, как и предполагала гипотеза. Более того, в топ-10 жанров встречается близкий жанр — русская популярная музыка.\n",
    "* Вопреки ожиданиям, рэп одинаково популярен в Москве и Петербурге. \n"
   ]
  },
  {
   "cell_type": "markdown",
   "metadata": {
    "id": "ykKQ0N65_Zcv"
   },
   "source": [
    "## Итоги исследования"
   ]
  },
  {
   "cell_type": "markdown",
   "metadata": {
    "id": "tjUwbHb3_Zcv"
   },
   "source": [
    "Вы проверили три гипотезы и установили:\n",
    "\n",
    "1. День недели по-разному влияет на активность пользователей в Москве и Петербурге. \n",
    "\n",
    "Первая гипотеза полностью подтвердилась.\n",
    "\n",
    "2. Музыкальные предпочтения не сильно меняются в течение недели — будь то Москва или Петербург. Небольшие различия заметны в начале недели, по понедельникам:\n",
    "* в Москве слушают музыку жанра “world”,\n",
    "* в Петербурге — джаз и классику.\n",
    "\n",
    "Таким образом, вторая гипотеза подтвердилась лишь отчасти. Этот результат мог оказаться иным, если бы не пропуски в данных.\n",
    "\n",
    "3. Во вкусах пользователей Москвы и Петербурга больше общего чем различий. Вопреки ожиданиям, предпочтения жанров в Петербурге напоминают московские.\n",
    "\n",
    "Третья гипотеза не подтвердилась. Если различия в предпочтениях и существуют, на основной массе пользователей они незаметны.\n",
    "\n"
   ]
  },
  {
   "cell_type": "code",
   "execution_count": null,
   "metadata": {},
   "outputs": [],
   "source": []
  }
 ],
 "metadata": {
  "ExecuteTimeLog": [
   {
    "duration": 804,
    "start_time": "2022-03-12T12:40:25.208Z"
   },
   {
    "duration": 495,
    "start_time": "2022-03-12T12:40:54.677Z"
   },
   {
    "duration": 2063,
    "start_time": "2022-03-12T12:41:27.777Z"
   },
   {
    "duration": 305,
    "start_time": "2022-03-12T12:41:47.481Z"
   },
   {
    "duration": 576,
    "start_time": "2022-03-12T12:42:11.885Z"
   },
   {
    "duration": 2,
    "start_time": "2022-03-12T12:42:23.283Z"
   },
   {
    "duration": 118,
    "start_time": "2022-03-12T12:43:41.632Z"
   },
   {
    "duration": 120,
    "start_time": "2022-03-12T12:43:49.444Z"
   },
   {
    "duration": 124,
    "start_time": "2022-03-12T12:43:58.574Z"
   },
   {
    "duration": 15,
    "start_time": "2022-03-12T12:44:06.647Z"
   },
   {
    "duration": 24,
    "start_time": "2022-03-12T12:44:19.201Z"
   },
   {
    "duration": 4,
    "start_time": "2022-03-12T12:44:33.664Z"
   },
   {
    "duration": 20,
    "start_time": "2022-03-12T12:44:46.304Z"
   },
   {
    "duration": 11,
    "start_time": "2022-03-12T12:45:05.819Z"
   },
   {
    "duration": 4,
    "start_time": "2022-03-12T12:45:07.858Z"
   },
   {
    "duration": 20,
    "start_time": "2022-03-12T13:07:29.815Z"
   },
   {
    "duration": 15,
    "start_time": "2022-03-12T13:59:25.153Z"
   },
   {
    "duration": 16,
    "start_time": "2022-03-12T13:59:31.569Z"
   },
   {
    "duration": 15,
    "start_time": "2022-03-12T13:59:41.650Z"
   },
   {
    "duration": 339,
    "start_time": "2022-03-12T14:08:40.504Z"
   },
   {
    "duration": 318,
    "start_time": "2022-03-12T14:09:18.179Z"
   },
   {
    "duration": 15,
    "start_time": "2022-03-12T14:16:41.772Z"
   },
   {
    "duration": 15,
    "start_time": "2022-03-12T14:16:46.541Z"
   },
   {
    "duration": 17,
    "start_time": "2022-03-12T14:16:58.821Z"
   },
   {
    "duration": 21,
    "start_time": "2022-03-12T14:18:23.634Z"
   },
   {
    "duration": 19,
    "start_time": "2022-03-12T14:24:51.426Z"
   },
   {
    "duration": 321,
    "start_time": "2022-03-12T14:25:00.111Z"
   },
   {
    "duration": 302,
    "start_time": "2022-03-12T14:26:03.252Z"
   },
   {
    "duration": 338,
    "start_time": "2022-03-12T14:27:03.676Z"
   },
   {
    "duration": 304,
    "start_time": "2022-03-12T14:27:54.186Z"
   },
   {
    "duration": 314,
    "start_time": "2022-03-12T14:28:17.194Z"
   },
   {
    "duration": 355,
    "start_time": "2022-03-12T14:29:10.794Z"
   },
   {
    "duration": 313,
    "start_time": "2022-03-12T14:29:35.874Z"
   },
   {
    "duration": 3,
    "start_time": "2022-03-12T14:29:38.711Z"
   },
   {
    "duration": 289,
    "start_time": "2022-03-12T14:31:26.318Z"
   },
   {
    "duration": 311,
    "start_time": "2022-03-12T14:33:36.834Z"
   },
   {
    "duration": 324,
    "start_time": "2022-03-12T14:33:53.321Z"
   },
   {
    "duration": 303,
    "start_time": "2022-03-12T14:37:25.717Z"
   },
   {
    "duration": 284,
    "start_time": "2022-03-12T14:38:04.335Z"
   },
   {
    "duration": 346,
    "start_time": "2022-03-12T14:38:48.510Z"
   },
   {
    "duration": 310,
    "start_time": "2022-03-12T14:39:27.641Z"
   },
   {
    "duration": 652,
    "start_time": "2022-03-12T14:40:00.229Z"
   },
   {
    "duration": 292,
    "start_time": "2022-03-12T14:44:06.469Z"
   },
   {
    "duration": 397,
    "start_time": "2022-03-12T14:49:05.574Z"
   },
   {
    "duration": 327,
    "start_time": "2022-03-12T15:00:24.076Z"
   },
   {
    "duration": 314,
    "start_time": "2022-03-12T15:06:54.175Z"
   },
   {
    "duration": 344,
    "start_time": "2022-03-12T15:07:14.953Z"
   },
   {
    "duration": 306,
    "start_time": "2022-03-12T15:07:41.332Z"
   },
   {
    "duration": 327,
    "start_time": "2022-03-12T15:08:06.641Z"
   },
   {
    "duration": 424,
    "start_time": "2022-03-12T15:08:36.634Z"
   },
   {
    "duration": 563,
    "start_time": "2022-03-12T15:10:11.233Z"
   },
   {
    "duration": 95,
    "start_time": "2022-03-12T15:10:36.013Z"
   },
   {
    "duration": 309,
    "start_time": "2022-03-12T15:10:52.811Z"
   },
   {
    "duration": 295,
    "start_time": "2022-03-12T15:15:37.738Z"
   },
   {
    "duration": 359,
    "start_time": "2022-03-12T15:20:32.967Z"
   },
   {
    "duration": 352,
    "start_time": "2022-03-12T15:20:55.210Z"
   },
   {
    "duration": 301,
    "start_time": "2022-03-12T15:21:38.460Z"
   },
   {
    "duration": 316,
    "start_time": "2022-03-12T15:22:11.686Z"
   },
   {
    "duration": 297,
    "start_time": "2022-03-12T15:22:22.959Z"
   },
   {
    "duration": 319,
    "start_time": "2022-03-12T15:34:29.320Z"
   },
   {
    "duration": 302,
    "start_time": "2022-03-12T15:34:41.781Z"
   },
   {
    "duration": 323,
    "start_time": "2022-03-12T15:36:25.135Z"
   },
   {
    "duration": 288,
    "start_time": "2022-03-12T15:37:11.054Z"
   },
   {
    "duration": 324,
    "start_time": "2022-03-12T15:38:10.271Z"
   },
   {
    "duration": 331,
    "start_time": "2022-03-12T15:38:36.422Z"
   },
   {
    "duration": 733,
    "start_time": "2022-03-12T15:41:17.954Z"
   },
   {
    "duration": 324,
    "start_time": "2022-03-12T15:47:28.148Z"
   },
   {
    "duration": 315,
    "start_time": "2022-03-12T15:47:57.588Z"
   },
   {
    "duration": 296,
    "start_time": "2022-03-12T15:50:52.196Z"
   },
   {
    "duration": 304,
    "start_time": "2022-03-12T15:55:28.515Z"
   },
   {
    "duration": 358,
    "start_time": "2022-03-13T16:14:19.090Z"
   },
   {
    "duration": 231,
    "start_time": "2022-03-13T16:14:31.201Z"
   },
   {
    "duration": 242,
    "start_time": "2022-03-13T16:28:11.534Z"
   },
   {
    "duration": 243,
    "start_time": "2022-03-13T16:28:49.403Z"
   },
   {
    "duration": 296,
    "start_time": "2022-03-13T16:29:06.711Z"
   },
   {
    "duration": 234,
    "start_time": "2022-03-13T16:29:13.346Z"
   },
   {
    "duration": 220,
    "start_time": "2022-03-13T16:29:46.004Z"
   },
   {
    "duration": 240,
    "start_time": "2022-03-13T16:31:18.121Z"
   },
   {
    "duration": 223,
    "start_time": "2022-03-13T16:42:47.297Z"
   },
   {
    "duration": 403,
    "start_time": "2022-03-13T16:55:10.480Z"
   },
   {
    "duration": 585,
    "start_time": "2022-03-13T16:55:47.909Z"
   },
   {
    "duration": 549,
    "start_time": "2022-03-13T16:55:55.519Z"
   },
   {
    "duration": 301,
    "start_time": "2022-03-13T17:01:25.641Z"
   },
   {
    "duration": 3,
    "start_time": "2022-03-13T17:01:28.020Z"
   },
   {
    "duration": 242,
    "start_time": "2022-03-13T17:17:51.385Z"
   },
   {
    "duration": 230,
    "start_time": "2022-03-13T17:17:55.205Z"
   },
   {
    "duration": 267,
    "start_time": "2022-03-13T17:18:05.398Z"
   },
   {
    "duration": 742,
    "start_time": "2022-03-13T17:18:10.091Z"
   },
   {
    "duration": 4,
    "start_time": "2022-03-13T17:18:15.889Z"
   },
   {
    "duration": 196,
    "start_time": "2022-03-13T17:18:20.346Z"
   },
   {
    "duration": 28,
    "start_time": "2022-03-13T17:18:29.960Z"
   },
   {
    "duration": 37,
    "start_time": "2022-03-13T17:18:35.744Z"
   },
   {
    "duration": 93,
    "start_time": "2022-03-13T17:18:51.904Z"
   },
   {
    "duration": 328,
    "start_time": "2022-03-13T17:18:58.300Z"
   },
   {
    "duration": 265,
    "start_time": "2022-03-13T17:19:01.250Z"
   },
   {
    "duration": 267,
    "start_time": "2022-03-13T17:19:06.624Z"
   },
   {
    "duration": 239,
    "start_time": "2022-03-13T17:19:14.721Z"
   },
   {
    "duration": 261,
    "start_time": "2022-03-13T17:19:39.881Z"
   },
   {
    "duration": 262,
    "start_time": "2022-03-13T17:19:48.051Z"
   },
   {
    "duration": 287,
    "start_time": "2022-03-14T12:55:50.208Z"
   },
   {
    "duration": 233,
    "start_time": "2022-03-14T12:55:58.612Z"
   },
   {
    "duration": 276,
    "start_time": "2022-03-14T12:57:58.295Z"
   },
   {
    "duration": 287,
    "start_time": "2022-03-14T14:23:40.053Z"
   },
   {
    "duration": 224,
    "start_time": "2022-03-14T14:24:10.346Z"
   },
   {
    "duration": 235,
    "start_time": "2022-03-14T14:24:28.983Z"
   },
   {
    "duration": 642,
    "start_time": "2022-03-14T14:33:50.061Z"
   },
   {
    "duration": 140,
    "start_time": "2022-03-14T14:33:50.705Z"
   },
   {
    "duration": 16,
    "start_time": "2022-03-14T14:33:50.847Z"
   },
   {
    "duration": 30,
    "start_time": "2022-03-14T14:33:50.866Z"
   },
   {
    "duration": 8,
    "start_time": "2022-03-14T14:33:50.897Z"
   },
   {
    "duration": 31,
    "start_time": "2022-03-14T14:33:50.907Z"
   },
   {
    "duration": 4,
    "start_time": "2022-03-14T14:33:50.940Z"
   },
   {
    "duration": 33,
    "start_time": "2022-03-14T14:33:50.946Z"
   },
   {
    "duration": 23,
    "start_time": "2022-03-14T14:33:50.981Z"
   },
   {
    "duration": 24,
    "start_time": "2022-03-14T14:33:51.006Z"
   },
   {
    "duration": 78,
    "start_time": "2022-03-14T14:33:51.032Z"
   },
   {
    "duration": 78,
    "start_time": "2022-03-14T14:33:51.112Z"
   },
   {
    "duration": 288,
    "start_time": "2022-03-14T14:33:51.191Z"
   },
   {
    "duration": -2794,
    "start_time": "2022-03-14T14:33:54.275Z"
   },
   {
    "duration": -2804,
    "start_time": "2022-03-14T14:33:54.286Z"
   },
   {
    "duration": -2815,
    "start_time": "2022-03-14T14:33:54.298Z"
   },
   {
    "duration": -3037,
    "start_time": "2022-03-14T14:33:54.521Z"
   },
   {
    "duration": -3046,
    "start_time": "2022-03-14T14:33:54.531Z"
   },
   {
    "duration": -3058,
    "start_time": "2022-03-14T14:33:54.544Z"
   },
   {
    "duration": -3067,
    "start_time": "2022-03-14T14:33:54.554Z"
   },
   {
    "duration": -3076,
    "start_time": "2022-03-14T14:33:54.564Z"
   },
   {
    "duration": -3083,
    "start_time": "2022-03-14T14:33:54.573Z"
   },
   {
    "duration": -3092,
    "start_time": "2022-03-14T14:33:54.583Z"
   },
   {
    "duration": -3101,
    "start_time": "2022-03-14T14:33:54.593Z"
   },
   {
    "duration": -3110,
    "start_time": "2022-03-14T14:33:54.603Z"
   },
   {
    "duration": -3118,
    "start_time": "2022-03-14T14:33:54.612Z"
   },
   {
    "duration": -3146,
    "start_time": "2022-03-14T14:33:54.640Z"
   },
   {
    "duration": -3156,
    "start_time": "2022-03-14T14:33:54.651Z"
   },
   {
    "duration": -3165,
    "start_time": "2022-03-14T14:33:54.661Z"
   },
   {
    "duration": -3174,
    "start_time": "2022-03-14T14:33:54.671Z"
   },
   {
    "duration": -3184,
    "start_time": "2022-03-14T14:33:54.681Z"
   },
   {
    "duration": -3192,
    "start_time": "2022-03-14T14:33:54.690Z"
   },
   {
    "duration": -3202,
    "start_time": "2022-03-14T14:33:54.701Z"
   },
   {
    "duration": -3212,
    "start_time": "2022-03-14T14:33:54.711Z"
   },
   {
    "duration": -3222,
    "start_time": "2022-03-14T14:33:54.722Z"
   },
   {
    "duration": -3232,
    "start_time": "2022-03-14T14:33:54.733Z"
   },
   {
    "duration": -3262,
    "start_time": "2022-03-14T14:33:54.764Z"
   },
   {
    "duration": -3273,
    "start_time": "2022-03-14T14:33:54.776Z"
   },
   {
    "duration": 49,
    "start_time": "2022-03-14T14:34:20.913Z"
   },
   {
    "duration": 54,
    "start_time": "2022-03-14T14:34:26.935Z"
   },
   {
    "duration": 233,
    "start_time": "2022-03-14T14:34:33.306Z"
   },
   {
    "duration": 7,
    "start_time": "2022-03-14T14:34:44.277Z"
   },
   {
    "duration": 3,
    "start_time": "2022-03-14T14:55:20.088Z"
   },
   {
    "duration": 3,
    "start_time": "2022-03-14T14:55:29.691Z"
   },
   {
    "duration": 220,
    "start_time": "2022-03-14T15:05:14.329Z"
   },
   {
    "duration": 10,
    "start_time": "2022-03-14T15:06:02.608Z"
   },
   {
    "duration": 10,
    "start_time": "2022-03-14T15:06:17.500Z"
   },
   {
    "duration": 240,
    "start_time": "2022-03-14T15:07:05.206Z"
   },
   {
    "duration": 238,
    "start_time": "2022-03-14T15:07:40.852Z"
   },
   {
    "duration": 216,
    "start_time": "2022-03-14T15:08:44.735Z"
   },
   {
    "duration": 10,
    "start_time": "2022-03-14T15:09:08.218Z"
   },
   {
    "duration": 19,
    "start_time": "2022-03-14T15:10:27.378Z"
   },
   {
    "duration": 20,
    "start_time": "2022-03-14T15:12:32.120Z"
   },
   {
    "duration": 6,
    "start_time": "2022-03-14T15:13:49.658Z"
   },
   {
    "duration": 638,
    "start_time": "2022-03-15T07:03:24.931Z"
   },
   {
    "duration": 150,
    "start_time": "2022-03-15T07:03:25.571Z"
   },
   {
    "duration": 18,
    "start_time": "2022-03-15T07:03:25.723Z"
   },
   {
    "duration": 26,
    "start_time": "2022-03-15T07:03:25.743Z"
   },
   {
    "duration": 7,
    "start_time": "2022-03-15T07:03:25.771Z"
   },
   {
    "duration": 43,
    "start_time": "2022-03-15T07:03:25.779Z"
   },
   {
    "duration": 7,
    "start_time": "2022-03-15T07:03:25.824Z"
   },
   {
    "duration": 26,
    "start_time": "2022-03-15T07:03:25.834Z"
   },
   {
    "duration": 23,
    "start_time": "2022-03-15T07:03:25.863Z"
   },
   {
    "duration": 24,
    "start_time": "2022-03-15T07:03:25.902Z"
   },
   {
    "duration": 78,
    "start_time": "2022-03-15T07:03:25.928Z"
   },
   {
    "duration": 77,
    "start_time": "2022-03-15T07:03:26.008Z"
   },
   {
    "duration": 301,
    "start_time": "2022-03-15T07:03:26.087Z"
   },
   {
    "duration": -2725,
    "start_time": "2022-03-15T07:03:29.115Z"
   },
   {
    "duration": -2739,
    "start_time": "2022-03-15T07:03:29.130Z"
   },
   {
    "duration": -2755,
    "start_time": "2022-03-15T07:03:29.147Z"
   },
   {
    "duration": -2768,
    "start_time": "2022-03-15T07:03:29.161Z"
   },
   {
    "duration": -2777,
    "start_time": "2022-03-15T07:03:29.171Z"
   },
   {
    "duration": -2788,
    "start_time": "2022-03-15T07:03:29.183Z"
   },
   {
    "duration": -2796,
    "start_time": "2022-03-15T07:03:29.192Z"
   },
   {
    "duration": -2834,
    "start_time": "2022-03-15T07:03:29.231Z"
   },
   {
    "duration": -2844,
    "start_time": "2022-03-15T07:03:29.242Z"
   },
   {
    "duration": -2854,
    "start_time": "2022-03-15T07:03:29.253Z"
   },
   {
    "duration": -2863,
    "start_time": "2022-03-15T07:03:29.263Z"
   },
   {
    "duration": -2872,
    "start_time": "2022-03-15T07:03:29.273Z"
   },
   {
    "duration": -2881,
    "start_time": "2022-03-15T07:03:29.283Z"
   },
   {
    "duration": -2890,
    "start_time": "2022-03-15T07:03:29.293Z"
   },
   {
    "duration": -2900,
    "start_time": "2022-03-15T07:03:29.303Z"
   },
   {
    "duration": -2909,
    "start_time": "2022-03-15T07:03:29.313Z"
   },
   {
    "duration": -2918,
    "start_time": "2022-03-15T07:03:29.323Z"
   },
   {
    "duration": -2942,
    "start_time": "2022-03-15T07:03:29.348Z"
   },
   {
    "duration": -2953,
    "start_time": "2022-03-15T07:03:29.360Z"
   },
   {
    "duration": -2963,
    "start_time": "2022-03-15T07:03:29.371Z"
   },
   {
    "duration": -2974,
    "start_time": "2022-03-15T07:03:29.383Z"
   },
   {
    "duration": -2984,
    "start_time": "2022-03-15T07:03:29.394Z"
   },
   {
    "duration": -2994,
    "start_time": "2022-03-15T07:03:29.404Z"
   },
   {
    "duration": -3005,
    "start_time": "2022-03-15T07:03:29.416Z"
   },
   {
    "duration": -3013,
    "start_time": "2022-03-15T07:03:29.426Z"
   },
   {
    "duration": 279,
    "start_time": "2022-03-15T07:05:46.643Z"
   },
   {
    "duration": 71,
    "start_time": "2022-03-15T07:06:06.786Z"
   },
   {
    "duration": 282,
    "start_time": "2022-03-15T07:07:11.756Z"
   },
   {
    "duration": 3,
    "start_time": "2022-03-15T07:09:32.962Z"
   },
   {
    "duration": 19,
    "start_time": "2022-03-15T07:09:38.862Z"
   },
   {
    "duration": 5,
    "start_time": "2022-03-15T07:09:47.232Z"
   },
   {
    "duration": 65,
    "start_time": "2022-03-15T07:10:08.201Z"
   },
   {
    "duration": 291,
    "start_time": "2022-03-15T07:10:15.136Z"
   },
   {
    "duration": 58,
    "start_time": "2022-03-15T07:10:46.308Z"
   },
   {
    "duration": 228,
    "start_time": "2022-03-15T07:44:41.153Z"
   },
   {
    "duration": 318,
    "start_time": "2022-03-15T07:47:48.306Z"
   },
   {
    "duration": 577,
    "start_time": "2022-03-15T07:49:26.550Z"
   },
   {
    "duration": 149,
    "start_time": "2022-03-15T07:49:27.129Z"
   },
   {
    "duration": 23,
    "start_time": "2022-03-15T07:49:27.280Z"
   },
   {
    "duration": 34,
    "start_time": "2022-03-15T07:49:27.304Z"
   },
   {
    "duration": 9,
    "start_time": "2022-03-15T07:49:27.340Z"
   },
   {
    "duration": 36,
    "start_time": "2022-03-15T07:49:27.350Z"
   },
   {
    "duration": 43,
    "start_time": "2022-03-15T07:49:27.388Z"
   },
   {
    "duration": 31,
    "start_time": "2022-03-15T07:49:27.434Z"
   },
   {
    "duration": 19,
    "start_time": "2022-03-15T07:49:27.467Z"
   },
   {
    "duration": 28,
    "start_time": "2022-03-15T07:49:27.488Z"
   },
   {
    "duration": 64,
    "start_time": "2022-03-15T07:49:27.517Z"
   },
   {
    "duration": 81,
    "start_time": "2022-03-15T07:49:27.583Z"
   },
   {
    "duration": 68,
    "start_time": "2022-03-15T07:49:27.666Z"
   },
   {
    "duration": 7,
    "start_time": "2022-03-15T07:49:27.736Z"
   },
   {
    "duration": 4,
    "start_time": "2022-03-15T07:49:27.745Z"
   },
   {
    "duration": 24,
    "start_time": "2022-03-15T07:49:27.751Z"
   },
   {
    "duration": 27,
    "start_time": "2022-03-15T07:49:27.777Z"
   },
   {
    "duration": 292,
    "start_time": "2022-03-15T07:49:27.806Z"
   },
   {
    "duration": -2890,
    "start_time": "2022-03-15T07:49:30.991Z"
   },
   {
    "duration": -2900,
    "start_time": "2022-03-15T07:49:31.002Z"
   },
   {
    "duration": -3163,
    "start_time": "2022-03-15T07:49:31.266Z"
   },
   {
    "duration": -3192,
    "start_time": "2022-03-15T07:49:31.297Z"
   },
   {
    "duration": -3203,
    "start_time": "2022-03-15T07:49:31.309Z"
   },
   {
    "duration": -3214,
    "start_time": "2022-03-15T07:49:31.321Z"
   },
   {
    "duration": -3223,
    "start_time": "2022-03-15T07:49:31.331Z"
   },
   {
    "duration": -3233,
    "start_time": "2022-03-15T07:49:31.342Z"
   },
   {
    "duration": -3245,
    "start_time": "2022-03-15T07:49:31.355Z"
   },
   {
    "duration": -3254,
    "start_time": "2022-03-15T07:49:31.366Z"
   },
   {
    "duration": -3265,
    "start_time": "2022-03-15T07:49:31.378Z"
   },
   {
    "duration": -3276,
    "start_time": "2022-03-15T07:49:31.390Z"
   },
   {
    "duration": -3305,
    "start_time": "2022-03-15T07:49:31.419Z"
   },
   {
    "duration": -3315,
    "start_time": "2022-03-15T07:49:31.430Z"
   },
   {
    "duration": -3325,
    "start_time": "2022-03-15T07:49:31.441Z"
   },
   {
    "duration": -3336,
    "start_time": "2022-03-15T07:49:31.453Z"
   },
   {
    "duration": -3346,
    "start_time": "2022-03-15T07:49:31.464Z"
   },
   {
    "duration": -3356,
    "start_time": "2022-03-15T07:49:31.475Z"
   },
   {
    "duration": -3366,
    "start_time": "2022-03-15T07:49:31.486Z"
   },
   {
    "duration": -3376,
    "start_time": "2022-03-15T07:49:31.497Z"
   },
   {
    "duration": 230,
    "start_time": "2022-03-15T07:51:59.200Z"
   },
   {
    "duration": 233,
    "start_time": "2022-03-15T07:53:16.025Z"
   },
   {
    "duration": 257,
    "start_time": "2022-03-15T07:56:39.353Z"
   },
   {
    "duration": 282,
    "start_time": "2022-03-15T07:58:04.736Z"
   },
   {
    "duration": 251,
    "start_time": "2022-03-15T07:58:26.138Z"
   },
   {
    "duration": 374,
    "start_time": "2022-03-15T07:59:02.216Z"
   },
   {
    "duration": 262,
    "start_time": "2022-03-15T08:01:05.816Z"
   },
   {
    "duration": 339,
    "start_time": "2022-03-15T08:01:51.730Z"
   },
   {
    "duration": 274,
    "start_time": "2022-03-15T08:07:35.413Z"
   },
   {
    "duration": 241,
    "start_time": "2022-03-15T08:21:41.972Z"
   },
   {
    "duration": 237,
    "start_time": "2022-03-15T08:22:58.007Z"
   },
   {
    "duration": 10,
    "start_time": "2022-03-15T08:30:36.368Z"
   },
   {
    "duration": 10,
    "start_time": "2022-03-15T08:30:45.099Z"
   },
   {
    "duration": 10,
    "start_time": "2022-03-15T08:30:51.434Z"
   },
   {
    "duration": 601,
    "start_time": "2022-03-15T08:31:09.162Z"
   },
   {
    "duration": 145,
    "start_time": "2022-03-15T08:31:09.765Z"
   },
   {
    "duration": 18,
    "start_time": "2022-03-15T08:31:09.913Z"
   },
   {
    "duration": 26,
    "start_time": "2022-03-15T08:31:09.933Z"
   },
   {
    "duration": 5,
    "start_time": "2022-03-15T08:31:09.961Z"
   },
   {
    "duration": 49,
    "start_time": "2022-03-15T08:31:09.968Z"
   },
   {
    "duration": 9,
    "start_time": "2022-03-15T08:31:10.020Z"
   },
   {
    "duration": 33,
    "start_time": "2022-03-15T08:31:10.032Z"
   },
   {
    "duration": 33,
    "start_time": "2022-03-15T08:31:10.068Z"
   },
   {
    "duration": 24,
    "start_time": "2022-03-15T08:31:10.103Z"
   },
   {
    "duration": 78,
    "start_time": "2022-03-15T08:31:10.130Z"
   },
   {
    "duration": 105,
    "start_time": "2022-03-15T08:31:10.210Z"
   },
   {
    "duration": 58,
    "start_time": "2022-03-15T08:31:10.317Z"
   },
   {
    "duration": 7,
    "start_time": "2022-03-15T08:31:10.377Z"
   },
   {
    "duration": 23,
    "start_time": "2022-03-15T08:31:10.386Z"
   },
   {
    "duration": 29,
    "start_time": "2022-03-15T08:31:10.411Z"
   },
   {
    "duration": 5,
    "start_time": "2022-03-15T08:31:10.442Z"
   },
   {
    "duration": 14,
    "start_time": "2022-03-15T08:31:10.449Z"
   },
   {
    "duration": 4,
    "start_time": "2022-03-15T08:31:10.465Z"
   },
   {
    "duration": 9,
    "start_time": "2022-03-15T08:31:10.471Z"
   },
   {
    "duration": 14,
    "start_time": "2022-03-15T08:31:10.482Z"
   },
   {
    "duration": 11,
    "start_time": "2022-03-15T08:31:10.502Z"
   },
   {
    "duration": 6,
    "start_time": "2022-03-15T08:31:10.517Z"
   },
   {
    "duration": 9,
    "start_time": "2022-03-15T08:31:10.525Z"
   },
   {
    "duration": 14,
    "start_time": "2022-03-15T08:31:10.536Z"
   },
   {
    "duration": 13,
    "start_time": "2022-03-15T08:31:10.552Z"
   },
   {
    "duration": 14,
    "start_time": "2022-03-15T08:31:10.567Z"
   },
   {
    "duration": 11,
    "start_time": "2022-03-15T08:31:10.584Z"
   },
   {
    "duration": 8,
    "start_time": "2022-03-15T08:31:10.597Z"
   },
   {
    "duration": 9,
    "start_time": "2022-03-15T08:31:10.607Z"
   },
   {
    "duration": 10,
    "start_time": "2022-03-15T08:31:10.618Z"
   },
   {
    "duration": 10,
    "start_time": "2022-03-15T08:31:10.629Z"
   },
   {
    "duration": 13,
    "start_time": "2022-03-15T08:31:10.640Z"
   },
   {
    "duration": 9,
    "start_time": "2022-03-15T08:31:10.655Z"
   },
   {
    "duration": 9,
    "start_time": "2022-03-15T08:31:10.666Z"
   },
   {
    "duration": 8,
    "start_time": "2022-03-15T08:31:10.676Z"
   },
   {
    "duration": 8,
    "start_time": "2022-03-15T08:31:10.686Z"
   },
   {
    "duration": 11,
    "start_time": "2022-03-15T08:31:10.696Z"
   },
   {
    "duration": 10,
    "start_time": "2022-03-15T08:31:28.629Z"
   },
   {
    "duration": 10,
    "start_time": "2022-03-15T08:31:35.966Z"
   },
   {
    "duration": 9,
    "start_time": "2022-03-15T08:32:12.307Z"
   },
   {
    "duration": 9,
    "start_time": "2022-03-15T08:32:17.545Z"
   },
   {
    "duration": 9,
    "start_time": "2022-03-15T08:32:27.098Z"
   },
   {
    "duration": 12,
    "start_time": "2022-03-15T08:34:22.982Z"
   },
   {
    "duration": 14,
    "start_time": "2022-03-15T08:48:43.793Z"
   },
   {
    "duration": 12,
    "start_time": "2022-03-15T08:49:21.554Z"
   },
   {
    "duration": 3,
    "start_time": "2022-03-15T09:08:43.352Z"
   },
   {
    "duration": 4,
    "start_time": "2022-03-15T09:21:13.463Z"
   },
   {
    "duration": 4,
    "start_time": "2022-03-15T09:21:17.956Z"
   },
   {
    "duration": 4,
    "start_time": "2022-03-15T09:23:36.714Z"
   },
   {
    "duration": 3,
    "start_time": "2022-03-15T09:23:43.155Z"
   },
   {
    "duration": 4,
    "start_time": "2022-03-15T09:24:35.749Z"
   },
   {
    "duration": 296,
    "start_time": "2022-03-15T09:25:17.279Z"
   },
   {
    "duration": 80,
    "start_time": "2022-03-15T09:25:50.536Z"
   },
   {
    "duration": 106,
    "start_time": "2022-03-15T09:26:00.040Z"
   },
   {
    "duration": 89,
    "start_time": "2022-03-15T09:26:25.157Z"
   },
   {
    "duration": 78,
    "start_time": "2022-03-15T09:26:39.073Z"
   },
   {
    "duration": 310,
    "start_time": "2022-03-15T09:26:43.268Z"
   },
   {
    "duration": 261,
    "start_time": "2022-03-15T09:27:06.128Z"
   },
   {
    "duration": 75,
    "start_time": "2022-03-15T09:27:43.372Z"
   },
   {
    "duration": 77,
    "start_time": "2022-03-15T09:28:12.977Z"
   },
   {
    "duration": 474,
    "start_time": "2022-03-15T09:28:40.142Z"
   },
   {
    "duration": 238,
    "start_time": "2022-03-15T09:29:45.749Z"
   },
   {
    "duration": 141,
    "start_time": "2022-03-15T09:30:02.335Z"
   },
   {
    "duration": 82,
    "start_time": "2022-03-15T09:30:22.896Z"
   },
   {
    "duration": 528,
    "start_time": "2022-03-15T09:30:35.078Z"
   },
   {
    "duration": 86,
    "start_time": "2022-03-15T09:31:01.055Z"
   },
   {
    "duration": 89,
    "start_time": "2022-03-15T09:33:40.863Z"
   },
   {
    "duration": 476,
    "start_time": "2022-03-15T09:43:42.697Z"
   },
   {
    "duration": 75,
    "start_time": "2022-03-15T09:44:17.564Z"
   },
   {
    "duration": 77,
    "start_time": "2022-03-15T09:44:56.513Z"
   },
   {
    "duration": 4,
    "start_time": "2022-03-15T09:45:05.733Z"
   },
   {
    "duration": 4,
    "start_time": "2022-03-15T09:45:12.707Z"
   },
   {
    "duration": 236,
    "start_time": "2022-03-15T09:45:28.085Z"
   },
   {
    "duration": 233,
    "start_time": "2022-03-15T09:45:34.626Z"
   },
   {
    "duration": 83,
    "start_time": "2022-03-15T09:45:57.939Z"
   },
   {
    "duration": 608,
    "start_time": "2022-03-15T09:46:22.848Z"
   },
   {
    "duration": 180,
    "start_time": "2022-03-15T09:46:35.415Z"
   },
   {
    "duration": 231,
    "start_time": "2022-03-15T09:48:44.321Z"
   },
   {
    "duration": 79,
    "start_time": "2022-03-15T09:49:29.414Z"
   },
   {
    "duration": 161,
    "start_time": "2022-03-15T09:49:40.620Z"
   },
   {
    "duration": 88,
    "start_time": "2022-03-15T09:50:33.275Z"
   },
   {
    "duration": 250,
    "start_time": "2022-03-15T09:53:19.626Z"
   },
   {
    "duration": 3,
    "start_time": "2022-03-15T09:53:36.135Z"
   },
   {
    "duration": 4,
    "start_time": "2022-03-15T09:53:44.309Z"
   },
   {
    "duration": 4,
    "start_time": "2022-03-15T09:53:49.186Z"
   },
   {
    "duration": 4,
    "start_time": "2022-03-15T09:54:24.720Z"
   },
   {
    "duration": 371,
    "start_time": "2022-03-15T09:55:02.810Z"
   },
   {
    "duration": 5,
    "start_time": "2022-03-15T09:55:19.689Z"
   },
   {
    "duration": 4,
    "start_time": "2022-03-15T10:00:14.893Z"
   },
   {
    "duration": 760,
    "start_time": "2022-03-16T17:18:35.140Z"
   },
   {
    "duration": 2154,
    "start_time": "2022-03-16T17:18:35.903Z"
   },
   {
    "duration": 2273,
    "start_time": "2022-03-16T17:18:38.060Z"
   },
   {
    "duration": 1700,
    "start_time": "2022-03-16T17:18:40.336Z"
   },
   {
    "duration": 2489,
    "start_time": "2022-03-16T17:18:42.038Z"
   },
   {
    "duration": 2063,
    "start_time": "2022-03-16T17:18:44.529Z"
   },
   {
    "duration": 264,
    "start_time": "2022-03-16T17:18:46.594Z"
   },
   {
    "duration": 183,
    "start_time": "2022-03-16T17:18:46.861Z"
   },
   {
    "duration": 86,
    "start_time": "2022-03-16T17:18:47.046Z"
   },
   {
    "duration": 56,
    "start_time": "2022-03-16T17:18:47.134Z"
   },
   {
    "duration": 86,
    "start_time": "2022-03-16T17:18:47.192Z"
   },
   {
    "duration": 75,
    "start_time": "2022-03-16T17:18:47.280Z"
   },
   {
    "duration": 392,
    "start_time": "2022-03-16T17:18:47.357Z"
   },
   {
    "duration": 961,
    "start_time": "2022-03-16T17:18:47.750Z"
   },
   {
    "duration": 1353,
    "start_time": "2022-03-16T17:18:48.713Z"
   },
   {
    "duration": 1439,
    "start_time": "2022-03-16T17:18:50.068Z"
   },
   {
    "duration": 491,
    "start_time": "2022-03-16T17:18:51.509Z"
   },
   {
    "duration": 2179,
    "start_time": "2022-03-16T17:18:52.002Z"
   },
   {
    "duration": 994,
    "start_time": "2022-03-16T17:18:54.183Z"
   },
   {
    "duration": 493,
    "start_time": "2022-03-16T17:18:55.179Z"
   },
   {
    "duration": 2802,
    "start_time": "2022-03-16T17:18:55.674Z"
   },
   {
    "duration": 5135,
    "start_time": "2022-03-16T17:18:58.478Z"
   },
   {
    "duration": 3600,
    "start_time": "2022-03-16T17:19:03.616Z"
   },
   {
    "duration": 3028,
    "start_time": "2022-03-16T17:19:07.218Z"
   },
   {
    "duration": 3243,
    "start_time": "2022-03-16T17:19:10.248Z"
   },
   {
    "duration": 2262,
    "start_time": "2022-03-16T17:19:13.493Z"
   },
   {
    "duration": 4349,
    "start_time": "2022-03-16T17:19:15.757Z"
   },
   {
    "duration": 5075,
    "start_time": "2022-03-16T17:19:20.109Z"
   },
   {
    "duration": 5508,
    "start_time": "2022-03-16T17:19:25.186Z"
   },
   {
    "duration": 5166,
    "start_time": "2022-03-16T17:19:30.696Z"
   },
   {
    "duration": 2749,
    "start_time": "2022-03-16T17:19:35.864Z"
   },
   {
    "duration": 2712,
    "start_time": "2022-03-16T17:19:38.614Z"
   },
   {
    "duration": 6794,
    "start_time": "2022-03-16T17:19:41.328Z"
   },
   {
    "duration": 3711,
    "start_time": "2022-03-16T17:19:48.124Z"
   },
   {
    "duration": 5953,
    "start_time": "2022-03-16T17:19:51.837Z"
   },
   {
    "duration": 3922,
    "start_time": "2022-03-16T17:19:57.792Z"
   },
   {
    "duration": 6696,
    "start_time": "2022-03-16T17:20:01.716Z"
   },
   {
    "duration": 7206,
    "start_time": "2022-03-16T17:20:08.414Z"
   },
   {
    "duration": 2939,
    "start_time": "2022-03-16T17:20:15.622Z"
   },
   {
    "duration": 168,
    "start_time": "2022-03-17T17:45:19.379Z"
   },
   {
    "duration": 187,
    "start_time": "2022-03-17T17:45:41.142Z"
   },
   {
    "duration": 457,
    "start_time": "2022-03-17T17:46:47.622Z"
   },
   {
    "duration": 831,
    "start_time": "2022-03-17T17:46:48.081Z"
   },
   {
    "duration": 18,
    "start_time": "2022-03-17T17:46:48.914Z"
   },
   {
    "duration": 32,
    "start_time": "2022-03-17T17:46:48.934Z"
   },
   {
    "duration": 4,
    "start_time": "2022-03-17T17:46:48.968Z"
   },
   {
    "duration": 17,
    "start_time": "2022-03-17T17:46:48.974Z"
   },
   {
    "duration": 8,
    "start_time": "2022-03-17T17:46:48.993Z"
   },
   {
    "duration": 52,
    "start_time": "2022-03-17T17:46:49.002Z"
   },
   {
    "duration": 18,
    "start_time": "2022-03-17T17:46:49.056Z"
   },
   {
    "duration": 29,
    "start_time": "2022-03-17T17:46:49.077Z"
   },
   {
    "duration": 81,
    "start_time": "2022-03-17T17:46:49.108Z"
   },
   {
    "duration": 85,
    "start_time": "2022-03-17T17:46:49.190Z"
   },
   {
    "duration": 70,
    "start_time": "2022-03-17T17:46:49.277Z"
   },
   {
    "duration": 10,
    "start_time": "2022-03-17T17:46:49.348Z"
   },
   {
    "duration": 8,
    "start_time": "2022-03-17T17:46:49.359Z"
   },
   {
    "duration": 29,
    "start_time": "2022-03-17T17:46:49.369Z"
   },
   {
    "duration": 6,
    "start_time": "2022-03-17T17:46:49.399Z"
   },
   {
    "duration": 34,
    "start_time": "2022-03-17T17:46:49.406Z"
   },
   {
    "duration": 11,
    "start_time": "2022-03-17T17:46:49.442Z"
   },
   {
    "duration": 8,
    "start_time": "2022-03-17T17:46:49.455Z"
   },
   {
    "duration": 10,
    "start_time": "2022-03-17T17:46:49.464Z"
   },
   {
    "duration": 12,
    "start_time": "2022-03-17T17:46:49.476Z"
   },
   {
    "duration": 5,
    "start_time": "2022-03-17T17:46:49.490Z"
   },
   {
    "duration": 6,
    "start_time": "2022-03-17T17:46:49.497Z"
   },
   {
    "duration": 10,
    "start_time": "2022-03-17T17:46:49.504Z"
   },
   {
    "duration": 17,
    "start_time": "2022-03-17T17:46:49.515Z"
   },
   {
    "duration": 3,
    "start_time": "2022-03-17T17:46:49.533Z"
   },
   {
    "duration": 4,
    "start_time": "2022-03-17T17:46:49.539Z"
   },
   {
    "duration": 6,
    "start_time": "2022-03-17T17:46:49.545Z"
   },
   {
    "duration": 6,
    "start_time": "2022-03-17T17:46:49.553Z"
   },
   {
    "duration": 10,
    "start_time": "2022-03-17T17:46:49.561Z"
   },
   {
    "duration": 10,
    "start_time": "2022-03-17T17:46:49.573Z"
   },
   {
    "duration": 9,
    "start_time": "2022-03-17T17:46:49.585Z"
   },
   {
    "duration": 7,
    "start_time": "2022-03-17T17:46:49.596Z"
   },
   {
    "duration": 7,
    "start_time": "2022-03-17T17:46:49.605Z"
   },
   {
    "duration": 6,
    "start_time": "2022-03-17T17:46:49.613Z"
   },
   {
    "duration": 13,
    "start_time": "2022-03-17T17:46:49.620Z"
   },
   {
    "duration": 6,
    "start_time": "2022-03-17T17:46:49.635Z"
   },
   {
    "duration": 3,
    "start_time": "2022-03-17T17:47:11.124Z"
   },
   {
    "duration": 3,
    "start_time": "2022-03-17T17:49:28.927Z"
   },
   {
    "duration": 2,
    "start_time": "2022-03-17T17:49:34.235Z"
   },
   {
    "duration": 158,
    "start_time": "2022-03-17T17:50:05.834Z"
   },
   {
    "duration": 73,
    "start_time": "2022-03-17T17:50:27.145Z"
   },
   {
    "duration": 8,
    "start_time": "2022-03-17T17:51:09.659Z"
   },
   {
    "duration": 4,
    "start_time": "2022-03-17T17:51:33.959Z"
   },
   {
    "duration": 3,
    "start_time": "2022-03-17T17:52:03.284Z"
   },
   {
    "duration": 334,
    "start_time": "2022-03-17T17:52:43.048Z"
   },
   {
    "duration": 3,
    "start_time": "2022-03-17T17:53:28.470Z"
   },
   {
    "duration": 161,
    "start_time": "2022-03-17T17:54:56.900Z"
   },
   {
    "duration": 2,
    "start_time": "2022-03-17T17:56:37.149Z"
   },
   {
    "duration": 3,
    "start_time": "2022-03-17T17:56:43.964Z"
   },
   {
    "duration": 159,
    "start_time": "2022-03-17T17:58:53.319Z"
   },
   {
    "duration": 3,
    "start_time": "2022-03-17T17:59:51.591Z"
   },
   {
    "duration": 2,
    "start_time": "2022-03-17T17:59:54.231Z"
   },
   {
    "duration": 2,
    "start_time": "2022-03-17T17:59:55.318Z"
   },
   {
    "duration": 3,
    "start_time": "2022-03-17T17:59:56.294Z"
   },
   {
    "duration": 3,
    "start_time": "2022-03-17T18:00:09.091Z"
   },
   {
    "duration": 3,
    "start_time": "2022-03-17T18:00:10.423Z"
   },
   {
    "duration": 3,
    "start_time": "2022-03-17T18:00:11.694Z"
   },
   {
    "duration": 3,
    "start_time": "2022-03-17T18:00:13.943Z"
   },
   {
    "duration": 3,
    "start_time": "2022-03-17T18:00:15.247Z"
   },
   {
    "duration": 3,
    "start_time": "2022-03-17T18:00:34.807Z"
   },
   {
    "duration": 2,
    "start_time": "2022-03-17T18:00:52.347Z"
   },
   {
    "duration": 3,
    "start_time": "2022-03-17T18:00:53.808Z"
   },
   {
    "duration": 3,
    "start_time": "2022-03-17T18:00:54.980Z"
   },
   {
    "duration": 3,
    "start_time": "2022-03-17T18:00:56.033Z"
   },
   {
    "duration": 3,
    "start_time": "2022-03-17T18:00:57.982Z"
   },
   {
    "duration": 9,
    "start_time": "2022-03-17T18:16:44.254Z"
   },
   {
    "duration": 8,
    "start_time": "2022-03-17T18:17:01.178Z"
   },
   {
    "duration": 7,
    "start_time": "2022-03-17T18:17:27.879Z"
   },
   {
    "duration": 7,
    "start_time": "2022-03-17T18:18:27.011Z"
   },
   {
    "duration": 7,
    "start_time": "2022-03-17T18:19:45.604Z"
   },
   {
    "duration": 11,
    "start_time": "2022-03-17T18:23:42.744Z"
   },
   {
    "duration": 435,
    "start_time": "2022-03-18T15:28:55.736Z"
   },
   {
    "duration": 159,
    "start_time": "2022-03-18T15:28:56.174Z"
   },
   {
    "duration": 21,
    "start_time": "2022-03-18T15:28:56.337Z"
   },
   {
    "duration": 34,
    "start_time": "2022-03-18T15:28:56.360Z"
   },
   {
    "duration": 14,
    "start_time": "2022-03-18T15:28:56.395Z"
   },
   {
    "duration": 30,
    "start_time": "2022-03-18T15:28:56.411Z"
   },
   {
    "duration": 14,
    "start_time": "2022-03-18T15:28:56.443Z"
   },
   {
    "duration": 50,
    "start_time": "2022-03-18T15:28:56.458Z"
   },
   {
    "duration": 29,
    "start_time": "2022-03-18T15:28:56.510Z"
   },
   {
    "duration": 24,
    "start_time": "2022-03-18T15:28:56.542Z"
   },
   {
    "duration": 70,
    "start_time": "2022-03-18T15:28:56.568Z"
   },
   {
    "duration": 78,
    "start_time": "2022-03-18T15:28:56.640Z"
   },
   {
    "duration": 69,
    "start_time": "2022-03-18T15:28:56.720Z"
   },
   {
    "duration": 7,
    "start_time": "2022-03-18T15:28:56.790Z"
   },
   {
    "duration": 3,
    "start_time": "2022-03-18T15:28:56.798Z"
   },
   {
    "duration": 42,
    "start_time": "2022-03-18T15:28:56.803Z"
   },
   {
    "duration": 5,
    "start_time": "2022-03-18T15:28:56.846Z"
   },
   {
    "duration": 16,
    "start_time": "2022-03-18T15:28:56.852Z"
   },
   {
    "duration": 11,
    "start_time": "2022-03-18T15:28:56.870Z"
   },
   {
    "duration": 4,
    "start_time": "2022-03-18T15:28:56.882Z"
   },
   {
    "duration": 5,
    "start_time": "2022-03-18T15:28:56.887Z"
   },
   {
    "duration": 5,
    "start_time": "2022-03-18T15:28:56.893Z"
   },
   {
    "duration": 7,
    "start_time": "2022-03-18T15:28:56.899Z"
   },
   {
    "duration": 30,
    "start_time": "2022-03-18T15:28:56.908Z"
   },
   {
    "duration": 3,
    "start_time": "2022-03-18T15:28:56.939Z"
   },
   {
    "duration": 6,
    "start_time": "2022-03-18T15:28:56.944Z"
   },
   {
    "duration": 67,
    "start_time": "2022-03-18T15:28:56.951Z"
   },
   {
    "duration": 0,
    "start_time": "2022-03-18T15:28:57.020Z"
   },
   {
    "duration": 0,
    "start_time": "2022-03-18T15:28:57.020Z"
   },
   {
    "duration": 0,
    "start_time": "2022-03-18T15:28:57.038Z"
   },
   {
    "duration": 0,
    "start_time": "2022-03-18T15:28:57.039Z"
   },
   {
    "duration": 0,
    "start_time": "2022-03-18T15:28:57.041Z"
   },
   {
    "duration": 0,
    "start_time": "2022-03-18T15:28:57.043Z"
   },
   {
    "duration": 0,
    "start_time": "2022-03-18T15:28:57.044Z"
   },
   {
    "duration": 0,
    "start_time": "2022-03-18T15:28:57.045Z"
   },
   {
    "duration": 0,
    "start_time": "2022-03-18T15:28:57.047Z"
   },
   {
    "duration": 0,
    "start_time": "2022-03-18T15:28:57.048Z"
   },
   {
    "duration": 0,
    "start_time": "2022-03-18T15:28:57.050Z"
   },
   {
    "duration": 119,
    "start_time": "2022-03-18T15:30:07.015Z"
   },
   {
    "duration": 160,
    "start_time": "2022-03-18T15:30:45.590Z"
   },
   {
    "duration": 114,
    "start_time": "2022-03-18T15:31:02.636Z"
   },
   {
    "duration": 3,
    "start_time": "2022-03-18T15:31:27.352Z"
   },
   {
    "duration": 4,
    "start_time": "2022-03-18T15:31:33.700Z"
   },
   {
    "duration": 3,
    "start_time": "2022-03-18T15:31:51.241Z"
   },
   {
    "duration": 2,
    "start_time": "2022-03-18T15:31:53.085Z"
   },
   {
    "duration": 3,
    "start_time": "2022-03-18T15:31:54.072Z"
   },
   {
    "duration": 3,
    "start_time": "2022-03-18T15:31:55.006Z"
   },
   {
    "duration": 2,
    "start_time": "2022-03-18T15:31:56.036Z"
   },
   {
    "duration": 3,
    "start_time": "2022-03-18T15:31:57.047Z"
   },
   {
    "duration": 3,
    "start_time": "2022-03-18T15:33:14.267Z"
   },
   {
    "duration": 3,
    "start_time": "2022-03-18T15:33:15.242Z"
   },
   {
    "duration": 3,
    "start_time": "2022-03-18T15:33:16.072Z"
   },
   {
    "duration": 3,
    "start_time": "2022-03-18T15:33:16.806Z"
   },
   {
    "duration": 3,
    "start_time": "2022-03-18T15:33:17.706Z"
   },
   {
    "duration": 8,
    "start_time": "2022-03-18T15:33:26.841Z"
   },
   {
    "duration": 8,
    "start_time": "2022-03-18T15:35:23.046Z"
   },
   {
    "duration": 9,
    "start_time": "2022-03-18T15:37:17.630Z"
   },
   {
    "duration": 4,
    "start_time": "2022-03-18T15:37:45.162Z"
   },
   {
    "duration": 5,
    "start_time": "2022-03-18T15:37:50.978Z"
   },
   {
    "duration": 3,
    "start_time": "2022-03-18T15:38:00.537Z"
   },
   {
    "duration": 4,
    "start_time": "2022-03-18T15:38:07.282Z"
   },
   {
    "duration": 3,
    "start_time": "2022-03-18T15:38:10.242Z"
   },
   {
    "duration": 4,
    "start_time": "2022-03-18T15:46:13.458Z"
   },
   {
    "duration": 4,
    "start_time": "2022-03-18T15:46:19.323Z"
   },
   {
    "duration": 104,
    "start_time": "2022-03-18T15:47:40.814Z"
   },
   {
    "duration": 10,
    "start_time": "2022-03-18T15:47:56.014Z"
   },
   {
    "duration": 4,
    "start_time": "2022-03-18T15:48:15.956Z"
   },
   {
    "duration": 4,
    "start_time": "2022-03-18T15:48:20.394Z"
   },
   {
    "duration": 10,
    "start_time": "2022-03-18T15:48:54.684Z"
   },
   {
    "duration": 5,
    "start_time": "2022-03-18T15:49:46.695Z"
   },
   {
    "duration": 118,
    "start_time": "2022-03-18T15:53:05.357Z"
   },
   {
    "duration": 9,
    "start_time": "2022-03-18T15:55:38.099Z"
   },
   {
    "duration": 9,
    "start_time": "2022-03-18T15:55:42.796Z"
   },
   {
    "duration": 11,
    "start_time": "2022-03-18T15:56:03.920Z"
   },
   {
    "duration": 8,
    "start_time": "2022-03-18T15:58:05.509Z"
   },
   {
    "duration": 10,
    "start_time": "2022-03-18T16:01:41.753Z"
   },
   {
    "duration": 11,
    "start_time": "2022-03-18T16:01:59.045Z"
   },
   {
    "duration": 3,
    "start_time": "2022-03-18T16:14:28.504Z"
   },
   {
    "duration": 2295,
    "start_time": "2022-03-18T16:14:48.899Z"
   },
   {
    "duration": 9,
    "start_time": "2022-03-18T16:17:57.369Z"
   },
   {
    "duration": 9,
    "start_time": "2022-03-18T16:18:01.690Z"
   },
   {
    "duration": 12,
    "start_time": "2022-03-18T16:18:50.415Z"
   },
   {
    "duration": 15,
    "start_time": "2022-03-18T16:18:55.278Z"
   },
   {
    "duration": 10,
    "start_time": "2022-03-18T16:20:44.555Z"
   },
   {
    "duration": 13,
    "start_time": "2022-03-18T16:20:54.835Z"
   },
   {
    "duration": 11,
    "start_time": "2022-03-18T16:20:57.610Z"
   },
   {
    "duration": 5,
    "start_time": "2022-03-18T16:21:35.124Z"
   },
   {
    "duration": 422,
    "start_time": "2022-03-18T16:21:56.567Z"
   },
   {
    "duration": 164,
    "start_time": "2022-03-18T16:21:56.992Z"
   },
   {
    "duration": 18,
    "start_time": "2022-03-18T16:21:57.157Z"
   },
   {
    "duration": 32,
    "start_time": "2022-03-18T16:21:57.178Z"
   },
   {
    "duration": 4,
    "start_time": "2022-03-18T16:21:57.212Z"
   },
   {
    "duration": 35,
    "start_time": "2022-03-18T16:21:57.217Z"
   },
   {
    "duration": 9,
    "start_time": "2022-03-18T16:21:57.254Z"
   },
   {
    "duration": 27,
    "start_time": "2022-03-18T16:21:57.264Z"
   },
   {
    "duration": 19,
    "start_time": "2022-03-18T16:21:57.293Z"
   },
   {
    "duration": 46,
    "start_time": "2022-03-18T16:21:57.315Z"
   },
   {
    "duration": 79,
    "start_time": "2022-03-18T16:21:57.363Z"
   },
   {
    "duration": 80,
    "start_time": "2022-03-18T16:21:57.444Z"
   },
   {
    "duration": 66,
    "start_time": "2022-03-18T16:21:57.525Z"
   },
   {
    "duration": 9,
    "start_time": "2022-03-18T16:21:57.593Z"
   },
   {
    "duration": 9,
    "start_time": "2022-03-18T16:21:57.603Z"
   },
   {
    "duration": 35,
    "start_time": "2022-03-18T16:21:57.614Z"
   },
   {
    "duration": 4,
    "start_time": "2022-03-18T16:21:57.651Z"
   },
   {
    "duration": 14,
    "start_time": "2022-03-18T16:21:57.657Z"
   },
   {
    "duration": 11,
    "start_time": "2022-03-18T16:21:57.673Z"
   },
   {
    "duration": 3,
    "start_time": "2022-03-18T16:21:57.686Z"
   },
   {
    "duration": 8,
    "start_time": "2022-03-18T16:21:57.691Z"
   },
   {
    "duration": 5,
    "start_time": "2022-03-18T16:21:57.701Z"
   },
   {
    "duration": 30,
    "start_time": "2022-03-18T16:21:57.708Z"
   },
   {
    "duration": 7,
    "start_time": "2022-03-18T16:21:57.739Z"
   },
   {
    "duration": 6,
    "start_time": "2022-03-18T16:21:57.747Z"
   },
   {
    "duration": 8,
    "start_time": "2022-03-18T16:21:57.755Z"
   },
   {
    "duration": 7,
    "start_time": "2022-03-18T16:21:57.764Z"
   },
   {
    "duration": 13,
    "start_time": "2022-03-18T16:21:57.775Z"
   },
   {
    "duration": 10,
    "start_time": "2022-03-18T16:21:57.789Z"
   },
   {
    "duration": 6,
    "start_time": "2022-03-18T16:21:57.801Z"
   },
   {
    "duration": 8,
    "start_time": "2022-03-18T16:21:57.809Z"
   },
   {
    "duration": 6,
    "start_time": "2022-03-18T16:21:57.818Z"
   },
   {
    "duration": 8,
    "start_time": "2022-03-18T16:21:57.837Z"
   },
   {
    "duration": 11,
    "start_time": "2022-03-18T16:21:57.846Z"
   },
   {
    "duration": 5,
    "start_time": "2022-03-18T16:21:57.859Z"
   },
   {
    "duration": 5,
    "start_time": "2022-03-18T16:21:57.865Z"
   },
   {
    "duration": 5,
    "start_time": "2022-03-18T16:21:57.872Z"
   },
   {
    "duration": 7,
    "start_time": "2022-03-18T16:21:57.878Z"
   },
   {
    "duration": 14,
    "start_time": "2022-03-18T16:22:11.967Z"
   },
   {
    "duration": 11,
    "start_time": "2022-03-18T16:22:13.853Z"
   },
   {
    "duration": 3,
    "start_time": "2022-03-18T16:23:33.306Z"
   },
   {
    "duration": 2,
    "start_time": "2022-03-18T16:23:34.451Z"
   },
   {
    "duration": 3,
    "start_time": "2022-03-18T16:23:35.662Z"
   },
   {
    "duration": 2,
    "start_time": "2022-03-18T16:23:36.717Z"
   },
   {
    "duration": 3,
    "start_time": "2022-03-18T16:23:37.502Z"
   },
   {
    "duration": 6,
    "start_time": "2022-03-18T16:23:49.018Z"
   },
   {
    "duration": 15,
    "start_time": "2022-03-18T16:24:00.370Z"
   },
   {
    "duration": 11,
    "start_time": "2022-03-18T16:24:02.379Z"
   },
   {
    "duration": 4,
    "start_time": "2022-03-18T16:36:38.011Z"
   },
   {
    "duration": 4,
    "start_time": "2022-03-18T16:36:48.819Z"
   },
   {
    "duration": 4,
    "start_time": "2022-03-18T16:38:01.114Z"
   },
   {
    "duration": 4,
    "start_time": "2022-03-18T16:39:57.400Z"
   },
   {
    "duration": 4,
    "start_time": "2022-03-18T16:41:06.999Z"
   },
   {
    "duration": 4,
    "start_time": "2022-03-18T16:41:32.297Z"
   },
   {
    "duration": 4,
    "start_time": "2022-03-18T16:41:59.269Z"
   },
   {
    "duration": 15,
    "start_time": "2022-03-18T16:42:31.156Z"
   },
   {
    "duration": 11,
    "start_time": "2022-03-18T16:42:33.377Z"
   },
   {
    "duration": 4,
    "start_time": "2022-03-18T16:42:42.602Z"
   },
   {
    "duration": 2,
    "start_time": "2022-03-18T16:45:43.494Z"
   },
   {
    "duration": 3,
    "start_time": "2022-03-18T16:45:47.662Z"
   },
   {
    "duration": 3,
    "start_time": "2022-03-18T16:46:49.021Z"
   },
   {
    "duration": 5,
    "start_time": "2022-03-18T16:47:01.813Z"
   },
   {
    "duration": 14,
    "start_time": "2022-03-18T16:47:11.403Z"
   },
   {
    "duration": 12,
    "start_time": "2022-03-18T16:47:13.341Z"
   },
   {
    "duration": 4,
    "start_time": "2022-03-18T16:47:19.323Z"
   },
   {
    "duration": 105,
    "start_time": "2022-03-18T16:48:36.336Z"
   },
   {
    "duration": 4,
    "start_time": "2022-03-18T16:48:50.437Z"
   },
   {
    "duration": 14,
    "start_time": "2022-03-18T16:49:00.510Z"
   },
   {
    "duration": 11,
    "start_time": "2022-03-18T16:49:02.624Z"
   },
   {
    "duration": 20,
    "start_time": "2022-03-18T16:50:54.016Z"
   },
   {
    "duration": 14,
    "start_time": "2022-03-18T16:52:15.355Z"
   },
   {
    "duration": 13,
    "start_time": "2022-03-18T16:54:36.888Z"
   },
   {
    "duration": 18,
    "start_time": "2022-03-18T16:54:42.477Z"
   },
   {
    "duration": 11,
    "start_time": "2022-03-18T17:10:59.631Z"
   },
   {
    "duration": 62,
    "start_time": "2022-03-18T17:13:23.692Z"
   },
   {
    "duration": 11,
    "start_time": "2022-03-18T17:14:50.879Z"
   },
   {
    "duration": 388,
    "start_time": "2022-03-18T17:15:06.497Z"
   },
   {
    "duration": 176,
    "start_time": "2022-03-18T17:15:06.887Z"
   },
   {
    "duration": 18,
    "start_time": "2022-03-18T17:15:07.065Z"
   },
   {
    "duration": 32,
    "start_time": "2022-03-18T17:15:07.085Z"
   },
   {
    "duration": 5,
    "start_time": "2022-03-18T17:15:07.137Z"
   },
   {
    "duration": 22,
    "start_time": "2022-03-18T17:15:07.143Z"
   },
   {
    "duration": 7,
    "start_time": "2022-03-18T17:15:07.167Z"
   },
   {
    "duration": 31,
    "start_time": "2022-03-18T17:15:07.176Z"
   },
   {
    "duration": 37,
    "start_time": "2022-03-18T17:15:07.209Z"
   },
   {
    "duration": 26,
    "start_time": "2022-03-18T17:15:07.249Z"
   },
   {
    "duration": 81,
    "start_time": "2022-03-18T17:15:07.277Z"
   },
   {
    "duration": 87,
    "start_time": "2022-03-18T17:15:07.360Z"
   },
   {
    "duration": 59,
    "start_time": "2022-03-18T17:15:07.449Z"
   },
   {
    "duration": 28,
    "start_time": "2022-03-18T17:15:07.510Z"
   },
   {
    "duration": 4,
    "start_time": "2022-03-18T17:15:07.539Z"
   },
   {
    "duration": 22,
    "start_time": "2022-03-18T17:15:07.544Z"
   },
   {
    "duration": 6,
    "start_time": "2022-03-18T17:15:07.568Z"
   },
   {
    "duration": 21,
    "start_time": "2022-03-18T17:15:07.575Z"
   },
   {
    "duration": 14,
    "start_time": "2022-03-18T17:15:07.598Z"
   },
   {
    "duration": 6,
    "start_time": "2022-03-18T17:15:07.637Z"
   },
   {
    "duration": 9,
    "start_time": "2022-03-18T17:15:07.644Z"
   },
   {
    "duration": 5,
    "start_time": "2022-03-18T17:15:07.654Z"
   },
   {
    "duration": 6,
    "start_time": "2022-03-18T17:15:07.661Z"
   },
   {
    "duration": 5,
    "start_time": "2022-03-18T17:15:07.669Z"
   },
   {
    "duration": 6,
    "start_time": "2022-03-18T17:15:07.676Z"
   },
   {
    "duration": 9,
    "start_time": "2022-03-18T17:15:07.683Z"
   },
   {
    "duration": 7,
    "start_time": "2022-03-18T17:15:07.694Z"
   },
   {
    "duration": 12,
    "start_time": "2022-03-18T17:15:07.705Z"
   },
   {
    "duration": 10,
    "start_time": "2022-03-18T17:15:07.737Z"
   },
   {
    "duration": 5,
    "start_time": "2022-03-18T17:15:07.749Z"
   },
   {
    "duration": 25,
    "start_time": "2022-03-18T17:15:07.756Z"
   },
   {
    "duration": 13,
    "start_time": "2022-03-18T17:15:07.783Z"
   },
   {
    "duration": 47,
    "start_time": "2022-03-18T17:15:07.798Z"
   },
   {
    "duration": 14,
    "start_time": "2022-03-18T17:15:07.847Z"
   },
   {
    "duration": 92,
    "start_time": "2022-03-18T17:15:07.863Z"
   },
   {
    "duration": 0,
    "start_time": "2022-03-18T17:15:07.957Z"
   },
   {
    "duration": 0,
    "start_time": "2022-03-18T17:15:07.959Z"
   },
   {
    "duration": 0,
    "start_time": "2022-03-18T17:15:07.960Z"
   },
   {
    "duration": 11,
    "start_time": "2022-03-18T17:15:33.765Z"
   },
   {
    "duration": 6,
    "start_time": "2022-03-18T17:19:50.954Z"
   },
   {
    "duration": 10,
    "start_time": "2022-03-18T17:24:04.160Z"
   },
   {
    "duration": 9,
    "start_time": "2022-03-18T17:24:21.840Z"
   },
   {
    "duration": 7,
    "start_time": "2022-03-18T17:25:03.510Z"
   },
   {
    "duration": 12,
    "start_time": "2022-03-18T17:28:51.406Z"
   },
   {
    "duration": 11,
    "start_time": "2022-03-18T17:31:41.253Z"
   },
   {
    "duration": 9,
    "start_time": "2022-03-18T17:33:05.163Z"
   },
   {
    "duration": 8,
    "start_time": "2022-03-18T17:33:53.168Z"
   },
   {
    "duration": 12,
    "start_time": "2022-03-18T17:34:51.255Z"
   },
   {
    "duration": 15,
    "start_time": "2022-03-18T17:34:51.409Z"
   },
   {
    "duration": 11,
    "start_time": "2022-03-18T17:34:56.946Z"
   },
   {
    "duration": 15,
    "start_time": "2022-03-18T17:48:28.033Z"
   },
   {
    "duration": 4,
    "start_time": "2022-03-18T17:49:10.403Z"
   },
   {
    "duration": 10,
    "start_time": "2022-03-18T17:50:35.986Z"
   },
   {
    "duration": 19,
    "start_time": "2022-03-18T17:54:14.411Z"
   },
   {
    "duration": 12,
    "start_time": "2022-03-18T17:56:41.538Z"
   },
   {
    "duration": 10,
    "start_time": "2022-03-18T17:56:43.258Z"
   },
   {
    "duration": 100,
    "start_time": "2022-03-25T19:31:55.639Z"
   },
   {
    "duration": 516,
    "start_time": "2022-03-25T19:32:08.351Z"
   },
   {
    "duration": 202,
    "start_time": "2022-03-25T19:32:08.873Z"
   },
   {
    "duration": 30,
    "start_time": "2022-03-25T19:32:09.078Z"
   },
   {
    "duration": 65,
    "start_time": "2022-03-25T19:32:09.111Z"
   },
   {
    "duration": 8,
    "start_time": "2022-03-25T19:32:09.179Z"
   },
   {
    "duration": 21,
    "start_time": "2022-03-25T19:32:09.190Z"
   },
   {
    "duration": 9,
    "start_time": "2022-03-25T19:32:09.214Z"
   },
   {
    "duration": 93,
    "start_time": "2022-03-25T19:32:09.226Z"
   },
   {
    "duration": 50,
    "start_time": "2022-03-25T19:32:09.322Z"
   },
   {
    "duration": 54,
    "start_time": "2022-03-25T19:32:09.377Z"
   },
   {
    "duration": 148,
    "start_time": "2022-03-25T19:32:09.434Z"
   },
   {
    "duration": 127,
    "start_time": "2022-03-25T19:32:09.584Z"
   },
   {
    "duration": 104,
    "start_time": "2022-03-25T19:32:09.713Z"
   },
   {
    "duration": 14,
    "start_time": "2022-03-25T19:32:09.819Z"
   },
   {
    "duration": 5,
    "start_time": "2022-03-25T19:32:09.835Z"
   },
   {
    "duration": 33,
    "start_time": "2022-03-25T19:32:09.869Z"
   },
   {
    "duration": 8,
    "start_time": "2022-03-25T19:32:09.905Z"
   },
   {
    "duration": 24,
    "start_time": "2022-03-25T19:32:09.916Z"
   },
   {
    "duration": 45,
    "start_time": "2022-03-25T19:32:09.942Z"
   },
   {
    "duration": 6,
    "start_time": "2022-03-25T19:32:09.991Z"
   },
   {
    "duration": 9,
    "start_time": "2022-03-25T19:32:09.999Z"
   },
   {
    "duration": 15,
    "start_time": "2022-03-25T19:32:10.011Z"
   },
   {
    "duration": 13,
    "start_time": "2022-03-25T19:32:10.030Z"
   },
   {
    "duration": 28,
    "start_time": "2022-03-25T19:32:10.046Z"
   },
   {
    "duration": 16,
    "start_time": "2022-03-25T19:32:10.079Z"
   },
   {
    "duration": 9,
    "start_time": "2022-03-25T19:32:10.097Z"
   },
   {
    "duration": 8,
    "start_time": "2022-03-25T19:32:10.108Z"
   },
   {
    "duration": 14,
    "start_time": "2022-03-25T19:32:10.123Z"
   },
   {
    "duration": 34,
    "start_time": "2022-03-25T19:32:10.139Z"
   },
   {
    "duration": 8,
    "start_time": "2022-03-25T19:32:10.175Z"
   },
   {
    "duration": 33,
    "start_time": "2022-03-25T19:32:10.185Z"
   },
   {
    "duration": 20,
    "start_time": "2022-03-25T19:32:10.220Z"
   },
   {
    "duration": 30,
    "start_time": "2022-03-25T19:32:10.270Z"
   },
   {
    "duration": 20,
    "start_time": "2022-03-25T19:32:10.302Z"
   },
   {
    "duration": 136,
    "start_time": "2022-03-25T19:32:10.325Z"
   },
   {
    "duration": 0,
    "start_time": "2022-03-25T19:32:10.463Z"
   },
   {
    "duration": 0,
    "start_time": "2022-03-25T19:32:10.470Z"
   },
   {
    "duration": 0,
    "start_time": "2022-03-25T19:32:10.472Z"
   },
   {
    "duration": 90,
    "start_time": "2022-03-25T20:19:19.590Z"
   },
   {
    "duration": 9,
    "start_time": "2022-03-25T20:33:40.365Z"
   },
   {
    "duration": 18,
    "start_time": "2022-03-25T20:33:52.752Z"
   },
   {
    "duration": 9,
    "start_time": "2022-03-25T20:33:57.247Z"
   },
   {
    "duration": 395,
    "start_time": "2022-04-02T07:12:50.890Z"
   },
   {
    "duration": 144,
    "start_time": "2022-04-02T07:12:51.287Z"
   },
   {
    "duration": 17,
    "start_time": "2022-04-02T07:12:51.433Z"
   },
   {
    "duration": 45,
    "start_time": "2022-04-02T07:12:51.452Z"
   },
   {
    "duration": 5,
    "start_time": "2022-04-02T07:12:51.499Z"
   },
   {
    "duration": 13,
    "start_time": "2022-04-02T07:12:51.505Z"
   },
   {
    "duration": 6,
    "start_time": "2022-04-02T07:12:51.519Z"
   },
   {
    "duration": 23,
    "start_time": "2022-04-02T07:12:51.527Z"
   },
   {
    "duration": 18,
    "start_time": "2022-04-02T07:12:51.581Z"
   },
   {
    "duration": 21,
    "start_time": "2022-04-02T07:12:51.603Z"
   },
   {
    "duration": 81,
    "start_time": "2022-04-02T07:12:51.626Z"
   },
   {
    "duration": 78,
    "start_time": "2022-04-02T07:12:51.708Z"
   },
   {
    "duration": 55,
    "start_time": "2022-04-02T07:12:51.787Z"
   },
   {
    "duration": 8,
    "start_time": "2022-04-02T07:12:51.844Z"
   },
   {
    "duration": 5,
    "start_time": "2022-04-02T07:12:51.853Z"
   },
   {
    "duration": 32,
    "start_time": "2022-04-02T07:12:51.859Z"
   },
   {
    "duration": 5,
    "start_time": "2022-04-02T07:12:51.892Z"
   },
   {
    "duration": 20,
    "start_time": "2022-04-02T07:12:51.898Z"
   },
   {
    "duration": 14,
    "start_time": "2022-04-02T07:12:51.920Z"
   },
   {
    "duration": 4,
    "start_time": "2022-04-02T07:12:51.935Z"
   },
   {
    "duration": 9,
    "start_time": "2022-04-02T07:12:51.940Z"
   },
   {
    "duration": 5,
    "start_time": "2022-04-02T07:12:51.950Z"
   },
   {
    "duration": 15,
    "start_time": "2022-04-02T07:12:51.957Z"
   },
   {
    "duration": 7,
    "start_time": "2022-04-02T07:12:51.974Z"
   },
   {
    "duration": 5,
    "start_time": "2022-04-02T07:12:51.982Z"
   },
   {
    "duration": 7,
    "start_time": "2022-04-02T07:12:51.988Z"
   },
   {
    "duration": 6,
    "start_time": "2022-04-02T07:12:51.996Z"
   },
   {
    "duration": 14,
    "start_time": "2022-04-02T07:12:52.004Z"
   },
   {
    "duration": 9,
    "start_time": "2022-04-02T07:12:52.019Z"
   },
   {
    "duration": 9,
    "start_time": "2022-04-02T07:12:52.030Z"
   },
   {
    "duration": 25,
    "start_time": "2022-04-02T07:12:52.041Z"
   },
   {
    "duration": 26,
    "start_time": "2022-04-02T07:12:52.067Z"
   },
   {
    "duration": 19,
    "start_time": "2022-04-02T07:12:52.094Z"
   },
   {
    "duration": 13,
    "start_time": "2022-04-02T07:12:52.114Z"
   },
   {
    "duration": 84,
    "start_time": "2022-04-02T07:12:52.129Z"
   },
   {
    "duration": 0,
    "start_time": "2022-04-02T07:12:52.215Z"
   },
   {
    "duration": 0,
    "start_time": "2022-04-02T07:12:52.215Z"
   },
   {
    "duration": 0,
    "start_time": "2022-04-02T07:12:52.217Z"
   },
   {
    "duration": 7,
    "start_time": "2022-04-02T07:14:05.782Z"
   },
   {
    "duration": 5,
    "start_time": "2022-04-02T07:15:44.589Z"
   },
   {
    "duration": 3,
    "start_time": "2022-04-02T07:17:19.263Z"
   },
   {
    "duration": 4,
    "start_time": "2022-04-02T07:17:47.050Z"
   },
   {
    "duration": 4,
    "start_time": "2022-04-02T07:19:20.294Z"
   },
   {
    "duration": 185,
    "start_time": "2022-04-02T07:21:29.464Z"
   },
   {
    "duration": 174,
    "start_time": "2022-04-02T07:21:50.147Z"
   },
   {
    "duration": 207,
    "start_time": "2022-04-02T07:22:30.083Z"
   },
   {
    "duration": 208,
    "start_time": "2022-04-02T07:22:57.769Z"
   },
   {
    "duration": 187,
    "start_time": "2022-04-02T07:23:53.825Z"
   },
   {
    "duration": 192,
    "start_time": "2022-04-02T07:24:09.597Z"
   },
   {
    "duration": 192,
    "start_time": "2022-04-02T07:24:30.404Z"
   },
   {
    "duration": 3,
    "start_time": "2022-04-02T07:25:17.104Z"
   },
   {
    "duration": 3,
    "start_time": "2022-04-02T07:25:22.308Z"
   },
   {
    "duration": 214,
    "start_time": "2022-04-02T07:26:02.507Z"
   },
   {
    "duration": 7,
    "start_time": "2022-04-02T07:26:18.530Z"
   },
   {
    "duration": 3,
    "start_time": "2022-04-02T07:26:56.826Z"
   },
   {
    "duration": 7,
    "start_time": "2022-04-02T07:27:06.483Z"
   },
   {
    "duration": 3,
    "start_time": "2022-04-02T07:28:39.028Z"
   },
   {
    "duration": 385,
    "start_time": "2022-04-02T07:29:46.196Z"
   },
   {
    "duration": 157,
    "start_time": "2022-04-02T07:29:46.582Z"
   },
   {
    "duration": 16,
    "start_time": "2022-04-02T07:29:46.740Z"
   },
   {
    "duration": 36,
    "start_time": "2022-04-02T07:29:46.758Z"
   },
   {
    "duration": 7,
    "start_time": "2022-04-02T07:29:46.795Z"
   },
   {
    "duration": 17,
    "start_time": "2022-04-02T07:29:46.804Z"
   },
   {
    "duration": 10,
    "start_time": "2022-04-02T07:29:46.822Z"
   },
   {
    "duration": 28,
    "start_time": "2022-04-02T07:29:46.833Z"
   },
   {
    "duration": 30,
    "start_time": "2022-04-02T07:29:46.863Z"
   },
   {
    "duration": 22,
    "start_time": "2022-04-02T07:29:46.896Z"
   },
   {
    "duration": 71,
    "start_time": "2022-04-02T07:29:46.920Z"
   },
   {
    "duration": 70,
    "start_time": "2022-04-02T07:29:46.992Z"
   },
   {
    "duration": 62,
    "start_time": "2022-04-02T07:29:47.063Z"
   },
   {
    "duration": 7,
    "start_time": "2022-04-02T07:29:47.126Z"
   },
   {
    "duration": 3,
    "start_time": "2022-04-02T07:29:47.134Z"
   },
   {
    "duration": 19,
    "start_time": "2022-04-02T07:29:47.138Z"
   },
   {
    "duration": 24,
    "start_time": "2022-04-02T07:29:47.158Z"
   },
   {
    "duration": 13,
    "start_time": "2022-04-02T07:29:47.183Z"
   },
   {
    "duration": 9,
    "start_time": "2022-04-02T07:29:47.198Z"
   },
   {
    "duration": 3,
    "start_time": "2022-04-02T07:29:47.209Z"
   },
   {
    "duration": 6,
    "start_time": "2022-04-02T07:29:47.213Z"
   },
   {
    "duration": 4,
    "start_time": "2022-04-02T07:29:47.220Z"
   },
   {
    "duration": 4,
    "start_time": "2022-04-02T07:29:47.226Z"
   },
   {
    "duration": 6,
    "start_time": "2022-04-02T07:29:47.231Z"
   },
   {
    "duration": 5,
    "start_time": "2022-04-02T07:29:47.239Z"
   },
   {
    "duration": 37,
    "start_time": "2022-04-02T07:29:47.245Z"
   },
   {
    "duration": 9,
    "start_time": "2022-04-02T07:29:47.283Z"
   },
   {
    "duration": 3,
    "start_time": "2022-04-02T07:29:47.296Z"
   },
   {
    "duration": 24,
    "start_time": "2022-04-02T07:29:47.301Z"
   },
   {
    "duration": 13,
    "start_time": "2022-04-02T07:29:47.327Z"
   },
   {
    "duration": 42,
    "start_time": "2022-04-02T07:29:47.342Z"
   },
   {
    "duration": 15,
    "start_time": "2022-04-02T07:29:47.385Z"
   },
   {
    "duration": 80,
    "start_time": "2022-04-02T07:29:47.402Z"
   },
   {
    "duration": 0,
    "start_time": "2022-04-02T07:29:47.483Z"
   },
   {
    "duration": 0,
    "start_time": "2022-04-02T07:29:47.484Z"
   },
   {
    "duration": 0,
    "start_time": "2022-04-02T07:29:47.485Z"
   },
   {
    "duration": 230,
    "start_time": "2022-04-02T07:32:44.750Z"
   },
   {
    "duration": 6,
    "start_time": "2022-04-02T07:32:59.530Z"
   },
   {
    "duration": 6,
    "start_time": "2022-04-02T07:34:43.778Z"
   },
   {
    "duration": 464,
    "start_time": "2022-04-02T07:35:31.036Z"
   },
   {
    "duration": 432,
    "start_time": "2022-04-02T07:36:15.109Z"
   },
   {
    "duration": 246,
    "start_time": "2022-04-02T07:36:36.864Z"
   },
   {
    "duration": 265,
    "start_time": "2022-04-02T07:37:06.592Z"
   },
   {
    "duration": 320,
    "start_time": "2022-04-02T07:37:23.519Z"
   },
   {
    "duration": 241,
    "start_time": "2022-04-02T07:37:50.520Z"
   },
   {
    "duration": 188,
    "start_time": "2022-04-02T07:38:22.114Z"
   },
   {
    "duration": 194,
    "start_time": "2022-04-02T07:39:29.374Z"
   },
   {
    "duration": 199,
    "start_time": "2022-04-02T07:39:45.173Z"
   },
   {
    "duration": 7,
    "start_time": "2022-04-02T07:40:08.604Z"
   },
   {
    "duration": 200,
    "start_time": "2022-04-02T07:41:09.147Z"
   },
   {
    "duration": 270,
    "start_time": "2022-04-02T07:41:34.562Z"
   },
   {
    "duration": 194,
    "start_time": "2022-04-02T07:41:49.603Z"
   },
   {
    "duration": 195,
    "start_time": "2022-04-02T07:42:14.099Z"
   },
   {
    "duration": 185,
    "start_time": "2022-04-02T07:42:35.390Z"
   },
   {
    "duration": 4,
    "start_time": "2022-04-02T07:43:31.328Z"
   },
   {
    "duration": 8,
    "start_time": "2022-04-02T07:44:33.336Z"
   },
   {
    "duration": 3,
    "start_time": "2022-04-02T07:44:54.585Z"
   },
   {
    "duration": 8,
    "start_time": "2022-04-02T07:45:26.575Z"
   },
   {
    "duration": 3,
    "start_time": "2022-04-02T07:46:52.021Z"
   },
   {
    "duration": 2,
    "start_time": "2022-04-02T07:47:06.064Z"
   },
   {
    "duration": 191,
    "start_time": "2022-04-02T07:48:57.825Z"
   },
   {
    "duration": 6,
    "start_time": "2022-04-02T07:49:09.507Z"
   },
   {
    "duration": 192,
    "start_time": "2022-04-02T07:49:56.858Z"
   },
   {
    "duration": 202,
    "start_time": "2022-04-02T07:50:21.307Z"
   },
   {
    "duration": 6,
    "start_time": "2022-04-02T07:50:45.158Z"
   },
   {
    "duration": 6,
    "start_time": "2022-04-02T07:51:25.619Z"
   },
   {
    "duration": 3,
    "start_time": "2022-04-02T07:51:39.908Z"
   },
   {
    "duration": 181,
    "start_time": "2022-04-02T07:51:53.372Z"
   },
   {
    "duration": 175,
    "start_time": "2022-04-02T07:52:09.467Z"
   },
   {
    "duration": 198,
    "start_time": "2022-04-02T07:52:23.363Z"
   },
   {
    "duration": 6,
    "start_time": "2022-04-02T07:52:40.778Z"
   },
   {
    "duration": 3,
    "start_time": "2022-04-02T07:53:33.920Z"
   },
   {
    "duration": 206,
    "start_time": "2022-04-02T07:53:54.104Z"
   },
   {
    "duration": 6,
    "start_time": "2022-04-02T07:54:03.766Z"
   },
   {
    "duration": 4,
    "start_time": "2022-04-02T07:54:30.749Z"
   },
   {
    "duration": 4,
    "start_time": "2022-04-02T07:54:37.836Z"
   },
   {
    "duration": 189,
    "start_time": "2022-04-02T07:56:45.798Z"
   },
   {
    "duration": 200,
    "start_time": "2022-04-02T07:57:00.194Z"
   },
   {
    "duration": 192,
    "start_time": "2022-04-02T07:57:25.104Z"
   },
   {
    "duration": 194,
    "start_time": "2022-04-02T07:57:35.161Z"
   },
   {
    "duration": 6,
    "start_time": "2022-04-02T08:00:25.424Z"
   },
   {
    "duration": 37,
    "start_time": "2022-04-02T08:03:48.857Z"
   },
   {
    "duration": 8,
    "start_time": "2022-04-02T08:05:08.181Z"
   },
   {
    "duration": 3,
    "start_time": "2022-04-02T08:05:47.500Z"
   },
   {
    "duration": 3,
    "start_time": "2022-04-02T08:07:29.318Z"
   },
   {
    "duration": 2,
    "start_time": "2022-04-02T08:08:07.082Z"
   },
   {
    "duration": 2,
    "start_time": "2022-04-02T08:10:37.523Z"
   },
   {
    "duration": 3,
    "start_time": "2022-04-02T08:10:42.329Z"
   },
   {
    "duration": 3,
    "start_time": "2022-04-02T08:11:18.330Z"
   },
   {
    "duration": 2,
    "start_time": "2022-04-02T08:11:20.335Z"
   },
   {
    "duration": 266,
    "start_time": "2022-04-02T08:11:22.147Z"
   },
   {
    "duration": 2,
    "start_time": "2022-04-02T08:11:36.011Z"
   },
   {
    "duration": 3,
    "start_time": "2022-04-02T08:11:44.330Z"
   },
   {
    "duration": 5,
    "start_time": "2022-04-02T08:11:53.637Z"
   },
   {
    "duration": 8,
    "start_time": "2022-04-02T08:12:44.094Z"
   },
   {
    "duration": 8,
    "start_time": "2022-04-02T08:13:10.129Z"
   },
   {
    "duration": 3,
    "start_time": "2022-04-02T08:14:13.413Z"
   },
   {
    "duration": 3,
    "start_time": "2022-04-02T08:14:15.018Z"
   },
   {
    "duration": 3,
    "start_time": "2022-04-02T08:14:15.960Z"
   },
   {
    "duration": 2,
    "start_time": "2022-04-02T08:14:16.863Z"
   },
   {
    "duration": 4,
    "start_time": "2022-04-02T08:15:32.481Z"
   },
   {
    "duration": 4,
    "start_time": "2022-04-02T08:16:42.539Z"
   },
   {
    "duration": 8,
    "start_time": "2022-04-02T08:16:54.940Z"
   },
   {
    "duration": 4,
    "start_time": "2022-04-02T08:17:17.055Z"
   },
   {
    "duration": 9,
    "start_time": "2022-04-02T08:17:34.095Z"
   },
   {
    "duration": 39,
    "start_time": "2022-04-02T08:19:26.175Z"
   },
   {
    "duration": 37,
    "start_time": "2022-04-02T08:20:33.710Z"
   },
   {
    "duration": 7,
    "start_time": "2022-04-02T08:21:00.263Z"
   },
   {
    "duration": 343,
    "start_time": "2022-04-02T08:24:57.327Z"
   },
   {
    "duration": 140,
    "start_time": "2022-04-02T08:24:57.671Z"
   },
   {
    "duration": 17,
    "start_time": "2022-04-02T08:24:57.813Z"
   },
   {
    "duration": 27,
    "start_time": "2022-04-02T08:24:57.831Z"
   },
   {
    "duration": 22,
    "start_time": "2022-04-02T08:24:57.859Z"
   },
   {
    "duration": 12,
    "start_time": "2022-04-02T08:24:57.882Z"
   },
   {
    "duration": 6,
    "start_time": "2022-04-02T08:24:57.895Z"
   },
   {
    "duration": 27,
    "start_time": "2022-04-02T08:24:57.902Z"
   },
   {
    "duration": 16,
    "start_time": "2022-04-02T08:24:57.930Z"
   },
   {
    "duration": 42,
    "start_time": "2022-04-02T08:24:57.948Z"
   },
   {
    "duration": 59,
    "start_time": "2022-04-02T08:24:57.992Z"
   },
   {
    "duration": 88,
    "start_time": "2022-04-02T08:24:58.053Z"
   },
   {
    "duration": 61,
    "start_time": "2022-04-02T08:24:58.143Z"
   },
   {
    "duration": 36,
    "start_time": "2022-04-02T08:24:58.205Z"
   },
   {
    "duration": 2,
    "start_time": "2022-04-02T08:24:58.243Z"
   },
   {
    "duration": 35,
    "start_time": "2022-04-02T08:24:58.247Z"
   },
   {
    "duration": 8,
    "start_time": "2022-04-02T08:24:58.283Z"
   },
   {
    "duration": 12,
    "start_time": "2022-04-02T08:24:58.292Z"
   },
   {
    "duration": 11,
    "start_time": "2022-04-02T08:24:58.305Z"
   },
   {
    "duration": 3,
    "start_time": "2022-04-02T08:24:58.318Z"
   },
   {
    "duration": 6,
    "start_time": "2022-04-02T08:24:58.322Z"
   },
   {
    "duration": 6,
    "start_time": "2022-04-02T08:24:58.329Z"
   },
   {
    "duration": 7,
    "start_time": "2022-04-02T08:24:58.336Z"
   },
   {
    "duration": 36,
    "start_time": "2022-04-02T08:24:58.345Z"
   },
   {
    "duration": 3,
    "start_time": "2022-04-02T08:24:58.382Z"
   },
   {
    "duration": 12,
    "start_time": "2022-04-02T08:24:58.387Z"
   },
   {
    "duration": 14,
    "start_time": "2022-04-02T08:24:58.401Z"
   },
   {
    "duration": 9,
    "start_time": "2022-04-02T08:24:58.418Z"
   },
   {
    "duration": 4,
    "start_time": "2022-04-02T08:24:58.428Z"
   },
   {
    "duration": 27,
    "start_time": "2022-04-02T08:24:58.434Z"
   },
   {
    "duration": 26,
    "start_time": "2022-04-02T08:24:58.462Z"
   },
   {
    "duration": 17,
    "start_time": "2022-04-02T08:24:58.490Z"
   },
   {
    "duration": 14,
    "start_time": "2022-04-02T08:24:58.509Z"
   },
   {
    "duration": 91,
    "start_time": "2022-04-02T08:24:58.524Z"
   },
   {
    "duration": 0,
    "start_time": "2022-04-02T08:24:58.616Z"
   },
   {
    "duration": 0,
    "start_time": "2022-04-02T08:24:58.618Z"
   },
   {
    "duration": 0,
    "start_time": "2022-04-02T08:24:58.619Z"
   },
   {
    "duration": 4,
    "start_time": "2022-04-02T08:31:26.379Z"
   },
   {
    "duration": 3,
    "start_time": "2022-04-02T08:32:51.710Z"
   },
   {
    "duration": 3,
    "start_time": "2022-04-02T08:33:15.589Z"
   },
   {
    "duration": 4,
    "start_time": "2022-04-02T08:33:45.018Z"
   },
   {
    "duration": 9,
    "start_time": "2022-04-02T08:35:11.356Z"
   },
   {
    "duration": 4,
    "start_time": "2022-04-02T08:36:54.813Z"
   },
   {
    "duration": 4,
    "start_time": "2022-04-02T08:37:04.375Z"
   },
   {
    "duration": 7,
    "start_time": "2022-04-02T08:46:09.122Z"
   },
   {
    "duration": 390,
    "start_time": "2022-04-02T08:46:32.815Z"
   },
   {
    "duration": 152,
    "start_time": "2022-04-02T08:46:33.207Z"
   },
   {
    "duration": 29,
    "start_time": "2022-04-02T08:46:33.361Z"
   },
   {
    "duration": 28,
    "start_time": "2022-04-02T08:46:33.392Z"
   },
   {
    "duration": 4,
    "start_time": "2022-04-02T08:46:33.421Z"
   },
   {
    "duration": 13,
    "start_time": "2022-04-02T08:46:33.426Z"
   },
   {
    "duration": 4,
    "start_time": "2022-04-02T08:46:33.440Z"
   },
   {
    "duration": 53,
    "start_time": "2022-04-02T08:46:33.445Z"
   },
   {
    "duration": 16,
    "start_time": "2022-04-02T08:46:33.499Z"
   },
   {
    "duration": 21,
    "start_time": "2022-04-02T08:46:33.518Z"
   },
   {
    "duration": 76,
    "start_time": "2022-04-02T08:46:33.540Z"
   },
   {
    "duration": 79,
    "start_time": "2022-04-02T08:46:33.617Z"
   },
   {
    "duration": 54,
    "start_time": "2022-04-02T08:46:33.697Z"
   },
   {
    "duration": 47,
    "start_time": "2022-04-02T08:46:33.752Z"
   },
   {
    "duration": 3,
    "start_time": "2022-04-02T08:46:33.801Z"
   },
   {
    "duration": 32,
    "start_time": "2022-04-02T08:46:33.805Z"
   },
   {
    "duration": 7,
    "start_time": "2022-04-02T08:46:33.838Z"
   },
   {
    "duration": 13,
    "start_time": "2022-04-02T08:46:33.846Z"
   },
   {
    "duration": 22,
    "start_time": "2022-04-02T08:46:33.861Z"
   },
   {
    "duration": 3,
    "start_time": "2022-04-02T08:46:33.885Z"
   },
   {
    "duration": 6,
    "start_time": "2022-04-02T08:46:33.890Z"
   },
   {
    "duration": 7,
    "start_time": "2022-04-02T08:46:33.897Z"
   },
   {
    "duration": 7,
    "start_time": "2022-04-02T08:46:33.905Z"
   },
   {
    "duration": 5,
    "start_time": "2022-04-02T08:46:33.914Z"
   },
   {
    "duration": 5,
    "start_time": "2022-04-02T08:46:33.920Z"
   },
   {
    "duration": 7,
    "start_time": "2022-04-02T08:46:33.926Z"
   },
   {
    "duration": 17,
    "start_time": "2022-04-02T08:46:33.934Z"
   },
   {
    "duration": 8,
    "start_time": "2022-04-02T08:46:33.954Z"
   },
   {
    "duration": 4,
    "start_time": "2022-04-02T08:46:33.963Z"
   },
   {
    "duration": 18,
    "start_time": "2022-04-02T08:46:33.981Z"
   },
   {
    "duration": 14,
    "start_time": "2022-04-02T08:46:34.000Z"
   },
   {
    "duration": 17,
    "start_time": "2022-04-02T08:46:34.016Z"
   },
   {
    "duration": 14,
    "start_time": "2022-04-02T08:46:34.034Z"
   },
   {
    "duration": 92,
    "start_time": "2022-04-02T08:46:34.050Z"
   },
   {
    "duration": 0,
    "start_time": "2022-04-02T08:46:34.143Z"
   },
   {
    "duration": 0,
    "start_time": "2022-04-02T08:46:34.145Z"
   },
   {
    "duration": 0,
    "start_time": "2022-04-02T08:46:34.146Z"
   },
   {
    "duration": 8,
    "start_time": "2022-04-02T08:46:47.881Z"
   },
   {
    "duration": 8,
    "start_time": "2022-04-02T08:47:14.514Z"
   },
   {
    "duration": 11,
    "start_time": "2022-04-02T08:47:46.280Z"
   },
   {
    "duration": 4,
    "start_time": "2022-04-02T08:55:11.142Z"
   },
   {
    "duration": 4,
    "start_time": "2022-04-02T08:57:48.428Z"
   },
   {
    "duration": 3,
    "start_time": "2022-04-02T09:00:54.276Z"
   },
   {
    "duration": 2,
    "start_time": "2022-04-02T09:00:56.334Z"
   },
   {
    "duration": 3,
    "start_time": "2022-04-02T09:00:57.365Z"
   },
   {
    "duration": 2,
    "start_time": "2022-04-02T09:00:58.513Z"
   },
   {
    "duration": 3,
    "start_time": "2022-04-02T09:01:01.462Z"
   },
   {
    "duration": 5,
    "start_time": "2022-04-02T09:01:13.290Z"
   },
   {
    "duration": 11,
    "start_time": "2022-04-02T09:18:04.011Z"
   },
   {
    "duration": 9,
    "start_time": "2022-04-02T09:21:13.458Z"
   },
   {
    "duration": 7,
    "start_time": "2022-04-02T09:22:30.079Z"
   },
   {
    "duration": 8,
    "start_time": "2022-04-02T09:50:12.928Z"
   },
   {
    "duration": 2,
    "start_time": "2022-04-02T09:51:21.557Z"
   },
   {
    "duration": 3,
    "start_time": "2022-04-02T09:51:30.791Z"
   },
   {
    "duration": 7,
    "start_time": "2022-04-02T09:52:26.875Z"
   },
   {
    "duration": 3,
    "start_time": "2022-04-02T09:53:37.894Z"
   },
   {
    "duration": 2,
    "start_time": "2022-04-02T09:53:40.358Z"
   },
   {
    "duration": 2,
    "start_time": "2022-04-02T09:53:41.321Z"
   },
   {
    "duration": 3,
    "start_time": "2022-04-02T09:53:43.614Z"
   },
   {
    "duration": 5,
    "start_time": "2022-04-02T09:54:51.721Z"
   },
   {
    "duration": 4,
    "start_time": "2022-04-02T09:56:24.394Z"
   },
   {
    "duration": 6,
    "start_time": "2022-04-02T09:58:27.700Z"
   },
   {
    "duration": 8,
    "start_time": "2022-04-02T09:58:43.882Z"
   },
   {
    "duration": 4,
    "start_time": "2022-04-02T10:01:29.753Z"
   },
   {
    "duration": 8,
    "start_time": "2022-04-02T10:01:58.254Z"
   },
   {
    "duration": 8,
    "start_time": "2022-04-02T10:02:22.475Z"
   },
   {
    "duration": 363,
    "start_time": "2022-04-02T10:02:53.213Z"
   },
   {
    "duration": 154,
    "start_time": "2022-04-02T10:02:53.578Z"
   },
   {
    "duration": 16,
    "start_time": "2022-04-02T10:02:53.733Z"
   },
   {
    "duration": 35,
    "start_time": "2022-04-02T10:02:53.751Z"
   },
   {
    "duration": 4,
    "start_time": "2022-04-02T10:02:53.788Z"
   },
   {
    "duration": 12,
    "start_time": "2022-04-02T10:02:53.794Z"
   },
   {
    "duration": 6,
    "start_time": "2022-04-02T10:02:53.808Z"
   },
   {
    "duration": 24,
    "start_time": "2022-04-02T10:02:53.816Z"
   },
   {
    "duration": 45,
    "start_time": "2022-04-02T10:02:53.842Z"
   },
   {
    "duration": 21,
    "start_time": "2022-04-02T10:02:53.889Z"
   },
   {
    "duration": 74,
    "start_time": "2022-04-02T10:02:53.911Z"
   },
   {
    "duration": 67,
    "start_time": "2022-04-02T10:02:53.987Z"
   },
   {
    "duration": 64,
    "start_time": "2022-04-02T10:02:54.055Z"
   },
   {
    "duration": 36,
    "start_time": "2022-04-02T10:02:54.121Z"
   },
   {
    "duration": 3,
    "start_time": "2022-04-02T10:02:54.158Z"
   },
   {
    "duration": 34,
    "start_time": "2022-04-02T10:02:54.162Z"
   },
   {
    "duration": 7,
    "start_time": "2022-04-02T10:02:54.197Z"
   },
   {
    "duration": 13,
    "start_time": "2022-04-02T10:02:54.205Z"
   },
   {
    "duration": 9,
    "start_time": "2022-04-02T10:02:54.220Z"
   },
   {
    "duration": 3,
    "start_time": "2022-04-02T10:02:54.231Z"
   },
   {
    "duration": 9,
    "start_time": "2022-04-02T10:02:54.235Z"
   },
   {
    "duration": 5,
    "start_time": "2022-04-02T10:02:54.245Z"
   },
   {
    "duration": 8,
    "start_time": "2022-04-02T10:02:54.251Z"
   },
   {
    "duration": 21,
    "start_time": "2022-04-02T10:02:54.260Z"
   },
   {
    "duration": 13,
    "start_time": "2022-04-02T10:02:54.282Z"
   },
   {
    "duration": 4,
    "start_time": "2022-04-02T10:02:54.474Z"
   },
   {
    "duration": 195,
    "start_time": "2022-04-02T10:02:54.480Z"
   },
   {
    "duration": 0,
    "start_time": "2022-04-02T10:02:54.677Z"
   },
   {
    "duration": 0,
    "start_time": "2022-04-02T10:02:54.678Z"
   },
   {
    "duration": 0,
    "start_time": "2022-04-02T10:02:54.679Z"
   },
   {
    "duration": 0,
    "start_time": "2022-04-02T10:02:54.680Z"
   },
   {
    "duration": 0,
    "start_time": "2022-04-02T10:02:54.680Z"
   },
   {
    "duration": 0,
    "start_time": "2022-04-02T10:02:54.682Z"
   },
   {
    "duration": 0,
    "start_time": "2022-04-02T10:02:54.683Z"
   },
   {
    "duration": 0,
    "start_time": "2022-04-02T10:02:54.684Z"
   },
   {
    "duration": 0,
    "start_time": "2022-04-02T10:02:54.685Z"
   },
   {
    "duration": 0,
    "start_time": "2022-04-02T10:02:54.686Z"
   },
   {
    "duration": 0,
    "start_time": "2022-04-02T10:02:54.686Z"
   },
   {
    "duration": 69,
    "start_time": "2022-04-02T10:04:06.961Z"
   },
   {
    "duration": 7,
    "start_time": "2022-04-02T10:05:40.611Z"
   },
   {
    "duration": 7,
    "start_time": "2022-04-02T10:06:45.086Z"
   },
   {
    "duration": 6,
    "start_time": "2022-04-02T10:14:23.741Z"
   },
   {
    "duration": 6,
    "start_time": "2022-04-02T10:15:20.042Z"
   },
   {
    "duration": 4,
    "start_time": "2022-04-02T10:16:09.014Z"
   },
   {
    "duration": 6,
    "start_time": "2022-04-02T10:20:33.841Z"
   },
   {
    "duration": 7,
    "start_time": "2022-04-02T10:20:35.944Z"
   },
   {
    "duration": 6,
    "start_time": "2022-04-02T10:20:37.938Z"
   },
   {
    "duration": 374,
    "start_time": "2022-04-02T10:22:27.636Z"
   },
   {
    "duration": 141,
    "start_time": "2022-04-02T10:22:28.012Z"
   },
   {
    "duration": 16,
    "start_time": "2022-04-02T10:22:28.155Z"
   },
   {
    "duration": 29,
    "start_time": "2022-04-02T10:22:28.181Z"
   },
   {
    "duration": 5,
    "start_time": "2022-04-02T10:22:28.212Z"
   },
   {
    "duration": 15,
    "start_time": "2022-04-02T10:22:28.218Z"
   },
   {
    "duration": 10,
    "start_time": "2022-04-02T10:22:28.234Z"
   },
   {
    "duration": 43,
    "start_time": "2022-04-02T10:22:28.245Z"
   },
   {
    "duration": 18,
    "start_time": "2022-04-02T10:22:28.290Z"
   },
   {
    "duration": 24,
    "start_time": "2022-04-02T10:22:28.311Z"
   },
   {
    "duration": 82,
    "start_time": "2022-04-02T10:22:28.337Z"
   },
   {
    "duration": 78,
    "start_time": "2022-04-02T10:22:28.420Z"
   },
   {
    "duration": 55,
    "start_time": "2022-04-02T10:22:28.500Z"
   },
   {
    "duration": 54,
    "start_time": "2022-04-02T10:22:28.556Z"
   },
   {
    "duration": 3,
    "start_time": "2022-04-02T10:22:28.611Z"
   },
   {
    "duration": 21,
    "start_time": "2022-04-02T10:22:28.615Z"
   },
   {
    "duration": 7,
    "start_time": "2022-04-02T10:22:28.637Z"
   },
   {
    "duration": 11,
    "start_time": "2022-04-02T10:22:28.645Z"
   },
   {
    "duration": 31,
    "start_time": "2022-04-02T10:22:28.658Z"
   },
   {
    "duration": 3,
    "start_time": "2022-04-02T10:22:28.690Z"
   },
   {
    "duration": 7,
    "start_time": "2022-04-02T10:22:28.694Z"
   },
   {
    "duration": 6,
    "start_time": "2022-04-02T10:22:28.702Z"
   },
   {
    "duration": 5,
    "start_time": "2022-04-02T10:22:28.709Z"
   },
   {
    "duration": 5,
    "start_time": "2022-04-02T10:22:28.715Z"
   },
   {
    "duration": 8,
    "start_time": "2022-04-02T10:22:28.722Z"
   },
   {
    "duration": 6,
    "start_time": "2022-04-02T10:22:28.731Z"
   },
   {
    "duration": 10,
    "start_time": "2022-04-02T10:22:28.740Z"
   },
   {
    "duration": 9,
    "start_time": "2022-04-02T10:22:28.751Z"
   },
   {
    "duration": 4,
    "start_time": "2022-04-02T10:22:28.780Z"
   },
   {
    "duration": 27,
    "start_time": "2022-04-02T10:22:28.785Z"
   },
   {
    "duration": 14,
    "start_time": "2022-04-02T10:22:28.814Z"
   },
   {
    "duration": 16,
    "start_time": "2022-04-02T10:22:28.830Z"
   },
   {
    "duration": 34,
    "start_time": "2022-04-02T10:22:28.848Z"
   },
   {
    "duration": 65,
    "start_time": "2022-04-02T10:22:28.884Z"
   },
   {
    "duration": 0,
    "start_time": "2022-04-02T10:22:28.951Z"
   },
   {
    "duration": 0,
    "start_time": "2022-04-02T10:22:28.953Z"
   },
   {
    "duration": 0,
    "start_time": "2022-04-02T10:22:28.954Z"
   },
   {
    "duration": 7,
    "start_time": "2022-04-02T10:31:13.854Z"
   },
   {
    "duration": 3,
    "start_time": "2022-04-02T10:31:36.315Z"
   },
   {
    "duration": 222,
    "start_time": "2022-04-02T10:33:19.733Z"
   },
   {
    "duration": 191,
    "start_time": "2022-04-02T10:34:38.502Z"
   },
   {
    "duration": 3,
    "start_time": "2022-04-02T10:35:32.815Z"
   },
   {
    "duration": 4,
    "start_time": "2022-04-02T10:36:26.843Z"
   },
   {
    "duration": 256,
    "start_time": "2022-04-02T10:36:39.440Z"
   },
   {
    "duration": 186,
    "start_time": "2022-04-02T10:37:03.081Z"
   },
   {
    "duration": 6,
    "start_time": "2022-04-02T10:38:09.766Z"
   },
   {
    "duration": 6,
    "start_time": "2022-04-02T10:38:45.497Z"
   },
   {
    "duration": 3,
    "start_time": "2022-04-02T10:39:09.324Z"
   },
   {
    "duration": 4,
    "start_time": "2022-04-02T10:39:40.864Z"
   },
   {
    "duration": 6,
    "start_time": "2022-04-02T10:41:04.133Z"
   },
   {
    "duration": 6,
    "start_time": "2022-04-02T10:41:33.052Z"
   },
   {
    "duration": 3,
    "start_time": "2022-04-02T10:43:58.780Z"
   },
   {
    "duration": 4,
    "start_time": "2022-04-02T10:44:57.035Z"
   },
   {
    "duration": 200,
    "start_time": "2022-04-02T10:46:09.585Z"
   },
   {
    "duration": 3,
    "start_time": "2022-04-02T10:46:19.431Z"
   },
   {
    "duration": 4,
    "start_time": "2022-04-02T10:47:33.330Z"
   },
   {
    "duration": 7,
    "start_time": "2022-04-02T10:49:04.456Z"
   },
   {
    "duration": 3,
    "start_time": "2022-04-02T10:52:45.133Z"
   },
   {
    "duration": 4,
    "start_time": "2022-04-02T10:53:44.058Z"
   },
   {
    "duration": 4,
    "start_time": "2022-04-02T10:53:59.523Z"
   },
   {
    "duration": 5,
    "start_time": "2022-04-02T10:54:20.701Z"
   },
   {
    "duration": 383,
    "start_time": "2022-04-02T10:54:35.499Z"
   },
   {
    "duration": 142,
    "start_time": "2022-04-02T10:54:35.884Z"
   },
   {
    "duration": 16,
    "start_time": "2022-04-02T10:54:36.028Z"
   },
   {
    "duration": 43,
    "start_time": "2022-04-02T10:54:36.046Z"
   },
   {
    "duration": 4,
    "start_time": "2022-04-02T10:54:36.091Z"
   },
   {
    "duration": 13,
    "start_time": "2022-04-02T10:54:36.096Z"
   },
   {
    "duration": 7,
    "start_time": "2022-04-02T10:54:36.110Z"
   },
   {
    "duration": 25,
    "start_time": "2022-04-02T10:54:36.118Z"
   },
   {
    "duration": 39,
    "start_time": "2022-04-02T10:54:36.144Z"
   },
   {
    "duration": 23,
    "start_time": "2022-04-02T10:54:36.185Z"
   },
   {
    "duration": 72,
    "start_time": "2022-04-02T10:54:36.210Z"
   },
   {
    "duration": 65,
    "start_time": "2022-04-02T10:54:36.283Z"
   },
   {
    "duration": 66,
    "start_time": "2022-04-02T10:54:36.350Z"
   },
   {
    "duration": 36,
    "start_time": "2022-04-02T10:54:36.418Z"
   },
   {
    "duration": 3,
    "start_time": "2022-04-02T10:54:36.455Z"
   },
   {
    "duration": 35,
    "start_time": "2022-04-02T10:54:36.459Z"
   },
   {
    "duration": 7,
    "start_time": "2022-04-02T10:54:36.496Z"
   },
   {
    "duration": 10,
    "start_time": "2022-04-02T10:54:36.504Z"
   },
   {
    "duration": 10,
    "start_time": "2022-04-02T10:54:36.515Z"
   },
   {
    "duration": 4,
    "start_time": "2022-04-02T10:54:36.526Z"
   },
   {
    "duration": 14,
    "start_time": "2022-04-02T10:54:36.531Z"
   },
   {
    "duration": 35,
    "start_time": "2022-04-02T10:54:36.546Z"
   },
   {
    "duration": 10,
    "start_time": "2022-04-02T10:54:36.583Z"
   },
   {
    "duration": 10,
    "start_time": "2022-04-02T10:54:36.594Z"
   },
   {
    "duration": 10,
    "start_time": "2022-04-02T10:54:36.606Z"
   },
   {
    "duration": 12,
    "start_time": "2022-04-02T10:54:36.617Z"
   },
   {
    "duration": 6,
    "start_time": "2022-04-02T10:54:36.631Z"
   },
   {
    "duration": 9,
    "start_time": "2022-04-02T10:54:36.640Z"
   },
   {
    "duration": 8,
    "start_time": "2022-04-02T10:54:36.651Z"
   },
   {
    "duration": 3,
    "start_time": "2022-04-02T10:54:36.681Z"
   },
   {
    "duration": 25,
    "start_time": "2022-04-02T10:54:36.685Z"
   },
   {
    "duration": 14,
    "start_time": "2022-04-02T10:54:36.711Z"
   },
   {
    "duration": 16,
    "start_time": "2022-04-02T10:54:36.726Z"
   },
   {
    "duration": 13,
    "start_time": "2022-04-02T10:54:36.744Z"
   },
   {
    "duration": 64,
    "start_time": "2022-04-02T10:54:36.781Z"
   },
   {
    "duration": 0,
    "start_time": "2022-04-02T10:54:36.846Z"
   },
   {
    "duration": 0,
    "start_time": "2022-04-02T10:54:36.848Z"
   },
   {
    "duration": 0,
    "start_time": "2022-04-02T10:54:36.849Z"
   },
   {
    "duration": 9,
    "start_time": "2022-04-02T10:54:59.882Z"
   },
   {
    "duration": 9,
    "start_time": "2022-04-02T10:55:09.178Z"
   },
   {
    "duration": 9,
    "start_time": "2022-04-02T10:55:10.605Z"
   },
   {
    "duration": 8,
    "start_time": "2022-04-02T10:55:11.844Z"
   },
   {
    "duration": 9,
    "start_time": "2022-04-02T10:55:13.727Z"
   },
   {
    "duration": 4,
    "start_time": "2022-04-02T10:55:24.239Z"
   },
   {
    "duration": 8,
    "start_time": "2022-04-02T10:56:11.132Z"
   },
   {
    "duration": 12,
    "start_time": "2022-04-02T10:56:39.573Z"
   },
   {
    "duration": 8,
    "start_time": "2022-04-02T10:57:00.682Z"
   },
   {
    "duration": 3,
    "start_time": "2022-04-02T11:01:25.519Z"
   },
   {
    "duration": 9,
    "start_time": "2022-04-02T11:03:21.898Z"
   },
   {
    "duration": 9,
    "start_time": "2022-04-02T11:03:33.393Z"
   },
   {
    "duration": 8,
    "start_time": "2022-04-02T11:04:32.116Z"
   },
   {
    "duration": 8,
    "start_time": "2022-04-02T11:05:06.592Z"
   },
   {
    "duration": 399,
    "start_time": "2022-04-02T11:05:34.781Z"
   },
   {
    "duration": 157,
    "start_time": "2022-04-02T11:05:35.182Z"
   },
   {
    "duration": 16,
    "start_time": "2022-04-02T11:05:35.341Z"
   },
   {
    "duration": 36,
    "start_time": "2022-04-02T11:05:35.359Z"
   },
   {
    "duration": 6,
    "start_time": "2022-04-02T11:05:35.397Z"
   },
   {
    "duration": 21,
    "start_time": "2022-04-02T11:05:35.404Z"
   },
   {
    "duration": 13,
    "start_time": "2022-04-02T11:05:35.426Z"
   },
   {
    "duration": 35,
    "start_time": "2022-04-02T11:05:35.440Z"
   },
   {
    "duration": 26,
    "start_time": "2022-04-02T11:05:35.476Z"
   },
   {
    "duration": 29,
    "start_time": "2022-04-02T11:05:35.504Z"
   },
   {
    "duration": 75,
    "start_time": "2022-04-02T11:05:35.534Z"
   },
   {
    "duration": 76,
    "start_time": "2022-04-02T11:05:35.610Z"
   },
   {
    "duration": 53,
    "start_time": "2022-04-02T11:05:35.688Z"
   },
   {
    "duration": 50,
    "start_time": "2022-04-02T11:05:35.743Z"
   },
   {
    "duration": 2,
    "start_time": "2022-04-02T11:05:35.795Z"
   },
   {
    "duration": 28,
    "start_time": "2022-04-02T11:05:35.799Z"
   },
   {
    "duration": 6,
    "start_time": "2022-04-02T11:05:35.829Z"
   },
   {
    "duration": 12,
    "start_time": "2022-04-02T11:05:35.837Z"
   },
   {
    "duration": 13,
    "start_time": "2022-04-02T11:05:35.850Z"
   },
   {
    "duration": 17,
    "start_time": "2022-04-02T11:05:35.864Z"
   },
   {
    "duration": 9,
    "start_time": "2022-04-02T11:05:35.882Z"
   },
   {
    "duration": 11,
    "start_time": "2022-04-02T11:05:35.892Z"
   },
   {
    "duration": 15,
    "start_time": "2022-04-02T11:05:35.904Z"
   },
   {
    "duration": 12,
    "start_time": "2022-04-02T11:05:35.920Z"
   },
   {
    "duration": 11,
    "start_time": "2022-04-02T11:05:35.933Z"
   },
   {
    "duration": 10,
    "start_time": "2022-04-02T11:05:35.945Z"
   },
   {
    "duration": 24,
    "start_time": "2022-04-02T11:05:35.957Z"
   },
   {
    "duration": 10,
    "start_time": "2022-04-02T11:05:35.984Z"
   },
   {
    "duration": 13,
    "start_time": "2022-04-02T11:05:35.995Z"
   },
   {
    "duration": 19,
    "start_time": "2022-04-02T11:05:36.010Z"
   },
   {
    "duration": 32,
    "start_time": "2022-04-02T11:05:36.031Z"
   },
   {
    "duration": 13,
    "start_time": "2022-04-02T11:05:36.065Z"
   },
   {
    "duration": 33,
    "start_time": "2022-04-02T11:05:36.080Z"
   },
   {
    "duration": 14,
    "start_time": "2022-04-02T11:05:36.114Z"
   },
   {
    "duration": 64,
    "start_time": "2022-04-02T11:05:36.130Z"
   },
   {
    "duration": 0,
    "start_time": "2022-04-02T11:05:36.196Z"
   },
   {
    "duration": 0,
    "start_time": "2022-04-02T11:05:36.197Z"
   },
   {
    "duration": 0,
    "start_time": "2022-04-02T11:05:36.198Z"
   },
   {
    "duration": 12,
    "start_time": "2022-04-02T11:06:01.258Z"
   },
   {
    "duration": 13,
    "start_time": "2022-04-02T11:06:17.271Z"
   },
   {
    "duration": 387,
    "start_time": "2022-04-02T11:06:34.194Z"
   },
   {
    "duration": 143,
    "start_time": "2022-04-02T11:06:34.583Z"
   },
   {
    "duration": 16,
    "start_time": "2022-04-02T11:06:34.728Z"
   },
   {
    "duration": 42,
    "start_time": "2022-04-02T11:06:34.746Z"
   },
   {
    "duration": 8,
    "start_time": "2022-04-02T11:06:34.790Z"
   },
   {
    "duration": 15,
    "start_time": "2022-04-02T11:06:34.799Z"
   },
   {
    "duration": 12,
    "start_time": "2022-04-02T11:06:34.815Z"
   },
   {
    "duration": 29,
    "start_time": "2022-04-02T11:06:34.828Z"
   },
   {
    "duration": 25,
    "start_time": "2022-04-02T11:06:34.858Z"
   },
   {
    "duration": 21,
    "start_time": "2022-04-02T11:06:34.886Z"
   },
   {
    "duration": 61,
    "start_time": "2022-04-02T11:06:34.908Z"
   },
   {
    "duration": 75,
    "start_time": "2022-04-02T11:06:34.971Z"
   },
   {
    "duration": 62,
    "start_time": "2022-04-02T11:06:35.048Z"
   },
   {
    "duration": 37,
    "start_time": "2022-04-02T11:06:35.112Z"
   },
   {
    "duration": 15,
    "start_time": "2022-04-02T11:06:35.151Z"
   },
   {
    "duration": 26,
    "start_time": "2022-04-02T11:06:35.167Z"
   },
   {
    "duration": 17,
    "start_time": "2022-04-02T11:06:35.195Z"
   },
   {
    "duration": 20,
    "start_time": "2022-04-02T11:06:35.213Z"
   },
   {
    "duration": 18,
    "start_time": "2022-04-02T11:06:35.235Z"
   },
   {
    "duration": 11,
    "start_time": "2022-04-02T11:06:35.254Z"
   },
   {
    "duration": 20,
    "start_time": "2022-04-02T11:06:35.266Z"
   },
   {
    "duration": 26,
    "start_time": "2022-04-02T11:06:35.288Z"
   },
   {
    "duration": 29,
    "start_time": "2022-04-02T11:06:35.315Z"
   },
   {
    "duration": 19,
    "start_time": "2022-04-02T11:06:35.346Z"
   },
   {
    "duration": 30,
    "start_time": "2022-04-02T11:06:35.366Z"
   },
   {
    "duration": 21,
    "start_time": "2022-04-02T11:06:35.397Z"
   },
   {
    "duration": 32,
    "start_time": "2022-04-02T11:06:35.420Z"
   },
   {
    "duration": 31,
    "start_time": "2022-04-02T11:06:35.455Z"
   },
   {
    "duration": 32,
    "start_time": "2022-04-02T11:06:35.488Z"
   },
   {
    "duration": 30,
    "start_time": "2022-04-02T11:06:35.522Z"
   },
   {
    "duration": 65,
    "start_time": "2022-04-02T11:06:35.554Z"
   },
   {
    "duration": 24,
    "start_time": "2022-04-02T11:06:35.621Z"
   },
   {
    "duration": 33,
    "start_time": "2022-04-02T11:06:35.647Z"
   },
   {
    "duration": 13,
    "start_time": "2022-04-02T11:06:35.681Z"
   },
   {
    "duration": 79,
    "start_time": "2022-04-02T11:06:35.696Z"
   },
   {
    "duration": 0,
    "start_time": "2022-04-02T11:06:35.776Z"
   },
   {
    "duration": 0,
    "start_time": "2022-04-02T11:06:35.781Z"
   },
   {
    "duration": 0,
    "start_time": "2022-04-02T11:06:35.782Z"
   },
   {
    "duration": 9,
    "start_time": "2022-04-02T11:06:54.954Z"
   },
   {
    "duration": 4,
    "start_time": "2022-04-02T11:11:30.624Z"
   },
   {
    "duration": 3,
    "start_time": "2022-04-02T11:11:42.353Z"
   },
   {
    "duration": 220,
    "start_time": "2022-04-02T11:11:44.749Z"
   },
   {
    "duration": 8,
    "start_time": "2022-04-02T11:13:02.184Z"
   },
   {
    "duration": 8,
    "start_time": "2022-04-02T11:13:48.536Z"
   },
   {
    "duration": 401,
    "start_time": "2022-04-02T11:17:20.639Z"
   },
   {
    "duration": 158,
    "start_time": "2022-04-02T11:17:21.042Z"
   },
   {
    "duration": 17,
    "start_time": "2022-04-02T11:17:21.202Z"
   },
   {
    "duration": 29,
    "start_time": "2022-04-02T11:17:21.222Z"
   },
   {
    "duration": 29,
    "start_time": "2022-04-02T11:17:21.253Z"
   },
   {
    "duration": 13,
    "start_time": "2022-04-02T11:17:21.283Z"
   },
   {
    "duration": 10,
    "start_time": "2022-04-02T11:17:21.297Z"
   },
   {
    "duration": 26,
    "start_time": "2022-04-02T11:17:21.309Z"
   },
   {
    "duration": 17,
    "start_time": "2022-04-02T11:17:21.337Z"
   },
   {
    "duration": 44,
    "start_time": "2022-04-02T11:17:21.357Z"
   },
   {
    "duration": 61,
    "start_time": "2022-04-02T11:17:21.403Z"
   },
   {
    "duration": 78,
    "start_time": "2022-04-02T11:17:21.465Z"
   },
   {
    "duration": 65,
    "start_time": "2022-04-02T11:17:21.545Z"
   },
   {
    "duration": 38,
    "start_time": "2022-04-02T11:17:21.612Z"
   },
   {
    "duration": 3,
    "start_time": "2022-04-02T11:17:21.651Z"
   },
   {
    "duration": 32,
    "start_time": "2022-04-02T11:17:21.655Z"
   },
   {
    "duration": 7,
    "start_time": "2022-04-02T11:17:21.689Z"
   },
   {
    "duration": 13,
    "start_time": "2022-04-02T11:17:21.697Z"
   },
   {
    "duration": 11,
    "start_time": "2022-04-02T11:17:21.711Z"
   },
   {
    "duration": 3,
    "start_time": "2022-04-02T11:17:21.723Z"
   },
   {
    "duration": 14,
    "start_time": "2022-04-02T11:17:21.727Z"
   },
   {
    "duration": 9,
    "start_time": "2022-04-02T11:17:21.743Z"
   },
   {
    "duration": 8,
    "start_time": "2022-04-02T11:17:21.781Z"
   },
   {
    "duration": 10,
    "start_time": "2022-04-02T11:17:21.791Z"
   },
   {
    "duration": 11,
    "start_time": "2022-04-02T11:17:21.803Z"
   },
   {
    "duration": 13,
    "start_time": "2022-04-02T11:17:21.815Z"
   },
   {
    "duration": 5,
    "start_time": "2022-04-02T11:17:21.829Z"
   },
   {
    "duration": 12,
    "start_time": "2022-04-02T11:17:21.837Z"
   },
   {
    "duration": 33,
    "start_time": "2022-04-02T11:17:21.850Z"
   },
   {
    "duration": 4,
    "start_time": "2022-04-02T11:17:21.884Z"
   },
   {
    "duration": 30,
    "start_time": "2022-04-02T11:17:21.889Z"
   },
   {
    "duration": 13,
    "start_time": "2022-04-02T11:17:21.921Z"
   },
   {
    "duration": 15,
    "start_time": "2022-04-02T11:17:21.936Z"
   },
   {
    "duration": 28,
    "start_time": "2022-04-02T11:17:21.953Z"
   },
   {
    "duration": 64,
    "start_time": "2022-04-02T11:17:21.982Z"
   },
   {
    "duration": 0,
    "start_time": "2022-04-02T11:17:22.047Z"
   },
   {
    "duration": 0,
    "start_time": "2022-04-02T11:17:22.048Z"
   },
   {
    "duration": 0,
    "start_time": "2022-04-02T11:17:22.049Z"
   },
   {
    "duration": 0,
    "start_time": "2022-04-02T11:17:22.050Z"
   },
   {
    "duration": 9,
    "start_time": "2022-04-02T11:19:20.999Z"
   },
   {
    "duration": 8,
    "start_time": "2022-04-02T11:19:41.847Z"
   },
   {
    "duration": 8,
    "start_time": "2022-04-02T11:23:54.586Z"
   },
   {
    "duration": 7,
    "start_time": "2022-04-02T11:24:29.135Z"
   },
   {
    "duration": 5,
    "start_time": "2022-04-02T11:24:37.712Z"
   },
   {
    "duration": 383,
    "start_time": "2022-04-02T11:24:54.538Z"
   },
   {
    "duration": 139,
    "start_time": "2022-04-02T11:24:54.923Z"
   },
   {
    "duration": 22,
    "start_time": "2022-04-02T11:24:55.064Z"
   },
   {
    "duration": 26,
    "start_time": "2022-04-02T11:24:55.087Z"
   },
   {
    "duration": 3,
    "start_time": "2022-04-02T11:24:55.115Z"
   },
   {
    "duration": 12,
    "start_time": "2022-04-02T11:24:55.119Z"
   },
   {
    "duration": 7,
    "start_time": "2022-04-02T11:24:55.133Z"
   },
   {
    "duration": 44,
    "start_time": "2022-04-02T11:24:55.142Z"
   },
   {
    "duration": 15,
    "start_time": "2022-04-02T11:24:55.187Z"
   },
   {
    "duration": 20,
    "start_time": "2022-04-02T11:24:55.205Z"
   },
   {
    "duration": 77,
    "start_time": "2022-04-02T11:24:55.227Z"
   },
   {
    "duration": 65,
    "start_time": "2022-04-02T11:24:55.306Z"
   },
   {
    "duration": 58,
    "start_time": "2022-04-02T11:24:55.372Z"
   },
   {
    "duration": 36,
    "start_time": "2022-04-02T11:24:55.431Z"
   },
   {
    "duration": 2,
    "start_time": "2022-04-02T11:24:55.481Z"
   },
   {
    "duration": 20,
    "start_time": "2022-04-02T11:24:55.484Z"
   },
   {
    "duration": 7,
    "start_time": "2022-04-02T11:24:55.505Z"
   },
   {
    "duration": 11,
    "start_time": "2022-04-02T11:24:55.513Z"
   },
   {
    "duration": 10,
    "start_time": "2022-04-02T11:24:55.525Z"
   },
   {
    "duration": 3,
    "start_time": "2022-04-02T11:24:55.536Z"
   },
   {
    "duration": 41,
    "start_time": "2022-04-02T11:24:55.540Z"
   },
   {
    "duration": 7,
    "start_time": "2022-04-02T11:24:55.583Z"
   },
   {
    "duration": 10,
    "start_time": "2022-04-02T11:24:55.591Z"
   },
   {
    "duration": 17,
    "start_time": "2022-04-02T11:24:55.602Z"
   },
   {
    "duration": 10,
    "start_time": "2022-04-02T11:24:55.620Z"
   },
   {
    "duration": 11,
    "start_time": "2022-04-02T11:24:55.631Z"
   },
   {
    "duration": 5,
    "start_time": "2022-04-02T11:24:55.643Z"
   },
   {
    "duration": 10,
    "start_time": "2022-04-02T11:24:55.651Z"
   },
   {
    "duration": 25,
    "start_time": "2022-04-02T11:24:55.662Z"
   },
   {
    "duration": 4,
    "start_time": "2022-04-02T11:24:55.688Z"
   },
   {
    "duration": 22,
    "start_time": "2022-04-02T11:24:55.693Z"
   },
   {
    "duration": 13,
    "start_time": "2022-04-02T11:24:55.717Z"
   },
   {
    "duration": 18,
    "start_time": "2022-04-02T11:24:55.731Z"
   },
   {
    "duration": 39,
    "start_time": "2022-04-02T11:24:55.751Z"
   },
   {
    "duration": 74,
    "start_time": "2022-04-02T11:24:55.791Z"
   },
   {
    "duration": 0,
    "start_time": "2022-04-02T11:24:55.867Z"
   },
   {
    "duration": 0,
    "start_time": "2022-04-02T11:24:55.868Z"
   },
   {
    "duration": 0,
    "start_time": "2022-04-02T11:24:55.880Z"
   },
   {
    "duration": 0,
    "start_time": "2022-04-02T11:24:55.882Z"
   },
   {
    "duration": 5,
    "start_time": "2022-04-02T11:27:17.584Z"
   },
   {
    "duration": 5,
    "start_time": "2022-04-02T11:27:23.637Z"
   },
   {
    "duration": 4,
    "start_time": "2022-04-02T11:27:35.626Z"
   },
   {
    "duration": 412,
    "start_time": "2022-04-02T11:27:55.475Z"
   },
   {
    "duration": 151,
    "start_time": "2022-04-02T11:27:55.889Z"
   },
   {
    "duration": 17,
    "start_time": "2022-04-02T11:27:56.041Z"
   },
   {
    "duration": 42,
    "start_time": "2022-04-02T11:27:56.060Z"
   },
   {
    "duration": 4,
    "start_time": "2022-04-02T11:27:56.103Z"
   },
   {
    "duration": 13,
    "start_time": "2022-04-02T11:27:56.109Z"
   },
   {
    "duration": 7,
    "start_time": "2022-04-02T11:27:56.123Z"
   },
   {
    "duration": 23,
    "start_time": "2022-04-02T11:27:56.132Z"
   },
   {
    "duration": 38,
    "start_time": "2022-04-02T11:27:56.157Z"
   },
   {
    "duration": 23,
    "start_time": "2022-04-02T11:27:56.198Z"
   },
   {
    "duration": 79,
    "start_time": "2022-04-02T11:27:56.222Z"
   },
   {
    "duration": 66,
    "start_time": "2022-04-02T11:27:56.303Z"
   },
   {
    "duration": 60,
    "start_time": "2022-04-02T11:27:56.371Z"
   },
   {
    "duration": 49,
    "start_time": "2022-04-02T11:27:56.433Z"
   },
   {
    "duration": 3,
    "start_time": "2022-04-02T11:27:56.483Z"
   },
   {
    "duration": 19,
    "start_time": "2022-04-02T11:27:56.487Z"
   },
   {
    "duration": 7,
    "start_time": "2022-04-02T11:27:56.507Z"
   },
   {
    "duration": 10,
    "start_time": "2022-04-02T11:27:56.515Z"
   },
   {
    "duration": 10,
    "start_time": "2022-04-02T11:27:56.527Z"
   },
   {
    "duration": 3,
    "start_time": "2022-04-02T11:27:56.539Z"
   },
   {
    "duration": 40,
    "start_time": "2022-04-02T11:27:56.544Z"
   },
   {
    "duration": 10,
    "start_time": "2022-04-02T11:27:56.586Z"
   },
   {
    "duration": 9,
    "start_time": "2022-04-02T11:27:56.597Z"
   },
   {
    "duration": 9,
    "start_time": "2022-04-02T11:27:56.608Z"
   },
   {
    "duration": 9,
    "start_time": "2022-04-02T11:27:56.618Z"
   },
   {
    "duration": 12,
    "start_time": "2022-04-02T11:27:56.628Z"
   },
   {
    "duration": 5,
    "start_time": "2022-04-02T11:27:56.641Z"
   },
   {
    "duration": 38,
    "start_time": "2022-04-02T11:27:56.649Z"
   },
   {
    "duration": 9,
    "start_time": "2022-04-02T11:27:56.688Z"
   },
   {
    "duration": 4,
    "start_time": "2022-04-02T11:27:56.698Z"
   },
   {
    "duration": 23,
    "start_time": "2022-04-02T11:27:56.703Z"
   },
   {
    "duration": 13,
    "start_time": "2022-04-02T11:27:56.727Z"
   },
   {
    "duration": 40,
    "start_time": "2022-04-02T11:27:56.742Z"
   },
   {
    "duration": 13,
    "start_time": "2022-04-02T11:27:56.783Z"
   },
   {
    "duration": 22,
    "start_time": "2022-04-02T11:27:56.797Z"
   },
   {
    "duration": 192,
    "start_time": "2022-04-02T11:27:56.821Z"
   },
   {
    "duration": 0,
    "start_time": "2022-04-02T11:27:57.015Z"
   },
   {
    "duration": 0,
    "start_time": "2022-04-02T11:27:57.016Z"
   },
   {
    "duration": 0,
    "start_time": "2022-04-02T11:27:57.018Z"
   },
   {
    "duration": 5,
    "start_time": "2022-04-02T11:28:08.034Z"
   },
   {
    "duration": 62,
    "start_time": "2022-04-02T11:28:47.301Z"
   },
   {
    "duration": 5,
    "start_time": "2022-04-02T11:29:55.720Z"
   },
   {
    "duration": 11,
    "start_time": "2022-04-02T11:30:24.279Z"
   },
   {
    "duration": 192,
    "start_time": "2022-04-02T11:31:24.791Z"
   },
   {
    "duration": 8,
    "start_time": "2022-04-02T11:31:56.536Z"
   },
   {
    "duration": 8,
    "start_time": "2022-04-02T11:32:14.587Z"
   },
   {
    "duration": 7,
    "start_time": "2022-04-02T11:32:30.805Z"
   },
   {
    "duration": 6,
    "start_time": "2022-04-02T11:35:24.917Z"
   },
   {
    "duration": 6,
    "start_time": "2022-04-02T11:35:54.257Z"
   },
   {
    "duration": 7,
    "start_time": "2022-04-02T11:37:03.373Z"
   },
   {
    "duration": 415,
    "start_time": "2022-04-02T11:37:54.066Z"
   },
   {
    "duration": 164,
    "start_time": "2022-04-02T11:37:54.483Z"
   },
   {
    "duration": 17,
    "start_time": "2022-04-02T11:37:54.648Z"
   },
   {
    "duration": 41,
    "start_time": "2022-04-02T11:37:54.667Z"
   },
   {
    "duration": 4,
    "start_time": "2022-04-02T11:37:54.710Z"
   },
   {
    "duration": 13,
    "start_time": "2022-04-02T11:37:54.716Z"
   },
   {
    "duration": 7,
    "start_time": "2022-04-02T11:37:54.730Z"
   },
   {
    "duration": 51,
    "start_time": "2022-04-02T11:37:54.738Z"
   },
   {
    "duration": 18,
    "start_time": "2022-04-02T11:37:54.790Z"
   },
   {
    "duration": 23,
    "start_time": "2022-04-02T11:37:54.811Z"
   },
   {
    "duration": 79,
    "start_time": "2022-04-02T11:37:54.835Z"
   },
   {
    "duration": 77,
    "start_time": "2022-04-02T11:37:54.915Z"
   },
   {
    "duration": 55,
    "start_time": "2022-04-02T11:37:54.993Z"
   },
   {
    "duration": 48,
    "start_time": "2022-04-02T11:37:55.049Z"
   },
   {
    "duration": 3,
    "start_time": "2022-04-02T11:37:55.098Z"
   },
   {
    "duration": 21,
    "start_time": "2022-04-02T11:37:55.102Z"
   },
   {
    "duration": 7,
    "start_time": "2022-04-02T11:37:55.124Z"
   },
   {
    "duration": 10,
    "start_time": "2022-04-02T11:37:55.132Z"
   },
   {
    "duration": 9,
    "start_time": "2022-04-02T11:37:55.144Z"
   },
   {
    "duration": 27,
    "start_time": "2022-04-02T11:37:55.154Z"
   },
   {
    "duration": 8,
    "start_time": "2022-04-02T11:37:55.182Z"
   },
   {
    "duration": 9,
    "start_time": "2022-04-02T11:37:55.191Z"
   },
   {
    "duration": 14,
    "start_time": "2022-04-02T11:37:55.202Z"
   },
   {
    "duration": 10,
    "start_time": "2022-04-02T11:37:55.217Z"
   },
   {
    "duration": 9,
    "start_time": "2022-04-02T11:37:55.229Z"
   },
   {
    "duration": 12,
    "start_time": "2022-04-02T11:37:55.239Z"
   },
   {
    "duration": 5,
    "start_time": "2022-04-02T11:37:55.252Z"
   },
   {
    "duration": 9,
    "start_time": "2022-04-02T11:37:55.280Z"
   },
   {
    "duration": 9,
    "start_time": "2022-04-02T11:37:55.291Z"
   },
   {
    "duration": 4,
    "start_time": "2022-04-02T11:37:55.301Z"
   },
   {
    "duration": 23,
    "start_time": "2022-04-02T11:37:55.306Z"
   },
   {
    "duration": 14,
    "start_time": "2022-04-02T11:37:55.330Z"
   },
   {
    "duration": 41,
    "start_time": "2022-04-02T11:37:55.345Z"
   },
   {
    "duration": 13,
    "start_time": "2022-04-02T11:37:55.387Z"
   },
   {
    "duration": 23,
    "start_time": "2022-04-02T11:37:55.402Z"
   },
   {
    "duration": 7,
    "start_time": "2022-04-02T11:37:55.427Z"
   },
   {
    "duration": 15,
    "start_time": "2022-04-02T11:37:55.435Z"
   },
   {
    "duration": 32,
    "start_time": "2022-04-02T11:37:55.451Z"
   },
   {
    "duration": 133,
    "start_time": "2022-04-02T20:36:50.574Z"
   },
   {
    "duration": 399,
    "start_time": "2022-04-02T20:38:01.027Z"
   },
   {
    "duration": 155,
    "start_time": "2022-04-02T20:38:01.428Z"
   },
   {
    "duration": 16,
    "start_time": "2022-04-02T20:38:01.585Z"
   },
   {
    "duration": 36,
    "start_time": "2022-04-02T20:38:01.603Z"
   },
   {
    "duration": 22,
    "start_time": "2022-04-02T20:38:01.642Z"
   },
   {
    "duration": 23,
    "start_time": "2022-04-02T20:38:01.665Z"
   },
   {
    "duration": 11,
    "start_time": "2022-04-02T20:38:01.690Z"
   },
   {
    "duration": 33,
    "start_time": "2022-04-02T20:38:01.703Z"
   },
   {
    "duration": 21,
    "start_time": "2022-04-02T20:38:01.738Z"
   },
   {
    "duration": 25,
    "start_time": "2022-04-02T20:38:01.760Z"
   },
   {
    "duration": 79,
    "start_time": "2022-04-02T20:38:01.787Z"
   },
   {
    "duration": 74,
    "start_time": "2022-04-02T20:38:01.868Z"
   },
   {
    "duration": 72,
    "start_time": "2022-04-02T20:38:01.943Z"
   },
   {
    "duration": 52,
    "start_time": "2022-04-02T20:38:02.017Z"
   },
   {
    "duration": 3,
    "start_time": "2022-04-02T20:38:02.071Z"
   },
   {
    "duration": 27,
    "start_time": "2022-04-02T20:38:02.075Z"
   },
   {
    "duration": 8,
    "start_time": "2022-04-02T20:38:02.104Z"
   },
   {
    "duration": 16,
    "start_time": "2022-04-02T20:38:02.113Z"
   },
   {
    "duration": 34,
    "start_time": "2022-04-02T20:38:02.130Z"
   },
   {
    "duration": 4,
    "start_time": "2022-04-02T20:38:05.298Z"
   },
   {
    "duration": 9,
    "start_time": "2022-04-02T20:38:10.768Z"
   },
   {
    "duration": 3,
    "start_time": "2022-04-02T20:39:10.683Z"
   },
   {
    "duration": 8,
    "start_time": "2022-04-02T20:39:14.507Z"
   },
   {
    "duration": 3,
    "start_time": "2022-04-02T20:42:15.350Z"
   },
   {
    "duration": 8,
    "start_time": "2022-04-02T20:42:18.015Z"
   },
   {
    "duration": 20,
    "start_time": "2022-04-02T20:42:30.003Z"
   },
   {
    "duration": 60,
    "start_time": "2022-04-02T20:42:45.975Z"
   },
   {
    "duration": 3,
    "start_time": "2022-04-02T20:43:16.367Z"
   },
   {
    "duration": 21,
    "start_time": "2022-04-02T20:43:19.042Z"
   },
   {
    "duration": 15,
    "start_time": "2022-04-02T20:43:21.533Z"
   },
   {
    "duration": 19,
    "start_time": "2022-04-02T20:43:22.613Z"
   },
   {
    "duration": 25,
    "start_time": "2022-04-02T20:45:35.561Z"
   },
   {
    "duration": 383,
    "start_time": "2022-04-02T20:45:44.477Z"
   },
   {
    "duration": 152,
    "start_time": "2022-04-02T20:45:44.862Z"
   },
   {
    "duration": 19,
    "start_time": "2022-04-02T20:45:45.016Z"
   },
   {
    "duration": 47,
    "start_time": "2022-04-02T20:45:45.037Z"
   },
   {
    "duration": 11,
    "start_time": "2022-04-02T20:45:45.086Z"
   },
   {
    "duration": 19,
    "start_time": "2022-04-02T20:45:45.098Z"
   },
   {
    "duration": 14,
    "start_time": "2022-04-02T20:45:45.119Z"
   },
   {
    "duration": 37,
    "start_time": "2022-04-02T20:45:45.134Z"
   },
   {
    "duration": 24,
    "start_time": "2022-04-02T20:45:45.172Z"
   },
   {
    "duration": 49,
    "start_time": "2022-04-02T20:45:45.198Z"
   },
   {
    "duration": 66,
    "start_time": "2022-04-02T20:45:45.248Z"
   },
   {
    "duration": 74,
    "start_time": "2022-04-02T20:45:45.316Z"
   },
   {
    "duration": 55,
    "start_time": "2022-04-02T20:45:45.391Z"
   },
   {
    "duration": 49,
    "start_time": "2022-04-02T20:45:45.448Z"
   },
   {
    "duration": 15,
    "start_time": "2022-04-02T20:45:45.499Z"
   },
   {
    "duration": 30,
    "start_time": "2022-04-02T20:45:45.516Z"
   },
   {
    "duration": 7,
    "start_time": "2022-04-02T20:45:45.547Z"
   },
   {
    "duration": 25,
    "start_time": "2022-04-02T20:45:45.556Z"
   },
   {
    "duration": 12,
    "start_time": "2022-04-02T20:45:45.583Z"
   },
   {
    "duration": 21,
    "start_time": "2022-04-02T20:45:45.596Z"
   },
   {
    "duration": 26,
    "start_time": "2022-04-02T20:45:45.618Z"
   },
   {
    "duration": 28,
    "start_time": "2022-04-02T20:45:45.645Z"
   },
   {
    "duration": 27,
    "start_time": "2022-04-02T20:45:45.674Z"
   },
   {
    "duration": 19,
    "start_time": "2022-04-02T20:45:45.702Z"
   },
   {
    "duration": 24,
    "start_time": "2022-04-02T20:45:45.722Z"
   },
   {
    "duration": 24,
    "start_time": "2022-04-02T20:45:45.747Z"
   },
   {
    "duration": 12,
    "start_time": "2022-04-02T20:45:45.772Z"
   },
   {
    "duration": 21,
    "start_time": "2022-04-02T20:45:45.787Z"
   },
   {
    "duration": 18,
    "start_time": "2022-04-02T20:45:45.809Z"
   },
   {
    "duration": 12,
    "start_time": "2022-04-02T20:45:45.828Z"
   },
   {
    "duration": 38,
    "start_time": "2022-04-02T20:45:45.841Z"
   },
   {
    "duration": 20,
    "start_time": "2022-04-02T20:45:45.880Z"
   },
   {
    "duration": 41,
    "start_time": "2022-04-02T20:45:45.901Z"
   },
   {
    "duration": 15,
    "start_time": "2022-04-02T20:45:45.943Z"
   },
   {
    "duration": 26,
    "start_time": "2022-04-02T20:45:45.960Z"
   },
   {
    "duration": 7,
    "start_time": "2022-04-02T20:45:45.988Z"
   },
   {
    "duration": 30,
    "start_time": "2022-04-02T20:45:45.996Z"
   },
   {
    "duration": 21,
    "start_time": "2022-04-02T20:45:46.028Z"
   },
   {
    "duration": 134,
    "start_time": "2022-04-02T20:48:58.236Z"
   },
   {
    "duration": 11,
    "start_time": "2022-04-02T20:52:15.323Z"
   },
   {
    "duration": 479,
    "start_time": "2022-04-04T14:01:23.383Z"
   },
   {
    "duration": 226,
    "start_time": "2022-04-04T14:01:23.865Z"
   },
   {
    "duration": 22,
    "start_time": "2022-04-04T14:01:24.093Z"
   },
   {
    "duration": 36,
    "start_time": "2022-04-04T14:01:24.132Z"
   },
   {
    "duration": 6,
    "start_time": "2022-04-04T14:01:24.170Z"
   },
   {
    "duration": 14,
    "start_time": "2022-04-04T14:01:24.178Z"
   },
   {
    "duration": 6,
    "start_time": "2022-04-04T14:01:24.194Z"
   },
   {
    "duration": 65,
    "start_time": "2022-04-04T14:01:24.202Z"
   },
   {
    "duration": 24,
    "start_time": "2022-04-04T14:01:24.269Z"
   },
   {
    "duration": 39,
    "start_time": "2022-04-04T14:01:24.295Z"
   },
   {
    "duration": 116,
    "start_time": "2022-04-04T14:01:24.336Z"
   },
   {
    "duration": 88,
    "start_time": "2022-04-04T14:01:24.453Z"
   },
   {
    "duration": 62,
    "start_time": "2022-04-04T14:01:24.543Z"
   },
   {
    "duration": 66,
    "start_time": "2022-04-04T14:01:24.608Z"
   },
   {
    "duration": 3,
    "start_time": "2022-04-04T14:01:24.677Z"
   },
   {
    "duration": 20,
    "start_time": "2022-04-04T14:01:24.681Z"
   },
   {
    "duration": 7,
    "start_time": "2022-04-04T14:01:24.703Z"
   },
   {
    "duration": 47,
    "start_time": "2022-04-04T14:01:24.712Z"
   },
   {
    "duration": 11,
    "start_time": "2022-04-04T14:01:24.761Z"
   },
   {
    "duration": 4,
    "start_time": "2022-04-04T14:01:24.773Z"
   },
   {
    "duration": 14,
    "start_time": "2022-04-04T14:01:24.778Z"
   },
   {
    "duration": 12,
    "start_time": "2022-04-04T14:01:24.794Z"
   },
   {
    "duration": 26,
    "start_time": "2022-04-04T14:01:24.808Z"
   },
   {
    "duration": 26,
    "start_time": "2022-04-04T14:01:24.837Z"
   },
   {
    "duration": 13,
    "start_time": "2022-04-04T14:01:24.865Z"
   },
   {
    "duration": 14,
    "start_time": "2022-04-04T14:01:24.879Z"
   },
   {
    "duration": 5,
    "start_time": "2022-04-04T14:01:24.895Z"
   },
   {
    "duration": 14,
    "start_time": "2022-04-04T14:01:24.903Z"
   },
   {
    "duration": 14,
    "start_time": "2022-04-04T14:01:24.919Z"
   },
   {
    "duration": 6,
    "start_time": "2022-04-04T14:01:24.938Z"
   },
   {
    "duration": 32,
    "start_time": "2022-04-04T14:01:24.946Z"
   },
   {
    "duration": 15,
    "start_time": "2022-04-04T14:01:24.979Z"
   },
   {
    "duration": 37,
    "start_time": "2022-04-04T14:01:24.996Z"
   },
   {
    "duration": 22,
    "start_time": "2022-04-04T14:01:25.035Z"
   },
   {
    "duration": 41,
    "start_time": "2022-04-04T14:01:25.059Z"
   },
   {
    "duration": 38,
    "start_time": "2022-04-04T14:01:25.101Z"
   },
   {
    "duration": 23,
    "start_time": "2022-04-04T14:01:25.140Z"
   },
   {
    "duration": 9,
    "start_time": "2022-04-04T14:01:25.164Z"
   },
   {
    "duration": 10,
    "start_time": "2022-04-04T14:02:52.332Z"
   },
   {
    "duration": 8,
    "start_time": "2022-04-04T14:04:11.658Z"
   },
   {
    "duration": 52,
    "start_time": "2022-04-04T14:08:12.231Z"
   },
   {
    "duration": 18,
    "start_time": "2022-04-04T14:30:32.533Z"
   },
   {
    "duration": 3,
    "start_time": "2022-04-04T14:37:46.579Z"
   },
   {
    "duration": 113,
    "start_time": "2022-04-04T14:41:09.232Z"
   },
   {
    "duration": 17,
    "start_time": "2022-04-04T15:05:07.244Z"
   },
   {
    "duration": 14,
    "start_time": "2022-04-04T15:06:00.336Z"
   },
   {
    "duration": 15,
    "start_time": "2022-04-04T15:16:12.654Z"
   },
   {
    "duration": 15,
    "start_time": "2022-04-04T15:16:48.044Z"
   },
   {
    "duration": 17,
    "start_time": "2022-04-04T15:17:20.847Z"
   },
   {
    "duration": 25,
    "start_time": "2022-04-04T15:18:04.222Z"
   },
   {
    "duration": 735,
    "start_time": "2022-04-04T17:32:41.868Z"
   },
   {
    "duration": 215,
    "start_time": "2022-04-04T17:32:42.606Z"
   },
   {
    "duration": 27,
    "start_time": "2022-04-04T17:32:42.823Z"
   },
   {
    "duration": 69,
    "start_time": "2022-04-04T17:32:42.852Z"
   },
   {
    "duration": 15,
    "start_time": "2022-04-04T17:32:42.923Z"
   },
   {
    "duration": 18,
    "start_time": "2022-04-04T17:32:42.940Z"
   },
   {
    "duration": 15,
    "start_time": "2022-04-04T17:32:42.960Z"
   },
   {
    "duration": 46,
    "start_time": "2022-04-04T17:32:42.978Z"
   },
   {
    "duration": 24,
    "start_time": "2022-04-04T17:32:43.026Z"
   },
   {
    "duration": 46,
    "start_time": "2022-04-04T17:32:43.054Z"
   },
   {
    "duration": 122,
    "start_time": "2022-04-04T17:32:43.103Z"
   },
   {
    "duration": 126,
    "start_time": "2022-04-04T17:32:43.228Z"
   },
   {
    "duration": 95,
    "start_time": "2022-04-04T17:32:43.356Z"
   },
   {
    "duration": 67,
    "start_time": "2022-04-04T17:32:43.453Z"
   },
   {
    "duration": 5,
    "start_time": "2022-04-04T17:32:43.523Z"
   },
   {
    "duration": 53,
    "start_time": "2022-04-04T17:32:43.530Z"
   },
   {
    "duration": 59,
    "start_time": "2022-04-04T17:32:43.585Z"
   },
   {
    "duration": 36,
    "start_time": "2022-04-04T17:32:43.647Z"
   },
   {
    "duration": 19,
    "start_time": "2022-04-04T17:32:43.686Z"
   },
   {
    "duration": 6,
    "start_time": "2022-04-04T17:32:43.708Z"
   },
   {
    "duration": 59,
    "start_time": "2022-04-04T17:32:43.716Z"
   },
   {
    "duration": 21,
    "start_time": "2022-04-04T17:32:43.778Z"
   },
   {
    "duration": 20,
    "start_time": "2022-04-04T17:32:43.801Z"
   },
   {
    "duration": 61,
    "start_time": "2022-04-04T17:32:43.824Z"
   },
   {
    "duration": 21,
    "start_time": "2022-04-04T17:32:43.887Z"
   },
   {
    "duration": 20,
    "start_time": "2022-04-04T17:32:43.910Z"
   },
   {
    "duration": 52,
    "start_time": "2022-04-04T17:32:43.933Z"
   },
   {
    "duration": 15,
    "start_time": "2022-04-04T17:32:43.989Z"
   },
   {
    "duration": 12,
    "start_time": "2022-04-04T17:32:44.006Z"
   },
   {
    "duration": 6,
    "start_time": "2022-04-04T17:32:44.021Z"
   },
   {
    "duration": 68,
    "start_time": "2022-04-04T17:32:44.029Z"
   },
   {
    "duration": 25,
    "start_time": "2022-04-04T17:32:44.100Z"
   },
   {
    "duration": 54,
    "start_time": "2022-04-04T17:32:44.128Z"
   },
   {
    "duration": 19,
    "start_time": "2022-04-04T17:32:44.184Z"
   },
   {
    "duration": 15,
    "start_time": "2022-04-04T17:32:49.816Z"
   },
   {
    "duration": 8,
    "start_time": "2022-04-04T17:32:55.589Z"
   },
   {
    "duration": 9,
    "start_time": "2022-04-04T17:33:01.005Z"
   },
   {
    "duration": 6,
    "start_time": "2022-04-04T17:33:09.905Z"
   },
   {
    "duration": 9,
    "start_time": "2022-04-04T17:33:14.900Z"
   },
   {
    "duration": 5,
    "start_time": "2022-04-04T17:33:17.006Z"
   },
   {
    "duration": 651,
    "start_time": "2022-04-05T07:05:16.947Z"
   },
   {
    "duration": 252,
    "start_time": "2022-04-05T07:05:17.601Z"
   },
   {
    "duration": 39,
    "start_time": "2022-04-05T07:05:17.856Z"
   },
   {
    "duration": 39,
    "start_time": "2022-04-05T07:05:17.898Z"
   },
   {
    "duration": 5,
    "start_time": "2022-04-05T07:05:17.939Z"
   },
   {
    "duration": 48,
    "start_time": "2022-04-05T07:05:17.946Z"
   },
   {
    "duration": 9,
    "start_time": "2022-04-05T07:05:17.996Z"
   },
   {
    "duration": 34,
    "start_time": "2022-04-05T07:05:18.007Z"
   },
   {
    "duration": 42,
    "start_time": "2022-04-05T07:05:18.043Z"
   },
   {
    "duration": 32,
    "start_time": "2022-04-05T07:05:18.089Z"
   },
   {
    "duration": 108,
    "start_time": "2022-04-05T07:05:18.123Z"
   },
   {
    "duration": 110,
    "start_time": "2022-04-05T07:05:18.233Z"
   },
   {
    "duration": 94,
    "start_time": "2022-04-05T07:05:18.346Z"
   },
   {
    "duration": 59,
    "start_time": "2022-04-05T07:05:18.442Z"
   },
   {
    "duration": 4,
    "start_time": "2022-04-05T07:05:18.504Z"
   },
   {
    "duration": 28,
    "start_time": "2022-04-05T07:05:18.510Z"
   },
   {
    "duration": 77,
    "start_time": "2022-04-05T07:05:18.540Z"
   },
   {
    "duration": 15,
    "start_time": "2022-04-05T07:05:18.619Z"
   },
   {
    "duration": 16,
    "start_time": "2022-04-05T07:05:18.636Z"
   },
   {
    "duration": 29,
    "start_time": "2022-04-05T07:05:18.654Z"
   },
   {
    "duration": 22,
    "start_time": "2022-04-05T07:05:18.686Z"
   },
   {
    "duration": 18,
    "start_time": "2022-04-05T07:05:18.710Z"
   },
   {
    "duration": 54,
    "start_time": "2022-04-05T07:05:18.730Z"
   },
   {
    "duration": 19,
    "start_time": "2022-04-05T07:05:18.787Z"
   },
   {
    "duration": 22,
    "start_time": "2022-04-05T07:05:18.807Z"
   },
   {
    "duration": 60,
    "start_time": "2022-04-05T07:05:18.832Z"
   },
   {
    "duration": 291,
    "start_time": "2022-04-05T07:05:18.894Z"
   },
   {
    "duration": 0,
    "start_time": "2022-04-05T07:05:19.188Z"
   },
   {
    "duration": 0,
    "start_time": "2022-04-05T07:05:19.190Z"
   },
   {
    "duration": 0,
    "start_time": "2022-04-05T07:05:19.192Z"
   },
   {
    "duration": 0,
    "start_time": "2022-04-05T07:05:19.193Z"
   },
   {
    "duration": 0,
    "start_time": "2022-04-05T07:05:19.195Z"
   },
   {
    "duration": 1,
    "start_time": "2022-04-05T07:05:19.196Z"
   },
   {
    "duration": 0,
    "start_time": "2022-04-05T07:05:19.198Z"
   },
   {
    "duration": 0,
    "start_time": "2022-04-05T07:05:19.199Z"
   },
   {
    "duration": 0,
    "start_time": "2022-04-05T07:05:19.200Z"
   },
   {
    "duration": 0,
    "start_time": "2022-04-05T07:05:19.202Z"
   },
   {
    "duration": 0,
    "start_time": "2022-04-05T07:05:19.203Z"
   },
   {
    "duration": 210,
    "start_time": "2022-04-05T07:06:23.335Z"
   },
   {
    "duration": 12,
    "start_time": "2022-04-05T07:08:00.777Z"
   },
   {
    "duration": 463,
    "start_time": "2022-04-05T07:12:45.806Z"
   }
  ],
  "colab": {
   "collapsed_sections": [
    "E0vqbgi9ay0H",
    "VUC88oWjTJw2"
   ],
   "name": "yandex_music_project_2021.2.ipynb",
   "provenance": []
  },
  "kernelspec": {
   "display_name": "Python 3 (ipykernel)",
   "language": "python",
   "name": "python3"
  },
  "language_info": {
   "codemirror_mode": {
    "name": "ipython",
    "version": 3
   },
   "file_extension": ".py",
   "mimetype": "text/x-python",
   "name": "python",
   "nbconvert_exporter": "python",
   "pygments_lexer": "ipython3",
   "version": "3.9.12"
  },
  "toc": {
   "base_numbering": 1,
   "nav_menu": {},
   "number_sections": true,
   "sideBar": true,
   "skip_h1_title": true,
   "title_cell": "Table of Contents",
   "title_sidebar": "Contents",
   "toc_cell": false,
   "toc_position": {
    "height": "calc(100% - 180px)",
    "left": "10px",
    "top": "150px",
    "width": "255.594px"
   },
   "toc_section_display": true,
   "toc_window_display": true
  }
 },
 "nbformat": 4,
 "nbformat_minor": 1
}
