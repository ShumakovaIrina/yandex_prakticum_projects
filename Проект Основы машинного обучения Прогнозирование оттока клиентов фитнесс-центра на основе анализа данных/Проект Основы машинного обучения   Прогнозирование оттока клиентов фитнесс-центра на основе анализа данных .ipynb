{
 "cells": [
  {
   "cell_type": "markdown",
   "metadata": {},
   "source": [
    "#  Проект Основы машинного обучения\n",
    "  Прогнозирование оттока клиентов фитнесс-центра на основе анализа данных \n",
    "\n",
    " Задача — провести анализ и подготовить план действий по удержанию клиентов. \n",
    "    \n",
    "-научиться прогнозировать вероятность оттока (на уровне следующего месяца) для каждого клиента;\n",
    "\n",
    "-сформировать типичные портреты клиентов: выделить несколько наиболее ярких групп и охарактеризовать их основные свойства;\n",
    "\n",
    "-проанализировать основные признаки, наиболее сильно влияющие на отток;\n",
    "\n",
    "-разработать рекомендации по повышению качества работы с клиентами\n",
    "\n",
    "\n",
    "  ## Описание данных\n",
    "Набор данных включает следующие поля:\n",
    "    \n",
    "    \n",
    "Данные клиента за предыдущий до проверки факта оттока месяц:\n",
    "    \n",
    "'gender' — пол;\n",
    "\n",
    "'Near_Location' — проживание или работа в районе, где находится фитнес-центр;\n",
    "\n",
    "'Partner' — сотрудник компании-партнёра клуба (сотрудничество с компаниями, чьи сотрудники могут получать скидки на абонемент — в таком случае фитнес-центр хранит информацию о работодателе клиента);\n",
    "\n",
    "'Promo_friends' — факт первоначальной записи в рамках акции «приведи друга» (использовал промо-код от знакомого при оплате первого абонемента);\n",
    "\n",
    "'Phone' — наличие контактного телефона;\n",
    "\n",
    "'Age' — возраст;\n",
    "\n",
    "'Lifetime' — время с момента первого обращения в фитнес-центр (в месяцах).\n",
    "\n",
    "Информация на основе журнала посещений, покупок и информация о текущем статусе абонемента клиента:\n",
    "    \n",
    "    \n",
    "'Contract_period' — длительность текущего действующего абонемента (месяц, 6 месяцев, год);\n",
    "\n",
    "'Month_to_end_contract' — срок до окончания текущего действующего абонемента (в месяцах);\n",
    "\n",
    "'Group_visits' — факт посещения групповых занятий;\n",
    "\n",
    "'Avg_class_frequency_total' — средняя частота посещений в неделю за все время с начала действия абонемента;\n",
    "\n",
    "'Avg_class_frequency_current_month' — средняя частота посещений в неделю за предыдущий месяц;\n",
    "\n",
    "'Avg_additional_charges_total' — суммарная выручка от других услуг фитнес-центра: кафе, спорттовары, косметический и массажный салон.\n",
    "    \n",
    "'Churn' — факт оттока в текущем месяце.\n",
    "\n",
    "    \n",
    "    \n",
    "    "
   ]
  },
  {
   "cell_type": "markdown",
   "metadata": {},
   "source": [
    "##  Изучение общей информации о данных"
   ]
  },
  {
   "cell_type": "code",
   "execution_count": 1,
   "metadata": {},
   "outputs": [],
   "source": [
    "# импорт библиотек\n",
    "import pandas as pd\n",
    "import numpy as np\n",
    "import matplotlib.pyplot as plt\n",
    "import seaborn as sns\n",
    "from scipy import stats as st\n",
    "from sklearn.preprocessing import StandardScaler\n",
    "from sklearn.model_selection import train_test_split\n",
    "from sklearn.metrics import accuracy_score, precision_score, recall_score, f1_score\n",
    "from sklearn.linear_model import Lasso, Ridge\n",
    "from sklearn.tree import DecisionTreeRegressor\n",
    "from sklearn.ensemble import RandomForestRegressor, GradientBoostingRegressor\n",
    "import matplotlib.pyplot as plt\n",
    "from sklearn.metrics import mean_absolute_error, mean_squared_error, r2_score\n",
    "from sklearn.linear_model import LogisticRegression\n",
    "from sklearn.ensemble import RandomForestClassifier\n",
    "from sklearn.cluster import KMeans\n",
    "from scipy.cluster.hierarchy import dendrogram, linkage\n",
    "import itertools\n",
    "\n",
    "import warnings"
   ]
  },
  {
   "cell_type": "code",
   "execution_count": 2,
   "metadata": {},
   "outputs": [],
   "source": [
    "# открываем файл\n",
    "df = pd.read_csv('/datasets/gym_churn.csv') "
   ]
  },
  {
   "cell_type": "code",
   "execution_count": 3,
   "metadata": {},
   "outputs": [
    {
     "name": "stdout",
     "output_type": "stream",
     "text": [
      "<class 'pandas.core.frame.DataFrame'>\n",
      "RangeIndex: 4000 entries, 0 to 3999\n",
      "Data columns (total 14 columns):\n",
      " #   Column                             Non-Null Count  Dtype  \n",
      "---  ------                             --------------  -----  \n",
      " 0   gender                             4000 non-null   int64  \n",
      " 1   Near_Location                      4000 non-null   int64  \n",
      " 2   Partner                            4000 non-null   int64  \n",
      " 3   Promo_friends                      4000 non-null   int64  \n",
      " 4   Phone                              4000 non-null   int64  \n",
      " 5   Contract_period                    4000 non-null   int64  \n",
      " 6   Group_visits                       4000 non-null   int64  \n",
      " 7   Age                                4000 non-null   int64  \n",
      " 8   Avg_additional_charges_total       4000 non-null   float64\n",
      " 9   Month_to_end_contract              4000 non-null   float64\n",
      " 10  Lifetime                           4000 non-null   int64  \n",
      " 11  Avg_class_frequency_total          4000 non-null   float64\n",
      " 12  Avg_class_frequency_current_month  4000 non-null   float64\n",
      " 13  Churn                              4000 non-null   int64  \n",
      "dtypes: float64(4), int64(10)\n",
      "memory usage: 437.6 KB\n"
     ]
    },
    {
     "data": {
      "text/html": [
       "<div>\n",
       "<style scoped>\n",
       "    .dataframe tbody tr th:only-of-type {\n",
       "        vertical-align: middle;\n",
       "    }\n",
       "\n",
       "    .dataframe tbody tr th {\n",
       "        vertical-align: top;\n",
       "    }\n",
       "\n",
       "    .dataframe thead th {\n",
       "        text-align: right;\n",
       "    }\n",
       "</style>\n",
       "<table border=\"1\" class=\"dataframe\">\n",
       "  <thead>\n",
       "    <tr style=\"text-align: right;\">\n",
       "      <th></th>\n",
       "      <th>gender</th>\n",
       "      <th>Near_Location</th>\n",
       "      <th>Partner</th>\n",
       "      <th>Promo_friends</th>\n",
       "      <th>Phone</th>\n",
       "      <th>Contract_period</th>\n",
       "      <th>Group_visits</th>\n",
       "      <th>Age</th>\n",
       "      <th>Avg_additional_charges_total</th>\n",
       "      <th>Month_to_end_contract</th>\n",
       "      <th>Lifetime</th>\n",
       "      <th>Avg_class_frequency_total</th>\n",
       "      <th>Avg_class_frequency_current_month</th>\n",
       "      <th>Churn</th>\n",
       "    </tr>\n",
       "  </thead>\n",
       "  <tbody>\n",
       "    <tr>\n",
       "      <th>0</th>\n",
       "      <td>1</td>\n",
       "      <td>1</td>\n",
       "      <td>1</td>\n",
       "      <td>1</td>\n",
       "      <td>0</td>\n",
       "      <td>6</td>\n",
       "      <td>1</td>\n",
       "      <td>29</td>\n",
       "      <td>14.227470</td>\n",
       "      <td>5.0</td>\n",
       "      <td>3</td>\n",
       "      <td>0.020398</td>\n",
       "      <td>0.000000</td>\n",
       "      <td>0</td>\n",
       "    </tr>\n",
       "    <tr>\n",
       "      <th>1</th>\n",
       "      <td>0</td>\n",
       "      <td>1</td>\n",
       "      <td>0</td>\n",
       "      <td>0</td>\n",
       "      <td>1</td>\n",
       "      <td>12</td>\n",
       "      <td>1</td>\n",
       "      <td>31</td>\n",
       "      <td>113.202938</td>\n",
       "      <td>12.0</td>\n",
       "      <td>7</td>\n",
       "      <td>1.922936</td>\n",
       "      <td>1.910244</td>\n",
       "      <td>0</td>\n",
       "    </tr>\n",
       "    <tr>\n",
       "      <th>2</th>\n",
       "      <td>0</td>\n",
       "      <td>1</td>\n",
       "      <td>1</td>\n",
       "      <td>0</td>\n",
       "      <td>1</td>\n",
       "      <td>1</td>\n",
       "      <td>0</td>\n",
       "      <td>28</td>\n",
       "      <td>129.448479</td>\n",
       "      <td>1.0</td>\n",
       "      <td>2</td>\n",
       "      <td>1.859098</td>\n",
       "      <td>1.736502</td>\n",
       "      <td>0</td>\n",
       "    </tr>\n",
       "    <tr>\n",
       "      <th>3</th>\n",
       "      <td>0</td>\n",
       "      <td>1</td>\n",
       "      <td>1</td>\n",
       "      <td>1</td>\n",
       "      <td>1</td>\n",
       "      <td>12</td>\n",
       "      <td>1</td>\n",
       "      <td>33</td>\n",
       "      <td>62.669863</td>\n",
       "      <td>12.0</td>\n",
       "      <td>2</td>\n",
       "      <td>3.205633</td>\n",
       "      <td>3.357215</td>\n",
       "      <td>0</td>\n",
       "    </tr>\n",
       "    <tr>\n",
       "      <th>4</th>\n",
       "      <td>1</td>\n",
       "      <td>1</td>\n",
       "      <td>1</td>\n",
       "      <td>1</td>\n",
       "      <td>1</td>\n",
       "      <td>1</td>\n",
       "      <td>0</td>\n",
       "      <td>26</td>\n",
       "      <td>198.362265</td>\n",
       "      <td>1.0</td>\n",
       "      <td>3</td>\n",
       "      <td>1.113884</td>\n",
       "      <td>1.120078</td>\n",
       "      <td>0</td>\n",
       "    </tr>\n",
       "    <tr>\n",
       "      <th>5</th>\n",
       "      <td>1</td>\n",
       "      <td>1</td>\n",
       "      <td>0</td>\n",
       "      <td>0</td>\n",
       "      <td>1</td>\n",
       "      <td>1</td>\n",
       "      <td>1</td>\n",
       "      <td>34</td>\n",
       "      <td>450.743960</td>\n",
       "      <td>1.0</td>\n",
       "      <td>3</td>\n",
       "      <td>2.623477</td>\n",
       "      <td>2.637007</td>\n",
       "      <td>0</td>\n",
       "    </tr>\n",
       "    <tr>\n",
       "      <th>6</th>\n",
       "      <td>1</td>\n",
       "      <td>1</td>\n",
       "      <td>1</td>\n",
       "      <td>1</td>\n",
       "      <td>0</td>\n",
       "      <td>6</td>\n",
       "      <td>1</td>\n",
       "      <td>32</td>\n",
       "      <td>94.266389</td>\n",
       "      <td>6.0</td>\n",
       "      <td>2</td>\n",
       "      <td>1.138941</td>\n",
       "      <td>1.277242</td>\n",
       "      <td>0</td>\n",
       "    </tr>\n",
       "    <tr>\n",
       "      <th>7</th>\n",
       "      <td>0</td>\n",
       "      <td>1</td>\n",
       "      <td>0</td>\n",
       "      <td>0</td>\n",
       "      <td>1</td>\n",
       "      <td>1</td>\n",
       "      <td>0</td>\n",
       "      <td>30</td>\n",
       "      <td>217.786641</td>\n",
       "      <td>1.0</td>\n",
       "      <td>0</td>\n",
       "      <td>1.213502</td>\n",
       "      <td>1.049387</td>\n",
       "      <td>1</td>\n",
       "    </tr>\n",
       "    <tr>\n",
       "      <th>8</th>\n",
       "      <td>1</td>\n",
       "      <td>1</td>\n",
       "      <td>1</td>\n",
       "      <td>1</td>\n",
       "      <td>1</td>\n",
       "      <td>1</td>\n",
       "      <td>1</td>\n",
       "      <td>23</td>\n",
       "      <td>45.409909</td>\n",
       "      <td>1.0</td>\n",
       "      <td>1</td>\n",
       "      <td>1.106239</td>\n",
       "      <td>1.059333</td>\n",
       "      <td>0</td>\n",
       "    </tr>\n",
       "    <tr>\n",
       "      <th>9</th>\n",
       "      <td>0</td>\n",
       "      <td>1</td>\n",
       "      <td>0</td>\n",
       "      <td>0</td>\n",
       "      <td>1</td>\n",
       "      <td>1</td>\n",
       "      <td>0</td>\n",
       "      <td>31</td>\n",
       "      <td>65.310836</td>\n",
       "      <td>1.0</td>\n",
       "      <td>11</td>\n",
       "      <td>1.810852</td>\n",
       "      <td>1.951368</td>\n",
       "      <td>0</td>\n",
       "    </tr>\n",
       "  </tbody>\n",
       "</table>\n",
       "</div>"
      ],
      "text/plain": [
       "   gender  Near_Location  Partner  Promo_friends  Phone  Contract_period  \\\n",
       "0       1              1        1              1      0                6   \n",
       "1       0              1        0              0      1               12   \n",
       "2       0              1        1              0      1                1   \n",
       "3       0              1        1              1      1               12   \n",
       "4       1              1        1              1      1                1   \n",
       "5       1              1        0              0      1                1   \n",
       "6       1              1        1              1      0                6   \n",
       "7       0              1        0              0      1                1   \n",
       "8       1              1        1              1      1                1   \n",
       "9       0              1        0              0      1                1   \n",
       "\n",
       "   Group_visits  Age  Avg_additional_charges_total  Month_to_end_contract  \\\n",
       "0             1   29                     14.227470                    5.0   \n",
       "1             1   31                    113.202938                   12.0   \n",
       "2             0   28                    129.448479                    1.0   \n",
       "3             1   33                     62.669863                   12.0   \n",
       "4             0   26                    198.362265                    1.0   \n",
       "5             1   34                    450.743960                    1.0   \n",
       "6             1   32                     94.266389                    6.0   \n",
       "7             0   30                    217.786641                    1.0   \n",
       "8             1   23                     45.409909                    1.0   \n",
       "9             0   31                     65.310836                    1.0   \n",
       "\n",
       "   Lifetime  Avg_class_frequency_total  Avg_class_frequency_current_month  \\\n",
       "0         3                   0.020398                           0.000000   \n",
       "1         7                   1.922936                           1.910244   \n",
       "2         2                   1.859098                           1.736502   \n",
       "3         2                   3.205633                           3.357215   \n",
       "4         3                   1.113884                           1.120078   \n",
       "5         3                   2.623477                           2.637007   \n",
       "6         2                   1.138941                           1.277242   \n",
       "7         0                   1.213502                           1.049387   \n",
       "8         1                   1.106239                           1.059333   \n",
       "9        11                   1.810852                           1.951368   \n",
       "\n",
       "   Churn  \n",
       "0      0  \n",
       "1      0  \n",
       "2      0  \n",
       "3      0  \n",
       "4      0  \n",
       "5      0  \n",
       "6      0  \n",
       "7      1  \n",
       "8      0  \n",
       "9      0  "
      ]
     },
     "execution_count": 3,
     "metadata": {},
     "output_type": "execute_result"
    }
   ],
   "source": [
    "# общая информация  и первые 10 строк таблицы:\n",
    "df.info()\n",
    "df.head(10)"
   ]
  },
  {
   "cell_type": "code",
   "execution_count": 4,
   "metadata": {},
   "outputs": [
    {
     "data": {
      "text/plain": [
       "0"
      ]
     },
     "metadata": {},
     "output_type": "display_data"
    }
   ],
   "source": [
    "#подсчет явных дубликатов\n",
    "display(df.duplicated().sum())"
   ]
  },
  {
   "cell_type": "markdown",
   "metadata": {},
   "source": [
    "Пропуски в данных и дубликаты отсутствуют "
   ]
  },
  {
   "cell_type": "markdown",
   "metadata": {},
   "source": [
    "## Исследовательский анализ данных (EDA)"
   ]
  },
  {
   "cell_type": "code",
   "execution_count": 5,
   "metadata": {},
   "outputs": [
    {
     "data": {
      "text/html": [
       "<div>\n",
       "<style scoped>\n",
       "    .dataframe tbody tr th:only-of-type {\n",
       "        vertical-align: middle;\n",
       "    }\n",
       "\n",
       "    .dataframe tbody tr th {\n",
       "        vertical-align: top;\n",
       "    }\n",
       "\n",
       "    .dataframe thead th {\n",
       "        text-align: right;\n",
       "    }\n",
       "</style>\n",
       "<table border=\"1\" class=\"dataframe\">\n",
       "  <thead>\n",
       "    <tr style=\"text-align: right;\">\n",
       "      <th></th>\n",
       "      <th>gender</th>\n",
       "      <th>Near_Location</th>\n",
       "      <th>Partner</th>\n",
       "      <th>Promo_friends</th>\n",
       "      <th>Phone</th>\n",
       "      <th>Contract_period</th>\n",
       "      <th>Group_visits</th>\n",
       "      <th>Age</th>\n",
       "      <th>Avg_additional_charges_total</th>\n",
       "      <th>Month_to_end_contract</th>\n",
       "      <th>Lifetime</th>\n",
       "      <th>Avg_class_frequency_total</th>\n",
       "      <th>Avg_class_frequency_current_month</th>\n",
       "      <th>Churn</th>\n",
       "    </tr>\n",
       "  </thead>\n",
       "  <tbody>\n",
       "    <tr>\n",
       "      <th>count</th>\n",
       "      <td>4000.000000</td>\n",
       "      <td>4000.000000</td>\n",
       "      <td>4000.000000</td>\n",
       "      <td>4000.000000</td>\n",
       "      <td>4000.000000</td>\n",
       "      <td>4000.000000</td>\n",
       "      <td>4000.000000</td>\n",
       "      <td>4000.000000</td>\n",
       "      <td>4000.000000</td>\n",
       "      <td>4000.000000</td>\n",
       "      <td>4000.000000</td>\n",
       "      <td>4000.000000</td>\n",
       "      <td>4000.000000</td>\n",
       "      <td>4000.000000</td>\n",
       "    </tr>\n",
       "    <tr>\n",
       "      <th>mean</th>\n",
       "      <td>0.510250</td>\n",
       "      <td>0.845250</td>\n",
       "      <td>0.486750</td>\n",
       "      <td>0.308500</td>\n",
       "      <td>0.903500</td>\n",
       "      <td>4.681250</td>\n",
       "      <td>0.412250</td>\n",
       "      <td>29.184250</td>\n",
       "      <td>146.943728</td>\n",
       "      <td>4.322750</td>\n",
       "      <td>3.724750</td>\n",
       "      <td>1.879020</td>\n",
       "      <td>1.767052</td>\n",
       "      <td>0.265250</td>\n",
       "    </tr>\n",
       "    <tr>\n",
       "      <th>std</th>\n",
       "      <td>0.499957</td>\n",
       "      <td>0.361711</td>\n",
       "      <td>0.499887</td>\n",
       "      <td>0.461932</td>\n",
       "      <td>0.295313</td>\n",
       "      <td>4.549706</td>\n",
       "      <td>0.492301</td>\n",
       "      <td>3.258367</td>\n",
       "      <td>96.355602</td>\n",
       "      <td>4.191297</td>\n",
       "      <td>3.749267</td>\n",
       "      <td>0.972245</td>\n",
       "      <td>1.052906</td>\n",
       "      <td>0.441521</td>\n",
       "    </tr>\n",
       "    <tr>\n",
       "      <th>min</th>\n",
       "      <td>0.000000</td>\n",
       "      <td>0.000000</td>\n",
       "      <td>0.000000</td>\n",
       "      <td>0.000000</td>\n",
       "      <td>0.000000</td>\n",
       "      <td>1.000000</td>\n",
       "      <td>0.000000</td>\n",
       "      <td>18.000000</td>\n",
       "      <td>0.148205</td>\n",
       "      <td>1.000000</td>\n",
       "      <td>0.000000</td>\n",
       "      <td>0.000000</td>\n",
       "      <td>0.000000</td>\n",
       "      <td>0.000000</td>\n",
       "    </tr>\n",
       "    <tr>\n",
       "      <th>25%</th>\n",
       "      <td>0.000000</td>\n",
       "      <td>1.000000</td>\n",
       "      <td>0.000000</td>\n",
       "      <td>0.000000</td>\n",
       "      <td>1.000000</td>\n",
       "      <td>1.000000</td>\n",
       "      <td>0.000000</td>\n",
       "      <td>27.000000</td>\n",
       "      <td>68.868830</td>\n",
       "      <td>1.000000</td>\n",
       "      <td>1.000000</td>\n",
       "      <td>1.180875</td>\n",
       "      <td>0.963003</td>\n",
       "      <td>0.000000</td>\n",
       "    </tr>\n",
       "    <tr>\n",
       "      <th>50%</th>\n",
       "      <td>1.000000</td>\n",
       "      <td>1.000000</td>\n",
       "      <td>0.000000</td>\n",
       "      <td>0.000000</td>\n",
       "      <td>1.000000</td>\n",
       "      <td>1.000000</td>\n",
       "      <td>0.000000</td>\n",
       "      <td>29.000000</td>\n",
       "      <td>136.220159</td>\n",
       "      <td>1.000000</td>\n",
       "      <td>3.000000</td>\n",
       "      <td>1.832768</td>\n",
       "      <td>1.719574</td>\n",
       "      <td>0.000000</td>\n",
       "    </tr>\n",
       "    <tr>\n",
       "      <th>75%</th>\n",
       "      <td>1.000000</td>\n",
       "      <td>1.000000</td>\n",
       "      <td>1.000000</td>\n",
       "      <td>1.000000</td>\n",
       "      <td>1.000000</td>\n",
       "      <td>6.000000</td>\n",
       "      <td>1.000000</td>\n",
       "      <td>31.000000</td>\n",
       "      <td>210.949625</td>\n",
       "      <td>6.000000</td>\n",
       "      <td>5.000000</td>\n",
       "      <td>2.536078</td>\n",
       "      <td>2.510336</td>\n",
       "      <td>1.000000</td>\n",
       "    </tr>\n",
       "    <tr>\n",
       "      <th>max</th>\n",
       "      <td>1.000000</td>\n",
       "      <td>1.000000</td>\n",
       "      <td>1.000000</td>\n",
       "      <td>1.000000</td>\n",
       "      <td>1.000000</td>\n",
       "      <td>12.000000</td>\n",
       "      <td>1.000000</td>\n",
       "      <td>41.000000</td>\n",
       "      <td>552.590740</td>\n",
       "      <td>12.000000</td>\n",
       "      <td>31.000000</td>\n",
       "      <td>6.023668</td>\n",
       "      <td>6.146783</td>\n",
       "      <td>1.000000</td>\n",
       "    </tr>\n",
       "  </tbody>\n",
       "</table>\n",
       "</div>"
      ],
      "text/plain": [
       "            gender  Near_Location      Partner  Promo_friends        Phone  \\\n",
       "count  4000.000000    4000.000000  4000.000000    4000.000000  4000.000000   \n",
       "mean      0.510250       0.845250     0.486750       0.308500     0.903500   \n",
       "std       0.499957       0.361711     0.499887       0.461932     0.295313   \n",
       "min       0.000000       0.000000     0.000000       0.000000     0.000000   \n",
       "25%       0.000000       1.000000     0.000000       0.000000     1.000000   \n",
       "50%       1.000000       1.000000     0.000000       0.000000     1.000000   \n",
       "75%       1.000000       1.000000     1.000000       1.000000     1.000000   \n",
       "max       1.000000       1.000000     1.000000       1.000000     1.000000   \n",
       "\n",
       "       Contract_period  Group_visits          Age  \\\n",
       "count      4000.000000   4000.000000  4000.000000   \n",
       "mean          4.681250      0.412250    29.184250   \n",
       "std           4.549706      0.492301     3.258367   \n",
       "min           1.000000      0.000000    18.000000   \n",
       "25%           1.000000      0.000000    27.000000   \n",
       "50%           1.000000      0.000000    29.000000   \n",
       "75%           6.000000      1.000000    31.000000   \n",
       "max          12.000000      1.000000    41.000000   \n",
       "\n",
       "       Avg_additional_charges_total  Month_to_end_contract     Lifetime  \\\n",
       "count                   4000.000000            4000.000000  4000.000000   \n",
       "mean                     146.943728               4.322750     3.724750   \n",
       "std                       96.355602               4.191297     3.749267   \n",
       "min                        0.148205               1.000000     0.000000   \n",
       "25%                       68.868830               1.000000     1.000000   \n",
       "50%                      136.220159               1.000000     3.000000   \n",
       "75%                      210.949625               6.000000     5.000000   \n",
       "max                      552.590740              12.000000    31.000000   \n",
       "\n",
       "       Avg_class_frequency_total  Avg_class_frequency_current_month  \\\n",
       "count                4000.000000                        4000.000000   \n",
       "mean                    1.879020                           1.767052   \n",
       "std                     0.972245                           1.052906   \n",
       "min                     0.000000                           0.000000   \n",
       "25%                     1.180875                           0.963003   \n",
       "50%                     1.832768                           1.719574   \n",
       "75%                     2.536078                           2.510336   \n",
       "max                     6.023668                           6.146783   \n",
       "\n",
       "             Churn  \n",
       "count  4000.000000  \n",
       "mean      0.265250  \n",
       "std       0.441521  \n",
       "min       0.000000  \n",
       "25%       0.000000  \n",
       "50%       0.000000  \n",
       "75%       1.000000  \n",
       "max       1.000000  "
      ]
     },
     "execution_count": 5,
     "metadata": {},
     "output_type": "execute_result"
    }
   ],
   "source": [
    "df.describe()"
   ]
  },
  {
   "cell_type": "code",
   "execution_count": 6,
   "metadata": {
    "scrolled": true
   },
   "outputs": [
    {
     "data": {
      "text/html": [
       "<div>\n",
       "<style scoped>\n",
       "    .dataframe tbody tr th:only-of-type {\n",
       "        vertical-align: middle;\n",
       "    }\n",
       "\n",
       "    .dataframe tbody tr th {\n",
       "        vertical-align: top;\n",
       "    }\n",
       "\n",
       "    .dataframe thead th {\n",
       "        text-align: right;\n",
       "    }\n",
       "</style>\n",
       "<table border=\"1\" class=\"dataframe\">\n",
       "  <thead>\n",
       "    <tr style=\"text-align: right;\">\n",
       "      <th>Churn</th>\n",
       "      <th>0</th>\n",
       "      <th>1</th>\n",
       "    </tr>\n",
       "  </thead>\n",
       "  <tbody>\n",
       "    <tr>\n",
       "      <th>gender</th>\n",
       "      <td>0.510037</td>\n",
       "      <td>0.510839</td>\n",
       "    </tr>\n",
       "    <tr>\n",
       "      <th>Near_Location</th>\n",
       "      <td>0.873086</td>\n",
       "      <td>0.768143</td>\n",
       "    </tr>\n",
       "    <tr>\n",
       "      <th>Partner</th>\n",
       "      <td>0.534195</td>\n",
       "      <td>0.355325</td>\n",
       "    </tr>\n",
       "    <tr>\n",
       "      <th>Promo_friends</th>\n",
       "      <td>0.353522</td>\n",
       "      <td>0.183789</td>\n",
       "    </tr>\n",
       "    <tr>\n",
       "      <th>Phone</th>\n",
       "      <td>0.903709</td>\n",
       "      <td>0.902922</td>\n",
       "    </tr>\n",
       "    <tr>\n",
       "      <th>Contract_period</th>\n",
       "      <td>5.747193</td>\n",
       "      <td>1.728558</td>\n",
       "    </tr>\n",
       "    <tr>\n",
       "      <th>Group_visits</th>\n",
       "      <td>0.464103</td>\n",
       "      <td>0.268615</td>\n",
       "    </tr>\n",
       "    <tr>\n",
       "      <th>Age</th>\n",
       "      <td>29.976523</td>\n",
       "      <td>26.989632</td>\n",
       "    </tr>\n",
       "    <tr>\n",
       "      <th>Avg_additional_charges_total</th>\n",
       "      <td>158.445715</td>\n",
       "      <td>115.082899</td>\n",
       "    </tr>\n",
       "    <tr>\n",
       "      <th>Month_to_end_contract</th>\n",
       "      <td>5.283089</td>\n",
       "      <td>1.662582</td>\n",
       "    </tr>\n",
       "    <tr>\n",
       "      <th>Lifetime</th>\n",
       "      <td>4.711807</td>\n",
       "      <td>0.990575</td>\n",
       "    </tr>\n",
       "    <tr>\n",
       "      <th>Avg_class_frequency_total</th>\n",
       "      <td>2.024876</td>\n",
       "      <td>1.474995</td>\n",
       "    </tr>\n",
       "    <tr>\n",
       "      <th>Avg_class_frequency_current_month</th>\n",
       "      <td>2.027882</td>\n",
       "      <td>1.044546</td>\n",
       "    </tr>\n",
       "  </tbody>\n",
       "</table>\n",
       "</div>"
      ],
      "text/plain": [
       "Churn                                       0           1\n",
       "gender                               0.510037    0.510839\n",
       "Near_Location                        0.873086    0.768143\n",
       "Partner                              0.534195    0.355325\n",
       "Promo_friends                        0.353522    0.183789\n",
       "Phone                                0.903709    0.902922\n",
       "Contract_period                      5.747193    1.728558\n",
       "Group_visits                         0.464103    0.268615\n",
       "Age                                 29.976523   26.989632\n",
       "Avg_additional_charges_total       158.445715  115.082899\n",
       "Month_to_end_contract                5.283089    1.662582\n",
       "Lifetime                             4.711807    0.990575\n",
       "Avg_class_frequency_total            2.024876    1.474995\n",
       "Avg_class_frequency_current_month    2.027882    1.044546"
      ]
     },
     "execution_count": 6,
     "metadata": {},
     "output_type": "execute_result"
    }
   ],
   "source": [
    "#средние значения признаков в двух группах — тех, кто ушел в отток и тех, кто остался методом .groupby()\n",
    "df.groupby(['Churn']).mean().T"
   ]
  },
  {
   "cell_type": "markdown",
   "metadata": {},
   "source": [
    " очевидно присутствуют две группы признаков качественные( в основном бинарные 0 или 1 )  или колличественные определим их   "
   ]
  },
  {
   "cell_type": "code",
   "execution_count": 7,
   "metadata": {},
   "outputs": [
    {
     "name": "stdout",
     "output_type": "stream",
     "text": [
      "['gender', 'Near_Location', 'Partner', 'Promo_friends', 'Phone', 'Group_visits', 'Churn']\n",
      "['Contract_period', 'Age', 'Avg_additional_charges_total', 'Month_to_end_contract', 'Lifetime', 'Avg_class_frequency_total', 'Avg_class_frequency_current_month']\n"
     ]
    }
   ],
   "source": [
    "# выделим  признаки\n",
    "feature_bi = []\n",
    "feature_quantity = []\n",
    "for feature in df.columns.values:\n",
    "    if df[feature].max() == 1:\n",
    "        feature_bi.append(feature)\n",
    "    else:\n",
    "        feature_quantity.append(feature)\n",
    "print(feature_bi)\n",
    "print(feature_quantity)\n"
   ]
  },
  {
   "cell_type": "code",
   "execution_count": 8,
   "metadata": {},
   "outputs": [
    {
     "data": {
      "text/html": [
       "<div>\n",
       "<style scoped>\n",
       "    .dataframe tbody tr th:only-of-type {\n",
       "        vertical-align: middle;\n",
       "    }\n",
       "\n",
       "    .dataframe tbody tr th {\n",
       "        vertical-align: top;\n",
       "    }\n",
       "\n",
       "    .dataframe thead th {\n",
       "        text-align: right;\n",
       "    }\n",
       "</style>\n",
       "<table border=\"1\" class=\"dataframe\">\n",
       "  <thead>\n",
       "    <tr style=\"text-align: right;\">\n",
       "      <th></th>\n",
       "      <th>0</th>\n",
       "      <th>1</th>\n",
       "    </tr>\n",
       "  </thead>\n",
       "  <tbody>\n",
       "    <tr>\n",
       "      <th>Churn</th>\n",
       "      <td>0.000000</td>\n",
       "      <td>1.000000</td>\n",
       "    </tr>\n",
       "    <tr>\n",
       "      <th>Age</th>\n",
       "      <td>29.976523</td>\n",
       "      <td>26.989632</td>\n",
       "    </tr>\n",
       "    <tr>\n",
       "      <th>Avg_additional_charges_total</th>\n",
       "      <td>158.445715</td>\n",
       "      <td>115.082899</td>\n",
       "    </tr>\n",
       "    <tr>\n",
       "      <th>Avg_class_frequency_current_month</th>\n",
       "      <td>2.027882</td>\n",
       "      <td>1.044546</td>\n",
       "    </tr>\n",
       "    <tr>\n",
       "      <th>Avg_class_frequency_total</th>\n",
       "      <td>2.024876</td>\n",
       "      <td>1.474995</td>\n",
       "    </tr>\n",
       "    <tr>\n",
       "      <th>Contract_period</th>\n",
       "      <td>5.747193</td>\n",
       "      <td>1.728558</td>\n",
       "    </tr>\n",
       "    <tr>\n",
       "      <th>Group_visits</th>\n",
       "      <td>0.464103</td>\n",
       "      <td>0.268615</td>\n",
       "    </tr>\n",
       "    <tr>\n",
       "      <th>Lifetime</th>\n",
       "      <td>4.711807</td>\n",
       "      <td>0.990575</td>\n",
       "    </tr>\n",
       "    <tr>\n",
       "      <th>Month_to_end_contract</th>\n",
       "      <td>5.283089</td>\n",
       "      <td>1.662582</td>\n",
       "    </tr>\n",
       "    <tr>\n",
       "      <th>Near_Location</th>\n",
       "      <td>0.873086</td>\n",
       "      <td>0.768143</td>\n",
       "    </tr>\n",
       "  </tbody>\n",
       "</table>\n",
       "</div>"
      ],
      "text/plain": [
       "                                            0           1\n",
       "Churn                                0.000000    1.000000\n",
       "Age                                 29.976523   26.989632\n",
       "Avg_additional_charges_total       158.445715  115.082899\n",
       "Avg_class_frequency_current_month    2.027882    1.044546\n",
       "Avg_class_frequency_total            2.024876    1.474995\n",
       "Contract_period                      5.747193    1.728558\n",
       "Group_visits                         0.464103    0.268615\n",
       "Lifetime                             4.711807    0.990575\n",
       "Month_to_end_contract                5.283089    1.662582\n",
       "Near_Location                        0.873086    0.768143"
      ]
     },
     "metadata": {},
     "output_type": "display_data"
    }
   ],
   "source": [
    "# сводная таблица оттока\n",
    "df_churn= df.pivot_table(index=['Churn'], values=df.columns, aggfunc='mean').reset_index().T\n",
    "\n",
    "display(df_churn.head(10))"
   ]
  },
  {
   "cell_type": "code",
   "execution_count": 9,
   "metadata": {},
   "outputs": [
    {
     "data": {
      "text/html": [
       "<div>\n",
       "<style scoped>\n",
       "    .dataframe tbody tr th:only-of-type {\n",
       "        vertical-align: middle;\n",
       "    }\n",
       "\n",
       "    .dataframe tbody tr th {\n",
       "        vertical-align: top;\n",
       "    }\n",
       "\n",
       "    .dataframe thead th {\n",
       "        text-align: right;\n",
       "    }\n",
       "</style>\n",
       "<table border=\"1\" class=\"dataframe\">\n",
       "  <thead>\n",
       "    <tr style=\"text-align: right;\">\n",
       "      <th></th>\n",
       "      <th>gender</th>\n",
       "      <th>Near_Location</th>\n",
       "      <th>Partner</th>\n",
       "      <th>Promo_friends</th>\n",
       "      <th>Phone</th>\n",
       "      <th>Contract_period</th>\n",
       "      <th>Group_visits</th>\n",
       "      <th>Age</th>\n",
       "      <th>Avg_additional_charges_total</th>\n",
       "      <th>Month_to_end_contract</th>\n",
       "      <th>Lifetime</th>\n",
       "      <th>Avg_class_frequency_total</th>\n",
       "      <th>Avg_class_frequency_current_month</th>\n",
       "      <th>Churn</th>\n",
       "    </tr>\n",
       "  </thead>\n",
       "  <tbody>\n",
       "    <tr>\n",
       "      <th>7</th>\n",
       "      <td>0</td>\n",
       "      <td>1</td>\n",
       "      <td>0</td>\n",
       "      <td>0</td>\n",
       "      <td>1</td>\n",
       "      <td>1</td>\n",
       "      <td>0</td>\n",
       "      <td>30</td>\n",
       "      <td>217.786641</td>\n",
       "      <td>1.0</td>\n",
       "      <td>0</td>\n",
       "      <td>1.213502</td>\n",
       "      <td>1.049387</td>\n",
       "      <td>1</td>\n",
       "    </tr>\n",
       "    <tr>\n",
       "      <th>11</th>\n",
       "      <td>1</td>\n",
       "      <td>1</td>\n",
       "      <td>1</td>\n",
       "      <td>0</td>\n",
       "      <td>1</td>\n",
       "      <td>1</td>\n",
       "      <td>0</td>\n",
       "      <td>27</td>\n",
       "      <td>266.783824</td>\n",
       "      <td>1.0</td>\n",
       "      <td>2</td>\n",
       "      <td>2.348535</td>\n",
       "      <td>1.584316</td>\n",
       "      <td>1</td>\n",
       "    </tr>\n",
       "    <tr>\n",
       "      <th>13</th>\n",
       "      <td>1</td>\n",
       "      <td>1</td>\n",
       "      <td>0</td>\n",
       "      <td>0</td>\n",
       "      <td>1</td>\n",
       "      <td>1</td>\n",
       "      <td>1</td>\n",
       "      <td>27</td>\n",
       "      <td>152.748668</td>\n",
       "      <td>1.0</td>\n",
       "      <td>1</td>\n",
       "      <td>0.000000</td>\n",
       "      <td>0.000000</td>\n",
       "      <td>1</td>\n",
       "    </tr>\n",
       "    <tr>\n",
       "      <th>21</th>\n",
       "      <td>0</td>\n",
       "      <td>0</td>\n",
       "      <td>0</td>\n",
       "      <td>0</td>\n",
       "      <td>1</td>\n",
       "      <td>1</td>\n",
       "      <td>0</td>\n",
       "      <td>30</td>\n",
       "      <td>153.198594</td>\n",
       "      <td>1.0</td>\n",
       "      <td>3</td>\n",
       "      <td>0.636382</td>\n",
       "      <td>0.000000</td>\n",
       "      <td>1</td>\n",
       "    </tr>\n",
       "    <tr>\n",
       "      <th>23</th>\n",
       "      <td>1</td>\n",
       "      <td>1</td>\n",
       "      <td>0</td>\n",
       "      <td>0</td>\n",
       "      <td>1</td>\n",
       "      <td>1</td>\n",
       "      <td>1</td>\n",
       "      <td>32</td>\n",
       "      <td>276.079882</td>\n",
       "      <td>1.0</td>\n",
       "      <td>1</td>\n",
       "      <td>1.420637</td>\n",
       "      <td>1.043101</td>\n",
       "      <td>1</td>\n",
       "    </tr>\n",
       "    <tr>\n",
       "      <th>...</th>\n",
       "      <td>...</td>\n",
       "      <td>...</td>\n",
       "      <td>...</td>\n",
       "      <td>...</td>\n",
       "      <td>...</td>\n",
       "      <td>...</td>\n",
       "      <td>...</td>\n",
       "      <td>...</td>\n",
       "      <td>...</td>\n",
       "      <td>...</td>\n",
       "      <td>...</td>\n",
       "      <td>...</td>\n",
       "      <td>...</td>\n",
       "      <td>...</td>\n",
       "    </tr>\n",
       "    <tr>\n",
       "      <th>3982</th>\n",
       "      <td>1</td>\n",
       "      <td>1</td>\n",
       "      <td>0</td>\n",
       "      <td>0</td>\n",
       "      <td>1</td>\n",
       "      <td>1</td>\n",
       "      <td>0</td>\n",
       "      <td>24</td>\n",
       "      <td>135.395712</td>\n",
       "      <td>1.0</td>\n",
       "      <td>0</td>\n",
       "      <td>1.390251</td>\n",
       "      <td>0.789321</td>\n",
       "      <td>1</td>\n",
       "    </tr>\n",
       "    <tr>\n",
       "      <th>3984</th>\n",
       "      <td>1</td>\n",
       "      <td>1</td>\n",
       "      <td>0</td>\n",
       "      <td>0</td>\n",
       "      <td>1</td>\n",
       "      <td>6</td>\n",
       "      <td>1</td>\n",
       "      <td>22</td>\n",
       "      <td>101.107544</td>\n",
       "      <td>6.0</td>\n",
       "      <td>2</td>\n",
       "      <td>1.377860</td>\n",
       "      <td>0.343915</td>\n",
       "      <td>1</td>\n",
       "    </tr>\n",
       "    <tr>\n",
       "      <th>3986</th>\n",
       "      <td>0</td>\n",
       "      <td>1</td>\n",
       "      <td>1</td>\n",
       "      <td>1</td>\n",
       "      <td>1</td>\n",
       "      <td>1</td>\n",
       "      <td>1</td>\n",
       "      <td>34</td>\n",
       "      <td>226.804845</td>\n",
       "      <td>1.0</td>\n",
       "      <td>0</td>\n",
       "      <td>1.399529</td>\n",
       "      <td>0.304130</td>\n",
       "      <td>1</td>\n",
       "    </tr>\n",
       "    <tr>\n",
       "      <th>3994</th>\n",
       "      <td>1</td>\n",
       "      <td>1</td>\n",
       "      <td>0</td>\n",
       "      <td>0</td>\n",
       "      <td>1</td>\n",
       "      <td>1</td>\n",
       "      <td>0</td>\n",
       "      <td>26</td>\n",
       "      <td>31.066721</td>\n",
       "      <td>1.0</td>\n",
       "      <td>1</td>\n",
       "      <td>1.157451</td>\n",
       "      <td>0.269597</td>\n",
       "      <td>1</td>\n",
       "    </tr>\n",
       "    <tr>\n",
       "      <th>3996</th>\n",
       "      <td>0</td>\n",
       "      <td>1</td>\n",
       "      <td>0</td>\n",
       "      <td>0</td>\n",
       "      <td>1</td>\n",
       "      <td>1</td>\n",
       "      <td>1</td>\n",
       "      <td>29</td>\n",
       "      <td>68.883764</td>\n",
       "      <td>1.0</td>\n",
       "      <td>1</td>\n",
       "      <td>1.277168</td>\n",
       "      <td>0.292859</td>\n",
       "      <td>1</td>\n",
       "    </tr>\n",
       "  </tbody>\n",
       "</table>\n",
       "<p>1061 rows × 14 columns</p>\n",
       "</div>"
      ],
      "text/plain": [
       "      gender  Near_Location  Partner  Promo_friends  Phone  Contract_period  \\\n",
       "7          0              1        0              0      1                1   \n",
       "11         1              1        1              0      1                1   \n",
       "13         1              1        0              0      1                1   \n",
       "21         0              0        0              0      1                1   \n",
       "23         1              1        0              0      1                1   \n",
       "...      ...            ...      ...            ...    ...              ...   \n",
       "3982       1              1        0              0      1                1   \n",
       "3984       1              1        0              0      1                6   \n",
       "3986       0              1        1              1      1                1   \n",
       "3994       1              1        0              0      1                1   \n",
       "3996       0              1        0              0      1                1   \n",
       "\n",
       "      Group_visits  Age  Avg_additional_charges_total  Month_to_end_contract  \\\n",
       "7                0   30                    217.786641                    1.0   \n",
       "11               0   27                    266.783824                    1.0   \n",
       "13               1   27                    152.748668                    1.0   \n",
       "21               0   30                    153.198594                    1.0   \n",
       "23               1   32                    276.079882                    1.0   \n",
       "...            ...  ...                           ...                    ...   \n",
       "3982             0   24                    135.395712                    1.0   \n",
       "3984             1   22                    101.107544                    6.0   \n",
       "3986             1   34                    226.804845                    1.0   \n",
       "3994             0   26                     31.066721                    1.0   \n",
       "3996             1   29                     68.883764                    1.0   \n",
       "\n",
       "      Lifetime  Avg_class_frequency_total  Avg_class_frequency_current_month  \\\n",
       "7            0                   1.213502                           1.049387   \n",
       "11           2                   2.348535                           1.584316   \n",
       "13           1                   0.000000                           0.000000   \n",
       "21           3                   0.636382                           0.000000   \n",
       "23           1                   1.420637                           1.043101   \n",
       "...        ...                        ...                                ...   \n",
       "3982         0                   1.390251                           0.789321   \n",
       "3984         2                   1.377860                           0.343915   \n",
       "3986         0                   1.399529                           0.304130   \n",
       "3994         1                   1.157451                           0.269597   \n",
       "3996         1                   1.277168                           0.292859   \n",
       "\n",
       "      Churn  \n",
       "7         1  \n",
       "11        1  \n",
       "13        1  \n",
       "21        1  \n",
       "23        1  \n",
       "...     ...  \n",
       "3982      1  \n",
       "3984      1  \n",
       "3986      1  \n",
       "3994      1  \n",
       "3996      1  \n",
       "\n",
       "[1061 rows x 14 columns]"
      ]
     },
     "execution_count": 9,
     "metadata": {},
     "output_type": "execute_result"
    }
   ],
   "source": [
    "df_churn_1= df.query('Churn == 1')\n",
    "df_churn_1"
   ]
  },
  {
   "cell_type": "code",
   "execution_count": 10,
   "metadata": {},
   "outputs": [
    {
     "data": {
      "text/html": [
       "<div>\n",
       "<style scoped>\n",
       "    .dataframe tbody tr th:only-of-type {\n",
       "        vertical-align: middle;\n",
       "    }\n",
       "\n",
       "    .dataframe tbody tr th {\n",
       "        vertical-align: top;\n",
       "    }\n",
       "\n",
       "    .dataframe thead th {\n",
       "        text-align: right;\n",
       "    }\n",
       "</style>\n",
       "<table border=\"1\" class=\"dataframe\">\n",
       "  <thead>\n",
       "    <tr style=\"text-align: right;\">\n",
       "      <th></th>\n",
       "      <th>gender</th>\n",
       "      <th>Near_Location</th>\n",
       "      <th>Partner</th>\n",
       "      <th>Promo_friends</th>\n",
       "      <th>Phone</th>\n",
       "      <th>Contract_period</th>\n",
       "      <th>Group_visits</th>\n",
       "      <th>Age</th>\n",
       "      <th>Avg_additional_charges_total</th>\n",
       "      <th>Month_to_end_contract</th>\n",
       "      <th>Lifetime</th>\n",
       "      <th>Avg_class_frequency_total</th>\n",
       "      <th>Avg_class_frequency_current_month</th>\n",
       "      <th>Churn</th>\n",
       "    </tr>\n",
       "  </thead>\n",
       "  <tbody>\n",
       "    <tr>\n",
       "      <th>0</th>\n",
       "      <td>1</td>\n",
       "      <td>1</td>\n",
       "      <td>1</td>\n",
       "      <td>1</td>\n",
       "      <td>0</td>\n",
       "      <td>6</td>\n",
       "      <td>1</td>\n",
       "      <td>29</td>\n",
       "      <td>14.227470</td>\n",
       "      <td>5.0</td>\n",
       "      <td>3</td>\n",
       "      <td>0.020398</td>\n",
       "      <td>0.000000</td>\n",
       "      <td>0</td>\n",
       "    </tr>\n",
       "    <tr>\n",
       "      <th>1</th>\n",
       "      <td>0</td>\n",
       "      <td>1</td>\n",
       "      <td>0</td>\n",
       "      <td>0</td>\n",
       "      <td>1</td>\n",
       "      <td>12</td>\n",
       "      <td>1</td>\n",
       "      <td>31</td>\n",
       "      <td>113.202938</td>\n",
       "      <td>12.0</td>\n",
       "      <td>7</td>\n",
       "      <td>1.922936</td>\n",
       "      <td>1.910244</td>\n",
       "      <td>0</td>\n",
       "    </tr>\n",
       "    <tr>\n",
       "      <th>2</th>\n",
       "      <td>0</td>\n",
       "      <td>1</td>\n",
       "      <td>1</td>\n",
       "      <td>0</td>\n",
       "      <td>1</td>\n",
       "      <td>1</td>\n",
       "      <td>0</td>\n",
       "      <td>28</td>\n",
       "      <td>129.448479</td>\n",
       "      <td>1.0</td>\n",
       "      <td>2</td>\n",
       "      <td>1.859098</td>\n",
       "      <td>1.736502</td>\n",
       "      <td>0</td>\n",
       "    </tr>\n",
       "    <tr>\n",
       "      <th>3</th>\n",
       "      <td>0</td>\n",
       "      <td>1</td>\n",
       "      <td>1</td>\n",
       "      <td>1</td>\n",
       "      <td>1</td>\n",
       "      <td>12</td>\n",
       "      <td>1</td>\n",
       "      <td>33</td>\n",
       "      <td>62.669863</td>\n",
       "      <td>12.0</td>\n",
       "      <td>2</td>\n",
       "      <td>3.205633</td>\n",
       "      <td>3.357215</td>\n",
       "      <td>0</td>\n",
       "    </tr>\n",
       "    <tr>\n",
       "      <th>4</th>\n",
       "      <td>1</td>\n",
       "      <td>1</td>\n",
       "      <td>1</td>\n",
       "      <td>1</td>\n",
       "      <td>1</td>\n",
       "      <td>1</td>\n",
       "      <td>0</td>\n",
       "      <td>26</td>\n",
       "      <td>198.362265</td>\n",
       "      <td>1.0</td>\n",
       "      <td>3</td>\n",
       "      <td>1.113884</td>\n",
       "      <td>1.120078</td>\n",
       "      <td>0</td>\n",
       "    </tr>\n",
       "    <tr>\n",
       "      <th>...</th>\n",
       "      <td>...</td>\n",
       "      <td>...</td>\n",
       "      <td>...</td>\n",
       "      <td>...</td>\n",
       "      <td>...</td>\n",
       "      <td>...</td>\n",
       "      <td>...</td>\n",
       "      <td>...</td>\n",
       "      <td>...</td>\n",
       "      <td>...</td>\n",
       "      <td>...</td>\n",
       "      <td>...</td>\n",
       "      <td>...</td>\n",
       "      <td>...</td>\n",
       "    </tr>\n",
       "    <tr>\n",
       "      <th>3993</th>\n",
       "      <td>0</td>\n",
       "      <td>1</td>\n",
       "      <td>1</td>\n",
       "      <td>0</td>\n",
       "      <td>1</td>\n",
       "      <td>1</td>\n",
       "      <td>0</td>\n",
       "      <td>33</td>\n",
       "      <td>231.778628</td>\n",
       "      <td>1.0</td>\n",
       "      <td>3</td>\n",
       "      <td>1.418791</td>\n",
       "      <td>1.450442</td>\n",
       "      <td>0</td>\n",
       "    </tr>\n",
       "    <tr>\n",
       "      <th>3995</th>\n",
       "      <td>1</td>\n",
       "      <td>1</td>\n",
       "      <td>1</td>\n",
       "      <td>0</td>\n",
       "      <td>1</td>\n",
       "      <td>12</td>\n",
       "      <td>0</td>\n",
       "      <td>33</td>\n",
       "      <td>2.406023</td>\n",
       "      <td>12.0</td>\n",
       "      <td>8</td>\n",
       "      <td>2.284497</td>\n",
       "      <td>2.349070</td>\n",
       "      <td>0</td>\n",
       "    </tr>\n",
       "    <tr>\n",
       "      <th>3997</th>\n",
       "      <td>1</td>\n",
       "      <td>1</td>\n",
       "      <td>1</td>\n",
       "      <td>1</td>\n",
       "      <td>1</td>\n",
       "      <td>12</td>\n",
       "      <td>0</td>\n",
       "      <td>28</td>\n",
       "      <td>78.250542</td>\n",
       "      <td>11.0</td>\n",
       "      <td>2</td>\n",
       "      <td>2.786146</td>\n",
       "      <td>2.831439</td>\n",
       "      <td>0</td>\n",
       "    </tr>\n",
       "    <tr>\n",
       "      <th>3998</th>\n",
       "      <td>0</td>\n",
       "      <td>1</td>\n",
       "      <td>1</td>\n",
       "      <td>1</td>\n",
       "      <td>1</td>\n",
       "      <td>6</td>\n",
       "      <td>0</td>\n",
       "      <td>32</td>\n",
       "      <td>61.912657</td>\n",
       "      <td>5.0</td>\n",
       "      <td>3</td>\n",
       "      <td>1.630108</td>\n",
       "      <td>1.596237</td>\n",
       "      <td>0</td>\n",
       "    </tr>\n",
       "    <tr>\n",
       "      <th>3999</th>\n",
       "      <td>1</td>\n",
       "      <td>0</td>\n",
       "      <td>1</td>\n",
       "      <td>0</td>\n",
       "      <td>0</td>\n",
       "      <td>12</td>\n",
       "      <td>1</td>\n",
       "      <td>30</td>\n",
       "      <td>178.861814</td>\n",
       "      <td>12.0</td>\n",
       "      <td>1</td>\n",
       "      <td>1.101832</td>\n",
       "      <td>1.035270</td>\n",
       "      <td>0</td>\n",
       "    </tr>\n",
       "  </tbody>\n",
       "</table>\n",
       "<p>2939 rows × 14 columns</p>\n",
       "</div>"
      ],
      "text/plain": [
       "      gender  Near_Location  Partner  Promo_friends  Phone  Contract_period  \\\n",
       "0          1              1        1              1      0                6   \n",
       "1          0              1        0              0      1               12   \n",
       "2          0              1        1              0      1                1   \n",
       "3          0              1        1              1      1               12   \n",
       "4          1              1        1              1      1                1   \n",
       "...      ...            ...      ...            ...    ...              ...   \n",
       "3993       0              1        1              0      1                1   \n",
       "3995       1              1        1              0      1               12   \n",
       "3997       1              1        1              1      1               12   \n",
       "3998       0              1        1              1      1                6   \n",
       "3999       1              0        1              0      0               12   \n",
       "\n",
       "      Group_visits  Age  Avg_additional_charges_total  Month_to_end_contract  \\\n",
       "0                1   29                     14.227470                    5.0   \n",
       "1                1   31                    113.202938                   12.0   \n",
       "2                0   28                    129.448479                    1.0   \n",
       "3                1   33                     62.669863                   12.0   \n",
       "4                0   26                    198.362265                    1.0   \n",
       "...            ...  ...                           ...                    ...   \n",
       "3993             0   33                    231.778628                    1.0   \n",
       "3995             0   33                      2.406023                   12.0   \n",
       "3997             0   28                     78.250542                   11.0   \n",
       "3998             0   32                     61.912657                    5.0   \n",
       "3999             1   30                    178.861814                   12.0   \n",
       "\n",
       "      Lifetime  Avg_class_frequency_total  Avg_class_frequency_current_month  \\\n",
       "0            3                   0.020398                           0.000000   \n",
       "1            7                   1.922936                           1.910244   \n",
       "2            2                   1.859098                           1.736502   \n",
       "3            2                   3.205633                           3.357215   \n",
       "4            3                   1.113884                           1.120078   \n",
       "...        ...                        ...                                ...   \n",
       "3993         3                   1.418791                           1.450442   \n",
       "3995         8                   2.284497                           2.349070   \n",
       "3997         2                   2.786146                           2.831439   \n",
       "3998         3                   1.630108                           1.596237   \n",
       "3999         1                   1.101832                           1.035270   \n",
       "\n",
       "      Churn  \n",
       "0         0  \n",
       "1         0  \n",
       "2         0  \n",
       "3         0  \n",
       "4         0  \n",
       "...     ...  \n",
       "3993      0  \n",
       "3995      0  \n",
       "3997      0  \n",
       "3998      0  \n",
       "3999      0  \n",
       "\n",
       "[2939 rows x 14 columns]"
      ]
     },
     "execution_count": 10,
     "metadata": {},
     "output_type": "execute_result"
    }
   ],
   "source": [
    "df_churn_0= df.query('Churn == 0')\n",
    "df_churn_0"
   ]
  },
  {
   "cell_type": "markdown",
   "metadata": {},
   "source": [
    "Постройте столбчатые гистограммы и распределения признаков для тех, кто ушёл (отток) и тех, кто остался (не попали в отток). \n"
   ]
  },
  {
   "cell_type": "code",
   "execution_count": 11,
   "metadata": {},
   "outputs": [
    {
     "data": {
      "image/png": "[encoded data removed]",
      "text/plain": [
       "<Figure size 1080x864 with 6 Axes>"
      ]
     },
     "metadata": {
      "needs_background": "light"
     },
     "output_type": "display_data"
    }
   ],
   "source": [
    "# визуализируем отличия для бинарных признаков\n",
    "plt.figure(figsize=(15, 12))\n",
    "for i in range(len(feature_bi)-1):   \n",
    "    ax = plt.subplot(2, 3, i+1)\n",
    "    ax.hist(df_churn_0[feature_bi[i]], alpha=0.5, label='0')\n",
    "    ax.hist(df_churn_1[feature_bi[i]], alpha=0.5, label='1')\n",
    "    plt.xlabel(feature_bi[i])\n",
    "    plt.ylabel('Количество клиентов')\n",
    "    plt.legend(loc='upper center')\n",
    "plt.show()"
   ]
  },
  {
   "cell_type": "markdown",
   "metadata": {},
   "source": [
    "<div class=\"alert alert-block alert-warning\">\n",
    "<b> \n",
    "    \n",
    "    По графикам бинарных признаков  наиболее преданные клиенты живут чаще рядом с фитнес-центром,их работодатели партнеры клуба, они чаще привлечены промоакциями и чаще посещают групповые тренировки , тогда как попавшие в отток наоборот  "
   ]
  },
  {
   "cell_type": "code",
   "execution_count": 12,
   "metadata": {},
   "outputs": [
    {
     "data": {
      "image/png": "[encoded data removed]",
      "text/plain": [
       "<Figure size 1080x360 with 1 Axes>"
      ]
     },
     "metadata": {
      "needs_background": "light"
     },
     "output_type": "display_data"
    },
    {
     "data": {
      "image/png": "[encoded data removed]",
      "text/plain": [
       "<Figure size 1080x360 with 1 Axes>"
      ]
     },
     "metadata": {
      "needs_background": "light"
     },
     "output_type": "display_data"
    },
    {
     "data": {
      "image/png": "[encoded data removed]",
      "text/plain": [
       "<Figure size 1080x360 with 1 Axes>"
      ]
     },
     "metadata": {
      "needs_background": "light"
     },
     "output_type": "display_data"
    },
    {
     "data": {
      "image/png": "[encoded data removed]",
      "text/plain": [
       "<Figure size 1080x360 with 1 Axes>"
      ]
     },
     "metadata": {
      "needs_background": "light"
     },
     "output_type": "display_data"
    },
    {
     "data": {
      "image/png": "[encoded data removed]",
      "text/plain": [
       "<Figure size 1080x360 with 1 Axes>"
      ]
     },
     "metadata": {
      "needs_background": "light"
     },
     "output_type": "display_data"
    },
    {
     "data": {
      "image/png": "[encoded data removed]",
      "text/plain": [
       "<Figure size 1080x360 with 1 Axes>"
      ]
     },
     "metadata": {
      "needs_background": "light"
     },
     "output_type": "display_data"
    },
    {
     "data": {
      "image/png": "[encoded data removed]",
      "text/plain": [
       "<Figure size 1080x360 with 1 Axes>"
      ]
     },
     "metadata": {
      "needs_background": "light"
     },
     "output_type": "display_data"
    }
   ],
   "source": [
    "# визуализируем отличия колличественных признаков по объединенной таблице оттока\n",
    "for feature in feature_quantity:\n",
    "    plt.figure(figsize=(15, 5))\n",
    "    sns.histplot( data=df_churn)\n",
    "\n",
    "    plt.xlabel(feature)\n",
    "    plt.ylabel('Количество клиентов')\n",
    "    plt.show()\n"
   ]
  },
  {
   "cell_type": "code",
   "execution_count": 13,
   "metadata": {},
   "outputs": [
    {
     "data": {
      "image/png": "[encoded data removed]",
      "text/plain": [
       "<Figure size 1080x864 with 6 Axes>"
      ]
     },
     "metadata": {
      "needs_background": "light"
     },
     "output_type": "display_data"
    }
   ],
   "source": [
    "plt.figure(figsize=(15, 12))\n",
    "for i in range(len(feature_quantity )-1):   \n",
    "    ax = plt.subplot(2, 3, i+1)\n",
    "    ax.hist(df_churn_0[feature_quantity [i]], alpha=0.5, label='0')\n",
    "    ax.hist(df_churn_1[feature_quantity [i]], alpha=0.5, label='1')\n",
    "    plt.xlabel(feature_quantity [i])\n",
    "    plt.ylabel('Количество клиентов')\n",
    "    plt.legend(loc='upper center')\n",
    "plt.show()"
   ]
  },
  {
   "cell_type": "markdown",
   "metadata": {},
   "source": [
    "<div class=\"alert alert-block alert-warning\">\n",
    "<b> \n",
    "    \n",
    "    В  распределении  колличественных признаков очевидно, что  чаще попадают в отток клиенты, которые не ходили в текущий месяц, купили абонемент  на 1 месяц, у которых остался всего месяц  до конца абонемента, кто пришел впервые не более 3 месяцев назад.  Также попавшие в отток реже посещают тренировки в целом и в среднем на три года  моложе "
   ]
  },
  {
   "cell_type": "code",
   "execution_count": 14,
   "metadata": {},
   "outputs": [
    {
     "data": {
      "text/html": [
       "<div>\n",
       "<style scoped>\n",
       "    .dataframe tbody tr th:only-of-type {\n",
       "        vertical-align: middle;\n",
       "    }\n",
       "\n",
       "    .dataframe tbody tr th {\n",
       "        vertical-align: top;\n",
       "    }\n",
       "\n",
       "    .dataframe thead th {\n",
       "        text-align: right;\n",
       "    }\n",
       "</style>\n",
       "<table border=\"1\" class=\"dataframe\">\n",
       "  <thead>\n",
       "    <tr style=\"text-align: right;\">\n",
       "      <th></th>\n",
       "      <th>gender</th>\n",
       "      <th>Near_Location</th>\n",
       "      <th>Partner</th>\n",
       "      <th>Promo_friends</th>\n",
       "      <th>Phone</th>\n",
       "      <th>Contract_period</th>\n",
       "      <th>Group_visits</th>\n",
       "      <th>Age</th>\n",
       "      <th>Avg_additional_charges_total</th>\n",
       "      <th>Month_to_end_contract</th>\n",
       "      <th>Lifetime</th>\n",
       "      <th>Avg_class_frequency_total</th>\n",
       "      <th>Avg_class_frequency_current_month</th>\n",
       "      <th>Churn</th>\n",
       "    </tr>\n",
       "  </thead>\n",
       "  <tbody>\n",
       "    <tr>\n",
       "      <th>gender</th>\n",
       "      <td>1.000000</td>\n",
       "      <td>0.006699</td>\n",
       "      <td>-0.010463</td>\n",
       "      <td>-0.005033</td>\n",
       "      <td>-0.008542</td>\n",
       "      <td>0.000502</td>\n",
       "      <td>0.017879</td>\n",
       "      <td>0.013807</td>\n",
       "      <td>-0.009334</td>\n",
       "      <td>-0.001281</td>\n",
       "      <td>0.013579</td>\n",
       "      <td>0.014620</td>\n",
       "      <td>0.009156</td>\n",
       "      <td>0.000708</td>\n",
       "    </tr>\n",
       "    <tr>\n",
       "      <th>Near_Location</th>\n",
       "      <td>0.006699</td>\n",
       "      <td>1.000000</td>\n",
       "      <td>-0.005119</td>\n",
       "      <td>0.210964</td>\n",
       "      <td>-0.015763</td>\n",
       "      <td>0.150233</td>\n",
       "      <td>0.154728</td>\n",
       "      <td>0.058358</td>\n",
       "      <td>0.040761</td>\n",
       "      <td>0.143961</td>\n",
       "      <td>0.070921</td>\n",
       "      <td>0.043127</td>\n",
       "      <td>0.062664</td>\n",
       "      <td>-0.128098</td>\n",
       "    </tr>\n",
       "    <tr>\n",
       "      <th>Partner</th>\n",
       "      <td>-0.010463</td>\n",
       "      <td>-0.005119</td>\n",
       "      <td>1.000000</td>\n",
       "      <td>0.451960</td>\n",
       "      <td>0.009970</td>\n",
       "      <td>0.306166</td>\n",
       "      <td>0.022710</td>\n",
       "      <td>0.047480</td>\n",
       "      <td>0.022941</td>\n",
       "      <td>0.294632</td>\n",
       "      <td>0.061229</td>\n",
       "      <td>0.024938</td>\n",
       "      <td>0.045561</td>\n",
       "      <td>-0.157986</td>\n",
       "    </tr>\n",
       "    <tr>\n",
       "      <th>Promo_friends</th>\n",
       "      <td>-0.005033</td>\n",
       "      <td>0.210964</td>\n",
       "      <td>0.451960</td>\n",
       "      <td>1.000000</td>\n",
       "      <td>0.001982</td>\n",
       "      <td>0.244552</td>\n",
       "      <td>0.120170</td>\n",
       "      <td>0.050113</td>\n",
       "      <td>0.036898</td>\n",
       "      <td>0.239553</td>\n",
       "      <td>0.072721</td>\n",
       "      <td>0.028063</td>\n",
       "      <td>0.053768</td>\n",
       "      <td>-0.162233</td>\n",
       "    </tr>\n",
       "    <tr>\n",
       "      <th>Phone</th>\n",
       "      <td>-0.008542</td>\n",
       "      <td>-0.015763</td>\n",
       "      <td>0.009970</td>\n",
       "      <td>0.001982</td>\n",
       "      <td>1.000000</td>\n",
       "      <td>-0.006893</td>\n",
       "      <td>-0.010099</td>\n",
       "      <td>-0.011403</td>\n",
       "      <td>0.009279</td>\n",
       "      <td>-0.011196</td>\n",
       "      <td>-0.018801</td>\n",
       "      <td>0.008340</td>\n",
       "      <td>0.013375</td>\n",
       "      <td>-0.001177</td>\n",
       "    </tr>\n",
       "    <tr>\n",
       "      <th>Contract_period</th>\n",
       "      <td>0.000502</td>\n",
       "      <td>0.150233</td>\n",
       "      <td>0.306166</td>\n",
       "      <td>0.244552</td>\n",
       "      <td>-0.006893</td>\n",
       "      <td>1.000000</td>\n",
       "      <td>0.169991</td>\n",
       "      <td>0.138249</td>\n",
       "      <td>0.111445</td>\n",
       "      <td>0.973064</td>\n",
       "      <td>0.170725</td>\n",
       "      <td>0.096211</td>\n",
       "      <td>0.159407</td>\n",
       "      <td>-0.389984</td>\n",
       "    </tr>\n",
       "    <tr>\n",
       "      <th>Group_visits</th>\n",
       "      <td>0.017879</td>\n",
       "      <td>0.154728</td>\n",
       "      <td>0.022710</td>\n",
       "      <td>0.120170</td>\n",
       "      <td>-0.010099</td>\n",
       "      <td>0.169991</td>\n",
       "      <td>1.000000</td>\n",
       "      <td>0.080934</td>\n",
       "      <td>0.032079</td>\n",
       "      <td>0.163703</td>\n",
       "      <td>0.075853</td>\n",
       "      <td>0.056695</td>\n",
       "      <td>0.075923</td>\n",
       "      <td>-0.175325</td>\n",
       "    </tr>\n",
       "    <tr>\n",
       "      <th>Age</th>\n",
       "      <td>0.013807</td>\n",
       "      <td>0.058358</td>\n",
       "      <td>0.047480</td>\n",
       "      <td>0.050113</td>\n",
       "      <td>-0.011403</td>\n",
       "      <td>0.138249</td>\n",
       "      <td>0.080934</td>\n",
       "      <td>1.000000</td>\n",
       "      <td>0.080240</td>\n",
       "      <td>0.134511</td>\n",
       "      <td>0.164693</td>\n",
       "      <td>0.119953</td>\n",
       "      <td>0.183095</td>\n",
       "      <td>-0.404735</td>\n",
       "    </tr>\n",
       "    <tr>\n",
       "      <th>Avg_additional_charges_total</th>\n",
       "      <td>-0.009334</td>\n",
       "      <td>0.040761</td>\n",
       "      <td>0.022941</td>\n",
       "      <td>0.036898</td>\n",
       "      <td>0.009279</td>\n",
       "      <td>0.111445</td>\n",
       "      <td>0.032079</td>\n",
       "      <td>0.080240</td>\n",
       "      <td>1.000000</td>\n",
       "      <td>0.113958</td>\n",
       "      <td>0.079028</td>\n",
       "      <td>0.044426</td>\n",
       "      <td>0.079570</td>\n",
       "      <td>-0.198697</td>\n",
       "    </tr>\n",
       "    <tr>\n",
       "      <th>Month_to_end_contract</th>\n",
       "      <td>-0.001281</td>\n",
       "      <td>0.143961</td>\n",
       "      <td>0.294632</td>\n",
       "      <td>0.239553</td>\n",
       "      <td>-0.011196</td>\n",
       "      <td>0.973064</td>\n",
       "      <td>0.163703</td>\n",
       "      <td>0.134511</td>\n",
       "      <td>0.113958</td>\n",
       "      <td>1.000000</td>\n",
       "      <td>0.161078</td>\n",
       "      <td>0.085387</td>\n",
       "      <td>0.147605</td>\n",
       "      <td>-0.381393</td>\n",
       "    </tr>\n",
       "    <tr>\n",
       "      <th>Lifetime</th>\n",
       "      <td>0.013579</td>\n",
       "      <td>0.070921</td>\n",
       "      <td>0.061229</td>\n",
       "      <td>0.072721</td>\n",
       "      <td>-0.018801</td>\n",
       "      <td>0.170725</td>\n",
       "      <td>0.075853</td>\n",
       "      <td>0.164693</td>\n",
       "      <td>0.079028</td>\n",
       "      <td>0.161078</td>\n",
       "      <td>1.000000</td>\n",
       "      <td>0.112338</td>\n",
       "      <td>0.181975</td>\n",
       "      <td>-0.438220</td>\n",
       "    </tr>\n",
       "    <tr>\n",
       "      <th>Avg_class_frequency_total</th>\n",
       "      <td>0.014620</td>\n",
       "      <td>0.043127</td>\n",
       "      <td>0.024938</td>\n",
       "      <td>0.028063</td>\n",
       "      <td>0.008340</td>\n",
       "      <td>0.096211</td>\n",
       "      <td>0.056695</td>\n",
       "      <td>0.119953</td>\n",
       "      <td>0.044426</td>\n",
       "      <td>0.085387</td>\n",
       "      <td>0.112338</td>\n",
       "      <td>1.000000</td>\n",
       "      <td>0.952739</td>\n",
       "      <td>-0.249715</td>\n",
       "    </tr>\n",
       "    <tr>\n",
       "      <th>Avg_class_frequency_current_month</th>\n",
       "      <td>0.009156</td>\n",
       "      <td>0.062664</td>\n",
       "      <td>0.045561</td>\n",
       "      <td>0.053768</td>\n",
       "      <td>0.013375</td>\n",
       "      <td>0.159407</td>\n",
       "      <td>0.075923</td>\n",
       "      <td>0.183095</td>\n",
       "      <td>0.079570</td>\n",
       "      <td>0.147605</td>\n",
       "      <td>0.181975</td>\n",
       "      <td>0.952739</td>\n",
       "      <td>1.000000</td>\n",
       "      <td>-0.412348</td>\n",
       "    </tr>\n",
       "    <tr>\n",
       "      <th>Churn</th>\n",
       "      <td>0.000708</td>\n",
       "      <td>-0.128098</td>\n",
       "      <td>-0.157986</td>\n",
       "      <td>-0.162233</td>\n",
       "      <td>-0.001177</td>\n",
       "      <td>-0.389984</td>\n",
       "      <td>-0.175325</td>\n",
       "      <td>-0.404735</td>\n",
       "      <td>-0.198697</td>\n",
       "      <td>-0.381393</td>\n",
       "      <td>-0.438220</td>\n",
       "      <td>-0.249715</td>\n",
       "      <td>-0.412348</td>\n",
       "      <td>1.000000</td>\n",
       "    </tr>\n",
       "  </tbody>\n",
       "</table>\n",
       "</div>"
      ],
      "text/plain": [
       "                                     gender  Near_Location   Partner  \\\n",
       "gender                             1.000000       0.006699 -0.010463   \n",
       "Near_Location                      0.006699       1.000000 -0.005119   \n",
       "Partner                           -0.010463      -0.005119  1.000000   \n",
       "Promo_friends                     -0.005033       0.210964  0.451960   \n",
       "Phone                             -0.008542      -0.015763  0.009970   \n",
       "Contract_period                    0.000502       0.150233  0.306166   \n",
       "Group_visits                       0.017879       0.154728  0.022710   \n",
       "Age                                0.013807       0.058358  0.047480   \n",
       "Avg_additional_charges_total      -0.009334       0.040761  0.022941   \n",
       "Month_to_end_contract             -0.001281       0.143961  0.294632   \n",
       "Lifetime                           0.013579       0.070921  0.061229   \n",
       "Avg_class_frequency_total          0.014620       0.043127  0.024938   \n",
       "Avg_class_frequency_current_month  0.009156       0.062664  0.045561   \n",
       "Churn                              0.000708      -0.128098 -0.157986   \n",
       "\n",
       "                                   Promo_friends     Phone  Contract_period  \\\n",
       "gender                                 -0.005033 -0.008542         0.000502   \n",
       "Near_Location                           0.210964 -0.015763         0.150233   \n",
       "Partner                                 0.451960  0.009970         0.306166   \n",
       "Promo_friends                           1.000000  0.001982         0.244552   \n",
       "Phone                                   0.001982  1.000000        -0.006893   \n",
       "Contract_period                         0.244552 -0.006893         1.000000   \n",
       "Group_visits                            0.120170 -0.010099         0.169991   \n",
       "Age                                     0.050113 -0.011403         0.138249   \n",
       "Avg_additional_charges_total            0.036898  0.009279         0.111445   \n",
       "Month_to_end_contract                   0.239553 -0.011196         0.973064   \n",
       "Lifetime                                0.072721 -0.018801         0.170725   \n",
       "Avg_class_frequency_total               0.028063  0.008340         0.096211   \n",
       "Avg_class_frequency_current_month       0.053768  0.013375         0.159407   \n",
       "Churn                                  -0.162233 -0.001177        -0.389984   \n",
       "\n",
       "                                   Group_visits       Age  \\\n",
       "gender                                 0.017879  0.013807   \n",
       "Near_Location                          0.154728  0.058358   \n",
       "Partner                                0.022710  0.047480   \n",
       "Promo_friends                          0.120170  0.050113   \n",
       "Phone                                 -0.010099 -0.011403   \n",
       "Contract_period                        0.169991  0.138249   \n",
       "Group_visits                           1.000000  0.080934   \n",
       "Age                                    0.080934  1.000000   \n",
       "Avg_additional_charges_total           0.032079  0.080240   \n",
       "Month_to_end_contract                  0.163703  0.134511   \n",
       "Lifetime                               0.075853  0.164693   \n",
       "Avg_class_frequency_total              0.056695  0.119953   \n",
       "Avg_class_frequency_current_month      0.075923  0.183095   \n",
       "Churn                                 -0.175325 -0.404735   \n",
       "\n",
       "                                   Avg_additional_charges_total  \\\n",
       "gender                                                -0.009334   \n",
       "Near_Location                                          0.040761   \n",
       "Partner                                                0.022941   \n",
       "Promo_friends                                          0.036898   \n",
       "Phone                                                  0.009279   \n",
       "Contract_period                                        0.111445   \n",
       "Group_visits                                           0.032079   \n",
       "Age                                                    0.080240   \n",
       "Avg_additional_charges_total                           1.000000   \n",
       "Month_to_end_contract                                  0.113958   \n",
       "Lifetime                                               0.079028   \n",
       "Avg_class_frequency_total                              0.044426   \n",
       "Avg_class_frequency_current_month                      0.079570   \n",
       "Churn                                                 -0.198697   \n",
       "\n",
       "                                   Month_to_end_contract  Lifetime  \\\n",
       "gender                                         -0.001281  0.013579   \n",
       "Near_Location                                   0.143961  0.070921   \n",
       "Partner                                         0.294632  0.061229   \n",
       "Promo_friends                                   0.239553  0.072721   \n",
       "Phone                                          -0.011196 -0.018801   \n",
       "Contract_period                                 0.973064  0.170725   \n",
       "Group_visits                                    0.163703  0.075853   \n",
       "Age                                             0.134511  0.164693   \n",
       "Avg_additional_charges_total                    0.113958  0.079028   \n",
       "Month_to_end_contract                           1.000000  0.161078   \n",
       "Lifetime                                        0.161078  1.000000   \n",
       "Avg_class_frequency_total                       0.085387  0.112338   \n",
       "Avg_class_frequency_current_month               0.147605  0.181975   \n",
       "Churn                                          -0.381393 -0.438220   \n",
       "\n",
       "                                   Avg_class_frequency_total  \\\n",
       "gender                                              0.014620   \n",
       "Near_Location                                       0.043127   \n",
       "Partner                                             0.024938   \n",
       "Promo_friends                                       0.028063   \n",
       "Phone                                               0.008340   \n",
       "Contract_period                                     0.096211   \n",
       "Group_visits                                        0.056695   \n",
       "Age                                                 0.119953   \n",
       "Avg_additional_charges_total                        0.044426   \n",
       "Month_to_end_contract                               0.085387   \n",
       "Lifetime                                            0.112338   \n",
       "Avg_class_frequency_total                           1.000000   \n",
       "Avg_class_frequency_current_month                   0.952739   \n",
       "Churn                                              -0.249715   \n",
       "\n",
       "                                   Avg_class_frequency_current_month     Churn  \n",
       "gender                                                      0.009156  0.000708  \n",
       "Near_Location                                               0.062664 -0.128098  \n",
       "Partner                                                     0.045561 -0.157986  \n",
       "Promo_friends                                               0.053768 -0.162233  \n",
       "Phone                                                       0.013375 -0.001177  \n",
       "Contract_period                                             0.159407 -0.389984  \n",
       "Group_visits                                                0.075923 -0.175325  \n",
       "Age                                                         0.183095 -0.404735  \n",
       "Avg_additional_charges_total                                0.079570 -0.198697  \n",
       "Month_to_end_contract                                       0.147605 -0.381393  \n",
       "Lifetime                                                    0.181975 -0.438220  \n",
       "Avg_class_frequency_total                                   0.952739 -0.249715  \n",
       "Avg_class_frequency_current_month                           1.000000 -0.412348  \n",
       "Churn                                                      -0.412348  1.000000  "
      ]
     },
     "execution_count": 14,
     "metadata": {},
     "output_type": "execute_result"
    }
   ],
   "source": [
    "#матрица корреляций\n",
    "df.corr()"
   ]
  },
  {
   "cell_type": "code",
   "execution_count": 15,
   "metadata": {},
   "outputs": [
    {
     "data": {
      "image/png": "[encoded data removed]",
      "text/plain": [
       "<Figure size 1296x720 with 2 Axes>"
      ]
     },
     "metadata": {
      "needs_background": "light"
     },
     "output_type": "display_data"
    }
   ],
   "source": [
    "# тепловая карта матрицы корреляции\n",
    "plt.figure(figsize=(18, 10))\n",
    "\n",
    "sns.heatmap(df.corr(), annot=True)\n",
    "plt.show()"
   ]
  },
  {
   "cell_type": "markdown",
   "metadata": {},
   "source": [
    "Наиболее сильная корреляция заметна между Month_to_end_contract и Contract_period это возможно т.к.  для абонементов на 1 месяц это одно и то же число.\n",
    "\n",
    "\n",
    "Сильная корреляция  между Avg_class_frequency_current_month и Avg_class_frequency_total.Корреляция демонстрирует, что  клиенты посещают фитнесс-центр стабильно на протяжении  действия абонемента. \n",
    "\n",
    "\n",
    "\n",
    "Сильной прямой корреляции  оттока нет ни с каким признаком."
   ]
  },
  {
   "cell_type": "markdown",
   "metadata": {},
   "source": [
    " ## Модель прогнозирования оттока клиентов"
   ]
  },
  {
   "cell_type": "markdown",
   "metadata": {},
   "source": [
    " Строим модель бинарной классификации клиентов, где целевой признак — факт оттока клиента в следующем месяце:"
   ]
  },
  {
   "cell_type": "code",
   "execution_count": 16,
   "metadata": {},
   "outputs": [],
   "source": [
    "#разделим наши данные на признаки (матрица X) и целевую переменную (y)\n",
    "X = df.drop('Churn', axis=1)\n",
    "y = df['Churn']\n",
    "\n"
   ]
  },
  {
   "cell_type": "code",
   "execution_count": 17,
   "metadata": {},
   "outputs": [],
   "source": [
    "# разделяем модель на обучающую и валидационную выборку\n",
    "X_train, X_test, y_train, y_test = train_test_split(X, y, test_size=0.2, random_state=0)"
   ]
  },
  {
   "cell_type": "markdown",
   "metadata": {},
   "source": [
    " две выборки под признаки и целевой признак\n"
   ]
  },
  {
   "cell_type": "code",
   "execution_count": 18,
   "metadata": {},
   "outputs": [],
   "source": [
    "# определим функцию, которая будет выводить наши метрики\n",
    "def print_all_metrics(y_true, y_pred, y_proba, title='Метрики классификации'):\n",
    "    print(title)\n",
    "    print('\\tAccuracy: {:.2f}'.format(accuracy_score(y_true, y_pred)))\n",
    "    print('\\tPrecision: {:.2f}'.format(precision_score(y_true, y_pred)))\n",
    "    print('\\tRecall: {:.2f}'.format(recall_score(y_true, y_pred)))\n",
    "    print('\\tF1: {:.2f}'.format(f1_score(y_true, y_pred)))\n"
   ]
  },
  {
   "cell_type": "code",
   "execution_count": 19,
   "metadata": {},
   "outputs": [
    {
     "name": "stdout",
     "output_type": "stream",
     "text": [
      "Метрики для модели логистической регрессии:\n",
      "\tAccuracy: 0.92\n",
      "\tPrecision: 0.85\n",
      "\tRecall: 0.83\n",
      "\tF1: 0.84\n",
      "Метрики для модели случайного леса:\n",
      "\tAccuracy: 0.92\n",
      "\tPrecision: 0.84\n",
      "\tRecall: 0.81\n",
      "\tF1: 0.83\n"
     ]
    }
   ],
   "source": [
    "\n",
    "# обучаем StandartScaler на обучающей выборке\n",
    "scaler = StandardScaler()\n",
    "scaler.fit(X_train)\n",
    "\n",
    "# Преобразуем обучающий и валидационные наборы данных\n",
    "X_train_st = scaler.transform(X_train)\n",
    "X_test_st = scaler.transform(X_test)\n",
    "\n",
    "# зададим алгоритм для модели логистической регрессии\n",
    "lr_model = LogisticRegression(random_state=0)\n",
    "# обучим модель\n",
    "lr_model.fit(X_train_st, y_train)\n",
    "# воспользуемся уже обученной моделью, чтобы сделать прогнозы\n",
    "lr_predictions = lr_model.predict(X_test_st)\n",
    "lr_probabilities = lr_model.predict_proba(X_test_st)[:, 1]\n",
    "# выведем все метрики\n",
    "print_all_metrics(\n",
    "    y_test,\n",
    "    lr_predictions,\n",
    "    lr_probabilities,\n",
    "    title='Метрики для модели логистической регрессии:',\n",
    ")\n",
    "\n",
    "\n",
    "\n",
    "\n",
    "\n",
    "# зададим алгоритм для новой модели на основе алгоритма случайного леса\n",
    "rf_model = RandomForestClassifier(n_estimators = 100,random_state = 0)# Ваш код здесь\n",
    "# обучим модель случайного леса\n",
    "rf_model.fit(X_train_st, y_train)\n",
    "# воспользуемся уже обученной моделью, чтобы сделать прогнозы\n",
    "rf_predictions =  rf_model.predict(X_test_st)\n",
    "rf_probabilities = rf_model.predict_proba(X_test_st)[:, 1]\n",
    "# выведем все метрики\n",
    "print_all_metrics(\n",
    "    y_test,\n",
    "    rf_predictions,\n",
    "    rf_probabilities, \n",
    "    title='Метрики для модели случайного леса:'\n",
    ")\n"
   ]
  },
  {
   "cell_type": "markdown",
   "metadata": {},
   "source": [
    "Величины метрик для  логистической регрессии и случайного леса очень хорошие , но на несколько процентных пунктов логистическая регрессия  все же превосходит\n",
    "\n",
    "Признаем лучшей моделью на основании метрик  логистическую регрессию."
   ]
  },
  {
   "cell_type": "markdown",
   "metadata": {},
   "source": [
    " ## Кластеризация клиентов"
   ]
  },
  {
   "cell_type": "markdown",
   "metadata": {},
   "source": [
    "### Иерархическая кластеризация"
   ]
  },
  {
   "cell_type": "markdown",
   "metadata": {},
   "source": [
    "Стандартизируем данные.\n"
   ]
  },
  {
   "cell_type": "code",
   "execution_count": 20,
   "metadata": {},
   "outputs": [],
   "source": [
    "# обязательная стандартизация данных перед работой с алгоритмами\n",
    "sc = StandardScaler()\n",
    "X_sc = sc.fit_transform(X)"
   ]
  },
  {
   "cell_type": "markdown",
   "metadata": {},
   "source": [
    "Строим  матрицу расстояний функцией linkage() на стандартизованной матрице признаков и рисуем  дендрограмму"
   ]
  },
  {
   "cell_type": "code",
   "execution_count": 21,
   "metadata": {},
   "outputs": [],
   "source": [
    "linked = linkage(X_sc, method = 'ward') "
   ]
  },
  {
   "cell_type": "code",
   "execution_count": 22,
   "metadata": {},
   "outputs": [
    {
     "data": {
      "image/png": "[encoded data removed]",
      "text/plain": [
       "<Figure size 1080x720 with 1 Axes>"
      ]
     },
     "metadata": {
      "needs_background": "light"
     },
     "output_type": "display_data"
    }
   ],
   "source": [
    "plt.figure(figsize=(15, 10))  \n",
    "dendrogram(linked, orientation='top')\n",
    "plt.title('Иерархическая кластеризация клиентов ')\n",
    "plt.show() "
   ]
  },
  {
   "cell_type": "markdown",
   "metadata": {},
   "source": [
    "На основании цветов графика оптимальное кол-во кластеров равно 4 "
   ]
  },
  {
   "cell_type": "markdown",
   "metadata": {},
   "source": [
    "### Модель кластеризации на основании алгоритма K-Means Заданное число кластеров n=5"
   ]
  },
  {
   "cell_type": "code",
   "execution_count": 23,
   "metadata": {},
   "outputs": [],
   "source": [
    "# задаём число кластеров, равное 5, и фиксируем значение random_state для воспроизводимости результата\n",
    "\n",
    "km = KMeans(n_clusters=5, random_state=0)\n",
    "# применяем алгоритм к данным и формируем вектор кластеров\n",
    "labels = km.fit_predict(X_sc)"
   ]
  },
  {
   "cell_type": "code",
   "execution_count": 24,
   "metadata": {},
   "outputs": [
    {
     "data": {
      "text/html": [
       "<div>\n",
       "<style scoped>\n",
       "    .dataframe tbody tr th:only-of-type {\n",
       "        vertical-align: middle;\n",
       "    }\n",
       "\n",
       "    .dataframe tbody tr th {\n",
       "        vertical-align: top;\n",
       "    }\n",
       "\n",
       "    .dataframe thead th {\n",
       "        text-align: right;\n",
       "    }\n",
       "</style>\n",
       "<table border=\"1\" class=\"dataframe\">\n",
       "  <thead>\n",
       "    <tr style=\"text-align: right;\">\n",
       "      <th>cluster_km</th>\n",
       "      <th>0</th>\n",
       "      <th>1</th>\n",
       "      <th>2</th>\n",
       "      <th>3</th>\n",
       "      <th>4</th>\n",
       "    </tr>\n",
       "  </thead>\n",
       "  <tbody>\n",
       "    <tr>\n",
       "      <th>gender</th>\n",
       "      <td>0.502970</td>\n",
       "      <td>0.522078</td>\n",
       "      <td>0.495050</td>\n",
       "      <td>0.485737</td>\n",
       "      <td>0.559666</td>\n",
       "    </tr>\n",
       "    <tr>\n",
       "      <th>Near_Location</th>\n",
       "      <td>0.959406</td>\n",
       "      <td>0.862338</td>\n",
       "      <td>0.000000</td>\n",
       "      <td>1.000000</td>\n",
       "      <td>0.976134</td>\n",
       "    </tr>\n",
       "    <tr>\n",
       "      <th>Partner</th>\n",
       "      <td>0.783168</td>\n",
       "      <td>0.470130</td>\n",
       "      <td>0.463366</td>\n",
       "      <td>0.350238</td>\n",
       "      <td>0.356802</td>\n",
       "    </tr>\n",
       "    <tr>\n",
       "      <th>Promo_friends</th>\n",
       "      <td>0.574257</td>\n",
       "      <td>0.306494</td>\n",
       "      <td>0.079208</td>\n",
       "      <td>0.240095</td>\n",
       "      <td>0.230310</td>\n",
       "    </tr>\n",
       "    <tr>\n",
       "      <th>Phone</th>\n",
       "      <td>1.000000</td>\n",
       "      <td>0.000000</td>\n",
       "      <td>1.000000</td>\n",
       "      <td>1.000000</td>\n",
       "      <td>0.998807</td>\n",
       "    </tr>\n",
       "    <tr>\n",
       "      <th>Contract_period</th>\n",
       "      <td>10.889109</td>\n",
       "      <td>4.787013</td>\n",
       "      <td>2.352475</td>\n",
       "      <td>1.948494</td>\n",
       "      <td>2.669451</td>\n",
       "    </tr>\n",
       "    <tr>\n",
       "      <th>Group_visits</th>\n",
       "      <td>0.542574</td>\n",
       "      <td>0.425974</td>\n",
       "      <td>0.215842</td>\n",
       "      <td>0.341521</td>\n",
       "      <td>0.473747</td>\n",
       "    </tr>\n",
       "    <tr>\n",
       "      <th>Age</th>\n",
       "      <td>29.982178</td>\n",
       "      <td>29.301299</td>\n",
       "      <td>28.477228</td>\n",
       "      <td>28.167987</td>\n",
       "      <td>30.125298</td>\n",
       "    </tr>\n",
       "    <tr>\n",
       "      <th>Avg_additional_charges_total</th>\n",
       "      <td>160.761016</td>\n",
       "      <td>143.957664</td>\n",
       "      <td>135.457501</td>\n",
       "      <td>131.622204</td>\n",
       "      <td>161.657905</td>\n",
       "    </tr>\n",
       "    <tr>\n",
       "      <th>Month_to_end_contract</th>\n",
       "      <td>9.954455</td>\n",
       "      <td>4.475325</td>\n",
       "      <td>2.198020</td>\n",
       "      <td>1.856577</td>\n",
       "      <td>2.459427</td>\n",
       "    </tr>\n",
       "    <tr>\n",
       "      <th>Lifetime</th>\n",
       "      <td>4.736634</td>\n",
       "      <td>3.924675</td>\n",
       "      <td>2.809901</td>\n",
       "      <td>2.440571</td>\n",
       "      <td>4.898568</td>\n",
       "    </tr>\n",
       "    <tr>\n",
       "      <th>Avg_class_frequency_total</th>\n",
       "      <td>1.982055</td>\n",
       "      <td>1.847220</td>\n",
       "      <td>1.660461</td>\n",
       "      <td>1.247634</td>\n",
       "      <td>2.852002</td>\n",
       "    </tr>\n",
       "    <tr>\n",
       "      <th>Avg_class_frequency_current_month</th>\n",
       "      <td>1.974789</td>\n",
       "      <td>1.716369</td>\n",
       "      <td>1.477324</td>\n",
       "      <td>1.012983</td>\n",
       "      <td>2.850161</td>\n",
       "    </tr>\n",
       "    <tr>\n",
       "      <th>Churn</th>\n",
       "      <td>0.027723</td>\n",
       "      <td>0.267532</td>\n",
       "      <td>0.443564</td>\n",
       "      <td>0.514263</td>\n",
       "      <td>0.068019</td>\n",
       "    </tr>\n",
       "  </tbody>\n",
       "</table>\n",
       "</div>"
      ],
      "text/plain": [
       "cluster_km                                  0           1           2  \\\n",
       "gender                               0.502970    0.522078    0.495050   \n",
       "Near_Location                        0.959406    0.862338    0.000000   \n",
       "Partner                              0.783168    0.470130    0.463366   \n",
       "Promo_friends                        0.574257    0.306494    0.079208   \n",
       "Phone                                1.000000    0.000000    1.000000   \n",
       "Contract_period                     10.889109    4.787013    2.352475   \n",
       "Group_visits                         0.542574    0.425974    0.215842   \n",
       "Age                                 29.982178   29.301299   28.477228   \n",
       "Avg_additional_charges_total       160.761016  143.957664  135.457501   \n",
       "Month_to_end_contract                9.954455    4.475325    2.198020   \n",
       "Lifetime                             4.736634    3.924675    2.809901   \n",
       "Avg_class_frequency_total            1.982055    1.847220    1.660461   \n",
       "Avg_class_frequency_current_month    1.974789    1.716369    1.477324   \n",
       "Churn                                0.027723    0.267532    0.443564   \n",
       "\n",
       "cluster_km                                  3           4  \n",
       "gender                               0.485737    0.559666  \n",
       "Near_Location                        1.000000    0.976134  \n",
       "Partner                              0.350238    0.356802  \n",
       "Promo_friends                        0.240095    0.230310  \n",
       "Phone                                1.000000    0.998807  \n",
       "Contract_period                      1.948494    2.669451  \n",
       "Group_visits                         0.341521    0.473747  \n",
       "Age                                 28.167987   30.125298  \n",
       "Avg_additional_charges_total       131.622204  161.657905  \n",
       "Month_to_end_contract                1.856577    2.459427  \n",
       "Lifetime                             2.440571    4.898568  \n",
       "Avg_class_frequency_total            1.247634    2.852002  \n",
       "Avg_class_frequency_current_month    1.012983    2.850161  \n",
       "Churn                                0.514263    0.068019  "
      ]
     },
     "metadata": {},
     "output_type": "display_data"
    }
   ],
   "source": [
    "# сохраняем метки кластера в поле нашего датасета\n",
    "df['cluster_km'] =labels\n",
    "\n",
    "# выводим статистику по средним значениям наших признаков по кластеру\n",
    "display(df.groupby('cluster_km').mean().T)\n",
    "\n"
   ]
  },
  {
   "cell_type": "markdown",
   "metadata": {},
   "source": [
    "#### Анализ кластеров\n",
    "Самые лучшие показатели в кластере 0 и 4. \n",
    "\n",
    "В обоих кластерах клиенты в большинстве проживают рядом с фитнесс-центром ,чаще посещают групповые тренировки, самые высокие показатели Lifetime и числа посещений в неделю, как в общем за все время действия абонемента , так и в предыдущий месяц .Клиенты этих кластеров тратят больше денег и на сопутствующие услуги центра.\n",
    "\n",
    "В первом кластере большее кол-во партнеров клуба,использований проморекомендаций от друзей ,самые длинные контракты,абонементы в большинстве открыты недавно. \n",
    "\n",
    "В кластере 3 самая большая доля оттока. Эти клиенты реже всего тренировались как в общем,так и в предыдущем месяце, меньше всех тратились на дополнительные услуги, и абонементы чаще всего покупали на месяц.\n"
   ]
  },
  {
   "cell_type": "code",
   "execution_count": 25,
   "metadata": {},
   "outputs": [],
   "source": [
    "# определим функцию отрисовки графиков попарных признаков для кластеров\n",
    "def show_clusters_on_plot(df, x_name, y_name, cluster_name):\n",
    "    plt.figure(figsize=(5, 5))\n",
    "    sns.scatterplot(\n",
    "        df[x_name], df[y_name], hue=df[cluster_name], palette='Paired'\n",
    "    )\n",
    "    plt.title('{} vs {}'.format(x_name, y_name))\n",
    "    plt.show()\n"
   ]
  },
  {
   "cell_type": "markdown",
   "metadata": {},
   "source": [
    "countplot для качественных признаков  \n",
    "    "
   ]
  },
  {
   "cell_type": "code",
   "execution_count": 26,
   "metadata": {},
   "outputs": [
    {
     "data": {
      "image/png": "[encoded data removed]",
      "text/plain": [
       "<Figure size 432x288 with 1 Axes>"
      ]
     },
     "metadata": {
      "needs_background": "light"
     },
     "output_type": "display_data"
    }
   ],
   "source": [
    "sns.countplot(data=df, x=\"Churn\", hue=\"cluster_km\")\n",
    "plt.show() "
   ]
  },
  {
   "cell_type": "code",
   "execution_count": 27,
   "metadata": {},
   "outputs": [
    {
     "data": {
      "image/png": "[encoded data removed]",
      "text/plain": [
       "<Figure size 432x288 with 1 Axes>"
      ]
     },
     "metadata": {
      "needs_background": "light"
     },
     "output_type": "display_data"
    }
   ],
   "source": [
    "sns.countplot(data=df, x=\"Near_Location\", hue=\"cluster_km\")\n",
    "plt.show() "
   ]
  },
  {
   "cell_type": "code",
   "execution_count": 28,
   "metadata": {},
   "outputs": [
    {
     "data": {
      "image/png": "[encoded data removed]",
      "text/plain": [
       "<Figure size 432x288 with 1 Axes>"
      ]
     },
     "metadata": {
      "needs_background": "light"
     },
     "output_type": "display_data"
    }
   ],
   "source": [
    "sns.countplot(data=df, x=\"Partner\", hue=\"cluster_km\")\n",
    "plt.show()"
   ]
  },
  {
   "cell_type": "code",
   "execution_count": 29,
   "metadata": {},
   "outputs": [
    {
     "data": {
      "image/png": "[encoded data removed]",
      "text/plain": [
       "<Figure size 432x288 with 1 Axes>"
      ]
     },
     "metadata": {
      "needs_background": "light"
     },
     "output_type": "display_data"
    }
   ],
   "source": [
    "sns.countplot(data=df, x=\"Promo_friends\", hue=\"cluster_km\")\n",
    "plt.show()"
   ]
  },
  {
   "cell_type": "code",
   "execution_count": 30,
   "metadata": {},
   "outputs": [
    {
     "data": {
      "image/png": "[encoded data removed]",
      "text/plain": [
       "<Figure size 432x288 with 1 Axes>"
      ]
     },
     "metadata": {
      "needs_background": "light"
     },
     "output_type": "display_data"
    }
   ],
   "source": [
    "sns.countplot(data=df, x=\"Group_visits\", hue=\"cluster_km\")\n",
    "plt.show()"
   ]
  },
  {
   "cell_type": "code",
   "execution_count": 33,
   "metadata": {},
   "outputs": [
    {
     "data": {
      "image/png": "[encoded data removed]",
      "text/plain": [
       "<Figure size 576x360 with 1 Axes>"
      ]
     },
     "metadata": {
      "needs_background": "light"
     },
     "output_type": "display_data"
    },
    {
     "data": {
      "image/png": "[encoded data removed]",
      "text/plain": [
       "<Figure size 576x360 with 1 Axes>"
      ]
     },
     "metadata": {
      "needs_background": "light"
     },
     "output_type": "display_data"
    },
    {
     "data": {
      "image/png": "[encoded data removed]",
      "text/plain": [
       "<Figure size 576x360 with 1 Axes>"
      ]
     },
     "metadata": {
      "needs_background": "light"
     },
     "output_type": "display_data"
    },
    {
     "data": {
      "image/png": "[encoded data removed]",
      "text/plain": [
       "<Figure size 576x360 with 1 Axes>"
      ]
     },
     "metadata": {
      "needs_background": "light"
     },
     "output_type": "display_data"
    },
    {
     "data": {
      "image/png": "[encoded data removed]",
      "text/plain": [
       "<Figure size 576x360 with 1 Axes>"
      ]
     },
     "metadata": {
      "needs_background": "light"
     },
     "output_type": "display_data"
    },
    {
     "data": {
      "image/png": "[encoded data removed]",
      "text/plain": [
       "<Figure size 576x360 with 1 Axes>"
      ]
     },
     "metadata": {
      "needs_background": "light"
     },
     "output_type": "display_data"
    },
    {
     "data": {
      "image/png": "[encoded data removed]",
      "text/plain": [
       "<Figure size 576x360 with 1 Axes>"
      ]
     },
     "metadata": {
      "needs_background": "light"
     },
     "output_type": "display_data"
    },
    {
     "data": {
      "image/png": "[encoded data removed]",
      "text/plain": [
       "<Figure size 576x360 with 1 Axes>"
      ]
     },
     "metadata": {
      "needs_background": "light"
     },
     "output_type": "display_data"
    }
   ],
   "source": [
    "columns = ['Contract_period','Group_visits','Age','Avg_additional_charges_total','Month_to_end_contract','Lifetime','Avg_class_frequency_total',\n",
    "'Avg_class_frequency_current_month']\n",
    "num_cols = 0\n",
    "\n",
    "for col in columns:\n",
    "    plt.figure(figsize=(8, 5))\n",
    "    plt.title(\"Распределение по кластерам признака \" + columns[num_cols])\n",
    "    sns.boxplot(x='cluster_km',y=col, data=df, palette='Paired')\n",
    "    plt.xlabel('Кластеры')\n",
    "    plt.ylabel('значение признака')\n",
    "    plt.show()"
   ]
  },
  {
   "cell_type": "markdown",
   "metadata": {},
   "source": [
    "## Выводы:\n",
    "\n",
    "Проведен анализ анкет клиентов фитнес-клуба. На основании этих данных созданы  и обучены модели   прогнозирования оттока клиентов. Выделено  5 кластеров клиентов и проведен анализ основных признаков.\n",
    "\n",
    " Наиболее связанны с оттоком  следующие признаки:\n",
    "\n",
    " - удаленность клуба от места жительства клиента , живущие близко, реже   бросают занятия\n",
    " \n",
    " -  клиенты, работодатели которых партнеры  клуба бросают занятия реже.\n",
    " \n",
    " - общая и недельная  частота посещений - чем чаще человек ходит заниматься, тем выше вероятность, что он не бросит занятия\n",
    " - посещение групповых занятий - клиенты  формируют круг общения в центре и  бросают реже\n",
    "\n",
    " - покупка дополнительных услуг демонстрирует общую лояльность к фитнесс-центру, предоставляемые услуги нравятся.\n",
    "\n",
    " - длительность контракта  - купившие годовой абонемент  бросают реже\n",
    " \n",
    " - реже бросают клиенты более старшего возраста\n",
    " \n",
    "Пол клиента, рекомендация от друга, наличие контактного номера телефона не показывают заметного влияния на отток.   \n",
    "\n",
    "Рекомендации  отделу маркетинга для улучшения стратегии удержания клиентов:\n",
    "  -\n",
    " - ввести  более выгодные условий для длительных абонементов ( полгода и год)\n",
    " \n",
    " \n",
    " - привлекательные долговременные условия контрактов и дополнительные скидки для партнеров клуба\n",
    " \n",
    " \n",
    " - дифференцированные абонементы посетителям групповых программ, например можно выдавать скидку постоянным посетителям групповых    занятий, так как  групповые занятия проходят по расписанию и  это будет формировать привычку  регулярно посещать \n",
    "   фитнесс-    центр.\n",
    " \n",
    " \n",
    " -  дополнить акцию \"Promo_friends\"введением  скидки клиенту друзья которого приобрели абонементы \n",
    " \n",
    "\n",
    "\n",
    "\n"
   ]
  }
 ],
 "metadata": {
  "ExecuteTimeLog": [
   {
    "duration": 1784,
    "start_time": "2022-12-13T13:09:03.178Z"
   },
   {
    "duration": 257,
    "start_time": "2022-12-13T13:09:04.965Z"
   },
   {
    "duration": 28,
    "start_time": "2022-12-13T13:09:05.224Z"
   },
   {
    "duration": 10,
    "start_time": "2022-12-13T13:09:05.255Z"
   },
   {
    "duration": 48,
    "start_time": "2022-12-13T13:19:32.963Z"
   },
   {
    "duration": 18,
    "start_time": "2022-12-13T13:26:46.674Z"
   },
   {
    "duration": 2629,
    "start_time": "2022-12-13T13:36:00.263Z"
   },
   {
    "duration": 2279,
    "start_time": "2022-12-13T13:47:29.014Z"
   },
   {
    "duration": 21,
    "start_time": "2022-12-13T14:04:13.383Z"
   },
   {
    "duration": 1632,
    "start_time": "2022-12-13T14:07:08.261Z"
   },
   {
    "duration": 1554,
    "start_time": "2022-12-13T14:07:59.769Z"
   },
   {
    "duration": 1140,
    "start_time": "2022-12-13T14:45:40.612Z"
   },
   {
    "duration": 1091,
    "start_time": "2022-12-13T14:49:54.980Z"
   },
   {
    "duration": 6,
    "start_time": "2022-12-13T14:50:37.949Z"
   },
   {
    "duration": 22,
    "start_time": "2022-12-13T14:51:03.528Z"
   },
   {
    "duration": 31,
    "start_time": "2022-12-13T14:52:13.367Z"
   },
   {
    "duration": 131,
    "start_time": "2022-12-13T15:03:18.125Z"
   },
   {
    "duration": 10,
    "start_time": "2022-12-13T15:04:17.640Z"
   },
   {
    "duration": 28,
    "start_time": "2022-12-13T15:04:31.478Z"
   },
   {
    "duration": 28,
    "start_time": "2022-12-13T15:05:58.351Z"
   },
   {
    "duration": 29,
    "start_time": "2022-12-13T15:06:44.093Z"
   },
   {
    "duration": 1445,
    "start_time": "2022-12-13T15:12:29.370Z"
   },
   {
    "duration": 1578,
    "start_time": "2022-12-13T15:17:57.736Z"
   },
   {
    "duration": 18,
    "start_time": "2022-12-13T15:22:09.924Z"
   },
   {
    "duration": 16,
    "start_time": "2022-12-13T15:22:25.647Z"
   },
   {
    "duration": 151,
    "start_time": "2022-12-13T15:22:51.604Z"
   },
   {
    "duration": 132,
    "start_time": "2022-12-13T15:23:17.734Z"
   },
   {
    "duration": 1289,
    "start_time": "2022-12-13T15:25:58.164Z"
   },
   {
    "duration": 76,
    "start_time": "2022-12-13T16:01:46.579Z"
   },
   {
    "duration": 1493,
    "start_time": "2022-12-13T16:02:06.547Z"
   },
   {
    "duration": 1763,
    "start_time": "2022-12-13T16:02:48.447Z"
   },
   {
    "duration": 22,
    "start_time": "2022-12-13T16:03:09.104Z"
   },
   {
    "duration": 11,
    "start_time": "2022-12-13T16:08:38.011Z"
   },
   {
    "duration": 74,
    "start_time": "2022-12-13T16:13:31.793Z"
   },
   {
    "duration": 15,
    "start_time": "2022-12-13T16:14:33.994Z"
   },
   {
    "duration": 210,
    "start_time": "2022-12-13T16:15:00.209Z"
   },
   {
    "duration": 19,
    "start_time": "2022-12-13T16:15:48.477Z"
   },
   {
    "duration": 24,
    "start_time": "2022-12-13T16:16:40.335Z"
   },
   {
    "duration": 18,
    "start_time": "2022-12-13T16:17:16.055Z"
   },
   {
    "duration": 249,
    "start_time": "2022-12-13T16:17:51.873Z"
   },
   {
    "duration": 13,
    "start_time": "2022-12-13T16:18:40.981Z"
   },
   {
    "duration": 3,
    "start_time": "2022-12-13T16:21:06.910Z"
   },
   {
    "duration": 16,
    "start_time": "2022-12-13T16:21:19.570Z"
   },
   {
    "duration": 44,
    "start_time": "2022-12-13T16:24:44.136Z"
   },
   {
    "duration": 35,
    "start_time": "2022-12-13T16:27:19.120Z"
   },
   {
    "duration": 22,
    "start_time": "2022-12-13T16:27:45.139Z"
   },
   {
    "duration": 17,
    "start_time": "2022-12-13T16:52:05.285Z"
   },
   {
    "duration": 16,
    "start_time": "2022-12-13T16:53:42.665Z"
   },
   {
    "duration": 1455,
    "start_time": "2022-12-13T16:54:05.098Z"
   },
   {
    "duration": 37,
    "start_time": "2022-12-13T16:54:06.556Z"
   },
   {
    "duration": 35,
    "start_time": "2022-12-13T16:54:06.595Z"
   },
   {
    "duration": 10,
    "start_time": "2022-12-13T16:54:06.633Z"
   },
   {
    "duration": 64,
    "start_time": "2022-12-13T16:54:06.645Z"
   },
   {
    "duration": 12,
    "start_time": "2022-12-13T16:54:06.711Z"
   },
   {
    "duration": 38,
    "start_time": "2022-12-13T16:54:06.725Z"
   },
   {
    "duration": 19,
    "start_time": "2022-12-13T16:54:06.765Z"
   },
   {
    "duration": 18,
    "start_time": "2022-12-13T16:54:06.786Z"
   },
   {
    "duration": 52,
    "start_time": "2022-12-13T16:54:06.806Z"
   },
   {
    "duration": 1544,
    "start_time": "2022-12-13T16:54:06.860Z"
   },
   {
    "duration": 139,
    "start_time": "2022-12-13T16:54:08.406Z"
   },
   {
    "duration": 15,
    "start_time": "2022-12-13T16:55:39.524Z"
   },
   {
    "duration": 18,
    "start_time": "2022-12-13T16:57:24.655Z"
   },
   {
    "duration": 6,
    "start_time": "2022-12-13T16:59:09.563Z"
   },
   {
    "duration": 6,
    "start_time": "2022-12-13T17:00:06.631Z"
   },
   {
    "duration": 134,
    "start_time": "2022-12-13T17:02:38.921Z"
   },
   {
    "duration": 121,
    "start_time": "2022-12-13T17:04:03.630Z"
   },
   {
    "duration": 1509,
    "start_time": "2022-12-13T17:04:16.295Z"
   },
   {
    "duration": 34,
    "start_time": "2022-12-13T17:04:17.806Z"
   },
   {
    "duration": 28,
    "start_time": "2022-12-13T17:04:17.842Z"
   },
   {
    "duration": 8,
    "start_time": "2022-12-13T17:04:17.872Z"
   },
   {
    "duration": 63,
    "start_time": "2022-12-13T17:04:17.882Z"
   },
   {
    "duration": 14,
    "start_time": "2022-12-13T17:04:17.946Z"
   },
   {
    "duration": 23,
    "start_time": "2022-12-13T17:04:17.962Z"
   },
   {
    "duration": 28,
    "start_time": "2022-12-13T17:04:17.986Z"
   },
   {
    "duration": 30,
    "start_time": "2022-12-13T17:04:18.016Z"
   },
   {
    "duration": 46,
    "start_time": "2022-12-13T17:04:18.048Z"
   },
   {
    "duration": 1725,
    "start_time": "2022-12-13T17:04:18.095Z"
   },
   {
    "duration": 5,
    "start_time": "2022-12-13T17:04:19.823Z"
   },
   {
    "duration": 14,
    "start_time": "2022-12-13T17:04:19.830Z"
   },
   {
    "duration": 115,
    "start_time": "2022-12-13T17:04:19.847Z"
   },
   {
    "duration": 124,
    "start_time": "2022-12-13T17:06:30.627Z"
   },
   {
    "duration": 4,
    "start_time": "2022-12-13T17:20:26.040Z"
   },
   {
    "duration": 119,
    "start_time": "2022-12-13T17:23:22.772Z"
   },
   {
    "duration": 570,
    "start_time": "2022-12-13T17:25:39.882Z"
   },
   {
    "duration": 179,
    "start_time": "2022-12-13T17:26:12.987Z"
   },
   {
    "duration": 5,
    "start_time": "2022-12-13T17:27:49.154Z"
   },
   {
    "duration": 507,
    "start_time": "2022-12-13T17:27:52.783Z"
   },
   {
    "duration": 1623,
    "start_time": "2022-12-13T17:31:15.127Z"
   },
   {
    "duration": 48,
    "start_time": "2022-12-13T17:31:16.753Z"
   },
   {
    "duration": 27,
    "start_time": "2022-12-13T17:31:16.802Z"
   },
   {
    "duration": 8,
    "start_time": "2022-12-13T17:31:16.831Z"
   },
   {
    "duration": 59,
    "start_time": "2022-12-13T17:31:16.841Z"
   },
   {
    "duration": 14,
    "start_time": "2022-12-13T17:31:16.902Z"
   },
   {
    "duration": 60,
    "start_time": "2022-12-13T17:31:16.918Z"
   },
   {
    "duration": 36,
    "start_time": "2022-12-13T17:31:16.980Z"
   },
   {
    "duration": 23,
    "start_time": "2022-12-13T17:31:17.018Z"
   },
   {
    "duration": 32,
    "start_time": "2022-12-13T17:31:17.050Z"
   },
   {
    "duration": 1933,
    "start_time": "2022-12-13T17:31:17.084Z"
   },
   {
    "duration": 5,
    "start_time": "2022-12-13T17:31:19.021Z"
   },
   {
    "duration": 18,
    "start_time": "2022-12-13T17:31:19.029Z"
   },
   {
    "duration": 207,
    "start_time": "2022-12-13T17:31:19.053Z"
   },
   {
    "duration": 14,
    "start_time": "2022-12-13T17:31:19.264Z"
   },
   {
    "duration": 238,
    "start_time": "2022-12-13T17:31:19.280Z"
   },
   {
    "duration": 803,
    "start_time": "2022-12-13T17:33:32.505Z"
   },
   {
    "duration": 1585,
    "start_time": "2022-12-22T09:10:16.454Z"
   },
   {
    "duration": 75,
    "start_time": "2022-12-22T09:10:18.042Z"
   },
   {
    "duration": 29,
    "start_time": "2022-12-22T09:10:18.119Z"
   },
   {
    "duration": 8,
    "start_time": "2022-12-22T09:10:18.151Z"
   },
   {
    "duration": 42,
    "start_time": "2022-12-22T09:10:18.161Z"
   },
   {
    "duration": 32,
    "start_time": "2022-12-22T09:10:18.205Z"
   },
   {
    "duration": 26,
    "start_time": "2022-12-22T09:10:18.240Z"
   },
   {
    "duration": 19,
    "start_time": "2022-12-22T09:10:18.267Z"
   },
   {
    "duration": 20,
    "start_time": "2022-12-22T09:10:18.288Z"
   },
   {
    "duration": 45,
    "start_time": "2022-12-22T09:10:18.310Z"
   },
   {
    "duration": 1521,
    "start_time": "2022-12-22T09:10:18.356Z"
   },
   {
    "duration": 5,
    "start_time": "2022-12-22T09:10:19.879Z"
   },
   {
    "duration": 13,
    "start_time": "2022-12-22T09:10:19.886Z"
   },
   {
    "duration": 8,
    "start_time": "2022-12-22T09:10:19.900Z"
   },
   {
    "duration": 131,
    "start_time": "2022-12-22T09:10:19.909Z"
   },
   {
    "duration": 0,
    "start_time": "2022-12-22T09:10:20.051Z"
   },
   {
    "duration": 1443,
    "start_time": "2022-12-22T09:12:31.774Z"
   },
   {
    "duration": 37,
    "start_time": "2022-12-22T09:12:33.219Z"
   },
   {
    "duration": 23,
    "start_time": "2022-12-22T09:12:33.258Z"
   },
   {
    "duration": 7,
    "start_time": "2022-12-22T09:12:33.283Z"
   },
   {
    "duration": 56,
    "start_time": "2022-12-22T09:12:33.291Z"
   },
   {
    "duration": 13,
    "start_time": "2022-12-22T09:12:33.349Z"
   },
   {
    "duration": 25,
    "start_time": "2022-12-22T09:12:33.363Z"
   },
   {
    "duration": 19,
    "start_time": "2022-12-22T09:12:33.390Z"
   },
   {
    "duration": 49,
    "start_time": "2022-12-22T09:12:33.410Z"
   },
   {
    "duration": 20,
    "start_time": "2022-12-22T09:12:33.461Z"
   },
   {
    "duration": 1542,
    "start_time": "2022-12-22T09:12:33.483Z"
   },
   {
    "duration": 4,
    "start_time": "2022-12-22T09:12:35.027Z"
   },
   {
    "duration": 18,
    "start_time": "2022-12-22T09:12:35.033Z"
   },
   {
    "duration": 44,
    "start_time": "2022-12-22T09:12:35.055Z"
   },
   {
    "duration": 1431,
    "start_time": "2022-12-22T09:12:35.101Z"
   },
   {
    "duration": 1433,
    "start_time": "2022-12-22T09:53:00.927Z"
   },
   {
    "duration": 35,
    "start_time": "2022-12-22T09:53:02.362Z"
   },
   {
    "duration": 27,
    "start_time": "2022-12-22T09:53:02.399Z"
   },
   {
    "duration": 9,
    "start_time": "2022-12-22T09:53:02.428Z"
   },
   {
    "duration": 73,
    "start_time": "2022-12-22T09:53:02.440Z"
   },
   {
    "duration": 14,
    "start_time": "2022-12-22T09:53:02.515Z"
   },
   {
    "duration": 35,
    "start_time": "2022-12-22T09:53:02.530Z"
   },
   {
    "duration": 30,
    "start_time": "2022-12-22T09:53:02.567Z"
   },
   {
    "duration": 49,
    "start_time": "2022-12-22T09:53:02.598Z"
   },
   {
    "duration": 57,
    "start_time": "2022-12-22T09:53:02.649Z"
   },
   {
    "duration": 1433,
    "start_time": "2022-12-22T09:53:02.708Z"
   },
   {
    "duration": 4,
    "start_time": "2022-12-22T09:53:04.143Z"
   },
   {
    "duration": 18,
    "start_time": "2022-12-22T09:53:04.148Z"
   },
   {
    "duration": 17,
    "start_time": "2022-12-22T09:53:04.169Z"
   },
   {
    "duration": 801,
    "start_time": "2022-12-22T09:53:04.188Z"
   },
   {
    "duration": 50,
    "start_time": "2022-12-22T09:53:04.991Z"
   },
   {
    "duration": 0,
    "start_time": "2022-12-22T09:53:05.043Z"
   },
   {
    "duration": 0,
    "start_time": "2022-12-22T09:53:05.044Z"
   },
   {
    "duration": 0,
    "start_time": "2022-12-22T09:53:05.045Z"
   },
   {
    "duration": 1487,
    "start_time": "2022-12-22T09:53:29.756Z"
   },
   {
    "duration": 36,
    "start_time": "2022-12-22T09:53:31.245Z"
   },
   {
    "duration": 28,
    "start_time": "2022-12-22T09:53:31.285Z"
   },
   {
    "duration": 13,
    "start_time": "2022-12-22T09:53:31.315Z"
   },
   {
    "duration": 77,
    "start_time": "2022-12-22T09:53:31.330Z"
   },
   {
    "duration": 12,
    "start_time": "2022-12-22T09:53:31.409Z"
   },
   {
    "duration": 35,
    "start_time": "2022-12-22T09:53:31.422Z"
   },
   {
    "duration": 22,
    "start_time": "2022-12-22T09:53:31.459Z"
   },
   {
    "duration": 43,
    "start_time": "2022-12-22T09:53:31.484Z"
   },
   {
    "duration": 39,
    "start_time": "2022-12-22T09:53:31.529Z"
   },
   {
    "duration": 1712,
    "start_time": "2022-12-22T09:53:31.570Z"
   },
   {
    "duration": 5,
    "start_time": "2022-12-22T09:53:33.284Z"
   },
   {
    "duration": 15,
    "start_time": "2022-12-22T09:53:33.292Z"
   },
   {
    "duration": 25,
    "start_time": "2022-12-22T09:53:33.310Z"
   },
   {
    "duration": 1213,
    "start_time": "2022-12-22T09:53:33.337Z"
   },
   {
    "duration": 10,
    "start_time": "2022-12-22T09:53:34.552Z"
   },
   {
    "duration": 693,
    "start_time": "2022-12-22T09:53:34.564Z"
   },
   {
    "duration": 118935,
    "start_time": "2022-12-22T09:53:35.259Z"
   },
   {
    "duration": 1574,
    "start_time": "2022-12-22T10:04:45.361Z"
   },
   {
    "duration": 1398,
    "start_time": "2022-12-22T10:04:57.137Z"
   },
   {
    "duration": 125,
    "start_time": "2022-12-22T10:09:49.632Z"
   },
   {
    "duration": 21,
    "start_time": "2022-12-22T10:11:14.103Z"
   },
   {
    "duration": 13,
    "start_time": "2022-12-22T10:14:40.269Z"
   },
   {
    "duration": 42,
    "start_time": "2022-12-22T10:14:56.678Z"
   },
   {
    "duration": 20,
    "start_time": "2022-12-22T10:15:38.605Z"
   },
   {
    "duration": 1436,
    "start_time": "2022-12-22T10:32:05.962Z"
   },
   {
    "duration": 34,
    "start_time": "2022-12-22T10:32:07.400Z"
   },
   {
    "duration": 27,
    "start_time": "2022-12-22T10:32:07.436Z"
   },
   {
    "duration": 8,
    "start_time": "2022-12-22T10:32:07.466Z"
   },
   {
    "duration": 69,
    "start_time": "2022-12-22T10:32:07.476Z"
   },
   {
    "duration": 20,
    "start_time": "2022-12-22T10:32:07.547Z"
   },
   {
    "duration": 29,
    "start_time": "2022-12-22T10:32:07.569Z"
   },
   {
    "duration": 34,
    "start_time": "2022-12-22T10:32:07.600Z"
   },
   {
    "duration": 23,
    "start_time": "2022-12-22T10:32:07.636Z"
   },
   {
    "duration": 31,
    "start_time": "2022-12-22T10:32:07.662Z"
   },
   {
    "duration": 1615,
    "start_time": "2022-12-22T10:32:07.694Z"
   },
   {
    "duration": 5,
    "start_time": "2022-12-22T10:32:09.311Z"
   },
   {
    "duration": 30,
    "start_time": "2022-12-22T10:32:09.318Z"
   },
   {
    "duration": 14,
    "start_time": "2022-12-22T10:32:09.349Z"
   },
   {
    "duration": 1164,
    "start_time": "2022-12-22T10:32:09.365Z"
   },
   {
    "duration": 8,
    "start_time": "2022-12-22T10:32:10.531Z"
   },
   {
    "duration": 629,
    "start_time": "2022-12-22T10:32:10.541Z"
   },
   {
    "duration": 119366,
    "start_time": "2022-12-22T10:32:11.172Z"
   },
   {
    "duration": 1306,
    "start_time": "2022-12-22T10:34:10.543Z"
   },
   {
    "duration": 97,
    "start_time": "2022-12-22T10:34:11.851Z"
   },
   {
    "duration": 9,
    "start_time": "2022-12-22T10:34:11.950Z"
   },
   {
    "duration": 31782,
    "start_time": "2022-12-22T10:34:11.961Z"
   },
   {
    "duration": 56,
    "start_time": "2022-12-22T10:35:44.714Z"
   },
   {
    "duration": 31623,
    "start_time": "2022-12-22T10:36:14.636Z"
   },
   {
    "duration": 15,
    "start_time": "2022-12-22T10:44:00.211Z"
   },
   {
    "duration": 125,
    "start_time": "2022-12-22T11:35:05.166Z"
   },
   {
    "duration": 1474,
    "start_time": "2022-12-22T11:35:31.022Z"
   },
   {
    "duration": 75,
    "start_time": "2022-12-22T11:35:32.499Z"
   },
   {
    "duration": 29,
    "start_time": "2022-12-22T11:35:32.577Z"
   },
   {
    "duration": 44,
    "start_time": "2022-12-22T11:35:32.609Z"
   },
   {
    "duration": 100,
    "start_time": "2022-12-22T11:35:32.656Z"
   },
   {
    "duration": 16,
    "start_time": "2022-12-22T11:35:32.758Z"
   },
   {
    "duration": 57,
    "start_time": "2022-12-22T11:35:32.776Z"
   },
   {
    "duration": 46,
    "start_time": "2022-12-22T11:35:32.835Z"
   },
   {
    "duration": 50,
    "start_time": "2022-12-22T11:35:32.883Z"
   },
   {
    "duration": 25,
    "start_time": "2022-12-22T11:35:32.939Z"
   },
   {
    "duration": 1548,
    "start_time": "2022-12-22T11:35:32.966Z"
   },
   {
    "duration": 5,
    "start_time": "2022-12-22T11:35:34.516Z"
   },
   {
    "duration": 30,
    "start_time": "2022-12-22T11:35:34.522Z"
   },
   {
    "duration": 18,
    "start_time": "2022-12-22T11:35:34.556Z"
   },
   {
    "duration": 1254,
    "start_time": "2022-12-22T11:35:34.576Z"
   },
   {
    "duration": 23,
    "start_time": "2022-12-22T11:35:35.832Z"
   },
   {
    "duration": 711,
    "start_time": "2022-12-22T11:35:35.857Z"
   },
   {
    "duration": 117932,
    "start_time": "2022-12-22T11:35:36.570Z"
   },
   {
    "duration": 1238,
    "start_time": "2022-12-22T11:37:34.504Z"
   },
   {
    "duration": 96,
    "start_time": "2022-12-22T11:37:35.752Z"
   },
   {
    "duration": 31,
    "start_time": "2022-12-22T11:37:35.851Z"
   },
   {
    "duration": 167,
    "start_time": "2022-12-22T11:37:35.884Z"
   },
   {
    "duration": 0,
    "start_time": "2022-12-22T11:37:36.054Z"
   },
   {
    "duration": 16,
    "start_time": "2022-12-22T11:38:07.726Z"
   },
   {
    "duration": 823,
    "start_time": "2022-12-22T11:39:28.649Z"
   },
   {
    "duration": 38577,
    "start_time": "2022-12-22T11:42:14.197Z"
   },
   {
    "duration": 3,
    "start_time": "2022-12-22T11:49:01.601Z"
   },
   {
    "duration": 13,
    "start_time": "2022-12-22T11:52:01.409Z"
   },
   {
    "duration": 5,
    "start_time": "2022-12-22T11:53:30.252Z"
   },
   {
    "duration": 11,
    "start_time": "2022-12-22T11:54:07.789Z"
   },
   {
    "duration": 38107,
    "start_time": "2022-12-22T11:55:37.323Z"
   },
   {
    "duration": 14,
    "start_time": "2022-12-22T12:12:50.827Z"
   },
   {
    "duration": 38623,
    "start_time": "2022-12-22T12:14:53.437Z"
   },
   {
    "duration": 56,
    "start_time": "2022-12-22T12:29:42.145Z"
   },
   {
    "duration": 53,
    "start_time": "2022-12-22T12:30:03.401Z"
   },
   {
    "duration": 12,
    "start_time": "2022-12-22T12:30:18.842Z"
   },
   {
    "duration": 386,
    "start_time": "2022-12-22T12:53:45.792Z"
   },
   {
    "duration": 12,
    "start_time": "2022-12-22T12:55:22.581Z"
   },
   {
    "duration": 760,
    "start_time": "2022-12-22T12:56:04.935Z"
   },
   {
    "duration": 367,
    "start_time": "2022-12-22T13:16:04.856Z"
   },
   {
    "duration": 433,
    "start_time": "2022-12-22T13:17:53.643Z"
   },
   {
    "duration": 9,
    "start_time": "2022-12-22T13:25:35.610Z"
   },
   {
    "duration": 24,
    "start_time": "2022-12-22T13:26:18.471Z"
   },
   {
    "duration": 12,
    "start_time": "2022-12-22T13:29:27.561Z"
   },
   {
    "duration": 518,
    "start_time": "2022-12-22T13:29:44.333Z"
   },
   {
    "duration": 1445,
    "start_time": "2022-12-22T13:35:39.334Z"
   },
   {
    "duration": 33,
    "start_time": "2022-12-22T13:35:40.781Z"
   },
   {
    "duration": 24,
    "start_time": "2022-12-22T13:35:40.816Z"
   },
   {
    "duration": 7,
    "start_time": "2022-12-22T13:35:40.841Z"
   },
   {
    "duration": 52,
    "start_time": "2022-12-22T13:35:40.851Z"
   },
   {
    "duration": 12,
    "start_time": "2022-12-22T13:35:40.905Z"
   },
   {
    "duration": 35,
    "start_time": "2022-12-22T13:35:40.918Z"
   },
   {
    "duration": 20,
    "start_time": "2022-12-22T13:35:40.954Z"
   },
   {
    "duration": 39,
    "start_time": "2022-12-22T13:35:40.975Z"
   },
   {
    "duration": 28,
    "start_time": "2022-12-22T13:35:41.016Z"
   },
   {
    "duration": 1559,
    "start_time": "2022-12-22T13:35:41.046Z"
   },
   {
    "duration": 5,
    "start_time": "2022-12-22T13:35:42.608Z"
   },
   {
    "duration": 36,
    "start_time": "2022-12-22T13:35:42.615Z"
   },
   {
    "duration": 12,
    "start_time": "2022-12-22T13:35:42.654Z"
   },
   {
    "duration": 843,
    "start_time": "2022-12-22T13:35:42.668Z"
   },
   {
    "duration": 8,
    "start_time": "2022-12-22T13:35:43.513Z"
   },
   {
    "duration": 654,
    "start_time": "2022-12-22T13:35:43.523Z"
   },
   {
    "duration": 109142,
    "start_time": "2022-12-22T13:35:44.179Z"
   },
   {
    "duration": 1420,
    "start_time": "2022-12-22T13:37:33.323Z"
   },
   {
    "duration": 99,
    "start_time": "2022-12-22T13:37:34.746Z"
   },
   {
    "duration": 4,
    "start_time": "2022-12-22T13:37:34.847Z"
   },
   {
    "duration": 35357,
    "start_time": "2022-12-22T13:37:34.853Z"
   },
   {
    "duration": 368,
    "start_time": "2022-12-22T13:38:10.212Z"
   },
   {
    "duration": 75,
    "start_time": "2022-12-27T12:14:16.920Z"
   },
   {
    "duration": 1587,
    "start_time": "2022-12-27T12:25:58.796Z"
   },
   {
    "duration": 144,
    "start_time": "2022-12-27T12:26:00.387Z"
   },
   {
    "duration": 42,
    "start_time": "2022-12-27T12:26:00.532Z"
   },
   {
    "duration": 28,
    "start_time": "2022-12-27T12:26:00.576Z"
   },
   {
    "duration": 113,
    "start_time": "2022-12-27T12:26:00.607Z"
   },
   {
    "duration": 13,
    "start_time": "2022-12-27T12:26:00.722Z"
   },
   {
    "duration": 20,
    "start_time": "2022-12-27T12:26:00.738Z"
   },
   {
    "duration": 73,
    "start_time": "2022-12-27T12:26:00.760Z"
   },
   {
    "duration": 43,
    "start_time": "2022-12-27T12:26:00.834Z"
   },
   {
    "duration": 27,
    "start_time": "2022-12-27T12:26:00.879Z"
   },
   {
    "duration": 62,
    "start_time": "2022-12-27T12:26:00.907Z"
   },
   {
    "duration": 1632,
    "start_time": "2022-12-27T12:26:00.971Z"
   },
   {
    "duration": 3,
    "start_time": "2022-12-27T12:26:02.605Z"
   },
   {
    "duration": 13,
    "start_time": "2022-12-27T12:26:02.611Z"
   },
   {
    "duration": 20,
    "start_time": "2022-12-27T12:26:02.626Z"
   },
   {
    "duration": 1373,
    "start_time": "2022-12-27T12:26:02.648Z"
   },
   {
    "duration": 7,
    "start_time": "2022-12-27T12:26:04.022Z"
   },
   {
    "duration": 614,
    "start_time": "2022-12-27T12:26:04.031Z"
   },
   {
    "duration": 112786,
    "start_time": "2022-12-27T12:26:04.647Z"
   },
   {
    "duration": 1326,
    "start_time": "2022-12-27T12:27:57.435Z"
   },
   {
    "duration": 99,
    "start_time": "2022-12-27T12:27:58.764Z"
   },
   {
    "duration": 19,
    "start_time": "2022-12-27T12:27:58.866Z"
   },
   {
    "duration": 37914,
    "start_time": "2022-12-27T12:27:58.887Z"
   },
   {
    "duration": 393,
    "start_time": "2022-12-27T12:28:36.803Z"
   },
   {
    "duration": 318,
    "start_time": "2022-12-27T12:31:44.908Z"
   },
   {
    "duration": 827,
    "start_time": "2022-12-27T12:33:30.688Z"
   },
   {
    "duration": 871,
    "start_time": "2022-12-27T12:37:08.832Z"
   },
   {
    "duration": 20,
    "start_time": "2022-12-27T12:42:09.574Z"
   },
   {
    "duration": 16,
    "start_time": "2022-12-27T12:42:48.741Z"
   },
   {
    "duration": 18,
    "start_time": "2022-12-27T12:43:14.452Z"
   },
   {
    "duration": 16,
    "start_time": "2022-12-27T12:43:19.287Z"
   },
   {
    "duration": 3608,
    "start_time": "2022-12-27T12:44:33.781Z"
   },
   {
    "duration": 11,
    "start_time": "2022-12-27T12:51:37.119Z"
   },
   {
    "duration": 3807,
    "start_time": "2022-12-27T12:52:13.474Z"
   },
   {
    "duration": 1574,
    "start_time": "2022-12-27T12:57:10.985Z"
   },
   {
    "duration": 40,
    "start_time": "2022-12-27T12:57:12.562Z"
   },
   {
    "duration": 37,
    "start_time": "2022-12-27T12:57:12.604Z"
   },
   {
    "duration": 8,
    "start_time": "2022-12-27T12:57:12.643Z"
   },
   {
    "duration": 45,
    "start_time": "2022-12-27T12:57:12.653Z"
   },
   {
    "duration": 12,
    "start_time": "2022-12-27T12:57:12.700Z"
   },
   {
    "duration": 7,
    "start_time": "2022-12-27T12:57:12.713Z"
   },
   {
    "duration": 49,
    "start_time": "2022-12-27T12:57:12.722Z"
   },
   {
    "duration": 20,
    "start_time": "2022-12-27T12:57:12.773Z"
   },
   {
    "duration": 20,
    "start_time": "2022-12-27T12:57:12.796Z"
   },
   {
    "duration": 958,
    "start_time": "2022-12-27T12:57:12.818Z"
   },
   {
    "duration": 1474,
    "start_time": "2022-12-27T13:04:01.968Z"
   },
   {
    "duration": 39,
    "start_time": "2022-12-27T13:04:03.444Z"
   },
   {
    "duration": 46,
    "start_time": "2022-12-27T13:04:03.485Z"
   },
   {
    "duration": 45,
    "start_time": "2022-12-27T13:04:03.533Z"
   },
   {
    "duration": 83,
    "start_time": "2022-12-27T13:04:03.580Z"
   },
   {
    "duration": 35,
    "start_time": "2022-12-27T13:04:03.664Z"
   },
   {
    "duration": 53,
    "start_time": "2022-12-27T13:04:03.700Z"
   },
   {
    "duration": 75,
    "start_time": "2022-12-27T13:04:03.755Z"
   },
   {
    "duration": 29,
    "start_time": "2022-12-27T13:04:03.831Z"
   },
   {
    "duration": 48,
    "start_time": "2022-12-27T13:04:03.861Z"
   },
   {
    "duration": 997,
    "start_time": "2022-12-27T13:04:03.911Z"
   },
   {
    "duration": 4066,
    "start_time": "2022-12-27T13:04:04.910Z"
   },
   {
    "duration": 21,
    "start_time": "2022-12-27T13:04:08.978Z"
   },
   {
    "duration": 1537,
    "start_time": "2022-12-27T13:04:09.002Z"
   },
   {
    "duration": 5,
    "start_time": "2022-12-27T13:04:10.541Z"
   },
   {
    "duration": 73,
    "start_time": "2022-12-27T13:04:10.547Z"
   },
   {
    "duration": 46,
    "start_time": "2022-12-27T13:04:10.622Z"
   },
   {
    "duration": 646,
    "start_time": "2022-12-27T13:04:10.670Z"
   },
   {
    "duration": 9,
    "start_time": "2022-12-27T13:04:11.318Z"
   },
   {
    "duration": 644,
    "start_time": "2022-12-27T13:04:11.328Z"
   },
   {
    "duration": 112433,
    "start_time": "2022-12-27T13:04:11.974Z"
   },
   {
    "duration": 959,
    "start_time": "2022-12-27T13:06:04.409Z"
   },
   {
    "duration": 102,
    "start_time": "2022-12-27T13:06:05.453Z"
   },
   {
    "duration": 4,
    "start_time": "2022-12-27T13:06:05.557Z"
   },
   {
    "duration": 35864,
    "start_time": "2022-12-27T13:06:05.562Z"
   },
   {
    "duration": 415,
    "start_time": "2022-12-27T13:06:41.428Z"
   },
   {
    "duration": 1361,
    "start_time": "2022-12-27T13:21:25.454Z"
   },
   {
    "duration": 34,
    "start_time": "2022-12-27T13:21:26.816Z"
   },
   {
    "duration": 25,
    "start_time": "2022-12-27T13:21:26.852Z"
   },
   {
    "duration": 8,
    "start_time": "2022-12-27T13:21:26.879Z"
   },
   {
    "duration": 63,
    "start_time": "2022-12-27T13:21:26.889Z"
   },
   {
    "duration": 12,
    "start_time": "2022-12-27T13:21:26.954Z"
   },
   {
    "duration": 6,
    "start_time": "2022-12-27T13:21:26.967Z"
   },
   {
    "duration": 28,
    "start_time": "2022-12-27T13:21:26.975Z"
   },
   {
    "duration": 50,
    "start_time": "2022-12-27T13:21:27.004Z"
   },
   {
    "duration": 19,
    "start_time": "2022-12-27T13:21:27.056Z"
   },
   {
    "duration": 914,
    "start_time": "2022-12-27T13:21:27.076Z"
   },
   {
    "duration": 66,
    "start_time": "2022-12-27T13:21:27.992Z"
   },
   {
    "duration": 0,
    "start_time": "2022-12-27T13:21:28.060Z"
   },
   {
    "duration": 0,
    "start_time": "2022-12-27T13:21:28.061Z"
   },
   {
    "duration": 0,
    "start_time": "2022-12-27T13:21:28.061Z"
   },
   {
    "duration": 0,
    "start_time": "2022-12-27T13:21:28.062Z"
   },
   {
    "duration": 0,
    "start_time": "2022-12-27T13:21:28.063Z"
   },
   {
    "duration": 0,
    "start_time": "2022-12-27T13:21:28.064Z"
   },
   {
    "duration": 0,
    "start_time": "2022-12-27T13:21:28.065Z"
   },
   {
    "duration": 0,
    "start_time": "2022-12-27T13:21:28.066Z"
   },
   {
    "duration": 0,
    "start_time": "2022-12-27T13:21:28.067Z"
   },
   {
    "duration": 0,
    "start_time": "2022-12-27T13:21:28.068Z"
   },
   {
    "duration": 0,
    "start_time": "2022-12-27T13:21:28.069Z"
   },
   {
    "duration": 0,
    "start_time": "2022-12-27T13:21:28.070Z"
   },
   {
    "duration": 0,
    "start_time": "2022-12-27T13:21:28.071Z"
   },
   {
    "duration": 0,
    "start_time": "2022-12-27T13:21:28.072Z"
   },
   {
    "duration": 0,
    "start_time": "2022-12-27T13:21:28.073Z"
   },
   {
    "duration": 496,
    "start_time": "2022-12-27T13:21:59.948Z"
   },
   {
    "duration": 899,
    "start_time": "2022-12-27T13:22:12.220Z"
   },
   {
    "duration": 71,
    "start_time": "2022-12-27T13:27:45.939Z"
   },
   {
    "duration": 3973,
    "start_time": "2022-12-27T13:28:11.262Z"
   },
   {
    "duration": 1444,
    "start_time": "2022-12-27T13:36:05.478Z"
   },
   {
    "duration": 39,
    "start_time": "2022-12-27T13:36:06.923Z"
   },
   {
    "duration": 28,
    "start_time": "2022-12-27T13:36:06.964Z"
   },
   {
    "duration": 9,
    "start_time": "2022-12-27T13:36:06.994Z"
   },
   {
    "duration": 63,
    "start_time": "2022-12-27T13:36:07.005Z"
   },
   {
    "duration": 13,
    "start_time": "2022-12-27T13:36:07.069Z"
   },
   {
    "duration": 7,
    "start_time": "2022-12-27T13:36:07.084Z"
   },
   {
    "duration": 26,
    "start_time": "2022-12-27T13:36:07.092Z"
   },
   {
    "duration": 45,
    "start_time": "2022-12-27T13:36:07.120Z"
   },
   {
    "duration": 40,
    "start_time": "2022-12-27T13:36:07.167Z"
   },
   {
    "duration": 912,
    "start_time": "2022-12-27T13:36:07.209Z"
   },
   {
    "duration": 126,
    "start_time": "2022-12-27T13:36:08.123Z"
   },
   {
    "duration": 0,
    "start_time": "2022-12-27T13:36:08.252Z"
   },
   {
    "duration": 0,
    "start_time": "2022-12-27T13:36:08.254Z"
   },
   {
    "duration": 0,
    "start_time": "2022-12-27T13:36:08.255Z"
   },
   {
    "duration": 0,
    "start_time": "2022-12-27T13:36:08.256Z"
   },
   {
    "duration": 0,
    "start_time": "2022-12-27T13:36:08.257Z"
   },
   {
    "duration": 0,
    "start_time": "2022-12-27T13:36:08.258Z"
   },
   {
    "duration": 0,
    "start_time": "2022-12-27T13:36:08.259Z"
   },
   {
    "duration": 0,
    "start_time": "2022-12-27T13:36:08.260Z"
   },
   {
    "duration": 0,
    "start_time": "2022-12-27T13:36:08.261Z"
   },
   {
    "duration": 0,
    "start_time": "2022-12-27T13:36:08.262Z"
   },
   {
    "duration": 0,
    "start_time": "2022-12-27T13:36:08.263Z"
   },
   {
    "duration": 0,
    "start_time": "2022-12-27T13:36:08.264Z"
   },
   {
    "duration": 0,
    "start_time": "2022-12-27T13:36:08.265Z"
   },
   {
    "duration": 0,
    "start_time": "2022-12-27T13:36:08.266Z"
   },
   {
    "duration": 0,
    "start_time": "2022-12-27T13:36:08.267Z"
   },
   {
    "duration": 3776,
    "start_time": "2022-12-27T13:37:06.040Z"
   },
   {
    "duration": 23,
    "start_time": "2022-12-27T13:40:21.340Z"
   },
   {
    "duration": 26,
    "start_time": "2022-12-27T13:40:43.191Z"
   },
   {
    "duration": 11,
    "start_time": "2022-12-27T13:42:16.113Z"
   },
   {
    "duration": 18,
    "start_time": "2022-12-27T13:42:33.867Z"
   },
   {
    "duration": 14,
    "start_time": "2022-12-27T13:44:13.000Z"
   },
   {
    "duration": 6431,
    "start_time": "2022-12-27T13:44:45.886Z"
   },
   {
    "duration": 14,
    "start_time": "2022-12-27T13:46:00.683Z"
   },
   {
    "duration": 3725,
    "start_time": "2022-12-27T13:46:33.183Z"
   },
   {
    "duration": 840,
    "start_time": "2022-12-27T13:46:52.150Z"
   },
   {
    "duration": 109,
    "start_time": "2022-12-27T13:47:39.212Z"
   },
   {
    "duration": 949,
    "start_time": "2022-12-27T13:48:20.786Z"
   },
   {
    "duration": 1308,
    "start_time": "2022-12-27T13:53:34.567Z"
   },
   {
    "duration": 22,
    "start_time": "2022-12-27T13:54:18.340Z"
   },
   {
    "duration": 1198,
    "start_time": "2022-12-27T13:55:10.139Z"
   },
   {
    "duration": 22,
    "start_time": "2022-12-27T13:55:32.568Z"
   },
   {
    "duration": 19,
    "start_time": "2022-12-27T13:56:13.818Z"
   },
   {
    "duration": 1337,
    "start_time": "2022-12-27T14:21:37.699Z"
   },
   {
    "duration": 34,
    "start_time": "2022-12-27T14:21:39.038Z"
   },
   {
    "duration": 28,
    "start_time": "2022-12-27T14:21:39.073Z"
   },
   {
    "duration": 7,
    "start_time": "2022-12-27T14:21:39.103Z"
   },
   {
    "duration": 51,
    "start_time": "2022-12-27T14:21:39.111Z"
   },
   {
    "duration": 12,
    "start_time": "2022-12-27T14:21:39.163Z"
   },
   {
    "duration": 5,
    "start_time": "2022-12-27T14:21:39.176Z"
   },
   {
    "duration": 28,
    "start_time": "2022-12-27T14:21:39.183Z"
   },
   {
    "duration": 19,
    "start_time": "2022-12-27T14:21:39.212Z"
   },
   {
    "duration": 19,
    "start_time": "2022-12-27T14:21:39.252Z"
   },
   {
    "duration": 874,
    "start_time": "2022-12-27T14:21:39.272Z"
   },
   {
    "duration": 3654,
    "start_time": "2022-12-27T14:21:40.148Z"
   },
   {
    "duration": 798,
    "start_time": "2022-12-27T14:21:43.804Z"
   },
   {
    "duration": 24,
    "start_time": "2022-12-27T14:21:44.604Z"
   },
   {
    "duration": 1657,
    "start_time": "2022-12-27T14:21:44.630Z"
   },
   {
    "duration": 5,
    "start_time": "2022-12-27T14:21:46.289Z"
   },
   {
    "duration": 7,
    "start_time": "2022-12-27T14:21:46.296Z"
   },
   {
    "duration": 13,
    "start_time": "2022-12-27T14:21:46.305Z"
   },
   {
    "duration": 880,
    "start_time": "2022-12-27T14:21:46.320Z"
   },
   {
    "duration": 7,
    "start_time": "2022-12-27T14:21:47.202Z"
   },
   {
    "duration": 572,
    "start_time": "2022-12-27T14:21:47.211Z"
   },
   {
    "duration": 103121,
    "start_time": "2022-12-27T14:21:47.784Z"
   },
   {
    "duration": 1356,
    "start_time": "2022-12-27T14:23:30.907Z"
   },
   {
    "duration": 97,
    "start_time": "2022-12-27T14:23:32.265Z"
   },
   {
    "duration": 5,
    "start_time": "2022-12-27T14:23:32.364Z"
   },
   {
    "duration": 1335,
    "start_time": "2022-12-27T14:23:32.374Z"
   },
   {
    "duration": 0,
    "start_time": "2022-12-27T14:23:33.711Z"
   },
   {
    "duration": 11,
    "start_time": "2022-12-27T14:25:30.174Z"
   },
   {
    "duration": 10,
    "start_time": "2022-12-27T14:27:02.318Z"
   },
   {
    "duration": 5,
    "start_time": "2022-12-27T14:28:10.238Z"
   },
   {
    "duration": 14,
    "start_time": "2022-12-27T14:28:43.238Z"
   },
   {
    "duration": 407,
    "start_time": "2022-12-27T14:28:52.398Z"
   },
   {
    "duration": 1149,
    "start_time": "2022-12-27T14:32:44.307Z"
   },
   {
    "duration": 120,
    "start_time": "2022-12-27T14:33:27.041Z"
   },
   {
    "duration": 78,
    "start_time": "2022-12-27T14:36:48.324Z"
   },
   {
    "duration": 147,
    "start_time": "2022-12-27T14:36:59.388Z"
   },
   {
    "duration": 157,
    "start_time": "2022-12-27T14:39:08.750Z"
   },
   {
    "duration": 363,
    "start_time": "2022-12-27T14:39:29.592Z"
   },
   {
    "duration": 10,
    "start_time": "2022-12-27T14:40:00.379Z"
   },
   {
    "duration": 10,
    "start_time": "2022-12-27T14:40:27.635Z"
   },
   {
    "duration": 146,
    "start_time": "2022-12-27T14:47:13.190Z"
   },
   {
    "duration": 154,
    "start_time": "2022-12-27T14:47:18.047Z"
   },
   {
    "duration": 142,
    "start_time": "2022-12-27T14:47:22.721Z"
   },
   {
    "duration": 159,
    "start_time": "2022-12-27T14:50:07.176Z"
   },
   {
    "duration": 153,
    "start_time": "2022-12-27T14:52:01.647Z"
   },
   {
    "duration": 339,
    "start_time": "2022-12-27T14:53:50.358Z"
   },
   {
    "duration": 334,
    "start_time": "2022-12-27T14:54:16.740Z"
   },
   {
    "duration": 1243,
    "start_time": "2022-12-27T14:58:04.204Z"
   },
   {
    "duration": 383,
    "start_time": "2022-12-27T14:58:50.957Z"
   },
   {
    "duration": 379,
    "start_time": "2022-12-27T15:01:36.866Z"
   },
   {
    "duration": 324,
    "start_time": "2022-12-27T15:03:57.620Z"
   },
   {
    "duration": 433,
    "start_time": "2022-12-27T15:05:07.441Z"
   },
   {
    "duration": 77173,
    "start_time": "2022-12-27T15:08:21.900Z"
   },
   {
    "duration": 14,
    "start_time": "2022-12-27T15:12:00.270Z"
   },
   {
    "duration": 111,
    "start_time": "2022-12-27T15:12:36.608Z"
   },
   {
    "duration": 67,
    "start_time": "2022-12-27T15:17:49.757Z"
   },
   {
    "duration": 72,
    "start_time": "2022-12-27T15:18:11.475Z"
   },
   {
    "duration": 284,
    "start_time": "2022-12-27T15:18:31.448Z"
   },
   {
    "duration": 194,
    "start_time": "2022-12-27T15:24:23.825Z"
   },
   {
    "duration": 1129,
    "start_time": "2022-12-27T15:28:54.959Z"
   },
   {
    "duration": 17,
    "start_time": "2022-12-27T15:29:16.155Z"
   },
   {
    "duration": 296,
    "start_time": "2022-12-27T15:33:41.156Z"
   },
   {
    "duration": 15,
    "start_time": "2022-12-27T15:35:10.474Z"
   },
   {
    "duration": 9,
    "start_time": "2022-12-27T15:35:55.353Z"
   },
   {
    "duration": 1138,
    "start_time": "2022-12-27T15:36:10.774Z"
   },
   {
    "duration": 1173,
    "start_time": "2022-12-27T15:39:12.675Z"
   },
   {
    "duration": 32,
    "start_time": "2022-12-27T15:46:43.739Z"
   },
   {
    "duration": 30,
    "start_time": "2022-12-27T15:47:10.855Z"
   },
   {
    "duration": 13,
    "start_time": "2022-12-27T15:58:59.622Z"
   },
   {
    "duration": 13,
    "start_time": "2022-12-27T15:59:15.098Z"
   },
   {
    "duration": 14,
    "start_time": "2022-12-27T15:59:28.500Z"
   },
   {
    "duration": 9,
    "start_time": "2022-12-27T16:05:18.331Z"
   },
   {
    "duration": 9,
    "start_time": "2022-12-27T16:06:00.003Z"
   },
   {
    "duration": 12,
    "start_time": "2022-12-27T16:07:56.406Z"
   },
   {
    "duration": 68,
    "start_time": "2022-12-27T16:09:29.371Z"
   },
   {
    "duration": 13,
    "start_time": "2022-12-27T16:10:54.048Z"
   },
   {
    "duration": 92,
    "start_time": "2022-12-27T16:12:46.598Z"
   },
   {
    "duration": 27,
    "start_time": "2022-12-27T16:16:22.095Z"
   },
   {
    "duration": 2269,
    "start_time": "2022-12-27T16:16:51.093Z"
   },
   {
    "duration": 16,
    "start_time": "2022-12-27T16:18:28.395Z"
   },
   {
    "duration": 2547,
    "start_time": "2022-12-27T16:18:49.694Z"
   },
   {
    "duration": 69,
    "start_time": "2022-12-27T16:20:50.054Z"
   },
   {
    "duration": 815,
    "start_time": "2022-12-27T16:21:14.878Z"
   },
   {
    "duration": 1336,
    "start_time": "2022-12-27T17:05:23.475Z"
   },
   {
    "duration": 34,
    "start_time": "2022-12-27T17:05:24.813Z"
   },
   {
    "duration": 25,
    "start_time": "2022-12-27T17:05:24.849Z"
   },
   {
    "duration": 8,
    "start_time": "2022-12-27T17:05:24.875Z"
   },
   {
    "duration": 44,
    "start_time": "2022-12-27T17:05:24.885Z"
   },
   {
    "duration": 13,
    "start_time": "2022-12-27T17:05:24.954Z"
   },
   {
    "duration": 7,
    "start_time": "2022-12-27T17:05:24.969Z"
   },
   {
    "duration": 27,
    "start_time": "2022-12-27T17:05:24.978Z"
   },
   {
    "duration": 19,
    "start_time": "2022-12-27T17:05:25.007Z"
   },
   {
    "duration": 41,
    "start_time": "2022-12-27T17:05:25.027Z"
   },
   {
    "duration": 862,
    "start_time": "2022-12-27T17:05:25.069Z"
   },
   {
    "duration": 3520,
    "start_time": "2022-12-27T17:05:25.933Z"
   },
   {
    "duration": 770,
    "start_time": "2022-12-27T17:05:29.455Z"
   },
   {
    "duration": 27,
    "start_time": "2022-12-27T17:05:30.228Z"
   },
   {
    "duration": 1503,
    "start_time": "2022-12-27T17:05:30.256Z"
   },
   {
    "duration": 4,
    "start_time": "2022-12-27T17:05:31.761Z"
   },
   {
    "duration": 32,
    "start_time": "2022-12-27T17:05:31.766Z"
   },
   {
    "duration": 27,
    "start_time": "2022-12-27T17:05:31.799Z"
   },
   {
    "duration": 685,
    "start_time": "2022-12-27T17:05:31.828Z"
   },
   {
    "duration": 6,
    "start_time": "2022-12-27T17:05:32.515Z"
   },
   {
    "duration": 589,
    "start_time": "2022-12-27T17:05:32.523Z"
   },
   {
    "duration": 101272,
    "start_time": "2022-12-27T17:05:33.113Z"
   },
   {
    "duration": 1070,
    "start_time": "2022-12-27T17:07:14.387Z"
   },
   {
    "duration": 102,
    "start_time": "2022-12-27T17:07:15.459Z"
   },
   {
    "duration": 9,
    "start_time": "2022-12-27T17:07:15.563Z"
   },
   {
    "duration": 158,
    "start_time": "2022-12-27T17:07:15.573Z"
   },
   {
    "duration": 155,
    "start_time": "2022-12-27T17:07:15.732Z"
   },
   {
    "duration": 164,
    "start_time": "2022-12-27T17:07:15.888Z"
   },
   {
    "duration": 154,
    "start_time": "2022-12-27T17:07:16.054Z"
   },
   {
    "duration": 161,
    "start_time": "2022-12-27T17:07:16.209Z"
   },
   {
    "duration": 377,
    "start_time": "2022-12-27T17:07:16.372Z"
   },
   {
    "duration": 391,
    "start_time": "2022-12-27T17:07:16.750Z"
   },
   {
    "duration": 1294,
    "start_time": "2022-12-27T17:09:36.995Z"
   },
   {
    "duration": 33,
    "start_time": "2022-12-27T17:09:38.291Z"
   },
   {
    "duration": 24,
    "start_time": "2022-12-27T17:09:38.326Z"
   },
   {
    "duration": 7,
    "start_time": "2022-12-27T17:09:38.352Z"
   },
   {
    "duration": 43,
    "start_time": "2022-12-27T17:09:38.362Z"
   },
   {
    "duration": 11,
    "start_time": "2022-12-27T17:09:38.407Z"
   },
   {
    "duration": 5,
    "start_time": "2022-12-27T17:09:38.419Z"
   },
   {
    "duration": 21,
    "start_time": "2022-12-27T17:09:38.452Z"
   },
   {
    "duration": 19,
    "start_time": "2022-12-27T17:09:38.475Z"
   },
   {
    "duration": 24,
    "start_time": "2022-12-27T17:09:38.495Z"
   },
   {
    "duration": 881,
    "start_time": "2022-12-27T17:09:38.521Z"
   },
   {
    "duration": 3591,
    "start_time": "2022-12-27T17:09:39.403Z"
   },
   {
    "duration": 771,
    "start_time": "2022-12-27T17:09:42.995Z"
   },
   {
    "duration": 19,
    "start_time": "2022-12-27T17:09:43.769Z"
   },
   {
    "duration": 1517,
    "start_time": "2022-12-27T17:09:43.790Z"
   },
   {
    "duration": 4,
    "start_time": "2022-12-27T17:09:45.308Z"
   },
   {
    "duration": 18,
    "start_time": "2022-12-27T17:09:45.313Z"
   },
   {
    "duration": 6,
    "start_time": "2022-12-27T17:09:45.333Z"
   },
   {
    "duration": 646,
    "start_time": "2022-12-27T17:09:45.341Z"
   },
   {
    "duration": 7,
    "start_time": "2022-12-27T17:09:45.988Z"
   },
   {
    "duration": 582,
    "start_time": "2022-12-27T17:09:45.997Z"
   },
   {
    "duration": 102180,
    "start_time": "2022-12-27T17:09:46.581Z"
   },
   {
    "duration": 1190,
    "start_time": "2022-12-27T17:11:28.763Z"
   },
   {
    "duration": 17,
    "start_time": "2022-12-27T17:11:29.955Z"
   },
   {
    "duration": 4,
    "start_time": "2022-12-27T17:11:30.053Z"
   },
   {
    "duration": 152,
    "start_time": "2022-12-27T17:11:30.058Z"
   },
   {
    "duration": 161,
    "start_time": "2022-12-27T17:11:30.212Z"
   },
   {
    "duration": 165,
    "start_time": "2022-12-27T17:11:30.375Z"
   },
   {
    "duration": 158,
    "start_time": "2022-12-27T17:11:30.542Z"
   },
   {
    "duration": 168,
    "start_time": "2022-12-27T17:11:30.702Z"
   },
   {
    "duration": 388,
    "start_time": "2022-12-27T17:11:30.871Z"
   },
   {
    "duration": 407,
    "start_time": "2022-12-27T17:11:31.260Z"
   },
   {
    "duration": 52,
    "start_time": "2022-12-28T15:09:11.263Z"
   },
   {
    "duration": 0,
    "start_time": "2022-12-28T15:09:11.318Z"
   },
   {
    "duration": 0,
    "start_time": "2022-12-28T15:09:11.319Z"
   },
   {
    "duration": 0,
    "start_time": "2022-12-28T15:09:11.320Z"
   },
   {
    "duration": 0,
    "start_time": "2022-12-28T15:09:11.322Z"
   },
   {
    "duration": 0,
    "start_time": "2022-12-28T15:09:11.323Z"
   },
   {
    "duration": 0,
    "start_time": "2022-12-28T15:09:11.324Z"
   },
   {
    "duration": 0,
    "start_time": "2022-12-28T15:09:11.325Z"
   },
   {
    "duration": 0,
    "start_time": "2022-12-28T15:09:11.326Z"
   },
   {
    "duration": 0,
    "start_time": "2022-12-28T15:09:11.327Z"
   },
   {
    "duration": 0,
    "start_time": "2022-12-28T15:09:11.329Z"
   },
   {
    "duration": 0,
    "start_time": "2022-12-28T15:09:11.330Z"
   },
   {
    "duration": 1,
    "start_time": "2022-12-28T15:09:11.331Z"
   },
   {
    "duration": 0,
    "start_time": "2022-12-28T15:09:11.333Z"
   },
   {
    "duration": 0,
    "start_time": "2022-12-28T15:09:11.334Z"
   },
   {
    "duration": 0,
    "start_time": "2022-12-28T15:09:11.335Z"
   },
   {
    "duration": 0,
    "start_time": "2022-12-28T15:09:11.337Z"
   },
   {
    "duration": 0,
    "start_time": "2022-12-28T15:09:11.338Z"
   },
   {
    "duration": 0,
    "start_time": "2022-12-28T15:09:11.339Z"
   },
   {
    "duration": 0,
    "start_time": "2022-12-28T15:09:11.341Z"
   },
   {
    "duration": 0,
    "start_time": "2022-12-28T15:09:11.342Z"
   },
   {
    "duration": 0,
    "start_time": "2022-12-28T15:09:11.343Z"
   },
   {
    "duration": 0,
    "start_time": "2022-12-28T15:09:11.344Z"
   },
   {
    "duration": 0,
    "start_time": "2022-12-28T15:09:11.346Z"
   },
   {
    "duration": 0,
    "start_time": "2022-12-28T15:09:11.347Z"
   },
   {
    "duration": 0,
    "start_time": "2022-12-28T15:09:11.349Z"
   },
   {
    "duration": 0,
    "start_time": "2022-12-28T15:09:11.350Z"
   },
   {
    "duration": 0,
    "start_time": "2022-12-28T15:09:11.351Z"
   },
   {
    "duration": 0,
    "start_time": "2022-12-28T15:09:11.352Z"
   },
   {
    "duration": 0,
    "start_time": "2022-12-28T15:09:11.353Z"
   },
   {
    "duration": 0,
    "start_time": "2022-12-28T15:09:11.412Z"
   },
   {
    "duration": 0,
    "start_time": "2022-12-28T15:09:11.413Z"
   },
   {
    "duration": 115,
    "start_time": "2022-12-28T15:09:11.417Z"
   },
   {
    "duration": 0,
    "start_time": "2022-12-28T15:09:11.534Z"
   },
   {
    "duration": 1693,
    "start_time": "2022-12-28T15:10:36.281Z"
   },
   {
    "duration": 78,
    "start_time": "2022-12-28T15:10:37.976Z"
   },
   {
    "duration": 39,
    "start_time": "2022-12-28T15:10:38.056Z"
   },
   {
    "duration": 16,
    "start_time": "2022-12-28T15:10:38.097Z"
   },
   {
    "duration": 74,
    "start_time": "2022-12-28T15:10:38.116Z"
   },
   {
    "duration": 15,
    "start_time": "2022-12-28T15:10:38.193Z"
   },
   {
    "duration": 22,
    "start_time": "2022-12-28T15:10:38.212Z"
   },
   {
    "duration": 37,
    "start_time": "2022-12-28T15:10:38.236Z"
   },
   {
    "duration": 37,
    "start_time": "2022-12-28T15:10:38.275Z"
   },
   {
    "duration": 44,
    "start_time": "2022-12-28T15:10:38.314Z"
   },
   {
    "duration": 949,
    "start_time": "2022-12-28T15:10:38.360Z"
   },
   {
    "duration": 3803,
    "start_time": "2022-12-28T15:10:39.313Z"
   },
   {
    "duration": 801,
    "start_time": "2022-12-28T15:10:43.118Z"
   },
   {
    "duration": 22,
    "start_time": "2022-12-28T15:10:43.922Z"
   },
   {
    "duration": 1717,
    "start_time": "2022-12-28T15:10:43.946Z"
   },
   {
    "duration": 4,
    "start_time": "2022-12-28T15:10:45.665Z"
   },
   {
    "duration": 8,
    "start_time": "2022-12-28T15:10:45.671Z"
   },
   {
    "duration": 4,
    "start_time": "2022-12-28T15:10:45.680Z"
   },
   {
    "duration": 711,
    "start_time": "2022-12-28T15:10:45.686Z"
   },
   {
    "duration": 12,
    "start_time": "2022-12-28T15:10:46.400Z"
   },
   {
    "duration": 619,
    "start_time": "2022-12-28T15:10:46.414Z"
   },
   {
    "duration": 116042,
    "start_time": "2022-12-28T15:10:47.034Z"
   },
   {
    "duration": 846,
    "start_time": "2022-12-28T15:12:43.077Z"
   },
   {
    "duration": 98,
    "start_time": "2022-12-28T15:12:43.925Z"
   },
   {
    "duration": 4,
    "start_time": "2022-12-28T15:12:44.026Z"
   },
   {
    "duration": 173,
    "start_time": "2022-12-28T15:12:44.032Z"
   },
   {
    "duration": 165,
    "start_time": "2022-12-28T15:12:44.207Z"
   },
   {
    "duration": 160,
    "start_time": "2022-12-28T15:12:44.374Z"
   },
   {
    "duration": 148,
    "start_time": "2022-12-28T15:12:44.535Z"
   },
   {
    "duration": 164,
    "start_time": "2022-12-28T15:12:44.685Z"
   },
   {
    "duration": 419,
    "start_time": "2022-12-28T15:12:44.851Z"
   },
   {
    "duration": 419,
    "start_time": "2022-12-28T15:12:45.272Z"
   },
   {
    "duration": 227,
    "start_time": "2022-12-28T15:12:45.693Z"
   },
   {
    "duration": 1266,
    "start_time": "2022-12-28T15:13:22.686Z"
   },
   {
    "duration": 1547,
    "start_time": "2022-12-28T15:22:50.792Z"
   },
   {
    "duration": 1430,
    "start_time": "2022-12-28T15:23:09.530Z"
   },
   {
    "duration": 34,
    "start_time": "2022-12-28T15:23:10.962Z"
   },
   {
    "duration": 28,
    "start_time": "2022-12-28T15:23:10.997Z"
   },
   {
    "duration": 11,
    "start_time": "2022-12-28T15:23:11.027Z"
   },
   {
    "duration": 81,
    "start_time": "2022-12-28T15:23:11.040Z"
   },
   {
    "duration": 19,
    "start_time": "2022-12-28T15:23:11.123Z"
   },
   {
    "duration": 14,
    "start_time": "2022-12-28T15:23:11.144Z"
   },
   {
    "duration": 24,
    "start_time": "2022-12-28T15:23:11.160Z"
   },
   {
    "duration": 47,
    "start_time": "2022-12-28T15:23:11.185Z"
   },
   {
    "duration": 27,
    "start_time": "2022-12-28T15:23:11.235Z"
   },
   {
    "duration": 1009,
    "start_time": "2022-12-28T15:23:11.264Z"
   },
   {
    "duration": 4776,
    "start_time": "2022-12-28T15:23:12.275Z"
   },
   {
    "duration": 891,
    "start_time": "2022-12-28T15:23:17.054Z"
   },
   {
    "duration": 22,
    "start_time": "2022-12-28T15:23:17.947Z"
   },
   {
    "duration": 1712,
    "start_time": "2022-12-28T15:23:17.971Z"
   },
   {
    "duration": 4,
    "start_time": "2022-12-28T15:23:19.685Z"
   },
   {
    "duration": 10,
    "start_time": "2022-12-28T15:23:19.691Z"
   },
   {
    "duration": 7,
    "start_time": "2022-12-28T15:23:19.702Z"
   },
   {
    "duration": 650,
    "start_time": "2022-12-28T15:23:19.711Z"
   },
   {
    "duration": 8,
    "start_time": "2022-12-28T15:23:20.362Z"
   },
   {
    "duration": 623,
    "start_time": "2022-12-28T15:23:20.371Z"
   },
   {
    "duration": 119204,
    "start_time": "2022-12-28T15:23:20.996Z"
   },
   {
    "duration": 835,
    "start_time": "2022-12-28T15:25:20.202Z"
   },
   {
    "duration": 91,
    "start_time": "2022-12-28T15:25:21.043Z"
   },
   {
    "duration": 4,
    "start_time": "2022-12-28T15:25:21.137Z"
   },
   {
    "duration": 214,
    "start_time": "2022-12-28T15:25:21.143Z"
   },
   {
    "duration": 197,
    "start_time": "2022-12-28T15:25:21.359Z"
   },
   {
    "duration": 183,
    "start_time": "2022-12-28T15:25:21.559Z"
   },
   {
    "duration": 174,
    "start_time": "2022-12-28T15:25:21.744Z"
   },
   {
    "duration": 180,
    "start_time": "2022-12-28T15:25:21.921Z"
   },
   {
    "duration": 405,
    "start_time": "2022-12-28T15:25:22.103Z"
   },
   {
    "duration": 429,
    "start_time": "2022-12-28T15:25:22.512Z"
   },
   {
    "duration": 1380,
    "start_time": "2022-12-28T15:25:22.942Z"
   }
  ],
  "kernelspec": {
   "display_name": "Python 3 (ipykernel)",
   "language": "python",
   "name": "python3"
  },
  "language_info": {
   "codemirror_mode": {
    "name": "ipython",
    "version": 3
   },
   "file_extension": ".py",
   "mimetype": "text/x-python",
   "name": "python",
   "nbconvert_exporter": "python",
   "pygments_lexer": "ipython3",
   "version": "3.9.12"
  },
  "toc": {
   "base_numbering": 1,
   "nav_menu": {},
   "number_sections": true,
   "sideBar": true,
   "skip_h1_title": true,
   "title_cell": "Table of Contents",
   "title_sidebar": "Contents",
   "toc_cell": false,
   "toc_position": {
    "height": "calc(100% - 180px)",
    "left": "10px",
    "top": "150px",
    "width": "165px"
   },
   "toc_section_display": true,
   "toc_window_display": true
  }
 },
 "nbformat": 4,
 "nbformat_minor": 2
}
