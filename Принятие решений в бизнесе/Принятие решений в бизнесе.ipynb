{
 "cells": [
  {
   "cell_type": "markdown",
   "metadata": {},
   "source": [
    "# Проект : Принятие решений в бизнесе\n",
    "        \n",
    "   Описание проекта :\n",
    "   \n",
    "    На основе анализа данных крупного интернет-магазинасоставлен список гипотез для увеличения выручки.\n",
    "     Приоритизируйте гипотезы, запустите A/B-тест и проанализируйте результаты.\n",
    "\n",
    "  \n",
    "  ## Описание данных\n",
    "\n",
    "Данные для первой части\n",
    "\n",
    "Файл  Гипотезы :\n",
    "\n",
    "Hypothesis — краткое описание гипотезы;\n",
    "\n",
    "\n",
    "Reach — охват пользователей по 10-балльной шкале;\n",
    "\n",
    "\n",
    "Impact — влияние на пользователей по 10-балльной шкале;\n",
    "\n",
    "\n",
    "Confidence — уверенность в гипотезе по 10-балльной шкале;\n",
    "\n",
    "\n",
    "Efforts — затраты ресурсов на проверку гипотезы по 10-балльной шкале.\n",
    "Чем больше значение Efforts, тем дороже проверка гипотезы.\n",
    "\n",
    "\n",
    "Данные для второй части\n",
    "\n",
    "Файл Заказы\n",
    "\n",
    "transactionId — идентификатор заказа;\n",
    "\n",
    "visitorId — идентификатор пользователя, совершившего заказ;\n",
    "\n",
    "date — дата, когда был совершён заказ;\n",
    "\n",
    "revenue — выручка заказа;\n",
    "\n",
    "group — группа A/B-теста, в которую попал заказ.\n",
    "\n",
    "\n",
    "Файл  Посетители\n",
    "\n",
    "\n",
    "date — дата;\n",
    "\n",
    "group — группа A/B-теста;\n",
    "\n",
    "visitors — количество пользователей в указанную дату в указанной группе A/B-теста\n",
    "\n",
    "\n",
    "\n",
    "        "
   ]
  },
  {
   "cell_type": "markdown",
   "metadata": {},
   "source": [
    "##  Изучение общей информации о данных"
   ]
  },
  {
   "cell_type": "code",
   "execution_count": 1,
   "metadata": {},
   "outputs": [],
   "source": [
    "# импорт библиотек\n",
    "import pandas as pd               \n",
    "import numpy as np\n",
    "import matplotlib.pyplot as plt    \n",
    "import seaborn as sns\n",
    "from scipy import stats as st\n",
    "from pandas.plotting import register_matplotlib_converters\n",
    "import warnings"
   ]
  },
  {
   "cell_type": "code",
   "execution_count": 2,
   "metadata": {},
   "outputs": [],
   "source": [
    "# открываем файлы\n",
    "hypothesis = pd.read_csv('/datasets/hypothesis.csv')         \n",
    "orders = pd.read_csv('/datasets/orders.csv')    \n",
    "visitors = pd.read_csv('/datasets/visitors.csv')  "
   ]
  },
  {
   "cell_type": "code",
   "execution_count": 3,
   "metadata": {},
   "outputs": [
    {
     "name": "stdout",
     "output_type": "stream",
     "text": [
      "<class 'pandas.core.frame.DataFrame'>\n",
      "RangeIndex: 9 entries, 0 to 8\n",
      "Data columns (total 5 columns):\n",
      " #   Column      Non-Null Count  Dtype \n",
      "---  ------      --------------  ----- \n",
      " 0   Hypothesis  9 non-null      object\n",
      " 1   Reach       9 non-null      int64 \n",
      " 2   Impact      9 non-null      int64 \n",
      " 3   Confidence  9 non-null      int64 \n",
      " 4   Efforts     9 non-null      int64 \n",
      "dtypes: int64(4), object(1)\n",
      "memory usage: 488.0+ bytes\n"
     ]
    },
    {
     "data": {
      "text/html": [
       "<div>\n",
       "<style scoped>\n",
       "    .dataframe tbody tr th:only-of-type {\n",
       "        vertical-align: middle;\n",
       "    }\n",
       "\n",
       "    .dataframe tbody tr th {\n",
       "        vertical-align: top;\n",
       "    }\n",
       "\n",
       "    .dataframe thead th {\n",
       "        text-align: right;\n",
       "    }\n",
       "</style>\n",
       "<table border=\"1\" class=\"dataframe\">\n",
       "  <thead>\n",
       "    <tr style=\"text-align: right;\">\n",
       "      <th></th>\n",
       "      <th>Hypothesis</th>\n",
       "      <th>Reach</th>\n",
       "      <th>Impact</th>\n",
       "      <th>Confidence</th>\n",
       "      <th>Efforts</th>\n",
       "    </tr>\n",
       "  </thead>\n",
       "  <tbody>\n",
       "    <tr>\n",
       "      <th>0</th>\n",
       "      <td>Добавить два новых канала привлечения трафика,...</td>\n",
       "      <td>3</td>\n",
       "      <td>10</td>\n",
       "      <td>8</td>\n",
       "      <td>6</td>\n",
       "    </tr>\n",
       "    <tr>\n",
       "      <th>1</th>\n",
       "      <td>Запустить собственную службу доставки, что сок...</td>\n",
       "      <td>2</td>\n",
       "      <td>5</td>\n",
       "      <td>4</td>\n",
       "      <td>10</td>\n",
       "    </tr>\n",
       "    <tr>\n",
       "      <th>2</th>\n",
       "      <td>Добавить блоки рекомендаций товаров на сайт ин...</td>\n",
       "      <td>8</td>\n",
       "      <td>3</td>\n",
       "      <td>7</td>\n",
       "      <td>3</td>\n",
       "    </tr>\n",
       "    <tr>\n",
       "      <th>3</th>\n",
       "      <td>Изменить структура категорий, что увеличит кон...</td>\n",
       "      <td>8</td>\n",
       "      <td>3</td>\n",
       "      <td>3</td>\n",
       "      <td>8</td>\n",
       "    </tr>\n",
       "    <tr>\n",
       "      <th>4</th>\n",
       "      <td>Изменить цвет фона главной страницы, чтобы уве...</td>\n",
       "      <td>3</td>\n",
       "      <td>1</td>\n",
       "      <td>1</td>\n",
       "      <td>1</td>\n",
       "    </tr>\n",
       "    <tr>\n",
       "      <th>5</th>\n",
       "      <td>Добавить страницу отзывов клиентов о магазине,...</td>\n",
       "      <td>3</td>\n",
       "      <td>2</td>\n",
       "      <td>2</td>\n",
       "      <td>3</td>\n",
       "    </tr>\n",
       "    <tr>\n",
       "      <th>6</th>\n",
       "      <td>Показать на главной странице баннеры с актуаль...</td>\n",
       "      <td>5</td>\n",
       "      <td>3</td>\n",
       "      <td>8</td>\n",
       "      <td>3</td>\n",
       "    </tr>\n",
       "    <tr>\n",
       "      <th>7</th>\n",
       "      <td>Добавить форму подписки на все основные страни...</td>\n",
       "      <td>10</td>\n",
       "      <td>7</td>\n",
       "      <td>8</td>\n",
       "      <td>5</td>\n",
       "    </tr>\n",
       "    <tr>\n",
       "      <th>8</th>\n",
       "      <td>Запустить акцию, дающую скидку на товар в день...</td>\n",
       "      <td>1</td>\n",
       "      <td>9</td>\n",
       "      <td>9</td>\n",
       "      <td>5</td>\n",
       "    </tr>\n",
       "  </tbody>\n",
       "</table>\n",
       "</div>"
      ],
      "text/plain": [
       "                                          Hypothesis  Reach  Impact  \\\n",
       "0  Добавить два новых канала привлечения трафика,...      3      10   \n",
       "1  Запустить собственную службу доставки, что сок...      2       5   \n",
       "2  Добавить блоки рекомендаций товаров на сайт ин...      8       3   \n",
       "3  Изменить структура категорий, что увеличит кон...      8       3   \n",
       "4  Изменить цвет фона главной страницы, чтобы уве...      3       1   \n",
       "5  Добавить страницу отзывов клиентов о магазине,...      3       2   \n",
       "6  Показать на главной странице баннеры с актуаль...      5       3   \n",
       "7  Добавить форму подписки на все основные страни...     10       7   \n",
       "8  Запустить акцию, дающую скидку на товар в день...      1       9   \n",
       "\n",
       "   Confidence  Efforts  \n",
       "0           8        6  \n",
       "1           4       10  \n",
       "2           7        3  \n",
       "3           3        8  \n",
       "4           1        1  \n",
       "5           2        3  \n",
       "6           8        3  \n",
       "7           8        5  \n",
       "8           9        5  "
      ]
     },
     "execution_count": 3,
     "metadata": {},
     "output_type": "execute_result"
    }
   ],
   "source": [
    "# общая информация о гипотезах и первые 10 строк таблицы:\n",
    "hypothesis.info()\n",
    "hypothesis.head(10)"
   ]
  },
  {
   "cell_type": "code",
   "execution_count": 4,
   "metadata": {},
   "outputs": [
    {
     "name": "stdout",
     "output_type": "stream",
     "text": [
      "<class 'pandas.core.frame.DataFrame'>\n",
      "RangeIndex: 1197 entries, 0 to 1196\n",
      "Data columns (total 5 columns):\n",
      " #   Column         Non-Null Count  Dtype \n",
      "---  ------         --------------  ----- \n",
      " 0   transactionId  1197 non-null   int64 \n",
      " 1   visitorId      1197 non-null   int64 \n",
      " 2   date           1197 non-null   object\n",
      " 3   revenue        1197 non-null   int64 \n",
      " 4   group          1197 non-null   object\n",
      "dtypes: int64(3), object(2)\n",
      "memory usage: 46.9+ KB\n"
     ]
    },
    {
     "data": {
      "text/html": [
       "<div>\n",
       "<style scoped>\n",
       "    .dataframe tbody tr th:only-of-type {\n",
       "        vertical-align: middle;\n",
       "    }\n",
       "\n",
       "    .dataframe tbody tr th {\n",
       "        vertical-align: top;\n",
       "    }\n",
       "\n",
       "    .dataframe thead th {\n",
       "        text-align: right;\n",
       "    }\n",
       "</style>\n",
       "<table border=\"1\" class=\"dataframe\">\n",
       "  <thead>\n",
       "    <tr style=\"text-align: right;\">\n",
       "      <th></th>\n",
       "      <th>transactionId</th>\n",
       "      <th>visitorId</th>\n",
       "      <th>date</th>\n",
       "      <th>revenue</th>\n",
       "      <th>group</th>\n",
       "    </tr>\n",
       "  </thead>\n",
       "  <tbody>\n",
       "    <tr>\n",
       "      <th>0</th>\n",
       "      <td>3667963787</td>\n",
       "      <td>3312258926</td>\n",
       "      <td>2019-08-15</td>\n",
       "      <td>1650</td>\n",
       "      <td>B</td>\n",
       "    </tr>\n",
       "    <tr>\n",
       "      <th>1</th>\n",
       "      <td>2804400009</td>\n",
       "      <td>3642806036</td>\n",
       "      <td>2019-08-15</td>\n",
       "      <td>730</td>\n",
       "      <td>B</td>\n",
       "    </tr>\n",
       "    <tr>\n",
       "      <th>2</th>\n",
       "      <td>2961555356</td>\n",
       "      <td>4069496402</td>\n",
       "      <td>2019-08-15</td>\n",
       "      <td>400</td>\n",
       "      <td>A</td>\n",
       "    </tr>\n",
       "    <tr>\n",
       "      <th>3</th>\n",
       "      <td>3797467345</td>\n",
       "      <td>1196621759</td>\n",
       "      <td>2019-08-15</td>\n",
       "      <td>9759</td>\n",
       "      <td>B</td>\n",
       "    </tr>\n",
       "    <tr>\n",
       "      <th>4</th>\n",
       "      <td>2282983706</td>\n",
       "      <td>2322279887</td>\n",
       "      <td>2019-08-15</td>\n",
       "      <td>2308</td>\n",
       "      <td>B</td>\n",
       "    </tr>\n",
       "    <tr>\n",
       "      <th>5</th>\n",
       "      <td>182168103</td>\n",
       "      <td>935554773</td>\n",
       "      <td>2019-08-15</td>\n",
       "      <td>2210</td>\n",
       "      <td>B</td>\n",
       "    </tr>\n",
       "    <tr>\n",
       "      <th>6</th>\n",
       "      <td>398296753</td>\n",
       "      <td>2900797465</td>\n",
       "      <td>2019-08-15</td>\n",
       "      <td>1860</td>\n",
       "      <td>B</td>\n",
       "    </tr>\n",
       "    <tr>\n",
       "      <th>7</th>\n",
       "      <td>2626614568</td>\n",
       "      <td>78758296</td>\n",
       "      <td>2019-08-15</td>\n",
       "      <td>1044</td>\n",
       "      <td>A</td>\n",
       "    </tr>\n",
       "    <tr>\n",
       "      <th>8</th>\n",
       "      <td>1576988021</td>\n",
       "      <td>295230930</td>\n",
       "      <td>2019-08-15</td>\n",
       "      <td>13710</td>\n",
       "      <td>A</td>\n",
       "    </tr>\n",
       "    <tr>\n",
       "      <th>9</th>\n",
       "      <td>1506739906</td>\n",
       "      <td>1882260405</td>\n",
       "      <td>2019-08-15</td>\n",
       "      <td>1855</td>\n",
       "      <td>B</td>\n",
       "    </tr>\n",
       "  </tbody>\n",
       "</table>\n",
       "</div>"
      ],
      "text/plain": [
       "   transactionId   visitorId        date  revenue group\n",
       "0     3667963787  3312258926  2019-08-15     1650     B\n",
       "1     2804400009  3642806036  2019-08-15      730     B\n",
       "2     2961555356  4069496402  2019-08-15      400     A\n",
       "3     3797467345  1196621759  2019-08-15     9759     B\n",
       "4     2282983706  2322279887  2019-08-15     2308     B\n",
       "5      182168103   935554773  2019-08-15     2210     B\n",
       "6      398296753  2900797465  2019-08-15     1860     B\n",
       "7     2626614568    78758296  2019-08-15     1044     A\n",
       "8     1576988021   295230930  2019-08-15    13710     A\n",
       "9     1506739906  1882260405  2019-08-15     1855     B"
      ]
     },
     "execution_count": 4,
     "metadata": {},
     "output_type": "execute_result"
    }
   ],
   "source": [
    "# общая информация о заказах и первые 10 строк таблицы:\n",
    "orders.info()\n",
    "orders.head(10)"
   ]
  },
  {
   "cell_type": "code",
   "execution_count": 5,
   "metadata": {},
   "outputs": [
    {
     "name": "stdout",
     "output_type": "stream",
     "text": [
      "<class 'pandas.core.frame.DataFrame'>\n",
      "RangeIndex: 62 entries, 0 to 61\n",
      "Data columns (total 3 columns):\n",
      " #   Column    Non-Null Count  Dtype \n",
      "---  ------    --------------  ----- \n",
      " 0   date      62 non-null     object\n",
      " 1   group     62 non-null     object\n",
      " 2   visitors  62 non-null     int64 \n",
      "dtypes: int64(1), object(2)\n",
      "memory usage: 1.6+ KB\n"
     ]
    },
    {
     "data": {
      "text/html": [
       "<div>\n",
       "<style scoped>\n",
       "    .dataframe tbody tr th:only-of-type {\n",
       "        vertical-align: middle;\n",
       "    }\n",
       "\n",
       "    .dataframe tbody tr th {\n",
       "        vertical-align: top;\n",
       "    }\n",
       "\n",
       "    .dataframe thead th {\n",
       "        text-align: right;\n",
       "    }\n",
       "</style>\n",
       "<table border=\"1\" class=\"dataframe\">\n",
       "  <thead>\n",
       "    <tr style=\"text-align: right;\">\n",
       "      <th></th>\n",
       "      <th>date</th>\n",
       "      <th>group</th>\n",
       "      <th>visitors</th>\n",
       "    </tr>\n",
       "  </thead>\n",
       "  <tbody>\n",
       "    <tr>\n",
       "      <th>0</th>\n",
       "      <td>2019-08-01</td>\n",
       "      <td>A</td>\n",
       "      <td>719</td>\n",
       "    </tr>\n",
       "    <tr>\n",
       "      <th>1</th>\n",
       "      <td>2019-08-02</td>\n",
       "      <td>A</td>\n",
       "      <td>619</td>\n",
       "    </tr>\n",
       "    <tr>\n",
       "      <th>2</th>\n",
       "      <td>2019-08-03</td>\n",
       "      <td>A</td>\n",
       "      <td>507</td>\n",
       "    </tr>\n",
       "    <tr>\n",
       "      <th>3</th>\n",
       "      <td>2019-08-04</td>\n",
       "      <td>A</td>\n",
       "      <td>717</td>\n",
       "    </tr>\n",
       "    <tr>\n",
       "      <th>4</th>\n",
       "      <td>2019-08-05</td>\n",
       "      <td>A</td>\n",
       "      <td>756</td>\n",
       "    </tr>\n",
       "    <tr>\n",
       "      <th>5</th>\n",
       "      <td>2019-08-06</td>\n",
       "      <td>A</td>\n",
       "      <td>667</td>\n",
       "    </tr>\n",
       "    <tr>\n",
       "      <th>6</th>\n",
       "      <td>2019-08-07</td>\n",
       "      <td>A</td>\n",
       "      <td>644</td>\n",
       "    </tr>\n",
       "    <tr>\n",
       "      <th>7</th>\n",
       "      <td>2019-08-08</td>\n",
       "      <td>A</td>\n",
       "      <td>610</td>\n",
       "    </tr>\n",
       "    <tr>\n",
       "      <th>8</th>\n",
       "      <td>2019-08-09</td>\n",
       "      <td>A</td>\n",
       "      <td>617</td>\n",
       "    </tr>\n",
       "    <tr>\n",
       "      <th>9</th>\n",
       "      <td>2019-08-10</td>\n",
       "      <td>A</td>\n",
       "      <td>406</td>\n",
       "    </tr>\n",
       "  </tbody>\n",
       "</table>\n",
       "</div>"
      ],
      "text/plain": [
       "         date group  visitors\n",
       "0  2019-08-01     A       719\n",
       "1  2019-08-02     A       619\n",
       "2  2019-08-03     A       507\n",
       "3  2019-08-04     A       717\n",
       "4  2019-08-05     A       756\n",
       "5  2019-08-06     A       667\n",
       "6  2019-08-07     A       644\n",
       "7  2019-08-08     A       610\n",
       "8  2019-08-09     A       617\n",
       "9  2019-08-10     A       406"
      ]
     },
     "execution_count": 5,
     "metadata": {},
     "output_type": "execute_result"
    }
   ],
   "source": [
    "# общая информация о посетителях  и первые 10 строк таблицы:\n",
    "visitors.info()\n",
    "visitors.head(10)"
   ]
  },
  {
   "cell_type": "code",
   "execution_count": 6,
   "metadata": {},
   "outputs": [
    {
     "data": {
      "text/plain": [
       "0"
      ]
     },
     "metadata": {},
     "output_type": "display_data"
    }
   ],
   "source": [
    "#подсчет явных дубликатов\n",
    "display(hypothesis.duplicated().sum())"
   ]
  },
  {
   "cell_type": "code",
   "execution_count": 7,
   "metadata": {},
   "outputs": [
    {
     "data": {
      "text/plain": [
       "0"
      ]
     },
     "metadata": {},
     "output_type": "display_data"
    }
   ],
   "source": [
    "#подсчет явных дубликатов\n",
    "display(orders.duplicated().sum())"
   ]
  },
  {
   "cell_type": "code",
   "execution_count": 8,
   "metadata": {},
   "outputs": [
    {
     "data": {
      "text/plain": [
       "0"
      ]
     },
     "metadata": {},
     "output_type": "display_data"
    }
   ],
   "source": [
    "#подсчет явных дубликатов\n",
    "display(visitors.duplicated().sum())"
   ]
  },
  {
   "cell_type": "markdown",
   "metadata": {},
   "source": [
    "Изучена первая информация о данных:\n",
    "\n",
    "    Дубликатов в данных не выявлено .\n",
    "    \n",
    "    Пропусков нет.\n",
    "    \n",
    "    Названия столбцов таблицы Гипотезы  не соответствуют принятым, необходима замена прописных букв на строчные . \n",
    "    \n",
    "    Даты в таблицах в неверном формате и требуют перевода в формат даты  "
   ]
  },
  {
   "cell_type": "code",
   "execution_count": 9,
   "metadata": {},
   "outputs": [
    {
     "data": {
      "text/plain": [
       "0      2019-08-15\n",
       "1      2019-08-15\n",
       "2      2019-08-15\n",
       "3      2019-08-15\n",
       "4      2019-08-15\n",
       "          ...    \n",
       "1192   2019-08-14\n",
       "1193   2019-08-14\n",
       "1194   2019-08-14\n",
       "1195   2019-08-14\n",
       "1196   2019-08-15\n",
       "Name: date, Length: 1197, dtype: datetime64[ns]"
      ]
     },
     "metadata": {},
     "output_type": "display_data"
    }
   ],
   "source": [
    "#замена типов данных в таблице заказы  \n",
    "orders['date'] = pd.to_datetime(orders['date'])\n",
    "display(orders['date'])"
   ]
  },
  {
   "cell_type": "code",
   "execution_count": 10,
   "metadata": {},
   "outputs": [
    {
     "data": {
      "text/plain": [
       "0    2019-08-01\n",
       "1    2019-08-02\n",
       "2    2019-08-03\n",
       "3    2019-08-04\n",
       "4    2019-08-05\n",
       "        ...    \n",
       "57   2019-08-27\n",
       "58   2019-08-28\n",
       "59   2019-08-29\n",
       "60   2019-08-30\n",
       "61   2019-08-31\n",
       "Name: date, Length: 62, dtype: datetime64[ns]"
      ]
     },
     "metadata": {},
     "output_type": "display_data"
    }
   ],
   "source": [
    "#замена типов данных в таблице посетители\n",
    "visitors['date'] = pd.to_datetime(visitors['date'])\n",
    "display(visitors['date'])"
   ]
  },
  {
   "cell_type": "code",
   "execution_count": 11,
   "metadata": {},
   "outputs": [
    {
     "data": {
      "text/html": [
       "<div>\n",
       "<style scoped>\n",
       "    .dataframe tbody tr th:only-of-type {\n",
       "        vertical-align: middle;\n",
       "    }\n",
       "\n",
       "    .dataframe tbody tr th {\n",
       "        vertical-align: top;\n",
       "    }\n",
       "\n",
       "    .dataframe thead th {\n",
       "        text-align: right;\n",
       "    }\n",
       "</style>\n",
       "<table border=\"1\" class=\"dataframe\">\n",
       "  <thead>\n",
       "    <tr style=\"text-align: right;\">\n",
       "      <th></th>\n",
       "      <th>hypothesis</th>\n",
       "      <th>reach</th>\n",
       "      <th>impact</th>\n",
       "      <th>confidence</th>\n",
       "      <th>efforts</th>\n",
       "    </tr>\n",
       "  </thead>\n",
       "  <tbody>\n",
       "    <tr>\n",
       "      <th>0</th>\n",
       "      <td>Добавить два новых канала привлечения трафика,...</td>\n",
       "      <td>3</td>\n",
       "      <td>10</td>\n",
       "      <td>8</td>\n",
       "      <td>6</td>\n",
       "    </tr>\n",
       "    <tr>\n",
       "      <th>1</th>\n",
       "      <td>Запустить собственную службу доставки, что сок...</td>\n",
       "      <td>2</td>\n",
       "      <td>5</td>\n",
       "      <td>4</td>\n",
       "      <td>10</td>\n",
       "    </tr>\n",
       "    <tr>\n",
       "      <th>2</th>\n",
       "      <td>Добавить блоки рекомендаций товаров на сайт ин...</td>\n",
       "      <td>8</td>\n",
       "      <td>3</td>\n",
       "      <td>7</td>\n",
       "      <td>3</td>\n",
       "    </tr>\n",
       "    <tr>\n",
       "      <th>3</th>\n",
       "      <td>Изменить структура категорий, что увеличит кон...</td>\n",
       "      <td>8</td>\n",
       "      <td>3</td>\n",
       "      <td>3</td>\n",
       "      <td>8</td>\n",
       "    </tr>\n",
       "    <tr>\n",
       "      <th>4</th>\n",
       "      <td>Изменить цвет фона главной страницы, чтобы уве...</td>\n",
       "      <td>3</td>\n",
       "      <td>1</td>\n",
       "      <td>1</td>\n",
       "      <td>1</td>\n",
       "    </tr>\n",
       "    <tr>\n",
       "      <th>5</th>\n",
       "      <td>Добавить страницу отзывов клиентов о магазине,...</td>\n",
       "      <td>3</td>\n",
       "      <td>2</td>\n",
       "      <td>2</td>\n",
       "      <td>3</td>\n",
       "    </tr>\n",
       "    <tr>\n",
       "      <th>6</th>\n",
       "      <td>Показать на главной странице баннеры с актуаль...</td>\n",
       "      <td>5</td>\n",
       "      <td>3</td>\n",
       "      <td>8</td>\n",
       "      <td>3</td>\n",
       "    </tr>\n",
       "    <tr>\n",
       "      <th>7</th>\n",
       "      <td>Добавить форму подписки на все основные страни...</td>\n",
       "      <td>10</td>\n",
       "      <td>7</td>\n",
       "      <td>8</td>\n",
       "      <td>5</td>\n",
       "    </tr>\n",
       "    <tr>\n",
       "      <th>8</th>\n",
       "      <td>Запустить акцию, дающую скидку на товар в день...</td>\n",
       "      <td>1</td>\n",
       "      <td>9</td>\n",
       "      <td>9</td>\n",
       "      <td>5</td>\n",
       "    </tr>\n",
       "  </tbody>\n",
       "</table>\n",
       "</div>"
      ],
      "text/plain": [
       "                                          hypothesis  reach  impact  \\\n",
       "0  Добавить два новых канала привлечения трафика,...      3      10   \n",
       "1  Запустить собственную службу доставки, что сок...      2       5   \n",
       "2  Добавить блоки рекомендаций товаров на сайт ин...      8       3   \n",
       "3  Изменить структура категорий, что увеличит кон...      8       3   \n",
       "4  Изменить цвет фона главной страницы, чтобы уве...      3       1   \n",
       "5  Добавить страницу отзывов клиентов о магазине,...      3       2   \n",
       "6  Показать на главной странице баннеры с актуаль...      5       3   \n",
       "7  Добавить форму подписки на все основные страни...     10       7   \n",
       "8  Запустить акцию, дающую скидку на товар в день...      1       9   \n",
       "\n",
       "   confidence  efforts  \n",
       "0           8        6  \n",
       "1           4       10  \n",
       "2           7        3  \n",
       "3           3        8  \n",
       "4           1        1  \n",
       "5           2        3  \n",
       "6           8        3  \n",
       "7           8        5  \n",
       "8           9        5  "
      ]
     },
     "metadata": {},
     "output_type": "display_data"
    }
   ],
   "source": [
    "hypothesis.columns = map(str.lower, hypothesis.columns)\n",
    "display(hypothesis.head(10))"
   ]
  },
  {
   "cell_type": "code",
   "execution_count": 12,
   "metadata": {},
   "outputs": [],
   "source": [
    "orders.columns = [x.replace('Id', '_id') for x in orders.columns.values]"
   ]
  },
  {
   "cell_type": "code",
   "execution_count": 13,
   "metadata": {},
   "outputs": [],
   "source": [
    "# Чтобы часть столбцов в дальнейшем не скрывалась, настроим принудительное отображение\n",
    "pd.set_option('display.max_colwidth', None)"
   ]
  },
  {
   "cell_type": "markdown",
   "metadata": {},
   "source": [
    "## Часть 1. Приоритизация гипотез."
   ]
  },
  {
   "cell_type": "markdown",
   "metadata": {},
   "source": [
    "#### Примените фреймворк ICE для приоритизации гипотез. Отсортируйте их по убыванию приоритета."
   ]
  },
  {
   "cell_type": "code",
   "execution_count": 14,
   "metadata": {},
   "outputs": [
    {
     "data": {
      "text/html": [
       "<div>\n",
       "<style scoped>\n",
       "    .dataframe tbody tr th:only-of-type {\n",
       "        vertical-align: middle;\n",
       "    }\n",
       "\n",
       "    .dataframe tbody tr th {\n",
       "        vertical-align: top;\n",
       "    }\n",
       "\n",
       "    .dataframe thead th {\n",
       "        text-align: right;\n",
       "    }\n",
       "</style>\n",
       "<table border=\"1\" class=\"dataframe\">\n",
       "  <thead>\n",
       "    <tr style=\"text-align: right;\">\n",
       "      <th></th>\n",
       "      <th>hypothesis</th>\n",
       "      <th>ICE</th>\n",
       "    </tr>\n",
       "  </thead>\n",
       "  <tbody>\n",
       "    <tr>\n",
       "      <th>8</th>\n",
       "      <td>Запустить акцию, дающую скидку на товар в день рождения</td>\n",
       "      <td>16.200000</td>\n",
       "    </tr>\n",
       "    <tr>\n",
       "      <th>0</th>\n",
       "      <td>Добавить два новых канала привлечения трафика, что позволит привлекать на 30% больше пользователей</td>\n",
       "      <td>13.333333</td>\n",
       "    </tr>\n",
       "    <tr>\n",
       "      <th>7</th>\n",
       "      <td>Добавить форму подписки на все основные страницы, чтобы собрать базу клиентов для email-рассылок</td>\n",
       "      <td>11.200000</td>\n",
       "    </tr>\n",
       "    <tr>\n",
       "      <th>6</th>\n",
       "      <td>Показать на главной странице баннеры с актуальными акциями и распродажами, чтобы увеличить конверсию</td>\n",
       "      <td>8.000000</td>\n",
       "    </tr>\n",
       "    <tr>\n",
       "      <th>2</th>\n",
       "      <td>Добавить блоки рекомендаций товаров на сайт интернет магазина, чтобы повысить конверсию и средний чек заказа</td>\n",
       "      <td>7.000000</td>\n",
       "    </tr>\n",
       "    <tr>\n",
       "      <th>1</th>\n",
       "      <td>Запустить собственную службу доставки, что сократит срок доставки заказов</td>\n",
       "      <td>2.000000</td>\n",
       "    </tr>\n",
       "    <tr>\n",
       "      <th>5</th>\n",
       "      <td>Добавить страницу отзывов клиентов о магазине, что позволит увеличить количество заказов</td>\n",
       "      <td>1.333333</td>\n",
       "    </tr>\n",
       "    <tr>\n",
       "      <th>3</th>\n",
       "      <td>Изменить структура категорий, что увеличит конверсию, т.к. пользователи быстрее найдут нужный товар</td>\n",
       "      <td>1.125000</td>\n",
       "    </tr>\n",
       "    <tr>\n",
       "      <th>4</th>\n",
       "      <td>Изменить цвет фона главной страницы, чтобы увеличить вовлеченность пользователей</td>\n",
       "      <td>1.000000</td>\n",
       "    </tr>\n",
       "  </tbody>\n",
       "</table>\n",
       "</div>"
      ],
      "text/plain": [
       "                                                                                                     hypothesis  \\\n",
       "8                                                       Запустить акцию, дающую скидку на товар в день рождения   \n",
       "0            Добавить два новых канала привлечения трафика, что позволит привлекать на 30% больше пользователей   \n",
       "7              Добавить форму подписки на все основные страницы, чтобы собрать базу клиентов для email-рассылок   \n",
       "6          Показать на главной странице баннеры с актуальными акциями и распродажами, чтобы увеличить конверсию   \n",
       "2  Добавить блоки рекомендаций товаров на сайт интернет магазина, чтобы повысить конверсию и средний чек заказа   \n",
       "1                                     Запустить собственную службу доставки, что сократит срок доставки заказов   \n",
       "5                      Добавить страницу отзывов клиентов о магазине, что позволит увеличить количество заказов   \n",
       "3           Изменить структура категорий, что увеличит конверсию, т.к. пользователи быстрее найдут нужный товар   \n",
       "4                              Изменить цвет фона главной страницы, чтобы увеличить вовлеченность пользователей   \n",
       "\n",
       "         ICE  \n",
       "8  16.200000  \n",
       "0  13.333333  \n",
       "7  11.200000  \n",
       "6   8.000000  \n",
       "2   7.000000  \n",
       "1   2.000000  \n",
       "5   1.333333  \n",
       "3   1.125000  \n",
       "4   1.000000  "
      ]
     },
     "metadata": {},
     "output_type": "display_data"
    }
   ],
   "source": [
    "hypothesis['ICE']=(hypothesis['impact'] * hypothesis['confidence'])/ hypothesis['efforts']\n",
    "hypothesis_1=hypothesis.sort_values( by='ICE',ascending=False)\n",
    "display(hypothesis_1[['hypothesis','ICE']])"
   ]
  },
  {
   "cell_type": "markdown",
   "metadata": {},
   "source": [
    "#### Примените фреймворк RICE для приоритизации гипотез. Отсортируйте их по убыванию приоритета."
   ]
  },
  {
   "cell_type": "code",
   "execution_count": 15,
   "metadata": {},
   "outputs": [
    {
     "data": {
      "text/html": [
       "<div>\n",
       "<style scoped>\n",
       "    .dataframe tbody tr th:only-of-type {\n",
       "        vertical-align: middle;\n",
       "    }\n",
       "\n",
       "    .dataframe tbody tr th {\n",
       "        vertical-align: top;\n",
       "    }\n",
       "\n",
       "    .dataframe thead th {\n",
       "        text-align: right;\n",
       "    }\n",
       "</style>\n",
       "<table border=\"1\" class=\"dataframe\">\n",
       "  <thead>\n",
       "    <tr style=\"text-align: right;\">\n",
       "      <th></th>\n",
       "      <th>hypothesis</th>\n",
       "      <th>RICE</th>\n",
       "    </tr>\n",
       "  </thead>\n",
       "  <tbody>\n",
       "    <tr>\n",
       "      <th>7</th>\n",
       "      <td>Добавить форму подписки на все основные страницы, чтобы собрать базу клиентов для email-рассылок</td>\n",
       "      <td>112.0</td>\n",
       "    </tr>\n",
       "    <tr>\n",
       "      <th>2</th>\n",
       "      <td>Добавить блоки рекомендаций товаров на сайт интернет магазина, чтобы повысить конверсию и средний чек заказа</td>\n",
       "      <td>56.0</td>\n",
       "    </tr>\n",
       "    <tr>\n",
       "      <th>0</th>\n",
       "      <td>Добавить два новых канала привлечения трафика, что позволит привлекать на 30% больше пользователей</td>\n",
       "      <td>40.0</td>\n",
       "    </tr>\n",
       "    <tr>\n",
       "      <th>6</th>\n",
       "      <td>Показать на главной странице баннеры с актуальными акциями и распродажами, чтобы увеличить конверсию</td>\n",
       "      <td>40.0</td>\n",
       "    </tr>\n",
       "    <tr>\n",
       "      <th>8</th>\n",
       "      <td>Запустить акцию, дающую скидку на товар в день рождения</td>\n",
       "      <td>16.2</td>\n",
       "    </tr>\n",
       "    <tr>\n",
       "      <th>3</th>\n",
       "      <td>Изменить структура категорий, что увеличит конверсию, т.к. пользователи быстрее найдут нужный товар</td>\n",
       "      <td>9.0</td>\n",
       "    </tr>\n",
       "    <tr>\n",
       "      <th>1</th>\n",
       "      <td>Запустить собственную службу доставки, что сократит срок доставки заказов</td>\n",
       "      <td>4.0</td>\n",
       "    </tr>\n",
       "    <tr>\n",
       "      <th>5</th>\n",
       "      <td>Добавить страницу отзывов клиентов о магазине, что позволит увеличить количество заказов</td>\n",
       "      <td>4.0</td>\n",
       "    </tr>\n",
       "    <tr>\n",
       "      <th>4</th>\n",
       "      <td>Изменить цвет фона главной страницы, чтобы увеличить вовлеченность пользователей</td>\n",
       "      <td>3.0</td>\n",
       "    </tr>\n",
       "  </tbody>\n",
       "</table>\n",
       "</div>"
      ],
      "text/plain": [
       "                                                                                                     hypothesis  \\\n",
       "7              Добавить форму подписки на все основные страницы, чтобы собрать базу клиентов для email-рассылок   \n",
       "2  Добавить блоки рекомендаций товаров на сайт интернет магазина, чтобы повысить конверсию и средний чек заказа   \n",
       "0            Добавить два новых канала привлечения трафика, что позволит привлекать на 30% больше пользователей   \n",
       "6          Показать на главной странице баннеры с актуальными акциями и распродажами, чтобы увеличить конверсию   \n",
       "8                                                       Запустить акцию, дающую скидку на товар в день рождения   \n",
       "3           Изменить структура категорий, что увеличит конверсию, т.к. пользователи быстрее найдут нужный товар   \n",
       "1                                     Запустить собственную службу доставки, что сократит срок доставки заказов   \n",
       "5                      Добавить страницу отзывов клиентов о магазине, что позволит увеличить количество заказов   \n",
       "4                              Изменить цвет фона главной страницы, чтобы увеличить вовлеченность пользователей   \n",
       "\n",
       "    RICE  \n",
       "7  112.0  \n",
       "2   56.0  \n",
       "0   40.0  \n",
       "6   40.0  \n",
       "8   16.2  \n",
       "3    9.0  \n",
       "1    4.0  \n",
       "5    4.0  \n",
       "4    3.0  "
      ]
     },
     "metadata": {},
     "output_type": "display_data"
    }
   ],
   "source": [
    "hypothesis['RICE']=(hypothesis['reach']*hypothesis['impact']* hypothesis['confidence'])/ hypothesis['efforts']\n",
    "hypothesis_2=hypothesis.sort_values( by='RICE',ascending=False)\n",
    "display(hypothesis_2[['hypothesis','RICE']])"
   ]
  },
  {
   "cell_type": "markdown",
   "metadata": {},
   "source": [
    "#### Выводы : \n",
    "При применении разных фреймворков приоритизации получили несколько разные результаты \n",
    "\n",
    "- в лидерах в обоих методах гипотезы 7 (\"Добавить форму подписки на все основные страницы, чтобы собрать базу клиентов для email-рассылок\") и 0(\"Добавить два новых канала привлечения трафика, что позволит привлекать на 30% больше пользователей\") \n",
    " \n",
    "- Гипотеза 8(\"Запустить акцию, дающую скидку на товар в день рождения\"), лидирующая в ICE относится ко всем пользователям , но не одномоментно, поэтому  в RICE она уходит на 5-е место.\n",
    " \n",
    "- Гипотеза 2(\" Добавить блоки рекомендаций товаров на  сайт интернет магазина, чтобы повысить конверсию и средний чек заказа\") расчитана на охват большой доли пользователей. В  RICE она перемещается на 2-е место "
   ]
  },
  {
   "cell_type": "markdown",
   "metadata": {},
   "source": [
    "## Часть 2. Анализ A/B-теста"
   ]
  },
  {
   "cell_type": "code",
   "execution_count": 16,
   "metadata": {},
   "outputs": [
    {
     "data": {
      "text/html": [
       "<div>\n",
       "<style scoped>\n",
       "    .dataframe tbody tr th:only-of-type {\n",
       "        vertical-align: middle;\n",
       "    }\n",
       "\n",
       "    .dataframe tbody tr th {\n",
       "        vertical-align: top;\n",
       "    }\n",
       "\n",
       "    .dataframe thead th {\n",
       "        text-align: right;\n",
       "    }\n",
       "</style>\n",
       "<table border=\"1\" class=\"dataframe\">\n",
       "  <thead>\n",
       "    <tr style=\"text-align: right;\">\n",
       "      <th></th>\n",
       "      <th>transaction_id</th>\n",
       "      <th>visitor_id</th>\n",
       "      <th>date</th>\n",
       "      <th>revenue</th>\n",
       "      <th>group</th>\n",
       "    </tr>\n",
       "  </thead>\n",
       "  <tbody>\n",
       "    <tr>\n",
       "      <th>0</th>\n",
       "      <td>3667963787</td>\n",
       "      <td>3312258926</td>\n",
       "      <td>2019-08-15</td>\n",
       "      <td>1650</td>\n",
       "      <td>B</td>\n",
       "    </tr>\n",
       "    <tr>\n",
       "      <th>1</th>\n",
       "      <td>2804400009</td>\n",
       "      <td>3642806036</td>\n",
       "      <td>2019-08-15</td>\n",
       "      <td>730</td>\n",
       "      <td>B</td>\n",
       "    </tr>\n",
       "    <tr>\n",
       "      <th>2</th>\n",
       "      <td>2961555356</td>\n",
       "      <td>4069496402</td>\n",
       "      <td>2019-08-15</td>\n",
       "      <td>400</td>\n",
       "      <td>A</td>\n",
       "    </tr>\n",
       "    <tr>\n",
       "      <th>3</th>\n",
       "      <td>3797467345</td>\n",
       "      <td>1196621759</td>\n",
       "      <td>2019-08-15</td>\n",
       "      <td>9759</td>\n",
       "      <td>B</td>\n",
       "    </tr>\n",
       "    <tr>\n",
       "      <th>4</th>\n",
       "      <td>2282983706</td>\n",
       "      <td>2322279887</td>\n",
       "      <td>2019-08-15</td>\n",
       "      <td>2308</td>\n",
       "      <td>B</td>\n",
       "    </tr>\n",
       "    <tr>\n",
       "      <th>5</th>\n",
       "      <td>182168103</td>\n",
       "      <td>935554773</td>\n",
       "      <td>2019-08-15</td>\n",
       "      <td>2210</td>\n",
       "      <td>B</td>\n",
       "    </tr>\n",
       "    <tr>\n",
       "      <th>6</th>\n",
       "      <td>398296753</td>\n",
       "      <td>2900797465</td>\n",
       "      <td>2019-08-15</td>\n",
       "      <td>1860</td>\n",
       "      <td>B</td>\n",
       "    </tr>\n",
       "    <tr>\n",
       "      <th>7</th>\n",
       "      <td>2626614568</td>\n",
       "      <td>78758296</td>\n",
       "      <td>2019-08-15</td>\n",
       "      <td>1044</td>\n",
       "      <td>A</td>\n",
       "    </tr>\n",
       "    <tr>\n",
       "      <th>8</th>\n",
       "      <td>1576988021</td>\n",
       "      <td>295230930</td>\n",
       "      <td>2019-08-15</td>\n",
       "      <td>13710</td>\n",
       "      <td>A</td>\n",
       "    </tr>\n",
       "    <tr>\n",
       "      <th>9</th>\n",
       "      <td>1506739906</td>\n",
       "      <td>1882260405</td>\n",
       "      <td>2019-08-15</td>\n",
       "      <td>1855</td>\n",
       "      <td>B</td>\n",
       "    </tr>\n",
       "  </tbody>\n",
       "</table>\n",
       "</div>"
      ],
      "text/plain": [
       "   transaction_id  visitor_id       date  revenue group\n",
       "0      3667963787  3312258926 2019-08-15     1650     B\n",
       "1      2804400009  3642806036 2019-08-15      730     B\n",
       "2      2961555356  4069496402 2019-08-15      400     A\n",
       "3      3797467345  1196621759 2019-08-15     9759     B\n",
       "4      2282983706  2322279887 2019-08-15     2308     B\n",
       "5       182168103   935554773 2019-08-15     2210     B\n",
       "6       398296753  2900797465 2019-08-15     1860     B\n",
       "7      2626614568    78758296 2019-08-15     1044     A\n",
       "8      1576988021   295230930 2019-08-15    13710     A\n",
       "9      1506739906  1882260405 2019-08-15     1855     B"
      ]
     },
     "execution_count": 16,
     "metadata": {},
     "output_type": "execute_result"
    }
   ],
   "source": [
    "orders.head(10)"
   ]
  },
  {
   "cell_type": "code",
   "execution_count": 17,
   "metadata": {},
   "outputs": [
    {
     "data": {
      "text/html": [
       "<div>\n",
       "<style scoped>\n",
       "    .dataframe tbody tr th:only-of-type {\n",
       "        vertical-align: middle;\n",
       "    }\n",
       "\n",
       "    .dataframe tbody tr th {\n",
       "        vertical-align: top;\n",
       "    }\n",
       "\n",
       "    .dataframe thead th {\n",
       "        text-align: right;\n",
       "    }\n",
       "</style>\n",
       "<table border=\"1\" class=\"dataframe\">\n",
       "  <thead>\n",
       "    <tr style=\"text-align: right;\">\n",
       "      <th></th>\n",
       "      <th>date</th>\n",
       "      <th>group</th>\n",
       "      <th>visitors</th>\n",
       "    </tr>\n",
       "  </thead>\n",
       "  <tbody>\n",
       "    <tr>\n",
       "      <th>0</th>\n",
       "      <td>2019-08-01</td>\n",
       "      <td>A</td>\n",
       "      <td>719</td>\n",
       "    </tr>\n",
       "    <tr>\n",
       "      <th>1</th>\n",
       "      <td>2019-08-02</td>\n",
       "      <td>A</td>\n",
       "      <td>619</td>\n",
       "    </tr>\n",
       "    <tr>\n",
       "      <th>2</th>\n",
       "      <td>2019-08-03</td>\n",
       "      <td>A</td>\n",
       "      <td>507</td>\n",
       "    </tr>\n",
       "    <tr>\n",
       "      <th>3</th>\n",
       "      <td>2019-08-04</td>\n",
       "      <td>A</td>\n",
       "      <td>717</td>\n",
       "    </tr>\n",
       "    <tr>\n",
       "      <th>4</th>\n",
       "      <td>2019-08-05</td>\n",
       "      <td>A</td>\n",
       "      <td>756</td>\n",
       "    </tr>\n",
       "    <tr>\n",
       "      <th>5</th>\n",
       "      <td>2019-08-06</td>\n",
       "      <td>A</td>\n",
       "      <td>667</td>\n",
       "    </tr>\n",
       "    <tr>\n",
       "      <th>6</th>\n",
       "      <td>2019-08-07</td>\n",
       "      <td>A</td>\n",
       "      <td>644</td>\n",
       "    </tr>\n",
       "    <tr>\n",
       "      <th>7</th>\n",
       "      <td>2019-08-08</td>\n",
       "      <td>A</td>\n",
       "      <td>610</td>\n",
       "    </tr>\n",
       "    <tr>\n",
       "      <th>8</th>\n",
       "      <td>2019-08-09</td>\n",
       "      <td>A</td>\n",
       "      <td>617</td>\n",
       "    </tr>\n",
       "    <tr>\n",
       "      <th>9</th>\n",
       "      <td>2019-08-10</td>\n",
       "      <td>A</td>\n",
       "      <td>406</td>\n",
       "    </tr>\n",
       "  </tbody>\n",
       "</table>\n",
       "</div>"
      ],
      "text/plain": [
       "        date group  visitors\n",
       "0 2019-08-01     A       719\n",
       "1 2019-08-02     A       619\n",
       "2 2019-08-03     A       507\n",
       "3 2019-08-04     A       717\n",
       "4 2019-08-05     A       756\n",
       "5 2019-08-06     A       667\n",
       "6 2019-08-07     A       644\n",
       "7 2019-08-08     A       610\n",
       "8 2019-08-09     A       617\n",
       "9 2019-08-10     A       406"
      ]
     },
     "execution_count": 17,
     "metadata": {},
     "output_type": "execute_result"
    }
   ],
   "source": [
    "visitors.head(10)"
   ]
  },
  {
   "cell_type": "code",
   "execution_count": 18,
   "metadata": {},
   "outputs": [
    {
     "data": {
      "text/plain": [
       "'Кол-во строк: 1197'"
      ]
     },
     "metadata": {},
     "output_type": "display_data"
    },
    {
     "data": {
      "text/plain": [
       "'Кол-во уникальных пользователей: 1031'"
      ]
     },
     "metadata": {},
     "output_type": "display_data"
    }
   ],
   "source": [
    "display(f'Кол-во строк: {orders.shape[0]}')\n",
    "display(f'Кол-во уникальных пользователей: {orders.visitor_id.nunique()}')"
   ]
  },
  {
   "cell_type": "code",
   "execution_count": 19,
   "metadata": {},
   "outputs": [
    {
     "data": {
      "text/plain": [
       "visitor_id\n",
       "2654030115    2\n",
       "3891541246    2\n",
       "3941795274    2\n",
       "1404934699    2\n",
       "351125977     2\n",
       "             ..\n",
       "1476256851    1\n",
       "1476741193    1\n",
       "1484903144    1\n",
       "1485964287    1\n",
       "4283872382    1\n",
       "Name: group, Length: 1031, dtype: int64"
      ]
     },
     "execution_count": 19,
     "metadata": {},
     "output_type": "execute_result"
    }
   ],
   "source": [
    "#Проверим, есть ли пользователи, которые попали в обе группы\n",
    "orders.groupby('visitor_id')['group'].nunique().sort_values(ascending = False)"
   ]
  },
  {
   "cell_type": "code",
   "execution_count": 20,
   "metadata": {},
   "outputs": [
    {
     "data": {
      "text/plain": [
       "58"
      ]
     },
     "metadata": {},
     "output_type": "display_data"
    },
    {
     "data": {
      "text/plain": [
       "2          8300375\n",
       "44       199603092\n",
       "51       232979603\n",
       "55       237748145\n",
       "66       276558944\n",
       "84       351125977\n",
       "97       393266494\n",
       "114      457167155\n",
       "119      471551937\n",
       "122      477780734\n",
       "192      818047933\n",
       "236      963407295\n",
       "299     1230306981\n",
       "311     1294878855\n",
       "316     1316129916\n",
       "318     1333886533\n",
       "340     1404934699\n",
       "386     1602967004\n",
       "393     1614305549\n",
       "402     1648269707\n",
       "406     1668030113\n",
       "422     1738359350\n",
       "436     1801183820\n",
       "469     1959144690\n",
       "487     2038680547\n",
       "491     2044997962\n",
       "569     2378935119\n",
       "591     2458001652\n",
       "614     2579882178\n",
       "619     2587333274\n",
       "622     2600415354\n",
       "639     2654030115\n",
       "648     2686716486\n",
       "661     2712142231\n",
       "662     2716752286\n",
       "677     2780786433\n",
       "710     2927087541\n",
       "715     2949041841\n",
       "718     2954449915\n",
       "744     3062433592\n",
       "784     3202540741\n",
       "792     3234906277\n",
       "884     3656415546\n",
       "897     3717692402\n",
       "909     3766097110\n",
       "917     3803269165\n",
       "932     3891541246\n",
       "950     3941795274\n",
       "954     3951559397\n",
       "957     3957174400\n",
       "958     3963646447\n",
       "960     3972127743\n",
       "963     3984495233\n",
       "984     4069496402\n",
       "992     4120364173\n",
       "1009    4186807279\n",
       "1023    4256040402\n",
       "1026    4266935830\n",
       "Name: visitor_id, dtype: int64"
      ]
     },
     "execution_count": 20,
     "metadata": {},
     "output_type": "execute_result"
    }
   ],
   "source": [
    "users_2_groups = orders.groupby('visitor_id')['group'].nunique().reset_index().query('group > 1')['visitor_id']\n",
    "display(users_2_groups.count())\n",
    "users_2_groups"
   ]
  },
  {
   "cell_type": "code",
   "execution_count": 21,
   "metadata": {},
   "outputs": [
    {
     "data": {
      "text/html": [
       "<div>\n",
       "<style scoped>\n",
       "    .dataframe tbody tr th:only-of-type {\n",
       "        vertical-align: middle;\n",
       "    }\n",
       "\n",
       "    .dataframe tbody tr th {\n",
       "        vertical-align: top;\n",
       "    }\n",
       "\n",
       "    .dataframe thead th {\n",
       "        text-align: right;\n",
       "    }\n",
       "</style>\n",
       "<table border=\"1\" class=\"dataframe\">\n",
       "  <thead>\n",
       "    <tr style=\"text-align: right;\">\n",
       "      <th></th>\n",
       "      <th>transaction_id</th>\n",
       "      <th>visitor_id</th>\n",
       "      <th>date</th>\n",
       "      <th>revenue</th>\n",
       "      <th>group</th>\n",
       "    </tr>\n",
       "  </thead>\n",
       "  <tbody>\n",
       "    <tr>\n",
       "      <th>0</th>\n",
       "      <td>3667963787</td>\n",
       "      <td>3312258926</td>\n",
       "      <td>2019-08-15</td>\n",
       "      <td>1650</td>\n",
       "      <td>B</td>\n",
       "    </tr>\n",
       "    <tr>\n",
       "      <th>1</th>\n",
       "      <td>2804400009</td>\n",
       "      <td>3642806036</td>\n",
       "      <td>2019-08-15</td>\n",
       "      <td>730</td>\n",
       "      <td>B</td>\n",
       "    </tr>\n",
       "    <tr>\n",
       "      <th>3</th>\n",
       "      <td>3797467345</td>\n",
       "      <td>1196621759</td>\n",
       "      <td>2019-08-15</td>\n",
       "      <td>9759</td>\n",
       "      <td>B</td>\n",
       "    </tr>\n",
       "    <tr>\n",
       "      <th>4</th>\n",
       "      <td>2282983706</td>\n",
       "      <td>2322279887</td>\n",
       "      <td>2019-08-15</td>\n",
       "      <td>2308</td>\n",
       "      <td>B</td>\n",
       "    </tr>\n",
       "    <tr>\n",
       "      <th>5</th>\n",
       "      <td>182168103</td>\n",
       "      <td>935554773</td>\n",
       "      <td>2019-08-15</td>\n",
       "      <td>2210</td>\n",
       "      <td>B</td>\n",
       "    </tr>\n",
       "    <tr>\n",
       "      <th>...</th>\n",
       "      <td>...</td>\n",
       "      <td>...</td>\n",
       "      <td>...</td>\n",
       "      <td>...</td>\n",
       "      <td>...</td>\n",
       "    </tr>\n",
       "    <tr>\n",
       "      <th>1191</th>\n",
       "      <td>3592955527</td>\n",
       "      <td>608641596</td>\n",
       "      <td>2019-08-14</td>\n",
       "      <td>16490</td>\n",
       "      <td>B</td>\n",
       "    </tr>\n",
       "    <tr>\n",
       "      <th>1192</th>\n",
       "      <td>2662137336</td>\n",
       "      <td>3733762160</td>\n",
       "      <td>2019-08-14</td>\n",
       "      <td>6490</td>\n",
       "      <td>B</td>\n",
       "    </tr>\n",
       "    <tr>\n",
       "      <th>1193</th>\n",
       "      <td>2203539145</td>\n",
       "      <td>370388673</td>\n",
       "      <td>2019-08-14</td>\n",
       "      <td>3190</td>\n",
       "      <td>A</td>\n",
       "    </tr>\n",
       "    <tr>\n",
       "      <th>1194</th>\n",
       "      <td>1807773912</td>\n",
       "      <td>573423106</td>\n",
       "      <td>2019-08-14</td>\n",
       "      <td>10550</td>\n",
       "      <td>A</td>\n",
       "    </tr>\n",
       "    <tr>\n",
       "      <th>1196</th>\n",
       "      <td>3936777065</td>\n",
       "      <td>2108080724</td>\n",
       "      <td>2019-08-15</td>\n",
       "      <td>202740</td>\n",
       "      <td>B</td>\n",
       "    </tr>\n",
       "  </tbody>\n",
       "</table>\n",
       "<p>1016 rows × 5 columns</p>\n",
       "</div>"
      ],
      "text/plain": [
       "      transaction_id  visitor_id       date  revenue group\n",
       "0         3667963787  3312258926 2019-08-15     1650     B\n",
       "1         2804400009  3642806036 2019-08-15      730     B\n",
       "3         3797467345  1196621759 2019-08-15     9759     B\n",
       "4         2282983706  2322279887 2019-08-15     2308     B\n",
       "5          182168103   935554773 2019-08-15     2210     B\n",
       "...              ...         ...        ...      ...   ...\n",
       "1191      3592955527   608641596 2019-08-14    16490     B\n",
       "1192      2662137336  3733762160 2019-08-14     6490     B\n",
       "1193      2203539145   370388673 2019-08-14     3190     A\n",
       "1194      1807773912   573423106 2019-08-14    10550     A\n",
       "1196      3936777065  2108080724 2019-08-15   202740     B\n",
       "\n",
       "[1016 rows x 5 columns]"
      ]
     },
     "execution_count": 21,
     "metadata": {},
     "output_type": "execute_result"
    }
   ],
   "source": [
    "orders= orders.query('visitor_id  not in @users_2_groups')\n",
    "orders"
   ]
  },
  {
   "cell_type": "markdown",
   "metadata": {},
   "source": [
    "#### график кумулятивной выручки по группам."
   ]
  },
  {
   "cell_type": "code",
   "execution_count": 22,
   "metadata": {},
   "outputs": [],
   "source": [
    "# создаем массив уникальных пар значений дат и групп теста\n",
    "datesGroups = orders[['date','group']].drop_duplicates() "
   ]
  },
  {
   "cell_type": "code",
   "execution_count": 23,
   "metadata": {},
   "outputs": [],
   "source": [
    "#Получаем агрегированные кумулятивные по дням данные о заказах \n",
    "ordersAggregated = datesGroups.apply(lambda x: orders[np.logical_and(orders['date'] <= x['date'], orders['group'] == x['group'])]. \\\n",
    "                                     agg({'date' : 'max', \n",
    "                                          'group' : 'max', \n",
    "                                          'transaction_id' : pd.Series.nunique, \n",
    "                                          'visitor_id' : pd.Series.nunique, \n",
    "                                          'revenue' : 'sum'}), axis=1).sort_values(by=['date','group'])"
   ]
  },
  {
   "cell_type": "code",
   "execution_count": 24,
   "metadata": {},
   "outputs": [],
   "source": [
    "# получим агрегированные кумулятивные по дням данные о посетителях интернет-магазина:\n",
    "visitorsAggregated = datesGroups.apply(lambda x: visitors[np.logical_and(visitors['date'] <= x['date'], visitors['group'] == x['group'])].agg({'date' : 'max', 'group' : 'max', 'visitors' : 'sum'}), axis=1).sort_values(by=['date','group'])"
   ]
  },
  {
   "cell_type": "code",
   "execution_count": 25,
   "metadata": {},
   "outputs": [
    {
     "data": {
      "text/html": [
       "<div>\n",
       "<style scoped>\n",
       "    .dataframe tbody tr th:only-of-type {\n",
       "        vertical-align: middle;\n",
       "    }\n",
       "\n",
       "    .dataframe tbody tr th {\n",
       "        vertical-align: top;\n",
       "    }\n",
       "\n",
       "    .dataframe thead th {\n",
       "        text-align: right;\n",
       "    }\n",
       "</style>\n",
       "<table border=\"1\" class=\"dataframe\">\n",
       "  <thead>\n",
       "    <tr style=\"text-align: right;\">\n",
       "      <th></th>\n",
       "      <th>date</th>\n",
       "      <th>group</th>\n",
       "      <th>orders</th>\n",
       "      <th>buyers</th>\n",
       "      <th>revenue</th>\n",
       "      <th>visitors</th>\n",
       "    </tr>\n",
       "  </thead>\n",
       "  <tbody>\n",
       "    <tr>\n",
       "      <th>0</th>\n",
       "      <td>2019-08-01</td>\n",
       "      <td>A</td>\n",
       "      <td>23</td>\n",
       "      <td>19</td>\n",
       "      <td>142779</td>\n",
       "      <td>719</td>\n",
       "    </tr>\n",
       "    <tr>\n",
       "      <th>1</th>\n",
       "      <td>2019-08-01</td>\n",
       "      <td>B</td>\n",
       "      <td>17</td>\n",
       "      <td>17</td>\n",
       "      <td>59758</td>\n",
       "      <td>713</td>\n",
       "    </tr>\n",
       "    <tr>\n",
       "      <th>2</th>\n",
       "      <td>2019-08-02</td>\n",
       "      <td>A</td>\n",
       "      <td>42</td>\n",
       "      <td>36</td>\n",
       "      <td>234381</td>\n",
       "      <td>1338</td>\n",
       "    </tr>\n",
       "    <tr>\n",
       "      <th>3</th>\n",
       "      <td>2019-08-02</td>\n",
       "      <td>B</td>\n",
       "      <td>40</td>\n",
       "      <td>39</td>\n",
       "      <td>221801</td>\n",
       "      <td>1294</td>\n",
       "    </tr>\n",
       "    <tr>\n",
       "      <th>4</th>\n",
       "      <td>2019-08-03</td>\n",
       "      <td>A</td>\n",
       "      <td>66</td>\n",
       "      <td>60</td>\n",
       "      <td>346854</td>\n",
       "      <td>1845</td>\n",
       "    </tr>\n",
       "  </tbody>\n",
       "</table>\n",
       "</div>"
      ],
      "text/plain": [
       "        date group  orders  buyers  revenue  visitors\n",
       "0 2019-08-01     A      23      19   142779       719\n",
       "1 2019-08-01     B      17      17    59758       713\n",
       "2 2019-08-02     A      42      36   234381      1338\n",
       "3 2019-08-02     B      40      39   221801      1294\n",
       "4 2019-08-03     A      66      60   346854      1845"
      ]
     },
     "metadata": {},
     "output_type": "display_data"
    }
   ],
   "source": [
    "# объединяем кумулятивные данные в одной таблице и присваиваем ее столбцам понятные названия\n",
    "cumulativeData = ordersAggregated.merge(visitorsAggregated, left_on=['date', 'group'], right_on=['date', 'group'])\n",
    "cumulativeData.columns = ['date', 'group', 'orders', 'buyers', 'revenue', 'visitors']\n",
    "\n",
    "display(cumulativeData.head(5)) "
   ]
  },
  {
   "cell_type": "code",
   "execution_count": 26,
   "metadata": {},
   "outputs": [
    {
     "data": {
      "image/png": "[encoded data removed]",
      "text/plain": [
       "<Figure size 432x288 with 1 Axes>"
      ]
     },
     "metadata": {
      "needs_background": "light"
     },
     "output_type": "display_data"
    }
   ],
   "source": [
    "# датафрейм с кумулятивным количеством заказов и кумулятивной выручкой по дням в группе А\n",
    "cumulativeRevenueA = cumulativeData[cumulativeData['group']=='A'][['date','revenue', 'orders']]\n",
    "\n",
    "# датафрейм с кумулятивным количеством заказов и кумулятивной выручкой по дням в группе B\n",
    "cumulativeRevenueB = cumulativeData[cumulativeData['group']=='B'][['date','revenue', 'orders']]\n",
    "\n",
    "# Строим график выручки группы А\n",
    "plt.plot(cumulativeRevenueA['date'], cumulativeRevenueA['revenue'], label='A')\n",
    "\n",
    "# Строим график выручки группы B\n",
    "plt.plot(cumulativeRevenueB['date'], cumulativeRevenueB['revenue'], label='B')\n",
    "\n",
    "plt.title('График кумулятивной выручки по группам')\n",
    "plt.xlabel('Дата')\n",
    "plt.xticks(rotation=45)\n",
    "plt.ylabel('Выручка')\n",
    "plt.grid()\n",
    "plt.legend()\n",
    "plt.show()"
   ]
  },
  {
   "cell_type": "markdown",
   "metadata": {},
   "source": [
    "  Выручка почти равномерно увеличивается в течение всего теста.\n",
    "  Наблюдается резкий скачек в графике у группы В, возможно имеют место аномально большое количество заказов или аномально высокий средний чек 2019-08-18\n"
   ]
  },
  {
   "cell_type": "markdown",
   "metadata": {},
   "source": [
    "#### график кумулятивного среднего чека по группам."
   ]
  },
  {
   "cell_type": "code",
   "execution_count": 27,
   "metadata": {},
   "outputs": [
    {
     "data": {
      "image/png": "[encoded data removed]",
      "text/plain": [
       "<Figure size 1080x360 with 1 Axes>"
      ]
     },
     "metadata": {
      "needs_background": "light"
     },
     "output_type": "display_data"
    }
   ],
   "source": [
    " # разделим кумулятивную выручку на кумулятивное число заказов.\n",
    "\n",
    "plt.figure(figsize=(15,5))\n",
    "plt.grid()\n",
    "plt.plot(cumulativeRevenueA['date'], cumulativeRevenueA['revenue']/cumulativeRevenueA['orders'], label='A')\n",
    "plt.plot(cumulativeRevenueB['date'], cumulativeRevenueB['revenue']/cumulativeRevenueB['orders'], label='B')\n",
    "plt.title('График кумулятивного среднего чека по группам')\n",
    "plt.xlabel('Дата')\n",
    "plt.xticks(rotation=45)\n",
    "plt.ylabel('Сумма среднего чек')\n",
    "plt.legend() \n",
    "plt.show()"
   ]
  },
  {
   "cell_type": "markdown",
   "metadata": {},
   "source": [
    " #### график относительного изменения кумулятивного среднего чека группы B к группе A.\n"
   ]
  },
  {
   "cell_type": "code",
   "execution_count": 28,
   "metadata": {
    "scrolled": true
   },
   "outputs": [
    {
     "data": {
      "image/png": "[encoded data removed]",
      "text/plain": [
       "<Figure size 1080x360 with 1 Axes>"
      ]
     },
     "metadata": {
      "needs_background": "light"
     },
     "output_type": "display_data"
    }
   ],
   "source": [
    "# собираем данные в одном датафрейме\n",
    "mergedCumulativeRevenue = cumulativeRevenueA.merge(cumulativeRevenueB, left_on='date', right_on='date', how='left', suffixes=['A', 'B'])\n",
    "\n",
    "# cтроим отношение средних чеков\n",
    "plt.figure(figsize=(15,5))\n",
    "plt.grid()\n",
    "plt.plot(mergedCumulativeRevenue['date'], (mergedCumulativeRevenue['revenueB']/mergedCumulativeRevenue['ordersB'])/(mergedCumulativeRevenue['revenueA']/mergedCumulativeRevenue['ordersA'])-1)\n",
    "plt.title('График относительного изменения кумулятивного среднего чека группы B к группе A ')\n",
    "plt.xlabel('Дата')\n",
    "plt.ylabel('Изменение среденего чека')\n",
    "# добавляем ось X\n",
    "plt.axhline(y=0, color='black', linestyle='--') ;\n"
   ]
  },
  {
   "cell_type": "markdown",
   "metadata": {},
   "source": [
    "#### график кумулятивного среднего количества заказов по группам."
   ]
  },
  {
   "cell_type": "code",
   "execution_count": 29,
   "metadata": {},
   "outputs": [
    {
     "data": {
      "image/png": "[encoded data removed]",
      "text/plain": [
       "<Figure size 432x288 with 1 Axes>"
      ]
     },
     "metadata": {
      "needs_background": "light"
     },
     "output_type": "display_data"
    }
   ],
   "source": [
    "# Строим график заказов группы А\n",
    "plt.plot(cumulativeRevenueA['date'], cumulativeRevenueA['orders'], label='A')\n",
    "\n",
    "# Строим график заказов группы B\n",
    "plt.plot(cumulativeRevenueB['date'], cumulativeRevenueB['orders'], label='B')\n",
    "plt.title('График  среднего кол-ва заказов по группам')\n",
    "plt.xlabel('Дата')\n",
    "plt.xticks(rotation=45)\n",
    "plt.ylabel('кол-во заказов')\n",
    "plt.legend()\n",
    "plt.show()"
   ]
  },
  {
   "cell_type": "markdown",
   "metadata": {},
   "source": [
    "#### график относительного изменения кумулятивного среднего количества заказов группы B к группе A. "
   ]
  },
  {
   "cell_type": "code",
   "execution_count": 30,
   "metadata": {},
   "outputs": [
    {
     "data": {
      "image/png": "[encoded data removed]",
      "text/plain": [
       "<Figure size 1080x360 with 1 Axes>"
      ]
     },
     "metadata": {
      "needs_background": "light"
     },
     "output_type": "display_data"
    }
   ],
   "source": [
    "# cтроим отношение средних чеков\n",
    "plt.figure(figsize=(15,5))\n",
    "plt.grid()\n",
    "plt.plot(mergedCumulativeRevenue['date'], (mergedCumulativeRevenue['ordersB'])/(mergedCumulativeRevenue['ordersA']-1))\n",
    "plt.title('График относительного изменения количества заказов группы B к группе A')\n",
    "plt.xlabel('Дата')\n",
    "plt.ylabel('Изменение количества заказов группы B к группе A.  ')\n",
    "# добавляем ось X\n",
    "plt.axhline(y=0, color='black', linestyle='--') \n",
    "plt.show()\n",
    "\n"
   ]
  },
  {
   "cell_type": "markdown",
   "metadata": {},
   "source": [
    "группа В стабильно лучше А "
   ]
  },
  {
   "cell_type": "markdown",
   "metadata": {},
   "source": [
    "#### точечный график количества заказов по пользователям"
   ]
  },
  {
   "cell_type": "code",
   "execution_count": 31,
   "metadata": {},
   "outputs": [
    {
     "data": {
      "text/html": [
       "<div>\n",
       "<style scoped>\n",
       "    .dataframe tbody tr th:only-of-type {\n",
       "        vertical-align: middle;\n",
       "    }\n",
       "\n",
       "    .dataframe tbody tr th {\n",
       "        vertical-align: top;\n",
       "    }\n",
       "\n",
       "    .dataframe thead th {\n",
       "        text-align: right;\n",
       "    }\n",
       "</style>\n",
       "<table border=\"1\" class=\"dataframe\">\n",
       "  <thead>\n",
       "    <tr style=\"text-align: right;\">\n",
       "      <th></th>\n",
       "      <th>user_id</th>\n",
       "      <th>orders</th>\n",
       "    </tr>\n",
       "  </thead>\n",
       "  <tbody>\n",
       "    <tr>\n",
       "      <th>908</th>\n",
       "      <td>3967698036</td>\n",
       "      <td>3</td>\n",
       "    </tr>\n",
       "    <tr>\n",
       "      <th>55</th>\n",
       "      <td>249864742</td>\n",
       "      <td>3</td>\n",
       "    </tr>\n",
       "    <tr>\n",
       "      <th>478</th>\n",
       "      <td>2108163459</td>\n",
       "      <td>3</td>\n",
       "    </tr>\n",
       "    <tr>\n",
       "      <th>687</th>\n",
       "      <td>2988190573</td>\n",
       "      <td>3</td>\n",
       "    </tr>\n",
       "    <tr>\n",
       "      <th>890</th>\n",
       "      <td>3908431265</td>\n",
       "      <td>3</td>\n",
       "    </tr>\n",
       "    <tr>\n",
       "      <th>138</th>\n",
       "      <td>611059232</td>\n",
       "      <td>3</td>\n",
       "    </tr>\n",
       "    <tr>\n",
       "      <th>632</th>\n",
       "      <td>2742574263</td>\n",
       "      <td>3</td>\n",
       "    </tr>\n",
       "    <tr>\n",
       "      <th>157</th>\n",
       "      <td>678354126</td>\n",
       "      <td>2</td>\n",
       "    </tr>\n",
       "    <tr>\n",
       "      <th>323</th>\n",
       "      <td>1404560065</td>\n",
       "      <td>2</td>\n",
       "    </tr>\n",
       "    <tr>\n",
       "      <th>452</th>\n",
       "      <td>1985475298</td>\n",
       "      <td>2</td>\n",
       "    </tr>\n",
       "  </tbody>\n",
       "</table>\n",
       "</div>"
      ],
      "text/plain": [
       "        user_id  orders\n",
       "908  3967698036       3\n",
       "55    249864742       3\n",
       "478  2108163459       3\n",
       "687  2988190573       3\n",
       "890  3908431265       3\n",
       "138   611059232       3\n",
       "632  2742574263       3\n",
       "157   678354126       2\n",
       "323  1404560065       2\n",
       "452  1985475298       2"
      ]
     },
     "metadata": {},
     "output_type": "display_data"
    }
   ],
   "source": [
    "ordersByUsers = (\n",
    "    orders.groupby('visitor_id', as_index=False)\n",
    "    .agg({'transaction_id': 'nunique'})\n",
    ")\n",
    "\n",
    "ordersByUsers.columns = ['user_id', 'orders']\n",
    "\n",
    "display(ordersByUsers.sort_values(by='orders', ascending=False).head(10))"
   ]
  },
  {
   "cell_type": "markdown",
   "metadata": {},
   "source": [
    "в таблице встречается аномальное число заказов 5 и более"
   ]
  },
  {
   "cell_type": "code",
   "execution_count": 32,
   "metadata": {},
   "outputs": [
    {
     "data": {
      "image/png": "[encoded data removed]",
      "text/plain": [
       "<Figure size 1080x360 with 1 Axes>"
      ]
     },
     "metadata": {
      "needs_background": "light"
     },
     "output_type": "display_data"
    }
   ],
   "source": [
    "plt.figure(figsize=(15,5))\n",
    "plt.grid()\n",
    "plt.title('График количества заказов по пользователям')\n",
    "plt.xlabel('Кол-во пользователей')\n",
    "plt.ylabel('Кол-во заказов')\n",
    "x_values = pd.Series(range(0, len(ordersByUsers)))\n",
    "plt.scatter(x_values, ordersByUsers['orders']) \n",
    "plt.show()\n"
   ]
  },
  {
   "cell_type": "markdown",
   "metadata": {},
   "source": [
    "Большинство пользователей совершают по 1 заказу , 2 заказа  у гораздо меньшего числа пользователей , больше 3 заказов совершают очень мало пользователей , возможно стоит отнести их к выбросам "
   ]
  },
  {
   "cell_type": "markdown",
   "metadata": {},
   "source": [
    "#### Определим  95-й и 99-й перцентили количества заказов на пользователя. \n",
    "Выберем границу для определения аномальных пользователей"
   ]
  },
  {
   "cell_type": "code",
   "execution_count": 33,
   "metadata": {},
   "outputs": [
    {
     "data": {
      "text/plain": [
       "array([1., 2.])"
      ]
     },
     "execution_count": 33,
     "metadata": {},
     "output_type": "execute_result"
    }
   ],
   "source": [
    "np.percentile(ordersByUsers['orders'], [ 95, 99])"
   ]
  },
  {
   "cell_type": "markdown",
   "metadata": {},
   "source": [
    " 95% пользователей совершают не более 1 заказа , 99% совершают  2 заказов , аномальным будет всё, что  более этого.\n"
   ]
  },
  {
   "cell_type": "markdown",
   "metadata": {},
   "source": [
    "#### точечный график стоимостей заказов."
   ]
  },
  {
   "cell_type": "code",
   "execution_count": 34,
   "metadata": {},
   "outputs": [
    {
     "data": {
      "text/html": [
       "<div>\n",
       "<style scoped>\n",
       "    .dataframe tbody tr th:only-of-type {\n",
       "        vertical-align: middle;\n",
       "    }\n",
       "\n",
       "    .dataframe tbody tr th {\n",
       "        vertical-align: top;\n",
       "    }\n",
       "\n",
       "    .dataframe thead th {\n",
       "        text-align: right;\n",
       "    }\n",
       "</style>\n",
       "<table border=\"1\" class=\"dataframe\">\n",
       "  <thead>\n",
       "    <tr style=\"text-align: right;\">\n",
       "      <th></th>\n",
       "      <th>user_id</th>\n",
       "      <th>revenue</th>\n",
       "    </tr>\n",
       "  </thead>\n",
       "  <tbody>\n",
       "    <tr>\n",
       "      <th>440</th>\n",
       "      <td>1920142716</td>\n",
       "      <td>1294500</td>\n",
       "    </tr>\n",
       "    <tr>\n",
       "      <th>477</th>\n",
       "      <td>2108080724</td>\n",
       "      <td>202740</td>\n",
       "    </tr>\n",
       "    <tr>\n",
       "      <th>300</th>\n",
       "      <td>1307669133</td>\n",
       "      <td>92550</td>\n",
       "    </tr>\n",
       "    <tr>\n",
       "      <th>202</th>\n",
       "      <td>888512513</td>\n",
       "      <td>86620</td>\n",
       "    </tr>\n",
       "    <tr>\n",
       "      <th>176</th>\n",
       "      <td>759473111</td>\n",
       "      <td>72000</td>\n",
       "    </tr>\n",
       "    <tr>\n",
       "      <th>938</th>\n",
       "      <td>4133034833</td>\n",
       "      <td>67990</td>\n",
       "    </tr>\n",
       "    <tr>\n",
       "      <th>687</th>\n",
       "      <td>2988190573</td>\n",
       "      <td>67190</td>\n",
       "    </tr>\n",
       "    <tr>\n",
       "      <th>267</th>\n",
       "      <td>1164614297</td>\n",
       "      <td>66350</td>\n",
       "    </tr>\n",
       "    <tr>\n",
       "      <th>25</th>\n",
       "      <td>148427295</td>\n",
       "      <td>65710</td>\n",
       "    </tr>\n",
       "    <tr>\n",
       "      <th>200</th>\n",
       "      <td>887908475</td>\n",
       "      <td>60450</td>\n",
       "    </tr>\n",
       "  </tbody>\n",
       "</table>\n",
       "</div>"
      ],
      "text/plain": [
       "        user_id  revenue\n",
       "440  1920142716  1294500\n",
       "477  2108080724   202740\n",
       "300  1307669133    92550\n",
       "202   888512513    86620\n",
       "176   759473111    72000\n",
       "938  4133034833    67990\n",
       "687  2988190573    67190\n",
       "267  1164614297    66350\n",
       "25    148427295    65710\n",
       "200   887908475    60450"
      ]
     },
     "metadata": {},
     "output_type": "display_data"
    }
   ],
   "source": [
    "revenueByUsers = (\n",
    "    orders.groupby('visitor_id', as_index=False)\n",
    "    .agg({'revenue': 'sum'})\n",
    ")\n",
    "\n",
    "revenueByUsers.columns = ['user_id', 'revenue']\n",
    "\n",
    "display(revenueByUsers.sort_values(by='revenue', ascending=False).head(10))"
   ]
  },
  {
   "cell_type": "code",
   "execution_count": 35,
   "metadata": {},
   "outputs": [
    {
     "data": {
      "image/png": "[encoded data removed]",
      "text/plain": [
       "<Figure size 1080x360 with 1 Axes>"
      ]
     },
     "metadata": {
      "needs_background": "light"
     },
     "output_type": "display_data"
    }
   ],
   "source": [
    "plt.figure(figsize=(15,5))\n",
    "plt.grid()\n",
    "plt.title('График стоимости  заказов по пользователям')\n",
    "plt.xlabel('Кол-во пользователей')\n",
    "plt.ylabel('стоимость')\n",
    "x_values = pd.Series(range(0, len(revenueByUsers)))\n",
    "plt.scatter(x_values, revenueByUsers['revenue']) \n",
    "plt.show()"
   ]
  },
  {
   "cell_type": "markdown",
   "metadata": {},
   "source": [
    "#### Определим  95-й и 99-й перцентили стоимости  заказов на пользователя. \n",
    "Выберем границу для определения аномальных пользователей  по стоимости заказов"
   ]
  },
  {
   "cell_type": "code",
   "execution_count": 36,
   "metadata": {},
   "outputs": [
    {
     "data": {
      "text/plain": [
       "array([28910., 59082.])"
      ]
     },
     "execution_count": 36,
     "metadata": {},
     "output_type": "execute_result"
    }
   ],
   "source": [
    "np.percentile(revenueByUsers['revenue'], [ 95, 99])"
   ]
  },
  {
   "cell_type": "markdown",
   "metadata": {},
   "source": [
    "заказы стоимостью выше чем   59082 составляют менее 1 %  считаем их выбросами  "
   ]
  },
  {
   "cell_type": "markdown",
   "metadata": {},
   "source": [
    "####  Определим статистическую значимость различий в среднем числе заказов на пользователя  в  группах по «сырым» данным — без удаления аномальных пользователей."
   ]
  },
  {
   "cell_type": "code",
   "execution_count": 37,
   "metadata": {},
   "outputs": [
    {
     "data": {
      "text/html": [
       "<div>\n",
       "<style scoped>\n",
       "    .dataframe tbody tr th:only-of-type {\n",
       "        vertical-align: middle;\n",
       "    }\n",
       "\n",
       "    .dataframe tbody tr th {\n",
       "        vertical-align: top;\n",
       "    }\n",
       "\n",
       "    .dataframe thead th {\n",
       "        text-align: right;\n",
       "    }\n",
       "</style>\n",
       "<table border=\"1\" class=\"dataframe\">\n",
       "  <thead>\n",
       "    <tr style=\"text-align: right;\">\n",
       "      <th></th>\n",
       "      <th>transaction_id</th>\n",
       "      <th>visitor_id</th>\n",
       "      <th>date</th>\n",
       "      <th>revenue</th>\n",
       "      <th>group</th>\n",
       "    </tr>\n",
       "  </thead>\n",
       "  <tbody>\n",
       "    <tr>\n",
       "      <th>765</th>\n",
       "      <td>1457259561</td>\n",
       "      <td>2421265884</td>\n",
       "      <td>2019-08-07</td>\n",
       "      <td>990</td>\n",
       "      <td>B</td>\n",
       "    </tr>\n",
       "  </tbody>\n",
       "</table>\n",
       "</div>"
      ],
      "text/plain": [
       "     transaction_id  visitor_id       date  revenue group\n",
       "765      1457259561  2421265884 2019-08-07      990     B"
      ]
     },
     "execution_count": 37,
     "metadata": {},
     "output_type": "execute_result"
    }
   ],
   "source": [
    "# взглянем на исходные таблицы\n",
    "orders.sample()\n"
   ]
  },
  {
   "cell_type": "code",
   "execution_count": 38,
   "metadata": {},
   "outputs": [
    {
     "data": {
      "text/html": [
       "<div>\n",
       "<style scoped>\n",
       "    .dataframe tbody tr th:only-of-type {\n",
       "        vertical-align: middle;\n",
       "    }\n",
       "\n",
       "    .dataframe tbody tr th {\n",
       "        vertical-align: top;\n",
       "    }\n",
       "\n",
       "    .dataframe thead th {\n",
       "        text-align: right;\n",
       "    }\n",
       "</style>\n",
       "<table border=\"1\" class=\"dataframe\">\n",
       "  <thead>\n",
       "    <tr style=\"text-align: right;\">\n",
       "      <th></th>\n",
       "      <th>date</th>\n",
       "      <th>group</th>\n",
       "      <th>visitors</th>\n",
       "    </tr>\n",
       "  </thead>\n",
       "  <tbody>\n",
       "    <tr>\n",
       "      <th>28</th>\n",
       "      <td>2019-08-29</td>\n",
       "      <td>A</td>\n",
       "      <td>577</td>\n",
       "    </tr>\n",
       "  </tbody>\n",
       "</table>\n",
       "</div>"
      ],
      "text/plain": [
       "         date group  visitors\n",
       "28 2019-08-29     A       577"
      ]
     },
     "execution_count": 38,
     "metadata": {},
     "output_type": "execute_result"
    }
   ],
   "source": [
    "visitors.sample()"
   ]
  },
  {
   "cell_type": "code",
   "execution_count": 39,
   "metadata": {},
   "outputs": [
    {
     "data": {
      "text/html": [
       "<div>\n",
       "<style scoped>\n",
       "    .dataframe tbody tr th:only-of-type {\n",
       "        vertical-align: middle;\n",
       "    }\n",
       "\n",
       "    .dataframe tbody tr th {\n",
       "        vertical-align: top;\n",
       "    }\n",
       "\n",
       "    .dataframe thead th {\n",
       "        text-align: right;\n",
       "    }\n",
       "</style>\n",
       "<table border=\"1\" class=\"dataframe\">\n",
       "  <thead>\n",
       "    <tr style=\"text-align: right;\">\n",
       "      <th></th>\n",
       "      <th>date</th>\n",
       "      <th>ordersPerDateA</th>\n",
       "      <th>revenuePerDateA</th>\n",
       "      <th>ordersPerDateB</th>\n",
       "      <th>revenuePerDateB</th>\n",
       "      <th>ordersCummulativeA</th>\n",
       "      <th>revenueCummulativeA</th>\n",
       "      <th>ordersCummulativeB</th>\n",
       "      <th>revenueCummulativeB</th>\n",
       "      <th>visitorsPerDateA</th>\n",
       "      <th>visitorsPerDateB</th>\n",
       "      <th>visitorsCummulativeA</th>\n",
       "      <th>visitorsCummulativeB</th>\n",
       "    </tr>\n",
       "  </thead>\n",
       "  <tbody>\n",
       "    <tr>\n",
       "      <th>0</th>\n",
       "      <td>2019-08-01</td>\n",
       "      <td>23</td>\n",
       "      <td>142779</td>\n",
       "      <td>17</td>\n",
       "      <td>59758</td>\n",
       "      <td>23</td>\n",
       "      <td>142779</td>\n",
       "      <td>17</td>\n",
       "      <td>59758</td>\n",
       "      <td>719</td>\n",
       "      <td>713</td>\n",
       "      <td>719</td>\n",
       "      <td>713</td>\n",
       "    </tr>\n",
       "    <tr>\n",
       "      <th>1</th>\n",
       "      <td>2019-08-02</td>\n",
       "      <td>19</td>\n",
       "      <td>91602</td>\n",
       "      <td>23</td>\n",
       "      <td>162043</td>\n",
       "      <td>42</td>\n",
       "      <td>234381</td>\n",
       "      <td>40</td>\n",
       "      <td>221801</td>\n",
       "      <td>619</td>\n",
       "      <td>581</td>\n",
       "      <td>1338</td>\n",
       "      <td>1294</td>\n",
       "    </tr>\n",
       "    <tr>\n",
       "      <th>2</th>\n",
       "      <td>2019-08-03</td>\n",
       "      <td>24</td>\n",
       "      <td>112473</td>\n",
       "      <td>14</td>\n",
       "      <td>67049</td>\n",
       "      <td>66</td>\n",
       "      <td>346854</td>\n",
       "      <td>54</td>\n",
       "      <td>288850</td>\n",
       "      <td>507</td>\n",
       "      <td>509</td>\n",
       "      <td>1845</td>\n",
       "      <td>1803</td>\n",
       "    </tr>\n",
       "    <tr>\n",
       "      <th>3</th>\n",
       "      <td>2019-08-04</td>\n",
       "      <td>11</td>\n",
       "      <td>41176</td>\n",
       "      <td>14</td>\n",
       "      <td>96890</td>\n",
       "      <td>77</td>\n",
       "      <td>388030</td>\n",
       "      <td>68</td>\n",
       "      <td>385740</td>\n",
       "      <td>717</td>\n",
       "      <td>770</td>\n",
       "      <td>2562</td>\n",
       "      <td>2573</td>\n",
       "    </tr>\n",
       "    <tr>\n",
       "      <th>4</th>\n",
       "      <td>2019-08-05</td>\n",
       "      <td>22</td>\n",
       "      <td>86383</td>\n",
       "      <td>21</td>\n",
       "      <td>89908</td>\n",
       "      <td>99</td>\n",
       "      <td>474413</td>\n",
       "      <td>89</td>\n",
       "      <td>475648</td>\n",
       "      <td>756</td>\n",
       "      <td>707</td>\n",
       "      <td>3318</td>\n",
       "      <td>3280</td>\n",
       "    </tr>\n",
       "  </tbody>\n",
       "</table>\n",
       "</div>"
      ],
      "text/plain": [
       "        date  ordersPerDateA  revenuePerDateA  ordersPerDateB  \\\n",
       "0 2019-08-01              23           142779              17   \n",
       "1 2019-08-02              19            91602              23   \n",
       "2 2019-08-03              24           112473              14   \n",
       "3 2019-08-04              11            41176              14   \n",
       "4 2019-08-05              22            86383              21   \n",
       "\n",
       "   revenuePerDateB  ordersCummulativeA  revenueCummulativeA  \\\n",
       "0            59758                  23               142779   \n",
       "1           162043                  42               234381   \n",
       "2            67049                  66               346854   \n",
       "3            96890                  77               388030   \n",
       "4            89908                  99               474413   \n",
       "\n",
       "   ordersCummulativeB  revenueCummulativeB  visitorsPerDateA  \\\n",
       "0                  17                59758               719   \n",
       "1                  40               221801               619   \n",
       "2                  54               288850               507   \n",
       "3                  68               385740               717   \n",
       "4                  89               475648               756   \n",
       "\n",
       "   visitorsPerDateB  visitorsCummulativeA  visitorsCummulativeB  \n",
       "0               713                   719                   713  \n",
       "1               581                  1338                  1294  \n",
       "2               509                  1845                  1803  \n",
       "3               770                  2562                  2573  \n",
       "4               707                  3318                  3280  "
      ]
     },
     "execution_count": 39,
     "metadata": {},
     "output_type": "execute_result"
    }
   ],
   "source": [
    "# подготовим данные \n",
    "visitorsADaily = visitors[visitors['group']=='A'][['date', 'visitors']]\n",
    "visitorsADaily.columns = ['date', 'visitorsPerDateA']\n",
    "\n",
    "visitorsACummulative = visitorsADaily.apply(lambda x: visitorsADaily[visitorsADaily['date'] <= x['date']]. \\\n",
    "                                            agg({'date' : 'max', 'visitorsPerDateA' : 'sum'}), axis=1)\n",
    "visitorsACummulative.columns = ['date', 'visitorsCummulativeA']\n",
    "\n",
    "visitorsBDaily = visitors[visitors['group']=='B'][['date', 'visitors']]\n",
    "visitorsBDaily.columns = ['date', 'visitorsPerDateB']\n",
    "\n",
    "visitorsBCummulative = visitorsBDaily.apply(lambda x: visitorsBDaily[visitorsBDaily['date'] <= x['date']]. \\\n",
    "                                            agg({'date' : 'max', 'visitorsPerDateB' : 'sum'}), axis=1)\n",
    "visitorsBCummulative.columns = ['date', 'visitorsCummulativeB']\n",
    "ordersADaily = orders[orders['group']=='A'][['date', 'transaction_id', 'visitor_id', 'revenue']]\\\n",
    "    .groupby('date', as_index=False)\\\n",
    "    .agg({'transaction_id' : pd.Series.nunique, 'revenue' : 'sum'})\n",
    "ordersADaily.columns = ['date', 'ordersPerDateA', 'revenuePerDateA']\n",
    "\n",
    "ordersACummulative = ordersADaily.apply(\n",
    "    lambda x: \\\n",
    "        ordersADaily[ordersADaily['date'] <= x['date']]\\\n",
    "            .agg({\n",
    "                'date' : 'max',\n",
    "                'ordersPerDateA' : 'sum',\n",
    "                'revenuePerDateA' : 'sum'}), axis=1).sort_values(by=['date'])\n",
    "ordersACummulative.columns = ['date', 'ordersCummulativeA', 'revenueCummulativeA']\n",
    "\n",
    "ordersBDaily = orders[orders['group']=='B'][['date', 'transaction_id', 'visitor_id', 'revenue']]\\\n",
    "    .groupby('date', as_index=False)\\\n",
    "    .agg({'transaction_id' : pd.Series.nunique, 'revenue' : 'sum'})\n",
    "ordersBDaily.columns = ['date', 'ordersPerDateB', 'revenuePerDateB']\n",
    "\n",
    "ordersBCummulative = ordersBDaily.apply(\n",
    "    lambda x: \\\n",
    "        ordersBDaily[ordersBDaily['date'] <= x['date']]\\\n",
    "            .agg({\n",
    "                'date' : 'max',\n",
    "                'ordersPerDateB' : 'sum',\n",
    "                'revenuePerDateB' : 'sum'}), axis=1).sort_values(by=['date'])\n",
    "ordersBCummulative.columns = ['date', 'ordersCummulativeB', 'revenueCummulativeB']\n",
    "data = ordersADaily.merge(ordersBDaily, left_on='date', right_on='date', how='left')\\\n",
    "    .merge(ordersACummulative, left_on='date', right_on='date', how='left')\\\n",
    "    .merge(ordersBCummulative, left_on='date', right_on='date', how='left')\\\n",
    "    .merge(visitorsADaily, left_on='date', right_on='date', how='left')\\\n",
    "    .merge(visitorsBDaily, left_on='date', right_on='date', how='left')\\\n",
    "    .merge(visitorsACummulative, left_on='date', right_on='date', how='left')\\\n",
    "    .merge(visitorsBCummulative, left_on='date', right_on='date', how='left')\n",
    "data.head()"
   ]
  },
  {
   "cell_type": "code",
   "execution_count": 40,
   "metadata": {},
   "outputs": [],
   "source": [
    "# Посчитаем статистическую значимость различия в среднем количестве заказов между группами.\n",
    "\n",
    "ordersByUsersA = (\n",
    "    orders[orders['group'] == 'A']\n",
    "    .groupby('visitor_id', as_index=False)\n",
    "    .agg({'transaction_id': pd.Series.nunique})\n",
    ")\n",
    "ordersByUsersA.columns = ['user_id', 'orders']\n",
    "\n",
    "ordersByUsersB = (\n",
    "    orders[orders['group'] == 'B']\n",
    "    .groupby('visitor_id', as_index=False)\n",
    "    .agg({'transaction_id': pd.Series.nunique})\n",
    ")\n",
    "ordersByUsersB.columns = ['user_id', 'orders']\n"
   ]
  },
  {
   "cell_type": "markdown",
   "metadata": {},
   "source": [
    "Объявим переменные sampleA и sampleB, в которых пользователям из разных групп будет соответствовать количество заказов. Тем, кто ничего не заказал, будут соответствовать нули. Это нужно, чтобы подготовить выборки к проверке критерием Манна-Уитни."
   ]
  },
  {
   "cell_type": "code",
   "execution_count": 41,
   "metadata": {},
   "outputs": [],
   "source": [
    "#Объявим переменные sampleA и sampleB, в которых пользователям из разных групп будет соответствовать количество заказов.\n",
    "sampleA = pd.concat([ordersByUsersA['orders'],pd.Series(0, index=np.arange(data['visitorsPerDateA'].sum() - len(ordersByUsersA['orders'])), name='orders')],axis=0)\n",
    "\n",
    "sampleB = pd.concat([ordersByUsersB['orders'],pd.Series(0, index=np.arange(data['visitorsPerDateB'].sum() - len(ordersByUsersB['orders'])), name='orders')],axis=0)"
   ]
  },
  {
   "cell_type": "markdown",
   "metadata": {},
   "source": [
    "За нулевую гипотезу H0 примем - статистически значимых различий между  между группами A и B нет.\n",
    "Тогда альтернативная гипотеза Н1 - статистически значимые различия между группами A и B есть."
   ]
  },
  {
   "cell_type": "markdown",
   "metadata": {},
   "source": [
    "Выведем относительный прирост среднего числа заказов группы B: среднее число заказов группы B / среднее число заказов группы A - 1. Округлим до трёх знаков после запятой."
   ]
  },
  {
   "cell_type": "markdown",
   "metadata": {},
   "source": [
    "Применим критерий и отформатируем p-value, округлив его до трёх знаков после запятой."
   ]
  },
  {
   "cell_type": "code",
   "execution_count": 42,
   "metadata": {},
   "outputs": [
    {
     "data": {
      "text/plain": [
       "'0.011'"
      ]
     },
     "metadata": {},
     "output_type": "display_data"
    },
    {
     "data": {
      "text/plain": [
       "'0.160'"
      ]
     },
     "metadata": {},
     "output_type": "display_data"
    }
   ],
   "source": [
    "sampleA = pd.concat(\n",
    "    [\n",
    "        ordersByUsersA['orders'],\n",
    "        pd.Series(\n",
    "            0,\n",
    "            index=np.arange(\n",
    "                data['visitorsPerDateA'].sum() - len(ordersByUsersA['orders'])\n",
    "            ),\n",
    "            name='orders',\n",
    "        ),\n",
    "    ],\n",
    "    axis=0,\n",
    ")\n",
    "\n",
    "sampleB = pd.concat(\n",
    "    [\n",
    "        ordersByUsersB['orders'],\n",
    "        pd.Series(\n",
    "            0,\n",
    "            index=np.arange(\n",
    "                data['visitorsPerDateB'].sum() - len(ordersByUsersB['orders'])\n",
    "            ),\n",
    "            name='orders',\n",
    "        ),\n",
    "    ],\n",
    "    axis=0,\n",
    ")\n",
    "\n",
    "display(\"{0:.3f}\".format(st.mannwhitneyu(sampleA, sampleB)[1]))\n",
    "\n",
    "display(\"{0:.3f}\".format(sampleB.mean() / sampleA.mean() - 1))\n",
    " "
   ]
  },
  {
   "cell_type": "markdown",
   "metadata": {},
   "source": [
    "p-value = 0.011 ,меньше 0.05. Поэтому нулевую гипотезу о том, что статистически значимых различий  между группами нет, - отвергаем.Статистические различия в среднем числе заказов между группами есть \n",
    "Относительный прирост группы B равен 16 % — второе число в выводе.\n"
   ]
  },
  {
   "cell_type": "markdown",
   "metadata": {},
   "source": [
    "####  Определим статистическую значимость различий в среднем чеке заказа между группами по «сырым» данным"
   ]
  },
  {
   "cell_type": "markdown",
   "metadata": {},
   "source": [
    " Нулевая гипотеза: различий в среднем чеке между группами нет. Альтернативная гипотеза: различия в среднем чеке между группами есть.\n",
    "Чтобы рассчитать статистическую значимость различий в среднем чеке, передадим критерию mannwhitneyu() данные о выручке с заказов.\n",
    "А ещё найдём относительные различия в среднем чеке между группами:"
   ]
  },
  {
   "cell_type": "code",
   "execution_count": 43,
   "metadata": {},
   "outputs": [
    {
     "data": {
      "text/plain": [
       "'0.829'"
      ]
     },
     "metadata": {},
     "output_type": "display_data"
    },
    {
     "data": {
      "text/plain": [
       "'0.287'"
      ]
     },
     "metadata": {},
     "output_type": "display_data"
    }
   ],
   "source": [
    "display('{0:.3f}'.format(st.mannwhitneyu(orders[orders['group']=='A']['revenue'], orders[orders['group']=='B']['revenue'])[1]))\n",
    "display('{0:.3f}'.format(orders[orders['group']=='B']['revenue'].mean()/orders[orders['group']=='A']['revenue'].mean()-1))"
   ]
  },
  {
   "cell_type": "markdown",
   "metadata": {},
   "source": [
    "P-value= 0.83,что значительно больше 0.05. Значит, причин отвергать нулевую гипотезу и считать, что в среднем чеке есть различия, нет.Наблюдаемое различие среднего чека группы B в 28 % выше  среднего чека группы A не является статистически значимым\n",
    "Предположительно,  большинство дорогих заказов попали  в группу В"
   ]
  },
  {
   "cell_type": "markdown",
   "metadata": {},
   "source": [
    "####   Подготовим очищенные от аномалий данные \n",
    "Примем за аномальных пользователей тех, кто совершил более 2 заказов или совершил заказ дороже 60 000 рублей. Так мы уберём  до 5% пользователей с наибольшим числом заказов и от 1% до 5% пользователей с дорогими заказами."
   ]
  },
  {
   "cell_type": "markdown",
   "metadata": {},
   "source": [
    " Сделаем срезы пользователей с числом заказов больше 3 — usersWithManyOrders и пользователей, совершивших заказы дороже 60 000 — usersWithExpensiveOrders. Объединим их в таблице abnormalUsers."
   ]
  },
  {
   "cell_type": "code",
   "execution_count": 44,
   "metadata": {},
   "outputs": [
    {
     "data": {
      "text/plain": [
       "1099    148427295\n",
       "33      249864742\n",
       "58      611059232\n",
       "949     887908475\n",
       "744     888512513\n",
       "dtype: int64"
      ]
     },
     "metadata": {},
     "output_type": "display_data"
    },
    {
     "data": {
      "text/plain": [
       "15"
      ]
     },
     "metadata": {},
     "output_type": "display_data"
    }
   ],
   "source": [
    "usersWithManyOrders = pd.concat(\n",
    "    [\n",
    "        ordersByUsersA[ordersByUsersA['orders'] >2]['user_id'],\n",
    "        ordersByUsersB[ordersByUsersB['orders'] > 2]['user_id'],\n",
    "    ],\n",
    "    axis=0,\n",
    ")\n",
    "usersWithExpensiveOrders = orders[orders['revenue'] > 60000]['visitor_id']\n",
    "abnormalUsers = (\n",
    "    pd.concat([usersWithManyOrders, usersWithExpensiveOrders], axis=0)\n",
    "    .drop_duplicates()\n",
    "    .sort_values()\n",
    ")\n",
    "display(abnormalUsers.head(5))\n",
    "display(abnormalUsers.shape[0])\n",
    "\n",
    "\n"
   ]
  },
  {
   "cell_type": "markdown",
   "metadata": {},
   "source": [
    "Всего аномальных пользователей 15"
   ]
  },
  {
   "cell_type": "markdown",
   "metadata": {},
   "source": [
    "#### Посчитаем статистическую значимость различий в среднем количестве заказов между группами теста по очищенным данным. \n",
    "\n",
    "\n",
    "Сначала подготовим выборки количества заказов по пользователям по группам теста:\n",
    "\n"
   ]
  },
  {
   "cell_type": "code",
   "execution_count": 45,
   "metadata": {},
   "outputs": [],
   "source": [
    "sampleAFiltered = pd.concat(\n",
    "    [\n",
    "        ordersByUsersA[\n",
    "            np.logical_not(ordersByUsersA['user_id'].isin(abnormalUsers))\n",
    "        ]['orders'],\n",
    "        pd.Series(\n",
    "            0,\n",
    "            index=np.arange(\n",
    "                data['visitorsPerDateA'].sum() - len(ordersByUsersA['orders'])\n",
    "            ),\n",
    "            name='orders',\n",
    "        ),\n",
    "    ],\n",
    "    axis=0,\n",
    ")\n",
    "\n",
    "sampleBFiltered = pd.concat(\n",
    "    [\n",
    "        ordersByUsersB[\n",
    "            np.logical_not(ordersByUsersB['user_id'].isin(abnormalUsers))\n",
    "        ]['orders'],\n",
    "        pd.Series(\n",
    "            0,\n",
    "            index=np.arange(\n",
    "                data['visitorsPerDateB'].sum() - len(ordersByUsersB['orders'])\n",
    "            ),\n",
    "            name='orders',\n",
    "        ),\n",
    "    ],\n",
    "    axis=0,\n",
    ")"
   ]
  },
  {
   "cell_type": "markdown",
   "metadata": {},
   "source": [
    "Применим статистический критерий Манна-Уитни к полученным выборкам:"
   ]
  },
  {
   "cell_type": "code",
   "execution_count": 46,
   "metadata": {},
   "outputs": [
    {
     "name": "stdout",
     "output_type": "stream",
     "text": [
      "0.006\n",
      "Относительный показатель 'B' и 'A' = 0.191\n"
     ]
    }
   ],
   "source": [
    "print('{0:.3f}'.format(st.mannwhitneyu(sampleAFiltered, sampleBFiltered)[1]))\n",
    "print(\"Относительный показатель 'B' и 'A' = {0:.3f}\".format(sampleBFiltered.mean()/sampleAFiltered.mean()-1))"
   ]
  },
  {
   "cell_type": "markdown",
   "metadata": {},
   "source": [
    "p-value = 0.006 меньше 0.05.значит , нулевую гипотезу  - отвергаем.  По «очищенным» данным в среднем кол-ве заказов между группами  A и B есть статистически значимые различия. Относительный выигрыш группы \"B\" над \"A\" равен более  19 %  .\n"
   ]
  },
  {
   "cell_type": "markdown",
   "metadata": {},
   "source": [
    "#### Посчитаем статистическую значимость различий в среднем чеке заказа между группами по «очищенным» данным.\n"
   ]
  },
  {
   "cell_type": "markdown",
   "metadata": {},
   "source": [
    "Нулевая гипотеза H0 : \"статистически значимых различий в средних чеках между группами нет\".\n",
    "Альтернативная гипотеза Н1 - статистически значимые различия есть."
   ]
  },
  {
   "cell_type": "code",
   "execution_count": 47,
   "metadata": {},
   "outputs": [
    {
     "name": "stdout",
     "output_type": "stream",
     "text": [
      "0.827\n",
      "-0.017\n"
     ]
    }
   ],
   "source": [
    "print('{0:.3f}'.format(\n",
    "        st.mannwhitneyu(\n",
    "            orders[\n",
    "                np.logical_and(\n",
    "                    orders['group'] == 'A',\n",
    "                    np.logical_not(orders['visitor_id'].isin(abnormalUsers)),\n",
    "                )\n",
    "            ]['revenue'],\n",
    "            orders[\n",
    "                np.logical_and(\n",
    "                    orders['group'] == 'B',\n",
    "                    np.logical_not(orders['visitor_id'].isin(abnormalUsers)),\n",
    "                )\n",
    "            ]['revenue'],\n",
    "        )[1]\n",
    "    )\n",
    ")\n",
    "\n",
    "print(\n",
    "    \"{0:.3f}\".format(\n",
    "        orders[\n",
    "            np.logical_and(\n",
    "                orders['group'] == 'B',\n",
    "                np.logical_not(orders['visitor_id'].isin(abnormalUsers)),\n",
    "            )\n",
    "        ]['revenue'].mean()\n",
    "        / orders[\n",
    "            np.logical_and(\n",
    "                orders['group'] == 'A',\n",
    "                np.logical_not(orders['visitor_id'].isin(abnormalUsers)),\n",
    "            )\n",
    "        ]['revenue'].mean()\n",
    "        - 1\n",
    "    )\n",
    ")"
   ]
  },
  {
   "cell_type": "markdown",
   "metadata": {},
   "source": [
    "P-value = 0.83, значительно больше 0.05. Поэтому можем считать, что в среднем чеке нет различий (как и с \"сырыми\" данными).Различия не являются статистически значимыми А вот средний чек группы B оказался незначительно (на 1.7%) ниже среднего чека группы A, в то время как по \"сырым\" данным, он был больше  на 29 %,так повлияли на результаты аномальные заказы с большими суммами.\n"
   ]
  },
  {
   "cell_type": "markdown",
   "metadata": {},
   "source": [
    "#### Pешение по результатам теста . \n",
    "\n",
    "\n",
    "Варианты решений: \n",
    "\n",
    "\n",
    "1. Остановить тест, зафиксировать победу одной из групп.\n",
    "\n",
    "2. Остановить тест, зафиксировать отсутствие различий между группами.\n",
    "\n",
    "3. Продолжить тест.\n"
   ]
  },
  {
   "cell_type": "markdown",
   "metadata": {},
   "source": [
    "Имеющиеся факты:\n",
    "    \n",
    "-Статистические различия в среднем числе заказов между группами есть .Относительный прирост группы B равен 16% по «сырым» данным.\n",
    " По «очищенным» данным в среднем кол-ве заказов между группами A и B есть статистически значимые различия. Относительный выигрыш группы \"B\" над \"A\" равен более 19 % . В \" сырых данных \" процент был выше , значит большинство дорогих заказов в группе В\n",
    "    \n",
    "    \n",
    "-Нет статистически значимого различия по среднему чеку между группами ни по «сырым», ни по данным после фильтрации аномалий;\n",
    "Средний чек группы B оказался незначительно (на 1%) ниже среднего чека группы A, в то время как по \"сырым\" данным, он был больше на 29 %,так повлияли на результаты аномальные заказы с большими суммами. \n",
    "\n",
    "-Графики различия  между группами сообщают, что результаты группы B лучше группы A по всем критериям"
   ]
  },
  {
   "cell_type": "markdown",
   "metadata": {},
   "source": [
    "Основываясь на результатах проведенного А/В теста, рекомендую остановить тест и зафиксировать победу группы В по показателю конверсии. Рекомендую отделу маркетинга  начать работу по стимуляции к увеличению среднего чека.\n"
   ]
  }
 ],
 "metadata": {
  "ExecuteTimeLog": [
   {
    "duration": 1306,
    "start_time": "2022-11-26T14:10:42.685Z"
   },
   {
    "duration": 201,
    "start_time": "2022-11-26T14:10:43.994Z"
   },
   {
    "duration": 19,
    "start_time": "2022-11-26T14:12:05.641Z"
   },
   {
    "duration": 16,
    "start_time": "2022-11-26T14:14:55.250Z"
   },
   {
    "duration": 15,
    "start_time": "2022-11-26T14:15:01.530Z"
   },
   {
    "duration": 5,
    "start_time": "2022-11-26T14:19:24.417Z"
   },
   {
    "duration": 6,
    "start_time": "2022-11-26T14:19:28.293Z"
   },
   {
    "duration": 5,
    "start_time": "2022-11-26T14:19:33.032Z"
   },
   {
    "duration": 7,
    "start_time": "2022-11-26T15:24:37.824Z"
   },
   {
    "duration": 7,
    "start_time": "2022-11-26T15:25:57.362Z"
   },
   {
    "duration": 8,
    "start_time": "2022-11-26T15:28:42.623Z"
   },
   {
    "duration": 12,
    "start_time": "2022-11-26T15:37:28.835Z"
   },
   {
    "duration": 9,
    "start_time": "2022-11-26T15:40:59.276Z"
   },
   {
    "duration": 13,
    "start_time": "2022-11-26T15:42:00.004Z"
   },
   {
    "duration": 92,
    "start_time": "2022-11-26T15:52:33.681Z"
   },
   {
    "duration": 1054,
    "start_time": "2022-11-26T15:53:12.783Z"
   },
   {
    "duration": 80,
    "start_time": "2022-11-26T15:53:13.839Z"
   },
   {
    "duration": 20,
    "start_time": "2022-11-26T15:53:13.920Z"
   },
   {
    "duration": 18,
    "start_time": "2022-11-26T15:53:13.941Z"
   },
   {
    "duration": 19,
    "start_time": "2022-11-26T15:53:13.961Z"
   },
   {
    "duration": 5,
    "start_time": "2022-11-26T15:53:13.982Z"
   },
   {
    "duration": 11,
    "start_time": "2022-11-26T15:53:13.988Z"
   },
   {
    "duration": 5,
    "start_time": "2022-11-26T15:53:14.001Z"
   },
   {
    "duration": 34,
    "start_time": "2022-11-26T15:53:14.007Z"
   },
   {
    "duration": 24,
    "start_time": "2022-11-26T15:53:14.043Z"
   },
   {
    "duration": 14,
    "start_time": "2022-11-26T15:53:14.069Z"
   },
   {
    "duration": 19,
    "start_time": "2022-11-26T15:53:14.085Z"
   },
   {
    "duration": 11,
    "start_time": "2022-11-26T15:53:14.105Z"
   },
   {
    "duration": 289,
    "start_time": "2022-11-26T15:53:14.118Z"
   },
   {
    "duration": 187,
    "start_time": "2022-11-26T15:54:50.357Z"
   },
   {
    "duration": 18,
    "start_time": "2022-11-26T15:55:23.407Z"
   },
   {
    "duration": 16,
    "start_time": "2022-11-26T15:55:54.539Z"
   },
   {
    "duration": 146,
    "start_time": "2022-11-26T15:57:29.058Z"
   },
   {
    "duration": 10,
    "start_time": "2022-11-26T15:57:54.770Z"
   },
   {
    "duration": 1177,
    "start_time": "2022-11-26T16:54:37.819Z"
   },
   {
    "duration": 81,
    "start_time": "2022-11-26T16:54:38.998Z"
   },
   {
    "duration": 30,
    "start_time": "2022-11-26T16:54:39.081Z"
   },
   {
    "duration": 15,
    "start_time": "2022-11-26T16:54:39.112Z"
   },
   {
    "duration": 19,
    "start_time": "2022-11-26T16:54:39.129Z"
   },
   {
    "duration": 8,
    "start_time": "2022-11-26T16:54:39.150Z"
   },
   {
    "duration": 13,
    "start_time": "2022-11-26T16:54:39.159Z"
   },
   {
    "duration": 8,
    "start_time": "2022-11-26T16:54:39.173Z"
   },
   {
    "duration": 22,
    "start_time": "2022-11-26T16:54:39.183Z"
   },
   {
    "duration": 14,
    "start_time": "2022-11-26T16:54:39.207Z"
   },
   {
    "duration": 17,
    "start_time": "2022-11-26T16:54:39.222Z"
   },
   {
    "duration": 22,
    "start_time": "2022-11-26T16:54:39.241Z"
   },
   {
    "duration": 10,
    "start_time": "2022-11-26T16:54:39.265Z"
   },
   {
    "duration": 1116,
    "start_time": "2022-11-26T16:57:38.177Z"
   },
   {
    "duration": 79,
    "start_time": "2022-11-26T16:57:39.295Z"
   },
   {
    "duration": 20,
    "start_time": "2022-11-26T16:57:39.376Z"
   },
   {
    "duration": 22,
    "start_time": "2022-11-26T16:57:39.398Z"
   },
   {
    "duration": 35,
    "start_time": "2022-11-26T16:57:39.422Z"
   },
   {
    "duration": 16,
    "start_time": "2022-11-26T16:57:39.458Z"
   },
   {
    "duration": 12,
    "start_time": "2022-11-26T16:57:39.475Z"
   },
   {
    "duration": 23,
    "start_time": "2022-11-26T16:57:39.489Z"
   },
   {
    "duration": 37,
    "start_time": "2022-11-26T16:57:39.514Z"
   },
   {
    "duration": 9,
    "start_time": "2022-11-26T16:57:39.554Z"
   },
   {
    "duration": 14,
    "start_time": "2022-11-26T16:57:39.564Z"
   },
   {
    "duration": 13,
    "start_time": "2022-11-26T16:57:39.581Z"
   },
   {
    "duration": 19,
    "start_time": "2022-11-26T16:57:39.596Z"
   },
   {
    "duration": 21,
    "start_time": "2022-11-26T16:57:39.617Z"
   },
   {
    "duration": 3,
    "start_time": "2022-11-26T17:03:03.933Z"
   },
   {
    "duration": 2,
    "start_time": "2022-11-26T17:03:34.331Z"
   },
   {
    "duration": 1125,
    "start_time": "2022-11-26T17:03:44.011Z"
   },
   {
    "duration": 79,
    "start_time": "2022-11-26T17:03:45.138Z"
   },
   {
    "duration": 18,
    "start_time": "2022-11-26T17:03:45.219Z"
   },
   {
    "duration": 14,
    "start_time": "2022-11-26T17:03:45.238Z"
   },
   {
    "duration": 20,
    "start_time": "2022-11-26T17:03:45.254Z"
   },
   {
    "duration": 11,
    "start_time": "2022-11-26T17:03:45.275Z"
   },
   {
    "duration": 13,
    "start_time": "2022-11-26T17:03:45.287Z"
   },
   {
    "duration": 6,
    "start_time": "2022-11-26T17:03:45.301Z"
   },
   {
    "duration": 30,
    "start_time": "2022-11-26T17:03:45.309Z"
   },
   {
    "duration": 8,
    "start_time": "2022-11-26T17:03:45.341Z"
   },
   {
    "duration": 17,
    "start_time": "2022-11-26T17:03:45.351Z"
   },
   {
    "duration": 13,
    "start_time": "2022-11-26T17:03:45.369Z"
   },
   {
    "duration": 15,
    "start_time": "2022-11-26T17:03:45.383Z"
   },
   {
    "duration": 19,
    "start_time": "2022-11-26T17:03:45.400Z"
   },
   {
    "duration": 9,
    "start_time": "2022-11-26T17:28:09.494Z"
   },
   {
    "duration": 10,
    "start_time": "2022-11-26T17:28:14.825Z"
   },
   {
    "duration": 1276,
    "start_time": "2022-11-27T13:35:50.560Z"
   },
   {
    "duration": 196,
    "start_time": "2022-11-27T13:35:51.838Z"
   },
   {
    "duration": 25,
    "start_time": "2022-11-27T13:35:52.035Z"
   },
   {
    "duration": 18,
    "start_time": "2022-11-27T13:35:52.062Z"
   },
   {
    "duration": 17,
    "start_time": "2022-11-27T13:35:52.083Z"
   },
   {
    "duration": 6,
    "start_time": "2022-11-27T13:35:52.113Z"
   },
   {
    "duration": 8,
    "start_time": "2022-11-27T13:35:52.121Z"
   },
   {
    "duration": 5,
    "start_time": "2022-11-27T13:35:52.131Z"
   },
   {
    "duration": 15,
    "start_time": "2022-11-27T13:35:52.138Z"
   },
   {
    "duration": 7,
    "start_time": "2022-11-27T13:35:52.155Z"
   },
   {
    "duration": 11,
    "start_time": "2022-11-27T13:35:52.164Z"
   },
   {
    "duration": 38,
    "start_time": "2022-11-27T13:35:52.176Z"
   },
   {
    "duration": 17,
    "start_time": "2022-11-27T13:35:52.216Z"
   },
   {
    "duration": 12,
    "start_time": "2022-11-27T13:35:52.236Z"
   },
   {
    "duration": 25,
    "start_time": "2022-11-27T13:35:52.250Z"
   },
   {
    "duration": 10,
    "start_time": "2022-11-27T13:35:52.277Z"
   },
   {
    "duration": 26,
    "start_time": "2022-11-27T13:35:52.289Z"
   },
   {
    "duration": 8,
    "start_time": "2022-11-27T13:39:24.948Z"
   },
   {
    "duration": 5,
    "start_time": "2022-11-27T13:39:49.200Z"
   },
   {
    "duration": 9,
    "start_time": "2022-11-27T13:41:04.183Z"
   },
   {
    "duration": 105,
    "start_time": "2022-11-27T13:41:31.034Z"
   },
   {
    "duration": 7,
    "start_time": "2022-11-27T13:42:08.000Z"
   },
   {
    "duration": 7,
    "start_time": "2022-11-27T13:42:19.510Z"
   },
   {
    "duration": 4,
    "start_time": "2022-11-27T13:42:33.422Z"
   },
   {
    "duration": 7,
    "start_time": "2022-11-27T13:44:39.867Z"
   },
   {
    "duration": 4,
    "start_time": "2022-11-27T13:44:45.458Z"
   },
   {
    "duration": 12,
    "start_time": "2022-11-27T13:48:46.667Z"
   },
   {
    "duration": 13,
    "start_time": "2022-11-27T13:53:04.436Z"
   },
   {
    "duration": 5,
    "start_time": "2022-11-27T13:53:38.619Z"
   },
   {
    "duration": 5,
    "start_time": "2022-11-27T13:56:36.996Z"
   },
   {
    "duration": 1177,
    "start_time": "2022-11-27T13:57:00.356Z"
   },
   {
    "duration": 82,
    "start_time": "2022-11-27T13:57:01.535Z"
   },
   {
    "duration": 22,
    "start_time": "2022-11-27T13:57:01.618Z"
   },
   {
    "duration": 17,
    "start_time": "2022-11-27T13:57:01.642Z"
   },
   {
    "duration": 24,
    "start_time": "2022-11-27T13:57:01.660Z"
   },
   {
    "duration": 28,
    "start_time": "2022-11-27T13:57:01.686Z"
   },
   {
    "duration": 9,
    "start_time": "2022-11-27T13:57:01.715Z"
   },
   {
    "duration": 9,
    "start_time": "2022-11-27T13:57:01.725Z"
   },
   {
    "duration": 19,
    "start_time": "2022-11-27T13:57:01.736Z"
   },
   {
    "duration": 15,
    "start_time": "2022-11-27T13:57:01.758Z"
   },
   {
    "duration": 12,
    "start_time": "2022-11-27T13:57:01.775Z"
   },
   {
    "duration": 18,
    "start_time": "2022-11-27T13:57:01.812Z"
   },
   {
    "duration": 17,
    "start_time": "2022-11-27T13:57:01.832Z"
   },
   {
    "duration": 14,
    "start_time": "2022-11-27T13:57:01.852Z"
   },
   {
    "duration": 9,
    "start_time": "2022-11-27T13:57:01.868Z"
   },
   {
    "duration": 9,
    "start_time": "2022-11-27T13:57:01.879Z"
   },
   {
    "duration": 21,
    "start_time": "2022-11-27T13:57:01.891Z"
   },
   {
    "duration": 11,
    "start_time": "2022-11-27T13:57:01.914Z"
   },
   {
    "duration": 10,
    "start_time": "2022-11-27T13:57:01.926Z"
   },
   {
    "duration": 195,
    "start_time": "2022-11-27T13:57:01.937Z"
   },
   {
    "duration": 0,
    "start_time": "2022-11-27T13:57:02.135Z"
   },
   {
    "duration": 27,
    "start_time": "2022-11-27T13:57:38.270Z"
   },
   {
    "duration": 1168,
    "start_time": "2022-11-27T15:10:09.078Z"
   },
   {
    "duration": 77,
    "start_time": "2022-11-27T15:10:10.248Z"
   },
   {
    "duration": 19,
    "start_time": "2022-11-27T15:10:10.327Z"
   },
   {
    "duration": 16,
    "start_time": "2022-11-27T15:10:10.347Z"
   },
   {
    "duration": 15,
    "start_time": "2022-11-27T15:10:10.365Z"
   },
   {
    "duration": 5,
    "start_time": "2022-11-27T15:10:10.381Z"
   },
   {
    "duration": 26,
    "start_time": "2022-11-27T15:10:10.387Z"
   },
   {
    "duration": 6,
    "start_time": "2022-11-27T15:10:10.414Z"
   },
   {
    "duration": 9,
    "start_time": "2022-11-27T15:10:10.421Z"
   },
   {
    "duration": 8,
    "start_time": "2022-11-27T15:10:10.431Z"
   },
   {
    "duration": 11,
    "start_time": "2022-11-27T15:10:10.441Z"
   },
   {
    "duration": 5,
    "start_time": "2022-11-27T15:10:10.454Z"
   },
   {
    "duration": 16,
    "start_time": "2022-11-27T15:10:10.460Z"
   },
   {
    "duration": 34,
    "start_time": "2022-11-27T15:10:10.479Z"
   },
   {
    "duration": 9,
    "start_time": "2022-11-27T15:10:10.515Z"
   },
   {
    "duration": 14,
    "start_time": "2022-11-27T15:10:10.525Z"
   },
   {
    "duration": 8,
    "start_time": "2022-11-27T15:10:10.540Z"
   },
   {
    "duration": 10,
    "start_time": "2022-11-27T15:10:10.550Z"
   },
   {
    "duration": 8,
    "start_time": "2022-11-27T15:10:10.562Z"
   },
   {
    "duration": 148,
    "start_time": "2022-11-27T15:10:10.571Z"
   },
   {
    "duration": 0,
    "start_time": "2022-11-27T15:10:10.721Z"
   },
   {
    "duration": 25,
    "start_time": "2022-11-27T15:12:17.626Z"
   },
   {
    "duration": 24,
    "start_time": "2022-11-27T15:13:15.212Z"
   },
   {
    "duration": 6,
    "start_time": "2022-11-27T15:13:40.654Z"
   },
   {
    "duration": 4,
    "start_time": "2022-11-27T15:13:51.090Z"
   },
   {
    "duration": 11,
    "start_time": "2022-11-27T15:16:36.264Z"
   },
   {
    "duration": 11,
    "start_time": "2022-11-27T15:17:54.126Z"
   },
   {
    "duration": 5,
    "start_time": "2022-11-27T15:18:19.437Z"
   },
   {
    "duration": 10,
    "start_time": "2022-11-27T15:19:04.930Z"
   },
   {
    "duration": 5,
    "start_time": "2022-11-27T15:19:36.326Z"
   },
   {
    "duration": 511,
    "start_time": "2022-11-27T15:19:40.322Z"
   },
   {
    "duration": 843,
    "start_time": "2022-11-27T15:20:07.307Z"
   },
   {
    "duration": 577,
    "start_time": "2022-11-27T15:20:33.076Z"
   },
   {
    "duration": 12,
    "start_time": "2022-11-27T15:22:43.489Z"
   },
   {
    "duration": 1205,
    "start_time": "2022-11-27T15:23:01.535Z"
   },
   {
    "duration": 80,
    "start_time": "2022-11-27T15:23:02.742Z"
   },
   {
    "duration": 22,
    "start_time": "2022-11-27T15:23:02.824Z"
   },
   {
    "duration": 19,
    "start_time": "2022-11-27T15:23:02.848Z"
   },
   {
    "duration": 21,
    "start_time": "2022-11-27T15:23:02.869Z"
   },
   {
    "duration": 21,
    "start_time": "2022-11-27T15:23:02.892Z"
   },
   {
    "duration": 7,
    "start_time": "2022-11-27T15:23:02.916Z"
   },
   {
    "duration": 6,
    "start_time": "2022-11-27T15:23:02.925Z"
   },
   {
    "duration": 11,
    "start_time": "2022-11-27T15:23:02.933Z"
   },
   {
    "duration": 8,
    "start_time": "2022-11-27T15:23:02.948Z"
   },
   {
    "duration": 11,
    "start_time": "2022-11-27T15:23:02.958Z"
   },
   {
    "duration": 6,
    "start_time": "2022-11-27T15:23:02.971Z"
   },
   {
    "duration": 16,
    "start_time": "2022-11-27T15:23:03.013Z"
   },
   {
    "duration": 17,
    "start_time": "2022-11-27T15:23:03.031Z"
   },
   {
    "duration": 22,
    "start_time": "2022-11-27T15:23:03.050Z"
   },
   {
    "duration": 12,
    "start_time": "2022-11-27T15:23:03.073Z"
   },
   {
    "duration": 29,
    "start_time": "2022-11-27T15:23:03.087Z"
   },
   {
    "duration": 15,
    "start_time": "2022-11-27T15:23:03.117Z"
   },
   {
    "duration": 14,
    "start_time": "2022-11-27T15:23:03.134Z"
   },
   {
    "duration": 141,
    "start_time": "2022-11-27T15:23:03.150Z"
   },
   {
    "duration": 6,
    "start_time": "2022-11-27T15:23:58.273Z"
   },
   {
    "duration": 5,
    "start_time": "2022-11-27T15:25:28.906Z"
   },
   {
    "duration": 10,
    "start_time": "2022-11-27T15:26:38.570Z"
   },
   {
    "duration": 5,
    "start_time": "2022-11-27T15:26:57.292Z"
   },
   {
    "duration": 8,
    "start_time": "2022-11-27T15:29:17.977Z"
   },
   {
    "duration": 1220,
    "start_time": "2022-11-27T15:29:32.725Z"
   },
   {
    "duration": 78,
    "start_time": "2022-11-27T15:29:33.947Z"
   },
   {
    "duration": 22,
    "start_time": "2022-11-27T15:29:34.027Z"
   },
   {
    "duration": 18,
    "start_time": "2022-11-27T15:29:34.051Z"
   },
   {
    "duration": 19,
    "start_time": "2022-11-27T15:29:34.072Z"
   },
   {
    "duration": 8,
    "start_time": "2022-11-27T15:29:34.113Z"
   },
   {
    "duration": 21,
    "start_time": "2022-11-27T15:29:34.123Z"
   },
   {
    "duration": 11,
    "start_time": "2022-11-27T15:29:34.146Z"
   },
   {
    "duration": 14,
    "start_time": "2022-11-27T15:29:34.160Z"
   },
   {
    "duration": 26,
    "start_time": "2022-11-27T15:29:34.177Z"
   },
   {
    "duration": 26,
    "start_time": "2022-11-27T15:29:34.205Z"
   },
   {
    "duration": 10,
    "start_time": "2022-11-27T15:29:34.233Z"
   },
   {
    "duration": 22,
    "start_time": "2022-11-27T15:29:34.245Z"
   },
   {
    "duration": 13,
    "start_time": "2022-11-27T15:29:34.270Z"
   },
   {
    "duration": 29,
    "start_time": "2022-11-27T15:29:34.286Z"
   },
   {
    "duration": 15,
    "start_time": "2022-11-27T15:29:34.317Z"
   },
   {
    "duration": 8,
    "start_time": "2022-11-27T15:29:34.334Z"
   },
   {
    "duration": 10,
    "start_time": "2022-11-27T15:29:34.344Z"
   },
   {
    "duration": 15,
    "start_time": "2022-11-27T15:29:34.356Z"
   },
   {
    "duration": 5,
    "start_time": "2022-11-27T15:29:34.373Z"
   },
   {
    "duration": 43,
    "start_time": "2022-11-27T15:29:34.381Z"
   },
   {
    "duration": 105,
    "start_time": "2022-11-27T15:31:35.896Z"
   },
   {
    "duration": 31,
    "start_time": "2022-11-27T15:39:32.347Z"
   },
   {
    "duration": 8,
    "start_time": "2022-11-27T15:39:37.941Z"
   },
   {
    "duration": 26,
    "start_time": "2022-11-27T15:40:18.418Z"
   },
   {
    "duration": 29,
    "start_time": "2022-11-27T15:40:58.065Z"
   },
   {
    "duration": 5,
    "start_time": "2022-11-27T15:42:38.499Z"
   },
   {
    "duration": 15,
    "start_time": "2022-11-27T15:42:44.867Z"
   },
   {
    "duration": 5,
    "start_time": "2022-11-27T15:43:31.372Z"
   },
   {
    "duration": 4,
    "start_time": "2022-11-27T15:44:48.714Z"
   },
   {
    "duration": 5,
    "start_time": "2022-11-27T15:45:27.201Z"
   },
   {
    "duration": 7,
    "start_time": "2022-11-27T15:45:52.594Z"
   },
   {
    "duration": 1216,
    "start_time": "2022-11-27T15:46:37.501Z"
   },
   {
    "duration": 82,
    "start_time": "2022-11-27T15:46:38.719Z"
   },
   {
    "duration": 21,
    "start_time": "2022-11-27T15:46:38.802Z"
   },
   {
    "duration": 16,
    "start_time": "2022-11-27T15:46:38.824Z"
   },
   {
    "duration": 14,
    "start_time": "2022-11-27T15:46:38.843Z"
   },
   {
    "duration": 5,
    "start_time": "2022-11-27T15:46:38.859Z"
   },
   {
    "duration": 6,
    "start_time": "2022-11-27T15:46:38.866Z"
   },
   {
    "duration": 39,
    "start_time": "2022-11-27T15:46:38.873Z"
   },
   {
    "duration": 10,
    "start_time": "2022-11-27T15:46:38.914Z"
   },
   {
    "duration": 8,
    "start_time": "2022-11-27T15:46:38.926Z"
   },
   {
    "duration": 10,
    "start_time": "2022-11-27T15:46:38.935Z"
   },
   {
    "duration": 4,
    "start_time": "2022-11-27T15:46:38.947Z"
   },
   {
    "duration": 15,
    "start_time": "2022-11-27T15:46:38.952Z"
   },
   {
    "duration": 46,
    "start_time": "2022-11-27T15:46:38.971Z"
   },
   {
    "duration": 10,
    "start_time": "2022-11-27T15:46:39.019Z"
   },
   {
    "duration": 9,
    "start_time": "2022-11-27T15:46:39.031Z"
   },
   {
    "duration": 8,
    "start_time": "2022-11-27T15:46:39.041Z"
   },
   {
    "duration": 6,
    "start_time": "2022-11-27T15:46:39.051Z"
   },
   {
    "duration": 9,
    "start_time": "2022-11-27T15:46:39.059Z"
   },
   {
    "duration": 45,
    "start_time": "2022-11-27T15:46:39.069Z"
   },
   {
    "duration": 7,
    "start_time": "2022-11-27T15:46:39.116Z"
   },
   {
    "duration": 13,
    "start_time": "2022-11-27T15:46:39.124Z"
   },
   {
    "duration": 6,
    "start_time": "2022-11-27T15:49:11.003Z"
   },
   {
    "duration": 5,
    "start_time": "2022-11-27T15:49:37.187Z"
   },
   {
    "duration": 1233,
    "start_time": "2022-11-27T15:52:46.876Z"
   },
   {
    "duration": 80,
    "start_time": "2022-11-27T15:52:48.111Z"
   },
   {
    "duration": 22,
    "start_time": "2022-11-27T15:52:48.193Z"
   },
   {
    "duration": 18,
    "start_time": "2022-11-27T15:52:48.217Z"
   },
   {
    "duration": 17,
    "start_time": "2022-11-27T15:52:48.238Z"
   },
   {
    "duration": 8,
    "start_time": "2022-11-27T15:52:48.257Z"
   },
   {
    "duration": 47,
    "start_time": "2022-11-27T15:52:48.267Z"
   },
   {
    "duration": 6,
    "start_time": "2022-11-27T15:52:48.316Z"
   },
   {
    "duration": 11,
    "start_time": "2022-11-27T15:52:48.325Z"
   },
   {
    "duration": 9,
    "start_time": "2022-11-27T15:52:48.339Z"
   },
   {
    "duration": 17,
    "start_time": "2022-11-27T15:52:48.349Z"
   },
   {
    "duration": 4,
    "start_time": "2022-11-27T15:52:48.368Z"
   },
   {
    "duration": 7,
    "start_time": "2022-11-27T15:52:48.374Z"
   },
   {
    "duration": 14,
    "start_time": "2022-11-27T15:52:48.412Z"
   },
   {
    "duration": 11,
    "start_time": "2022-11-27T15:52:48.428Z"
   },
   {
    "duration": 13,
    "start_time": "2022-11-27T15:52:48.443Z"
   },
   {
    "duration": 15,
    "start_time": "2022-11-27T15:52:48.458Z"
   },
   {
    "duration": 162,
    "start_time": "2022-11-27T15:52:48.476Z"
   },
   {
    "duration": 0,
    "start_time": "2022-11-27T15:52:48.640Z"
   },
   {
    "duration": 0,
    "start_time": "2022-11-27T15:52:48.641Z"
   },
   {
    "duration": 0,
    "start_time": "2022-11-27T15:52:48.643Z"
   },
   {
    "duration": 1212,
    "start_time": "2022-11-27T15:55:34.311Z"
   },
   {
    "duration": 77,
    "start_time": "2022-11-27T15:55:35.607Z"
   },
   {
    "duration": 21,
    "start_time": "2022-11-27T15:55:35.687Z"
   },
   {
    "duration": 18,
    "start_time": "2022-11-27T15:55:35.709Z"
   },
   {
    "duration": 17,
    "start_time": "2022-11-27T15:55:35.729Z"
   },
   {
    "duration": 5,
    "start_time": "2022-11-27T15:55:38.439Z"
   },
   {
    "duration": 7,
    "start_time": "2022-11-27T15:55:38.447Z"
   },
   {
    "duration": 5,
    "start_time": "2022-11-27T15:55:38.456Z"
   },
   {
    "duration": 10,
    "start_time": "2022-11-27T15:55:38.463Z"
   },
   {
    "duration": 10,
    "start_time": "2022-11-27T15:55:38.476Z"
   },
   {
    "duration": 13,
    "start_time": "2022-11-27T15:55:38.812Z"
   },
   {
    "duration": 5,
    "start_time": "2022-11-27T15:55:38.828Z"
   },
   {
    "duration": 4,
    "start_time": "2022-11-27T15:55:38.835Z"
   },
   {
    "duration": 20,
    "start_time": "2022-11-27T15:55:38.841Z"
   },
   {
    "duration": 11,
    "start_time": "2022-11-27T15:55:38.863Z"
   },
   {
    "duration": 40,
    "start_time": "2022-11-27T15:55:38.876Z"
   },
   {
    "duration": 8,
    "start_time": "2022-11-27T15:55:44.373Z"
   },
   {
    "duration": 7,
    "start_time": "2022-11-27T15:55:44.383Z"
   },
   {
    "duration": 8,
    "start_time": "2022-11-27T15:55:49.567Z"
   },
   {
    "duration": 11,
    "start_time": "2022-11-27T15:55:49.578Z"
   },
   {
    "duration": 5,
    "start_time": "2022-11-27T15:55:49.591Z"
   },
   {
    "duration": 118,
    "start_time": "2022-11-27T15:57:06.509Z"
   },
   {
    "duration": 15,
    "start_time": "2022-11-27T15:57:37.152Z"
   },
   {
    "duration": 40,
    "start_time": "2022-11-27T15:59:16.780Z"
   },
   {
    "duration": 42,
    "start_time": "2022-11-27T15:59:43.128Z"
   },
   {
    "duration": 1248,
    "start_time": "2022-11-27T16:09:06.505Z"
   },
   {
    "duration": 78,
    "start_time": "2022-11-27T16:09:07.756Z"
   },
   {
    "duration": 23,
    "start_time": "2022-11-27T16:09:07.835Z"
   },
   {
    "duration": 37,
    "start_time": "2022-11-27T16:09:07.859Z"
   },
   {
    "duration": 39,
    "start_time": "2022-11-27T16:09:07.898Z"
   },
   {
    "duration": 11,
    "start_time": "2022-11-27T16:09:07.939Z"
   },
   {
    "duration": 24,
    "start_time": "2022-11-27T16:09:07.952Z"
   },
   {
    "duration": 9,
    "start_time": "2022-11-27T16:09:07.978Z"
   },
   {
    "duration": 16,
    "start_time": "2022-11-27T16:09:07.989Z"
   },
   {
    "duration": 25,
    "start_time": "2022-11-27T16:09:08.007Z"
   },
   {
    "duration": 23,
    "start_time": "2022-11-27T16:09:08.034Z"
   },
   {
    "duration": 9,
    "start_time": "2022-11-27T16:09:08.059Z"
   },
   {
    "duration": 26,
    "start_time": "2022-11-27T16:09:08.070Z"
   },
   {
    "duration": 29,
    "start_time": "2022-11-27T16:09:08.100Z"
   },
   {
    "duration": 13,
    "start_time": "2022-11-27T16:09:08.131Z"
   },
   {
    "duration": 13,
    "start_time": "2022-11-27T16:09:08.146Z"
   },
   {
    "duration": 23,
    "start_time": "2022-11-27T16:09:08.161Z"
   },
   {
    "duration": 19,
    "start_time": "2022-11-27T16:09:08.187Z"
   },
   {
    "duration": 13,
    "start_time": "2022-11-27T16:09:08.207Z"
   },
   {
    "duration": 15,
    "start_time": "2022-11-27T16:09:08.222Z"
   },
   {
    "duration": 118,
    "start_time": "2022-11-27T16:09:08.239Z"
   },
   {
    "duration": 0,
    "start_time": "2022-11-27T16:09:08.359Z"
   },
   {
    "duration": 5,
    "start_time": "2022-11-27T16:11:27.933Z"
   },
   {
    "duration": 11,
    "start_time": "2022-11-27T16:11:36.139Z"
   },
   {
    "duration": 9,
    "start_time": "2022-11-27T16:12:17.075Z"
   },
   {
    "duration": 11,
    "start_time": "2022-11-27T16:12:21.286Z"
   },
   {
    "duration": 21,
    "start_time": "2022-11-27T16:12:47.135Z"
   },
   {
    "duration": 6,
    "start_time": "2022-11-27T16:13:35.159Z"
   },
   {
    "duration": 5,
    "start_time": "2022-11-27T16:13:43.240Z"
   },
   {
    "duration": 5,
    "start_time": "2022-11-27T16:15:58.283Z"
   },
   {
    "duration": 8,
    "start_time": "2022-11-27T16:16:02.829Z"
   },
   {
    "duration": 5,
    "start_time": "2022-11-27T16:16:23.527Z"
   },
   {
    "duration": 667,
    "start_time": "2022-11-27T16:16:27.670Z"
   },
   {
    "duration": 697,
    "start_time": "2022-11-27T16:16:51.779Z"
   },
   {
    "duration": 579,
    "start_time": "2022-11-27T16:17:22.658Z"
   },
   {
    "duration": 632,
    "start_time": "2022-11-27T16:17:50.637Z"
   },
   {
    "duration": 561,
    "start_time": "2022-11-27T16:18:09.040Z"
   },
   {
    "duration": 12,
    "start_time": "2022-11-27T16:20:09.949Z"
   },
   {
    "duration": 9,
    "start_time": "2022-11-27T16:20:56.883Z"
   },
   {
    "duration": 554,
    "start_time": "2022-11-27T16:24:35.385Z"
   },
   {
    "duration": 573,
    "start_time": "2022-11-27T16:25:16.762Z"
   },
   {
    "duration": 13,
    "start_time": "2022-11-27T16:26:58.368Z"
   },
   {
    "duration": 14,
    "start_time": "2022-11-27T16:27:37.157Z"
   },
   {
    "duration": 1264,
    "start_time": "2022-11-27T16:27:49.591Z"
   },
   {
    "duration": 87,
    "start_time": "2022-11-27T16:27:50.857Z"
   },
   {
    "duration": 19,
    "start_time": "2022-11-27T16:27:50.946Z"
   },
   {
    "duration": 30,
    "start_time": "2022-11-27T16:27:50.967Z"
   },
   {
    "duration": 24,
    "start_time": "2022-11-27T16:27:51.000Z"
   },
   {
    "duration": 10,
    "start_time": "2022-11-27T16:27:51.026Z"
   },
   {
    "duration": 8,
    "start_time": "2022-11-27T16:27:51.037Z"
   },
   {
    "duration": 6,
    "start_time": "2022-11-27T16:27:51.046Z"
   },
   {
    "duration": 19,
    "start_time": "2022-11-27T16:27:51.053Z"
   },
   {
    "duration": 8,
    "start_time": "2022-11-27T16:27:51.074Z"
   },
   {
    "duration": 31,
    "start_time": "2022-11-27T16:27:51.084Z"
   },
   {
    "duration": 16,
    "start_time": "2022-11-27T16:27:51.118Z"
   },
   {
    "duration": 5,
    "start_time": "2022-11-27T16:27:51.136Z"
   },
   {
    "duration": 13,
    "start_time": "2022-11-27T16:27:51.143Z"
   },
   {
    "duration": 12,
    "start_time": "2022-11-27T16:27:51.157Z"
   },
   {
    "duration": 12,
    "start_time": "2022-11-27T16:27:51.171Z"
   },
   {
    "duration": 36,
    "start_time": "2022-11-27T16:27:51.185Z"
   },
   {
    "duration": 9,
    "start_time": "2022-11-27T16:27:51.224Z"
   },
   {
    "duration": 15,
    "start_time": "2022-11-27T16:27:51.235Z"
   },
   {
    "duration": 12,
    "start_time": "2022-11-27T16:27:51.252Z"
   },
   {
    "duration": 126,
    "start_time": "2022-11-27T16:27:51.266Z"
   },
   {
    "duration": 0,
    "start_time": "2022-11-27T16:27:51.395Z"
   },
   {
    "duration": 19,
    "start_time": "2022-11-27T16:28:17.328Z"
   },
   {
    "duration": 12,
    "start_time": "2022-11-27T16:28:59.494Z"
   },
   {
    "duration": 16,
    "start_time": "2022-11-27T16:29:26.823Z"
   },
   {
    "duration": 17,
    "start_time": "2022-11-27T16:29:31.754Z"
   },
   {
    "duration": 14,
    "start_time": "2022-11-27T16:31:23.628Z"
   },
   {
    "duration": 12,
    "start_time": "2022-11-27T16:32:21.628Z"
   },
   {
    "duration": 28,
    "start_time": "2022-11-27T16:34:12.860Z"
   },
   {
    "duration": 31,
    "start_time": "2022-11-27T16:34:25.830Z"
   },
   {
    "duration": 28,
    "start_time": "2022-11-27T16:34:47.664Z"
   },
   {
    "duration": 29,
    "start_time": "2022-11-27T16:35:01.952Z"
   },
   {
    "duration": 27,
    "start_time": "2022-11-27T16:35:36.840Z"
   },
   {
    "duration": 7,
    "start_time": "2022-11-27T16:35:55.168Z"
   },
   {
    "duration": 14,
    "start_time": "2022-11-27T16:36:17.882Z"
   },
   {
    "duration": 48,
    "start_time": "2022-11-27T16:40:14.749Z"
   },
   {
    "duration": 1471,
    "start_time": "2022-11-29T15:28:21.233Z"
   },
   {
    "duration": 195,
    "start_time": "2022-11-29T15:28:22.706Z"
   },
   {
    "duration": 36,
    "start_time": "2022-11-29T15:28:22.903Z"
   },
   {
    "duration": 16,
    "start_time": "2022-11-29T15:28:22.941Z"
   },
   {
    "duration": 15,
    "start_time": "2022-11-29T15:28:22.960Z"
   },
   {
    "duration": 6,
    "start_time": "2022-11-29T15:28:22.977Z"
   },
   {
    "duration": 6,
    "start_time": "2022-11-29T15:28:22.985Z"
   },
   {
    "duration": 26,
    "start_time": "2022-11-29T15:28:22.993Z"
   },
   {
    "duration": 16,
    "start_time": "2022-11-29T15:28:23.021Z"
   },
   {
    "duration": 9,
    "start_time": "2022-11-29T15:28:23.039Z"
   },
   {
    "duration": 11,
    "start_time": "2022-11-29T15:28:23.050Z"
   },
   {
    "duration": 14,
    "start_time": "2022-11-29T15:28:23.062Z"
   },
   {
    "duration": 10,
    "start_time": "2022-11-29T15:28:23.077Z"
   },
   {
    "duration": 23,
    "start_time": "2022-11-29T15:28:23.090Z"
   },
   {
    "duration": 19,
    "start_time": "2022-11-29T15:28:23.115Z"
   },
   {
    "duration": 12,
    "start_time": "2022-11-29T15:28:23.136Z"
   },
   {
    "duration": 19,
    "start_time": "2022-11-29T15:28:23.150Z"
   },
   {
    "duration": 11,
    "start_time": "2022-11-29T15:28:23.171Z"
   },
   {
    "duration": 9,
    "start_time": "2022-11-29T15:28:23.184Z"
   },
   {
    "duration": 27,
    "start_time": "2022-11-29T15:28:23.195Z"
   },
   {
    "duration": 29,
    "start_time": "2022-11-29T15:28:23.223Z"
   },
   {
    "duration": 8,
    "start_time": "2022-11-29T15:28:23.254Z"
   },
   {
    "duration": 99,
    "start_time": "2022-11-29T15:28:23.264Z"
   },
   {
    "duration": 16,
    "start_time": "2022-11-29T15:29:44.666Z"
   },
   {
    "duration": 228,
    "start_time": "2022-11-29T15:32:20.176Z"
   },
   {
    "duration": 122,
    "start_time": "2022-11-29T15:35:32.331Z"
   },
   {
    "duration": 11,
    "start_time": "2022-11-29T15:36:30.931Z"
   },
   {
    "duration": 11,
    "start_time": "2022-11-29T15:36:48.450Z"
   },
   {
    "duration": 240,
    "start_time": "2022-11-29T15:37:58.154Z"
   },
   {
    "duration": 204,
    "start_time": "2022-11-29T15:39:42.113Z"
   },
   {
    "duration": 216,
    "start_time": "2022-11-29T15:43:44.334Z"
   },
   {
    "duration": 222,
    "start_time": "2022-11-29T15:51:29.480Z"
   },
   {
    "duration": 13,
    "start_time": "2022-11-29T15:56:18.265Z"
   },
   {
    "duration": 18,
    "start_time": "2022-11-29T16:04:14.195Z"
   },
   {
    "duration": 338,
    "start_time": "2022-11-29T16:05:47.044Z"
   },
   {
    "duration": 343,
    "start_time": "2022-11-29T16:07:13.310Z"
   },
   {
    "duration": 176,
    "start_time": "2022-11-29T16:22:18.056Z"
   },
   {
    "duration": 253,
    "start_time": "2022-11-29T16:28:53.985Z"
   },
   {
    "duration": 182,
    "start_time": "2022-11-29T16:31:29.932Z"
   },
   {
    "duration": 76,
    "start_time": "2022-11-29T16:43:59.687Z"
   },
   {
    "duration": 74,
    "start_time": "2022-11-29T16:45:07.870Z"
   },
   {
    "duration": 1377,
    "start_time": "2022-11-29T16:45:44.956Z"
   },
   {
    "duration": 312,
    "start_time": "2022-11-29T16:46:02.932Z"
   },
   {
    "duration": 322,
    "start_time": "2022-11-29T16:51:35.945Z"
   },
   {
    "duration": 343,
    "start_time": "2022-11-29T17:06:53.887Z"
   },
   {
    "duration": 315,
    "start_time": "2022-11-29T17:07:36.243Z"
   },
   {
    "duration": 317,
    "start_time": "2022-11-29T17:08:09.523Z"
   },
   {
    "duration": 326,
    "start_time": "2022-11-29T17:08:24.577Z"
   },
   {
    "duration": 10,
    "start_time": "2022-11-29T17:21:57.914Z"
   },
   {
    "duration": 14,
    "start_time": "2022-11-29T17:22:29.027Z"
   },
   {
    "duration": 12,
    "start_time": "2022-11-29T17:22:38.798Z"
   },
   {
    "duration": 117,
    "start_time": "2022-11-29T17:23:50.483Z"
   },
   {
    "duration": 151,
    "start_time": "2022-11-29T17:25:37.951Z"
   },
   {
    "duration": 70,
    "start_time": "2022-11-29T17:38:47.344Z"
   },
   {
    "duration": 84,
    "start_time": "2022-11-29T17:40:10.453Z"
   },
   {
    "duration": 7,
    "start_time": "2022-11-29T17:42:20.275Z"
   },
   {
    "duration": 5,
    "start_time": "2022-11-29T17:44:37.840Z"
   },
   {
    "duration": 74,
    "start_time": "2022-11-29T17:45:52.814Z"
   },
   {
    "duration": 73,
    "start_time": "2022-11-29T17:48:11.048Z"
   },
   {
    "duration": 11,
    "start_time": "2022-11-29T18:03:14.736Z"
   },
   {
    "duration": 11,
    "start_time": "2022-11-29T18:04:49.228Z"
   },
   {
    "duration": 167,
    "start_time": "2022-11-29T18:10:51.904Z"
   },
   {
    "duration": 162,
    "start_time": "2022-11-29T18:11:41.449Z"
   },
   {
    "duration": 811,
    "start_time": "2022-11-29T18:13:35.482Z"
   },
   {
    "duration": 156,
    "start_time": "2022-11-29T18:13:56.262Z"
   },
   {
    "duration": 5,
    "start_time": "2022-11-29T18:16:53.669Z"
   },
   {
    "duration": 1926,
    "start_time": "2022-12-01T16:27:22.691Z"
   },
   {
    "duration": 377,
    "start_time": "2022-12-01T16:27:24.621Z"
   },
   {
    "duration": 32,
    "start_time": "2022-12-01T16:27:25.001Z"
   },
   {
    "duration": 68,
    "start_time": "2022-12-01T16:27:25.036Z"
   },
   {
    "duration": 31,
    "start_time": "2022-12-01T16:27:25.109Z"
   },
   {
    "duration": 43,
    "start_time": "2022-12-01T16:27:25.143Z"
   },
   {
    "duration": 28,
    "start_time": "2022-12-01T16:27:25.189Z"
   },
   {
    "duration": 31,
    "start_time": "2022-12-01T16:27:25.220Z"
   },
   {
    "duration": 27,
    "start_time": "2022-12-01T16:27:25.254Z"
   },
   {
    "duration": 87,
    "start_time": "2022-12-01T16:27:25.287Z"
   },
   {
    "duration": 63,
    "start_time": "2022-12-01T16:27:25.376Z"
   },
   {
    "duration": 16,
    "start_time": "2022-12-01T16:27:25.442Z"
   },
   {
    "duration": 34,
    "start_time": "2022-12-01T16:27:25.460Z"
   },
   {
    "duration": 36,
    "start_time": "2022-12-01T16:27:25.497Z"
   },
   {
    "duration": 34,
    "start_time": "2022-12-01T16:27:25.535Z"
   },
   {
    "duration": 54,
    "start_time": "2022-12-01T16:27:25.570Z"
   },
   {
    "duration": 48,
    "start_time": "2022-12-01T16:27:25.627Z"
   },
   {
    "duration": 55,
    "start_time": "2022-12-01T16:27:25.678Z"
   },
   {
    "duration": 25,
    "start_time": "2022-12-01T16:27:25.735Z"
   },
   {
    "duration": 51,
    "start_time": "2022-12-01T16:27:25.763Z"
   },
   {
    "duration": 43,
    "start_time": "2022-12-01T16:27:25.816Z"
   },
   {
    "duration": 10,
    "start_time": "2022-12-01T16:27:25.862Z"
   },
   {
    "duration": 313,
    "start_time": "2022-12-01T16:27:25.875Z"
   },
   {
    "duration": 202,
    "start_time": "2022-12-01T16:27:26.190Z"
   },
   {
    "duration": 25,
    "start_time": "2022-12-01T16:27:26.395Z"
   },
   {
    "duration": 545,
    "start_time": "2022-12-01T16:27:26.423Z"
   },
   {
    "duration": 390,
    "start_time": "2022-12-01T16:27:26.970Z"
   },
   {
    "duration": 447,
    "start_time": "2022-12-01T16:27:27.366Z"
   },
   {
    "duration": 300,
    "start_time": "2022-12-01T16:27:27.815Z"
   },
   {
    "duration": 457,
    "start_time": "2022-12-01T16:27:28.117Z"
   },
   {
    "duration": 60,
    "start_time": "2022-12-01T16:27:28.576Z"
   },
   {
    "duration": 0,
    "start_time": "2022-12-01T16:27:28.639Z"
   },
   {
    "duration": 0,
    "start_time": "2022-12-01T16:27:28.642Z"
   },
   {
    "duration": 0,
    "start_time": "2022-12-01T16:27:28.643Z"
   },
   {
    "duration": 0,
    "start_time": "2022-12-01T16:27:28.644Z"
   },
   {
    "duration": 0,
    "start_time": "2022-12-01T16:27:28.657Z"
   },
   {
    "duration": 0,
    "start_time": "2022-12-01T16:27:28.658Z"
   },
   {
    "duration": 1170,
    "start_time": "2022-12-01T16:28:01.261Z"
   },
   {
    "duration": 92,
    "start_time": "2022-12-01T16:28:02.434Z"
   },
   {
    "duration": 22,
    "start_time": "2022-12-01T16:28:02.528Z"
   },
   {
    "duration": 38,
    "start_time": "2022-12-01T16:28:02.552Z"
   },
   {
    "duration": 31,
    "start_time": "2022-12-01T16:28:02.592Z"
   },
   {
    "duration": 12,
    "start_time": "2022-12-01T16:28:02.625Z"
   },
   {
    "duration": 41,
    "start_time": "2022-12-01T16:28:02.639Z"
   },
   {
    "duration": 31,
    "start_time": "2022-12-01T16:28:02.682Z"
   },
   {
    "duration": 27,
    "start_time": "2022-12-01T16:28:02.716Z"
   },
   {
    "duration": 21,
    "start_time": "2022-12-01T16:28:02.745Z"
   },
   {
    "duration": 33,
    "start_time": "2022-12-01T16:28:02.768Z"
   },
   {
    "duration": 19,
    "start_time": "2022-12-01T16:28:02.804Z"
   },
   {
    "duration": 21,
    "start_time": "2022-12-01T16:28:02.825Z"
   },
   {
    "duration": 28,
    "start_time": "2022-12-01T16:28:02.851Z"
   },
   {
    "duration": 34,
    "start_time": "2022-12-01T16:28:02.881Z"
   },
   {
    "duration": 32,
    "start_time": "2022-12-01T16:28:02.917Z"
   },
   {
    "duration": 31,
    "start_time": "2022-12-01T16:28:02.952Z"
   },
   {
    "duration": 31,
    "start_time": "2022-12-01T16:28:02.985Z"
   },
   {
    "duration": 41,
    "start_time": "2022-12-01T16:28:03.018Z"
   },
   {
    "duration": 45,
    "start_time": "2022-12-01T16:28:03.061Z"
   },
   {
    "duration": 23,
    "start_time": "2022-12-01T16:28:03.108Z"
   },
   {
    "duration": 37,
    "start_time": "2022-12-01T16:28:03.132Z"
   },
   {
    "duration": 221,
    "start_time": "2022-12-01T16:28:03.171Z"
   },
   {
    "duration": 138,
    "start_time": "2022-12-01T16:28:03.394Z"
   },
   {
    "duration": 21,
    "start_time": "2022-12-01T16:28:03.534Z"
   },
   {
    "duration": 367,
    "start_time": "2022-12-01T16:28:03.557Z"
   },
   {
    "duration": 273,
    "start_time": "2022-12-01T16:28:03.926Z"
   },
   {
    "duration": 371,
    "start_time": "2022-12-01T16:28:04.201Z"
   },
   {
    "duration": 243,
    "start_time": "2022-12-01T16:28:04.576Z"
   },
   {
    "duration": 361,
    "start_time": "2022-12-01T16:28:04.822Z"
   },
   {
    "duration": 26,
    "start_time": "2022-12-01T16:28:05.185Z"
   },
   {
    "duration": 228,
    "start_time": "2022-12-01T16:28:05.213Z"
   },
   {
    "duration": 6,
    "start_time": "2022-12-01T16:28:05.443Z"
   },
   {
    "duration": 22,
    "start_time": "2022-12-01T16:28:05.451Z"
   },
   {
    "duration": 195,
    "start_time": "2022-12-01T16:28:05.475Z"
   },
   {
    "duration": 6,
    "start_time": "2022-12-01T16:28:05.672Z"
   },
   {
    "duration": 119,
    "start_time": "2022-12-01T16:59:53.145Z"
   },
   {
    "duration": 159,
    "start_time": "2022-12-01T17:02:05.479Z"
   },
   {
    "duration": 198,
    "start_time": "2022-12-01T17:59:20.726Z"
   },
   {
    "duration": 10,
    "start_time": "2022-12-01T18:05:26.372Z"
   },
   {
    "duration": 9,
    "start_time": "2022-12-01T18:06:04.694Z"
   },
   {
    "duration": 108,
    "start_time": "2022-12-01T18:08:27.920Z"
   },
   {
    "duration": 109,
    "start_time": "2022-12-01T18:09:13.658Z"
   },
   {
    "duration": 256,
    "start_time": "2022-12-01T18:11:00.996Z"
   },
   {
    "duration": 181,
    "start_time": "2022-12-01T18:13:01.632Z"
   },
   {
    "duration": 7,
    "start_time": "2022-12-01T18:13:10.385Z"
   },
   {
    "duration": 17,
    "start_time": "2022-12-01T18:24:22.755Z"
   },
   {
    "duration": 1396,
    "start_time": "2022-12-01T18:27:09.187Z"
   },
   {
    "duration": 88,
    "start_time": "2022-12-01T18:27:10.585Z"
   },
   {
    "duration": 31,
    "start_time": "2022-12-01T18:27:10.679Z"
   },
   {
    "duration": 42,
    "start_time": "2022-12-01T18:27:10.715Z"
   },
   {
    "duration": 20,
    "start_time": "2022-12-01T18:27:10.760Z"
   },
   {
    "duration": 28,
    "start_time": "2022-12-01T18:27:10.782Z"
   },
   {
    "duration": 27,
    "start_time": "2022-12-01T18:27:10.814Z"
   },
   {
    "duration": 29,
    "start_time": "2022-12-01T18:27:10.844Z"
   },
   {
    "duration": 19,
    "start_time": "2022-12-01T18:27:10.875Z"
   },
   {
    "duration": 42,
    "start_time": "2022-12-01T18:27:10.898Z"
   },
   {
    "duration": 31,
    "start_time": "2022-12-01T18:27:10.943Z"
   },
   {
    "duration": 17,
    "start_time": "2022-12-01T18:27:10.977Z"
   },
   {
    "duration": 13,
    "start_time": "2022-12-01T18:27:10.997Z"
   },
   {
    "duration": 53,
    "start_time": "2022-12-01T18:27:11.015Z"
   },
   {
    "duration": 20,
    "start_time": "2022-12-01T18:27:11.070Z"
   },
   {
    "duration": 59,
    "start_time": "2022-12-01T18:27:11.092Z"
   },
   {
    "duration": 23,
    "start_time": "2022-12-01T18:27:11.154Z"
   },
   {
    "duration": 19,
    "start_time": "2022-12-01T18:27:11.179Z"
   },
   {
    "duration": 31,
    "start_time": "2022-12-01T18:27:11.200Z"
   },
   {
    "duration": 39,
    "start_time": "2022-12-01T18:27:11.237Z"
   },
   {
    "duration": 51,
    "start_time": "2022-12-01T18:27:11.278Z"
   },
   {
    "duration": 32,
    "start_time": "2022-12-01T18:27:11.332Z"
   },
   {
    "duration": 260,
    "start_time": "2022-12-01T18:27:11.366Z"
   },
   {
    "duration": 152,
    "start_time": "2022-12-01T18:27:11.627Z"
   },
   {
    "duration": 52,
    "start_time": "2022-12-01T18:27:11.781Z"
   },
   {
    "duration": 348,
    "start_time": "2022-12-01T18:27:11.836Z"
   },
   {
    "duration": 308,
    "start_time": "2022-12-01T18:27:12.186Z"
   },
   {
    "duration": 408,
    "start_time": "2022-12-01T18:27:12.500Z"
   },
   {
    "duration": 225,
    "start_time": "2022-12-01T18:27:12.925Z"
   },
   {
    "duration": 334,
    "start_time": "2022-12-01T18:27:13.153Z"
   },
   {
    "duration": 24,
    "start_time": "2022-12-01T18:27:13.489Z"
   },
   {
    "duration": 190,
    "start_time": "2022-12-01T18:27:13.518Z"
   },
   {
    "duration": 15,
    "start_time": "2022-12-01T18:27:13.710Z"
   },
   {
    "duration": 24,
    "start_time": "2022-12-01T18:27:13.733Z"
   },
   {
    "duration": 204,
    "start_time": "2022-12-01T18:27:13.759Z"
   },
   {
    "duration": 6,
    "start_time": "2022-12-01T18:27:13.966Z"
   },
   {
    "duration": 87,
    "start_time": "2022-12-01T18:27:13.975Z"
   },
   {
    "duration": 0,
    "start_time": "2022-12-01T18:27:14.064Z"
   },
   {
    "duration": 0,
    "start_time": "2022-12-01T18:27:14.066Z"
   },
   {
    "duration": 0,
    "start_time": "2022-12-01T18:27:14.068Z"
   },
   {
    "duration": 0,
    "start_time": "2022-12-01T18:27:14.070Z"
   },
   {
    "duration": 0,
    "start_time": "2022-12-01T18:27:14.071Z"
   },
   {
    "duration": 0,
    "start_time": "2022-12-01T18:27:14.072Z"
   },
   {
    "duration": 1282,
    "start_time": "2022-12-01T18:27:50.255Z"
   },
   {
    "duration": 101,
    "start_time": "2022-12-01T18:27:51.548Z"
   },
   {
    "duration": 29,
    "start_time": "2022-12-01T18:27:51.653Z"
   },
   {
    "duration": 20,
    "start_time": "2022-12-01T18:27:51.684Z"
   },
   {
    "duration": 27,
    "start_time": "2022-12-01T18:27:51.707Z"
   },
   {
    "duration": 13,
    "start_time": "2022-12-01T18:27:51.736Z"
   },
   {
    "duration": 10,
    "start_time": "2022-12-01T18:27:51.751Z"
   },
   {
    "duration": 6,
    "start_time": "2022-12-01T18:27:51.763Z"
   },
   {
    "duration": 13,
    "start_time": "2022-12-01T18:27:51.771Z"
   },
   {
    "duration": 36,
    "start_time": "2022-12-01T18:27:51.787Z"
   },
   {
    "duration": 27,
    "start_time": "2022-12-01T18:27:51.828Z"
   },
   {
    "duration": 9,
    "start_time": "2022-12-01T18:27:51.857Z"
   },
   {
    "duration": 8,
    "start_time": "2022-12-01T18:27:51.868Z"
   },
   {
    "duration": 18,
    "start_time": "2022-12-01T18:27:51.879Z"
   },
   {
    "duration": 31,
    "start_time": "2022-12-01T18:27:51.900Z"
   },
   {
    "duration": 15,
    "start_time": "2022-12-01T18:27:51.932Z"
   },
   {
    "duration": 14,
    "start_time": "2022-12-01T18:27:51.949Z"
   },
   {
    "duration": 11,
    "start_time": "2022-12-01T18:27:51.965Z"
   },
   {
    "duration": 37,
    "start_time": "2022-12-01T18:27:51.979Z"
   },
   {
    "duration": 21,
    "start_time": "2022-12-01T18:27:52.020Z"
   },
   {
    "duration": 47,
    "start_time": "2022-12-01T18:27:52.044Z"
   },
   {
    "duration": 32,
    "start_time": "2022-12-01T18:27:52.093Z"
   },
   {
    "duration": 235,
    "start_time": "2022-12-01T18:27:52.134Z"
   },
   {
    "duration": 163,
    "start_time": "2022-12-01T18:27:52.371Z"
   },
   {
    "duration": 21,
    "start_time": "2022-12-01T18:27:52.536Z"
   },
   {
    "duration": 400,
    "start_time": "2022-12-01T18:27:52.558Z"
   },
   {
    "duration": 288,
    "start_time": "2022-12-01T18:27:52.960Z"
   },
   {
    "duration": 336,
    "start_time": "2022-12-01T18:27:53.251Z"
   },
   {
    "duration": 304,
    "start_time": "2022-12-01T18:27:53.589Z"
   },
   {
    "duration": 398,
    "start_time": "2022-12-01T18:27:53.896Z"
   },
   {
    "duration": 20,
    "start_time": "2022-12-01T18:27:54.297Z"
   },
   {
    "duration": 252,
    "start_time": "2022-12-01T18:27:54.320Z"
   },
   {
    "duration": 6,
    "start_time": "2022-12-01T18:27:54.574Z"
   },
   {
    "duration": 39,
    "start_time": "2022-12-01T18:27:54.582Z"
   },
   {
    "duration": 208,
    "start_time": "2022-12-01T18:27:54.623Z"
   },
   {
    "duration": 8,
    "start_time": "2022-12-01T18:27:54.836Z"
   },
   {
    "duration": 28,
    "start_time": "2022-12-01T18:27:54.847Z"
   },
   {
    "duration": 22,
    "start_time": "2022-12-01T18:27:54.877Z"
   },
   {
    "duration": 351,
    "start_time": "2022-12-01T18:27:54.901Z"
   },
   {
    "duration": 180,
    "start_time": "2022-12-01T18:27:55.254Z"
   },
   {
    "duration": 7,
    "start_time": "2022-12-01T18:27:55.439Z"
   },
   {
    "duration": 137,
    "start_time": "2022-12-01T18:27:55.448Z"
   },
   {
    "duration": 44,
    "start_time": "2022-12-01T18:29:07.388Z"
   },
   {
    "duration": 79,
    "start_time": "2022-12-06T10:52:36.116Z"
   },
   {
    "duration": 1380,
    "start_time": "2022-12-06T11:00:59.938Z"
   },
   {
    "duration": 233,
    "start_time": "2022-12-06T11:01:01.320Z"
   },
   {
    "duration": 21,
    "start_time": "2022-12-06T11:01:01.554Z"
   },
   {
    "duration": 16,
    "start_time": "2022-12-06T11:01:01.576Z"
   },
   {
    "duration": 28,
    "start_time": "2022-12-06T11:01:01.594Z"
   },
   {
    "duration": 12,
    "start_time": "2022-12-06T11:01:01.623Z"
   },
   {
    "duration": 11,
    "start_time": "2022-12-06T11:01:01.637Z"
   },
   {
    "duration": 15,
    "start_time": "2022-12-06T11:01:01.649Z"
   },
   {
    "duration": 25,
    "start_time": "2022-12-06T11:01:01.666Z"
   },
   {
    "duration": 12,
    "start_time": "2022-12-06T11:01:01.692Z"
   },
   {
    "duration": 11,
    "start_time": "2022-12-06T11:01:01.706Z"
   },
   {
    "duration": 6,
    "start_time": "2022-12-06T11:01:01.719Z"
   },
   {
    "duration": 7,
    "start_time": "2022-12-06T11:01:01.727Z"
   },
   {
    "duration": 19,
    "start_time": "2022-12-06T11:01:01.737Z"
   },
   {
    "duration": 22,
    "start_time": "2022-12-06T11:01:01.758Z"
   },
   {
    "duration": 40,
    "start_time": "2022-12-06T11:01:01.781Z"
   },
   {
    "duration": 15,
    "start_time": "2022-12-06T11:01:01.823Z"
   },
   {
    "duration": 25,
    "start_time": "2022-12-06T11:01:01.840Z"
   },
   {
    "duration": 32,
    "start_time": "2022-12-06T11:01:01.867Z"
   },
   {
    "duration": 15,
    "start_time": "2022-12-06T11:01:01.900Z"
   },
   {
    "duration": 13,
    "start_time": "2022-12-06T11:01:01.917Z"
   },
   {
    "duration": 9,
    "start_time": "2022-12-06T11:01:01.932Z"
   },
   {
    "duration": 192,
    "start_time": "2022-12-06T11:01:01.943Z"
   },
   {
    "duration": 128,
    "start_time": "2022-12-06T11:01:02.137Z"
   },
   {
    "duration": 12,
    "start_time": "2022-12-06T11:01:02.267Z"
   },
   {
    "duration": 319,
    "start_time": "2022-12-06T11:01:02.281Z"
   },
   {
    "duration": 229,
    "start_time": "2022-12-06T11:01:02.602Z"
   },
   {
    "duration": 357,
    "start_time": "2022-12-06T11:01:02.833Z"
   },
   {
    "duration": 208,
    "start_time": "2022-12-06T11:01:03.192Z"
   },
   {
    "duration": 341,
    "start_time": "2022-12-06T11:01:03.402Z"
   },
   {
    "duration": 12,
    "start_time": "2022-12-06T11:01:03.745Z"
   },
   {
    "duration": 172,
    "start_time": "2022-12-06T11:01:03.758Z"
   },
   {
    "duration": 4,
    "start_time": "2022-12-06T11:01:03.932Z"
   },
   {
    "duration": 14,
    "start_time": "2022-12-06T11:01:03.938Z"
   },
   {
    "duration": 181,
    "start_time": "2022-12-06T11:01:03.954Z"
   },
   {
    "duration": 4,
    "start_time": "2022-12-06T11:01:04.137Z"
   },
   {
    "duration": 11,
    "start_time": "2022-12-06T11:01:04.143Z"
   },
   {
    "duration": 12,
    "start_time": "2022-12-06T11:01:04.156Z"
   },
   {
    "duration": 298,
    "start_time": "2022-12-06T11:01:04.170Z"
   },
   {
    "duration": 152,
    "start_time": "2022-12-06T11:01:04.470Z"
   },
   {
    "duration": 7,
    "start_time": "2022-12-06T11:01:04.626Z"
   },
   {
    "duration": 37,
    "start_time": "2022-12-06T11:01:04.635Z"
   },
   {
    "duration": 1196,
    "start_time": "2022-12-06T11:18:43.554Z"
   },
   {
    "duration": 77,
    "start_time": "2022-12-06T11:18:44.752Z"
   },
   {
    "duration": 21,
    "start_time": "2022-12-06T11:18:44.831Z"
   },
   {
    "duration": 16,
    "start_time": "2022-12-06T11:18:44.854Z"
   },
   {
    "duration": 17,
    "start_time": "2022-12-06T11:18:44.872Z"
   },
   {
    "duration": 24,
    "start_time": "2022-12-06T11:18:44.891Z"
   },
   {
    "duration": 8,
    "start_time": "2022-12-06T11:18:44.917Z"
   },
   {
    "duration": 5,
    "start_time": "2022-12-06T11:18:44.927Z"
   },
   {
    "duration": 17,
    "start_time": "2022-12-06T11:18:44.934Z"
   },
   {
    "duration": 14,
    "start_time": "2022-12-06T11:18:44.953Z"
   },
   {
    "duration": 17,
    "start_time": "2022-12-06T11:18:44.969Z"
   },
   {
    "duration": 4,
    "start_time": "2022-12-06T11:18:45.012Z"
   },
   {
    "duration": 6,
    "start_time": "2022-12-06T11:18:45.018Z"
   },
   {
    "duration": 16,
    "start_time": "2022-12-06T11:18:45.027Z"
   },
   {
    "duration": 13,
    "start_time": "2022-12-06T11:18:45.045Z"
   },
   {
    "duration": 17,
    "start_time": "2022-12-06T11:18:45.059Z"
   },
   {
    "duration": 39,
    "start_time": "2022-12-06T11:18:45.078Z"
   },
   {
    "duration": 29,
    "start_time": "2022-12-06T11:18:45.118Z"
   },
   {
    "duration": 17,
    "start_time": "2022-12-06T11:18:45.148Z"
   },
   {
    "duration": 33,
    "start_time": "2022-12-06T11:18:45.167Z"
   },
   {
    "duration": 18,
    "start_time": "2022-12-06T11:18:45.203Z"
   },
   {
    "duration": 38,
    "start_time": "2022-12-06T11:18:45.222Z"
   },
   {
    "duration": 207,
    "start_time": "2022-12-06T11:18:45.261Z"
   },
   {
    "duration": 124,
    "start_time": "2022-12-06T11:18:45.470Z"
   },
   {
    "duration": 26,
    "start_time": "2022-12-06T11:18:45.595Z"
   },
   {
    "duration": 330,
    "start_time": "2022-12-06T11:18:45.623Z"
   },
   {
    "duration": 317,
    "start_time": "2022-12-06T11:18:45.955Z"
   },
   {
    "duration": 381,
    "start_time": "2022-12-06T11:18:46.274Z"
   },
   {
    "duration": 231,
    "start_time": "2022-12-06T11:18:46.657Z"
   },
   {
    "duration": 369,
    "start_time": "2022-12-06T11:18:46.890Z"
   },
   {
    "duration": 14,
    "start_time": "2022-12-06T11:18:47.261Z"
   },
   {
    "duration": 203,
    "start_time": "2022-12-06T11:18:47.277Z"
   },
   {
    "duration": 6,
    "start_time": "2022-12-06T11:18:47.481Z"
   },
   {
    "duration": 40,
    "start_time": "2022-12-06T11:18:47.489Z"
   },
   {
    "duration": 186,
    "start_time": "2022-12-06T11:18:47.531Z"
   },
   {
    "duration": 5,
    "start_time": "2022-12-06T11:18:47.719Z"
   },
   {
    "duration": 27,
    "start_time": "2022-12-06T11:18:47.726Z"
   },
   {
    "duration": 16,
    "start_time": "2022-12-06T11:18:47.755Z"
   },
   {
    "duration": 313,
    "start_time": "2022-12-06T11:18:47.773Z"
   },
   {
    "duration": 163,
    "start_time": "2022-12-06T11:18:48.087Z"
   },
   {
    "duration": 8,
    "start_time": "2022-12-06T11:18:48.254Z"
   },
   {
    "duration": 100,
    "start_time": "2022-12-06T11:18:48.264Z"
   },
   {
    "duration": 0,
    "start_time": "2022-12-06T11:18:48.366Z"
   },
   {
    "duration": 0,
    "start_time": "2022-12-06T11:18:48.367Z"
   },
   {
    "duration": 108,
    "start_time": "2022-12-06T11:20:15.722Z"
   },
   {
    "duration": 12,
    "start_time": "2022-12-06T11:20:41.822Z"
   },
   {
    "duration": 1233,
    "start_time": "2022-12-06T11:43:33.390Z"
   },
   {
    "duration": 1223,
    "start_time": "2022-12-06T11:44:15.308Z"
   },
   {
    "duration": 1083,
    "start_time": "2022-12-06T11:45:07.716Z"
   },
   {
    "duration": 86,
    "start_time": "2022-12-06T11:45:08.801Z"
   },
   {
    "duration": 18,
    "start_time": "2022-12-06T11:45:08.889Z"
   },
   {
    "duration": 25,
    "start_time": "2022-12-06T11:45:08.909Z"
   },
   {
    "duration": 16,
    "start_time": "2022-12-06T11:45:08.937Z"
   },
   {
    "duration": 7,
    "start_time": "2022-12-06T11:45:08.955Z"
   },
   {
    "duration": 7,
    "start_time": "2022-12-06T11:45:08.964Z"
   },
   {
    "duration": 4,
    "start_time": "2022-12-06T11:45:08.973Z"
   },
   {
    "duration": 10,
    "start_time": "2022-12-06T11:45:08.979Z"
   },
   {
    "duration": 15,
    "start_time": "2022-12-06T11:45:09.020Z"
   },
   {
    "duration": 10,
    "start_time": "2022-12-06T11:45:09.037Z"
   },
   {
    "duration": 4,
    "start_time": "2022-12-06T11:45:09.049Z"
   },
   {
    "duration": 6,
    "start_time": "2022-12-06T11:45:09.055Z"
   },
   {
    "duration": 14,
    "start_time": "2022-12-06T11:45:09.063Z"
   },
   {
    "duration": 11,
    "start_time": "2022-12-06T11:45:09.078Z"
   },
   {
    "duration": 11,
    "start_time": "2022-12-06T11:45:09.091Z"
   },
   {
    "duration": 12,
    "start_time": "2022-12-06T11:45:09.115Z"
   },
   {
    "duration": 10,
    "start_time": "2022-12-06T11:45:09.129Z"
   },
   {
    "duration": 6,
    "start_time": "2022-12-06T11:45:09.141Z"
   },
   {
    "duration": 10,
    "start_time": "2022-12-06T11:45:09.149Z"
   },
   {
    "duration": 15,
    "start_time": "2022-12-06T11:45:09.160Z"
   },
   {
    "duration": 6,
    "start_time": "2022-12-06T11:45:09.177Z"
   },
   {
    "duration": 197,
    "start_time": "2022-12-06T11:45:09.212Z"
   },
   {
    "duration": 134,
    "start_time": "2022-12-06T11:45:09.410Z"
   },
   {
    "duration": 12,
    "start_time": "2022-12-06T11:45:09.546Z"
   },
   {
    "duration": 331,
    "start_time": "2022-12-06T11:45:09.560Z"
   },
   {
    "duration": 243,
    "start_time": "2022-12-06T11:45:09.892Z"
   },
   {
    "duration": 361,
    "start_time": "2022-12-06T11:45:10.139Z"
   },
   {
    "duration": 226,
    "start_time": "2022-12-06T11:45:10.503Z"
   },
   {
    "duration": 335,
    "start_time": "2022-12-06T11:45:10.731Z"
   },
   {
    "duration": 11,
    "start_time": "2022-12-06T11:45:11.068Z"
   },
   {
    "duration": 186,
    "start_time": "2022-12-06T11:45:11.080Z"
   },
   {
    "duration": 6,
    "start_time": "2022-12-06T11:45:11.267Z"
   },
   {
    "duration": 17,
    "start_time": "2022-12-06T11:45:11.274Z"
   },
   {
    "duration": 185,
    "start_time": "2022-12-06T11:45:11.293Z"
   },
   {
    "duration": 5,
    "start_time": "2022-12-06T11:45:11.479Z"
   },
   {
    "duration": 11,
    "start_time": "2022-12-06T11:45:11.486Z"
   },
   {
    "duration": 15,
    "start_time": "2022-12-06T11:45:11.514Z"
   },
   {
    "duration": 319,
    "start_time": "2022-12-06T11:45:11.531Z"
   },
   {
    "duration": 145,
    "start_time": "2022-12-06T11:45:11.852Z"
   },
   {
    "duration": 6,
    "start_time": "2022-12-06T11:45:12.001Z"
   },
   {
    "duration": 28,
    "start_time": "2022-12-06T11:45:12.015Z"
   },
   {
    "duration": 79,
    "start_time": "2022-12-06T11:45:12.044Z"
   },
   {
    "duration": 0,
    "start_time": "2022-12-06T11:45:12.129Z"
   },
   {
    "duration": 0,
    "start_time": "2022-12-06T11:45:12.130Z"
   },
   {
    "duration": 0,
    "start_time": "2022-12-06T11:45:12.131Z"
   },
   {
    "duration": 20,
    "start_time": "2022-12-06T11:45:28.508Z"
   },
   {
    "duration": 71,
    "start_time": "2022-12-06T11:45:40.433Z"
   },
   {
    "duration": 1339,
    "start_time": "2022-12-06T11:45:50.911Z"
   },
   {
    "duration": 1225,
    "start_time": "2022-12-06T11:47:49.993Z"
   },
   {
    "duration": 84,
    "start_time": "2022-12-06T11:47:51.222Z"
   },
   {
    "duration": 23,
    "start_time": "2022-12-06T11:47:51.307Z"
   },
   {
    "duration": 16,
    "start_time": "2022-12-06T11:47:51.331Z"
   },
   {
    "duration": 15,
    "start_time": "2022-12-06T11:47:51.350Z"
   },
   {
    "duration": 6,
    "start_time": "2022-12-06T11:47:51.367Z"
   },
   {
    "duration": 7,
    "start_time": "2022-12-06T11:47:51.375Z"
   },
   {
    "duration": 6,
    "start_time": "2022-12-06T11:47:51.415Z"
   },
   {
    "duration": 21,
    "start_time": "2022-12-06T11:47:51.424Z"
   },
   {
    "duration": 9,
    "start_time": "2022-12-06T11:47:51.446Z"
   },
   {
    "duration": 14,
    "start_time": "2022-12-06T11:47:51.456Z"
   },
   {
    "duration": 5,
    "start_time": "2022-12-06T11:47:51.472Z"
   },
   {
    "duration": 10,
    "start_time": "2022-12-06T11:47:51.478Z"
   },
   {
    "duration": 12,
    "start_time": "2022-12-06T11:47:51.491Z"
   },
   {
    "duration": 21,
    "start_time": "2022-12-06T11:47:51.505Z"
   },
   {
    "duration": 12,
    "start_time": "2022-12-06T11:47:51.528Z"
   },
   {
    "duration": 15,
    "start_time": "2022-12-06T11:47:51.542Z"
   },
   {
    "duration": 7,
    "start_time": "2022-12-06T11:47:51.559Z"
   },
   {
    "duration": 7,
    "start_time": "2022-12-06T11:47:51.567Z"
   },
   {
    "duration": 9,
    "start_time": "2022-12-06T11:47:51.575Z"
   },
   {
    "duration": 15,
    "start_time": "2022-12-06T11:47:51.615Z"
   },
   {
    "duration": 5,
    "start_time": "2022-12-06T11:47:51.632Z"
   },
   {
    "duration": 199,
    "start_time": "2022-12-06T11:47:51.639Z"
   },
   {
    "duration": 130,
    "start_time": "2022-12-06T11:47:51.840Z"
   },
   {
    "duration": 15,
    "start_time": "2022-12-06T11:47:51.972Z"
   },
   {
    "duration": 298,
    "start_time": "2022-12-06T11:47:51.988Z"
   },
   {
    "duration": 243,
    "start_time": "2022-12-06T11:47:52.288Z"
   },
   {
    "duration": 315,
    "start_time": "2022-12-06T11:47:52.533Z"
   },
   {
    "duration": 213,
    "start_time": "2022-12-06T11:47:52.850Z"
   },
   {
    "duration": 299,
    "start_time": "2022-12-06T11:47:53.065Z"
   },
   {
    "duration": 11,
    "start_time": "2022-12-06T11:47:53.366Z"
   },
   {
    "duration": 184,
    "start_time": "2022-12-06T11:47:53.379Z"
   },
   {
    "duration": 5,
    "start_time": "2022-12-06T11:47:53.565Z"
   },
   {
    "duration": 13,
    "start_time": "2022-12-06T11:47:53.571Z"
   },
   {
    "duration": 189,
    "start_time": "2022-12-06T11:47:53.586Z"
   },
   {
    "duration": 5,
    "start_time": "2022-12-06T11:47:53.776Z"
   },
   {
    "duration": 14,
    "start_time": "2022-12-06T11:47:53.782Z"
   },
   {
    "duration": 24,
    "start_time": "2022-12-06T11:47:53.797Z"
   },
   {
    "duration": 295,
    "start_time": "2022-12-06T11:47:53.828Z"
   },
   {
    "duration": 143,
    "start_time": "2022-12-06T11:47:54.128Z"
   },
   {
    "duration": 6,
    "start_time": "2022-12-06T11:47:54.275Z"
   },
   {
    "duration": 43,
    "start_time": "2022-12-06T11:47:54.283Z"
   },
   {
    "duration": 11,
    "start_time": "2022-12-06T11:47:54.329Z"
   },
   {
    "duration": 1360,
    "start_time": "2022-12-06T11:47:54.341Z"
   },
   {
    "duration": 11,
    "start_time": "2022-12-06T11:52:46.632Z"
   },
   {
    "duration": 10,
    "start_time": "2022-12-06T11:54:09.529Z"
   },
   {
    "duration": 12,
    "start_time": "2022-12-06T11:58:15.474Z"
   },
   {
    "duration": 12,
    "start_time": "2022-12-06T11:59:03.838Z"
   },
   {
    "duration": 12,
    "start_time": "2022-12-06T12:00:37.850Z"
   },
   {
    "duration": 13,
    "start_time": "2022-12-06T12:02:57.283Z"
   },
   {
    "duration": 13,
    "start_time": "2022-12-06T12:05:12.559Z"
   },
   {
    "duration": 10,
    "start_time": "2022-12-06T12:06:49.292Z"
   },
   {
    "duration": 9,
    "start_time": "2022-12-06T12:12:23.823Z"
   },
   {
    "duration": 9,
    "start_time": "2022-12-06T12:13:25.536Z"
   },
   {
    "duration": 22,
    "start_time": "2022-12-06T12:13:34.954Z"
   },
   {
    "duration": 22,
    "start_time": "2022-12-06T12:14:05.922Z"
   },
   {
    "duration": 23,
    "start_time": "2022-12-06T12:14:37.688Z"
   },
   {
    "duration": 21,
    "start_time": "2022-12-06T12:19:25.775Z"
   },
   {
    "duration": 20,
    "start_time": "2022-12-06T12:19:45.483Z"
   },
   {
    "duration": 1168,
    "start_time": "2022-12-06T12:33:25.760Z"
   },
   {
    "duration": 13,
    "start_time": "2022-12-06T12:34:16.006Z"
   },
   {
    "duration": 74,
    "start_time": "2022-12-06T12:36:07.997Z"
   },
   {
    "duration": 71,
    "start_time": "2022-12-06T12:36:39.643Z"
   },
   {
    "duration": 16,
    "start_time": "2022-12-06T12:37:25.953Z"
   },
   {
    "duration": 1150,
    "start_time": "2022-12-06T13:26:53.061Z"
   },
   {
    "duration": 78,
    "start_time": "2022-12-06T13:26:54.212Z"
   },
   {
    "duration": 23,
    "start_time": "2022-12-06T13:26:54.295Z"
   },
   {
    "duration": 22,
    "start_time": "2022-12-06T13:26:54.321Z"
   },
   {
    "duration": 21,
    "start_time": "2022-12-06T13:26:54.345Z"
   },
   {
    "duration": 17,
    "start_time": "2022-12-06T13:26:54.368Z"
   },
   {
    "duration": 26,
    "start_time": "2022-12-06T13:26:54.387Z"
   },
   {
    "duration": 6,
    "start_time": "2022-12-06T13:26:54.415Z"
   },
   {
    "duration": 25,
    "start_time": "2022-12-06T13:26:54.425Z"
   },
   {
    "duration": 10,
    "start_time": "2022-12-06T13:26:54.452Z"
   },
   {
    "duration": 28,
    "start_time": "2022-12-06T13:26:54.464Z"
   },
   {
    "duration": 17,
    "start_time": "2022-12-06T13:26:54.494Z"
   },
   {
    "duration": 20,
    "start_time": "2022-12-06T13:26:54.514Z"
   },
   {
    "duration": 21,
    "start_time": "2022-12-06T13:26:54.536Z"
   },
   {
    "duration": 16,
    "start_time": "2022-12-06T13:26:54.558Z"
   },
   {
    "duration": 18,
    "start_time": "2022-12-06T13:26:54.575Z"
   },
   {
    "duration": 31,
    "start_time": "2022-12-06T13:26:54.595Z"
   },
   {
    "duration": 30,
    "start_time": "2022-12-06T13:26:54.628Z"
   },
   {
    "duration": 30,
    "start_time": "2022-12-06T13:26:54.661Z"
   },
   {
    "duration": 16,
    "start_time": "2022-12-06T13:26:54.693Z"
   },
   {
    "duration": 30,
    "start_time": "2022-12-06T13:26:54.711Z"
   },
   {
    "duration": 16,
    "start_time": "2022-12-06T13:26:54.743Z"
   },
   {
    "duration": 189,
    "start_time": "2022-12-06T13:26:54.761Z"
   },
   {
    "duration": 122,
    "start_time": "2022-12-06T13:26:54.952Z"
   },
   {
    "duration": 13,
    "start_time": "2022-12-06T13:26:55.076Z"
   },
   {
    "duration": 329,
    "start_time": "2022-12-06T13:26:55.091Z"
   },
   {
    "duration": 273,
    "start_time": "2022-12-06T13:26:55.425Z"
   },
   {
    "duration": 336,
    "start_time": "2022-12-06T13:26:55.700Z"
   },
   {
    "duration": 208,
    "start_time": "2022-12-06T13:26:56.038Z"
   },
   {
    "duration": 326,
    "start_time": "2022-12-06T13:26:56.248Z"
   },
   {
    "duration": 12,
    "start_time": "2022-12-06T13:26:56.576Z"
   },
   {
    "duration": 186,
    "start_time": "2022-12-06T13:26:56.590Z"
   },
   {
    "duration": 5,
    "start_time": "2022-12-06T13:26:56.778Z"
   },
   {
    "duration": 29,
    "start_time": "2022-12-06T13:26:56.785Z"
   },
   {
    "duration": 197,
    "start_time": "2022-12-06T13:26:56.816Z"
   },
   {
    "duration": 6,
    "start_time": "2022-12-06T13:26:57.015Z"
   },
   {
    "duration": 25,
    "start_time": "2022-12-06T13:26:57.023Z"
   },
   {
    "duration": 14,
    "start_time": "2022-12-06T13:26:57.051Z"
   },
   {
    "duration": 311,
    "start_time": "2022-12-06T13:26:57.067Z"
   },
   {
    "duration": 158,
    "start_time": "2022-12-06T13:26:57.380Z"
   },
   {
    "duration": 6,
    "start_time": "2022-12-06T13:26:57.540Z"
   },
   {
    "duration": 41,
    "start_time": "2022-12-06T13:26:57.548Z"
   },
   {
    "duration": 23,
    "start_time": "2022-12-06T13:26:57.591Z"
   },
   {
    "duration": 18,
    "start_time": "2022-12-06T13:26:57.615Z"
   },
   {
    "duration": 16,
    "start_time": "2022-12-06T13:26:57.634Z"
   },
   {
    "duration": 25,
    "start_time": "2022-12-06T13:26:57.652Z"
   },
   {
    "duration": 14,
    "start_time": "2022-12-06T13:26:57.679Z"
   },
   {
    "duration": 15024,
    "start_time": "2022-12-06T13:26:57.694Z"
   },
   {
    "duration": 1047,
    "start_time": "2022-12-06T13:45:07.362Z"
   },
   {
    "duration": 75,
    "start_time": "2022-12-06T13:45:08.412Z"
   },
   {
    "duration": 20,
    "start_time": "2022-12-06T13:45:08.489Z"
   },
   {
    "duration": 16,
    "start_time": "2022-12-06T13:45:08.511Z"
   },
   {
    "duration": 16,
    "start_time": "2022-12-06T13:45:08.528Z"
   },
   {
    "duration": 8,
    "start_time": "2022-12-06T13:45:08.546Z"
   },
   {
    "duration": 7,
    "start_time": "2022-12-06T13:45:08.555Z"
   },
   {
    "duration": 7,
    "start_time": "2022-12-06T13:45:08.564Z"
   },
   {
    "duration": 10,
    "start_time": "2022-12-06T13:45:08.572Z"
   },
   {
    "duration": 7,
    "start_time": "2022-12-06T13:45:08.614Z"
   },
   {
    "duration": 14,
    "start_time": "2022-12-06T13:45:08.623Z"
   },
   {
    "duration": 5,
    "start_time": "2022-12-06T13:45:08.639Z"
   },
   {
    "duration": 5,
    "start_time": "2022-12-06T13:45:08.645Z"
   },
   {
    "duration": 19,
    "start_time": "2022-12-06T13:45:08.652Z"
   },
   {
    "duration": 14,
    "start_time": "2022-12-06T13:45:08.673Z"
   },
   {
    "duration": 9,
    "start_time": "2022-12-06T13:45:08.712Z"
   },
   {
    "duration": 10,
    "start_time": "2022-12-06T13:45:08.723Z"
   },
   {
    "duration": 11,
    "start_time": "2022-12-06T13:45:08.735Z"
   },
   {
    "duration": 9,
    "start_time": "2022-12-06T13:45:08.748Z"
   },
   {
    "duration": 10,
    "start_time": "2022-12-06T13:45:08.759Z"
   },
   {
    "duration": 43,
    "start_time": "2022-12-06T13:45:08.770Z"
   },
   {
    "duration": 6,
    "start_time": "2022-12-06T13:45:08.815Z"
   },
   {
    "duration": 207,
    "start_time": "2022-12-06T13:45:08.822Z"
   },
   {
    "duration": 146,
    "start_time": "2022-12-06T13:45:09.030Z"
   },
   {
    "duration": 12,
    "start_time": "2022-12-06T13:45:09.177Z"
   },
   {
    "duration": 276,
    "start_time": "2022-12-06T13:45:09.191Z"
   },
   {
    "duration": 212,
    "start_time": "2022-12-06T13:45:09.469Z"
   },
   {
    "duration": 341,
    "start_time": "2022-12-06T13:45:09.684Z"
   },
   {
    "duration": 205,
    "start_time": "2022-12-06T13:45:10.027Z"
   },
   {
    "duration": 347,
    "start_time": "2022-12-06T13:45:10.234Z"
   },
   {
    "duration": 12,
    "start_time": "2022-12-06T13:45:10.583Z"
   },
   {
    "duration": 174,
    "start_time": "2022-12-06T13:45:10.597Z"
   },
   {
    "duration": 5,
    "start_time": "2022-12-06T13:45:10.773Z"
   },
   {
    "duration": 13,
    "start_time": "2022-12-06T13:45:10.780Z"
   },
   {
    "duration": 178,
    "start_time": "2022-12-06T13:45:10.795Z"
   },
   {
    "duration": 5,
    "start_time": "2022-12-06T13:45:10.974Z"
   },
   {
    "duration": 10,
    "start_time": "2022-12-06T13:45:10.981Z"
   },
   {
    "duration": 21,
    "start_time": "2022-12-06T13:45:10.993Z"
   },
   {
    "duration": 326,
    "start_time": "2022-12-06T13:45:11.016Z"
   },
   {
    "duration": 152,
    "start_time": "2022-12-06T13:45:11.344Z"
   },
   {
    "duration": 15,
    "start_time": "2022-12-06T13:45:11.497Z"
   },
   {
    "duration": 36,
    "start_time": "2022-12-06T13:45:11.515Z"
   },
   {
    "duration": 13,
    "start_time": "2022-12-06T13:45:11.552Z"
   },
   {
    "duration": 11,
    "start_time": "2022-12-06T13:45:11.567Z"
   },
   {
    "duration": 34,
    "start_time": "2022-12-06T13:45:11.580Z"
   },
   {
    "duration": 21,
    "start_time": "2022-12-06T13:45:11.616Z"
   },
   {
    "duration": 15,
    "start_time": "2022-12-06T13:45:11.639Z"
   },
   {
    "duration": 1417,
    "start_time": "2022-12-06T15:48:56.847Z"
   },
   {
    "duration": 253,
    "start_time": "2022-12-06T15:48:58.266Z"
   },
   {
    "duration": 25,
    "start_time": "2022-12-06T15:48:58.521Z"
   },
   {
    "duration": 40,
    "start_time": "2022-12-06T15:48:58.549Z"
   },
   {
    "duration": 21,
    "start_time": "2022-12-06T15:48:58.592Z"
   },
   {
    "duration": 6,
    "start_time": "2022-12-06T15:48:58.615Z"
   },
   {
    "duration": 13,
    "start_time": "2022-12-06T15:48:58.623Z"
   },
   {
    "duration": 19,
    "start_time": "2022-12-06T15:48:58.639Z"
   },
   {
    "duration": 11,
    "start_time": "2022-12-06T15:48:58.659Z"
   },
   {
    "duration": 8,
    "start_time": "2022-12-06T15:48:58.673Z"
   },
   {
    "duration": 22,
    "start_time": "2022-12-06T15:48:58.683Z"
   },
   {
    "duration": 8,
    "start_time": "2022-12-06T15:48:58.707Z"
   },
   {
    "duration": 5,
    "start_time": "2022-12-06T15:48:58.717Z"
   },
   {
    "duration": 18,
    "start_time": "2022-12-06T15:48:58.724Z"
   },
   {
    "duration": 23,
    "start_time": "2022-12-06T15:48:58.744Z"
   },
   {
    "duration": 12,
    "start_time": "2022-12-06T15:48:58.769Z"
   },
   {
    "duration": 11,
    "start_time": "2022-12-06T15:48:58.783Z"
   },
   {
    "duration": 16,
    "start_time": "2022-12-06T15:48:58.796Z"
   },
   {
    "duration": 9,
    "start_time": "2022-12-06T15:48:58.813Z"
   },
   {
    "duration": 15,
    "start_time": "2022-12-06T15:48:58.823Z"
   },
   {
    "duration": 34,
    "start_time": "2022-12-06T15:48:58.840Z"
   },
   {
    "duration": 7,
    "start_time": "2022-12-06T15:48:58.876Z"
   },
   {
    "duration": 210,
    "start_time": "2022-12-06T15:48:58.885Z"
   },
   {
    "duration": 138,
    "start_time": "2022-12-06T15:48:59.097Z"
   },
   {
    "duration": 18,
    "start_time": "2022-12-06T15:48:59.238Z"
   },
   {
    "duration": 328,
    "start_time": "2022-12-06T15:48:59.257Z"
   },
   {
    "duration": 244,
    "start_time": "2022-12-06T15:48:59.587Z"
   },
   {
    "duration": 373,
    "start_time": "2022-12-06T15:48:59.838Z"
   },
   {
    "duration": 214,
    "start_time": "2022-12-06T15:49:00.213Z"
   },
   {
    "duration": 360,
    "start_time": "2022-12-06T15:49:00.429Z"
   },
   {
    "duration": 13,
    "start_time": "2022-12-06T15:49:00.790Z"
   },
   {
    "duration": 201,
    "start_time": "2022-12-06T15:49:00.804Z"
   },
   {
    "duration": 5,
    "start_time": "2022-12-06T15:49:01.006Z"
   },
   {
    "duration": 44,
    "start_time": "2022-12-06T15:49:01.013Z"
   },
   {
    "duration": 197,
    "start_time": "2022-12-06T15:49:01.058Z"
   },
   {
    "duration": 5,
    "start_time": "2022-12-06T15:49:01.257Z"
   },
   {
    "duration": 40,
    "start_time": "2022-12-06T15:49:01.264Z"
   },
   {
    "duration": 27,
    "start_time": "2022-12-06T15:49:01.305Z"
   },
   {
    "duration": 326,
    "start_time": "2022-12-06T15:49:01.334Z"
   },
   {
    "duration": 144,
    "start_time": "2022-12-06T15:49:01.662Z"
   },
   {
    "duration": 6,
    "start_time": "2022-12-06T15:49:01.808Z"
   },
   {
    "duration": 48,
    "start_time": "2022-12-06T15:49:01.815Z"
   },
   {
    "duration": 25,
    "start_time": "2022-12-06T15:49:01.865Z"
   },
   {
    "duration": 34,
    "start_time": "2022-12-06T15:49:01.892Z"
   },
   {
    "duration": 37,
    "start_time": "2022-12-06T15:49:01.927Z"
   },
   {
    "duration": 73,
    "start_time": "2022-12-06T15:49:01.966Z"
   },
   {
    "duration": 40,
    "start_time": "2022-12-06T15:49:02.041Z"
   },
   {
    "duration": 4,
    "start_time": "2022-12-06T15:50:36.250Z"
   },
   {
    "duration": 1427,
    "start_time": "2022-12-07T15:56:27.564Z"
   },
   {
    "duration": 234,
    "start_time": "2022-12-07T15:56:28.993Z"
   },
   {
    "duration": 27,
    "start_time": "2022-12-07T15:56:29.229Z"
   },
   {
    "duration": 24,
    "start_time": "2022-12-07T15:56:29.259Z"
   },
   {
    "duration": 51,
    "start_time": "2022-12-07T15:56:29.286Z"
   },
   {
    "duration": 6,
    "start_time": "2022-12-07T15:56:29.340Z"
   },
   {
    "duration": 26,
    "start_time": "2022-12-07T15:56:29.347Z"
   },
   {
    "duration": 6,
    "start_time": "2022-12-07T15:56:29.375Z"
   },
   {
    "duration": 13,
    "start_time": "2022-12-07T15:56:29.383Z"
   },
   {
    "duration": 11,
    "start_time": "2022-12-07T15:56:29.398Z"
   },
   {
    "duration": 31,
    "start_time": "2022-12-07T15:56:29.411Z"
   },
   {
    "duration": 9,
    "start_time": "2022-12-07T15:56:29.444Z"
   },
   {
    "duration": 5,
    "start_time": "2022-12-07T15:56:29.455Z"
   },
   {
    "duration": 14,
    "start_time": "2022-12-07T15:56:29.464Z"
   },
   {
    "duration": 13,
    "start_time": "2022-12-07T15:56:29.480Z"
   },
   {
    "duration": 13,
    "start_time": "2022-12-07T15:56:29.494Z"
   },
   {
    "duration": 33,
    "start_time": "2022-12-07T15:56:29.509Z"
   },
   {
    "duration": 10,
    "start_time": "2022-12-07T15:56:29.544Z"
   },
   {
    "duration": 9,
    "start_time": "2022-12-07T15:56:29.555Z"
   },
   {
    "duration": 10,
    "start_time": "2022-12-07T15:56:29.566Z"
   },
   {
    "duration": 140,
    "start_time": "2022-12-07T15:56:29.578Z"
   },
   {
    "duration": 0,
    "start_time": "2022-12-07T15:56:29.720Z"
   },
   {
    "duration": 0,
    "start_time": "2022-12-07T15:56:29.722Z"
   },
   {
    "duration": 0,
    "start_time": "2022-12-07T15:56:29.724Z"
   },
   {
    "duration": 0,
    "start_time": "2022-12-07T15:56:29.725Z"
   },
   {
    "duration": 0,
    "start_time": "2022-12-07T15:56:29.738Z"
   },
   {
    "duration": 0,
    "start_time": "2022-12-07T15:56:29.739Z"
   },
   {
    "duration": 0,
    "start_time": "2022-12-07T15:56:29.741Z"
   },
   {
    "duration": 0,
    "start_time": "2022-12-07T15:56:29.743Z"
   },
   {
    "duration": 0,
    "start_time": "2022-12-07T15:56:29.744Z"
   },
   {
    "duration": 0,
    "start_time": "2022-12-07T15:56:29.746Z"
   },
   {
    "duration": 0,
    "start_time": "2022-12-07T15:56:29.748Z"
   },
   {
    "duration": 0,
    "start_time": "2022-12-07T15:56:29.750Z"
   },
   {
    "duration": 0,
    "start_time": "2022-12-07T15:56:29.751Z"
   },
   {
    "duration": 0,
    "start_time": "2022-12-07T15:56:29.753Z"
   },
   {
    "duration": 0,
    "start_time": "2022-12-07T15:56:29.754Z"
   },
   {
    "duration": 0,
    "start_time": "2022-12-07T15:56:29.756Z"
   },
   {
    "duration": 0,
    "start_time": "2022-12-07T15:56:29.757Z"
   },
   {
    "duration": 0,
    "start_time": "2022-12-07T15:56:29.758Z"
   },
   {
    "duration": 0,
    "start_time": "2022-12-07T15:56:29.759Z"
   },
   {
    "duration": 1,
    "start_time": "2022-12-07T15:56:29.760Z"
   },
   {
    "duration": 0,
    "start_time": "2022-12-07T15:56:29.762Z"
   },
   {
    "duration": 0,
    "start_time": "2022-12-07T15:56:29.763Z"
   },
   {
    "duration": 0,
    "start_time": "2022-12-07T15:56:29.764Z"
   },
   {
    "duration": 0,
    "start_time": "2022-12-07T15:56:29.765Z"
   },
   {
    "duration": 0,
    "start_time": "2022-12-07T15:56:29.766Z"
   },
   {
    "duration": 0,
    "start_time": "2022-12-07T15:56:29.768Z"
   },
   {
    "duration": 10,
    "start_time": "2022-12-07T15:57:55.616Z"
   },
   {
    "duration": 18,
    "start_time": "2022-12-07T15:58:12.903Z"
   },
   {
    "duration": 16,
    "start_time": "2022-12-07T15:58:49.576Z"
   },
   {
    "duration": 1230,
    "start_time": "2022-12-07T16:02:07.141Z"
   },
   {
    "duration": 78,
    "start_time": "2022-12-07T16:02:08.372Z"
   },
   {
    "duration": 22,
    "start_time": "2022-12-07T16:02:08.452Z"
   },
   {
    "duration": 18,
    "start_time": "2022-12-07T16:02:08.476Z"
   },
   {
    "duration": 32,
    "start_time": "2022-12-07T16:02:08.496Z"
   },
   {
    "duration": 10,
    "start_time": "2022-12-07T16:02:08.530Z"
   },
   {
    "duration": 9,
    "start_time": "2022-12-07T16:02:08.541Z"
   },
   {
    "duration": 19,
    "start_time": "2022-12-07T16:02:08.553Z"
   },
   {
    "duration": 14,
    "start_time": "2022-12-07T16:02:08.574Z"
   },
   {
    "duration": 9,
    "start_time": "2022-12-07T16:02:08.592Z"
   },
   {
    "duration": 10,
    "start_time": "2022-12-07T16:02:08.603Z"
   },
   {
    "duration": 7,
    "start_time": "2022-12-07T16:02:08.615Z"
   },
   {
    "duration": 17,
    "start_time": "2022-12-07T16:02:08.624Z"
   },
   {
    "duration": 15,
    "start_time": "2022-12-07T16:02:08.643Z"
   },
   {
    "duration": 11,
    "start_time": "2022-12-07T16:02:08.660Z"
   },
   {
    "duration": 8,
    "start_time": "2022-12-07T16:02:08.673Z"
   },
   {
    "duration": 12,
    "start_time": "2022-12-07T16:02:08.682Z"
   },
   {
    "duration": 7,
    "start_time": "2022-12-07T16:02:08.695Z"
   },
   {
    "duration": 34,
    "start_time": "2022-12-07T16:02:08.704Z"
   },
   {
    "duration": 10,
    "start_time": "2022-12-07T16:02:08.740Z"
   },
   {
    "duration": 14,
    "start_time": "2022-12-07T16:02:08.752Z"
   },
   {
    "duration": 5,
    "start_time": "2022-12-07T16:02:08.768Z"
   },
   {
    "duration": 248,
    "start_time": "2022-12-07T16:02:08.774Z"
   },
   {
    "duration": 154,
    "start_time": "2022-12-07T16:02:09.024Z"
   },
   {
    "duration": 12,
    "start_time": "2022-12-07T16:02:09.180Z"
   },
   {
    "duration": 305,
    "start_time": "2022-12-07T16:02:09.194Z"
   },
   {
    "duration": 250,
    "start_time": "2022-12-07T16:02:09.501Z"
   },
   {
    "duration": 328,
    "start_time": "2022-12-07T16:02:09.755Z"
   },
   {
    "duration": 225,
    "start_time": "2022-12-07T16:02:10.085Z"
   },
   {
    "duration": 377,
    "start_time": "2022-12-07T16:02:10.311Z"
   },
   {
    "duration": 11,
    "start_time": "2022-12-07T16:02:10.690Z"
   },
   {
    "duration": 198,
    "start_time": "2022-12-07T16:02:10.702Z"
   },
   {
    "duration": 5,
    "start_time": "2022-12-07T16:02:10.902Z"
   },
   {
    "duration": 15,
    "start_time": "2022-12-07T16:02:10.908Z"
   },
   {
    "duration": 175,
    "start_time": "2022-12-07T16:02:10.936Z"
   },
   {
    "duration": 6,
    "start_time": "2022-12-07T16:02:11.113Z"
   },
   {
    "duration": 25,
    "start_time": "2022-12-07T16:02:11.121Z"
   },
   {
    "duration": 10,
    "start_time": "2022-12-07T16:02:11.148Z"
   },
   {
    "duration": 327,
    "start_time": "2022-12-07T16:02:11.161Z"
   },
   {
    "duration": 152,
    "start_time": "2022-12-07T16:02:11.490Z"
   },
   {
    "duration": 7,
    "start_time": "2022-12-07T16:02:11.645Z"
   },
   {
    "duration": 36,
    "start_time": "2022-12-07T16:02:11.654Z"
   },
   {
    "duration": 11,
    "start_time": "2022-12-07T16:02:11.691Z"
   },
   {
    "duration": 40,
    "start_time": "2022-12-07T16:02:11.703Z"
   },
   {
    "duration": 7,
    "start_time": "2022-12-07T16:02:11.745Z"
   },
   {
    "duration": 22,
    "start_time": "2022-12-07T16:02:11.754Z"
   },
   {
    "duration": 13,
    "start_time": "2022-12-07T16:02:11.778Z"
   },
   {
    "duration": 102,
    "start_time": "2022-12-07T16:10:32.256Z"
   },
   {
    "duration": 104,
    "start_time": "2022-12-07T16:10:47.262Z"
   },
   {
    "duration": 105,
    "start_time": "2022-12-07T16:10:55.427Z"
   },
   {
    "duration": 107,
    "start_time": "2022-12-07T16:16:44.205Z"
   },
   {
    "duration": 108,
    "start_time": "2022-12-07T16:17:13.100Z"
   },
   {
    "duration": 31,
    "start_time": "2022-12-07T16:17:31.412Z"
   },
   {
    "duration": 108,
    "start_time": "2022-12-07T16:31:06.644Z"
   },
   {
    "duration": 10,
    "start_time": "2022-12-07T16:33:32.240Z"
   },
   {
    "duration": 13,
    "start_time": "2022-12-07T16:34:02.569Z"
   },
   {
    "duration": 1286,
    "start_time": "2022-12-07T16:35:05.577Z"
   },
   {
    "duration": 80,
    "start_time": "2022-12-07T16:35:06.866Z"
   },
   {
    "duration": 22,
    "start_time": "2022-12-07T16:35:06.947Z"
   },
   {
    "duration": 25,
    "start_time": "2022-12-07T16:35:06.971Z"
   },
   {
    "duration": 24,
    "start_time": "2022-12-07T16:35:06.998Z"
   },
   {
    "duration": 42,
    "start_time": "2022-12-07T16:35:07.024Z"
   },
   {
    "duration": 22,
    "start_time": "2022-12-07T16:35:07.068Z"
   },
   {
    "duration": 36,
    "start_time": "2022-12-07T16:35:07.092Z"
   },
   {
    "duration": 25,
    "start_time": "2022-12-07T16:35:07.130Z"
   },
   {
    "duration": 30,
    "start_time": "2022-12-07T16:35:07.158Z"
   },
   {
    "duration": 36,
    "start_time": "2022-12-07T16:35:07.190Z"
   },
   {
    "duration": 17,
    "start_time": "2022-12-07T16:35:07.228Z"
   },
   {
    "duration": 31,
    "start_time": "2022-12-07T16:35:07.247Z"
   },
   {
    "duration": 43,
    "start_time": "2022-12-07T16:35:07.280Z"
   },
   {
    "duration": 14,
    "start_time": "2022-12-07T16:35:07.325Z"
   },
   {
    "duration": 40,
    "start_time": "2022-12-07T16:35:07.341Z"
   },
   {
    "duration": 15,
    "start_time": "2022-12-07T16:35:07.383Z"
   },
   {
    "duration": 32,
    "start_time": "2022-12-07T16:35:07.400Z"
   },
   {
    "duration": 34,
    "start_time": "2022-12-07T16:35:07.434Z"
   },
   {
    "duration": 26,
    "start_time": "2022-12-07T16:35:07.470Z"
   },
   {
    "duration": 35,
    "start_time": "2022-12-07T16:35:07.498Z"
   },
   {
    "duration": 5,
    "start_time": "2022-12-07T16:35:07.534Z"
   },
   {
    "duration": 223,
    "start_time": "2022-12-07T16:35:07.541Z"
   },
   {
    "duration": 147,
    "start_time": "2022-12-07T16:35:07.766Z"
   },
   {
    "duration": 25,
    "start_time": "2022-12-07T16:35:07.915Z"
   },
   {
    "duration": 342,
    "start_time": "2022-12-07T16:35:07.942Z"
   },
   {
    "duration": 240,
    "start_time": "2022-12-07T16:35:08.286Z"
   },
   {
    "duration": 356,
    "start_time": "2022-12-07T16:35:08.537Z"
   },
   {
    "duration": 247,
    "start_time": "2022-12-07T16:35:08.895Z"
   },
   {
    "duration": 329,
    "start_time": "2022-12-07T16:35:09.144Z"
   },
   {
    "duration": 12,
    "start_time": "2022-12-07T16:35:09.474Z"
   },
   {
    "duration": 194,
    "start_time": "2022-12-07T16:35:09.488Z"
   },
   {
    "duration": 6,
    "start_time": "2022-12-07T16:35:09.683Z"
   },
   {
    "duration": 15,
    "start_time": "2022-12-07T16:35:09.690Z"
   },
   {
    "duration": 196,
    "start_time": "2022-12-07T16:35:09.706Z"
   },
   {
    "duration": 5,
    "start_time": "2022-12-07T16:35:09.904Z"
   },
   {
    "duration": 12,
    "start_time": "2022-12-07T16:35:09.910Z"
   },
   {
    "duration": 20,
    "start_time": "2022-12-07T16:35:09.923Z"
   },
   {
    "duration": 325,
    "start_time": "2022-12-07T16:35:09.945Z"
   },
   {
    "duration": 144,
    "start_time": "2022-12-07T16:35:10.272Z"
   },
   {
    "duration": 6,
    "start_time": "2022-12-07T16:35:10.418Z"
   },
   {
    "duration": 37,
    "start_time": "2022-12-07T16:35:10.425Z"
   },
   {
    "duration": 12,
    "start_time": "2022-12-07T16:35:10.464Z"
   },
   {
    "duration": 10,
    "start_time": "2022-12-07T16:35:10.478Z"
   },
   {
    "duration": 10,
    "start_time": "2022-12-07T16:35:10.490Z"
   },
   {
    "duration": 50,
    "start_time": "2022-12-07T16:35:10.502Z"
   },
   {
    "duration": 15,
    "start_time": "2022-12-07T16:35:10.553Z"
   },
   {
    "duration": 1199,
    "start_time": "2022-12-07T17:16:44.474Z"
   },
   {
    "duration": 79,
    "start_time": "2022-12-07T17:16:45.675Z"
   },
   {
    "duration": 29,
    "start_time": "2022-12-07T17:16:45.756Z"
   },
   {
    "duration": 18,
    "start_time": "2022-12-07T17:16:45.788Z"
   },
   {
    "duration": 36,
    "start_time": "2022-12-07T17:16:45.808Z"
   },
   {
    "duration": 30,
    "start_time": "2022-12-07T17:16:45.846Z"
   },
   {
    "duration": 14,
    "start_time": "2022-12-07T17:16:45.879Z"
   },
   {
    "duration": 10,
    "start_time": "2022-12-07T17:16:45.895Z"
   },
   {
    "duration": 13,
    "start_time": "2022-12-07T17:16:45.907Z"
   },
   {
    "duration": 9,
    "start_time": "2022-12-07T17:16:45.922Z"
   },
   {
    "duration": 17,
    "start_time": "2022-12-07T17:16:45.933Z"
   },
   {
    "duration": 5,
    "start_time": "2022-12-07T17:16:45.952Z"
   },
   {
    "duration": 5,
    "start_time": "2022-12-07T17:16:45.959Z"
   },
   {
    "duration": 15,
    "start_time": "2022-12-07T17:16:45.967Z"
   },
   {
    "duration": 12,
    "start_time": "2022-12-07T17:16:45.983Z"
   },
   {
    "duration": 11,
    "start_time": "2022-12-07T17:16:45.997Z"
   },
   {
    "duration": 34,
    "start_time": "2022-12-07T17:16:46.011Z"
   },
   {
    "duration": 8,
    "start_time": "2022-12-07T17:16:46.047Z"
   },
   {
    "duration": 8,
    "start_time": "2022-12-07T17:16:46.057Z"
   },
   {
    "duration": 13,
    "start_time": "2022-12-07T17:16:46.066Z"
   },
   {
    "duration": 16,
    "start_time": "2022-12-07T17:16:46.080Z"
   },
   {
    "duration": 39,
    "start_time": "2022-12-07T17:16:46.098Z"
   },
   {
    "duration": 191,
    "start_time": "2022-12-07T17:16:46.139Z"
   },
   {
    "duration": 144,
    "start_time": "2022-12-07T17:16:46.331Z"
   },
   {
    "duration": 12,
    "start_time": "2022-12-07T17:16:46.477Z"
   },
   {
    "duration": 305,
    "start_time": "2022-12-07T17:16:46.491Z"
   },
   {
    "duration": 254,
    "start_time": "2022-12-07T17:16:46.799Z"
   },
   {
    "duration": 324,
    "start_time": "2022-12-07T17:16:47.055Z"
   },
   {
    "duration": 210,
    "start_time": "2022-12-07T17:16:47.381Z"
   },
   {
    "duration": 332,
    "start_time": "2022-12-07T17:16:47.592Z"
   },
   {
    "duration": 16,
    "start_time": "2022-12-07T17:16:47.925Z"
   },
   {
    "duration": 186,
    "start_time": "2022-12-07T17:16:47.943Z"
   },
   {
    "duration": 11,
    "start_time": "2022-12-07T17:16:48.131Z"
   },
   {
    "duration": 18,
    "start_time": "2022-12-07T17:16:48.143Z"
   },
   {
    "duration": 189,
    "start_time": "2022-12-07T17:16:48.162Z"
   },
   {
    "duration": 5,
    "start_time": "2022-12-07T17:16:48.353Z"
   },
   {
    "duration": 9,
    "start_time": "2022-12-07T17:16:48.360Z"
   },
   {
    "duration": 9,
    "start_time": "2022-12-07T17:16:48.371Z"
   },
   {
    "duration": 351,
    "start_time": "2022-12-07T17:16:48.382Z"
   },
   {
    "duration": 163,
    "start_time": "2022-12-07T17:16:48.738Z"
   },
   {
    "duration": 9,
    "start_time": "2022-12-07T17:16:48.908Z"
   },
   {
    "duration": 49,
    "start_time": "2022-12-07T17:16:48.921Z"
   },
   {
    "duration": 16,
    "start_time": "2022-12-07T17:16:48.973Z"
   },
   {
    "duration": 30,
    "start_time": "2022-12-07T17:16:48.991Z"
   },
   {
    "duration": 16,
    "start_time": "2022-12-07T17:16:49.036Z"
   },
   {
    "duration": 29,
    "start_time": "2022-12-07T17:16:49.055Z"
   },
   {
    "duration": 18,
    "start_time": "2022-12-07T17:16:49.086Z"
   },
   {
    "duration": 1273,
    "start_time": "2022-12-07T17:18:19.705Z"
   },
   {
    "duration": 77,
    "start_time": "2022-12-07T17:18:20.980Z"
   },
   {
    "duration": 21,
    "start_time": "2022-12-07T17:18:21.059Z"
   },
   {
    "duration": 36,
    "start_time": "2022-12-07T17:18:21.082Z"
   },
   {
    "duration": 16,
    "start_time": "2022-12-07T17:18:21.119Z"
   },
   {
    "duration": 17,
    "start_time": "2022-12-07T17:18:21.137Z"
   },
   {
    "duration": 11,
    "start_time": "2022-12-07T17:18:21.155Z"
   },
   {
    "duration": 7,
    "start_time": "2022-12-07T17:18:21.167Z"
   },
   {
    "duration": 18,
    "start_time": "2022-12-07T17:18:21.175Z"
   },
   {
    "duration": 13,
    "start_time": "2022-12-07T17:18:21.195Z"
   },
   {
    "duration": 14,
    "start_time": "2022-12-07T17:18:21.210Z"
   },
   {
    "duration": 12,
    "start_time": "2022-12-07T17:18:21.225Z"
   },
   {
    "duration": 2,
    "start_time": "2022-12-07T17:18:21.239Z"
   },
   {
    "duration": 17,
    "start_time": "2022-12-07T17:18:21.243Z"
   },
   {
    "duration": 11,
    "start_time": "2022-12-07T17:18:21.261Z"
   },
   {
    "duration": 10,
    "start_time": "2022-12-07T17:18:21.274Z"
   },
   {
    "duration": 9,
    "start_time": "2022-12-07T17:18:21.286Z"
   },
   {
    "duration": 12,
    "start_time": "2022-12-07T17:18:21.297Z"
   },
   {
    "duration": 31,
    "start_time": "2022-12-07T17:18:21.311Z"
   },
   {
    "duration": 10,
    "start_time": "2022-12-07T17:18:21.343Z"
   },
   {
    "duration": 13,
    "start_time": "2022-12-07T17:18:21.354Z"
   },
   {
    "duration": 11,
    "start_time": "2022-12-07T17:18:21.369Z"
   },
   {
    "duration": 205,
    "start_time": "2022-12-07T17:18:21.382Z"
   },
   {
    "duration": 138,
    "start_time": "2022-12-07T17:18:21.589Z"
   },
   {
    "duration": 19,
    "start_time": "2022-12-07T17:18:21.729Z"
   },
   {
    "duration": 305,
    "start_time": "2022-12-07T17:18:21.751Z"
   },
   {
    "duration": 229,
    "start_time": "2022-12-07T17:18:22.058Z"
   },
   {
    "duration": 303,
    "start_time": "2022-12-07T17:18:22.292Z"
   },
   {
    "duration": 202,
    "start_time": "2022-12-07T17:18:22.597Z"
   },
   {
    "duration": 352,
    "start_time": "2022-12-07T17:18:22.801Z"
   },
   {
    "duration": 11,
    "start_time": "2022-12-07T17:18:23.154Z"
   },
   {
    "duration": 184,
    "start_time": "2022-12-07T17:18:23.167Z"
   },
   {
    "duration": 5,
    "start_time": "2022-12-07T17:18:23.353Z"
   },
   {
    "duration": 13,
    "start_time": "2022-12-07T17:18:23.359Z"
   },
   {
    "duration": 185,
    "start_time": "2022-12-07T17:18:23.374Z"
   },
   {
    "duration": 5,
    "start_time": "2022-12-07T17:18:23.561Z"
   },
   {
    "duration": 9,
    "start_time": "2022-12-07T17:18:23.568Z"
   },
   {
    "duration": 11,
    "start_time": "2022-12-07T17:18:23.579Z"
   },
   {
    "duration": 347,
    "start_time": "2022-12-07T17:18:23.591Z"
   },
   {
    "duration": 148,
    "start_time": "2022-12-07T17:18:23.941Z"
   },
   {
    "duration": 6,
    "start_time": "2022-12-07T17:18:24.091Z"
   },
   {
    "duration": 43,
    "start_time": "2022-12-07T17:18:24.099Z"
   },
   {
    "duration": 14,
    "start_time": "2022-12-07T17:18:24.144Z"
   },
   {
    "duration": 13,
    "start_time": "2022-12-07T17:18:24.160Z"
   },
   {
    "duration": 10,
    "start_time": "2022-12-07T17:18:24.175Z"
   },
   {
    "duration": 62,
    "start_time": "2022-12-07T17:18:24.187Z"
   },
   {
    "duration": 13,
    "start_time": "2022-12-07T17:18:24.251Z"
   },
   {
    "duration": 1287,
    "start_time": "2022-12-07T17:26:29.729Z"
   },
   {
    "duration": 76,
    "start_time": "2022-12-07T17:26:31.018Z"
   },
   {
    "duration": 22,
    "start_time": "2022-12-07T17:26:31.095Z"
   },
   {
    "duration": 34,
    "start_time": "2022-12-07T17:26:31.119Z"
   },
   {
    "duration": 23,
    "start_time": "2022-12-07T17:26:31.155Z"
   },
   {
    "duration": 34,
    "start_time": "2022-12-07T17:26:31.180Z"
   },
   {
    "duration": 22,
    "start_time": "2022-12-07T17:26:31.216Z"
   },
   {
    "duration": 17,
    "start_time": "2022-12-07T17:26:31.240Z"
   },
   {
    "duration": 31,
    "start_time": "2022-12-07T17:26:31.259Z"
   },
   {
    "duration": 31,
    "start_time": "2022-12-07T17:26:31.293Z"
   },
   {
    "duration": 20,
    "start_time": "2022-12-07T17:26:31.326Z"
   },
   {
    "duration": 19,
    "start_time": "2022-12-07T17:26:31.349Z"
   },
   {
    "duration": 15,
    "start_time": "2022-12-07T17:26:31.370Z"
   },
   {
    "duration": 24,
    "start_time": "2022-12-07T17:26:31.387Z"
   },
   {
    "duration": 19,
    "start_time": "2022-12-07T17:26:31.413Z"
   },
   {
    "duration": 27,
    "start_time": "2022-12-07T17:26:31.434Z"
   },
   {
    "duration": 19,
    "start_time": "2022-12-07T17:26:31.463Z"
   },
   {
    "duration": 12,
    "start_time": "2022-12-07T17:26:31.484Z"
   },
   {
    "duration": 14,
    "start_time": "2022-12-07T17:26:31.498Z"
   },
   {
    "duration": 16,
    "start_time": "2022-12-07T17:26:31.515Z"
   },
   {
    "duration": 17,
    "start_time": "2022-12-07T17:26:31.537Z"
   },
   {
    "duration": 7,
    "start_time": "2022-12-07T17:26:31.556Z"
   },
   {
    "duration": 212,
    "start_time": "2022-12-07T17:26:31.566Z"
   },
   {
    "duration": 141,
    "start_time": "2022-12-07T17:26:31.779Z"
   },
   {
    "duration": 22,
    "start_time": "2022-12-07T17:26:31.921Z"
   },
   {
    "duration": 308,
    "start_time": "2022-12-07T17:26:31.945Z"
   },
   {
    "duration": 252,
    "start_time": "2022-12-07T17:26:32.255Z"
   },
   {
    "duration": 378,
    "start_time": "2022-12-07T17:26:32.510Z"
   },
   {
    "duration": 215,
    "start_time": "2022-12-07T17:26:32.890Z"
   },
   {
    "duration": 363,
    "start_time": "2022-12-07T17:26:33.107Z"
   },
   {
    "duration": 18,
    "start_time": "2022-12-07T17:26:33.473Z"
   },
   {
    "duration": 198,
    "start_time": "2022-12-07T17:26:33.493Z"
   },
   {
    "duration": 5,
    "start_time": "2022-12-07T17:26:33.693Z"
   },
   {
    "duration": 22,
    "start_time": "2022-12-07T17:26:33.700Z"
   },
   {
    "duration": 195,
    "start_time": "2022-12-07T17:26:33.724Z"
   },
   {
    "duration": 5,
    "start_time": "2022-12-07T17:26:33.921Z"
   },
   {
    "duration": 19,
    "start_time": "2022-12-07T17:26:33.938Z"
   },
   {
    "duration": 27,
    "start_time": "2022-12-07T17:26:33.959Z"
   },
   {
    "duration": 355,
    "start_time": "2022-12-07T17:26:33.988Z"
   },
   {
    "duration": 167,
    "start_time": "2022-12-07T17:26:34.345Z"
   },
   {
    "duration": 23,
    "start_time": "2022-12-07T17:26:34.514Z"
   },
   {
    "duration": 38,
    "start_time": "2022-12-07T17:26:34.540Z"
   },
   {
    "duration": 13,
    "start_time": "2022-12-07T17:26:34.579Z"
   },
   {
    "duration": 13,
    "start_time": "2022-12-07T17:26:34.593Z"
   },
   {
    "duration": 37,
    "start_time": "2022-12-07T17:26:34.607Z"
   },
   {
    "duration": 28,
    "start_time": "2022-12-07T17:26:34.646Z"
   },
   {
    "duration": 14,
    "start_time": "2022-12-07T17:26:34.676Z"
   },
   {
    "duration": 125,
    "start_time": "2022-12-07T17:28:30.303Z"
   },
   {
    "duration": 1173,
    "start_time": "2022-12-07T17:44:44.287Z"
   },
   {
    "duration": 78,
    "start_time": "2022-12-07T17:44:45.462Z"
   },
   {
    "duration": 21,
    "start_time": "2022-12-07T17:44:45.542Z"
   },
   {
    "duration": 16,
    "start_time": "2022-12-07T17:44:45.564Z"
   },
   {
    "duration": 18,
    "start_time": "2022-12-07T17:44:45.582Z"
   },
   {
    "duration": 5,
    "start_time": "2022-12-07T17:44:45.602Z"
   },
   {
    "duration": 32,
    "start_time": "2022-12-07T17:44:45.609Z"
   },
   {
    "duration": 7,
    "start_time": "2022-12-07T17:44:45.643Z"
   },
   {
    "duration": 11,
    "start_time": "2022-12-07T17:44:45.652Z"
   },
   {
    "duration": 8,
    "start_time": "2022-12-07T17:44:45.664Z"
   },
   {
    "duration": 13,
    "start_time": "2022-12-07T17:44:45.673Z"
   },
   {
    "duration": 6,
    "start_time": "2022-12-07T17:44:45.687Z"
   },
   {
    "duration": 5,
    "start_time": "2022-12-07T17:44:45.694Z"
   },
   {
    "duration": 37,
    "start_time": "2022-12-07T17:44:45.702Z"
   },
   {
    "duration": 10,
    "start_time": "2022-12-07T17:44:45.741Z"
   },
   {
    "duration": 9,
    "start_time": "2022-12-07T17:44:45.753Z"
   },
   {
    "duration": 18,
    "start_time": "2022-12-07T17:44:45.767Z"
   },
   {
    "duration": 14,
    "start_time": "2022-12-07T17:44:45.787Z"
   },
   {
    "duration": 8,
    "start_time": "2022-12-07T17:44:45.803Z"
   },
   {
    "duration": 36,
    "start_time": "2022-12-07T17:44:45.813Z"
   },
   {
    "duration": 22,
    "start_time": "2022-12-07T17:44:45.851Z"
   },
   {
    "duration": 7,
    "start_time": "2022-12-07T17:44:45.874Z"
   },
   {
    "duration": 206,
    "start_time": "2022-12-07T17:44:45.883Z"
   },
   {
    "duration": 150,
    "start_time": "2022-12-07T17:44:46.090Z"
   },
   {
    "duration": 14,
    "start_time": "2022-12-07T17:44:46.242Z"
   },
   {
    "duration": 328,
    "start_time": "2022-12-07T17:44:46.258Z"
   },
   {
    "duration": 252,
    "start_time": "2022-12-07T17:44:46.588Z"
   },
   {
    "duration": 345,
    "start_time": "2022-12-07T17:44:46.842Z"
   },
   {
    "duration": 200,
    "start_time": "2022-12-07T17:44:47.189Z"
   },
   {
    "duration": 313,
    "start_time": "2022-12-07T17:44:47.392Z"
   },
   {
    "duration": 13,
    "start_time": "2022-12-07T17:44:47.707Z"
   },
   {
    "duration": 211,
    "start_time": "2022-12-07T17:44:47.722Z"
   },
   {
    "duration": 6,
    "start_time": "2022-12-07T17:44:47.937Z"
   },
   {
    "duration": 14,
    "start_time": "2022-12-07T17:44:47.945Z"
   },
   {
    "duration": 186,
    "start_time": "2022-12-07T17:44:47.961Z"
   },
   {
    "duration": 5,
    "start_time": "2022-12-07T17:44:48.149Z"
   },
   {
    "duration": 14,
    "start_time": "2022-12-07T17:44:48.155Z"
   },
   {
    "duration": 12,
    "start_time": "2022-12-07T17:44:48.171Z"
   },
   {
    "duration": 335,
    "start_time": "2022-12-07T17:44:48.184Z"
   },
   {
    "duration": 152,
    "start_time": "2022-12-07T17:44:48.520Z"
   },
   {
    "duration": 7,
    "start_time": "2022-12-07T17:44:48.676Z"
   },
   {
    "duration": 34,
    "start_time": "2022-12-07T17:44:48.685Z"
   },
   {
    "duration": 27,
    "start_time": "2022-12-07T17:44:48.721Z"
   },
   {
    "duration": 12,
    "start_time": "2022-12-07T17:44:48.750Z"
   },
   {
    "duration": 9,
    "start_time": "2022-12-07T17:44:48.764Z"
   },
   {
    "duration": 25,
    "start_time": "2022-12-07T17:44:48.774Z"
   },
   {
    "duration": 19,
    "start_time": "2022-12-07T17:44:48.837Z"
   },
   {
    "duration": 1154,
    "start_time": "2022-12-07T17:48:51.883Z"
   },
   {
    "duration": 76,
    "start_time": "2022-12-07T17:48:53.040Z"
   },
   {
    "duration": 22,
    "start_time": "2022-12-07T17:48:53.118Z"
   },
   {
    "duration": 17,
    "start_time": "2022-12-07T17:48:53.142Z"
   },
   {
    "duration": 16,
    "start_time": "2022-12-07T17:48:53.162Z"
   },
   {
    "duration": 5,
    "start_time": "2022-12-07T17:48:53.180Z"
   },
   {
    "duration": 17,
    "start_time": "2022-12-07T17:48:53.186Z"
   },
   {
    "duration": 5,
    "start_time": "2022-12-07T17:48:53.204Z"
   },
   {
    "duration": 9,
    "start_time": "2022-12-07T17:48:53.237Z"
   },
   {
    "duration": 33,
    "start_time": "2022-12-07T17:48:53.248Z"
   },
   {
    "duration": 37,
    "start_time": "2022-12-07T17:48:53.283Z"
   },
   {
    "duration": 27,
    "start_time": "2022-12-07T17:48:53.323Z"
   },
   {
    "duration": 44,
    "start_time": "2022-12-07T17:48:53.351Z"
   },
   {
    "duration": 43,
    "start_time": "2022-12-07T17:48:53.399Z"
   },
   {
    "duration": 43,
    "start_time": "2022-12-07T17:48:53.444Z"
   },
   {
    "duration": 37,
    "start_time": "2022-12-07T17:48:53.489Z"
   },
   {
    "duration": 26,
    "start_time": "2022-12-07T17:48:53.528Z"
   },
   {
    "duration": 20,
    "start_time": "2022-12-07T17:48:53.556Z"
   },
   {
    "duration": 29,
    "start_time": "2022-12-07T17:48:53.578Z"
   },
   {
    "duration": 36,
    "start_time": "2022-12-07T17:48:53.609Z"
   },
   {
    "duration": 24,
    "start_time": "2022-12-07T17:48:53.646Z"
   },
   {
    "duration": 18,
    "start_time": "2022-12-07T17:48:53.673Z"
   },
   {
    "duration": 232,
    "start_time": "2022-12-07T17:48:53.693Z"
   },
   {
    "duration": 155,
    "start_time": "2022-12-07T17:48:53.927Z"
   },
   {
    "duration": 14,
    "start_time": "2022-12-07T17:48:54.084Z"
   },
   {
    "duration": 320,
    "start_time": "2022-12-07T17:48:54.099Z"
   },
   {
    "duration": 248,
    "start_time": "2022-12-07T17:48:54.421Z"
   },
   {
    "duration": 305,
    "start_time": "2022-12-07T17:48:54.670Z"
   },
   {
    "duration": 207,
    "start_time": "2022-12-07T17:48:54.977Z"
   },
   {
    "duration": 290,
    "start_time": "2022-12-07T17:48:55.186Z"
   },
   {
    "duration": 10,
    "start_time": "2022-12-07T17:48:55.478Z"
   },
   {
    "duration": 188,
    "start_time": "2022-12-07T17:48:55.490Z"
   },
   {
    "duration": 6,
    "start_time": "2022-12-07T17:48:55.680Z"
   },
   {
    "duration": 14,
    "start_time": "2022-12-07T17:48:55.687Z"
   },
   {
    "duration": 204,
    "start_time": "2022-12-07T17:48:55.703Z"
   },
   {
    "duration": 5,
    "start_time": "2022-12-07T17:48:55.909Z"
   },
   {
    "duration": 35,
    "start_time": "2022-12-07T17:48:55.916Z"
   },
   {
    "duration": 10,
    "start_time": "2022-12-07T17:48:55.952Z"
   },
   {
    "duration": 302,
    "start_time": "2022-12-07T17:48:55.964Z"
   },
   {
    "duration": 137,
    "start_time": "2022-12-07T17:48:56.267Z"
   },
   {
    "duration": 6,
    "start_time": "2022-12-07T17:48:56.409Z"
   },
   {
    "duration": 48,
    "start_time": "2022-12-07T17:48:56.416Z"
   },
   {
    "duration": 11,
    "start_time": "2022-12-07T17:48:56.466Z"
   },
   {
    "duration": 10,
    "start_time": "2022-12-07T17:48:56.479Z"
   },
   {
    "duration": 8,
    "start_time": "2022-12-07T17:48:56.490Z"
   },
   {
    "duration": 53,
    "start_time": "2022-12-07T17:48:56.500Z"
   },
   {
    "duration": 15,
    "start_time": "2022-12-07T17:48:56.555Z"
   },
   {
    "duration": 1183,
    "start_time": "2022-12-07T17:51:51.597Z"
   },
   {
    "duration": 78,
    "start_time": "2022-12-07T17:51:52.782Z"
   },
   {
    "duration": 19,
    "start_time": "2022-12-07T17:51:52.862Z"
   },
   {
    "duration": 16,
    "start_time": "2022-12-07T17:51:52.882Z"
   },
   {
    "duration": 17,
    "start_time": "2022-12-07T17:51:52.900Z"
   },
   {
    "duration": 5,
    "start_time": "2022-12-07T17:51:52.919Z"
   },
   {
    "duration": 6,
    "start_time": "2022-12-07T17:51:52.937Z"
   },
   {
    "duration": 6,
    "start_time": "2022-12-07T17:51:52.945Z"
   },
   {
    "duration": 9,
    "start_time": "2022-12-07T17:51:52.954Z"
   },
   {
    "duration": 9,
    "start_time": "2022-12-07T17:51:52.965Z"
   },
   {
    "duration": 13,
    "start_time": "2022-12-07T17:51:52.975Z"
   },
   {
    "duration": 6,
    "start_time": "2022-12-07T17:51:52.990Z"
   },
   {
    "duration": 5,
    "start_time": "2022-12-07T17:51:52.997Z"
   },
   {
    "duration": 45,
    "start_time": "2022-12-07T17:51:53.003Z"
   },
   {
    "duration": 12,
    "start_time": "2022-12-07T17:51:53.049Z"
   },
   {
    "duration": 15,
    "start_time": "2022-12-07T17:51:53.063Z"
   },
   {
    "duration": 11,
    "start_time": "2022-12-07T17:51:53.080Z"
   },
   {
    "duration": 9,
    "start_time": "2022-12-07T17:51:53.093Z"
   },
   {
    "duration": 8,
    "start_time": "2022-12-07T17:51:53.103Z"
   },
   {
    "duration": 12,
    "start_time": "2022-12-07T17:51:53.138Z"
   },
   {
    "duration": 15,
    "start_time": "2022-12-07T17:51:53.152Z"
   },
   {
    "duration": 7,
    "start_time": "2022-12-07T17:51:53.169Z"
   },
   {
    "duration": 206,
    "start_time": "2022-12-07T17:51:53.178Z"
   },
   {
    "duration": 119,
    "start_time": "2022-12-07T17:51:53.386Z"
   },
   {
    "duration": 12,
    "start_time": "2022-12-07T17:51:53.506Z"
   },
   {
    "duration": 302,
    "start_time": "2022-12-07T17:51:53.520Z"
   },
   {
    "duration": 255,
    "start_time": "2022-12-07T17:51:53.826Z"
   },
   {
    "duration": 301,
    "start_time": "2022-12-07T17:51:54.083Z"
   },
   {
    "duration": 217,
    "start_time": "2022-12-07T17:51:54.386Z"
   },
   {
    "duration": 350,
    "start_time": "2022-12-07T17:51:54.604Z"
   },
   {
    "duration": 11,
    "start_time": "2022-12-07T17:51:54.956Z"
   },
   {
    "duration": 203,
    "start_time": "2022-12-07T17:51:54.969Z"
   },
   {
    "duration": 5,
    "start_time": "2022-12-07T17:51:55.174Z"
   },
   {
    "duration": 13,
    "start_time": "2022-12-07T17:51:55.181Z"
   },
   {
    "duration": 184,
    "start_time": "2022-12-07T17:51:55.195Z"
   },
   {
    "duration": 6,
    "start_time": "2022-12-07T17:51:55.381Z"
   },
   {
    "duration": 10,
    "start_time": "2022-12-07T17:51:55.389Z"
   },
   {
    "duration": 10,
    "start_time": "2022-12-07T17:51:55.401Z"
   },
   {
    "duration": 323,
    "start_time": "2022-12-07T17:51:55.437Z"
   },
   {
    "duration": 179,
    "start_time": "2022-12-07T17:51:55.761Z"
   },
   {
    "duration": 7,
    "start_time": "2022-12-07T17:51:55.941Z"
   },
   {
    "duration": 28,
    "start_time": "2022-12-07T17:51:55.950Z"
   },
   {
    "duration": 11,
    "start_time": "2022-12-07T17:51:55.980Z"
   },
   {
    "duration": 11,
    "start_time": "2022-12-07T17:51:55.993Z"
   },
   {
    "duration": 10,
    "start_time": "2022-12-07T17:51:56.037Z"
   },
   {
    "duration": 28,
    "start_time": "2022-12-07T17:51:56.049Z"
   },
   {
    "duration": 15,
    "start_time": "2022-12-07T17:51:56.078Z"
   },
   {
    "duration": 1061,
    "start_time": "2022-12-08T08:25:59.639Z"
   },
   {
    "duration": 77,
    "start_time": "2022-12-08T08:26:00.702Z"
   },
   {
    "duration": 19,
    "start_time": "2022-12-08T08:26:00.780Z"
   },
   {
    "duration": 45,
    "start_time": "2022-12-08T08:26:00.801Z"
   },
   {
    "duration": 42,
    "start_time": "2022-12-08T08:26:00.847Z"
   },
   {
    "duration": 36,
    "start_time": "2022-12-08T08:26:00.891Z"
   },
   {
    "duration": 44,
    "start_time": "2022-12-08T08:26:00.929Z"
   },
   {
    "duration": 20,
    "start_time": "2022-12-08T08:26:00.975Z"
   },
   {
    "duration": 40,
    "start_time": "2022-12-08T08:26:00.997Z"
   },
   {
    "duration": 32,
    "start_time": "2022-12-08T08:26:01.039Z"
   },
   {
    "duration": 46,
    "start_time": "2022-12-08T08:26:01.073Z"
   },
   {
    "duration": 61,
    "start_time": "2022-12-08T08:26:01.121Z"
   },
   {
    "duration": 36,
    "start_time": "2022-12-08T08:26:01.184Z"
   },
   {
    "duration": 73,
    "start_time": "2022-12-08T08:26:01.221Z"
   },
   {
    "duration": 90,
    "start_time": "2022-12-08T08:26:01.296Z"
   },
   {
    "duration": 50,
    "start_time": "2022-12-08T08:26:01.388Z"
   },
   {
    "duration": 19,
    "start_time": "2022-12-08T08:26:01.440Z"
   },
   {
    "duration": 33,
    "start_time": "2022-12-08T08:26:01.460Z"
   },
   {
    "duration": 39,
    "start_time": "2022-12-08T08:26:01.495Z"
   },
   {
    "duration": 41,
    "start_time": "2022-12-08T08:26:01.536Z"
   },
   {
    "duration": 50,
    "start_time": "2022-12-08T08:26:01.578Z"
   },
   {
    "duration": 36,
    "start_time": "2022-12-08T08:26:01.630Z"
   },
   {
    "duration": 210,
    "start_time": "2022-12-08T08:26:01.668Z"
   },
   {
    "duration": 140,
    "start_time": "2022-12-08T08:26:01.879Z"
   },
   {
    "duration": 12,
    "start_time": "2022-12-08T08:26:02.020Z"
   },
   {
    "duration": 299,
    "start_time": "2022-12-08T08:26:02.034Z"
   },
   {
    "duration": 256,
    "start_time": "2022-12-08T08:26:02.334Z"
   },
   {
    "duration": 334,
    "start_time": "2022-12-08T08:26:02.596Z"
   },
   {
    "duration": 206,
    "start_time": "2022-12-08T08:26:02.932Z"
   },
   {
    "duration": 300,
    "start_time": "2022-12-08T08:26:03.139Z"
   },
   {
    "duration": 10,
    "start_time": "2022-12-08T08:26:03.441Z"
   },
   {
    "duration": 182,
    "start_time": "2022-12-08T08:26:03.453Z"
   },
   {
    "duration": 5,
    "start_time": "2022-12-08T08:26:03.637Z"
   },
   {
    "duration": 19,
    "start_time": "2022-12-08T08:26:03.643Z"
   },
   {
    "duration": 175,
    "start_time": "2022-12-08T08:26:03.664Z"
   },
   {
    "duration": 4,
    "start_time": "2022-12-08T08:26:03.841Z"
   },
   {
    "duration": 12,
    "start_time": "2022-12-08T08:26:03.847Z"
   },
   {
    "duration": 8,
    "start_time": "2022-12-08T08:26:03.861Z"
   },
   {
    "duration": 312,
    "start_time": "2022-12-08T08:26:03.870Z"
   },
   {
    "duration": 131,
    "start_time": "2022-12-08T08:26:04.184Z"
   },
   {
    "duration": 6,
    "start_time": "2022-12-08T08:26:04.316Z"
   },
   {
    "duration": 26,
    "start_time": "2022-12-08T08:26:04.324Z"
   },
   {
    "duration": 11,
    "start_time": "2022-12-08T08:26:04.352Z"
   },
   {
    "duration": 43,
    "start_time": "2022-12-08T08:26:04.365Z"
   },
   {
    "duration": 10,
    "start_time": "2022-12-08T08:26:04.411Z"
   },
   {
    "duration": 23,
    "start_time": "2022-12-08T08:26:04.423Z"
   },
   {
    "duration": 12,
    "start_time": "2022-12-08T08:26:04.447Z"
   },
   {
    "duration": 54,
    "start_time": "2022-12-08T08:27:18.637Z"
   },
   {
    "duration": 54,
    "start_time": "2022-12-08T08:28:49.477Z"
   }
  ],
  "kernelspec": {
   "display_name": "Python 3 (ipykernel)",
   "language": "python",
   "name": "python3"
  },
  "language_info": {
   "codemirror_mode": {
    "name": "ipython",
    "version": 3
   },
   "file_extension": ".py",
   "mimetype": "text/x-python",
   "name": "python",
   "nbconvert_exporter": "python",
   "pygments_lexer": "ipython3",
   "version": "3.9.12"
  },
  "toc": {
   "base_numbering": 1,
   "nav_menu": {},
   "number_sections": true,
   "sideBar": true,
   "skip_h1_title": true,
   "title_cell": "Table of Contents",
   "title_sidebar": "Contents",
   "toc_cell": false,
   "toc_position": {},
   "toc_section_display": true,
   "toc_window_display": true
  }
 },
 "nbformat": 4,
 "nbformat_minor": 2
}
