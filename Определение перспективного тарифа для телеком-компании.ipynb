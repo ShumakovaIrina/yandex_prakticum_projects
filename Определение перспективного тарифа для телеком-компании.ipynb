{
 "cells": [
  {
   "cell_type": "markdown",
   "metadata": {},
   "source": [
    "#   Определение перспективного тарифа для телеком-компании\n",
    "   \n",
    "\n",
    " Провести  анализ тарифов на выборке данных 500 пользователей оператора сотовой связи «Мегалайн» за 2018 год.\n",
    " \n",
    "  Проанализировать поведение клиентов и сделать вывод — какой  из двух ,предлагаемых тарифов «Смарт» или «Ультра» приносит больше выручки компании \n",
    "\n",
    "\n",
    " ##  Описание данных\n",
    "\n",
    "\n",
    "##### Таблица users (информация о пользователях):\n",
    "\n",
    "\n",
    "  user_id — уникальный идентификатор пользователя\n",
    "  \n",
    "  first_name — имя пользователя\n",
    "  \n",
    "  last_name — фамилия пользователя\n",
    "  \n",
    "  age — возраст пользователя (годы)\n",
    "  \n",
    "  reg_date — дата подключения тарифа (день, месяц, год)\n",
    "  \n",
    "  churn_date — дата прекращения пользования тарифом (если значение пропущено, то тариф ещё действовал на момент выгрузки данных)\n",
    "  \n",
    "  city — город проживания пользователя\n",
    "  \n",
    "  tariff — название тарифного плана\n",
    "\n",
    "\n",
    "##### Таблица calls (информация о звонках):\n",
    "\n",
    "\n",
    "id — уникальный номер звонка\n",
    "\n",
    "call_date — дата звонка\n",
    "\n",
    "duration — длительность звонка в минутах\n",
    "\n",
    "user_id — идентификатор пользователя, сделавшего звонок\n",
    "\n",
    "\n",
    "\n",
    "##### Таблица messages (информация о сообщениях):\n",
    "\n",
    "id — уникальный номер сообщения\n",
    "\n",
    "message_date — дата сообщения\n",
    "\n",
    "user_id — идентификатор пользователя, отправившего сообщение\n",
    "\n",
    "\n",
    "\n",
    "##### Таблица internet (информация об интернет-сессиях):\n",
    " id — уникальный номер сессии\n",
    " \n",
    " mb_used — объём потраченного за сессию интернет-трафика (в мегабайтах)\n",
    " \n",
    " session_date — дата интернет-сессии\n",
    " \n",
    " user_id — идентификатор пользователя\n",
    "\n",
    "\n",
    "##### Таблица tariffs (информация о тарифах):\n",
    " tariff_name — название тарифа\n",
    " \n",
    "rub_monthly_fee — ежемесячная абонентская плата в рублях\n",
    "\n",
    "minutes_included — количество минут разговора в месяц, включённых в абонентскую плату\n",
    "\n",
    "messages_included — количество сообщений в месяц, включённых в абонентскую плату\n",
    "\n",
    "mb_per_month_included — объём интернет-трафика, включённого в абонентскую плату (в мегабайтах)\n",
    "\n",
    "rub_per_minute — стоимость минуты разговора сверх тарифного пакета (например, если в тарифе 100 минут разговора в месяц, то со 101 минуты будет взиматься плата)\n",
    "\n",
    "rub_per_message — стоимость отправки сообщения сверх тарифного пакета\n",
    "\n",
    "rub_per_gb — стоимость дополнительного гигабайта интернет-трафика сверх тарифного пакета (1 гигабайт = 1024 мегабайта)\n",
    "\n",
    "\n",
    "\n"
   ]
  },
  {
   "cell_type": "markdown",
   "metadata": {},
   "source": [
    "Описание тарифов\n",
    "\n",
    "\n",
    "Тариф «Смарт»\n",
    "  Ежемесячная плата: 550 рублей\n",
    "  Включено 500 минут разговора, 50 сообщений и 15 Гб интернет-трафика\n",
    "  Стоимость услуг сверх тарифного пакета:\n",
    "   минута разговора: 3 рубля\n",
    "  сообщение: 3 рубля\n",
    "  1 Гб интернет-трафика: 200 рублей\n",
    "  \n",
    "Тариф «Ультра»\n",
    "  Ежемесячная плата: 1950 рублей\n",
    "  Включено 3000 минут разговора, 1000 сообщений и 30 Гб интернет-трафика\n",
    "  Стоимость услуг сверх тарифного пакета:\n",
    "  минута разговора: 1 рубль\n",
    "  сообщение: 1 рубль\n",
    "  1 Гб интернет-трафика: 150 рублей\n",
    "  \n",
    "  \n",
    "Примечание\n",
    "\n",
    "«Мегалайн» всегда округляет секунды до минут, а мегабайты — до гигабайт. Каждый звонок округляется отдельно: даже если он длился всего 1 секунду, будет засчитан как 1 минута.\n",
    "Для веб-трафика отдельные сессии не считаются. Вместо этого общая сумма за месяц округляется в бо́льшую сторону.  "
   ]
  },
  {
   "cell_type": "markdown",
   "metadata": {},
   "source": [
    "##  Изучение общей информации о данных"
   ]
  },
  {
   "cell_type": "code",
   "execution_count": 1,
   "metadata": {},
   "outputs": [],
   "source": [
    "# импорт библиотек\n",
    "import pandas as pd               \n",
    "import numpy as np\n",
    "import matplotlib.pyplot as plt    \n",
    "import seaborn as sns\n",
    "from scipy import stats as st"
   ]
  },
  {
   "cell_type": "code",
   "execution_count": 2,
   "metadata": {},
   "outputs": [],
   "source": [
    "# открываем файлы\n",
    "calls = pd.read_csv('/datasets/calls.csv')         \n",
    "internet = pd.read_csv('/datasets/internet.csv')    \n",
    "messages = pd.read_csv('/datasets/messages.csv')   \n",
    "tariffs = pd.read_csv('/datasets/tariffs.csv')   \n",
    "users = pd.read_csv('/datasets/users.csv')    "
   ]
  },
  {
   "cell_type": "code",
   "execution_count": 3,
   "metadata": {},
   "outputs": [
    {
     "name": "stdout",
     "output_type": "stream",
     "text": [
      "<class 'pandas.core.frame.DataFrame'>\n",
      "RangeIndex: 202607 entries, 0 to 202606\n",
      "Data columns (total 4 columns):\n",
      " #   Column     Non-Null Count   Dtype  \n",
      "---  ------     --------------   -----  \n",
      " 0   id         202607 non-null  object \n",
      " 1   call_date  202607 non-null  object \n",
      " 2   duration   202607 non-null  float64\n",
      " 3   user_id    202607 non-null  int64  \n",
      "dtypes: float64(1), int64(1), object(2)\n",
      "memory usage: 6.2+ MB\n"
     ]
    },
    {
     "data": {
      "text/html": [
       "<div>\n",
       "<style scoped>\n",
       "    .dataframe tbody tr th:only-of-type {\n",
       "        vertical-align: middle;\n",
       "    }\n",
       "\n",
       "    .dataframe tbody tr th {\n",
       "        vertical-align: top;\n",
       "    }\n",
       "\n",
       "    .dataframe thead th {\n",
       "        text-align: right;\n",
       "    }\n",
       "</style>\n",
       "<table border=\"1\" class=\"dataframe\">\n",
       "  <thead>\n",
       "    <tr style=\"text-align: right;\">\n",
       "      <th></th>\n",
       "      <th>id</th>\n",
       "      <th>call_date</th>\n",
       "      <th>duration</th>\n",
       "      <th>user_id</th>\n",
       "    </tr>\n",
       "  </thead>\n",
       "  <tbody>\n",
       "    <tr>\n",
       "      <th>0</th>\n",
       "      <td>1000_0</td>\n",
       "      <td>2018-07-25</td>\n",
       "      <td>0.00</td>\n",
       "      <td>1000</td>\n",
       "    </tr>\n",
       "    <tr>\n",
       "      <th>1</th>\n",
       "      <td>1000_1</td>\n",
       "      <td>2018-08-17</td>\n",
       "      <td>0.00</td>\n",
       "      <td>1000</td>\n",
       "    </tr>\n",
       "    <tr>\n",
       "      <th>2</th>\n",
       "      <td>1000_2</td>\n",
       "      <td>2018-06-11</td>\n",
       "      <td>2.85</td>\n",
       "      <td>1000</td>\n",
       "    </tr>\n",
       "    <tr>\n",
       "      <th>3</th>\n",
       "      <td>1000_3</td>\n",
       "      <td>2018-09-21</td>\n",
       "      <td>13.80</td>\n",
       "      <td>1000</td>\n",
       "    </tr>\n",
       "    <tr>\n",
       "      <th>4</th>\n",
       "      <td>1000_4</td>\n",
       "      <td>2018-12-15</td>\n",
       "      <td>5.18</td>\n",
       "      <td>1000</td>\n",
       "    </tr>\n",
       "    <tr>\n",
       "      <th>5</th>\n",
       "      <td>1000_5</td>\n",
       "      <td>2018-11-02</td>\n",
       "      <td>0.00</td>\n",
       "      <td>1000</td>\n",
       "    </tr>\n",
       "    <tr>\n",
       "      <th>6</th>\n",
       "      <td>1000_6</td>\n",
       "      <td>2018-10-18</td>\n",
       "      <td>0.00</td>\n",
       "      <td>1000</td>\n",
       "    </tr>\n",
       "    <tr>\n",
       "      <th>7</th>\n",
       "      <td>1000_7</td>\n",
       "      <td>2018-08-22</td>\n",
       "      <td>18.31</td>\n",
       "      <td>1000</td>\n",
       "    </tr>\n",
       "    <tr>\n",
       "      <th>8</th>\n",
       "      <td>1000_8</td>\n",
       "      <td>2018-09-15</td>\n",
       "      <td>18.44</td>\n",
       "      <td>1000</td>\n",
       "    </tr>\n",
       "    <tr>\n",
       "      <th>9</th>\n",
       "      <td>1000_9</td>\n",
       "      <td>2018-08-15</td>\n",
       "      <td>0.00</td>\n",
       "      <td>1000</td>\n",
       "    </tr>\n",
       "  </tbody>\n",
       "</table>\n",
       "</div>"
      ],
      "text/plain": [
       "       id   call_date  duration  user_id\n",
       "0  1000_0  2018-07-25      0.00     1000\n",
       "1  1000_1  2018-08-17      0.00     1000\n",
       "2  1000_2  2018-06-11      2.85     1000\n",
       "3  1000_3  2018-09-21     13.80     1000\n",
       "4  1000_4  2018-12-15      5.18     1000\n",
       "5  1000_5  2018-11-02      0.00     1000\n",
       "6  1000_6  2018-10-18      0.00     1000\n",
       "7  1000_7  2018-08-22     18.31     1000\n",
       "8  1000_8  2018-09-15     18.44     1000\n",
       "9  1000_9  2018-08-15      0.00     1000"
      ]
     },
     "execution_count": 3,
     "metadata": {},
     "output_type": "execute_result"
    }
   ],
   "source": [
    "# общая информация о звонках и первые 10 строк таблицы:\n",
    "calls.info()\n",
    "calls.head(10)"
   ]
  },
  {
   "cell_type": "code",
   "execution_count": 4,
   "metadata": {},
   "outputs": [
    {
     "name": "stdout",
     "output_type": "stream",
     "text": [
      "<class 'pandas.core.frame.DataFrame'>\n",
      "RangeIndex: 149396 entries, 0 to 149395\n",
      "Data columns (total 5 columns):\n",
      " #   Column        Non-Null Count   Dtype  \n",
      "---  ------        --------------   -----  \n",
      " 0   Unnamed: 0    149396 non-null  int64  \n",
      " 1   id            149396 non-null  object \n",
      " 2   mb_used       149396 non-null  float64\n",
      " 3   session_date  149396 non-null  object \n",
      " 4   user_id       149396 non-null  int64  \n",
      "dtypes: float64(1), int64(2), object(2)\n",
      "memory usage: 5.7+ MB\n"
     ]
    },
    {
     "data": {
      "text/html": [
       "<div>\n",
       "<style scoped>\n",
       "    .dataframe tbody tr th:only-of-type {\n",
       "        vertical-align: middle;\n",
       "    }\n",
       "\n",
       "    .dataframe tbody tr th {\n",
       "        vertical-align: top;\n",
       "    }\n",
       "\n",
       "    .dataframe thead th {\n",
       "        text-align: right;\n",
       "    }\n",
       "</style>\n",
       "<table border=\"1\" class=\"dataframe\">\n",
       "  <thead>\n",
       "    <tr style=\"text-align: right;\">\n",
       "      <th></th>\n",
       "      <th>Unnamed: 0</th>\n",
       "      <th>id</th>\n",
       "      <th>mb_used</th>\n",
       "      <th>session_date</th>\n",
       "      <th>user_id</th>\n",
       "    </tr>\n",
       "  </thead>\n",
       "  <tbody>\n",
       "    <tr>\n",
       "      <th>0</th>\n",
       "      <td>0</td>\n",
       "      <td>1000_0</td>\n",
       "      <td>112.95</td>\n",
       "      <td>2018-11-25</td>\n",
       "      <td>1000</td>\n",
       "    </tr>\n",
       "    <tr>\n",
       "      <th>1</th>\n",
       "      <td>1</td>\n",
       "      <td>1000_1</td>\n",
       "      <td>1052.81</td>\n",
       "      <td>2018-09-07</td>\n",
       "      <td>1000</td>\n",
       "    </tr>\n",
       "    <tr>\n",
       "      <th>2</th>\n",
       "      <td>2</td>\n",
       "      <td>1000_2</td>\n",
       "      <td>1197.26</td>\n",
       "      <td>2018-06-25</td>\n",
       "      <td>1000</td>\n",
       "    </tr>\n",
       "    <tr>\n",
       "      <th>3</th>\n",
       "      <td>3</td>\n",
       "      <td>1000_3</td>\n",
       "      <td>550.27</td>\n",
       "      <td>2018-08-22</td>\n",
       "      <td>1000</td>\n",
       "    </tr>\n",
       "    <tr>\n",
       "      <th>4</th>\n",
       "      <td>4</td>\n",
       "      <td>1000_4</td>\n",
       "      <td>302.56</td>\n",
       "      <td>2018-09-24</td>\n",
       "      <td>1000</td>\n",
       "    </tr>\n",
       "    <tr>\n",
       "      <th>5</th>\n",
       "      <td>5</td>\n",
       "      <td>1000_5</td>\n",
       "      <td>399.97</td>\n",
       "      <td>2018-10-02</td>\n",
       "      <td>1000</td>\n",
       "    </tr>\n",
       "    <tr>\n",
       "      <th>6</th>\n",
       "      <td>6</td>\n",
       "      <td>1000_6</td>\n",
       "      <td>540.08</td>\n",
       "      <td>2018-09-07</td>\n",
       "      <td>1000</td>\n",
       "    </tr>\n",
       "    <tr>\n",
       "      <th>7</th>\n",
       "      <td>7</td>\n",
       "      <td>1000_7</td>\n",
       "      <td>415.70</td>\n",
       "      <td>2018-07-11</td>\n",
       "      <td>1000</td>\n",
       "    </tr>\n",
       "    <tr>\n",
       "      <th>8</th>\n",
       "      <td>8</td>\n",
       "      <td>1000_8</td>\n",
       "      <td>505.40</td>\n",
       "      <td>2018-10-08</td>\n",
       "      <td>1000</td>\n",
       "    </tr>\n",
       "    <tr>\n",
       "      <th>9</th>\n",
       "      <td>9</td>\n",
       "      <td>1000_9</td>\n",
       "      <td>345.54</td>\n",
       "      <td>2018-09-03</td>\n",
       "      <td>1000</td>\n",
       "    </tr>\n",
       "  </tbody>\n",
       "</table>\n",
       "</div>"
      ],
      "text/plain": [
       "   Unnamed: 0      id  mb_used session_date  user_id\n",
       "0           0  1000_0   112.95   2018-11-25     1000\n",
       "1           1  1000_1  1052.81   2018-09-07     1000\n",
       "2           2  1000_2  1197.26   2018-06-25     1000\n",
       "3           3  1000_3   550.27   2018-08-22     1000\n",
       "4           4  1000_4   302.56   2018-09-24     1000\n",
       "5           5  1000_5   399.97   2018-10-02     1000\n",
       "6           6  1000_6   540.08   2018-09-07     1000\n",
       "7           7  1000_7   415.70   2018-07-11     1000\n",
       "8           8  1000_8   505.40   2018-10-08     1000\n",
       "9           9  1000_9   345.54   2018-09-03     1000"
      ]
     },
     "execution_count": 4,
     "metadata": {},
     "output_type": "execute_result"
    }
   ],
   "source": [
    "#  информация об интернет-сессиях\n",
    "internet.info()\n",
    "internet.head(10)"
   ]
  },
  {
   "cell_type": "code",
   "execution_count": 5,
   "metadata": {},
   "outputs": [
    {
     "name": "stdout",
     "output_type": "stream",
     "text": [
      "<class 'pandas.core.frame.DataFrame'>\n",
      "RangeIndex: 123036 entries, 0 to 123035\n",
      "Data columns (total 3 columns):\n",
      " #   Column        Non-Null Count   Dtype \n",
      "---  ------        --------------   ----- \n",
      " 0   id            123036 non-null  object\n",
      " 1   message_date  123036 non-null  object\n",
      " 2   user_id       123036 non-null  int64 \n",
      "dtypes: int64(1), object(2)\n",
      "memory usage: 2.8+ MB\n"
     ]
    },
    {
     "data": {
      "text/html": [
       "<div>\n",
       "<style scoped>\n",
       "    .dataframe tbody tr th:only-of-type {\n",
       "        vertical-align: middle;\n",
       "    }\n",
       "\n",
       "    .dataframe tbody tr th {\n",
       "        vertical-align: top;\n",
       "    }\n",
       "\n",
       "    .dataframe thead th {\n",
       "        text-align: right;\n",
       "    }\n",
       "</style>\n",
       "<table border=\"1\" class=\"dataframe\">\n",
       "  <thead>\n",
       "    <tr style=\"text-align: right;\">\n",
       "      <th></th>\n",
       "      <th>id</th>\n",
       "      <th>message_date</th>\n",
       "      <th>user_id</th>\n",
       "    </tr>\n",
       "  </thead>\n",
       "  <tbody>\n",
       "    <tr>\n",
       "      <th>0</th>\n",
       "      <td>1000_0</td>\n",
       "      <td>2018-06-27</td>\n",
       "      <td>1000</td>\n",
       "    </tr>\n",
       "    <tr>\n",
       "      <th>1</th>\n",
       "      <td>1000_1</td>\n",
       "      <td>2018-10-08</td>\n",
       "      <td>1000</td>\n",
       "    </tr>\n",
       "    <tr>\n",
       "      <th>2</th>\n",
       "      <td>1000_2</td>\n",
       "      <td>2018-08-04</td>\n",
       "      <td>1000</td>\n",
       "    </tr>\n",
       "    <tr>\n",
       "      <th>3</th>\n",
       "      <td>1000_3</td>\n",
       "      <td>2018-06-16</td>\n",
       "      <td>1000</td>\n",
       "    </tr>\n",
       "    <tr>\n",
       "      <th>4</th>\n",
       "      <td>1000_4</td>\n",
       "      <td>2018-12-05</td>\n",
       "      <td>1000</td>\n",
       "    </tr>\n",
       "    <tr>\n",
       "      <th>5</th>\n",
       "      <td>1000_5</td>\n",
       "      <td>2018-06-20</td>\n",
       "      <td>1000</td>\n",
       "    </tr>\n",
       "    <tr>\n",
       "      <th>6</th>\n",
       "      <td>1000_6</td>\n",
       "      <td>2018-11-19</td>\n",
       "      <td>1000</td>\n",
       "    </tr>\n",
       "    <tr>\n",
       "      <th>7</th>\n",
       "      <td>1000_7</td>\n",
       "      <td>2018-10-29</td>\n",
       "      <td>1000</td>\n",
       "    </tr>\n",
       "    <tr>\n",
       "      <th>8</th>\n",
       "      <td>1000_8</td>\n",
       "      <td>2018-06-25</td>\n",
       "      <td>1000</td>\n",
       "    </tr>\n",
       "    <tr>\n",
       "      <th>9</th>\n",
       "      <td>1000_9</td>\n",
       "      <td>2018-12-18</td>\n",
       "      <td>1000</td>\n",
       "    </tr>\n",
       "  </tbody>\n",
       "</table>\n",
       "</div>"
      ],
      "text/plain": [
       "       id message_date  user_id\n",
       "0  1000_0   2018-06-27     1000\n",
       "1  1000_1   2018-10-08     1000\n",
       "2  1000_2   2018-08-04     1000\n",
       "3  1000_3   2018-06-16     1000\n",
       "4  1000_4   2018-12-05     1000\n",
       "5  1000_5   2018-06-20     1000\n",
       "6  1000_6   2018-11-19     1000\n",
       "7  1000_7   2018-10-29     1000\n",
       "8  1000_8   2018-06-25     1000\n",
       "9  1000_9   2018-12-18     1000"
      ]
     },
     "execution_count": 5,
     "metadata": {},
     "output_type": "execute_result"
    }
   ],
   "source": [
    "#  информация о сообщениях\n",
    "messages.info()\n",
    "messages.head(10)"
   ]
  },
  {
   "cell_type": "code",
   "execution_count": 6,
   "metadata": {},
   "outputs": [
    {
     "name": "stdout",
     "output_type": "stream",
     "text": [
      "<class 'pandas.core.frame.DataFrame'>\n",
      "RangeIndex: 2 entries, 0 to 1\n",
      "Data columns (total 8 columns):\n",
      " #   Column                 Non-Null Count  Dtype \n",
      "---  ------                 --------------  ----- \n",
      " 0   messages_included      2 non-null      int64 \n",
      " 1   mb_per_month_included  2 non-null      int64 \n",
      " 2   minutes_included       2 non-null      int64 \n",
      " 3   rub_monthly_fee        2 non-null      int64 \n",
      " 4   rub_per_gb             2 non-null      int64 \n",
      " 5   rub_per_message        2 non-null      int64 \n",
      " 6   rub_per_minute         2 non-null      int64 \n",
      " 7   tariff_name            2 non-null      object\n",
      "dtypes: int64(7), object(1)\n",
      "memory usage: 256.0+ bytes\n"
     ]
    },
    {
     "data": {
      "text/html": [
       "<div>\n",
       "<style scoped>\n",
       "    .dataframe tbody tr th:only-of-type {\n",
       "        vertical-align: middle;\n",
       "    }\n",
       "\n",
       "    .dataframe tbody tr th {\n",
       "        vertical-align: top;\n",
       "    }\n",
       "\n",
       "    .dataframe thead th {\n",
       "        text-align: right;\n",
       "    }\n",
       "</style>\n",
       "<table border=\"1\" class=\"dataframe\">\n",
       "  <thead>\n",
       "    <tr style=\"text-align: right;\">\n",
       "      <th></th>\n",
       "      <th>messages_included</th>\n",
       "      <th>mb_per_month_included</th>\n",
       "      <th>minutes_included</th>\n",
       "      <th>rub_monthly_fee</th>\n",
       "      <th>rub_per_gb</th>\n",
       "      <th>rub_per_message</th>\n",
       "      <th>rub_per_minute</th>\n",
       "      <th>tariff_name</th>\n",
       "    </tr>\n",
       "  </thead>\n",
       "  <tbody>\n",
       "    <tr>\n",
       "      <th>0</th>\n",
       "      <td>50</td>\n",
       "      <td>15360</td>\n",
       "      <td>500</td>\n",
       "      <td>550</td>\n",
       "      <td>200</td>\n",
       "      <td>3</td>\n",
       "      <td>3</td>\n",
       "      <td>smart</td>\n",
       "    </tr>\n",
       "    <tr>\n",
       "      <th>1</th>\n",
       "      <td>1000</td>\n",
       "      <td>30720</td>\n",
       "      <td>3000</td>\n",
       "      <td>1950</td>\n",
       "      <td>150</td>\n",
       "      <td>1</td>\n",
       "      <td>1</td>\n",
       "      <td>ultra</td>\n",
       "    </tr>\n",
       "  </tbody>\n",
       "</table>\n",
       "</div>"
      ],
      "text/plain": [
       "   messages_included  mb_per_month_included  minutes_included  \\\n",
       "0                 50                  15360               500   \n",
       "1               1000                  30720              3000   \n",
       "\n",
       "   rub_monthly_fee  rub_per_gb  rub_per_message  rub_per_minute tariff_name  \n",
       "0              550         200                3               3       smart  \n",
       "1             1950         150                1               1       ultra  "
      ]
     },
     "execution_count": 6,
     "metadata": {},
     "output_type": "execute_result"
    }
   ],
   "source": [
    "#  информация о тарифах\n",
    "tariffs.info()\n",
    "tariffs.head(10)"
   ]
  },
  {
   "cell_type": "code",
   "execution_count": 7,
   "metadata": {
    "scrolled": false
   },
   "outputs": [
    {
     "name": "stdout",
     "output_type": "stream",
     "text": [
      "<class 'pandas.core.frame.DataFrame'>\n",
      "RangeIndex: 500 entries, 0 to 499\n",
      "Data columns (total 8 columns):\n",
      " #   Column      Non-Null Count  Dtype \n",
      "---  ------      --------------  ----- \n",
      " 0   user_id     500 non-null    int64 \n",
      " 1   age         500 non-null    int64 \n",
      " 2   churn_date  38 non-null     object\n",
      " 3   city        500 non-null    object\n",
      " 4   first_name  500 non-null    object\n",
      " 5   last_name   500 non-null    object\n",
      " 6   reg_date    500 non-null    object\n",
      " 7   tariff      500 non-null    object\n",
      "dtypes: int64(2), object(6)\n",
      "memory usage: 31.4+ KB\n"
     ]
    },
    {
     "data": {
      "text/html": [
       "<div>\n",
       "<style scoped>\n",
       "    .dataframe tbody tr th:only-of-type {\n",
       "        vertical-align: middle;\n",
       "    }\n",
       "\n",
       "    .dataframe tbody tr th {\n",
       "        vertical-align: top;\n",
       "    }\n",
       "\n",
       "    .dataframe thead th {\n",
       "        text-align: right;\n",
       "    }\n",
       "</style>\n",
       "<table border=\"1\" class=\"dataframe\">\n",
       "  <thead>\n",
       "    <tr style=\"text-align: right;\">\n",
       "      <th></th>\n",
       "      <th>user_id</th>\n",
       "      <th>age</th>\n",
       "      <th>churn_date</th>\n",
       "      <th>city</th>\n",
       "      <th>first_name</th>\n",
       "      <th>last_name</th>\n",
       "      <th>reg_date</th>\n",
       "      <th>tariff</th>\n",
       "    </tr>\n",
       "  </thead>\n",
       "  <tbody>\n",
       "    <tr>\n",
       "      <th>0</th>\n",
       "      <td>1000</td>\n",
       "      <td>52</td>\n",
       "      <td>NaN</td>\n",
       "      <td>Краснодар</td>\n",
       "      <td>Рафаил</td>\n",
       "      <td>Верещагин</td>\n",
       "      <td>2018-05-25</td>\n",
       "      <td>ultra</td>\n",
       "    </tr>\n",
       "    <tr>\n",
       "      <th>1</th>\n",
       "      <td>1001</td>\n",
       "      <td>41</td>\n",
       "      <td>NaN</td>\n",
       "      <td>Москва</td>\n",
       "      <td>Иван</td>\n",
       "      <td>Ежов</td>\n",
       "      <td>2018-11-01</td>\n",
       "      <td>smart</td>\n",
       "    </tr>\n",
       "    <tr>\n",
       "      <th>2</th>\n",
       "      <td>1002</td>\n",
       "      <td>59</td>\n",
       "      <td>NaN</td>\n",
       "      <td>Стерлитамак</td>\n",
       "      <td>Евгений</td>\n",
       "      <td>Абрамович</td>\n",
       "      <td>2018-06-17</td>\n",
       "      <td>smart</td>\n",
       "    </tr>\n",
       "    <tr>\n",
       "      <th>3</th>\n",
       "      <td>1003</td>\n",
       "      <td>23</td>\n",
       "      <td>NaN</td>\n",
       "      <td>Москва</td>\n",
       "      <td>Белла</td>\n",
       "      <td>Белякова</td>\n",
       "      <td>2018-08-17</td>\n",
       "      <td>ultra</td>\n",
       "    </tr>\n",
       "    <tr>\n",
       "      <th>4</th>\n",
       "      <td>1004</td>\n",
       "      <td>68</td>\n",
       "      <td>NaN</td>\n",
       "      <td>Новокузнецк</td>\n",
       "      <td>Татьяна</td>\n",
       "      <td>Авдеенко</td>\n",
       "      <td>2018-05-14</td>\n",
       "      <td>ultra</td>\n",
       "    </tr>\n",
       "    <tr>\n",
       "      <th>5</th>\n",
       "      <td>1005</td>\n",
       "      <td>67</td>\n",
       "      <td>NaN</td>\n",
       "      <td>Набережные Челны</td>\n",
       "      <td>Афанасий</td>\n",
       "      <td>Горлов</td>\n",
       "      <td>2018-01-25</td>\n",
       "      <td>smart</td>\n",
       "    </tr>\n",
       "    <tr>\n",
       "      <th>6</th>\n",
       "      <td>1006</td>\n",
       "      <td>21</td>\n",
       "      <td>NaN</td>\n",
       "      <td>Ульяновск</td>\n",
       "      <td>Леонид</td>\n",
       "      <td>Ермолаев</td>\n",
       "      <td>2018-02-26</td>\n",
       "      <td>smart</td>\n",
       "    </tr>\n",
       "    <tr>\n",
       "      <th>7</th>\n",
       "      <td>1007</td>\n",
       "      <td>65</td>\n",
       "      <td>NaN</td>\n",
       "      <td>Москва</td>\n",
       "      <td>Юна</td>\n",
       "      <td>Березина</td>\n",
       "      <td>2018-04-19</td>\n",
       "      <td>smart</td>\n",
       "    </tr>\n",
       "    <tr>\n",
       "      <th>8</th>\n",
       "      <td>1008</td>\n",
       "      <td>63</td>\n",
       "      <td>NaN</td>\n",
       "      <td>Челябинск</td>\n",
       "      <td>Рустэм</td>\n",
       "      <td>Пономарёв</td>\n",
       "      <td>2018-12-19</td>\n",
       "      <td>smart</td>\n",
       "    </tr>\n",
       "    <tr>\n",
       "      <th>9</th>\n",
       "      <td>1009</td>\n",
       "      <td>24</td>\n",
       "      <td>NaN</td>\n",
       "      <td>Пермь</td>\n",
       "      <td>Василиса</td>\n",
       "      <td>Блинова</td>\n",
       "      <td>2018-03-22</td>\n",
       "      <td>smart</td>\n",
       "    </tr>\n",
       "  </tbody>\n",
       "</table>\n",
       "</div>"
      ],
      "text/plain": [
       "   user_id  age churn_date              city first_name  last_name  \\\n",
       "0     1000   52        NaN         Краснодар     Рафаил  Верещагин   \n",
       "1     1001   41        NaN            Москва       Иван       Ежов   \n",
       "2     1002   59        NaN       Стерлитамак    Евгений  Абрамович   \n",
       "3     1003   23        NaN            Москва      Белла   Белякова   \n",
       "4     1004   68        NaN       Новокузнецк    Татьяна   Авдеенко   \n",
       "5     1005   67        NaN  Набережные Челны   Афанасий     Горлов   \n",
       "6     1006   21        NaN         Ульяновск     Леонид   Ермолаев   \n",
       "7     1007   65        NaN            Москва        Юна   Березина   \n",
       "8     1008   63        NaN         Челябинск     Рустэм  Пономарёв   \n",
       "9     1009   24        NaN             Пермь   Василиса    Блинова   \n",
       "\n",
       "     reg_date tariff  \n",
       "0  2018-05-25  ultra  \n",
       "1  2018-11-01  smart  \n",
       "2  2018-06-17  smart  \n",
       "3  2018-08-17  ultra  \n",
       "4  2018-05-14  ultra  \n",
       "5  2018-01-25  smart  \n",
       "6  2018-02-26  smart  \n",
       "7  2018-04-19  smart  \n",
       "8  2018-12-19  smart  \n",
       "9  2018-03-22  smart  "
      ]
     },
     "execution_count": 7,
     "metadata": {},
     "output_type": "execute_result"
    }
   ],
   "source": [
    "# информация о пользователях\n",
    "users.info()\n",
    "users.head(10)"
   ]
  },
  {
   "cell_type": "code",
   "execution_count": 8,
   "metadata": {},
   "outputs": [
    {
     "data": {
      "text/plain": [
       "0"
      ]
     },
     "metadata": {},
     "output_type": "display_data"
    }
   ],
   "source": [
    "#подсчет явных дубликатов\n",
    "display(users.duplicated().sum())"
   ]
  },
  {
   "cell_type": "code",
   "execution_count": 9,
   "metadata": {},
   "outputs": [
    {
     "data": {
      "text/plain": [
       "0"
      ]
     },
     "metadata": {},
     "output_type": "display_data"
    }
   ],
   "source": [
    "#подсчет явных дубликатов\n",
    "display(tariffs.duplicated().sum())"
   ]
  },
  {
   "cell_type": "code",
   "execution_count": 10,
   "metadata": {},
   "outputs": [
    {
     "data": {
      "text/plain": [
       "0"
      ]
     },
     "metadata": {},
     "output_type": "display_data"
    }
   ],
   "source": [
    "#подсчет явных дубликатов\n",
    "display(messages.duplicated().sum())"
   ]
  },
  {
   "cell_type": "code",
   "execution_count": 11,
   "metadata": {},
   "outputs": [
    {
     "data": {
      "text/plain": [
       "0"
      ]
     },
     "metadata": {},
     "output_type": "display_data"
    }
   ],
   "source": [
    "#подсчет явных дубликатов\n",
    "display(internet.duplicated().sum())"
   ]
  },
  {
   "cell_type": "code",
   "execution_count": 12,
   "metadata": {},
   "outputs": [
    {
     "data": {
      "text/plain": [
       "0"
      ]
     },
     "metadata": {},
     "output_type": "display_data"
    }
   ],
   "source": [
    "#подсчет явных дубликатов\n",
    "display(calls.duplicated().sum())"
   ]
  },
  {
   "cell_type": "markdown",
   "metadata": {},
   "source": [
    "Изучена первая информация о данных:\n",
    "\n",
    " Таблица calls - пропуски в данных отсутствуют, типы данных в столбцах call_date и duration не соответствуют представленным данным:\n",
    "\n",
    "столбец call_date - дата совершения звонка, но  тип данных - object. Нужно перевести в формат даты.\n",
    "  duration - данные записаны в виде дробных чисел, однако, по условиям тарификации, минута округляется до целого в большую сторону. Нужно  заменить тип данных на целочисленный.\n",
    "Также присутствуют нулевые значения продолжительности разговора. В приложенной аннотации указано,  что 0 - это несостоявшийся звонок (пропущенный,либо отклоненный). \n",
    "\n",
    " Таблица internet - пропусков в данных нет. Типы данных в столбцах mb_used и session_date не соответствуют представленным данным:\n",
    "\n",
    "столбец session_date -  дата совершения звонка, но тип данных - object. Нужно перевести в формат даты.\n",
    "mb_used - данные записаны в виде дробных чисел, однако, по условиям тарификации, значения использованных данных округляются до целого в большую сторону. \n",
    "Присутствуют нулевые значения в mb_used. Раз сеанс передачи данных записан, значит он имел место быть. Стоит предположить, что таким образом записываются сессии короче 0.01 мбайта. Такие нулевые значения подлежат замене на значение 1, в соответствии с условиями тарификации.Необходима замена типа данных на целочисленный.\n",
    "\n",
    " Таблица messages - пропусков в данных нет. Столбец message_date требует замены типа данных на формат даты\n",
    "    \n",
    " Таблица tariffs -пропусков в данных нет.\n",
    " \n",
    " Таблица users - пропуски в churn_date(дата прекращения пользования тарифом) В аннотации к проекту сказано,что если значение пропущено, то тариф ещё действовал на момент выгрузки данных). У тех, кто отключился - данные заполнены. reg_date и churn_date требуют замены типа данных на на формат даты. Пропуски в churn_date можно заполнить датой окончания исследования 2018.12.31"
   ]
  },
  {
   "cell_type": "code",
   "execution_count": 13,
   "metadata": {},
   "outputs": [
    {
     "data": {
      "text/plain": [
       "{'whiskers': [<matplotlib.lines.Line2D at 0x7f345e6f23a0>,\n",
       "  <matplotlib.lines.Line2D at 0x7f345e6f2700>],\n",
       " 'caps': [<matplotlib.lines.Line2D at 0x7f345e6f2a60>,\n",
       "  <matplotlib.lines.Line2D at 0x7f345e6f2dc0>],\n",
       " 'boxes': [<matplotlib.lines.Line2D at 0x7f345e6f2040>],\n",
       " 'medians': [<matplotlib.lines.Line2D at 0x7f345e681160>],\n",
       " 'fliers': [<matplotlib.lines.Line2D at 0x7f345e6814c0>],\n",
       " 'means': []}"
      ]
     },
     "execution_count": 13,
     "metadata": {},
     "output_type": "execute_result"
    },
    {
     "data": {
      "image/png": "[encoded data removed]",
      "text/plain": [
       "<Figure size 432x288 with 1 Axes>"
      ]
     },
     "metadata": {
      "needs_background": "light"
     },
     "output_type": "display_data"
    }
   ],
   "source": [
    " # звонки\n",
    "\n",
    "plt.boxplot(x=calls['duration'])"
   ]
  },
  {
   "cell_type": "code",
   "execution_count": 14,
   "metadata": {
    "scrolled": true
   },
   "outputs": [
    {
     "data": {
      "text/plain": [
       "<AxesSubplot:>"
      ]
     },
     "execution_count": 14,
     "metadata": {},
     "output_type": "execute_result"
    },
    {
     "data": {
      "image/png": "[encoded data removed]",
      "text/plain": [
       "<Figure size 432x288 with 1 Axes>"
      ]
     },
     "metadata": {
      "needs_background": "light"
     },
     "output_type": "display_data"
    }
   ],
   "source": [
    "calls['duration'].hist(bins=30)"
   ]
  },
  {
   "cell_type": "code",
   "execution_count": 15,
   "metadata": {},
   "outputs": [
    {
     "data": {
      "text/plain": [
       "{'whiskers': [<matplotlib.lines.Line2D at 0x7f345e4f1340>,\n",
       "  <matplotlib.lines.Line2D at 0x7f345e4f16a0>],\n",
       " 'caps': [<matplotlib.lines.Line2D at 0x7f345e4f1a00>,\n",
       "  <matplotlib.lines.Line2D at 0x7f345e4f1d60>],\n",
       " 'boxes': [<matplotlib.lines.Line2D at 0x7f345e4e1fa0>],\n",
       " 'medians': [<matplotlib.lines.Line2D at 0x7f345e4fe100>],\n",
       " 'fliers': [<matplotlib.lines.Line2D at 0x7f345e4fe460>],\n",
       " 'means': []}"
      ]
     },
     "execution_count": 15,
     "metadata": {},
     "output_type": "execute_result"
    },
    {
     "data": {
      "image/png": "[encoded data removed]",
      "text/plain": [
       "<Figure size 432x288 with 1 Axes>"
      ]
     },
     "metadata": {
      "needs_background": "light"
     },
     "output_type": "display_data"
    }
   ],
   "source": [
    "# интернет\n",
    "plt.boxplot(x=internet['mb_used'])"
   ]
  },
  {
   "cell_type": "code",
   "execution_count": 16,
   "metadata": {},
   "outputs": [
    {
     "data": {
      "text/plain": [
       "<AxesSubplot:>"
      ]
     },
     "execution_count": 16,
     "metadata": {},
     "output_type": "execute_result"
    },
    {
     "data": {
      "image/png": "[encoded data removed]",
      "text/plain": [
       "<Figure size 432x288 with 1 Axes>"
      ]
     },
     "metadata": {
      "needs_background": "light"
     },
     "output_type": "display_data"
    }
   ],
   "source": [
    "internet['mb_used'].hist(bins=30)"
   ]
  },
  {
   "cell_type": "markdown",
   "metadata": {},
   "source": [
    "## Предобработка данных "
   ]
  },
  {
   "cell_type": "markdown",
   "metadata": {},
   "source": [
    "####  замена типов данных  в таблицах "
   ]
  },
  {
   "cell_type": "code",
   "execution_count": 17,
   "metadata": {},
   "outputs": [
    {
     "data": {
      "text/plain": [
       "0        2018-07-25\n",
       "1        2018-08-17\n",
       "2        2018-06-11\n",
       "3        2018-09-21\n",
       "4        2018-12-15\n",
       "            ...    \n",
       "202602   2018-12-26\n",
       "202603   2018-10-18\n",
       "202604   2018-11-10\n",
       "202605   2018-10-06\n",
       "202606   2018-12-14\n",
       "Name: call_date, Length: 202607, dtype: datetime64[ns]"
      ]
     },
     "metadata": {},
     "output_type": "display_data"
    },
    {
     "data": {
      "text/plain": [
       "0          0\n",
       "1          0\n",
       "2          3\n",
       "3         14\n",
       "4          6\n",
       "          ..\n",
       "202602     1\n",
       "202603    19\n",
       "202604    11\n",
       "202605     5\n",
       "202606    20\n",
       "Name: duration, Length: 202607, dtype: int64"
      ]
     },
     "execution_count": 17,
     "metadata": {},
     "output_type": "execute_result"
    }
   ],
   "source": [
    "#замена типов данных в таблице звонки \n",
    "calls['call_date'] = pd.to_datetime(calls['call_date'])\n",
    "display(calls['call_date'])\n",
    "calls['duration']=calls['duration'].apply(np.ceil).astype(int)\n",
    "calls['duration']\n"
   ]
  },
  {
   "cell_type": "code",
   "execution_count": 18,
   "metadata": {
    "scrolled": false
   },
   "outputs": [
    {
     "data": {
      "text/plain": [
       "0        2018-11-25\n",
       "1        2018-09-07\n",
       "2        2018-06-25\n",
       "3        2018-08-22\n",
       "4        2018-09-24\n",
       "            ...    \n",
       "149391   2018-10-03\n",
       "149392   2018-12-14\n",
       "149393   2018-10-27\n",
       "149394   2018-11-26\n",
       "149395   2018-10-26\n",
       "Name: session_date, Length: 149396, dtype: datetime64[ns]"
      ]
     },
     "metadata": {},
     "output_type": "display_data"
    },
    {
     "data": {
      "text/plain": [
       "0          113\n",
       "1         1053\n",
       "2         1198\n",
       "3          551\n",
       "4          303\n",
       "          ... \n",
       "149391     319\n",
       "149392     491\n",
       "149393       0\n",
       "149394    1247\n",
       "149395     545\n",
       "Name: mb_used, Length: 149396, dtype: int64"
      ]
     },
     "execution_count": 18,
     "metadata": {},
     "output_type": "execute_result"
    }
   ],
   "source": [
    "#замена типов данных в таблице информация об интернет-сессиях \n",
    "internet['session_date'] = pd.to_datetime(internet['session_date'])\n",
    "display(internet['session_date'])\n",
    "internet['mb_used']= internet['mb_used'].apply(np.ceil).astype(int)\n",
    "internet['mb_used']"
   ]
  },
  {
   "cell_type": "markdown",
   "metadata": {},
   "source": []
  },
  {
   "cell_type": "code",
   "execution_count": 19,
   "metadata": {
    "scrolled": true
   },
   "outputs": [
    {
     "data": {
      "text/plain": [
       "0         0.110352\n",
       "1         1.028320\n",
       "2         1.169922\n",
       "3         0.538086\n",
       "4         0.295898\n",
       "            ...   \n",
       "149391    0.311523\n",
       "149392    0.479492\n",
       "149393    0.000000\n",
       "149394    1.217773\n",
       "149395    0.532227\n",
       "Name: gb_used, Length: 149396, dtype: float64"
      ]
     },
     "execution_count": 19,
     "metadata": {},
     "output_type": "execute_result"
    }
   ],
   "source": [
    "#в таблице с интернет-трафиком для дальнейшего анализа переведем мб в гб\n",
    "internet['gb_used'] = (internet['mb_used'] / 1024)\n",
    "internet['gb_used']"
   ]
  },
  {
   "cell_type": "code",
   "execution_count": 20,
   "metadata": {},
   "outputs": [
    {
     "data": {
      "text/html": [
       "<div>\n",
       "<style scoped>\n",
       "    .dataframe tbody tr th:only-of-type {\n",
       "        vertical-align: middle;\n",
       "    }\n",
       "\n",
       "    .dataframe tbody tr th {\n",
       "        vertical-align: top;\n",
       "    }\n",
       "\n",
       "    .dataframe thead th {\n",
       "        text-align: right;\n",
       "    }\n",
       "</style>\n",
       "<table border=\"1\" class=\"dataframe\">\n",
       "  <thead>\n",
       "    <tr style=\"text-align: right;\">\n",
       "      <th></th>\n",
       "      <th>Unnamed: 0</th>\n",
       "      <th>id</th>\n",
       "      <th>mb_used</th>\n",
       "      <th>session_date</th>\n",
       "      <th>user_id</th>\n",
       "      <th>gb_used</th>\n",
       "    </tr>\n",
       "  </thead>\n",
       "  <tbody>\n",
       "    <tr>\n",
       "      <th>0</th>\n",
       "      <td>0</td>\n",
       "      <td>1000_0</td>\n",
       "      <td>113</td>\n",
       "      <td>2018-11-25</td>\n",
       "      <td>1000</td>\n",
       "      <td>1.0</td>\n",
       "    </tr>\n",
       "    <tr>\n",
       "      <th>1</th>\n",
       "      <td>1</td>\n",
       "      <td>1000_1</td>\n",
       "      <td>1053</td>\n",
       "      <td>2018-09-07</td>\n",
       "      <td>1000</td>\n",
       "      <td>2.0</td>\n",
       "    </tr>\n",
       "    <tr>\n",
       "      <th>2</th>\n",
       "      <td>2</td>\n",
       "      <td>1000_2</td>\n",
       "      <td>1198</td>\n",
       "      <td>2018-06-25</td>\n",
       "      <td>1000</td>\n",
       "      <td>2.0</td>\n",
       "    </tr>\n",
       "    <tr>\n",
       "      <th>3</th>\n",
       "      <td>3</td>\n",
       "      <td>1000_3</td>\n",
       "      <td>551</td>\n",
       "      <td>2018-08-22</td>\n",
       "      <td>1000</td>\n",
       "      <td>1.0</td>\n",
       "    </tr>\n",
       "    <tr>\n",
       "      <th>4</th>\n",
       "      <td>4</td>\n",
       "      <td>1000_4</td>\n",
       "      <td>303</td>\n",
       "      <td>2018-09-24</td>\n",
       "      <td>1000</td>\n",
       "      <td>1.0</td>\n",
       "    </tr>\n",
       "    <tr>\n",
       "      <th>...</th>\n",
       "      <td>...</td>\n",
       "      <td>...</td>\n",
       "      <td>...</td>\n",
       "      <td>...</td>\n",
       "      <td>...</td>\n",
       "      <td>...</td>\n",
       "    </tr>\n",
       "    <tr>\n",
       "      <th>149391</th>\n",
       "      <td>149391</td>\n",
       "      <td>1499_152</td>\n",
       "      <td>319</td>\n",
       "      <td>2018-10-03</td>\n",
       "      <td>1499</td>\n",
       "      <td>1.0</td>\n",
       "    </tr>\n",
       "    <tr>\n",
       "      <th>149392</th>\n",
       "      <td>149392</td>\n",
       "      <td>1499_153</td>\n",
       "      <td>491</td>\n",
       "      <td>2018-12-14</td>\n",
       "      <td>1499</td>\n",
       "      <td>1.0</td>\n",
       "    </tr>\n",
       "    <tr>\n",
       "      <th>149393</th>\n",
       "      <td>149393</td>\n",
       "      <td>1499_154</td>\n",
       "      <td>0</td>\n",
       "      <td>2018-10-27</td>\n",
       "      <td>1499</td>\n",
       "      <td>1.0</td>\n",
       "    </tr>\n",
       "    <tr>\n",
       "      <th>149394</th>\n",
       "      <td>149394</td>\n",
       "      <td>1499_155</td>\n",
       "      <td>1247</td>\n",
       "      <td>2018-11-26</td>\n",
       "      <td>1499</td>\n",
       "      <td>2.0</td>\n",
       "    </tr>\n",
       "    <tr>\n",
       "      <th>149395</th>\n",
       "      <td>149395</td>\n",
       "      <td>1499_156</td>\n",
       "      <td>545</td>\n",
       "      <td>2018-10-26</td>\n",
       "      <td>1499</td>\n",
       "      <td>1.0</td>\n",
       "    </tr>\n",
       "  </tbody>\n",
       "</table>\n",
       "<p>149396 rows × 6 columns</p>\n",
       "</div>"
      ],
      "text/plain": [
       "        Unnamed: 0        id  mb_used session_date  user_id  gb_used\n",
       "0                0    1000_0      113   2018-11-25     1000      1.0\n",
       "1                1    1000_1     1053   2018-09-07     1000      2.0\n",
       "2                2    1000_2     1198   2018-06-25     1000      2.0\n",
       "3                3    1000_3      551   2018-08-22     1000      1.0\n",
       "4                4    1000_4      303   2018-09-24     1000      1.0\n",
       "...            ...       ...      ...          ...      ...      ...\n",
       "149391      149391  1499_152      319   2018-10-03     1499      1.0\n",
       "149392      149392  1499_153      491   2018-12-14     1499      1.0\n",
       "149393      149393  1499_154        0   2018-10-27     1499      1.0\n",
       "149394      149394  1499_155     1247   2018-11-26     1499      2.0\n",
       "149395      149395  1499_156      545   2018-10-26     1499      1.0\n",
       "\n",
       "[149396 rows x 6 columns]"
      ]
     },
     "execution_count": 20,
     "metadata": {},
     "output_type": "execute_result"
    }
   ],
   "source": [
    "internet['gb_used'] = internet['gb_used'].apply(np.ceil).replace(0, 1)\n",
    "internet['gb_used']\n",
    "internet"
   ]
  },
  {
   "cell_type": "code",
   "execution_count": 21,
   "metadata": {},
   "outputs": [
    {
     "data": {
      "text/plain": [
       "0        2018-06-27\n",
       "1        2018-10-08\n",
       "2        2018-08-04\n",
       "3        2018-06-16\n",
       "4        2018-12-05\n",
       "            ...    \n",
       "123031   2018-12-12\n",
       "123032   2018-09-28\n",
       "123033   2018-09-27\n",
       "123034   2018-11-15\n",
       "123035   2018-11-16\n",
       "Name: message_date, Length: 123036, dtype: datetime64[ns]"
      ]
     },
     "metadata": {},
     "output_type": "display_data"
    }
   ],
   "source": [
    "#замена типов данных в таблице  messages\n",
    "messages['message_date'] = pd.to_datetime(messages['message_date'])\n",
    "display( messages['message_date'])"
   ]
  },
  {
   "cell_type": "code",
   "execution_count": 22,
   "metadata": {
    "scrolled": true
   },
   "outputs": [
    {
     "data": {
      "text/plain": [
       "0     2018-05-25\n",
       "1     2018-11-01\n",
       "2     2018-06-17\n",
       "3     2018-08-17\n",
       "4     2018-05-14\n",
       "         ...    \n",
       "495   2018-08-28\n",
       "496   2018-01-27\n",
       "497   2018-10-09\n",
       "498   2018-07-19\n",
       "499   2018-09-27\n",
       "Name: reg_date, Length: 500, dtype: datetime64[ns]"
      ]
     },
     "metadata": {},
     "output_type": "display_data"
    },
    {
     "data": {
      "text/plain": [
       "0            NaT\n",
       "1            NaT\n",
       "2            NaT\n",
       "3            NaT\n",
       "4            NaT\n",
       "         ...    \n",
       "495          NaT\n",
       "496          NaT\n",
       "497          NaT\n",
       "498   2018-10-25\n",
       "499          NaT\n",
       "Name: churn_date, Length: 500, dtype: datetime64[ns]"
      ]
     },
     "metadata": {},
     "output_type": "display_data"
    }
   ],
   "source": [
    "#замена типов данных в таблице users \n",
    "users['reg_date'] = pd.to_datetime(users['reg_date'])\n",
    "display(users['reg_date'])\n",
    "\n",
    "users['churn_date'] = pd.to_datetime(users['churn_date'])\n",
    "display(users['churn_date'])\n"
   ]
  },
  {
   "cell_type": "markdown",
   "metadata": {},
   "source": [
    "пропуски в churn_date(дата прекращения пользования тарифом) В аннотации к проекту сказано,что если значение пропущено, то тариф ещё действовал на момент выгрузки данных. У тех, кто отключился - данные заполнены. Пропуски в churn_date можно заполнить датой окончания исследования 2018.12.31"
   ]
  },
  {
   "cell_type": "markdown",
   "metadata": {},
   "source": [
    "####  Подсчет для каждого пользователя по месяцам "
   ]
  },
  {
   "cell_type": "markdown",
   "metadata": {},
   "source": [
    "Чтобы произвести расчеты для пользователей по месяцам,сформируем колонки  с месяцем в таблицах:"
   ]
  },
  {
   "cell_type": "code",
   "execution_count": 23,
   "metadata": {
    "scrolled": true
   },
   "outputs": [
    {
     "data": {
      "text/html": [
       "<div>\n",
       "<style scoped>\n",
       "    .dataframe tbody tr th:only-of-type {\n",
       "        vertical-align: middle;\n",
       "    }\n",
       "\n",
       "    .dataframe tbody tr th {\n",
       "        vertical-align: top;\n",
       "    }\n",
       "\n",
       "    .dataframe thead th {\n",
       "        text-align: right;\n",
       "    }\n",
       "</style>\n",
       "<table border=\"1\" class=\"dataframe\">\n",
       "  <thead>\n",
       "    <tr style=\"text-align: right;\">\n",
       "      <th></th>\n",
       "      <th>id</th>\n",
       "      <th>call_date</th>\n",
       "      <th>duration</th>\n",
       "      <th>user_id</th>\n",
       "      <th>month</th>\n",
       "    </tr>\n",
       "  </thead>\n",
       "  <tbody>\n",
       "    <tr>\n",
       "      <th>0</th>\n",
       "      <td>1000_0</td>\n",
       "      <td>2018-07-25</td>\n",
       "      <td>0</td>\n",
       "      <td>1000</td>\n",
       "      <td>7</td>\n",
       "    </tr>\n",
       "    <tr>\n",
       "      <th>1</th>\n",
       "      <td>1000_1</td>\n",
       "      <td>2018-08-17</td>\n",
       "      <td>0</td>\n",
       "      <td>1000</td>\n",
       "      <td>8</td>\n",
       "    </tr>\n",
       "    <tr>\n",
       "      <th>2</th>\n",
       "      <td>1000_2</td>\n",
       "      <td>2018-06-11</td>\n",
       "      <td>3</td>\n",
       "      <td>1000</td>\n",
       "      <td>6</td>\n",
       "    </tr>\n",
       "    <tr>\n",
       "      <th>3</th>\n",
       "      <td>1000_3</td>\n",
       "      <td>2018-09-21</td>\n",
       "      <td>14</td>\n",
       "      <td>1000</td>\n",
       "      <td>9</td>\n",
       "    </tr>\n",
       "    <tr>\n",
       "      <th>4</th>\n",
       "      <td>1000_4</td>\n",
       "      <td>2018-12-15</td>\n",
       "      <td>6</td>\n",
       "      <td>1000</td>\n",
       "      <td>12</td>\n",
       "    </tr>\n",
       "    <tr>\n",
       "      <th>...</th>\n",
       "      <td>...</td>\n",
       "      <td>...</td>\n",
       "      <td>...</td>\n",
       "      <td>...</td>\n",
       "      <td>...</td>\n",
       "    </tr>\n",
       "    <tr>\n",
       "      <th>202602</th>\n",
       "      <td>1499_215</td>\n",
       "      <td>2018-12-26</td>\n",
       "      <td>1</td>\n",
       "      <td>1499</td>\n",
       "      <td>12</td>\n",
       "    </tr>\n",
       "    <tr>\n",
       "      <th>202603</th>\n",
       "      <td>1499_216</td>\n",
       "      <td>2018-10-18</td>\n",
       "      <td>19</td>\n",
       "      <td>1499</td>\n",
       "      <td>10</td>\n",
       "    </tr>\n",
       "    <tr>\n",
       "      <th>202604</th>\n",
       "      <td>1499_217</td>\n",
       "      <td>2018-11-10</td>\n",
       "      <td>11</td>\n",
       "      <td>1499</td>\n",
       "      <td>11</td>\n",
       "    </tr>\n",
       "    <tr>\n",
       "      <th>202605</th>\n",
       "      <td>1499_218</td>\n",
       "      <td>2018-10-06</td>\n",
       "      <td>5</td>\n",
       "      <td>1499</td>\n",
       "      <td>10</td>\n",
       "    </tr>\n",
       "    <tr>\n",
       "      <th>202606</th>\n",
       "      <td>1499_219</td>\n",
       "      <td>2018-12-14</td>\n",
       "      <td>20</td>\n",
       "      <td>1499</td>\n",
       "      <td>12</td>\n",
       "    </tr>\n",
       "  </tbody>\n",
       "</table>\n",
       "<p>202607 rows × 5 columns</p>\n",
       "</div>"
      ],
      "text/plain": [
       "              id  call_date  duration  user_id  month\n",
       "0         1000_0 2018-07-25         0     1000      7\n",
       "1         1000_1 2018-08-17         0     1000      8\n",
       "2         1000_2 2018-06-11         3     1000      6\n",
       "3         1000_3 2018-09-21        14     1000      9\n",
       "4         1000_4 2018-12-15         6     1000     12\n",
       "...          ...        ...       ...      ...    ...\n",
       "202602  1499_215 2018-12-26         1     1499     12\n",
       "202603  1499_216 2018-10-18        19     1499     10\n",
       "202604  1499_217 2018-11-10        11     1499     11\n",
       "202605  1499_218 2018-10-06         5     1499     10\n",
       "202606  1499_219 2018-12-14        20     1499     12\n",
       "\n",
       "[202607 rows x 5 columns]"
      ]
     },
     "execution_count": 23,
     "metadata": {},
     "output_type": "execute_result"
    }
   ],
   "source": [
    "calls['month'] = pd.to_datetime(calls['call_date']).dt.month\n",
    "calls"
   ]
  },
  {
   "cell_type": "code",
   "execution_count": 24,
   "metadata": {
    "scrolled": true
   },
   "outputs": [
    {
     "data": {
      "text/html": [
       "<div>\n",
       "<style scoped>\n",
       "    .dataframe tbody tr th:only-of-type {\n",
       "        vertical-align: middle;\n",
       "    }\n",
       "\n",
       "    .dataframe tbody tr th {\n",
       "        vertical-align: top;\n",
       "    }\n",
       "\n",
       "    .dataframe thead th {\n",
       "        text-align: right;\n",
       "    }\n",
       "</style>\n",
       "<table border=\"1\" class=\"dataframe\">\n",
       "  <thead>\n",
       "    <tr style=\"text-align: right;\">\n",
       "      <th></th>\n",
       "      <th>id</th>\n",
       "      <th>message_date</th>\n",
       "      <th>user_id</th>\n",
       "      <th>month</th>\n",
       "    </tr>\n",
       "  </thead>\n",
       "  <tbody>\n",
       "    <tr>\n",
       "      <th>0</th>\n",
       "      <td>1000_0</td>\n",
       "      <td>2018-06-27</td>\n",
       "      <td>1000</td>\n",
       "      <td>6</td>\n",
       "    </tr>\n",
       "    <tr>\n",
       "      <th>1</th>\n",
       "      <td>1000_1</td>\n",
       "      <td>2018-10-08</td>\n",
       "      <td>1000</td>\n",
       "      <td>10</td>\n",
       "    </tr>\n",
       "    <tr>\n",
       "      <th>2</th>\n",
       "      <td>1000_2</td>\n",
       "      <td>2018-08-04</td>\n",
       "      <td>1000</td>\n",
       "      <td>8</td>\n",
       "    </tr>\n",
       "    <tr>\n",
       "      <th>3</th>\n",
       "      <td>1000_3</td>\n",
       "      <td>2018-06-16</td>\n",
       "      <td>1000</td>\n",
       "      <td>6</td>\n",
       "    </tr>\n",
       "    <tr>\n",
       "      <th>4</th>\n",
       "      <td>1000_4</td>\n",
       "      <td>2018-12-05</td>\n",
       "      <td>1000</td>\n",
       "      <td>12</td>\n",
       "    </tr>\n",
       "    <tr>\n",
       "      <th>...</th>\n",
       "      <td>...</td>\n",
       "      <td>...</td>\n",
       "      <td>...</td>\n",
       "      <td>...</td>\n",
       "    </tr>\n",
       "    <tr>\n",
       "      <th>123031</th>\n",
       "      <td>1499_179</td>\n",
       "      <td>2018-12-12</td>\n",
       "      <td>1499</td>\n",
       "      <td>12</td>\n",
       "    </tr>\n",
       "    <tr>\n",
       "      <th>123032</th>\n",
       "      <td>1499_180</td>\n",
       "      <td>2018-09-28</td>\n",
       "      <td>1499</td>\n",
       "      <td>9</td>\n",
       "    </tr>\n",
       "    <tr>\n",
       "      <th>123033</th>\n",
       "      <td>1499_181</td>\n",
       "      <td>2018-09-27</td>\n",
       "      <td>1499</td>\n",
       "      <td>9</td>\n",
       "    </tr>\n",
       "    <tr>\n",
       "      <th>123034</th>\n",
       "      <td>1499_182</td>\n",
       "      <td>2018-11-15</td>\n",
       "      <td>1499</td>\n",
       "      <td>11</td>\n",
       "    </tr>\n",
       "    <tr>\n",
       "      <th>123035</th>\n",
       "      <td>1499_183</td>\n",
       "      <td>2018-11-16</td>\n",
       "      <td>1499</td>\n",
       "      <td>11</td>\n",
       "    </tr>\n",
       "  </tbody>\n",
       "</table>\n",
       "<p>123036 rows × 4 columns</p>\n",
       "</div>"
      ],
      "text/plain": [
       "              id message_date  user_id  month\n",
       "0         1000_0   2018-06-27     1000      6\n",
       "1         1000_1   2018-10-08     1000     10\n",
       "2         1000_2   2018-08-04     1000      8\n",
       "3         1000_3   2018-06-16     1000      6\n",
       "4         1000_4   2018-12-05     1000     12\n",
       "...          ...          ...      ...    ...\n",
       "123031  1499_179   2018-12-12     1499     12\n",
       "123032  1499_180   2018-09-28     1499      9\n",
       "123033  1499_181   2018-09-27     1499      9\n",
       "123034  1499_182   2018-11-15     1499     11\n",
       "123035  1499_183   2018-11-16     1499     11\n",
       "\n",
       "[123036 rows x 4 columns]"
      ]
     },
     "execution_count": 24,
     "metadata": {},
     "output_type": "execute_result"
    }
   ],
   "source": [
    "messages['month'] = pd.DatetimeIndex(messages['message_date']).month\n",
    "messages"
   ]
  },
  {
   "cell_type": "code",
   "execution_count": 25,
   "metadata": {},
   "outputs": [
    {
     "data": {
      "text/html": [
       "<div>\n",
       "<style scoped>\n",
       "    .dataframe tbody tr th:only-of-type {\n",
       "        vertical-align: middle;\n",
       "    }\n",
       "\n",
       "    .dataframe tbody tr th {\n",
       "        vertical-align: top;\n",
       "    }\n",
       "\n",
       "    .dataframe thead th {\n",
       "        text-align: right;\n",
       "    }\n",
       "</style>\n",
       "<table border=\"1\" class=\"dataframe\">\n",
       "  <thead>\n",
       "    <tr style=\"text-align: right;\">\n",
       "      <th></th>\n",
       "      <th>Unnamed: 0</th>\n",
       "      <th>id</th>\n",
       "      <th>mb_used</th>\n",
       "      <th>session_date</th>\n",
       "      <th>user_id</th>\n",
       "      <th>gb_used</th>\n",
       "      <th>month</th>\n",
       "    </tr>\n",
       "  </thead>\n",
       "  <tbody>\n",
       "    <tr>\n",
       "      <th>0</th>\n",
       "      <td>0</td>\n",
       "      <td>1000_0</td>\n",
       "      <td>113</td>\n",
       "      <td>2018-11-25</td>\n",
       "      <td>1000</td>\n",
       "      <td>1.0</td>\n",
       "      <td>11</td>\n",
       "    </tr>\n",
       "    <tr>\n",
       "      <th>1</th>\n",
       "      <td>1</td>\n",
       "      <td>1000_1</td>\n",
       "      <td>1053</td>\n",
       "      <td>2018-09-07</td>\n",
       "      <td>1000</td>\n",
       "      <td>2.0</td>\n",
       "      <td>9</td>\n",
       "    </tr>\n",
       "    <tr>\n",
       "      <th>2</th>\n",
       "      <td>2</td>\n",
       "      <td>1000_2</td>\n",
       "      <td>1198</td>\n",
       "      <td>2018-06-25</td>\n",
       "      <td>1000</td>\n",
       "      <td>2.0</td>\n",
       "      <td>6</td>\n",
       "    </tr>\n",
       "    <tr>\n",
       "      <th>3</th>\n",
       "      <td>3</td>\n",
       "      <td>1000_3</td>\n",
       "      <td>551</td>\n",
       "      <td>2018-08-22</td>\n",
       "      <td>1000</td>\n",
       "      <td>1.0</td>\n",
       "      <td>8</td>\n",
       "    </tr>\n",
       "    <tr>\n",
       "      <th>4</th>\n",
       "      <td>4</td>\n",
       "      <td>1000_4</td>\n",
       "      <td>303</td>\n",
       "      <td>2018-09-24</td>\n",
       "      <td>1000</td>\n",
       "      <td>1.0</td>\n",
       "      <td>9</td>\n",
       "    </tr>\n",
       "    <tr>\n",
       "      <th>...</th>\n",
       "      <td>...</td>\n",
       "      <td>...</td>\n",
       "      <td>...</td>\n",
       "      <td>...</td>\n",
       "      <td>...</td>\n",
       "      <td>...</td>\n",
       "      <td>...</td>\n",
       "    </tr>\n",
       "    <tr>\n",
       "      <th>149391</th>\n",
       "      <td>149391</td>\n",
       "      <td>1499_152</td>\n",
       "      <td>319</td>\n",
       "      <td>2018-10-03</td>\n",
       "      <td>1499</td>\n",
       "      <td>1.0</td>\n",
       "      <td>10</td>\n",
       "    </tr>\n",
       "    <tr>\n",
       "      <th>149392</th>\n",
       "      <td>149392</td>\n",
       "      <td>1499_153</td>\n",
       "      <td>491</td>\n",
       "      <td>2018-12-14</td>\n",
       "      <td>1499</td>\n",
       "      <td>1.0</td>\n",
       "      <td>12</td>\n",
       "    </tr>\n",
       "    <tr>\n",
       "      <th>149393</th>\n",
       "      <td>149393</td>\n",
       "      <td>1499_154</td>\n",
       "      <td>0</td>\n",
       "      <td>2018-10-27</td>\n",
       "      <td>1499</td>\n",
       "      <td>1.0</td>\n",
       "      <td>10</td>\n",
       "    </tr>\n",
       "    <tr>\n",
       "      <th>149394</th>\n",
       "      <td>149394</td>\n",
       "      <td>1499_155</td>\n",
       "      <td>1247</td>\n",
       "      <td>2018-11-26</td>\n",
       "      <td>1499</td>\n",
       "      <td>2.0</td>\n",
       "      <td>11</td>\n",
       "    </tr>\n",
       "    <tr>\n",
       "      <th>149395</th>\n",
       "      <td>149395</td>\n",
       "      <td>1499_156</td>\n",
       "      <td>545</td>\n",
       "      <td>2018-10-26</td>\n",
       "      <td>1499</td>\n",
       "      <td>1.0</td>\n",
       "      <td>10</td>\n",
       "    </tr>\n",
       "  </tbody>\n",
       "</table>\n",
       "<p>149396 rows × 7 columns</p>\n",
       "</div>"
      ],
      "text/plain": [
       "        Unnamed: 0        id  mb_used session_date  user_id  gb_used  month\n",
       "0                0    1000_0      113   2018-11-25     1000      1.0     11\n",
       "1                1    1000_1     1053   2018-09-07     1000      2.0      9\n",
       "2                2    1000_2     1198   2018-06-25     1000      2.0      6\n",
       "3                3    1000_3      551   2018-08-22     1000      1.0      8\n",
       "4                4    1000_4      303   2018-09-24     1000      1.0      9\n",
       "...            ...       ...      ...          ...      ...      ...    ...\n",
       "149391      149391  1499_152      319   2018-10-03     1499      1.0     10\n",
       "149392      149392  1499_153      491   2018-12-14     1499      1.0     12\n",
       "149393      149393  1499_154        0   2018-10-27     1499      1.0     10\n",
       "149394      149394  1499_155     1247   2018-11-26     1499      2.0     11\n",
       "149395      149395  1499_156      545   2018-10-26     1499      1.0     10\n",
       "\n",
       "[149396 rows x 7 columns]"
      ]
     },
     "execution_count": 25,
     "metadata": {},
     "output_type": "execute_result"
    }
   ],
   "source": [
    "internet['month'] = pd.DatetimeIndex(internet['session_date']).month\n",
    "internet"
   ]
  },
  {
   "cell_type": "markdown",
   "metadata": {},
   "source": [
    "df=calls.merge(messages,on='month', how='left')\n",
    "df   "
   ]
  },
  {
   "cell_type": "code",
   "execution_count": 26,
   "metadata": {},
   "outputs": [
    {
     "data": {
      "text/html": [
       "<div>\n",
       "<style scoped>\n",
       "    .dataframe tbody tr th:only-of-type {\n",
       "        vertical-align: middle;\n",
       "    }\n",
       "\n",
       "    .dataframe tbody tr th {\n",
       "        vertical-align: top;\n",
       "    }\n",
       "\n",
       "    .dataframe thead th {\n",
       "        text-align: right;\n",
       "    }\n",
       "</style>\n",
       "<table border=\"1\" class=\"dataframe\">\n",
       "  <thead>\n",
       "    <tr style=\"text-align: right;\">\n",
       "      <th></th>\n",
       "      <th>user_id</th>\n",
       "      <th>month</th>\n",
       "      <th>calls_count</th>\n",
       "      <th>duration_calls</th>\n",
       "    </tr>\n",
       "  </thead>\n",
       "  <tbody>\n",
       "    <tr>\n",
       "      <th>0</th>\n",
       "      <td>1000</td>\n",
       "      <td>5</td>\n",
       "      <td>22</td>\n",
       "      <td>159</td>\n",
       "    </tr>\n",
       "    <tr>\n",
       "      <th>1</th>\n",
       "      <td>1000</td>\n",
       "      <td>6</td>\n",
       "      <td>43</td>\n",
       "      <td>172</td>\n",
       "    </tr>\n",
       "    <tr>\n",
       "      <th>2</th>\n",
       "      <td>1000</td>\n",
       "      <td>7</td>\n",
       "      <td>47</td>\n",
       "      <td>340</td>\n",
       "    </tr>\n",
       "    <tr>\n",
       "      <th>3</th>\n",
       "      <td>1000</td>\n",
       "      <td>8</td>\n",
       "      <td>52</td>\n",
       "      <td>408</td>\n",
       "    </tr>\n",
       "    <tr>\n",
       "      <th>4</th>\n",
       "      <td>1000</td>\n",
       "      <td>9</td>\n",
       "      <td>58</td>\n",
       "      <td>466</td>\n",
       "    </tr>\n",
       "    <tr>\n",
       "      <th>5</th>\n",
       "      <td>1000</td>\n",
       "      <td>10</td>\n",
       "      <td>57</td>\n",
       "      <td>350</td>\n",
       "    </tr>\n",
       "    <tr>\n",
       "      <th>6</th>\n",
       "      <td>1000</td>\n",
       "      <td>11</td>\n",
       "      <td>43</td>\n",
       "      <td>338</td>\n",
       "    </tr>\n",
       "    <tr>\n",
       "      <th>7</th>\n",
       "      <td>1000</td>\n",
       "      <td>12</td>\n",
       "      <td>46</td>\n",
       "      <td>333</td>\n",
       "    </tr>\n",
       "    <tr>\n",
       "      <th>8</th>\n",
       "      <td>1001</td>\n",
       "      <td>11</td>\n",
       "      <td>59</td>\n",
       "      <td>430</td>\n",
       "    </tr>\n",
       "    <tr>\n",
       "      <th>9</th>\n",
       "      <td>1001</td>\n",
       "      <td>12</td>\n",
       "      <td>63</td>\n",
       "      <td>414</td>\n",
       "    </tr>\n",
       "  </tbody>\n",
       "</table>\n",
       "</div>"
      ],
      "text/plain": [
       "   user_id  month  calls_count  duration_calls\n",
       "0     1000      5           22             159\n",
       "1     1000      6           43             172\n",
       "2     1000      7           47             340\n",
       "3     1000      8           52             408\n",
       "4     1000      9           58             466\n",
       "5     1000     10           57             350\n",
       "6     1000     11           43             338\n",
       "7     1000     12           46             333\n",
       "8     1001     11           59             430\n",
       "9     1001     12           63             414"
      ]
     },
     "metadata": {},
     "output_type": "display_data"
    }
   ],
   "source": [
    "#  сводная таблица количества сделанных звонков и израсходованных минут разговора по месяцам:\n",
    "df_m_calls = calls.pivot_table(index=['user_id','month'],values='duration',aggfunc=('sum','count')).rename(columns={'count':'calls_count','sum':'duration_calls'}).reset_index()\n",
    "\n",
    "display(df_m_calls.head(10))"
   ]
  },
  {
   "cell_type": "code",
   "execution_count": 27,
   "metadata": {},
   "outputs": [
    {
     "data": {
      "text/html": [
       "<div>\n",
       "<style scoped>\n",
       "    .dataframe tbody tr th:only-of-type {\n",
       "        vertical-align: middle;\n",
       "    }\n",
       "\n",
       "    .dataframe tbody tr th {\n",
       "        vertical-align: top;\n",
       "    }\n",
       "\n",
       "    .dataframe thead th {\n",
       "        text-align: right;\n",
       "    }\n",
       "</style>\n",
       "<table border=\"1\" class=\"dataframe\">\n",
       "  <thead>\n",
       "    <tr style=\"text-align: right;\">\n",
       "      <th></th>\n",
       "      <th>user_id</th>\n",
       "      <th>month</th>\n",
       "      <th>messages_count</th>\n",
       "    </tr>\n",
       "  </thead>\n",
       "  <tbody>\n",
       "    <tr>\n",
       "      <th>0</th>\n",
       "      <td>1000</td>\n",
       "      <td>5</td>\n",
       "      <td>22</td>\n",
       "    </tr>\n",
       "    <tr>\n",
       "      <th>1</th>\n",
       "      <td>1000</td>\n",
       "      <td>6</td>\n",
       "      <td>60</td>\n",
       "    </tr>\n",
       "    <tr>\n",
       "      <th>2</th>\n",
       "      <td>1000</td>\n",
       "      <td>7</td>\n",
       "      <td>75</td>\n",
       "    </tr>\n",
       "    <tr>\n",
       "      <th>3</th>\n",
       "      <td>1000</td>\n",
       "      <td>8</td>\n",
       "      <td>81</td>\n",
       "    </tr>\n",
       "    <tr>\n",
       "      <th>4</th>\n",
       "      <td>1000</td>\n",
       "      <td>9</td>\n",
       "      <td>57</td>\n",
       "    </tr>\n",
       "    <tr>\n",
       "      <th>5</th>\n",
       "      <td>1000</td>\n",
       "      <td>10</td>\n",
       "      <td>73</td>\n",
       "    </tr>\n",
       "    <tr>\n",
       "      <th>6</th>\n",
       "      <td>1000</td>\n",
       "      <td>11</td>\n",
       "      <td>58</td>\n",
       "    </tr>\n",
       "    <tr>\n",
       "      <th>7</th>\n",
       "      <td>1000</td>\n",
       "      <td>12</td>\n",
       "      <td>70</td>\n",
       "    </tr>\n",
       "    <tr>\n",
       "      <th>8</th>\n",
       "      <td>1002</td>\n",
       "      <td>6</td>\n",
       "      <td>4</td>\n",
       "    </tr>\n",
       "    <tr>\n",
       "      <th>9</th>\n",
       "      <td>1002</td>\n",
       "      <td>7</td>\n",
       "      <td>11</td>\n",
       "    </tr>\n",
       "  </tbody>\n",
       "</table>\n",
       "</div>"
      ],
      "text/plain": [
       "   user_id  month  messages_count\n",
       "0     1000      5              22\n",
       "1     1000      6              60\n",
       "2     1000      7              75\n",
       "3     1000      8              81\n",
       "4     1000      9              57\n",
       "5     1000     10              73\n",
       "6     1000     11              58\n",
       "7     1000     12              70\n",
       "8     1002      6               4\n",
       "9     1002      7              11"
      ]
     },
     "metadata": {},
     "output_type": "display_data"
    }
   ],
   "source": [
    "#  сводная таблица количества отправленных сообщений по месяцам\n",
    "df_m_messages = messages.pivot_table(index=['user_id', 'month'], values='id', aggfunc='count').rename(columns={'id':'messages_count'}).reset_index()\n",
    "\n",
    "display(df_m_messages.head(10))"
   ]
  },
  {
   "cell_type": "code",
   "execution_count": 28,
   "metadata": {
    "scrolled": false
   },
   "outputs": [
    {
     "data": {
      "text/html": [
       "<div>\n",
       "<style scoped>\n",
       "    .dataframe tbody tr th:only-of-type {\n",
       "        vertical-align: middle;\n",
       "    }\n",
       "\n",
       "    .dataframe tbody tr th {\n",
       "        vertical-align: top;\n",
       "    }\n",
       "\n",
       "    .dataframe thead th {\n",
       "        text-align: right;\n",
       "    }\n",
       "</style>\n",
       "<table border=\"1\" class=\"dataframe\">\n",
       "  <thead>\n",
       "    <tr style=\"text-align: right;\">\n",
       "      <th></th>\n",
       "      <th>user_id</th>\n",
       "      <th>month</th>\n",
       "      <th>gb_used</th>\n",
       "      <th>mb_used</th>\n",
       "    </tr>\n",
       "  </thead>\n",
       "  <tbody>\n",
       "    <tr>\n",
       "      <th>0</th>\n",
       "      <td>1000</td>\n",
       "      <td>5</td>\n",
       "      <td>5.0</td>\n",
       "      <td>2256</td>\n",
       "    </tr>\n",
       "    <tr>\n",
       "      <th>1</th>\n",
       "      <td>1000</td>\n",
       "      <td>6</td>\n",
       "      <td>54.0</td>\n",
       "      <td>23257</td>\n",
       "    </tr>\n",
       "    <tr>\n",
       "      <th>2</th>\n",
       "      <td>1000</td>\n",
       "      <td>7</td>\n",
       "      <td>29.0</td>\n",
       "      <td>14016</td>\n",
       "    </tr>\n",
       "    <tr>\n",
       "      <th>3</th>\n",
       "      <td>1000</td>\n",
       "      <td>8</td>\n",
       "      <td>29.0</td>\n",
       "      <td>14070</td>\n",
       "    </tr>\n",
       "    <tr>\n",
       "      <th>4</th>\n",
       "      <td>1000</td>\n",
       "      <td>9</td>\n",
       "      <td>28.0</td>\n",
       "      <td>14581</td>\n",
       "    </tr>\n",
       "    <tr>\n",
       "      <th>5</th>\n",
       "      <td>1000</td>\n",
       "      <td>10</td>\n",
       "      <td>28.0</td>\n",
       "      <td>14717</td>\n",
       "    </tr>\n",
       "    <tr>\n",
       "      <th>6</th>\n",
       "      <td>1000</td>\n",
       "      <td>11</td>\n",
       "      <td>28.0</td>\n",
       "      <td>14768</td>\n",
       "    </tr>\n",
       "    <tr>\n",
       "      <th>7</th>\n",
       "      <td>1000</td>\n",
       "      <td>12</td>\n",
       "      <td>21.0</td>\n",
       "      <td>9827</td>\n",
       "    </tr>\n",
       "    <tr>\n",
       "      <th>8</th>\n",
       "      <td>1001</td>\n",
       "      <td>11</td>\n",
       "      <td>55.0</td>\n",
       "      <td>18452</td>\n",
       "    </tr>\n",
       "    <tr>\n",
       "      <th>9</th>\n",
       "      <td>1001</td>\n",
       "      <td>12</td>\n",
       "      <td>41.0</td>\n",
       "      <td>14053</td>\n",
       "    </tr>\n",
       "  </tbody>\n",
       "</table>\n",
       "</div>"
      ],
      "text/plain": [
       "   user_id  month  gb_used  mb_used\n",
       "0     1000      5      5.0     2256\n",
       "1     1000      6     54.0    23257\n",
       "2     1000      7     29.0    14016\n",
       "3     1000      8     29.0    14070\n",
       "4     1000      9     28.0    14581\n",
       "5     1000     10     28.0    14717\n",
       "6     1000     11     28.0    14768\n",
       "7     1000     12     21.0     9827\n",
       "8     1001     11     55.0    18452\n",
       "9     1001     12     41.0    14053"
      ]
     },
     "metadata": {},
     "output_type": "display_data"
    }
   ],
   "source": [
    "# сводная таблица объема израсходованного интернет-трафика по месяцам\n",
    "df_m_internet = internet.pivot_table(index=['user_id','month'], values=['mb_used','gb_used'], aggfunc='sum').reset_index()\n",
    "\n",
    "display(df_m_internet.head(10))"
   ]
  },
  {
   "cell_type": "markdown",
   "metadata": {},
   "source": [
    "#### Объединенная таблица пользователей по месяцам с  кол-вом звонков , сообщений и интернет трафика "
   ]
  },
  {
   "cell_type": "code",
   "execution_count": 29,
   "metadata": {
    "scrolled": true
   },
   "outputs": [
    {
     "data": {
      "text/html": [
       "<div>\n",
       "<style scoped>\n",
       "    .dataframe tbody tr th:only-of-type {\n",
       "        vertical-align: middle;\n",
       "    }\n",
       "\n",
       "    .dataframe tbody tr th {\n",
       "        vertical-align: top;\n",
       "    }\n",
       "\n",
       "    .dataframe thead th {\n",
       "        text-align: right;\n",
       "    }\n",
       "</style>\n",
       "<table border=\"1\" class=\"dataframe\">\n",
       "  <thead>\n",
       "    <tr style=\"text-align: right;\">\n",
       "      <th></th>\n",
       "      <th>user_id</th>\n",
       "      <th>month</th>\n",
       "      <th>calls_count</th>\n",
       "      <th>duration_calls</th>\n",
       "      <th>messages_count</th>\n",
       "      <th>gb_used</th>\n",
       "      <th>mb_used</th>\n",
       "      <th>tariff</th>\n",
       "      <th>churn_date</th>\n",
       "      <th>reg_date</th>\n",
       "      <th>city</th>\n",
       "    </tr>\n",
       "  </thead>\n",
       "  <tbody>\n",
       "    <tr>\n",
       "      <th>0</th>\n",
       "      <td>1000</td>\n",
       "      <td>5</td>\n",
       "      <td>22.0</td>\n",
       "      <td>159.0</td>\n",
       "      <td>22.0</td>\n",
       "      <td>5.0</td>\n",
       "      <td>2256.0</td>\n",
       "      <td>ultra</td>\n",
       "      <td>NaT</td>\n",
       "      <td>2018-05-25</td>\n",
       "      <td>Краснодар</td>\n",
       "    </tr>\n",
       "    <tr>\n",
       "      <th>1</th>\n",
       "      <td>1000</td>\n",
       "      <td>6</td>\n",
       "      <td>43.0</td>\n",
       "      <td>172.0</td>\n",
       "      <td>60.0</td>\n",
       "      <td>54.0</td>\n",
       "      <td>23257.0</td>\n",
       "      <td>ultra</td>\n",
       "      <td>NaT</td>\n",
       "      <td>2018-05-25</td>\n",
       "      <td>Краснодар</td>\n",
       "    </tr>\n",
       "    <tr>\n",
       "      <th>2</th>\n",
       "      <td>1000</td>\n",
       "      <td>7</td>\n",
       "      <td>47.0</td>\n",
       "      <td>340.0</td>\n",
       "      <td>75.0</td>\n",
       "      <td>29.0</td>\n",
       "      <td>14016.0</td>\n",
       "      <td>ultra</td>\n",
       "      <td>NaT</td>\n",
       "      <td>2018-05-25</td>\n",
       "      <td>Краснодар</td>\n",
       "    </tr>\n",
       "    <tr>\n",
       "      <th>3</th>\n",
       "      <td>1000</td>\n",
       "      <td>8</td>\n",
       "      <td>52.0</td>\n",
       "      <td>408.0</td>\n",
       "      <td>81.0</td>\n",
       "      <td>29.0</td>\n",
       "      <td>14070.0</td>\n",
       "      <td>ultra</td>\n",
       "      <td>NaT</td>\n",
       "      <td>2018-05-25</td>\n",
       "      <td>Краснодар</td>\n",
       "    </tr>\n",
       "    <tr>\n",
       "      <th>4</th>\n",
       "      <td>1000</td>\n",
       "      <td>9</td>\n",
       "      <td>58.0</td>\n",
       "      <td>466.0</td>\n",
       "      <td>57.0</td>\n",
       "      <td>28.0</td>\n",
       "      <td>14581.0</td>\n",
       "      <td>ultra</td>\n",
       "      <td>NaT</td>\n",
       "      <td>2018-05-25</td>\n",
       "      <td>Краснодар</td>\n",
       "    </tr>\n",
       "    <tr>\n",
       "      <th>5</th>\n",
       "      <td>1000</td>\n",
       "      <td>10</td>\n",
       "      <td>57.0</td>\n",
       "      <td>350.0</td>\n",
       "      <td>73.0</td>\n",
       "      <td>28.0</td>\n",
       "      <td>14717.0</td>\n",
       "      <td>ultra</td>\n",
       "      <td>NaT</td>\n",
       "      <td>2018-05-25</td>\n",
       "      <td>Краснодар</td>\n",
       "    </tr>\n",
       "    <tr>\n",
       "      <th>6</th>\n",
       "      <td>1000</td>\n",
       "      <td>11</td>\n",
       "      <td>43.0</td>\n",
       "      <td>338.0</td>\n",
       "      <td>58.0</td>\n",
       "      <td>28.0</td>\n",
       "      <td>14768.0</td>\n",
       "      <td>ultra</td>\n",
       "      <td>NaT</td>\n",
       "      <td>2018-05-25</td>\n",
       "      <td>Краснодар</td>\n",
       "    </tr>\n",
       "    <tr>\n",
       "      <th>7</th>\n",
       "      <td>1000</td>\n",
       "      <td>12</td>\n",
       "      <td>46.0</td>\n",
       "      <td>333.0</td>\n",
       "      <td>70.0</td>\n",
       "      <td>21.0</td>\n",
       "      <td>9827.0</td>\n",
       "      <td>ultra</td>\n",
       "      <td>NaT</td>\n",
       "      <td>2018-05-25</td>\n",
       "      <td>Краснодар</td>\n",
       "    </tr>\n",
       "    <tr>\n",
       "      <th>8</th>\n",
       "      <td>1001</td>\n",
       "      <td>11</td>\n",
       "      <td>59.0</td>\n",
       "      <td>430.0</td>\n",
       "      <td>NaN</td>\n",
       "      <td>55.0</td>\n",
       "      <td>18452.0</td>\n",
       "      <td>smart</td>\n",
       "      <td>NaT</td>\n",
       "      <td>2018-11-01</td>\n",
       "      <td>Москва</td>\n",
       "    </tr>\n",
       "    <tr>\n",
       "      <th>9</th>\n",
       "      <td>1001</td>\n",
       "      <td>12</td>\n",
       "      <td>63.0</td>\n",
       "      <td>414.0</td>\n",
       "      <td>NaN</td>\n",
       "      <td>41.0</td>\n",
       "      <td>14053.0</td>\n",
       "      <td>smart</td>\n",
       "      <td>NaT</td>\n",
       "      <td>2018-11-01</td>\n",
       "      <td>Москва</td>\n",
       "    </tr>\n",
       "  </tbody>\n",
       "</table>\n",
       "</div>"
      ],
      "text/plain": [
       "   user_id  month  calls_count  duration_calls  messages_count  gb_used  \\\n",
       "0     1000      5         22.0           159.0            22.0      5.0   \n",
       "1     1000      6         43.0           172.0            60.0     54.0   \n",
       "2     1000      7         47.0           340.0            75.0     29.0   \n",
       "3     1000      8         52.0           408.0            81.0     29.0   \n",
       "4     1000      9         58.0           466.0            57.0     28.0   \n",
       "5     1000     10         57.0           350.0            73.0     28.0   \n",
       "6     1000     11         43.0           338.0            58.0     28.0   \n",
       "7     1000     12         46.0           333.0            70.0     21.0   \n",
       "8     1001     11         59.0           430.0             NaN     55.0   \n",
       "9     1001     12         63.0           414.0             NaN     41.0   \n",
       "\n",
       "   mb_used tariff churn_date   reg_date       city  \n",
       "0   2256.0  ultra        NaT 2018-05-25  Краснодар  \n",
       "1  23257.0  ultra        NaT 2018-05-25  Краснодар  \n",
       "2  14016.0  ultra        NaT 2018-05-25  Краснодар  \n",
       "3  14070.0  ultra        NaT 2018-05-25  Краснодар  \n",
       "4  14581.0  ultra        NaT 2018-05-25  Краснодар  \n",
       "5  14717.0  ultra        NaT 2018-05-25  Краснодар  \n",
       "6  14768.0  ultra        NaT 2018-05-25  Краснодар  \n",
       "7   9827.0  ultra        NaT 2018-05-25  Краснодар  \n",
       "8  18452.0  smart        NaT 2018-11-01     Москва  \n",
       "9  14053.0  smart        NaT 2018-11-01     Москва  "
      ]
     },
     "execution_count": 29,
     "metadata": {},
     "output_type": "execute_result"
    }
   ],
   "source": [
    "# объединенная таблица по пльзователям\n",
    "users_data = pd.merge(df_m_calls, df_m_messages, on=['user_id', 'month'], how='outer')\n",
    "users_data = pd.merge(users_data, df_m_internet, on=['user_id', 'month'], how='outer')\n",
    "users_df = pd.merge(users_data, users[['user_id','tariff','churn_date','reg_date','city']], on='user_id', how='left')\n",
    "users_df.head(10)"
   ]
  },
  {
   "cell_type": "code",
   "execution_count": 30,
   "metadata": {},
   "outputs": [
    {
     "name": "stdout",
     "output_type": "stream",
     "text": [
      "<class 'pandas.core.frame.DataFrame'>\n",
      "Int64Index: 3214 entries, 0 to 3213\n",
      "Data columns (total 11 columns):\n",
      " #   Column          Non-Null Count  Dtype         \n",
      "---  ------          --------------  -----         \n",
      " 0   user_id         3214 non-null   int64         \n",
      " 1   month           3214 non-null   int64         \n",
      " 2   calls_count     3174 non-null   float64       \n",
      " 3   duration_calls  3174 non-null   float64       \n",
      " 4   messages_count  2717 non-null   float64       \n",
      " 5   gb_used         3203 non-null   float64       \n",
      " 6   mb_used         3203 non-null   float64       \n",
      " 7   tariff          3214 non-null   object        \n",
      " 8   churn_date      187 non-null    datetime64[ns]\n",
      " 9   reg_date        3214 non-null   datetime64[ns]\n",
      " 10  city            3214 non-null   object        \n",
      "dtypes: datetime64[ns](2), float64(5), int64(2), object(2)\n",
      "memory usage: 301.3+ KB\n"
     ]
    }
   ],
   "source": [
    "users_df.info()"
   ]
  },
  {
   "cell_type": "code",
   "execution_count": 31,
   "metadata": {},
   "outputs": [
    {
     "data": {
      "text/plain": [
       "1024    1\n",
       "1353    1\n",
       "1366    1\n",
       "1365    1\n",
       "1364    1\n",
       "       ..\n",
       "1185    1\n",
       "1184    1\n",
       "1183    1\n",
       "1182    1\n",
       "1023    1\n",
       "Name: user_id, Length: 500, dtype: int64"
      ]
     },
     "execution_count": 31,
     "metadata": {},
     "output_type": "execute_result"
    }
   ],
   "source": [
    "users['user_id'].value_counts()"
   ]
  },
  {
   "cell_type": "code",
   "execution_count": 32,
   "metadata": {
    "scrolled": true
   },
   "outputs": [
    {
     "data": {
      "text/plain": [
       "1372    12\n",
       "1227    12\n",
       "1135    12\n",
       "1472    12\n",
       "1134    12\n",
       "        ..\n",
       "1140     1\n",
       "1434     1\n",
       "1297     1\n",
       "1252     1\n",
       "1445     1\n",
       "Name: user_id, Length: 498, dtype: int64"
      ]
     },
     "execution_count": 32,
     "metadata": {},
     "output_type": "execute_result"
    }
   ],
   "source": [
    "users_df['user_id'].value_counts()"
   ]
  },
  {
   "cell_type": "code",
   "execution_count": 33,
   "metadata": {},
   "outputs": [
    {
     "data": {
      "text/html": [
       "<div>\n",
       "<style scoped>\n",
       "    .dataframe tbody tr th:only-of-type {\n",
       "        vertical-align: middle;\n",
       "    }\n",
       "\n",
       "    .dataframe tbody tr th {\n",
       "        vertical-align: top;\n",
       "    }\n",
       "\n",
       "    .dataframe thead th {\n",
       "        text-align: right;\n",
       "    }\n",
       "</style>\n",
       "<table border=\"1\" class=\"dataframe\">\n",
       "  <thead>\n",
       "    <tr style=\"text-align: right;\">\n",
       "      <th></th>\n",
       "      <th>user_id</th>\n",
       "      <th>month</th>\n",
       "      <th>calls_count</th>\n",
       "      <th>duration_calls</th>\n",
       "      <th>messages_count</th>\n",
       "      <th>gb_used</th>\n",
       "      <th>mb_used</th>\n",
       "      <th>tariff</th>\n",
       "      <th>churn_date</th>\n",
       "      <th>reg_date</th>\n",
       "      <th>city</th>\n",
       "    </tr>\n",
       "  </thead>\n",
       "  <tbody>\n",
       "    <tr>\n",
       "      <th>0</th>\n",
       "      <td>1000</td>\n",
       "      <td>5</td>\n",
       "      <td>22.0</td>\n",
       "      <td>159.0</td>\n",
       "      <td>22.0</td>\n",
       "      <td>5.0</td>\n",
       "      <td>2256.0</td>\n",
       "      <td>ultra</td>\n",
       "      <td>0</td>\n",
       "      <td>2018-05-25</td>\n",
       "      <td>Краснодар</td>\n",
       "    </tr>\n",
       "    <tr>\n",
       "      <th>1</th>\n",
       "      <td>1000</td>\n",
       "      <td>6</td>\n",
       "      <td>43.0</td>\n",
       "      <td>172.0</td>\n",
       "      <td>60.0</td>\n",
       "      <td>54.0</td>\n",
       "      <td>23257.0</td>\n",
       "      <td>ultra</td>\n",
       "      <td>0</td>\n",
       "      <td>2018-05-25</td>\n",
       "      <td>Краснодар</td>\n",
       "    </tr>\n",
       "    <tr>\n",
       "      <th>2</th>\n",
       "      <td>1000</td>\n",
       "      <td>7</td>\n",
       "      <td>47.0</td>\n",
       "      <td>340.0</td>\n",
       "      <td>75.0</td>\n",
       "      <td>29.0</td>\n",
       "      <td>14016.0</td>\n",
       "      <td>ultra</td>\n",
       "      <td>0</td>\n",
       "      <td>2018-05-25</td>\n",
       "      <td>Краснодар</td>\n",
       "    </tr>\n",
       "    <tr>\n",
       "      <th>3</th>\n",
       "      <td>1000</td>\n",
       "      <td>8</td>\n",
       "      <td>52.0</td>\n",
       "      <td>408.0</td>\n",
       "      <td>81.0</td>\n",
       "      <td>29.0</td>\n",
       "      <td>14070.0</td>\n",
       "      <td>ultra</td>\n",
       "      <td>0</td>\n",
       "      <td>2018-05-25</td>\n",
       "      <td>Краснодар</td>\n",
       "    </tr>\n",
       "    <tr>\n",
       "      <th>4</th>\n",
       "      <td>1000</td>\n",
       "      <td>9</td>\n",
       "      <td>58.0</td>\n",
       "      <td>466.0</td>\n",
       "      <td>57.0</td>\n",
       "      <td>28.0</td>\n",
       "      <td>14581.0</td>\n",
       "      <td>ultra</td>\n",
       "      <td>0</td>\n",
       "      <td>2018-05-25</td>\n",
       "      <td>Краснодар</td>\n",
       "    </tr>\n",
       "    <tr>\n",
       "      <th>...</th>\n",
       "      <td>...</td>\n",
       "      <td>...</td>\n",
       "      <td>...</td>\n",
       "      <td>...</td>\n",
       "      <td>...</td>\n",
       "      <td>...</td>\n",
       "      <td>...</td>\n",
       "      <td>...</td>\n",
       "      <td>...</td>\n",
       "      <td>...</td>\n",
       "      <td>...</td>\n",
       "    </tr>\n",
       "    <tr>\n",
       "      <th>3209</th>\n",
       "      <td>1489</td>\n",
       "      <td>9</td>\n",
       "      <td>0.0</td>\n",
       "      <td>0.0</td>\n",
       "      <td>32.0</td>\n",
       "      <td>64.0</td>\n",
       "      <td>17232.0</td>\n",
       "      <td>smart</td>\n",
       "      <td>0</td>\n",
       "      <td>2018-08-15</td>\n",
       "      <td>Санкт-Петербург</td>\n",
       "    </tr>\n",
       "    <tr>\n",
       "      <th>3210</th>\n",
       "      <td>1489</td>\n",
       "      <td>10</td>\n",
       "      <td>0.0</td>\n",
       "      <td>0.0</td>\n",
       "      <td>21.0</td>\n",
       "      <td>63.0</td>\n",
       "      <td>19588.0</td>\n",
       "      <td>smart</td>\n",
       "      <td>0</td>\n",
       "      <td>2018-08-15</td>\n",
       "      <td>Санкт-Петербург</td>\n",
       "    </tr>\n",
       "    <tr>\n",
       "      <th>3211</th>\n",
       "      <td>1489</td>\n",
       "      <td>11</td>\n",
       "      <td>0.0</td>\n",
       "      <td>0.0</td>\n",
       "      <td>20.0</td>\n",
       "      <td>56.0</td>\n",
       "      <td>17516.0</td>\n",
       "      <td>smart</td>\n",
       "      <td>0</td>\n",
       "      <td>2018-08-15</td>\n",
       "      <td>Санкт-Петербург</td>\n",
       "    </tr>\n",
       "    <tr>\n",
       "      <th>3212</th>\n",
       "      <td>1489</td>\n",
       "      <td>12</td>\n",
       "      <td>0.0</td>\n",
       "      <td>0.0</td>\n",
       "      <td>35.0</td>\n",
       "      <td>53.0</td>\n",
       "      <td>17341.0</td>\n",
       "      <td>smart</td>\n",
       "      <td>0</td>\n",
       "      <td>2018-08-15</td>\n",
       "      <td>Санкт-Петербург</td>\n",
       "    </tr>\n",
       "    <tr>\n",
       "      <th>3213</th>\n",
       "      <td>1476</td>\n",
       "      <td>4</td>\n",
       "      <td>0.0</td>\n",
       "      <td>0.0</td>\n",
       "      <td>0.0</td>\n",
       "      <td>1.0</td>\n",
       "      <td>531.0</td>\n",
       "      <td>ultra</td>\n",
       "      <td>0</td>\n",
       "      <td>2018-04-30</td>\n",
       "      <td>Москва</td>\n",
       "    </tr>\n",
       "  </tbody>\n",
       "</table>\n",
       "<p>3214 rows × 11 columns</p>\n",
       "</div>"
      ],
      "text/plain": [
       "      user_id  month  calls_count  duration_calls  messages_count  gb_used  \\\n",
       "0        1000      5         22.0           159.0            22.0      5.0   \n",
       "1        1000      6         43.0           172.0            60.0     54.0   \n",
       "2        1000      7         47.0           340.0            75.0     29.0   \n",
       "3        1000      8         52.0           408.0            81.0     29.0   \n",
       "4        1000      9         58.0           466.0            57.0     28.0   \n",
       "...       ...    ...          ...             ...             ...      ...   \n",
       "3209     1489      9          0.0             0.0            32.0     64.0   \n",
       "3210     1489     10          0.0             0.0            21.0     63.0   \n",
       "3211     1489     11          0.0             0.0            20.0     56.0   \n",
       "3212     1489     12          0.0             0.0            35.0     53.0   \n",
       "3213     1476      4          0.0             0.0             0.0      1.0   \n",
       "\n",
       "      mb_used tariff churn_date   reg_date             city  \n",
       "0      2256.0  ultra          0 2018-05-25        Краснодар  \n",
       "1     23257.0  ultra          0 2018-05-25        Краснодар  \n",
       "2     14016.0  ultra          0 2018-05-25        Краснодар  \n",
       "3     14070.0  ultra          0 2018-05-25        Краснодар  \n",
       "4     14581.0  ultra          0 2018-05-25        Краснодар  \n",
       "...       ...    ...        ...        ...              ...  \n",
       "3209  17232.0  smart          0 2018-08-15  Санкт-Петербург  \n",
       "3210  19588.0  smart          0 2018-08-15  Санкт-Петербург  \n",
       "3211  17516.0  smart          0 2018-08-15  Санкт-Петербург  \n",
       "3212  17341.0  smart          0 2018-08-15  Санкт-Петербург  \n",
       "3213    531.0  ultra          0 2018-04-30           Москва  \n",
       "\n",
       "[3214 rows x 11 columns]"
      ]
     },
     "execution_count": 33,
     "metadata": {},
     "output_type": "execute_result"
    }
   ],
   "source": [
    "users_df['messages_count']= users_df['messages_count'].fillna(value=0)\n",
    "users_df['churn_date']= users_df['churn_date'].fillna(value=0)\n",
    "users_df['calls_count']= users_df['calls_count'].fillna(value=0)\n",
    "users_df['duration_calls']= users_df['duration_calls'].fillna(value=0)\n",
    "users_df['mb_used']= users_df['mb_used'].fillna(value=0)\n",
    "users_df['gb_used']= users_df['gb_used'].fillna(value=0)\n",
    "\n",
    "users_df"
   ]
  },
  {
   "cell_type": "markdown",
   "metadata": {},
   "source": [
    "#### функция для подсчета помесячных затрат каждого пользователя  по тарифам  и довавление столбца затрат "
   ]
  },
  {
   "cell_type": "code",
   "execution_count": 34,
   "metadata": {},
   "outputs": [],
   "source": [
    "#функция для подсчета помесячных затрат по тарифам \n",
    "def extra_lim(row):\n",
    "    if row['tariff'] == 'smart':\n",
    "        if row['messages_count'] > 50:\n",
    "            messages_extra = (row['messages_count'] - 50)*3\n",
    "        else:\n",
    "            messages_extra = 0\n",
    "        if row['calls_count'] > 500:\n",
    "            calls_extra = (row['calls_count'] - 500)*3\n",
    "        else:\n",
    "            calls_extra = 0\n",
    "        if row['gb_used'] > 15:\n",
    "            gb_extra = (row['gb_used'] - 15)*200\n",
    "        else:\n",
    "            gb_extra = 0\n",
    "        total_cost = messages_extra + calls_extra + gb_extra + 550\n",
    "    if row['tariff'] == 'ultra':\n",
    "        if row['messages_count'] > 1000:\n",
    "            messages_extra = (row['messages_count'] - 1000)*1\n",
    "        else:\n",
    "            messages_extra = 0\n",
    "        if row['calls_count'] > 3900:\n",
    "            calls_extra = (row['calls_count'] - 3000)*1\n",
    "        else:\n",
    "            calls_extra = 0\n",
    "        if row['gb_used'] > 30:\n",
    "            gb_extra = (row['gb_used'] - 30)*150\n",
    "        else:\n",
    "            gb_extra = 0\n",
    "        total_cost = messages_extra + calls_extra + gb_extra + 1950\n",
    "    return total_cost\n",
    " \n"
   ]
  },
  {
   "cell_type": "code",
   "execution_count": 35,
   "metadata": {
    "scrolled": true
   },
   "outputs": [
    {
     "data": {
      "text/html": [
       "<div>\n",
       "<style scoped>\n",
       "    .dataframe tbody tr th:only-of-type {\n",
       "        vertical-align: middle;\n",
       "    }\n",
       "\n",
       "    .dataframe tbody tr th {\n",
       "        vertical-align: top;\n",
       "    }\n",
       "\n",
       "    .dataframe thead th {\n",
       "        text-align: right;\n",
       "    }\n",
       "</style>\n",
       "<table border=\"1\" class=\"dataframe\">\n",
       "  <thead>\n",
       "    <tr style=\"text-align: right;\">\n",
       "      <th></th>\n",
       "      <th>user_id</th>\n",
       "      <th>month</th>\n",
       "      <th>calls_count</th>\n",
       "      <th>duration_calls</th>\n",
       "      <th>messages_count</th>\n",
       "      <th>gb_used</th>\n",
       "      <th>mb_used</th>\n",
       "      <th>tariff</th>\n",
       "      <th>churn_date</th>\n",
       "      <th>reg_date</th>\n",
       "      <th>city</th>\n",
       "      <th>total_cost</th>\n",
       "    </tr>\n",
       "  </thead>\n",
       "  <tbody>\n",
       "    <tr>\n",
       "      <th>0</th>\n",
       "      <td>1000</td>\n",
       "      <td>5</td>\n",
       "      <td>22.0</td>\n",
       "      <td>159.0</td>\n",
       "      <td>22.0</td>\n",
       "      <td>5.0</td>\n",
       "      <td>2256.0</td>\n",
       "      <td>ultra</td>\n",
       "      <td>0</td>\n",
       "      <td>2018-05-25</td>\n",
       "      <td>Краснодар</td>\n",
       "      <td>1950.0</td>\n",
       "    </tr>\n",
       "    <tr>\n",
       "      <th>1</th>\n",
       "      <td>1000</td>\n",
       "      <td>6</td>\n",
       "      <td>43.0</td>\n",
       "      <td>172.0</td>\n",
       "      <td>60.0</td>\n",
       "      <td>54.0</td>\n",
       "      <td>23257.0</td>\n",
       "      <td>ultra</td>\n",
       "      <td>0</td>\n",
       "      <td>2018-05-25</td>\n",
       "      <td>Краснодар</td>\n",
       "      <td>5550.0</td>\n",
       "    </tr>\n",
       "    <tr>\n",
       "      <th>2</th>\n",
       "      <td>1000</td>\n",
       "      <td>7</td>\n",
       "      <td>47.0</td>\n",
       "      <td>340.0</td>\n",
       "      <td>75.0</td>\n",
       "      <td>29.0</td>\n",
       "      <td>14016.0</td>\n",
       "      <td>ultra</td>\n",
       "      <td>0</td>\n",
       "      <td>2018-05-25</td>\n",
       "      <td>Краснодар</td>\n",
       "      <td>1950.0</td>\n",
       "    </tr>\n",
       "    <tr>\n",
       "      <th>3</th>\n",
       "      <td>1000</td>\n",
       "      <td>8</td>\n",
       "      <td>52.0</td>\n",
       "      <td>408.0</td>\n",
       "      <td>81.0</td>\n",
       "      <td>29.0</td>\n",
       "      <td>14070.0</td>\n",
       "      <td>ultra</td>\n",
       "      <td>0</td>\n",
       "      <td>2018-05-25</td>\n",
       "      <td>Краснодар</td>\n",
       "      <td>1950.0</td>\n",
       "    </tr>\n",
       "    <tr>\n",
       "      <th>4</th>\n",
       "      <td>1000</td>\n",
       "      <td>9</td>\n",
       "      <td>58.0</td>\n",
       "      <td>466.0</td>\n",
       "      <td>57.0</td>\n",
       "      <td>28.0</td>\n",
       "      <td>14581.0</td>\n",
       "      <td>ultra</td>\n",
       "      <td>0</td>\n",
       "      <td>2018-05-25</td>\n",
       "      <td>Краснодар</td>\n",
       "      <td>1950.0</td>\n",
       "    </tr>\n",
       "    <tr>\n",
       "      <th>5</th>\n",
       "      <td>1000</td>\n",
       "      <td>10</td>\n",
       "      <td>57.0</td>\n",
       "      <td>350.0</td>\n",
       "      <td>73.0</td>\n",
       "      <td>28.0</td>\n",
       "      <td>14717.0</td>\n",
       "      <td>ultra</td>\n",
       "      <td>0</td>\n",
       "      <td>2018-05-25</td>\n",
       "      <td>Краснодар</td>\n",
       "      <td>1950.0</td>\n",
       "    </tr>\n",
       "    <tr>\n",
       "      <th>6</th>\n",
       "      <td>1000</td>\n",
       "      <td>11</td>\n",
       "      <td>43.0</td>\n",
       "      <td>338.0</td>\n",
       "      <td>58.0</td>\n",
       "      <td>28.0</td>\n",
       "      <td>14768.0</td>\n",
       "      <td>ultra</td>\n",
       "      <td>0</td>\n",
       "      <td>2018-05-25</td>\n",
       "      <td>Краснодар</td>\n",
       "      <td>1950.0</td>\n",
       "    </tr>\n",
       "    <tr>\n",
       "      <th>7</th>\n",
       "      <td>1000</td>\n",
       "      <td>12</td>\n",
       "      <td>46.0</td>\n",
       "      <td>333.0</td>\n",
       "      <td>70.0</td>\n",
       "      <td>21.0</td>\n",
       "      <td>9827.0</td>\n",
       "      <td>ultra</td>\n",
       "      <td>0</td>\n",
       "      <td>2018-05-25</td>\n",
       "      <td>Краснодар</td>\n",
       "      <td>1950.0</td>\n",
       "    </tr>\n",
       "    <tr>\n",
       "      <th>8</th>\n",
       "      <td>1001</td>\n",
       "      <td>11</td>\n",
       "      <td>59.0</td>\n",
       "      <td>430.0</td>\n",
       "      <td>0.0</td>\n",
       "      <td>55.0</td>\n",
       "      <td>18452.0</td>\n",
       "      <td>smart</td>\n",
       "      <td>0</td>\n",
       "      <td>2018-11-01</td>\n",
       "      <td>Москва</td>\n",
       "      <td>8550.0</td>\n",
       "    </tr>\n",
       "    <tr>\n",
       "      <th>9</th>\n",
       "      <td>1001</td>\n",
       "      <td>12</td>\n",
       "      <td>63.0</td>\n",
       "      <td>414.0</td>\n",
       "      <td>0.0</td>\n",
       "      <td>41.0</td>\n",
       "      <td>14053.0</td>\n",
       "      <td>smart</td>\n",
       "      <td>0</td>\n",
       "      <td>2018-11-01</td>\n",
       "      <td>Москва</td>\n",
       "      <td>5750.0</td>\n",
       "    </tr>\n",
       "  </tbody>\n",
       "</table>\n",
       "</div>"
      ],
      "text/plain": [
       "   user_id  month  calls_count  duration_calls  messages_count  gb_used  \\\n",
       "0     1000      5         22.0           159.0            22.0      5.0   \n",
       "1     1000      6         43.0           172.0            60.0     54.0   \n",
       "2     1000      7         47.0           340.0            75.0     29.0   \n",
       "3     1000      8         52.0           408.0            81.0     29.0   \n",
       "4     1000      9         58.0           466.0            57.0     28.0   \n",
       "5     1000     10         57.0           350.0            73.0     28.0   \n",
       "6     1000     11         43.0           338.0            58.0     28.0   \n",
       "7     1000     12         46.0           333.0            70.0     21.0   \n",
       "8     1001     11         59.0           430.0             0.0     55.0   \n",
       "9     1001     12         63.0           414.0             0.0     41.0   \n",
       "\n",
       "   mb_used tariff churn_date   reg_date       city  total_cost  \n",
       "0   2256.0  ultra          0 2018-05-25  Краснодар      1950.0  \n",
       "1  23257.0  ultra          0 2018-05-25  Краснодар      5550.0  \n",
       "2  14016.0  ultra          0 2018-05-25  Краснодар      1950.0  \n",
       "3  14070.0  ultra          0 2018-05-25  Краснодар      1950.0  \n",
       "4  14581.0  ultra          0 2018-05-25  Краснодар      1950.0  \n",
       "5  14717.0  ultra          0 2018-05-25  Краснодар      1950.0  \n",
       "6  14768.0  ultra          0 2018-05-25  Краснодар      1950.0  \n",
       "7   9827.0  ultra          0 2018-05-25  Краснодар      1950.0  \n",
       "8  18452.0  smart          0 2018-11-01     Москва      8550.0  \n",
       "9  14053.0  smart          0 2018-11-01     Москва      5750.0  "
      ]
     },
     "execution_count": 35,
     "metadata": {},
     "output_type": "execute_result"
    }
   ],
   "source": [
    "# добавление столбца стоимость помесячно \n",
    "users_df['total_cost'] = users_df.apply(extra_lim, axis=1)\n",
    "users_df.head(10)"
   ]
  },
  {
   "cell_type": "markdown",
   "metadata": {},
   "source": [
    "## Анализ данных "
   ]
  },
  {
   "cell_type": "markdown",
   "metadata": {},
   "source": [
    "#### Сколько минут разговора, сколько сообщений и какой объём интернет-трафика требуется пользователям каждого тарифа в месяц"
   ]
  },
  {
   "cell_type": "code",
   "execution_count": 36,
   "metadata": {},
   "outputs": [],
   "source": [
    "# выбор сторок тарифа смарт и создание таблицы с группировкой  потребления по месяцам\n",
    "smart_df = users_df.query('tariff == \"smart\"')\n",
    "smart_df_month= smart_df.pivot_table(index='month',values=['duration_calls','calls_count','messages_count','gb_used','total_cost'])"
   ]
  },
  {
   "cell_type": "code",
   "execution_count": 37,
   "metadata": {},
   "outputs": [
    {
     "data": {
      "text/html": [
       "<div>\n",
       "<style scoped>\n",
       "    .dataframe tbody tr th:only-of-type {\n",
       "        vertical-align: middle;\n",
       "    }\n",
       "\n",
       "    .dataframe tbody tr th {\n",
       "        vertical-align: top;\n",
       "    }\n",
       "\n",
       "    .dataframe thead th {\n",
       "        text-align: right;\n",
       "    }\n",
       "</style>\n",
       "<table border=\"1\" class=\"dataframe\">\n",
       "  <thead>\n",
       "    <tr style=\"text-align: right;\">\n",
       "      <th></th>\n",
       "      <th>user_id</th>\n",
       "      <th>month</th>\n",
       "      <th>calls_count</th>\n",
       "      <th>duration_calls</th>\n",
       "      <th>messages_count</th>\n",
       "      <th>gb_used</th>\n",
       "      <th>mb_used</th>\n",
       "      <th>tariff</th>\n",
       "      <th>churn_date</th>\n",
       "      <th>reg_date</th>\n",
       "      <th>city</th>\n",
       "      <th>total_cost</th>\n",
       "    </tr>\n",
       "  </thead>\n",
       "  <tbody>\n",
       "    <tr>\n",
       "      <th>8</th>\n",
       "      <td>1001</td>\n",
       "      <td>11</td>\n",
       "      <td>59.0</td>\n",
       "      <td>430.0</td>\n",
       "      <td>0.0</td>\n",
       "      <td>55.0</td>\n",
       "      <td>18452.0</td>\n",
       "      <td>smart</td>\n",
       "      <td>0</td>\n",
       "      <td>2018-11-01</td>\n",
       "      <td>Москва</td>\n",
       "      <td>8550.0</td>\n",
       "    </tr>\n",
       "    <tr>\n",
       "      <th>9</th>\n",
       "      <td>1001</td>\n",
       "      <td>12</td>\n",
       "      <td>63.0</td>\n",
       "      <td>414.0</td>\n",
       "      <td>0.0</td>\n",
       "      <td>41.0</td>\n",
       "      <td>14053.0</td>\n",
       "      <td>smart</td>\n",
       "      <td>0</td>\n",
       "      <td>2018-11-01</td>\n",
       "      <td>Москва</td>\n",
       "      <td>5750.0</td>\n",
       "    </tr>\n",
       "    <tr>\n",
       "      <th>10</th>\n",
       "      <td>1002</td>\n",
       "      <td>6</td>\n",
       "      <td>15.0</td>\n",
       "      <td>117.0</td>\n",
       "      <td>4.0</td>\n",
       "      <td>34.0</td>\n",
       "      <td>10871.0</td>\n",
       "      <td>smart</td>\n",
       "      <td>0</td>\n",
       "      <td>2018-06-17</td>\n",
       "      <td>Стерлитамак</td>\n",
       "      <td>4350.0</td>\n",
       "    </tr>\n",
       "    <tr>\n",
       "      <th>11</th>\n",
       "      <td>1002</td>\n",
       "      <td>7</td>\n",
       "      <td>26.0</td>\n",
       "      <td>214.0</td>\n",
       "      <td>11.0</td>\n",
       "      <td>59.0</td>\n",
       "      <td>17601.0</td>\n",
       "      <td>smart</td>\n",
       "      <td>0</td>\n",
       "      <td>2018-06-17</td>\n",
       "      <td>Стерлитамак</td>\n",
       "      <td>9350.0</td>\n",
       "    </tr>\n",
       "    <tr>\n",
       "      <th>12</th>\n",
       "      <td>1002</td>\n",
       "      <td>8</td>\n",
       "      <td>42.0</td>\n",
       "      <td>289.0</td>\n",
       "      <td>13.0</td>\n",
       "      <td>60.0</td>\n",
       "      <td>20347.0</td>\n",
       "      <td>smart</td>\n",
       "      <td>0</td>\n",
       "      <td>2018-06-17</td>\n",
       "      <td>Стерлитамак</td>\n",
       "      <td>9550.0</td>\n",
       "    </tr>\n",
       "    <tr>\n",
       "      <th>13</th>\n",
       "      <td>1002</td>\n",
       "      <td>9</td>\n",
       "      <td>36.0</td>\n",
       "      <td>206.0</td>\n",
       "      <td>4.0</td>\n",
       "      <td>56.0</td>\n",
       "      <td>16712.0</td>\n",
       "      <td>smart</td>\n",
       "      <td>0</td>\n",
       "      <td>2018-06-17</td>\n",
       "      <td>Стерлитамак</td>\n",
       "      <td>8750.0</td>\n",
       "    </tr>\n",
       "    <tr>\n",
       "      <th>14</th>\n",
       "      <td>1002</td>\n",
       "      <td>10</td>\n",
       "      <td>33.0</td>\n",
       "      <td>212.0</td>\n",
       "      <td>10.0</td>\n",
       "      <td>44.0</td>\n",
       "      <td>13905.0</td>\n",
       "      <td>smart</td>\n",
       "      <td>0</td>\n",
       "      <td>2018-06-17</td>\n",
       "      <td>Стерлитамак</td>\n",
       "      <td>6350.0</td>\n",
       "    </tr>\n",
       "    <tr>\n",
       "      <th>15</th>\n",
       "      <td>1002</td>\n",
       "      <td>11</td>\n",
       "      <td>32.0</td>\n",
       "      <td>243.0</td>\n",
       "      <td>16.0</td>\n",
       "      <td>56.0</td>\n",
       "      <td>18610.0</td>\n",
       "      <td>smart</td>\n",
       "      <td>0</td>\n",
       "      <td>2018-06-17</td>\n",
       "      <td>Стерлитамак</td>\n",
       "      <td>8750.0</td>\n",
       "    </tr>\n",
       "    <tr>\n",
       "      <th>16</th>\n",
       "      <td>1002</td>\n",
       "      <td>12</td>\n",
       "      <td>33.0</td>\n",
       "      <td>236.0</td>\n",
       "      <td>12.0</td>\n",
       "      <td>62.0</td>\n",
       "      <td>18137.0</td>\n",
       "      <td>smart</td>\n",
       "      <td>0</td>\n",
       "      <td>2018-06-17</td>\n",
       "      <td>Стерлитамак</td>\n",
       "      <td>9950.0</td>\n",
       "    </tr>\n",
       "    <tr>\n",
       "      <th>30</th>\n",
       "      <td>1005</td>\n",
       "      <td>1</td>\n",
       "      <td>15.0</td>\n",
       "      <td>95.0</td>\n",
       "      <td>7.0</td>\n",
       "      <td>7.0</td>\n",
       "      <td>2730.0</td>\n",
       "      <td>smart</td>\n",
       "      <td>0</td>\n",
       "      <td>2018-01-25</td>\n",
       "      <td>Набережные Челны</td>\n",
       "      <td>550.0</td>\n",
       "    </tr>\n",
       "  </tbody>\n",
       "</table>\n",
       "</div>"
      ],
      "text/plain": [
       "    user_id  month  calls_count  duration_calls  messages_count  gb_used  \\\n",
       "8      1001     11         59.0           430.0             0.0     55.0   \n",
       "9      1001     12         63.0           414.0             0.0     41.0   \n",
       "10     1002      6         15.0           117.0             4.0     34.0   \n",
       "11     1002      7         26.0           214.0            11.0     59.0   \n",
       "12     1002      8         42.0           289.0            13.0     60.0   \n",
       "13     1002      9         36.0           206.0             4.0     56.0   \n",
       "14     1002     10         33.0           212.0            10.0     44.0   \n",
       "15     1002     11         32.0           243.0            16.0     56.0   \n",
       "16     1002     12         33.0           236.0            12.0     62.0   \n",
       "30     1005      1         15.0            95.0             7.0      7.0   \n",
       "\n",
       "    mb_used tariff churn_date   reg_date              city  total_cost  \n",
       "8   18452.0  smart          0 2018-11-01            Москва      8550.0  \n",
       "9   14053.0  smart          0 2018-11-01            Москва      5750.0  \n",
       "10  10871.0  smart          0 2018-06-17       Стерлитамак      4350.0  \n",
       "11  17601.0  smart          0 2018-06-17       Стерлитамак      9350.0  \n",
       "12  20347.0  smart          0 2018-06-17       Стерлитамак      9550.0  \n",
       "13  16712.0  smart          0 2018-06-17       Стерлитамак      8750.0  \n",
       "14  13905.0  smart          0 2018-06-17       Стерлитамак      6350.0  \n",
       "15  18610.0  smart          0 2018-06-17       Стерлитамак      8750.0  \n",
       "16  18137.0  smart          0 2018-06-17       Стерлитамак      9950.0  \n",
       "30   2730.0  smart          0 2018-01-25  Набережные Челны       550.0  "
      ]
     },
     "execution_count": 37,
     "metadata": {},
     "output_type": "execute_result"
    }
   ],
   "source": [
    "smart_df.head(10)"
   ]
  },
  {
   "cell_type": "code",
   "execution_count": 38,
   "metadata": {
    "scrolled": true
   },
   "outputs": [
    {
     "data": {
      "text/html": [
       "<div>\n",
       "<style scoped>\n",
       "    .dataframe tbody tr th:only-of-type {\n",
       "        vertical-align: middle;\n",
       "    }\n",
       "\n",
       "    .dataframe tbody tr th {\n",
       "        vertical-align: top;\n",
       "    }\n",
       "\n",
       "    .dataframe thead th {\n",
       "        text-align: right;\n",
       "    }\n",
       "</style>\n",
       "<table border=\"1\" class=\"dataframe\">\n",
       "  <thead>\n",
       "    <tr style=\"text-align: right;\">\n",
       "      <th></th>\n",
       "      <th>calls_count</th>\n",
       "      <th>duration_calls</th>\n",
       "      <th>gb_used</th>\n",
       "      <th>messages_count</th>\n",
       "      <th>total_cost</th>\n",
       "    </tr>\n",
       "    <tr>\n",
       "      <th>month</th>\n",
       "      <th></th>\n",
       "      <th></th>\n",
       "      <th></th>\n",
       "      <th></th>\n",
       "      <th></th>\n",
       "    </tr>\n",
       "  </thead>\n",
       "  <tbody>\n",
       "    <tr>\n",
       "      <th>1</th>\n",
       "      <td>27.676471</td>\n",
       "      <td>203.852941</td>\n",
       "      <td>25.705882</td>\n",
       "      <td>18.235294</td>\n",
       "      <td>3228.588235</td>\n",
       "    </tr>\n",
       "    <tr>\n",
       "      <th>2</th>\n",
       "      <td>40.189655</td>\n",
       "      <td>298.689655</td>\n",
       "      <td>35.706897</td>\n",
       "      <td>24.086207</td>\n",
       "      <td>4955.534483</td>\n",
       "    </tr>\n",
       "    <tr>\n",
       "      <th>3</th>\n",
       "      <td>54.324675</td>\n",
       "      <td>390.051948</td>\n",
       "      <td>47.220779</td>\n",
       "      <td>31.857143</td>\n",
       "      <td>7048.155844</td>\n",
       "    </tr>\n",
       "    <tr>\n",
       "      <th>4</th>\n",
       "      <td>51.312500</td>\n",
       "      <td>367.133929</td>\n",
       "      <td>42.098214</td>\n",
       "      <td>30.741071</td>\n",
       "      <td>6096.723214</td>\n",
       "    </tr>\n",
       "    <tr>\n",
       "      <th>5</th>\n",
       "      <td>55.241135</td>\n",
       "      <td>387.361702</td>\n",
       "      <td>48.758865</td>\n",
       "      <td>33.773050</td>\n",
       "      <td>7421.361702</td>\n",
       "    </tr>\n",
       "    <tr>\n",
       "      <th>6</th>\n",
       "      <td>55.548780</td>\n",
       "      <td>395.640244</td>\n",
       "      <td>48.823171</td>\n",
       "      <td>33.402439</td>\n",
       "      <td>7384.085366</td>\n",
       "    </tr>\n",
       "    <tr>\n",
       "      <th>7</th>\n",
       "      <td>56.726368</td>\n",
       "      <td>408.353234</td>\n",
       "      <td>49.398010</td>\n",
       "      <td>33.751244</td>\n",
       "      <td>7511.636816</td>\n",
       "    </tr>\n",
       "    <tr>\n",
       "      <th>8</th>\n",
       "      <td>58.978723</td>\n",
       "      <td>421.468085</td>\n",
       "      <td>51.438298</td>\n",
       "      <td>33.638298</td>\n",
       "      <td>7889.617021</td>\n",
       "    </tr>\n",
       "    <tr>\n",
       "      <th>9</th>\n",
       "      <td>59.546154</td>\n",
       "      <td>428.611538</td>\n",
       "      <td>50.846154</td>\n",
       "      <td>33.638462</td>\n",
       "      <td>7770.130769</td>\n",
       "    </tr>\n",
       "    <tr>\n",
       "      <th>10</th>\n",
       "      <td>59.962585</td>\n",
       "      <td>426.136054</td>\n",
       "      <td>52.068027</td>\n",
       "      <td>33.765306</td>\n",
       "      <td>8031.244898</td>\n",
       "    </tr>\n",
       "    <tr>\n",
       "      <th>11</th>\n",
       "      <td>61.503165</td>\n",
       "      <td>435.265823</td>\n",
       "      <td>52.838608</td>\n",
       "      <td>34.075949</td>\n",
       "      <td>8159.604430</td>\n",
       "    </tr>\n",
       "    <tr>\n",
       "      <th>12</th>\n",
       "      <td>66.486647</td>\n",
       "      <td>478.560831</td>\n",
       "      <td>56.240356</td>\n",
       "      <td>35.994065</td>\n",
       "      <td>8823.275964</td>\n",
       "    </tr>\n",
       "  </tbody>\n",
       "</table>\n",
       "</div>"
      ],
      "text/plain": [
       "       calls_count  duration_calls    gb_used  messages_count   total_cost\n",
       "month                                                                     \n",
       "1        27.676471      203.852941  25.705882       18.235294  3228.588235\n",
       "2        40.189655      298.689655  35.706897       24.086207  4955.534483\n",
       "3        54.324675      390.051948  47.220779       31.857143  7048.155844\n",
       "4        51.312500      367.133929  42.098214       30.741071  6096.723214\n",
       "5        55.241135      387.361702  48.758865       33.773050  7421.361702\n",
       "6        55.548780      395.640244  48.823171       33.402439  7384.085366\n",
       "7        56.726368      408.353234  49.398010       33.751244  7511.636816\n",
       "8        58.978723      421.468085  51.438298       33.638298  7889.617021\n",
       "9        59.546154      428.611538  50.846154       33.638462  7770.130769\n",
       "10       59.962585      426.136054  52.068027       33.765306  8031.244898\n",
       "11       61.503165      435.265823  52.838608       34.075949  8159.604430\n",
       "12       66.486647      478.560831  56.240356       35.994065  8823.275964"
      ]
     },
     "metadata": {},
     "output_type": "display_data"
    },
    {
     "data": {
      "text/html": [
       "<div>\n",
       "<style scoped>\n",
       "    .dataframe tbody tr th:only-of-type {\n",
       "        vertical-align: middle;\n",
       "    }\n",
       "\n",
       "    .dataframe tbody tr th {\n",
       "        vertical-align: top;\n",
       "    }\n",
       "\n",
       "    .dataframe thead th {\n",
       "        text-align: right;\n",
       "    }\n",
       "</style>\n",
       "<table border=\"1\" class=\"dataframe\">\n",
       "  <thead>\n",
       "    <tr style=\"text-align: right;\">\n",
       "      <th></th>\n",
       "      <th>calls_count</th>\n",
       "      <th>duration_calls</th>\n",
       "      <th>gb_used</th>\n",
       "      <th>messages_count</th>\n",
       "      <th>total_cost</th>\n",
       "    </tr>\n",
       "  </thead>\n",
       "  <tbody>\n",
       "    <tr>\n",
       "      <th>count</th>\n",
       "      <td>12.000000</td>\n",
       "      <td>12.000000</td>\n",
       "      <td>12.000000</td>\n",
       "      <td>12.000000</td>\n",
       "      <td>12.000000</td>\n",
       "    </tr>\n",
       "    <tr>\n",
       "      <th>mean</th>\n",
       "      <td>53.958072</td>\n",
       "      <td>386.760499</td>\n",
       "      <td>46.761938</td>\n",
       "      <td>31.413211</td>\n",
       "      <td>7026.663229</td>\n",
       "    </tr>\n",
       "    <tr>\n",
       "      <th>std</th>\n",
       "      <td>10.469205</td>\n",
       "      <td>72.262004</td>\n",
       "      <td>8.507684</td>\n",
       "      <td>5.103413</td>\n",
       "      <td>1564.286820</td>\n",
       "    </tr>\n",
       "    <tr>\n",
       "      <th>min</th>\n",
       "      <td>27.676471</td>\n",
       "      <td>203.852941</td>\n",
       "      <td>25.705882</td>\n",
       "      <td>18.235294</td>\n",
       "      <td>3228.588235</td>\n",
       "    </tr>\n",
       "    <tr>\n",
       "      <th>25%</th>\n",
       "      <td>53.571631</td>\n",
       "      <td>382.304759</td>\n",
       "      <td>45.940138</td>\n",
       "      <td>31.578125</td>\n",
       "      <td>6810.297687</td>\n",
       "    </tr>\n",
       "    <tr>\n",
       "      <th>50%</th>\n",
       "      <td>56.137574</td>\n",
       "      <td>401.996739</td>\n",
       "      <td>49.110590</td>\n",
       "      <td>33.638380</td>\n",
       "      <td>7466.499259</td>\n",
       "    </tr>\n",
       "    <tr>\n",
       "      <th>75%</th>\n",
       "      <td>59.650262</td>\n",
       "      <td>426.754925</td>\n",
       "      <td>51.595730</td>\n",
       "      <td>33.767242</td>\n",
       "      <td>7925.023990</td>\n",
       "    </tr>\n",
       "    <tr>\n",
       "      <th>max</th>\n",
       "      <td>66.486647</td>\n",
       "      <td>478.560831</td>\n",
       "      <td>56.240356</td>\n",
       "      <td>35.994065</td>\n",
       "      <td>8823.275964</td>\n",
       "    </tr>\n",
       "  </tbody>\n",
       "</table>\n",
       "</div>"
      ],
      "text/plain": [
       "       calls_count  duration_calls    gb_used  messages_count   total_cost\n",
       "count    12.000000       12.000000  12.000000       12.000000    12.000000\n",
       "mean     53.958072      386.760499  46.761938       31.413211  7026.663229\n",
       "std      10.469205       72.262004   8.507684        5.103413  1564.286820\n",
       "min      27.676471      203.852941  25.705882       18.235294  3228.588235\n",
       "25%      53.571631      382.304759  45.940138       31.578125  6810.297687\n",
       "50%      56.137574      401.996739  49.110590       33.638380  7466.499259\n",
       "75%      59.650262      426.754925  51.595730       33.767242  7925.023990\n",
       "max      66.486647      478.560831  56.240356       35.994065  8823.275964"
      ]
     },
     "execution_count": 38,
     "metadata": {},
     "output_type": "execute_result"
    }
   ],
   "source": [
    "display(smart_df_month)\n",
    "smart_df_month.describe()"
   ]
  },
  {
   "cell_type": "code",
   "execution_count": 39,
   "metadata": {
    "scrolled": false
   },
   "outputs": [
    {
     "data": {
      "text/html": [
       "<div>\n",
       "<style scoped>\n",
       "    .dataframe tbody tr th:only-of-type {\n",
       "        vertical-align: middle;\n",
       "    }\n",
       "\n",
       "    .dataframe tbody tr th {\n",
       "        vertical-align: top;\n",
       "    }\n",
       "\n",
       "    .dataframe thead th {\n",
       "        text-align: right;\n",
       "    }\n",
       "</style>\n",
       "<table border=\"1\" class=\"dataframe\">\n",
       "  <thead>\n",
       "    <tr style=\"text-align: right;\">\n",
       "      <th></th>\n",
       "      <th>total_cost</th>\n",
       "    </tr>\n",
       "  </thead>\n",
       "  <tbody>\n",
       "    <tr>\n",
       "      <th>count</th>\n",
       "      <td>12.000000</td>\n",
       "    </tr>\n",
       "    <tr>\n",
       "      <th>mean</th>\n",
       "      <td>7026.663229</td>\n",
       "    </tr>\n",
       "    <tr>\n",
       "      <th>std</th>\n",
       "      <td>1564.286820</td>\n",
       "    </tr>\n",
       "    <tr>\n",
       "      <th>min</th>\n",
       "      <td>3228.588235</td>\n",
       "    </tr>\n",
       "    <tr>\n",
       "      <th>25%</th>\n",
       "      <td>6810.297687</td>\n",
       "    </tr>\n",
       "    <tr>\n",
       "      <th>50%</th>\n",
       "      <td>7466.499259</td>\n",
       "    </tr>\n",
       "    <tr>\n",
       "      <th>75%</th>\n",
       "      <td>7925.023990</td>\n",
       "    </tr>\n",
       "    <tr>\n",
       "      <th>max</th>\n",
       "      <td>8823.275964</td>\n",
       "    </tr>\n",
       "  </tbody>\n",
       "</table>\n",
       "</div>"
      ],
      "text/plain": [
       "        total_cost\n",
       "count    12.000000\n",
       "mean   7026.663229\n",
       "std    1564.286820\n",
       "min    3228.588235\n",
       "25%    6810.297687\n",
       "50%    7466.499259\n",
       "75%    7925.023990\n",
       "max    8823.275964"
      ]
     },
     "execution_count": 39,
     "metadata": {},
     "output_type": "execute_result"
    }
   ],
   "source": [
    "# общая стоимость тарифа в месяц\n",
    "smart_df_month[['total_cost']].describe()"
   ]
  },
  {
   "cell_type": "code",
   "execution_count": 40,
   "metadata": {
    "scrolled": true
   },
   "outputs": [
    {
     "data": {
      "text/html": [
       "<div>\n",
       "<style scoped>\n",
       "    .dataframe tbody tr th:only-of-type {\n",
       "        vertical-align: middle;\n",
       "    }\n",
       "\n",
       "    .dataframe tbody tr th {\n",
       "        vertical-align: top;\n",
       "    }\n",
       "\n",
       "    .dataframe thead th {\n",
       "        text-align: right;\n",
       "    }\n",
       "</style>\n",
       "<table border=\"1\" class=\"dataframe\">\n",
       "  <thead>\n",
       "    <tr style=\"text-align: right;\">\n",
       "      <th></th>\n",
       "      <th>duration_calls</th>\n",
       "    </tr>\n",
       "  </thead>\n",
       "  <tbody>\n",
       "    <tr>\n",
       "      <th>count</th>\n",
       "      <td>12.000000</td>\n",
       "    </tr>\n",
       "    <tr>\n",
       "      <th>mean</th>\n",
       "      <td>386.760499</td>\n",
       "    </tr>\n",
       "    <tr>\n",
       "      <th>std</th>\n",
       "      <td>72.262004</td>\n",
       "    </tr>\n",
       "    <tr>\n",
       "      <th>min</th>\n",
       "      <td>203.852941</td>\n",
       "    </tr>\n",
       "    <tr>\n",
       "      <th>25%</th>\n",
       "      <td>382.304759</td>\n",
       "    </tr>\n",
       "    <tr>\n",
       "      <th>50%</th>\n",
       "      <td>401.996739</td>\n",
       "    </tr>\n",
       "    <tr>\n",
       "      <th>75%</th>\n",
       "      <td>426.754925</td>\n",
       "    </tr>\n",
       "    <tr>\n",
       "      <th>max</th>\n",
       "      <td>478.560831</td>\n",
       "    </tr>\n",
       "  </tbody>\n",
       "</table>\n",
       "</div>"
      ],
      "text/plain": [
       "       duration_calls\n",
       "count       12.000000\n",
       "mean       386.760499\n",
       "std         72.262004\n",
       "min        203.852941\n",
       "25%        382.304759\n",
       "50%        401.996739\n",
       "75%        426.754925\n",
       "max        478.560831"
      ]
     },
     "execution_count": 40,
     "metadata": {},
     "output_type": "execute_result"
    }
   ],
   "source": [
    "# общая продолжительность звонков тарифа в месяц\n",
    "smart_df_month[['duration_calls']].describe()"
   ]
  },
  {
   "cell_type": "code",
   "execution_count": 41,
   "metadata": {},
   "outputs": [
    {
     "data": {
      "text/html": [
       "<div>\n",
       "<style scoped>\n",
       "    .dataframe tbody tr th:only-of-type {\n",
       "        vertical-align: middle;\n",
       "    }\n",
       "\n",
       "    .dataframe tbody tr th {\n",
       "        vertical-align: top;\n",
       "    }\n",
       "\n",
       "    .dataframe thead th {\n",
       "        text-align: right;\n",
       "    }\n",
       "</style>\n",
       "<table border=\"1\" class=\"dataframe\">\n",
       "  <thead>\n",
       "    <tr style=\"text-align: right;\">\n",
       "      <th></th>\n",
       "      <th>messages_count</th>\n",
       "    </tr>\n",
       "  </thead>\n",
       "  <tbody>\n",
       "    <tr>\n",
       "      <th>count</th>\n",
       "      <td>12.000000</td>\n",
       "    </tr>\n",
       "    <tr>\n",
       "      <th>mean</th>\n",
       "      <td>31.413211</td>\n",
       "    </tr>\n",
       "    <tr>\n",
       "      <th>std</th>\n",
       "      <td>5.103413</td>\n",
       "    </tr>\n",
       "    <tr>\n",
       "      <th>min</th>\n",
       "      <td>18.235294</td>\n",
       "    </tr>\n",
       "    <tr>\n",
       "      <th>25%</th>\n",
       "      <td>31.578125</td>\n",
       "    </tr>\n",
       "    <tr>\n",
       "      <th>50%</th>\n",
       "      <td>33.638380</td>\n",
       "    </tr>\n",
       "    <tr>\n",
       "      <th>75%</th>\n",
       "      <td>33.767242</td>\n",
       "    </tr>\n",
       "    <tr>\n",
       "      <th>max</th>\n",
       "      <td>35.994065</td>\n",
       "    </tr>\n",
       "  </tbody>\n",
       "</table>\n",
       "</div>"
      ],
      "text/plain": [
       "       messages_count\n",
       "count       12.000000\n",
       "mean        31.413211\n",
       "std          5.103413\n",
       "min         18.235294\n",
       "25%         31.578125\n",
       "50%         33.638380\n",
       "75%         33.767242\n",
       "max         35.994065"
      ]
     },
     "execution_count": 41,
     "metadata": {},
     "output_type": "execute_result"
    }
   ],
   "source": [
    "# общее кол-во смс пользователей тарифа в месяц\n",
    "smart_df_month[['messages_count']].describe()"
   ]
  },
  {
   "cell_type": "code",
   "execution_count": 42,
   "metadata": {
    "scrolled": true
   },
   "outputs": [
    {
     "data": {
      "text/html": [
       "<div>\n",
       "<style scoped>\n",
       "    .dataframe tbody tr th:only-of-type {\n",
       "        vertical-align: middle;\n",
       "    }\n",
       "\n",
       "    .dataframe tbody tr th {\n",
       "        vertical-align: top;\n",
       "    }\n",
       "\n",
       "    .dataframe thead th {\n",
       "        text-align: right;\n",
       "    }\n",
       "</style>\n",
       "<table border=\"1\" class=\"dataframe\">\n",
       "  <thead>\n",
       "    <tr style=\"text-align: right;\">\n",
       "      <th></th>\n",
       "      <th>gb_used</th>\n",
       "    </tr>\n",
       "  </thead>\n",
       "  <tbody>\n",
       "    <tr>\n",
       "      <th>count</th>\n",
       "      <td>12.000000</td>\n",
       "    </tr>\n",
       "    <tr>\n",
       "      <th>mean</th>\n",
       "      <td>46.761938</td>\n",
       "    </tr>\n",
       "    <tr>\n",
       "      <th>std</th>\n",
       "      <td>8.507684</td>\n",
       "    </tr>\n",
       "    <tr>\n",
       "      <th>min</th>\n",
       "      <td>25.705882</td>\n",
       "    </tr>\n",
       "    <tr>\n",
       "      <th>25%</th>\n",
       "      <td>45.940138</td>\n",
       "    </tr>\n",
       "    <tr>\n",
       "      <th>50%</th>\n",
       "      <td>49.110590</td>\n",
       "    </tr>\n",
       "    <tr>\n",
       "      <th>75%</th>\n",
       "      <td>51.595730</td>\n",
       "    </tr>\n",
       "    <tr>\n",
       "      <th>max</th>\n",
       "      <td>56.240356</td>\n",
       "    </tr>\n",
       "  </tbody>\n",
       "</table>\n",
       "</div>"
      ],
      "text/plain": [
       "         gb_used\n",
       "count  12.000000\n",
       "mean   46.761938\n",
       "std     8.507684\n",
       "min    25.705882\n",
       "25%    45.940138\n",
       "50%    49.110590\n",
       "75%    51.595730\n",
       "max    56.240356"
      ]
     },
     "execution_count": 42,
     "metadata": {},
     "output_type": "execute_result"
    }
   ],
   "source": [
    "# общее кол-во ГБ интернета тарифа в месяц\n",
    "smart_df_month[['gb_used']].describe()"
   ]
  },
  {
   "cell_type": "code",
   "execution_count": 43,
   "metadata": {},
   "outputs": [],
   "source": [
    "# выбор сторок тарифа ультра и создание таблицы с группировкой  потребления по месяцам\n",
    "ultra_df = users_df.query('tariff == \"ultra\"')\n",
    "ultra_df_month= ultra_df.pivot_table(index='month',values=['duration_calls','calls_count','messages_count','gb_used','total_cost'])"
   ]
  },
  {
   "cell_type": "code",
   "execution_count": 44,
   "metadata": {
    "scrolled": true
   },
   "outputs": [
    {
     "data": {
      "text/html": [
       "<div>\n",
       "<style scoped>\n",
       "    .dataframe tbody tr th:only-of-type {\n",
       "        vertical-align: middle;\n",
       "    }\n",
       "\n",
       "    .dataframe tbody tr th {\n",
       "        vertical-align: top;\n",
       "    }\n",
       "\n",
       "    .dataframe thead th {\n",
       "        text-align: right;\n",
       "    }\n",
       "</style>\n",
       "<table border=\"1\" class=\"dataframe\">\n",
       "  <thead>\n",
       "    <tr style=\"text-align: right;\">\n",
       "      <th></th>\n",
       "      <th>user_id</th>\n",
       "      <th>month</th>\n",
       "      <th>calls_count</th>\n",
       "      <th>duration_calls</th>\n",
       "      <th>messages_count</th>\n",
       "      <th>gb_used</th>\n",
       "      <th>mb_used</th>\n",
       "      <th>tariff</th>\n",
       "      <th>churn_date</th>\n",
       "      <th>reg_date</th>\n",
       "      <th>city</th>\n",
       "      <th>total_cost</th>\n",
       "    </tr>\n",
       "  </thead>\n",
       "  <tbody>\n",
       "    <tr>\n",
       "      <th>0</th>\n",
       "      <td>1000</td>\n",
       "      <td>5</td>\n",
       "      <td>22.0</td>\n",
       "      <td>159.0</td>\n",
       "      <td>22.0</td>\n",
       "      <td>5.0</td>\n",
       "      <td>2256.0</td>\n",
       "      <td>ultra</td>\n",
       "      <td>0</td>\n",
       "      <td>2018-05-25</td>\n",
       "      <td>Краснодар</td>\n",
       "      <td>1950.0</td>\n",
       "    </tr>\n",
       "    <tr>\n",
       "      <th>1</th>\n",
       "      <td>1000</td>\n",
       "      <td>6</td>\n",
       "      <td>43.0</td>\n",
       "      <td>172.0</td>\n",
       "      <td>60.0</td>\n",
       "      <td>54.0</td>\n",
       "      <td>23257.0</td>\n",
       "      <td>ultra</td>\n",
       "      <td>0</td>\n",
       "      <td>2018-05-25</td>\n",
       "      <td>Краснодар</td>\n",
       "      <td>5550.0</td>\n",
       "    </tr>\n",
       "    <tr>\n",
       "      <th>2</th>\n",
       "      <td>1000</td>\n",
       "      <td>7</td>\n",
       "      <td>47.0</td>\n",
       "      <td>340.0</td>\n",
       "      <td>75.0</td>\n",
       "      <td>29.0</td>\n",
       "      <td>14016.0</td>\n",
       "      <td>ultra</td>\n",
       "      <td>0</td>\n",
       "      <td>2018-05-25</td>\n",
       "      <td>Краснодар</td>\n",
       "      <td>1950.0</td>\n",
       "    </tr>\n",
       "    <tr>\n",
       "      <th>3</th>\n",
       "      <td>1000</td>\n",
       "      <td>8</td>\n",
       "      <td>52.0</td>\n",
       "      <td>408.0</td>\n",
       "      <td>81.0</td>\n",
       "      <td>29.0</td>\n",
       "      <td>14070.0</td>\n",
       "      <td>ultra</td>\n",
       "      <td>0</td>\n",
       "      <td>2018-05-25</td>\n",
       "      <td>Краснодар</td>\n",
       "      <td>1950.0</td>\n",
       "    </tr>\n",
       "    <tr>\n",
       "      <th>4</th>\n",
       "      <td>1000</td>\n",
       "      <td>9</td>\n",
       "      <td>58.0</td>\n",
       "      <td>466.0</td>\n",
       "      <td>57.0</td>\n",
       "      <td>28.0</td>\n",
       "      <td>14581.0</td>\n",
       "      <td>ultra</td>\n",
       "      <td>0</td>\n",
       "      <td>2018-05-25</td>\n",
       "      <td>Краснодар</td>\n",
       "      <td>1950.0</td>\n",
       "    </tr>\n",
       "    <tr>\n",
       "      <th>5</th>\n",
       "      <td>1000</td>\n",
       "      <td>10</td>\n",
       "      <td>57.0</td>\n",
       "      <td>350.0</td>\n",
       "      <td>73.0</td>\n",
       "      <td>28.0</td>\n",
       "      <td>14717.0</td>\n",
       "      <td>ultra</td>\n",
       "      <td>0</td>\n",
       "      <td>2018-05-25</td>\n",
       "      <td>Краснодар</td>\n",
       "      <td>1950.0</td>\n",
       "    </tr>\n",
       "    <tr>\n",
       "      <th>6</th>\n",
       "      <td>1000</td>\n",
       "      <td>11</td>\n",
       "      <td>43.0</td>\n",
       "      <td>338.0</td>\n",
       "      <td>58.0</td>\n",
       "      <td>28.0</td>\n",
       "      <td>14768.0</td>\n",
       "      <td>ultra</td>\n",
       "      <td>0</td>\n",
       "      <td>2018-05-25</td>\n",
       "      <td>Краснодар</td>\n",
       "      <td>1950.0</td>\n",
       "    </tr>\n",
       "    <tr>\n",
       "      <th>7</th>\n",
       "      <td>1000</td>\n",
       "      <td>12</td>\n",
       "      <td>46.0</td>\n",
       "      <td>333.0</td>\n",
       "      <td>70.0</td>\n",
       "      <td>21.0</td>\n",
       "      <td>9827.0</td>\n",
       "      <td>ultra</td>\n",
       "      <td>0</td>\n",
       "      <td>2018-05-25</td>\n",
       "      <td>Краснодар</td>\n",
       "      <td>1950.0</td>\n",
       "    </tr>\n",
       "    <tr>\n",
       "      <th>17</th>\n",
       "      <td>1003</td>\n",
       "      <td>8</td>\n",
       "      <td>55.0</td>\n",
       "      <td>380.0</td>\n",
       "      <td>37.0</td>\n",
       "      <td>15.0</td>\n",
       "      <td>8571.0</td>\n",
       "      <td>ultra</td>\n",
       "      <td>0</td>\n",
       "      <td>2018-08-17</td>\n",
       "      <td>Москва</td>\n",
       "      <td>1950.0</td>\n",
       "    </tr>\n",
       "    <tr>\n",
       "      <th>18</th>\n",
       "      <td>1003</td>\n",
       "      <td>9</td>\n",
       "      <td>134.0</td>\n",
       "      <td>961.0</td>\n",
       "      <td>91.0</td>\n",
       "      <td>23.0</td>\n",
       "      <td>12479.0</td>\n",
       "      <td>ultra</td>\n",
       "      <td>0</td>\n",
       "      <td>2018-08-17</td>\n",
       "      <td>Москва</td>\n",
       "      <td>1950.0</td>\n",
       "    </tr>\n",
       "  </tbody>\n",
       "</table>\n",
       "</div>"
      ],
      "text/plain": [
       "    user_id  month  calls_count  duration_calls  messages_count  gb_used  \\\n",
       "0      1000      5         22.0           159.0            22.0      5.0   \n",
       "1      1000      6         43.0           172.0            60.0     54.0   \n",
       "2      1000      7         47.0           340.0            75.0     29.0   \n",
       "3      1000      8         52.0           408.0            81.0     29.0   \n",
       "4      1000      9         58.0           466.0            57.0     28.0   \n",
       "5      1000     10         57.0           350.0            73.0     28.0   \n",
       "6      1000     11         43.0           338.0            58.0     28.0   \n",
       "7      1000     12         46.0           333.0            70.0     21.0   \n",
       "17     1003      8         55.0           380.0            37.0     15.0   \n",
       "18     1003      9        134.0           961.0            91.0     23.0   \n",
       "\n",
       "    mb_used tariff churn_date   reg_date       city  total_cost  \n",
       "0    2256.0  ultra          0 2018-05-25  Краснодар      1950.0  \n",
       "1   23257.0  ultra          0 2018-05-25  Краснодар      5550.0  \n",
       "2   14016.0  ultra          0 2018-05-25  Краснодар      1950.0  \n",
       "3   14070.0  ultra          0 2018-05-25  Краснодар      1950.0  \n",
       "4   14581.0  ultra          0 2018-05-25  Краснодар      1950.0  \n",
       "5   14717.0  ultra          0 2018-05-25  Краснодар      1950.0  \n",
       "6   14768.0  ultra          0 2018-05-25  Краснодар      1950.0  \n",
       "7    9827.0  ultra          0 2018-05-25  Краснодар      1950.0  \n",
       "17   8571.0  ultra          0 2018-08-17     Москва      1950.0  \n",
       "18  12479.0  ultra          0 2018-08-17     Москва      1950.0  "
      ]
     },
     "metadata": {},
     "output_type": "display_data"
    },
    {
     "data": {
      "text/html": [
       "<div>\n",
       "<style scoped>\n",
       "    .dataframe tbody tr th:only-of-type {\n",
       "        vertical-align: middle;\n",
       "    }\n",
       "\n",
       "    .dataframe tbody tr th {\n",
       "        vertical-align: top;\n",
       "    }\n",
       "\n",
       "    .dataframe thead th {\n",
       "        text-align: right;\n",
       "    }\n",
       "</style>\n",
       "<table border=\"1\" class=\"dataframe\">\n",
       "  <thead>\n",
       "    <tr style=\"text-align: right;\">\n",
       "      <th></th>\n",
       "      <th>user_id</th>\n",
       "      <th>month</th>\n",
       "      <th>calls_count</th>\n",
       "      <th>duration_calls</th>\n",
       "      <th>messages_count</th>\n",
       "      <th>gb_used</th>\n",
       "      <th>mb_used</th>\n",
       "      <th>total_cost</th>\n",
       "    </tr>\n",
       "  </thead>\n",
       "  <tbody>\n",
       "    <tr>\n",
       "      <th>count</th>\n",
       "      <td>985.000000</td>\n",
       "      <td>985.000000</td>\n",
       "      <td>985.000000</td>\n",
       "      <td>985.000000</td>\n",
       "      <td>985.000000</td>\n",
       "      <td>985.000000</td>\n",
       "      <td>985.000000</td>\n",
       "      <td>985.000000</td>\n",
       "    </tr>\n",
       "    <tr>\n",
       "      <th>mean</th>\n",
       "      <td>1263.094416</td>\n",
       "      <td>8.250761</td>\n",
       "      <td>73.392893</td>\n",
       "      <td>526.623350</td>\n",
       "      <td>49.363452</td>\n",
       "      <td>39.966497</td>\n",
       "      <td>19486.901523</td>\n",
       "      <td>4070.406091</td>\n",
       "    </tr>\n",
       "    <tr>\n",
       "      <th>std</th>\n",
       "      <td>140.694908</td>\n",
       "      <td>2.871762</td>\n",
       "      <td>43.916853</td>\n",
       "      <td>317.606098</td>\n",
       "      <td>47.804457</td>\n",
       "      <td>20.407980</td>\n",
       "      <td>10096.317202</td>\n",
       "      <td>2323.808559</td>\n",
       "    </tr>\n",
       "    <tr>\n",
       "      <th>min</th>\n",
       "      <td>1000.000000</td>\n",
       "      <td>1.000000</td>\n",
       "      <td>0.000000</td>\n",
       "      <td>0.000000</td>\n",
       "      <td>0.000000</td>\n",
       "      <td>0.000000</td>\n",
       "      <td>0.000000</td>\n",
       "      <td>1950.000000</td>\n",
       "    </tr>\n",
       "    <tr>\n",
       "      <th>25%</th>\n",
       "      <td>1143.000000</td>\n",
       "      <td>6.000000</td>\n",
       "      <td>41.000000</td>\n",
       "      <td>284.000000</td>\n",
       "      <td>6.000000</td>\n",
       "      <td>24.000000</td>\n",
       "      <td>11785.000000</td>\n",
       "      <td>1950.000000</td>\n",
       "    </tr>\n",
       "    <tr>\n",
       "      <th>50%</th>\n",
       "      <td>1277.000000</td>\n",
       "      <td>9.000000</td>\n",
       "      <td>74.000000</td>\n",
       "      <td>518.000000</td>\n",
       "      <td>38.000000</td>\n",
       "      <td>40.000000</td>\n",
       "      <td>19324.000000</td>\n",
       "      <td>3450.000000</td>\n",
       "    </tr>\n",
       "    <tr>\n",
       "      <th>75%</th>\n",
       "      <td>1381.000000</td>\n",
       "      <td>11.000000</td>\n",
       "      <td>104.000000</td>\n",
       "      <td>752.000000</td>\n",
       "      <td>79.000000</td>\n",
       "      <td>54.000000</td>\n",
       "      <td>26863.000000</td>\n",
       "      <td>5550.000000</td>\n",
       "    </tr>\n",
       "    <tr>\n",
       "      <th>max</th>\n",
       "      <td>1495.000000</td>\n",
       "      <td>12.000000</td>\n",
       "      <td>244.000000</td>\n",
       "      <td>1673.000000</td>\n",
       "      <td>224.000000</td>\n",
       "      <td>100.000000</td>\n",
       "      <td>49789.000000</td>\n",
       "      <td>12450.000000</td>\n",
       "    </tr>\n",
       "  </tbody>\n",
       "</table>\n",
       "</div>"
      ],
      "text/plain": [
       "           user_id       month  calls_count  duration_calls  messages_count  \\\n",
       "count   985.000000  985.000000   985.000000      985.000000      985.000000   \n",
       "mean   1263.094416    8.250761    73.392893      526.623350       49.363452   \n",
       "std     140.694908    2.871762    43.916853      317.606098       47.804457   \n",
       "min    1000.000000    1.000000     0.000000        0.000000        0.000000   \n",
       "25%    1143.000000    6.000000    41.000000      284.000000        6.000000   \n",
       "50%    1277.000000    9.000000    74.000000      518.000000       38.000000   \n",
       "75%    1381.000000   11.000000   104.000000      752.000000       79.000000   \n",
       "max    1495.000000   12.000000   244.000000     1673.000000      224.000000   \n",
       "\n",
       "          gb_used       mb_used    total_cost  \n",
       "count  985.000000    985.000000    985.000000  \n",
       "mean    39.966497  19486.901523   4070.406091  \n",
       "std     20.407980  10096.317202   2323.808559  \n",
       "min      0.000000      0.000000   1950.000000  \n",
       "25%     24.000000  11785.000000   1950.000000  \n",
       "50%     40.000000  19324.000000   3450.000000  \n",
       "75%     54.000000  26863.000000   5550.000000  \n",
       "max    100.000000  49789.000000  12450.000000  "
      ]
     },
     "execution_count": 44,
     "metadata": {},
     "output_type": "execute_result"
    }
   ],
   "source": [
    "display(ultra_df.head(10))\n",
    "ultra_df.describe()"
   ]
  },
  {
   "cell_type": "code",
   "execution_count": 45,
   "metadata": {
    "scrolled": false
   },
   "outputs": [
    {
     "data": {
      "text/html": [
       "<div>\n",
       "<style scoped>\n",
       "    .dataframe tbody tr th:only-of-type {\n",
       "        vertical-align: middle;\n",
       "    }\n",
       "\n",
       "    .dataframe tbody tr th {\n",
       "        vertical-align: top;\n",
       "    }\n",
       "\n",
       "    .dataframe thead th {\n",
       "        text-align: right;\n",
       "    }\n",
       "</style>\n",
       "<table border=\"1\" class=\"dataframe\">\n",
       "  <thead>\n",
       "    <tr style=\"text-align: right;\">\n",
       "      <th></th>\n",
       "      <th>calls_count</th>\n",
       "      <th>duration_calls</th>\n",
       "      <th>gb_used</th>\n",
       "      <th>messages_count</th>\n",
       "      <th>total_cost</th>\n",
       "    </tr>\n",
       "    <tr>\n",
       "      <th>month</th>\n",
       "      <th></th>\n",
       "      <th></th>\n",
       "      <th></th>\n",
       "      <th></th>\n",
       "      <th></th>\n",
       "    </tr>\n",
       "  </thead>\n",
       "  <tbody>\n",
       "    <tr>\n",
       "      <th>1</th>\n",
       "      <td>59.444444</td>\n",
       "      <td>428.111111</td>\n",
       "      <td>28.333333</td>\n",
       "      <td>33.777778</td>\n",
       "      <td>2650.000000</td>\n",
       "    </tr>\n",
       "    <tr>\n",
       "      <th>2</th>\n",
       "      <td>41.541667</td>\n",
       "      <td>297.125000</td>\n",
       "      <td>25.291667</td>\n",
       "      <td>21.958333</td>\n",
       "      <td>3050.000000</td>\n",
       "    </tr>\n",
       "    <tr>\n",
       "      <th>3</th>\n",
       "      <td>67.675676</td>\n",
       "      <td>489.648649</td>\n",
       "      <td>35.783784</td>\n",
       "      <td>32.297297</td>\n",
       "      <td>3916.216216</td>\n",
       "    </tr>\n",
       "    <tr>\n",
       "      <th>4</th>\n",
       "      <td>64.090909</td>\n",
       "      <td>458.018182</td>\n",
       "      <td>34.654545</td>\n",
       "      <td>31.563636</td>\n",
       "      <td>3553.636364</td>\n",
       "    </tr>\n",
       "    <tr>\n",
       "      <th>5</th>\n",
       "      <td>72.507463</td>\n",
       "      <td>510.328358</td>\n",
       "      <td>40.164179</td>\n",
       "      <td>37.850746</td>\n",
       "      <td>4052.238806</td>\n",
       "    </tr>\n",
       "    <tr>\n",
       "      <th>6</th>\n",
       "      <td>66.738095</td>\n",
       "      <td>479.702381</td>\n",
       "      <td>38.726190</td>\n",
       "      <td>41.726190</td>\n",
       "      <td>3896.428571</td>\n",
       "    </tr>\n",
       "    <tr>\n",
       "      <th>7</th>\n",
       "      <td>75.780220</td>\n",
       "      <td>545.791209</td>\n",
       "      <td>42.230769</td>\n",
       "      <td>49.846154</td>\n",
       "      <td>4232.967033</td>\n",
       "    </tr>\n",
       "    <tr>\n",
       "      <th>8</th>\n",
       "      <td>71.289720</td>\n",
       "      <td>510.775701</td>\n",
       "      <td>39.925234</td>\n",
       "      <td>48.439252</td>\n",
       "      <td>4096.261682</td>\n",
       "    </tr>\n",
       "    <tr>\n",
       "      <th>9</th>\n",
       "      <td>74.600000</td>\n",
       "      <td>539.443478</td>\n",
       "      <td>39.521739</td>\n",
       "      <td>52.286957</td>\n",
       "      <td>3996.521739</td>\n",
       "    </tr>\n",
       "    <tr>\n",
       "      <th>10</th>\n",
       "      <td>77.373984</td>\n",
       "      <td>558.081301</td>\n",
       "      <td>40.788618</td>\n",
       "      <td>58.430894</td>\n",
       "      <td>4093.902439</td>\n",
       "    </tr>\n",
       "    <tr>\n",
       "      <th>11</th>\n",
       "      <td>75.119403</td>\n",
       "      <td>541.380597</td>\n",
       "      <td>40.649254</td>\n",
       "      <td>55.791045</td>\n",
       "      <td>4083.582090</td>\n",
       "    </tr>\n",
       "    <tr>\n",
       "      <th>12</th>\n",
       "      <td>83.316547</td>\n",
       "      <td>592.805755</td>\n",
       "      <td>44.654676</td>\n",
       "      <td>60.611511</td>\n",
       "      <td>4599.280576</td>\n",
       "    </tr>\n",
       "  </tbody>\n",
       "</table>\n",
       "</div>"
      ],
      "text/plain": [
       "       calls_count  duration_calls    gb_used  messages_count   total_cost\n",
       "month                                                                     \n",
       "1        59.444444      428.111111  28.333333       33.777778  2650.000000\n",
       "2        41.541667      297.125000  25.291667       21.958333  3050.000000\n",
       "3        67.675676      489.648649  35.783784       32.297297  3916.216216\n",
       "4        64.090909      458.018182  34.654545       31.563636  3553.636364\n",
       "5        72.507463      510.328358  40.164179       37.850746  4052.238806\n",
       "6        66.738095      479.702381  38.726190       41.726190  3896.428571\n",
       "7        75.780220      545.791209  42.230769       49.846154  4232.967033\n",
       "8        71.289720      510.775701  39.925234       48.439252  4096.261682\n",
       "9        74.600000      539.443478  39.521739       52.286957  3996.521739\n",
       "10       77.373984      558.081301  40.788618       58.430894  4093.902439\n",
       "11       75.119403      541.380597  40.649254       55.791045  4083.582090\n",
       "12       83.316547      592.805755  44.654676       60.611511  4599.280576"
      ]
     },
     "metadata": {},
     "output_type": "display_data"
    },
    {
     "data": {
      "text/html": [
       "<div>\n",
       "<style scoped>\n",
       "    .dataframe tbody tr th:only-of-type {\n",
       "        vertical-align: middle;\n",
       "    }\n",
       "\n",
       "    .dataframe tbody tr th {\n",
       "        vertical-align: top;\n",
       "    }\n",
       "\n",
       "    .dataframe thead th {\n",
       "        text-align: right;\n",
       "    }\n",
       "</style>\n",
       "<table border=\"1\" class=\"dataframe\">\n",
       "  <thead>\n",
       "    <tr style=\"text-align: right;\">\n",
       "      <th></th>\n",
       "      <th>calls_count</th>\n",
       "      <th>duration_calls</th>\n",
       "      <th>gb_used</th>\n",
       "      <th>messages_count</th>\n",
       "      <th>total_cost</th>\n",
       "    </tr>\n",
       "  </thead>\n",
       "  <tbody>\n",
       "    <tr>\n",
       "      <th>count</th>\n",
       "      <td>12.000000</td>\n",
       "      <td>12.000000</td>\n",
       "      <td>12.000000</td>\n",
       "      <td>12.000000</td>\n",
       "      <td>12.000000</td>\n",
       "    </tr>\n",
       "    <tr>\n",
       "      <th>mean</th>\n",
       "      <td>69.123177</td>\n",
       "      <td>495.934310</td>\n",
       "      <td>37.560332</td>\n",
       "      <td>43.714983</td>\n",
       "      <td>3851.752960</td>\n",
       "    </tr>\n",
       "    <tr>\n",
       "      <th>std</th>\n",
       "      <td>10.801795</td>\n",
       "      <td>77.450072</td>\n",
       "      <td>5.696430</td>\n",
       "      <td>12.320470</td>\n",
       "      <td>532.531077</td>\n",
       "    </tr>\n",
       "    <tr>\n",
       "      <th>min</th>\n",
       "      <td>41.541667</td>\n",
       "      <td>297.125000</td>\n",
       "      <td>25.291667</td>\n",
       "      <td>21.958333</td>\n",
       "      <td>2650.000000</td>\n",
       "    </tr>\n",
       "    <tr>\n",
       "      <th>25%</th>\n",
       "      <td>66.076299</td>\n",
       "      <td>474.281331</td>\n",
       "      <td>35.501474</td>\n",
       "      <td>33.407658</td>\n",
       "      <td>3810.730519</td>\n",
       "    </tr>\n",
       "    <tr>\n",
       "      <th>50%</th>\n",
       "      <td>71.898591</td>\n",
       "      <td>510.552030</td>\n",
       "      <td>39.723486</td>\n",
       "      <td>45.082721</td>\n",
       "      <td>4024.380273</td>\n",
       "    </tr>\n",
       "    <tr>\n",
       "      <th>75%</th>\n",
       "      <td>75.284607</td>\n",
       "      <td>542.483250</td>\n",
       "      <td>40.684095</td>\n",
       "      <td>53.162979</td>\n",
       "      <td>4094.492250</td>\n",
       "    </tr>\n",
       "    <tr>\n",
       "      <th>max</th>\n",
       "      <td>83.316547</td>\n",
       "      <td>592.805755</td>\n",
       "      <td>44.654676</td>\n",
       "      <td>60.611511</td>\n",
       "      <td>4599.280576</td>\n",
       "    </tr>\n",
       "  </tbody>\n",
       "</table>\n",
       "</div>"
      ],
      "text/plain": [
       "       calls_count  duration_calls    gb_used  messages_count   total_cost\n",
       "count    12.000000       12.000000  12.000000       12.000000    12.000000\n",
       "mean     69.123177      495.934310  37.560332       43.714983  3851.752960\n",
       "std      10.801795       77.450072   5.696430       12.320470   532.531077\n",
       "min      41.541667      297.125000  25.291667       21.958333  2650.000000\n",
       "25%      66.076299      474.281331  35.501474       33.407658  3810.730519\n",
       "50%      71.898591      510.552030  39.723486       45.082721  4024.380273\n",
       "75%      75.284607      542.483250  40.684095       53.162979  4094.492250\n",
       "max      83.316547      592.805755  44.654676       60.611511  4599.280576"
      ]
     },
     "execution_count": 45,
     "metadata": {},
     "output_type": "execute_result"
    }
   ],
   "source": [
    "display(ultra_df_month)\n",
    "ultra_df_month.describe()"
   ]
  },
  {
   "cell_type": "code",
   "execution_count": 46,
   "metadata": {
    "scrolled": false
   },
   "outputs": [
    {
     "data": {
      "text/plain": [
       "0.9587258860475549"
      ]
     },
     "metadata": {},
     "output_type": "display_data"
    },
    {
     "data": {
      "text/plain": [
       "0.6639593908629442"
      ]
     },
     "metadata": {},
     "output_type": "display_data"
    }
   ],
   "source": [
    "# доля переплачивающих сверх тарифа \n",
    "part_paied_extra_smart =len(smart_df.query('total_cost > 550')) / len(smart_df['total_cost'])\n",
    "display(part_paied_extra_smart)\n",
    "part_paied_extra_ultra =len(ultra_df.query('total_cost> 1950')) / len(ultra_df)\n",
    "display(part_paied_extra_ultra)"
   ]
  },
  {
   "cell_type": "markdown",
   "metadata": {},
   "source": [
    "#### число значений и доля каждого тарифа в выборке "
   ]
  },
  {
   "cell_type": "code",
   "execution_count": 82,
   "metadata": {},
   "outputs": [
    {
     "data": {
      "text/plain": [
       "2229"
      ]
     },
     "metadata": {},
     "output_type": "display_data"
    },
    {
     "data": {
      "text/plain": [
       "69.35"
      ]
     },
     "execution_count": 82,
     "metadata": {},
     "output_type": "execute_result"
    }
   ],
   "source": [
    "# число значений и доля в выборке тарифа \" смарт\"\n",
    "count_smart=users_df.query('tariff == \"smart\"')['tariff'].count()\n",
    "part_smart=count_smart/users_df['tariff'].count()*100\n",
    "display(count_smart)\n",
    "part_smart.round(2)"
   ]
  },
  {
   "cell_type": "code",
   "execution_count": 83,
   "metadata": {},
   "outputs": [
    {
     "data": {
      "text/plain": [
       "985"
      ]
     },
     "metadata": {},
     "output_type": "display_data"
    },
    {
     "data": {
      "text/plain": [
       "30.65"
      ]
     },
     "execution_count": 83,
     "metadata": {},
     "output_type": "execute_result"
    }
   ],
   "source": [
    "# число значений и доля в выборке тарифа \"Ультра\"\n",
    "count_ultra=users_df.query('tariff == \"ultra\"')['tariff'].count()\n",
    "part_ultra=count_ultra/users_df['tariff'].count()*100\n",
    "display(count_ultra)\n",
    "part_ultra.round(2)"
   ]
  },
  {
   "cell_type": "markdown",
   "metadata": {},
   "source": [
    "#### подсчет для тарифа \"Смарт\"( дисперсия и стандартное отклонение) "
   ]
  },
  {
   "cell_type": "code",
   "execution_count": 49,
   "metadata": {
    "scrolled": true
   },
   "outputs": [
    {
     "data": {
      "text/plain": [
       "total_cost    1.136663e+07\n",
       "dtype: float64"
      ]
     },
     "execution_count": 49,
     "metadata": {},
     "output_type": "execute_result"
    }
   ],
   "source": [
    "# дисперсия общей стоимости затрат пользователей тарифа\n",
    "smart_var_cost = np.var(smart_df[['total_cost']])\n",
    "smart_var_cost"
   ]
  },
  {
   "cell_type": "code",
   "execution_count": 50,
   "metadata": {},
   "outputs": [
    {
     "data": {
      "text/plain": [
       "total_cost    3371.443344\n",
       "dtype: float64"
      ]
     },
     "execution_count": 50,
     "metadata": {},
     "output_type": "execute_result"
    }
   ],
   "source": [
    "# стандартное отклонение  общей стоимости затрат пользователей тарифа\n",
    "smart_dev_cost = np.std(smart_df[['total_cost']])\n",
    "smart_dev_cost "
   ]
  },
  {
   "cell_type": "code",
   "execution_count": 51,
   "metadata": {},
   "outputs": [
    {
     "data": {
      "text/plain": [
       "duration_calls    36203.066652\n",
       "dtype: float64"
      ]
     },
     "execution_count": 51,
     "metadata": {},
     "output_type": "execute_result"
    }
   ],
   "source": [
    "# дисперсия минут разговора пользователей тарифа\n",
    "smart_var_duration = np.var(smart_df[['duration_calls']])\n",
    "smart_var_duration"
   ]
  },
  {
   "cell_type": "code",
   "execution_count": 52,
   "metadata": {},
   "outputs": [
    {
     "data": {
      "text/plain": [
       "duration_calls    190.271035\n",
       "dtype: float64"
      ]
     },
     "execution_count": 52,
     "metadata": {},
     "output_type": "execute_result"
    }
   ],
   "source": [
    "# стандартное отклонение минут разговора пользователей тарифа\n",
    "smart_dev_duration = np.std(smart_df[['duration_calls']])\n",
    "smart_dev_duration "
   ]
  },
  {
   "cell_type": "code",
   "execution_count": 53,
   "metadata": {},
   "outputs": [
    {
     "data": {
      "text/plain": [
       "messages_count    796.455483\n",
       "dtype: float64"
      ]
     },
     "execution_count": 53,
     "metadata": {},
     "output_type": "execute_result"
    }
   ],
   "source": [
    "# дисперсия кол-ва сообщений пользователей тарифа\n",
    "smart_var_messages_count = np.var(smart_df[['messages_count']])\n",
    "smart_var_messages_count"
   ]
  },
  {
   "cell_type": "code",
   "execution_count": 54,
   "metadata": {},
   "outputs": [
    {
     "data": {
      "text/plain": [
       "messages_count    28.221543\n",
       "dtype: float64"
      ]
     },
     "execution_count": 54,
     "metadata": {},
     "output_type": "execute_result"
    }
   ],
   "source": [
    "# стандартное отклонение кол-ва сообщений пользователей тарифа\n",
    "smart_dev_messages_count= np.std(smart_df[['messages_count']])\n",
    "smart_dev_messages_count"
   ]
  },
  {
   "cell_type": "code",
   "execution_count": 55,
   "metadata": {},
   "outputs": [
    {
     "data": {
      "text/plain": [
       "gb_used    306.031762\n",
       "dtype: float64"
      ]
     },
     "execution_count": 55,
     "metadata": {},
     "output_type": "execute_result"
    }
   ],
   "source": [
    "# дисперсия кол-ва потребленного (гигабайт )трафика пользователей тарифа\n",
    "smart_var_gb_used = np.var(smart_df[['gb_used']])\n",
    "smart_var_gb_used"
   ]
  },
  {
   "cell_type": "code",
   "execution_count": 56,
   "metadata": {},
   "outputs": [
    {
     "data": {
      "text/plain": [
       "gb_used    8.145488\n",
       "dtype: float64"
      ]
     },
     "execution_count": 56,
     "metadata": {},
     "output_type": "execute_result"
    }
   ],
   "source": [
    "# стандартное отклонение  потребленного (гигабайт )трафика  пользователей тарифа\n",
    "smart_dev_messages_count= np.std(smart_df_month[['gb_used']])\n",
    "smart_dev_messages_count"
   ]
  },
  {
   "cell_type": "markdown",
   "metadata": {},
   "source": [
    "####  Гистограммы для тарифа \"Смарт\""
   ]
  },
  {
   "cell_type": "code",
   "execution_count": 57,
   "metadata": {
    "scrolled": true
   },
   "outputs": [
    {
     "data": {
      "text/plain": [
       "Text(0.5, 1.0, 'Общая стоимость для абонентов ')"
      ]
     },
     "execution_count": 57,
     "metadata": {},
     "output_type": "execute_result"
    },
    {
     "data": {
      "image/png": "[encoded data removed]",
      "text/plain": [
       "<Figure size 432x288 with 1 Axes>"
      ]
     },
     "metadata": {
      "needs_background": "light"
     },
     "output_type": "display_data"
    }
   ],
   "source": [
    "smart_df.hist(column='total_cost', bins=30)\n",
    "plt.title('Общая стоимость для абонентов ')"
   ]
  },
  {
   "cell_type": "code",
   "execution_count": 58,
   "metadata": {
    "scrolled": true
   },
   "outputs": [
    {
     "data": {
      "text/plain": [
       "Text(0.5, 1.0, 'Использованные минуты разговора')"
      ]
     },
     "execution_count": 58,
     "metadata": {},
     "output_type": "execute_result"
    },
    {
     "data": {
      "image/png": "[encoded data removed]",
      "text/plain": [
       "<Figure size 432x288 with 1 Axes>"
      ]
     },
     "metadata": {
      "needs_background": "light"
     },
     "output_type": "display_data"
    }
   ],
   "source": [
    "smart_df.hist(column='duration_calls', bins=30)\n",
    "plt.title('Использованные минуты разговора')"
   ]
  },
  {
   "cell_type": "code",
   "execution_count": 59,
   "metadata": {
    "scrolled": true
   },
   "outputs": [
    {
     "data": {
      "text/plain": [
       "Text(0.5, 1.0, 'Колличество сообщений')"
      ]
     },
     "execution_count": 59,
     "metadata": {},
     "output_type": "execute_result"
    },
    {
     "data": {
      "image/png": "[encoded data removed]",
      "text/plain": [
       "<Figure size 432x288 with 1 Axes>"
      ]
     },
     "metadata": {
      "needs_background": "light"
     },
     "output_type": "display_data"
    }
   ],
   "source": [
    "smart_df.hist(column='messages_count', bins=30)\n",
    "plt.title('Колличество сообщений')"
   ]
  },
  {
   "cell_type": "code",
   "execution_count": 60,
   "metadata": {
    "scrolled": true
   },
   "outputs": [
    {
     "data": {
      "text/plain": [
       "Text(0.5, 1.0, 'Колличество потребленного трафика в гигабайт')"
      ]
     },
     "execution_count": 60,
     "metadata": {},
     "output_type": "execute_result"
    },
    {
     "data": {
      "image/png": "[encoded data removed]",
      "text/plain": [
       "<Figure size 432x288 with 1 Axes>"
      ]
     },
     "metadata": {
      "needs_background": "light"
     },
     "output_type": "display_data"
    }
   ],
   "source": [
    "smart_df.hist(column='gb_used', bins=30)\n",
    "plt.title('Колличество потребленного трафика в гигабайт')"
   ]
  },
  {
   "cell_type": "markdown",
   "metadata": {},
   "source": [
    "#### подсчет для тарифа \"Ультра\"( дисперсия и стандартное отклонение) "
   ]
  },
  {
   "cell_type": "code",
   "execution_count": 61,
   "metadata": {},
   "outputs": [
    {
     "data": {
      "text/plain": [
       "total_cost    5.394604e+06\n",
       "dtype: float64"
      ]
     },
     "execution_count": 61,
     "metadata": {},
     "output_type": "execute_result"
    }
   ],
   "source": [
    "# дисперсия общей стоимости затрат пользователей тарифа\n",
    "ultra_var_cost = np.var(ultra_df[['total_cost']])\n",
    "ultra_var_cost"
   ]
  },
  {
   "cell_type": "code",
   "execution_count": 62,
   "metadata": {},
   "outputs": [
    {
     "data": {
      "text/plain": [
       "total_cost    2322.628661\n",
       "dtype: float64"
      ]
     },
     "execution_count": 62,
     "metadata": {},
     "output_type": "execute_result"
    }
   ],
   "source": [
    "# стандартное отклонение  общей стоимости затрат пользователей тарифа\n",
    "ultra_dev_cost = np.std(ultra_df[['total_cost']])\n",
    "ultra_dev_cost "
   ]
  },
  {
   "cell_type": "code",
   "execution_count": 63,
   "metadata": {},
   "outputs": [
    {
     "data": {
      "text/plain": [
       "duration_calls    100771.223617\n",
       "dtype: float64"
      ]
     },
     "execution_count": 63,
     "metadata": {},
     "output_type": "execute_result"
    }
   ],
   "source": [
    "# дисперсия минут разговора пользователей тарифа\n",
    "ultra_var_duration = np.var(ultra_df[['duration_calls']])\n",
    "ultra_var_duration"
   ]
  },
  {
   "cell_type": "code",
   "execution_count": 64,
   "metadata": {},
   "outputs": [
    {
     "data": {
      "text/plain": [
       "duration_calls    317.444836\n",
       "dtype: float64"
      ]
     },
     "execution_count": 64,
     "metadata": {},
     "output_type": "execute_result"
    }
   ],
   "source": [
    "# стандартное отклонение минут разговора пользователей тарифа\n",
    "ultra_dev_duration = np.std(ultra_df[['duration_calls']])\n",
    "ultra_dev_duration "
   ]
  },
  {
   "cell_type": "code",
   "execution_count": 65,
   "metadata": {},
   "outputs": [
    {
     "data": {
      "text/plain": [
       "messages_count    2282.946075\n",
       "dtype: float64"
      ]
     },
     "execution_count": 65,
     "metadata": {},
     "output_type": "execute_result"
    }
   ],
   "source": [
    "# дисперсия кол-ва сообщений пользователей тарифа\n",
    "ultra_var_messages_count = np.var(ultra_df[['messages_count']])\n",
    "ultra_var_messages_count"
   ]
  },
  {
   "cell_type": "code",
   "execution_count": 66,
   "metadata": {},
   "outputs": [
    {
     "data": {
      "text/plain": [
       "messages_count    47.780185\n",
       "dtype: float64"
      ]
     },
     "execution_count": 66,
     "metadata": {},
     "output_type": "execute_result"
    }
   ],
   "source": [
    "# стандартное отклонение кол-ва сообщений пользователей тарифа\n",
    "ultra_dev_messages_count= np.std(ultra_df[['messages_count']])\n",
    "ultra_dev_messages_count"
   ]
  },
  {
   "cell_type": "code",
   "execution_count": 67,
   "metadata": {},
   "outputs": [
    {
     "data": {
      "text/plain": [
       "gb_used    416.062837\n",
       "dtype: float64"
      ]
     },
     "execution_count": 67,
     "metadata": {},
     "output_type": "execute_result"
    }
   ],
   "source": [
    "# дисперсия кол-ва потребленного (гигабайт )трафика пользователей тарифа\n",
    "ultra_var_gb_used = np.var(ultra_df[['gb_used']])\n",
    "ultra_var_gb_used"
   ]
  },
  {
   "cell_type": "code",
   "execution_count": 68,
   "metadata": {},
   "outputs": [
    {
     "data": {
      "text/plain": [
       "gb_used    20.397618\n",
       "dtype: float64"
      ]
     },
     "execution_count": 68,
     "metadata": {},
     "output_type": "execute_result"
    }
   ],
   "source": [
    "# стандартное отклонение  потребленного (гигабайт )трафика  пользователей тарифа\n",
    "ultra_dev_messages_count= np.std(ultra_df[['gb_used']])\n",
    "ultra_dev_messages_count"
   ]
  },
  {
   "cell_type": "markdown",
   "metadata": {},
   "source": [
    "####  Гистограммы для тарифа \"Ультра\" "
   ]
  },
  {
   "cell_type": "code",
   "execution_count": 69,
   "metadata": {},
   "outputs": [
    {
     "data": {
      "text/plain": [
       "Text(0.5, 1.0, 'Общая стоимость для абонентов ')"
      ]
     },
     "execution_count": 69,
     "metadata": {},
     "output_type": "execute_result"
    },
    {
     "data": {
      "image/png": "[encoded data removed]",
      "text/plain": [
       "<Figure size 432x288 with 1 Axes>"
      ]
     },
     "metadata": {
      "needs_background": "light"
     },
     "output_type": "display_data"
    }
   ],
   "source": [
    "ultra_df.hist(column='total_cost', bins=30)\n",
    "plt.title('Общая стоимость для абонентов ')"
   ]
  },
  {
   "cell_type": "code",
   "execution_count": 70,
   "metadata": {},
   "outputs": [
    {
     "data": {
      "text/plain": [
       "Text(0.5, 1.0, 'Использованные минуты разговора')"
      ]
     },
     "execution_count": 70,
     "metadata": {},
     "output_type": "execute_result"
    },
    {
     "data": {
      "image/png": "[encoded data removed]",
      "text/plain": [
       "<Figure size 432x288 with 1 Axes>"
      ]
     },
     "metadata": {
      "needs_background": "light"
     },
     "output_type": "display_data"
    }
   ],
   "source": [
    "ultra_df.hist(column='duration_calls', bins=30)\n",
    "plt.title('Использованные минуты разговора')"
   ]
  },
  {
   "cell_type": "code",
   "execution_count": 71,
   "metadata": {},
   "outputs": [
    {
     "data": {
      "text/plain": [
       "Text(0.5, 1.0, 'Колличество сообщений')"
      ]
     },
     "execution_count": 71,
     "metadata": {},
     "output_type": "execute_result"
    },
    {
     "data": {
      "image/png": "[encoded data removed]",
      "text/plain": [
       "<Figure size 432x288 with 1 Axes>"
      ]
     },
     "metadata": {
      "needs_background": "light"
     },
     "output_type": "display_data"
    }
   ],
   "source": [
    "ultra_df.hist(column='messages_count', bins=30)\n",
    "plt.title('Колличество сообщений')"
   ]
  },
  {
   "cell_type": "code",
   "execution_count": 72,
   "metadata": {},
   "outputs": [
    {
     "data": {
      "text/plain": [
       "Text(0.5, 1.0, 'Колличество потребленного трафика в гигабайт')"
      ]
     },
     "execution_count": 72,
     "metadata": {},
     "output_type": "execute_result"
    },
    {
     "data": {
      "image/png": "[encoded data removed]",
      "text/plain": [
       "<Figure size 432x288 with 1 Axes>"
      ]
     },
     "metadata": {
      "needs_background": "light"
     },
     "output_type": "display_data"
    }
   ],
   "source": [
    "ultra_df.hist(column='gb_used', bins=30)\n",
    "plt.title('Колличество потребленного трафика в гигабайт')"
   ]
  },
  {
   "cell_type": "markdown",
   "metadata": {},
   "source": [
    "### Выводы\n",
    "\n",
    "   Данные в выборке распределены неравномерно, почти70% данных это пользователи тарифа \" Смарт.\n",
    "   Пользователи тарифа \"Смарт\" совершают 59 звонков в месяц общей длительностьюболее 400 минут, отправляют 32смс и используют почти 46 Гб трафика. Из анализа гистограмм видно,что чуть больше, чем половине пользователей хватает месячного пакета звонков, почти всем хватает смс, а интернет трафика не хватает более чем половине пользователей Почти  96 % пользователей тарифа\"Смарт\" вынуждены оплачивать услуги сверх пакета.  \n",
    "  \n",
    "  \n",
    "Пользователи тарифа \"Ультра\"совершают 70 звонков в месяц, общей длительностью около 500 минут, отправляют 44смс и используют около 38 Гб  интернет трафика.Таким образом пользователям тарифа хватает кол-ва минут и смс , включенных в трафик, доплачивается дополнительно абонентами  интернет трафик сверх тарифа.  Средний трафик пользователей Ультра на 25% больше, чем включенные в абонентскую плату 30Гб. \n",
    "\n",
    "\n"
   ]
  },
  {
   "cell_type": "markdown",
   "metadata": {},
   "source": [
    "<div class=\"alert alert-success\">\n",
    "<b>✔️ Комментарий ревьюера V3:</b> Отлично!\n"
   ]
  },
  {
   "cell_type": "markdown",
   "metadata": {},
   "source": [
    "####  Гистограммы  совмещенные  "
   ]
  },
  {
   "cell_type": "code",
   "execution_count": 73,
   "metadata": {},
   "outputs": [
    {
     "data": {
      "image/png": "[encoded data removed]",
      "text/plain": [
       "<Figure size 1080x360 with 1 Axes>"
      ]
     },
     "metadata": {
      "needs_background": "light"
     },
     "output_type": "display_data"
    }
   ],
   "source": [
    "fig, ax = plt.subplots(figsize=(15, 5))\n",
    "ax.hist(smart_df['duration_calls'],  30, alpha=0.5, label='Smart', density=True)\n",
    "ax.hist(ultra_df['duration_calls'],30, alpha=0.5, label='Ultra', density=True)\n",
    "plt.title('Потраченные минуты разговора')\n",
    "plt.xlabel('кол-во минут')\n",
    "\n",
    "plt.legend(loc='upper right')\n",
    "plt.show()  "
   ]
  },
  {
   "cell_type": "code",
   "execution_count": 74,
   "metadata": {
    "scrolled": true
   },
   "outputs": [
    {
     "data": {
      "image/png": "[encoded data removed]",
      "text/plain": [
       "<Figure size 1080x360 with 1 Axes>"
      ]
     },
     "metadata": {
      "needs_background": "light"
     },
     "output_type": "display_data"
    }
   ],
   "source": [
    "fig, ax = plt.subplots(figsize=(15, 5))\n",
    "ax.hist(smart_df['total_cost'],  30, alpha=0.5, label='Smart', density=True)\n",
    "ax.hist(ultra_df['total_cost'],30, alpha=0.5, label='Ultra', density=True)\n",
    "plt.title('Общей стоимости затрат пользователей тарифов')\n",
    "plt.xlabel('стоимость ')\n",
    "\n",
    "plt.legend(loc='upper right')\n",
    "plt.show() "
   ]
  },
  {
   "cell_type": "code",
   "execution_count": 75,
   "metadata": {},
   "outputs": [
    {
     "data": {
      "image/png": "[encoded data removed]",
      "text/plain": [
       "<Figure size 1080x360 with 1 Axes>"
      ]
     },
     "metadata": {
      "needs_background": "light"
     },
     "output_type": "display_data"
    }
   ],
   "source": [
    "fig, ax = plt.subplots(figsize=(15, 5))\n",
    "ax.hist(smart_df['messages_count'],  30, alpha=0.5, label='Smart', density=True)\n",
    "ax.hist(ultra_df['messages_count'],30, alpha=0.5, label='Ultra', density=True)\n",
    "plt.title('колличество сообщений')\n",
    "plt.xlabel('число сообщений ')\n",
    "\n",
    "plt.legend(loc='upper right')\n",
    "plt.show() "
   ]
  },
  {
   "cell_type": "code",
   "execution_count": 76,
   "metadata": {
    "scrolled": false
   },
   "outputs": [
    {
     "data": {
      "image/png": "[encoded data removed]",
      "text/plain": [
       "<Figure size 1080x360 with 1 Axes>"
      ]
     },
     "metadata": {
      "needs_background": "light"
     },
     "output_type": "display_data"
    }
   ],
   "source": [
    "fig, ax = plt.subplots(figsize=(15, 5))\n",
    "ax.hist(smart_df['gb_used'],  30, alpha=0.5, label='Smart', density=True)\n",
    "ax.hist(ultra_df['gb_used'],30, alpha=0.5, label='Ultra', density=True)\n",
    "plt.title('Колличество потребленного трафика в гигабайт')\n",
    "plt.xlabel('число гигабайт ')\n",
    "\n",
    "plt.legend(loc='upper right')\n",
    "plt.show() "
   ]
  },
  {
   "cell_type": "markdown",
   "metadata": {},
   "source": [
    "####  Выводы совмещенных гистограм \n",
    "\n",
    "  По  совмещенным гистограммам видно, что распределение  по тарифу \"Смарт\" меньше, чем у пользователей с тарифом \"Ультра\" по всем показателям.\n",
    "\n",
    "  В целом  распределение продолжительности звонков тарифа  \"Ультра \" более широкое , но  практически у  большинства пользователей не достигает и половины тарифа.\" Смарт\" общая длительность звонков более чем у половины пользователей превышает минуты включенные в пакет\n",
    "   Общее количество  сообщений пользователей \"Ультра\" не достигает и 25% от включенных в  пакет.Лишь немногие используют более 200 сообщений.Общее количество сообщений пользователей \"Смарт\" может даже в два раза превысить объем, включенный в пакет, но 75% пользователей пакета хватает. Среднее количество сообщений и отклонение больше у \"Ультра\"\n",
    "   \n",
    "   Объем интернет трафика тарифа Ультра 38 ГБ,что превышает включенные в пакет Гб на 25%.Общее количество трафика пользователей \"Смарт\" 46 гб, что более чем вдвое  превышает включенные в пакет.\n",
    "   \n",
    "   Т.к. почти все затраты , кроме интернета у пользователей \"Ультра\" укладываются в  тарифный пакет ,то большинство пользователей оплачивают только абонентскую плату, пользователи \"Смарт\" переплачивают гораздо чаще, менее 5% пользователей в  используют только включенные в абонентскую плату услуги\n",
    "    \n",
    "    \n",
    "  "
   ]
  },
  {
   "cell_type": "markdown",
   "metadata": {},
   "source": [
    "## Проверка гипотез"
   ]
  },
  {
   "cell_type": "markdown",
   "metadata": {},
   "source": [
    "#### средняя выручка пользователей тарифов «Ультра» и «Смарт» различаются"
   ]
  },
  {
   "cell_type": "markdown",
   "metadata": {},
   "source": [
    "     Н0: \"средняя выручка одинаковая вне зависимости от тарифа\". \n",
    "     \n",
    "     H1: \"Средняя выручка отличается\"\n",
    "     \n",
    "     Значение критического уровня вероятности (альфа) = 5%.(.05)"
   ]
  },
  {
   "cell_type": "code",
   "execution_count": 77,
   "metadata": {},
   "outputs": [
    {
     "name": "stdout",
     "output_type": "stream",
     "text": [
      "p-значение: 2.2791164547734734e-182\n",
      "Отвергаем нулевую гипотезу\n"
     ]
    }
   ],
   "source": [
    "# проверим на средних данных по пользователям\n",
    "alpha = .05 \n",
    "results = st.ttest_ind(smart_df['total_cost'], ultra_df['total_cost'])\n",
    "\n",
    "print('p-значение:', results.pvalue)\n",
    "if results.pvalue < alpha:\n",
    "    print('Отвергаем нулевую гипотезу')\n",
    "else:\n",
    "    print('Не получилось отвергнуть нулевую гипотезу') \n"
   ]
  },
  {
   "cell_type": "code",
   "execution_count": 78,
   "metadata": {},
   "outputs": [
    {
     "name": "stdout",
     "output_type": "stream",
     "text": [
      "p-значение: 1.0835907967902177e-06\n",
      "Отвергаем нулевую гипотезу\n"
     ]
    }
   ],
   "source": [
    "# проверим на данных по  месячным тратам пользователей\n",
    "alpha =.05 \n",
    "results = st.ttest_ind(smart_df_month['total_cost'], ultra_df_month['total_cost'])\n",
    "\n",
    "print('p-значение:', results.pvalue)\n",
    "\n",
    "if results.pvalue < alpha:\n",
    "    print('Отвергаем нулевую гипотезу')\n",
    "else:\n",
    "    print('Не получилось отвергнуть нулевую гипотезу')"
   ]
  },
  {
   "cell_type": "markdown",
   "metadata": {},
   "source": [
    " На основании принятого нами уровня статистической значимости 5% отвергаем данную гипотезу\n",
    "    "
   ]
  },
  {
   "cell_type": "markdown",
   "metadata": {},
   "source": [
    "####  \"средняя выручка пользователей из Москвы отличается от выручки пользователей из других регионов\".\n",
    "  H0 - выручка в разных городах равна. \n",
    "  \n",
    "  H1 - выручка имеет различия. \n",
    "  \n",
    "  Значение критического уровня вероятности (альфа) = 5%.(.05)\n",
    "  "
   ]
  },
  {
   "cell_type": "code",
   "execution_count": 79,
   "metadata": {
    "scrolled": true
   },
   "outputs": [
    {
     "name": "stdout",
     "output_type": "stream",
     "text": [
      "p-значение: 0.1855356246199162\n",
      "Не получилось отвергнуть нулевую гипотезу\n"
     ]
    }
   ],
   "source": [
    "alpha = 0.05 \n",
    "results = st.ttest_ind(users_df.query('city == \"Москва\"')['total_cost'], \n",
    "                       users_df.query('city != \"Москва\"')['total_cost'])\n",
    "\n",
    "print('p-значение:', results.pvalue)\n",
    "\n",
    "if results.pvalue < alpha:\n",
    "    print('Отвергаем нулевую гипотезу')\n",
    "else:\n",
    "    print('Не получилось отвергнуть нулевую гипотезу')"
   ]
  },
  {
   "cell_type": "markdown",
   "metadata": {
    "scrolled": true
   },
   "source": [
    "\n",
    "  Выручка в столице и регионах не отличается статистически значимо."
   ]
  },
  {
   "cell_type": "markdown",
   "metadata": {},
   "source": [
    "### Oбщий вывод \n",
    "\n",
    "\n",
    "  Проведен анализ тарифов на выборке данных 500 пользователей оператора сотовой связи «Мегалайн» за 2018 год для определения       более прибыльного тарифа и коррекции распределения рекламного бюджета. \n",
    "  Для каждого пользователя потарифно определено:\n",
    "  - количество сделанных звонков и израсходованных минут разговора по месяцам;\n",
    "  - количество отправленных сообщений по месяцам;\n",
    "  - объем израсходованного интернет-трафика по месяцам;\n",
    "  - помесячную выручку с каждого пользователя\n",
    "  Проведен анализ статистических параметров  данных, посчитано  среднее количество, дисперсия и стандартное отклонение \n",
    "  Отдельно проводилась провека  двух гипотез\n",
    "  \n",
    "  \n",
    "   Выявлено:\n",
    "   \n",
    "  -Данные в выборке распределены неравномерно, почти70% данных это пользователи тарифа \" Смарт.\n",
    "  \n",
    "  -Пользователи тарифа \"Смарт\" совершают 59 звонков в месяц общей длительностью около 400 минут, отправляют 32смс и используют почти 46 Гб трафика. Почти 96 % пользователей тарифа\"Смарт\" вынуждены оплачивать услуги сверх пакета.\n",
    "\n",
    " -Пользователи тарифа \"Ультра\"совершают 70 звонков в месяц, общей длительностью около 500 минут, отправляют 44смс и используют около 38 Гб интернет трафика.Таким образом пользователям тарифа хватает кол-ва минут и смс , включенных в трафик, доплачивается дополнительно абонентами интернет трафик сверх тарифа. Средний трафик пользователей Ультра на 25% больше, чем включенные в абонентскую плату 30Гб.\n",
    " -Пользователи тарифа Ультра расходуют гораздо меньше услуг, чем включено в пакеты, но платят за них, в то время как пользователи \"Смарт\" чаще используют пакеты полностью\n",
    " -По совмещенным гистограммам видно, что распределение  по тарифу \"Смарт\" меньше, чем у пользователей с тарифом \"Ультра\" по всем показателям.\n",
    " -Медианное и среднее значение дохода у абонентов тарифа ultra выше\n",
    " Проверка гипотез показала:\n",
    " -средние выручки по тарифам  значимо различаются\n",
    " -средняя выручка пользователей из Москвы  не отличается от выручки пользователей из других регионов.\n",
    " \n",
    "При планировании рекламного бюджета целесообразно перераспределить средства в пользу тарифа \"Ультра\", проведение рекламных компаний целесообразно планировать в общем для всей территории охвата мобильного оператора \n",
    "\n",
    " Для более точной оценки выгоды для мобильного оператора нужно учесть себестоимость минуты, сообщения и мегабайта трафика \n",
    "\n"
   ]
  }
 ],
 "metadata": {
  "ExecuteTimeLog": [
   {
    "duration": 1404,
    "start_time": "2022-10-25T12:41:24.300Z"
   },
   {
    "duration": 960,
    "start_time": "2022-10-25T12:56:07.034Z"
   },
   {
    "duration": 35,
    "start_time": "2022-10-25T12:59:51.286Z"
   },
   {
    "duration": 1139,
    "start_time": "2022-10-25T13:10:18.300Z"
   },
   {
    "duration": 384,
    "start_time": "2022-10-25T13:10:19.441Z"
   },
   {
    "duration": 45,
    "start_time": "2022-10-25T13:10:19.827Z"
   },
   {
    "duration": 25,
    "start_time": "2022-10-25T13:10:19.874Z"
   },
   {
    "duration": 22,
    "start_time": "2022-10-25T13:10:19.901Z"
   },
   {
    "duration": 15,
    "start_time": "2022-10-25T13:10:19.924Z"
   },
   {
    "duration": 19,
    "start_time": "2022-10-25T13:10:19.977Z"
   },
   {
    "duration": 62,
    "start_time": "2022-10-25T13:24:21.859Z"
   },
   {
    "duration": 1227,
    "start_time": "2022-10-25T13:53:01.855Z"
   },
   {
    "duration": 429,
    "start_time": "2022-10-25T13:53:03.085Z"
   },
   {
    "duration": 40,
    "start_time": "2022-10-25T13:53:03.516Z"
   },
   {
    "duration": 9,
    "start_time": "2022-10-25T13:53:03.558Z"
   },
   {
    "duration": 33,
    "start_time": "2022-10-25T13:53:03.570Z"
   },
   {
    "duration": 32,
    "start_time": "2022-10-25T13:53:03.606Z"
   },
   {
    "duration": 48,
    "start_time": "2022-10-25T13:53:03.640Z"
   },
   {
    "duration": 36,
    "start_time": "2022-10-25T13:53:03.690Z"
   },
   {
    "duration": 10,
    "start_time": "2022-10-25T13:55:06.408Z"
   },
   {
    "duration": 9,
    "start_time": "2022-10-25T13:56:01.365Z"
   },
   {
    "duration": 3,
    "start_time": "2022-10-25T14:08:11.374Z"
   },
   {
    "duration": 136,
    "start_time": "2022-10-25T14:22:56.400Z"
   },
   {
    "duration": 62,
    "start_time": "2022-10-25T14:23:35.201Z"
   },
   {
    "duration": 9,
    "start_time": "2022-10-25T14:45:32.116Z"
   },
   {
    "duration": 9,
    "start_time": "2022-10-25T14:46:14.645Z"
   },
   {
    "duration": 24,
    "start_time": "2022-10-25T14:48:19.203Z"
   },
   {
    "duration": 57,
    "start_time": "2022-10-25T14:49:20.190Z"
   },
   {
    "duration": 23,
    "start_time": "2022-10-25T14:49:29.873Z"
   },
   {
    "duration": 1718,
    "start_time": "2022-10-25T15:01:23.036Z"
   },
   {
    "duration": 1150,
    "start_time": "2022-10-25T15:01:55.228Z"
   },
   {
    "duration": 396,
    "start_time": "2022-10-25T15:01:56.381Z"
   },
   {
    "duration": 34,
    "start_time": "2022-10-25T15:01:56.779Z"
   },
   {
    "duration": 26,
    "start_time": "2022-10-25T15:01:56.814Z"
   },
   {
    "duration": 51,
    "start_time": "2022-10-25T15:01:56.843Z"
   },
   {
    "duration": 22,
    "start_time": "2022-10-25T15:01:56.896Z"
   },
   {
    "duration": 36,
    "start_time": "2022-10-25T15:01:56.919Z"
   },
   {
    "duration": 66,
    "start_time": "2022-10-25T15:01:56.976Z"
   },
   {
    "duration": 1101,
    "start_time": "2022-10-25T15:01:57.044Z"
   },
   {
    "duration": 986,
    "start_time": "2022-10-25T15:02:17.709Z"
   },
   {
    "duration": 1406,
    "start_time": "2022-10-25T15:02:37.487Z"
   },
   {
    "duration": 29,
    "start_time": "2022-10-25T15:03:13.706Z"
   },
   {
    "duration": 67,
    "start_time": "2022-10-25T15:13:30.000Z"
   },
   {
    "duration": 35,
    "start_time": "2022-10-25T15:13:47.258Z"
   },
   {
    "duration": 1118,
    "start_time": "2022-10-25T15:14:01.261Z"
   },
   {
    "duration": 409,
    "start_time": "2022-10-25T15:14:02.382Z"
   },
   {
    "duration": 33,
    "start_time": "2022-10-25T15:14:02.793Z"
   },
   {
    "duration": 27,
    "start_time": "2022-10-25T15:14:02.828Z"
   },
   {
    "duration": 35,
    "start_time": "2022-10-25T15:14:02.857Z"
   },
   {
    "duration": 40,
    "start_time": "2022-10-25T15:14:02.893Z"
   },
   {
    "duration": 21,
    "start_time": "2022-10-25T15:14:02.935Z"
   },
   {
    "duration": 56,
    "start_time": "2022-10-25T15:14:02.958Z"
   },
   {
    "duration": 142,
    "start_time": "2022-10-25T15:14:03.016Z"
   },
   {
    "duration": 0,
    "start_time": "2022-10-25T15:14:03.159Z"
   },
   {
    "duration": 9,
    "start_time": "2022-10-25T15:15:58.773Z"
   },
   {
    "duration": 25,
    "start_time": "2022-10-25T15:16:06.930Z"
   },
   {
    "duration": 11,
    "start_time": "2022-10-25T15:16:18.304Z"
   },
   {
    "duration": 25,
    "start_time": "2022-10-25T15:19:10.293Z"
   },
   {
    "duration": 11,
    "start_time": "2022-10-25T15:19:29.050Z"
   },
   {
    "duration": 13,
    "start_time": "2022-10-25T15:19:53.592Z"
   },
   {
    "duration": 10,
    "start_time": "2022-10-25T15:20:39.641Z"
   },
   {
    "duration": 10,
    "start_time": "2022-10-25T15:21:16.936Z"
   },
   {
    "duration": 9,
    "start_time": "2022-10-25T15:21:32.645Z"
   },
   {
    "duration": 1147,
    "start_time": "2022-10-25T15:22:48.350Z"
   },
   {
    "duration": 424,
    "start_time": "2022-10-25T15:22:49.500Z"
   },
   {
    "duration": 36,
    "start_time": "2022-10-25T15:22:49.926Z"
   },
   {
    "duration": 29,
    "start_time": "2022-10-25T15:22:49.963Z"
   },
   {
    "duration": 22,
    "start_time": "2022-10-25T15:22:49.994Z"
   },
   {
    "duration": 23,
    "start_time": "2022-10-25T15:22:50.018Z"
   },
   {
    "duration": 45,
    "start_time": "2022-10-25T15:22:50.042Z"
   },
   {
    "duration": 46,
    "start_time": "2022-10-25T15:22:50.089Z"
   },
   {
    "duration": 116,
    "start_time": "2022-10-25T15:22:50.137Z"
   },
   {
    "duration": 0,
    "start_time": "2022-10-25T15:22:50.255Z"
   },
   {
    "duration": 43,
    "start_time": "2022-10-25T15:26:15.140Z"
   },
   {
    "duration": 41,
    "start_time": "2022-10-25T15:26:27.848Z"
   },
   {
    "duration": 43,
    "start_time": "2022-10-25T15:26:49.426Z"
   },
   {
    "duration": 87,
    "start_time": "2022-10-25T15:27:08.895Z"
   },
   {
    "duration": 9,
    "start_time": "2022-10-25T15:27:27.686Z"
   },
   {
    "duration": 1171,
    "start_time": "2022-10-25T15:28:31.308Z"
   },
   {
    "duration": 420,
    "start_time": "2022-10-25T15:28:32.481Z"
   },
   {
    "duration": 31,
    "start_time": "2022-10-25T15:28:32.903Z"
   },
   {
    "duration": 27,
    "start_time": "2022-10-25T15:28:32.936Z"
   },
   {
    "duration": 20,
    "start_time": "2022-10-25T15:28:32.964Z"
   },
   {
    "duration": 14,
    "start_time": "2022-10-25T15:28:32.986Z"
   },
   {
    "duration": 18,
    "start_time": "2022-10-25T15:28:33.002Z"
   },
   {
    "duration": 73,
    "start_time": "2022-10-25T15:28:33.021Z"
   },
   {
    "duration": 49,
    "start_time": "2022-10-25T15:28:33.096Z"
   },
   {
    "duration": 0,
    "start_time": "2022-10-25T15:28:33.147Z"
   },
   {
    "duration": 0,
    "start_time": "2022-10-25T15:28:33.148Z"
   },
   {
    "duration": 53,
    "start_time": "2022-10-25T15:28:57.060Z"
   },
   {
    "duration": 55,
    "start_time": "2022-10-25T15:29:13.542Z"
   },
   {
    "duration": 51,
    "start_time": "2022-10-25T15:29:20.951Z"
   },
   {
    "duration": 100,
    "start_time": "2022-10-25T15:30:30.791Z"
   },
   {
    "duration": 52,
    "start_time": "2022-10-25T15:31:09.422Z"
   },
   {
    "duration": 12,
    "start_time": "2022-10-25T15:31:22.871Z"
   },
   {
    "duration": 1168,
    "start_time": "2022-10-25T15:32:15.426Z"
   },
   {
    "duration": 431,
    "start_time": "2022-10-25T15:32:16.596Z"
   },
   {
    "duration": 44,
    "start_time": "2022-10-25T15:32:17.029Z"
   },
   {
    "duration": 42,
    "start_time": "2022-10-25T15:32:17.076Z"
   },
   {
    "duration": 28,
    "start_time": "2022-10-25T15:32:17.122Z"
   },
   {
    "duration": 39,
    "start_time": "2022-10-25T15:32:17.151Z"
   },
   {
    "duration": 31,
    "start_time": "2022-10-25T15:32:17.193Z"
   },
   {
    "duration": 67,
    "start_time": "2022-10-25T15:32:17.227Z"
   },
   {
    "duration": 54,
    "start_time": "2022-10-25T15:32:17.296Z"
   },
   {
    "duration": 0,
    "start_time": "2022-10-25T15:32:17.352Z"
   },
   {
    "duration": 32,
    "start_time": "2022-10-25T15:32:55.560Z"
   },
   {
    "duration": 4,
    "start_time": "2022-10-25T15:39:04.112Z"
   },
   {
    "duration": 6,
    "start_time": "2022-10-25T15:39:19.220Z"
   },
   {
    "duration": 100,
    "start_time": "2022-10-25T15:40:00.384Z"
   },
   {
    "duration": 11,
    "start_time": "2022-10-25T15:40:18.210Z"
   },
   {
    "duration": 745,
    "start_time": "2022-10-25T15:50:39.116Z"
   },
   {
    "duration": 700,
    "start_time": "2022-10-25T15:51:11.882Z"
   },
   {
    "duration": 712,
    "start_time": "2022-10-25T15:51:45.070Z"
   },
   {
    "duration": 1058,
    "start_time": "2022-10-25T15:52:52.007Z"
   },
   {
    "duration": 387,
    "start_time": "2022-10-25T15:52:53.067Z"
   },
   {
    "duration": 31,
    "start_time": "2022-10-25T15:52:53.456Z"
   },
   {
    "duration": 26,
    "start_time": "2022-10-25T15:52:53.488Z"
   },
   {
    "duration": 22,
    "start_time": "2022-10-25T15:52:53.516Z"
   },
   {
    "duration": 49,
    "start_time": "2022-10-25T15:52:53.539Z"
   },
   {
    "duration": 18,
    "start_time": "2022-10-25T15:52:53.589Z"
   },
   {
    "duration": 46,
    "start_time": "2022-10-25T15:52:53.608Z"
   },
   {
    "duration": 31,
    "start_time": "2022-10-25T15:52:53.676Z"
   },
   {
    "duration": 10,
    "start_time": "2022-10-25T15:52:53.708Z"
   },
   {
    "duration": 36,
    "start_time": "2022-10-25T15:52:53.720Z"
   },
   {
    "duration": 0,
    "start_time": "2022-10-25T15:52:53.758Z"
   },
   {
    "duration": 811,
    "start_time": "2022-10-25T15:55:27.189Z"
   },
   {
    "duration": 23,
    "start_time": "2022-10-25T15:56:19.651Z"
   },
   {
    "duration": 8,
    "start_time": "2022-10-25T15:59:46.645Z"
   },
   {
    "duration": 11,
    "start_time": "2022-10-25T16:00:54.203Z"
   },
   {
    "duration": 9,
    "start_time": "2022-10-25T16:04:30.737Z"
   },
   {
    "duration": 10,
    "start_time": "2022-10-25T16:04:49.454Z"
   },
   {
    "duration": 9,
    "start_time": "2022-10-25T16:05:34.222Z"
   },
   {
    "duration": 14,
    "start_time": "2022-10-25T16:06:08.774Z"
   },
   {
    "duration": 8,
    "start_time": "2022-10-25T16:06:49.339Z"
   },
   {
    "duration": 6,
    "start_time": "2022-10-25T16:07:13.218Z"
   },
   {
    "duration": 14,
    "start_time": "2022-10-25T16:08:38.998Z"
   },
   {
    "duration": 14,
    "start_time": "2022-10-25T16:09:42.427Z"
   },
   {
    "duration": 1102,
    "start_time": "2022-10-25T16:09:58.636Z"
   },
   {
    "duration": 428,
    "start_time": "2022-10-25T16:09:59.740Z"
   },
   {
    "duration": 42,
    "start_time": "2022-10-25T16:10:00.170Z"
   },
   {
    "duration": 30,
    "start_time": "2022-10-25T16:10:00.213Z"
   },
   {
    "duration": 42,
    "start_time": "2022-10-25T16:10:00.246Z"
   },
   {
    "duration": 17,
    "start_time": "2022-10-25T16:10:00.295Z"
   },
   {
    "duration": 48,
    "start_time": "2022-10-25T16:10:00.313Z"
   },
   {
    "duration": 92,
    "start_time": "2022-10-25T16:10:00.363Z"
   },
   {
    "duration": 50,
    "start_time": "2022-10-25T16:10:00.457Z"
   },
   {
    "duration": 13,
    "start_time": "2022-10-25T16:10:00.508Z"
   },
   {
    "duration": 48,
    "start_time": "2022-10-25T16:10:00.523Z"
   },
   {
    "duration": 32,
    "start_time": "2022-10-25T16:10:00.579Z"
   },
   {
    "duration": 38,
    "start_time": "2022-10-25T16:10:00.613Z"
   },
   {
    "duration": 43,
    "start_time": "2022-10-25T16:10:58.396Z"
   },
   {
    "duration": 55,
    "start_time": "2022-10-25T16:11:21.265Z"
   },
   {
    "duration": 109,
    "start_time": "2022-10-25T16:11:43.509Z"
   },
   {
    "duration": 16,
    "start_time": "2022-10-25T16:12:31.529Z"
   },
   {
    "duration": 24,
    "start_time": "2022-10-25T16:23:58.300Z"
   },
   {
    "duration": 25,
    "start_time": "2022-10-25T16:25:13.761Z"
   },
   {
    "duration": 8,
    "start_time": "2022-10-25T16:28:47.423Z"
   },
   {
    "duration": 7,
    "start_time": "2022-10-25T16:30:39.817Z"
   },
   {
    "duration": 7,
    "start_time": "2022-10-25T16:35:06.763Z"
   },
   {
    "duration": 1177,
    "start_time": "2022-10-25T16:35:26.840Z"
   },
   {
    "duration": 423,
    "start_time": "2022-10-25T16:35:28.019Z"
   },
   {
    "duration": 38,
    "start_time": "2022-10-25T16:35:28.444Z"
   },
   {
    "duration": 35,
    "start_time": "2022-10-25T16:35:28.485Z"
   },
   {
    "duration": 24,
    "start_time": "2022-10-25T16:35:28.523Z"
   },
   {
    "duration": 23,
    "start_time": "2022-10-25T16:35:28.576Z"
   },
   {
    "duration": 23,
    "start_time": "2022-10-25T16:35:28.601Z"
   },
   {
    "duration": 60,
    "start_time": "2022-10-25T16:35:28.626Z"
   },
   {
    "duration": 34,
    "start_time": "2022-10-25T16:35:28.688Z"
   },
   {
    "duration": 11,
    "start_time": "2022-10-25T16:35:28.724Z"
   },
   {
    "duration": 60,
    "start_time": "2022-10-25T16:35:28.737Z"
   },
   {
    "duration": 12,
    "start_time": "2022-10-25T16:35:28.799Z"
   },
   {
    "duration": 13,
    "start_time": "2022-10-25T16:35:28.813Z"
   },
   {
    "duration": 20,
    "start_time": "2022-10-25T16:37:19.677Z"
   },
   {
    "duration": 13,
    "start_time": "2022-10-25T16:38:25.794Z"
   },
   {
    "duration": 1133,
    "start_time": "2022-10-25T16:39:02.950Z"
   },
   {
    "duration": 443,
    "start_time": "2022-10-25T16:39:04.085Z"
   },
   {
    "duration": 38,
    "start_time": "2022-10-25T16:39:04.530Z"
   },
   {
    "duration": 35,
    "start_time": "2022-10-25T16:39:04.570Z"
   },
   {
    "duration": 22,
    "start_time": "2022-10-25T16:39:04.607Z"
   },
   {
    "duration": 15,
    "start_time": "2022-10-25T16:39:04.631Z"
   },
   {
    "duration": 45,
    "start_time": "2022-10-25T16:39:04.648Z"
   },
   {
    "duration": 44,
    "start_time": "2022-10-25T16:39:04.695Z"
   },
   {
    "duration": 62,
    "start_time": "2022-10-25T16:39:04.741Z"
   },
   {
    "duration": 11,
    "start_time": "2022-10-25T16:39:04.805Z"
   },
   {
    "duration": 28,
    "start_time": "2022-10-25T16:39:04.818Z"
   },
   {
    "duration": 44,
    "start_time": "2022-10-25T16:39:04.847Z"
   },
   {
    "duration": 23,
    "start_time": "2022-10-25T16:50:47.500Z"
   },
   {
    "duration": 27,
    "start_time": "2022-10-25T16:51:36.700Z"
   },
   {
    "duration": 20,
    "start_time": "2022-10-25T16:52:04.154Z"
   },
   {
    "duration": 1155,
    "start_time": "2022-10-25T16:54:36.950Z"
   },
   {
    "duration": 452,
    "start_time": "2022-10-25T16:54:38.107Z"
   },
   {
    "duration": 44,
    "start_time": "2022-10-25T16:54:38.561Z"
   },
   {
    "duration": 27,
    "start_time": "2022-10-25T16:54:38.607Z"
   },
   {
    "duration": 56,
    "start_time": "2022-10-25T16:54:38.636Z"
   },
   {
    "duration": 22,
    "start_time": "2022-10-25T16:54:38.694Z"
   },
   {
    "duration": 24,
    "start_time": "2022-10-25T16:54:38.718Z"
   },
   {
    "duration": 69,
    "start_time": "2022-10-25T16:54:38.744Z"
   },
   {
    "duration": 32,
    "start_time": "2022-10-25T16:54:38.815Z"
   },
   {
    "duration": 43,
    "start_time": "2022-10-25T16:54:38.849Z"
   },
   {
    "duration": 26,
    "start_time": "2022-10-25T16:54:38.897Z"
   },
   {
    "duration": 147,
    "start_time": "2022-10-25T16:54:38.925Z"
   },
   {
    "duration": 16,
    "start_time": "2022-10-25T16:55:12.093Z"
   },
   {
    "duration": 1328,
    "start_time": "2022-10-26T14:46:47.984Z"
   },
   {
    "duration": 1165,
    "start_time": "2022-10-26T14:46:49.314Z"
   },
   {
    "duration": 36,
    "start_time": "2022-10-26T14:46:50.480Z"
   },
   {
    "duration": 27,
    "start_time": "2022-10-26T14:46:50.519Z"
   },
   {
    "duration": 22,
    "start_time": "2022-10-26T14:46:50.548Z"
   },
   {
    "duration": 17,
    "start_time": "2022-10-26T14:46:50.595Z"
   },
   {
    "duration": 18,
    "start_time": "2022-10-26T14:46:50.614Z"
   },
   {
    "duration": 65,
    "start_time": "2022-10-26T14:46:50.634Z"
   },
   {
    "duration": 30,
    "start_time": "2022-10-26T14:46:50.700Z"
   },
   {
    "duration": 10,
    "start_time": "2022-10-26T14:46:50.732Z"
   },
   {
    "duration": 121,
    "start_time": "2022-10-26T14:46:50.743Z"
   },
   {
    "duration": 0,
    "start_time": "2022-10-26T14:46:50.866Z"
   },
   {
    "duration": 0,
    "start_time": "2022-10-26T14:46:50.867Z"
   },
   {
    "duration": 7,
    "start_time": "2022-10-26T14:47:07.166Z"
   },
   {
    "duration": 7,
    "start_time": "2022-10-26T14:47:33.674Z"
   },
   {
    "duration": 47,
    "start_time": "2022-10-26T15:15:00.979Z"
   },
   {
    "duration": 37,
    "start_time": "2022-10-26T15:16:58.381Z"
   },
   {
    "duration": 31,
    "start_time": "2022-10-26T15:19:22.817Z"
   },
   {
    "duration": 71,
    "start_time": "2022-10-26T15:35:46.030Z"
   },
   {
    "duration": 99,
    "start_time": "2022-10-26T15:36:00.210Z"
   },
   {
    "duration": 10,
    "start_time": "2022-10-26T15:36:20.999Z"
   },
   {
    "duration": 73,
    "start_time": "2022-10-26T15:41:51.278Z"
   },
   {
    "duration": 78,
    "start_time": "2022-10-26T15:42:07.174Z"
   },
   {
    "duration": 74,
    "start_time": "2022-10-26T15:45:11.151Z"
   },
   {
    "duration": 69,
    "start_time": "2022-10-26T15:45:31.202Z"
   },
   {
    "duration": 89,
    "start_time": "2022-10-26T15:45:45.933Z"
   },
   {
    "duration": 72,
    "start_time": "2022-10-26T15:47:15.310Z"
   },
   {
    "duration": 79,
    "start_time": "2022-10-26T15:47:30.191Z"
   },
   {
    "duration": 9,
    "start_time": "2022-10-26T15:47:40.050Z"
   },
   {
    "duration": 11,
    "start_time": "2022-10-26T15:50:41.367Z"
   },
   {
    "duration": 10,
    "start_time": "2022-10-26T15:51:28.523Z"
   },
   {
    "duration": 94,
    "start_time": "2022-10-26T15:52:29.705Z"
   },
   {
    "duration": 40,
    "start_time": "2022-10-26T15:52:39.046Z"
   },
   {
    "duration": 25,
    "start_time": "2022-10-26T15:58:10.754Z"
   },
   {
    "duration": 1097,
    "start_time": "2022-10-26T16:03:24.219Z"
   },
   {
    "duration": 1139,
    "start_time": "2022-10-26T16:03:25.318Z"
   },
   {
    "duration": 32,
    "start_time": "2022-10-26T16:03:26.459Z"
   },
   {
    "duration": 27,
    "start_time": "2022-10-26T16:03:26.492Z"
   },
   {
    "duration": 25,
    "start_time": "2022-10-26T16:03:26.522Z"
   },
   {
    "duration": 15,
    "start_time": "2022-10-26T16:03:26.548Z"
   },
   {
    "duration": 45,
    "start_time": "2022-10-26T16:03:26.565Z"
   },
   {
    "duration": 42,
    "start_time": "2022-10-26T16:03:26.611Z"
   },
   {
    "duration": 47,
    "start_time": "2022-10-26T16:03:26.654Z"
   },
   {
    "duration": 10,
    "start_time": "2022-10-26T16:03:26.703Z"
   },
   {
    "duration": 20,
    "start_time": "2022-10-26T16:03:26.715Z"
   },
   {
    "duration": 11,
    "start_time": "2022-10-26T16:03:26.737Z"
   },
   {
    "duration": 73,
    "start_time": "2022-10-26T16:03:26.749Z"
   },
   {
    "duration": 22,
    "start_time": "2022-10-26T16:03:26.824Z"
   },
   {
    "duration": 51,
    "start_time": "2022-10-26T16:03:26.848Z"
   },
   {
    "duration": 46,
    "start_time": "2022-10-26T16:06:30.374Z"
   },
   {
    "duration": 1104,
    "start_time": "2022-10-26T16:07:10.135Z"
   },
   {
    "duration": 1182,
    "start_time": "2022-10-26T16:07:11.241Z"
   },
   {
    "duration": 33,
    "start_time": "2022-10-26T16:07:12.425Z"
   },
   {
    "duration": 24,
    "start_time": "2022-10-26T16:07:12.460Z"
   },
   {
    "duration": 22,
    "start_time": "2022-10-26T16:07:12.486Z"
   },
   {
    "duration": 15,
    "start_time": "2022-10-26T16:07:12.509Z"
   },
   {
    "duration": 18,
    "start_time": "2022-10-26T16:07:12.526Z"
   },
   {
    "duration": 62,
    "start_time": "2022-10-26T16:07:12.545Z"
   },
   {
    "duration": 30,
    "start_time": "2022-10-26T16:07:12.608Z"
   },
   {
    "duration": 10,
    "start_time": "2022-10-26T16:07:12.640Z"
   },
   {
    "duration": 49,
    "start_time": "2022-10-26T16:07:12.651Z"
   },
   {
    "duration": 12,
    "start_time": "2022-10-26T16:07:12.701Z"
   },
   {
    "duration": 49,
    "start_time": "2022-10-26T16:07:12.715Z"
   },
   {
    "duration": 40,
    "start_time": "2022-10-26T16:07:12.767Z"
   },
   {
    "duration": 27,
    "start_time": "2022-10-26T16:07:12.808Z"
   },
   {
    "duration": 1113,
    "start_time": "2022-10-26T16:07:50.188Z"
   },
   {
    "duration": 1141,
    "start_time": "2022-10-26T16:07:51.303Z"
   },
   {
    "duration": 34,
    "start_time": "2022-10-26T16:07:52.446Z"
   },
   {
    "duration": 27,
    "start_time": "2022-10-26T16:07:52.481Z"
   },
   {
    "duration": 24,
    "start_time": "2022-10-26T16:07:52.510Z"
   },
   {
    "duration": 16,
    "start_time": "2022-10-26T16:07:52.536Z"
   },
   {
    "duration": 49,
    "start_time": "2022-10-26T16:07:52.554Z"
   },
   {
    "duration": 47,
    "start_time": "2022-10-26T16:07:52.605Z"
   },
   {
    "duration": 48,
    "start_time": "2022-10-26T16:07:52.654Z"
   },
   {
    "duration": 11,
    "start_time": "2022-10-26T16:07:52.704Z"
   },
   {
    "duration": 23,
    "start_time": "2022-10-26T16:07:52.717Z"
   },
   {
    "duration": 13,
    "start_time": "2022-10-26T16:07:52.742Z"
   },
   {
    "duration": 79,
    "start_time": "2022-10-26T16:07:52.757Z"
   },
   {
    "duration": 23,
    "start_time": "2022-10-26T16:07:52.839Z"
   },
   {
    "duration": 49,
    "start_time": "2022-10-26T16:07:52.863Z"
   },
   {
    "duration": 106,
    "start_time": "2022-10-26T16:07:52.914Z"
   },
   {
    "duration": 9,
    "start_time": "2022-10-26T16:08:45.228Z"
   },
   {
    "duration": 8,
    "start_time": "2022-10-26T16:08:58.049Z"
   },
   {
    "duration": 9,
    "start_time": "2022-10-26T16:09:35.047Z"
   },
   {
    "duration": 17,
    "start_time": "2022-10-26T16:09:54.603Z"
   },
   {
    "duration": 1005,
    "start_time": "2022-10-26T16:16:07.335Z"
   },
   {
    "duration": 1037,
    "start_time": "2022-10-26T16:16:19.141Z"
   },
   {
    "duration": 1056,
    "start_time": "2022-10-26T16:16:30.510Z"
   },
   {
    "duration": 22,
    "start_time": "2022-10-26T16:21:01.128Z"
   },
   {
    "duration": 1007,
    "start_time": "2022-10-26T16:21:41.903Z"
   },
   {
    "duration": 28,
    "start_time": "2022-10-26T16:25:06.474Z"
   },
   {
    "duration": 70,
    "start_time": "2022-10-26T16:27:03.376Z"
   },
   {
    "duration": 8,
    "start_time": "2022-10-26T16:27:42.522Z"
   },
   {
    "duration": 9,
    "start_time": "2022-10-26T16:28:26.010Z"
   },
   {
    "duration": 10,
    "start_time": "2022-10-26T16:29:28.538Z"
   },
   {
    "duration": 9,
    "start_time": "2022-10-26T16:30:16.538Z"
   },
   {
    "duration": 9,
    "start_time": "2022-10-26T16:31:07.586Z"
   },
   {
    "duration": 9,
    "start_time": "2022-10-26T16:31:44.259Z"
   },
   {
    "duration": 9,
    "start_time": "2022-10-26T16:32:28.919Z"
   },
   {
    "duration": 1013,
    "start_time": "2022-10-26T16:32:56.250Z"
   },
   {
    "duration": 185,
    "start_time": "2022-10-26T16:42:40.280Z"
   },
   {
    "duration": 1344,
    "start_time": "2022-10-26T16:44:17.687Z"
   },
   {
    "duration": 180,
    "start_time": "2022-10-26T16:45:36.220Z"
   },
   {
    "duration": 1362,
    "start_time": "2022-10-26T16:47:44.343Z"
   },
   {
    "duration": 47,
    "start_time": "2022-10-26T16:50:56.435Z"
   },
   {
    "duration": 1154,
    "start_time": "2022-10-26T16:51:17.788Z"
   },
   {
    "duration": 1160,
    "start_time": "2022-10-26T16:51:18.945Z"
   },
   {
    "duration": 32,
    "start_time": "2022-10-26T16:51:20.107Z"
   },
   {
    "duration": 23,
    "start_time": "2022-10-26T16:51:20.141Z"
   },
   {
    "duration": 29,
    "start_time": "2022-10-26T16:51:20.166Z"
   },
   {
    "duration": 15,
    "start_time": "2022-10-26T16:51:20.197Z"
   },
   {
    "duration": 22,
    "start_time": "2022-10-26T16:51:20.213Z"
   },
   {
    "duration": 64,
    "start_time": "2022-10-26T16:51:20.237Z"
   },
   {
    "duration": 31,
    "start_time": "2022-10-26T16:51:20.303Z"
   },
   {
    "duration": 11,
    "start_time": "2022-10-26T16:51:20.336Z"
   },
   {
    "duration": 47,
    "start_time": "2022-10-26T16:51:20.349Z"
   },
   {
    "duration": 11,
    "start_time": "2022-10-26T16:51:20.398Z"
   },
   {
    "duration": 43,
    "start_time": "2022-10-26T16:51:20.411Z"
   },
   {
    "duration": 44,
    "start_time": "2022-10-26T16:51:20.456Z"
   },
   {
    "duration": 27,
    "start_time": "2022-10-26T16:51:20.501Z"
   },
   {
    "duration": 1016,
    "start_time": "2022-10-26T16:51:20.530Z"
   },
   {
    "duration": 47,
    "start_time": "2022-10-26T16:51:48.283Z"
   },
   {
    "duration": 1115,
    "start_time": "2022-10-26T16:52:12.853Z"
   },
   {
    "duration": 1156,
    "start_time": "2022-10-26T16:52:13.970Z"
   },
   {
    "duration": 33,
    "start_time": "2022-10-26T16:52:15.128Z"
   },
   {
    "duration": 25,
    "start_time": "2022-10-26T16:52:15.163Z"
   },
   {
    "duration": 22,
    "start_time": "2022-10-26T16:52:15.190Z"
   },
   {
    "duration": 15,
    "start_time": "2022-10-26T16:52:15.214Z"
   },
   {
    "duration": 19,
    "start_time": "2022-10-26T16:52:15.231Z"
   },
   {
    "duration": 66,
    "start_time": "2022-10-26T16:52:15.252Z"
   },
   {
    "duration": 32,
    "start_time": "2022-10-26T16:52:15.319Z"
   },
   {
    "duration": 10,
    "start_time": "2022-10-26T16:52:15.352Z"
   },
   {
    "duration": 42,
    "start_time": "2022-10-26T16:52:15.363Z"
   },
   {
    "duration": 10,
    "start_time": "2022-10-26T16:52:15.406Z"
   },
   {
    "duration": 41,
    "start_time": "2022-10-26T16:52:15.417Z"
   },
   {
    "duration": 42,
    "start_time": "2022-10-26T16:52:15.461Z"
   },
   {
    "duration": 26,
    "start_time": "2022-10-26T16:52:15.504Z"
   },
   {
    "duration": 1001,
    "start_time": "2022-10-26T16:52:15.531Z"
   },
   {
    "duration": 112,
    "start_time": "2022-10-26T16:52:16.534Z"
   },
   {
    "duration": 720,
    "start_time": "2022-10-26T16:58:16.833Z"
   },
   {
    "duration": 70,
    "start_time": "2022-10-26T16:58:51.781Z"
   },
   {
    "duration": 12,
    "start_time": "2022-10-26T16:59:23.589Z"
   },
   {
    "duration": 13,
    "start_time": "2022-10-26T16:59:58.278Z"
   },
   {
    "duration": 9,
    "start_time": "2022-10-26T17:00:39.091Z"
   },
   {
    "duration": 46,
    "start_time": "2022-10-26T17:01:43.480Z"
   },
   {
    "duration": 1151,
    "start_time": "2022-10-26T17:01:55.848Z"
   },
   {
    "duration": 1190,
    "start_time": "2022-10-26T17:01:57.001Z"
   },
   {
    "duration": 34,
    "start_time": "2022-10-26T17:01:58.192Z"
   },
   {
    "duration": 26,
    "start_time": "2022-10-26T17:01:58.228Z"
   },
   {
    "duration": 40,
    "start_time": "2022-10-26T17:01:58.255Z"
   },
   {
    "duration": 15,
    "start_time": "2022-10-26T17:01:58.297Z"
   },
   {
    "duration": 18,
    "start_time": "2022-10-26T17:01:58.313Z"
   },
   {
    "duration": 70,
    "start_time": "2022-10-26T17:01:58.332Z"
   },
   {
    "duration": 31,
    "start_time": "2022-10-26T17:01:58.404Z"
   },
   {
    "duration": 10,
    "start_time": "2022-10-26T17:01:58.438Z"
   },
   {
    "duration": 52,
    "start_time": "2022-10-26T17:01:58.450Z"
   },
   {
    "duration": 13,
    "start_time": "2022-10-26T17:01:58.504Z"
   },
   {
    "duration": 44,
    "start_time": "2022-10-26T17:01:58.518Z"
   },
   {
    "duration": 52,
    "start_time": "2022-10-26T17:01:58.564Z"
   },
   {
    "duration": 26,
    "start_time": "2022-10-26T17:01:58.618Z"
   },
   {
    "duration": 1016,
    "start_time": "2022-10-26T17:01:58.646Z"
   },
   {
    "duration": 45,
    "start_time": "2022-10-26T17:04:34.304Z"
   },
   {
    "duration": 7,
    "start_time": "2022-10-26T17:04:38.834Z"
   },
   {
    "duration": 1147,
    "start_time": "2022-10-26T17:04:53.803Z"
   },
   {
    "duration": 1174,
    "start_time": "2022-10-26T17:04:54.952Z"
   },
   {
    "duration": 32,
    "start_time": "2022-10-26T17:04:56.128Z"
   },
   {
    "duration": 25,
    "start_time": "2022-10-26T17:04:56.162Z"
   },
   {
    "duration": 21,
    "start_time": "2022-10-26T17:04:56.189Z"
   },
   {
    "duration": 15,
    "start_time": "2022-10-26T17:04:56.211Z"
   },
   {
    "duration": 17,
    "start_time": "2022-10-26T17:04:56.227Z"
   },
   {
    "duration": 58,
    "start_time": "2022-10-26T17:04:56.246Z"
   },
   {
    "duration": 33,
    "start_time": "2022-10-26T17:04:56.306Z"
   },
   {
    "duration": 12,
    "start_time": "2022-10-26T17:04:56.340Z"
   },
   {
    "duration": 54,
    "start_time": "2022-10-26T17:04:56.354Z"
   },
   {
    "duration": 15,
    "start_time": "2022-10-26T17:04:56.410Z"
   },
   {
    "duration": 69,
    "start_time": "2022-10-26T17:04:56.427Z"
   },
   {
    "duration": 25,
    "start_time": "2022-10-26T17:04:56.499Z"
   },
   {
    "duration": 28,
    "start_time": "2022-10-26T17:04:56.526Z"
   },
   {
    "duration": 1030,
    "start_time": "2022-10-26T17:04:56.556Z"
   },
   {
    "duration": 1258,
    "start_time": "2022-10-31T16:43:37.943Z"
   },
   {
    "duration": 1117,
    "start_time": "2022-10-31T16:43:39.203Z"
   },
   {
    "duration": 34,
    "start_time": "2022-10-31T16:43:40.322Z"
   },
   {
    "duration": 25,
    "start_time": "2022-10-31T16:43:40.358Z"
   },
   {
    "duration": 39,
    "start_time": "2022-10-31T16:43:40.384Z"
   },
   {
    "duration": 14,
    "start_time": "2022-10-31T16:43:40.425Z"
   },
   {
    "duration": 26,
    "start_time": "2022-10-31T16:43:40.440Z"
   },
   {
    "duration": 71,
    "start_time": "2022-10-31T16:43:40.468Z"
   },
   {
    "duration": 36,
    "start_time": "2022-10-31T16:43:40.541Z"
   },
   {
    "duration": 31,
    "start_time": "2022-10-31T16:43:40.579Z"
   },
   {
    "duration": 26,
    "start_time": "2022-10-31T16:43:40.611Z"
   },
   {
    "duration": 12,
    "start_time": "2022-10-31T16:43:40.639Z"
   },
   {
    "duration": 48,
    "start_time": "2022-10-31T16:43:40.652Z"
   },
   {
    "duration": 18,
    "start_time": "2022-10-31T16:43:40.709Z"
   },
   {
    "duration": 21,
    "start_time": "2022-10-31T16:43:40.729Z"
   },
   {
    "duration": 914,
    "start_time": "2022-10-31T16:43:40.752Z"
   },
   {
    "duration": 51,
    "start_time": "2022-10-31T16:45:50.333Z"
   },
   {
    "duration": 7,
    "start_time": "2022-10-31T16:46:10.445Z"
   },
   {
    "duration": 1159,
    "start_time": "2022-10-31T16:46:44.294Z"
   },
   {
    "duration": 918,
    "start_time": "2022-10-31T16:46:45.455Z"
   },
   {
    "duration": 33,
    "start_time": "2022-10-31T16:46:46.375Z"
   },
   {
    "duration": 27,
    "start_time": "2022-10-31T16:46:46.411Z"
   },
   {
    "duration": 22,
    "start_time": "2022-10-31T16:46:46.440Z"
   },
   {
    "duration": 45,
    "start_time": "2022-10-31T16:46:46.464Z"
   },
   {
    "duration": 21,
    "start_time": "2022-10-31T16:46:46.511Z"
   },
   {
    "duration": 50,
    "start_time": "2022-10-31T16:46:46.533Z"
   },
   {
    "duration": 47,
    "start_time": "2022-10-31T16:46:46.585Z"
   },
   {
    "duration": 8,
    "start_time": "2022-10-31T16:46:46.634Z"
   },
   {
    "duration": 10,
    "start_time": "2022-10-31T16:46:46.643Z"
   },
   {
    "duration": 22,
    "start_time": "2022-10-31T16:46:46.654Z"
   },
   {
    "duration": 38,
    "start_time": "2022-10-31T16:46:46.678Z"
   },
   {
    "duration": 35,
    "start_time": "2022-10-31T16:46:46.718Z"
   },
   {
    "duration": 17,
    "start_time": "2022-10-31T16:46:46.755Z"
   },
   {
    "duration": 47,
    "start_time": "2022-10-31T16:46:46.773Z"
   },
   {
    "duration": 930,
    "start_time": "2022-10-31T16:46:46.822Z"
   },
   {
    "duration": 3,
    "start_time": "2022-10-31T16:46:47.753Z"
   },
   {
    "duration": 5,
    "start_time": "2022-10-31T16:48:06.774Z"
   },
   {
    "duration": 6,
    "start_time": "2022-10-31T16:48:33.118Z"
   },
   {
    "duration": 7,
    "start_time": "2022-10-31T16:48:57.215Z"
   },
   {
    "duration": 8,
    "start_time": "2022-10-31T16:50:20.492Z"
   },
   {
    "duration": 1066,
    "start_time": "2022-10-31T16:50:51.434Z"
   },
   {
    "duration": 376,
    "start_time": "2022-10-31T16:50:52.502Z"
   },
   {
    "duration": 33,
    "start_time": "2022-10-31T16:50:52.879Z"
   },
   {
    "duration": 26,
    "start_time": "2022-10-31T16:50:52.914Z"
   },
   {
    "duration": 21,
    "start_time": "2022-10-31T16:50:52.942Z"
   },
   {
    "duration": 15,
    "start_time": "2022-10-31T16:50:52.964Z"
   },
   {
    "duration": 40,
    "start_time": "2022-10-31T16:50:52.980Z"
   },
   {
    "duration": 40,
    "start_time": "2022-10-31T16:50:53.022Z"
   },
   {
    "duration": 51,
    "start_time": "2022-10-31T16:50:53.063Z"
   },
   {
    "duration": 8,
    "start_time": "2022-10-31T16:50:53.116Z"
   },
   {
    "duration": 7,
    "start_time": "2022-10-31T16:50:53.125Z"
   },
   {
    "duration": 7,
    "start_time": "2022-10-31T16:50:53.133Z"
   },
   {
    "duration": 11,
    "start_time": "2022-10-31T16:50:53.141Z"
   },
   {
    "duration": 58,
    "start_time": "2022-10-31T16:50:53.154Z"
   },
   {
    "duration": 11,
    "start_time": "2022-10-31T16:50:53.213Z"
   },
   {
    "duration": 36,
    "start_time": "2022-10-31T16:50:53.225Z"
   },
   {
    "duration": 19,
    "start_time": "2022-10-31T16:50:53.263Z"
   },
   {
    "duration": 45,
    "start_time": "2022-10-31T16:50:53.283Z"
   },
   {
    "duration": 887,
    "start_time": "2022-10-31T16:50:53.329Z"
   },
   {
    "duration": 3,
    "start_time": "2022-10-31T16:50:54.218Z"
   },
   {
    "duration": 1125,
    "start_time": "2022-10-31T16:52:36.782Z"
   },
   {
    "duration": 378,
    "start_time": "2022-10-31T16:52:37.909Z"
   },
   {
    "duration": 33,
    "start_time": "2022-10-31T16:52:38.290Z"
   },
   {
    "duration": 24,
    "start_time": "2022-10-31T16:52:38.325Z"
   },
   {
    "duration": 22,
    "start_time": "2022-10-31T16:52:38.351Z"
   },
   {
    "duration": 36,
    "start_time": "2022-10-31T16:52:38.375Z"
   },
   {
    "duration": 21,
    "start_time": "2022-10-31T16:52:38.412Z"
   },
   {
    "duration": 40,
    "start_time": "2022-10-31T16:52:38.434Z"
   },
   {
    "duration": 48,
    "start_time": "2022-10-31T16:52:38.476Z"
   },
   {
    "duration": 8,
    "start_time": "2022-10-31T16:52:38.526Z"
   },
   {
    "duration": 6,
    "start_time": "2022-10-31T16:52:38.535Z"
   },
   {
    "duration": 5,
    "start_time": "2022-10-31T16:52:38.543Z"
   },
   {
    "duration": 10,
    "start_time": "2022-10-31T16:52:38.550Z"
   },
   {
    "duration": 57,
    "start_time": "2022-10-31T16:52:38.561Z"
   },
   {
    "duration": 11,
    "start_time": "2022-10-31T16:52:38.620Z"
   },
   {
    "duration": 36,
    "start_time": "2022-10-31T16:52:38.633Z"
   },
   {
    "duration": 41,
    "start_time": "2022-10-31T16:52:38.671Z"
   },
   {
    "duration": 23,
    "start_time": "2022-10-31T16:52:38.714Z"
   },
   {
    "duration": 916,
    "start_time": "2022-10-31T16:52:38.738Z"
   },
   {
    "duration": 3,
    "start_time": "2022-10-31T16:52:39.655Z"
   },
   {
    "duration": 6,
    "start_time": "2022-10-31T16:54:23.200Z"
   },
   {
    "duration": 1086,
    "start_time": "2022-10-31T17:03:39.326Z"
   },
   {
    "duration": 385,
    "start_time": "2022-10-31T17:03:40.414Z"
   },
   {
    "duration": 33,
    "start_time": "2022-10-31T17:03:40.801Z"
   },
   {
    "duration": 25,
    "start_time": "2022-10-31T17:03:40.836Z"
   },
   {
    "duration": 21,
    "start_time": "2022-10-31T17:03:40.863Z"
   },
   {
    "duration": 34,
    "start_time": "2022-10-31T17:03:40.885Z"
   },
   {
    "duration": 24,
    "start_time": "2022-10-31T17:03:40.921Z"
   },
   {
    "duration": 47,
    "start_time": "2022-10-31T17:03:40.946Z"
   },
   {
    "duration": 42,
    "start_time": "2022-10-31T17:03:40.994Z"
   },
   {
    "duration": 6,
    "start_time": "2022-10-31T17:03:41.038Z"
   },
   {
    "duration": 13,
    "start_time": "2022-10-31T17:03:41.045Z"
   },
   {
    "duration": 18,
    "start_time": "2022-10-31T17:03:41.059Z"
   },
   {
    "duration": 10,
    "start_time": "2022-10-31T17:03:41.079Z"
   },
   {
    "duration": 125,
    "start_time": "2022-10-31T17:03:41.091Z"
   },
   {
    "duration": 0,
    "start_time": "2022-10-31T17:03:41.218Z"
   },
   {
    "duration": 0,
    "start_time": "2022-10-31T17:03:41.219Z"
   },
   {
    "duration": 0,
    "start_time": "2022-10-31T17:03:41.220Z"
   },
   {
    "duration": 0,
    "start_time": "2022-10-31T17:03:41.221Z"
   },
   {
    "duration": 0,
    "start_time": "2022-10-31T17:03:41.222Z"
   },
   {
    "duration": 0,
    "start_time": "2022-10-31T17:03:41.222Z"
   },
   {
    "duration": 0,
    "start_time": "2022-10-31T17:03:41.224Z"
   },
   {
    "duration": 8,
    "start_time": "2022-10-31T17:03:57.129Z"
   },
   {
    "duration": 1115,
    "start_time": "2022-10-31T17:05:18.681Z"
   },
   {
    "duration": 384,
    "start_time": "2022-10-31T17:05:19.798Z"
   },
   {
    "duration": 31,
    "start_time": "2022-10-31T17:05:20.184Z"
   },
   {
    "duration": 23,
    "start_time": "2022-10-31T17:05:20.217Z"
   },
   {
    "duration": 20,
    "start_time": "2022-10-31T17:05:20.242Z"
   },
   {
    "duration": 15,
    "start_time": "2022-10-31T17:05:20.264Z"
   },
   {
    "duration": 17,
    "start_time": "2022-10-31T17:05:20.310Z"
   },
   {
    "duration": 41,
    "start_time": "2022-10-31T17:05:20.329Z"
   },
   {
    "duration": 50,
    "start_time": "2022-10-31T17:05:20.371Z"
   },
   {
    "duration": 6,
    "start_time": "2022-10-31T17:05:20.423Z"
   },
   {
    "duration": 20,
    "start_time": "2022-10-31T17:05:20.430Z"
   },
   {
    "duration": 20,
    "start_time": "2022-10-31T17:05:20.451Z"
   },
   {
    "duration": 7,
    "start_time": "2022-10-31T17:05:20.473Z"
   },
   {
    "duration": 35,
    "start_time": "2022-10-31T17:05:20.482Z"
   },
   {
    "duration": 12,
    "start_time": "2022-10-31T17:05:20.519Z"
   },
   {
    "duration": 39,
    "start_time": "2022-10-31T17:05:20.532Z"
   },
   {
    "duration": 40,
    "start_time": "2022-10-31T17:05:20.572Z"
   },
   {
    "duration": 24,
    "start_time": "2022-10-31T17:05:20.613Z"
   },
   {
    "duration": 926,
    "start_time": "2022-10-31T17:05:20.638Z"
   },
   {
    "duration": 3,
    "start_time": "2022-10-31T17:05:21.565Z"
   },
   {
    "duration": 1359,
    "start_time": "2022-11-01T07:04:57.060Z"
   },
   {
    "duration": 965,
    "start_time": "2022-11-01T07:04:58.421Z"
   },
   {
    "duration": 45,
    "start_time": "2022-11-01T07:04:59.388Z"
   },
   {
    "duration": 26,
    "start_time": "2022-11-01T07:04:59.435Z"
   },
   {
    "duration": 23,
    "start_time": "2022-11-01T07:04:59.462Z"
   },
   {
    "duration": 34,
    "start_time": "2022-11-01T07:04:59.486Z"
   },
   {
    "duration": 29,
    "start_time": "2022-11-01T07:04:59.522Z"
   },
   {
    "duration": 77,
    "start_time": "2022-11-01T07:04:59.554Z"
   },
   {
    "duration": 55,
    "start_time": "2022-11-01T07:04:59.633Z"
   },
   {
    "duration": 21,
    "start_time": "2022-11-01T07:04:59.690Z"
   },
   {
    "duration": 9,
    "start_time": "2022-11-01T07:04:59.713Z"
   },
   {
    "duration": 26,
    "start_time": "2022-11-01T07:04:59.723Z"
   },
   {
    "duration": 9,
    "start_time": "2022-11-01T07:04:59.751Z"
   },
   {
    "duration": 8,
    "start_time": "2022-11-01T07:04:59.761Z"
   },
   {
    "duration": 64,
    "start_time": "2022-11-01T07:04:59.770Z"
   },
   {
    "duration": 14,
    "start_time": "2022-11-01T07:04:59.835Z"
   },
   {
    "duration": 59,
    "start_time": "2022-11-01T07:04:59.851Z"
   },
   {
    "duration": 20,
    "start_time": "2022-11-01T07:04:59.911Z"
   },
   {
    "duration": 34,
    "start_time": "2022-11-01T07:04:59.932Z"
   },
   {
    "duration": 1046,
    "start_time": "2022-11-01T07:04:59.968Z"
   },
   {
    "duration": 3,
    "start_time": "2022-11-01T07:05:01.016Z"
   },
   {
    "duration": 20,
    "start_time": "2022-11-01T07:07:23.203Z"
   },
   {
    "duration": 20,
    "start_time": "2022-11-01T07:07:23.238Z"
   },
   {
    "duration": 22,
    "start_time": "2022-11-01T07:08:49.232Z"
   },
   {
    "duration": 24,
    "start_time": "2022-11-01T07:09:12.257Z"
   },
   {
    "duration": 19,
    "start_time": "2022-11-01T07:09:39.857Z"
   },
   {
    "duration": 20,
    "start_time": "2022-11-01T07:10:40.441Z"
   },
   {
    "duration": 17,
    "start_time": "2022-11-01T07:16:28.350Z"
   },
   {
    "duration": 50,
    "start_time": "2022-11-01T07:21:11.455Z"
   },
   {
    "duration": 54,
    "start_time": "2022-11-01T07:33:47.278Z"
   },
   {
    "duration": 1185,
    "start_time": "2022-11-01T07:34:28.616Z"
   },
   {
    "duration": 951,
    "start_time": "2022-11-01T07:34:29.803Z"
   },
   {
    "duration": 33,
    "start_time": "2022-11-01T07:34:30.756Z"
   },
   {
    "duration": 26,
    "start_time": "2022-11-01T07:34:30.791Z"
   },
   {
    "duration": 22,
    "start_time": "2022-11-01T07:34:30.819Z"
   },
   {
    "duration": 18,
    "start_time": "2022-11-01T07:34:30.842Z"
   },
   {
    "duration": 28,
    "start_time": "2022-11-01T07:34:30.861Z"
   },
   {
    "duration": 56,
    "start_time": "2022-11-01T07:34:30.891Z"
   },
   {
    "duration": 32,
    "start_time": "2022-11-01T07:34:30.949Z"
   },
   {
    "duration": 32,
    "start_time": "2022-11-01T07:34:30.983Z"
   },
   {
    "duration": 10,
    "start_time": "2022-11-01T07:34:31.016Z"
   },
   {
    "duration": 19,
    "start_time": "2022-11-01T07:34:31.028Z"
   },
   {
    "duration": 40,
    "start_time": "2022-11-01T07:34:31.048Z"
   },
   {
    "duration": 20,
    "start_time": "2022-11-01T07:34:31.091Z"
   },
   {
    "duration": 54,
    "start_time": "2022-11-01T07:34:31.113Z"
   },
   {
    "duration": 17,
    "start_time": "2022-11-01T07:34:31.169Z"
   },
   {
    "duration": 41,
    "start_time": "2022-11-01T07:34:31.187Z"
   },
   {
    "duration": 943,
    "start_time": "2022-11-01T07:34:31.230Z"
   },
   {
    "duration": 107,
    "start_time": "2022-11-01T07:35:30.737Z"
   },
   {
    "duration": 8,
    "start_time": "2022-11-01T07:36:10.423Z"
   },
   {
    "duration": 76,
    "start_time": "2022-11-01T07:49:02.375Z"
   },
   {
    "duration": 36,
    "start_time": "2022-11-01T07:49:27.708Z"
   },
   {
    "duration": 28,
    "start_time": "2022-11-01T07:56:44.909Z"
   },
   {
    "duration": 30,
    "start_time": "2022-11-01T08:03:13.798Z"
   },
   {
    "duration": 30,
    "start_time": "2022-11-01T08:04:19.255Z"
   },
   {
    "duration": 22,
    "start_time": "2022-11-01T08:26:07.321Z"
   },
   {
    "duration": 39,
    "start_time": "2022-11-01T08:26:22.892Z"
   },
   {
    "duration": 35,
    "start_time": "2022-11-01T08:33:53.548Z"
   },
   {
    "duration": 34,
    "start_time": "2022-11-01T08:38:19.928Z"
   },
   {
    "duration": 33,
    "start_time": "2022-11-01T08:41:19.233Z"
   },
   {
    "duration": 26,
    "start_time": "2022-11-01T08:43:41.004Z"
   },
   {
    "duration": 26,
    "start_time": "2022-11-01T08:49:29.639Z"
   },
   {
    "duration": 24,
    "start_time": "2022-11-01T08:50:07.950Z"
   },
   {
    "duration": 27,
    "start_time": "2022-11-01T08:50:30.656Z"
   },
   {
    "duration": 26,
    "start_time": "2022-11-01T08:51:08.944Z"
   },
   {
    "duration": 26,
    "start_time": "2022-11-01T08:51:51.638Z"
   },
   {
    "duration": 43,
    "start_time": "2022-11-01T08:56:57.059Z"
   },
   {
    "duration": 30,
    "start_time": "2022-11-01T08:57:48.949Z"
   },
   {
    "duration": 26,
    "start_time": "2022-11-01T08:58:29.078Z"
   },
   {
    "duration": 12,
    "start_time": "2022-11-01T08:59:47.500Z"
   },
   {
    "duration": 1189,
    "start_time": "2022-11-01T09:01:26.012Z"
   },
   {
    "duration": 418,
    "start_time": "2022-11-01T09:01:27.203Z"
   },
   {
    "duration": 34,
    "start_time": "2022-11-01T09:01:27.623Z"
   },
   {
    "duration": 38,
    "start_time": "2022-11-01T09:01:27.659Z"
   },
   {
    "duration": 23,
    "start_time": "2022-11-01T09:01:27.708Z"
   },
   {
    "duration": 14,
    "start_time": "2022-11-01T09:01:27.733Z"
   },
   {
    "duration": 18,
    "start_time": "2022-11-01T09:01:27.749Z"
   },
   {
    "duration": 68,
    "start_time": "2022-11-01T09:01:27.769Z"
   },
   {
    "duration": 34,
    "start_time": "2022-11-01T09:01:27.838Z"
   },
   {
    "duration": 10,
    "start_time": "2022-11-01T09:01:27.873Z"
   },
   {
    "duration": 10,
    "start_time": "2022-11-01T09:01:27.909Z"
   },
   {
    "duration": 17,
    "start_time": "2022-11-01T09:01:27.921Z"
   },
   {
    "duration": 22,
    "start_time": "2022-11-01T09:01:27.940Z"
   },
   {
    "duration": 45,
    "start_time": "2022-11-01T09:01:27.964Z"
   },
   {
    "duration": 38,
    "start_time": "2022-11-01T09:01:28.011Z"
   },
   {
    "duration": 18,
    "start_time": "2022-11-01T09:01:28.051Z"
   },
   {
    "duration": 45,
    "start_time": "2022-11-01T09:01:28.071Z"
   },
   {
    "duration": 41,
    "start_time": "2022-11-01T09:01:28.118Z"
   },
   {
    "duration": 49,
    "start_time": "2022-11-01T09:01:28.161Z"
   },
   {
    "duration": 37,
    "start_time": "2022-11-01T09:01:28.211Z"
   },
   {
    "duration": 23,
    "start_time": "2022-11-01T09:01:28.250Z"
   },
   {
    "duration": 35,
    "start_time": "2022-11-01T09:01:28.274Z"
   },
   {
    "duration": 1114,
    "start_time": "2022-11-01T09:02:36.032Z"
   },
   {
    "duration": 403,
    "start_time": "2022-11-01T09:02:37.148Z"
   },
   {
    "duration": 37,
    "start_time": "2022-11-01T09:02:37.555Z"
   },
   {
    "duration": 26,
    "start_time": "2022-11-01T09:02:37.594Z"
   },
   {
    "duration": 21,
    "start_time": "2022-11-01T09:02:37.622Z"
   },
   {
    "duration": 16,
    "start_time": "2022-11-01T09:02:37.644Z"
   },
   {
    "duration": 21,
    "start_time": "2022-11-01T09:02:37.661Z"
   },
   {
    "duration": 58,
    "start_time": "2022-11-01T09:02:37.683Z"
   },
   {
    "duration": 32,
    "start_time": "2022-11-01T09:02:37.743Z"
   },
   {
    "duration": 33,
    "start_time": "2022-11-01T09:02:37.776Z"
   },
   {
    "duration": 10,
    "start_time": "2022-11-01T09:02:37.811Z"
   },
   {
    "duration": 16,
    "start_time": "2022-11-01T09:02:37.822Z"
   },
   {
    "duration": 22,
    "start_time": "2022-11-01T09:02:37.841Z"
   },
   {
    "duration": 11,
    "start_time": "2022-11-01T09:02:37.865Z"
   },
   {
    "duration": 64,
    "start_time": "2022-11-01T09:02:37.877Z"
   },
   {
    "duration": 17,
    "start_time": "2022-11-01T09:02:37.942Z"
   },
   {
    "duration": 23,
    "start_time": "2022-11-01T09:02:37.961Z"
   },
   {
    "duration": 43,
    "start_time": "2022-11-01T09:02:38.010Z"
   },
   {
    "duration": 27,
    "start_time": "2022-11-01T09:02:38.055Z"
   },
   {
    "duration": 55,
    "start_time": "2022-11-01T09:02:38.084Z"
   },
   {
    "duration": 24,
    "start_time": "2022-11-01T09:02:38.140Z"
   },
   {
    "duration": 10,
    "start_time": "2022-11-01T09:02:38.166Z"
   },
   {
    "duration": 1187,
    "start_time": "2022-11-01T09:03:35.900Z"
   },
   {
    "duration": 418,
    "start_time": "2022-11-01T09:03:37.089Z"
   },
   {
    "duration": 33,
    "start_time": "2022-11-01T09:03:37.509Z"
   },
   {
    "duration": 25,
    "start_time": "2022-11-01T09:03:37.543Z"
   },
   {
    "duration": 39,
    "start_time": "2022-11-01T09:03:37.571Z"
   },
   {
    "duration": 15,
    "start_time": "2022-11-01T09:03:37.611Z"
   },
   {
    "duration": 18,
    "start_time": "2022-11-01T09:03:37.627Z"
   },
   {
    "duration": 71,
    "start_time": "2022-11-01T09:03:37.647Z"
   },
   {
    "duration": 31,
    "start_time": "2022-11-01T09:03:37.719Z"
   },
   {
    "duration": 9,
    "start_time": "2022-11-01T09:03:37.751Z"
   },
   {
    "duration": 9,
    "start_time": "2022-11-01T09:03:37.761Z"
   },
   {
    "duration": 44,
    "start_time": "2022-11-01T09:03:37.771Z"
   },
   {
    "duration": 22,
    "start_time": "2022-11-01T09:03:37.816Z"
   },
   {
    "duration": 11,
    "start_time": "2022-11-01T09:03:37.840Z"
   },
   {
    "duration": 56,
    "start_time": "2022-11-01T09:03:37.853Z"
   },
   {
    "duration": 19,
    "start_time": "2022-11-01T09:03:37.911Z"
   },
   {
    "duration": 24,
    "start_time": "2022-11-01T09:03:37.932Z"
   },
   {
    "duration": 64,
    "start_time": "2022-11-01T09:03:37.957Z"
   },
   {
    "duration": 30,
    "start_time": "2022-11-01T09:03:38.023Z"
   },
   {
    "duration": 32,
    "start_time": "2022-11-01T09:03:38.056Z"
   },
   {
    "duration": 43,
    "start_time": "2022-11-01T09:03:38.089Z"
   },
   {
    "duration": 11,
    "start_time": "2022-11-01T09:03:38.133Z"
   },
   {
    "duration": 1316,
    "start_time": "2022-11-01T12:50:55.859Z"
   },
   {
    "duration": 1518,
    "start_time": "2022-11-01T12:50:57.177Z"
   },
   {
    "duration": 37,
    "start_time": "2022-11-01T12:50:58.697Z"
   },
   {
    "duration": 29,
    "start_time": "2022-11-01T12:50:58.736Z"
   },
   {
    "duration": 25,
    "start_time": "2022-11-01T12:50:58.767Z"
   },
   {
    "duration": 16,
    "start_time": "2022-11-01T12:50:58.793Z"
   },
   {
    "duration": 45,
    "start_time": "2022-11-01T12:50:58.811Z"
   },
   {
    "duration": 42,
    "start_time": "2022-11-01T12:50:58.857Z"
   },
   {
    "duration": 53,
    "start_time": "2022-11-01T12:50:58.901Z"
   },
   {
    "duration": 10,
    "start_time": "2022-11-01T12:50:58.956Z"
   },
   {
    "duration": 10,
    "start_time": "2022-11-01T12:50:58.968Z"
   },
   {
    "duration": 22,
    "start_time": "2022-11-01T12:50:58.980Z"
   },
   {
    "duration": 53,
    "start_time": "2022-11-01T12:50:59.004Z"
   },
   {
    "duration": 12,
    "start_time": "2022-11-01T12:50:59.058Z"
   },
   {
    "duration": 45,
    "start_time": "2022-11-01T12:50:59.071Z"
   },
   {
    "duration": 23,
    "start_time": "2022-11-01T12:50:59.139Z"
   },
   {
    "duration": 29,
    "start_time": "2022-11-01T12:50:59.164Z"
   },
   {
    "duration": 67,
    "start_time": "2022-11-01T12:50:59.195Z"
   },
   {
    "duration": 27,
    "start_time": "2022-11-01T12:50:59.264Z"
   },
   {
    "duration": 52,
    "start_time": "2022-11-01T12:50:59.292Z"
   },
   {
    "duration": 29,
    "start_time": "2022-11-01T12:50:59.345Z"
   },
   {
    "duration": 14,
    "start_time": "2022-11-01T12:50:59.375Z"
   },
   {
    "duration": 6,
    "start_time": "2022-11-01T14:01:23.772Z"
   },
   {
    "duration": 88,
    "start_time": "2022-11-01T14:01:30.156Z"
   },
   {
    "duration": 99,
    "start_time": "2022-11-01T14:01:58.549Z"
   },
   {
    "duration": 129,
    "start_time": "2022-11-01T14:02:36.756Z"
   },
   {
    "duration": 93,
    "start_time": "2022-11-01T14:03:39.078Z"
   },
   {
    "duration": 32,
    "start_time": "2022-11-01T14:27:56.543Z"
   },
   {
    "duration": 28,
    "start_time": "2022-11-01T14:28:16.329Z"
   },
   {
    "duration": 1194,
    "start_time": "2022-11-01T14:29:00.063Z"
   },
   {
    "duration": 457,
    "start_time": "2022-11-01T14:29:01.260Z"
   },
   {
    "duration": 37,
    "start_time": "2022-11-01T14:29:01.718Z"
   },
   {
    "duration": 28,
    "start_time": "2022-11-01T14:29:01.758Z"
   },
   {
    "duration": 21,
    "start_time": "2022-11-01T14:29:01.789Z"
   },
   {
    "duration": 20,
    "start_time": "2022-11-01T14:29:01.839Z"
   },
   {
    "duration": 24,
    "start_time": "2022-11-01T14:29:01.861Z"
   },
   {
    "duration": 73,
    "start_time": "2022-11-01T14:29:01.887Z"
   },
   {
    "duration": 37,
    "start_time": "2022-11-01T14:29:01.962Z"
   },
   {
    "duration": 23,
    "start_time": "2022-11-01T14:29:02.001Z"
   },
   {
    "duration": 26,
    "start_time": "2022-11-01T14:29:02.026Z"
   },
   {
    "duration": 41,
    "start_time": "2022-11-01T14:29:02.054Z"
   },
   {
    "duration": 27,
    "start_time": "2022-11-01T14:29:02.097Z"
   },
   {
    "duration": 11,
    "start_time": "2022-11-01T14:29:02.126Z"
   },
   {
    "duration": 49,
    "start_time": "2022-11-01T14:29:02.139Z"
   },
   {
    "duration": 22,
    "start_time": "2022-11-01T14:29:02.189Z"
   },
   {
    "duration": 45,
    "start_time": "2022-11-01T14:29:02.213Z"
   },
   {
    "duration": 44,
    "start_time": "2022-11-01T14:29:02.260Z"
   },
   {
    "duration": 51,
    "start_time": "2022-11-01T14:29:02.305Z"
   },
   {
    "duration": 35,
    "start_time": "2022-11-01T14:29:02.357Z"
   },
   {
    "duration": 45,
    "start_time": "2022-11-01T14:29:02.394Z"
   },
   {
    "duration": 14,
    "start_time": "2022-11-01T14:29:02.441Z"
   },
   {
    "duration": 11,
    "start_time": "2022-11-01T14:29:02.457Z"
   },
   {
    "duration": 119,
    "start_time": "2022-11-01T14:29:02.469Z"
   },
   {
    "duration": 15,
    "start_time": "2022-11-01T14:34:49.905Z"
   },
   {
    "duration": 7,
    "start_time": "2022-11-01T14:36:48.562Z"
   },
   {
    "duration": 36,
    "start_time": "2022-11-01T14:37:09.963Z"
   },
   {
    "duration": 31,
    "start_time": "2022-11-01T14:37:45.484Z"
   },
   {
    "duration": 57,
    "start_time": "2022-11-01T14:50:25.789Z"
   },
   {
    "duration": 64,
    "start_time": "2022-11-01T14:51:46.506Z"
   },
   {
    "duration": 58,
    "start_time": "2022-11-01T14:52:07.356Z"
   },
   {
    "duration": 45,
    "start_time": "2022-11-01T14:52:43.716Z"
   },
   {
    "duration": 14,
    "start_time": "2022-11-01T14:53:28.489Z"
   },
   {
    "duration": 11,
    "start_time": "2022-11-01T14:53:49.647Z"
   },
   {
    "duration": 18,
    "start_time": "2022-11-01T14:55:05.176Z"
   },
   {
    "duration": 11,
    "start_time": "2022-11-01T14:55:10.968Z"
   },
   {
    "duration": 22,
    "start_time": "2022-11-01T14:57:28.115Z"
   },
   {
    "duration": 31,
    "start_time": "2022-11-01T15:00:01.921Z"
   },
   {
    "duration": 17,
    "start_time": "2022-11-01T15:13:27.154Z"
   },
   {
    "duration": 17,
    "start_time": "2022-11-01T15:26:59.228Z"
   },
   {
    "duration": 18,
    "start_time": "2022-11-01T15:27:04.187Z"
   },
   {
    "duration": 22,
    "start_time": "2022-11-01T15:27:49.204Z"
   },
   {
    "duration": 13,
    "start_time": "2022-11-01T15:28:08.218Z"
   },
   {
    "duration": 18,
    "start_time": "2022-11-01T15:28:11.108Z"
   },
   {
    "duration": 15,
    "start_time": "2022-11-01T15:28:41.773Z"
   },
   {
    "duration": 23,
    "start_time": "2022-11-01T15:28:45.741Z"
   },
   {
    "duration": 22,
    "start_time": "2022-11-01T15:29:31.855Z"
   },
   {
    "duration": 16,
    "start_time": "2022-11-01T15:30:48.855Z"
   },
   {
    "duration": 12,
    "start_time": "2022-11-01T15:30:55.926Z"
   },
   {
    "duration": 114,
    "start_time": "2022-11-01T15:31:51.963Z"
   },
   {
    "duration": 14,
    "start_time": "2022-11-01T15:32:20.863Z"
   },
   {
    "duration": 18,
    "start_time": "2022-11-01T15:32:37.294Z"
   },
   {
    "duration": 21,
    "start_time": "2022-11-01T15:35:40.443Z"
   },
   {
    "duration": 17,
    "start_time": "2022-11-01T15:35:46.453Z"
   },
   {
    "duration": 20,
    "start_time": "2022-11-01T15:36:32.418Z"
   },
   {
    "duration": 25,
    "start_time": "2022-11-01T15:36:36.255Z"
   },
   {
    "duration": 20,
    "start_time": "2022-11-01T15:36:56.446Z"
   },
   {
    "duration": 25,
    "start_time": "2022-11-01T15:36:59.643Z"
   },
   {
    "duration": 10,
    "start_time": "2022-11-01T15:37:25.606Z"
   },
   {
    "duration": 5,
    "start_time": "2022-11-01T15:37:51.424Z"
   },
   {
    "duration": 6,
    "start_time": "2022-11-01T15:38:53.729Z"
   },
   {
    "duration": 17,
    "start_time": "2022-11-01T15:40:06.226Z"
   },
   {
    "duration": 15,
    "start_time": "2022-11-01T16:34:00.966Z"
   },
   {
    "duration": 15,
    "start_time": "2022-11-01T16:34:27.562Z"
   },
   {
    "duration": 16,
    "start_time": "2022-11-01T16:53:45.007Z"
   },
   {
    "duration": 22,
    "start_time": "2022-11-01T16:56:02.080Z"
   },
   {
    "duration": 16,
    "start_time": "2022-11-01T16:56:36.225Z"
   },
   {
    "duration": 18,
    "start_time": "2022-11-01T16:58:39.662Z"
   },
   {
    "duration": 19,
    "start_time": "2022-11-01T16:59:17.918Z"
   },
   {
    "duration": 14,
    "start_time": "2022-11-01T16:59:22.100Z"
   },
   {
    "duration": 1164,
    "start_time": "2022-11-01T17:05:08.277Z"
   },
   {
    "duration": 451,
    "start_time": "2022-11-01T17:05:09.443Z"
   },
   {
    "duration": 36,
    "start_time": "2022-11-01T17:05:09.899Z"
   },
   {
    "duration": 30,
    "start_time": "2022-11-01T17:05:09.936Z"
   },
   {
    "duration": 23,
    "start_time": "2022-11-01T17:05:09.968Z"
   },
   {
    "duration": 32,
    "start_time": "2022-11-01T17:05:09.993Z"
   },
   {
    "duration": 36,
    "start_time": "2022-11-01T17:05:10.042Z"
   },
   {
    "duration": 56,
    "start_time": "2022-11-01T17:05:10.080Z"
   },
   {
    "duration": 59,
    "start_time": "2022-11-01T17:05:10.140Z"
   },
   {
    "duration": 13,
    "start_time": "2022-11-01T17:05:10.202Z"
   },
   {
    "duration": 49,
    "start_time": "2022-11-01T17:05:10.217Z"
   },
   {
    "duration": 42,
    "start_time": "2022-11-01T17:05:10.269Z"
   },
   {
    "duration": 30,
    "start_time": "2022-11-01T17:05:10.313Z"
   },
   {
    "duration": 23,
    "start_time": "2022-11-01T17:05:10.346Z"
   },
   {
    "duration": 69,
    "start_time": "2022-11-01T17:05:10.372Z"
   },
   {
    "duration": 36,
    "start_time": "2022-11-01T17:05:10.443Z"
   },
   {
    "duration": 54,
    "start_time": "2022-11-01T17:05:10.481Z"
   },
   {
    "duration": 53,
    "start_time": "2022-11-01T17:05:10.537Z"
   },
   {
    "duration": 56,
    "start_time": "2022-11-01T17:05:10.592Z"
   },
   {
    "duration": 48,
    "start_time": "2022-11-01T17:05:10.651Z"
   },
   {
    "duration": 66,
    "start_time": "2022-11-01T17:05:10.701Z"
   },
   {
    "duration": 31,
    "start_time": "2022-11-01T17:05:10.769Z"
   },
   {
    "duration": 18,
    "start_time": "2022-11-01T17:05:10.803Z"
   },
   {
    "duration": 152,
    "start_time": "2022-11-01T17:05:10.823Z"
   },
   {
    "duration": 0,
    "start_time": "2022-11-01T17:05:10.977Z"
   },
   {
    "duration": 0,
    "start_time": "2022-11-01T17:05:10.979Z"
   },
   {
    "duration": 0,
    "start_time": "2022-11-01T17:05:10.980Z"
   },
   {
    "duration": 0,
    "start_time": "2022-11-01T17:05:10.982Z"
   },
   {
    "duration": 0,
    "start_time": "2022-11-01T17:05:10.983Z"
   },
   {
    "duration": 0,
    "start_time": "2022-11-01T17:05:10.984Z"
   },
   {
    "duration": 9,
    "start_time": "2022-11-01T17:06:09.863Z"
   },
   {
    "duration": 11,
    "start_time": "2022-11-01T17:06:14.015Z"
   },
   {
    "duration": 8,
    "start_time": "2022-11-01T17:07:10.645Z"
   },
   {
    "duration": 12,
    "start_time": "2022-11-01T17:07:14.062Z"
   },
   {
    "duration": 5,
    "start_time": "2022-11-01T17:07:31.510Z"
   },
   {
    "duration": 13,
    "start_time": "2022-11-01T17:09:21.853Z"
   },
   {
    "duration": 1219,
    "start_time": "2022-11-01T17:11:05.049Z"
   },
   {
    "duration": 446,
    "start_time": "2022-11-01T17:11:06.270Z"
   },
   {
    "duration": 42,
    "start_time": "2022-11-01T17:11:06.717Z"
   },
   {
    "duration": 30,
    "start_time": "2022-11-01T17:11:06.761Z"
   },
   {
    "duration": 23,
    "start_time": "2022-11-01T17:11:06.793Z"
   },
   {
    "duration": 29,
    "start_time": "2022-11-01T17:11:06.838Z"
   },
   {
    "duration": 28,
    "start_time": "2022-11-01T17:11:06.869Z"
   },
   {
    "duration": 81,
    "start_time": "2022-11-01T17:11:06.900Z"
   },
   {
    "duration": 30,
    "start_time": "2022-11-01T17:11:06.983Z"
   },
   {
    "duration": 25,
    "start_time": "2022-11-01T17:11:07.015Z"
   },
   {
    "duration": 14,
    "start_time": "2022-11-01T17:11:07.042Z"
   },
   {
    "duration": 21,
    "start_time": "2022-11-01T17:11:07.059Z"
   },
   {
    "duration": 24,
    "start_time": "2022-11-01T17:11:07.082Z"
   },
   {
    "duration": 55,
    "start_time": "2022-11-01T17:11:07.109Z"
   },
   {
    "duration": 78,
    "start_time": "2022-11-01T17:11:07.166Z"
   },
   {
    "duration": 29,
    "start_time": "2022-11-01T17:11:07.246Z"
   },
   {
    "duration": 39,
    "start_time": "2022-11-01T17:11:07.277Z"
   },
   {
    "duration": 75,
    "start_time": "2022-11-01T17:11:07.319Z"
   },
   {
    "duration": 52,
    "start_time": "2022-11-01T17:11:07.396Z"
   },
   {
    "duration": 45,
    "start_time": "2022-11-01T17:11:07.451Z"
   },
   {
    "duration": 50,
    "start_time": "2022-11-01T17:11:07.498Z"
   },
   {
    "duration": 17,
    "start_time": "2022-11-01T17:11:07.550Z"
   },
   {
    "duration": 6,
    "start_time": "2022-11-01T17:11:07.568Z"
   },
   {
    "duration": 115,
    "start_time": "2022-11-01T17:11:07.575Z"
   },
   {
    "duration": 0,
    "start_time": "2022-11-01T17:11:07.692Z"
   },
   {
    "duration": 0,
    "start_time": "2022-11-01T17:11:07.693Z"
   },
   {
    "duration": 0,
    "start_time": "2022-11-01T17:11:07.694Z"
   },
   {
    "duration": 0,
    "start_time": "2022-11-01T17:11:07.695Z"
   },
   {
    "duration": 0,
    "start_time": "2022-11-01T17:11:07.696Z"
   },
   {
    "duration": 0,
    "start_time": "2022-11-01T17:11:07.697Z"
   },
   {
    "duration": 5,
    "start_time": "2022-11-01T17:13:17.787Z"
   },
   {
    "duration": 104,
    "start_time": "2022-11-01T17:13:22.793Z"
   },
   {
    "duration": 1148,
    "start_time": "2022-11-01T17:18:21.119Z"
   },
   {
    "duration": 422,
    "start_time": "2022-11-01T17:18:22.271Z"
   },
   {
    "duration": 32,
    "start_time": "2022-11-01T17:18:22.695Z"
   },
   {
    "duration": 41,
    "start_time": "2022-11-01T17:18:22.729Z"
   },
   {
    "duration": 32,
    "start_time": "2022-11-01T17:18:22.773Z"
   },
   {
    "duration": 37,
    "start_time": "2022-11-01T17:18:22.807Z"
   },
   {
    "duration": 37,
    "start_time": "2022-11-01T17:18:22.847Z"
   },
   {
    "duration": 58,
    "start_time": "2022-11-01T17:18:22.885Z"
   },
   {
    "duration": 41,
    "start_time": "2022-11-01T17:18:22.948Z"
   },
   {
    "duration": 10,
    "start_time": "2022-11-01T17:18:22.990Z"
   },
   {
    "duration": 9,
    "start_time": "2022-11-01T17:18:23.001Z"
   },
   {
    "duration": 43,
    "start_time": "2022-11-01T17:18:23.011Z"
   },
   {
    "duration": 27,
    "start_time": "2022-11-01T17:18:23.056Z"
   },
   {
    "duration": 11,
    "start_time": "2022-11-01T17:18:23.085Z"
   },
   {
    "duration": 84,
    "start_time": "2022-11-01T17:18:23.097Z"
   },
   {
    "duration": 22,
    "start_time": "2022-11-01T17:18:23.183Z"
   },
   {
    "duration": 52,
    "start_time": "2022-11-01T17:18:23.207Z"
   },
   {
    "duration": 42,
    "start_time": "2022-11-01T17:18:23.261Z"
   },
   {
    "duration": 53,
    "start_time": "2022-11-01T17:18:23.305Z"
   },
   {
    "duration": 39,
    "start_time": "2022-11-01T17:18:23.360Z"
   },
   {
    "duration": 53,
    "start_time": "2022-11-01T17:18:23.401Z"
   },
   {
    "duration": 20,
    "start_time": "2022-11-01T17:18:23.456Z"
   },
   {
    "duration": 6,
    "start_time": "2022-11-01T17:18:23.477Z"
   },
   {
    "duration": 128,
    "start_time": "2022-11-01T17:18:23.484Z"
   },
   {
    "duration": 25,
    "start_time": "2022-11-01T17:18:23.614Z"
   },
   {
    "duration": 29,
    "start_time": "2022-11-01T17:18:23.641Z"
   },
   {
    "duration": 17,
    "start_time": "2022-11-01T17:18:23.672Z"
   },
   {
    "duration": 15,
    "start_time": "2022-11-01T17:18:23.691Z"
   },
   {
    "duration": 45,
    "start_time": "2022-11-01T17:18:23.708Z"
   },
   {
    "duration": 49,
    "start_time": "2022-11-01T17:18:23.755Z"
   },
   {
    "duration": 19,
    "start_time": "2022-11-01T17:27:39.644Z"
   },
   {
    "duration": 25,
    "start_time": "2022-11-01T17:27:44.041Z"
   },
   {
    "duration": 45,
    "start_time": "2022-11-02T13:58:00.863Z"
   },
   {
    "duration": 1336,
    "start_time": "2022-11-02T13:58:08.303Z"
   },
   {
    "duration": 1625,
    "start_time": "2022-11-02T13:58:09.642Z"
   },
   {
    "duration": 31,
    "start_time": "2022-11-02T13:58:11.269Z"
   },
   {
    "duration": 23,
    "start_time": "2022-11-02T13:58:11.301Z"
   },
   {
    "duration": 20,
    "start_time": "2022-11-02T13:58:11.326Z"
   },
   {
    "duration": 14,
    "start_time": "2022-11-02T13:58:11.347Z"
   },
   {
    "duration": 19,
    "start_time": "2022-11-02T13:58:11.362Z"
   },
   {
    "duration": 37,
    "start_time": "2022-11-02T13:58:11.405Z"
   },
   {
    "duration": 28,
    "start_time": "2022-11-02T13:58:11.444Z"
   },
   {
    "duration": 38,
    "start_time": "2022-11-02T13:58:11.473Z"
   },
   {
    "duration": 11,
    "start_time": "2022-11-02T13:58:11.513Z"
   },
   {
    "duration": 30,
    "start_time": "2022-11-02T13:58:11.526Z"
   },
   {
    "duration": 38,
    "start_time": "2022-11-02T13:58:11.557Z"
   },
   {
    "duration": 13,
    "start_time": "2022-11-02T13:58:11.607Z"
   },
   {
    "duration": 46,
    "start_time": "2022-11-02T13:58:11.623Z"
   },
   {
    "duration": 41,
    "start_time": "2022-11-02T13:58:11.671Z"
   },
   {
    "duration": 30,
    "start_time": "2022-11-02T13:58:11.714Z"
   },
   {
    "duration": 69,
    "start_time": "2022-11-02T13:58:11.746Z"
   },
   {
    "duration": 26,
    "start_time": "2022-11-02T13:58:11.817Z"
   },
   {
    "duration": 33,
    "start_time": "2022-11-02T13:58:11.845Z"
   },
   {
    "duration": 46,
    "start_time": "2022-11-02T13:58:11.879Z"
   },
   {
    "duration": 15,
    "start_time": "2022-11-02T13:58:11.927Z"
   },
   {
    "duration": 8,
    "start_time": "2022-11-02T13:58:11.944Z"
   },
   {
    "duration": 124,
    "start_time": "2022-11-02T13:58:11.954Z"
   },
   {
    "duration": 13,
    "start_time": "2022-11-02T13:58:12.080Z"
   },
   {
    "duration": 13,
    "start_time": "2022-11-02T13:58:12.106Z"
   },
   {
    "duration": 31,
    "start_time": "2022-11-02T13:58:12.120Z"
   },
   {
    "duration": 11,
    "start_time": "2022-11-02T13:58:12.152Z"
   },
   {
    "duration": 13,
    "start_time": "2022-11-02T13:58:12.164Z"
   },
   {
    "duration": 52,
    "start_time": "2022-11-02T13:58:12.178Z"
   },
   {
    "duration": 15,
    "start_time": "2022-11-02T14:04:34.586Z"
   },
   {
    "duration": 14,
    "start_time": "2022-11-02T14:05:18.956Z"
   },
   {
    "duration": 29,
    "start_time": "2022-11-02T14:07:10.076Z"
   },
   {
    "duration": 39,
    "start_time": "2022-11-02T14:08:52.080Z"
   },
   {
    "duration": 27,
    "start_time": "2022-11-02T14:09:10.135Z"
   },
   {
    "duration": 14,
    "start_time": "2022-11-02T14:13:47.293Z"
   },
   {
    "duration": 73,
    "start_time": "2022-11-02T14:43:25.939Z"
   },
   {
    "duration": 5,
    "start_time": "2022-11-02T14:43:48.706Z"
   },
   {
    "duration": 9,
    "start_time": "2022-11-02T14:44:06.244Z"
   },
   {
    "duration": 92,
    "start_time": "2022-11-02T14:45:25.622Z"
   },
   {
    "duration": 7,
    "start_time": "2022-11-02T14:45:47.500Z"
   },
   {
    "duration": 6,
    "start_time": "2022-11-02T15:29:16.617Z"
   },
   {
    "duration": 1103,
    "start_time": "2022-11-02T15:51:05.924Z"
   },
   {
    "duration": 387,
    "start_time": "2022-11-02T15:51:07.030Z"
   },
   {
    "duration": 38,
    "start_time": "2022-11-02T15:51:07.419Z"
   },
   {
    "duration": 37,
    "start_time": "2022-11-02T15:51:07.459Z"
   },
   {
    "duration": 30,
    "start_time": "2022-11-02T15:51:07.498Z"
   },
   {
    "duration": 19,
    "start_time": "2022-11-02T15:51:07.530Z"
   },
   {
    "duration": 56,
    "start_time": "2022-11-02T15:51:07.550Z"
   },
   {
    "duration": 47,
    "start_time": "2022-11-02T15:51:07.608Z"
   },
   {
    "duration": 30,
    "start_time": "2022-11-02T15:51:07.657Z"
   },
   {
    "duration": 8,
    "start_time": "2022-11-02T15:51:07.688Z"
   },
   {
    "duration": 9,
    "start_time": "2022-11-02T15:51:07.706Z"
   },
   {
    "duration": 31,
    "start_time": "2022-11-02T15:51:07.717Z"
   },
   {
    "duration": 22,
    "start_time": "2022-11-02T15:51:07.750Z"
   },
   {
    "duration": 12,
    "start_time": "2022-11-02T15:51:07.775Z"
   },
   {
    "duration": 60,
    "start_time": "2022-11-02T15:51:07.789Z"
   },
   {
    "duration": 23,
    "start_time": "2022-11-02T15:51:07.851Z"
   },
   {
    "duration": 47,
    "start_time": "2022-11-02T15:51:07.876Z"
   },
   {
    "duration": 45,
    "start_time": "2022-11-02T15:51:07.925Z"
   },
   {
    "duration": 52,
    "start_time": "2022-11-02T15:51:07.971Z"
   },
   {
    "duration": 34,
    "start_time": "2022-11-02T15:51:08.025Z"
   },
   {
    "duration": 44,
    "start_time": "2022-11-02T15:51:08.061Z"
   },
   {
    "duration": 14,
    "start_time": "2022-11-02T15:51:08.107Z"
   },
   {
    "duration": 11,
    "start_time": "2022-11-02T15:51:08.122Z"
   },
   {
    "duration": 110,
    "start_time": "2022-11-02T15:51:08.135Z"
   },
   {
    "duration": 21,
    "start_time": "2022-11-02T15:51:08.246Z"
   },
   {
    "duration": 22,
    "start_time": "2022-11-02T15:51:08.269Z"
   },
   {
    "duration": 49,
    "start_time": "2022-11-02T15:51:08.293Z"
   },
   {
    "duration": 13,
    "start_time": "2022-11-02T15:51:08.344Z"
   },
   {
    "duration": 12,
    "start_time": "2022-11-02T15:51:08.359Z"
   },
   {
    "duration": 45,
    "start_time": "2022-11-02T15:51:08.373Z"
   },
   {
    "duration": 13,
    "start_time": "2022-11-02T15:51:08.420Z"
   },
   {
    "duration": 37,
    "start_time": "2022-11-02T15:51:08.435Z"
   },
   {
    "duration": 49,
    "start_time": "2022-11-02T15:51:08.473Z"
   },
   {
    "duration": 6,
    "start_time": "2022-11-02T15:51:08.523Z"
   },
   {
    "duration": 4,
    "start_time": "2022-11-02T15:51:08.530Z"
   },
   {
    "duration": 7,
    "start_time": "2022-11-02T15:51:08.535Z"
   },
   {
    "duration": 7,
    "start_time": "2022-11-02T15:51:08.544Z"
   },
   {
    "duration": 6,
    "start_time": "2022-11-02T15:51:08.553Z"
   },
   {
    "duration": 9,
    "start_time": "2022-11-02T15:51:08.560Z"
   },
   {
    "duration": 5,
    "start_time": "2022-11-02T15:51:08.571Z"
   },
   {
    "duration": 7,
    "start_time": "2022-11-02T15:51:08.607Z"
   },
   {
    "duration": 217,
    "start_time": "2022-11-02T15:56:37.382Z"
   },
   {
    "duration": 89,
    "start_time": "2022-11-02T16:01:43.376Z"
   },
   {
    "duration": 155,
    "start_time": "2022-11-02T16:01:58.017Z"
   },
   {
    "duration": 167,
    "start_time": "2022-11-02T16:04:00.044Z"
   },
   {
    "duration": 153,
    "start_time": "2022-11-02T16:06:11.730Z"
   },
   {
    "duration": 10,
    "start_time": "2022-11-02T16:12:27.280Z"
   },
   {
    "duration": 148,
    "start_time": "2022-11-02T16:12:51.802Z"
   },
   {
    "duration": 141,
    "start_time": "2022-11-02T16:13:53.009Z"
   },
   {
    "duration": 221,
    "start_time": "2022-11-02T16:14:07.715Z"
   },
   {
    "duration": 148,
    "start_time": "2022-11-02T16:14:47.553Z"
   },
   {
    "duration": 68,
    "start_time": "2022-11-02T16:25:19.259Z"
   },
   {
    "duration": 222,
    "start_time": "2022-11-02T16:26:53.954Z"
   },
   {
    "duration": 218,
    "start_time": "2022-11-02T16:33:32.334Z"
   },
   {
    "duration": 150,
    "start_time": "2022-11-02T16:36:50.191Z"
   },
   {
    "duration": 141,
    "start_time": "2022-11-02T16:37:44.722Z"
   },
   {
    "duration": 144,
    "start_time": "2022-11-02T16:45:13.790Z"
   },
   {
    "duration": 234,
    "start_time": "2022-11-02T16:45:31.435Z"
   },
   {
    "duration": 308,
    "start_time": "2022-11-02T16:46:27.475Z"
   },
   {
    "duration": 217,
    "start_time": "2022-11-02T16:47:22.338Z"
   },
   {
    "duration": 1171,
    "start_time": "2022-11-02T16:51:41.334Z"
   },
   {
    "duration": 476,
    "start_time": "2022-11-02T16:51:42.507Z"
   },
   {
    "duration": 34,
    "start_time": "2022-11-02T16:51:42.985Z"
   },
   {
    "duration": 27,
    "start_time": "2022-11-02T16:51:43.021Z"
   },
   {
    "duration": 22,
    "start_time": "2022-11-02T16:51:43.050Z"
   },
   {
    "duration": 45,
    "start_time": "2022-11-02T16:51:43.073Z"
   },
   {
    "duration": 20,
    "start_time": "2022-11-02T16:51:43.120Z"
   },
   {
    "duration": 64,
    "start_time": "2022-11-02T16:51:43.142Z"
   },
   {
    "duration": 33,
    "start_time": "2022-11-02T16:51:43.208Z"
   },
   {
    "duration": 10,
    "start_time": "2022-11-02T16:51:43.242Z"
   },
   {
    "duration": 9,
    "start_time": "2022-11-02T16:51:43.253Z"
   },
   {
    "duration": 56,
    "start_time": "2022-11-02T16:51:43.264Z"
   },
   {
    "duration": 23,
    "start_time": "2022-11-02T16:51:43.322Z"
   },
   {
    "duration": 11,
    "start_time": "2022-11-02T16:51:43.348Z"
   },
   {
    "duration": 76,
    "start_time": "2022-11-02T16:51:43.361Z"
   },
   {
    "duration": 22,
    "start_time": "2022-11-02T16:51:43.438Z"
   },
   {
    "duration": 48,
    "start_time": "2022-11-02T16:51:43.461Z"
   },
   {
    "duration": 42,
    "start_time": "2022-11-02T16:51:43.511Z"
   },
   {
    "duration": 29,
    "start_time": "2022-11-02T16:51:43.555Z"
   },
   {
    "duration": 34,
    "start_time": "2022-11-02T16:51:43.605Z"
   },
   {
    "duration": 26,
    "start_time": "2022-11-02T16:51:43.640Z"
   },
   {
    "duration": 11,
    "start_time": "2022-11-02T16:51:43.668Z"
   },
   {
    "duration": 6,
    "start_time": "2022-11-02T16:51:43.705Z"
   },
   {
    "duration": 103,
    "start_time": "2022-11-02T16:51:43.713Z"
   },
   {
    "duration": 16,
    "start_time": "2022-11-02T16:51:43.817Z"
   },
   {
    "duration": 16,
    "start_time": "2022-11-02T16:51:43.835Z"
   },
   {
    "duration": 54,
    "start_time": "2022-11-02T16:51:43.852Z"
   },
   {
    "duration": 14,
    "start_time": "2022-11-02T16:51:43.908Z"
   },
   {
    "duration": 12,
    "start_time": "2022-11-02T16:51:43.923Z"
   },
   {
    "duration": 32,
    "start_time": "2022-11-02T16:51:43.937Z"
   },
   {
    "duration": 41,
    "start_time": "2022-11-02T16:51:43.970Z"
   },
   {
    "duration": 39,
    "start_time": "2022-11-02T16:51:44.013Z"
   },
   {
    "duration": 26,
    "start_time": "2022-11-02T16:51:44.053Z"
   },
   {
    "duration": 30,
    "start_time": "2022-11-02T16:51:44.081Z"
   },
   {
    "duration": 8,
    "start_time": "2022-11-02T16:51:44.112Z"
   },
   {
    "duration": 9,
    "start_time": "2022-11-02T16:51:44.122Z"
   },
   {
    "duration": 8,
    "start_time": "2022-11-02T16:51:44.133Z"
   },
   {
    "duration": 9,
    "start_time": "2022-11-02T16:51:44.143Z"
   },
   {
    "duration": 9,
    "start_time": "2022-11-02T16:51:44.153Z"
   },
   {
    "duration": 46,
    "start_time": "2022-11-02T16:51:44.163Z"
   },
   {
    "duration": 6,
    "start_time": "2022-11-02T16:51:44.212Z"
   },
   {
    "duration": 198,
    "start_time": "2022-11-02T16:51:44.219Z"
   },
   {
    "duration": 170,
    "start_time": "2022-11-02T16:51:44.419Z"
   },
   {
    "duration": 164,
    "start_time": "2022-11-02T16:51:44.591Z"
   },
   {
    "duration": 246,
    "start_time": "2022-11-02T16:51:44.756Z"
   },
   {
    "duration": 214,
    "start_time": "2022-11-02T16:54:10.053Z"
   },
   {
    "duration": 238,
    "start_time": "2022-11-02T17:01:09.988Z"
   },
   {
    "duration": 218,
    "start_time": "2022-11-02T17:01:41.847Z"
   },
   {
    "duration": 100,
    "start_time": "2022-11-02T17:13:38.256Z"
   },
   {
    "duration": 13,
    "start_time": "2022-11-02T17:13:54.450Z"
   },
   {
    "duration": 128,
    "start_time": "2022-11-02T17:16:17.331Z"
   },
   {
    "duration": 79,
    "start_time": "2022-11-02T17:16:31.723Z"
   },
   {
    "duration": 18,
    "start_time": "2022-11-02T17:18:19.328Z"
   },
   {
    "duration": 16,
    "start_time": "2022-11-02T17:19:04.693Z"
   },
   {
    "duration": 1133,
    "start_time": "2022-11-02T17:27:05.736Z"
   },
   {
    "duration": 374,
    "start_time": "2022-11-02T17:27:06.872Z"
   },
   {
    "duration": 42,
    "start_time": "2022-11-02T17:27:07.247Z"
   },
   {
    "duration": 35,
    "start_time": "2022-11-02T17:27:07.292Z"
   },
   {
    "duration": 27,
    "start_time": "2022-11-02T17:27:07.329Z"
   },
   {
    "duration": 19,
    "start_time": "2022-11-02T17:27:07.357Z"
   },
   {
    "duration": 49,
    "start_time": "2022-11-02T17:27:07.377Z"
   },
   {
    "duration": 50,
    "start_time": "2022-11-02T17:27:07.428Z"
   },
   {
    "duration": 52,
    "start_time": "2022-11-02T17:27:07.481Z"
   },
   {
    "duration": 10,
    "start_time": "2022-11-02T17:27:07.536Z"
   },
   {
    "duration": 8,
    "start_time": "2022-11-02T17:27:07.547Z"
   },
   {
    "duration": 15,
    "start_time": "2022-11-02T17:27:07.557Z"
   },
   {
    "duration": 46,
    "start_time": "2022-11-02T17:27:07.573Z"
   },
   {
    "duration": 10,
    "start_time": "2022-11-02T17:27:07.621Z"
   },
   {
    "duration": 41,
    "start_time": "2022-11-02T17:27:07.633Z"
   },
   {
    "duration": 43,
    "start_time": "2022-11-02T17:27:07.675Z"
   },
   {
    "duration": 27,
    "start_time": "2022-11-02T17:27:07.719Z"
   },
   {
    "duration": 58,
    "start_time": "2022-11-02T17:27:07.748Z"
   },
   {
    "duration": 31,
    "start_time": "2022-11-02T17:27:07.807Z"
   },
   {
    "duration": 36,
    "start_time": "2022-11-02T17:27:07.840Z"
   },
   {
    "duration": 54,
    "start_time": "2022-11-02T17:27:07.878Z"
   },
   {
    "duration": 15,
    "start_time": "2022-11-02T17:27:07.934Z"
   },
   {
    "duration": 18,
    "start_time": "2022-11-02T17:27:07.951Z"
   },
   {
    "duration": 127,
    "start_time": "2022-11-02T17:27:07.970Z"
   },
   {
    "duration": 14,
    "start_time": "2022-11-02T17:27:08.098Z"
   },
   {
    "duration": 29,
    "start_time": "2022-11-02T17:27:08.113Z"
   },
   {
    "duration": 42,
    "start_time": "2022-11-02T17:27:08.144Z"
   },
   {
    "duration": 10,
    "start_time": "2022-11-02T17:27:08.189Z"
   },
   {
    "duration": 11,
    "start_time": "2022-11-02T17:27:08.200Z"
   },
   {
    "duration": 43,
    "start_time": "2022-11-02T17:27:08.213Z"
   },
   {
    "duration": 17,
    "start_time": "2022-11-02T17:27:08.258Z"
   },
   {
    "duration": 43,
    "start_time": "2022-11-02T17:27:08.277Z"
   },
   {
    "duration": 29,
    "start_time": "2022-11-02T17:27:08.322Z"
   },
   {
    "duration": 7,
    "start_time": "2022-11-02T17:27:08.352Z"
   },
   {
    "duration": 7,
    "start_time": "2022-11-02T17:27:08.361Z"
   },
   {
    "duration": 28,
    "start_time": "2022-11-02T17:27:08.369Z"
   },
   {
    "duration": 13,
    "start_time": "2022-11-02T17:27:08.399Z"
   },
   {
    "duration": 17,
    "start_time": "2022-11-02T17:27:08.413Z"
   },
   {
    "duration": 20,
    "start_time": "2022-11-02T17:27:08.432Z"
   },
   {
    "duration": 23,
    "start_time": "2022-11-02T17:27:08.454Z"
   },
   {
    "duration": 19,
    "start_time": "2022-11-02T17:27:08.479Z"
   },
   {
    "duration": 168,
    "start_time": "2022-11-02T17:27:08.499Z"
   },
   {
    "duration": 158,
    "start_time": "2022-11-02T17:27:08.668Z"
   },
   {
    "duration": 165,
    "start_time": "2022-11-02T17:27:08.827Z"
   },
   {
    "duration": 158,
    "start_time": "2022-11-02T17:27:08.993Z"
   },
   {
    "duration": 7,
    "start_time": "2022-11-02T17:27:09.152Z"
   },
   {
    "duration": 18,
    "start_time": "2022-11-02T17:27:09.161Z"
   },
   {
    "duration": 12,
    "start_time": "2022-11-02T17:27:09.181Z"
   },
   {
    "duration": 33,
    "start_time": "2022-11-02T17:27:09.194Z"
   },
   {
    "duration": 8,
    "start_time": "2022-11-02T17:27:09.229Z"
   },
   {
    "duration": 39,
    "start_time": "2022-11-02T17:27:09.239Z"
   },
   {
    "duration": 22,
    "start_time": "2022-11-02T17:27:09.279Z"
   },
   {
    "duration": 7,
    "start_time": "2022-11-02T17:27:09.302Z"
   },
   {
    "duration": 282,
    "start_time": "2022-11-02T17:27:09.311Z"
   },
   {
    "duration": 90,
    "start_time": "2022-11-02T17:50:20.045Z"
   },
   {
    "duration": 1099,
    "start_time": "2022-11-02T17:54:47.904Z"
   },
   {
    "duration": 14,
    "start_time": "2022-11-02T17:55:24.372Z"
   },
   {
    "duration": 11,
    "start_time": "2022-11-02T17:55:58.328Z"
   },
   {
    "duration": 13,
    "start_time": "2022-11-02T17:56:39.043Z"
   },
   {
    "duration": 60,
    "start_time": "2022-11-03T16:36:23.973Z"
   },
   {
    "duration": 48,
    "start_time": "2022-11-03T16:37:02.680Z"
   },
   {
    "duration": 1286,
    "start_time": "2022-11-03T16:37:38.705Z"
   },
   {
    "duration": 1349,
    "start_time": "2022-11-03T16:37:39.994Z"
   },
   {
    "duration": 37,
    "start_time": "2022-11-03T16:37:41.345Z"
   },
   {
    "duration": 28,
    "start_time": "2022-11-03T16:37:41.384Z"
   },
   {
    "duration": 44,
    "start_time": "2022-11-03T16:37:41.414Z"
   },
   {
    "duration": 22,
    "start_time": "2022-11-03T16:37:41.461Z"
   },
   {
    "duration": 26,
    "start_time": "2022-11-03T16:37:41.485Z"
   },
   {
    "duration": 78,
    "start_time": "2022-11-03T16:37:41.513Z"
   },
   {
    "duration": 62,
    "start_time": "2022-11-03T16:37:41.593Z"
   },
   {
    "duration": 15,
    "start_time": "2022-11-03T16:37:41.657Z"
   },
   {
    "duration": 25,
    "start_time": "2022-11-03T16:37:41.676Z"
   },
   {
    "duration": 20,
    "start_time": "2022-11-03T16:37:41.702Z"
   },
   {
    "duration": 47,
    "start_time": "2022-11-03T16:37:41.724Z"
   },
   {
    "duration": 16,
    "start_time": "2022-11-03T16:37:41.776Z"
   },
   {
    "duration": 76,
    "start_time": "2022-11-03T16:37:41.794Z"
   },
   {
    "duration": 22,
    "start_time": "2022-11-03T16:37:41.872Z"
   },
   {
    "duration": 29,
    "start_time": "2022-11-03T16:37:41.896Z"
   },
   {
    "duration": 68,
    "start_time": "2022-11-03T16:37:41.926Z"
   },
   {
    "duration": 30,
    "start_time": "2022-11-03T16:37:41.996Z"
   },
   {
    "duration": 48,
    "start_time": "2022-11-03T16:37:42.028Z"
   },
   {
    "duration": 25,
    "start_time": "2022-11-03T16:37:42.078Z"
   },
   {
    "duration": 12,
    "start_time": "2022-11-03T16:37:42.105Z"
   },
   {
    "duration": 6,
    "start_time": "2022-11-03T16:37:42.118Z"
   },
   {
    "duration": 117,
    "start_time": "2022-11-03T16:37:42.126Z"
   },
   {
    "duration": 20,
    "start_time": "2022-11-03T16:37:42.245Z"
   },
   {
    "duration": 20,
    "start_time": "2022-11-03T16:37:42.267Z"
   },
   {
    "duration": 59,
    "start_time": "2022-11-03T16:37:42.288Z"
   },
   {
    "duration": 13,
    "start_time": "2022-11-03T16:37:42.348Z"
   },
   {
    "duration": 30,
    "start_time": "2022-11-03T16:37:42.362Z"
   },
   {
    "duration": 38,
    "start_time": "2022-11-03T16:37:42.394Z"
   },
   {
    "duration": 15,
    "start_time": "2022-11-03T16:37:42.434Z"
   },
   {
    "duration": 64,
    "start_time": "2022-11-03T16:37:42.450Z"
   },
   {
    "duration": 27,
    "start_time": "2022-11-03T16:37:42.516Z"
   },
   {
    "duration": 7,
    "start_time": "2022-11-03T16:37:42.544Z"
   },
   {
    "duration": 9,
    "start_time": "2022-11-03T16:37:42.554Z"
   },
   {
    "duration": 14,
    "start_time": "2022-11-03T16:37:42.565Z"
   },
   {
    "duration": 11,
    "start_time": "2022-11-03T16:37:42.581Z"
   },
   {
    "duration": 21,
    "start_time": "2022-11-03T16:37:42.594Z"
   },
   {
    "duration": 25,
    "start_time": "2022-11-03T16:37:42.617Z"
   },
   {
    "duration": 31,
    "start_time": "2022-11-03T16:37:42.644Z"
   },
   {
    "duration": 15,
    "start_time": "2022-11-03T16:37:42.680Z"
   },
   {
    "duration": 177,
    "start_time": "2022-11-03T16:37:42.697Z"
   },
   {
    "duration": 196,
    "start_time": "2022-11-03T16:37:42.876Z"
   },
   {
    "duration": 165,
    "start_time": "2022-11-03T16:37:43.074Z"
   },
   {
    "duration": 195,
    "start_time": "2022-11-03T16:37:43.241Z"
   },
   {
    "duration": 258,
    "start_time": "2022-11-03T16:37:43.438Z"
   },
   {
    "duration": 7,
    "start_time": "2022-11-03T16:37:43.698Z"
   },
   {
    "duration": 12,
    "start_time": "2022-11-03T16:37:43.707Z"
   },
   {
    "duration": 9,
    "start_time": "2022-11-03T16:37:43.720Z"
   },
   {
    "duration": 25,
    "start_time": "2022-11-03T16:37:43.731Z"
   },
   {
    "duration": 8,
    "start_time": "2022-11-03T16:37:43.757Z"
   },
   {
    "duration": 8,
    "start_time": "2022-11-03T16:37:43.767Z"
   },
   {
    "duration": 12,
    "start_time": "2022-11-03T16:37:43.776Z"
   },
   {
    "duration": 13,
    "start_time": "2022-11-03T16:37:43.789Z"
   },
   {
    "duration": 235,
    "start_time": "2022-11-03T16:37:43.803Z"
   },
   {
    "duration": 2,
    "start_time": "2022-11-03T16:44:15.924Z"
   },
   {
    "duration": 239,
    "start_time": "2022-11-03T16:51:11.965Z"
   },
   {
    "duration": 215,
    "start_time": "2022-11-03T16:51:56.316Z"
   },
   {
    "duration": 231,
    "start_time": "2022-11-03T16:53:51.849Z"
   },
   {
    "duration": 219,
    "start_time": "2022-11-03T16:55:06.700Z"
   },
   {
    "duration": 320,
    "start_time": "2022-11-03T16:58:42.224Z"
   },
   {
    "duration": 1209,
    "start_time": "2022-11-03T17:01:23.763Z"
   },
   {
    "duration": 434,
    "start_time": "2022-11-03T17:01:24.974Z"
   },
   {
    "duration": 32,
    "start_time": "2022-11-03T17:01:25.409Z"
   },
   {
    "duration": 24,
    "start_time": "2022-11-03T17:01:25.443Z"
   },
   {
    "duration": 22,
    "start_time": "2022-11-03T17:01:25.469Z"
   },
   {
    "duration": 17,
    "start_time": "2022-11-03T17:01:25.493Z"
   },
   {
    "duration": 45,
    "start_time": "2022-11-03T17:01:25.512Z"
   },
   {
    "duration": 50,
    "start_time": "2022-11-03T17:01:25.559Z"
   },
   {
    "duration": 54,
    "start_time": "2022-11-03T17:01:25.611Z"
   },
   {
    "duration": 11,
    "start_time": "2022-11-03T17:01:25.667Z"
   },
   {
    "duration": 10,
    "start_time": "2022-11-03T17:01:25.680Z"
   },
   {
    "duration": 18,
    "start_time": "2022-11-03T17:01:25.691Z"
   },
   {
    "duration": 59,
    "start_time": "2022-11-03T17:01:25.710Z"
   },
   {
    "duration": 13,
    "start_time": "2022-11-03T17:01:25.770Z"
   },
   {
    "duration": 70,
    "start_time": "2022-11-03T17:01:25.785Z"
   },
   {
    "duration": 23,
    "start_time": "2022-11-03T17:01:25.856Z"
   },
   {
    "duration": 29,
    "start_time": "2022-11-03T17:01:25.880Z"
   },
   {
    "duration": 64,
    "start_time": "2022-11-03T17:01:25.910Z"
   },
   {
    "duration": 30,
    "start_time": "2022-11-03T17:01:25.976Z"
   },
   {
    "duration": 51,
    "start_time": "2022-11-03T17:01:26.008Z"
   },
   {
    "duration": 27,
    "start_time": "2022-11-03T17:01:26.060Z"
   },
   {
    "duration": 12,
    "start_time": "2022-11-03T17:01:26.088Z"
   },
   {
    "duration": 12,
    "start_time": "2022-11-03T17:01:26.102Z"
   },
   {
    "duration": 115,
    "start_time": "2022-11-03T17:01:26.115Z"
   },
   {
    "duration": 29,
    "start_time": "2022-11-03T17:01:26.232Z"
   },
   {
    "duration": 16,
    "start_time": "2022-11-03T17:01:26.263Z"
   },
   {
    "duration": 36,
    "start_time": "2022-11-03T17:01:26.280Z"
   },
   {
    "duration": 13,
    "start_time": "2022-11-03T17:01:26.319Z"
   },
   {
    "duration": 12,
    "start_time": "2022-11-03T17:01:26.356Z"
   },
   {
    "duration": 29,
    "start_time": "2022-11-03T17:01:26.369Z"
   },
   {
    "duration": 15,
    "start_time": "2022-11-03T17:01:26.399Z"
   },
   {
    "duration": 63,
    "start_time": "2022-11-03T17:01:26.416Z"
   },
   {
    "duration": 28,
    "start_time": "2022-11-03T17:01:26.480Z"
   },
   {
    "duration": 7,
    "start_time": "2022-11-03T17:01:26.509Z"
   },
   {
    "duration": 16,
    "start_time": "2022-11-03T17:01:26.517Z"
   },
   {
    "duration": 22,
    "start_time": "2022-11-03T17:01:26.535Z"
   },
   {
    "duration": 14,
    "start_time": "2022-11-03T17:01:26.559Z"
   },
   {
    "duration": 11,
    "start_time": "2022-11-03T17:01:26.575Z"
   },
   {
    "duration": 19,
    "start_time": "2022-11-03T17:01:26.588Z"
   },
   {
    "duration": 14,
    "start_time": "2022-11-03T17:01:26.609Z"
   },
   {
    "duration": 11,
    "start_time": "2022-11-03T17:01:26.625Z"
   },
   {
    "duration": 183,
    "start_time": "2022-11-03T17:01:26.638Z"
   },
   {
    "duration": 166,
    "start_time": "2022-11-03T17:01:26.822Z"
   },
   {
    "duration": 181,
    "start_time": "2022-11-03T17:01:26.989Z"
   },
   {
    "duration": 167,
    "start_time": "2022-11-03T17:01:27.172Z"
   },
   {
    "duration": 16,
    "start_time": "2022-11-03T17:01:27.340Z"
   },
   {
    "duration": 9,
    "start_time": "2022-11-03T17:01:27.357Z"
   },
   {
    "duration": 11,
    "start_time": "2022-11-03T17:01:27.367Z"
   },
   {
    "duration": 9,
    "start_time": "2022-11-03T17:01:27.379Z"
   },
   {
    "duration": 9,
    "start_time": "2022-11-03T17:01:27.390Z"
   },
   {
    "duration": 8,
    "start_time": "2022-11-03T17:01:27.401Z"
   },
   {
    "duration": 10,
    "start_time": "2022-11-03T17:01:27.411Z"
   },
   {
    "duration": 32,
    "start_time": "2022-11-03T17:01:27.422Z"
   },
   {
    "duration": 172,
    "start_time": "2022-11-03T17:01:27.456Z"
   },
   {
    "duration": 258,
    "start_time": "2022-11-03T17:01:27.630Z"
   },
   {
    "duration": 183,
    "start_time": "2022-11-03T17:01:27.891Z"
   },
   {
    "duration": 182,
    "start_time": "2022-11-03T17:01:28.076Z"
   },
   {
    "duration": 254,
    "start_time": "2022-11-03T17:01:28.260Z"
   },
   {
    "duration": 235,
    "start_time": "2022-11-03T17:01:28.515Z"
   },
   {
    "duration": 228,
    "start_time": "2022-11-03T17:01:28.754Z"
   },
   {
    "duration": 248,
    "start_time": "2022-11-03T17:01:28.984Z"
   },
   {
    "duration": 45,
    "start_time": "2022-11-08T07:43:42.853Z"
   },
   {
    "duration": 1383,
    "start_time": "2022-11-08T07:45:01.814Z"
   },
   {
    "duration": 812,
    "start_time": "2022-11-08T07:45:03.199Z"
   },
   {
    "duration": 34,
    "start_time": "2022-11-08T07:45:04.013Z"
   },
   {
    "duration": 27,
    "start_time": "2022-11-08T07:45:04.048Z"
   },
   {
    "duration": 24,
    "start_time": "2022-11-08T07:45:04.077Z"
   },
   {
    "duration": 17,
    "start_time": "2022-11-08T07:45:04.103Z"
   },
   {
    "duration": 29,
    "start_time": "2022-11-08T07:45:04.121Z"
   },
   {
    "duration": 53,
    "start_time": "2022-11-08T07:45:04.151Z"
   },
   {
    "duration": 31,
    "start_time": "2022-11-08T07:45:04.206Z"
   },
   {
    "duration": 9,
    "start_time": "2022-11-08T07:45:04.239Z"
   },
   {
    "duration": 9,
    "start_time": "2022-11-08T07:45:04.249Z"
   },
   {
    "duration": 41,
    "start_time": "2022-11-08T07:45:04.259Z"
   },
   {
    "duration": 22,
    "start_time": "2022-11-08T07:45:04.302Z"
   },
   {
    "duration": 12,
    "start_time": "2022-11-08T07:45:04.327Z"
   },
   {
    "duration": 71,
    "start_time": "2022-11-08T07:45:04.341Z"
   },
   {
    "duration": 21,
    "start_time": "2022-11-08T07:45:04.413Z"
   },
   {
    "duration": 26,
    "start_time": "2022-11-08T07:45:04.436Z"
   },
   {
    "duration": 58,
    "start_time": "2022-11-08T07:45:04.464Z"
   },
   {
    "duration": 28,
    "start_time": "2022-11-08T07:45:04.523Z"
   },
   {
    "duration": 57,
    "start_time": "2022-11-08T07:45:04.553Z"
   },
   {
    "duration": 24,
    "start_time": "2022-11-08T07:45:04.612Z"
   },
   {
    "duration": 12,
    "start_time": "2022-11-08T07:45:04.637Z"
   },
   {
    "duration": 5,
    "start_time": "2022-11-08T07:45:04.651Z"
   },
   {
    "duration": 160,
    "start_time": "2022-11-08T07:45:04.657Z"
   },
   {
    "duration": 20,
    "start_time": "2022-11-08T07:45:04.819Z"
   },
   {
    "duration": 27,
    "start_time": "2022-11-08T07:45:04.841Z"
   },
   {
    "duration": 45,
    "start_time": "2022-11-08T07:45:04.870Z"
   },
   {
    "duration": 14,
    "start_time": "2022-11-08T07:45:04.917Z"
   },
   {
    "duration": 17,
    "start_time": "2022-11-08T07:45:04.932Z"
   },
   {
    "duration": 67,
    "start_time": "2022-11-08T07:45:04.951Z"
   },
   {
    "duration": 16,
    "start_time": "2022-11-08T07:45:05.020Z"
   },
   {
    "duration": 59,
    "start_time": "2022-11-08T07:45:05.037Z"
   },
   {
    "duration": 41,
    "start_time": "2022-11-08T07:45:05.098Z"
   },
   {
    "duration": 8,
    "start_time": "2022-11-08T07:45:05.142Z"
   },
   {
    "duration": 23,
    "start_time": "2022-11-08T07:45:05.152Z"
   },
   {
    "duration": 16,
    "start_time": "2022-11-08T07:45:05.176Z"
   },
   {
    "duration": 13,
    "start_time": "2022-11-08T07:45:05.193Z"
   },
   {
    "duration": 20,
    "start_time": "2022-11-08T07:45:05.207Z"
   },
   {
    "duration": 33,
    "start_time": "2022-11-08T07:45:05.228Z"
   },
   {
    "duration": 31,
    "start_time": "2022-11-08T07:45:05.262Z"
   },
   {
    "duration": 8,
    "start_time": "2022-11-08T07:45:05.298Z"
   },
   {
    "duration": 172,
    "start_time": "2022-11-08T07:45:05.307Z"
   },
   {
    "duration": 166,
    "start_time": "2022-11-08T07:45:05.481Z"
   },
   {
    "duration": 179,
    "start_time": "2022-11-08T07:45:05.649Z"
   },
   {
    "duration": 168,
    "start_time": "2022-11-08T07:45:05.830Z"
   },
   {
    "duration": 6,
    "start_time": "2022-11-08T07:45:06.000Z"
   },
   {
    "duration": 7,
    "start_time": "2022-11-08T07:45:06.008Z"
   },
   {
    "duration": 11,
    "start_time": "2022-11-08T07:45:06.017Z"
   },
   {
    "duration": 20,
    "start_time": "2022-11-08T07:45:06.030Z"
   },
   {
    "duration": 11,
    "start_time": "2022-11-08T07:45:06.051Z"
   },
   {
    "duration": 12,
    "start_time": "2022-11-08T07:45:06.064Z"
   },
   {
    "duration": 11,
    "start_time": "2022-11-08T07:45:06.078Z"
   },
   {
    "duration": 9,
    "start_time": "2022-11-08T07:45:06.091Z"
   },
   {
    "duration": 171,
    "start_time": "2022-11-08T07:45:06.102Z"
   },
   {
    "duration": 241,
    "start_time": "2022-11-08T07:45:06.275Z"
   },
   {
    "duration": 158,
    "start_time": "2022-11-08T07:45:06.517Z"
   },
   {
    "duration": 161,
    "start_time": "2022-11-08T07:45:06.676Z"
   },
   {
    "duration": 231,
    "start_time": "2022-11-08T07:45:06.839Z"
   },
   {
    "duration": 257,
    "start_time": "2022-11-08T07:45:07.071Z"
   },
   {
    "duration": 287,
    "start_time": "2022-11-08T07:45:07.330Z"
   },
   {
    "duration": 233,
    "start_time": "2022-11-08T07:45:07.619Z"
   },
   {
    "duration": 6,
    "start_time": "2022-11-08T07:45:07.854Z"
   },
   {
    "duration": 95,
    "start_time": "2022-11-08T07:49:14.861Z"
   },
   {
    "duration": 5,
    "start_time": "2022-11-08T07:50:29.216Z"
   },
   {
    "duration": 89,
    "start_time": "2022-11-08T07:53:27.194Z"
   },
   {
    "duration": 5,
    "start_time": "2022-11-08T07:53:52.383Z"
   },
   {
    "duration": 65,
    "start_time": "2022-11-08T08:14:41.725Z"
   },
   {
    "duration": 1115,
    "start_time": "2022-11-08T08:17:01.476Z"
   },
   {
    "duration": 1065,
    "start_time": "2022-11-08T08:18:12.158Z"
   },
   {
    "duration": 2663,
    "start_time": "2022-11-08T08:20:01.916Z"
   },
   {
    "duration": 1151,
    "start_time": "2022-11-08T08:20:27.728Z"
   },
   {
    "duration": 399,
    "start_time": "2022-11-08T08:20:28.881Z"
   },
   {
    "duration": 35,
    "start_time": "2022-11-08T08:20:29.282Z"
   },
   {
    "duration": 25,
    "start_time": "2022-11-08T08:20:29.319Z"
   },
   {
    "duration": 41,
    "start_time": "2022-11-08T08:20:29.346Z"
   },
   {
    "duration": 14,
    "start_time": "2022-11-08T08:20:29.389Z"
   },
   {
    "duration": 26,
    "start_time": "2022-11-08T08:20:29.405Z"
   },
   {
    "duration": 75,
    "start_time": "2022-11-08T08:20:29.433Z"
   },
   {
    "duration": 32,
    "start_time": "2022-11-08T08:20:29.510Z"
   },
   {
    "duration": 9,
    "start_time": "2022-11-08T08:20:29.544Z"
   },
   {
    "duration": 33,
    "start_time": "2022-11-08T08:20:29.554Z"
   },
   {
    "duration": 16,
    "start_time": "2022-11-08T08:20:29.589Z"
   },
   {
    "duration": 22,
    "start_time": "2022-11-08T08:20:29.607Z"
   },
   {
    "duration": 13,
    "start_time": "2022-11-08T08:20:29.631Z"
   },
   {
    "duration": 70,
    "start_time": "2022-11-08T08:20:29.645Z"
   },
   {
    "duration": 25,
    "start_time": "2022-11-08T08:20:29.716Z"
   },
   {
    "duration": 45,
    "start_time": "2022-11-08T08:20:29.743Z"
   },
   {
    "duration": 41,
    "start_time": "2022-11-08T08:20:29.790Z"
   },
   {
    "duration": 28,
    "start_time": "2022-11-08T08:20:29.833Z"
   },
   {
    "duration": 34,
    "start_time": "2022-11-08T08:20:29.885Z"
   },
   {
    "duration": 25,
    "start_time": "2022-11-08T08:20:29.920Z"
   },
   {
    "duration": 38,
    "start_time": "2022-11-08T08:20:29.947Z"
   },
   {
    "duration": 5,
    "start_time": "2022-11-08T08:20:29.987Z"
   },
   {
    "duration": 110,
    "start_time": "2022-11-08T08:20:29.994Z"
   },
   {
    "duration": 17,
    "start_time": "2022-11-08T08:20:30.106Z"
   },
   {
    "duration": 16,
    "start_time": "2022-11-08T08:20:30.125Z"
   },
   {
    "duration": 54,
    "start_time": "2022-11-08T08:20:30.143Z"
   },
   {
    "duration": 16,
    "start_time": "2022-11-08T08:20:30.202Z"
   },
   {
    "duration": 29,
    "start_time": "2022-11-08T08:20:30.220Z"
   },
   {
    "duration": 42,
    "start_time": "2022-11-08T08:20:30.251Z"
   },
   {
    "duration": 13,
    "start_time": "2022-11-08T08:20:30.295Z"
   },
   {
    "duration": 51,
    "start_time": "2022-11-08T08:20:30.310Z"
   },
   {
    "duration": 41,
    "start_time": "2022-11-08T08:20:30.362Z"
   },
   {
    "duration": 22,
    "start_time": "2022-11-08T08:20:30.404Z"
   },
   {
    "duration": 12,
    "start_time": "2022-11-08T08:20:30.428Z"
   },
   {
    "duration": 23,
    "start_time": "2022-11-08T08:20:30.441Z"
   },
   {
    "duration": 25,
    "start_time": "2022-11-08T08:20:30.466Z"
   },
   {
    "duration": 29,
    "start_time": "2022-11-08T08:20:30.493Z"
   },
   {
    "duration": 51,
    "start_time": "2022-11-08T08:20:30.524Z"
   },
   {
    "duration": 37,
    "start_time": "2022-11-08T08:20:30.577Z"
   },
   {
    "duration": 35,
    "start_time": "2022-11-08T08:20:30.616Z"
   },
   {
    "duration": 260,
    "start_time": "2022-11-08T08:20:30.653Z"
   },
   {
    "duration": 177,
    "start_time": "2022-11-08T08:20:30.915Z"
   },
   {
    "duration": 196,
    "start_time": "2022-11-08T08:20:31.094Z"
   },
   {
    "duration": 213,
    "start_time": "2022-11-08T08:20:31.292Z"
   },
   {
    "duration": 7,
    "start_time": "2022-11-08T08:20:31.507Z"
   },
   {
    "duration": 40,
    "start_time": "2022-11-08T08:20:31.516Z"
   },
   {
    "duration": 37,
    "start_time": "2022-11-08T08:20:31.558Z"
   },
   {
    "duration": 30,
    "start_time": "2022-11-08T08:20:31.598Z"
   },
   {
    "duration": 10,
    "start_time": "2022-11-08T08:20:31.629Z"
   },
   {
    "duration": 20,
    "start_time": "2022-11-08T08:20:31.640Z"
   },
   {
    "duration": 23,
    "start_time": "2022-11-08T08:20:31.661Z"
   },
   {
    "duration": 12,
    "start_time": "2022-11-08T08:20:31.686Z"
   },
   {
    "duration": 175,
    "start_time": "2022-11-08T08:20:31.700Z"
   },
   {
    "duration": 246,
    "start_time": "2022-11-08T08:20:31.876Z"
   },
   {
    "duration": 168,
    "start_time": "2022-11-08T08:20:32.123Z"
   },
   {
    "duration": 174,
    "start_time": "2022-11-08T08:20:32.293Z"
   },
   {
    "duration": 233,
    "start_time": "2022-11-08T08:20:32.470Z"
   },
   {
    "duration": 225,
    "start_time": "2022-11-08T08:20:32.705Z"
   },
   {
    "duration": 225,
    "start_time": "2022-11-08T08:20:32.932Z"
   },
   {
    "duration": 231,
    "start_time": "2022-11-08T08:20:33.159Z"
   },
   {
    "duration": 6,
    "start_time": "2022-11-08T08:20:33.391Z"
   },
   {
    "duration": 6,
    "start_time": "2022-11-08T08:20:33.399Z"
   },
   {
    "duration": 82,
    "start_time": "2022-11-08T08:20:33.406Z"
   },
   {
    "duration": 0,
    "start_time": "2022-11-08T08:20:33.490Z"
   },
   {
    "duration": 1291,
    "start_time": "2022-11-08T08:20:50.272Z"
   },
   {
    "duration": 12,
    "start_time": "2022-11-08T08:21:26.873Z"
   },
   {
    "duration": 1203,
    "start_time": "2022-11-08T08:22:02.749Z"
   },
   {
    "duration": 11,
    "start_time": "2022-11-08T08:22:49.184Z"
   },
   {
    "duration": 6,
    "start_time": "2022-11-08T08:23:02.656Z"
   },
   {
    "duration": 6,
    "start_time": "2022-11-08T08:24:48.205Z"
   },
   {
    "duration": 6,
    "start_time": "2022-11-08T08:25:44.873Z"
   },
   {
    "duration": 6,
    "start_time": "2022-11-08T08:26:21.833Z"
   },
   {
    "duration": 1110,
    "start_time": "2022-11-08T08:27:39.438Z"
   },
   {
    "duration": 375,
    "start_time": "2022-11-08T08:27:40.550Z"
   },
   {
    "duration": 32,
    "start_time": "2022-11-08T08:27:40.927Z"
   },
   {
    "duration": 25,
    "start_time": "2022-11-08T08:27:40.961Z"
   },
   {
    "duration": 22,
    "start_time": "2022-11-08T08:27:40.987Z"
   },
   {
    "duration": 26,
    "start_time": "2022-11-08T08:27:41.011Z"
   },
   {
    "duration": 22,
    "start_time": "2022-11-08T08:27:41.038Z"
   },
   {
    "duration": 57,
    "start_time": "2022-11-08T08:27:41.061Z"
   },
   {
    "duration": 33,
    "start_time": "2022-11-08T08:27:41.119Z"
   },
   {
    "duration": 9,
    "start_time": "2022-11-08T08:27:41.154Z"
   },
   {
    "duration": 28,
    "start_time": "2022-11-08T08:27:41.164Z"
   },
   {
    "duration": 18,
    "start_time": "2022-11-08T08:27:41.194Z"
   },
   {
    "duration": 21,
    "start_time": "2022-11-08T08:27:41.214Z"
   },
   {
    "duration": 11,
    "start_time": "2022-11-08T08:27:41.237Z"
   },
   {
    "duration": 67,
    "start_time": "2022-11-08T08:27:41.249Z"
   },
   {
    "duration": 22,
    "start_time": "2022-11-08T08:27:41.317Z"
   },
   {
    "duration": 27,
    "start_time": "2022-11-08T08:27:41.340Z"
   },
   {
    "duration": 41,
    "start_time": "2022-11-08T08:27:41.386Z"
   },
   {
    "duration": 27,
    "start_time": "2022-11-08T08:27:41.429Z"
   },
   {
    "duration": 53,
    "start_time": "2022-11-08T08:27:41.457Z"
   },
   {
    "duration": 26,
    "start_time": "2022-11-08T08:27:41.512Z"
   },
   {
    "duration": 13,
    "start_time": "2022-11-08T08:27:41.540Z"
   },
   {
    "duration": 6,
    "start_time": "2022-11-08T08:27:41.554Z"
   },
   {
    "duration": 100,
    "start_time": "2022-11-08T08:27:41.585Z"
   },
   {
    "duration": 14,
    "start_time": "2022-11-08T08:27:41.687Z"
   },
   {
    "duration": 15,
    "start_time": "2022-11-08T08:27:41.703Z"
   },
   {
    "duration": 31,
    "start_time": "2022-11-08T08:27:41.720Z"
   },
   {
    "duration": 31,
    "start_time": "2022-11-08T08:27:41.756Z"
   },
   {
    "duration": 12,
    "start_time": "2022-11-08T08:27:41.789Z"
   },
   {
    "duration": 37,
    "start_time": "2022-11-08T08:27:41.802Z"
   },
   {
    "duration": 14,
    "start_time": "2022-11-08T08:27:41.840Z"
   },
   {
    "duration": 69,
    "start_time": "2022-11-08T08:27:41.856Z"
   },
   {
    "duration": 31,
    "start_time": "2022-11-08T08:27:41.927Z"
   },
   {
    "duration": 31,
    "start_time": "2022-11-08T08:27:41.959Z"
   },
   {
    "duration": 7,
    "start_time": "2022-11-08T08:27:41.991Z"
   },
   {
    "duration": 9,
    "start_time": "2022-11-08T08:27:41.999Z"
   },
   {
    "duration": 9,
    "start_time": "2022-11-08T08:27:42.010Z"
   },
   {
    "duration": 26,
    "start_time": "2022-11-08T08:27:42.020Z"
   },
   {
    "duration": 8,
    "start_time": "2022-11-08T08:27:42.048Z"
   },
   {
    "duration": 9,
    "start_time": "2022-11-08T08:27:42.057Z"
   },
   {
    "duration": 22,
    "start_time": "2022-11-08T08:27:42.067Z"
   },
   {
    "duration": 154,
    "start_time": "2022-11-08T08:27:42.091Z"
   },
   {
    "duration": 154,
    "start_time": "2022-11-08T08:27:42.247Z"
   },
   {
    "duration": 190,
    "start_time": "2022-11-08T08:27:42.402Z"
   },
   {
    "duration": 161,
    "start_time": "2022-11-08T08:27:42.594Z"
   },
   {
    "duration": 7,
    "start_time": "2022-11-08T08:27:42.757Z"
   },
   {
    "duration": 7,
    "start_time": "2022-11-08T08:27:42.765Z"
   },
   {
    "duration": 6,
    "start_time": "2022-11-08T08:27:42.785Z"
   },
   {
    "duration": 9,
    "start_time": "2022-11-08T08:27:42.792Z"
   },
   {
    "duration": 10,
    "start_time": "2022-11-08T08:27:42.802Z"
   },
   {
    "duration": 24,
    "start_time": "2022-11-08T08:27:42.813Z"
   },
   {
    "duration": 11,
    "start_time": "2022-11-08T08:27:42.839Z"
   },
   {
    "duration": 11,
    "start_time": "2022-11-08T08:27:42.852Z"
   },
   {
    "duration": 164,
    "start_time": "2022-11-08T08:27:42.864Z"
   },
   {
    "duration": 264,
    "start_time": "2022-11-08T08:27:43.030Z"
   },
   {
    "duration": 155,
    "start_time": "2022-11-08T08:27:43.296Z"
   },
   {
    "duration": 175,
    "start_time": "2022-11-08T08:27:43.453Z"
   },
   {
    "duration": 227,
    "start_time": "2022-11-08T08:27:43.630Z"
   },
   {
    "duration": 213,
    "start_time": "2022-11-08T08:27:43.858Z"
   },
   {
    "duration": 221,
    "start_time": "2022-11-08T08:27:44.072Z"
   },
   {
    "duration": 220,
    "start_time": "2022-11-08T08:27:44.295Z"
   },
   {
    "duration": 4,
    "start_time": "2022-11-08T08:27:44.517Z"
   },
   {
    "duration": 5,
    "start_time": "2022-11-08T08:27:44.523Z"
   },
   {
    "duration": 11,
    "start_time": "2022-11-08T08:27:44.530Z"
   },
   {
    "duration": 8,
    "start_time": "2022-11-08T08:27:44.542Z"
   },
   {
    "duration": 9,
    "start_time": "2022-11-08T08:27:44.551Z"
   },
   {
    "duration": 1422,
    "start_time": "2022-11-08T08:52:46.104Z"
   },
   {
    "duration": 848,
    "start_time": "2022-11-08T08:52:47.528Z"
   },
   {
    "duration": 32,
    "start_time": "2022-11-08T08:52:48.615Z"
   },
   {
    "duration": 24,
    "start_time": "2022-11-08T08:52:51.194Z"
   },
   {
    "duration": 26,
    "start_time": "2022-11-08T08:53:02.860Z"
   },
   {
    "duration": 15,
    "start_time": "2022-11-08T08:53:04.500Z"
   },
   {
    "duration": 18,
    "start_time": "2022-11-08T08:53:05.146Z"
   },
   {
    "duration": 36,
    "start_time": "2022-11-08T08:53:58.272Z"
   },
   {
    "duration": 31,
    "start_time": "2022-11-08T08:54:33.785Z"
   },
   {
    "duration": 10,
    "start_time": "2022-11-08T08:54:36.011Z"
   },
   {
    "duration": 9,
    "start_time": "2022-11-08T08:57:50.349Z"
   },
   {
    "duration": 14,
    "start_time": "2022-11-08T08:57:57.803Z"
   },
   {
    "duration": 21,
    "start_time": "2022-11-08T08:59:07.211Z"
   },
   {
    "duration": 10,
    "start_time": "2022-11-08T08:59:19.806Z"
   },
   {
    "duration": 41,
    "start_time": "2022-11-08T09:00:18.016Z"
   },
   {
    "duration": 29,
    "start_time": "2022-11-08T09:00:34.602Z"
   },
   {
    "duration": 29,
    "start_time": "2022-11-08T09:00:35.165Z"
   },
   {
    "duration": 43,
    "start_time": "2022-11-08T09:00:46.720Z"
   },
   {
    "duration": 30,
    "start_time": "2022-11-08T09:00:48.805Z"
   },
   {
    "duration": 28,
    "start_time": "2022-11-08T09:00:49.461Z"
   },
   {
    "duration": 26,
    "start_time": "2022-11-08T09:00:59.249Z"
   },
   {
    "duration": 13,
    "start_time": "2022-11-08T09:01:00.194Z"
   },
   {
    "duration": 5,
    "start_time": "2022-11-08T09:04:35.312Z"
   },
   {
    "duration": 84,
    "start_time": "2022-11-08T09:04:40.158Z"
   },
   {
    "duration": 14,
    "start_time": "2022-11-08T09:04:48.925Z"
   },
   {
    "duration": 13,
    "start_time": "2022-11-08T09:04:49.813Z"
   },
   {
    "duration": 26,
    "start_time": "2022-11-08T09:04:50.898Z"
   },
   {
    "duration": 13,
    "start_time": "2022-11-08T09:04:54.439Z"
   },
   {
    "duration": 12,
    "start_time": "2022-11-08T09:04:54.789Z"
   },
   {
    "duration": 30,
    "start_time": "2022-11-08T09:04:55.035Z"
   },
   {
    "duration": 14,
    "start_time": "2022-11-08T09:05:08.993Z"
   },
   {
    "duration": 37,
    "start_time": "2022-11-08T09:05:10.016Z"
   },
   {
    "duration": 26,
    "start_time": "2022-11-08T09:05:15.015Z"
   },
   {
    "duration": 6,
    "start_time": "2022-11-08T09:08:38.139Z"
   },
   {
    "duration": 5,
    "start_time": "2022-11-08T09:08:39.422Z"
   },
   {
    "duration": 6,
    "start_time": "2022-11-08T09:08:40.262Z"
   },
   {
    "duration": 6,
    "start_time": "2022-11-08T09:08:41.050Z"
   },
   {
    "duration": 6,
    "start_time": "2022-11-08T09:08:42.607Z"
   },
   {
    "duration": 7,
    "start_time": "2022-11-08T09:08:42.826Z"
   },
   {
    "duration": 8,
    "start_time": "2022-11-08T09:08:43.039Z"
   },
   {
    "duration": 6,
    "start_time": "2022-11-08T09:08:43.266Z"
   },
   {
    "duration": 155,
    "start_time": "2022-11-08T09:09:59.449Z"
   },
   {
    "duration": 170,
    "start_time": "2022-11-08T09:10:00.659Z"
   },
   {
    "duration": 168,
    "start_time": "2022-11-08T09:10:02.789Z"
   },
   {
    "duration": 7,
    "start_time": "2022-11-08T09:10:46.561Z"
   },
   {
    "duration": 5,
    "start_time": "2022-11-08T09:10:46.870Z"
   },
   {
    "duration": 7,
    "start_time": "2022-11-08T09:10:47.075Z"
   },
   {
    "duration": 9,
    "start_time": "2022-11-08T09:10:47.243Z"
   },
   {
    "duration": 7,
    "start_time": "2022-11-08T09:10:47.410Z"
   },
   {
    "duration": 7,
    "start_time": "2022-11-08T09:10:47.558Z"
   },
   {
    "duration": 8,
    "start_time": "2022-11-08T09:10:47.760Z"
   },
   {
    "duration": 7,
    "start_time": "2022-11-08T09:10:47.967Z"
   },
   {
    "duration": 144,
    "start_time": "2022-11-08T09:10:50.745Z"
   },
   {
    "duration": 162,
    "start_time": "2022-11-08T09:10:50.944Z"
   },
   {
    "duration": 150,
    "start_time": "2022-11-08T09:10:51.159Z"
   },
   {
    "duration": 222,
    "start_time": "2022-11-08T09:10:51.374Z"
   },
   {
    "duration": 221,
    "start_time": "2022-11-08T09:11:48.240Z"
   },
   {
    "duration": 208,
    "start_time": "2022-11-08T09:11:49.404Z"
   },
   {
    "duration": 206,
    "start_time": "2022-11-08T09:11:49.889Z"
   },
   {
    "duration": 214,
    "start_time": "2022-11-08T09:11:50.656Z"
   },
   {
    "duration": 5,
    "start_time": "2022-11-08T09:15:25.817Z"
   },
   {
    "duration": 5,
    "start_time": "2022-11-08T09:15:37.568Z"
   },
   {
    "duration": 52,
    "start_time": "2022-11-09T14:47:10.489Z"
   },
   {
    "duration": 53,
    "start_time": "2022-11-13T11:45:30.474Z"
   },
   {
    "duration": 1367,
    "start_time": "2022-11-13T12:04:51.112Z"
   },
   {
    "duration": 1649,
    "start_time": "2022-11-13T12:04:52.481Z"
   },
   {
    "duration": 34,
    "start_time": "2022-11-13T12:04:54.132Z"
   },
   {
    "duration": 33,
    "start_time": "2022-11-13T12:04:54.167Z"
   },
   {
    "duration": 37,
    "start_time": "2022-11-13T12:04:54.202Z"
   },
   {
    "duration": 13,
    "start_time": "2022-11-13T12:04:54.241Z"
   },
   {
    "duration": 33,
    "start_time": "2022-11-13T12:04:54.256Z"
   },
   {
    "duration": 5,
    "start_time": "2022-11-13T12:04:54.291Z"
   },
   {
    "duration": 13,
    "start_time": "2022-11-13T12:04:54.298Z"
   },
   {
    "duration": 59,
    "start_time": "2022-11-13T12:04:54.312Z"
   },
   {
    "duration": 62,
    "start_time": "2022-11-13T12:04:54.372Z"
   },
   {
    "duration": 103,
    "start_time": "2022-11-13T12:04:54.436Z"
   },
   {
    "duration": 34,
    "start_time": "2022-11-13T12:04:54.540Z"
   },
   {
    "duration": 27,
    "start_time": "2022-11-13T12:04:54.577Z"
   },
   {
    "duration": 28,
    "start_time": "2022-11-13T12:04:54.606Z"
   },
   {
    "duration": 20,
    "start_time": "2022-11-13T12:04:54.636Z"
   },
   {
    "duration": 23,
    "start_time": "2022-11-13T12:04:54.658Z"
   },
   {
    "duration": 20,
    "start_time": "2022-11-13T12:04:54.682Z"
   },
   {
    "duration": 51,
    "start_time": "2022-11-13T12:04:54.704Z"
   },
   {
    "duration": 21,
    "start_time": "2022-11-13T12:04:54.756Z"
   },
   {
    "duration": 28,
    "start_time": "2022-11-13T12:04:54.779Z"
   },
   {
    "duration": 63,
    "start_time": "2022-11-13T12:04:54.808Z"
   },
   {
    "duration": 34,
    "start_time": "2022-11-13T12:04:54.873Z"
   },
   {
    "duration": 72,
    "start_time": "2022-11-13T12:04:54.909Z"
   },
   {
    "duration": 29,
    "start_time": "2022-11-13T12:04:54.983Z"
   },
   {
    "duration": 21,
    "start_time": "2022-11-13T12:04:55.014Z"
   },
   {
    "duration": 8,
    "start_time": "2022-11-13T12:04:55.037Z"
   },
   {
    "duration": 125,
    "start_time": "2022-11-13T12:04:55.047Z"
   },
   {
    "duration": 14,
    "start_time": "2022-11-13T12:04:55.173Z"
   },
   {
    "duration": 15,
    "start_time": "2022-11-13T12:04:55.189Z"
   },
   {
    "duration": 44,
    "start_time": "2022-11-13T12:04:55.206Z"
   },
   {
    "duration": 11,
    "start_time": "2022-11-13T12:04:55.252Z"
   },
   {
    "duration": 10,
    "start_time": "2022-11-13T12:04:55.264Z"
   },
   {
    "duration": 32,
    "start_time": "2022-11-13T12:04:55.276Z"
   },
   {
    "duration": 30,
    "start_time": "2022-11-13T12:04:55.310Z"
   },
   {
    "duration": 38,
    "start_time": "2022-11-13T12:04:55.342Z"
   },
   {
    "duration": 53,
    "start_time": "2022-11-13T12:04:55.381Z"
   },
   {
    "duration": 7,
    "start_time": "2022-11-13T12:04:55.435Z"
   },
   {
    "duration": 14,
    "start_time": "2022-11-13T12:04:55.443Z"
   },
   {
    "duration": 11,
    "start_time": "2022-11-13T12:04:55.458Z"
   },
   {
    "duration": 10,
    "start_time": "2022-11-13T12:04:55.473Z"
   },
   {
    "duration": 17,
    "start_time": "2022-11-13T12:04:55.484Z"
   },
   {
    "duration": 7,
    "start_time": "2022-11-13T12:04:55.503Z"
   },
   {
    "duration": 13,
    "start_time": "2022-11-13T12:04:55.512Z"
   },
   {
    "duration": 8,
    "start_time": "2022-11-13T12:04:55.526Z"
   },
   {
    "duration": 159,
    "start_time": "2022-11-13T12:04:55.535Z"
   },
   {
    "duration": 165,
    "start_time": "2022-11-13T12:04:55.696Z"
   },
   {
    "duration": 192,
    "start_time": "2022-11-13T12:04:55.863Z"
   },
   {
    "duration": 177,
    "start_time": "2022-11-13T12:04:56.057Z"
   },
   {
    "duration": 7,
    "start_time": "2022-11-13T12:04:56.236Z"
   },
   {
    "duration": 12,
    "start_time": "2022-11-13T12:04:56.245Z"
   },
   {
    "duration": 12,
    "start_time": "2022-11-13T12:04:56.259Z"
   },
   {
    "duration": 8,
    "start_time": "2022-11-13T12:04:56.272Z"
   },
   {
    "duration": 31,
    "start_time": "2022-11-13T12:04:56.282Z"
   },
   {
    "duration": 39,
    "start_time": "2022-11-13T12:04:56.315Z"
   },
   {
    "duration": 34,
    "start_time": "2022-11-13T12:04:56.356Z"
   },
   {
    "duration": 31,
    "start_time": "2022-11-13T12:04:56.391Z"
   },
   {
    "duration": 159,
    "start_time": "2022-11-13T12:04:56.423Z"
   },
   {
    "duration": 241,
    "start_time": "2022-11-13T12:04:56.584Z"
   },
   {
    "duration": 149,
    "start_time": "2022-11-13T12:04:56.829Z"
   },
   {
    "duration": 153,
    "start_time": "2022-11-13T12:04:56.980Z"
   },
   {
    "duration": 205,
    "start_time": "2022-11-13T12:04:57.134Z"
   },
   {
    "duration": 195,
    "start_time": "2022-11-13T12:04:57.341Z"
   },
   {
    "duration": 210,
    "start_time": "2022-11-13T12:04:57.538Z"
   },
   {
    "duration": 223,
    "start_time": "2022-11-13T12:04:57.750Z"
   },
   {
    "duration": 6,
    "start_time": "2022-11-13T12:04:57.975Z"
   },
   {
    "duration": 10,
    "start_time": "2022-11-13T12:04:57.983Z"
   },
   {
    "duration": 7,
    "start_time": "2022-11-13T12:04:57.995Z"
   },
   {
    "duration": 28,
    "start_time": "2022-11-13T12:04:58.004Z"
   },
   {
    "duration": 6,
    "start_time": "2022-11-13T12:04:58.034Z"
   },
   {
    "duration": 31,
    "start_time": "2022-11-13T12:28:41.410Z"
   },
   {
    "duration": 50,
    "start_time": "2022-11-13T12:32:02.085Z"
   },
   {
    "duration": 7,
    "start_time": "2022-11-13T12:41:38.461Z"
   },
   {
    "duration": 11,
    "start_time": "2022-11-13T12:42:06.160Z"
   },
   {
    "duration": 6,
    "start_time": "2022-11-13T12:43:30.111Z"
   },
   {
    "duration": 59,
    "start_time": "2022-11-15T16:29:55.875Z"
   },
   {
    "duration": 1397,
    "start_time": "2022-11-15T16:30:09.396Z"
   },
   {
    "duration": 893,
    "start_time": "2022-11-15T16:30:10.796Z"
   },
   {
    "duration": 42,
    "start_time": "2022-11-15T16:30:11.691Z"
   },
   {
    "duration": 28,
    "start_time": "2022-11-15T16:30:11.735Z"
   },
   {
    "duration": 22,
    "start_time": "2022-11-15T16:30:11.765Z"
   },
   {
    "duration": 16,
    "start_time": "2022-11-15T16:30:11.788Z"
   },
   {
    "duration": 39,
    "start_time": "2022-11-15T16:30:11.806Z"
   },
   {
    "duration": 11,
    "start_time": "2022-11-15T16:30:11.847Z"
   },
   {
    "duration": 8,
    "start_time": "2022-11-15T16:30:11.860Z"
   },
   {
    "duration": 80,
    "start_time": "2022-11-15T16:30:11.870Z"
   },
   {
    "duration": 84,
    "start_time": "2022-11-15T16:30:11.952Z"
   },
   {
    "duration": 117,
    "start_time": "2022-11-15T16:30:12.038Z"
   },
   {
    "duration": 39,
    "start_time": "2022-11-15T16:30:12.156Z"
   },
   {
    "duration": 46,
    "start_time": "2022-11-15T16:30:12.198Z"
   },
   {
    "duration": 7,
    "start_time": "2022-11-15T16:30:12.246Z"
   },
   {
    "duration": 113,
    "start_time": "2022-11-15T16:30:12.255Z"
   },
   {
    "duration": 0,
    "start_time": "2022-11-15T16:30:12.370Z"
   },
   {
    "duration": 0,
    "start_time": "2022-11-15T16:30:12.371Z"
   },
   {
    "duration": 0,
    "start_time": "2022-11-15T16:30:12.372Z"
   },
   {
    "duration": 0,
    "start_time": "2022-11-15T16:30:12.373Z"
   },
   {
    "duration": 0,
    "start_time": "2022-11-15T16:30:12.374Z"
   },
   {
    "duration": 0,
    "start_time": "2022-11-15T16:30:12.376Z"
   },
   {
    "duration": 0,
    "start_time": "2022-11-15T16:30:12.378Z"
   },
   {
    "duration": 0,
    "start_time": "2022-11-15T16:30:12.379Z"
   },
   {
    "duration": 0,
    "start_time": "2022-11-15T16:30:12.380Z"
   },
   {
    "duration": 0,
    "start_time": "2022-11-15T16:30:12.381Z"
   },
   {
    "duration": 0,
    "start_time": "2022-11-15T16:30:12.382Z"
   },
   {
    "duration": 0,
    "start_time": "2022-11-15T16:30:12.383Z"
   },
   {
    "duration": 0,
    "start_time": "2022-11-15T16:30:12.384Z"
   },
   {
    "duration": 0,
    "start_time": "2022-11-15T16:30:12.385Z"
   },
   {
    "duration": 0,
    "start_time": "2022-11-15T16:30:12.386Z"
   },
   {
    "duration": 0,
    "start_time": "2022-11-15T16:30:12.387Z"
   },
   {
    "duration": 0,
    "start_time": "2022-11-15T16:30:12.388Z"
   },
   {
    "duration": 0,
    "start_time": "2022-11-15T16:30:12.389Z"
   },
   {
    "duration": 0,
    "start_time": "2022-11-15T16:30:12.390Z"
   },
   {
    "duration": 0,
    "start_time": "2022-11-15T16:30:12.422Z"
   },
   {
    "duration": 0,
    "start_time": "2022-11-15T16:30:12.423Z"
   },
   {
    "duration": 0,
    "start_time": "2022-11-15T16:30:12.424Z"
   },
   {
    "duration": 0,
    "start_time": "2022-11-15T16:30:12.425Z"
   },
   {
    "duration": 0,
    "start_time": "2022-11-15T16:30:12.427Z"
   },
   {
    "duration": 0,
    "start_time": "2022-11-15T16:30:12.427Z"
   },
   {
    "duration": 0,
    "start_time": "2022-11-15T16:30:12.428Z"
   },
   {
    "duration": 0,
    "start_time": "2022-11-15T16:30:12.429Z"
   },
   {
    "duration": 0,
    "start_time": "2022-11-15T16:30:12.431Z"
   },
   {
    "duration": 1,
    "start_time": "2022-11-15T16:30:12.431Z"
   },
   {
    "duration": 0,
    "start_time": "2022-11-15T16:30:12.433Z"
   },
   {
    "duration": 0,
    "start_time": "2022-11-15T16:30:12.434Z"
   },
   {
    "duration": 0,
    "start_time": "2022-11-15T16:30:12.435Z"
   },
   {
    "duration": 0,
    "start_time": "2022-11-15T16:30:12.436Z"
   },
   {
    "duration": 0,
    "start_time": "2022-11-15T16:30:12.437Z"
   },
   {
    "duration": 0,
    "start_time": "2022-11-15T16:30:12.438Z"
   },
   {
    "duration": 0,
    "start_time": "2022-11-15T16:30:12.439Z"
   },
   {
    "duration": 0,
    "start_time": "2022-11-15T16:30:12.440Z"
   },
   {
    "duration": 0,
    "start_time": "2022-11-15T16:30:12.442Z"
   },
   {
    "duration": 0,
    "start_time": "2022-11-15T16:30:12.443Z"
   },
   {
    "duration": 0,
    "start_time": "2022-11-15T16:30:12.444Z"
   },
   {
    "duration": 0,
    "start_time": "2022-11-15T16:30:12.445Z"
   },
   {
    "duration": 0,
    "start_time": "2022-11-15T16:30:12.446Z"
   },
   {
    "duration": 0,
    "start_time": "2022-11-15T16:30:12.448Z"
   },
   {
    "duration": 0,
    "start_time": "2022-11-15T16:30:12.449Z"
   },
   {
    "duration": 0,
    "start_time": "2022-11-15T16:30:12.450Z"
   },
   {
    "duration": 0,
    "start_time": "2022-11-15T16:30:12.451Z"
   },
   {
    "duration": 0,
    "start_time": "2022-11-15T16:30:12.453Z"
   },
   {
    "duration": 0,
    "start_time": "2022-11-15T16:30:12.454Z"
   },
   {
    "duration": 0,
    "start_time": "2022-11-15T16:30:12.455Z"
   },
   {
    "duration": 0,
    "start_time": "2022-11-15T16:30:12.456Z"
   },
   {
    "duration": 0,
    "start_time": "2022-11-15T16:30:12.457Z"
   },
   {
    "duration": 0,
    "start_time": "2022-11-15T16:30:12.458Z"
   },
   {
    "duration": 0,
    "start_time": "2022-11-15T16:30:12.460Z"
   },
   {
    "duration": 0,
    "start_time": "2022-11-15T16:30:12.461Z"
   },
   {
    "duration": 0,
    "start_time": "2022-11-15T16:30:12.462Z"
   },
   {
    "duration": 0,
    "start_time": "2022-11-15T16:30:12.463Z"
   },
   {
    "duration": 0,
    "start_time": "2022-11-15T16:30:12.464Z"
   },
   {
    "duration": 18,
    "start_time": "2022-11-15T16:31:03.289Z"
   },
   {
    "duration": 12,
    "start_time": "2022-11-15T16:34:02.867Z"
   },
   {
    "duration": 80,
    "start_time": "2022-11-15T16:34:18.972Z"
   },
   {
    "duration": 73,
    "start_time": "2022-11-15T16:36:50.860Z"
   },
   {
    "duration": 1186,
    "start_time": "2022-11-15T16:37:30.972Z"
   },
   {
    "duration": 435,
    "start_time": "2022-11-15T16:37:32.160Z"
   },
   {
    "duration": 39,
    "start_time": "2022-11-15T16:37:32.598Z"
   },
   {
    "duration": 29,
    "start_time": "2022-11-15T16:37:32.638Z"
   },
   {
    "duration": 25,
    "start_time": "2022-11-15T16:37:32.669Z"
   },
   {
    "duration": 19,
    "start_time": "2022-11-15T16:37:32.722Z"
   },
   {
    "duration": 26,
    "start_time": "2022-11-15T16:37:32.743Z"
   },
   {
    "duration": 9,
    "start_time": "2022-11-15T16:37:32.771Z"
   },
   {
    "duration": 6,
    "start_time": "2022-11-15T16:37:32.781Z"
   },
   {
    "duration": 83,
    "start_time": "2022-11-15T16:37:32.788Z"
   },
   {
    "duration": 93,
    "start_time": "2022-11-15T16:37:32.873Z"
   },
   {
    "duration": 127,
    "start_time": "2022-11-15T16:37:32.968Z"
   },
   {
    "duration": 54,
    "start_time": "2022-11-15T16:37:33.097Z"
   },
   {
    "duration": 32,
    "start_time": "2022-11-15T16:37:33.155Z"
   },
   {
    "duration": 50,
    "start_time": "2022-11-15T16:37:33.189Z"
   },
   {
    "duration": 19,
    "start_time": "2022-11-15T16:37:33.242Z"
   },
   {
    "duration": 36,
    "start_time": "2022-11-15T16:37:33.263Z"
   },
   {
    "duration": 13,
    "start_time": "2022-11-15T16:37:33.301Z"
   },
   {
    "duration": 45,
    "start_time": "2022-11-15T16:37:33.336Z"
   },
   {
    "duration": 24,
    "start_time": "2022-11-15T16:37:33.382Z"
   },
   {
    "duration": 41,
    "start_time": "2022-11-15T16:37:33.407Z"
   },
   {
    "duration": 44,
    "start_time": "2022-11-15T16:37:33.450Z"
   },
   {
    "duration": 44,
    "start_time": "2022-11-15T16:37:33.496Z"
   },
   {
    "duration": 36,
    "start_time": "2022-11-15T16:37:33.541Z"
   },
   {
    "duration": 61,
    "start_time": "2022-11-15T16:37:33.578Z"
   },
   {
    "duration": 13,
    "start_time": "2022-11-15T16:37:33.641Z"
   },
   {
    "duration": 198,
    "start_time": "2022-11-15T16:37:33.656Z"
   },
   {
    "duration": 0,
    "start_time": "2022-11-15T16:37:33.857Z"
   },
   {
    "duration": 0,
    "start_time": "2022-11-15T16:37:33.858Z"
   },
   {
    "duration": 0,
    "start_time": "2022-11-15T16:37:33.859Z"
   },
   {
    "duration": 0,
    "start_time": "2022-11-15T16:37:33.860Z"
   },
   {
    "duration": 0,
    "start_time": "2022-11-15T16:37:33.861Z"
   },
   {
    "duration": 0,
    "start_time": "2022-11-15T16:37:33.863Z"
   },
   {
    "duration": 0,
    "start_time": "2022-11-15T16:37:33.864Z"
   },
   {
    "duration": 0,
    "start_time": "2022-11-15T16:37:33.865Z"
   },
   {
    "duration": 0,
    "start_time": "2022-11-15T16:37:33.866Z"
   },
   {
    "duration": 0,
    "start_time": "2022-11-15T16:37:33.867Z"
   },
   {
    "duration": 0,
    "start_time": "2022-11-15T16:37:33.867Z"
   },
   {
    "duration": 0,
    "start_time": "2022-11-15T16:37:33.868Z"
   },
   {
    "duration": 0,
    "start_time": "2022-11-15T16:37:33.869Z"
   },
   {
    "duration": 0,
    "start_time": "2022-11-15T16:37:33.871Z"
   },
   {
    "duration": 0,
    "start_time": "2022-11-15T16:37:33.871Z"
   },
   {
    "duration": 0,
    "start_time": "2022-11-15T16:37:33.872Z"
   },
   {
    "duration": 0,
    "start_time": "2022-11-15T16:37:33.874Z"
   },
   {
    "duration": 0,
    "start_time": "2022-11-15T16:37:33.875Z"
   },
   {
    "duration": 0,
    "start_time": "2022-11-15T16:37:33.876Z"
   },
   {
    "duration": 0,
    "start_time": "2022-11-15T16:37:33.877Z"
   },
   {
    "duration": 0,
    "start_time": "2022-11-15T16:37:33.878Z"
   },
   {
    "duration": 0,
    "start_time": "2022-11-15T16:37:33.879Z"
   },
   {
    "duration": 0,
    "start_time": "2022-11-15T16:37:33.879Z"
   },
   {
    "duration": 0,
    "start_time": "2022-11-15T16:37:33.881Z"
   },
   {
    "duration": 0,
    "start_time": "2022-11-15T16:37:33.881Z"
   },
   {
    "duration": 0,
    "start_time": "2022-11-15T16:37:33.882Z"
   },
   {
    "duration": 0,
    "start_time": "2022-11-15T16:37:33.884Z"
   },
   {
    "duration": 0,
    "start_time": "2022-11-15T16:37:33.885Z"
   },
   {
    "duration": 0,
    "start_time": "2022-11-15T16:37:33.886Z"
   },
   {
    "duration": 0,
    "start_time": "2022-11-15T16:37:33.887Z"
   },
   {
    "duration": 0,
    "start_time": "2022-11-15T16:37:33.888Z"
   },
   {
    "duration": 0,
    "start_time": "2022-11-15T16:37:33.889Z"
   },
   {
    "duration": 0,
    "start_time": "2022-11-15T16:37:33.890Z"
   },
   {
    "duration": 0,
    "start_time": "2022-11-15T16:37:33.891Z"
   },
   {
    "duration": 0,
    "start_time": "2022-11-15T16:37:33.922Z"
   },
   {
    "duration": 0,
    "start_time": "2022-11-15T16:37:33.923Z"
   },
   {
    "duration": 0,
    "start_time": "2022-11-15T16:37:33.925Z"
   },
   {
    "duration": 0,
    "start_time": "2022-11-15T16:37:33.927Z"
   },
   {
    "duration": 0,
    "start_time": "2022-11-15T16:37:33.928Z"
   },
   {
    "duration": 0,
    "start_time": "2022-11-15T16:37:33.928Z"
   },
   {
    "duration": 0,
    "start_time": "2022-11-15T16:37:33.929Z"
   },
   {
    "duration": 0,
    "start_time": "2022-11-15T16:37:33.930Z"
   },
   {
    "duration": 0,
    "start_time": "2022-11-15T16:37:33.930Z"
   },
   {
    "duration": 0,
    "start_time": "2022-11-15T16:37:33.931Z"
   },
   {
    "duration": 0,
    "start_time": "2022-11-15T16:37:33.932Z"
   },
   {
    "duration": 0,
    "start_time": "2022-11-15T16:37:33.932Z"
   },
   {
    "duration": 1162,
    "start_time": "2022-11-15T16:38:18.385Z"
   },
   {
    "duration": 428,
    "start_time": "2022-11-15T16:38:19.549Z"
   },
   {
    "duration": 33,
    "start_time": "2022-11-15T16:38:19.979Z"
   },
   {
    "duration": 34,
    "start_time": "2022-11-15T16:38:20.013Z"
   },
   {
    "duration": 47,
    "start_time": "2022-11-15T16:38:20.049Z"
   },
   {
    "duration": 41,
    "start_time": "2022-11-15T16:38:20.097Z"
   },
   {
    "duration": 31,
    "start_time": "2022-11-15T16:38:20.140Z"
   },
   {
    "duration": 25,
    "start_time": "2022-11-15T16:38:20.173Z"
   },
   {
    "duration": 17,
    "start_time": "2022-11-15T16:38:20.200Z"
   },
   {
    "duration": 81,
    "start_time": "2022-11-15T16:38:20.219Z"
   },
   {
    "duration": 88,
    "start_time": "2022-11-15T16:38:20.301Z"
   },
   {
    "duration": 123,
    "start_time": "2022-11-15T16:38:20.391Z"
   },
   {
    "duration": 45,
    "start_time": "2022-11-15T16:38:20.516Z"
   },
   {
    "duration": 28,
    "start_time": "2022-11-15T16:38:20.564Z"
   },
   {
    "duration": 45,
    "start_time": "2022-11-15T16:38:20.594Z"
   },
   {
    "duration": 19,
    "start_time": "2022-11-15T16:38:20.641Z"
   },
   {
    "duration": 29,
    "start_time": "2022-11-15T16:38:20.662Z"
   },
   {
    "duration": 19,
    "start_time": "2022-11-15T16:38:20.693Z"
   },
   {
    "duration": 81,
    "start_time": "2022-11-15T16:38:20.714Z"
   },
   {
    "duration": 43,
    "start_time": "2022-11-15T16:38:20.797Z"
   },
   {
    "duration": 49,
    "start_time": "2022-11-15T16:38:20.841Z"
   },
   {
    "duration": 57,
    "start_time": "2022-11-15T16:38:20.892Z"
   },
   {
    "duration": 29,
    "start_time": "2022-11-15T16:38:20.951Z"
   },
   {
    "duration": 46,
    "start_time": "2022-11-15T16:38:20.982Z"
   },
   {
    "duration": 31,
    "start_time": "2022-11-15T16:38:21.039Z"
   },
   {
    "duration": 12,
    "start_time": "2022-11-15T16:38:21.071Z"
   },
   {
    "duration": 17,
    "start_time": "2022-11-15T16:38:21.085Z"
   },
   {
    "duration": 29,
    "start_time": "2022-11-15T16:38:21.103Z"
   },
   {
    "duration": 17,
    "start_time": "2022-11-15T16:38:21.134Z"
   },
   {
    "duration": 114,
    "start_time": "2022-11-15T16:38:21.153Z"
   },
   {
    "duration": 11,
    "start_time": "2022-11-15T16:38:21.269Z"
   },
   {
    "duration": 57,
    "start_time": "2022-11-15T16:38:21.281Z"
   },
   {
    "duration": 42,
    "start_time": "2022-11-15T16:38:21.340Z"
   },
   {
    "duration": 43,
    "start_time": "2022-11-15T16:38:21.383Z"
   },
   {
    "duration": 31,
    "start_time": "2022-11-15T16:38:21.434Z"
   },
   {
    "duration": 75,
    "start_time": "2022-11-15T16:38:21.466Z"
   },
   {
    "duration": 12,
    "start_time": "2022-11-15T16:38:21.543Z"
   },
   {
    "duration": 90,
    "start_time": "2022-11-15T16:38:21.557Z"
   },
   {
    "duration": 31,
    "start_time": "2022-11-15T16:38:21.649Z"
   },
   {
    "duration": 10,
    "start_time": "2022-11-15T16:38:21.682Z"
   },
   {
    "duration": 11,
    "start_time": "2022-11-15T16:38:21.697Z"
   },
   {
    "duration": 29,
    "start_time": "2022-11-15T16:38:21.721Z"
   },
   {
    "duration": 19,
    "start_time": "2022-11-15T16:38:21.752Z"
   },
   {
    "duration": 24,
    "start_time": "2022-11-15T16:38:21.772Z"
   },
   {
    "duration": 33,
    "start_time": "2022-11-15T16:38:21.798Z"
   },
   {
    "duration": 27,
    "start_time": "2022-11-15T16:38:21.837Z"
   },
   {
    "duration": 16,
    "start_time": "2022-11-15T16:38:21.866Z"
   },
   {
    "duration": 183,
    "start_time": "2022-11-15T16:38:21.884Z"
   },
   {
    "duration": 174,
    "start_time": "2022-11-15T16:38:22.068Z"
   },
   {
    "duration": 179,
    "start_time": "2022-11-15T16:38:22.243Z"
   },
   {
    "duration": 189,
    "start_time": "2022-11-15T16:38:22.423Z"
   },
   {
    "duration": 8,
    "start_time": "2022-11-15T16:38:22.614Z"
   },
   {
    "duration": 34,
    "start_time": "2022-11-15T16:38:22.631Z"
   },
   {
    "duration": 31,
    "start_time": "2022-11-15T16:38:22.666Z"
   },
   {
    "duration": 22,
    "start_time": "2022-11-15T16:38:22.698Z"
   },
   {
    "duration": 24,
    "start_time": "2022-11-15T16:38:22.725Z"
   },
   {
    "duration": 31,
    "start_time": "2022-11-15T16:38:22.750Z"
   },
   {
    "duration": 23,
    "start_time": "2022-11-15T16:38:22.783Z"
   },
   {
    "duration": 27,
    "start_time": "2022-11-15T16:38:22.808Z"
   },
   {
    "duration": 200,
    "start_time": "2022-11-15T16:38:22.837Z"
   },
   {
    "duration": 178,
    "start_time": "2022-11-15T16:38:23.039Z"
   },
   {
    "duration": 273,
    "start_time": "2022-11-15T16:38:23.218Z"
   },
   {
    "duration": 191,
    "start_time": "2022-11-15T16:38:23.493Z"
   },
   {
    "duration": 265,
    "start_time": "2022-11-15T16:38:23.686Z"
   },
   {
    "duration": 232,
    "start_time": "2022-11-15T16:38:23.953Z"
   },
   {
    "duration": 250,
    "start_time": "2022-11-15T16:38:24.187Z"
   },
   {
    "duration": 311,
    "start_time": "2022-11-15T16:38:24.440Z"
   },
   {
    "duration": 8,
    "start_time": "2022-11-15T16:38:24.753Z"
   },
   {
    "duration": 12,
    "start_time": "2022-11-15T16:38:24.762Z"
   },
   {
    "duration": 13,
    "start_time": "2022-11-15T16:38:24.776Z"
   },
   {
    "duration": 13,
    "start_time": "2022-11-15T16:38:24.791Z"
   },
   {
    "duration": 10,
    "start_time": "2022-11-15T16:38:24.822Z"
   },
   {
    "duration": 33,
    "start_time": "2022-11-15T16:42:19.912Z"
   },
   {
    "duration": 14,
    "start_time": "2022-11-15T16:42:30.612Z"
   },
   {
    "duration": 6,
    "start_time": "2022-11-15T16:42:40.751Z"
   },
   {
    "duration": 9,
    "start_time": "2022-11-15T16:42:45.816Z"
   },
   {
    "duration": 5,
    "start_time": "2022-11-15T16:46:38.218Z"
   },
   {
    "duration": 106,
    "start_time": "2022-11-15T16:47:34.222Z"
   },
   {
    "duration": 5,
    "start_time": "2022-11-15T16:48:07.074Z"
   },
   {
    "duration": 6,
    "start_time": "2022-11-15T16:49:44.750Z"
   },
   {
    "duration": 6,
    "start_time": "2022-11-15T16:49:50.184Z"
   },
   {
    "duration": 6,
    "start_time": "2022-11-15T16:50:15.510Z"
   },
   {
    "duration": 6,
    "start_time": "2022-11-15T16:50:19.861Z"
   },
   {
    "duration": 28,
    "start_time": "2022-11-15T17:05:50.975Z"
   },
   {
    "duration": 28,
    "start_time": "2022-11-15T17:09:20.529Z"
   },
   {
    "duration": 26,
    "start_time": "2022-11-15T17:11:07.280Z"
   },
   {
    "duration": 6,
    "start_time": "2022-11-15T17:29:47.911Z"
   },
   {
    "duration": 29,
    "start_time": "2022-11-15T17:34:54.425Z"
   },
   {
    "duration": 1416,
    "start_time": "2022-11-15T17:35:39.201Z"
   },
   {
    "duration": 1193,
    "start_time": "2022-11-15T17:37:28.540Z"
   },
   {
    "duration": 420,
    "start_time": "2022-11-15T17:37:29.735Z"
   },
   {
    "duration": 37,
    "start_time": "2022-11-15T17:37:30.157Z"
   },
   {
    "duration": 34,
    "start_time": "2022-11-15T17:37:30.195Z"
   },
   {
    "duration": 34,
    "start_time": "2022-11-15T17:37:30.232Z"
   },
   {
    "duration": 19,
    "start_time": "2022-11-15T17:37:30.267Z"
   },
   {
    "duration": 51,
    "start_time": "2022-11-15T17:37:30.288Z"
   },
   {
    "duration": 18,
    "start_time": "2022-11-15T17:37:30.341Z"
   },
   {
    "duration": 14,
    "start_time": "2022-11-15T17:37:30.360Z"
   },
   {
    "duration": 71,
    "start_time": "2022-11-15T17:37:30.376Z"
   },
   {
    "duration": 89,
    "start_time": "2022-11-15T17:37:30.448Z"
   },
   {
    "duration": 127,
    "start_time": "2022-11-15T17:37:30.538Z"
   },
   {
    "duration": 40,
    "start_time": "2022-11-15T17:37:30.667Z"
   },
   {
    "duration": 31,
    "start_time": "2022-11-15T17:37:30.724Z"
   },
   {
    "duration": 10,
    "start_time": "2022-11-15T17:37:30.756Z"
   },
   {
    "duration": 25,
    "start_time": "2022-11-15T17:37:30.768Z"
   },
   {
    "duration": 47,
    "start_time": "2022-11-15T17:37:30.795Z"
   },
   {
    "duration": 52,
    "start_time": "2022-11-15T17:37:30.844Z"
   },
   {
    "duration": 95,
    "start_time": "2022-11-15T17:37:30.898Z"
   },
   {
    "duration": 29,
    "start_time": "2022-11-15T17:37:30.995Z"
   },
   {
    "duration": 54,
    "start_time": "2022-11-15T17:37:31.026Z"
   },
   {
    "duration": 50,
    "start_time": "2022-11-15T17:37:31.082Z"
   },
   {
    "duration": 36,
    "start_time": "2022-11-15T17:37:31.134Z"
   },
   {
    "duration": 52,
    "start_time": "2022-11-15T17:37:31.172Z"
   },
   {
    "duration": 34,
    "start_time": "2022-11-15T17:37:31.225Z"
   },
   {
    "duration": 13,
    "start_time": "2022-11-15T17:37:31.260Z"
   },
   {
    "duration": 22,
    "start_time": "2022-11-15T17:37:31.275Z"
   },
   {
    "duration": 35,
    "start_time": "2022-11-15T17:37:31.298Z"
   },
   {
    "duration": 30,
    "start_time": "2022-11-15T17:37:31.335Z"
   },
   {
    "duration": 5,
    "start_time": "2022-11-15T17:37:31.367Z"
   },
   {
    "duration": 126,
    "start_time": "2022-11-15T17:37:31.374Z"
   },
   {
    "duration": 12,
    "start_time": "2022-11-15T17:37:31.501Z"
   },
   {
    "duration": 27,
    "start_time": "2022-11-15T17:37:31.515Z"
   },
   {
    "duration": 37,
    "start_time": "2022-11-15T17:37:31.544Z"
   },
   {
    "duration": 16,
    "start_time": "2022-11-15T17:37:31.583Z"
   },
   {
    "duration": 35,
    "start_time": "2022-11-15T17:37:31.601Z"
   },
   {
    "duration": 49,
    "start_time": "2022-11-15T17:37:31.638Z"
   },
   {
    "duration": 12,
    "start_time": "2022-11-15T17:37:31.689Z"
   },
   {
    "duration": 57,
    "start_time": "2022-11-15T17:37:31.703Z"
   },
   {
    "duration": 63,
    "start_time": "2022-11-15T17:37:31.761Z"
   },
   {
    "duration": 8,
    "start_time": "2022-11-15T17:37:31.829Z"
   },
   {
    "duration": 19,
    "start_time": "2022-11-15T17:37:31.839Z"
   },
   {
    "duration": 22,
    "start_time": "2022-11-15T17:37:31.860Z"
   },
   {
    "duration": 13,
    "start_time": "2022-11-15T17:37:31.884Z"
   },
   {
    "duration": 17,
    "start_time": "2022-11-15T17:37:31.899Z"
   },
   {
    "duration": 9,
    "start_time": "2022-11-15T17:37:31.918Z"
   },
   {
    "duration": 11,
    "start_time": "2022-11-15T17:37:31.929Z"
   },
   {
    "duration": 22,
    "start_time": "2022-11-15T17:37:31.942Z"
   },
   {
    "duration": 171,
    "start_time": "2022-11-15T17:37:31.966Z"
   },
   {
    "duration": 170,
    "start_time": "2022-11-15T17:37:32.138Z"
   },
   {
    "duration": 192,
    "start_time": "2022-11-15T17:37:32.310Z"
   },
   {
    "duration": 168,
    "start_time": "2022-11-15T17:37:32.504Z"
   },
   {
    "duration": 7,
    "start_time": "2022-11-15T17:37:32.674Z"
   },
   {
    "duration": 8,
    "start_time": "2022-11-15T17:37:32.682Z"
   },
   {
    "duration": 14,
    "start_time": "2022-11-15T17:37:32.692Z"
   },
   {
    "duration": 21,
    "start_time": "2022-11-15T17:37:32.707Z"
   },
   {
    "duration": 8,
    "start_time": "2022-11-15T17:37:32.729Z"
   },
   {
    "duration": 8,
    "start_time": "2022-11-15T17:37:32.739Z"
   },
   {
    "duration": 9,
    "start_time": "2022-11-15T17:37:32.749Z"
   },
   {
    "duration": 11,
    "start_time": "2022-11-15T17:37:32.760Z"
   },
   {
    "duration": 200,
    "start_time": "2022-11-15T17:37:32.773Z"
   },
   {
    "duration": 181,
    "start_time": "2022-11-15T17:37:32.974Z"
   },
   {
    "duration": 235,
    "start_time": "2022-11-15T17:37:33.157Z"
   },
   {
    "duration": 191,
    "start_time": "2022-11-15T17:37:33.394Z"
   },
   {
    "duration": 257,
    "start_time": "2022-11-15T17:37:33.587Z"
   },
   {
    "duration": 259,
    "start_time": "2022-11-15T17:37:33.846Z"
   },
   {
    "duration": 286,
    "start_time": "2022-11-15T17:37:34.107Z"
   },
   {
    "duration": 256,
    "start_time": "2022-11-15T17:37:34.395Z"
   },
   {
    "duration": 5,
    "start_time": "2022-11-15T17:37:34.653Z"
   },
   {
    "duration": 7,
    "start_time": "2022-11-15T17:37:34.660Z"
   },
   {
    "duration": 13,
    "start_time": "2022-11-15T17:37:34.669Z"
   },
   {
    "duration": 109,
    "start_time": "2022-11-15T18:13:32.139Z"
   },
   {
    "duration": 197,
    "start_time": "2022-11-15T18:14:08.026Z"
   },
   {
    "duration": 4,
    "start_time": "2022-11-15T18:20:05.311Z"
   },
   {
    "duration": 109,
    "start_time": "2022-11-15T18:24:12.444Z"
   },
   {
    "duration": 130,
    "start_time": "2022-11-15T18:24:47.557Z"
   },
   {
    "duration": 94,
    "start_time": "2022-11-15T18:25:08.755Z"
   },
   {
    "duration": 152,
    "start_time": "2022-11-15T18:25:15.171Z"
   },
   {
    "duration": 103,
    "start_time": "2022-11-15T18:38:40.356Z"
   },
   {
    "duration": 101,
    "start_time": "2022-11-15T18:39:19.308Z"
   },
   {
    "duration": 156,
    "start_time": "2022-11-15T18:39:26.762Z"
   },
   {
    "duration": 1075,
    "start_time": "2022-11-15T18:41:09.254Z"
   },
   {
    "duration": 383,
    "start_time": "2022-11-15T18:41:10.331Z"
   },
   {
    "duration": 32,
    "start_time": "2022-11-15T18:41:10.715Z"
   },
   {
    "duration": 24,
    "start_time": "2022-11-15T18:41:10.748Z"
   },
   {
    "duration": 20,
    "start_time": "2022-11-15T18:41:10.774Z"
   },
   {
    "duration": 34,
    "start_time": "2022-11-15T18:41:10.796Z"
   },
   {
    "duration": 19,
    "start_time": "2022-11-15T18:41:10.831Z"
   },
   {
    "duration": 6,
    "start_time": "2022-11-15T18:41:10.851Z"
   },
   {
    "duration": 5,
    "start_time": "2022-11-15T18:41:10.859Z"
   },
   {
    "duration": 83,
    "start_time": "2022-11-15T18:41:10.866Z"
   },
   {
    "duration": 87,
    "start_time": "2022-11-15T18:41:10.951Z"
   },
   {
    "duration": 114,
    "start_time": "2022-11-15T18:41:11.040Z"
   },
   {
    "duration": 119,
    "start_time": "2022-11-15T18:41:11.156Z"
   },
   {
    "duration": 167,
    "start_time": "2022-11-15T18:41:11.279Z"
   },
   {
    "duration": 113,
    "start_time": "2022-11-15T18:41:11.447Z"
   },
   {
    "duration": 189,
    "start_time": "2022-11-15T18:41:11.562Z"
   },
   {
    "duration": 39,
    "start_time": "2022-11-15T18:41:11.753Z"
   },
   {
    "duration": 47,
    "start_time": "2022-11-15T18:41:11.794Z"
   },
   {
    "duration": 9,
    "start_time": "2022-11-15T18:41:11.843Z"
   },
   {
    "duration": 22,
    "start_time": "2022-11-15T18:41:11.854Z"
   },
   {
    "duration": 45,
    "start_time": "2022-11-15T18:41:11.877Z"
   },
   {
    "duration": 12,
    "start_time": "2022-11-15T18:41:11.924Z"
   },
   {
    "duration": 57,
    "start_time": "2022-11-15T18:41:11.939Z"
   },
   {
    "duration": 32,
    "start_time": "2022-11-15T18:41:11.997Z"
   },
   {
    "duration": 29,
    "start_time": "2022-11-15T18:41:12.030Z"
   },
   {
    "duration": 42,
    "start_time": "2022-11-15T18:41:12.060Z"
   },
   {
    "duration": 40,
    "start_time": "2022-11-15T18:41:12.104Z"
   },
   {
    "duration": 31,
    "start_time": "2022-11-15T18:41:12.146Z"
   },
   {
    "duration": 47,
    "start_time": "2022-11-15T18:41:12.179Z"
   },
   {
    "duration": 10,
    "start_time": "2022-11-15T18:41:12.228Z"
   },
   {
    "duration": 5,
    "start_time": "2022-11-15T18:41:12.240Z"
   },
   {
    "duration": 8,
    "start_time": "2022-11-15T18:41:12.246Z"
   },
   {
    "duration": 36,
    "start_time": "2022-11-15T18:41:12.256Z"
   },
   {
    "duration": 5,
    "start_time": "2022-11-15T18:41:12.294Z"
   },
   {
    "duration": 86,
    "start_time": "2022-11-15T18:41:12.321Z"
   },
   {
    "duration": 24,
    "start_time": "2022-11-15T18:41:12.409Z"
   },
   {
    "duration": 25,
    "start_time": "2022-11-15T18:41:12.435Z"
   },
   {
    "duration": 31,
    "start_time": "2022-11-15T18:41:12.461Z"
   },
   {
    "duration": 12,
    "start_time": "2022-11-15T18:41:12.494Z"
   },
   {
    "duration": 11,
    "start_time": "2022-11-15T18:41:12.523Z"
   },
   {
    "duration": 38,
    "start_time": "2022-11-15T18:41:12.538Z"
   },
   {
    "duration": 13,
    "start_time": "2022-11-15T18:41:12.578Z"
   },
   {
    "duration": 61,
    "start_time": "2022-11-15T18:41:12.592Z"
   },
   {
    "duration": 29,
    "start_time": "2022-11-15T18:41:12.655Z"
   },
   {
    "duration": 24,
    "start_time": "2022-11-15T18:41:12.685Z"
   },
   {
    "duration": 12,
    "start_time": "2022-11-15T18:41:12.711Z"
   },
   {
    "duration": 16,
    "start_time": "2022-11-15T18:41:12.725Z"
   },
   {
    "duration": 9,
    "start_time": "2022-11-15T18:41:12.742Z"
   },
   {
    "duration": 15,
    "start_time": "2022-11-15T18:41:12.753Z"
   },
   {
    "duration": 10,
    "start_time": "2022-11-15T18:41:12.769Z"
   },
   {
    "duration": 7,
    "start_time": "2022-11-15T18:41:12.781Z"
   },
   {
    "duration": 7,
    "start_time": "2022-11-15T18:41:12.790Z"
   },
   {
    "duration": 179,
    "start_time": "2022-11-15T18:41:12.798Z"
   },
   {
    "duration": 230,
    "start_time": "2022-11-15T18:41:12.979Z"
   },
   {
    "duration": 180,
    "start_time": "2022-11-15T18:41:13.211Z"
   },
   {
    "duration": 172,
    "start_time": "2022-11-15T18:41:13.392Z"
   },
   {
    "duration": 7,
    "start_time": "2022-11-15T18:41:13.565Z"
   },
   {
    "duration": 9,
    "start_time": "2022-11-15T18:41:13.574Z"
   },
   {
    "duration": 11,
    "start_time": "2022-11-15T18:41:13.585Z"
   },
   {
    "duration": 7,
    "start_time": "2022-11-15T18:41:13.598Z"
   },
   {
    "duration": 11,
    "start_time": "2022-11-15T18:41:13.623Z"
   },
   {
    "duration": 10,
    "start_time": "2022-11-15T18:41:13.636Z"
   },
   {
    "duration": 9,
    "start_time": "2022-11-15T18:41:13.648Z"
   },
   {
    "duration": 10,
    "start_time": "2022-11-15T18:41:13.659Z"
   },
   {
    "duration": 181,
    "start_time": "2022-11-15T18:41:13.671Z"
   },
   {
    "duration": 182,
    "start_time": "2022-11-15T18:41:13.854Z"
   },
   {
    "duration": 211,
    "start_time": "2022-11-15T18:41:14.039Z"
   },
   {
    "duration": 189,
    "start_time": "2022-11-15T18:41:14.252Z"
   },
   {
    "duration": 258,
    "start_time": "2022-11-15T18:41:14.444Z"
   },
   {
    "duration": 235,
    "start_time": "2022-11-15T18:41:14.704Z"
   },
   {
    "duration": 331,
    "start_time": "2022-11-15T18:41:14.941Z"
   },
   {
    "duration": 234,
    "start_time": "2022-11-15T18:41:15.273Z"
   },
   {
    "duration": 5,
    "start_time": "2022-11-15T18:41:15.509Z"
   },
   {
    "duration": 5,
    "start_time": "2022-11-15T18:41:15.522Z"
   },
   {
    "duration": 12,
    "start_time": "2022-11-15T18:41:15.529Z"
   },
   {
    "duration": 1254,
    "start_time": "2022-11-15T18:45:23.138Z"
   },
   {
    "duration": 422,
    "start_time": "2022-11-15T18:45:24.395Z"
   },
   {
    "duration": 40,
    "start_time": "2022-11-15T18:45:24.819Z"
   },
   {
    "duration": 30,
    "start_time": "2022-11-15T18:45:24.862Z"
   },
   {
    "duration": 49,
    "start_time": "2022-11-15T18:45:24.895Z"
   },
   {
    "duration": 34,
    "start_time": "2022-11-15T18:45:24.947Z"
   },
   {
    "duration": 21,
    "start_time": "2022-11-15T18:45:24.982Z"
   },
   {
    "duration": 6,
    "start_time": "2022-11-15T18:45:25.005Z"
   },
   {
    "duration": 28,
    "start_time": "2022-11-15T18:45:25.013Z"
   },
   {
    "duration": 98,
    "start_time": "2022-11-15T18:45:25.042Z"
   },
   {
    "duration": 81,
    "start_time": "2022-11-15T18:45:25.142Z"
   },
   {
    "duration": 133,
    "start_time": "2022-11-15T18:45:25.226Z"
   },
   {
    "duration": 129,
    "start_time": "2022-11-15T18:45:25.361Z"
   },
   {
    "duration": 191,
    "start_time": "2022-11-15T18:45:25.493Z"
   },
   {
    "duration": 111,
    "start_time": "2022-11-15T18:45:25.685Z"
   },
   {
    "duration": 202,
    "start_time": "2022-11-15T18:45:25.798Z"
   },
   {
    "duration": 67,
    "start_time": "2022-11-15T18:45:26.002Z"
   },
   {
    "duration": 36,
    "start_time": "2022-11-15T18:45:26.071Z"
   },
   {
    "duration": 23,
    "start_time": "2022-11-15T18:45:26.108Z"
   },
   {
    "duration": 33,
    "start_time": "2022-11-15T18:45:26.134Z"
   },
   {
    "duration": 21,
    "start_time": "2022-11-15T18:45:26.168Z"
   },
   {
    "duration": 11,
    "start_time": "2022-11-15T18:45:26.191Z"
   },
   {
    "duration": 47,
    "start_time": "2022-11-15T18:45:26.223Z"
   },
   {
    "duration": 21,
    "start_time": "2022-11-15T18:45:26.271Z"
   },
   {
    "duration": 47,
    "start_time": "2022-11-15T18:45:26.294Z"
   },
   {
    "duration": 48,
    "start_time": "2022-11-15T18:45:26.343Z"
   },
   {
    "duration": 48,
    "start_time": "2022-11-15T18:45:26.393Z"
   },
   {
    "duration": 36,
    "start_time": "2022-11-15T18:45:26.442Z"
   },
   {
    "duration": 45,
    "start_time": "2022-11-15T18:45:26.479Z"
   },
   {
    "duration": 14,
    "start_time": "2022-11-15T18:45:26.525Z"
   },
   {
    "duration": 13,
    "start_time": "2022-11-15T18:45:26.541Z"
   },
   {
    "duration": 32,
    "start_time": "2022-11-15T18:45:26.556Z"
   },
   {
    "duration": 37,
    "start_time": "2022-11-15T18:45:26.590Z"
   },
   {
    "duration": 13,
    "start_time": "2022-11-15T18:45:26.629Z"
   },
   {
    "duration": 106,
    "start_time": "2022-11-15T18:45:26.643Z"
   },
   {
    "duration": 15,
    "start_time": "2022-11-15T18:45:26.751Z"
   },
   {
    "duration": 38,
    "start_time": "2022-11-15T18:45:26.768Z"
   },
   {
    "duration": 46,
    "start_time": "2022-11-15T18:45:26.808Z"
   },
   {
    "duration": 11,
    "start_time": "2022-11-15T18:45:26.856Z"
   },
   {
    "duration": 16,
    "start_time": "2022-11-15T18:45:26.868Z"
   },
   {
    "duration": 42,
    "start_time": "2022-11-15T18:45:26.889Z"
   },
   {
    "duration": 14,
    "start_time": "2022-11-15T18:45:26.934Z"
   },
   {
    "duration": 46,
    "start_time": "2022-11-15T18:45:26.950Z"
   },
   {
    "duration": 57,
    "start_time": "2022-11-15T18:45:26.998Z"
   },
   {
    "duration": 7,
    "start_time": "2022-11-15T18:45:27.056Z"
   },
   {
    "duration": 11,
    "start_time": "2022-11-15T18:45:27.065Z"
   },
   {
    "duration": 13,
    "start_time": "2022-11-15T18:45:27.078Z"
   },
   {
    "duration": 19,
    "start_time": "2022-11-15T18:45:27.093Z"
   },
   {
    "duration": 27,
    "start_time": "2022-11-15T18:45:27.114Z"
   },
   {
    "duration": 11,
    "start_time": "2022-11-15T18:45:27.143Z"
   },
   {
    "duration": 13,
    "start_time": "2022-11-15T18:45:27.156Z"
   },
   {
    "duration": 13,
    "start_time": "2022-11-15T18:45:27.170Z"
   },
   {
    "duration": 203,
    "start_time": "2022-11-15T18:45:27.185Z"
   },
   {
    "duration": 280,
    "start_time": "2022-11-15T18:45:27.391Z"
   },
   {
    "duration": 209,
    "start_time": "2022-11-15T18:45:27.673Z"
   },
   {
    "duration": 179,
    "start_time": "2022-11-15T18:45:27.884Z"
   },
   {
    "duration": 6,
    "start_time": "2022-11-15T18:45:28.065Z"
   },
   {
    "duration": 9,
    "start_time": "2022-11-15T18:45:28.073Z"
   },
   {
    "duration": 11,
    "start_time": "2022-11-15T18:45:28.084Z"
   },
   {
    "duration": 12,
    "start_time": "2022-11-15T18:45:28.096Z"
   },
   {
    "duration": 21,
    "start_time": "2022-11-15T18:45:28.109Z"
   },
   {
    "duration": 16,
    "start_time": "2022-11-15T18:45:28.132Z"
   },
   {
    "duration": 9,
    "start_time": "2022-11-15T18:45:28.150Z"
   },
   {
    "duration": 12,
    "start_time": "2022-11-15T18:45:28.161Z"
   },
   {
    "duration": 185,
    "start_time": "2022-11-15T18:45:28.175Z"
   },
   {
    "duration": 197,
    "start_time": "2022-11-15T18:45:28.362Z"
   },
   {
    "duration": 197,
    "start_time": "2022-11-15T18:45:28.561Z"
   },
   {
    "duration": 190,
    "start_time": "2022-11-15T18:45:28.760Z"
   },
   {
    "duration": 255,
    "start_time": "2022-11-15T18:45:28.952Z"
   },
   {
    "duration": 242,
    "start_time": "2022-11-15T18:45:29.209Z"
   },
   {
    "duration": 361,
    "start_time": "2022-11-15T18:45:29.453Z"
   },
   {
    "duration": 260,
    "start_time": "2022-11-15T18:45:29.815Z"
   },
   {
    "duration": 6,
    "start_time": "2022-11-15T18:45:30.077Z"
   },
   {
    "duration": 18,
    "start_time": "2022-11-15T18:45:30.084Z"
   },
   {
    "duration": 19,
    "start_time": "2022-11-15T18:45:30.104Z"
   },
   {
    "duration": 102,
    "start_time": "2022-11-15T18:50:24.715Z"
   },
   {
    "duration": 58,
    "start_time": "2022-11-17T17:18:08.559Z"
   },
   {
    "duration": 1412,
    "start_time": "2022-11-17T17:18:20.209Z"
   },
   {
    "duration": 929,
    "start_time": "2022-11-17T17:18:21.623Z"
   },
   {
    "duration": 34,
    "start_time": "2022-11-17T17:18:22.554Z"
   },
   {
    "duration": 27,
    "start_time": "2022-11-17T17:18:22.590Z"
   },
   {
    "duration": 23,
    "start_time": "2022-11-17T17:18:22.619Z"
   },
   {
    "duration": 44,
    "start_time": "2022-11-17T17:18:22.644Z"
   },
   {
    "duration": 21,
    "start_time": "2022-11-17T17:18:22.690Z"
   },
   {
    "duration": 8,
    "start_time": "2022-11-17T17:18:22.713Z"
   },
   {
    "duration": 6,
    "start_time": "2022-11-17T17:18:22.722Z"
   },
   {
    "duration": 95,
    "start_time": "2022-11-17T17:18:22.731Z"
   },
   {
    "duration": 98,
    "start_time": "2022-11-17T17:18:22.828Z"
   },
   {
    "duration": 136,
    "start_time": "2022-11-17T17:18:22.928Z"
   },
   {
    "duration": 145,
    "start_time": "2022-11-17T17:18:23.066Z"
   },
   {
    "duration": 184,
    "start_time": "2022-11-17T17:18:23.213Z"
   },
   {
    "duration": 121,
    "start_time": "2022-11-17T17:18:23.399Z"
   },
   {
    "duration": 187,
    "start_time": "2022-11-17T17:18:23.521Z"
   },
   {
    "duration": 41,
    "start_time": "2022-11-17T17:18:23.710Z"
   },
   {
    "duration": 47,
    "start_time": "2022-11-17T17:18:23.753Z"
   },
   {
    "duration": 10,
    "start_time": "2022-11-17T17:18:23.802Z"
   },
   {
    "duration": 20,
    "start_time": "2022-11-17T17:18:23.813Z"
   },
   {
    "duration": 61,
    "start_time": "2022-11-17T17:18:23.834Z"
   },
   {
    "duration": 15,
    "start_time": "2022-11-17T17:18:23.897Z"
   },
   {
    "duration": 74,
    "start_time": "2022-11-17T17:18:23.915Z"
   },
   {
    "duration": 28,
    "start_time": "2022-11-17T17:18:23.993Z"
   },
   {
    "duration": 37,
    "start_time": "2022-11-17T17:18:24.023Z"
   },
   {
    "duration": 68,
    "start_time": "2022-11-17T17:18:24.080Z"
   },
   {
    "duration": 52,
    "start_time": "2022-11-17T17:18:24.151Z"
   },
   {
    "duration": 38,
    "start_time": "2022-11-17T17:18:24.208Z"
   },
   {
    "duration": 50,
    "start_time": "2022-11-17T17:18:24.247Z"
   },
   {
    "duration": 14,
    "start_time": "2022-11-17T17:18:24.298Z"
   },
   {
    "duration": 7,
    "start_time": "2022-11-17T17:18:24.314Z"
   },
   {
    "duration": 8,
    "start_time": "2022-11-17T17:18:24.323Z"
   },
   {
    "duration": 58,
    "start_time": "2022-11-17T17:18:24.333Z"
   },
   {
    "duration": 7,
    "start_time": "2022-11-17T17:18:24.393Z"
   },
   {
    "duration": 102,
    "start_time": "2022-11-17T17:18:24.402Z"
   },
   {
    "duration": 14,
    "start_time": "2022-11-17T17:18:24.506Z"
   },
   {
    "duration": 18,
    "start_time": "2022-11-17T17:18:24.522Z"
   },
   {
    "duration": 54,
    "start_time": "2022-11-17T17:18:24.542Z"
   },
   {
    "duration": 14,
    "start_time": "2022-11-17T17:18:24.598Z"
   },
   {
    "duration": 14,
    "start_time": "2022-11-17T17:18:24.613Z"
   },
   {
    "duration": 58,
    "start_time": "2022-11-17T17:18:24.628Z"
   },
   {
    "duration": 13,
    "start_time": "2022-11-17T17:18:24.688Z"
   },
   {
    "duration": 46,
    "start_time": "2022-11-17T17:18:24.703Z"
   },
   {
    "duration": 55,
    "start_time": "2022-11-17T17:18:24.752Z"
   },
   {
    "duration": 8,
    "start_time": "2022-11-17T17:18:24.809Z"
   },
   {
    "duration": 9,
    "start_time": "2022-11-17T17:18:24.819Z"
   },
   {
    "duration": 10,
    "start_time": "2022-11-17T17:18:24.830Z"
   },
   {
    "duration": 41,
    "start_time": "2022-11-17T17:18:24.842Z"
   },
   {
    "duration": 10,
    "start_time": "2022-11-17T17:18:24.884Z"
   },
   {
    "duration": 8,
    "start_time": "2022-11-17T17:18:24.896Z"
   },
   {
    "duration": 9,
    "start_time": "2022-11-17T17:18:24.906Z"
   },
   {
    "duration": 12,
    "start_time": "2022-11-17T17:18:24.917Z"
   },
   {
    "duration": 232,
    "start_time": "2022-11-17T17:18:24.931Z"
   },
   {
    "duration": 187,
    "start_time": "2022-11-17T17:18:25.165Z"
   },
   {
    "duration": 275,
    "start_time": "2022-11-17T17:18:25.354Z"
   },
   {
    "duration": 215,
    "start_time": "2022-11-17T17:18:25.631Z"
   },
   {
    "duration": 10,
    "start_time": "2022-11-17T17:18:25.848Z"
   },
   {
    "duration": 19,
    "start_time": "2022-11-17T17:18:25.860Z"
   },
   {
    "duration": 16,
    "start_time": "2022-11-17T17:18:25.881Z"
   },
   {
    "duration": 19,
    "start_time": "2022-11-17T17:18:25.899Z"
   },
   {
    "duration": 14,
    "start_time": "2022-11-17T17:18:25.920Z"
   },
   {
    "duration": 23,
    "start_time": "2022-11-17T17:18:25.936Z"
   },
   {
    "duration": 18,
    "start_time": "2022-11-17T17:18:25.961Z"
   },
   {
    "duration": 16,
    "start_time": "2022-11-17T17:18:25.981Z"
   },
   {
    "duration": 189,
    "start_time": "2022-11-17T17:18:25.999Z"
   },
   {
    "duration": 200,
    "start_time": "2022-11-17T17:18:26.192Z"
   },
   {
    "duration": 168,
    "start_time": "2022-11-17T17:18:26.394Z"
   },
   {
    "duration": 206,
    "start_time": "2022-11-17T17:18:26.564Z"
   },
   {
    "duration": 300,
    "start_time": "2022-11-17T17:18:26.777Z"
   },
   {
    "duration": 259,
    "start_time": "2022-11-17T17:18:27.079Z"
   },
   {
    "duration": 370,
    "start_time": "2022-11-17T17:18:27.340Z"
   },
   {
    "duration": 266,
    "start_time": "2022-11-17T17:18:27.712Z"
   },
   {
    "duration": 6,
    "start_time": "2022-11-17T17:18:27.980Z"
   },
   {
    "duration": 8,
    "start_time": "2022-11-17T17:18:27.988Z"
   },
   {
    "duration": 13,
    "start_time": "2022-11-17T17:18:27.998Z"
   },
   {
    "duration": 1224,
    "start_time": "2022-11-17T17:20:56.265Z"
   },
   {
    "duration": 420,
    "start_time": "2022-11-17T17:20:57.491Z"
   },
   {
    "duration": 34,
    "start_time": "2022-11-17T17:20:57.913Z"
   },
   {
    "duration": 27,
    "start_time": "2022-11-17T17:20:57.949Z"
   },
   {
    "duration": 24,
    "start_time": "2022-11-17T17:20:57.979Z"
   },
   {
    "duration": 17,
    "start_time": "2022-11-17T17:20:58.005Z"
   },
   {
    "duration": 21,
    "start_time": "2022-11-17T17:20:58.024Z"
   },
   {
    "duration": 35,
    "start_time": "2022-11-17T17:20:58.046Z"
   },
   {
    "duration": 6,
    "start_time": "2022-11-17T17:20:58.083Z"
   },
   {
    "duration": 70,
    "start_time": "2022-11-17T17:20:58.091Z"
   },
   {
    "duration": 83,
    "start_time": "2022-11-17T17:20:58.179Z"
   },
   {
    "duration": 134,
    "start_time": "2022-11-17T17:20:58.264Z"
   },
   {
    "duration": 128,
    "start_time": "2022-11-17T17:20:58.400Z"
   },
   {
    "duration": 185,
    "start_time": "2022-11-17T17:20:58.532Z"
   },
   {
    "duration": 118,
    "start_time": "2022-11-17T17:20:58.719Z"
   },
   {
    "duration": 191,
    "start_time": "2022-11-17T17:20:58.839Z"
   },
   {
    "duration": 39,
    "start_time": "2022-11-17T17:20:59.032Z"
   },
   {
    "duration": 33,
    "start_time": "2022-11-17T17:20:59.073Z"
   },
   {
    "duration": 9,
    "start_time": "2022-11-17T17:20:59.108Z"
   },
   {
    "duration": 20,
    "start_time": "2022-11-17T17:20:59.119Z"
   },
   {
    "duration": 48,
    "start_time": "2022-11-17T17:20:59.141Z"
   },
   {
    "duration": 12,
    "start_time": "2022-11-17T17:20:59.190Z"
   },
   {
    "duration": 47,
    "start_time": "2022-11-17T17:20:59.204Z"
   },
   {
    "duration": 45,
    "start_time": "2022-11-17T17:20:59.253Z"
   },
   {
    "duration": 31,
    "start_time": "2022-11-17T17:20:59.300Z"
   },
   {
    "duration": 65,
    "start_time": "2022-11-17T17:20:59.332Z"
   },
   {
    "duration": 29,
    "start_time": "2022-11-17T17:20:59.399Z"
   },
   {
    "duration": 54,
    "start_time": "2022-11-17T17:20:59.429Z"
   },
   {
    "duration": 30,
    "start_time": "2022-11-17T17:20:59.485Z"
   },
   {
    "duration": 13,
    "start_time": "2022-11-17T17:20:59.516Z"
   },
   {
    "duration": 9,
    "start_time": "2022-11-17T17:20:59.531Z"
   },
   {
    "duration": 10,
    "start_time": "2022-11-17T17:20:59.543Z"
   },
   {
    "duration": 53,
    "start_time": "2022-11-17T17:20:59.555Z"
   },
   {
    "duration": 5,
    "start_time": "2022-11-17T17:20:59.610Z"
   },
   {
    "duration": 107,
    "start_time": "2022-11-17T17:20:59.617Z"
   },
   {
    "duration": 13,
    "start_time": "2022-11-17T17:20:59.726Z"
   },
   {
    "duration": 19,
    "start_time": "2022-11-17T17:20:59.740Z"
   },
   {
    "duration": 31,
    "start_time": "2022-11-17T17:20:59.779Z"
   },
   {
    "duration": 12,
    "start_time": "2022-11-17T17:20:59.812Z"
   },
   {
    "duration": 13,
    "start_time": "2022-11-17T17:20:59.826Z"
   },
   {
    "duration": 61,
    "start_time": "2022-11-17T17:20:59.843Z"
   },
   {
    "duration": 13,
    "start_time": "2022-11-17T17:20:59.906Z"
   },
   {
    "duration": 64,
    "start_time": "2022-11-17T17:20:59.921Z"
   },
   {
    "duration": 29,
    "start_time": "2022-11-17T17:20:59.987Z"
   },
   {
    "duration": 8,
    "start_time": "2022-11-17T17:21:00.018Z"
   },
   {
    "duration": 12,
    "start_time": "2022-11-17T17:21:00.027Z"
   },
   {
    "duration": 18,
    "start_time": "2022-11-17T17:21:00.042Z"
   },
   {
    "duration": 26,
    "start_time": "2022-11-17T17:21:00.062Z"
   },
   {
    "duration": 14,
    "start_time": "2022-11-17T17:21:00.090Z"
   },
   {
    "duration": 17,
    "start_time": "2022-11-17T17:21:00.106Z"
   },
   {
    "duration": 31,
    "start_time": "2022-11-17T17:21:00.125Z"
   },
   {
    "duration": 22,
    "start_time": "2022-11-17T17:21:00.158Z"
   },
   {
    "duration": 178,
    "start_time": "2022-11-17T17:21:00.182Z"
   },
   {
    "duration": 253,
    "start_time": "2022-11-17T17:21:00.362Z"
   },
   {
    "duration": 203,
    "start_time": "2022-11-17T17:21:00.617Z"
   },
   {
    "duration": 210,
    "start_time": "2022-11-17T17:21:00.822Z"
   },
   {
    "duration": 8,
    "start_time": "2022-11-17T17:21:01.034Z"
   },
   {
    "duration": 40,
    "start_time": "2022-11-17T17:21:01.044Z"
   },
   {
    "duration": 28,
    "start_time": "2022-11-17T17:21:01.086Z"
   },
   {
    "duration": 24,
    "start_time": "2022-11-17T17:21:01.116Z"
   },
   {
    "duration": 38,
    "start_time": "2022-11-17T17:21:01.142Z"
   },
   {
    "duration": 52,
    "start_time": "2022-11-17T17:21:01.182Z"
   },
   {
    "duration": 43,
    "start_time": "2022-11-17T17:21:01.236Z"
   },
   {
    "duration": 42,
    "start_time": "2022-11-17T17:21:01.281Z"
   },
   {
    "duration": 217,
    "start_time": "2022-11-17T17:21:01.325Z"
   },
   {
    "duration": 217,
    "start_time": "2022-11-17T17:21:01.544Z"
   },
   {
    "duration": 182,
    "start_time": "2022-11-17T17:21:01.762Z"
   },
   {
    "duration": 205,
    "start_time": "2022-11-17T17:21:01.946Z"
   },
   {
    "duration": 277,
    "start_time": "2022-11-17T17:21:02.153Z"
   },
   {
    "duration": 262,
    "start_time": "2022-11-17T17:21:02.431Z"
   },
   {
    "duration": 375,
    "start_time": "2022-11-17T17:21:02.695Z"
   },
   {
    "duration": 269,
    "start_time": "2022-11-17T17:21:03.072Z"
   },
   {
    "duration": 6,
    "start_time": "2022-11-17T17:21:03.343Z"
   },
   {
    "duration": 9,
    "start_time": "2022-11-17T17:21:03.351Z"
   },
   {
    "duration": 13,
    "start_time": "2022-11-17T17:21:03.378Z"
   },
   {
    "duration": 1429,
    "start_time": "2022-11-18T07:31:57.326Z"
   },
   {
    "duration": 921,
    "start_time": "2022-11-18T07:31:58.757Z"
   },
   {
    "duration": 35,
    "start_time": "2022-11-18T07:31:59.679Z"
   },
   {
    "duration": 44,
    "start_time": "2022-11-18T07:31:59.717Z"
   },
   {
    "duration": 44,
    "start_time": "2022-11-18T07:31:59.762Z"
   },
   {
    "duration": 20,
    "start_time": "2022-11-18T07:31:59.807Z"
   },
   {
    "duration": 20,
    "start_time": "2022-11-18T07:31:59.829Z"
   },
   {
    "duration": 18,
    "start_time": "2022-11-18T07:31:59.851Z"
   },
   {
    "duration": 10,
    "start_time": "2022-11-18T07:31:59.871Z"
   },
   {
    "duration": 62,
    "start_time": "2022-11-18T07:31:59.907Z"
   },
   {
    "duration": 116,
    "start_time": "2022-11-18T07:31:59.971Z"
   },
   {
    "duration": 141,
    "start_time": "2022-11-18T07:32:00.089Z"
   },
   {
    "duration": 138,
    "start_time": "2022-11-18T07:32:00.233Z"
   },
   {
    "duration": 192,
    "start_time": "2022-11-18T07:32:00.373Z"
   },
   {
    "duration": 156,
    "start_time": "2022-11-18T07:32:00.568Z"
   },
   {
    "duration": 228,
    "start_time": "2022-11-18T07:32:00.727Z"
   },
   {
    "duration": 57,
    "start_time": "2022-11-18T07:32:00.958Z"
   },
   {
    "duration": 43,
    "start_time": "2022-11-18T07:32:01.017Z"
   },
   {
    "duration": 20,
    "start_time": "2022-11-18T07:32:01.062Z"
   },
   {
    "duration": 40,
    "start_time": "2022-11-18T07:32:01.084Z"
   },
   {
    "duration": 27,
    "start_time": "2022-11-18T07:32:01.126Z"
   },
   {
    "duration": 12,
    "start_time": "2022-11-18T07:32:01.155Z"
   },
   {
    "duration": 196,
    "start_time": "2022-11-18T07:32:01.169Z"
   },
   {
    "duration": 24,
    "start_time": "2022-11-18T07:32:01.366Z"
   },
   {
    "duration": 65,
    "start_time": "2022-11-18T07:32:01.391Z"
   },
   {
    "duration": 46,
    "start_time": "2022-11-18T07:32:01.458Z"
   },
   {
    "duration": 33,
    "start_time": "2022-11-18T07:32:01.512Z"
   },
   {
    "duration": 57,
    "start_time": "2022-11-18T07:32:01.550Z"
   },
   {
    "duration": 70,
    "start_time": "2022-11-18T07:32:01.609Z"
   },
   {
    "duration": 21,
    "start_time": "2022-11-18T07:32:01.682Z"
   },
   {
    "duration": 27,
    "start_time": "2022-11-18T07:32:01.707Z"
   },
   {
    "duration": 46,
    "start_time": "2022-11-18T07:32:01.736Z"
   },
   {
    "duration": 59,
    "start_time": "2022-11-18T07:32:01.784Z"
   },
   {
    "duration": 12,
    "start_time": "2022-11-18T07:32:01.845Z"
   },
   {
    "duration": 134,
    "start_time": "2022-11-18T07:32:01.859Z"
   },
   {
    "duration": 19,
    "start_time": "2022-11-18T07:32:01.995Z"
   },
   {
    "duration": 44,
    "start_time": "2022-11-18T07:32:02.016Z"
   },
   {
    "duration": 46,
    "start_time": "2022-11-18T07:32:02.062Z"
   },
   {
    "duration": 12,
    "start_time": "2022-11-18T07:32:02.110Z"
   },
   {
    "duration": 16,
    "start_time": "2022-11-18T07:32:02.123Z"
   },
   {
    "duration": 37,
    "start_time": "2022-11-18T07:32:02.141Z"
   },
   {
    "duration": 32,
    "start_time": "2022-11-18T07:32:02.180Z"
   },
   {
    "duration": 55,
    "start_time": "2022-11-18T07:32:02.214Z"
   },
   {
    "duration": 52,
    "start_time": "2022-11-18T07:32:02.271Z"
   },
   {
    "duration": 8,
    "start_time": "2022-11-18T07:32:02.324Z"
   },
   {
    "duration": 11,
    "start_time": "2022-11-18T07:32:02.334Z"
   },
   {
    "duration": 25,
    "start_time": "2022-11-18T07:32:02.346Z"
   },
   {
    "duration": 8,
    "start_time": "2022-11-18T07:32:02.373Z"
   },
   {
    "duration": 11,
    "start_time": "2022-11-18T07:32:02.382Z"
   },
   {
    "duration": 15,
    "start_time": "2022-11-18T07:32:02.394Z"
   },
   {
    "duration": 15,
    "start_time": "2022-11-18T07:32:02.411Z"
   },
   {
    "duration": 10,
    "start_time": "2022-11-18T07:32:02.427Z"
   },
   {
    "duration": 175,
    "start_time": "2022-11-18T07:32:02.439Z"
   },
   {
    "duration": 214,
    "start_time": "2022-11-18T07:32:02.616Z"
   },
   {
    "duration": 302,
    "start_time": "2022-11-18T07:32:02.832Z"
   },
   {
    "duration": 187,
    "start_time": "2022-11-18T07:32:03.136Z"
   },
   {
    "duration": 10,
    "start_time": "2022-11-18T07:32:03.326Z"
   },
   {
    "duration": 12,
    "start_time": "2022-11-18T07:32:03.338Z"
   },
   {
    "duration": 9,
    "start_time": "2022-11-18T07:32:03.352Z"
   },
   {
    "duration": 9,
    "start_time": "2022-11-18T07:32:03.363Z"
   },
   {
    "duration": 11,
    "start_time": "2022-11-18T07:32:03.373Z"
   },
   {
    "duration": 7,
    "start_time": "2022-11-18T07:32:03.405Z"
   },
   {
    "duration": 9,
    "start_time": "2022-11-18T07:32:03.414Z"
   },
   {
    "duration": 10,
    "start_time": "2022-11-18T07:32:03.425Z"
   },
   {
    "duration": 218,
    "start_time": "2022-11-18T07:32:03.437Z"
   },
   {
    "duration": 256,
    "start_time": "2022-11-18T07:32:03.657Z"
   },
   {
    "duration": 170,
    "start_time": "2022-11-18T07:32:03.914Z"
   },
   {
    "duration": 188,
    "start_time": "2022-11-18T07:32:04.086Z"
   },
   {
    "duration": 273,
    "start_time": "2022-11-18T07:32:04.276Z"
   },
   {
    "duration": 260,
    "start_time": "2022-11-18T07:32:04.550Z"
   },
   {
    "duration": 360,
    "start_time": "2022-11-18T07:32:04.811Z"
   },
   {
    "duration": 250,
    "start_time": "2022-11-18T07:32:05.173Z"
   },
   {
    "duration": 5,
    "start_time": "2022-11-18T07:32:05.425Z"
   },
   {
    "duration": 10,
    "start_time": "2022-11-18T07:32:05.432Z"
   },
   {
    "duration": 14,
    "start_time": "2022-11-18T07:32:05.443Z"
   },
   {
    "duration": 1224,
    "start_time": "2022-11-18T07:34:47.110Z"
   },
   {
    "duration": 411,
    "start_time": "2022-11-18T07:34:48.336Z"
   },
   {
    "duration": 35,
    "start_time": "2022-11-18T07:34:48.749Z"
   },
   {
    "duration": 27,
    "start_time": "2022-11-18T07:34:48.786Z"
   },
   {
    "duration": 23,
    "start_time": "2022-11-18T07:34:48.815Z"
   },
   {
    "duration": 14,
    "start_time": "2022-11-18T07:34:48.840Z"
   },
   {
    "duration": 20,
    "start_time": "2022-11-18T07:34:48.855Z"
   },
   {
    "duration": 32,
    "start_time": "2022-11-18T07:34:48.877Z"
   },
   {
    "duration": 7,
    "start_time": "2022-11-18T07:34:48.910Z"
   },
   {
    "duration": 57,
    "start_time": "2022-11-18T07:34:48.918Z"
   },
   {
    "duration": 99,
    "start_time": "2022-11-18T07:34:48.977Z"
   },
   {
    "duration": 118,
    "start_time": "2022-11-18T07:34:49.078Z"
   },
   {
    "duration": 117,
    "start_time": "2022-11-18T07:34:49.197Z"
   },
   {
    "duration": 173,
    "start_time": "2022-11-18T07:34:49.316Z"
   },
   {
    "duration": 96,
    "start_time": "2022-11-18T07:34:49.491Z"
   },
   {
    "duration": 162,
    "start_time": "2022-11-18T07:34:49.588Z"
   },
   {
    "duration": 37,
    "start_time": "2022-11-18T07:34:49.751Z"
   },
   {
    "duration": 43,
    "start_time": "2022-11-18T07:34:49.789Z"
   },
   {
    "duration": 8,
    "start_time": "2022-11-18T07:34:49.833Z"
   },
   {
    "duration": 25,
    "start_time": "2022-11-18T07:34:49.843Z"
   },
   {
    "duration": 39,
    "start_time": "2022-11-18T07:34:49.870Z"
   },
   {
    "duration": 10,
    "start_time": "2022-11-18T07:34:49.911Z"
   },
   {
    "duration": 41,
    "start_time": "2022-11-18T07:34:49.922Z"
   },
   {
    "duration": 41,
    "start_time": "2022-11-18T07:34:49.964Z"
   },
   {
    "duration": 30,
    "start_time": "2022-11-18T07:34:50.007Z"
   },
   {
    "duration": 40,
    "start_time": "2022-11-18T07:34:50.039Z"
   },
   {
    "duration": 50,
    "start_time": "2022-11-18T07:34:50.081Z"
   },
   {
    "duration": 31,
    "start_time": "2022-11-18T07:34:50.132Z"
   },
   {
    "duration": 52,
    "start_time": "2022-11-18T07:34:50.165Z"
   },
   {
    "duration": 13,
    "start_time": "2022-11-18T07:34:50.218Z"
   },
   {
    "duration": 16,
    "start_time": "2022-11-18T07:34:50.232Z"
   },
   {
    "duration": 11,
    "start_time": "2022-11-18T07:34:50.250Z"
   },
   {
    "duration": 35,
    "start_time": "2022-11-18T07:34:50.262Z"
   },
   {
    "duration": 6,
    "start_time": "2022-11-18T07:34:50.299Z"
   },
   {
    "duration": 124,
    "start_time": "2022-11-18T07:34:50.306Z"
   },
   {
    "duration": 74,
    "start_time": "2022-11-18T07:34:50.431Z"
   },
   {
    "duration": 0,
    "start_time": "2022-11-18T07:34:50.507Z"
   },
   {
    "duration": 0,
    "start_time": "2022-11-18T07:34:50.508Z"
   },
   {
    "duration": 0,
    "start_time": "2022-11-18T07:34:50.509Z"
   },
   {
    "duration": 0,
    "start_time": "2022-11-18T07:34:50.510Z"
   },
   {
    "duration": 0,
    "start_time": "2022-11-18T07:34:50.511Z"
   },
   {
    "duration": 0,
    "start_time": "2022-11-18T07:34:50.512Z"
   },
   {
    "duration": 0,
    "start_time": "2022-11-18T07:34:50.513Z"
   },
   {
    "duration": 0,
    "start_time": "2022-11-18T07:34:50.514Z"
   },
   {
    "duration": 0,
    "start_time": "2022-11-18T07:34:50.515Z"
   },
   {
    "duration": 0,
    "start_time": "2022-11-18T07:34:50.516Z"
   },
   {
    "duration": 0,
    "start_time": "2022-11-18T07:34:50.517Z"
   },
   {
    "duration": 0,
    "start_time": "2022-11-18T07:34:50.518Z"
   },
   {
    "duration": 0,
    "start_time": "2022-11-18T07:34:50.519Z"
   },
   {
    "duration": 0,
    "start_time": "2022-11-18T07:34:50.520Z"
   },
   {
    "duration": 0,
    "start_time": "2022-11-18T07:34:50.521Z"
   },
   {
    "duration": 0,
    "start_time": "2022-11-18T07:34:50.522Z"
   },
   {
    "duration": 0,
    "start_time": "2022-11-18T07:34:50.523Z"
   },
   {
    "duration": 0,
    "start_time": "2022-11-18T07:34:50.524Z"
   },
   {
    "duration": 0,
    "start_time": "2022-11-18T07:34:50.525Z"
   },
   {
    "duration": 0,
    "start_time": "2022-11-18T07:34:50.526Z"
   },
   {
    "duration": 0,
    "start_time": "2022-11-18T07:34:50.527Z"
   },
   {
    "duration": 0,
    "start_time": "2022-11-18T07:34:50.528Z"
   },
   {
    "duration": 0,
    "start_time": "2022-11-18T07:34:50.530Z"
   },
   {
    "duration": 0,
    "start_time": "2022-11-18T07:34:50.531Z"
   },
   {
    "duration": 0,
    "start_time": "2022-11-18T07:34:50.532Z"
   },
   {
    "duration": 0,
    "start_time": "2022-11-18T07:34:50.533Z"
   },
   {
    "duration": 0,
    "start_time": "2022-11-18T07:34:50.534Z"
   },
   {
    "duration": 0,
    "start_time": "2022-11-18T07:34:50.535Z"
   },
   {
    "duration": 0,
    "start_time": "2022-11-18T07:34:50.536Z"
   },
   {
    "duration": 0,
    "start_time": "2022-11-18T07:34:50.537Z"
   },
   {
    "duration": 0,
    "start_time": "2022-11-18T07:34:50.538Z"
   },
   {
    "duration": 0,
    "start_time": "2022-11-18T07:34:50.539Z"
   },
   {
    "duration": 0,
    "start_time": "2022-11-18T07:34:50.540Z"
   },
   {
    "duration": 0,
    "start_time": "2022-11-18T07:34:50.541Z"
   },
   {
    "duration": 0,
    "start_time": "2022-11-18T07:34:50.542Z"
   },
   {
    "duration": 0,
    "start_time": "2022-11-18T07:34:50.543Z"
   },
   {
    "duration": 0,
    "start_time": "2022-11-18T07:34:50.544Z"
   },
   {
    "duration": 0,
    "start_time": "2022-11-18T07:34:50.544Z"
   },
   {
    "duration": 0,
    "start_time": "2022-11-18T07:34:50.605Z"
   },
   {
    "duration": 1054,
    "start_time": "2022-11-18T07:36:44.351Z"
   },
   {
    "duration": 393,
    "start_time": "2022-11-18T07:36:45.407Z"
   },
   {
    "duration": 36,
    "start_time": "2022-11-18T07:36:45.801Z"
   },
   {
    "duration": 27,
    "start_time": "2022-11-18T07:36:45.840Z"
   },
   {
    "duration": 48,
    "start_time": "2022-11-18T07:36:45.869Z"
   },
   {
    "duration": 16,
    "start_time": "2022-11-18T07:36:45.919Z"
   },
   {
    "duration": 34,
    "start_time": "2022-11-18T07:36:45.937Z"
   },
   {
    "duration": 33,
    "start_time": "2022-11-18T07:36:45.973Z"
   },
   {
    "duration": 7,
    "start_time": "2022-11-18T07:36:46.008Z"
   },
   {
    "duration": 84,
    "start_time": "2022-11-18T07:36:46.017Z"
   },
   {
    "duration": 92,
    "start_time": "2022-11-18T07:36:46.103Z"
   },
   {
    "duration": 123,
    "start_time": "2022-11-18T07:36:46.196Z"
   },
   {
    "duration": 131,
    "start_time": "2022-11-18T07:36:46.321Z"
   },
   {
    "duration": 242,
    "start_time": "2022-11-18T07:36:46.505Z"
   },
   {
    "duration": 116,
    "start_time": "2022-11-18T07:36:46.749Z"
   },
   {
    "duration": 176,
    "start_time": "2022-11-18T07:36:46.867Z"
   },
   {
    "duration": 40,
    "start_time": "2022-11-18T07:36:47.044Z"
   },
   {
    "duration": 41,
    "start_time": "2022-11-18T07:36:47.086Z"
   },
   {
    "duration": 8,
    "start_time": "2022-11-18T07:36:47.129Z"
   },
   {
    "duration": 33,
    "start_time": "2022-11-18T07:36:47.138Z"
   },
   {
    "duration": 32,
    "start_time": "2022-11-18T07:36:47.173Z"
   },
   {
    "duration": 11,
    "start_time": "2022-11-18T07:36:47.206Z"
   },
   {
    "duration": 44,
    "start_time": "2022-11-18T07:36:47.218Z"
   },
   {
    "duration": 46,
    "start_time": "2022-11-18T07:36:47.263Z"
   },
   {
    "duration": 37,
    "start_time": "2022-11-18T07:36:47.311Z"
   },
   {
    "duration": 75,
    "start_time": "2022-11-18T07:36:47.350Z"
   },
   {
    "duration": 36,
    "start_time": "2022-11-18T07:36:47.427Z"
   },
   {
    "duration": 50,
    "start_time": "2022-11-18T07:36:47.469Z"
   },
   {
    "duration": 29,
    "start_time": "2022-11-18T07:36:47.521Z"
   },
   {
    "duration": 16,
    "start_time": "2022-11-18T07:36:47.551Z"
   },
   {
    "duration": 6,
    "start_time": "2022-11-18T07:36:47.568Z"
   },
   {
    "duration": 31,
    "start_time": "2022-11-18T07:36:47.575Z"
   },
   {
    "duration": 42,
    "start_time": "2022-11-18T07:36:47.608Z"
   },
   {
    "duration": 10,
    "start_time": "2022-11-18T07:36:47.652Z"
   },
   {
    "duration": 98,
    "start_time": "2022-11-18T07:36:47.664Z"
   },
   {
    "duration": 12,
    "start_time": "2022-11-18T07:36:47.763Z"
   },
   {
    "duration": 30,
    "start_time": "2022-11-18T07:36:47.776Z"
   },
   {
    "duration": 29,
    "start_time": "2022-11-18T07:36:47.808Z"
   },
   {
    "duration": 10,
    "start_time": "2022-11-18T07:36:47.839Z"
   },
   {
    "duration": 11,
    "start_time": "2022-11-18T07:36:47.851Z"
   },
   {
    "duration": 60,
    "start_time": "2022-11-18T07:36:47.864Z"
   },
   {
    "duration": 11,
    "start_time": "2022-11-18T07:36:47.926Z"
   },
   {
    "duration": 71,
    "start_time": "2022-11-18T07:36:47.938Z"
   },
   {
    "duration": 31,
    "start_time": "2022-11-18T07:36:48.011Z"
   },
   {
    "duration": 7,
    "start_time": "2022-11-18T07:36:48.044Z"
   },
   {
    "duration": 9,
    "start_time": "2022-11-18T07:36:48.052Z"
   },
   {
    "duration": 9,
    "start_time": "2022-11-18T07:36:48.062Z"
   },
   {
    "duration": 35,
    "start_time": "2022-11-18T07:36:48.073Z"
   },
   {
    "duration": 6,
    "start_time": "2022-11-18T07:36:48.110Z"
   },
   {
    "duration": 13,
    "start_time": "2022-11-18T07:36:48.118Z"
   },
   {
    "duration": 14,
    "start_time": "2022-11-18T07:36:48.133Z"
   },
   {
    "duration": 9,
    "start_time": "2022-11-18T07:36:48.149Z"
   },
   {
    "duration": 197,
    "start_time": "2022-11-18T07:36:48.160Z"
   },
   {
    "duration": 203,
    "start_time": "2022-11-18T07:36:48.358Z"
   },
   {
    "duration": 265,
    "start_time": "2022-11-18T07:36:48.562Z"
   },
   {
    "duration": 185,
    "start_time": "2022-11-18T07:36:48.829Z"
   },
   {
    "duration": 9,
    "start_time": "2022-11-18T07:36:49.016Z"
   },
   {
    "duration": 32,
    "start_time": "2022-11-18T07:36:49.027Z"
   },
   {
    "duration": 34,
    "start_time": "2022-11-18T07:36:49.062Z"
   },
   {
    "duration": 25,
    "start_time": "2022-11-18T07:36:49.097Z"
   },
   {
    "duration": 30,
    "start_time": "2022-11-18T07:36:49.124Z"
   },
   {
    "duration": 27,
    "start_time": "2022-11-18T07:36:49.156Z"
   },
   {
    "duration": 15,
    "start_time": "2022-11-18T07:36:49.185Z"
   },
   {
    "duration": 42,
    "start_time": "2022-11-18T07:36:49.202Z"
   },
   {
    "duration": 211,
    "start_time": "2022-11-18T07:36:49.245Z"
   },
   {
    "duration": 176,
    "start_time": "2022-11-18T07:36:49.458Z"
   },
   {
    "duration": 164,
    "start_time": "2022-11-18T07:36:49.635Z"
   },
   {
    "duration": 182,
    "start_time": "2022-11-18T07:36:49.800Z"
   },
   {
    "duration": 270,
    "start_time": "2022-11-18T07:36:49.983Z"
   },
   {
    "duration": 232,
    "start_time": "2022-11-18T07:36:50.255Z"
   },
   {
    "duration": 354,
    "start_time": "2022-11-18T07:36:50.490Z"
   },
   {
    "duration": 251,
    "start_time": "2022-11-18T07:36:50.846Z"
   },
   {
    "duration": 8,
    "start_time": "2022-11-18T07:36:51.104Z"
   },
   {
    "duration": 14,
    "start_time": "2022-11-18T07:36:51.118Z"
   },
   {
    "duration": 11,
    "start_time": "2022-11-18T07:36:51.133Z"
   },
   {
    "duration": 1146,
    "start_time": "2022-11-18T07:38:10.356Z"
   },
   {
    "duration": 391,
    "start_time": "2022-11-18T07:38:11.504Z"
   },
   {
    "duration": 35,
    "start_time": "2022-11-18T07:38:11.897Z"
   },
   {
    "duration": 28,
    "start_time": "2022-11-18T07:38:11.934Z"
   },
   {
    "duration": 46,
    "start_time": "2022-11-18T07:38:11.964Z"
   },
   {
    "duration": 15,
    "start_time": "2022-11-18T07:38:12.011Z"
   },
   {
    "duration": 24,
    "start_time": "2022-11-18T07:38:12.027Z"
   },
   {
    "duration": 8,
    "start_time": "2022-11-18T07:38:12.052Z"
   },
   {
    "duration": 9,
    "start_time": "2022-11-18T07:38:12.061Z"
   },
   {
    "duration": 82,
    "start_time": "2022-11-18T07:38:12.073Z"
   },
   {
    "duration": 86,
    "start_time": "2022-11-18T07:38:12.157Z"
   },
   {
    "duration": 117,
    "start_time": "2022-11-18T07:38:12.245Z"
   },
   {
    "duration": 117,
    "start_time": "2022-11-18T07:38:12.364Z"
   },
   {
    "duration": 171,
    "start_time": "2022-11-18T07:38:12.483Z"
   },
   {
    "duration": 103,
    "start_time": "2022-11-18T07:38:12.655Z"
   },
   {
    "duration": 168,
    "start_time": "2022-11-18T07:38:12.760Z"
   },
   {
    "duration": 39,
    "start_time": "2022-11-18T07:38:12.929Z"
   },
   {
    "duration": 44,
    "start_time": "2022-11-18T07:38:12.970Z"
   },
   {
    "duration": 8,
    "start_time": "2022-11-18T07:38:13.016Z"
   },
   {
    "duration": 28,
    "start_time": "2022-11-18T07:38:13.025Z"
   },
   {
    "duration": 48,
    "start_time": "2022-11-18T07:38:13.055Z"
   },
   {
    "duration": 10,
    "start_time": "2022-11-18T07:38:13.104Z"
   },
   {
    "duration": 62,
    "start_time": "2022-11-18T07:38:13.116Z"
   },
   {
    "duration": 21,
    "start_time": "2022-11-18T07:38:13.180Z"
   },
   {
    "duration": 29,
    "start_time": "2022-11-18T07:38:13.203Z"
   },
   {
    "duration": 43,
    "start_time": "2022-11-18T07:38:13.234Z"
   },
   {
    "duration": 49,
    "start_time": "2022-11-18T07:38:13.278Z"
   },
   {
    "duration": 35,
    "start_time": "2022-11-18T07:38:13.331Z"
   },
   {
    "duration": 46,
    "start_time": "2022-11-18T07:38:13.368Z"
   },
   {
    "duration": 13,
    "start_time": "2022-11-18T07:38:13.415Z"
   },
   {
    "duration": 6,
    "start_time": "2022-11-18T07:38:13.429Z"
   },
   {
    "duration": 8,
    "start_time": "2022-11-18T07:38:13.436Z"
   },
   {
    "duration": 34,
    "start_time": "2022-11-18T07:38:13.446Z"
   },
   {
    "duration": 6,
    "start_time": "2022-11-18T07:38:13.505Z"
   },
   {
    "duration": 96,
    "start_time": "2022-11-18T07:38:13.514Z"
   },
   {
    "duration": 12,
    "start_time": "2022-11-18T07:38:13.613Z"
   },
   {
    "duration": 16,
    "start_time": "2022-11-18T07:38:13.627Z"
   },
   {
    "duration": 29,
    "start_time": "2022-11-18T07:38:13.645Z"
   },
   {
    "duration": 13,
    "start_time": "2022-11-18T07:38:13.704Z"
   },
   {
    "duration": 12,
    "start_time": "2022-11-18T07:38:13.719Z"
   },
   {
    "duration": 29,
    "start_time": "2022-11-18T07:38:13.733Z"
   },
   {
    "duration": 42,
    "start_time": "2022-11-18T07:38:13.763Z"
   },
   {
    "duration": 43,
    "start_time": "2022-11-18T07:38:13.807Z"
   },
   {
    "duration": 29,
    "start_time": "2022-11-18T07:38:13.852Z"
   },
   {
    "duration": 7,
    "start_time": "2022-11-18T07:38:13.905Z"
   },
   {
    "duration": 9,
    "start_time": "2022-11-18T07:38:13.913Z"
   },
   {
    "duration": 12,
    "start_time": "2022-11-18T07:38:13.923Z"
   },
   {
    "duration": 11,
    "start_time": "2022-11-18T07:38:13.937Z"
   },
   {
    "duration": 16,
    "start_time": "2022-11-18T07:38:13.950Z"
   },
   {
    "duration": 20,
    "start_time": "2022-11-18T07:38:13.967Z"
   },
   {
    "duration": 23,
    "start_time": "2022-11-18T07:38:13.988Z"
   },
   {
    "duration": 26,
    "start_time": "2022-11-18T07:38:14.013Z"
   },
   {
    "duration": 188,
    "start_time": "2022-11-18T07:38:14.040Z"
   },
   {
    "duration": 164,
    "start_time": "2022-11-18T07:38:14.230Z"
   },
   {
    "duration": 245,
    "start_time": "2022-11-18T07:38:14.396Z"
   },
   {
    "duration": 156,
    "start_time": "2022-11-18T07:38:14.643Z"
   },
   {
    "duration": 7,
    "start_time": "2022-11-18T07:38:14.805Z"
   },
   {
    "duration": 14,
    "start_time": "2022-11-18T07:38:14.814Z"
   },
   {
    "duration": 14,
    "start_time": "2022-11-18T07:38:14.829Z"
   },
   {
    "duration": 21,
    "start_time": "2022-11-18T07:38:14.845Z"
   },
   {
    "duration": 29,
    "start_time": "2022-11-18T07:38:14.867Z"
   },
   {
    "duration": 26,
    "start_time": "2022-11-18T07:38:14.898Z"
   },
   {
    "duration": 33,
    "start_time": "2022-11-18T07:38:14.925Z"
   },
   {
    "duration": 19,
    "start_time": "2022-11-18T07:38:14.959Z"
   },
   {
    "duration": 179,
    "start_time": "2022-11-18T07:38:14.980Z"
   },
   {
    "duration": 180,
    "start_time": "2022-11-18T07:38:15.161Z"
   },
   {
    "duration": 163,
    "start_time": "2022-11-18T07:38:15.343Z"
   },
   {
    "duration": 191,
    "start_time": "2022-11-18T07:38:15.508Z"
   },
   {
    "duration": 259,
    "start_time": "2022-11-18T07:38:15.704Z"
   },
   {
    "duration": 242,
    "start_time": "2022-11-18T07:38:15.964Z"
   },
   {
    "duration": 341,
    "start_time": "2022-11-18T07:38:16.208Z"
   },
   {
    "duration": 235,
    "start_time": "2022-11-18T07:38:16.551Z"
   },
   {
    "duration": 6,
    "start_time": "2022-11-18T07:38:16.788Z"
   },
   {
    "duration": 5,
    "start_time": "2022-11-18T07:38:16.805Z"
   },
   {
    "duration": 26,
    "start_time": "2022-11-18T07:38:16.812Z"
   },
   {
    "duration": 108,
    "start_time": "2022-11-18T08:13:48.598Z"
   },
   {
    "duration": 13,
    "start_time": "2022-11-18T08:14:46.530Z"
   },
   {
    "duration": 1188,
    "start_time": "2022-11-18T08:44:05.622Z"
   },
   {
    "duration": 417,
    "start_time": "2022-11-18T08:44:06.812Z"
   },
   {
    "duration": 35,
    "start_time": "2022-11-18T08:44:07.230Z"
   },
   {
    "duration": 40,
    "start_time": "2022-11-18T08:44:07.266Z"
   },
   {
    "duration": 23,
    "start_time": "2022-11-18T08:44:07.308Z"
   },
   {
    "duration": 15,
    "start_time": "2022-11-18T08:44:07.332Z"
   },
   {
    "duration": 25,
    "start_time": "2022-11-18T08:44:07.348Z"
   },
   {
    "duration": 9,
    "start_time": "2022-11-18T08:44:07.405Z"
   },
   {
    "duration": 12,
    "start_time": "2022-11-18T08:44:07.416Z"
   },
   {
    "duration": 88,
    "start_time": "2022-11-18T08:44:07.430Z"
   },
   {
    "duration": 109,
    "start_time": "2022-11-18T08:44:07.521Z"
   },
   {
    "duration": 114,
    "start_time": "2022-11-18T08:44:07.631Z"
   },
   {
    "duration": 138,
    "start_time": "2022-11-18T08:44:07.747Z"
   },
   {
    "duration": 155,
    "start_time": "2022-11-18T08:44:07.888Z"
   },
   {
    "duration": 110,
    "start_time": "2022-11-18T08:44:08.045Z"
   },
   {
    "duration": 186,
    "start_time": "2022-11-18T08:44:08.156Z"
   },
   {
    "duration": 38,
    "start_time": "2022-11-18T08:44:08.344Z"
   },
   {
    "duration": 50,
    "start_time": "2022-11-18T08:44:08.384Z"
   },
   {
    "duration": 9,
    "start_time": "2022-11-18T08:44:08.436Z"
   },
   {
    "duration": 19,
    "start_time": "2022-11-18T08:44:08.447Z"
   },
   {
    "duration": 51,
    "start_time": "2022-11-18T08:44:08.468Z"
   },
   {
    "duration": 11,
    "start_time": "2022-11-18T08:44:08.520Z"
   },
   {
    "duration": 43,
    "start_time": "2022-11-18T08:44:08.532Z"
   },
   {
    "duration": 45,
    "start_time": "2022-11-18T08:44:08.576Z"
   },
   {
    "duration": 28,
    "start_time": "2022-11-18T08:44:08.622Z"
   },
   {
    "duration": 54,
    "start_time": "2022-11-18T08:44:08.651Z"
   },
   {
    "duration": 27,
    "start_time": "2022-11-18T08:44:08.707Z"
   },
   {
    "duration": 32,
    "start_time": "2022-11-18T08:44:08.735Z"
   },
   {
    "duration": 48,
    "start_time": "2022-11-18T08:44:08.769Z"
   },
   {
    "duration": 11,
    "start_time": "2022-11-18T08:44:08.818Z"
   },
   {
    "duration": 5,
    "start_time": "2022-11-18T08:44:08.831Z"
   },
   {
    "duration": 19,
    "start_time": "2022-11-18T08:44:08.837Z"
   },
   {
    "duration": 27,
    "start_time": "2022-11-18T08:44:08.857Z"
   },
   {
    "duration": 22,
    "start_time": "2022-11-18T08:44:08.886Z"
   },
   {
    "duration": 97,
    "start_time": "2022-11-18T08:44:08.909Z"
   },
   {
    "duration": 12,
    "start_time": "2022-11-18T08:44:09.007Z"
   },
   {
    "duration": 17,
    "start_time": "2022-11-18T08:44:09.020Z"
   },
   {
    "duration": 37,
    "start_time": "2022-11-18T08:44:09.038Z"
   },
   {
    "duration": 11,
    "start_time": "2022-11-18T08:44:09.077Z"
   },
   {
    "duration": 11,
    "start_time": "2022-11-18T08:44:09.105Z"
   },
   {
    "duration": 11,
    "start_time": "2022-11-18T08:44:09.120Z"
   },
   {
    "duration": 93,
    "start_time": "2022-11-18T08:44:09.132Z"
   },
   {
    "duration": 0,
    "start_time": "2022-11-18T08:44:09.226Z"
   },
   {
    "duration": 0,
    "start_time": "2022-11-18T08:44:09.227Z"
   },
   {
    "duration": 0,
    "start_time": "2022-11-18T08:44:09.228Z"
   },
   {
    "duration": 0,
    "start_time": "2022-11-18T08:44:09.229Z"
   },
   {
    "duration": 0,
    "start_time": "2022-11-18T08:44:09.230Z"
   },
   {
    "duration": 0,
    "start_time": "2022-11-18T08:44:09.232Z"
   },
   {
    "duration": 0,
    "start_time": "2022-11-18T08:44:09.233Z"
   },
   {
    "duration": 0,
    "start_time": "2022-11-18T08:44:09.234Z"
   },
   {
    "duration": 0,
    "start_time": "2022-11-18T08:44:09.235Z"
   },
   {
    "duration": 1,
    "start_time": "2022-11-18T08:44:09.235Z"
   },
   {
    "duration": 0,
    "start_time": "2022-11-18T08:44:09.236Z"
   },
   {
    "duration": 0,
    "start_time": "2022-11-18T08:44:09.237Z"
   },
   {
    "duration": 0,
    "start_time": "2022-11-18T08:44:09.238Z"
   },
   {
    "duration": 0,
    "start_time": "2022-11-18T08:44:09.239Z"
   },
   {
    "duration": 0,
    "start_time": "2022-11-18T08:44:09.241Z"
   },
   {
    "duration": 0,
    "start_time": "2022-11-18T08:44:09.242Z"
   },
   {
    "duration": 0,
    "start_time": "2022-11-18T08:44:09.243Z"
   },
   {
    "duration": 0,
    "start_time": "2022-11-18T08:44:09.245Z"
   },
   {
    "duration": 0,
    "start_time": "2022-11-18T08:44:09.245Z"
   },
   {
    "duration": 0,
    "start_time": "2022-11-18T08:44:09.246Z"
   },
   {
    "duration": 0,
    "start_time": "2022-11-18T08:44:09.248Z"
   },
   {
    "duration": 1,
    "start_time": "2022-11-18T08:44:09.248Z"
   },
   {
    "duration": 0,
    "start_time": "2022-11-18T08:44:09.249Z"
   },
   {
    "duration": 0,
    "start_time": "2022-11-18T08:44:09.250Z"
   },
   {
    "duration": 0,
    "start_time": "2022-11-18T08:44:09.251Z"
   },
   {
    "duration": 0,
    "start_time": "2022-11-18T08:44:09.252Z"
   },
   {
    "duration": 0,
    "start_time": "2022-11-18T08:44:09.253Z"
   },
   {
    "duration": 0,
    "start_time": "2022-11-18T08:44:09.254Z"
   },
   {
    "duration": 0,
    "start_time": "2022-11-18T08:44:09.255Z"
   },
   {
    "duration": 0,
    "start_time": "2022-11-18T08:44:09.256Z"
   },
   {
    "duration": 0,
    "start_time": "2022-11-18T08:44:09.257Z"
   },
   {
    "duration": 0,
    "start_time": "2022-11-18T08:44:09.258Z"
   },
   {
    "duration": 0,
    "start_time": "2022-11-18T08:44:09.260Z"
   },
   {
    "duration": 0,
    "start_time": "2022-11-18T08:44:09.260Z"
   },
   {
    "duration": 75,
    "start_time": "2022-11-18T08:44:53.050Z"
   },
   {
    "duration": 13,
    "start_time": "2022-11-18T08:45:29.744Z"
   },
   {
    "duration": 69,
    "start_time": "2022-11-18T08:52:17.373Z"
   },
   {
    "duration": 91,
    "start_time": "2022-11-18T08:52:31.190Z"
   },
   {
    "duration": 6,
    "start_time": "2022-11-18T09:01:24.704Z"
   },
   {
    "duration": 6,
    "start_time": "2022-11-18T09:01:56.912Z"
   },
   {
    "duration": 6,
    "start_time": "2022-11-18T09:02:48.193Z"
   },
   {
    "duration": 6,
    "start_time": "2022-11-18T09:03:52.467Z"
   },
   {
    "duration": 74,
    "start_time": "2022-11-18T09:05:19.044Z"
   },
   {
    "duration": 149,
    "start_time": "2022-11-18T09:05:48.446Z"
   },
   {
    "duration": 89,
    "start_time": "2022-11-18T09:08:40.840Z"
   },
   {
    "duration": 7,
    "start_time": "2022-11-18T09:08:54.058Z"
   },
   {
    "duration": 100,
    "start_time": "2022-11-18T09:09:46.284Z"
   },
   {
    "duration": 79,
    "start_time": "2022-11-18T09:10:20.432Z"
   },
   {
    "duration": 77,
    "start_time": "2022-11-18T09:10:34.833Z"
   },
   {
    "duration": 73,
    "start_time": "2022-11-18T09:10:52.058Z"
   },
   {
    "duration": 81,
    "start_time": "2022-11-18T09:11:04.832Z"
   },
   {
    "duration": 8,
    "start_time": "2022-11-18T09:11:16.919Z"
   },
   {
    "duration": 7,
    "start_time": "2022-11-18T09:11:29.474Z"
   },
   {
    "duration": 7,
    "start_time": "2022-11-18T09:12:28.785Z"
   },
   {
    "duration": 9,
    "start_time": "2022-11-18T09:16:53.330Z"
   },
   {
    "duration": 1176,
    "start_time": "2022-11-18T09:17:07.856Z"
   },
   {
    "duration": 432,
    "start_time": "2022-11-18T09:17:09.034Z"
   },
   {
    "duration": 39,
    "start_time": "2022-11-18T09:17:09.468Z"
   },
   {
    "duration": 28,
    "start_time": "2022-11-18T09:17:09.508Z"
   },
   {
    "duration": 23,
    "start_time": "2022-11-18T09:17:09.539Z"
   },
   {
    "duration": 41,
    "start_time": "2022-11-18T09:17:09.564Z"
   },
   {
    "duration": 19,
    "start_time": "2022-11-18T09:17:09.607Z"
   },
   {
    "duration": 8,
    "start_time": "2022-11-18T09:17:09.628Z"
   },
   {
    "duration": 4,
    "start_time": "2022-11-18T09:17:09.638Z"
   },
   {
    "duration": 85,
    "start_time": "2022-11-18T09:17:09.644Z"
   },
   {
    "duration": 84,
    "start_time": "2022-11-18T09:17:09.731Z"
   },
   {
    "duration": 126,
    "start_time": "2022-11-18T09:17:09.817Z"
   },
   {
    "duration": 131,
    "start_time": "2022-11-18T09:17:09.945Z"
   },
   {
    "duration": 179,
    "start_time": "2022-11-18T09:17:10.078Z"
   },
   {
    "duration": 106,
    "start_time": "2022-11-18T09:17:10.259Z"
   },
   {
    "duration": 160,
    "start_time": "2022-11-18T09:17:10.367Z"
   },
   {
    "duration": 39,
    "start_time": "2022-11-18T09:17:10.528Z"
   },
   {
    "duration": 47,
    "start_time": "2022-11-18T09:17:10.569Z"
   },
   {
    "duration": 8,
    "start_time": "2022-11-18T09:17:10.617Z"
   },
   {
    "duration": 18,
    "start_time": "2022-11-18T09:17:10.627Z"
   },
   {
    "duration": 21,
    "start_time": "2022-11-18T09:17:10.647Z"
   },
   {
    "duration": 41,
    "start_time": "2022-11-18T09:17:10.671Z"
   },
   {
    "duration": 41,
    "start_time": "2022-11-18T09:17:10.714Z"
   },
   {
    "duration": 21,
    "start_time": "2022-11-18T09:17:10.757Z"
   },
   {
    "duration": 48,
    "start_time": "2022-11-18T09:17:10.779Z"
   },
   {
    "duration": 43,
    "start_time": "2022-11-18T09:17:10.829Z"
   },
   {
    "duration": 50,
    "start_time": "2022-11-18T09:17:10.873Z"
   },
   {
    "duration": 33,
    "start_time": "2022-11-18T09:17:10.924Z"
   },
   {
    "duration": 47,
    "start_time": "2022-11-18T09:17:10.959Z"
   },
   {
    "duration": 13,
    "start_time": "2022-11-18T09:17:11.008Z"
   },
   {
    "duration": 7,
    "start_time": "2022-11-18T09:17:11.023Z"
   },
   {
    "duration": 8,
    "start_time": "2022-11-18T09:17:11.032Z"
   },
   {
    "duration": 28,
    "start_time": "2022-11-18T09:17:11.042Z"
   },
   {
    "duration": 32,
    "start_time": "2022-11-18T09:17:11.073Z"
   },
   {
    "duration": 95,
    "start_time": "2022-11-18T09:17:11.106Z"
   },
   {
    "duration": 10,
    "start_time": "2022-11-18T09:17:11.204Z"
   },
   {
    "duration": 16,
    "start_time": "2022-11-18T09:17:11.216Z"
   },
   {
    "duration": 33,
    "start_time": "2022-11-18T09:17:11.233Z"
   },
   {
    "duration": 11,
    "start_time": "2022-11-18T09:17:11.267Z"
   },
   {
    "duration": 32,
    "start_time": "2022-11-18T09:17:11.279Z"
   },
   {
    "duration": 11,
    "start_time": "2022-11-18T09:17:11.316Z"
   },
   {
    "duration": 16,
    "start_time": "2022-11-18T09:17:11.328Z"
   },
   {
    "duration": 9,
    "start_time": "2022-11-18T09:17:11.345Z"
   },
   {
    "duration": 13,
    "start_time": "2022-11-18T09:17:11.355Z"
   },
   {
    "duration": 71,
    "start_time": "2022-11-18T09:17:11.370Z"
   },
   {
    "duration": 28,
    "start_time": "2022-11-18T09:17:11.443Z"
   },
   {
    "duration": 6,
    "start_time": "2022-11-18T09:17:11.473Z"
   },
   {
    "duration": 22,
    "start_time": "2022-11-18T09:17:11.504Z"
   },
   {
    "duration": 8,
    "start_time": "2022-11-18T09:17:11.527Z"
   },
   {
    "duration": 9,
    "start_time": "2022-11-18T09:17:11.537Z"
   },
   {
    "duration": 9,
    "start_time": "2022-11-18T09:17:11.548Z"
   },
   {
    "duration": 11,
    "start_time": "2022-11-18T09:17:11.559Z"
   },
   {
    "duration": 8,
    "start_time": "2022-11-18T09:17:11.571Z"
   },
   {
    "duration": 12,
    "start_time": "2022-11-18T09:17:11.580Z"
   },
   {
    "duration": 16,
    "start_time": "2022-11-18T09:17:11.593Z"
   },
   {
    "duration": 155,
    "start_time": "2022-11-18T09:17:11.610Z"
   },
   {
    "duration": 250,
    "start_time": "2022-11-18T09:17:11.767Z"
   },
   {
    "duration": 197,
    "start_time": "2022-11-18T09:17:12.019Z"
   },
   {
    "duration": 172,
    "start_time": "2022-11-18T09:17:12.217Z"
   },
   {
    "duration": 16,
    "start_time": "2022-11-18T09:17:12.390Z"
   },
   {
    "duration": 7,
    "start_time": "2022-11-18T09:17:12.408Z"
   },
   {
    "duration": 16,
    "start_time": "2022-11-18T09:17:12.417Z"
   },
   {
    "duration": 9,
    "start_time": "2022-11-18T09:17:12.435Z"
   },
   {
    "duration": 7,
    "start_time": "2022-11-18T09:17:12.446Z"
   },
   {
    "duration": 17,
    "start_time": "2022-11-18T09:17:12.455Z"
   },
   {
    "duration": 10,
    "start_time": "2022-11-18T09:17:12.474Z"
   },
   {
    "duration": 21,
    "start_time": "2022-11-18T09:17:12.486Z"
   },
   {
    "duration": 175,
    "start_time": "2022-11-18T09:17:12.509Z"
   },
   {
    "duration": 170,
    "start_time": "2022-11-18T09:17:12.685Z"
   },
   {
    "duration": 160,
    "start_time": "2022-11-18T09:17:12.857Z"
   },
   {
    "duration": 175,
    "start_time": "2022-11-18T09:17:13.018Z"
   },
   {
    "duration": 238,
    "start_time": "2022-11-18T09:17:13.194Z"
   },
   {
    "duration": 225,
    "start_time": "2022-11-18T09:17:13.434Z"
   },
   {
    "duration": 331,
    "start_time": "2022-11-18T09:17:13.661Z"
   },
   {
    "duration": 244,
    "start_time": "2022-11-18T09:17:13.994Z"
   },
   {
    "duration": 5,
    "start_time": "2022-11-18T09:17:14.240Z"
   },
   {
    "duration": 14,
    "start_time": "2022-11-18T09:17:14.246Z"
   },
   {
    "duration": 14,
    "start_time": "2022-11-18T09:17:14.261Z"
   },
   {
    "duration": 9,
    "start_time": "2022-11-18T09:18:09.352Z"
   },
   {
    "duration": 106,
    "start_time": "2022-11-18T09:24:42.953Z"
   },
   {
    "duration": 9,
    "start_time": "2022-11-18T09:25:01.573Z"
   },
   {
    "duration": 10,
    "start_time": "2022-11-18T09:25:31.067Z"
   },
   {
    "duration": 12,
    "start_time": "2022-11-18T09:36:11.168Z"
   },
   {
    "duration": 1169,
    "start_time": "2022-11-18T10:09:53.732Z"
   },
   {
    "duration": 412,
    "start_time": "2022-11-18T10:09:54.904Z"
   },
   {
    "duration": 34,
    "start_time": "2022-11-18T10:09:55.318Z"
   },
   {
    "duration": 26,
    "start_time": "2022-11-18T10:09:55.353Z"
   },
   {
    "duration": 33,
    "start_time": "2022-11-18T10:09:55.380Z"
   },
   {
    "duration": 20,
    "start_time": "2022-11-18T10:09:55.414Z"
   },
   {
    "duration": 33,
    "start_time": "2022-11-18T10:09:55.436Z"
   },
   {
    "duration": 11,
    "start_time": "2022-11-18T10:09:55.470Z"
   },
   {
    "duration": 9,
    "start_time": "2022-11-18T10:09:55.482Z"
   },
   {
    "duration": 62,
    "start_time": "2022-11-18T10:09:55.493Z"
   },
   {
    "duration": 86,
    "start_time": "2022-11-18T10:09:55.557Z"
   },
   {
    "duration": 119,
    "start_time": "2022-11-18T10:09:55.645Z"
   },
   {
    "duration": 120,
    "start_time": "2022-11-18T10:09:55.766Z"
   },
   {
    "duration": 174,
    "start_time": "2022-11-18T10:09:55.889Z"
   },
   {
    "duration": 118,
    "start_time": "2022-11-18T10:09:56.064Z"
   },
   {
    "duration": 173,
    "start_time": "2022-11-18T10:09:56.184Z"
   },
   {
    "duration": 52,
    "start_time": "2022-11-18T10:09:56.359Z"
   },
   {
    "duration": 32,
    "start_time": "2022-11-18T10:09:56.413Z"
   },
   {
    "duration": 14,
    "start_time": "2022-11-18T10:09:56.447Z"
   },
   {
    "duration": 43,
    "start_time": "2022-11-18T10:09:56.463Z"
   },
   {
    "duration": 23,
    "start_time": "2022-11-18T10:09:56.508Z"
   },
   {
    "duration": 14,
    "start_time": "2022-11-18T10:09:56.533Z"
   },
   {
    "duration": 61,
    "start_time": "2022-11-18T10:09:56.549Z"
   },
   {
    "duration": 24,
    "start_time": "2022-11-18T10:09:56.611Z"
   },
   {
    "duration": 30,
    "start_time": "2022-11-18T10:09:56.637Z"
   },
   {
    "duration": 66,
    "start_time": "2022-11-18T10:09:56.669Z"
   },
   {
    "duration": 30,
    "start_time": "2022-11-18T10:09:56.737Z"
   },
   {
    "duration": 54,
    "start_time": "2022-11-18T10:09:56.769Z"
   },
   {
    "duration": 30,
    "start_time": "2022-11-18T10:09:56.825Z"
   },
   {
    "duration": 12,
    "start_time": "2022-11-18T10:09:56.856Z"
   },
   {
    "duration": 6,
    "start_time": "2022-11-18T10:09:56.871Z"
   },
   {
    "duration": 7,
    "start_time": "2022-11-18T10:09:56.904Z"
   },
   {
    "duration": 31,
    "start_time": "2022-11-18T10:09:56.913Z"
   },
   {
    "duration": 6,
    "start_time": "2022-11-18T10:09:56.945Z"
   },
   {
    "duration": 107,
    "start_time": "2022-11-18T10:09:56.953Z"
   },
   {
    "duration": 13,
    "start_time": "2022-11-18T10:09:57.062Z"
   },
   {
    "duration": 32,
    "start_time": "2022-11-18T10:09:57.076Z"
   },
   {
    "duration": 42,
    "start_time": "2022-11-18T10:09:57.110Z"
   },
   {
    "duration": 11,
    "start_time": "2022-11-18T10:09:57.153Z"
   },
   {
    "duration": 16,
    "start_time": "2022-11-18T10:09:57.166Z"
   },
   {
    "duration": 24,
    "start_time": "2022-11-18T10:09:57.186Z"
   },
   {
    "duration": 17,
    "start_time": "2022-11-18T10:09:57.212Z"
   },
   {
    "duration": 15,
    "start_time": "2022-11-18T10:09:57.231Z"
   },
   {
    "duration": 70,
    "start_time": "2022-11-18T10:09:57.248Z"
   },
   {
    "duration": 39,
    "start_time": "2022-11-18T10:09:57.320Z"
   },
   {
    "duration": 14,
    "start_time": "2022-11-18T10:09:57.361Z"
   },
   {
    "duration": 30,
    "start_time": "2022-11-18T10:09:57.377Z"
   },
   {
    "duration": 19,
    "start_time": "2022-11-18T10:09:57.409Z"
   },
   {
    "duration": 23,
    "start_time": "2022-11-18T10:09:57.431Z"
   },
   {
    "duration": 11,
    "start_time": "2022-11-18T10:09:57.457Z"
   },
   {
    "duration": 33,
    "start_time": "2022-11-18T10:09:57.470Z"
   },
   {
    "duration": 20,
    "start_time": "2022-11-18T10:09:57.505Z"
   },
   {
    "duration": 16,
    "start_time": "2022-11-18T10:09:57.527Z"
   },
   {
    "duration": 16,
    "start_time": "2022-11-18T10:09:57.545Z"
   },
   {
    "duration": 186,
    "start_time": "2022-11-18T10:09:57.563Z"
   },
   {
    "duration": 246,
    "start_time": "2022-11-18T10:09:57.751Z"
   },
   {
    "duration": 204,
    "start_time": "2022-11-18T10:09:58.004Z"
   },
   {
    "duration": 177,
    "start_time": "2022-11-18T10:09:58.210Z"
   },
   {
    "duration": 8,
    "start_time": "2022-11-18T10:09:58.388Z"
   },
   {
    "duration": 19,
    "start_time": "2022-11-18T10:09:58.405Z"
   },
   {
    "duration": 23,
    "start_time": "2022-11-18T10:09:58.426Z"
   },
   {
    "duration": 16,
    "start_time": "2022-11-18T10:09:58.451Z"
   },
   {
    "duration": 10,
    "start_time": "2022-11-18T10:09:58.469Z"
   },
   {
    "duration": 12,
    "start_time": "2022-11-18T10:09:58.481Z"
   },
   {
    "duration": 11,
    "start_time": "2022-11-18T10:09:58.494Z"
   },
   {
    "duration": 10,
    "start_time": "2022-11-18T10:09:58.507Z"
   },
   {
    "duration": 178,
    "start_time": "2022-11-18T10:09:58.519Z"
   },
   {
    "duration": 186,
    "start_time": "2022-11-18T10:09:58.698Z"
   },
   {
    "duration": 162,
    "start_time": "2022-11-18T10:09:58.886Z"
   },
   {
    "duration": 187,
    "start_time": "2022-11-18T10:09:59.050Z"
   },
   {
    "duration": 259,
    "start_time": "2022-11-18T10:09:59.239Z"
   },
   {
    "duration": 239,
    "start_time": "2022-11-18T10:09:59.500Z"
   },
   {
    "duration": 350,
    "start_time": "2022-11-18T10:09:59.741Z"
   },
   {
    "duration": 261,
    "start_time": "2022-11-18T10:10:00.093Z"
   },
   {
    "duration": 5,
    "start_time": "2022-11-18T10:10:00.355Z"
   },
   {
    "duration": 23,
    "start_time": "2022-11-18T10:10:00.362Z"
   },
   {
    "duration": 15,
    "start_time": "2022-11-18T10:10:00.387Z"
   },
   {
    "duration": 8,
    "start_time": "2022-11-18T10:32:02.578Z"
   },
   {
    "duration": 50,
    "start_time": "2022-11-20T15:57:31.788Z"
   },
   {
    "duration": 1264,
    "start_time": "2022-11-20T15:57:41.329Z"
   },
   {
    "duration": 1193,
    "start_time": "2022-11-20T15:57:42.595Z"
   },
   {
    "duration": 36,
    "start_time": "2022-11-20T15:57:43.789Z"
   },
   {
    "duration": 28,
    "start_time": "2022-11-20T15:57:43.828Z"
   },
   {
    "duration": 53,
    "start_time": "2022-11-20T15:57:43.858Z"
   },
   {
    "duration": 21,
    "start_time": "2022-11-20T15:57:43.914Z"
   },
   {
    "duration": 36,
    "start_time": "2022-11-20T15:57:43.937Z"
   },
   {
    "duration": 19,
    "start_time": "2022-11-20T15:57:43.975Z"
   },
   {
    "duration": 15,
    "start_time": "2022-11-20T15:57:43.996Z"
   },
   {
    "duration": 74,
    "start_time": "2022-11-20T15:57:44.014Z"
   },
   {
    "duration": 94,
    "start_time": "2022-11-20T15:57:44.091Z"
   },
   {
    "duration": 130,
    "start_time": "2022-11-20T15:57:44.186Z"
   },
   {
    "duration": 118,
    "start_time": "2022-11-20T15:57:44.318Z"
   },
   {
    "duration": 174,
    "start_time": "2022-11-20T15:57:44.438Z"
   },
   {
    "duration": 117,
    "start_time": "2022-11-20T15:57:44.613Z"
   },
   {
    "duration": 175,
    "start_time": "2022-11-20T15:57:44.732Z"
   },
   {
    "duration": 53,
    "start_time": "2022-11-20T15:57:44.909Z"
   },
   {
    "duration": 38,
    "start_time": "2022-11-20T15:57:44.964Z"
   },
   {
    "duration": 9,
    "start_time": "2022-11-20T15:57:45.003Z"
   },
   {
    "duration": 20,
    "start_time": "2022-11-20T15:57:45.013Z"
   },
   {
    "duration": 49,
    "start_time": "2022-11-20T15:57:45.035Z"
   },
   {
    "duration": 11,
    "start_time": "2022-11-20T15:57:45.086Z"
   },
   {
    "duration": 49,
    "start_time": "2022-11-20T15:57:45.099Z"
   },
   {
    "duration": 40,
    "start_time": "2022-11-20T15:57:45.150Z"
   },
   {
    "duration": 30,
    "start_time": "2022-11-20T15:57:45.192Z"
   },
   {
    "duration": 57,
    "start_time": "2022-11-20T15:57:45.224Z"
   },
   {
    "duration": 28,
    "start_time": "2022-11-20T15:57:45.283Z"
   },
   {
    "duration": 33,
    "start_time": "2022-11-20T15:57:45.315Z"
   },
   {
    "duration": 49,
    "start_time": "2022-11-20T15:57:45.349Z"
   },
   {
    "duration": 12,
    "start_time": "2022-11-20T15:57:45.400Z"
   },
   {
    "duration": 6,
    "start_time": "2022-11-20T15:57:45.414Z"
   },
   {
    "duration": 11,
    "start_time": "2022-11-20T15:57:45.421Z"
   },
   {
    "duration": 53,
    "start_time": "2022-11-20T15:57:45.434Z"
   },
   {
    "duration": 6,
    "start_time": "2022-11-20T15:57:45.488Z"
   },
   {
    "duration": 109,
    "start_time": "2022-11-20T15:57:45.496Z"
   },
   {
    "duration": 13,
    "start_time": "2022-11-20T15:57:45.607Z"
   },
   {
    "duration": 18,
    "start_time": "2022-11-20T15:57:45.622Z"
   },
   {
    "duration": 55,
    "start_time": "2022-11-20T15:57:45.642Z"
   },
   {
    "duration": 13,
    "start_time": "2022-11-20T15:57:45.699Z"
   },
   {
    "duration": 19,
    "start_time": "2022-11-20T15:57:45.714Z"
   },
   {
    "duration": 29,
    "start_time": "2022-11-20T15:57:45.735Z"
   },
   {
    "duration": 13,
    "start_time": "2022-11-20T15:57:45.777Z"
   },
   {
    "duration": 17,
    "start_time": "2022-11-20T15:57:45.792Z"
   },
   {
    "duration": 45,
    "start_time": "2022-11-20T15:57:45.811Z"
   },
   {
    "duration": 29,
    "start_time": "2022-11-20T15:57:45.879Z"
   },
   {
    "duration": 11,
    "start_time": "2022-11-20T15:57:45.909Z"
   },
   {
    "duration": 8,
    "start_time": "2022-11-20T15:57:45.922Z"
   },
   {
    "duration": 12,
    "start_time": "2022-11-20T15:57:45.932Z"
   },
   {
    "duration": 41,
    "start_time": "2022-11-20T15:57:45.946Z"
   },
   {
    "duration": 8,
    "start_time": "2022-11-20T15:57:45.989Z"
   },
   {
    "duration": 8,
    "start_time": "2022-11-20T15:57:45.998Z"
   },
   {
    "duration": 9,
    "start_time": "2022-11-20T15:57:46.007Z"
   },
   {
    "duration": 11,
    "start_time": "2022-11-20T15:57:46.018Z"
   },
   {
    "duration": 13,
    "start_time": "2022-11-20T15:57:46.031Z"
   },
   {
    "duration": 175,
    "start_time": "2022-11-20T15:57:46.046Z"
   },
   {
    "duration": 169,
    "start_time": "2022-11-20T15:57:46.223Z"
   },
   {
    "duration": 252,
    "start_time": "2022-11-20T15:57:46.394Z"
   },
   {
    "duration": 174,
    "start_time": "2022-11-20T15:57:46.648Z"
   },
   {
    "duration": 7,
    "start_time": "2022-11-20T15:57:46.824Z"
   },
   {
    "duration": 10,
    "start_time": "2022-11-20T15:57:46.833Z"
   },
   {
    "duration": 11,
    "start_time": "2022-11-20T15:57:46.844Z"
   },
   {
    "duration": 24,
    "start_time": "2022-11-20T15:57:46.857Z"
   },
   {
    "duration": 7,
    "start_time": "2022-11-20T15:57:46.884Z"
   },
   {
    "duration": 11,
    "start_time": "2022-11-20T15:57:46.893Z"
   },
   {
    "duration": 9,
    "start_time": "2022-11-20T15:57:46.906Z"
   },
   {
    "duration": 8,
    "start_time": "2022-11-20T15:57:46.917Z"
   },
   {
    "duration": 207,
    "start_time": "2022-11-20T15:57:46.926Z"
   },
   {
    "duration": 194,
    "start_time": "2022-11-20T15:57:47.135Z"
   },
   {
    "duration": 179,
    "start_time": "2022-11-20T15:57:47.330Z"
   },
   {
    "duration": 188,
    "start_time": "2022-11-20T15:57:47.511Z"
   },
   {
    "duration": 274,
    "start_time": "2022-11-20T15:57:47.700Z"
   },
   {
    "duration": 248,
    "start_time": "2022-11-20T15:57:47.977Z"
   },
   {
    "duration": 348,
    "start_time": "2022-11-20T15:57:48.227Z"
   },
   {
    "duration": 275,
    "start_time": "2022-11-20T15:57:48.577Z"
   },
   {
    "duration": 5,
    "start_time": "2022-11-20T15:57:48.853Z"
   },
   {
    "duration": 19,
    "start_time": "2022-11-20T15:57:48.860Z"
   },
   {
    "duration": 15,
    "start_time": "2022-11-20T15:57:48.881Z"
   },
   {
    "duration": 120,
    "start_time": "2022-11-20T15:58:32.368Z"
   },
   {
    "duration": 12,
    "start_time": "2022-11-20T15:58:53.967Z"
   },
   {
    "duration": 12,
    "start_time": "2022-11-20T16:00:06.524Z"
   },
   {
    "duration": 45,
    "start_time": "2022-11-22T12:49:11.440Z"
   },
   {
    "duration": 1271,
    "start_time": "2022-11-22T12:49:22.336Z"
   },
   {
    "duration": 936,
    "start_time": "2022-11-22T12:49:23.609Z"
   },
   {
    "duration": 37,
    "start_time": "2022-11-22T12:49:24.547Z"
   },
   {
    "duration": 27,
    "start_time": "2022-11-22T12:49:24.587Z"
   },
   {
    "duration": 23,
    "start_time": "2022-11-22T12:49:24.616Z"
   },
   {
    "duration": 14,
    "start_time": "2022-11-22T12:49:24.641Z"
   },
   {
    "duration": 25,
    "start_time": "2022-11-22T12:49:24.657Z"
   },
   {
    "duration": 8,
    "start_time": "2022-11-22T12:49:24.683Z"
   },
   {
    "duration": 5,
    "start_time": "2022-11-22T12:49:24.693Z"
   },
   {
    "duration": 49,
    "start_time": "2022-11-22T12:49:24.721Z"
   },
   {
    "duration": 73,
    "start_time": "2022-11-22T12:49:24.771Z"
   },
   {
    "duration": 101,
    "start_time": "2022-11-22T12:49:24.845Z"
   },
   {
    "duration": 108,
    "start_time": "2022-11-22T12:49:24.947Z"
   },
   {
    "duration": 153,
    "start_time": "2022-11-22T12:49:25.058Z"
   },
   {
    "duration": 92,
    "start_time": "2022-11-22T12:49:25.213Z"
   },
   {
    "duration": 214,
    "start_time": "2022-11-22T12:49:25.307Z"
   },
   {
    "duration": 38,
    "start_time": "2022-11-22T12:49:25.522Z"
   },
   {
    "duration": 28,
    "start_time": "2022-11-22T12:49:25.561Z"
   },
   {
    "duration": 31,
    "start_time": "2022-11-22T12:49:25.590Z"
   },
   {
    "duration": 16,
    "start_time": "2022-11-22T12:49:25.623Z"
   },
   {
    "duration": 19,
    "start_time": "2022-11-22T12:49:25.641Z"
   },
   {
    "duration": 9,
    "start_time": "2022-11-22T12:49:25.662Z"
   },
   {
    "duration": 69,
    "start_time": "2022-11-22T12:49:25.673Z"
   },
   {
    "duration": 21,
    "start_time": "2022-11-22T12:49:25.744Z"
   },
   {
    "duration": 29,
    "start_time": "2022-11-22T12:49:25.766Z"
   },
   {
    "duration": 58,
    "start_time": "2022-11-22T12:49:25.797Z"
   },
   {
    "duration": 26,
    "start_time": "2022-11-22T12:49:25.857Z"
   },
   {
    "duration": 53,
    "start_time": "2022-11-22T12:49:25.884Z"
   },
   {
    "duration": 30,
    "start_time": "2022-11-22T12:49:25.938Z"
   },
   {
    "duration": 11,
    "start_time": "2022-11-22T12:49:25.969Z"
   },
   {
    "duration": 13,
    "start_time": "2022-11-22T12:49:25.981Z"
   },
   {
    "duration": 5,
    "start_time": "2022-11-22T12:49:25.995Z"
   },
   {
    "duration": 29,
    "start_time": "2022-11-22T12:49:26.021Z"
   },
   {
    "duration": 4,
    "start_time": "2022-11-22T12:49:26.052Z"
   },
   {
    "duration": 96,
    "start_time": "2022-11-22T12:49:26.058Z"
   },
   {
    "duration": 12,
    "start_time": "2022-11-22T12:49:26.156Z"
   },
   {
    "duration": 21,
    "start_time": "2022-11-22T12:49:26.170Z"
   },
   {
    "duration": 45,
    "start_time": "2022-11-22T12:49:26.193Z"
   },
   {
    "duration": 10,
    "start_time": "2022-11-22T12:49:26.240Z"
   },
   {
    "duration": 11,
    "start_time": "2022-11-22T12:49:26.252Z"
   },
   {
    "duration": 11,
    "start_time": "2022-11-22T12:49:26.267Z"
   },
   {
    "duration": 12,
    "start_time": "2022-11-22T12:49:26.280Z"
   },
   {
    "duration": 11,
    "start_time": "2022-11-22T12:49:26.321Z"
   },
   {
    "duration": 44,
    "start_time": "2022-11-22T12:49:26.334Z"
   },
   {
    "duration": 42,
    "start_time": "2022-11-22T12:49:26.380Z"
   },
   {
    "duration": 9,
    "start_time": "2022-11-22T12:49:26.424Z"
   },
   {
    "duration": 4,
    "start_time": "2022-11-22T12:49:26.435Z"
   },
   {
    "duration": 11,
    "start_time": "2022-11-22T12:49:26.441Z"
   },
   {
    "duration": 6,
    "start_time": "2022-11-22T12:49:26.454Z"
   },
   {
    "duration": 7,
    "start_time": "2022-11-22T12:49:26.462Z"
   },
   {
    "duration": 9,
    "start_time": "2022-11-22T12:49:26.470Z"
   },
   {
    "duration": 7,
    "start_time": "2022-11-22T12:49:26.480Z"
   },
   {
    "duration": 8,
    "start_time": "2022-11-22T12:49:26.521Z"
   },
   {
    "duration": 9,
    "start_time": "2022-11-22T12:49:26.530Z"
   },
   {
    "duration": 6,
    "start_time": "2022-11-22T12:49:26.541Z"
   },
   {
    "duration": 7,
    "start_time": "2022-11-22T12:49:26.549Z"
   },
   {
    "duration": 160,
    "start_time": "2022-11-22T12:49:26.557Z"
   },
   {
    "duration": 214,
    "start_time": "2022-11-22T12:49:26.720Z"
   },
   {
    "duration": 181,
    "start_time": "2022-11-22T12:49:26.935Z"
   },
   {
    "duration": 153,
    "start_time": "2022-11-22T12:49:27.120Z"
   },
   {
    "duration": 6,
    "start_time": "2022-11-22T12:49:27.274Z"
   },
   {
    "duration": 17,
    "start_time": "2022-11-22T12:49:27.282Z"
   },
   {
    "duration": 26,
    "start_time": "2022-11-22T12:49:27.300Z"
   },
   {
    "duration": 33,
    "start_time": "2022-11-22T12:49:27.327Z"
   },
   {
    "duration": 23,
    "start_time": "2022-11-22T12:49:27.361Z"
   },
   {
    "duration": 19,
    "start_time": "2022-11-22T12:49:27.386Z"
   },
   {
    "duration": 9,
    "start_time": "2022-11-22T12:49:27.407Z"
   },
   {
    "duration": 15,
    "start_time": "2022-11-22T12:49:27.418Z"
   },
   {
    "duration": 156,
    "start_time": "2022-11-22T12:49:27.435Z"
   },
   {
    "duration": 159,
    "start_time": "2022-11-22T12:49:27.593Z"
   },
   {
    "duration": 145,
    "start_time": "2022-11-22T12:49:27.753Z"
   },
   {
    "duration": 161,
    "start_time": "2022-11-22T12:49:27.899Z"
   },
   {
    "duration": 230,
    "start_time": "2022-11-22T12:49:28.061Z"
   },
   {
    "duration": 208,
    "start_time": "2022-11-22T12:49:28.292Z"
   },
   {
    "duration": 294,
    "start_time": "2022-11-22T12:49:28.501Z"
   },
   {
    "duration": 211,
    "start_time": "2022-11-22T12:49:28.797Z"
   },
   {
    "duration": 15,
    "start_time": "2022-11-22T12:49:29.010Z"
   },
   {
    "duration": 12,
    "start_time": "2022-11-22T12:49:29.027Z"
   },
   {
    "duration": 18,
    "start_time": "2022-11-22T12:49:29.041Z"
   },
   {
    "duration": 61,
    "start_time": "2022-11-22T14:13:15.699Z"
   },
   {
    "duration": 1464,
    "start_time": "2022-11-22T14:14:06.940Z"
   },
   {
    "duration": 1158,
    "start_time": "2022-11-22T14:14:08.406Z"
   },
   {
    "duration": 30,
    "start_time": "2022-11-22T14:14:09.565Z"
   },
   {
    "duration": 24,
    "start_time": "2022-11-22T14:14:09.596Z"
   },
   {
    "duration": 20,
    "start_time": "2022-11-22T14:14:09.622Z"
   },
   {
    "duration": 42,
    "start_time": "2022-11-22T14:14:09.644Z"
   },
   {
    "duration": 20,
    "start_time": "2022-11-22T14:14:09.688Z"
   },
   {
    "duration": 6,
    "start_time": "2022-11-22T14:14:09.709Z"
   },
   {
    "duration": 10,
    "start_time": "2022-11-22T14:14:09.716Z"
   },
   {
    "duration": 65,
    "start_time": "2022-11-22T14:14:09.728Z"
   },
   {
    "duration": 69,
    "start_time": "2022-11-22T14:14:09.794Z"
   },
   {
    "duration": 114,
    "start_time": "2022-11-22T14:14:09.865Z"
   },
   {
    "duration": 121,
    "start_time": "2022-11-22T14:14:09.980Z"
   },
   {
    "duration": 187,
    "start_time": "2022-11-22T14:14:10.104Z"
   },
   {
    "duration": 116,
    "start_time": "2022-11-22T14:14:10.293Z"
   },
   {
    "duration": 160,
    "start_time": "2022-11-22T14:14:10.411Z"
   },
   {
    "duration": 37,
    "start_time": "2022-11-22T14:14:10.577Z"
   },
   {
    "duration": 30,
    "start_time": "2022-11-22T14:14:10.616Z"
   },
   {
    "duration": 30,
    "start_time": "2022-11-22T14:14:10.647Z"
   },
   {
    "duration": 18,
    "start_time": "2022-11-22T14:14:10.679Z"
   },
   {
    "duration": 35,
    "start_time": "2022-11-22T14:14:10.699Z"
   },
   {
    "duration": 20,
    "start_time": "2022-11-22T14:14:10.736Z"
   },
   {
    "duration": 51,
    "start_time": "2022-11-22T14:14:10.757Z"
   },
   {
    "duration": 23,
    "start_time": "2022-11-22T14:14:10.809Z"
   },
   {
    "duration": 31,
    "start_time": "2022-11-22T14:14:10.834Z"
   },
   {
    "duration": 51,
    "start_time": "2022-11-22T14:14:10.866Z"
   },
   {
    "duration": 30,
    "start_time": "2022-11-22T14:14:10.919Z"
   },
   {
    "duration": 53,
    "start_time": "2022-11-22T14:14:10.951Z"
   },
   {
    "duration": 33,
    "start_time": "2022-11-22T14:14:11.005Z"
   },
   {
    "duration": 38,
    "start_time": "2022-11-22T14:14:11.040Z"
   },
   {
    "duration": 24,
    "start_time": "2022-11-22T14:14:11.080Z"
   },
   {
    "duration": 20,
    "start_time": "2022-11-22T14:14:11.106Z"
   },
   {
    "duration": 51,
    "start_time": "2022-11-22T14:14:11.128Z"
   },
   {
    "duration": 11,
    "start_time": "2022-11-22T14:14:11.181Z"
   },
   {
    "duration": 117,
    "start_time": "2022-11-22T14:14:11.194Z"
   },
   {
    "duration": 13,
    "start_time": "2022-11-22T14:14:11.313Z"
   },
   {
    "duration": 36,
    "start_time": "2022-11-22T14:14:11.328Z"
   },
   {
    "duration": 55,
    "start_time": "2022-11-22T14:14:11.366Z"
   },
   {
    "duration": 20,
    "start_time": "2022-11-22T14:14:11.423Z"
   },
   {
    "duration": 24,
    "start_time": "2022-11-22T14:14:11.445Z"
   },
   {
    "duration": 17,
    "start_time": "2022-11-22T14:14:11.475Z"
   },
   {
    "duration": 22,
    "start_time": "2022-11-22T14:14:11.493Z"
   },
   {
    "duration": 14,
    "start_time": "2022-11-22T14:14:11.517Z"
   },
   {
    "duration": 50,
    "start_time": "2022-11-22T14:14:11.533Z"
   },
   {
    "duration": 28,
    "start_time": "2022-11-22T14:14:11.584Z"
   },
   {
    "duration": 11,
    "start_time": "2022-11-22T14:14:11.613Z"
   },
   {
    "duration": 4,
    "start_time": "2022-11-22T14:14:11.625Z"
   },
   {
    "duration": 10,
    "start_time": "2022-11-22T14:14:11.631Z"
   },
   {
    "duration": 36,
    "start_time": "2022-11-22T14:14:11.643Z"
   },
   {
    "duration": 7,
    "start_time": "2022-11-22T14:14:11.680Z"
   },
   {
    "duration": 7,
    "start_time": "2022-11-22T14:14:11.689Z"
   },
   {
    "duration": 10,
    "start_time": "2022-11-22T14:14:11.697Z"
   },
   {
    "duration": 14,
    "start_time": "2022-11-22T14:14:11.709Z"
   },
   {
    "duration": 9,
    "start_time": "2022-11-22T14:14:11.725Z"
   },
   {
    "duration": 8,
    "start_time": "2022-11-22T14:14:11.735Z"
   },
   {
    "duration": 33,
    "start_time": "2022-11-22T14:14:11.745Z"
   },
   {
    "duration": 156,
    "start_time": "2022-11-22T14:14:11.780Z"
   },
   {
    "duration": 231,
    "start_time": "2022-11-22T14:14:11.937Z"
   },
   {
    "duration": 201,
    "start_time": "2022-11-22T14:14:12.169Z"
   },
   {
    "duration": 170,
    "start_time": "2022-11-22T14:14:12.372Z"
   },
   {
    "duration": 7,
    "start_time": "2022-11-22T14:14:12.544Z"
   },
   {
    "duration": 9,
    "start_time": "2022-11-22T14:14:12.552Z"
   },
   {
    "duration": 16,
    "start_time": "2022-11-22T14:14:12.563Z"
   },
   {
    "duration": 12,
    "start_time": "2022-11-22T14:14:12.581Z"
   },
   {
    "duration": 9,
    "start_time": "2022-11-22T14:14:12.595Z"
   },
   {
    "duration": 13,
    "start_time": "2022-11-22T14:14:12.605Z"
   },
   {
    "duration": 10,
    "start_time": "2022-11-22T14:14:12.619Z"
   },
   {
    "duration": 17,
    "start_time": "2022-11-22T14:14:12.630Z"
   },
   {
    "duration": 196,
    "start_time": "2022-11-22T14:14:12.649Z"
   },
   {
    "duration": 194,
    "start_time": "2022-11-22T14:14:12.847Z"
   },
   {
    "duration": 175,
    "start_time": "2022-11-22T14:14:13.043Z"
   },
   {
    "duration": 198,
    "start_time": "2022-11-22T14:14:13.220Z"
   },
   {
    "duration": 270,
    "start_time": "2022-11-22T14:14:13.420Z"
   },
   {
    "duration": 266,
    "start_time": "2022-11-22T14:14:13.692Z"
   },
   {
    "duration": 392,
    "start_time": "2022-11-22T14:14:13.962Z"
   },
   {
    "duration": 262,
    "start_time": "2022-11-22T14:14:14.356Z"
   },
   {
    "duration": 6,
    "start_time": "2022-11-22T14:14:14.620Z"
   },
   {
    "duration": 7,
    "start_time": "2022-11-22T14:14:14.627Z"
   },
   {
    "duration": 14,
    "start_time": "2022-11-22T14:14:14.636Z"
   },
   {
    "duration": 6,
    "start_time": "2022-11-22T14:15:47.513Z"
   },
   {
    "duration": 4,
    "start_time": "2022-11-22T14:18:09.690Z"
   },
   {
    "duration": 7,
    "start_time": "2022-11-22T14:18:57.777Z"
   },
   {
    "duration": 103,
    "start_time": "2022-11-22T14:26:50.034Z"
   },
   {
    "duration": 23,
    "start_time": "2022-11-22T14:27:36.070Z"
   },
   {
    "duration": 414,
    "start_time": "2022-11-22T14:29:31.971Z"
   },
   {
    "duration": 10,
    "start_time": "2022-11-22T14:30:39.133Z"
   },
   {
    "duration": 12,
    "start_time": "2022-11-22T14:30:59.581Z"
   },
   {
    "duration": 12,
    "start_time": "2022-11-22T14:32:00.731Z"
   },
   {
    "duration": 24,
    "start_time": "2022-11-22T14:33:19.356Z"
   },
   {
    "duration": 1244,
    "start_time": "2022-11-22T14:40:53.905Z"
   },
   {
    "duration": 448,
    "start_time": "2022-11-22T14:40:55.151Z"
   },
   {
    "duration": 37,
    "start_time": "2022-11-22T14:40:55.601Z"
   },
   {
    "duration": 32,
    "start_time": "2022-11-22T14:40:55.640Z"
   },
   {
    "duration": 28,
    "start_time": "2022-11-22T14:40:55.677Z"
   },
   {
    "duration": 25,
    "start_time": "2022-11-22T14:40:55.707Z"
   },
   {
    "duration": 48,
    "start_time": "2022-11-22T14:40:55.734Z"
   },
   {
    "duration": 14,
    "start_time": "2022-11-22T14:40:55.784Z"
   },
   {
    "duration": 28,
    "start_time": "2022-11-22T14:40:55.800Z"
   },
   {
    "duration": 75,
    "start_time": "2022-11-22T14:40:55.830Z"
   },
   {
    "duration": 87,
    "start_time": "2022-11-22T14:40:55.907Z"
   },
   {
    "duration": 120,
    "start_time": "2022-11-22T14:40:55.995Z"
   },
   {
    "duration": 124,
    "start_time": "2022-11-22T14:40:56.117Z"
   },
   {
    "duration": 168,
    "start_time": "2022-11-22T14:40:56.244Z"
   },
   {
    "duration": 121,
    "start_time": "2022-11-22T14:40:56.413Z"
   },
   {
    "duration": 173,
    "start_time": "2022-11-22T14:40:56.536Z"
   },
   {
    "duration": 34,
    "start_time": "2022-11-22T14:40:56.711Z"
   },
   {
    "duration": 42,
    "start_time": "2022-11-22T14:40:56.747Z"
   },
   {
    "duration": 7,
    "start_time": "2022-11-22T14:40:56.791Z"
   },
   {
    "duration": 28,
    "start_time": "2022-11-22T14:40:56.800Z"
   },
   {
    "duration": 30,
    "start_time": "2022-11-22T14:40:56.830Z"
   },
   {
    "duration": 22,
    "start_time": "2022-11-22T14:40:56.862Z"
   },
   {
    "duration": 48,
    "start_time": "2022-11-22T14:40:56.886Z"
   },
   {
    "duration": 23,
    "start_time": "2022-11-22T14:40:56.936Z"
   },
   {
    "duration": 41,
    "start_time": "2022-11-22T14:40:56.961Z"
   },
   {
    "duration": 40,
    "start_time": "2022-11-22T14:40:57.004Z"
   },
   {
    "duration": 37,
    "start_time": "2022-11-22T14:40:57.045Z"
   },
   {
    "duration": 35,
    "start_time": "2022-11-22T14:40:57.083Z"
   },
   {
    "duration": 31,
    "start_time": "2022-11-22T14:40:57.119Z"
   },
   {
    "duration": 32,
    "start_time": "2022-11-22T14:40:57.151Z"
   },
   {
    "duration": 30,
    "start_time": "2022-11-22T14:40:57.186Z"
   },
   {
    "duration": 29,
    "start_time": "2022-11-22T14:40:57.218Z"
   },
   {
    "duration": 60,
    "start_time": "2022-11-22T14:40:57.248Z"
   },
   {
    "duration": 6,
    "start_time": "2022-11-22T14:40:57.309Z"
   },
   {
    "duration": 110,
    "start_time": "2022-11-22T14:40:57.317Z"
   },
   {
    "duration": 11,
    "start_time": "2022-11-22T14:40:57.429Z"
   },
   {
    "duration": 32,
    "start_time": "2022-11-22T14:40:57.442Z"
   },
   {
    "duration": 54,
    "start_time": "2022-11-22T14:40:57.475Z"
   },
   {
    "duration": 15,
    "start_time": "2022-11-22T14:40:57.530Z"
   },
   {
    "duration": 27,
    "start_time": "2022-11-22T14:40:57.547Z"
   },
   {
    "duration": 29,
    "start_time": "2022-11-22T14:40:57.578Z"
   },
   {
    "duration": 34,
    "start_time": "2022-11-22T14:40:57.608Z"
   },
   {
    "duration": 25,
    "start_time": "2022-11-22T14:40:57.643Z"
   },
   {
    "duration": 68,
    "start_time": "2022-11-22T14:40:57.670Z"
   },
   {
    "duration": 27,
    "start_time": "2022-11-22T14:40:57.740Z"
   },
   {
    "duration": 14,
    "start_time": "2022-11-22T14:40:57.769Z"
   },
   {
    "duration": 40,
    "start_time": "2022-11-22T14:40:57.785Z"
   },
   {
    "duration": 44,
    "start_time": "2022-11-22T14:40:57.826Z"
   },
   {
    "duration": 13,
    "start_time": "2022-11-22T14:40:57.871Z"
   },
   {
    "duration": 32,
    "start_time": "2022-11-22T14:40:57.885Z"
   },
   {
    "duration": 32,
    "start_time": "2022-11-22T14:40:57.918Z"
   },
   {
    "duration": 41,
    "start_time": "2022-11-22T14:40:57.952Z"
   },
   {
    "duration": 38,
    "start_time": "2022-11-22T14:40:57.994Z"
   },
   {
    "duration": 27,
    "start_time": "2022-11-22T14:40:58.033Z"
   },
   {
    "duration": 24,
    "start_time": "2022-11-22T14:40:58.062Z"
   },
   {
    "duration": 159,
    "start_time": "2022-11-22T14:40:58.088Z"
   },
   {
    "duration": 236,
    "start_time": "2022-11-22T14:40:58.249Z"
   },
   {
    "duration": 194,
    "start_time": "2022-11-22T14:40:58.486Z"
   },
   {
    "duration": 169,
    "start_time": "2022-11-22T14:40:58.682Z"
   },
   {
    "duration": 7,
    "start_time": "2022-11-22T14:40:58.852Z"
   },
   {
    "duration": 51,
    "start_time": "2022-11-22T14:40:58.860Z"
   },
   {
    "duration": 45,
    "start_time": "2022-11-22T14:40:58.912Z"
   },
   {
    "duration": 57,
    "start_time": "2022-11-22T14:40:58.959Z"
   },
   {
    "duration": 32,
    "start_time": "2022-11-22T14:40:59.017Z"
   },
   {
    "duration": 29,
    "start_time": "2022-11-22T14:40:59.050Z"
   },
   {
    "duration": 33,
    "start_time": "2022-11-22T14:40:59.081Z"
   },
   {
    "duration": 27,
    "start_time": "2022-11-22T14:40:59.116Z"
   },
   {
    "duration": 160,
    "start_time": "2022-11-22T14:40:59.145Z"
   },
   {
    "duration": 183,
    "start_time": "2022-11-22T14:40:59.306Z"
   },
   {
    "duration": 150,
    "start_time": "2022-11-22T14:40:59.491Z"
   },
   {
    "duration": 174,
    "start_time": "2022-11-22T14:40:59.642Z"
   },
   {
    "duration": 249,
    "start_time": "2022-11-22T14:40:59.817Z"
   },
   {
    "duration": 220,
    "start_time": "2022-11-22T14:41:00.067Z"
   },
   {
    "duration": 315,
    "start_time": "2022-11-22T14:41:00.289Z"
   },
   {
    "duration": 234,
    "start_time": "2022-11-22T14:41:00.605Z"
   },
   {
    "duration": 5,
    "start_time": "2022-11-22T14:41:00.841Z"
   },
   {
    "duration": 43,
    "start_time": "2022-11-22T14:41:00.848Z"
   },
   {
    "duration": 60,
    "start_time": "2022-11-22T14:41:00.893Z"
   },
   {
    "duration": 96,
    "start_time": "2022-11-22T15:05:28.262Z"
   },
   {
    "duration": 10,
    "start_time": "2022-11-22T15:07:12.933Z"
   },
   {
    "duration": 9,
    "start_time": "2022-11-22T15:07:38.941Z"
   },
   {
    "duration": 7,
    "start_time": "2022-11-22T15:08:37.641Z"
   },
   {
    "duration": 7,
    "start_time": "2022-11-22T15:13:28.267Z"
   },
   {
    "duration": 10,
    "start_time": "2022-11-22T15:15:29.712Z"
   },
   {
    "duration": 12,
    "start_time": "2022-11-22T15:15:58.652Z"
   },
   {
    "duration": 11,
    "start_time": "2022-11-22T15:16:47.300Z"
   },
   {
    "duration": 9,
    "start_time": "2022-11-22T15:20:05.970Z"
   },
   {
    "duration": 1134,
    "start_time": "2022-11-22T15:36:33.241Z"
   },
   {
    "duration": 389,
    "start_time": "2022-11-22T15:36:34.378Z"
   },
   {
    "duration": 31,
    "start_time": "2022-11-22T15:36:34.769Z"
   },
   {
    "duration": 24,
    "start_time": "2022-11-22T15:36:34.802Z"
   },
   {
    "duration": 21,
    "start_time": "2022-11-22T15:36:34.828Z"
   },
   {
    "duration": 40,
    "start_time": "2022-11-22T15:36:34.851Z"
   },
   {
    "duration": 21,
    "start_time": "2022-11-22T15:36:34.892Z"
   },
   {
    "duration": 7,
    "start_time": "2022-11-22T15:36:34.915Z"
   },
   {
    "duration": 5,
    "start_time": "2022-11-22T15:36:34.924Z"
   },
   {
    "duration": 81,
    "start_time": "2022-11-22T15:36:34.930Z"
   },
   {
    "duration": 80,
    "start_time": "2022-11-22T15:36:35.012Z"
   },
   {
    "duration": 106,
    "start_time": "2022-11-22T15:36:35.094Z"
   },
   {
    "duration": 122,
    "start_time": "2022-11-22T15:36:35.202Z"
   },
   {
    "duration": 158,
    "start_time": "2022-11-22T15:36:35.327Z"
   },
   {
    "duration": 108,
    "start_time": "2022-11-22T15:36:35.487Z"
   },
   {
    "duration": 192,
    "start_time": "2022-11-22T15:36:35.597Z"
   },
   {
    "duration": 37,
    "start_time": "2022-11-22T15:36:35.791Z"
   },
   {
    "duration": 29,
    "start_time": "2022-11-22T15:36:35.830Z"
   },
   {
    "duration": 8,
    "start_time": "2022-11-22T15:36:35.879Z"
   },
   {
    "duration": 28,
    "start_time": "2022-11-22T15:36:35.889Z"
   },
   {
    "duration": 22,
    "start_time": "2022-11-22T15:36:35.919Z"
   },
   {
    "duration": 26,
    "start_time": "2022-11-22T15:36:35.943Z"
   },
   {
    "duration": 54,
    "start_time": "2022-11-22T15:36:35.971Z"
   },
   {
    "duration": 23,
    "start_time": "2022-11-22T15:36:36.027Z"
   },
   {
    "duration": 50,
    "start_time": "2022-11-22T15:36:36.052Z"
   },
   {
    "duration": 43,
    "start_time": "2022-11-22T15:36:36.104Z"
   },
   {
    "duration": 56,
    "start_time": "2022-11-22T15:36:36.149Z"
   },
   {
    "duration": 32,
    "start_time": "2022-11-22T15:36:36.208Z"
   },
   {
    "duration": 38,
    "start_time": "2022-11-22T15:36:36.242Z"
   },
   {
    "duration": 12,
    "start_time": "2022-11-22T15:36:36.281Z"
   },
   {
    "duration": 25,
    "start_time": "2022-11-22T15:36:36.295Z"
   },
   {
    "duration": 31,
    "start_time": "2022-11-22T15:36:36.322Z"
   },
   {
    "duration": 35,
    "start_time": "2022-11-22T15:36:36.354Z"
   },
   {
    "duration": 13,
    "start_time": "2022-11-22T15:36:36.390Z"
   },
   {
    "duration": 112,
    "start_time": "2022-11-22T15:36:36.404Z"
   },
   {
    "duration": 12,
    "start_time": "2022-11-22T15:36:36.517Z"
   },
   {
    "duration": 41,
    "start_time": "2022-11-22T15:36:36.531Z"
   },
   {
    "duration": 51,
    "start_time": "2022-11-22T15:36:36.574Z"
   },
   {
    "duration": 22,
    "start_time": "2022-11-22T15:36:36.626Z"
   },
   {
    "duration": 36,
    "start_time": "2022-11-22T15:36:36.650Z"
   },
   {
    "duration": 27,
    "start_time": "2022-11-22T15:36:36.690Z"
   },
   {
    "duration": 31,
    "start_time": "2022-11-22T15:36:36.718Z"
   },
   {
    "duration": 36,
    "start_time": "2022-11-22T15:36:36.751Z"
   },
   {
    "duration": 57,
    "start_time": "2022-11-22T15:36:36.789Z"
   },
   {
    "duration": 34,
    "start_time": "2022-11-22T15:36:36.848Z"
   },
   {
    "duration": 22,
    "start_time": "2022-11-22T15:36:36.884Z"
   },
   {
    "duration": 32,
    "start_time": "2022-11-22T15:36:36.908Z"
   },
   {
    "duration": 29,
    "start_time": "2022-11-22T15:36:36.942Z"
   },
   {
    "duration": 20,
    "start_time": "2022-11-22T15:36:36.972Z"
   },
   {
    "duration": 32,
    "start_time": "2022-11-22T15:36:36.994Z"
   },
   {
    "duration": 37,
    "start_time": "2022-11-22T15:36:37.028Z"
   },
   {
    "duration": 22,
    "start_time": "2022-11-22T15:36:37.067Z"
   },
   {
    "duration": 40,
    "start_time": "2022-11-22T15:36:37.091Z"
   },
   {
    "duration": 36,
    "start_time": "2022-11-22T15:36:37.133Z"
   },
   {
    "duration": 24,
    "start_time": "2022-11-22T15:36:37.170Z"
   },
   {
    "duration": 28,
    "start_time": "2022-11-22T15:36:37.195Z"
   },
   {
    "duration": 176,
    "start_time": "2022-11-22T15:36:37.225Z"
   },
   {
    "duration": 235,
    "start_time": "2022-11-22T15:36:37.403Z"
   },
   {
    "duration": 192,
    "start_time": "2022-11-22T15:36:37.639Z"
   },
   {
    "duration": 174,
    "start_time": "2022-11-22T15:36:37.833Z"
   },
   {
    "duration": 7,
    "start_time": "2022-11-22T15:36:38.008Z"
   },
   {
    "duration": 32,
    "start_time": "2022-11-22T15:36:38.017Z"
   },
   {
    "duration": 27,
    "start_time": "2022-11-22T15:36:38.051Z"
   },
   {
    "duration": 27,
    "start_time": "2022-11-22T15:36:38.079Z"
   },
   {
    "duration": 13,
    "start_time": "2022-11-22T15:36:38.108Z"
   },
   {
    "duration": 10,
    "start_time": "2022-11-22T15:36:38.123Z"
   },
   {
    "duration": 8,
    "start_time": "2022-11-22T15:36:38.135Z"
   },
   {
    "duration": 8,
    "start_time": "2022-11-22T15:36:38.145Z"
   },
   {
    "duration": 167,
    "start_time": "2022-11-22T15:36:38.155Z"
   },
   {
    "duration": 178,
    "start_time": "2022-11-22T15:36:38.324Z"
   },
   {
    "duration": 151,
    "start_time": "2022-11-22T15:36:38.504Z"
   },
   {
    "duration": 176,
    "start_time": "2022-11-22T15:36:38.657Z"
   },
   {
    "duration": 253,
    "start_time": "2022-11-22T15:36:38.835Z"
   },
   {
    "duration": 211,
    "start_time": "2022-11-22T15:36:39.089Z"
   },
   {
    "duration": 321,
    "start_time": "2022-11-22T15:36:39.302Z"
   },
   {
    "duration": 230,
    "start_time": "2022-11-22T15:36:39.625Z"
   },
   {
    "duration": 5,
    "start_time": "2022-11-22T15:36:39.857Z"
   },
   {
    "duration": 16,
    "start_time": "2022-11-22T15:36:39.863Z"
   },
   {
    "duration": 14,
    "start_time": "2022-11-22T15:36:39.880Z"
   },
   {
    "duration": 1139,
    "start_time": "2022-11-22T16:01:55.939Z"
   },
   {
    "duration": 410,
    "start_time": "2022-11-22T16:01:57.080Z"
   },
   {
    "duration": 32,
    "start_time": "2022-11-22T16:01:57.492Z"
   },
   {
    "duration": 27,
    "start_time": "2022-11-22T16:01:57.526Z"
   },
   {
    "duration": 34,
    "start_time": "2022-11-22T16:01:57.555Z"
   },
   {
    "duration": 15,
    "start_time": "2022-11-22T16:01:57.591Z"
   },
   {
    "duration": 21,
    "start_time": "2022-11-22T16:01:57.607Z"
   },
   {
    "duration": 6,
    "start_time": "2022-11-22T16:01:57.629Z"
   },
   {
    "duration": 43,
    "start_time": "2022-11-22T16:01:57.636Z"
   },
   {
    "duration": 53,
    "start_time": "2022-11-22T16:01:57.681Z"
   },
   {
    "duration": 91,
    "start_time": "2022-11-22T16:01:57.735Z"
   },
   {
    "duration": 109,
    "start_time": "2022-11-22T16:01:57.828Z"
   },
   {
    "duration": 114,
    "start_time": "2022-11-22T16:01:57.939Z"
   },
   {
    "duration": 168,
    "start_time": "2022-11-22T16:01:58.056Z"
   },
   {
    "duration": 104,
    "start_time": "2022-11-22T16:01:58.226Z"
   },
   {
    "duration": 162,
    "start_time": "2022-11-22T16:01:58.332Z"
   },
   {
    "duration": 37,
    "start_time": "2022-11-22T16:01:58.495Z"
   },
   {
    "duration": 46,
    "start_time": "2022-11-22T16:01:58.534Z"
   },
   {
    "duration": 8,
    "start_time": "2022-11-22T16:01:58.582Z"
   },
   {
    "duration": 22,
    "start_time": "2022-11-22T16:01:58.592Z"
   },
   {
    "duration": 23,
    "start_time": "2022-11-22T16:01:58.615Z"
   },
   {
    "duration": 10,
    "start_time": "2022-11-22T16:01:58.640Z"
   },
   {
    "duration": 65,
    "start_time": "2022-11-22T16:01:58.652Z"
   },
   {
    "duration": 21,
    "start_time": "2022-11-22T16:01:58.718Z"
   },
   {
    "duration": 46,
    "start_time": "2022-11-22T16:01:58.740Z"
   },
   {
    "duration": 41,
    "start_time": "2022-11-22T16:01:58.787Z"
   },
   {
    "duration": 25,
    "start_time": "2022-11-22T16:01:58.830Z"
   },
   {
    "duration": 61,
    "start_time": "2022-11-22T16:01:58.857Z"
   },
   {
    "duration": 30,
    "start_time": "2022-11-22T16:01:58.919Z"
   },
   {
    "duration": 32,
    "start_time": "2022-11-22T16:01:58.950Z"
   },
   {
    "duration": 8,
    "start_time": "2022-11-22T16:01:58.984Z"
   },
   {
    "duration": 12,
    "start_time": "2022-11-22T16:01:58.993Z"
   },
   {
    "duration": 27,
    "start_time": "2022-11-22T16:01:59.006Z"
   },
   {
    "duration": 5,
    "start_time": "2022-11-22T16:01:59.035Z"
   },
   {
    "duration": 101,
    "start_time": "2022-11-22T16:01:59.041Z"
   },
   {
    "duration": 13,
    "start_time": "2022-11-22T16:01:59.143Z"
   },
   {
    "duration": 29,
    "start_time": "2022-11-22T16:01:59.157Z"
   },
   {
    "duration": 32,
    "start_time": "2022-11-22T16:01:59.188Z"
   },
   {
    "duration": 10,
    "start_time": "2022-11-22T16:01:59.222Z"
   },
   {
    "duration": 15,
    "start_time": "2022-11-22T16:01:59.234Z"
   },
   {
    "duration": 16,
    "start_time": "2022-11-22T16:01:59.277Z"
   },
   {
    "duration": 22,
    "start_time": "2022-11-22T16:01:59.295Z"
   },
   {
    "duration": 18,
    "start_time": "2022-11-22T16:01:59.319Z"
   },
   {
    "duration": 67,
    "start_time": "2022-11-22T16:01:59.339Z"
   },
   {
    "duration": 30,
    "start_time": "2022-11-22T16:01:59.407Z"
   },
   {
    "duration": 13,
    "start_time": "2022-11-22T16:01:59.439Z"
   },
   {
    "duration": 12,
    "start_time": "2022-11-22T16:01:59.478Z"
   },
   {
    "duration": 10,
    "start_time": "2022-11-22T16:01:59.492Z"
   },
   {
    "duration": 8,
    "start_time": "2022-11-22T16:01:59.504Z"
   },
   {
    "duration": 10,
    "start_time": "2022-11-22T16:01:59.514Z"
   },
   {
    "duration": 9,
    "start_time": "2022-11-22T16:01:59.525Z"
   },
   {
    "duration": 11,
    "start_time": "2022-11-22T16:01:59.535Z"
   },
   {
    "duration": 36,
    "start_time": "2022-11-22T16:01:59.547Z"
   },
   {
    "duration": 8,
    "start_time": "2022-11-22T16:01:59.585Z"
   },
   {
    "duration": 10,
    "start_time": "2022-11-22T16:01:59.595Z"
   },
   {
    "duration": 8,
    "start_time": "2022-11-22T16:01:59.607Z"
   },
   {
    "duration": 170,
    "start_time": "2022-11-22T16:01:59.617Z"
   },
   {
    "duration": 241,
    "start_time": "2022-11-22T16:01:59.789Z"
   },
   {
    "duration": 206,
    "start_time": "2022-11-22T16:02:00.032Z"
   },
   {
    "duration": 179,
    "start_time": "2022-11-22T16:02:00.240Z"
   },
   {
    "duration": 8,
    "start_time": "2022-11-22T16:02:00.421Z"
   },
   {
    "duration": 29,
    "start_time": "2022-11-22T16:02:00.430Z"
   },
   {
    "duration": 24,
    "start_time": "2022-11-22T16:02:00.461Z"
   },
   {
    "duration": 43,
    "start_time": "2022-11-22T16:02:00.487Z"
   },
   {
    "duration": 53,
    "start_time": "2022-11-22T16:02:00.532Z"
   },
   {
    "duration": 48,
    "start_time": "2022-11-22T16:02:00.587Z"
   },
   {
    "duration": 50,
    "start_time": "2022-11-22T16:02:00.638Z"
   },
   {
    "duration": 49,
    "start_time": "2022-11-22T16:02:00.690Z"
   },
   {
    "duration": 225,
    "start_time": "2022-11-22T16:02:00.741Z"
   },
   {
    "duration": 183,
    "start_time": "2022-11-22T16:02:00.968Z"
   },
   {
    "duration": 170,
    "start_time": "2022-11-22T16:02:01.153Z"
   },
   {
    "duration": 188,
    "start_time": "2022-11-22T16:02:01.325Z"
   },
   {
    "duration": 254,
    "start_time": "2022-11-22T16:02:01.515Z"
   },
   {
    "duration": 227,
    "start_time": "2022-11-22T16:02:01.771Z"
   },
   {
    "duration": 321,
    "start_time": "2022-11-22T16:02:01.999Z"
   },
   {
    "duration": 239,
    "start_time": "2022-11-22T16:02:02.321Z"
   },
   {
    "duration": 5,
    "start_time": "2022-11-22T16:02:02.562Z"
   },
   {
    "duration": 7,
    "start_time": "2022-11-22T16:02:02.578Z"
   },
   {
    "duration": 10,
    "start_time": "2022-11-22T16:02:02.587Z"
   },
   {
    "duration": 7,
    "start_time": "2022-11-22T16:03:25.932Z"
   },
   {
    "duration": 7,
    "start_time": "2022-11-22T16:03:37.961Z"
   },
   {
    "duration": 1108,
    "start_time": "2022-11-22T16:05:36.619Z"
   },
   {
    "duration": 401,
    "start_time": "2022-11-22T16:05:37.729Z"
   },
   {
    "duration": 30,
    "start_time": "2022-11-22T16:05:38.132Z"
   },
   {
    "duration": 25,
    "start_time": "2022-11-22T16:05:38.164Z"
   },
   {
    "duration": 22,
    "start_time": "2022-11-22T16:05:38.190Z"
   },
   {
    "duration": 22,
    "start_time": "2022-11-22T16:05:38.214Z"
   },
   {
    "duration": 36,
    "start_time": "2022-11-22T16:05:38.238Z"
   },
   {
    "duration": 22,
    "start_time": "2022-11-22T16:05:38.275Z"
   },
   {
    "duration": 18,
    "start_time": "2022-11-22T16:05:38.299Z"
   },
   {
    "duration": 65,
    "start_time": "2022-11-22T16:05:38.319Z"
   },
   {
    "duration": 72,
    "start_time": "2022-11-22T16:05:38.386Z"
   },
   {
    "duration": 119,
    "start_time": "2022-11-22T16:05:38.460Z"
   },
   {
    "duration": 116,
    "start_time": "2022-11-22T16:05:38.580Z"
   },
   {
    "duration": 182,
    "start_time": "2022-11-22T16:05:38.698Z"
   },
   {
    "duration": 155,
    "start_time": "2022-11-22T16:05:38.882Z"
   },
   {
    "duration": 159,
    "start_time": "2022-11-22T16:05:39.039Z"
   },
   {
    "duration": 39,
    "start_time": "2022-11-22T16:05:39.200Z"
   },
   {
    "duration": 44,
    "start_time": "2022-11-22T16:05:39.240Z"
   },
   {
    "duration": 8,
    "start_time": "2022-11-22T16:05:39.285Z"
   },
   {
    "duration": 49,
    "start_time": "2022-11-22T16:05:39.295Z"
   },
   {
    "duration": 41,
    "start_time": "2022-11-22T16:05:39.346Z"
   },
   {
    "duration": 30,
    "start_time": "2022-11-22T16:05:39.389Z"
   },
   {
    "duration": 53,
    "start_time": "2022-11-22T16:05:39.420Z"
   },
   {
    "duration": 21,
    "start_time": "2022-11-22T16:05:39.474Z"
   },
   {
    "duration": 29,
    "start_time": "2022-11-22T16:05:39.497Z"
   },
   {
    "duration": 59,
    "start_time": "2022-11-22T16:05:39.527Z"
   },
   {
    "duration": 28,
    "start_time": "2022-11-22T16:05:39.587Z"
   },
   {
    "duration": 35,
    "start_time": "2022-11-22T16:05:39.620Z"
   },
   {
    "duration": 48,
    "start_time": "2022-11-22T16:05:39.657Z"
   },
   {
    "duration": 12,
    "start_time": "2022-11-22T16:05:39.707Z"
   },
   {
    "duration": 9,
    "start_time": "2022-11-22T16:05:39.721Z"
   },
   {
    "duration": 22,
    "start_time": "2022-11-22T16:05:39.732Z"
   },
   {
    "duration": 46,
    "start_time": "2022-11-22T16:05:39.756Z"
   },
   {
    "duration": 6,
    "start_time": "2022-11-22T16:05:39.803Z"
   },
   {
    "duration": 105,
    "start_time": "2022-11-22T16:05:39.810Z"
   },
   {
    "duration": 12,
    "start_time": "2022-11-22T16:05:39.917Z"
   },
   {
    "duration": 24,
    "start_time": "2022-11-22T16:05:39.930Z"
   },
   {
    "duration": 50,
    "start_time": "2022-11-22T16:05:39.956Z"
   },
   {
    "duration": 13,
    "start_time": "2022-11-22T16:05:40.008Z"
   },
   {
    "duration": 41,
    "start_time": "2022-11-22T16:05:40.023Z"
   },
   {
    "duration": 30,
    "start_time": "2022-11-22T16:05:40.065Z"
   },
   {
    "duration": 29,
    "start_time": "2022-11-22T16:05:40.096Z"
   },
   {
    "duration": 15,
    "start_time": "2022-11-22T16:05:40.127Z"
   },
   {
    "duration": 47,
    "start_time": "2022-11-22T16:05:40.143Z"
   },
   {
    "duration": 27,
    "start_time": "2022-11-22T16:05:40.192Z"
   },
   {
    "duration": 11,
    "start_time": "2022-11-22T16:05:40.221Z"
   },
   {
    "duration": 21,
    "start_time": "2022-11-22T16:05:40.233Z"
   },
   {
    "duration": 24,
    "start_time": "2022-11-22T16:05:40.256Z"
   },
   {
    "duration": 14,
    "start_time": "2022-11-22T16:05:40.281Z"
   },
   {
    "duration": 23,
    "start_time": "2022-11-22T16:05:40.297Z"
   },
   {
    "duration": 30,
    "start_time": "2022-11-22T16:05:40.322Z"
   },
   {
    "duration": 27,
    "start_time": "2022-11-22T16:05:40.353Z"
   },
   {
    "duration": 16,
    "start_time": "2022-11-22T16:05:40.381Z"
   },
   {
    "duration": 27,
    "start_time": "2022-11-22T16:05:40.398Z"
   },
   {
    "duration": 11,
    "start_time": "2022-11-22T16:05:40.426Z"
   },
   {
    "duration": 27,
    "start_time": "2022-11-22T16:05:40.439Z"
   },
   {
    "duration": 161,
    "start_time": "2022-11-22T16:05:40.467Z"
   },
   {
    "duration": 158,
    "start_time": "2022-11-22T16:05:40.629Z"
   },
   {
    "duration": 257,
    "start_time": "2022-11-22T16:05:40.788Z"
   },
   {
    "duration": 170,
    "start_time": "2022-11-22T16:05:41.046Z"
   },
   {
    "duration": 10,
    "start_time": "2022-11-22T16:05:41.218Z"
   },
   {
    "duration": 32,
    "start_time": "2022-11-22T16:05:41.230Z"
   },
   {
    "duration": 32,
    "start_time": "2022-11-22T16:05:41.264Z"
   },
   {
    "duration": 34,
    "start_time": "2022-11-22T16:05:41.298Z"
   },
   {
    "duration": 15,
    "start_time": "2022-11-22T16:05:41.333Z"
   },
   {
    "duration": 30,
    "start_time": "2022-11-22T16:05:41.349Z"
   },
   {
    "duration": 31,
    "start_time": "2022-11-22T16:05:41.381Z"
   },
   {
    "duration": 32,
    "start_time": "2022-11-22T16:05:41.414Z"
   },
   {
    "duration": 207,
    "start_time": "2022-11-22T16:05:41.448Z"
   },
   {
    "duration": 180,
    "start_time": "2022-11-22T16:05:41.656Z"
   },
   {
    "duration": 153,
    "start_time": "2022-11-22T16:05:41.838Z"
   },
   {
    "duration": 202,
    "start_time": "2022-11-22T16:05:41.993Z"
   },
   {
    "duration": 259,
    "start_time": "2022-11-22T16:05:42.196Z"
   },
   {
    "duration": 225,
    "start_time": "2022-11-22T16:05:42.457Z"
   },
   {
    "duration": 340,
    "start_time": "2022-11-22T16:05:42.684Z"
   },
   {
    "duration": 242,
    "start_time": "2022-11-22T16:05:43.026Z"
   },
   {
    "duration": 10,
    "start_time": "2022-11-22T16:05:43.269Z"
   },
   {
    "duration": 5,
    "start_time": "2022-11-22T16:05:43.281Z"
   },
   {
    "duration": 10,
    "start_time": "2022-11-22T16:05:43.288Z"
   },
   {
    "duration": 12,
    "start_time": "2022-11-22T16:37:07.636Z"
   },
   {
    "duration": 32,
    "start_time": "2022-11-22T16:37:23.142Z"
   },
   {
    "duration": 1121,
    "start_time": "2022-11-22T16:38:06.750Z"
   },
   {
    "duration": 435,
    "start_time": "2022-11-22T16:38:07.873Z"
   },
   {
    "duration": 33,
    "start_time": "2022-11-22T16:38:08.309Z"
   },
   {
    "duration": 24,
    "start_time": "2022-11-22T16:38:08.344Z"
   },
   {
    "duration": 29,
    "start_time": "2022-11-22T16:38:08.370Z"
   },
   {
    "duration": 19,
    "start_time": "2022-11-22T16:38:08.401Z"
   },
   {
    "duration": 39,
    "start_time": "2022-11-22T16:38:08.422Z"
   },
   {
    "duration": 9,
    "start_time": "2022-11-22T16:38:08.462Z"
   },
   {
    "duration": 23,
    "start_time": "2022-11-22T16:38:08.472Z"
   },
   {
    "duration": 97,
    "start_time": "2022-11-22T16:38:08.497Z"
   },
   {
    "duration": 97,
    "start_time": "2022-11-22T16:38:08.596Z"
   },
   {
    "duration": 157,
    "start_time": "2022-11-22T16:38:08.695Z"
   },
   {
    "duration": 140,
    "start_time": "2022-11-22T16:38:08.853Z"
   },
   {
    "duration": 159,
    "start_time": "2022-11-22T16:38:08.994Z"
   },
   {
    "duration": 102,
    "start_time": "2022-11-22T16:38:09.155Z"
   },
   {
    "duration": 183,
    "start_time": "2022-11-22T16:38:09.259Z"
   },
   {
    "duration": 46,
    "start_time": "2022-11-22T16:38:09.444Z"
   },
   {
    "duration": 29,
    "start_time": "2022-11-22T16:38:09.492Z"
   },
   {
    "duration": 25,
    "start_time": "2022-11-22T16:38:09.523Z"
   },
   {
    "duration": 38,
    "start_time": "2022-11-22T16:38:09.549Z"
   },
   {
    "duration": 34,
    "start_time": "2022-11-22T16:38:09.588Z"
   },
   {
    "duration": 30,
    "start_time": "2022-11-22T16:38:09.624Z"
   },
   {
    "duration": 60,
    "start_time": "2022-11-22T16:38:09.656Z"
   },
   {
    "duration": 22,
    "start_time": "2022-11-22T16:38:09.717Z"
   },
   {
    "duration": 41,
    "start_time": "2022-11-22T16:38:09.741Z"
   },
   {
    "duration": 45,
    "start_time": "2022-11-22T16:38:09.783Z"
   },
   {
    "duration": 26,
    "start_time": "2022-11-22T16:38:09.830Z"
   },
   {
    "duration": 32,
    "start_time": "2022-11-22T16:38:09.877Z"
   },
   {
    "duration": 44,
    "start_time": "2022-11-22T16:38:09.911Z"
   },
   {
    "duration": 12,
    "start_time": "2022-11-22T16:38:09.956Z"
   },
   {
    "duration": 13,
    "start_time": "2022-11-22T16:38:09.970Z"
   },
   {
    "duration": 27,
    "start_time": "2022-11-22T16:38:09.985Z"
   },
   {
    "duration": 42,
    "start_time": "2022-11-22T16:38:10.013Z"
   },
   {
    "duration": 10,
    "start_time": "2022-11-22T16:38:10.057Z"
   },
   {
    "duration": 118,
    "start_time": "2022-11-22T16:38:10.068Z"
   },
   {
    "duration": 12,
    "start_time": "2022-11-22T16:38:10.187Z"
   },
   {
    "duration": 30,
    "start_time": "2022-11-22T16:38:10.201Z"
   },
   {
    "duration": 52,
    "start_time": "2022-11-22T16:38:10.233Z"
   },
   {
    "duration": 22,
    "start_time": "2022-11-22T16:38:10.287Z"
   },
   {
    "duration": 25,
    "start_time": "2022-11-22T16:38:10.311Z"
   },
   {
    "duration": 28,
    "start_time": "2022-11-22T16:38:10.338Z"
   },
   {
    "duration": 35,
    "start_time": "2022-11-22T16:38:10.367Z"
   },
   {
    "duration": 22,
    "start_time": "2022-11-22T16:38:10.403Z"
   },
   {
    "duration": 61,
    "start_time": "2022-11-22T16:38:10.427Z"
   },
   {
    "duration": 31,
    "start_time": "2022-11-22T16:38:10.490Z"
   },
   {
    "duration": 12,
    "start_time": "2022-11-22T16:38:10.523Z"
   },
   {
    "duration": 23,
    "start_time": "2022-11-22T16:38:10.537Z"
   },
   {
    "duration": 34,
    "start_time": "2022-11-22T16:38:10.562Z"
   },
   {
    "duration": 27,
    "start_time": "2022-11-22T16:38:10.598Z"
   },
   {
    "duration": 18,
    "start_time": "2022-11-22T16:38:10.627Z"
   },
   {
    "duration": 35,
    "start_time": "2022-11-22T16:38:10.646Z"
   },
   {
    "duration": 32,
    "start_time": "2022-11-22T16:38:10.682Z"
   },
   {
    "duration": 22,
    "start_time": "2022-11-22T16:38:10.716Z"
   },
   {
    "duration": 17,
    "start_time": "2022-11-22T16:38:10.740Z"
   },
   {
    "duration": 24,
    "start_time": "2022-11-22T16:38:10.759Z"
   },
   {
    "duration": 32,
    "start_time": "2022-11-22T16:38:10.785Z"
   },
   {
    "duration": 162,
    "start_time": "2022-11-22T16:38:10.819Z"
   },
   {
    "duration": 195,
    "start_time": "2022-11-22T16:38:10.983Z"
   },
   {
    "duration": 271,
    "start_time": "2022-11-22T16:38:11.180Z"
   },
   {
    "duration": 191,
    "start_time": "2022-11-22T16:38:11.453Z"
   },
   {
    "duration": 8,
    "start_time": "2022-11-22T16:38:11.646Z"
   },
   {
    "duration": 8,
    "start_time": "2022-11-22T16:38:11.656Z"
   },
   {
    "duration": 22,
    "start_time": "2022-11-22T16:38:11.666Z"
   },
   {
    "duration": 9,
    "start_time": "2022-11-22T16:38:11.690Z"
   },
   {
    "duration": 11,
    "start_time": "2022-11-22T16:38:11.701Z"
   },
   {
    "duration": 9,
    "start_time": "2022-11-22T16:38:11.713Z"
   },
   {
    "duration": 9,
    "start_time": "2022-11-22T16:38:11.724Z"
   },
   {
    "duration": 10,
    "start_time": "2022-11-22T16:38:11.734Z"
   },
   {
    "duration": 188,
    "start_time": "2022-11-22T16:38:11.745Z"
   },
   {
    "duration": 179,
    "start_time": "2022-11-22T16:38:11.934Z"
   },
   {
    "duration": 166,
    "start_time": "2022-11-22T16:38:12.115Z"
   },
   {
    "duration": 185,
    "start_time": "2022-11-22T16:38:12.283Z"
   },
   {
    "duration": 259,
    "start_time": "2022-11-22T16:38:12.477Z"
   },
   {
    "duration": 257,
    "start_time": "2022-11-22T16:38:12.737Z"
   },
   {
    "duration": 349,
    "start_time": "2022-11-22T16:38:12.996Z"
   },
   {
    "duration": 252,
    "start_time": "2022-11-22T16:38:13.347Z"
   },
   {
    "duration": 7,
    "start_time": "2022-11-22T16:38:13.600Z"
   },
   {
    "duration": 10,
    "start_time": "2022-11-22T16:38:13.608Z"
   },
   {
    "duration": 17,
    "start_time": "2022-11-22T16:38:13.619Z"
   },
   {
    "duration": 104,
    "start_time": "2022-11-22T16:39:02.949Z"
   },
   {
    "duration": 10,
    "start_time": "2022-11-22T16:39:46.281Z"
   },
   {
    "duration": 9,
    "start_time": "2022-11-22T16:40:25.615Z"
   },
   {
    "duration": 9,
    "start_time": "2022-11-22T16:40:30.374Z"
   },
   {
    "duration": 9,
    "start_time": "2022-11-22T16:41:38.925Z"
   },
   {
    "duration": 7,
    "start_time": "2022-11-22T16:42:40.841Z"
   },
   {
    "duration": 10,
    "start_time": "2022-11-22T16:43:09.710Z"
   },
   {
    "duration": 8,
    "start_time": "2022-11-22T16:43:18.539Z"
   }
  ],
  "kernelspec": {
   "display_name": "Python 3 (ipykernel)",
   "language": "python",
   "name": "python3"
  },
  "language_info": {
   "codemirror_mode": {
    "name": "ipython",
    "version": 3
   },
   "file_extension": ".py",
   "mimetype": "text/x-python",
   "name": "python",
   "nbconvert_exporter": "python",
   "pygments_lexer": "ipython3",
   "version": "3.9.12"
  },
  "toc": {
   "base_numbering": 1,
   "nav_menu": {},
   "number_sections": true,
   "sideBar": true,
   "skip_h1_title": true,
   "title_cell": "Table of Contents",
   "title_sidebar": "Contents",
   "toc_cell": false,
   "toc_position": {},
   "toc_section_display": true,
   "toc_window_display": true
  }
 },
 "nbformat": 4,
 "nbformat_minor": 2
}
