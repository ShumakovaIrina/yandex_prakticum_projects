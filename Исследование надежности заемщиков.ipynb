{
 "cells": [
  {
   "cell_type": "markdown",
   "id": "f6e16899",
   "metadata": {},
   "source": [
    "# Исследование надежности заемщиков."
   ]
  },
  {
   "cell_type": "markdown",
   "id": "5179e8ae",
   "metadata": {},
   "source": [
    "# Цель исследования: \n",
    "исследовать зависимость семейного положения и количества детей клиента  банка на факт погашения кредита в срок.\n",
    "# Ход исследования:\n",
    "1. Обзор  данных \n",
    "2. Предобработка данных \n",
    "3. Проверка гипотез ( ответы на вопросы)\n",
    "4. Итоги и общий вывод"
   ]
  },
  {
   "cell_type": "markdown",
   "id": "f2e44256",
   "metadata": {},
   "source": [
    "### Шаг 1. Обзор данных"
   ]
  },
  {
   "cell_type": "code",
   "execution_count": 1,
   "id": "a569648c",
   "metadata": {
    "scrolled": false
   },
   "outputs": [
    {
     "data": {
      "text/html": [
       "<div>\n",
       "<style scoped>\n",
       "    .dataframe tbody tr th:only-of-type {\n",
       "        vertical-align: middle;\n",
       "    }\n",
       "\n",
       "    .dataframe tbody tr th {\n",
       "        vertical-align: top;\n",
       "    }\n",
       "\n",
       "    .dataframe thead th {\n",
       "        text-align: right;\n",
       "    }\n",
       "</style>\n",
       "<table border=\"1\" class=\"dataframe\">\n",
       "  <thead>\n",
       "    <tr style=\"text-align: right;\">\n",
       "      <th></th>\n",
       "      <th>children</th>\n",
       "      <th>days_employed</th>\n",
       "      <th>dob_years</th>\n",
       "      <th>education</th>\n",
       "      <th>education_id</th>\n",
       "      <th>family_status</th>\n",
       "      <th>family_status_id</th>\n",
       "      <th>gender</th>\n",
       "      <th>income_type</th>\n",
       "      <th>debt</th>\n",
       "      <th>total_income</th>\n",
       "      <th>purpose</th>\n",
       "    </tr>\n",
       "  </thead>\n",
       "  <tbody>\n",
       "    <tr>\n",
       "      <th>0</th>\n",
       "      <td>1</td>\n",
       "      <td>-8437.673028</td>\n",
       "      <td>42</td>\n",
       "      <td>высшее</td>\n",
       "      <td>0</td>\n",
       "      <td>женат / замужем</td>\n",
       "      <td>0</td>\n",
       "      <td>F</td>\n",
       "      <td>сотрудник</td>\n",
       "      <td>0</td>\n",
       "      <td>253875.639453</td>\n",
       "      <td>покупка жилья</td>\n",
       "    </tr>\n",
       "    <tr>\n",
       "      <th>1</th>\n",
       "      <td>1</td>\n",
       "      <td>-4024.803754</td>\n",
       "      <td>36</td>\n",
       "      <td>среднее</td>\n",
       "      <td>1</td>\n",
       "      <td>женат / замужем</td>\n",
       "      <td>0</td>\n",
       "      <td>F</td>\n",
       "      <td>сотрудник</td>\n",
       "      <td>0</td>\n",
       "      <td>112080.014102</td>\n",
       "      <td>приобретение автомобиля</td>\n",
       "    </tr>\n",
       "    <tr>\n",
       "      <th>2</th>\n",
       "      <td>0</td>\n",
       "      <td>-5623.422610</td>\n",
       "      <td>33</td>\n",
       "      <td>Среднее</td>\n",
       "      <td>1</td>\n",
       "      <td>женат / замужем</td>\n",
       "      <td>0</td>\n",
       "      <td>M</td>\n",
       "      <td>сотрудник</td>\n",
       "      <td>0</td>\n",
       "      <td>145885.952297</td>\n",
       "      <td>покупка жилья</td>\n",
       "    </tr>\n",
       "    <tr>\n",
       "      <th>3</th>\n",
       "      <td>3</td>\n",
       "      <td>-4124.747207</td>\n",
       "      <td>32</td>\n",
       "      <td>среднее</td>\n",
       "      <td>1</td>\n",
       "      <td>женат / замужем</td>\n",
       "      <td>0</td>\n",
       "      <td>M</td>\n",
       "      <td>сотрудник</td>\n",
       "      <td>0</td>\n",
       "      <td>267628.550329</td>\n",
       "      <td>дополнительное образование</td>\n",
       "    </tr>\n",
       "    <tr>\n",
       "      <th>4</th>\n",
       "      <td>0</td>\n",
       "      <td>340266.072047</td>\n",
       "      <td>53</td>\n",
       "      <td>среднее</td>\n",
       "      <td>1</td>\n",
       "      <td>гражданский брак</td>\n",
       "      <td>1</td>\n",
       "      <td>F</td>\n",
       "      <td>пенсионер</td>\n",
       "      <td>0</td>\n",
       "      <td>158616.077870</td>\n",
       "      <td>сыграть свадьбу</td>\n",
       "    </tr>\n",
       "    <tr>\n",
       "      <th>...</th>\n",
       "      <td>...</td>\n",
       "      <td>...</td>\n",
       "      <td>...</td>\n",
       "      <td>...</td>\n",
       "      <td>...</td>\n",
       "      <td>...</td>\n",
       "      <td>...</td>\n",
       "      <td>...</td>\n",
       "      <td>...</td>\n",
       "      <td>...</td>\n",
       "      <td>...</td>\n",
       "      <td>...</td>\n",
       "    </tr>\n",
       "    <tr>\n",
       "      <th>21520</th>\n",
       "      <td>1</td>\n",
       "      <td>-4529.316663</td>\n",
       "      <td>43</td>\n",
       "      <td>среднее</td>\n",
       "      <td>1</td>\n",
       "      <td>гражданский брак</td>\n",
       "      <td>1</td>\n",
       "      <td>F</td>\n",
       "      <td>компаньон</td>\n",
       "      <td>0</td>\n",
       "      <td>224791.862382</td>\n",
       "      <td>операции с жильем</td>\n",
       "    </tr>\n",
       "    <tr>\n",
       "      <th>21521</th>\n",
       "      <td>0</td>\n",
       "      <td>343937.404131</td>\n",
       "      <td>67</td>\n",
       "      <td>среднее</td>\n",
       "      <td>1</td>\n",
       "      <td>женат / замужем</td>\n",
       "      <td>0</td>\n",
       "      <td>F</td>\n",
       "      <td>пенсионер</td>\n",
       "      <td>0</td>\n",
       "      <td>155999.806512</td>\n",
       "      <td>сделка с автомобилем</td>\n",
       "    </tr>\n",
       "    <tr>\n",
       "      <th>21522</th>\n",
       "      <td>1</td>\n",
       "      <td>-2113.346888</td>\n",
       "      <td>38</td>\n",
       "      <td>среднее</td>\n",
       "      <td>1</td>\n",
       "      <td>гражданский брак</td>\n",
       "      <td>1</td>\n",
       "      <td>M</td>\n",
       "      <td>сотрудник</td>\n",
       "      <td>1</td>\n",
       "      <td>89672.561153</td>\n",
       "      <td>недвижимость</td>\n",
       "    </tr>\n",
       "    <tr>\n",
       "      <th>21523</th>\n",
       "      <td>3</td>\n",
       "      <td>-3112.481705</td>\n",
       "      <td>38</td>\n",
       "      <td>среднее</td>\n",
       "      <td>1</td>\n",
       "      <td>женат / замужем</td>\n",
       "      <td>0</td>\n",
       "      <td>M</td>\n",
       "      <td>сотрудник</td>\n",
       "      <td>1</td>\n",
       "      <td>244093.050500</td>\n",
       "      <td>на покупку своего автомобиля</td>\n",
       "    </tr>\n",
       "    <tr>\n",
       "      <th>21524</th>\n",
       "      <td>2</td>\n",
       "      <td>-1984.507589</td>\n",
       "      <td>40</td>\n",
       "      <td>среднее</td>\n",
       "      <td>1</td>\n",
       "      <td>женат / замужем</td>\n",
       "      <td>0</td>\n",
       "      <td>F</td>\n",
       "      <td>сотрудник</td>\n",
       "      <td>0</td>\n",
       "      <td>82047.418899</td>\n",
       "      <td>на покупку автомобиля</td>\n",
       "    </tr>\n",
       "  </tbody>\n",
       "</table>\n",
       "<p>21525 rows × 12 columns</p>\n",
       "</div>"
      ],
      "text/plain": [
       "       children  days_employed  dob_years education  education_id  \\\n",
       "0             1   -8437.673028         42    высшее             0   \n",
       "1             1   -4024.803754         36   среднее             1   \n",
       "2             0   -5623.422610         33   Среднее             1   \n",
       "3             3   -4124.747207         32   среднее             1   \n",
       "4             0  340266.072047         53   среднее             1   \n",
       "...         ...            ...        ...       ...           ...   \n",
       "21520         1   -4529.316663         43   среднее             1   \n",
       "21521         0  343937.404131         67   среднее             1   \n",
       "21522         1   -2113.346888         38   среднее             1   \n",
       "21523         3   -3112.481705         38   среднее             1   \n",
       "21524         2   -1984.507589         40   среднее             1   \n",
       "\n",
       "          family_status  family_status_id gender income_type  debt  \\\n",
       "0       женат / замужем                 0      F   сотрудник     0   \n",
       "1       женат / замужем                 0      F   сотрудник     0   \n",
       "2       женат / замужем                 0      M   сотрудник     0   \n",
       "3       женат / замужем                 0      M   сотрудник     0   \n",
       "4      гражданский брак                 1      F   пенсионер     0   \n",
       "...                 ...               ...    ...         ...   ...   \n",
       "21520  гражданский брак                 1      F   компаньон     0   \n",
       "21521   женат / замужем                 0      F   пенсионер     0   \n",
       "21522  гражданский брак                 1      M   сотрудник     1   \n",
       "21523   женат / замужем                 0      M   сотрудник     1   \n",
       "21524   женат / замужем                 0      F   сотрудник     0   \n",
       "\n",
       "        total_income                       purpose  \n",
       "0      253875.639453                 покупка жилья  \n",
       "1      112080.014102       приобретение автомобиля  \n",
       "2      145885.952297                 покупка жилья  \n",
       "3      267628.550329    дополнительное образование  \n",
       "4      158616.077870               сыграть свадьбу  \n",
       "...              ...                           ...  \n",
       "21520  224791.862382             операции с жильем  \n",
       "21521  155999.806512          сделка с автомобилем  \n",
       "21522   89672.561153                  недвижимость  \n",
       "21523  244093.050500  на покупку своего автомобиля  \n",
       "21524   82047.418899         на покупку автомобиля  \n",
       "\n",
       "[21525 rows x 12 columns]"
      ]
     },
     "metadata": {},
     "output_type": "display_data"
    }
   ],
   "source": [
    "#импорт библиотеки и чтение файла с сохранением в df\n",
    "import pandas as pd\n",
    "df=pd.read_csv('/datasets/data.csv')\n",
    "display( df)"
   ]
  },
  {
   "cell_type": "code",
   "execution_count": 2,
   "id": "b7766dea",
   "metadata": {
    "scrolled": true
   },
   "outputs": [
    {
     "data": {
      "text/plain": [
       "Index(['children', 'days_employed', 'dob_years', 'education', 'education_id',\n",
       "       'family_status', 'family_status_id', 'gender', 'income_type', 'debt',\n",
       "       'total_income', 'purpose'],\n",
       "      dtype='object')"
      ]
     },
     "execution_count": 2,
     "metadata": {},
     "output_type": "execute_result"
    }
   ],
   "source": [
    "# названия столбцов\n",
    "df.columns"
   ]
  },
  {
   "cell_type": "code",
   "execution_count": 3,
   "id": "5568055c",
   "metadata": {
    "scrolled": true
   },
   "outputs": [
    {
     "data": {
      "text/plain": [
       "children              int64\n",
       "days_employed       float64\n",
       "dob_years             int64\n",
       "education            object\n",
       "education_id          int64\n",
       "family_status        object\n",
       "family_status_id      int64\n",
       "gender               object\n",
       "income_type          object\n",
       "debt                  int64\n",
       "total_income        float64\n",
       "purpose              object\n",
       "dtype: object"
      ]
     },
     "execution_count": 3,
     "metadata": {},
     "output_type": "execute_result"
    }
   ],
   "source": [
    "# типы данных таблицы\n",
    "df.dtypes"
   ]
  },
  {
   "cell_type": "code",
   "execution_count": 4,
   "id": "3f8803e2",
   "metadata": {
    "scrolled": true
   },
   "outputs": [
    {
     "name": "stdout",
     "output_type": "stream",
     "text": [
      "<class 'pandas.core.frame.DataFrame'>\n",
      "RangeIndex: 21525 entries, 0 to 21524\n",
      "Data columns (total 12 columns):\n",
      " #   Column            Non-Null Count  Dtype  \n",
      "---  ------            --------------  -----  \n",
      " 0   children          21525 non-null  int64  \n",
      " 1   days_employed     19351 non-null  float64\n",
      " 2   dob_years         21525 non-null  int64  \n",
      " 3   education         21525 non-null  object \n",
      " 4   education_id      21525 non-null  int64  \n",
      " 5   family_status     21525 non-null  object \n",
      " 6   family_status_id  21525 non-null  int64  \n",
      " 7   gender            21525 non-null  object \n",
      " 8   income_type       21525 non-null  object \n",
      " 9   debt              21525 non-null  int64  \n",
      " 10  total_income      19351 non-null  float64\n",
      " 11  purpose           21525 non-null  object \n",
      "dtypes: float64(2), int64(5), object(5)\n",
      "memory usage: 2.0+ MB\n"
     ]
    }
   ],
   "source": [
    "# общая информация  о таблице\n",
    "df.info()"
   ]
  },
  {
   "cell_type": "code",
   "execution_count": 5,
   "id": "71790104",
   "metadata": {},
   "outputs": [
    {
     "data": {
      "text/plain": [
       "(21525, 12)"
      ]
     },
     "execution_count": 5,
     "metadata": {},
     "output_type": "execute_result"
    }
   ],
   "source": [
    "# размер таблицы\n",
    "df.shape"
   ]
  },
  {
   "cell_type": "markdown",
   "id": "6d2552ca",
   "metadata": {},
   "source": [
    "# Описание данных:\n",
    "12 стобцов\n",
    "\n",
    " 1. children — количество детей в семье\n",
    " 2. days_employed — общий трудовой стаж в днях\n",
    " 3. dob_years — возраст клиента в годах\n",
    " 4. education — уровень образования клиента\n",
    " 5. education_id — идентификатор уровня образования\n",
    " 6. family_status — семейное положение\n",
    " 7. family_status_id — идентификатор семейного положения\n",
    " 8. gender — пол клиента\n",
    " 9. income_type — тип занятости\n",
    " 10. debt — имел ли задолженность по возврату кредитов\n",
    " 11. total_income — ежемесячный доход\n",
    " 12. purpose — цель получения кредита"
   ]
  },
  {
   "cell_type": "markdown",
   "id": "ca95fce7",
   "metadata": {},
   "source": [
    "### Шаг 2.1 Заполнение пропусков"
   ]
  },
  {
   "cell_type": "code",
   "execution_count": 6,
   "id": "067489c9",
   "metadata": {
    "scrolled": true
   },
   "outputs": [
    {
     "data": {
      "text/plain": [
       "children               0\n",
       "days_employed       2174\n",
       "dob_years              0\n",
       "education              0\n",
       "education_id           0\n",
       "family_status          0\n",
       "family_status_id       0\n",
       "gender                 0\n",
       "income_type            0\n",
       "debt                   0\n",
       "total_income        2174\n",
       "purpose                0\n",
       "dtype: int64"
      ]
     },
     "execution_count": 6,
     "metadata": {},
     "output_type": "execute_result"
    }
   ],
   "source": [
    "# подсчет пропусков\n",
    "df.isna().sum()"
   ]
  },
  {
   "cell_type": "markdown",
   "id": "699cdd7b",
   "metadata": {},
   "source": [
    "  <div class=\"alert alert-info\"> определили  два столбца с пропусками days_employed и total_income ,\n",
    "    доля пропусков около 10%"
   ]
  },
  {
   "cell_type": "code",
   "execution_count": 7,
   "id": "ab596b50",
   "metadata": {
    "scrolled": true
   },
   "outputs": [
    {
     "data": {
      "text/plain": [
       "0        253875.639453\n",
       "1        112080.014102\n",
       "2        145885.952297\n",
       "3        267628.550329\n",
       "4        158616.077870\n",
       "             ...      \n",
       "21520    224791.862382\n",
       "21521    155999.806512\n",
       "21522     89672.561153\n",
       "21523    244093.050500\n",
       "21524     82047.418899\n",
       "Name: total_income, Length: 21525, dtype: float64"
      ]
     },
     "metadata": {},
     "output_type": "display_data"
    }
   ],
   "source": [
    "# заполнение пропусков медианным значением по столбцу\n",
    "total_income_median=df['total_income'].median()\n",
    "df['total_income']=df['total_income'].fillna(value=total_income_median)\n",
    "display(df['total_income'])"
   ]
  },
  {
   "cell_type": "code",
   "execution_count": 8,
   "id": "ceda01b4",
   "metadata": {},
   "outputs": [
    {
     "data": {
      "text/plain": [
       "сотрудник          11119\n",
       "компаньон           5085\n",
       "пенсионер           3856\n",
       "госслужащий         1459\n",
       "предприниматель        2\n",
       "безработный            2\n",
       "в декрете              1\n",
       "студент                1\n",
       "Name: income_type, dtype: int64"
      ]
     },
     "execution_count": 8,
     "metadata": {},
     "output_type": "execute_result"
    }
   ],
   "source": [
    "df['income_type'].value_counts()"
   ]
  },
  {
   "cell_type": "markdown",
   "id": "9eca91aa",
   "metadata": {},
   "source": [
    "### Шаг 2.2 Проверка данных на аномалии и исправления."
   ]
  },
  {
   "cell_type": "code",
   "execution_count": 9,
   "id": "441ac8b3",
   "metadata": {},
   "outputs": [
    {
     "data": {
      "text/plain": [
       "count     19351.000000\n",
       "mean      63046.497661\n",
       "std      140827.311974\n",
       "min      -18388.949901\n",
       "25%       -2747.423625\n",
       "50%       -1203.369529\n",
       "75%        -291.095954\n",
       "max      401755.400475\n",
       "Name: days_employed, dtype: float64"
      ]
     },
     "execution_count": 9,
     "metadata": {},
     "output_type": "execute_result"
    }
   ],
   "source": [
    "# определяем значения ключевых статистик колонки со стажем до обработки\n",
    "df['days_employed'].describe()"
   ]
  },
  {
   "cell_type": "code",
   "execution_count": 10,
   "id": "aeec81bb",
   "metadata": {
    "scrolled": true
   },
   "outputs": [
    {
     "data": {
      "text/plain": [
       "0          8437.673028\n",
       "1          4024.803754\n",
       "2          5623.422610\n",
       "3          4124.747207\n",
       "4        340266.072047\n",
       "             ...      \n",
       "21520      4529.316663\n",
       "21521    343937.404131\n",
       "21522      2113.346888\n",
       "21523      3112.481705\n",
       "21524      1984.507589\n",
       "Name: days_employed, Length: 21525, dtype: float64"
      ]
     },
     "metadata": {},
     "output_type": "display_data"
    }
   ],
   "source": [
    "# метод .abs() возвращает значения по модулю\n",
    "df['days_employed'] = df['days_employed'].abs()\n",
    "display(df['days_employed'])"
   ]
  },
  {
   "cell_type": "code",
   "execution_count": 42,
   "id": "10916a42",
   "metadata": {},
   "outputs": [
    {
     "data": {
      "text/html": [
       "<div>\n",
       "<style scoped>\n",
       "    .dataframe tbody tr th:only-of-type {\n",
       "        vertical-align: middle;\n",
       "    }\n",
       "\n",
       "    .dataframe tbody tr th {\n",
       "        vertical-align: top;\n",
       "    }\n",
       "\n",
       "    .dataframe thead th {\n",
       "        text-align: right;\n",
       "    }\n",
       "</style>\n",
       "<table border=\"1\" class=\"dataframe\">\n",
       "  <thead>\n",
       "    <tr style=\"text-align: right;\">\n",
       "      <th></th>\n",
       "      <th>children</th>\n",
       "      <th>days_employed</th>\n",
       "      <th>dob_years</th>\n",
       "      <th>education</th>\n",
       "      <th>education_id</th>\n",
       "      <th>family_status</th>\n",
       "      <th>family_status_id</th>\n",
       "      <th>gender</th>\n",
       "      <th>income_type</th>\n",
       "      <th>debt</th>\n",
       "      <th>total_income</th>\n",
       "      <th>purpose</th>\n",
       "      <th>total_income_category</th>\n",
       "      <th>purpose_category</th>\n",
       "      <th>days_employed_correct</th>\n",
       "    </tr>\n",
       "  </thead>\n",
       "  <tbody>\n",
       "    <tr>\n",
       "      <th>0</th>\n",
       "      <td>1</td>\n",
       "      <td>8437.673028</td>\n",
       "      <td>42</td>\n",
       "      <td>высшее</td>\n",
       "      <td>0</td>\n",
       "      <td>женат / замужем</td>\n",
       "      <td>0</td>\n",
       "      <td>F</td>\n",
       "      <td>сотрудник</td>\n",
       "      <td>0</td>\n",
       "      <td>253875</td>\n",
       "      <td>покупка жилья</td>\n",
       "      <td>B</td>\n",
       "      <td>операции с недвижимостью</td>\n",
       "      <td>8437.673028</td>\n",
       "    </tr>\n",
       "    <tr>\n",
       "      <th>1</th>\n",
       "      <td>1</td>\n",
       "      <td>4024.803754</td>\n",
       "      <td>36</td>\n",
       "      <td>среднее</td>\n",
       "      <td>1</td>\n",
       "      <td>женат / замужем</td>\n",
       "      <td>0</td>\n",
       "      <td>F</td>\n",
       "      <td>сотрудник</td>\n",
       "      <td>0</td>\n",
       "      <td>112080</td>\n",
       "      <td>приобретение автомобиля</td>\n",
       "      <td>C</td>\n",
       "      <td>операции с автомобилем</td>\n",
       "      <td>4024.803754</td>\n",
       "    </tr>\n",
       "    <tr>\n",
       "      <th>2</th>\n",
       "      <td>0</td>\n",
       "      <td>5623.422610</td>\n",
       "      <td>33</td>\n",
       "      <td>среднее</td>\n",
       "      <td>1</td>\n",
       "      <td>женат / замужем</td>\n",
       "      <td>0</td>\n",
       "      <td>M</td>\n",
       "      <td>сотрудник</td>\n",
       "      <td>0</td>\n",
       "      <td>145885</td>\n",
       "      <td>покупка жилья</td>\n",
       "      <td>C</td>\n",
       "      <td>операции с недвижимостью</td>\n",
       "      <td>5623.422610</td>\n",
       "    </tr>\n",
       "    <tr>\n",
       "      <th>3</th>\n",
       "      <td>3</td>\n",
       "      <td>4124.747207</td>\n",
       "      <td>32</td>\n",
       "      <td>среднее</td>\n",
       "      <td>1</td>\n",
       "      <td>женат / замужем</td>\n",
       "      <td>0</td>\n",
       "      <td>M</td>\n",
       "      <td>сотрудник</td>\n",
       "      <td>0</td>\n",
       "      <td>267628</td>\n",
       "      <td>дополнительное образование</td>\n",
       "      <td>B</td>\n",
       "      <td>получение образования</td>\n",
       "      <td>4124.747207</td>\n",
       "    </tr>\n",
       "    <tr>\n",
       "      <th>4</th>\n",
       "      <td>0</td>\n",
       "      <td>340266.072047</td>\n",
       "      <td>53</td>\n",
       "      <td>среднее</td>\n",
       "      <td>1</td>\n",
       "      <td>гражданский брак</td>\n",
       "      <td>1</td>\n",
       "      <td>F</td>\n",
       "      <td>пенсионер</td>\n",
       "      <td>0</td>\n",
       "      <td>158616</td>\n",
       "      <td>сыграть свадьбу</td>\n",
       "      <td>C</td>\n",
       "      <td>проведение свадьбы</td>\n",
       "      <td>13505.000000</td>\n",
       "    </tr>\n",
       "    <tr>\n",
       "      <th>...</th>\n",
       "      <td>...</td>\n",
       "      <td>...</td>\n",
       "      <td>...</td>\n",
       "      <td>...</td>\n",
       "      <td>...</td>\n",
       "      <td>...</td>\n",
       "      <td>...</td>\n",
       "      <td>...</td>\n",
       "      <td>...</td>\n",
       "      <td>...</td>\n",
       "      <td>...</td>\n",
       "      <td>...</td>\n",
       "      <td>...</td>\n",
       "      <td>...</td>\n",
       "      <td>...</td>\n",
       "    </tr>\n",
       "    <tr>\n",
       "      <th>21449</th>\n",
       "      <td>1</td>\n",
       "      <td>4529.316663</td>\n",
       "      <td>43</td>\n",
       "      <td>среднее</td>\n",
       "      <td>1</td>\n",
       "      <td>гражданский брак</td>\n",
       "      <td>1</td>\n",
       "      <td>F</td>\n",
       "      <td>компаньон</td>\n",
       "      <td>0</td>\n",
       "      <td>224791</td>\n",
       "      <td>операции с жильем</td>\n",
       "      <td>B</td>\n",
       "      <td>операции с недвижимостью</td>\n",
       "      <td>4529.316663</td>\n",
       "    </tr>\n",
       "    <tr>\n",
       "      <th>21450</th>\n",
       "      <td>0</td>\n",
       "      <td>343937.404131</td>\n",
       "      <td>67</td>\n",
       "      <td>среднее</td>\n",
       "      <td>1</td>\n",
       "      <td>женат / замужем</td>\n",
       "      <td>0</td>\n",
       "      <td>F</td>\n",
       "      <td>пенсионер</td>\n",
       "      <td>0</td>\n",
       "      <td>155999</td>\n",
       "      <td>сделка с автомобилем</td>\n",
       "      <td>C</td>\n",
       "      <td>операции с автомобилем</td>\n",
       "      <td>18615.000000</td>\n",
       "    </tr>\n",
       "    <tr>\n",
       "      <th>21451</th>\n",
       "      <td>1</td>\n",
       "      <td>2113.346888</td>\n",
       "      <td>38</td>\n",
       "      <td>среднее</td>\n",
       "      <td>1</td>\n",
       "      <td>гражданский брак</td>\n",
       "      <td>1</td>\n",
       "      <td>M</td>\n",
       "      <td>сотрудник</td>\n",
       "      <td>1</td>\n",
       "      <td>89672</td>\n",
       "      <td>недвижимость</td>\n",
       "      <td>C</td>\n",
       "      <td>операции с недвижимостью</td>\n",
       "      <td>2113.346888</td>\n",
       "    </tr>\n",
       "    <tr>\n",
       "      <th>21452</th>\n",
       "      <td>3</td>\n",
       "      <td>3112.481705</td>\n",
       "      <td>38</td>\n",
       "      <td>среднее</td>\n",
       "      <td>1</td>\n",
       "      <td>женат / замужем</td>\n",
       "      <td>0</td>\n",
       "      <td>M</td>\n",
       "      <td>сотрудник</td>\n",
       "      <td>1</td>\n",
       "      <td>244093</td>\n",
       "      <td>на покупку своего автомобиля</td>\n",
       "      <td>B</td>\n",
       "      <td>операции с автомобилем</td>\n",
       "      <td>3112.481705</td>\n",
       "    </tr>\n",
       "    <tr>\n",
       "      <th>21453</th>\n",
       "      <td>2</td>\n",
       "      <td>1984.507589</td>\n",
       "      <td>40</td>\n",
       "      <td>среднее</td>\n",
       "      <td>1</td>\n",
       "      <td>женат / замужем</td>\n",
       "      <td>0</td>\n",
       "      <td>F</td>\n",
       "      <td>сотрудник</td>\n",
       "      <td>0</td>\n",
       "      <td>82047</td>\n",
       "      <td>на покупку автомобиля</td>\n",
       "      <td>C</td>\n",
       "      <td>операции с автомобилем</td>\n",
       "      <td>1984.507589</td>\n",
       "    </tr>\n",
       "  </tbody>\n",
       "</table>\n",
       "<p>21454 rows × 15 columns</p>\n",
       "</div>"
      ],
      "text/plain": [
       "       children  days_employed  dob_years education  education_id  \\\n",
       "0             1    8437.673028         42    высшее             0   \n",
       "1             1    4024.803754         36   среднее             1   \n",
       "2             0    5623.422610         33   среднее             1   \n",
       "3             3    4124.747207         32   среднее             1   \n",
       "4             0  340266.072047         53   среднее             1   \n",
       "...         ...            ...        ...       ...           ...   \n",
       "21449         1    4529.316663         43   среднее             1   \n",
       "21450         0  343937.404131         67   среднее             1   \n",
       "21451         1    2113.346888         38   среднее             1   \n",
       "21452         3    3112.481705         38   среднее             1   \n",
       "21453         2    1984.507589         40   среднее             1   \n",
       "\n",
       "          family_status  family_status_id gender income_type  debt  \\\n",
       "0       женат / замужем                 0      F   сотрудник     0   \n",
       "1       женат / замужем                 0      F   сотрудник     0   \n",
       "2       женат / замужем                 0      M   сотрудник     0   \n",
       "3       женат / замужем                 0      M   сотрудник     0   \n",
       "4      гражданский брак                 1      F   пенсионер     0   \n",
       "...                 ...               ...    ...         ...   ...   \n",
       "21449  гражданский брак                 1      F   компаньон     0   \n",
       "21450   женат / замужем                 0      F   пенсионер     0   \n",
       "21451  гражданский брак                 1      M   сотрудник     1   \n",
       "21452   женат / замужем                 0      M   сотрудник     1   \n",
       "21453   женат / замужем                 0      F   сотрудник     0   \n",
       "\n",
       "       total_income                       purpose total_income_category  \\\n",
       "0            253875                 покупка жилья                     B   \n",
       "1            112080       приобретение автомобиля                     C   \n",
       "2            145885                 покупка жилья                     C   \n",
       "3            267628    дополнительное образование                     B   \n",
       "4            158616               сыграть свадьбу                     C   \n",
       "...             ...                           ...                   ...   \n",
       "21449        224791             операции с жильем                     B   \n",
       "21450        155999          сделка с автомобилем                     C   \n",
       "21451         89672                  недвижимость                     C   \n",
       "21452        244093  на покупку своего автомобиля                     B   \n",
       "21453         82047         на покупку автомобиля                     C   \n",
       "\n",
       "               purpose_category  days_employed_correct  \n",
       "0      операции с недвижимостью            8437.673028  \n",
       "1        операции с автомобилем            4024.803754  \n",
       "2      операции с недвижимостью            5623.422610  \n",
       "3         получение образования            4124.747207  \n",
       "4            проведение свадьбы           13505.000000  \n",
       "...                         ...                    ...  \n",
       "21449  операции с недвижимостью            4529.316663  \n",
       "21450    операции с автомобилем           18615.000000  \n",
       "21451  операции с недвижимостью            2113.346888  \n",
       "21452    операции с автомобилем            3112.481705  \n",
       "21453    операции с автомобилем            1984.507589  \n",
       "\n",
       "[21454 rows x 15 columns]"
      ]
     },
     "metadata": {},
     "output_type": "display_data"
    }
   ],
   "source": [
    "# функция для исправления аномальных значений\n",
    "def fix_days_employed(row):\n",
    "\n",
    "    if row['days_employed'] > row['dob_years'] * 365:\n",
    "        max_possible_days_empl = (row['dob_years'] - 16) * 365\n",
    "        return max_possible_days_empl\n",
    "    else:\n",
    "        return row['days_employed']\n",
    "\n",
    "\n",
    "df['days_employed_correct'] = df.apply(fix_days_employed, axis=1)\n",
    "display(df)"
   ]
  },
  {
   "cell_type": "code",
   "execution_count": 43,
   "id": "989468b8",
   "metadata": {},
   "outputs": [
    {
     "data": {
      "text/html": [
       "<div>\n",
       "<style scoped>\n",
       "    .dataframe tbody tr th:only-of-type {\n",
       "        vertical-align: middle;\n",
       "    }\n",
       "\n",
       "    .dataframe tbody tr th {\n",
       "        vertical-align: top;\n",
       "    }\n",
       "\n",
       "    .dataframe thead th {\n",
       "        text-align: right;\n",
       "    }\n",
       "</style>\n",
       "<table border=\"1\" class=\"dataframe\">\n",
       "  <thead>\n",
       "    <tr style=\"text-align: right;\">\n",
       "      <th></th>\n",
       "      <th>children</th>\n",
       "      <th>days_employed</th>\n",
       "      <th>dob_years</th>\n",
       "      <th>education</th>\n",
       "      <th>education_id</th>\n",
       "      <th>family_status</th>\n",
       "      <th>family_status_id</th>\n",
       "      <th>gender</th>\n",
       "      <th>income_type</th>\n",
       "      <th>debt</th>\n",
       "      <th>total_income</th>\n",
       "      <th>purpose</th>\n",
       "      <th>total_income_category</th>\n",
       "      <th>purpose_category</th>\n",
       "      <th>days_employed_correct</th>\n",
       "    </tr>\n",
       "  </thead>\n",
       "  <tbody>\n",
       "    <tr>\n",
       "      <th>0</th>\n",
       "      <td>1</td>\n",
       "      <td>8437.673028</td>\n",
       "      <td>42</td>\n",
       "      <td>высшее</td>\n",
       "      <td>0</td>\n",
       "      <td>женат / замужем</td>\n",
       "      <td>0</td>\n",
       "      <td>F</td>\n",
       "      <td>сотрудник</td>\n",
       "      <td>0</td>\n",
       "      <td>253875</td>\n",
       "      <td>покупка жилья</td>\n",
       "      <td>B</td>\n",
       "      <td>операции с недвижимостью</td>\n",
       "      <td>8437.673028</td>\n",
       "    </tr>\n",
       "    <tr>\n",
       "      <th>1</th>\n",
       "      <td>1</td>\n",
       "      <td>4024.803754</td>\n",
       "      <td>36</td>\n",
       "      <td>среднее</td>\n",
       "      <td>1</td>\n",
       "      <td>женат / замужем</td>\n",
       "      <td>0</td>\n",
       "      <td>F</td>\n",
       "      <td>сотрудник</td>\n",
       "      <td>0</td>\n",
       "      <td>112080</td>\n",
       "      <td>приобретение автомобиля</td>\n",
       "      <td>C</td>\n",
       "      <td>операции с автомобилем</td>\n",
       "      <td>4024.803754</td>\n",
       "    </tr>\n",
       "    <tr>\n",
       "      <th>2</th>\n",
       "      <td>0</td>\n",
       "      <td>5623.422610</td>\n",
       "      <td>33</td>\n",
       "      <td>среднее</td>\n",
       "      <td>1</td>\n",
       "      <td>женат / замужем</td>\n",
       "      <td>0</td>\n",
       "      <td>M</td>\n",
       "      <td>сотрудник</td>\n",
       "      <td>0</td>\n",
       "      <td>145885</td>\n",
       "      <td>покупка жилья</td>\n",
       "      <td>C</td>\n",
       "      <td>операции с недвижимостью</td>\n",
       "      <td>5623.422610</td>\n",
       "    </tr>\n",
       "    <tr>\n",
       "      <th>3</th>\n",
       "      <td>3</td>\n",
       "      <td>4124.747207</td>\n",
       "      <td>32</td>\n",
       "      <td>среднее</td>\n",
       "      <td>1</td>\n",
       "      <td>женат / замужем</td>\n",
       "      <td>0</td>\n",
       "      <td>M</td>\n",
       "      <td>сотрудник</td>\n",
       "      <td>0</td>\n",
       "      <td>267628</td>\n",
       "      <td>дополнительное образование</td>\n",
       "      <td>B</td>\n",
       "      <td>получение образования</td>\n",
       "      <td>4124.747207</td>\n",
       "    </tr>\n",
       "    <tr>\n",
       "      <th>4</th>\n",
       "      <td>0</td>\n",
       "      <td>340266.072047</td>\n",
       "      <td>53</td>\n",
       "      <td>среднее</td>\n",
       "      <td>1</td>\n",
       "      <td>гражданский брак</td>\n",
       "      <td>1</td>\n",
       "      <td>F</td>\n",
       "      <td>пенсионер</td>\n",
       "      <td>0</td>\n",
       "      <td>158616</td>\n",
       "      <td>сыграть свадьбу</td>\n",
       "      <td>C</td>\n",
       "      <td>проведение свадьбы</td>\n",
       "      <td>13505.000000</td>\n",
       "    </tr>\n",
       "    <tr>\n",
       "      <th>...</th>\n",
       "      <td>...</td>\n",
       "      <td>...</td>\n",
       "      <td>...</td>\n",
       "      <td>...</td>\n",
       "      <td>...</td>\n",
       "      <td>...</td>\n",
       "      <td>...</td>\n",
       "      <td>...</td>\n",
       "      <td>...</td>\n",
       "      <td>...</td>\n",
       "      <td>...</td>\n",
       "      <td>...</td>\n",
       "      <td>...</td>\n",
       "      <td>...</td>\n",
       "      <td>...</td>\n",
       "    </tr>\n",
       "    <tr>\n",
       "      <th>21449</th>\n",
       "      <td>1</td>\n",
       "      <td>4529.316663</td>\n",
       "      <td>43</td>\n",
       "      <td>среднее</td>\n",
       "      <td>1</td>\n",
       "      <td>гражданский брак</td>\n",
       "      <td>1</td>\n",
       "      <td>F</td>\n",
       "      <td>компаньон</td>\n",
       "      <td>0</td>\n",
       "      <td>224791</td>\n",
       "      <td>операции с жильем</td>\n",
       "      <td>B</td>\n",
       "      <td>операции с недвижимостью</td>\n",
       "      <td>4529.316663</td>\n",
       "    </tr>\n",
       "    <tr>\n",
       "      <th>21450</th>\n",
       "      <td>0</td>\n",
       "      <td>343937.404131</td>\n",
       "      <td>67</td>\n",
       "      <td>среднее</td>\n",
       "      <td>1</td>\n",
       "      <td>женат / замужем</td>\n",
       "      <td>0</td>\n",
       "      <td>F</td>\n",
       "      <td>пенсионер</td>\n",
       "      <td>0</td>\n",
       "      <td>155999</td>\n",
       "      <td>сделка с автомобилем</td>\n",
       "      <td>C</td>\n",
       "      <td>операции с автомобилем</td>\n",
       "      <td>18615.000000</td>\n",
       "    </tr>\n",
       "    <tr>\n",
       "      <th>21451</th>\n",
       "      <td>1</td>\n",
       "      <td>2113.346888</td>\n",
       "      <td>38</td>\n",
       "      <td>среднее</td>\n",
       "      <td>1</td>\n",
       "      <td>гражданский брак</td>\n",
       "      <td>1</td>\n",
       "      <td>M</td>\n",
       "      <td>сотрудник</td>\n",
       "      <td>1</td>\n",
       "      <td>89672</td>\n",
       "      <td>недвижимость</td>\n",
       "      <td>C</td>\n",
       "      <td>операции с недвижимостью</td>\n",
       "      <td>2113.346888</td>\n",
       "    </tr>\n",
       "    <tr>\n",
       "      <th>21452</th>\n",
       "      <td>3</td>\n",
       "      <td>3112.481705</td>\n",
       "      <td>38</td>\n",
       "      <td>среднее</td>\n",
       "      <td>1</td>\n",
       "      <td>женат / замужем</td>\n",
       "      <td>0</td>\n",
       "      <td>M</td>\n",
       "      <td>сотрудник</td>\n",
       "      <td>1</td>\n",
       "      <td>244093</td>\n",
       "      <td>на покупку своего автомобиля</td>\n",
       "      <td>B</td>\n",
       "      <td>операции с автомобилем</td>\n",
       "      <td>3112.481705</td>\n",
       "    </tr>\n",
       "    <tr>\n",
       "      <th>21453</th>\n",
       "      <td>2</td>\n",
       "      <td>1984.507589</td>\n",
       "      <td>40</td>\n",
       "      <td>среднее</td>\n",
       "      <td>1</td>\n",
       "      <td>женат / замужем</td>\n",
       "      <td>0</td>\n",
       "      <td>F</td>\n",
       "      <td>сотрудник</td>\n",
       "      <td>0</td>\n",
       "      <td>82047</td>\n",
       "      <td>на покупку автомобиля</td>\n",
       "      <td>C</td>\n",
       "      <td>операции с автомобилем</td>\n",
       "      <td>1984.507589</td>\n",
       "    </tr>\n",
       "  </tbody>\n",
       "</table>\n",
       "<p>21454 rows × 15 columns</p>\n",
       "</div>"
      ],
      "text/plain": [
       "       children  days_employed  dob_years education  education_id  \\\n",
       "0             1    8437.673028         42    высшее             0   \n",
       "1             1    4024.803754         36   среднее             1   \n",
       "2             0    5623.422610         33   среднее             1   \n",
       "3             3    4124.747207         32   среднее             1   \n",
       "4             0  340266.072047         53   среднее             1   \n",
       "...         ...            ...        ...       ...           ...   \n",
       "21449         1    4529.316663         43   среднее             1   \n",
       "21450         0  343937.404131         67   среднее             1   \n",
       "21451         1    2113.346888         38   среднее             1   \n",
       "21452         3    3112.481705         38   среднее             1   \n",
       "21453         2    1984.507589         40   среднее             1   \n",
       "\n",
       "          family_status  family_status_id gender income_type  debt  \\\n",
       "0       женат / замужем                 0      F   сотрудник     0   \n",
       "1       женат / замужем                 0      F   сотрудник     0   \n",
       "2       женат / замужем                 0      M   сотрудник     0   \n",
       "3       женат / замужем                 0      M   сотрудник     0   \n",
       "4      гражданский брак                 1      F   пенсионер     0   \n",
       "...                 ...               ...    ...         ...   ...   \n",
       "21449  гражданский брак                 1      F   компаньон     0   \n",
       "21450   женат / замужем                 0      F   пенсионер     0   \n",
       "21451  гражданский брак                 1      M   сотрудник     1   \n",
       "21452   женат / замужем                 0      M   сотрудник     1   \n",
       "21453   женат / замужем                 0      F   сотрудник     0   \n",
       "\n",
       "       total_income                       purpose total_income_category  \\\n",
       "0            253875                 покупка жилья                     B   \n",
       "1            112080       приобретение автомобиля                     C   \n",
       "2            145885                 покупка жилья                     C   \n",
       "3            267628    дополнительное образование                     B   \n",
       "4            158616               сыграть свадьбу                     C   \n",
       "...             ...                           ...                   ...   \n",
       "21449        224791             операции с жильем                     B   \n",
       "21450        155999          сделка с автомобилем                     C   \n",
       "21451         89672                  недвижимость                     C   \n",
       "21452        244093  на покупку своего автомобиля                     B   \n",
       "21453         82047         на покупку автомобиля                     C   \n",
       "\n",
       "               purpose_category  days_employed_correct  \n",
       "0      операции с недвижимостью            8437.673028  \n",
       "1        операции с автомобилем            4024.803754  \n",
       "2      операции с недвижимостью            5623.422610  \n",
       "3         получение образования            4124.747207  \n",
       "4            проведение свадьбы           13505.000000  \n",
       "...                         ...                    ...  \n",
       "21449  операции с недвижимостью            4529.316663  \n",
       "21450    операции с автомобилем           18615.000000  \n",
       "21451  операции с недвижимостью            2113.346888  \n",
       "21452    операции с автомобилем            3112.481705  \n",
       "21453    операции с автомобилем            1984.507589  \n",
       "\n",
       "[21454 rows x 15 columns]"
      ]
     },
     "metadata": {},
     "output_type": "display_data"
    }
   ],
   "source": [
    "# заполняем пропуски медианным значением по столбцу\n",
    "df['days_employed'] = df['days_employed'].fillna(df['days_employed'].median())\n",
    "display(df)"
   ]
  },
  {
   "cell_type": "markdown",
   "id": "21932768",
   "metadata": {},
   "source": [
    "### Шаг 2.3. Изменение типов данных."
   ]
  },
  {
   "cell_type": "code",
   "execution_count": 13,
   "id": "f19a6f02",
   "metadata": {},
   "outputs": [
    {
     "data": {
      "text/plain": [
       "0        253875\n",
       "1        112080\n",
       "2        145885\n",
       "3        267628\n",
       "4        158616\n",
       "          ...  \n",
       "21520    224791\n",
       "21521    155999\n",
       "21522     89672\n",
       "21523    244093\n",
       "21524     82047\n",
       "Name: total_income, Length: 21525, dtype: int64"
      ]
     },
     "metadata": {},
     "output_type": "display_data"
    }
   ],
   "source": [
    "# замена вещественного типа данных в столбце total_income  на целочисленный\n",
    "df['total_income']=df['total_income'].astype('int')\n",
    "display(df['total_income'])"
   ]
  },
  {
   "cell_type": "markdown",
   "id": "219ca14e",
   "metadata": {},
   "source": [
    "### Шаг 2.4. Удаление дубликатов."
   ]
  },
  {
   "cell_type": "code",
   "execution_count": 14,
   "id": "bf11780d",
   "metadata": {},
   "outputs": [
    {
     "data": {
      "text/plain": [
       "54"
      ]
     },
     "metadata": {},
     "output_type": "display_data"
    }
   ],
   "source": [
    "#подсчет явных дубликатов\n",
    "display(df.duplicated().sum())"
   ]
  },
  {
   "cell_type": "code",
   "execution_count": 15,
   "id": "677520ca",
   "metadata": {},
   "outputs": [],
   "source": [
    "# удаление явных дубликатов (с удалением старых индексов и формированием новых)\n",
    "df=df.drop_duplicates().reset_index(drop=True)"
   ]
  },
  {
   "cell_type": "code",
   "execution_count": 16,
   "id": "31660ff9",
   "metadata": {},
   "outputs": [
    {
     "data": {
      "text/plain": [
       "0"
      ]
     },
     "metadata": {},
     "output_type": "display_data"
    }
   ],
   "source": [
    "# проверка на отсутствие дубликатов\n",
    "display(df.duplicated().sum())"
   ]
  },
  {
   "cell_type": "code",
   "execution_count": 17,
   "id": "fee336e3",
   "metadata": {},
   "outputs": [
    {
     "data": {
      "text/plain": [
       "array(['ВЫСШЕЕ', 'Высшее', 'НАЧАЛЬНОЕ', 'НЕОКОНЧЕННОЕ ВЫСШЕЕ',\n",
       "       'Начальное', 'Неоконченное высшее', 'СРЕДНЕЕ', 'Среднее',\n",
       "       'УЧЕНАЯ СТЕПЕНЬ', 'Ученая степень', 'высшее', 'начальное',\n",
       "       'неоконченное высшее', 'среднее', 'ученая степень'], dtype=object)"
      ]
     },
     "metadata": {},
     "output_type": "display_data"
    }
   ],
   "source": [
    "# Просмотр уникальных названий в столбце образование\n",
    "display(df['education'].sort_values().unique())"
   ]
  },
  {
   "cell_type": "code",
   "execution_count": 18,
   "id": "e40a9f43",
   "metadata": {
    "scrolled": true
   },
   "outputs": [
    {
     "data": {
      "text/plain": [
       "0         высшее\n",
       "1        среднее\n",
       "2        среднее\n",
       "3        среднее\n",
       "4        среднее\n",
       "          ...   \n",
       "21466    среднее\n",
       "21467    среднее\n",
       "21468    среднее\n",
       "21469    среднее\n",
       "21470    среднее\n",
       "Name: education, Length: 21471, dtype: object"
      ]
     },
     "metadata": {},
     "output_type": "display_data"
    }
   ],
   "source": [
    "# замена букв в значениях education на строчные\n",
    "df['education']=df['education'].str.lower()\n",
    "display(df['education'])\n"
   ]
  },
  {
   "cell_type": "code",
   "execution_count": 19,
   "id": "0fc13835",
   "metadata": {},
   "outputs": [
    {
     "data": {
      "text/plain": [
       "array(['высшее', 'начальное', 'неоконченное высшее', 'среднее',\n",
       "       'ученая степень'], dtype=object)"
      ]
     },
     "metadata": {},
     "output_type": "display_data"
    },
    {
     "data": {
      "text/plain": [
       "0"
      ]
     },
     "metadata": {},
     "output_type": "display_data"
    }
   ],
   "source": [
    "# проверка регистра и уникальных значений \n",
    "# удаление явных дубликатов (с удалением старых индексов и формированием новых)\n",
    "display(df['education'].sort_values().unique())\n",
    "df=df.drop_duplicates().reset_index(drop=True)\n",
    "display(df.duplicated().sum())"
   ]
  },
  {
   "cell_type": "markdown",
   "id": "3735c3fc",
   "metadata": {},
   "source": [
    "### Шаг 2.5. Формирование дополнительных датафреймов словарей, декомпозиция исходного датафрейма."
   ]
  },
  {
   "cell_type": "code",
   "execution_count": 20,
   "id": "0c9604e8",
   "metadata": {},
   "outputs": [
    {
     "data": {
      "text/html": [
       "<div>\n",
       "<style scoped>\n",
       "    .dataframe tbody tr th:only-of-type {\n",
       "        vertical-align: middle;\n",
       "    }\n",
       "\n",
       "    .dataframe tbody tr th {\n",
       "        vertical-align: top;\n",
       "    }\n",
       "\n",
       "    .dataframe thead th {\n",
       "        text-align: right;\n",
       "    }\n",
       "</style>\n",
       "<table border=\"1\" class=\"dataframe\">\n",
       "  <thead>\n",
       "    <tr style=\"text-align: right;\">\n",
       "      <th></th>\n",
       "      <th>education_id</th>\n",
       "    </tr>\n",
       "    <tr>\n",
       "      <th>education</th>\n",
       "      <th></th>\n",
       "    </tr>\n",
       "  </thead>\n",
       "  <tbody>\n",
       "    <tr>\n",
       "      <th>высшее</th>\n",
       "      <td>0</td>\n",
       "    </tr>\n",
       "    <tr>\n",
       "      <th>начальное</th>\n",
       "      <td>3</td>\n",
       "    </tr>\n",
       "    <tr>\n",
       "      <th>неоконченное высшее</th>\n",
       "      <td>2</td>\n",
       "    </tr>\n",
       "    <tr>\n",
       "      <th>среднее</th>\n",
       "      <td>1</td>\n",
       "    </tr>\n",
       "    <tr>\n",
       "      <th>ученая степень</th>\n",
       "      <td>4</td>\n",
       "    </tr>\n",
       "  </tbody>\n",
       "</table>\n",
       "</div>"
      ],
      "text/plain": [
       "                     education_id\n",
       "education                        \n",
       "высшее                          0\n",
       "начальное                       3\n",
       "неоконченное высшее             2\n",
       "среднее                         1\n",
       "ученая степень                  4"
      ]
     },
     "metadata": {},
     "output_type": "display_data"
    }
   ],
   "source": [
    "# создание нового датафрейма\n",
    "df_education = df.pivot_table(index='education', values='education_id')\n",
    "display(df_education)"
   ]
  },
  {
   "cell_type": "code",
   "execution_count": 21,
   "id": "2428733f",
   "metadata": {
    "scrolled": true
   },
   "outputs": [
    {
     "data": {
      "text/html": [
       "<div>\n",
       "<style scoped>\n",
       "    .dataframe tbody tr th:only-of-type {\n",
       "        vertical-align: middle;\n",
       "    }\n",
       "\n",
       "    .dataframe tbody tr th {\n",
       "        vertical-align: top;\n",
       "    }\n",
       "\n",
       "    .dataframe thead th {\n",
       "        text-align: right;\n",
       "    }\n",
       "</style>\n",
       "<table border=\"1\" class=\"dataframe\">\n",
       "  <thead>\n",
       "    <tr style=\"text-align: right;\">\n",
       "      <th></th>\n",
       "      <th>family_status_id</th>\n",
       "    </tr>\n",
       "    <tr>\n",
       "      <th>family_status</th>\n",
       "      <th></th>\n",
       "    </tr>\n",
       "  </thead>\n",
       "  <tbody>\n",
       "    <tr>\n",
       "      <th>Не женат / не замужем</th>\n",
       "      <td>4</td>\n",
       "    </tr>\n",
       "    <tr>\n",
       "      <th>в разводе</th>\n",
       "      <td>3</td>\n",
       "    </tr>\n",
       "    <tr>\n",
       "      <th>вдовец / вдова</th>\n",
       "      <td>2</td>\n",
       "    </tr>\n",
       "    <tr>\n",
       "      <th>гражданский брак</th>\n",
       "      <td>1</td>\n",
       "    </tr>\n",
       "    <tr>\n",
       "      <th>женат / замужем</th>\n",
       "      <td>0</td>\n",
       "    </tr>\n",
       "  </tbody>\n",
       "</table>\n",
       "</div>"
      ],
      "text/plain": [
       "                       family_status_id\n",
       "family_status                          \n",
       "Не женат / не замужем                 4\n",
       "в разводе                             3\n",
       "вдовец / вдова                        2\n",
       "гражданский брак                      1\n",
       "женат / замужем                       0"
      ]
     },
     "metadata": {},
     "output_type": "display_data"
    }
   ],
   "source": [
    "# создание нового датафрейма\n",
    "df_family = df.pivot_table(index='family_status', values='family_status_id')\n",
    "display(df_family)"
   ]
  },
  {
   "cell_type": "code",
   "execution_count": 22,
   "id": "af150cfc",
   "metadata": {
    "scrolled": true
   },
   "outputs": [
    {
     "data": {
      "text/html": [
       "<div>\n",
       "<style scoped>\n",
       "    .dataframe tbody tr th:only-of-type {\n",
       "        vertical-align: middle;\n",
       "    }\n",
       "\n",
       "    .dataframe tbody tr th {\n",
       "        vertical-align: top;\n",
       "    }\n",
       "\n",
       "    .dataframe thead th {\n",
       "        text-align: right;\n",
       "    }\n",
       "</style>\n",
       "<table border=\"1\" class=\"dataframe\">\n",
       "  <thead>\n",
       "    <tr style=\"text-align: right;\">\n",
       "      <th></th>\n",
       "      <th>index</th>\n",
       "      <th>children</th>\n",
       "      <th>days_employed</th>\n",
       "      <th>dob_years</th>\n",
       "      <th>education_id</th>\n",
       "      <th>family_status_id</th>\n",
       "      <th>gender</th>\n",
       "      <th>income_type</th>\n",
       "      <th>debt</th>\n",
       "      <th>total_income</th>\n",
       "      <th>purpose</th>\n",
       "    </tr>\n",
       "  </thead>\n",
       "  <tbody>\n",
       "    <tr>\n",
       "      <th>0</th>\n",
       "      <td>0</td>\n",
       "      <td>1</td>\n",
       "      <td>8437.673028</td>\n",
       "      <td>42</td>\n",
       "      <td>0</td>\n",
       "      <td>0</td>\n",
       "      <td>F</td>\n",
       "      <td>сотрудник</td>\n",
       "      <td>0</td>\n",
       "      <td>253875</td>\n",
       "      <td>покупка жилья</td>\n",
       "    </tr>\n",
       "    <tr>\n",
       "      <th>1</th>\n",
       "      <td>1</td>\n",
       "      <td>1</td>\n",
       "      <td>4024.803754</td>\n",
       "      <td>36</td>\n",
       "      <td>1</td>\n",
       "      <td>0</td>\n",
       "      <td>F</td>\n",
       "      <td>сотрудник</td>\n",
       "      <td>0</td>\n",
       "      <td>112080</td>\n",
       "      <td>приобретение автомобиля</td>\n",
       "    </tr>\n",
       "    <tr>\n",
       "      <th>2</th>\n",
       "      <td>2</td>\n",
       "      <td>0</td>\n",
       "      <td>5623.422610</td>\n",
       "      <td>33</td>\n",
       "      <td>1</td>\n",
       "      <td>0</td>\n",
       "      <td>M</td>\n",
       "      <td>сотрудник</td>\n",
       "      <td>0</td>\n",
       "      <td>145885</td>\n",
       "      <td>покупка жилья</td>\n",
       "    </tr>\n",
       "    <tr>\n",
       "      <th>3</th>\n",
       "      <td>3</td>\n",
       "      <td>3</td>\n",
       "      <td>4124.747207</td>\n",
       "      <td>32</td>\n",
       "      <td>1</td>\n",
       "      <td>0</td>\n",
       "      <td>M</td>\n",
       "      <td>сотрудник</td>\n",
       "      <td>0</td>\n",
       "      <td>267628</td>\n",
       "      <td>дополнительное образование</td>\n",
       "    </tr>\n",
       "    <tr>\n",
       "      <th>4</th>\n",
       "      <td>4</td>\n",
       "      <td>0</td>\n",
       "      <td>340266.072047</td>\n",
       "      <td>53</td>\n",
       "      <td>1</td>\n",
       "      <td>1</td>\n",
       "      <td>F</td>\n",
       "      <td>пенсионер</td>\n",
       "      <td>0</td>\n",
       "      <td>158616</td>\n",
       "      <td>сыграть свадьбу</td>\n",
       "    </tr>\n",
       "    <tr>\n",
       "      <th>...</th>\n",
       "      <td>...</td>\n",
       "      <td>...</td>\n",
       "      <td>...</td>\n",
       "      <td>...</td>\n",
       "      <td>...</td>\n",
       "      <td>...</td>\n",
       "      <td>...</td>\n",
       "      <td>...</td>\n",
       "      <td>...</td>\n",
       "      <td>...</td>\n",
       "      <td>...</td>\n",
       "    </tr>\n",
       "    <tr>\n",
       "      <th>21449</th>\n",
       "      <td>21449</td>\n",
       "      <td>1</td>\n",
       "      <td>4529.316663</td>\n",
       "      <td>43</td>\n",
       "      <td>1</td>\n",
       "      <td>1</td>\n",
       "      <td>F</td>\n",
       "      <td>компаньон</td>\n",
       "      <td>0</td>\n",
       "      <td>224791</td>\n",
       "      <td>операции с жильем</td>\n",
       "    </tr>\n",
       "    <tr>\n",
       "      <th>21450</th>\n",
       "      <td>21450</td>\n",
       "      <td>0</td>\n",
       "      <td>343937.404131</td>\n",
       "      <td>67</td>\n",
       "      <td>1</td>\n",
       "      <td>0</td>\n",
       "      <td>F</td>\n",
       "      <td>пенсионер</td>\n",
       "      <td>0</td>\n",
       "      <td>155999</td>\n",
       "      <td>сделка с автомобилем</td>\n",
       "    </tr>\n",
       "    <tr>\n",
       "      <th>21451</th>\n",
       "      <td>21451</td>\n",
       "      <td>1</td>\n",
       "      <td>2113.346888</td>\n",
       "      <td>38</td>\n",
       "      <td>1</td>\n",
       "      <td>1</td>\n",
       "      <td>M</td>\n",
       "      <td>сотрудник</td>\n",
       "      <td>1</td>\n",
       "      <td>89672</td>\n",
       "      <td>недвижимость</td>\n",
       "    </tr>\n",
       "    <tr>\n",
       "      <th>21452</th>\n",
       "      <td>21452</td>\n",
       "      <td>3</td>\n",
       "      <td>3112.481705</td>\n",
       "      <td>38</td>\n",
       "      <td>1</td>\n",
       "      <td>0</td>\n",
       "      <td>M</td>\n",
       "      <td>сотрудник</td>\n",
       "      <td>1</td>\n",
       "      <td>244093</td>\n",
       "      <td>на покупку своего автомобиля</td>\n",
       "    </tr>\n",
       "    <tr>\n",
       "      <th>21453</th>\n",
       "      <td>21453</td>\n",
       "      <td>2</td>\n",
       "      <td>1984.507589</td>\n",
       "      <td>40</td>\n",
       "      <td>1</td>\n",
       "      <td>0</td>\n",
       "      <td>F</td>\n",
       "      <td>сотрудник</td>\n",
       "      <td>0</td>\n",
       "      <td>82047</td>\n",
       "      <td>на покупку автомобиля</td>\n",
       "    </tr>\n",
       "  </tbody>\n",
       "</table>\n",
       "<p>21454 rows × 11 columns</p>\n",
       "</div>"
      ],
      "text/plain": [
       "       index  children  days_employed  dob_years  education_id  \\\n",
       "0          0         1    8437.673028         42             0   \n",
       "1          1         1    4024.803754         36             1   \n",
       "2          2         0    5623.422610         33             1   \n",
       "3          3         3    4124.747207         32             1   \n",
       "4          4         0  340266.072047         53             1   \n",
       "...      ...       ...            ...        ...           ...   \n",
       "21449  21449         1    4529.316663         43             1   \n",
       "21450  21450         0  343937.404131         67             1   \n",
       "21451  21451         1    2113.346888         38             1   \n",
       "21452  21452         3    3112.481705         38             1   \n",
       "21453  21453         2    1984.507589         40             1   \n",
       "\n",
       "       family_status_id gender income_type  debt  total_income  \\\n",
       "0                     0      F   сотрудник     0        253875   \n",
       "1                     0      F   сотрудник     0        112080   \n",
       "2                     0      M   сотрудник     0        145885   \n",
       "3                     0      M   сотрудник     0        267628   \n",
       "4                     1      F   пенсионер     0        158616   \n",
       "...                 ...    ...         ...   ...           ...   \n",
       "21449                 1      F   компаньон     0        224791   \n",
       "21450                 0      F   пенсионер     0        155999   \n",
       "21451                 1      M   сотрудник     1         89672   \n",
       "21452                 0      M   сотрудник     1        244093   \n",
       "21453                 0      F   сотрудник     0         82047   \n",
       "\n",
       "                            purpose  \n",
       "0                     покупка жилья  \n",
       "1           приобретение автомобиля  \n",
       "2                     покупка жилья  \n",
       "3        дополнительное образование  \n",
       "4                   сыграть свадьбу  \n",
       "...                             ...  \n",
       "21449             операции с жильем  \n",
       "21450          сделка с автомобилем  \n",
       "21451                  недвижимость  \n",
       "21452  на покупку своего автомобиля  \n",
       "21453         на покупку автомобиля  \n",
       "\n",
       "[21454 rows x 11 columns]"
      ]
     },
     "execution_count": 22,
     "metadata": {},
     "output_type": "execute_result"
    }
   ],
   "source": [
    "# удаление столбцов education и family_status из исходного датафрейма\n",
    "df.drop(['education', 'family_status'], axis = 1).reset_index()"
   ]
  },
  {
   "cell_type": "markdown",
   "id": "260a5f94",
   "metadata": {},
   "source": [
    "### Шаг 2.6. Категоризация дохода."
   ]
  },
  {
   "cell_type": "code",
   "execution_count": 23,
   "id": "2faedaba",
   "metadata": {},
   "outputs": [
    {
     "data": {
      "text/plain": [
       "C    16016\n",
       "B     5041\n",
       "D      350\n",
       "A       25\n",
       "E       22\n",
       "Name: total_income_category, dtype: int64"
      ]
     },
     "metadata": {},
     "output_type": "display_data"
    }
   ],
   "source": [
    "# создание столбца с категориями\n",
    "\n",
    "def total_income_category(total_income):\n",
    "    if total_income<=30000:\n",
    "        return 'E'\n",
    "    elif (total_income>=30001)& (total_income<=50000):\n",
    "        return 'D'\n",
    "    elif(total_income >=50001) & (total_income<=200000):\n",
    "        return 'C'\n",
    "    elif (total_income>=200001) & (total_income<=1000000):\n",
    "        return 'B'\n",
    "    elif (total_income>=1000001):\n",
    "        return 'A'\n",
    "    else :\n",
    "        return '...'\n",
    "df['total_income_category']=df['total_income'].apply(total_income_category)\n",
    "display(df['total_income_category'].value_counts(dropna=False))"
   ]
  },
  {
   "cell_type": "markdown",
   "id": "5c93b0de",
   "metadata": {},
   "source": [
    "### Шаг 2.7. Категоризация целей кредита."
   ]
  },
  {
   "cell_type": "code",
   "execution_count": 24,
   "id": "95044213",
   "metadata": {},
   "outputs": [
    {
     "data": {
      "text/plain": [
       "операции с недвижимостью    10811\n",
       "операции с автомобилем       4306\n",
       "получение образования        4013\n",
       "проведение свадьбы           2324\n",
       "Name: purpose_category, dtype: int64"
      ]
     },
     "metadata": {},
     "output_type": "display_data"
    }
   ],
   "source": [
    "# функция к новому столбцу о целевых категориях\n",
    "def purpose_category(purpose):\n",
    "    if 'авто' in purpose:\n",
    "        return'операции с автомобилем'\n",
    "    elif ('жил' in purpose) or ('недв' in purpose): \n",
    "        return'операции с недвижимостью'\n",
    "    elif 'сва' in purpose:\n",
    "        return 'проведение свадьбы'\n",
    "    elif 'обр' in purpose:\n",
    "        return'получение образования'\n",
    "    else:\n",
    "            return '...'\n",
    "df['purpose_category']=df['purpose'].apply(purpose_category)\n",
    "display(df['purpose_category'].value_counts(dropna=False))\n",
    "\n",
    "    "
   ]
  },
  {
   "cell_type": "markdown",
   "id": "c9da2b3f",
   "metadata": {},
   "source": [
    "###  Ответы на вопросы"
   ]
  },
  {
   "cell_type": "code",
   "execution_count": 25,
   "id": "03313920",
   "metadata": {},
   "outputs": [
    {
     "data": {
      "text/plain": [
       " 0     14091\n",
       " 1      4808\n",
       " 2      2052\n",
       " 3       330\n",
       " 20       76\n",
       "-1        47\n",
       " 4        41\n",
       " 5         9\n",
       "Name: children, dtype: int64"
      ]
     },
     "execution_count": 25,
     "metadata": {},
     "output_type": "execute_result"
    }
   ],
   "source": [
    "df['children'].value_counts()"
   ]
  },
  {
   "cell_type": "markdown",
   "id": "96c74e4a",
   "metadata": {},
   "source": [
    "### 1.Вопрос : существует ли зависимость между колличеством детей и возвратом кредита в срок"
   ]
  },
  {
   "cell_type": "markdown",
   "id": "6884b14e",
   "metadata": {},
   "source": []
  },
  {
   "cell_type": "markdown",
   "id": "284df7ad",
   "metadata": {},
   "source": []
  },
  {
   "cell_type": "code",
   "execution_count": 26,
   "id": "2e122f69",
   "metadata": {},
   "outputs": [
    {
     "data": {
      "text/plain": [
       " 0     14091\n",
       " 1      4808\n",
       " 2      2052\n",
       " 3       330\n",
       " 20       76\n",
       "-1        47\n",
       " 4        41\n",
       " 5         9\n",
       "Name: children, dtype: int64"
      ]
     },
     "execution_count": 26,
     "metadata": {},
     "output_type": "execute_result"
    }
   ],
   "source": [
    "df['children'].value_counts()"
   ]
  },
  {
   "cell_type": "code",
   "execution_count": 27,
   "id": "7a7bd2ac",
   "metadata": {
    "scrolled": false
   },
   "outputs": [
    {
     "data": {
      "text/html": [
       "<div>\n",
       "<style scoped>\n",
       "    .dataframe tbody tr th:only-of-type {\n",
       "        vertical-align: middle;\n",
       "    }\n",
       "\n",
       "    .dataframe tbody tr th {\n",
       "        vertical-align: top;\n",
       "    }\n",
       "\n",
       "    .dataframe thead tr th {\n",
       "        text-align: left;\n",
       "    }\n",
       "\n",
       "    .dataframe thead tr:last-of-type th {\n",
       "        text-align: right;\n",
       "    }\n",
       "</style>\n",
       "<table border=\"1\" class=\"dataframe\">\n",
       "  <thead>\n",
       "    <tr>\n",
       "      <th></th>\n",
       "      <th>count</th>\n",
       "      <th>sum</th>\n",
       "      <th>mean</th>\n",
       "    </tr>\n",
       "    <tr>\n",
       "      <th></th>\n",
       "      <th>debt</th>\n",
       "      <th>debt</th>\n",
       "      <th>debt</th>\n",
       "    </tr>\n",
       "    <tr>\n",
       "      <th>children</th>\n",
       "      <th></th>\n",
       "      <th></th>\n",
       "      <th></th>\n",
       "    </tr>\n",
       "  </thead>\n",
       "  <tbody>\n",
       "    <tr>\n",
       "      <th>0</th>\n",
       "      <td>14091</td>\n",
       "      <td>1063</td>\n",
       "      <td>0.075438</td>\n",
       "    </tr>\n",
       "    <tr>\n",
       "      <th>1</th>\n",
       "      <td>4855</td>\n",
       "      <td>445</td>\n",
       "      <td>0.091658</td>\n",
       "    </tr>\n",
       "    <tr>\n",
       "      <th>2</th>\n",
       "      <td>2128</td>\n",
       "      <td>202</td>\n",
       "      <td>0.094925</td>\n",
       "    </tr>\n",
       "    <tr>\n",
       "      <th>3</th>\n",
       "      <td>330</td>\n",
       "      <td>27</td>\n",
       "      <td>0.081818</td>\n",
       "    </tr>\n",
       "    <tr>\n",
       "      <th>4</th>\n",
       "      <td>41</td>\n",
       "      <td>4</td>\n",
       "      <td>0.097561</td>\n",
       "    </tr>\n",
       "    <tr>\n",
       "      <th>5</th>\n",
       "      <td>9</td>\n",
       "      <td>0</td>\n",
       "      <td>0.000000</td>\n",
       "    </tr>\n",
       "  </tbody>\n",
       "</table>\n",
       "</div>"
      ],
      "text/plain": [
       "          count   sum      mean\n",
       "           debt  debt      debt\n",
       "children                       \n",
       "0         14091  1063  0.075438\n",
       "1          4855   445  0.091658\n",
       "2          2128   202  0.094925\n",
       "3           330    27  0.081818\n",
       "4            41     4  0.097561\n",
       "5             9     0  0.000000"
      ]
     },
     "metadata": {},
     "output_type": "display_data"
    }
   ],
   "source": [
    "#замена ошибочного значения с 20 детей на 2\n",
    "\n",
    "df = df.replace({'children':{20:2}})\n",
    "\n",
    "#  метод .abs() возвращает значения по модулю \n",
    "df['children'] = df['children'].abs()\n",
    "\n",
    "#объединяем в новую таблиццу\n",
    "df_new=df.pivot_table(index='children',values='debt', aggfunc=['count','sum','mean'])\n",
    "display(df_new)\n",
    "\n",
    "\n",
    "\n"
   ]
  },
  {
   "cell_type": "markdown",
   "id": "ec5bc9a0",
   "metadata": {},
   "source": [
    " <div class=\"alert alert-info\">  заменила аномальные значения 20 детей на 2 , взяля значения по модулю ( Избавилась от-1) и сделала сводную таблицу .\n",
    "  "
   ]
  },
  {
   "cell_type": "markdown",
   "id": "aee0e73a",
   "metadata": {},
   "source": [
    "### 2. Вопрос:  есть ли  зависимость между семейным положением и возвратом кредита "
   ]
  },
  {
   "cell_type": "code",
   "execution_count": 28,
   "id": "cc3ec10f",
   "metadata": {
    "scrolled": false
   },
   "outputs": [
    {
     "data": {
      "text/html": [
       "<div>\n",
       "<style scoped>\n",
       "    .dataframe tbody tr th:only-of-type {\n",
       "        vertical-align: middle;\n",
       "    }\n",
       "\n",
       "    .dataframe tbody tr th {\n",
       "        vertical-align: top;\n",
       "    }\n",
       "\n",
       "    .dataframe thead tr th {\n",
       "        text-align: left;\n",
       "    }\n",
       "\n",
       "    .dataframe thead tr:last-of-type th {\n",
       "        text-align: right;\n",
       "    }\n",
       "</style>\n",
       "<table border=\"1\" class=\"dataframe\">\n",
       "  <thead>\n",
       "    <tr>\n",
       "      <th></th>\n",
       "      <th>count</th>\n",
       "      <th>sum</th>\n",
       "      <th>mean</th>\n",
       "    </tr>\n",
       "    <tr>\n",
       "      <th></th>\n",
       "      <th>debt</th>\n",
       "      <th>debt</th>\n",
       "      <th>debt</th>\n",
       "    </tr>\n",
       "    <tr>\n",
       "      <th>family_status_id</th>\n",
       "      <th></th>\n",
       "      <th></th>\n",
       "      <th></th>\n",
       "    </tr>\n",
       "  </thead>\n",
       "  <tbody>\n",
       "    <tr>\n",
       "      <th>0</th>\n",
       "      <td>12339</td>\n",
       "      <td>931</td>\n",
       "      <td>0.075452</td>\n",
       "    </tr>\n",
       "    <tr>\n",
       "      <th>1</th>\n",
       "      <td>4151</td>\n",
       "      <td>388</td>\n",
       "      <td>0.093471</td>\n",
       "    </tr>\n",
       "    <tr>\n",
       "      <th>2</th>\n",
       "      <td>959</td>\n",
       "      <td>63</td>\n",
       "      <td>0.065693</td>\n",
       "    </tr>\n",
       "    <tr>\n",
       "      <th>3</th>\n",
       "      <td>1195</td>\n",
       "      <td>85</td>\n",
       "      <td>0.071130</td>\n",
       "    </tr>\n",
       "    <tr>\n",
       "      <th>4</th>\n",
       "      <td>2810</td>\n",
       "      <td>274</td>\n",
       "      <td>0.097509</td>\n",
       "    </tr>\n",
       "  </tbody>\n",
       "</table>\n",
       "</div>"
      ],
      "text/plain": [
       "                  count  sum      mean\n",
       "                   debt debt      debt\n",
       "family_status_id                      \n",
       "0                 12339  931  0.075452\n",
       "1                  4151  388  0.093471\n",
       "2                   959   63  0.065693\n",
       "3                  1195   85  0.071130\n",
       "4                  2810  274  0.097509"
      ]
     },
     "metadata": {},
     "output_type": "display_data"
    }
   ],
   "source": [
    "#создаем сводную таблицу\n",
    "\n",
    "df_new_f = df.pivot_table(index='family_status_id',values='debt',  aggfunc=['count','sum','mean']) \n",
    "\n",
    "\n",
    "display(df_new_f)"
   ]
  },
  {
   "cell_type": "code",
   "execution_count": 34,
   "id": "577e0341",
   "metadata": {},
   "outputs": [
    {
     "data": {
      "text/plain": [
       "MultiIndex([('count', 'debt'),\n",
       "            (  'sum', 'debt'),\n",
       "            ( 'mean', 'debt')],\n",
       "           )"
      ]
     },
     "execution_count": 34,
     "metadata": {},
     "output_type": "execute_result"
    }
   ],
   "source": [
    "df_new_f.columns"
   ]
  },
  {
   "cell_type": "code",
   "execution_count": 35,
   "id": "7d191d93",
   "metadata": {},
   "outputs": [
    {
     "data": {
      "text/plain": [
       "<AxesSubplot:title={'center':'Зависимость задолженности от семейного положения'}, xlabel='family_status_id'>"
      ]
     },
     "execution_count": 35,
     "metadata": {},
     "output_type": "execute_result"
    },
    {
     "data": {
      "image/png": "[encoded data removed]",
      "text/plain": [
       "<Figure size 1080x360 with 1 Axes>"
      ]
     },
     "metadata": {
      "needs_background": "light"
     },
     "output_type": "display_data"
    }
   ],
   "source": [
    "df_new_f['mean', 'debt'].plot(kind='bar', \n",
    "                                      figsize=(15, 5), \n",
    "                                      title='Зависимость задолженности от семейного положения', \n",
    "                                      grid=True)"
   ]
  },
  {
   "cell_type": "markdown",
   "id": "836eb9aa",
   "metadata": {},
   "source": [
    "<div class=\"alert alert-info\">Больше всего  невозвратов  в категориях  1( гражданский брак) и 4( не женат\\не замужем)\n",
    "9.3% и 9.7% соответственно.Не привыкли люди к обязательствам))"
   ]
  },
  {
   "cell_type": "markdown",
   "id": "bd1fc478",
   "metadata": {},
   "source": [
    "### 3. ВОПРОС: Есть ли зависимость между уровнем дохода и возвратом кредита в срок"
   ]
  },
  {
   "cell_type": "code",
   "execution_count": 29,
   "id": "6ebe377c",
   "metadata": {},
   "outputs": [
    {
     "data": {
      "text/html": [
       "<div>\n",
       "<style scoped>\n",
       "    .dataframe tbody tr th:only-of-type {\n",
       "        vertical-align: middle;\n",
       "    }\n",
       "\n",
       "    .dataframe tbody tr th {\n",
       "        vertical-align: top;\n",
       "    }\n",
       "\n",
       "    .dataframe thead tr th {\n",
       "        text-align: left;\n",
       "    }\n",
       "\n",
       "    .dataframe thead tr:last-of-type th {\n",
       "        text-align: right;\n",
       "    }\n",
       "</style>\n",
       "<table border=\"1\" class=\"dataframe\">\n",
       "  <thead>\n",
       "    <tr>\n",
       "      <th></th>\n",
       "      <th>count</th>\n",
       "      <th>sum</th>\n",
       "      <th>mean</th>\n",
       "    </tr>\n",
       "    <tr>\n",
       "      <th></th>\n",
       "      <th>debt</th>\n",
       "      <th>debt</th>\n",
       "      <th>debt</th>\n",
       "    </tr>\n",
       "    <tr>\n",
       "      <th>total_income_category</th>\n",
       "      <th></th>\n",
       "      <th></th>\n",
       "      <th></th>\n",
       "    </tr>\n",
       "  </thead>\n",
       "  <tbody>\n",
       "    <tr>\n",
       "      <th>A</th>\n",
       "      <td>25</td>\n",
       "      <td>2</td>\n",
       "      <td>0.080000</td>\n",
       "    </tr>\n",
       "    <tr>\n",
       "      <th>B</th>\n",
       "      <td>5041</td>\n",
       "      <td>356</td>\n",
       "      <td>0.070621</td>\n",
       "    </tr>\n",
       "    <tr>\n",
       "      <th>C</th>\n",
       "      <td>16016</td>\n",
       "      <td>1360</td>\n",
       "      <td>0.084915</td>\n",
       "    </tr>\n",
       "    <tr>\n",
       "      <th>D</th>\n",
       "      <td>350</td>\n",
       "      <td>21</td>\n",
       "      <td>0.060000</td>\n",
       "    </tr>\n",
       "    <tr>\n",
       "      <th>E</th>\n",
       "      <td>22</td>\n",
       "      <td>2</td>\n",
       "      <td>0.090909</td>\n",
       "    </tr>\n",
       "  </tbody>\n",
       "</table>\n",
       "</div>"
      ],
      "text/plain": [
       "                       count   sum      mean\n",
       "                        debt  debt      debt\n",
       "total_income_category                       \n",
       "A                         25     2  0.080000\n",
       "B                       5041   356  0.070621\n",
       "C                      16016  1360  0.084915\n",
       "D                        350    21  0.060000\n",
       "E                         22     2  0.090909"
      ]
     },
     "metadata": {},
     "output_type": "display_data"
    }
   ],
   "source": [
    "df_new_total_cat = df.pivot_table(index='total_income_category', values='debt', aggfunc=['count','sum','mean']) \n",
    "\n",
    "display(df_new_total_cat)\n",
    "\n",
    "\n"
   ]
  },
  {
   "cell_type": "code",
   "execution_count": 30,
   "id": "40907281",
   "metadata": {},
   "outputs": [
    {
     "data": {
      "text/plain": [
       "MultiIndex([('count', 'debt'),\n",
       "            (  'sum', 'debt'),\n",
       "            ( 'mean', 'debt')],\n",
       "           )"
      ]
     },
     "execution_count": 30,
     "metadata": {},
     "output_type": "execute_result"
    }
   ],
   "source": [
    "df_new_total_cat.columns"
   ]
  },
  {
   "cell_type": "code",
   "execution_count": 31,
   "id": "1af58c2f",
   "metadata": {},
   "outputs": [
    {
     "data": {
      "text/plain": [
       "<AxesSubplot:title={'center':'Распределение должников по группам дохода'}, xlabel='total_income_category'>"
      ]
     },
     "execution_count": 31,
     "metadata": {},
     "output_type": "execute_result"
    },
    {
     "data": {
      "image/png": "[encoded data removed]",
      "text/plain": [
       "<Figure size 1080x432 with 1 Axes>"
      ]
     },
     "metadata": {
      "needs_background": "light"
     },
     "output_type": "display_data"
    }
   ],
   "source": [
    "# \n",
    "df_new_total_cat['mean', 'debt'].plot(kind='bar', \n",
    "                                      figsize=(15, 6), \n",
    "                                      title='Распределение должников по группам дохода', \n",
    "                                      grid=True)"
   ]
  },
  {
   "cell_type": "markdown",
   "id": "8c96f40b",
   "metadata": {},
   "source": [
    " <div class=\"alert alert-info\">Самый большой процент должников в категории низкого  дохода 9%. Но и малочисленная категория А с большими доходами(> 1000001)демонстрирует 8% невозвратов , как и самая многочисленная категория С(50000-200000)-8.4%. Самыми отвественными оказались  в категории D(30000-50000)\n",
    "6% должников. "
   ]
  },
  {
   "cell_type": "markdown",
   "id": "a9489612",
   "metadata": {},
   "source": [
    "### 4. Вопрос : Как разные цели кредита влияют на его возврат"
   ]
  },
  {
   "cell_type": "code",
   "execution_count": 32,
   "id": "a0cbc502",
   "metadata": {},
   "outputs": [
    {
     "data": {
      "text/html": [
       "<div>\n",
       "<style scoped>\n",
       "    .dataframe tbody tr th:only-of-type {\n",
       "        vertical-align: middle;\n",
       "    }\n",
       "\n",
       "    .dataframe tbody tr th {\n",
       "        vertical-align: top;\n",
       "    }\n",
       "\n",
       "    .dataframe thead tr th {\n",
       "        text-align: left;\n",
       "    }\n",
       "\n",
       "    .dataframe thead tr:last-of-type th {\n",
       "        text-align: right;\n",
       "    }\n",
       "</style>\n",
       "<table border=\"1\" class=\"dataframe\">\n",
       "  <thead>\n",
       "    <tr>\n",
       "      <th></th>\n",
       "      <th>count</th>\n",
       "      <th>sum</th>\n",
       "      <th>mean</th>\n",
       "    </tr>\n",
       "    <tr>\n",
       "      <th></th>\n",
       "      <th>debt</th>\n",
       "      <th>debt</th>\n",
       "      <th>debt</th>\n",
       "    </tr>\n",
       "    <tr>\n",
       "      <th>purpose_category</th>\n",
       "      <th></th>\n",
       "      <th></th>\n",
       "      <th></th>\n",
       "    </tr>\n",
       "  </thead>\n",
       "  <tbody>\n",
       "    <tr>\n",
       "      <th>операции с автомобилем</th>\n",
       "      <td>4306</td>\n",
       "      <td>403</td>\n",
       "      <td>0.093590</td>\n",
       "    </tr>\n",
       "    <tr>\n",
       "      <th>операции с недвижимостью</th>\n",
       "      <td>10811</td>\n",
       "      <td>782</td>\n",
       "      <td>0.072334</td>\n",
       "    </tr>\n",
       "    <tr>\n",
       "      <th>получение образования</th>\n",
       "      <td>4013</td>\n",
       "      <td>370</td>\n",
       "      <td>0.092200</td>\n",
       "    </tr>\n",
       "    <tr>\n",
       "      <th>проведение свадьбы</th>\n",
       "      <td>2324</td>\n",
       "      <td>186</td>\n",
       "      <td>0.080034</td>\n",
       "    </tr>\n",
       "  </tbody>\n",
       "</table>\n",
       "</div>"
      ],
      "text/plain": [
       "                          count  sum      mean\n",
       "                           debt debt      debt\n",
       "purpose_category                              \n",
       "операции с автомобилем     4306  403  0.093590\n",
       "операции с недвижимостью  10811  782  0.072334\n",
       "получение образования      4013  370  0.092200\n",
       "проведение свадьбы         2324  186  0.080034"
      ]
     },
     "metadata": {},
     "output_type": "display_data"
    }
   ],
   "source": [
    "df_purpose_category= df.pivot_table(index='purpose_category',values='debt', aggfunc=['count','sum','mean'])  \n",
    "\n",
    "display(df_purpose_category)"
   ]
  },
  {
   "cell_type": "code",
   "execution_count": 36,
   "id": "a9a39c57",
   "metadata": {},
   "outputs": [
    {
     "data": {
      "text/plain": [
       "MultiIndex([('count', 'debt'),\n",
       "            (  'sum', 'debt'),\n",
       "            ( 'mean', 'debt')],\n",
       "           )"
      ]
     },
     "execution_count": 36,
     "metadata": {},
     "output_type": "execute_result"
    }
   ],
   "source": [
    "df_purpose_category.columns"
   ]
  },
  {
   "cell_type": "code",
   "execution_count": 38,
   "id": "6cd2e49d",
   "metadata": {},
   "outputs": [
    {
     "data": {
      "text/plain": [
       "<AxesSubplot:title={'center':'Распределение должников по целям кредита '}, xlabel='purpose_category'>"
      ]
     },
     "execution_count": 38,
     "metadata": {},
     "output_type": "execute_result"
    },
    {
     "data": {
      "image/png": "[encoded data removed]",
      "text/plain": [
       "<Figure size 1080x432 with 1 Axes>"
      ]
     },
     "metadata": {
      "needs_background": "light"
     },
     "output_type": "display_data"
    }
   ],
   "source": [
    "df_purpose_category['mean', 'debt'].plot(kind='bar', \n",
    "                                      figsize=(15, 6), \n",
    "                                      title='Распределение должников по целям кредита ', \n",
    "                                      grid=True)"
   ]
  },
  {
   "cell_type": "markdown",
   "id": "5012667c",
   "metadata": {},
   "source": [
    "<div class=\"alert alert-info\">Наибольшее кол-во невозвратов в категории операции с автомобилем 9.3%  и получение образования 9.2%. Несмотря на то, что операции с недвижимостью являются наиболее частой целью кредита, процент задолженности здесь самый низкий 7.2%.Это вероятно можно объяснить серьезностью самой цели.Кредиты на операции с недвижимостью ,как правило большие по сумме и многолетние (например, ипотека) и решения о таких обязательствах принимаются обдуманно и взвешенно.\n",
    "    \n",
    "    \n",
    "    \n",
    "    "
   ]
  },
  {
   "cell_type": "markdown",
   "id": "df98a490",
   "metadata": {},
   "source": [
    "## Общий вывод: "
   ]
  },
  {
   "cell_type": "markdown",
   "id": "d13189cb",
   "metadata": {},
   "source": [
    "<div class=\"alert alert-info\">\n",
    "    Анализ предоставленных данных установил :\n",
    "    \n",
    "    1. Прямой зависимости от наличия детей и их колличества среди заемщиков банка не выявлено\n",
    "    \n",
    "    2.Семейное положение влияет на долговые обязательства, в должниках оказались незамужние\\неженатые и    люди в гражданском браке( более 9% в обоих случаях).Самый низкий процент просрочек среди вдов\\вдовцов( 6%), что возможно объяснить скорее всего более зрелым возрастом заемщиков ( но такую зависимость в данном исследовании не выявляли)\n",
    "    3. Уровень доходов дастоверно не влияет на возврат кредитов в срок, кроме случаев экстремально низких доходов.\n",
    "    \n",
    "    4.Наилучшими целями кредита являются операции с недвижимостью . Несмотря на то, что эти цели самые многочисленные в структуре займов , процент невозврата здесь самый низкий(6%). Так же эта категория кредитов вероятно является предпочтительной и для банка.Эта категория кредитов , как правило обеспечивается самой кредитной недвижимостью( в качестве гарантийного залога ) и  позволяет осуществлять многолетнее сотрудничество с заемщиками тем самым извлекая дополнительный доход и лояльность\n",
    "    \n",
    "    \n",
    "    \n",
    "    \n",
    "    "
   ]
  }
 ],
 "metadata": {
  "ExecuteTimeLog": [
   {
    "duration": 102,
    "start_time": "2022-04-12T12:02:19.948Z"
   },
   {
    "duration": 636,
    "start_time": "2022-04-12T12:03:00.051Z"
   },
   {
    "duration": 11,
    "start_time": "2022-04-12T12:03:06.862Z"
   },
   {
    "duration": 78,
    "start_time": "2022-04-12T12:12:41.885Z"
   },
   {
    "duration": 73,
    "start_time": "2022-04-12T12:12:46.328Z"
   },
   {
    "duration": 84,
    "start_time": "2022-04-12T12:12:56.190Z"
   },
   {
    "duration": 558,
    "start_time": "2022-04-12T12:13:06.857Z"
   },
   {
    "duration": 69,
    "start_time": "2022-04-12T12:13:14.977Z"
   },
   {
    "duration": 122,
    "start_time": "2022-04-12T12:28:16.800Z"
   },
   {
    "duration": 19,
    "start_time": "2022-04-12T12:29:23.737Z"
   },
   {
    "duration": 644,
    "start_time": "2022-04-12T12:29:32.914Z"
   },
   {
    "duration": 19,
    "start_time": "2022-04-12T12:29:39.248Z"
   },
   {
    "duration": 94,
    "start_time": "2022-04-12T12:30:21.184Z"
   },
   {
    "duration": 67,
    "start_time": "2022-04-12T12:30:26.539Z"
   },
   {
    "duration": 75,
    "start_time": "2022-04-12T12:31:04.324Z"
   },
   {
    "duration": 112,
    "start_time": "2022-04-12T12:31:14.799Z"
   },
   {
    "duration": 12,
    "start_time": "2022-04-12T12:59:57.915Z"
   },
   {
    "duration": 13,
    "start_time": "2022-04-12T13:09:45.246Z"
   },
   {
    "duration": 6,
    "start_time": "2022-04-12T13:10:39.928Z"
   },
   {
    "duration": 7,
    "start_time": "2022-04-12T13:12:21.095Z"
   },
   {
    "duration": 23,
    "start_time": "2022-04-12T13:13:28.531Z"
   },
   {
    "duration": 5,
    "start_time": "2022-04-12T13:16:23.163Z"
   },
   {
    "duration": 15,
    "start_time": "2022-04-12T13:18:41.200Z"
   },
   {
    "duration": 8,
    "start_time": "2022-04-12T13:28:06.484Z"
   },
   {
    "duration": 11,
    "start_time": "2022-04-12T13:40:02.302Z"
   },
   {
    "duration": 10,
    "start_time": "2022-04-12T13:40:37.113Z"
   },
   {
    "duration": 12,
    "start_time": "2022-04-12T13:41:15.262Z"
   },
   {
    "duration": 14,
    "start_time": "2022-04-12T13:41:36.439Z"
   },
   {
    "duration": 13,
    "start_time": "2022-04-12T13:42:33.456Z"
   },
   {
    "duration": 12,
    "start_time": "2022-04-12T13:42:40.153Z"
   },
   {
    "duration": 14,
    "start_time": "2022-04-12T13:43:43.971Z"
   },
   {
    "duration": 659,
    "start_time": "2022-04-12T13:44:00.316Z"
   },
   {
    "duration": 6,
    "start_time": "2022-04-12T13:44:00.978Z"
   },
   {
    "duration": 320,
    "start_time": "2022-04-12T13:44:00.987Z"
   },
   {
    "duration": 36,
    "start_time": "2022-04-12T13:44:01.310Z"
   },
   {
    "duration": 10,
    "start_time": "2022-04-12T13:44:01.348Z"
   },
   {
    "duration": 21,
    "start_time": "2022-04-12T13:44:01.361Z"
   },
   {
    "duration": 21,
    "start_time": "2022-04-12T13:44:01.384Z"
   },
   {
    "duration": 104,
    "start_time": "2022-04-12T13:44:01.408Z"
   },
   {
    "duration": 0,
    "start_time": "2022-04-12T13:44:01.515Z"
   },
   {
    "duration": 10,
    "start_time": "2022-04-12T13:44:11.782Z"
   },
   {
    "duration": 10,
    "start_time": "2022-04-12T13:44:39.896Z"
   },
   {
    "duration": 9,
    "start_time": "2022-04-12T14:18:48.662Z"
   },
   {
    "duration": 33,
    "start_time": "2022-04-12T14:31:54.126Z"
   },
   {
    "duration": 11,
    "start_time": "2022-04-12T14:36:39.438Z"
   },
   {
    "duration": 9,
    "start_time": "2022-04-12T14:37:07.595Z"
   },
   {
    "duration": 10,
    "start_time": "2022-04-12T14:38:24.931Z"
   },
   {
    "duration": 9,
    "start_time": "2022-04-12T14:38:35.028Z"
   },
   {
    "duration": 36,
    "start_time": "2022-04-12T14:43:45.550Z"
   },
   {
    "duration": 8,
    "start_time": "2022-04-12T14:48:34.381Z"
   },
   {
    "duration": 6,
    "start_time": "2022-04-12T14:56:42.827Z"
   },
   {
    "duration": 21,
    "start_time": "2022-04-12T15:02:38.573Z"
   },
   {
    "duration": 16,
    "start_time": "2022-04-12T15:03:49.213Z"
   },
   {
    "duration": 26,
    "start_time": "2022-04-12T15:09:53.795Z"
   },
   {
    "duration": 16,
    "start_time": "2022-04-12T15:10:13.852Z"
   },
   {
    "duration": 16,
    "start_time": "2022-04-12T15:10:17.741Z"
   },
   {
    "duration": 459,
    "start_time": "2022-04-16T09:49:42.339Z"
   },
   {
    "duration": 73,
    "start_time": "2022-04-16T09:52:54.416Z"
   },
   {
    "duration": 5,
    "start_time": "2022-04-16T09:53:00.766Z"
   },
   {
    "duration": 5,
    "start_time": "2022-04-16T09:53:08.666Z"
   },
   {
    "duration": 20,
    "start_time": "2022-04-16T09:53:15.381Z"
   },
   {
    "duration": 78,
    "start_time": "2022-04-16T09:53:20.331Z"
   },
   {
    "duration": 4,
    "start_time": "2022-04-16T09:53:30.249Z"
   },
   {
    "duration": 10,
    "start_time": "2022-04-16T09:53:37.624Z"
   },
   {
    "duration": 7,
    "start_time": "2022-04-16T09:53:43.068Z"
   },
   {
    "duration": 6,
    "start_time": "2022-04-16T09:53:50.018Z"
   },
   {
    "duration": 6,
    "start_time": "2022-04-16T09:53:57.487Z"
   },
   {
    "duration": 7,
    "start_time": "2022-04-16T09:54:06.541Z"
   },
   {
    "duration": 7,
    "start_time": "2022-04-16T09:54:14.830Z"
   },
   {
    "duration": 4,
    "start_time": "2022-04-16T09:54:30.505Z"
   },
   {
    "duration": 9,
    "start_time": "2022-04-16T10:52:39.382Z"
   },
   {
    "duration": 6,
    "start_time": "2022-04-16T10:57:21.595Z"
   },
   {
    "duration": 10,
    "start_time": "2022-04-16T11:00:27.609Z"
   },
   {
    "duration": 23,
    "start_time": "2022-04-16T11:00:47.859Z"
   },
   {
    "duration": 14,
    "start_time": "2022-04-16T11:31:05.760Z"
   },
   {
    "duration": 7,
    "start_time": "2022-04-16T11:41:18.931Z"
   },
   {
    "duration": 7,
    "start_time": "2022-04-16T11:49:15.538Z"
   },
   {
    "duration": 7,
    "start_time": "2022-04-16T11:53:43.503Z"
   },
   {
    "duration": 6,
    "start_time": "2022-04-16T12:00:55.047Z"
   },
   {
    "duration": 13,
    "start_time": "2022-04-16T12:10:05.080Z"
   },
   {
    "duration": 12,
    "start_time": "2022-04-16T12:10:57.251Z"
   },
   {
    "duration": 8,
    "start_time": "2022-04-16T12:22:10.536Z"
   },
   {
    "duration": 8,
    "start_time": "2022-04-16T12:24:25.150Z"
   },
   {
    "duration": 10,
    "start_time": "2022-04-16T12:27:43.231Z"
   },
   {
    "duration": 8,
    "start_time": "2022-04-16T12:27:55.028Z"
   },
   {
    "duration": 4,
    "start_time": "2022-04-16T12:35:29.405Z"
   },
   {
    "duration": 4,
    "start_time": "2022-04-16T12:35:36.702Z"
   },
   {
    "duration": 6,
    "start_time": "2022-04-16T12:36:16.781Z"
   },
   {
    "duration": 8,
    "start_time": "2022-04-16T12:44:47.964Z"
   },
   {
    "duration": 6,
    "start_time": "2022-04-16T12:50:47.489Z"
   },
   {
    "duration": 6,
    "start_time": "2022-04-16T12:51:25.950Z"
   },
   {
    "duration": 18,
    "start_time": "2022-04-16T12:58:46.395Z"
   },
   {
    "duration": 20,
    "start_time": "2022-04-16T13:02:53.735Z"
   },
   {
    "duration": 17,
    "start_time": "2022-04-16T13:03:45.831Z"
   },
   {
    "duration": 15,
    "start_time": "2022-04-16T13:06:13.115Z"
   },
   {
    "duration": 3,
    "start_time": "2022-04-16T13:09:51.733Z"
   },
   {
    "duration": 7,
    "start_time": "2022-04-16T13:12:20.699Z"
   },
   {
    "duration": 4,
    "start_time": "2022-04-16T13:14:20.008Z"
   },
   {
    "duration": 9,
    "start_time": "2022-04-16T13:22:20.594Z"
   },
   {
    "duration": 8,
    "start_time": "2022-04-16T13:23:15.436Z"
   },
   {
    "duration": 171,
    "start_time": "2022-04-16T13:23:47.015Z"
   },
   {
    "duration": 119,
    "start_time": "2022-04-16T13:24:26.664Z"
   },
   {
    "duration": 8,
    "start_time": "2022-04-16T13:25:44.709Z"
   },
   {
    "duration": 9,
    "start_time": "2022-04-16T13:26:14.389Z"
   },
   {
    "duration": 8,
    "start_time": "2022-04-16T13:28:30.473Z"
   },
   {
    "duration": 115,
    "start_time": "2022-04-16T13:29:25.612Z"
   },
   {
    "duration": 7,
    "start_time": "2022-04-16T13:29:38.887Z"
   },
   {
    "duration": 7,
    "start_time": "2022-04-16T13:29:58.086Z"
   },
   {
    "duration": 8,
    "start_time": "2022-04-16T13:34:49.548Z"
   },
   {
    "duration": 8,
    "start_time": "2022-04-16T13:36:30.289Z"
   },
   {
    "duration": 11,
    "start_time": "2022-04-16T13:42:58.873Z"
   },
   {
    "duration": 14,
    "start_time": "2022-04-16T13:43:48.875Z"
   },
   {
    "duration": 20,
    "start_time": "2022-04-16T13:45:05.830Z"
   },
   {
    "duration": 7,
    "start_time": "2022-04-16T14:00:34.785Z"
   },
   {
    "duration": 105,
    "start_time": "2022-04-16T14:20:01.069Z"
   },
   {
    "duration": 12,
    "start_time": "2022-04-16T14:20:18.219Z"
   },
   {
    "duration": 19,
    "start_time": "2022-04-16T14:21:17.231Z"
   },
   {
    "duration": 15,
    "start_time": "2022-04-16T14:22:43.992Z"
   },
   {
    "duration": 15,
    "start_time": "2022-04-16T14:27:17.568Z"
   },
   {
    "duration": 15,
    "start_time": "2022-04-16T14:28:24.298Z"
   },
   {
    "duration": 14,
    "start_time": "2022-04-16T14:30:50.833Z"
   },
   {
    "duration": 508,
    "start_time": "2022-04-16T14:31:14.066Z"
   },
   {
    "duration": 4,
    "start_time": "2022-04-16T14:31:14.576Z"
   },
   {
    "duration": 8,
    "start_time": "2022-04-16T14:31:14.581Z"
   },
   {
    "duration": 17,
    "start_time": "2022-04-16T14:31:14.591Z"
   },
   {
    "duration": 4,
    "start_time": "2022-04-16T14:31:14.610Z"
   },
   {
    "duration": 12,
    "start_time": "2022-04-16T14:31:14.616Z"
   },
   {
    "duration": 8,
    "start_time": "2022-04-16T14:31:14.629Z"
   },
   {
    "duration": 39,
    "start_time": "2022-04-16T14:31:14.638Z"
   },
   {
    "duration": 10,
    "start_time": "2022-04-16T14:31:14.678Z"
   },
   {
    "duration": 23,
    "start_time": "2022-04-16T14:31:14.690Z"
   },
   {
    "duration": 6,
    "start_time": "2022-04-16T14:31:14.714Z"
   },
   {
    "duration": 19,
    "start_time": "2022-04-16T14:31:14.721Z"
   },
   {
    "duration": 43,
    "start_time": "2022-04-16T14:31:14.741Z"
   },
   {
    "duration": 17,
    "start_time": "2022-04-16T14:31:14.786Z"
   },
   {
    "duration": 14,
    "start_time": "2022-04-16T14:31:14.804Z"
   },
   {
    "duration": 13,
    "start_time": "2022-04-16T14:31:14.820Z"
   },
   {
    "duration": 49,
    "start_time": "2022-04-16T14:31:14.835Z"
   },
   {
    "duration": 14,
    "start_time": "2022-04-16T14:31:14.886Z"
   },
   {
    "duration": 81,
    "start_time": "2022-04-16T14:31:14.901Z"
   },
   {
    "duration": 15,
    "start_time": "2022-04-16T14:31:22.488Z"
   },
   {
    "duration": 22,
    "start_time": "2022-04-16T14:33:53.504Z"
   },
   {
    "duration": 15,
    "start_time": "2022-04-16T14:34:26.706Z"
   },
   {
    "duration": 44,
    "start_time": "2022-04-17T05:55:31.971Z"
   },
   {
    "duration": 501,
    "start_time": "2022-04-17T05:56:01.345Z"
   },
   {
    "duration": 4,
    "start_time": "2022-04-17T05:56:01.847Z"
   },
   {
    "duration": 30,
    "start_time": "2022-04-17T05:56:01.852Z"
   },
   {
    "duration": 31,
    "start_time": "2022-04-17T05:56:01.884Z"
   },
   {
    "duration": 18,
    "start_time": "2022-04-17T05:56:01.917Z"
   },
   {
    "duration": 72,
    "start_time": "2022-04-17T05:56:01.936Z"
   },
   {
    "duration": 21,
    "start_time": "2022-04-17T05:56:02.010Z"
   },
   {
    "duration": 17,
    "start_time": "2022-04-17T05:56:02.032Z"
   },
   {
    "duration": 50,
    "start_time": "2022-04-17T05:56:02.050Z"
   },
   {
    "duration": 46,
    "start_time": "2022-04-17T05:56:02.103Z"
   },
   {
    "duration": 6,
    "start_time": "2022-04-17T05:56:02.151Z"
   },
   {
    "duration": 25,
    "start_time": "2022-04-17T05:56:02.159Z"
   },
   {
    "duration": 19,
    "start_time": "2022-04-17T05:56:02.185Z"
   },
   {
    "duration": 15,
    "start_time": "2022-04-17T05:56:02.206Z"
   },
   {
    "duration": 20,
    "start_time": "2022-04-17T05:56:02.223Z"
   },
   {
    "duration": 14,
    "start_time": "2022-04-17T05:56:02.255Z"
   },
   {
    "duration": 67,
    "start_time": "2022-04-17T05:56:02.270Z"
   },
   {
    "duration": 32,
    "start_time": "2022-04-17T05:56:02.338Z"
   },
   {
    "duration": 24,
    "start_time": "2022-04-17T05:56:02.372Z"
   },
   {
    "duration": 26,
    "start_time": "2022-04-17T05:56:02.398Z"
   },
   {
    "duration": 170,
    "start_time": "2022-04-17T07:51:46.958Z"
   },
   {
    "duration": 6,
    "start_time": "2022-04-17T07:52:14.493Z"
   },
   {
    "duration": 6,
    "start_time": "2022-04-17T07:53:25.766Z"
   },
   {
    "duration": 8,
    "start_time": "2022-04-17T07:54:45.259Z"
   },
   {
    "duration": 9,
    "start_time": "2022-04-17T07:56:12.563Z"
   },
   {
    "duration": 9,
    "start_time": "2022-04-17T07:56:36.448Z"
   },
   {
    "duration": 7,
    "start_time": "2022-04-17T07:56:54.183Z"
   },
   {
    "duration": 21,
    "start_time": "2022-04-17T07:58:41.299Z"
   },
   {
    "duration": 12,
    "start_time": "2022-04-17T08:05:12.308Z"
   },
   {
    "duration": 25,
    "start_time": "2022-04-17T08:05:53.788Z"
   },
   {
    "duration": 32,
    "start_time": "2022-04-17T08:08:41.292Z"
   },
   {
    "duration": 188,
    "start_time": "2022-04-17T08:09:29.722Z"
   },
   {
    "duration": 28,
    "start_time": "2022-04-17T08:10:08.608Z"
   },
   {
    "duration": 135,
    "start_time": "2022-04-17T08:11:20.791Z"
   },
   {
    "duration": 147,
    "start_time": "2022-04-17T08:11:46.499Z"
   },
   {
    "duration": 31,
    "start_time": "2022-04-17T08:12:15.990Z"
   },
   {
    "duration": 32,
    "start_time": "2022-04-17T08:12:54.624Z"
   },
   {
    "duration": 27,
    "start_time": "2022-04-17T08:15:06.877Z"
   },
   {
    "duration": 45,
    "start_time": "2022-04-17T08:17:28.205Z"
   },
   {
    "duration": 27,
    "start_time": "2022-04-17T08:17:52.562Z"
   },
   {
    "duration": 27,
    "start_time": "2022-04-17T08:18:04.134Z"
   },
   {
    "duration": 25,
    "start_time": "2022-04-17T08:18:34.557Z"
   },
   {
    "duration": 4,
    "start_time": "2022-04-17T08:20:01.723Z"
   },
   {
    "duration": 137,
    "start_time": "2022-04-17T08:21:25.314Z"
   },
   {
    "duration": 27,
    "start_time": "2022-04-17T08:21:40.409Z"
   },
   {
    "duration": 140,
    "start_time": "2022-04-17T08:22:53.063Z"
   },
   {
    "duration": 29,
    "start_time": "2022-04-17T08:23:10.232Z"
   },
   {
    "duration": 18,
    "start_time": "2022-04-17T08:24:11.283Z"
   },
   {
    "duration": 499,
    "start_time": "2022-04-17T08:56:14.342Z"
   },
   {
    "duration": 4,
    "start_time": "2022-04-17T08:56:14.843Z"
   },
   {
    "duration": 8,
    "start_time": "2022-04-17T08:56:14.849Z"
   },
   {
    "duration": 17,
    "start_time": "2022-04-17T08:56:14.859Z"
   },
   {
    "duration": 4,
    "start_time": "2022-04-17T08:56:14.877Z"
   },
   {
    "duration": 16,
    "start_time": "2022-04-17T08:56:14.883Z"
   },
   {
    "duration": 10,
    "start_time": "2022-04-17T08:56:14.900Z"
   },
   {
    "duration": 7,
    "start_time": "2022-04-17T08:56:14.911Z"
   },
   {
    "duration": 7,
    "start_time": "2022-04-17T08:56:14.920Z"
   },
   {
    "duration": 23,
    "start_time": "2022-04-17T08:56:14.955Z"
   },
   {
    "duration": 6,
    "start_time": "2022-04-17T08:56:14.980Z"
   },
   {
    "duration": 26,
    "start_time": "2022-04-17T08:56:14.988Z"
   },
   {
    "duration": 42,
    "start_time": "2022-04-17T08:56:15.016Z"
   },
   {
    "duration": 19,
    "start_time": "2022-04-17T08:56:15.060Z"
   },
   {
    "duration": 14,
    "start_time": "2022-04-17T08:56:15.081Z"
   },
   {
    "duration": 26,
    "start_time": "2022-04-17T08:56:15.097Z"
   },
   {
    "duration": 33,
    "start_time": "2022-04-17T08:56:15.125Z"
   },
   {
    "duration": 15,
    "start_time": "2022-04-17T08:56:15.159Z"
   },
   {
    "duration": 13,
    "start_time": "2022-04-17T08:56:15.175Z"
   },
   {
    "duration": 15,
    "start_time": "2022-04-17T08:56:15.190Z"
   },
   {
    "duration": 62,
    "start_time": "2022-04-17T08:56:15.207Z"
   },
   {
    "duration": 4,
    "start_time": "2022-04-17T08:56:15.271Z"
   },
   {
    "duration": 3,
    "start_time": "2022-04-17T08:56:42.369Z"
   },
   {
    "duration": 7,
    "start_time": "2022-04-17T08:57:44.538Z"
   },
   {
    "duration": 24,
    "start_time": "2022-04-17T08:57:53.676Z"
   },
   {
    "duration": 6,
    "start_time": "2022-04-17T08:58:06.374Z"
   },
   {
    "duration": 18,
    "start_time": "2022-04-17T08:58:39.598Z"
   },
   {
    "duration": 36,
    "start_time": "2022-04-17T08:59:17.923Z"
   },
   {
    "duration": 5,
    "start_time": "2022-04-17T09:00:06.321Z"
   },
   {
    "duration": 144,
    "start_time": "2022-04-17T09:00:18.591Z"
   },
   {
    "duration": 136,
    "start_time": "2022-04-17T09:00:56.065Z"
   },
   {
    "duration": 20,
    "start_time": "2022-04-17T09:03:56.281Z"
   },
   {
    "duration": 14,
    "start_time": "2022-04-17T09:04:38.912Z"
   },
   {
    "duration": 14,
    "start_time": "2022-04-17T09:06:32.377Z"
   },
   {
    "duration": 190,
    "start_time": "2022-04-17T09:15:24.611Z"
   },
   {
    "duration": 15,
    "start_time": "2022-04-17T09:15:40.780Z"
   },
   {
    "duration": 20,
    "start_time": "2022-04-17T09:16:13.433Z"
   },
   {
    "duration": 23,
    "start_time": "2022-04-17T11:16:25.511Z"
   },
   {
    "duration": 26,
    "start_time": "2022-04-17T11:17:02.093Z"
   },
   {
    "duration": 28,
    "start_time": "2022-04-17T11:17:28.447Z"
   },
   {
    "duration": 4,
    "start_time": "2022-04-17T11:19:32.899Z"
   },
   {
    "duration": 23,
    "start_time": "2022-04-17T11:19:58.388Z"
   },
   {
    "duration": 142,
    "start_time": "2022-04-17T11:28:47.754Z"
   },
   {
    "duration": 198,
    "start_time": "2022-04-17T11:29:00.262Z"
   },
   {
    "duration": 139,
    "start_time": "2022-04-17T11:29:44.654Z"
   },
   {
    "duration": 145,
    "start_time": "2022-04-17T11:30:07.757Z"
   },
   {
    "duration": 143,
    "start_time": "2022-04-17T11:30:37.023Z"
   },
   {
    "duration": 23,
    "start_time": "2022-04-17T11:31:41.022Z"
   },
   {
    "duration": 34,
    "start_time": "2022-04-17T12:02:17.851Z"
   },
   {
    "duration": 85,
    "start_time": "2022-04-17T12:03:29.972Z"
   },
   {
    "duration": 13,
    "start_time": "2022-04-17T12:04:27.936Z"
   },
   {
    "duration": 10,
    "start_time": "2022-04-17T12:04:46.925Z"
   },
   {
    "duration": 10,
    "start_time": "2022-04-17T12:07:10.973Z"
   },
   {
    "duration": 20,
    "start_time": "2022-04-17T12:08:40.135Z"
   },
   {
    "duration": 2535,
    "start_time": "2022-04-17T12:14:33.043Z"
   },
   {
    "duration": 7,
    "start_time": "2022-04-17T12:14:57.132Z"
   },
   {
    "duration": 6,
    "start_time": "2022-04-17T12:16:27.509Z"
   },
   {
    "duration": 12,
    "start_time": "2022-04-17T12:38:49.435Z"
   },
   {
    "duration": 11,
    "start_time": "2022-04-17T12:40:05.000Z"
   },
   {
    "duration": 11,
    "start_time": "2022-04-17T12:40:09.553Z"
   },
   {
    "duration": 11,
    "start_time": "2022-04-17T12:44:26.527Z"
   },
   {
    "duration": 9,
    "start_time": "2022-04-17T12:45:12.734Z"
   },
   {
    "duration": 488,
    "start_time": "2022-04-17T12:45:25.161Z"
   },
   {
    "duration": 6,
    "start_time": "2022-04-17T12:45:25.651Z"
   },
   {
    "duration": 15,
    "start_time": "2022-04-17T12:45:25.659Z"
   },
   {
    "duration": 28,
    "start_time": "2022-04-17T12:45:25.676Z"
   },
   {
    "duration": 4,
    "start_time": "2022-04-17T12:45:25.706Z"
   },
   {
    "duration": 13,
    "start_time": "2022-04-17T12:45:25.712Z"
   },
   {
    "duration": 9,
    "start_time": "2022-04-17T12:45:25.726Z"
   },
   {
    "duration": 22,
    "start_time": "2022-04-17T12:45:25.736Z"
   },
   {
    "duration": 11,
    "start_time": "2022-04-17T12:45:25.767Z"
   },
   {
    "duration": 23,
    "start_time": "2022-04-17T12:45:25.781Z"
   },
   {
    "duration": 6,
    "start_time": "2022-04-17T12:45:25.806Z"
   },
   {
    "duration": 18,
    "start_time": "2022-04-17T12:45:25.813Z"
   },
   {
    "duration": 27,
    "start_time": "2022-04-17T12:45:25.854Z"
   },
   {
    "duration": 18,
    "start_time": "2022-04-17T12:45:25.883Z"
   },
   {
    "duration": 15,
    "start_time": "2022-04-17T12:45:25.902Z"
   },
   {
    "duration": 51,
    "start_time": "2022-04-17T12:45:25.919Z"
   },
   {
    "duration": 22,
    "start_time": "2022-04-17T12:45:25.971Z"
   },
   {
    "duration": 13,
    "start_time": "2022-04-17T12:45:25.995Z"
   },
   {
    "duration": 13,
    "start_time": "2022-04-17T12:45:26.010Z"
   },
   {
    "duration": 36,
    "start_time": "2022-04-17T12:45:26.024Z"
   },
   {
    "duration": 17,
    "start_time": "2022-04-17T12:45:26.067Z"
   },
   {
    "duration": 14,
    "start_time": "2022-04-17T12:45:26.087Z"
   },
   {
    "duration": 7,
    "start_time": "2022-04-17T12:45:26.103Z"
   },
   {
    "duration": 94,
    "start_time": "2022-04-17T12:45:26.111Z"
   },
   {
    "duration": 10,
    "start_time": "2022-04-17T12:45:30.857Z"
   },
   {
    "duration": 9,
    "start_time": "2022-04-17T12:46:06.906Z"
   },
   {
    "duration": 18,
    "start_time": "2022-04-17T12:47:00.454Z"
   },
   {
    "duration": 38,
    "start_time": "2022-04-17T12:58:18.544Z"
   },
   {
    "duration": 25,
    "start_time": "2022-04-17T12:59:01.726Z"
   },
   {
    "duration": 8,
    "start_time": "2022-04-17T13:09:08.193Z"
   },
   {
    "duration": 9,
    "start_time": "2022-04-17T13:09:21.942Z"
   },
   {
    "duration": 8,
    "start_time": "2022-04-17T13:09:42.675Z"
   },
   {
    "duration": 4,
    "start_time": "2022-04-17T13:23:11.857Z"
   },
   {
    "duration": 2354,
    "start_time": "2022-04-17T13:26:40.086Z"
   },
   {
    "duration": 2360,
    "start_time": "2022-04-17T13:26:46.163Z"
   },
   {
    "duration": 2621,
    "start_time": "2022-04-17T13:26:50.554Z"
   },
   {
    "duration": 2355,
    "start_time": "2022-04-17T13:28:14.786Z"
   },
   {
    "duration": 2266,
    "start_time": "2022-04-17T13:29:06.663Z"
   },
   {
    "duration": 2205,
    "start_time": "2022-04-17T13:29:38.289Z"
   },
   {
    "duration": 6,
    "start_time": "2022-04-17T15:00:07.168Z"
   },
   {
    "duration": 484,
    "start_time": "2022-04-20T14:01:17.630Z"
   },
   {
    "duration": 4,
    "start_time": "2022-04-20T14:01:18.116Z"
   },
   {
    "duration": 7,
    "start_time": "2022-04-20T14:01:18.122Z"
   },
   {
    "duration": 17,
    "start_time": "2022-04-20T14:01:18.131Z"
   },
   {
    "duration": 4,
    "start_time": "2022-04-20T14:01:18.150Z"
   },
   {
    "duration": 40,
    "start_time": "2022-04-20T14:01:18.156Z"
   },
   {
    "duration": 8,
    "start_time": "2022-04-20T14:01:18.197Z"
   },
   {
    "duration": 8,
    "start_time": "2022-04-20T14:01:18.207Z"
   },
   {
    "duration": 10,
    "start_time": "2022-04-20T14:01:18.217Z"
   },
   {
    "duration": 24,
    "start_time": "2022-04-20T14:01:18.229Z"
   },
   {
    "duration": 40,
    "start_time": "2022-04-20T14:01:18.254Z"
   },
   {
    "duration": 20,
    "start_time": "2022-04-20T14:01:18.296Z"
   },
   {
    "duration": 23,
    "start_time": "2022-04-20T14:01:18.318Z"
   },
   {
    "duration": 50,
    "start_time": "2022-04-20T14:01:18.344Z"
   },
   {
    "duration": 18,
    "start_time": "2022-04-20T14:01:18.396Z"
   },
   {
    "duration": 21,
    "start_time": "2022-04-20T14:01:18.416Z"
   },
   {
    "duration": 23,
    "start_time": "2022-04-20T14:01:18.439Z"
   },
   {
    "duration": 42,
    "start_time": "2022-04-20T14:01:18.465Z"
   },
   {
    "duration": 16,
    "start_time": "2022-04-20T14:01:18.509Z"
   },
   {
    "duration": 20,
    "start_time": "2022-04-20T14:01:18.527Z"
   },
   {
    "duration": 55,
    "start_time": "2022-04-20T14:01:18.549Z"
   },
   {
    "duration": 16,
    "start_time": "2022-04-20T14:01:18.606Z"
   },
   {
    "duration": 10,
    "start_time": "2022-04-20T14:01:18.625Z"
   },
   {
    "duration": 69,
    "start_time": "2022-04-20T14:07:29.742Z"
   },
   {
    "duration": 661,
    "start_time": "2022-04-20T14:07:53.244Z"
   },
   {
    "duration": 171,
    "start_time": "2022-04-20T14:08:24.903Z"
   },
   {
    "duration": 150,
    "start_time": "2022-04-20T14:10:03.331Z"
   },
   {
    "duration": 4754,
    "start_time": "2022-04-20T14:10:24.467Z"
   },
   {
    "duration": 177,
    "start_time": "2022-04-20T14:16:05.943Z"
   },
   {
    "duration": 2289,
    "start_time": "2022-04-20T14:16:18.428Z"
   },
   {
    "duration": 2248,
    "start_time": "2022-04-20T14:16:25.000Z"
   },
   {
    "duration": 16,
    "start_time": "2022-04-20T14:17:52.234Z"
   },
   {
    "duration": 174,
    "start_time": "2022-04-20T14:20:13.636Z"
   },
   {
    "duration": 161,
    "start_time": "2022-04-20T14:23:10.293Z"
   },
   {
    "duration": 407,
    "start_time": "2022-04-20T14:29:15.234Z"
   },
   {
    "duration": 544,
    "start_time": "2022-04-20T14:31:49.846Z"
   },
   {
    "duration": 166,
    "start_time": "2022-04-20T14:32:03.314Z"
   },
   {
    "duration": 190,
    "start_time": "2022-04-20T14:40:35.470Z"
   },
   {
    "duration": 173,
    "start_time": "2022-04-20T14:41:11.039Z"
   },
   {
    "duration": 2283,
    "start_time": "2022-04-20T14:53:25.121Z"
   },
   {
    "duration": 8,
    "start_time": "2022-04-20T14:54:04.271Z"
   },
   {
    "duration": 199,
    "start_time": "2022-04-20T14:56:33.448Z"
   },
   {
    "duration": 151,
    "start_time": "2022-04-20T15:03:11.623Z"
   },
   {
    "duration": 144,
    "start_time": "2022-04-20T15:03:24.186Z"
   },
   {
    "duration": 169,
    "start_time": "2022-04-20T15:03:53.310Z"
   },
   {
    "duration": 154,
    "start_time": "2022-04-20T15:04:17.461Z"
   },
   {
    "duration": 9,
    "start_time": "2022-04-20T15:04:36.869Z"
   },
   {
    "duration": 8,
    "start_time": "2022-04-20T15:05:20.879Z"
   },
   {
    "duration": 158,
    "start_time": "2022-04-20T15:05:39.064Z"
   },
   {
    "duration": 9,
    "start_time": "2022-04-20T15:06:07.194Z"
   },
   {
    "duration": 13,
    "start_time": "2022-04-20T15:06:36.544Z"
   },
   {
    "duration": 6,
    "start_time": "2022-04-20T15:13:26.917Z"
   },
   {
    "duration": 6,
    "start_time": "2022-04-20T15:19:13.265Z"
   },
   {
    "duration": 7,
    "start_time": "2022-04-20T15:20:06.062Z"
   },
   {
    "duration": 7,
    "start_time": "2022-04-20T15:21:37.356Z"
   },
   {
    "duration": 7,
    "start_time": "2022-04-20T15:21:54.399Z"
   },
   {
    "duration": 9,
    "start_time": "2022-04-20T15:32:15.094Z"
   },
   {
    "duration": 9,
    "start_time": "2022-04-20T15:32:59.014Z"
   },
   {
    "duration": 11,
    "start_time": "2022-04-20T15:33:18.576Z"
   },
   {
    "duration": 12,
    "start_time": "2022-04-20T15:33:51.974Z"
   },
   {
    "duration": 147,
    "start_time": "2022-04-20T15:39:12.599Z"
   },
   {
    "duration": 242,
    "start_time": "2022-04-20T15:39:39.809Z"
   },
   {
    "duration": 136,
    "start_time": "2022-04-20T15:53:16.775Z"
   },
   {
    "duration": 153,
    "start_time": "2022-04-20T15:58:45.786Z"
   },
   {
    "duration": 142,
    "start_time": "2022-04-20T15:59:39.488Z"
   },
   {
    "duration": 2323,
    "start_time": "2022-04-20T16:05:43.960Z"
   },
   {
    "duration": 154,
    "start_time": "2022-04-20T16:06:26.791Z"
   },
   {
    "duration": 179,
    "start_time": "2022-04-20T16:14:29.532Z"
   },
   {
    "duration": 145,
    "start_time": "2022-04-20T16:15:07.879Z"
   },
   {
    "duration": 168,
    "start_time": "2022-04-20T16:16:02.109Z"
   },
   {
    "duration": 133,
    "start_time": "2022-04-20T16:17:10.841Z"
   },
   {
    "duration": 2273,
    "start_time": "2022-04-20T16:18:55.914Z"
   },
   {
    "duration": 163,
    "start_time": "2022-04-20T16:20:01.255Z"
   },
   {
    "duration": 229,
    "start_time": "2022-04-20T16:23:36.774Z"
   },
   {
    "duration": 2216,
    "start_time": "2022-04-20T16:25:57.130Z"
   },
   {
    "duration": 143,
    "start_time": "2022-04-20T16:26:37.551Z"
   },
   {
    "duration": 151,
    "start_time": "2022-04-20T16:27:45.762Z"
   },
   {
    "duration": 2261,
    "start_time": "2022-04-20T16:29:10.706Z"
   },
   {
    "duration": 144,
    "start_time": "2022-04-20T16:29:44.853Z"
   },
   {
    "duration": 132,
    "start_time": "2022-04-20T16:30:16.806Z"
   },
   {
    "duration": 147,
    "start_time": "2022-04-20T16:30:35.615Z"
   },
   {
    "duration": 2137,
    "start_time": "2022-04-20T16:31:37.644Z"
   },
   {
    "duration": 2264,
    "start_time": "2022-04-20T16:32:54.843Z"
   },
   {
    "duration": 150,
    "start_time": "2022-04-20T16:33:34.597Z"
   },
   {
    "duration": 142,
    "start_time": "2022-04-20T16:34:54.355Z"
   },
   {
    "duration": 2218,
    "start_time": "2022-04-20T16:35:18.733Z"
   },
   {
    "duration": 2209,
    "start_time": "2022-04-20T16:35:43.190Z"
   },
   {
    "duration": 143,
    "start_time": "2022-04-20T16:36:24.762Z"
   },
   {
    "duration": 147,
    "start_time": "2022-04-20T16:37:56.662Z"
   },
   {
    "duration": 123,
    "start_time": "2022-04-20T16:44:15.174Z"
   },
   {
    "duration": 151,
    "start_time": "2022-04-20T16:45:31.175Z"
   },
   {
    "duration": 138,
    "start_time": "2022-04-20T16:47:27.637Z"
   },
   {
    "duration": 232,
    "start_time": "2022-04-20T16:48:13.171Z"
   },
   {
    "duration": 245,
    "start_time": "2022-04-20T16:49:01.348Z"
   },
   {
    "duration": 238,
    "start_time": "2022-04-20T16:49:56.325Z"
   },
   {
    "duration": 2437,
    "start_time": "2022-04-20T16:50:47.106Z"
   },
   {
    "duration": 144,
    "start_time": "2022-04-20T16:51:31.973Z"
   },
   {
    "duration": 12,
    "start_time": "2022-04-20T16:52:15.380Z"
   },
   {
    "duration": 13,
    "start_time": "2022-04-20T16:53:58.405Z"
   },
   {
    "duration": 159,
    "start_time": "2022-04-20T16:54:25.613Z"
   },
   {
    "duration": 149,
    "start_time": "2022-04-20T16:55:07.320Z"
   },
   {
    "duration": 2533,
    "start_time": "2022-04-20T16:56:14.117Z"
   },
   {
    "duration": 2341,
    "start_time": "2022-04-20T16:57:47.906Z"
   },
   {
    "duration": 2221,
    "start_time": "2022-04-20T16:58:16.556Z"
   },
   {
    "duration": 18,
    "start_time": "2022-04-20T16:58:45.228Z"
   },
   {
    "duration": 2286,
    "start_time": "2022-04-20T16:59:21.501Z"
   },
   {
    "duration": 149,
    "start_time": "2022-04-20T16:59:57.199Z"
   },
   {
    "duration": 158,
    "start_time": "2022-04-20T17:00:55.465Z"
   },
   {
    "duration": 149,
    "start_time": "2022-04-20T17:01:38.204Z"
   },
   {
    "duration": 129,
    "start_time": "2022-04-20T17:06:47.586Z"
   },
   {
    "duration": 525,
    "start_time": "2022-04-20T17:10:07.599Z"
   },
   {
    "duration": 5,
    "start_time": "2022-04-20T17:10:08.127Z"
   },
   {
    "duration": 14,
    "start_time": "2022-04-20T17:10:08.134Z"
   },
   {
    "duration": 19,
    "start_time": "2022-04-20T17:10:08.151Z"
   },
   {
    "duration": 16,
    "start_time": "2022-04-20T17:10:08.178Z"
   },
   {
    "duration": 33,
    "start_time": "2022-04-20T17:10:08.196Z"
   },
   {
    "duration": 8,
    "start_time": "2022-04-20T17:10:08.231Z"
   },
   {
    "duration": 8,
    "start_time": "2022-04-20T17:10:08.241Z"
   },
   {
    "duration": 7,
    "start_time": "2022-04-20T17:10:08.251Z"
   },
   {
    "duration": 43,
    "start_time": "2022-04-20T17:10:08.262Z"
   },
   {
    "duration": 8,
    "start_time": "2022-04-20T17:10:08.307Z"
   },
   {
    "duration": 21,
    "start_time": "2022-04-20T17:10:08.317Z"
   },
   {
    "duration": 22,
    "start_time": "2022-04-20T17:10:08.341Z"
   },
   {
    "duration": 21,
    "start_time": "2022-04-20T17:10:08.392Z"
   },
   {
    "duration": 18,
    "start_time": "2022-04-20T17:10:08.415Z"
   },
   {
    "duration": 16,
    "start_time": "2022-04-20T17:10:08.435Z"
   },
   {
    "duration": 53,
    "start_time": "2022-04-20T17:10:08.453Z"
   },
   {
    "duration": 16,
    "start_time": "2022-04-20T17:10:08.507Z"
   },
   {
    "duration": 20,
    "start_time": "2022-04-20T17:10:08.524Z"
   },
   {
    "duration": 18,
    "start_time": "2022-04-20T17:10:08.546Z"
   },
   {
    "duration": 41,
    "start_time": "2022-04-20T17:10:08.566Z"
   },
   {
    "duration": 24,
    "start_time": "2022-04-20T17:10:08.608Z"
   },
   {
    "duration": 14,
    "start_time": "2022-04-20T17:10:08.634Z"
   },
   {
    "duration": 464,
    "start_time": "2022-04-20T17:10:08.649Z"
   },
   {
    "duration": 7,
    "start_time": "2022-04-20T17:10:09.114Z"
   },
   {
    "duration": 4903,
    "start_time": "2022-04-20T17:10:09.123Z"
   },
   {
    "duration": 16,
    "start_time": "2022-04-20T17:10:14.027Z"
   },
   {
    "duration": 260,
    "start_time": "2022-04-20T17:10:14.046Z"
   },
   {
    "duration": 148,
    "start_time": "2022-04-20T17:10:14.456Z"
   },
   {
    "duration": 175,
    "start_time": "2022-04-20T18:12:47.657Z"
   },
   {
    "duration": 189,
    "start_time": "2022-04-20T18:13:10.677Z"
   },
   {
    "duration": 140,
    "start_time": "2022-04-20T18:19:06.502Z"
   },
   {
    "duration": 1417,
    "start_time": "2022-04-21T13:05:07.022Z"
   },
   {
    "duration": 6,
    "start_time": "2022-04-21T13:05:08.442Z"
   },
   {
    "duration": 12,
    "start_time": "2022-04-21T13:05:08.451Z"
   },
   {
    "duration": 42,
    "start_time": "2022-04-21T13:05:08.467Z"
   },
   {
    "duration": 6,
    "start_time": "2022-04-21T13:05:08.512Z"
   },
   {
    "duration": 27,
    "start_time": "2022-04-21T13:05:08.521Z"
   },
   {
    "duration": 44,
    "start_time": "2022-04-21T13:05:08.551Z"
   },
   {
    "duration": 11,
    "start_time": "2022-04-21T13:05:08.597Z"
   },
   {
    "duration": 13,
    "start_time": "2022-04-21T13:05:08.610Z"
   },
   {
    "duration": 71,
    "start_time": "2022-04-21T13:05:08.629Z"
   },
   {
    "duration": 9,
    "start_time": "2022-04-21T13:05:08.703Z"
   },
   {
    "duration": 41,
    "start_time": "2022-04-21T13:05:08.715Z"
   },
   {
    "duration": 57,
    "start_time": "2022-04-21T13:05:08.759Z"
   },
   {
    "duration": 24,
    "start_time": "2022-04-21T13:05:08.819Z"
   },
   {
    "duration": 54,
    "start_time": "2022-04-21T13:05:08.845Z"
   },
   {
    "duration": 20,
    "start_time": "2022-04-21T13:05:08.900Z"
   },
   {
    "duration": 27,
    "start_time": "2022-04-21T13:05:08.921Z"
   },
   {
    "duration": 52,
    "start_time": "2022-04-21T13:05:08.950Z"
   },
   {
    "duration": 22,
    "start_time": "2022-04-21T13:05:09.005Z"
   },
   {
    "duration": 67,
    "start_time": "2022-04-21T13:05:09.030Z"
   },
   {
    "duration": 34,
    "start_time": "2022-04-21T13:05:09.100Z"
   },
   {
    "duration": 18,
    "start_time": "2022-04-21T13:05:09.137Z"
   },
   {
    "duration": 40,
    "start_time": "2022-04-21T13:05:09.157Z"
   },
   {
    "duration": 2286,
    "start_time": "2022-04-21T13:05:09.200Z"
   },
   {
    "duration": 12,
    "start_time": "2022-04-21T13:05:11.493Z"
   },
   {
    "duration": 11995,
    "start_time": "2022-04-21T13:05:11.508Z"
   },
   {
    "duration": 29,
    "start_time": "2022-04-21T13:05:23.506Z"
   },
   {
    "duration": 275,
    "start_time": "2022-04-21T13:05:23.540Z"
   },
   {
    "duration": 243,
    "start_time": "2022-04-21T13:05:23.818Z"
   },
   {
    "duration": 225,
    "start_time": "2022-04-21T13:07:14.263Z"
   },
   {
    "duration": 232,
    "start_time": "2022-04-21T13:07:54.371Z"
   },
   {
    "duration": 235,
    "start_time": "2022-04-21T13:12:06.923Z"
   },
   {
    "duration": 219,
    "start_time": "2022-04-21T13:12:43.050Z"
   },
   {
    "duration": 3513,
    "start_time": "2022-04-21T13:13:33.903Z"
   },
   {
    "duration": 3534,
    "start_time": "2022-04-21T13:14:19.517Z"
   },
   {
    "duration": 3699,
    "start_time": "2022-04-21T13:14:39.815Z"
   },
   {
    "duration": 3450,
    "start_time": "2022-04-21T13:14:44.693Z"
   },
   {
    "duration": 243,
    "start_time": "2022-04-21T13:15:52.155Z"
   },
   {
    "duration": 3913,
    "start_time": "2022-04-21T13:16:28.045Z"
   },
   {
    "duration": 199,
    "start_time": "2022-04-21T13:17:36.701Z"
   },
   {
    "duration": 34897,
    "start_time": "2022-04-21T13:18:33.129Z"
   },
   {
    "duration": 37127,
    "start_time": "2022-04-21T13:19:32.573Z"
   },
   {
    "duration": 78785,
    "start_time": "2022-04-21T13:20:47.424Z"
   },
   {
    "duration": 1,
    "start_time": "2022-04-21T13:28:49.647Z"
   },
   {
    "duration": 0,
    "start_time": "2022-04-21T13:28:49.652Z"
   },
   {
    "duration": 39022,
    "start_time": "2022-04-21T13:29:28.096Z"
   },
   {
    "duration": 3615,
    "start_time": "2022-04-21T13:30:15.832Z"
   },
   {
    "duration": 33866,
    "start_time": "2022-04-21T13:30:57.976Z"
   },
   {
    "duration": 630,
    "start_time": "2022-04-21T13:35:04.731Z"
   },
   {
    "duration": 6,
    "start_time": "2022-04-21T13:35:05.364Z"
   },
   {
    "duration": 30,
    "start_time": "2022-04-21T13:35:05.371Z"
   },
   {
    "duration": 27,
    "start_time": "2022-04-21T13:35:05.409Z"
   },
   {
    "duration": 6,
    "start_time": "2022-04-21T13:35:05.439Z"
   },
   {
    "duration": 17,
    "start_time": "2022-04-21T13:35:05.447Z"
   },
   {
    "duration": 42,
    "start_time": "2022-04-21T13:35:05.466Z"
   },
   {
    "duration": 16,
    "start_time": "2022-04-21T13:35:05.511Z"
   },
   {
    "duration": 20,
    "start_time": "2022-04-21T13:35:05.529Z"
   },
   {
    "duration": 47,
    "start_time": "2022-04-21T13:35:05.551Z"
   },
   {
    "duration": 10,
    "start_time": "2022-04-21T13:35:05.601Z"
   },
   {
    "duration": 32,
    "start_time": "2022-04-21T13:35:05.613Z"
   },
   {
    "duration": 61,
    "start_time": "2022-04-21T13:35:05.647Z"
   },
   {
    "duration": 26,
    "start_time": "2022-04-21T13:35:05.715Z"
   },
   {
    "duration": 20,
    "start_time": "2022-04-21T13:35:05.743Z"
   },
   {
    "duration": 52,
    "start_time": "2022-04-21T13:35:05.765Z"
   },
   {
    "duration": 27,
    "start_time": "2022-04-21T13:35:05.819Z"
   },
   {
    "duration": 20,
    "start_time": "2022-04-21T13:35:05.848Z"
   },
   {
    "duration": 24,
    "start_time": "2022-04-21T13:35:05.893Z"
   },
   {
    "duration": 26,
    "start_time": "2022-04-21T13:35:05.919Z"
   },
   {
    "duration": 56,
    "start_time": "2022-04-21T13:35:05.948Z"
   },
   {
    "duration": 36,
    "start_time": "2022-04-21T13:35:06.007Z"
   },
   {
    "duration": 28,
    "start_time": "2022-04-21T13:35:06.045Z"
   },
   {
    "duration": 892,
    "start_time": "2022-04-21T13:35:06.075Z"
   },
   {
    "duration": 9,
    "start_time": "2022-04-21T13:35:06.969Z"
   },
   {
    "duration": 7135,
    "start_time": "2022-04-21T13:35:06.994Z"
   },
   {
    "duration": 21,
    "start_time": "2022-04-21T13:35:14.131Z"
   },
   {
    "duration": 78276,
    "start_time": "2022-04-21T13:35:14.154Z"
   },
   {
    "duration": 0,
    "start_time": "2022-04-21T13:36:32.717Z"
   },
   {
    "duration": 385,
    "start_time": "2022-04-21T13:53:02.147Z"
   },
   {
    "duration": 334,
    "start_time": "2022-04-21T13:53:20.762Z"
   },
   {
    "duration": 224,
    "start_time": "2022-04-21T13:55:11.776Z"
   },
   {
    "duration": 217,
    "start_time": "2022-04-21T13:56:45.973Z"
   },
   {
    "duration": 43609,
    "start_time": "2022-04-21T13:59:15.866Z"
   },
   {
    "duration": 67659,
    "start_time": "2022-04-21T14:01:09.234Z"
   },
   {
    "duration": 683,
    "start_time": "2022-04-21T14:10:26.469Z"
   },
   {
    "duration": 5,
    "start_time": "2022-04-21T14:10:27.155Z"
   },
   {
    "duration": 10,
    "start_time": "2022-04-21T14:10:27.163Z"
   },
   {
    "duration": 28,
    "start_time": "2022-04-21T14:10:27.175Z"
   },
   {
    "duration": 5,
    "start_time": "2022-04-21T14:10:27.207Z"
   },
   {
    "duration": 15,
    "start_time": "2022-04-21T14:10:27.214Z"
   },
   {
    "duration": 14,
    "start_time": "2022-04-21T14:10:27.232Z"
   },
   {
    "duration": 10,
    "start_time": "2022-04-21T14:10:27.249Z"
   },
   {
    "duration": 15,
    "start_time": "2022-04-21T14:10:27.261Z"
   },
   {
    "duration": 51,
    "start_time": "2022-04-21T14:10:27.278Z"
   },
   {
    "duration": 11,
    "start_time": "2022-04-21T14:10:27.331Z"
   },
   {
    "duration": 41,
    "start_time": "2022-04-21T14:10:27.344Z"
   },
   {
    "duration": 33,
    "start_time": "2022-04-21T14:10:27.388Z"
   },
   {
    "duration": 28,
    "start_time": "2022-04-21T14:10:27.425Z"
   },
   {
    "duration": 21,
    "start_time": "2022-04-21T14:10:27.455Z"
   },
   {
    "duration": 20,
    "start_time": "2022-04-21T14:10:27.492Z"
   },
   {
    "duration": 28,
    "start_time": "2022-04-21T14:10:27.515Z"
   },
   {
    "duration": 22,
    "start_time": "2022-04-21T14:10:27.545Z"
   },
   {
    "duration": 31,
    "start_time": "2022-04-21T14:10:27.569Z"
   },
   {
    "duration": 30,
    "start_time": "2022-04-21T14:10:27.602Z"
   },
   {
    "duration": 28,
    "start_time": "2022-04-21T14:10:27.635Z"
   },
   {
    "duration": 43,
    "start_time": "2022-04-21T14:10:27.666Z"
   },
   {
    "duration": 10,
    "start_time": "2022-04-21T14:10:27.712Z"
   },
   {
    "duration": 871,
    "start_time": "2022-04-21T14:10:27.725Z"
   },
   {
    "duration": 10,
    "start_time": "2022-04-21T14:10:28.598Z"
   },
   {
    "duration": 7622,
    "start_time": "2022-04-21T14:10:28.611Z"
   },
   {
    "duration": 20,
    "start_time": "2022-04-21T14:10:36.235Z"
   },
   {
    "duration": 33404,
    "start_time": "2022-04-21T14:10:36.258Z"
   },
   {
    "duration": 148,
    "start_time": "2022-04-21T14:11:09.664Z"
   },
   {
    "duration": 44974,
    "start_time": "2022-04-21T14:13:18.202Z"
   },
   {
    "duration": 38,
    "start_time": "2022-04-21T14:14:21.051Z"
   },
   {
    "duration": 74,
    "start_time": "2022-04-21T14:15:35.781Z"
   },
   {
    "duration": 63,
    "start_time": "2022-04-21T14:15:59.137Z"
   },
   {
    "duration": 209,
    "start_time": "2022-04-21T14:16:36.247Z"
   },
   {
    "duration": 0,
    "start_time": "2022-04-21T14:17:12.915Z"
   },
   {
    "duration": 12,
    "start_time": "2022-04-21T14:19:12.618Z"
   },
   {
    "duration": 4751,
    "start_time": "2022-04-21T14:19:59.375Z"
   },
   {
    "duration": 49,
    "start_time": "2022-04-21T14:20:36.790Z"
   },
   {
    "duration": 233,
    "start_time": "2022-04-21T14:21:23.460Z"
   },
   {
    "duration": 221,
    "start_time": "2022-04-21T14:22:43.786Z"
   },
   {
    "duration": 232,
    "start_time": "2022-04-21T14:23:29.593Z"
   },
   {
    "duration": 32385,
    "start_time": "2022-04-21T14:24:01.248Z"
   },
   {
    "duration": 3359,
    "start_time": "2022-04-21T14:25:06.264Z"
   },
   {
    "duration": 32340,
    "start_time": "2022-04-21T14:25:29.928Z"
   },
   {
    "duration": 3308,
    "start_time": "2022-04-21T14:26:03.911Z"
   },
   {
    "duration": 230,
    "start_time": "2022-04-21T14:26:35.107Z"
   },
   {
    "duration": 38197,
    "start_time": "2022-04-21T14:33:53.139Z"
   },
   {
    "duration": 3561,
    "start_time": "2022-04-21T14:37:05.613Z"
   },
   {
    "duration": 349,
    "start_time": "2022-04-21T14:37:45.470Z"
   },
   {
    "duration": 61,
    "start_time": "2022-04-21T14:39:02.900Z"
   },
   {
    "duration": 216,
    "start_time": "2022-04-21T14:47:13.409Z"
   },
   {
    "duration": 45,
    "start_time": "2022-04-21T14:47:26.499Z"
   },
   {
    "duration": 446,
    "start_time": "2022-04-21T14:48:05.715Z"
   },
   {
    "duration": 461,
    "start_time": "2022-04-21T14:53:46.480Z"
   },
   {
    "duration": 3790,
    "start_time": "2022-04-21T14:55:08.780Z"
   },
   {
    "duration": 459,
    "start_time": "2022-04-21T14:56:34.265Z"
   },
   {
    "duration": 441,
    "start_time": "2022-04-21T14:58:11.504Z"
   },
   {
    "duration": 22,
    "start_time": "2022-04-21T15:03:21.608Z"
   },
   {
    "duration": 446,
    "start_time": "2022-04-21T15:05:11.315Z"
   },
   {
    "duration": 474,
    "start_time": "2022-04-21T15:06:04.772Z"
   },
   {
    "duration": 111,
    "start_time": "2022-04-21T15:12:42.195Z"
   },
   {
    "duration": 278,
    "start_time": "2022-04-21T15:17:56.199Z"
   },
   {
    "duration": 473,
    "start_time": "2022-04-21T15:57:32.110Z"
   },
   {
    "duration": 38,
    "start_time": "2022-04-21T16:21:17.905Z"
   },
   {
    "duration": 357,
    "start_time": "2022-04-21T16:27:31.783Z"
   },
   {
    "duration": 30,
    "start_time": "2022-04-21T16:32:42.789Z"
   },
   {
    "duration": 672,
    "start_time": "2022-04-22T06:34:05.237Z"
   },
   {
    "duration": 5,
    "start_time": "2022-04-22T06:34:05.911Z"
   },
   {
    "duration": 9,
    "start_time": "2022-04-22T06:34:05.919Z"
   },
   {
    "duration": 25,
    "start_time": "2022-04-22T06:34:05.931Z"
   },
   {
    "duration": 4,
    "start_time": "2022-04-22T06:34:05.958Z"
   },
   {
    "duration": 38,
    "start_time": "2022-04-22T06:34:05.964Z"
   },
   {
    "duration": 14,
    "start_time": "2022-04-22T06:34:06.004Z"
   },
   {
    "duration": 10,
    "start_time": "2022-04-22T06:34:06.021Z"
   },
   {
    "duration": 9,
    "start_time": "2022-04-22T06:34:06.033Z"
   },
   {
    "duration": 64,
    "start_time": "2022-04-22T06:34:06.047Z"
   },
   {
    "duration": 7,
    "start_time": "2022-04-22T06:34:06.113Z"
   },
   {
    "duration": 23,
    "start_time": "2022-04-22T06:34:06.122Z"
   },
   {
    "duration": 20,
    "start_time": "2022-04-22T06:34:06.147Z"
   },
   {
    "duration": 19,
    "start_time": "2022-04-22T06:34:06.192Z"
   },
   {
    "duration": 17,
    "start_time": "2022-04-22T06:34:06.213Z"
   },
   {
    "duration": 15,
    "start_time": "2022-04-22T06:34:06.232Z"
   },
   {
    "duration": 66,
    "start_time": "2022-04-22T06:34:06.250Z"
   },
   {
    "duration": 22,
    "start_time": "2022-04-22T06:34:06.318Z"
   },
   {
    "duration": 20,
    "start_time": "2022-04-22T06:34:06.343Z"
   },
   {
    "duration": 52,
    "start_time": "2022-04-22T06:34:06.366Z"
   },
   {
    "duration": 28,
    "start_time": "2022-04-22T06:34:06.420Z"
   },
   {
    "duration": 44,
    "start_time": "2022-04-22T06:34:06.450Z"
   },
   {
    "duration": 10,
    "start_time": "2022-04-22T06:34:06.496Z"
   },
   {
    "duration": 636,
    "start_time": "2022-04-22T06:34:06.508Z"
   },
   {
    "duration": 8,
    "start_time": "2022-04-22T06:34:07.146Z"
   },
   {
    "duration": 8447,
    "start_time": "2022-04-22T06:34:07.156Z"
   },
   {
    "duration": 15,
    "start_time": "2022-04-22T06:34:15.605Z"
   },
   {
    "duration": 331,
    "start_time": "2022-04-22T06:34:15.623Z"
   },
   {
    "duration": 192,
    "start_time": "2022-04-22T06:34:15.956Z"
   },
   {
    "duration": 13,
    "start_time": "2022-04-22T06:34:16.149Z"
   },
   {
    "duration": 2609,
    "start_time": "2022-04-22T06:45:54.214Z"
   },
   {
    "duration": 17,
    "start_time": "2022-04-22T06:46:16.938Z"
   },
   {
    "duration": 2271,
    "start_time": "2022-04-22T06:46:49.799Z"
   },
   {
    "duration": 16,
    "start_time": "2022-04-22T06:48:05.599Z"
   },
   {
    "duration": 2405,
    "start_time": "2022-04-22T06:58:59.400Z"
   },
   {
    "duration": 2901,
    "start_time": "2022-04-22T07:00:04.411Z"
   },
   {
    "duration": 17,
    "start_time": "2022-04-22T07:00:21.373Z"
   },
   {
    "duration": 2719,
    "start_time": "2022-04-22T07:01:47.707Z"
   },
   {
    "duration": 26,
    "start_time": "2022-04-22T07:05:07.470Z"
   },
   {
    "duration": 33,
    "start_time": "2022-04-22T07:05:37.818Z"
   },
   {
    "duration": 17,
    "start_time": "2022-04-22T07:06:55.695Z"
   },
   {
    "duration": 23,
    "start_time": "2022-04-22T07:07:32.531Z"
   },
   {
    "duration": 2549,
    "start_time": "2022-04-22T07:13:07.555Z"
   },
   {
    "duration": 3083,
    "start_time": "2022-04-22T07:13:44.666Z"
   },
   {
    "duration": 2504,
    "start_time": "2022-04-22T07:14:32.305Z"
   },
   {
    "duration": 2613,
    "start_time": "2022-04-22T07:15:29.082Z"
   },
   {
    "duration": 2413,
    "start_time": "2022-04-22T07:16:33.483Z"
   },
   {
    "duration": 2496,
    "start_time": "2022-04-22T07:19:02.004Z"
   },
   {
    "duration": 2323,
    "start_time": "2022-04-22T07:19:37.295Z"
   },
   {
    "duration": 2556,
    "start_time": "2022-04-22T07:23:31.956Z"
   },
   {
    "duration": 2648,
    "start_time": "2022-04-22T07:24:39.597Z"
   },
   {
    "duration": 9,
    "start_time": "2022-04-22T07:26:13.199Z"
   },
   {
    "duration": 12,
    "start_time": "2022-04-22T07:27:22.223Z"
   },
   {
    "duration": 10,
    "start_time": "2022-04-22T07:31:33.166Z"
   },
   {
    "duration": 36,
    "start_time": "2022-04-22T07:32:09.309Z"
   },
   {
    "duration": 22,
    "start_time": "2022-04-22T07:33:00.351Z"
   },
   {
    "duration": 11,
    "start_time": "2022-04-22T07:33:23.357Z"
   },
   {
    "duration": 18,
    "start_time": "2022-04-22T07:35:28.737Z"
   },
   {
    "duration": 22,
    "start_time": "2022-04-22T07:44:25.633Z"
   },
   {
    "duration": 7,
    "start_time": "2022-04-22T07:45:17.263Z"
   },
   {
    "duration": 7,
    "start_time": "2022-04-22T07:46:02.183Z"
   },
   {
    "duration": 8,
    "start_time": "2022-04-22T07:46:44.512Z"
   },
   {
    "duration": 23,
    "start_time": "2022-04-22T07:47:09.704Z"
   },
   {
    "duration": 175,
    "start_time": "2022-04-22T07:48:09.593Z"
   },
   {
    "duration": 145,
    "start_time": "2022-04-22T07:48:23.461Z"
   },
   {
    "duration": 151,
    "start_time": "2022-04-22T07:48:39.690Z"
   },
   {
    "duration": 188,
    "start_time": "2022-04-22T07:48:58.905Z"
   },
   {
    "duration": 149,
    "start_time": "2022-04-22T07:49:33.225Z"
   },
   {
    "duration": 141,
    "start_time": "2022-04-22T07:50:48.237Z"
   },
   {
    "duration": 146,
    "start_time": "2022-04-22T07:51:26.579Z"
   },
   {
    "duration": 152,
    "start_time": "2022-04-22T07:51:36.783Z"
   },
   {
    "duration": 17,
    "start_time": "2022-04-22T07:53:52.895Z"
   },
   {
    "duration": 2708,
    "start_time": "2022-04-22T07:55:45.931Z"
   },
   {
    "duration": 2497,
    "start_time": "2022-04-22T08:39:56.857Z"
   },
   {
    "duration": 242,
    "start_time": "2022-04-22T08:45:23.854Z"
   },
   {
    "duration": 8,
    "start_time": "2022-04-22T08:50:37.164Z"
   },
   {
    "duration": 8,
    "start_time": "2022-04-22T09:04:13.181Z"
   },
   {
    "duration": 6,
    "start_time": "2022-04-22T09:05:20.467Z"
   },
   {
    "duration": 2411,
    "start_time": "2022-04-22T09:07:39.820Z"
   },
   {
    "duration": 2351,
    "start_time": "2022-04-22T09:14:27.164Z"
   },
   {
    "duration": 2324,
    "start_time": "2022-04-22T09:14:32.212Z"
   },
   {
    "duration": 2692,
    "start_time": "2022-04-22T09:15:44.845Z"
   },
   {
    "duration": 2273,
    "start_time": "2022-04-22T09:15:50.035Z"
   },
   {
    "duration": 2477,
    "start_time": "2022-04-22T09:16:38.247Z"
   },
   {
    "duration": 2225,
    "start_time": "2022-04-22T09:16:42.161Z"
   },
   {
    "duration": 2604,
    "start_time": "2022-04-22T09:18:56.446Z"
   },
   {
    "duration": 2600,
    "start_time": "2022-04-22T09:20:07.414Z"
   },
   {
    "duration": 2340,
    "start_time": "2022-04-22T09:37:27.272Z"
   },
   {
    "duration": 11,
    "start_time": "2022-04-22T09:38:51.799Z"
   },
   {
    "duration": 11,
    "start_time": "2022-04-22T09:39:42.932Z"
   },
   {
    "duration": 7,
    "start_time": "2022-04-22T09:40:15.254Z"
   },
   {
    "duration": 11,
    "start_time": "2022-04-22T09:47:21.879Z"
   },
   {
    "duration": 7,
    "start_time": "2022-04-22T09:50:01.624Z"
   },
   {
    "duration": 4,
    "start_time": "2022-04-22T09:53:41.267Z"
   },
   {
    "duration": 4,
    "start_time": "2022-04-22T09:53:45.249Z"
   },
   {
    "duration": 2306,
    "start_time": "2022-04-22T09:56:05.641Z"
   },
   {
    "duration": 257,
    "start_time": "2022-04-22T10:00:51.603Z"
   },
   {
    "duration": 319,
    "start_time": "2022-04-22T10:03:15.016Z"
   },
   {
    "duration": 236,
    "start_time": "2022-04-22T10:04:25.241Z"
   },
   {
    "duration": 18,
    "start_time": "2022-04-22T10:04:33.097Z"
   },
   {
    "duration": 2313,
    "start_time": "2022-04-22T10:15:37.281Z"
   },
   {
    "duration": 6,
    "start_time": "2022-04-22T10:16:02.232Z"
   },
   {
    "duration": 496,
    "start_time": "2022-04-29T19:55:42.103Z"
   },
   {
    "duration": 4,
    "start_time": "2022-04-29T19:55:42.601Z"
   },
   {
    "duration": 25,
    "start_time": "2022-04-29T19:55:42.607Z"
   },
   {
    "duration": 21,
    "start_time": "2022-04-29T19:55:42.634Z"
   },
   {
    "duration": 17,
    "start_time": "2022-04-29T19:55:42.657Z"
   },
   {
    "duration": 22,
    "start_time": "2022-04-29T19:55:42.676Z"
   },
   {
    "duration": 18,
    "start_time": "2022-04-29T19:55:42.700Z"
   },
   {
    "duration": 6,
    "start_time": "2022-04-29T19:55:42.720Z"
   },
   {
    "duration": 20,
    "start_time": "2022-04-29T19:55:42.728Z"
   },
   {
    "duration": 31,
    "start_time": "2022-04-29T19:55:42.750Z"
   },
   {
    "duration": 5,
    "start_time": "2022-04-29T19:55:42.783Z"
   },
   {
    "duration": 31,
    "start_time": "2022-04-29T19:55:42.790Z"
   },
   {
    "duration": 19,
    "start_time": "2022-04-29T19:55:42.822Z"
   },
   {
    "duration": 15,
    "start_time": "2022-04-29T19:55:42.844Z"
   },
   {
    "duration": 14,
    "start_time": "2022-04-29T19:55:42.861Z"
   },
   {
    "duration": 33,
    "start_time": "2022-04-29T19:55:42.876Z"
   },
   {
    "duration": 22,
    "start_time": "2022-04-29T19:55:42.911Z"
   },
   {
    "duration": 28,
    "start_time": "2022-04-29T19:55:42.935Z"
   },
   {
    "duration": 16,
    "start_time": "2022-04-29T19:55:42.964Z"
   },
   {
    "duration": 16,
    "start_time": "2022-04-29T19:55:42.982Z"
   },
   {
    "duration": 38,
    "start_time": "2022-04-29T19:55:42.999Z"
   },
   {
    "duration": 21,
    "start_time": "2022-04-29T19:55:43.039Z"
   },
   {
    "duration": 17,
    "start_time": "2022-04-29T19:55:43.062Z"
   },
   {
    "duration": 616,
    "start_time": "2022-04-29T19:55:43.080Z"
   },
   {
    "duration": 7,
    "start_time": "2022-04-29T19:55:43.698Z"
   },
   {
    "duration": 4145,
    "start_time": "2022-04-29T19:55:43.707Z"
   },
   {
    "duration": 280,
    "start_time": "2022-04-29T19:55:47.854Z"
   },
   {
    "duration": 161,
    "start_time": "2022-04-29T19:55:48.136Z"
   },
   {
    "duration": 24,
    "start_time": "2022-04-29T19:55:48.299Z"
   },
   {
    "duration": 171,
    "start_time": "2022-04-29T19:55:48.325Z"
   },
   {
    "duration": 157,
    "start_time": "2022-04-29T19:55:48.498Z"
   },
   {
    "duration": 8,
    "start_time": "2022-04-29T19:55:48.656Z"
   },
   {
    "duration": 7,
    "start_time": "2022-04-29T20:01:48.170Z"
   },
   {
    "duration": 6,
    "start_time": "2022-04-29T20:01:51.642Z"
   },
   {
    "duration": 8,
    "start_time": "2022-04-29T20:02:20.691Z"
   },
   {
    "duration": 8,
    "start_time": "2022-04-29T20:02:21.823Z"
   },
   {
    "duration": 7,
    "start_time": "2022-04-29T20:02:22.087Z"
   },
   {
    "duration": 8,
    "start_time": "2022-04-29T20:02:30.659Z"
   },
   {
    "duration": 8,
    "start_time": "2022-04-29T20:02:31.401Z"
   },
   {
    "duration": 7,
    "start_time": "2022-04-29T20:02:31.709Z"
   },
   {
    "duration": 15,
    "start_time": "2022-04-29T20:02:53.472Z"
   },
   {
    "duration": 4,
    "start_time": "2022-04-29T20:03:29.670Z"
   },
   {
    "duration": 15,
    "start_time": "2022-04-29T20:08:47.092Z"
   },
   {
    "duration": 433,
    "start_time": "2022-04-30T09:26:38.534Z"
   },
   {
    "duration": 4,
    "start_time": "2022-04-30T09:26:38.969Z"
   },
   {
    "duration": 6,
    "start_time": "2022-04-30T09:26:38.974Z"
   },
   {
    "duration": 26,
    "start_time": "2022-04-30T09:26:38.981Z"
   },
   {
    "duration": 3,
    "start_time": "2022-04-30T09:26:39.009Z"
   },
   {
    "duration": 9,
    "start_time": "2022-04-30T09:26:39.014Z"
   },
   {
    "duration": 6,
    "start_time": "2022-04-30T09:26:39.024Z"
   },
   {
    "duration": 6,
    "start_time": "2022-04-30T09:26:39.031Z"
   },
   {
    "duration": 8,
    "start_time": "2022-04-30T09:26:39.038Z"
   },
   {
    "duration": 20,
    "start_time": "2022-04-30T09:26:39.047Z"
   },
   {
    "duration": 34,
    "start_time": "2022-04-30T09:26:39.069Z"
   },
   {
    "duration": 18,
    "start_time": "2022-04-30T09:26:39.104Z"
   },
   {
    "duration": 16,
    "start_time": "2022-04-30T09:26:39.124Z"
   },
   {
    "duration": 15,
    "start_time": "2022-04-30T09:26:39.143Z"
   },
   {
    "duration": 13,
    "start_time": "2022-04-30T09:26:39.159Z"
   },
   {
    "duration": 37,
    "start_time": "2022-04-30T09:26:39.173Z"
   },
   {
    "duration": 18,
    "start_time": "2022-04-30T09:26:39.211Z"
   },
   {
    "duration": 12,
    "start_time": "2022-04-30T09:26:39.230Z"
   },
   {
    "duration": 11,
    "start_time": "2022-04-30T09:26:39.243Z"
   },
   {
    "duration": 15,
    "start_time": "2022-04-30T09:26:39.255Z"
   },
   {
    "duration": 13,
    "start_time": "2022-04-30T09:26:39.300Z"
   },
   {
    "duration": 14,
    "start_time": "2022-04-30T09:26:39.315Z"
   },
   {
    "duration": 4,
    "start_time": "2022-04-30T09:26:39.330Z"
   },
   {
    "duration": 571,
    "start_time": "2022-04-30T09:26:39.335Z"
   },
   {
    "duration": 6,
    "start_time": "2022-04-30T09:26:39.907Z"
   },
   {
    "duration": 4009,
    "start_time": "2022-04-30T09:26:39.915Z"
   },
   {
    "duration": 274,
    "start_time": "2022-04-30T09:26:43.926Z"
   },
   {
    "duration": 164,
    "start_time": "2022-04-30T09:26:44.201Z"
   },
   {
    "duration": 16,
    "start_time": "2022-04-30T09:26:44.367Z"
   },
   {
    "duration": 188,
    "start_time": "2022-04-30T09:26:44.385Z"
   },
   {
    "duration": 159,
    "start_time": "2022-04-30T09:26:44.574Z"
   },
   {
    "duration": 7,
    "start_time": "2022-04-30T09:26:44.735Z"
   },
   {
    "duration": 210,
    "start_time": "2022-04-30T09:40:08.515Z"
   },
   {
    "duration": 6657,
    "start_time": "2022-04-30T09:40:26.481Z"
   },
   {
    "duration": 3930,
    "start_time": "2022-04-30T09:41:13.775Z"
   },
   {
    "duration": 3125,
    "start_time": "2022-04-30T09:44:44.340Z"
   },
   {
    "duration": 3230,
    "start_time": "2022-04-30T09:46:20.801Z"
   },
   {
    "duration": 146,
    "start_time": "2022-04-30T09:47:50.067Z"
   },
   {
    "duration": 36,
    "start_time": "2022-04-30T09:49:42.448Z"
   },
   {
    "duration": 56,
    "start_time": "2022-04-30T10:55:14.294Z"
   },
   {
    "duration": 55,
    "start_time": "2022-04-30T10:56:45.062Z"
   },
   {
    "duration": 53,
    "start_time": "2022-04-30T10:57:30.934Z"
   },
   {
    "duration": 19,
    "start_time": "2022-04-30T11:05:27.898Z"
   },
   {
    "duration": 72,
    "start_time": "2022-04-30T14:26:55.596Z"
   },
   {
    "duration": 11,
    "start_time": "2022-04-30T14:27:53.256Z"
   },
   {
    "duration": 633,
    "start_time": "2022-04-30T14:28:06.850Z"
   },
   {
    "duration": 6,
    "start_time": "2022-04-30T14:28:07.485Z"
   },
   {
    "duration": 32,
    "start_time": "2022-04-30T14:28:07.493Z"
   },
   {
    "duration": 23,
    "start_time": "2022-04-30T14:28:07.528Z"
   },
   {
    "duration": 5,
    "start_time": "2022-04-30T14:28:07.553Z"
   },
   {
    "duration": 14,
    "start_time": "2022-04-30T14:28:07.560Z"
   },
   {
    "duration": 51,
    "start_time": "2022-04-30T14:28:07.576Z"
   },
   {
    "duration": 10,
    "start_time": "2022-04-30T14:28:07.629Z"
   },
   {
    "duration": 11,
    "start_time": "2022-04-30T14:28:07.641Z"
   },
   {
    "duration": 74,
    "start_time": "2022-04-30T14:28:07.658Z"
   },
   {
    "duration": 11,
    "start_time": "2022-04-30T14:28:07.735Z"
   },
   {
    "duration": 30,
    "start_time": "2022-04-30T14:28:07.749Z"
   },
   {
    "duration": 65,
    "start_time": "2022-04-30T14:28:07.781Z"
   },
   {
    "duration": 28,
    "start_time": "2022-04-30T14:28:07.849Z"
   },
   {
    "duration": 47,
    "start_time": "2022-04-30T14:28:07.880Z"
   },
   {
    "duration": 19,
    "start_time": "2022-04-30T14:28:07.929Z"
   },
   {
    "duration": 100,
    "start_time": "2022-04-30T14:28:07.950Z"
   },
   {
    "duration": 20,
    "start_time": "2022-04-30T14:28:08.052Z"
   },
   {
    "duration": 19,
    "start_time": "2022-04-30T14:28:08.074Z"
   },
   {
    "duration": 55,
    "start_time": "2022-04-30T14:28:08.095Z"
   },
   {
    "duration": 23,
    "start_time": "2022-04-30T14:28:08.152Z"
   },
   {
    "duration": 49,
    "start_time": "2022-04-30T14:28:08.177Z"
   },
   {
    "duration": 7,
    "start_time": "2022-04-30T14:28:08.228Z"
   },
   {
    "duration": 894,
    "start_time": "2022-04-30T14:28:08.237Z"
   },
   {
    "duration": 9,
    "start_time": "2022-04-30T14:28:09.133Z"
   },
   {
    "duration": 7337,
    "start_time": "2022-04-30T14:28:09.144Z"
   },
   {
    "duration": 294,
    "start_time": "2022-04-30T14:28:16.483Z"
   },
   {
    "duration": 0,
    "start_time": "2022-04-30T14:28:18.823Z"
   },
   {
    "duration": 0,
    "start_time": "2022-04-30T14:28:18.824Z"
   },
   {
    "duration": 0,
    "start_time": "2022-04-30T14:28:18.827Z"
   },
   {
    "duration": 0,
    "start_time": "2022-04-30T14:28:18.828Z"
   },
   {
    "duration": 0,
    "start_time": "2022-04-30T14:28:18.830Z"
   },
   {
    "duration": 1737,
    "start_time": "2022-04-30T14:28:25.055Z"
   },
   {
    "duration": 1710,
    "start_time": "2022-04-30T14:28:58.139Z"
   },
   {
    "duration": 290,
    "start_time": "2022-04-30T14:29:28.037Z"
   },
   {
    "duration": 24,
    "start_time": "2022-04-30T14:30:49.915Z"
   },
   {
    "duration": 321,
    "start_time": "2022-04-30T14:30:59.671Z"
   },
   {
    "duration": 106,
    "start_time": "2022-04-30T14:32:26.553Z"
   },
   {
    "duration": 11,
    "start_time": "2022-04-30T14:32:50.772Z"
   },
   {
    "duration": 47,
    "start_time": "2022-04-30T14:33:09.455Z"
   },
   {
    "duration": 3361,
    "start_time": "2022-04-30T14:35:11.116Z"
   },
   {
    "duration": 2848,
    "start_time": "2022-04-30T14:36:02.975Z"
   },
   {
    "duration": 1749,
    "start_time": "2022-04-30T14:36:07.338Z"
   },
   {
    "duration": 11,
    "start_time": "2022-04-30T14:36:30.398Z"
   },
   {
    "duration": 1864,
    "start_time": "2022-04-30T14:37:44.055Z"
   },
   {
    "duration": 1639,
    "start_time": "2022-04-30T14:38:26.584Z"
   },
   {
    "duration": 0,
    "start_time": "2022-04-30T14:38:28.225Z"
   },
   {
    "duration": 283,
    "start_time": "2022-04-30T14:38:57.554Z"
   },
   {
    "duration": 11,
    "start_time": "2022-04-30T14:39:17.783Z"
   },
   {
    "duration": 1610,
    "start_time": "2022-04-30T14:40:28.437Z"
   },
   {
    "duration": 272,
    "start_time": "2022-04-30T14:40:48.085Z"
   },
   {
    "duration": 47,
    "start_time": "2022-04-30T14:41:09.920Z"
   },
   {
    "duration": 4869,
    "start_time": "2022-04-30T14:48:08.620Z"
   },
   {
    "duration": 1959,
    "start_time": "2022-04-30T14:48:14.514Z"
   },
   {
    "duration": 283,
    "start_time": "2022-04-30T14:48:31.776Z"
   },
   {
    "duration": 14,
    "start_time": "2022-04-30T15:03:41.973Z"
   },
   {
    "duration": 14,
    "start_time": "2022-04-30T15:04:20.136Z"
   },
   {
    "duration": 12,
    "start_time": "2022-04-30T15:05:53.126Z"
   },
   {
    "duration": 14,
    "start_time": "2022-04-30T15:05:59.489Z"
   },
   {
    "duration": 11,
    "start_time": "2022-04-30T15:06:05.436Z"
   },
   {
    "duration": 281,
    "start_time": "2022-04-30T15:06:34.133Z"
   },
   {
    "duration": 274,
    "start_time": "2022-04-30T15:12:13.293Z"
   },
   {
    "duration": 1889,
    "start_time": "2022-04-30T15:14:24.660Z"
   },
   {
    "duration": 2548,
    "start_time": "2022-04-30T15:15:01.916Z"
   },
   {
    "duration": 281,
    "start_time": "2022-04-30T15:15:33.708Z"
   },
   {
    "duration": 458,
    "start_time": "2022-05-01T04:29:07.723Z"
   },
   {
    "duration": 3,
    "start_time": "2022-05-01T04:29:08.182Z"
   },
   {
    "duration": 7,
    "start_time": "2022-05-01T04:29:08.187Z"
   },
   {
    "duration": 17,
    "start_time": "2022-05-01T04:29:08.195Z"
   },
   {
    "duration": 3,
    "start_time": "2022-05-01T04:29:08.213Z"
   },
   {
    "duration": 12,
    "start_time": "2022-05-01T04:29:08.217Z"
   },
   {
    "duration": 7,
    "start_time": "2022-05-01T04:29:08.230Z"
   },
   {
    "duration": 8,
    "start_time": "2022-05-01T04:29:08.238Z"
   },
   {
    "duration": 9,
    "start_time": "2022-05-01T04:29:08.247Z"
   },
   {
    "duration": 42,
    "start_time": "2022-05-01T04:29:08.258Z"
   },
   {
    "duration": 6,
    "start_time": "2022-05-01T04:29:08.301Z"
   },
   {
    "duration": 20,
    "start_time": "2022-05-01T04:29:08.308Z"
   },
   {
    "duration": 17,
    "start_time": "2022-05-01T04:29:08.329Z"
   },
   {
    "duration": 15,
    "start_time": "2022-05-01T04:29:08.347Z"
   },
   {
    "duration": 37,
    "start_time": "2022-05-01T04:29:08.364Z"
   },
   {
    "duration": 13,
    "start_time": "2022-05-01T04:29:08.403Z"
   },
   {
    "duration": 44,
    "start_time": "2022-05-01T04:29:08.418Z"
   },
   {
    "duration": 13,
    "start_time": "2022-05-01T04:29:08.464Z"
   },
   {
    "duration": 12,
    "start_time": "2022-05-01T04:29:08.501Z"
   },
   {
    "duration": 16,
    "start_time": "2022-05-01T04:29:08.515Z"
   },
   {
    "duration": 14,
    "start_time": "2022-05-01T04:29:08.533Z"
   },
   {
    "duration": 12,
    "start_time": "2022-05-01T04:29:08.549Z"
   },
   {
    "duration": 39,
    "start_time": "2022-05-01T04:29:08.563Z"
   },
   {
    "duration": 583,
    "start_time": "2022-05-01T04:29:08.604Z"
   },
   {
    "duration": 14,
    "start_time": "2022-05-01T04:29:09.189Z"
   },
   {
    "duration": 4022,
    "start_time": "2022-05-01T04:29:09.205Z"
   },
   {
    "duration": 154,
    "start_time": "2022-05-01T04:29:13.228Z"
   },
   {
    "duration": 152,
    "start_time": "2022-05-01T04:29:13.385Z"
   },
   {
    "duration": 27,
    "start_time": "2022-05-01T04:29:13.538Z"
   },
   {
    "duration": 3096,
    "start_time": "2022-05-01T04:29:13.566Z"
   },
   {
    "duration": 0,
    "start_time": "2022-05-01T04:29:16.664Z"
   },
   {
    "duration": 0,
    "start_time": "2022-05-01T04:29:16.665Z"
   },
   {
    "duration": 150,
    "start_time": "2022-05-01T04:30:06.281Z"
   },
   {
    "duration": 7,
    "start_time": "2022-05-01T04:30:16.864Z"
   },
   {
    "duration": 52,
    "start_time": "2022-05-01T04:57:59.442Z"
   },
   {
    "duration": 37,
    "start_time": "2022-05-01T04:58:20.529Z"
   },
   {
    "duration": 38,
    "start_time": "2022-05-01T04:58:27.023Z"
   },
   {
    "duration": 52,
    "start_time": "2022-05-01T04:58:47.739Z"
   },
   {
    "duration": 51,
    "start_time": "2022-05-01T04:59:22.674Z"
   },
   {
    "duration": 51,
    "start_time": "2022-05-01T05:00:29.022Z"
   },
   {
    "duration": 51,
    "start_time": "2022-05-01T05:00:41.378Z"
   },
   {
    "duration": 18,
    "start_time": "2022-05-01T05:01:32.342Z"
   },
   {
    "duration": 18,
    "start_time": "2022-05-01T05:01:38.475Z"
   },
   {
    "duration": 20,
    "start_time": "2022-05-01T05:01:43.398Z"
   },
   {
    "duration": 23,
    "start_time": "2022-05-01T05:01:49.944Z"
   },
   {
    "duration": 242,
    "start_time": "2022-05-01T05:04:18.712Z"
   },
   {
    "duration": 176,
    "start_time": "2022-05-01T05:17:33.595Z"
   },
   {
    "duration": 69,
    "start_time": "2022-05-01T05:23:55.821Z"
   },
   {
    "duration": 4,
    "start_time": "2022-05-01T05:24:05.114Z"
   },
   {
    "duration": 5,
    "start_time": "2022-05-01T05:24:10.077Z"
   },
   {
    "duration": 14,
    "start_time": "2022-05-01T05:24:14.797Z"
   },
   {
    "duration": 3,
    "start_time": "2022-05-01T05:24:19.714Z"
   },
   {
    "duration": 9,
    "start_time": "2022-05-01T05:24:26.859Z"
   },
   {
    "duration": 7,
    "start_time": "2022-05-01T05:24:36.184Z"
   },
   {
    "duration": 19,
    "start_time": "2022-05-01T05:24:57.217Z"
   },
   {
    "duration": 7,
    "start_time": "2022-05-01T05:25:19.094Z"
   },
   {
    "duration": 17,
    "start_time": "2022-05-01T05:25:23.915Z"
   },
   {
    "duration": 19,
    "start_time": "2022-05-01T05:25:29.174Z"
   },
   {
    "duration": 17,
    "start_time": "2022-05-01T05:25:32.823Z"
   },
   {
    "duration": 14,
    "start_time": "2022-05-01T05:25:38.105Z"
   },
   {
    "duration": 42,
    "start_time": "2022-05-01T05:25:44.950Z"
   },
   {
    "duration": 459,
    "start_time": "2022-05-01T14:54:58.255Z"
   },
   {
    "duration": 4,
    "start_time": "2022-05-01T14:54:58.716Z"
   },
   {
    "duration": 8,
    "start_time": "2022-05-01T14:54:58.721Z"
   },
   {
    "duration": 16,
    "start_time": "2022-05-01T14:54:58.731Z"
   },
   {
    "duration": 3,
    "start_time": "2022-05-01T14:54:58.749Z"
   },
   {
    "duration": 13,
    "start_time": "2022-05-01T14:54:58.754Z"
   },
   {
    "duration": 6,
    "start_time": "2022-05-01T14:54:58.769Z"
   },
   {
    "duration": 26,
    "start_time": "2022-05-01T14:54:58.777Z"
   },
   {
    "duration": 19,
    "start_time": "2022-05-01T14:55:01.784Z"
   },
   {
    "duration": 8,
    "start_time": "2022-05-01T14:55:38.063Z"
   },
   {
    "duration": 61,
    "start_time": "2022-05-01T14:57:21.219Z"
   },
   {
    "duration": 11,
    "start_time": "2022-05-01T15:21:35.035Z"
   },
   {
    "duration": 3084,
    "start_time": "2022-05-01T15:21:43.880Z"
   },
   {
    "duration": 25,
    "start_time": "2022-05-01T15:23:57.144Z"
   },
   {
    "duration": 28,
    "start_time": "2022-05-01T15:24:19.700Z"
   },
   {
    "duration": 20,
    "start_time": "2022-05-01T15:24:39.853Z"
   },
   {
    "duration": 12,
    "start_time": "2022-05-01T15:25:08.403Z"
   },
   {
    "duration": 4,
    "start_time": "2022-05-01T15:25:18.532Z"
   },
   {
    "duration": 7,
    "start_time": "2022-05-01T15:25:28.858Z"
   },
   {
    "duration": 448,
    "start_time": "2022-05-01T15:25:56.118Z"
   },
   {
    "duration": 4,
    "start_time": "2022-05-01T15:25:56.569Z"
   },
   {
    "duration": 6,
    "start_time": "2022-05-01T15:25:56.575Z"
   },
   {
    "duration": 24,
    "start_time": "2022-05-01T15:25:56.583Z"
   },
   {
    "duration": 3,
    "start_time": "2022-05-01T15:25:56.609Z"
   },
   {
    "duration": 12,
    "start_time": "2022-05-01T15:25:56.614Z"
   },
   {
    "duration": 6,
    "start_time": "2022-05-01T15:25:56.627Z"
   },
   {
    "duration": 8,
    "start_time": "2022-05-01T15:25:56.635Z"
   },
   {
    "duration": 4,
    "start_time": "2022-05-01T15:25:56.645Z"
   },
   {
    "duration": 11,
    "start_time": "2022-05-01T15:26:01.531Z"
   },
   {
    "duration": 23,
    "start_time": "2022-05-01T15:26:07.144Z"
   },
   {
    "duration": 4,
    "start_time": "2022-05-01T15:26:17.358Z"
   },
   {
    "duration": 458,
    "start_time": "2022-05-01T15:32:08.105Z"
   },
   {
    "duration": 4,
    "start_time": "2022-05-01T15:32:08.564Z"
   },
   {
    "duration": 7,
    "start_time": "2022-05-01T15:32:08.569Z"
   },
   {
    "duration": 14,
    "start_time": "2022-05-01T15:32:08.578Z"
   },
   {
    "duration": 6,
    "start_time": "2022-05-01T15:32:08.594Z"
   },
   {
    "duration": 9,
    "start_time": "2022-05-01T15:32:08.602Z"
   },
   {
    "duration": 6,
    "start_time": "2022-05-01T15:32:08.612Z"
   },
   {
    "duration": 6,
    "start_time": "2022-05-01T15:32:08.620Z"
   },
   {
    "duration": 7,
    "start_time": "2022-05-01T15:32:08.627Z"
   },
   {
    "duration": 19,
    "start_time": "2022-05-01T15:32:08.636Z"
   },
   {
    "duration": 4,
    "start_time": "2022-05-01T15:32:08.657Z"
   },
   {
    "duration": 50,
    "start_time": "2022-05-01T15:32:08.663Z"
   },
   {
    "duration": 16,
    "start_time": "2022-05-01T15:32:08.715Z"
   },
   {
    "duration": 14,
    "start_time": "2022-05-01T15:32:08.733Z"
   },
   {
    "duration": 13,
    "start_time": "2022-05-01T15:32:08.749Z"
   },
   {
    "duration": 38,
    "start_time": "2022-05-01T15:32:08.763Z"
   },
   {
    "duration": 47,
    "start_time": "2022-05-01T15:32:08.802Z"
   },
   {
    "duration": 12,
    "start_time": "2022-05-01T15:32:08.851Z"
   },
   {
    "duration": 12,
    "start_time": "2022-05-01T15:32:08.864Z"
   },
   {
    "duration": 17,
    "start_time": "2022-05-01T15:32:08.901Z"
   },
   {
    "duration": 14,
    "start_time": "2022-05-01T15:32:08.920Z"
   },
   {
    "duration": 17,
    "start_time": "2022-05-01T15:32:08.936Z"
   },
   {
    "duration": 5,
    "start_time": "2022-05-01T15:32:08.955Z"
   },
   {
    "duration": 612,
    "start_time": "2022-05-01T15:32:08.961Z"
   },
   {
    "duration": 7,
    "start_time": "2022-05-01T15:32:09.574Z"
   },
   {
    "duration": 275,
    "start_time": "2022-05-01T15:32:09.583Z"
   },
   {
    "duration": 155,
    "start_time": "2022-05-01T15:32:09.860Z"
   },
   {
    "duration": 177,
    "start_time": "2022-05-01T15:32:10.018Z"
   },
   {
    "duration": 0,
    "start_time": "2022-05-01T15:32:10.197Z"
   },
   {
    "duration": 0,
    "start_time": "2022-05-01T15:32:10.198Z"
   },
   {
    "duration": 22,
    "start_time": "2022-05-01T15:34:37.909Z"
   },
   {
    "duration": 17,
    "start_time": "2022-05-01T15:42:26.281Z"
   },
   {
    "duration": 22,
    "start_time": "2022-05-01T15:42:30.143Z"
   },
   {
    "duration": 71,
    "start_time": "2022-05-01T15:56:40.598Z"
   },
   {
    "duration": 19,
    "start_time": "2022-05-01T15:56:56.812Z"
   },
   {
    "duration": 236,
    "start_time": "2022-05-01T15:59:20.051Z"
   },
   {
    "duration": 235,
    "start_time": "2022-05-01T15:59:21.109Z"
   },
   {
    "duration": 10,
    "start_time": "2022-05-01T15:59:21.497Z"
   },
   {
    "duration": 491,
    "start_time": "2022-05-02T15:46:09.391Z"
   },
   {
    "duration": 4,
    "start_time": "2022-05-02T15:46:09.884Z"
   },
   {
    "duration": 8,
    "start_time": "2022-05-02T15:46:09.890Z"
   },
   {
    "duration": 16,
    "start_time": "2022-05-02T15:46:09.900Z"
   },
   {
    "duration": 3,
    "start_time": "2022-05-02T15:46:09.918Z"
   },
   {
    "duration": 11,
    "start_time": "2022-05-02T15:46:09.923Z"
   },
   {
    "duration": 7,
    "start_time": "2022-05-02T15:46:09.936Z"
   },
   {
    "duration": 32,
    "start_time": "2022-05-02T15:46:09.945Z"
   },
   {
    "duration": 9,
    "start_time": "2022-05-02T15:46:09.979Z"
   },
   {
    "duration": 24,
    "start_time": "2022-05-02T15:46:09.991Z"
   },
   {
    "duration": 7,
    "start_time": "2022-05-02T15:46:10.017Z"
   },
   {
    "duration": 50,
    "start_time": "2022-05-02T15:46:10.026Z"
   },
   {
    "duration": 18,
    "start_time": "2022-05-02T15:46:10.078Z"
   },
   {
    "duration": 15,
    "start_time": "2022-05-02T15:46:10.098Z"
   },
   {
    "duration": 14,
    "start_time": "2022-05-02T15:46:10.115Z"
   },
   {
    "duration": 13,
    "start_time": "2022-05-02T15:46:10.130Z"
   },
   {
    "duration": 70,
    "start_time": "2022-05-02T15:46:10.145Z"
   },
   {
    "duration": 14,
    "start_time": "2022-05-02T15:46:10.216Z"
   },
   {
    "duration": 13,
    "start_time": "2022-05-02T15:46:10.232Z"
   },
   {
    "duration": 19,
    "start_time": "2022-05-02T15:46:10.272Z"
   },
   {
    "duration": 14,
    "start_time": "2022-05-02T15:46:10.293Z"
   },
   {
    "duration": 13,
    "start_time": "2022-05-02T15:46:10.309Z"
   },
   {
    "duration": 8,
    "start_time": "2022-05-02T15:46:10.324Z"
   },
   {
    "duration": 586,
    "start_time": "2022-05-02T15:46:10.333Z"
   },
   {
    "duration": 6,
    "start_time": "2022-05-02T15:46:10.921Z"
   },
   {
    "duration": 295,
    "start_time": "2022-05-02T15:46:10.929Z"
   },
   {
    "duration": 167,
    "start_time": "2022-05-02T15:46:11.226Z"
   },
   {
    "duration": 28,
    "start_time": "2022-05-02T15:46:11.396Z"
   },
   {
    "duration": 228,
    "start_time": "2022-05-02T15:46:11.426Z"
   },
   {
    "duration": 17,
    "start_time": "2022-05-02T15:46:11.656Z"
   },
   {
    "duration": 57,
    "start_time": "2022-05-02T15:48:28.261Z"
   },
   {
    "duration": 55,
    "start_time": "2022-05-02T15:48:33.721Z"
   },
   {
    "duration": 16,
    "start_time": "2022-05-02T15:50:00.299Z"
   },
   {
    "duration": 13,
    "start_time": "2022-05-02T15:50:30.539Z"
   },
   {
    "duration": 6,
    "start_time": "2022-05-02T16:54:17.686Z"
   },
   {
    "duration": 181,
    "start_time": "2022-05-02T16:54:31.825Z"
   },
   {
    "duration": 1841,
    "start_time": "2022-05-02T17:09:35.179Z"
   },
   {
    "duration": 23,
    "start_time": "2022-05-02T17:10:37.578Z"
   },
   {
    "duration": 22,
    "start_time": "2022-05-02T17:10:42.145Z"
   },
   {
    "duration": 30,
    "start_time": "2022-05-02T17:11:03.571Z"
   },
   {
    "duration": 2607,
    "start_time": "2022-05-02T17:13:11.214Z"
   },
   {
    "duration": 3484,
    "start_time": "2022-05-02T17:13:22.672Z"
   },
   {
    "duration": 2065,
    "start_time": "2022-05-02T17:13:26.905Z"
   },
   {
    "duration": 3639,
    "start_time": "2022-05-02T17:16:01.592Z"
   },
   {
    "duration": 1954,
    "start_time": "2022-05-02T17:17:03.144Z"
   },
   {
    "duration": 26,
    "start_time": "2022-05-02T17:32:40.108Z"
   },
   {
    "duration": 109,
    "start_time": "2022-05-02T17:34:37.436Z"
   },
   {
    "duration": 598,
    "start_time": "2022-05-02T17:35:02.436Z"
   },
   {
    "duration": 176,
    "start_time": "2022-05-02T17:35:22.060Z"
   },
   {
    "duration": 114,
    "start_time": "2022-05-02T17:35:33.486Z"
   },
   {
    "duration": 162,
    "start_time": "2022-05-02T17:35:44.980Z"
   },
   {
    "duration": 133,
    "start_time": "2022-05-02T17:35:52.307Z"
   },
   {
    "duration": 2020,
    "start_time": "2022-05-02T17:37:25.202Z"
   },
   {
    "duration": 26,
    "start_time": "2022-05-02T17:37:57.464Z"
   },
   {
    "duration": 33,
    "start_time": "2022-05-02T17:39:22.732Z"
   },
   {
    "duration": 164,
    "start_time": "2022-05-02T17:41:26.270Z"
   },
   {
    "duration": 1739,
    "start_time": "2022-05-02T17:43:21.963Z"
   },
   {
    "duration": 31,
    "start_time": "2022-05-02T17:44:13.004Z"
   },
   {
    "duration": 3,
    "start_time": "2022-05-02T17:46:48.731Z"
   },
   {
    "duration": 28,
    "start_time": "2022-05-02T18:15:46.762Z"
   },
   {
    "duration": 10,
    "start_time": "2022-05-02T18:17:06.836Z"
   },
   {
    "duration": 5,
    "start_time": "2022-05-02T18:20:00.536Z"
   },
   {
    "duration": 7,
    "start_time": "2022-05-02T18:21:19.187Z"
   },
   {
    "duration": 508,
    "start_time": "2022-05-03T07:46:58.453Z"
   },
   {
    "duration": 4,
    "start_time": "2022-05-03T07:46:58.963Z"
   },
   {
    "duration": 5,
    "start_time": "2022-05-03T07:46:58.972Z"
   },
   {
    "duration": 15,
    "start_time": "2022-05-03T07:46:58.979Z"
   },
   {
    "duration": 4,
    "start_time": "2022-05-03T07:46:58.996Z"
   },
   {
    "duration": 14,
    "start_time": "2022-05-03T07:46:59.001Z"
   },
   {
    "duration": 8,
    "start_time": "2022-05-03T07:46:59.017Z"
   },
   {
    "duration": 7,
    "start_time": "2022-05-03T07:46:59.027Z"
   },
   {
    "duration": 11,
    "start_time": "2022-05-03T07:46:59.073Z"
   },
   {
    "duration": 6,
    "start_time": "2022-05-03T07:46:59.089Z"
   },
   {
    "duration": 11,
    "start_time": "2022-05-03T07:46:59.097Z"
   },
   {
    "duration": 18,
    "start_time": "2022-05-03T07:46:59.110Z"
   },
   {
    "duration": 56,
    "start_time": "2022-05-03T07:46:59.130Z"
   },
   {
    "duration": 16,
    "start_time": "2022-05-03T07:46:59.187Z"
   },
   {
    "duration": 14,
    "start_time": "2022-05-03T07:46:59.205Z"
   },
   {
    "duration": 14,
    "start_time": "2022-05-03T07:46:59.221Z"
   },
   {
    "duration": 70,
    "start_time": "2022-05-03T07:46:59.237Z"
   },
   {
    "duration": 14,
    "start_time": "2022-05-03T07:46:59.309Z"
   },
   {
    "duration": 12,
    "start_time": "2022-05-03T07:46:59.324Z"
   },
   {
    "duration": 38,
    "start_time": "2022-05-03T07:46:59.338Z"
   },
   {
    "duration": 15,
    "start_time": "2022-05-03T07:46:59.377Z"
   },
   {
    "duration": 18,
    "start_time": "2022-05-03T07:46:59.394Z"
   },
   {
    "duration": 11,
    "start_time": "2022-05-03T07:46:59.413Z"
   },
   {
    "duration": 8,
    "start_time": "2022-05-03T07:46:59.426Z"
   },
   {
    "duration": 43,
    "start_time": "2022-05-03T07:46:59.435Z"
   },
   {
    "duration": 2,
    "start_time": "2022-05-03T07:46:59.480Z"
   },
   {
    "duration": 26,
    "start_time": "2022-05-03T07:46:59.483Z"
   },
   {
    "duration": 25,
    "start_time": "2022-05-03T07:46:59.512Z"
   },
   {
    "duration": 52,
    "start_time": "2022-05-03T07:46:59.539Z"
   },
   {
    "duration": 105,
    "start_time": "2022-05-03T08:05:43.376Z"
   },
   {
    "duration": 25,
    "start_time": "2022-05-03T08:06:02.797Z"
   },
   {
    "duration": 23,
    "start_time": "2022-05-03T08:10:25.600Z"
   },
   {
    "duration": 25,
    "start_time": "2022-05-03T08:10:29.557Z"
   },
   {
    "duration": 26,
    "start_time": "2022-05-03T08:11:09.997Z"
   },
   {
    "duration": 28,
    "start_time": "2022-05-03T08:11:35.323Z"
   },
   {
    "duration": 109,
    "start_time": "2022-05-03T08:15:16.051Z"
   },
   {
    "duration": 7,
    "start_time": "2022-05-03T08:15:24.718Z"
   },
   {
    "duration": 6,
    "start_time": "2022-05-03T08:21:06.001Z"
   },
   {
    "duration": 7,
    "start_time": "2022-05-03T08:21:10.563Z"
   },
   {
    "duration": 21,
    "start_time": "2022-05-03T08:24:21.867Z"
   },
   {
    "duration": 22,
    "start_time": "2022-05-03T09:00:22.430Z"
   },
   {
    "duration": 9,
    "start_time": "2022-05-03T09:03:04.508Z"
   },
   {
    "duration": 5,
    "start_time": "2022-05-03T09:05:33.635Z"
   },
   {
    "duration": 11,
    "start_time": "2022-05-03T09:06:40.814Z"
   },
   {
    "duration": 22,
    "start_time": "2022-05-03T09:07:07.472Z"
   },
   {
    "duration": 105,
    "start_time": "2022-05-03T09:08:54.568Z"
   },
   {
    "duration": 23,
    "start_time": "2022-05-03T09:09:51.680Z"
   },
   {
    "duration": 162,
    "start_time": "2022-05-03T09:12:16.280Z"
   },
   {
    "duration": 120,
    "start_time": "2022-05-03T09:13:11.534Z"
   },
   {
    "duration": 106,
    "start_time": "2022-05-03T09:13:44.221Z"
   },
   {
    "duration": 24,
    "start_time": "2022-05-03T09:13:59.927Z"
   },
   {
    "duration": 5,
    "start_time": "2022-05-03T09:14:28.719Z"
   },
   {
    "duration": 5,
    "start_time": "2022-05-03T09:14:35.165Z"
   },
   {
    "duration": 21,
    "start_time": "2022-05-03T09:15:07.395Z"
   },
   {
    "duration": 21,
    "start_time": "2022-05-03T09:15:38.615Z"
   },
   {
    "duration": 21,
    "start_time": "2022-05-03T09:15:49.953Z"
   },
   {
    "duration": 315,
    "start_time": "2022-05-03T09:18:58.406Z"
   },
   {
    "duration": 23,
    "start_time": "2022-05-03T09:19:10.007Z"
   },
   {
    "duration": 26,
    "start_time": "2022-05-03T09:21:24.817Z"
   },
   {
    "duration": 24,
    "start_time": "2022-05-03T09:21:58.644Z"
   },
   {
    "duration": 6,
    "start_time": "2022-05-03T09:22:21.757Z"
   },
   {
    "duration": 7,
    "start_time": "2022-05-03T09:22:47.521Z"
   },
   {
    "duration": 1780,
    "start_time": "2022-05-03T09:48:16.865Z"
   },
   {
    "duration": 6,
    "start_time": "2022-05-03T09:49:54.191Z"
   },
   {
    "duration": 5,
    "start_time": "2022-05-03T09:49:58.840Z"
   },
   {
    "duration": 7,
    "start_time": "2022-05-03T09:50:28.500Z"
   },
   {
    "duration": 23,
    "start_time": "2022-05-03T09:52:16.631Z"
   },
   {
    "duration": 22,
    "start_time": "2022-05-03T09:53:21.803Z"
   },
   {
    "duration": 23,
    "start_time": "2022-05-03T09:53:53.857Z"
   },
   {
    "duration": 2,
    "start_time": "2022-05-03T09:54:39.844Z"
   },
   {
    "duration": 16,
    "start_time": "2022-05-03T10:09:45.460Z"
   },
   {
    "duration": 26,
    "start_time": "2022-05-03T10:09:56.946Z"
   },
   {
    "duration": 108,
    "start_time": "2022-05-03T10:12:37.745Z"
   },
   {
    "duration": 26,
    "start_time": "2022-05-03T10:13:08.732Z"
   },
   {
    "duration": 28,
    "start_time": "2022-05-03T10:16:02.121Z"
   },
   {
    "duration": 28,
    "start_time": "2022-05-03T10:18:58.159Z"
   },
   {
    "duration": 6,
    "start_time": "2022-05-03T10:19:25.627Z"
   },
   {
    "duration": 7,
    "start_time": "2022-05-03T10:20:03.565Z"
   },
   {
    "duration": 9,
    "start_time": "2022-05-03T10:27:57.553Z"
   },
   {
    "duration": 9,
    "start_time": "2022-05-03T10:28:34.339Z"
   },
   {
    "duration": 143,
    "start_time": "2022-05-03T10:31:20.274Z"
   },
   {
    "duration": 159,
    "start_time": "2022-05-03T10:31:52.993Z"
   },
   {
    "duration": 120,
    "start_time": "2022-05-03T10:32:11.106Z"
   },
   {
    "duration": 179,
    "start_time": "2022-05-03T10:32:52.489Z"
   },
   {
    "duration": 121,
    "start_time": "2022-05-03T10:33:20.868Z"
   },
   {
    "duration": 113,
    "start_time": "2022-05-03T10:33:36.442Z"
   },
   {
    "duration": 112,
    "start_time": "2022-05-03T10:34:35.389Z"
   },
   {
    "duration": 105,
    "start_time": "2022-05-03T10:34:58.243Z"
   },
   {
    "duration": 110,
    "start_time": "2022-05-03T10:36:14.214Z"
   },
   {
    "duration": 136,
    "start_time": "2022-05-03T10:36:28.151Z"
   },
   {
    "duration": 1092,
    "start_time": "2022-05-03T10:36:40.416Z"
   },
   {
    "duration": 5,
    "start_time": "2022-05-03T10:36:41.511Z"
   },
   {
    "duration": 7,
    "start_time": "2022-05-03T10:36:41.517Z"
   },
   {
    "duration": 18,
    "start_time": "2022-05-03T10:36:41.526Z"
   },
   {
    "duration": 4,
    "start_time": "2022-05-03T10:36:41.545Z"
   },
   {
    "duration": 37,
    "start_time": "2022-05-03T10:36:41.550Z"
   },
   {
    "duration": 8,
    "start_time": "2022-05-03T10:36:41.589Z"
   },
   {
    "duration": 8,
    "start_time": "2022-05-03T10:36:41.599Z"
   },
   {
    "duration": 13,
    "start_time": "2022-05-03T10:36:41.609Z"
   },
   {
    "duration": 7,
    "start_time": "2022-05-03T10:36:41.627Z"
   },
   {
    "duration": 139,
    "start_time": "2022-05-03T10:36:41.636Z"
   },
   {
    "duration": 0,
    "start_time": "2022-05-03T10:36:41.777Z"
   },
   {
    "duration": 0,
    "start_time": "2022-05-03T10:36:41.778Z"
   },
   {
    "duration": 0,
    "start_time": "2022-05-03T10:36:41.779Z"
   },
   {
    "duration": 0,
    "start_time": "2022-05-03T10:36:41.780Z"
   },
   {
    "duration": 0,
    "start_time": "2022-05-03T10:36:41.781Z"
   },
   {
    "duration": 0,
    "start_time": "2022-05-03T10:36:41.782Z"
   },
   {
    "duration": 0,
    "start_time": "2022-05-03T10:36:41.783Z"
   },
   {
    "duration": 0,
    "start_time": "2022-05-03T10:36:41.784Z"
   },
   {
    "duration": 0,
    "start_time": "2022-05-03T10:36:41.785Z"
   },
   {
    "duration": 0,
    "start_time": "2022-05-03T10:36:41.788Z"
   },
   {
    "duration": 0,
    "start_time": "2022-05-03T10:36:41.790Z"
   },
   {
    "duration": 0,
    "start_time": "2022-05-03T10:36:41.791Z"
   },
   {
    "duration": 0,
    "start_time": "2022-05-03T10:36:41.792Z"
   },
   {
    "duration": 0,
    "start_time": "2022-05-03T10:36:41.793Z"
   },
   {
    "duration": 0,
    "start_time": "2022-05-03T10:36:41.794Z"
   },
   {
    "duration": 0,
    "start_time": "2022-05-03T10:36:41.795Z"
   },
   {
    "duration": 0,
    "start_time": "2022-05-03T10:36:41.797Z"
   },
   {
    "duration": 0,
    "start_time": "2022-05-03T10:36:41.799Z"
   },
   {
    "duration": 0,
    "start_time": "2022-05-03T10:36:41.800Z"
   },
   {
    "duration": 0,
    "start_time": "2022-05-03T10:36:41.801Z"
   },
   {
    "duration": 0,
    "start_time": "2022-05-03T10:36:41.802Z"
   },
   {
    "duration": 133,
    "start_time": "2022-05-03T10:36:52.255Z"
   },
   {
    "duration": 168,
    "start_time": "2022-05-03T10:40:02.132Z"
   },
   {
    "duration": 118,
    "start_time": "2022-05-03T10:41:37.726Z"
   },
   {
    "duration": 115,
    "start_time": "2022-05-03T10:45:00.691Z"
   },
   {
    "duration": 5,
    "start_time": "2022-05-03T10:48:46.826Z"
   },
   {
    "duration": 4,
    "start_time": "2022-05-03T10:48:52.148Z"
   },
   {
    "duration": 5,
    "start_time": "2022-05-03T10:48:57.822Z"
   },
   {
    "duration": 67,
    "start_time": "2022-05-03T10:49:48.571Z"
   },
   {
    "duration": 8,
    "start_time": "2022-05-03T10:50:16.522Z"
   },
   {
    "duration": 30,
    "start_time": "2022-05-03T10:51:31.386Z"
   },
   {
    "duration": 6,
    "start_time": "2022-05-03T10:53:38.286Z"
   },
   {
    "duration": 6,
    "start_time": "2022-05-03T10:53:48.902Z"
   },
   {
    "duration": 2,
    "start_time": "2022-05-03T10:54:04.867Z"
   },
   {
    "duration": 6,
    "start_time": "2022-05-03T10:54:51.063Z"
   },
   {
    "duration": 471,
    "start_time": "2022-05-03T11:13:54.711Z"
   },
   {
    "duration": 5,
    "start_time": "2022-05-03T11:13:55.184Z"
   },
   {
    "duration": 8,
    "start_time": "2022-05-03T11:13:55.191Z"
   },
   {
    "duration": 22,
    "start_time": "2022-05-03T11:13:55.202Z"
   },
   {
    "duration": 4,
    "start_time": "2022-05-03T11:13:55.226Z"
   },
   {
    "duration": 17,
    "start_time": "2022-05-03T11:13:55.232Z"
   },
   {
    "duration": 36,
    "start_time": "2022-05-03T11:13:55.251Z"
   },
   {
    "duration": 9,
    "start_time": "2022-05-03T11:13:55.288Z"
   },
   {
    "duration": 12,
    "start_time": "2022-05-03T11:13:55.298Z"
   },
   {
    "duration": 6,
    "start_time": "2022-05-03T11:13:55.313Z"
   },
   {
    "duration": 113,
    "start_time": "2022-05-03T11:13:55.320Z"
   },
   {
    "duration": 0,
    "start_time": "2022-05-03T11:13:55.435Z"
   },
   {
    "duration": 0,
    "start_time": "2022-05-03T11:13:55.437Z"
   },
   {
    "duration": 0,
    "start_time": "2022-05-03T11:13:55.438Z"
   },
   {
    "duration": 0,
    "start_time": "2022-05-03T11:13:55.440Z"
   },
   {
    "duration": 0,
    "start_time": "2022-05-03T11:13:55.441Z"
   },
   {
    "duration": 0,
    "start_time": "2022-05-03T11:13:55.443Z"
   },
   {
    "duration": 0,
    "start_time": "2022-05-03T11:13:55.444Z"
   },
   {
    "duration": 0,
    "start_time": "2022-05-03T11:13:55.446Z"
   },
   {
    "duration": 0,
    "start_time": "2022-05-03T11:13:55.447Z"
   },
   {
    "duration": 0,
    "start_time": "2022-05-03T11:13:55.448Z"
   },
   {
    "duration": 0,
    "start_time": "2022-05-03T11:13:55.450Z"
   },
   {
    "duration": 0,
    "start_time": "2022-05-03T11:13:55.451Z"
   },
   {
    "duration": 0,
    "start_time": "2022-05-03T11:13:55.453Z"
   },
   {
    "duration": 0,
    "start_time": "2022-05-03T11:13:55.454Z"
   },
   {
    "duration": 0,
    "start_time": "2022-05-03T11:13:55.455Z"
   },
   {
    "duration": 0,
    "start_time": "2022-05-03T11:13:55.457Z"
   },
   {
    "duration": 0,
    "start_time": "2022-05-03T11:13:55.459Z"
   },
   {
    "duration": 0,
    "start_time": "2022-05-03T11:13:55.459Z"
   },
   {
    "duration": 0,
    "start_time": "2022-05-03T11:13:55.461Z"
   },
   {
    "duration": 0,
    "start_time": "2022-05-03T11:13:55.461Z"
   },
   {
    "duration": 8,
    "start_time": "2022-05-03T11:14:30.640Z"
   },
   {
    "duration": 21,
    "start_time": "2022-05-03T11:14:43.659Z"
   },
   {
    "duration": 79,
    "start_time": "2022-05-03T11:17:44.653Z"
   },
   {
    "duration": 14,
    "start_time": "2022-05-03T11:17:49.625Z"
   },
   {
    "duration": 17,
    "start_time": "2022-05-03T11:17:58.083Z"
   },
   {
    "duration": 504,
    "start_time": "2022-05-03T12:04:33.786Z"
   },
   {
    "duration": 4,
    "start_time": "2022-05-03T12:04:34.292Z"
   },
   {
    "duration": 10,
    "start_time": "2022-05-03T12:04:34.298Z"
   },
   {
    "duration": 21,
    "start_time": "2022-05-03T12:04:34.310Z"
   },
   {
    "duration": 4,
    "start_time": "2022-05-03T12:04:34.332Z"
   },
   {
    "duration": 17,
    "start_time": "2022-05-03T12:04:34.337Z"
   },
   {
    "duration": 30,
    "start_time": "2022-05-03T12:04:34.355Z"
   },
   {
    "duration": 7,
    "start_time": "2022-05-03T12:04:34.387Z"
   },
   {
    "duration": 11,
    "start_time": "2022-05-03T12:04:34.395Z"
   },
   {
    "duration": 6,
    "start_time": "2022-05-03T12:04:34.409Z"
   },
   {
    "duration": 10,
    "start_time": "2022-05-03T12:04:34.416Z"
   },
   {
    "duration": 19,
    "start_time": "2022-05-03T12:04:34.428Z"
   },
   {
    "duration": 6,
    "start_time": "2022-05-03T12:04:34.486Z"
   },
   {
    "duration": 18,
    "start_time": "2022-05-03T12:04:34.494Z"
   },
   {
    "duration": 18,
    "start_time": "2022-05-03T12:04:34.514Z"
   },
   {
    "duration": 17,
    "start_time": "2022-05-03T12:04:34.534Z"
   },
   {
    "duration": 39,
    "start_time": "2022-05-03T12:04:34.553Z"
   },
   {
    "duration": 13,
    "start_time": "2022-05-03T12:04:34.593Z"
   },
   {
    "duration": 50,
    "start_time": "2022-05-03T12:04:34.608Z"
   },
   {
    "duration": 16,
    "start_time": "2022-05-03T12:04:34.681Z"
   },
   {
    "duration": 13,
    "start_time": "2022-05-03T12:04:34.698Z"
   },
   {
    "duration": 17,
    "start_time": "2022-05-03T12:04:34.712Z"
   },
   {
    "duration": 14,
    "start_time": "2022-05-03T12:04:34.730Z"
   },
   {
    "duration": 46,
    "start_time": "2022-05-03T12:04:34.746Z"
   },
   {
    "duration": 5,
    "start_time": "2022-05-03T12:04:34.793Z"
   },
   {
    "duration": 5,
    "start_time": "2022-05-03T12:04:34.800Z"
   },
   {
    "duration": 29,
    "start_time": "2022-05-03T12:04:34.807Z"
   },
   {
    "duration": 48,
    "start_time": "2022-05-03T12:04:34.839Z"
   },
   {
    "duration": 26,
    "start_time": "2022-05-03T12:04:34.889Z"
   },
   {
    "duration": 28,
    "start_time": "2022-05-03T12:04:34.917Z"
   },
   {
    "duration": 118,
    "start_time": "2022-05-03T12:32:30.758Z"
   },
   {
    "duration": 630,
    "start_time": "2022-05-03T15:05:56.413Z"
   },
   {
    "duration": 6,
    "start_time": "2022-05-03T15:05:57.046Z"
   },
   {
    "duration": 9,
    "start_time": "2022-05-03T15:05:57.055Z"
   },
   {
    "duration": 58,
    "start_time": "2022-05-03T15:05:57.067Z"
   },
   {
    "duration": 6,
    "start_time": "2022-05-03T15:05:57.129Z"
   },
   {
    "duration": 16,
    "start_time": "2022-05-03T15:05:57.137Z"
   },
   {
    "duration": 15,
    "start_time": "2022-05-03T15:05:57.156Z"
   },
   {
    "duration": 12,
    "start_time": "2022-05-03T15:05:57.173Z"
   },
   {
    "duration": 53,
    "start_time": "2022-05-03T15:05:57.187Z"
   },
   {
    "duration": 11,
    "start_time": "2022-05-03T15:05:57.243Z"
   },
   {
    "duration": 11,
    "start_time": "2022-05-03T15:05:57.257Z"
   },
   {
    "duration": 66,
    "start_time": "2022-05-03T15:05:57.271Z"
   },
   {
    "duration": 4,
    "start_time": "2022-05-03T15:12:02.725Z"
   },
   {
    "duration": 94,
    "start_time": "2022-05-03T15:13:21.913Z"
   },
   {
    "duration": 18,
    "start_time": "2022-05-03T15:13:22.009Z"
   },
   {
    "duration": 12,
    "start_time": "2022-05-03T15:13:22.029Z"
   },
   {
    "duration": 26,
    "start_time": "2022-05-03T15:13:22.043Z"
   },
   {
    "duration": 5,
    "start_time": "2022-05-03T15:13:22.073Z"
   },
   {
    "duration": 19,
    "start_time": "2022-05-03T15:13:22.080Z"
   },
   {
    "duration": 31,
    "start_time": "2022-05-03T15:13:22.101Z"
   },
   {
    "duration": 11,
    "start_time": "2022-05-03T15:13:22.134Z"
   },
   {
    "duration": 13,
    "start_time": "2022-05-03T15:13:22.147Z"
   },
   {
    "duration": 9,
    "start_time": "2022-05-03T15:13:22.162Z"
   },
   {
    "duration": 15,
    "start_time": "2022-05-03T15:13:22.173Z"
   },
   {
    "duration": 4,
    "start_time": "2022-05-03T15:13:22.225Z"
   },
   {
    "duration": 436,
    "start_time": "2022-05-03T15:13:22.231Z"
   },
   {
    "duration": 11,
    "start_time": "2022-05-03T15:13:22.671Z"
   },
   {
    "duration": 16,
    "start_time": "2022-05-03T15:13:22.685Z"
   },
   {
    "duration": 105,
    "start_time": "2022-05-03T15:48:19.435Z"
   },
   {
    "duration": 7,
    "start_time": "2022-05-03T15:48:19.544Z"
   },
   {
    "duration": 26,
    "start_time": "2022-05-03T15:48:19.553Z"
   },
   {
    "duration": 48,
    "start_time": "2022-05-03T15:48:19.582Z"
   },
   {
    "duration": 6,
    "start_time": "2022-05-03T15:48:19.633Z"
   },
   {
    "duration": 32,
    "start_time": "2022-05-03T15:48:19.642Z"
   },
   {
    "duration": 11,
    "start_time": "2022-05-03T15:48:19.677Z"
   },
   {
    "duration": 38,
    "start_time": "2022-05-03T15:48:19.691Z"
   },
   {
    "duration": 16,
    "start_time": "2022-05-03T15:48:19.732Z"
   },
   {
    "duration": 17,
    "start_time": "2022-05-03T15:48:19.752Z"
   },
   {
    "duration": 10,
    "start_time": "2022-05-03T15:48:19.771Z"
   },
   {
    "duration": 64,
    "start_time": "2022-05-03T15:48:19.784Z"
   },
   {
    "duration": 9,
    "start_time": "2022-05-03T15:48:19.851Z"
   },
   {
    "duration": 27,
    "start_time": "2022-05-03T15:48:19.862Z"
   },
   {
    "duration": 29,
    "start_time": "2022-05-03T15:48:19.924Z"
   },
   {
    "duration": 39,
    "start_time": "2022-05-03T15:48:19.955Z"
   },
   {
    "duration": 54,
    "start_time": "2022-05-03T15:48:19.998Z"
   },
   {
    "duration": 32,
    "start_time": "2022-05-03T15:48:20.056Z"
   },
   {
    "duration": 165,
    "start_time": "2022-05-03T15:48:20.091Z"
   },
   {
    "duration": 35,
    "start_time": "2022-05-03T15:48:20.260Z"
   },
   {
    "duration": 56,
    "start_time": "2022-05-03T15:48:20.298Z"
   },
   {
    "duration": 70,
    "start_time": "2022-05-03T15:48:20.357Z"
   },
   {
    "duration": 35,
    "start_time": "2022-05-03T15:48:20.430Z"
   },
   {
    "duration": 56,
    "start_time": "2022-05-03T15:48:20.469Z"
   },
   {
    "duration": 8,
    "start_time": "2022-05-03T15:48:20.529Z"
   },
   {
    "duration": 22,
    "start_time": "2022-05-03T15:48:20.539Z"
   },
   {
    "duration": 65,
    "start_time": "2022-05-03T15:48:20.564Z"
   },
   {
    "duration": 40,
    "start_time": "2022-05-03T15:48:20.633Z"
   },
   {
    "duration": 72,
    "start_time": "2022-05-03T15:48:20.676Z"
   },
   {
    "duration": 7,
    "start_time": "2022-05-03T15:48:33.471Z"
   },
   {
    "duration": 554,
    "start_time": "2022-05-03T15:49:22.287Z"
   },
   {
    "duration": 371,
    "start_time": "2022-05-03T15:51:01.295Z"
   },
   {
    "duration": 251,
    "start_time": "2022-05-03T15:51:18.172Z"
   },
   {
    "duration": 244,
    "start_time": "2022-05-03T15:51:55.229Z"
   },
   {
    "duration": 681,
    "start_time": "2022-05-03T16:52:08.599Z"
   },
   {
    "duration": 6,
    "start_time": "2022-05-03T16:52:09.282Z"
   },
   {
    "duration": 24,
    "start_time": "2022-05-03T16:52:09.290Z"
   },
   {
    "duration": 22,
    "start_time": "2022-05-03T16:52:09.324Z"
   },
   {
    "duration": 10,
    "start_time": "2022-05-03T16:52:09.348Z"
   },
   {
    "duration": 22,
    "start_time": "2022-05-03T16:52:09.360Z"
   },
   {
    "duration": 11,
    "start_time": "2022-05-03T16:52:09.384Z"
   },
   {
    "duration": 34,
    "start_time": "2022-05-03T16:52:09.397Z"
   },
   {
    "duration": 24,
    "start_time": "2022-05-03T16:52:09.433Z"
   },
   {
    "duration": 9,
    "start_time": "2022-05-03T16:52:09.462Z"
   },
   {
    "duration": 21,
    "start_time": "2022-05-03T16:52:09.473Z"
   },
   {
    "duration": 33,
    "start_time": "2022-05-03T16:52:09.524Z"
   },
   {
    "duration": 9,
    "start_time": "2022-05-03T16:52:09.559Z"
   },
   {
    "duration": 64,
    "start_time": "2022-05-03T16:52:09.570Z"
   },
   {
    "duration": 31,
    "start_time": "2022-05-03T16:52:09.636Z"
   },
   {
    "duration": 28,
    "start_time": "2022-05-03T16:52:09.670Z"
   },
   {
    "duration": 21,
    "start_time": "2022-05-03T16:52:09.726Z"
   },
   {
    "duration": 21,
    "start_time": "2022-05-03T16:52:09.749Z"
   },
   {
    "duration": 107,
    "start_time": "2022-05-03T16:52:09.772Z"
   },
   {
    "duration": 21,
    "start_time": "2022-05-03T16:52:09.881Z"
   },
   {
    "duration": 21,
    "start_time": "2022-05-03T16:52:09.924Z"
   },
   {
    "duration": 30,
    "start_time": "2022-05-03T16:52:09.947Z"
   },
   {
    "duration": 50,
    "start_time": "2022-05-03T16:52:09.979Z"
   },
   {
    "duration": 23,
    "start_time": "2022-05-03T16:52:10.031Z"
   },
   {
    "duration": 14,
    "start_time": "2022-05-03T16:52:10.056Z"
   },
   {
    "duration": 9,
    "start_time": "2022-05-03T16:52:10.072Z"
   },
   {
    "duration": 81,
    "start_time": "2022-05-03T16:52:10.083Z"
   },
   {
    "duration": 37,
    "start_time": "2022-05-03T16:52:10.168Z"
   },
   {
    "duration": 42,
    "start_time": "2022-05-03T16:52:10.224Z"
   },
   {
    "duration": 6,
    "start_time": "2022-05-03T16:52:10.268Z"
   },
   {
    "duration": 896,
    "start_time": "2022-05-03T16:52:10.276Z"
   },
   {
    "duration": 65,
    "start_time": "2022-05-03T16:52:11.174Z"
   },
   {
    "duration": 157,
    "start_time": "2022-05-03T16:58:59.925Z"
   },
   {
    "duration": 8,
    "start_time": "2022-05-03T17:00:07.912Z"
   },
   {
    "duration": 239,
    "start_time": "2022-05-03T17:04:34.963Z"
   },
   {
    "duration": 6,
    "start_time": "2022-05-03T17:08:48.124Z"
   },
   {
    "duration": 396,
    "start_time": "2022-05-03T17:12:09.528Z"
   },
   {
    "duration": 280,
    "start_time": "2022-05-03T17:12:28.274Z"
   },
   {
    "duration": 429,
    "start_time": "2022-05-03T17:14:24.482Z"
   },
   {
    "duration": 426,
    "start_time": "2022-05-03T17:27:20.074Z"
   },
   {
    "duration": 455,
    "start_time": "2022-05-03T17:27:26.445Z"
   },
   {
    "duration": 487,
    "start_time": "2022-05-03T17:28:13.449Z"
   },
   {
    "duration": 96,
    "start_time": "2022-05-03T17:29:15.762Z"
   }
  ],
  "kernelspec": {
   "display_name": "Python 3 (ipykernel)",
   "language": "python",
   "name": "python3"
  },
  "language_info": {
   "codemirror_mode": {
    "name": "ipython",
    "version": 3
   },
   "file_extension": ".py",
   "mimetype": "text/x-python",
   "name": "python",
   "nbconvert_exporter": "python",
   "pygments_lexer": "ipython3",
   "version": "3.9.12"
  },
  "toc": {
   "base_numbering": 1,
   "nav_menu": {},
   "number_sections": true,
   "sideBar": true,
   "skip_h1_title": true,
   "title_cell": "Table of Contents",
   "title_sidebar": "Contents",
   "toc_cell": false,
   "toc_position": {},
   "toc_section_display": true,
   "toc_window_display": true
  }
 },
 "nbformat": 4,
 "nbformat_minor": 5
}
