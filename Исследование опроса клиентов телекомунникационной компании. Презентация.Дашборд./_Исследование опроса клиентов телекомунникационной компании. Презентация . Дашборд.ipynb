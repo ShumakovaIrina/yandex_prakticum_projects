{
 "cells": [
  {
   "cell_type": "markdown",
   "id": "b2e25b8e",
   "metadata": {
    "tags": [
     "aa81075c-062f-4de0-b5fe-14c73dc7468e"
    ]
   },
   "source": [
    "#  Исследование текущиго уровня потребительской лояльности NPS (Net Promoter Score)телеком компании. "
   ]
  },
  {
   "cell_type": "markdown",
   "id": "4132bae7",
   "metadata": {},
   "source": [
    "# Описание данных\n",
    "\n",
    "*Таблица user*\n",
    "\n",
    "Содержит основную информацию о клиентах.\n",
    "\n",
    "\n",
    "user_id\tИдентификатор клиента, первичный ключ таблицы\n",
    "\n",
    "lt_day\tКоличество дней «жизни» клиента\n",
    "\n",
    "age\tВозраст клиента в годах\n",
    "\n",
    "gender_segment\tПол клиента (1 – женщина, 0 – мужчина)\n",
    "\n",
    "os_name\tТип операционной системы\n",
    "\n",
    "cpe_type_name\tТип устройства\n",
    "\n",
    "location_id\tИдентификатор домашнего региона клиента, внешний ключ, отсылающий к таблице location\n",
    "\n",
    "age_gr_id\tИдентификатор возрастного сегмента клиента, внешний ключ, отсылающий к таблице age_segment\n",
    "\n",
    "tr_gr_id\tИдентификатор сегмента клиента по объёму потребляемого трафика в месяц, внешний ключ, отсылающий к таблице \n",
    "traffic_segment\n",
    "\n",
    "lt_gr_id\tИдентификатор сегмента клиента по количеству месяцев «жизни», внешний ключ, отсылающий к таблице lifetime_segment\n",
    "\n",
    "nps_score\tОценка клиента в NPS-опросе (от 1 до 10)\n",
    "\n",
    "*Таблица location*\n",
    "\n",
    "Справочник территорий, в которых телеком-компания оказывает услуги.\n",
    "\n",
    "\n",
    "location_id\tИдентификатор записи, первичный ключ\n",
    "\n",
    "\n",
    "country\tСтрана\n",
    "\n",
    "city\tГород\n",
    "\n",
    "*Таблица age_segment*\n",
    "\n",
    "Данные о возрастных сегментах клиентов.\n",
    "\n",
    "age_gr_id\tИдентификатор сегмента, первичный ключ\n",
    "\n",
    "bucket_min\tМинимальная граница сегмента\n",
    "\n",
    "bucket_max\tМаксимальная граница сегмента\n",
    "\n",
    "title\tНазвание сегмента\n",
    "\n",
    "*Таблица traffic_segment*\n",
    "\n",
    "Данные о выделяемых сегментах по объёму потребляемого трафика.\n",
    "\n",
    "tr_gr_id\tИдентификатор сегмента, первичный ключ\n",
    "\n",
    "bucket_min\tМинимальная граница сегмента\n",
    "\n",
    "bucket_max\tМаксимальная граница сегмента\n",
    "\n",
    "title\tНазвание сегмента\n",
    "\n",
    "*Таблица lifetime_segment*\n",
    "\n",
    "Данные о выделяемых сегментах по количеству месяцев «жизни» клиента — лайфтайму.\n",
    "\n",
    "lt_gr_id\tИдентификатор сегмента, первичный ключ\n",
    "\n",
    "bucket_min\tМинимальная граница сегмента\n",
    "\n",
    "bucket_max\tМаксимальная граница сегмента\n",
    "\n",
    "title\tНазвание сегмента\n"
   ]
  },
  {
   "cell_type": "code",
   "execution_count": 2,
   "id": "3dd48ec3",
   "metadata": {},
   "outputs": [],
   "source": [
    "import pandas as pd\n",
    "import numpy as np\n",
    "\n",
    "from sqlalchemy import create_engine"
   ]
  },
  {
   "cell_type": "code",
   "execution_count": 2,
   "id": "79cb1590",
   "metadata": {},
   "outputs": [],
   "source": [
    "path_to_db = '/datasets/telecomm_csi.db'\n",
    "engine = create_engine(f'sqlite:///{path_to_db}', echo = False)"
   ]
  },
  {
   "cell_type": "code",
   "execution_count": 3,
   "id": "90ec5732",
   "metadata": {},
   "outputs": [],
   "source": [
    "query = \"\"\"\n",
    "SELECT u.user_id ,\n",
    "       u.lt_day,\n",
    "       u.age,\n",
    "       u.gender_segment,\n",
    "       u.os_name,\n",
    "       u.cpe_type_name,\n",
    "       l. country,\n",
    "       l.city,\n",
    "       a_s. title AS age_segment,\n",
    "       t_s.title AS traffic_segment,\n",
    "       l_s.title AS lifetime_segment,\n",
    "       u.nps_score,\n",
    "       \n",
    "CASE\n",
    "    WHEN  lt_day <=365 \n",
    "    THEN 'new '\n",
    "    WHEN lt_day >365\n",
    "THEN 'old'\n",
    "END \n",
    "AS is_new,\n",
    "CASE\n",
    "    WHEN nps_score >= 9\n",
    "    THEN 'promoters'\n",
    "    WHEN nps_score>=7\n",
    "    THEN 'passives'\n",
    "    WHEN nps_score>0\n",
    "    THEN 'detractors'\n",
    "    END \n",
    "    AS nps_group\n",
    "\n",
    "FROM  user AS u\n",
    "LEFT OUTER JOIN location AS l ON u.location_id= l.location_id \n",
    "LEFT OUTER JOIN age_segment AS a_s ON  u.age_gr_id =a_s.age_gr_id\n",
    "LEFT OUTER JOIN traffic_segment AS t_s ON u.tr_gr_id= t_s.tr_gr_id\n",
    "LEFT OUTER JOIN lifetime_segment AS l_s ON u.lt_gr_id =l_s.lt_gr_id\n",
    ";\n",
    "\"\"\""
   ]
  },
  {
   "cell_type": "code",
   "execution_count": 4,
   "id": "d1998335",
   "metadata": {
    "scrolled": true
   },
   "outputs": [
    {
     "data": {
      "text/html": [
       "<div>\n",
       "<style scoped>\n",
       "    .dataframe tbody tr th:only-of-type {\n",
       "        vertical-align: middle;\n",
       "    }\n",
       "\n",
       "    .dataframe tbody tr th {\n",
       "        vertical-align: top;\n",
       "    }\n",
       "\n",
       "    .dataframe thead th {\n",
       "        text-align: right;\n",
       "    }\n",
       "</style>\n",
       "<table border=\"1\" class=\"dataframe\">\n",
       "  <thead>\n",
       "    <tr style=\"text-align: right;\">\n",
       "      <th></th>\n",
       "      <th>user_id</th>\n",
       "      <th>lt_day</th>\n",
       "      <th>age</th>\n",
       "      <th>gender_segment</th>\n",
       "      <th>os_name</th>\n",
       "      <th>cpe_type_name</th>\n",
       "      <th>country</th>\n",
       "      <th>city</th>\n",
       "      <th>age_segment</th>\n",
       "      <th>traffic_segment</th>\n",
       "      <th>lifetime_segment</th>\n",
       "      <th>nps_score</th>\n",
       "      <th>is_new</th>\n",
       "      <th>nps_group</th>\n",
       "    </tr>\n",
       "  </thead>\n",
       "  <tbody>\n",
       "    <tr>\n",
       "      <th>0</th>\n",
       "      <td>A001A2</td>\n",
       "      <td>2320</td>\n",
       "      <td>45.0</td>\n",
       "      <td>1.0</td>\n",
       "      <td>ANDROID</td>\n",
       "      <td>SMARTPHONE</td>\n",
       "      <td>Россия</td>\n",
       "      <td>Уфа</td>\n",
       "      <td>05 45-54</td>\n",
       "      <td>04 1-5</td>\n",
       "      <td>08 36+</td>\n",
       "      <td>10</td>\n",
       "      <td>old</td>\n",
       "      <td>promoters</td>\n",
       "    </tr>\n",
       "    <tr>\n",
       "      <th>1</th>\n",
       "      <td>A001WF</td>\n",
       "      <td>2344</td>\n",
       "      <td>53.0</td>\n",
       "      <td>0.0</td>\n",
       "      <td>ANDROID</td>\n",
       "      <td>SMARTPHONE</td>\n",
       "      <td>Россия</td>\n",
       "      <td>Киров</td>\n",
       "      <td>05 45-54</td>\n",
       "      <td>04 1-5</td>\n",
       "      <td>08 36+</td>\n",
       "      <td>10</td>\n",
       "      <td>old</td>\n",
       "      <td>promoters</td>\n",
       "    </tr>\n",
       "    <tr>\n",
       "      <th>2</th>\n",
       "      <td>A003Q7</td>\n",
       "      <td>467</td>\n",
       "      <td>57.0</td>\n",
       "      <td>0.0</td>\n",
       "      <td>ANDROID</td>\n",
       "      <td>SMARTPHONE</td>\n",
       "      <td>Россия</td>\n",
       "      <td>Москва</td>\n",
       "      <td>06 55-64</td>\n",
       "      <td>08 20-25</td>\n",
       "      <td>06 13-24</td>\n",
       "      <td>10</td>\n",
       "      <td>old</td>\n",
       "      <td>promoters</td>\n",
       "    </tr>\n",
       "  </tbody>\n",
       "</table>\n",
       "</div>"
      ],
      "text/plain": [
       "  user_id  lt_day   age  gender_segment  os_name cpe_type_name country  \\\n",
       "0  A001A2    2320  45.0             1.0  ANDROID    SMARTPHONE  Россия   \n",
       "1  A001WF    2344  53.0             0.0  ANDROID    SMARTPHONE  Россия   \n",
       "2  A003Q7     467  57.0             0.0  ANDROID    SMARTPHONE  Россия   \n",
       "\n",
       "     city age_segment traffic_segment lifetime_segment  nps_score is_new  \\\n",
       "0     Уфа    05 45-54          04 1-5           08 36+         10    old   \n",
       "1   Киров    05 45-54          04 1-5           08 36+         10    old   \n",
       "2  Москва    06 55-64        08 20-25         06 13-24         10    old   \n",
       "\n",
       "   nps_group  \n",
       "0  promoters  \n",
       "1  promoters  \n",
       "2  promoters  "
      ]
     },
     "execution_count": 4,
     "metadata": {},
     "output_type": "execute_result"
    }
   ],
   "source": [
    "df = pd.read_sql(query, engine)\n",
    "df.head(3)"
   ]
  },
  {
   "cell_type": "code",
   "execution_count": 5,
   "id": "a6509bbb",
   "metadata": {},
   "outputs": [],
   "source": [
    "df.to_csv('telecomm_csi_tableau.csv', index=False)"
   ]
  },
  {
   "cell_type": "code",
   "execution_count": 9,
   "id": "92770a1d",
   "metadata": {},
   "outputs": [
    {
     "data": {
      "text/html": [
       "<div>\n",
       "<style scoped>\n",
       "    .dataframe tbody tr th:only-of-type {\n",
       "        vertical-align: middle;\n",
       "    }\n",
       "\n",
       "    .dataframe tbody tr th {\n",
       "        vertical-align: top;\n",
       "    }\n",
       "\n",
       "    .dataframe thead th {\n",
       "        text-align: right;\n",
       "    }\n",
       "</style>\n",
       "<table border=\"1\" class=\"dataframe\">\n",
       "  <thead>\n",
       "    <tr style=\"text-align: right;\">\n",
       "      <th></th>\n",
       "      <th>age_segment</th>\n",
       "    </tr>\n",
       "  </thead>\n",
       "  <tbody>\n",
       "    <tr>\n",
       "      <th>0</th>\n",
       "      <td>до 16</td>\n",
       "    </tr>\n",
       "    <tr>\n",
       "      <th>1</th>\n",
       "      <td>16-24</td>\n",
       "    </tr>\n",
       "    <tr>\n",
       "      <th>2</th>\n",
       "      <td>25-34</td>\n",
       "    </tr>\n",
       "    <tr>\n",
       "      <th>3</th>\n",
       "      <td>35-44</td>\n",
       "    </tr>\n",
       "    <tr>\n",
       "      <th>4</th>\n",
       "      <td>45-54</td>\n",
       "    </tr>\n",
       "    <tr>\n",
       "      <th>5</th>\n",
       "      <td>55-64</td>\n",
       "    </tr>\n",
       "    <tr>\n",
       "      <th>6</th>\n",
       "      <td>66 +</td>\n",
       "    </tr>\n",
       "    <tr>\n",
       "      <th>7</th>\n",
       "      <td>n/a</td>\n",
       "    </tr>\n",
       "  </tbody>\n",
       "</table>\n",
       "</div>"
      ],
      "text/plain": [
       "  age_segment\n",
       "0       до 16\n",
       "1       16-24\n",
       "2       25-34\n",
       "3       35-44\n",
       "4       45-54\n",
       "5       55-64\n",
       "6        66 +\n",
       "7         n/a"
      ]
     },
     "execution_count": 9,
     "metadata": {},
     "output_type": "execute_result"
    }
   ],
   "source": [
    "# Код ревьюера\n",
    "query = \"\"\"\n",
    "SELECT substr(title, 4) AS age_segment\n",
    "FROM age_segment\n",
    "       \"\"\"\n",
    "\n",
    "pd.read_sql(query, engine)"
   ]
  },
  {
   "cell_type": "markdown",
   "id": "edd85fd0",
   "metadata": {},
   "source": [
    "### Укажите ссылку на дашборд на сайте Tableau Public:"
   ]
  },
  {
   "cell_type": "markdown",
   "id": "a8a573ed",
   "metadata": {},
   "source": [
    "https://public.tableau.com/views/telecom_csi_tableau/Dashboard3?:language=en-US&publish=yes&:display_count=n&:origin=viz_share_link\n",
    "\n",
    " \n",
    "                    "
   ]
  },
  {
   "cell_type": "code",
   "execution_count": 7,
   "id": "2f30bfbb",
   "metadata": {},
   "outputs": [
    {
     "data": {
      "text/html": [
       "<div>\n",
       "<style scoped>\n",
       "    .dataframe tbody tr th:only-of-type {\n",
       "        vertical-align: middle;\n",
       "    }\n",
       "\n",
       "    .dataframe tbody tr th {\n",
       "        vertical-align: top;\n",
       "    }\n",
       "\n",
       "    .dataframe thead th {\n",
       "        text-align: right;\n",
       "    }\n",
       "</style>\n",
       "<table border=\"1\" class=\"dataframe\">\n",
       "  <thead>\n",
       "    <tr style=\"text-align: right;\">\n",
       "      <th></th>\n",
       "      <th>lifetime_segment</th>\n",
       "      <th>01 1</th>\n",
       "      <th>02 2</th>\n",
       "      <th>03 3</th>\n",
       "      <th>04 4-6</th>\n",
       "      <th>05 7-12</th>\n",
       "      <th>06 13-24</th>\n",
       "      <th>07 25-36</th>\n",
       "      <th>08 36+</th>\n",
       "    </tr>\n",
       "    <tr>\n",
       "      <th>gender_segment</th>\n",
       "      <th>age_segment</th>\n",
       "      <th></th>\n",
       "      <th></th>\n",
       "      <th></th>\n",
       "      <th></th>\n",
       "      <th></th>\n",
       "      <th></th>\n",
       "      <th></th>\n",
       "      <th></th>\n",
       "    </tr>\n",
       "  </thead>\n",
       "  <tbody>\n",
       "    <tr>\n",
       "      <th rowspan=\"8\" valign=\"top\">0.0</th>\n",
       "      <th>01 до 16</th>\n",
       "      <td>NaN</td>\n",
       "      <td>0.000000</td>\n",
       "      <td>0.357143</td>\n",
       "      <td>0.058824</td>\n",
       "      <td>0.000000</td>\n",
       "      <td>0.041096</td>\n",
       "      <td>-0.092308</td>\n",
       "      <td>-0.286765</td>\n",
       "    </tr>\n",
       "    <tr>\n",
       "      <th>02 16-24</th>\n",
       "      <td>NaN</td>\n",
       "      <td>0.182390</td>\n",
       "      <td>0.211240</td>\n",
       "      <td>0.205832</td>\n",
       "      <td>0.186634</td>\n",
       "      <td>0.059398</td>\n",
       "      <td>-0.030520</td>\n",
       "      <td>-0.104258</td>\n",
       "    </tr>\n",
       "    <tr>\n",
       "      <th>03 25-34</th>\n",
       "      <td>0.000000</td>\n",
       "      <td>0.285943</td>\n",
       "      <td>0.291468</td>\n",
       "      <td>0.274569</td>\n",
       "      <td>0.237321</td>\n",
       "      <td>0.153785</td>\n",
       "      <td>0.087561</td>\n",
       "      <td>-0.042019</td>\n",
       "    </tr>\n",
       "    <tr>\n",
       "      <th>04 35-44</th>\n",
       "      <td>0.333333</td>\n",
       "      <td>0.371588</td>\n",
       "      <td>0.400000</td>\n",
       "      <td>0.375661</td>\n",
       "      <td>0.368573</td>\n",
       "      <td>0.308812</td>\n",
       "      <td>0.217884</td>\n",
       "      <td>0.100904</td>\n",
       "    </tr>\n",
       "    <tr>\n",
       "      <th>05 45-54</th>\n",
       "      <td>1.000000</td>\n",
       "      <td>0.536913</td>\n",
       "      <td>0.493590</td>\n",
       "      <td>0.417763</td>\n",
       "      <td>0.448566</td>\n",
       "      <td>0.376032</td>\n",
       "      <td>0.311503</td>\n",
       "      <td>0.223342</td>\n",
       "    </tr>\n",
       "    <tr>\n",
       "      <th>06 55-64</th>\n",
       "      <td>1.000000</td>\n",
       "      <td>0.393548</td>\n",
       "      <td>0.540146</td>\n",
       "      <td>0.572482</td>\n",
       "      <td>0.469546</td>\n",
       "      <td>0.427167</td>\n",
       "      <td>0.392430</td>\n",
       "      <td>0.334850</td>\n",
       "    </tr>\n",
       "    <tr>\n",
       "      <th>07 66 +</th>\n",
       "      <td>NaN</td>\n",
       "      <td>0.673913</td>\n",
       "      <td>0.696970</td>\n",
       "      <td>0.573913</td>\n",
       "      <td>0.544444</td>\n",
       "      <td>0.473451</td>\n",
       "      <td>0.387205</td>\n",
       "      <td>0.437282</td>\n",
       "    </tr>\n",
       "    <tr>\n",
       "      <th>08 n/a</th>\n",
       "      <td>0.000000</td>\n",
       "      <td>-1.000000</td>\n",
       "      <td>NaN</td>\n",
       "      <td>-0.500000</td>\n",
       "      <td>-1.000000</td>\n",
       "      <td>-0.333333</td>\n",
       "      <td>-1.000000</td>\n",
       "      <td>-0.538462</td>\n",
       "    </tr>\n",
       "    <tr>\n",
       "      <th rowspan=\"8\" valign=\"top\">1.0</th>\n",
       "      <th>01 до 16</th>\n",
       "      <td>NaN</td>\n",
       "      <td>0.500000</td>\n",
       "      <td>0.111111</td>\n",
       "      <td>0.222222</td>\n",
       "      <td>0.200000</td>\n",
       "      <td>0.017857</td>\n",
       "      <td>0.076923</td>\n",
       "      <td>-0.106383</td>\n",
       "    </tr>\n",
       "    <tr>\n",
       "      <th>02 16-24</th>\n",
       "      <td>NaN</td>\n",
       "      <td>0.245045</td>\n",
       "      <td>0.236111</td>\n",
       "      <td>0.271100</td>\n",
       "      <td>0.164977</td>\n",
       "      <td>0.087361</td>\n",
       "      <td>0.019798</td>\n",
       "      <td>-0.065762</td>\n",
       "    </tr>\n",
       "    <tr>\n",
       "      <th>03 25-34</th>\n",
       "      <td>1.000000</td>\n",
       "      <td>0.316308</td>\n",
       "      <td>0.359766</td>\n",
       "      <td>0.319668</td>\n",
       "      <td>0.291300</td>\n",
       "      <td>0.214059</td>\n",
       "      <td>0.145153</td>\n",
       "      <td>0.027744</td>\n",
       "    </tr>\n",
       "    <tr>\n",
       "      <th>04 35-44</th>\n",
       "      <td>0.333333</td>\n",
       "      <td>0.450846</td>\n",
       "      <td>0.431775</td>\n",
       "      <td>0.449479</td>\n",
       "      <td>0.390759</td>\n",
       "      <td>0.332435</td>\n",
       "      <td>0.277917</td>\n",
       "      <td>0.175038</td>\n",
       "    </tr>\n",
       "    <tr>\n",
       "      <th>05 45-54</th>\n",
       "      <td>1.000000</td>\n",
       "      <td>0.516770</td>\n",
       "      <td>0.584877</td>\n",
       "      <td>0.546698</td>\n",
       "      <td>0.484736</td>\n",
       "      <td>0.438341</td>\n",
       "      <td>0.360275</td>\n",
       "      <td>0.300104</td>\n",
       "    </tr>\n",
       "    <tr>\n",
       "      <th>06 55-64</th>\n",
       "      <td>NaN</td>\n",
       "      <td>0.644828</td>\n",
       "      <td>0.555066</td>\n",
       "      <td>0.584660</td>\n",
       "      <td>0.583396</td>\n",
       "      <td>0.518766</td>\n",
       "      <td>0.475520</td>\n",
       "      <td>0.417602</td>\n",
       "    </tr>\n",
       "    <tr>\n",
       "      <th>07 66 +</th>\n",
       "      <td>NaN</td>\n",
       "      <td>0.540000</td>\n",
       "      <td>0.531915</td>\n",
       "      <td>0.537143</td>\n",
       "      <td>0.640898</td>\n",
       "      <td>0.565394</td>\n",
       "      <td>0.559633</td>\n",
       "      <td>0.536269</td>\n",
       "    </tr>\n",
       "    <tr>\n",
       "      <th>08 n/a</th>\n",
       "      <td>1.000000</td>\n",
       "      <td>NaN</td>\n",
       "      <td>NaN</td>\n",
       "      <td>NaN</td>\n",
       "      <td>1.000000</td>\n",
       "      <td>0.500000</td>\n",
       "      <td>-0.333333</td>\n",
       "      <td>-0.285714</td>\n",
       "    </tr>\n",
       "  </tbody>\n",
       "</table>\n",
       "</div>"
      ],
      "text/plain": [
       "lifetime_segment                01 1      02 2      03 3    04 4-6   05 7-12  \\\n",
       "gender_segment age_segment                                                     \n",
       "0.0            01 до 16          NaN  0.000000  0.357143  0.058824  0.000000   \n",
       "               02 16-24          NaN  0.182390  0.211240  0.205832  0.186634   \n",
       "               03 25-34     0.000000  0.285943  0.291468  0.274569  0.237321   \n",
       "               04 35-44     0.333333  0.371588  0.400000  0.375661  0.368573   \n",
       "               05 45-54     1.000000  0.536913  0.493590  0.417763  0.448566   \n",
       "               06 55-64     1.000000  0.393548  0.540146  0.572482  0.469546   \n",
       "               07 66 +           NaN  0.673913  0.696970  0.573913  0.544444   \n",
       "               08 n/a       0.000000 -1.000000       NaN -0.500000 -1.000000   \n",
       "1.0            01 до 16          NaN  0.500000  0.111111  0.222222  0.200000   \n",
       "               02 16-24          NaN  0.245045  0.236111  0.271100  0.164977   \n",
       "               03 25-34     1.000000  0.316308  0.359766  0.319668  0.291300   \n",
       "               04 35-44     0.333333  0.450846  0.431775  0.449479  0.390759   \n",
       "               05 45-54     1.000000  0.516770  0.584877  0.546698  0.484736   \n",
       "               06 55-64          NaN  0.644828  0.555066  0.584660  0.583396   \n",
       "               07 66 +           NaN  0.540000  0.531915  0.537143  0.640898   \n",
       "               08 n/a       1.000000       NaN       NaN       NaN  1.000000   \n",
       "\n",
       "lifetime_segment            06 13-24  07 25-36    08 36+  \n",
       "gender_segment age_segment                                \n",
       "0.0            01 до 16     0.041096 -0.092308 -0.286765  \n",
       "               02 16-24     0.059398 -0.030520 -0.104258  \n",
       "               03 25-34     0.153785  0.087561 -0.042019  \n",
       "               04 35-44     0.308812  0.217884  0.100904  \n",
       "               05 45-54     0.376032  0.311503  0.223342  \n",
       "               06 55-64     0.427167  0.392430  0.334850  \n",
       "               07 66 +      0.473451  0.387205  0.437282  \n",
       "               08 n/a      -0.333333 -1.000000 -0.538462  \n",
       "1.0            01 до 16     0.017857  0.076923 -0.106383  \n",
       "               02 16-24     0.087361  0.019798 -0.065762  \n",
       "               03 25-34     0.214059  0.145153  0.027744  \n",
       "               04 35-44     0.332435  0.277917  0.175038  \n",
       "               05 45-54     0.438341  0.360275  0.300104  \n",
       "               06 55-64     0.518766  0.475520  0.417602  \n",
       "               07 66 +      0.565394  0.559633  0.536269  \n",
       "               08 n/a       0.500000 -0.333333 -0.285714  "
      ]
     },
     "metadata": {},
     "output_type": "display_data"
    },
    {
     "data": {
      "image/png": "[encoded data removed]",
      "text/plain": [
       "<Figure size 1080x576 with 2 Axes>"
      ]
     },
     "metadata": {
      "needs_background": "light"
     },
     "output_type": "display_data"
    }
   ],
   "source": [
    "# Код ревьюера\n",
    "import seaborn as sns\n",
    "import matplotlib.pyplot as plt\n",
    "d = df.assign(total_nps=lambda row: row['nps_group'].map({'promoters': 1, 'passives': 0, 'detractors': -1}))\\\n",
    "  .pivot_table(index=['gender_segment', 'age_segment'], columns=['lifetime_segment'], values='total_nps', aggfunc='mean')\n",
    "display(d)\n",
    "plt.figure(figsize=(15,8))\n",
    "sns.heatmap(d, annot=True);"
   ]
  },
  {
   "cell_type": "markdown",
   "id": "ada8aa9c",
   "metadata": {},
   "source": [
    "### Укажите ссылку на pdf-файл с презентацией:"
   ]
  },
  {
   "cell_type": "markdown",
   "id": "e8af29bb",
   "metadata": {},
   "source": [
    "https://1drv.ms/p/s!At5uE38o6zo9gkdxxgCThf-mgl-x?e=SKWaRc"
   ]
  }
 ],
 "metadata": {
  "ExecuteTimeLog": [
   {
    "duration": 752,
    "start_time": "2021-10-03T17:40:52.731Z"
   },
   {
    "duration": 20,
    "start_time": "2021-10-03T17:40:53.486Z"
   },
   {
    "duration": 4,
    "start_time": "2021-10-03T17:41:04.638Z"
   },
   {
    "duration": 461,
    "start_time": "2021-10-03T17:41:04.912Z"
   },
   {
    "duration": 284,
    "start_time": "2021-10-03T17:41:05.376Z"
   },
   {
    "duration": 574,
    "start_time": "2021-10-06T07:55:05.029Z"
   },
   {
    "duration": 6,
    "start_time": "2021-10-06T07:55:05.605Z"
   },
   {
    "duration": 3,
    "start_time": "2021-10-06T07:55:14.685Z"
   },
   {
    "duration": 406,
    "start_time": "2021-10-06T07:55:15.522Z"
   },
   {
    "duration": 67,
    "start_time": "2021-10-06T07:55:15.929Z"
   },
   {
    "duration": 840,
    "start_time": "2021-10-07T07:54:04.647Z"
   },
   {
    "duration": 10,
    "start_time": "2021-10-07T07:54:05.490Z"
   },
   {
    "duration": 4,
    "start_time": "2021-10-07T07:54:05.544Z"
   },
   {
    "duration": 391,
    "start_time": "2021-10-07T07:54:06.237Z"
   },
   {
    "duration": 293,
    "start_time": "2021-10-07T07:54:06.654Z"
   },
   {
    "duration": 548,
    "start_time": "2022-08-01T10:05:08.769Z"
   },
   {
    "duration": 25,
    "start_time": "2022-08-01T10:05:09.319Z"
   },
   {
    "duration": 2,
    "start_time": "2022-08-01T10:05:09.346Z"
   },
   {
    "duration": 604,
    "start_time": "2022-08-01T10:05:09.350Z"
   },
   {
    "duration": 109,
    "start_time": "2022-08-01T10:05:09.956Z"
   },
   {
    "duration": 529,
    "start_time": "2022-08-01T10:43:59.487Z"
   },
   {
    "duration": 9,
    "start_time": "2022-08-01T10:44:00.018Z"
   },
   {
    "duration": 6,
    "start_time": "2022-08-01T10:44:00.029Z"
   },
   {
    "duration": 550,
    "start_time": "2022-08-01T10:44:00.036Z"
   },
   {
    "duration": 75,
    "start_time": "2022-08-01T10:44:00.588Z"
   },
   {
    "duration": 0,
    "start_time": "2022-08-01T10:44:00.665Z"
   },
   {
    "duration": 44,
    "start_time": "2022-08-01T11:41:51.109Z"
   },
   {
    "duration": 49,
    "start_time": "2022-08-01T11:42:05.399Z"
   },
   {
    "duration": 3,
    "start_time": "2022-08-01T11:49:02.201Z"
   },
   {
    "duration": 49,
    "start_time": "2022-08-01T11:49:36.346Z"
   },
   {
    "duration": 64,
    "start_time": "2022-08-01T11:52:59.636Z"
   },
   {
    "duration": 49,
    "start_time": "2022-08-01T11:53:17.458Z"
   },
   {
    "duration": 73,
    "start_time": "2022-08-01T11:54:23.231Z"
   },
   {
    "duration": 85,
    "start_time": "2022-08-01T11:54:35.998Z"
   },
   {
    "duration": 65,
    "start_time": "2022-08-01T12:15:41.894Z"
   },
   {
    "duration": 80,
    "start_time": "2022-08-01T12:16:17.111Z"
   },
   {
    "duration": 47,
    "start_time": "2022-08-01T12:16:35.079Z"
   },
   {
    "duration": 4,
    "start_time": "2022-08-01T12:17:22.290Z"
   },
   {
    "duration": 102,
    "start_time": "2022-08-01T12:19:05.706Z"
   },
   {
    "duration": 2,
    "start_time": "2022-08-01T12:23:37.940Z"
   },
   {
    "duration": 3,
    "start_time": "2022-08-01T12:24:11.352Z"
   },
   {
    "duration": 642,
    "start_time": "2022-08-01T12:24:15.249Z"
   },
   {
    "duration": 500,
    "start_time": "2022-08-01T12:25:00.730Z"
   },
   {
    "duration": 9,
    "start_time": "2022-08-01T12:25:01.232Z"
   },
   {
    "duration": 25,
    "start_time": "2022-08-01T12:25:01.243Z"
   },
   {
    "duration": 763,
    "start_time": "2022-08-01T12:25:01.269Z"
   },
   {
    "duration": 0,
    "start_time": "2022-08-01T12:25:02.034Z"
   },
   {
    "duration": 2,
    "start_time": "2022-08-01T12:26:04.013Z"
   },
   {
    "duration": 601,
    "start_time": "2022-08-01T12:26:11.172Z"
   },
   {
    "duration": 3,
    "start_time": "2022-08-01T12:27:39.442Z"
   },
   {
    "duration": 597,
    "start_time": "2022-08-01T12:27:44.819Z"
   },
   {
    "duration": 2,
    "start_time": "2022-08-01T12:29:35.000Z"
   },
   {
    "duration": 488,
    "start_time": "2022-08-01T12:32:25.861Z"
   },
   {
    "duration": 9,
    "start_time": "2022-08-01T12:32:26.351Z"
   },
   {
    "duration": 2,
    "start_time": "2022-08-01T12:32:26.362Z"
   },
   {
    "duration": 645,
    "start_time": "2022-08-01T12:32:26.366Z"
   },
   {
    "duration": 0,
    "start_time": "2022-08-01T12:32:27.012Z"
   },
   {
    "duration": 2,
    "start_time": "2022-08-01T12:32:50.028Z"
   },
   {
    "duration": 575,
    "start_time": "2022-08-01T12:32:55.013Z"
   },
   {
    "duration": 3,
    "start_time": "2022-08-01T12:38:53.494Z"
   },
   {
    "duration": 331,
    "start_time": "2022-08-01T12:38:58.641Z"
   },
   {
    "duration": 2,
    "start_time": "2022-08-01T12:41:54.321Z"
   },
   {
    "duration": 591,
    "start_time": "2022-08-01T12:41:58.420Z"
   },
   {
    "duration": 3,
    "start_time": "2022-08-01T12:48:18.945Z"
   },
   {
    "duration": 332,
    "start_time": "2022-08-01T12:48:22.725Z"
   },
   {
    "duration": 503,
    "start_time": "2022-08-01T12:50:27.815Z"
   },
   {
    "duration": 9,
    "start_time": "2022-08-01T12:50:28.320Z"
   },
   {
    "duration": 3,
    "start_time": "2022-08-01T12:50:28.330Z"
   },
   {
    "duration": 426,
    "start_time": "2022-08-01T12:50:28.334Z"
   },
   {
    "duration": 0,
    "start_time": "2022-08-01T12:50:28.762Z"
   },
   {
    "duration": 2,
    "start_time": "2022-08-01T12:55:19.436Z"
   },
   {
    "duration": 602,
    "start_time": "2022-08-01T12:55:24.520Z"
   },
   {
    "duration": 2,
    "start_time": "2022-08-01T12:55:44.409Z"
   },
   {
    "duration": 4354,
    "start_time": "2022-08-01T12:55:48.930Z"
   },
   {
    "duration": 2845,
    "start_time": "2022-08-01T13:01:39.392Z"
   },
   {
    "duration": 3,
    "start_time": "2022-08-01T13:34:15.679Z"
   },
   {
    "duration": 572,
    "start_time": "2022-08-01T13:34:26.571Z"
   },
   {
    "duration": 10,
    "start_time": "2022-08-01T13:34:27.145Z"
   },
   {
    "duration": 3,
    "start_time": "2022-08-01T13:34:27.157Z"
   },
   {
    "duration": 413,
    "start_time": "2022-08-01T13:34:27.162Z"
   },
   {
    "duration": 0,
    "start_time": "2022-08-01T13:34:27.578Z"
   },
   {
    "duration": 2,
    "start_time": "2022-08-01T13:35:24.190Z"
   },
   {
    "duration": 332,
    "start_time": "2022-08-01T13:35:27.658Z"
   },
   {
    "duration": 3,
    "start_time": "2022-08-01T13:39:12.853Z"
   },
   {
    "duration": 3,
    "start_time": "2022-08-01T13:40:00.730Z"
   },
   {
    "duration": 3440,
    "start_time": "2022-08-01T13:40:04.847Z"
   },
   {
    "duration": 3,
    "start_time": "2022-08-01T13:51:24.353Z"
   },
   {
    "duration": 362,
    "start_time": "2022-08-01T13:51:44.502Z"
   },
   {
    "duration": 569,
    "start_time": "2022-08-01T13:52:03.131Z"
   },
   {
    "duration": 10,
    "start_time": "2022-08-01T13:52:03.701Z"
   },
   {
    "duration": 6,
    "start_time": "2022-08-01T13:52:03.712Z"
   },
   {
    "duration": 406,
    "start_time": "2022-08-01T13:52:03.720Z"
   },
   {
    "duration": 0,
    "start_time": "2022-08-01T13:52:04.128Z"
   },
   {
    "duration": 2,
    "start_time": "2022-08-01T13:52:19.198Z"
   },
   {
    "duration": 2,
    "start_time": "2022-08-01T13:53:01.630Z"
   },
   {
    "duration": 521,
    "start_time": "2022-08-01T13:53:10.903Z"
   },
   {
    "duration": 9,
    "start_time": "2022-08-01T13:53:11.427Z"
   },
   {
    "duration": 10,
    "start_time": "2022-08-01T13:53:11.438Z"
   },
   {
    "duration": 406,
    "start_time": "2022-08-01T13:53:11.450Z"
   },
   {
    "duration": 0,
    "start_time": "2022-08-01T13:53:11.858Z"
   },
   {
    "duration": 3,
    "start_time": "2022-08-01T13:58:55.847Z"
   },
   {
    "duration": 3635,
    "start_time": "2022-08-01T13:59:04.687Z"
   },
   {
    "duration": 3541,
    "start_time": "2022-08-01T14:01:08.251Z"
   },
   {
    "duration": 3,
    "start_time": "2022-08-01T14:05:35.312Z"
   },
   {
    "duration": 3870,
    "start_time": "2022-08-01T14:05:40.789Z"
   },
   {
    "duration": 546,
    "start_time": "2022-08-01T14:08:42.922Z"
   },
   {
    "duration": 12,
    "start_time": "2022-08-01T14:08:43.470Z"
   },
   {
    "duration": 14,
    "start_time": "2022-08-01T14:08:43.484Z"
   },
   {
    "duration": 3937,
    "start_time": "2022-08-01T14:08:43.500Z"
   },
   {
    "duration": 3156,
    "start_time": "2022-08-01T14:08:47.439Z"
   },
   {
    "duration": 527,
    "start_time": "2022-08-01T14:29:11.934Z"
   },
   {
    "duration": 10,
    "start_time": "2022-08-01T14:29:12.463Z"
   },
   {
    "duration": 3,
    "start_time": "2022-08-01T14:29:12.475Z"
   },
   {
    "duration": 4096,
    "start_time": "2022-08-01T14:29:12.480Z"
   },
   {
    "duration": 3347,
    "start_time": "2022-08-01T14:29:16.578Z"
   },
   {
    "duration": 564,
    "start_time": "2022-08-03T11:57:15.070Z"
   },
   {
    "duration": 9,
    "start_time": "2022-08-03T11:57:15.636Z"
   },
   {
    "duration": 3,
    "start_time": "2022-08-03T11:57:15.647Z"
   },
   {
    "duration": 5157,
    "start_time": "2022-08-03T11:57:15.651Z"
   },
   {
    "duration": 2758,
    "start_time": "2022-08-03T11:57:20.810Z"
   },
   {
    "duration": 531,
    "start_time": "2022-08-03T12:31:55.077Z"
   },
   {
    "duration": 9,
    "start_time": "2022-08-03T12:31:55.610Z"
   },
   {
    "duration": 3,
    "start_time": "2022-08-03T12:31:55.620Z"
   },
   {
    "duration": 659,
    "start_time": "2022-08-03T12:31:55.625Z"
   },
   {
    "duration": 0,
    "start_time": "2022-08-03T12:31:56.286Z"
   },
   {
    "duration": 3,
    "start_time": "2022-08-03T12:33:28.283Z"
   },
   {
    "duration": 546,
    "start_time": "2022-08-03T12:41:02.466Z"
   },
   {
    "duration": 10,
    "start_time": "2022-08-03T12:41:03.014Z"
   },
   {
    "duration": 3,
    "start_time": "2022-08-03T12:41:03.025Z"
   },
   {
    "duration": 9249,
    "start_time": "2022-08-03T12:41:03.030Z"
   },
   {
    "duration": 8347,
    "start_time": "2022-08-03T12:41:12.282Z"
   },
   {
    "duration": 3,
    "start_time": "2022-08-03T12:49:33.120Z"
   },
   {
    "duration": 505,
    "start_time": "2022-08-03T12:49:45.421Z"
   },
   {
    "duration": 10,
    "start_time": "2022-08-03T12:49:45.928Z"
   },
   {
    "duration": 3,
    "start_time": "2022-08-03T12:49:45.940Z"
   },
   {
    "duration": 9035,
    "start_time": "2022-08-03T12:49:45.945Z"
   },
   {
    "duration": 6678,
    "start_time": "2022-08-03T12:49:54.982Z"
   },
   {
    "duration": 3,
    "start_time": "2022-08-03T12:50:58.721Z"
   },
   {
    "duration": 3,
    "start_time": "2022-08-03T12:51:04.518Z"
   },
   {
    "duration": 3,
    "start_time": "2022-08-03T12:51:46.920Z"
   },
   {
    "duration": 590,
    "start_time": "2022-08-03T12:52:05.062Z"
   },
   {
    "duration": 11,
    "start_time": "2022-08-03T12:52:05.655Z"
   },
   {
    "duration": 3,
    "start_time": "2022-08-03T12:52:05.667Z"
   },
   {
    "duration": 417,
    "start_time": "2022-08-03T12:52:05.672Z"
   },
   {
    "duration": 0,
    "start_time": "2022-08-03T12:52:06.090Z"
   },
   {
    "duration": 3,
    "start_time": "2022-08-03T12:52:21.620Z"
   },
   {
    "duration": 3,
    "start_time": "2022-08-03T12:52:44.737Z"
   },
   {
    "duration": 9124,
    "start_time": "2022-08-03T12:52:51.520Z"
   },
   {
    "duration": 568,
    "start_time": "2022-08-03T13:23:25.327Z"
   },
   {
    "duration": 11,
    "start_time": "2022-08-03T13:23:25.897Z"
   },
   {
    "duration": 6,
    "start_time": "2022-08-03T13:23:25.909Z"
   },
   {
    "duration": 690,
    "start_time": "2022-08-03T13:23:25.917Z"
   },
   {
    "duration": 0,
    "start_time": "2022-08-03T13:23:26.609Z"
   },
   {
    "duration": 523,
    "start_time": "2022-08-03T13:24:14.133Z"
   },
   {
    "duration": 10,
    "start_time": "2022-08-03T13:24:14.659Z"
   },
   {
    "duration": 4,
    "start_time": "2022-08-03T13:24:14.670Z"
   },
   {
    "duration": 732,
    "start_time": "2022-08-03T13:24:14.676Z"
   },
   {
    "duration": 0,
    "start_time": "2022-08-03T13:24:15.410Z"
   },
   {
    "duration": 3,
    "start_time": "2022-08-03T13:25:27.360Z"
   },
   {
    "duration": 541,
    "start_time": "2022-08-03T13:25:43.999Z"
   },
   {
    "duration": 9,
    "start_time": "2022-08-03T13:25:44.542Z"
   },
   {
    "duration": 4,
    "start_time": "2022-08-03T13:25:44.552Z"
   },
   {
    "duration": 9055,
    "start_time": "2022-08-03T13:25:44.557Z"
   },
   {
    "duration": 6670,
    "start_time": "2022-08-03T13:25:53.615Z"
   },
   {
    "duration": 548,
    "start_time": "2022-08-03T13:28:31.920Z"
   },
   {
    "duration": 9,
    "start_time": "2022-08-03T13:28:32.470Z"
   },
   {
    "duration": 3,
    "start_time": "2022-08-03T13:28:32.481Z"
   },
   {
    "duration": 9090,
    "start_time": "2022-08-03T13:28:32.486Z"
   },
   {
    "duration": 6636,
    "start_time": "2022-08-03T13:28:41.579Z"
   },
   {
    "duration": 554,
    "start_time": "2022-08-03T13:29:41.968Z"
   },
   {
    "duration": 9,
    "start_time": "2022-08-03T13:29:42.524Z"
   },
   {
    "duration": 11,
    "start_time": "2022-08-03T13:29:42.534Z"
   },
   {
    "duration": 8964,
    "start_time": "2022-08-03T13:29:42.547Z"
   },
   {
    "duration": 6631,
    "start_time": "2022-08-03T13:29:51.513Z"
   },
   {
    "duration": 3,
    "start_time": "2022-08-03T13:35:44.427Z"
   },
   {
    "duration": 3,
    "start_time": "2022-08-03T13:35:47.642Z"
   },
   {
    "duration": 3,
    "start_time": "2022-08-03T13:35:50.440Z"
   },
   {
    "duration": 8487,
    "start_time": "2022-08-03T13:35:55.430Z"
   },
   {
    "duration": 6947,
    "start_time": "2022-08-03T13:36:03.919Z"
   },
   {
    "duration": 473,
    "start_time": "2022-08-03T13:41:37.557Z"
   },
   {
    "duration": 10,
    "start_time": "2022-08-03T13:41:38.032Z"
   },
   {
    "duration": 3,
    "start_time": "2022-08-03T13:41:38.044Z"
   },
   {
    "duration": 9100,
    "start_time": "2022-08-03T13:41:38.049Z"
   },
   {
    "duration": 7178,
    "start_time": "2022-08-03T13:41:47.150Z"
   },
   {
    "duration": 7083,
    "start_time": "2022-08-03T13:45:52.629Z"
   },
   {
    "duration": 535,
    "start_time": "2022-08-03T13:48:36.111Z"
   },
   {
    "duration": 10,
    "start_time": "2022-08-03T13:48:36.648Z"
   },
   {
    "duration": 3,
    "start_time": "2022-08-03T13:48:36.660Z"
   },
   {
    "duration": 9086,
    "start_time": "2022-08-03T13:48:36.664Z"
   },
   {
    "duration": 7133,
    "start_time": "2022-08-03T13:48:45.753Z"
   },
   {
    "duration": 521,
    "start_time": "2022-08-03T13:50:27.916Z"
   },
   {
    "duration": 10,
    "start_time": "2022-08-03T13:50:28.439Z"
   },
   {
    "duration": 4,
    "start_time": "2022-08-03T13:50:28.451Z"
   },
   {
    "duration": 8957,
    "start_time": "2022-08-03T13:50:28.457Z"
   },
   {
    "duration": 6884,
    "start_time": "2022-08-03T13:50:37.416Z"
   },
   {
    "duration": 970,
    "start_time": "2022-08-03T13:51:45.388Z"
   },
   {
    "duration": 523,
    "start_time": "2022-08-03T13:55:24.414Z"
   },
   {
    "duration": 10,
    "start_time": "2022-08-03T13:55:24.939Z"
   },
   {
    "duration": 3,
    "start_time": "2022-08-03T13:55:24.951Z"
   },
   {
    "duration": 9073,
    "start_time": "2022-08-03T13:55:24.956Z"
   },
   {
    "duration": 6983,
    "start_time": "2022-08-03T13:55:34.031Z"
   },
   {
    "duration": 628,
    "start_time": "2022-08-03T13:58:58.725Z"
   },
   {
    "duration": 10,
    "start_time": "2022-08-03T13:58:59.356Z"
   },
   {
    "duration": 4,
    "start_time": "2022-08-03T13:58:59.368Z"
   },
   {
    "duration": 9272,
    "start_time": "2022-08-03T13:58:59.374Z"
   },
   {
    "duration": 7355,
    "start_time": "2022-08-03T13:59:08.649Z"
   },
   {
    "duration": 557,
    "start_time": "2022-08-03T14:03:46.674Z"
   },
   {
    "duration": 9,
    "start_time": "2022-08-03T14:03:47.233Z"
   },
   {
    "duration": 3,
    "start_time": "2022-08-03T14:03:47.244Z"
   },
   {
    "duration": 9204,
    "start_time": "2022-08-03T14:03:47.248Z"
   },
   {
    "duration": 6933,
    "start_time": "2022-08-03T14:03:56.454Z"
   },
   {
    "duration": 8873,
    "start_time": "2022-08-03T14:04:06.677Z"
   },
   {
    "duration": 487,
    "start_time": "2022-08-03T14:05:54.553Z"
   },
   {
    "duration": 10,
    "start_time": "2022-08-03T14:05:55.042Z"
   },
   {
    "duration": 3,
    "start_time": "2022-08-03T14:05:55.054Z"
   },
   {
    "duration": 9140,
    "start_time": "2022-08-03T14:05:55.059Z"
   },
   {
    "duration": 6952,
    "start_time": "2022-08-03T14:06:04.203Z"
   },
   {
    "duration": 530,
    "start_time": "2022-08-03T14:36:29.223Z"
   },
   {
    "duration": 11,
    "start_time": "2022-08-03T14:36:29.756Z"
   },
   {
    "duration": 4,
    "start_time": "2022-08-03T14:36:29.769Z"
   },
   {
    "duration": 9193,
    "start_time": "2022-08-03T14:36:29.775Z"
   },
   {
    "duration": 7114,
    "start_time": "2022-08-03T14:36:38.972Z"
   },
   {
    "duration": 499,
    "start_time": "2022-08-03T15:07:55.736Z"
   },
   {
    "duration": 9,
    "start_time": "2022-08-03T15:07:56.237Z"
   },
   {
    "duration": 3,
    "start_time": "2022-08-03T15:07:56.249Z"
   },
   {
    "duration": 8972,
    "start_time": "2022-08-03T15:07:56.255Z"
   },
   {
    "duration": 7028,
    "start_time": "2022-08-03T15:08:05.228Z"
   },
   {
    "duration": 563,
    "start_time": "2022-08-03T15:59:08.972Z"
   },
   {
    "duration": 11,
    "start_time": "2022-08-03T15:59:09.537Z"
   },
   {
    "duration": 3,
    "start_time": "2022-08-03T15:59:09.549Z"
   },
   {
    "duration": 9229,
    "start_time": "2022-08-03T15:59:09.554Z"
   },
   {
    "duration": 6911,
    "start_time": "2022-08-03T15:59:18.785Z"
   },
   {
    "duration": 502,
    "start_time": "2022-08-05T09:30:16.011Z"
   },
   {
    "duration": 18,
    "start_time": "2022-08-05T09:30:16.516Z"
   },
   {
    "duration": 11,
    "start_time": "2022-08-05T09:30:16.535Z"
   },
   {
    "duration": 7832,
    "start_time": "2022-08-05T09:30:16.548Z"
   },
   {
    "duration": 7095,
    "start_time": "2022-08-05T09:30:24.383Z"
   },
   {
    "duration": 517,
    "start_time": "2022-08-05T09:45:42.010Z"
   },
   {
    "duration": 13,
    "start_time": "2022-08-05T09:45:42.530Z"
   },
   {
    "duration": 13,
    "start_time": "2022-08-05T09:45:42.544Z"
   },
   {
    "duration": 671,
    "start_time": "2022-08-05T09:45:42.559Z"
   },
   {
    "duration": 0,
    "start_time": "2022-08-05T09:45:43.231Z"
   },
   {
    "duration": 3,
    "start_time": "2022-08-05T09:49:53.431Z"
   },
   {
    "duration": 597,
    "start_time": "2022-08-05T09:49:58.310Z"
   },
   {
    "duration": 464,
    "start_time": "2022-08-05T09:50:22.762Z"
   },
   {
    "duration": 8,
    "start_time": "2022-08-05T09:50:23.228Z"
   },
   {
    "duration": 3,
    "start_time": "2022-08-05T09:50:23.238Z"
   },
   {
    "duration": 628,
    "start_time": "2022-08-05T09:50:23.243Z"
   },
   {
    "duration": 1,
    "start_time": "2022-08-05T09:50:23.873Z"
   },
   {
    "duration": 480,
    "start_time": "2022-08-05T10:05:56.373Z"
   },
   {
    "duration": 10,
    "start_time": "2022-08-05T10:05:56.856Z"
   },
   {
    "duration": 3,
    "start_time": "2022-08-05T10:05:56.867Z"
   },
   {
    "duration": 632,
    "start_time": "2022-08-05T10:05:56.872Z"
   },
   {
    "duration": 0,
    "start_time": "2022-08-05T10:05:57.505Z"
   },
   {
    "duration": 2,
    "start_time": "2022-08-05T10:07:17.273Z"
   },
   {
    "duration": 635,
    "start_time": "2022-08-05T10:07:22.258Z"
   },
   {
    "duration": 460,
    "start_time": "2022-08-05T10:10:36.459Z"
   },
   {
    "duration": 9,
    "start_time": "2022-08-05T10:10:36.921Z"
   },
   {
    "duration": 11,
    "start_time": "2022-08-05T10:10:36.931Z"
   },
   {
    "duration": 904,
    "start_time": "2022-08-05T10:10:36.944Z"
   },
   {
    "duration": 0,
    "start_time": "2022-08-05T10:10:37.850Z"
   },
   {
    "duration": 450,
    "start_time": "2022-08-05T10:16:01.364Z"
   },
   {
    "duration": 9,
    "start_time": "2022-08-05T10:16:01.816Z"
   },
   {
    "duration": 5,
    "start_time": "2022-08-05T10:16:01.826Z"
   },
   {
    "duration": 716,
    "start_time": "2022-08-05T10:16:01.832Z"
   },
   {
    "duration": 0,
    "start_time": "2022-08-05T10:16:02.550Z"
   },
   {
    "duration": 3,
    "start_time": "2022-08-05T10:18:47.584Z"
   },
   {
    "duration": 601,
    "start_time": "2022-08-05T10:18:52.328Z"
   },
   {
    "duration": 3,
    "start_time": "2022-08-05T10:26:07.757Z"
   },
   {
    "duration": 3,
    "start_time": "2022-08-05T10:28:16.860Z"
   },
   {
    "duration": 537,
    "start_time": "2022-08-05T10:28:31.532Z"
   },
   {
    "duration": 11,
    "start_time": "2022-08-05T10:28:32.071Z"
   },
   {
    "duration": 4,
    "start_time": "2022-08-05T10:28:32.083Z"
   },
   {
    "duration": 4598,
    "start_time": "2022-08-05T10:28:32.089Z"
   },
   {
    "duration": 4783,
    "start_time": "2022-08-05T10:28:36.690Z"
   },
   {
    "duration": 533,
    "start_time": "2022-08-05T10:36:11.497Z"
   },
   {
    "duration": 9,
    "start_time": "2022-08-05T10:36:12.032Z"
   },
   {
    "duration": 3,
    "start_time": "2022-08-05T10:36:12.042Z"
   },
   {
    "duration": 4477,
    "start_time": "2022-08-05T10:36:12.047Z"
   },
   {
    "duration": 3672,
    "start_time": "2022-08-05T10:36:16.526Z"
   },
   {
    "duration": 533,
    "start_time": "2022-08-07T13:09:22.678Z"
   },
   {
    "duration": 25,
    "start_time": "2022-08-07T13:09:23.213Z"
   },
   {
    "duration": 3,
    "start_time": "2022-08-07T13:09:23.240Z"
   },
   {
    "duration": 5163,
    "start_time": "2022-08-07T13:09:23.245Z"
   },
   {
    "duration": 3545,
    "start_time": "2022-08-07T13:09:28.410Z"
   },
   {
    "duration": 1223,
    "start_time": "2022-08-07T14:22:45.576Z"
   },
   {
    "duration": 12,
    "start_time": "2022-08-07T14:22:57.246Z"
   },
   {
    "duration": 489,
    "start_time": "2022-08-07T14:23:01.940Z"
   },
   {
    "duration": 10,
    "start_time": "2022-08-07T14:23:02.431Z"
   },
   {
    "duration": 3,
    "start_time": "2022-08-07T14:23:02.444Z"
   },
   {
    "duration": 4717,
    "start_time": "2022-08-07T14:23:02.448Z"
   },
   {
    "duration": 4033,
    "start_time": "2022-08-07T14:23:07.167Z"
   },
   {
    "duration": 3041,
    "start_time": "2022-08-07T14:23:11.202Z"
   },
   {
    "duration": 55,
    "start_time": "2022-08-07T20:35:01.517Z"
   },
   {
    "duration": 40,
    "start_time": "2022-08-08T15:12:28.464Z"
   },
   {
    "duration": 410,
    "start_time": "2022-08-08T15:12:34.864Z"
   },
   {
    "duration": 8,
    "start_time": "2022-08-08T15:12:35.276Z"
   },
   {
    "duration": 2,
    "start_time": "2022-08-08T15:12:35.286Z"
   },
   {
    "duration": 4880,
    "start_time": "2022-08-08T15:12:35.290Z"
   },
   {
    "duration": 3573,
    "start_time": "2022-08-08T15:12:40.172Z"
   },
   {
    "duration": 103,
    "start_time": "2022-08-08T15:12:43.746Z"
   },
   {
    "duration": 0,
    "start_time": "2022-08-08T15:12:43.851Z"
   },
   {
    "duration": 2645,
    "start_time": "2022-08-08T15:12:47.335Z"
   },
   {
    "duration": 540,
    "start_time": "2022-08-08T15:13:05.667Z"
   },
   {
    "duration": 532,
    "start_time": "2022-08-08T15:13:30.638Z"
   },
   {
    "duration": 21,
    "start_time": "2022-08-08T15:24:00.005Z"
   },
   {
    "duration": 5,
    "start_time": "2022-08-08T15:30:19.562Z"
   },
   {
    "duration": 60,
    "start_time": "2022-08-08T18:50:53.190Z"
   }
  ],
  "kernelspec": {
   "display_name": "Python 3 (ipykernel)",
   "language": "python",
   "name": "python3"
  },
  "language_info": {
   "codemirror_mode": {
    "name": "ipython",
    "version": 3
   },
   "file_extension": ".py",
   "mimetype": "text/x-python",
   "name": "python",
   "nbconvert_exporter": "python",
   "pygments_lexer": "ipython3",
   "version": "3.9.12"
  },
  "toc": {
   "base_numbering": 1,
   "nav_menu": {},
   "number_sections": true,
   "sideBar": true,
   "skip_h1_title": true,
   "title_cell": "Table of Contents",
   "title_sidebar": "Contents",
   "toc_cell": false,
   "toc_position": {},
   "toc_section_display": true,
   "toc_window_display": false
  }
 },
 "nbformat": 4,
 "nbformat_minor": 5
}
