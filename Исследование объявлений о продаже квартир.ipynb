{
 "cells": [
  {
   "cell_type": "markdown",
   "metadata": {},
   "source": [
    "# Исследование объявлений о продаже квартир\n",
    "\n",
    "Архив объявлений о продаже квартир в Санкт-Петербурге и соседних населённых пунктах за несколько лет. Нужно научиться определять рыночную стоимость объектов недвижимости. Ваша задача — установить параметры. Это позволит построить автоматизированную систему: она отследит аномалии и мошенническую деятельность. \n",
    "\n",
    "По каждой квартире на продажу доступны два вида данных. Первые вписаны пользователем, вторые получены автоматически на основе картографических данных. Например, расстояние до центра, аэропорта, ближайшего парка и водоёма. "
   ]
  },
  {
   "cell_type": "markdown",
   "metadata": {},
   "source": [
    "### Описание данных\n",
    "\n",
    "airports_nearest — расстояние до ближайшего аэропорта в метрах (м)\n",
    "\n",
    "balcony — число балконов\n",
    "\n",
    "ceiling_height — высота потолков (м)\n",
    "\n",
    "cityCenters_nearest — расстояние до центра города (м)\n",
    "\n",
    "days_exposition — сколько дней было размещено объявление (от публикации до снятия)\n",
    "\n",
    "first_day_exposition — дата публикации\n",
    "\n",
    "floor — этаж\n",
    "\n",
    "floors_total — всего этажей в доме\n",
    "\n",
    "is_apartment — апартаменты (булев тип)\n",
    "\n",
    "kitchen_area — площадь кухни в квадратных метрах (м²)\n",
    "\n",
    "last_price — цена на момент снятия с публикации\n",
    "\n",
    "living_area — жилая площадь в квадратных метрах (м²)\n",
    "\n",
    "locality_name — название населённого пункта\n",
    "\n",
    "open_plan — свободная планировка (булев тип)\n",
    "\n",
    "parks_around3000 — число парков в радиусе 3 км\n",
    "\n",
    "parks_nearest — расстояние до ближайшего парка (м)\n",
    "\n",
    "ponds_around3000 — число водоёмов в радиусе 3 км\n",
    "\n",
    "ponds_nearest — расстояние до ближайшего водоёма (м)\n",
    "\n",
    "rooms — число комнат\n",
    "\n",
    "studio — квартира-студия (булев тип)\n",
    "\n",
    "total_area — площадь квартиры в квадратных метрах (м²)\n",
    "\n",
    "total_images — число фотографий квартиры в объявлении\n"
   ]
  },
  {
   "cell_type": "markdown",
   "metadata": {},
   "source": [
    "## Изучение данных из файла"
   ]
  },
  {
   "cell_type": "code",
   "execution_count": 1,
   "metadata": {
    "scrolled": true
   },
   "outputs": [
    {
     "data": {
      "text/html": [
       "<div>\n",
       "<style scoped>\n",
       "    .dataframe tbody tr th:only-of-type {\n",
       "        vertical-align: middle;\n",
       "    }\n",
       "\n",
       "    .dataframe tbody tr th {\n",
       "        vertical-align: top;\n",
       "    }\n",
       "\n",
       "    .dataframe thead th {\n",
       "        text-align: right;\n",
       "    }\n",
       "</style>\n",
       "<table border=\"1\" class=\"dataframe\">\n",
       "  <thead>\n",
       "    <tr style=\"text-align: right;\">\n",
       "      <th></th>\n",
       "      <th>total_images</th>\n",
       "      <th>last_price</th>\n",
       "      <th>total_area</th>\n",
       "      <th>first_day_exposition</th>\n",
       "      <th>rooms</th>\n",
       "      <th>ceiling_height</th>\n",
       "      <th>floors_total</th>\n",
       "      <th>living_area</th>\n",
       "      <th>floor</th>\n",
       "      <th>is_apartment</th>\n",
       "      <th>...</th>\n",
       "      <th>kitchen_area</th>\n",
       "      <th>balcony</th>\n",
       "      <th>locality_name</th>\n",
       "      <th>airports_nearest</th>\n",
       "      <th>cityCenters_nearest</th>\n",
       "      <th>parks_around3000</th>\n",
       "      <th>parks_nearest</th>\n",
       "      <th>ponds_around3000</th>\n",
       "      <th>ponds_nearest</th>\n",
       "      <th>days_exposition</th>\n",
       "    </tr>\n",
       "  </thead>\n",
       "  <tbody>\n",
       "    <tr>\n",
       "      <th>0</th>\n",
       "      <td>20</td>\n",
       "      <td>13000000.0</td>\n",
       "      <td>108.00</td>\n",
       "      <td>2019-03-07T00:00:00</td>\n",
       "      <td>3</td>\n",
       "      <td>2.70</td>\n",
       "      <td>16.0</td>\n",
       "      <td>51.0</td>\n",
       "      <td>8</td>\n",
       "      <td>NaN</td>\n",
       "      <td>...</td>\n",
       "      <td>25.00</td>\n",
       "      <td>NaN</td>\n",
       "      <td>Санкт-Петербург</td>\n",
       "      <td>18863.0</td>\n",
       "      <td>16028.0</td>\n",
       "      <td>1.0</td>\n",
       "      <td>482.0</td>\n",
       "      <td>2.0</td>\n",
       "      <td>755.0</td>\n",
       "      <td>NaN</td>\n",
       "    </tr>\n",
       "    <tr>\n",
       "      <th>1</th>\n",
       "      <td>7</td>\n",
       "      <td>3350000.0</td>\n",
       "      <td>40.40</td>\n",
       "      <td>2018-12-04T00:00:00</td>\n",
       "      <td>1</td>\n",
       "      <td>NaN</td>\n",
       "      <td>11.0</td>\n",
       "      <td>18.6</td>\n",
       "      <td>1</td>\n",
       "      <td>NaN</td>\n",
       "      <td>...</td>\n",
       "      <td>11.00</td>\n",
       "      <td>2.0</td>\n",
       "      <td>посёлок Шушары</td>\n",
       "      <td>12817.0</td>\n",
       "      <td>18603.0</td>\n",
       "      <td>0.0</td>\n",
       "      <td>NaN</td>\n",
       "      <td>0.0</td>\n",
       "      <td>NaN</td>\n",
       "      <td>81.0</td>\n",
       "    </tr>\n",
       "    <tr>\n",
       "      <th>2</th>\n",
       "      <td>10</td>\n",
       "      <td>5196000.0</td>\n",
       "      <td>56.00</td>\n",
       "      <td>2015-08-20T00:00:00</td>\n",
       "      <td>2</td>\n",
       "      <td>NaN</td>\n",
       "      <td>5.0</td>\n",
       "      <td>34.3</td>\n",
       "      <td>4</td>\n",
       "      <td>NaN</td>\n",
       "      <td>...</td>\n",
       "      <td>8.30</td>\n",
       "      <td>0.0</td>\n",
       "      <td>Санкт-Петербург</td>\n",
       "      <td>21741.0</td>\n",
       "      <td>13933.0</td>\n",
       "      <td>1.0</td>\n",
       "      <td>90.0</td>\n",
       "      <td>2.0</td>\n",
       "      <td>574.0</td>\n",
       "      <td>558.0</td>\n",
       "    </tr>\n",
       "    <tr>\n",
       "      <th>3</th>\n",
       "      <td>0</td>\n",
       "      <td>64900000.0</td>\n",
       "      <td>159.00</td>\n",
       "      <td>2015-07-24T00:00:00</td>\n",
       "      <td>3</td>\n",
       "      <td>NaN</td>\n",
       "      <td>14.0</td>\n",
       "      <td>NaN</td>\n",
       "      <td>9</td>\n",
       "      <td>NaN</td>\n",
       "      <td>...</td>\n",
       "      <td>NaN</td>\n",
       "      <td>0.0</td>\n",
       "      <td>Санкт-Петербург</td>\n",
       "      <td>28098.0</td>\n",
       "      <td>6800.0</td>\n",
       "      <td>2.0</td>\n",
       "      <td>84.0</td>\n",
       "      <td>3.0</td>\n",
       "      <td>234.0</td>\n",
       "      <td>424.0</td>\n",
       "    </tr>\n",
       "    <tr>\n",
       "      <th>4</th>\n",
       "      <td>2</td>\n",
       "      <td>10000000.0</td>\n",
       "      <td>100.00</td>\n",
       "      <td>2018-06-19T00:00:00</td>\n",
       "      <td>2</td>\n",
       "      <td>3.03</td>\n",
       "      <td>14.0</td>\n",
       "      <td>32.0</td>\n",
       "      <td>13</td>\n",
       "      <td>NaN</td>\n",
       "      <td>...</td>\n",
       "      <td>41.00</td>\n",
       "      <td>NaN</td>\n",
       "      <td>Санкт-Петербург</td>\n",
       "      <td>31856.0</td>\n",
       "      <td>8098.0</td>\n",
       "      <td>2.0</td>\n",
       "      <td>112.0</td>\n",
       "      <td>1.0</td>\n",
       "      <td>48.0</td>\n",
       "      <td>121.0</td>\n",
       "    </tr>\n",
       "    <tr>\n",
       "      <th>...</th>\n",
       "      <td>...</td>\n",
       "      <td>...</td>\n",
       "      <td>...</td>\n",
       "      <td>...</td>\n",
       "      <td>...</td>\n",
       "      <td>...</td>\n",
       "      <td>...</td>\n",
       "      <td>...</td>\n",
       "      <td>...</td>\n",
       "      <td>...</td>\n",
       "      <td>...</td>\n",
       "      <td>...</td>\n",
       "      <td>...</td>\n",
       "      <td>...</td>\n",
       "      <td>...</td>\n",
       "      <td>...</td>\n",
       "      <td>...</td>\n",
       "      <td>...</td>\n",
       "      <td>...</td>\n",
       "      <td>...</td>\n",
       "      <td>...</td>\n",
       "    </tr>\n",
       "    <tr>\n",
       "      <th>23694</th>\n",
       "      <td>9</td>\n",
       "      <td>9700000.0</td>\n",
       "      <td>133.81</td>\n",
       "      <td>2017-03-21T00:00:00</td>\n",
       "      <td>3</td>\n",
       "      <td>3.70</td>\n",
       "      <td>5.0</td>\n",
       "      <td>73.3</td>\n",
       "      <td>3</td>\n",
       "      <td>NaN</td>\n",
       "      <td>...</td>\n",
       "      <td>13.83</td>\n",
       "      <td>NaN</td>\n",
       "      <td>Санкт-Петербург</td>\n",
       "      <td>24665.0</td>\n",
       "      <td>4232.0</td>\n",
       "      <td>1.0</td>\n",
       "      <td>796.0</td>\n",
       "      <td>3.0</td>\n",
       "      <td>381.0</td>\n",
       "      <td>NaN</td>\n",
       "    </tr>\n",
       "    <tr>\n",
       "      <th>23695</th>\n",
       "      <td>14</td>\n",
       "      <td>3100000.0</td>\n",
       "      <td>59.00</td>\n",
       "      <td>2018-01-15T00:00:00</td>\n",
       "      <td>3</td>\n",
       "      <td>NaN</td>\n",
       "      <td>5.0</td>\n",
       "      <td>38.0</td>\n",
       "      <td>4</td>\n",
       "      <td>NaN</td>\n",
       "      <td>...</td>\n",
       "      <td>8.50</td>\n",
       "      <td>NaN</td>\n",
       "      <td>Тосно</td>\n",
       "      <td>NaN</td>\n",
       "      <td>NaN</td>\n",
       "      <td>NaN</td>\n",
       "      <td>NaN</td>\n",
       "      <td>NaN</td>\n",
       "      <td>NaN</td>\n",
       "      <td>45.0</td>\n",
       "    </tr>\n",
       "    <tr>\n",
       "      <th>23696</th>\n",
       "      <td>18</td>\n",
       "      <td>2500000.0</td>\n",
       "      <td>56.70</td>\n",
       "      <td>2018-02-11T00:00:00</td>\n",
       "      <td>2</td>\n",
       "      <td>NaN</td>\n",
       "      <td>3.0</td>\n",
       "      <td>29.7</td>\n",
       "      <td>1</td>\n",
       "      <td>NaN</td>\n",
       "      <td>...</td>\n",
       "      <td>NaN</td>\n",
       "      <td>NaN</td>\n",
       "      <td>село Рождествено</td>\n",
       "      <td>NaN</td>\n",
       "      <td>NaN</td>\n",
       "      <td>NaN</td>\n",
       "      <td>NaN</td>\n",
       "      <td>NaN</td>\n",
       "      <td>NaN</td>\n",
       "      <td>NaN</td>\n",
       "    </tr>\n",
       "    <tr>\n",
       "      <th>23697</th>\n",
       "      <td>13</td>\n",
       "      <td>11475000.0</td>\n",
       "      <td>76.75</td>\n",
       "      <td>2017-03-28T00:00:00</td>\n",
       "      <td>2</td>\n",
       "      <td>3.00</td>\n",
       "      <td>17.0</td>\n",
       "      <td>NaN</td>\n",
       "      <td>12</td>\n",
       "      <td>NaN</td>\n",
       "      <td>...</td>\n",
       "      <td>23.30</td>\n",
       "      <td>2.0</td>\n",
       "      <td>Санкт-Петербург</td>\n",
       "      <td>39140.0</td>\n",
       "      <td>10364.0</td>\n",
       "      <td>2.0</td>\n",
       "      <td>173.0</td>\n",
       "      <td>3.0</td>\n",
       "      <td>196.0</td>\n",
       "      <td>602.0</td>\n",
       "    </tr>\n",
       "    <tr>\n",
       "      <th>23698</th>\n",
       "      <td>4</td>\n",
       "      <td>1350000.0</td>\n",
       "      <td>32.30</td>\n",
       "      <td>2017-07-21T00:00:00</td>\n",
       "      <td>1</td>\n",
       "      <td>2.50</td>\n",
       "      <td>5.0</td>\n",
       "      <td>12.3</td>\n",
       "      <td>1</td>\n",
       "      <td>NaN</td>\n",
       "      <td>...</td>\n",
       "      <td>9.00</td>\n",
       "      <td>NaN</td>\n",
       "      <td>поселок Новый Учхоз</td>\n",
       "      <td>NaN</td>\n",
       "      <td>NaN</td>\n",
       "      <td>NaN</td>\n",
       "      <td>NaN</td>\n",
       "      <td>NaN</td>\n",
       "      <td>NaN</td>\n",
       "      <td>NaN</td>\n",
       "    </tr>\n",
       "  </tbody>\n",
       "</table>\n",
       "<p>23699 rows × 22 columns</p>\n",
       "</div>"
      ],
      "text/plain": [
       "       total_images  last_price  total_area first_day_exposition  rooms  \\\n",
       "0                20  13000000.0      108.00  2019-03-07T00:00:00      3   \n",
       "1                 7   3350000.0       40.40  2018-12-04T00:00:00      1   \n",
       "2                10   5196000.0       56.00  2015-08-20T00:00:00      2   \n",
       "3                 0  64900000.0      159.00  2015-07-24T00:00:00      3   \n",
       "4                 2  10000000.0      100.00  2018-06-19T00:00:00      2   \n",
       "...             ...         ...         ...                  ...    ...   \n",
       "23694             9   9700000.0      133.81  2017-03-21T00:00:00      3   \n",
       "23695            14   3100000.0       59.00  2018-01-15T00:00:00      3   \n",
       "23696            18   2500000.0       56.70  2018-02-11T00:00:00      2   \n",
       "23697            13  11475000.0       76.75  2017-03-28T00:00:00      2   \n",
       "23698             4   1350000.0       32.30  2017-07-21T00:00:00      1   \n",
       "\n",
       "       ceiling_height  floors_total  living_area  floor is_apartment  ...  \\\n",
       "0                2.70          16.0         51.0      8          NaN  ...   \n",
       "1                 NaN          11.0         18.6      1          NaN  ...   \n",
       "2                 NaN           5.0         34.3      4          NaN  ...   \n",
       "3                 NaN          14.0          NaN      9          NaN  ...   \n",
       "4                3.03          14.0         32.0     13          NaN  ...   \n",
       "...               ...           ...          ...    ...          ...  ...   \n",
       "23694            3.70           5.0         73.3      3          NaN  ...   \n",
       "23695             NaN           5.0         38.0      4          NaN  ...   \n",
       "23696             NaN           3.0         29.7      1          NaN  ...   \n",
       "23697            3.00          17.0          NaN     12          NaN  ...   \n",
       "23698            2.50           5.0         12.3      1          NaN  ...   \n",
       "\n",
       "       kitchen_area  balcony        locality_name  airports_nearest  \\\n",
       "0             25.00      NaN      Санкт-Петербург           18863.0   \n",
       "1             11.00      2.0       посёлок Шушары           12817.0   \n",
       "2              8.30      0.0      Санкт-Петербург           21741.0   \n",
       "3               NaN      0.0      Санкт-Петербург           28098.0   \n",
       "4             41.00      NaN      Санкт-Петербург           31856.0   \n",
       "...             ...      ...                  ...               ...   \n",
       "23694         13.83      NaN      Санкт-Петербург           24665.0   \n",
       "23695          8.50      NaN                Тосно               NaN   \n",
       "23696           NaN      NaN     село Рождествено               NaN   \n",
       "23697         23.30      2.0      Санкт-Петербург           39140.0   \n",
       "23698          9.00      NaN  поселок Новый Учхоз               NaN   \n",
       "\n",
       "      cityCenters_nearest  parks_around3000  parks_nearest  ponds_around3000  \\\n",
       "0                 16028.0               1.0          482.0               2.0   \n",
       "1                 18603.0               0.0            NaN               0.0   \n",
       "2                 13933.0               1.0           90.0               2.0   \n",
       "3                  6800.0               2.0           84.0               3.0   \n",
       "4                  8098.0               2.0          112.0               1.0   \n",
       "...                   ...               ...            ...               ...   \n",
       "23694              4232.0               1.0          796.0               3.0   \n",
       "23695                 NaN               NaN            NaN               NaN   \n",
       "23696                 NaN               NaN            NaN               NaN   \n",
       "23697             10364.0               2.0          173.0               3.0   \n",
       "23698                 NaN               NaN            NaN               NaN   \n",
       "\n",
       "       ponds_nearest  days_exposition  \n",
       "0              755.0              NaN  \n",
       "1                NaN             81.0  \n",
       "2              574.0            558.0  \n",
       "3              234.0            424.0  \n",
       "4               48.0            121.0  \n",
       "...              ...              ...  \n",
       "23694          381.0              NaN  \n",
       "23695            NaN             45.0  \n",
       "23696            NaN              NaN  \n",
       "23697          196.0            602.0  \n",
       "23698            NaN              NaN  \n",
       "\n",
       "[23699 rows x 22 columns]"
      ]
     },
     "metadata": {},
     "output_type": "display_data"
    }
   ],
   "source": [
    "#импорт библиотеки и чтение файла с сохранением в df\n",
    "import pandas as pd\n",
    "import matplotlib.pyplot as plt\n",
    "df=pd.read_csv('/datasets/real_estate_data.csv',sep='\\t')\n",
    "\n",
    "display( df)"
   ]
  },
  {
   "cell_type": "code",
   "execution_count": 2,
   "metadata": {
    "scrolled": false
   },
   "outputs": [
    {
     "name": "stdout",
     "output_type": "stream",
     "text": [
      "<class 'pandas.core.frame.DataFrame'>\n",
      "RangeIndex: 23699 entries, 0 to 23698\n",
      "Data columns (total 22 columns):\n",
      " #   Column                Non-Null Count  Dtype  \n",
      "---  ------                --------------  -----  \n",
      " 0   total_images          23699 non-null  int64  \n",
      " 1   last_price            23699 non-null  float64\n",
      " 2   total_area            23699 non-null  float64\n",
      " 3   first_day_exposition  23699 non-null  object \n",
      " 4   rooms                 23699 non-null  int64  \n",
      " 5   ceiling_height        14504 non-null  float64\n",
      " 6   floors_total          23613 non-null  float64\n",
      " 7   living_area           21796 non-null  float64\n",
      " 8   floor                 23699 non-null  int64  \n",
      " 9   is_apartment          2775 non-null   object \n",
      " 10  studio                23699 non-null  bool   \n",
      " 11  open_plan             23699 non-null  bool   \n",
      " 12  kitchen_area          21421 non-null  float64\n",
      " 13  balcony               12180 non-null  float64\n",
      " 14  locality_name         23650 non-null  object \n",
      " 15  airports_nearest      18157 non-null  float64\n",
      " 16  cityCenters_nearest   18180 non-null  float64\n",
      " 17  parks_around3000      18181 non-null  float64\n",
      " 18  parks_nearest         8079 non-null   float64\n",
      " 19  ponds_around3000      18181 non-null  float64\n",
      " 20  ponds_nearest         9110 non-null   float64\n",
      " 21  days_exposition       20518 non-null  float64\n",
      "dtypes: bool(2), float64(14), int64(3), object(3)\n",
      "memory usage: 3.7+ MB\n"
     ]
    }
   ],
   "source": [
    "# общая информация  о таблице\n",
    "df.info()"
   ]
  },
  {
   "cell_type": "markdown",
   "metadata": {},
   "source": []
  },
  {
   "cell_type": "markdown",
   "metadata": {},
   "source": [
    "### Вывод"
   ]
  },
  {
   "cell_type": "markdown",
   "metadata": {},
   "source": [
    "<div class=\"alert alert-info\">При первичном анализе видны несоответствующие содержимому  в столбцах типы данных, а именно:\n",
    "    \n",
    "    1  общее кол-во этажей -вещественное число вместо целочисленного типа\n",
    "    \n",
    "    2 апартамент -объект вместо булева типа( апартамент-не апартамент)\n",
    "    \n",
    "    3 балконы-вещественное число вместо целочисленного\n",
    "    \n",
    "    4 объекты рядом( столбцы число  парков, водоемов)\n",
    "    "
   ]
  },
  {
   "cell_type": "markdown",
   "metadata": {},
   "source": [
    "## Предобработка данных"
   ]
  },
  {
   "cell_type": "code",
   "execution_count": 3,
   "metadata": {
    "scrolled": true
   },
   "outputs": [
    {
     "data": {
      "text/plain": [
       "total_images                0\n",
       "last_price                  0\n",
       "total_area                  0\n",
       "first_day_exposition        0\n",
       "rooms                       0\n",
       "ceiling_height           9195\n",
       "floors_total               86\n",
       "living_area              1903\n",
       "floor                       0\n",
       "is_apartment            20924\n",
       "studio                      0\n",
       "open_plan                   0\n",
       "kitchen_area             2278\n",
       "balcony                 11519\n",
       "locality_name              49\n",
       "airports_nearest         5542\n",
       "cityCenters_nearest      5519\n",
       "parks_around3000         5518\n",
       "parks_nearest           15620\n",
       "ponds_around3000         5518\n",
       "ponds_nearest           14589\n",
       "days_exposition          3181\n",
       "dtype: int64"
      ]
     },
     "execution_count": 3,
     "metadata": {},
     "output_type": "execute_result"
    }
   ],
   "source": [
    "# подсчет пропусков\n",
    "df.isna().sum()"
   ]
  },
  {
   "cell_type": "code",
   "execution_count": 4,
   "metadata": {},
   "outputs": [
    {
     "data": {
      "text/plain": [
       "0        0.0\n",
       "1        2.0\n",
       "2        0.0\n",
       "3        0.0\n",
       "4        0.0\n",
       "        ... \n",
       "23694    0.0\n",
       "23695    0.0\n",
       "23696    0.0\n",
       "23697    2.0\n",
       "23698    0.0\n",
       "Name: balcony, Length: 23699, dtype: float64"
      ]
     },
     "metadata": {},
     "output_type": "display_data"
    }
   ],
   "source": [
    "#Заполнение пропусков в колонке balcony на 0\n",
    "df['balcony']=df['balcony'].fillna(value=0)\n",
    "display(df['balcony'])"
   ]
  },
  {
   "cell_type": "code",
   "execution_count": 5,
   "metadata": {
    "scrolled": true
   },
   "outputs": [
    {
     "data": {
      "text/plain": [
       "0        0\n",
       "1        2\n",
       "2        0\n",
       "3        0\n",
       "4        0\n",
       "        ..\n",
       "23694    0\n",
       "23695    0\n",
       "23696    0\n",
       "23697    2\n",
       "23698    0\n",
       "Name: balcony, Length: 23699, dtype: int64"
      ]
     },
     "metadata": {},
     "output_type": "display_data"
    }
   ],
   "source": [
    "# замена вещественного типа данных в столбце balcony  на целочисленный\n",
    "df['balcony']=df['balcony'].astype('int')\n",
    "display(df['balcony'])"
   ]
  },
  {
   "cell_type": "markdown",
   "metadata": {},
   "source": [
    "<div class=\"alert alert-info\"> Пропуски в колонке балконы,наверное там ,где балконы отсутствуют, поэтому меняем на ноль, и заменяем тип данных на целочисленный"
   ]
  },
  {
   "cell_type": "code",
   "execution_count": 6,
   "metadata": {
    "scrolled": true
   },
   "outputs": [
    {
     "data": {
      "text/html": [
       "<div>\n",
       "<style scoped>\n",
       "    .dataframe tbody tr th:only-of-type {\n",
       "        vertical-align: middle;\n",
       "    }\n",
       "\n",
       "    .dataframe tbody tr th {\n",
       "        vertical-align: top;\n",
       "    }\n",
       "\n",
       "    .dataframe thead th {\n",
       "        text-align: right;\n",
       "    }\n",
       "</style>\n",
       "<table border=\"1\" class=\"dataframe\">\n",
       "  <thead>\n",
       "    <tr style=\"text-align: right;\">\n",
       "      <th></th>\n",
       "      <th>total_images</th>\n",
       "      <th>last_price</th>\n",
       "      <th>total_area</th>\n",
       "      <th>first_day_exposition</th>\n",
       "      <th>rooms</th>\n",
       "      <th>ceiling_height</th>\n",
       "      <th>floors_total</th>\n",
       "      <th>living_area</th>\n",
       "      <th>floor</th>\n",
       "      <th>is_apartment</th>\n",
       "      <th>...</th>\n",
       "      <th>kitchen_area</th>\n",
       "      <th>balcony</th>\n",
       "      <th>locality_name</th>\n",
       "      <th>airports_nearest</th>\n",
       "      <th>cityCenters_nearest</th>\n",
       "      <th>parks_around3000</th>\n",
       "      <th>parks_nearest</th>\n",
       "      <th>ponds_around3000</th>\n",
       "      <th>ponds_nearest</th>\n",
       "      <th>days_exposition</th>\n",
       "    </tr>\n",
       "  </thead>\n",
       "  <tbody>\n",
       "    <tr>\n",
       "      <th>0</th>\n",
       "      <td>20</td>\n",
       "      <td>13000000.0</td>\n",
       "      <td>108.00</td>\n",
       "      <td>2019-03-07T00:00:00</td>\n",
       "      <td>3</td>\n",
       "      <td>2.70</td>\n",
       "      <td>16.0</td>\n",
       "      <td>51.0</td>\n",
       "      <td>8</td>\n",
       "      <td>NaN</td>\n",
       "      <td>...</td>\n",
       "      <td>25.00</td>\n",
       "      <td>0</td>\n",
       "      <td>Санкт-Петербург</td>\n",
       "      <td>18863.0</td>\n",
       "      <td>16028.0</td>\n",
       "      <td>1.0</td>\n",
       "      <td>482.0</td>\n",
       "      <td>2.0</td>\n",
       "      <td>755.0</td>\n",
       "      <td>NaN</td>\n",
       "    </tr>\n",
       "    <tr>\n",
       "      <th>1</th>\n",
       "      <td>7</td>\n",
       "      <td>3350000.0</td>\n",
       "      <td>40.40</td>\n",
       "      <td>2018-12-04T00:00:00</td>\n",
       "      <td>1</td>\n",
       "      <td>2.65</td>\n",
       "      <td>11.0</td>\n",
       "      <td>18.6</td>\n",
       "      <td>1</td>\n",
       "      <td>NaN</td>\n",
       "      <td>...</td>\n",
       "      <td>11.00</td>\n",
       "      <td>2</td>\n",
       "      <td>посёлок Шушары</td>\n",
       "      <td>12817.0</td>\n",
       "      <td>18603.0</td>\n",
       "      <td>0.0</td>\n",
       "      <td>NaN</td>\n",
       "      <td>0.0</td>\n",
       "      <td>NaN</td>\n",
       "      <td>81.0</td>\n",
       "    </tr>\n",
       "    <tr>\n",
       "      <th>2</th>\n",
       "      <td>10</td>\n",
       "      <td>5196000.0</td>\n",
       "      <td>56.00</td>\n",
       "      <td>2015-08-20T00:00:00</td>\n",
       "      <td>2</td>\n",
       "      <td>2.65</td>\n",
       "      <td>5.0</td>\n",
       "      <td>34.3</td>\n",
       "      <td>4</td>\n",
       "      <td>NaN</td>\n",
       "      <td>...</td>\n",
       "      <td>8.30</td>\n",
       "      <td>0</td>\n",
       "      <td>Санкт-Петербург</td>\n",
       "      <td>21741.0</td>\n",
       "      <td>13933.0</td>\n",
       "      <td>1.0</td>\n",
       "      <td>90.0</td>\n",
       "      <td>2.0</td>\n",
       "      <td>574.0</td>\n",
       "      <td>558.0</td>\n",
       "    </tr>\n",
       "    <tr>\n",
       "      <th>3</th>\n",
       "      <td>0</td>\n",
       "      <td>64900000.0</td>\n",
       "      <td>159.00</td>\n",
       "      <td>2015-07-24T00:00:00</td>\n",
       "      <td>3</td>\n",
       "      <td>2.65</td>\n",
       "      <td>14.0</td>\n",
       "      <td>NaN</td>\n",
       "      <td>9</td>\n",
       "      <td>NaN</td>\n",
       "      <td>...</td>\n",
       "      <td>NaN</td>\n",
       "      <td>0</td>\n",
       "      <td>Санкт-Петербург</td>\n",
       "      <td>28098.0</td>\n",
       "      <td>6800.0</td>\n",
       "      <td>2.0</td>\n",
       "      <td>84.0</td>\n",
       "      <td>3.0</td>\n",
       "      <td>234.0</td>\n",
       "      <td>424.0</td>\n",
       "    </tr>\n",
       "    <tr>\n",
       "      <th>4</th>\n",
       "      <td>2</td>\n",
       "      <td>10000000.0</td>\n",
       "      <td>100.00</td>\n",
       "      <td>2018-06-19T00:00:00</td>\n",
       "      <td>2</td>\n",
       "      <td>3.03</td>\n",
       "      <td>14.0</td>\n",
       "      <td>32.0</td>\n",
       "      <td>13</td>\n",
       "      <td>NaN</td>\n",
       "      <td>...</td>\n",
       "      <td>41.00</td>\n",
       "      <td>0</td>\n",
       "      <td>Санкт-Петербург</td>\n",
       "      <td>31856.0</td>\n",
       "      <td>8098.0</td>\n",
       "      <td>2.0</td>\n",
       "      <td>112.0</td>\n",
       "      <td>1.0</td>\n",
       "      <td>48.0</td>\n",
       "      <td>121.0</td>\n",
       "    </tr>\n",
       "    <tr>\n",
       "      <th>...</th>\n",
       "      <td>...</td>\n",
       "      <td>...</td>\n",
       "      <td>...</td>\n",
       "      <td>...</td>\n",
       "      <td>...</td>\n",
       "      <td>...</td>\n",
       "      <td>...</td>\n",
       "      <td>...</td>\n",
       "      <td>...</td>\n",
       "      <td>...</td>\n",
       "      <td>...</td>\n",
       "      <td>...</td>\n",
       "      <td>...</td>\n",
       "      <td>...</td>\n",
       "      <td>...</td>\n",
       "      <td>...</td>\n",
       "      <td>...</td>\n",
       "      <td>...</td>\n",
       "      <td>...</td>\n",
       "      <td>...</td>\n",
       "      <td>...</td>\n",
       "    </tr>\n",
       "    <tr>\n",
       "      <th>23694</th>\n",
       "      <td>9</td>\n",
       "      <td>9700000.0</td>\n",
       "      <td>133.81</td>\n",
       "      <td>2017-03-21T00:00:00</td>\n",
       "      <td>3</td>\n",
       "      <td>3.70</td>\n",
       "      <td>5.0</td>\n",
       "      <td>73.3</td>\n",
       "      <td>3</td>\n",
       "      <td>NaN</td>\n",
       "      <td>...</td>\n",
       "      <td>13.83</td>\n",
       "      <td>0</td>\n",
       "      <td>Санкт-Петербург</td>\n",
       "      <td>24665.0</td>\n",
       "      <td>4232.0</td>\n",
       "      <td>1.0</td>\n",
       "      <td>796.0</td>\n",
       "      <td>3.0</td>\n",
       "      <td>381.0</td>\n",
       "      <td>NaN</td>\n",
       "    </tr>\n",
       "    <tr>\n",
       "      <th>23695</th>\n",
       "      <td>14</td>\n",
       "      <td>3100000.0</td>\n",
       "      <td>59.00</td>\n",
       "      <td>2018-01-15T00:00:00</td>\n",
       "      <td>3</td>\n",
       "      <td>2.65</td>\n",
       "      <td>5.0</td>\n",
       "      <td>38.0</td>\n",
       "      <td>4</td>\n",
       "      <td>NaN</td>\n",
       "      <td>...</td>\n",
       "      <td>8.50</td>\n",
       "      <td>0</td>\n",
       "      <td>Тосно</td>\n",
       "      <td>NaN</td>\n",
       "      <td>NaN</td>\n",
       "      <td>NaN</td>\n",
       "      <td>NaN</td>\n",
       "      <td>NaN</td>\n",
       "      <td>NaN</td>\n",
       "      <td>45.0</td>\n",
       "    </tr>\n",
       "    <tr>\n",
       "      <th>23696</th>\n",
       "      <td>18</td>\n",
       "      <td>2500000.0</td>\n",
       "      <td>56.70</td>\n",
       "      <td>2018-02-11T00:00:00</td>\n",
       "      <td>2</td>\n",
       "      <td>2.65</td>\n",
       "      <td>3.0</td>\n",
       "      <td>29.7</td>\n",
       "      <td>1</td>\n",
       "      <td>NaN</td>\n",
       "      <td>...</td>\n",
       "      <td>NaN</td>\n",
       "      <td>0</td>\n",
       "      <td>село Рождествено</td>\n",
       "      <td>NaN</td>\n",
       "      <td>NaN</td>\n",
       "      <td>NaN</td>\n",
       "      <td>NaN</td>\n",
       "      <td>NaN</td>\n",
       "      <td>NaN</td>\n",
       "      <td>NaN</td>\n",
       "    </tr>\n",
       "    <tr>\n",
       "      <th>23697</th>\n",
       "      <td>13</td>\n",
       "      <td>11475000.0</td>\n",
       "      <td>76.75</td>\n",
       "      <td>2017-03-28T00:00:00</td>\n",
       "      <td>2</td>\n",
       "      <td>3.00</td>\n",
       "      <td>17.0</td>\n",
       "      <td>NaN</td>\n",
       "      <td>12</td>\n",
       "      <td>NaN</td>\n",
       "      <td>...</td>\n",
       "      <td>23.30</td>\n",
       "      <td>2</td>\n",
       "      <td>Санкт-Петербург</td>\n",
       "      <td>39140.0</td>\n",
       "      <td>10364.0</td>\n",
       "      <td>2.0</td>\n",
       "      <td>173.0</td>\n",
       "      <td>3.0</td>\n",
       "      <td>196.0</td>\n",
       "      <td>602.0</td>\n",
       "    </tr>\n",
       "    <tr>\n",
       "      <th>23698</th>\n",
       "      <td>4</td>\n",
       "      <td>1350000.0</td>\n",
       "      <td>32.30</td>\n",
       "      <td>2017-07-21T00:00:00</td>\n",
       "      <td>1</td>\n",
       "      <td>2.50</td>\n",
       "      <td>5.0</td>\n",
       "      <td>12.3</td>\n",
       "      <td>1</td>\n",
       "      <td>NaN</td>\n",
       "      <td>...</td>\n",
       "      <td>9.00</td>\n",
       "      <td>0</td>\n",
       "      <td>поселок Новый Учхоз</td>\n",
       "      <td>NaN</td>\n",
       "      <td>NaN</td>\n",
       "      <td>NaN</td>\n",
       "      <td>NaN</td>\n",
       "      <td>NaN</td>\n",
       "      <td>NaN</td>\n",
       "      <td>NaN</td>\n",
       "    </tr>\n",
       "  </tbody>\n",
       "</table>\n",
       "<p>23699 rows × 22 columns</p>\n",
       "</div>"
      ],
      "text/plain": [
       "       total_images  last_price  total_area first_day_exposition  rooms  \\\n",
       "0                20  13000000.0      108.00  2019-03-07T00:00:00      3   \n",
       "1                 7   3350000.0       40.40  2018-12-04T00:00:00      1   \n",
       "2                10   5196000.0       56.00  2015-08-20T00:00:00      2   \n",
       "3                 0  64900000.0      159.00  2015-07-24T00:00:00      3   \n",
       "4                 2  10000000.0      100.00  2018-06-19T00:00:00      2   \n",
       "...             ...         ...         ...                  ...    ...   \n",
       "23694             9   9700000.0      133.81  2017-03-21T00:00:00      3   \n",
       "23695            14   3100000.0       59.00  2018-01-15T00:00:00      3   \n",
       "23696            18   2500000.0       56.70  2018-02-11T00:00:00      2   \n",
       "23697            13  11475000.0       76.75  2017-03-28T00:00:00      2   \n",
       "23698             4   1350000.0       32.30  2017-07-21T00:00:00      1   \n",
       "\n",
       "       ceiling_height  floors_total  living_area  floor is_apartment  ...  \\\n",
       "0                2.70          16.0         51.0      8          NaN  ...   \n",
       "1                2.65          11.0         18.6      1          NaN  ...   \n",
       "2                2.65           5.0         34.3      4          NaN  ...   \n",
       "3                2.65          14.0          NaN      9          NaN  ...   \n",
       "4                3.03          14.0         32.0     13          NaN  ...   \n",
       "...               ...           ...          ...    ...          ...  ...   \n",
       "23694            3.70           5.0         73.3      3          NaN  ...   \n",
       "23695            2.65           5.0         38.0      4          NaN  ...   \n",
       "23696            2.65           3.0         29.7      1          NaN  ...   \n",
       "23697            3.00          17.0          NaN     12          NaN  ...   \n",
       "23698            2.50           5.0         12.3      1          NaN  ...   \n",
       "\n",
       "       kitchen_area  balcony        locality_name  airports_nearest  \\\n",
       "0             25.00        0      Санкт-Петербург           18863.0   \n",
       "1             11.00        2       посёлок Шушары           12817.0   \n",
       "2              8.30        0      Санкт-Петербург           21741.0   \n",
       "3               NaN        0      Санкт-Петербург           28098.0   \n",
       "4             41.00        0      Санкт-Петербург           31856.0   \n",
       "...             ...      ...                  ...               ...   \n",
       "23694         13.83        0      Санкт-Петербург           24665.0   \n",
       "23695          8.50        0                Тосно               NaN   \n",
       "23696           NaN        0     село Рождествено               NaN   \n",
       "23697         23.30        2      Санкт-Петербург           39140.0   \n",
       "23698          9.00        0  поселок Новый Учхоз               NaN   \n",
       "\n",
       "      cityCenters_nearest  parks_around3000  parks_nearest  ponds_around3000  \\\n",
       "0                 16028.0               1.0          482.0               2.0   \n",
       "1                 18603.0               0.0            NaN               0.0   \n",
       "2                 13933.0               1.0           90.0               2.0   \n",
       "3                  6800.0               2.0           84.0               3.0   \n",
       "4                  8098.0               2.0          112.0               1.0   \n",
       "...                   ...               ...            ...               ...   \n",
       "23694              4232.0               1.0          796.0               3.0   \n",
       "23695                 NaN               NaN            NaN               NaN   \n",
       "23696                 NaN               NaN            NaN               NaN   \n",
       "23697             10364.0               2.0          173.0               3.0   \n",
       "23698                 NaN               NaN            NaN               NaN   \n",
       "\n",
       "       ponds_nearest  days_exposition  \n",
       "0              755.0              NaN  \n",
       "1                NaN             81.0  \n",
       "2              574.0            558.0  \n",
       "3              234.0            424.0  \n",
       "4               48.0            121.0  \n",
       "...              ...              ...  \n",
       "23694          381.0              NaN  \n",
       "23695            NaN             45.0  \n",
       "23696            NaN              NaN  \n",
       "23697          196.0            602.0  \n",
       "23698            NaN              NaN  \n",
       "\n",
       "[23699 rows x 22 columns]"
      ]
     },
     "metadata": {},
     "output_type": "display_data"
    }
   ],
   "source": [
    "# заполняем пропуски ceiling_height медианным значением по столбцу\n",
    "df['ceiling_height'] = df['ceiling_height'].fillna(df['ceiling_height'].median())\n",
    "display(df)"
   ]
  },
  {
   "cell_type": "markdown",
   "metadata": {},
   "source": [
    "<div class=\"alert alert-info\">Пропуски в столбце о высоте потолков логично заменить медианой, т.к. в типичных проектах при разной площади квартир и кол-ве комнат высота потолков одинакова  "
   ]
  },
  {
   "cell_type": "code",
   "execution_count": 7,
   "metadata": {
    "scrolled": true
   },
   "outputs": [
    {
     "data": {
      "text/plain": [
       "False    2725\n",
       "True       50\n",
       "Name: is_apartment, dtype: int64"
      ]
     },
     "execution_count": 7,
     "metadata": {},
     "output_type": "execute_result"
    }
   ],
   "source": [
    "df['is_apartment'].value_counts()\n",
    "\n",
    "\n"
   ]
  },
  {
   "cell_type": "code",
   "execution_count": 8,
   "metadata": {
    "scrolled": true
   },
   "outputs": [
    {
     "data": {
      "text/plain": [
       "count     23699\n",
       "unique        2\n",
       "top           0\n",
       "freq      23649\n",
       "Name: is_apartment, dtype: int64"
      ]
     },
     "execution_count": 8,
     "metadata": {},
     "output_type": "execute_result"
    }
   ],
   "source": [
    "df['is_apartment']=df['is_apartment'].fillna(0)\n",
    "df['is_apartment'].describe()\n",
    "\n"
   ]
  },
  {
   "cell_type": "code",
   "execution_count": 9,
   "metadata": {},
   "outputs": [
    {
     "data": {
      "text/plain": [
       "0        False\n",
       "1        False\n",
       "2        False\n",
       "3        False\n",
       "4        False\n",
       "         ...  \n",
       "23694    False\n",
       "23695    False\n",
       "23696    False\n",
       "23697    False\n",
       "23698    False\n",
       "Name: is_apartment, Length: 23699, dtype: bool"
      ]
     },
     "metadata": {},
     "output_type": "display_data"
    }
   ],
   "source": [
    "df['is_apartment']=df['is_apartment'].astype('bool')\n",
    "display(df['is_apartment'])"
   ]
  },
  {
   "cell_type": "markdown",
   "metadata": {},
   "source": [
    "<div class=\"alert alert-info\">пропуски в колонке аппартамент значат скорее что это не апартаменты , поэтому меняю сначала на 0 , а затем на булев тип( если сразу на булев, то слишком много аппартаментов))"
   ]
  },
  {
   "cell_type": "code",
   "execution_count": 10,
   "metadata": {
    "scrolled": true
   },
   "outputs": [
    {
     "data": {
      "text/plain": [
       "0        25.00\n",
       "1        11.00\n",
       "2         8.30\n",
       "3         0.00\n",
       "4        41.00\n",
       "         ...  \n",
       "23694    13.83\n",
       "23695     8.50\n",
       "23696     0.00\n",
       "23697    23.30\n",
       "23698     9.00\n",
       "Name: kitchen_area, Length: 23699, dtype: float64"
      ]
     },
     "metadata": {},
     "output_type": "display_data"
    }
   ],
   "source": [
    "#Заполнение пропусков в колонке kitchen_area на 0\n",
    "df['kitchen_area']=df['kitchen_area'].fillna(value=0)\n",
    "display(df['kitchen_area'])"
   ]
  },
  {
   "cell_type": "markdown",
   "metadata": {},
   "source": [
    "<div class=\"alert alert-info\">Кодом ниже пытаюсь заменить пропуски на медианы по кол-ву комнат объединением таблиц. Здесь вроде работает, но при дальнейших действиях в строках ниже опять происходит сбой на NAN(( Почему?"
   ]
  },
  {
   "cell_type": "markdown",
   "metadata": {},
   "source": [
    "```python\n",
    "\n",
    "    df[\"living_area\"] = df.groupby(\"rooms\").transform(lambda x: x.fillna(x.median()))\n",
    "    \n",
    "```"
   ]
  },
  {
   "cell_type": "code",
   "execution_count": 11,
   "metadata": {},
   "outputs": [
    {
     "data": {
      "text/plain": [
       "1     8047\n",
       "2     7940\n",
       "3     5814\n",
       "4     1180\n",
       "5      326\n",
       "0      197\n",
       "6      105\n",
       "7       59\n",
       "8       12\n",
       "9        8\n",
       "10       3\n",
       "11       2\n",
       "14       2\n",
       "19       1\n",
       "16       1\n",
       "12       1\n",
       "15       1\n",
       "Name: rooms, dtype: int64"
      ]
     },
     "execution_count": 11,
     "metadata": {},
     "output_type": "execute_result"
    }
   ],
   "source": [
    "df['rooms'].value_counts()\n"
   ]
  },
  {
   "cell_type": "code",
   "execution_count": 12,
   "metadata": {
    "scrolled": true
   },
   "outputs": [
    {
     "data": {
      "text/html": [
       "<div>\n",
       "<style scoped>\n",
       "    .dataframe tbody tr th:only-of-type {\n",
       "        vertical-align: middle;\n",
       "    }\n",
       "\n",
       "    .dataframe tbody tr th {\n",
       "        vertical-align: top;\n",
       "    }\n",
       "\n",
       "    .dataframe thead th {\n",
       "        text-align: right;\n",
       "    }\n",
       "</style>\n",
       "<table border=\"1\" class=\"dataframe\">\n",
       "  <thead>\n",
       "    <tr style=\"text-align: right;\">\n",
       "      <th></th>\n",
       "      <th>living_area</th>\n",
       "    </tr>\n",
       "    <tr>\n",
       "      <th>rooms</th>\n",
       "      <th></th>\n",
       "    </tr>\n",
       "  </thead>\n",
       "  <tbody>\n",
       "    <tr>\n",
       "      <th>0</th>\n",
       "      <td>18.000</td>\n",
       "    </tr>\n",
       "    <tr>\n",
       "      <th>1</th>\n",
       "      <td>17.600</td>\n",
       "    </tr>\n",
       "    <tr>\n",
       "      <th>2</th>\n",
       "      <td>30.500</td>\n",
       "    </tr>\n",
       "    <tr>\n",
       "      <th>3</th>\n",
       "      <td>45.000</td>\n",
       "    </tr>\n",
       "    <tr>\n",
       "      <th>4</th>\n",
       "      <td>63.600</td>\n",
       "    </tr>\n",
       "    <tr>\n",
       "      <th>5</th>\n",
       "      <td>91.785</td>\n",
       "    </tr>\n",
       "    <tr>\n",
       "      <th>6</th>\n",
       "      <td>123.900</td>\n",
       "    </tr>\n",
       "    <tr>\n",
       "      <th>7</th>\n",
       "      <td>145.000</td>\n",
       "    </tr>\n",
       "    <tr>\n",
       "      <th>8</th>\n",
       "      <td>161.000</td>\n",
       "    </tr>\n",
       "    <tr>\n",
       "      <th>9</th>\n",
       "      <td>179.200</td>\n",
       "    </tr>\n",
       "    <tr>\n",
       "      <th>10</th>\n",
       "      <td>161.400</td>\n",
       "    </tr>\n",
       "    <tr>\n",
       "      <th>11</th>\n",
       "      <td>133.900</td>\n",
       "    </tr>\n",
       "    <tr>\n",
       "      <th>12</th>\n",
       "      <td>409.700</td>\n",
       "    </tr>\n",
       "    <tr>\n",
       "      <th>14</th>\n",
       "      <td>195.150</td>\n",
       "    </tr>\n",
       "    <tr>\n",
       "      <th>15</th>\n",
       "      <td>409.000</td>\n",
       "    </tr>\n",
       "    <tr>\n",
       "      <th>16</th>\n",
       "      <td>180.000</td>\n",
       "    </tr>\n",
       "    <tr>\n",
       "      <th>19</th>\n",
       "      <td>264.500</td>\n",
       "    </tr>\n",
       "  </tbody>\n",
       "</table>\n",
       "</div>"
      ],
      "text/plain": [
       "       living_area\n",
       "rooms             \n",
       "0           18.000\n",
       "1           17.600\n",
       "2           30.500\n",
       "3           45.000\n",
       "4           63.600\n",
       "5           91.785\n",
       "6          123.900\n",
       "7          145.000\n",
       "8          161.000\n",
       "9          179.200\n",
       "10         161.400\n",
       "11         133.900\n",
       "12         409.700\n",
       "14         195.150\n",
       "15         409.000\n",
       "16         180.000\n",
       "19         264.500"
      ]
     },
     "metadata": {},
     "output_type": "display_data"
    }
   ],
   "source": [
    "df_new=df.pivot_table( index='rooms', values='living_area',aggfunc='median')\n",
    "display(df_new)"
   ]
  },
  {
   "cell_type": "code",
   "execution_count": 13,
   "metadata": {
    "scrolled": true
   },
   "outputs": [
    {
     "data": {
      "text/html": [
       "<div>\n",
       "<style scoped>\n",
       "    .dataframe tbody tr th:only-of-type {\n",
       "        vertical-align: middle;\n",
       "    }\n",
       "\n",
       "    .dataframe tbody tr th {\n",
       "        vertical-align: top;\n",
       "    }\n",
       "\n",
       "    .dataframe thead th {\n",
       "        text-align: right;\n",
       "    }\n",
       "</style>\n",
       "<table border=\"1\" class=\"dataframe\">\n",
       "  <thead>\n",
       "    <tr style=\"text-align: right;\">\n",
       "      <th></th>\n",
       "      <th>total_images</th>\n",
       "      <th>last_price</th>\n",
       "      <th>total_area</th>\n",
       "      <th>first_day_exposition</th>\n",
       "      <th>rooms</th>\n",
       "      <th>ceiling_height</th>\n",
       "      <th>floors_total</th>\n",
       "      <th>living_area</th>\n",
       "      <th>floor</th>\n",
       "      <th>is_apartment</th>\n",
       "      <th>...</th>\n",
       "      <th>kitchen_area</th>\n",
       "      <th>balcony</th>\n",
       "      <th>locality_name</th>\n",
       "      <th>airports_nearest</th>\n",
       "      <th>cityCenters_nearest</th>\n",
       "      <th>parks_around3000</th>\n",
       "      <th>parks_nearest</th>\n",
       "      <th>ponds_around3000</th>\n",
       "      <th>ponds_nearest</th>\n",
       "      <th>days_exposition</th>\n",
       "    </tr>\n",
       "  </thead>\n",
       "  <tbody>\n",
       "    <tr>\n",
       "      <th>0</th>\n",
       "      <td>1</td>\n",
       "      <td>3050000.0</td>\n",
       "      <td>30.8</td>\n",
       "      <td>2018-11-22T00:00:00</td>\n",
       "      <td>1</td>\n",
       "      <td>2.50</td>\n",
       "      <td>9.0</td>\n",
       "      <td>18.0</td>\n",
       "      <td>7</td>\n",
       "      <td>False</td>\n",
       "      <td>...</td>\n",
       "      <td>6.0</td>\n",
       "      <td>0</td>\n",
       "      <td>Санкт-Петербург</td>\n",
       "      <td>45341.0</td>\n",
       "      <td>16603.0</td>\n",
       "      <td>1.0</td>\n",
       "      <td>675.0</td>\n",
       "      <td>0.0</td>\n",
       "      <td>NaN</td>\n",
       "      <td>NaN</td>\n",
       "    </tr>\n",
       "    <tr>\n",
       "      <th>1</th>\n",
       "      <td>9</td>\n",
       "      <td>4350000.0</td>\n",
       "      <td>37.0</td>\n",
       "      <td>2018-02-22T00:00:00</td>\n",
       "      <td>1</td>\n",
       "      <td>2.65</td>\n",
       "      <td>19.0</td>\n",
       "      <td>18.0</td>\n",
       "      <td>6</td>\n",
       "      <td>False</td>\n",
       "      <td>...</td>\n",
       "      <td>10.7</td>\n",
       "      <td>0</td>\n",
       "      <td>Санкт-Петербург</td>\n",
       "      <td>34324.0</td>\n",
       "      <td>14192.0</td>\n",
       "      <td>0.0</td>\n",
       "      <td>NaN</td>\n",
       "      <td>0.0</td>\n",
       "      <td>NaN</td>\n",
       "      <td>45.0</td>\n",
       "    </tr>\n",
       "    <tr>\n",
       "      <th>2</th>\n",
       "      <td>16</td>\n",
       "      <td>3800000.0</td>\n",
       "      <td>38.6</td>\n",
       "      <td>2018-02-22T00:00:00</td>\n",
       "      <td>1</td>\n",
       "      <td>2.65</td>\n",
       "      <td>9.0</td>\n",
       "      <td>18.0</td>\n",
       "      <td>6</td>\n",
       "      <td>False</td>\n",
       "      <td>...</td>\n",
       "      <td>8.4</td>\n",
       "      <td>2</td>\n",
       "      <td>Санкт-Петербург</td>\n",
       "      <td>36450.0</td>\n",
       "      <td>13364.0</td>\n",
       "      <td>0.0</td>\n",
       "      <td>NaN</td>\n",
       "      <td>0.0</td>\n",
       "      <td>NaN</td>\n",
       "      <td>8.0</td>\n",
       "    </tr>\n",
       "    <tr>\n",
       "      <th>3</th>\n",
       "      <td>7</td>\n",
       "      <td>3700000.0</td>\n",
       "      <td>33.0</td>\n",
       "      <td>2016-04-15T00:00:00</td>\n",
       "      <td>1</td>\n",
       "      <td>2.65</td>\n",
       "      <td>14.0</td>\n",
       "      <td>18.0</td>\n",
       "      <td>2</td>\n",
       "      <td>False</td>\n",
       "      <td>...</td>\n",
       "      <td>6.2</td>\n",
       "      <td>1</td>\n",
       "      <td>Санкт-Петербург</td>\n",
       "      <td>49214.0</td>\n",
       "      <td>16140.0</td>\n",
       "      <td>0.0</td>\n",
       "      <td>NaN</td>\n",
       "      <td>0.0</td>\n",
       "      <td>NaN</td>\n",
       "      <td>88.0</td>\n",
       "    </tr>\n",
       "    <tr>\n",
       "      <th>4</th>\n",
       "      <td>4</td>\n",
       "      <td>4590000.0</td>\n",
       "      <td>40.0</td>\n",
       "      <td>2017-05-29T00:00:00</td>\n",
       "      <td>1</td>\n",
       "      <td>2.65</td>\n",
       "      <td>6.0</td>\n",
       "      <td>18.0</td>\n",
       "      <td>1</td>\n",
       "      <td>False</td>\n",
       "      <td>...</td>\n",
       "      <td>10.0</td>\n",
       "      <td>0</td>\n",
       "      <td>Санкт-Петербург</td>\n",
       "      <td>20062.0</td>\n",
       "      <td>6175.0</td>\n",
       "      <td>1.0</td>\n",
       "      <td>241.0</td>\n",
       "      <td>0.0</td>\n",
       "      <td>NaN</td>\n",
       "      <td>31.0</td>\n",
       "    </tr>\n",
       "    <tr>\n",
       "      <th>...</th>\n",
       "      <td>...</td>\n",
       "      <td>...</td>\n",
       "      <td>...</td>\n",
       "      <td>...</td>\n",
       "      <td>...</td>\n",
       "      <td>...</td>\n",
       "      <td>...</td>\n",
       "      <td>...</td>\n",
       "      <td>...</td>\n",
       "      <td>...</td>\n",
       "      <td>...</td>\n",
       "      <td>...</td>\n",
       "      <td>...</td>\n",
       "      <td>...</td>\n",
       "      <td>...</td>\n",
       "      <td>...</td>\n",
       "      <td>...</td>\n",
       "      <td>...</td>\n",
       "      <td>...</td>\n",
       "      <td>...</td>\n",
       "      <td>...</td>\n",
       "    </tr>\n",
       "    <tr>\n",
       "      <th>1207</th>\n",
       "      <td>10</td>\n",
       "      <td>23500000.0</td>\n",
       "      <td>313.0</td>\n",
       "      <td>2017-02-13T00:00:00</td>\n",
       "      <td>9</td>\n",
       "      <td>3.20</td>\n",
       "      <td>6.0</td>\n",
       "      <td>179.2</td>\n",
       "      <td>5</td>\n",
       "      <td>False</td>\n",
       "      <td>...</td>\n",
       "      <td>13.2</td>\n",
       "      <td>0</td>\n",
       "      <td>Санкт-Петербург</td>\n",
       "      <td>38435.0</td>\n",
       "      <td>10138.0</td>\n",
       "      <td>1.0</td>\n",
       "      <td>146.0</td>\n",
       "      <td>0.0</td>\n",
       "      <td>NaN</td>\n",
       "      <td>NaN</td>\n",
       "    </tr>\n",
       "    <tr>\n",
       "      <th>1208</th>\n",
       "      <td>6</td>\n",
       "      <td>32250000.0</td>\n",
       "      <td>374.6</td>\n",
       "      <td>2018-06-09T00:00:00</td>\n",
       "      <td>19</td>\n",
       "      <td>2.65</td>\n",
       "      <td>5.0</td>\n",
       "      <td>264.5</td>\n",
       "      <td>2</td>\n",
       "      <td>False</td>\n",
       "      <td>...</td>\n",
       "      <td>27.6</td>\n",
       "      <td>0</td>\n",
       "      <td>Санкт-Петербург</td>\n",
       "      <td>19497.0</td>\n",
       "      <td>3574.0</td>\n",
       "      <td>0.0</td>\n",
       "      <td>NaN</td>\n",
       "      <td>2.0</td>\n",
       "      <td>548.0</td>\n",
       "      <td>114.0</td>\n",
       "    </tr>\n",
       "    <tr>\n",
       "      <th>1209</th>\n",
       "      <td>4</td>\n",
       "      <td>15500000.0</td>\n",
       "      <td>216.1</td>\n",
       "      <td>2016-07-04T00:00:00</td>\n",
       "      <td>10</td>\n",
       "      <td>3.15</td>\n",
       "      <td>5.0</td>\n",
       "      <td>161.4</td>\n",
       "      <td>2</td>\n",
       "      <td>False</td>\n",
       "      <td>...</td>\n",
       "      <td>19.8</td>\n",
       "      <td>0</td>\n",
       "      <td>Санкт-Петербург</td>\n",
       "      <td>24353.0</td>\n",
       "      <td>4921.0</td>\n",
       "      <td>1.0</td>\n",
       "      <td>368.0</td>\n",
       "      <td>0.0</td>\n",
       "      <td>NaN</td>\n",
       "      <td>11.0</td>\n",
       "    </tr>\n",
       "    <tr>\n",
       "      <th>1210</th>\n",
       "      <td>8</td>\n",
       "      <td>420000000.0</td>\n",
       "      <td>900.0</td>\n",
       "      <td>2017-12-06T00:00:00</td>\n",
       "      <td>12</td>\n",
       "      <td>2.80</td>\n",
       "      <td>25.0</td>\n",
       "      <td>409.7</td>\n",
       "      <td>25</td>\n",
       "      <td>False</td>\n",
       "      <td>...</td>\n",
       "      <td>112.0</td>\n",
       "      <td>0</td>\n",
       "      <td>Санкт-Петербург</td>\n",
       "      <td>30706.0</td>\n",
       "      <td>7877.0</td>\n",
       "      <td>0.0</td>\n",
       "      <td>NaN</td>\n",
       "      <td>2.0</td>\n",
       "      <td>318.0</td>\n",
       "      <td>106.0</td>\n",
       "    </tr>\n",
       "    <tr>\n",
       "      <th>1211</th>\n",
       "      <td>5</td>\n",
       "      <td>28800000.0</td>\n",
       "      <td>195.7</td>\n",
       "      <td>2017-09-06T00:00:00</td>\n",
       "      <td>6</td>\n",
       "      <td>3.20</td>\n",
       "      <td>6.0</td>\n",
       "      <td>123.9</td>\n",
       "      <td>6</td>\n",
       "      <td>False</td>\n",
       "      <td>...</td>\n",
       "      <td>27.0</td>\n",
       "      <td>1</td>\n",
       "      <td>Санкт-Петербург</td>\n",
       "      <td>25323.0</td>\n",
       "      <td>5741.0</td>\n",
       "      <td>2.0</td>\n",
       "      <td>393.0</td>\n",
       "      <td>0.0</td>\n",
       "      <td>NaN</td>\n",
       "      <td>442.0</td>\n",
       "    </tr>\n",
       "  </tbody>\n",
       "</table>\n",
       "<p>1212 rows × 22 columns</p>\n",
       "</div>"
      ],
      "text/plain": [
       "      total_images   last_price  total_area first_day_exposition  rooms  \\\n",
       "0                1    3050000.0        30.8  2018-11-22T00:00:00      1   \n",
       "1                9    4350000.0        37.0  2018-02-22T00:00:00      1   \n",
       "2               16    3800000.0        38.6  2018-02-22T00:00:00      1   \n",
       "3                7    3700000.0        33.0  2016-04-15T00:00:00      1   \n",
       "4                4    4590000.0        40.0  2017-05-29T00:00:00      1   \n",
       "...            ...          ...         ...                  ...    ...   \n",
       "1207            10   23500000.0       313.0  2017-02-13T00:00:00      9   \n",
       "1208             6   32250000.0       374.6  2018-06-09T00:00:00     19   \n",
       "1209             4   15500000.0       216.1  2016-07-04T00:00:00     10   \n",
       "1210             8  420000000.0       900.0  2017-12-06T00:00:00     12   \n",
       "1211             5   28800000.0       195.7  2017-09-06T00:00:00      6   \n",
       "\n",
       "      ceiling_height  floors_total  living_area  floor  is_apartment  ...  \\\n",
       "0               2.50           9.0         18.0      7         False  ...   \n",
       "1               2.65          19.0         18.0      6         False  ...   \n",
       "2               2.65           9.0         18.0      6         False  ...   \n",
       "3               2.65          14.0         18.0      2         False  ...   \n",
       "4               2.65           6.0         18.0      1         False  ...   \n",
       "...              ...           ...          ...    ...           ...  ...   \n",
       "1207            3.20           6.0        179.2      5         False  ...   \n",
       "1208            2.65           5.0        264.5      2         False  ...   \n",
       "1209            3.15           5.0        161.4      2         False  ...   \n",
       "1210            2.80          25.0        409.7     25         False  ...   \n",
       "1211            3.20           6.0        123.9      6         False  ...   \n",
       "\n",
       "      kitchen_area  balcony    locality_name  airports_nearest  \\\n",
       "0              6.0        0  Санкт-Петербург           45341.0   \n",
       "1             10.7        0  Санкт-Петербург           34324.0   \n",
       "2              8.4        2  Санкт-Петербург           36450.0   \n",
       "3              6.2        1  Санкт-Петербург           49214.0   \n",
       "4             10.0        0  Санкт-Петербург           20062.0   \n",
       "...            ...      ...              ...               ...   \n",
       "1207          13.2        0  Санкт-Петербург           38435.0   \n",
       "1208          27.6        0  Санкт-Петербург           19497.0   \n",
       "1209          19.8        0  Санкт-Петербург           24353.0   \n",
       "1210         112.0        0  Санкт-Петербург           30706.0   \n",
       "1211          27.0        1  Санкт-Петербург           25323.0   \n",
       "\n",
       "     cityCenters_nearest  parks_around3000  parks_nearest  ponds_around3000  \\\n",
       "0                16603.0               1.0          675.0               0.0   \n",
       "1                14192.0               0.0            NaN               0.0   \n",
       "2                13364.0               0.0            NaN               0.0   \n",
       "3                16140.0               0.0            NaN               0.0   \n",
       "4                 6175.0               1.0          241.0               0.0   \n",
       "...                  ...               ...            ...               ...   \n",
       "1207             10138.0               1.0          146.0               0.0   \n",
       "1208              3574.0               0.0            NaN               2.0   \n",
       "1209              4921.0               1.0          368.0               0.0   \n",
       "1210              7877.0               0.0            NaN               2.0   \n",
       "1211              5741.0               2.0          393.0               0.0   \n",
       "\n",
       "      ponds_nearest  days_exposition  \n",
       "0               NaN              NaN  \n",
       "1               NaN             45.0  \n",
       "2               NaN              8.0  \n",
       "3               NaN             88.0  \n",
       "4               NaN             31.0  \n",
       "...             ...              ...  \n",
       "1207            NaN              NaN  \n",
       "1208          548.0            114.0  \n",
       "1209            NaN             11.0  \n",
       "1210          318.0            106.0  \n",
       "1211            NaN            442.0  \n",
       "\n",
       "[1212 rows x 22 columns]"
      ]
     },
     "execution_count": 13,
     "metadata": {},
     "output_type": "execute_result"
    }
   ],
   "source": [
    "df.merge( df_new,on='living_area', how='inner')"
   ]
  },
  {
   "cell_type": "code",
   "execution_count": 14,
   "metadata": {
    "scrolled": false
   },
   "outputs": [
    {
     "name": "stderr",
     "output_type": "stream",
     "text": [
      "/opt/conda/lib/python3.9/site-packages/numpy/lib/nanfunctions.py:1216: RuntimeWarning: Mean of empty slice\n",
      "  return np.nanmean(a, axis, out=out, keepdims=keepdims)\n",
      "/opt/conda/lib/python3.9/site-packages/numpy/lib/nanfunctions.py:1216: RuntimeWarning: Mean of empty slice\n",
      "  return np.nanmean(a, axis, out=out, keepdims=keepdims)\n",
      "/opt/conda/lib/python3.9/site-packages/numpy/lib/nanfunctions.py:1216: RuntimeWarning: Mean of empty slice\n",
      "  return np.nanmean(a, axis, out=out, keepdims=keepdims)\n",
      "/opt/conda/lib/python3.9/site-packages/numpy/lib/nanfunctions.py:1216: RuntimeWarning: Mean of empty slice\n",
      "  return np.nanmean(a, axis, out=out, keepdims=keepdims)\n"
     ]
    },
    {
     "data": {
      "text/html": [
       "<div>\n",
       "<style scoped>\n",
       "    .dataframe tbody tr th:only-of-type {\n",
       "        vertical-align: middle;\n",
       "    }\n",
       "\n",
       "    .dataframe tbody tr th {\n",
       "        vertical-align: top;\n",
       "    }\n",
       "\n",
       "    .dataframe thead th {\n",
       "        text-align: right;\n",
       "    }\n",
       "</style>\n",
       "<table border=\"1\" class=\"dataframe\">\n",
       "  <thead>\n",
       "    <tr style=\"text-align: right;\">\n",
       "      <th></th>\n",
       "      <th>total_images</th>\n",
       "      <th>last_price</th>\n",
       "      <th>total_area</th>\n",
       "      <th>first_day_exposition</th>\n",
       "      <th>rooms</th>\n",
       "      <th>ceiling_height</th>\n",
       "      <th>floors_total</th>\n",
       "      <th>living_area</th>\n",
       "      <th>floor</th>\n",
       "      <th>is_apartment</th>\n",
       "      <th>...</th>\n",
       "      <th>kitchen_area</th>\n",
       "      <th>balcony</th>\n",
       "      <th>locality_name</th>\n",
       "      <th>airports_nearest</th>\n",
       "      <th>cityCenters_nearest</th>\n",
       "      <th>parks_around3000</th>\n",
       "      <th>parks_nearest</th>\n",
       "      <th>ponds_around3000</th>\n",
       "      <th>ponds_nearest</th>\n",
       "      <th>days_exposition</th>\n",
       "    </tr>\n",
       "  </thead>\n",
       "  <tbody>\n",
       "    <tr>\n",
       "      <th>0</th>\n",
       "      <td>20</td>\n",
       "      <td>13000000.0</td>\n",
       "      <td>108.00</td>\n",
       "      <td>2019-03-07T00:00:00</td>\n",
       "      <td>3</td>\n",
       "      <td>2.70</td>\n",
       "      <td>16.0</td>\n",
       "      <td>20</td>\n",
       "      <td>8</td>\n",
       "      <td>False</td>\n",
       "      <td>...</td>\n",
       "      <td>25.00</td>\n",
       "      <td>0</td>\n",
       "      <td>Санкт-Петербург</td>\n",
       "      <td>18863.0</td>\n",
       "      <td>16028.0</td>\n",
       "      <td>1.0</td>\n",
       "      <td>482.0</td>\n",
       "      <td>2.0</td>\n",
       "      <td>755.0</td>\n",
       "      <td>NaN</td>\n",
       "    </tr>\n",
       "    <tr>\n",
       "      <th>1</th>\n",
       "      <td>7</td>\n",
       "      <td>3350000.0</td>\n",
       "      <td>40.40</td>\n",
       "      <td>2018-12-04T00:00:00</td>\n",
       "      <td>1</td>\n",
       "      <td>2.65</td>\n",
       "      <td>11.0</td>\n",
       "      <td>7</td>\n",
       "      <td>1</td>\n",
       "      <td>False</td>\n",
       "      <td>...</td>\n",
       "      <td>11.00</td>\n",
       "      <td>2</td>\n",
       "      <td>посёлок Шушары</td>\n",
       "      <td>12817.0</td>\n",
       "      <td>18603.0</td>\n",
       "      <td>0.0</td>\n",
       "      <td>NaN</td>\n",
       "      <td>0.0</td>\n",
       "      <td>NaN</td>\n",
       "      <td>81.0</td>\n",
       "    </tr>\n",
       "    <tr>\n",
       "      <th>2</th>\n",
       "      <td>10</td>\n",
       "      <td>5196000.0</td>\n",
       "      <td>56.00</td>\n",
       "      <td>2015-08-20T00:00:00</td>\n",
       "      <td>2</td>\n",
       "      <td>2.65</td>\n",
       "      <td>5.0</td>\n",
       "      <td>10</td>\n",
       "      <td>4</td>\n",
       "      <td>False</td>\n",
       "      <td>...</td>\n",
       "      <td>8.30</td>\n",
       "      <td>0</td>\n",
       "      <td>Санкт-Петербург</td>\n",
       "      <td>21741.0</td>\n",
       "      <td>13933.0</td>\n",
       "      <td>1.0</td>\n",
       "      <td>90.0</td>\n",
       "      <td>2.0</td>\n",
       "      <td>574.0</td>\n",
       "      <td>558.0</td>\n",
       "    </tr>\n",
       "    <tr>\n",
       "      <th>3</th>\n",
       "      <td>0</td>\n",
       "      <td>64900000.0</td>\n",
       "      <td>159.00</td>\n",
       "      <td>2015-07-24T00:00:00</td>\n",
       "      <td>3</td>\n",
       "      <td>2.65</td>\n",
       "      <td>14.0</td>\n",
       "      <td>0</td>\n",
       "      <td>9</td>\n",
       "      <td>False</td>\n",
       "      <td>...</td>\n",
       "      <td>0.00</td>\n",
       "      <td>0</td>\n",
       "      <td>Санкт-Петербург</td>\n",
       "      <td>28098.0</td>\n",
       "      <td>6800.0</td>\n",
       "      <td>2.0</td>\n",
       "      <td>84.0</td>\n",
       "      <td>3.0</td>\n",
       "      <td>234.0</td>\n",
       "      <td>424.0</td>\n",
       "    </tr>\n",
       "    <tr>\n",
       "      <th>4</th>\n",
       "      <td>2</td>\n",
       "      <td>10000000.0</td>\n",
       "      <td>100.00</td>\n",
       "      <td>2018-06-19T00:00:00</td>\n",
       "      <td>2</td>\n",
       "      <td>3.03</td>\n",
       "      <td>14.0</td>\n",
       "      <td>2</td>\n",
       "      <td>13</td>\n",
       "      <td>False</td>\n",
       "      <td>...</td>\n",
       "      <td>41.00</td>\n",
       "      <td>0</td>\n",
       "      <td>Санкт-Петербург</td>\n",
       "      <td>31856.0</td>\n",
       "      <td>8098.0</td>\n",
       "      <td>2.0</td>\n",
       "      <td>112.0</td>\n",
       "      <td>1.0</td>\n",
       "      <td>48.0</td>\n",
       "      <td>121.0</td>\n",
       "    </tr>\n",
       "    <tr>\n",
       "      <th>...</th>\n",
       "      <td>...</td>\n",
       "      <td>...</td>\n",
       "      <td>...</td>\n",
       "      <td>...</td>\n",
       "      <td>...</td>\n",
       "      <td>...</td>\n",
       "      <td>...</td>\n",
       "      <td>...</td>\n",
       "      <td>...</td>\n",
       "      <td>...</td>\n",
       "      <td>...</td>\n",
       "      <td>...</td>\n",
       "      <td>...</td>\n",
       "      <td>...</td>\n",
       "      <td>...</td>\n",
       "      <td>...</td>\n",
       "      <td>...</td>\n",
       "      <td>...</td>\n",
       "      <td>...</td>\n",
       "      <td>...</td>\n",
       "      <td>...</td>\n",
       "    </tr>\n",
       "    <tr>\n",
       "      <th>23694</th>\n",
       "      <td>9</td>\n",
       "      <td>9700000.0</td>\n",
       "      <td>133.81</td>\n",
       "      <td>2017-03-21T00:00:00</td>\n",
       "      <td>3</td>\n",
       "      <td>3.70</td>\n",
       "      <td>5.0</td>\n",
       "      <td>9</td>\n",
       "      <td>3</td>\n",
       "      <td>False</td>\n",
       "      <td>...</td>\n",
       "      <td>13.83</td>\n",
       "      <td>0</td>\n",
       "      <td>Санкт-Петербург</td>\n",
       "      <td>24665.0</td>\n",
       "      <td>4232.0</td>\n",
       "      <td>1.0</td>\n",
       "      <td>796.0</td>\n",
       "      <td>3.0</td>\n",
       "      <td>381.0</td>\n",
       "      <td>NaN</td>\n",
       "    </tr>\n",
       "    <tr>\n",
       "      <th>23695</th>\n",
       "      <td>14</td>\n",
       "      <td>3100000.0</td>\n",
       "      <td>59.00</td>\n",
       "      <td>2018-01-15T00:00:00</td>\n",
       "      <td>3</td>\n",
       "      <td>2.65</td>\n",
       "      <td>5.0</td>\n",
       "      <td>14</td>\n",
       "      <td>4</td>\n",
       "      <td>False</td>\n",
       "      <td>...</td>\n",
       "      <td>8.50</td>\n",
       "      <td>0</td>\n",
       "      <td>Тосно</td>\n",
       "      <td>NaN</td>\n",
       "      <td>NaN</td>\n",
       "      <td>NaN</td>\n",
       "      <td>NaN</td>\n",
       "      <td>NaN</td>\n",
       "      <td>NaN</td>\n",
       "      <td>45.0</td>\n",
       "    </tr>\n",
       "    <tr>\n",
       "      <th>23696</th>\n",
       "      <td>18</td>\n",
       "      <td>2500000.0</td>\n",
       "      <td>56.70</td>\n",
       "      <td>2018-02-11T00:00:00</td>\n",
       "      <td>2</td>\n",
       "      <td>2.65</td>\n",
       "      <td>3.0</td>\n",
       "      <td>18</td>\n",
       "      <td>1</td>\n",
       "      <td>False</td>\n",
       "      <td>...</td>\n",
       "      <td>0.00</td>\n",
       "      <td>0</td>\n",
       "      <td>село Рождествено</td>\n",
       "      <td>NaN</td>\n",
       "      <td>NaN</td>\n",
       "      <td>NaN</td>\n",
       "      <td>NaN</td>\n",
       "      <td>NaN</td>\n",
       "      <td>NaN</td>\n",
       "      <td>NaN</td>\n",
       "    </tr>\n",
       "    <tr>\n",
       "      <th>23697</th>\n",
       "      <td>13</td>\n",
       "      <td>11475000.0</td>\n",
       "      <td>76.75</td>\n",
       "      <td>2017-03-28T00:00:00</td>\n",
       "      <td>2</td>\n",
       "      <td>3.00</td>\n",
       "      <td>17.0</td>\n",
       "      <td>13</td>\n",
       "      <td>12</td>\n",
       "      <td>False</td>\n",
       "      <td>...</td>\n",
       "      <td>23.30</td>\n",
       "      <td>2</td>\n",
       "      <td>Санкт-Петербург</td>\n",
       "      <td>39140.0</td>\n",
       "      <td>10364.0</td>\n",
       "      <td>2.0</td>\n",
       "      <td>173.0</td>\n",
       "      <td>3.0</td>\n",
       "      <td>196.0</td>\n",
       "      <td>602.0</td>\n",
       "    </tr>\n",
       "    <tr>\n",
       "      <th>23698</th>\n",
       "      <td>4</td>\n",
       "      <td>1350000.0</td>\n",
       "      <td>32.30</td>\n",
       "      <td>2017-07-21T00:00:00</td>\n",
       "      <td>1</td>\n",
       "      <td>2.50</td>\n",
       "      <td>5.0</td>\n",
       "      <td>4</td>\n",
       "      <td>1</td>\n",
       "      <td>False</td>\n",
       "      <td>...</td>\n",
       "      <td>9.00</td>\n",
       "      <td>0</td>\n",
       "      <td>поселок Новый Учхоз</td>\n",
       "      <td>NaN</td>\n",
       "      <td>NaN</td>\n",
       "      <td>NaN</td>\n",
       "      <td>NaN</td>\n",
       "      <td>NaN</td>\n",
       "      <td>NaN</td>\n",
       "      <td>NaN</td>\n",
       "    </tr>\n",
       "  </tbody>\n",
       "</table>\n",
       "<p>23699 rows × 22 columns</p>\n",
       "</div>"
      ],
      "text/plain": [
       "       total_images  last_price  total_area first_day_exposition  rooms  \\\n",
       "0                20  13000000.0      108.00  2019-03-07T00:00:00      3   \n",
       "1                 7   3350000.0       40.40  2018-12-04T00:00:00      1   \n",
       "2                10   5196000.0       56.00  2015-08-20T00:00:00      2   \n",
       "3                 0  64900000.0      159.00  2015-07-24T00:00:00      3   \n",
       "4                 2  10000000.0      100.00  2018-06-19T00:00:00      2   \n",
       "...             ...         ...         ...                  ...    ...   \n",
       "23694             9   9700000.0      133.81  2017-03-21T00:00:00      3   \n",
       "23695            14   3100000.0       59.00  2018-01-15T00:00:00      3   \n",
       "23696            18   2500000.0       56.70  2018-02-11T00:00:00      2   \n",
       "23697            13  11475000.0       76.75  2017-03-28T00:00:00      2   \n",
       "23698             4   1350000.0       32.30  2017-07-21T00:00:00      1   \n",
       "\n",
       "       ceiling_height  floors_total living_area  floor  is_apartment  ...  \\\n",
       "0                2.70          16.0          20      8         False  ...   \n",
       "1                2.65          11.0           7      1         False  ...   \n",
       "2                2.65           5.0          10      4         False  ...   \n",
       "3                2.65          14.0           0      9         False  ...   \n",
       "4                3.03          14.0           2     13         False  ...   \n",
       "...               ...           ...         ...    ...           ...  ...   \n",
       "23694            3.70           5.0           9      3         False  ...   \n",
       "23695            2.65           5.0          14      4         False  ...   \n",
       "23696            2.65           3.0          18      1         False  ...   \n",
       "23697            3.00          17.0          13     12         False  ...   \n",
       "23698            2.50           5.0           4      1         False  ...   \n",
       "\n",
       "       kitchen_area  balcony        locality_name  airports_nearest  \\\n",
       "0             25.00        0      Санкт-Петербург           18863.0   \n",
       "1             11.00        2       посёлок Шушары           12817.0   \n",
       "2              8.30        0      Санкт-Петербург           21741.0   \n",
       "3              0.00        0      Санкт-Петербург           28098.0   \n",
       "4             41.00        0      Санкт-Петербург           31856.0   \n",
       "...             ...      ...                  ...               ...   \n",
       "23694         13.83        0      Санкт-Петербург           24665.0   \n",
       "23695          8.50        0                Тосно               NaN   \n",
       "23696          0.00        0     село Рождествено               NaN   \n",
       "23697         23.30        2      Санкт-Петербург           39140.0   \n",
       "23698          9.00        0  поселок Новый Учхоз               NaN   \n",
       "\n",
       "      cityCenters_nearest  parks_around3000  parks_nearest  ponds_around3000  \\\n",
       "0                 16028.0               1.0          482.0               2.0   \n",
       "1                 18603.0               0.0            NaN               0.0   \n",
       "2                 13933.0               1.0           90.0               2.0   \n",
       "3                  6800.0               2.0           84.0               3.0   \n",
       "4                  8098.0               2.0          112.0               1.0   \n",
       "...                   ...               ...            ...               ...   \n",
       "23694              4232.0               1.0          796.0               3.0   \n",
       "23695                 NaN               NaN            NaN               NaN   \n",
       "23696                 NaN               NaN            NaN               NaN   \n",
       "23697             10364.0               2.0          173.0               3.0   \n",
       "23698                 NaN               NaN            NaN               NaN   \n",
       "\n",
       "       ponds_nearest  days_exposition  \n",
       "0              755.0              NaN  \n",
       "1                NaN             81.0  \n",
       "2              574.0            558.0  \n",
       "3              234.0            424.0  \n",
       "4               48.0            121.0  \n",
       "...              ...              ...  \n",
       "23694          381.0              NaN  \n",
       "23695            NaN             45.0  \n",
       "23696            NaN              NaN  \n",
       "23697          196.0            602.0  \n",
       "23698            NaN              NaN  \n",
       "\n",
       "[23699 rows x 22 columns]"
      ]
     },
     "metadata": {},
     "output_type": "display_data"
    }
   ],
   "source": [
    "df[\"living_area\"] = df.groupby(\"rooms\").transform(lambda x: x.fillna(x.median()))\n",
    "display(df)"
   ]
  },
  {
   "cell_type": "code",
   "execution_count": 15,
   "metadata": {
    "scrolled": true
   },
   "outputs": [
    {
     "data": {
      "text/plain": [
       "0          0.0\n",
       "1         81.0\n",
       "2        558.0\n",
       "3        424.0\n",
       "4        121.0\n",
       "         ...  \n",
       "23694      0.0\n",
       "23695     45.0\n",
       "23696      0.0\n",
       "23697    602.0\n",
       "23698      0.0\n",
       "Name: days_exposition, Length: 23699, dtype: float64"
      ]
     },
     "metadata": {},
     "output_type": "display_data"
    }
   ],
   "source": [
    "#Заполнение пропусков в колонке days_exposition на 0\n",
    "df['days_exposition']=df['days_exposition'].fillna(value=0)\n",
    "display(df['days_exposition'])"
   ]
  },
  {
   "cell_type": "code",
   "execution_count": 16,
   "metadata": {
    "scrolled": true
   },
   "outputs": [
    {
     "data": {
      "text/plain": [
       "0          0\n",
       "1         81\n",
       "2        558\n",
       "3        424\n",
       "4        121\n",
       "        ... \n",
       "23694      0\n",
       "23695     45\n",
       "23696      0\n",
       "23697    602\n",
       "23698      0\n",
       "Name: days_exposition, Length: 23699, dtype: int64"
      ]
     },
     "metadata": {},
     "output_type": "display_data"
    }
   ],
   "source": [
    "# замена вещественного типа данных в столбце days_exposition  на целочисленный\n",
    "df['days_exposition']=df['days_exposition'].astype('int')\n",
    "display(df['days_exposition'])"
   ]
  },
  {
   "cell_type": "code",
   "execution_count": 17,
   "metadata": {},
   "outputs": [
    {
     "data": {
      "text/plain": [
       "0        16.028\n",
       "1        18.603\n",
       "2        13.933\n",
       "3         6.800\n",
       "4         8.098\n",
       "          ...  \n",
       "23694     4.232\n",
       "23695       NaN\n",
       "23696       NaN\n",
       "23697    10.364\n",
       "23698       NaN\n",
       "Name: cityCenters_nearest, Length: 23699, dtype: float64"
      ]
     },
     "metadata": {},
     "output_type": "display_data"
    }
   ],
   "source": [
    "#Замена значений  в колонке cityCenters_nearest  c метров на километры\n",
    "df['cityCenters_nearest']=df['cityCenters_nearest']/1000\n",
    "display(df['cityCenters_nearest']) \n"
   ]
  },
  {
   "cell_type": "markdown",
   "metadata": {},
   "source": [
    "## Расчёты и добавление результатов в таблицу"
   ]
  },
  {
   "cell_type": "code",
   "execution_count": 18,
   "metadata": {
    "scrolled": false
   },
   "outputs": [
    {
     "data": {
      "text/plain": [
       "0        120370.370370\n",
       "1         82920.792079\n",
       "2         92785.714286\n",
       "3        408176.100629\n",
       "4        100000.000000\n",
       "             ...      \n",
       "23694     72490.845228\n",
       "23695     52542.372881\n",
       "23696     44091.710758\n",
       "23697    149511.400651\n",
       "23698     41795.665635\n",
       "Name: sq_m_price, Length: 23699, dtype: float64"
      ]
     },
     "metadata": {},
     "output_type": "display_data"
    }
   ],
   "source": [
    "# добавление столбца с ценой квадратного метра\n",
    "df['sq_m_price']=df['last_price']/df['total_area']\n",
    "display(df['sq_m_price']) \n"
   ]
  },
  {
   "cell_type": "code",
   "execution_count": 19,
   "metadata": {},
   "outputs": [
    {
     "data": {
      "text/plain": [
       "0        120370\n",
       "1         82920\n",
       "2         92785\n",
       "3        408176\n",
       "4        100000\n",
       "          ...  \n",
       "23694     72490\n",
       "23695     52542\n",
       "23696     44091\n",
       "23697    149511\n",
       "23698     41795\n",
       "Name: sq_m_price, Length: 23699, dtype: int64"
      ]
     },
     "metadata": {},
     "output_type": "display_data"
    }
   ],
   "source": [
    "# перевод в целочисленный тип\n",
    "df['sq_m_price']=df['sq_m_price'].astype('int')\n",
    "display(df['sq_m_price'])  "
   ]
  },
  {
   "cell_type": "code",
   "execution_count": 20,
   "metadata": {
    "scrolled": true
   },
   "outputs": [
    {
     "data": {
      "text/html": [
       "<div>\n",
       "<style scoped>\n",
       "    .dataframe tbody tr th:only-of-type {\n",
       "        vertical-align: middle;\n",
       "    }\n",
       "\n",
       "    .dataframe tbody tr th {\n",
       "        vertical-align: top;\n",
       "    }\n",
       "\n",
       "    .dataframe thead th {\n",
       "        text-align: right;\n",
       "    }\n",
       "</style>\n",
       "<table border=\"1\" class=\"dataframe\">\n",
       "  <thead>\n",
       "    <tr style=\"text-align: right;\">\n",
       "      <th></th>\n",
       "      <th>total_images</th>\n",
       "      <th>last_price</th>\n",
       "      <th>total_area</th>\n",
       "      <th>first_day_exposition</th>\n",
       "      <th>rooms</th>\n",
       "      <th>ceiling_height</th>\n",
       "      <th>floors_total</th>\n",
       "      <th>living_area</th>\n",
       "      <th>floor</th>\n",
       "      <th>is_apartment</th>\n",
       "      <th>...</th>\n",
       "      <th>cityCenters_nearest</th>\n",
       "      <th>parks_around3000</th>\n",
       "      <th>parks_nearest</th>\n",
       "      <th>ponds_around3000</th>\n",
       "      <th>ponds_nearest</th>\n",
       "      <th>days_exposition</th>\n",
       "      <th>sq_m_price</th>\n",
       "      <th>first_day_exposition_weekday</th>\n",
       "      <th>first_day_exposition_month</th>\n",
       "      <th>first_day_exposition_year</th>\n",
       "    </tr>\n",
       "  </thead>\n",
       "  <tbody>\n",
       "    <tr>\n",
       "      <th>0</th>\n",
       "      <td>20</td>\n",
       "      <td>13000000.0</td>\n",
       "      <td>108.00</td>\n",
       "      <td>2019-03-07T00:00:00</td>\n",
       "      <td>3</td>\n",
       "      <td>2.70</td>\n",
       "      <td>16.0</td>\n",
       "      <td>20</td>\n",
       "      <td>8</td>\n",
       "      <td>False</td>\n",
       "      <td>...</td>\n",
       "      <td>16.028</td>\n",
       "      <td>1.0</td>\n",
       "      <td>482.0</td>\n",
       "      <td>2.0</td>\n",
       "      <td>755.0</td>\n",
       "      <td>0</td>\n",
       "      <td>120370</td>\n",
       "      <td>3</td>\n",
       "      <td>3</td>\n",
       "      <td>2019</td>\n",
       "    </tr>\n",
       "    <tr>\n",
       "      <th>1</th>\n",
       "      <td>7</td>\n",
       "      <td>3350000.0</td>\n",
       "      <td>40.40</td>\n",
       "      <td>2018-12-04T00:00:00</td>\n",
       "      <td>1</td>\n",
       "      <td>2.65</td>\n",
       "      <td>11.0</td>\n",
       "      <td>7</td>\n",
       "      <td>1</td>\n",
       "      <td>False</td>\n",
       "      <td>...</td>\n",
       "      <td>18.603</td>\n",
       "      <td>0.0</td>\n",
       "      <td>NaN</td>\n",
       "      <td>0.0</td>\n",
       "      <td>NaN</td>\n",
       "      <td>81</td>\n",
       "      <td>82920</td>\n",
       "      <td>1</td>\n",
       "      <td>12</td>\n",
       "      <td>2018</td>\n",
       "    </tr>\n",
       "    <tr>\n",
       "      <th>2</th>\n",
       "      <td>10</td>\n",
       "      <td>5196000.0</td>\n",
       "      <td>56.00</td>\n",
       "      <td>2015-08-20T00:00:00</td>\n",
       "      <td>2</td>\n",
       "      <td>2.65</td>\n",
       "      <td>5.0</td>\n",
       "      <td>10</td>\n",
       "      <td>4</td>\n",
       "      <td>False</td>\n",
       "      <td>...</td>\n",
       "      <td>13.933</td>\n",
       "      <td>1.0</td>\n",
       "      <td>90.0</td>\n",
       "      <td>2.0</td>\n",
       "      <td>574.0</td>\n",
       "      <td>558</td>\n",
       "      <td>92785</td>\n",
       "      <td>3</td>\n",
       "      <td>8</td>\n",
       "      <td>2015</td>\n",
       "    </tr>\n",
       "    <tr>\n",
       "      <th>3</th>\n",
       "      <td>0</td>\n",
       "      <td>64900000.0</td>\n",
       "      <td>159.00</td>\n",
       "      <td>2015-07-24T00:00:00</td>\n",
       "      <td>3</td>\n",
       "      <td>2.65</td>\n",
       "      <td>14.0</td>\n",
       "      <td>0</td>\n",
       "      <td>9</td>\n",
       "      <td>False</td>\n",
       "      <td>...</td>\n",
       "      <td>6.800</td>\n",
       "      <td>2.0</td>\n",
       "      <td>84.0</td>\n",
       "      <td>3.0</td>\n",
       "      <td>234.0</td>\n",
       "      <td>424</td>\n",
       "      <td>408176</td>\n",
       "      <td>4</td>\n",
       "      <td>7</td>\n",
       "      <td>2015</td>\n",
       "    </tr>\n",
       "    <tr>\n",
       "      <th>4</th>\n",
       "      <td>2</td>\n",
       "      <td>10000000.0</td>\n",
       "      <td>100.00</td>\n",
       "      <td>2018-06-19T00:00:00</td>\n",
       "      <td>2</td>\n",
       "      <td>3.03</td>\n",
       "      <td>14.0</td>\n",
       "      <td>2</td>\n",
       "      <td>13</td>\n",
       "      <td>False</td>\n",
       "      <td>...</td>\n",
       "      <td>8.098</td>\n",
       "      <td>2.0</td>\n",
       "      <td>112.0</td>\n",
       "      <td>1.0</td>\n",
       "      <td>48.0</td>\n",
       "      <td>121</td>\n",
       "      <td>100000</td>\n",
       "      <td>1</td>\n",
       "      <td>6</td>\n",
       "      <td>2018</td>\n",
       "    </tr>\n",
       "    <tr>\n",
       "      <th>...</th>\n",
       "      <td>...</td>\n",
       "      <td>...</td>\n",
       "      <td>...</td>\n",
       "      <td>...</td>\n",
       "      <td>...</td>\n",
       "      <td>...</td>\n",
       "      <td>...</td>\n",
       "      <td>...</td>\n",
       "      <td>...</td>\n",
       "      <td>...</td>\n",
       "      <td>...</td>\n",
       "      <td>...</td>\n",
       "      <td>...</td>\n",
       "      <td>...</td>\n",
       "      <td>...</td>\n",
       "      <td>...</td>\n",
       "      <td>...</td>\n",
       "      <td>...</td>\n",
       "      <td>...</td>\n",
       "      <td>...</td>\n",
       "      <td>...</td>\n",
       "    </tr>\n",
       "    <tr>\n",
       "      <th>23694</th>\n",
       "      <td>9</td>\n",
       "      <td>9700000.0</td>\n",
       "      <td>133.81</td>\n",
       "      <td>2017-03-21T00:00:00</td>\n",
       "      <td>3</td>\n",
       "      <td>3.70</td>\n",
       "      <td>5.0</td>\n",
       "      <td>9</td>\n",
       "      <td>3</td>\n",
       "      <td>False</td>\n",
       "      <td>...</td>\n",
       "      <td>4.232</td>\n",
       "      <td>1.0</td>\n",
       "      <td>796.0</td>\n",
       "      <td>3.0</td>\n",
       "      <td>381.0</td>\n",
       "      <td>0</td>\n",
       "      <td>72490</td>\n",
       "      <td>1</td>\n",
       "      <td>3</td>\n",
       "      <td>2017</td>\n",
       "    </tr>\n",
       "    <tr>\n",
       "      <th>23695</th>\n",
       "      <td>14</td>\n",
       "      <td>3100000.0</td>\n",
       "      <td>59.00</td>\n",
       "      <td>2018-01-15T00:00:00</td>\n",
       "      <td>3</td>\n",
       "      <td>2.65</td>\n",
       "      <td>5.0</td>\n",
       "      <td>14</td>\n",
       "      <td>4</td>\n",
       "      <td>False</td>\n",
       "      <td>...</td>\n",
       "      <td>NaN</td>\n",
       "      <td>NaN</td>\n",
       "      <td>NaN</td>\n",
       "      <td>NaN</td>\n",
       "      <td>NaN</td>\n",
       "      <td>45</td>\n",
       "      <td>52542</td>\n",
       "      <td>0</td>\n",
       "      <td>1</td>\n",
       "      <td>2018</td>\n",
       "    </tr>\n",
       "    <tr>\n",
       "      <th>23696</th>\n",
       "      <td>18</td>\n",
       "      <td>2500000.0</td>\n",
       "      <td>56.70</td>\n",
       "      <td>2018-02-11T00:00:00</td>\n",
       "      <td>2</td>\n",
       "      <td>2.65</td>\n",
       "      <td>3.0</td>\n",
       "      <td>18</td>\n",
       "      <td>1</td>\n",
       "      <td>False</td>\n",
       "      <td>...</td>\n",
       "      <td>NaN</td>\n",
       "      <td>NaN</td>\n",
       "      <td>NaN</td>\n",
       "      <td>NaN</td>\n",
       "      <td>NaN</td>\n",
       "      <td>0</td>\n",
       "      <td>44091</td>\n",
       "      <td>6</td>\n",
       "      <td>2</td>\n",
       "      <td>2018</td>\n",
       "    </tr>\n",
       "    <tr>\n",
       "      <th>23697</th>\n",
       "      <td>13</td>\n",
       "      <td>11475000.0</td>\n",
       "      <td>76.75</td>\n",
       "      <td>2017-03-28T00:00:00</td>\n",
       "      <td>2</td>\n",
       "      <td>3.00</td>\n",
       "      <td>17.0</td>\n",
       "      <td>13</td>\n",
       "      <td>12</td>\n",
       "      <td>False</td>\n",
       "      <td>...</td>\n",
       "      <td>10.364</td>\n",
       "      <td>2.0</td>\n",
       "      <td>173.0</td>\n",
       "      <td>3.0</td>\n",
       "      <td>196.0</td>\n",
       "      <td>602</td>\n",
       "      <td>149511</td>\n",
       "      <td>1</td>\n",
       "      <td>3</td>\n",
       "      <td>2017</td>\n",
       "    </tr>\n",
       "    <tr>\n",
       "      <th>23698</th>\n",
       "      <td>4</td>\n",
       "      <td>1350000.0</td>\n",
       "      <td>32.30</td>\n",
       "      <td>2017-07-21T00:00:00</td>\n",
       "      <td>1</td>\n",
       "      <td>2.50</td>\n",
       "      <td>5.0</td>\n",
       "      <td>4</td>\n",
       "      <td>1</td>\n",
       "      <td>False</td>\n",
       "      <td>...</td>\n",
       "      <td>NaN</td>\n",
       "      <td>NaN</td>\n",
       "      <td>NaN</td>\n",
       "      <td>NaN</td>\n",
       "      <td>NaN</td>\n",
       "      <td>0</td>\n",
       "      <td>41795</td>\n",
       "      <td>4</td>\n",
       "      <td>7</td>\n",
       "      <td>2017</td>\n",
       "    </tr>\n",
       "  </tbody>\n",
       "</table>\n",
       "<p>23699 rows × 26 columns</p>\n",
       "</div>"
      ],
      "text/plain": [
       "       total_images  last_price  total_area first_day_exposition  rooms  \\\n",
       "0                20  13000000.0      108.00  2019-03-07T00:00:00      3   \n",
       "1                 7   3350000.0       40.40  2018-12-04T00:00:00      1   \n",
       "2                10   5196000.0       56.00  2015-08-20T00:00:00      2   \n",
       "3                 0  64900000.0      159.00  2015-07-24T00:00:00      3   \n",
       "4                 2  10000000.0      100.00  2018-06-19T00:00:00      2   \n",
       "...             ...         ...         ...                  ...    ...   \n",
       "23694             9   9700000.0      133.81  2017-03-21T00:00:00      3   \n",
       "23695            14   3100000.0       59.00  2018-01-15T00:00:00      3   \n",
       "23696            18   2500000.0       56.70  2018-02-11T00:00:00      2   \n",
       "23697            13  11475000.0       76.75  2017-03-28T00:00:00      2   \n",
       "23698             4   1350000.0       32.30  2017-07-21T00:00:00      1   \n",
       "\n",
       "       ceiling_height  floors_total living_area  floor  is_apartment  ...  \\\n",
       "0                2.70          16.0          20      8         False  ...   \n",
       "1                2.65          11.0           7      1         False  ...   \n",
       "2                2.65           5.0          10      4         False  ...   \n",
       "3                2.65          14.0           0      9         False  ...   \n",
       "4                3.03          14.0           2     13         False  ...   \n",
       "...               ...           ...         ...    ...           ...  ...   \n",
       "23694            3.70           5.0           9      3         False  ...   \n",
       "23695            2.65           5.0          14      4         False  ...   \n",
       "23696            2.65           3.0          18      1         False  ...   \n",
       "23697            3.00          17.0          13     12         False  ...   \n",
       "23698            2.50           5.0           4      1         False  ...   \n",
       "\n",
       "       cityCenters_nearest  parks_around3000  parks_nearest  ponds_around3000  \\\n",
       "0                   16.028               1.0          482.0               2.0   \n",
       "1                   18.603               0.0            NaN               0.0   \n",
       "2                   13.933               1.0           90.0               2.0   \n",
       "3                    6.800               2.0           84.0               3.0   \n",
       "4                    8.098               2.0          112.0               1.0   \n",
       "...                    ...               ...            ...               ...   \n",
       "23694                4.232               1.0          796.0               3.0   \n",
       "23695                  NaN               NaN            NaN               NaN   \n",
       "23696                  NaN               NaN            NaN               NaN   \n",
       "23697               10.364               2.0          173.0               3.0   \n",
       "23698                  NaN               NaN            NaN               NaN   \n",
       "\n",
       "      ponds_nearest  days_exposition  sq_m_price  \\\n",
       "0             755.0                0      120370   \n",
       "1               NaN               81       82920   \n",
       "2             574.0              558       92785   \n",
       "3             234.0              424      408176   \n",
       "4              48.0              121      100000   \n",
       "...             ...              ...         ...   \n",
       "23694         381.0                0       72490   \n",
       "23695           NaN               45       52542   \n",
       "23696           NaN                0       44091   \n",
       "23697         196.0              602      149511   \n",
       "23698           NaN                0       41795   \n",
       "\n",
       "       first_day_exposition_weekday  first_day_exposition_month  \\\n",
       "0                                 3                           3   \n",
       "1                                 1                          12   \n",
       "2                                 3                           8   \n",
       "3                                 4                           7   \n",
       "4                                 1                           6   \n",
       "...                             ...                         ...   \n",
       "23694                             1                           3   \n",
       "23695                             0                           1   \n",
       "23696                             6                           2   \n",
       "23697                             1                           3   \n",
       "23698                             4                           7   \n",
       "\n",
       "       first_day_exposition_year  \n",
       "0                           2019  \n",
       "1                           2018  \n",
       "2                           2015  \n",
       "3                           2015  \n",
       "4                           2018  \n",
       "...                          ...  \n",
       "23694                       2017  \n",
       "23695                       2018  \n",
       "23696                       2018  \n",
       "23697                       2017  \n",
       "23698                       2017  \n",
       "\n",
       "[23699 rows x 26 columns]"
      ]
     },
     "metadata": {},
     "output_type": "display_data"
    }
   ],
   "source": [
    "#добавление столбцов день недели , месяц и год публикации объявления и проверка\n",
    "df['first_day_exposition_weekday']=pd.DatetimeIndex( df['first_day_exposition']).weekday\n",
    "\n",
    "df['first_day_exposition_month']=pd.DatetimeIndex( df['first_day_exposition']).month\n",
    "\n",
    "df['first_day_exposition_year']=pd.DatetimeIndex( df['first_day_exposition']).year\n",
    "display(df)"
   ]
  },
  {
   "cell_type": "code",
   "execution_count": 21,
   "metadata": {},
   "outputs": [
    {
     "data": {
      "text/plain": [
       "другой       17446\n",
       "последний     3336\n",
       "первый        2917\n",
       "Name: floor_category, dtype: int64"
      ]
     },
     "execution_count": 21,
     "metadata": {},
     "output_type": "execute_result"
    }
   ],
   "source": [
    "#функция для определения этажа( первый,последний,другой)\n",
    "def floor_category(row):\n",
    "    if row['floor']  ==1:\n",
    "        return 'первый'\n",
    "    elif row['floor'] == row['floors_total'] :\n",
    "        return 'последний'\n",
    "    else :\n",
    "        return 'другой'\n",
    "df['floor_category']=df.apply(floor_category,axis=1)\n",
    "# проверка получившихся значений\n",
    "df['floor_category'].value_counts()"
   ]
  },
  {
   "cell_type": "code",
   "execution_count": 22,
   "metadata": {
    "scrolled": false
   },
   "outputs": [
    {
     "data": {
      "text/html": [
       "<div>\n",
       "<style scoped>\n",
       "    .dataframe tbody tr th:only-of-type {\n",
       "        vertical-align: middle;\n",
       "    }\n",
       "\n",
       "    .dataframe tbody tr th {\n",
       "        vertical-align: top;\n",
       "    }\n",
       "\n",
       "    .dataframe thead th {\n",
       "        text-align: right;\n",
       "    }\n",
       "</style>\n",
       "<table border=\"1\" class=\"dataframe\">\n",
       "  <thead>\n",
       "    <tr style=\"text-align: right;\">\n",
       "      <th></th>\n",
       "      <th>total_images</th>\n",
       "      <th>last_price</th>\n",
       "      <th>total_area</th>\n",
       "      <th>first_day_exposition</th>\n",
       "      <th>rooms</th>\n",
       "      <th>ceiling_height</th>\n",
       "      <th>floors_total</th>\n",
       "      <th>living_area</th>\n",
       "      <th>floor</th>\n",
       "      <th>is_apartment</th>\n",
       "      <th>...</th>\n",
       "      <th>parks_nearest</th>\n",
       "      <th>ponds_around3000</th>\n",
       "      <th>ponds_nearest</th>\n",
       "      <th>days_exposition</th>\n",
       "      <th>sq_m_price</th>\n",
       "      <th>first_day_exposition_weekday</th>\n",
       "      <th>first_day_exposition_month</th>\n",
       "      <th>first_day_exposition_year</th>\n",
       "      <th>floor_category</th>\n",
       "      <th>living_total_area</th>\n",
       "    </tr>\n",
       "  </thead>\n",
       "  <tbody>\n",
       "    <tr>\n",
       "      <th>0</th>\n",
       "      <td>20</td>\n",
       "      <td>13000000.0</td>\n",
       "      <td>108.00</td>\n",
       "      <td>2019-03-07T00:00:00</td>\n",
       "      <td>3</td>\n",
       "      <td>2.70</td>\n",
       "      <td>16.0</td>\n",
       "      <td>20</td>\n",
       "      <td>8</td>\n",
       "      <td>False</td>\n",
       "      <td>...</td>\n",
       "      <td>482.0</td>\n",
       "      <td>2.0</td>\n",
       "      <td>755.0</td>\n",
       "      <td>0</td>\n",
       "      <td>120370</td>\n",
       "      <td>3</td>\n",
       "      <td>3</td>\n",
       "      <td>2019</td>\n",
       "      <td>другой</td>\n",
       "      <td>18.518519</td>\n",
       "    </tr>\n",
       "    <tr>\n",
       "      <th>1</th>\n",
       "      <td>7</td>\n",
       "      <td>3350000.0</td>\n",
       "      <td>40.40</td>\n",
       "      <td>2018-12-04T00:00:00</td>\n",
       "      <td>1</td>\n",
       "      <td>2.65</td>\n",
       "      <td>11.0</td>\n",
       "      <td>7</td>\n",
       "      <td>1</td>\n",
       "      <td>False</td>\n",
       "      <td>...</td>\n",
       "      <td>NaN</td>\n",
       "      <td>0.0</td>\n",
       "      <td>NaN</td>\n",
       "      <td>81</td>\n",
       "      <td>82920</td>\n",
       "      <td>1</td>\n",
       "      <td>12</td>\n",
       "      <td>2018</td>\n",
       "      <td>первый</td>\n",
       "      <td>17.326733</td>\n",
       "    </tr>\n",
       "    <tr>\n",
       "      <th>2</th>\n",
       "      <td>10</td>\n",
       "      <td>5196000.0</td>\n",
       "      <td>56.00</td>\n",
       "      <td>2015-08-20T00:00:00</td>\n",
       "      <td>2</td>\n",
       "      <td>2.65</td>\n",
       "      <td>5.0</td>\n",
       "      <td>10</td>\n",
       "      <td>4</td>\n",
       "      <td>False</td>\n",
       "      <td>...</td>\n",
       "      <td>90.0</td>\n",
       "      <td>2.0</td>\n",
       "      <td>574.0</td>\n",
       "      <td>558</td>\n",
       "      <td>92785</td>\n",
       "      <td>3</td>\n",
       "      <td>8</td>\n",
       "      <td>2015</td>\n",
       "      <td>другой</td>\n",
       "      <td>17.857143</td>\n",
       "    </tr>\n",
       "    <tr>\n",
       "      <th>3</th>\n",
       "      <td>0</td>\n",
       "      <td>64900000.0</td>\n",
       "      <td>159.00</td>\n",
       "      <td>2015-07-24T00:00:00</td>\n",
       "      <td>3</td>\n",
       "      <td>2.65</td>\n",
       "      <td>14.0</td>\n",
       "      <td>0</td>\n",
       "      <td>9</td>\n",
       "      <td>False</td>\n",
       "      <td>...</td>\n",
       "      <td>84.0</td>\n",
       "      <td>3.0</td>\n",
       "      <td>234.0</td>\n",
       "      <td>424</td>\n",
       "      <td>408176</td>\n",
       "      <td>4</td>\n",
       "      <td>7</td>\n",
       "      <td>2015</td>\n",
       "      <td>другой</td>\n",
       "      <td>0.0</td>\n",
       "    </tr>\n",
       "    <tr>\n",
       "      <th>4</th>\n",
       "      <td>2</td>\n",
       "      <td>10000000.0</td>\n",
       "      <td>100.00</td>\n",
       "      <td>2018-06-19T00:00:00</td>\n",
       "      <td>2</td>\n",
       "      <td>3.03</td>\n",
       "      <td>14.0</td>\n",
       "      <td>2</td>\n",
       "      <td>13</td>\n",
       "      <td>False</td>\n",
       "      <td>...</td>\n",
       "      <td>112.0</td>\n",
       "      <td>1.0</td>\n",
       "      <td>48.0</td>\n",
       "      <td>121</td>\n",
       "      <td>100000</td>\n",
       "      <td>1</td>\n",
       "      <td>6</td>\n",
       "      <td>2018</td>\n",
       "      <td>другой</td>\n",
       "      <td>2.0</td>\n",
       "    </tr>\n",
       "    <tr>\n",
       "      <th>...</th>\n",
       "      <td>...</td>\n",
       "      <td>...</td>\n",
       "      <td>...</td>\n",
       "      <td>...</td>\n",
       "      <td>...</td>\n",
       "      <td>...</td>\n",
       "      <td>...</td>\n",
       "      <td>...</td>\n",
       "      <td>...</td>\n",
       "      <td>...</td>\n",
       "      <td>...</td>\n",
       "      <td>...</td>\n",
       "      <td>...</td>\n",
       "      <td>...</td>\n",
       "      <td>...</td>\n",
       "      <td>...</td>\n",
       "      <td>...</td>\n",
       "      <td>...</td>\n",
       "      <td>...</td>\n",
       "      <td>...</td>\n",
       "      <td>...</td>\n",
       "    </tr>\n",
       "    <tr>\n",
       "      <th>23694</th>\n",
       "      <td>9</td>\n",
       "      <td>9700000.0</td>\n",
       "      <td>133.81</td>\n",
       "      <td>2017-03-21T00:00:00</td>\n",
       "      <td>3</td>\n",
       "      <td>3.70</td>\n",
       "      <td>5.0</td>\n",
       "      <td>9</td>\n",
       "      <td>3</td>\n",
       "      <td>False</td>\n",
       "      <td>...</td>\n",
       "      <td>796.0</td>\n",
       "      <td>3.0</td>\n",
       "      <td>381.0</td>\n",
       "      <td>0</td>\n",
       "      <td>72490</td>\n",
       "      <td>1</td>\n",
       "      <td>3</td>\n",
       "      <td>2017</td>\n",
       "      <td>другой</td>\n",
       "      <td>6.725955</td>\n",
       "    </tr>\n",
       "    <tr>\n",
       "      <th>23695</th>\n",
       "      <td>14</td>\n",
       "      <td>3100000.0</td>\n",
       "      <td>59.00</td>\n",
       "      <td>2018-01-15T00:00:00</td>\n",
       "      <td>3</td>\n",
       "      <td>2.65</td>\n",
       "      <td>5.0</td>\n",
       "      <td>14</td>\n",
       "      <td>4</td>\n",
       "      <td>False</td>\n",
       "      <td>...</td>\n",
       "      <td>NaN</td>\n",
       "      <td>NaN</td>\n",
       "      <td>NaN</td>\n",
       "      <td>45</td>\n",
       "      <td>52542</td>\n",
       "      <td>0</td>\n",
       "      <td>1</td>\n",
       "      <td>2018</td>\n",
       "      <td>другой</td>\n",
       "      <td>23.728814</td>\n",
       "    </tr>\n",
       "    <tr>\n",
       "      <th>23696</th>\n",
       "      <td>18</td>\n",
       "      <td>2500000.0</td>\n",
       "      <td>56.70</td>\n",
       "      <td>2018-02-11T00:00:00</td>\n",
       "      <td>2</td>\n",
       "      <td>2.65</td>\n",
       "      <td>3.0</td>\n",
       "      <td>18</td>\n",
       "      <td>1</td>\n",
       "      <td>False</td>\n",
       "      <td>...</td>\n",
       "      <td>NaN</td>\n",
       "      <td>NaN</td>\n",
       "      <td>NaN</td>\n",
       "      <td>0</td>\n",
       "      <td>44091</td>\n",
       "      <td>6</td>\n",
       "      <td>2</td>\n",
       "      <td>2018</td>\n",
       "      <td>первый</td>\n",
       "      <td>31.746032</td>\n",
       "    </tr>\n",
       "    <tr>\n",
       "      <th>23697</th>\n",
       "      <td>13</td>\n",
       "      <td>11475000.0</td>\n",
       "      <td>76.75</td>\n",
       "      <td>2017-03-28T00:00:00</td>\n",
       "      <td>2</td>\n",
       "      <td>3.00</td>\n",
       "      <td>17.0</td>\n",
       "      <td>13</td>\n",
       "      <td>12</td>\n",
       "      <td>False</td>\n",
       "      <td>...</td>\n",
       "      <td>173.0</td>\n",
       "      <td>3.0</td>\n",
       "      <td>196.0</td>\n",
       "      <td>602</td>\n",
       "      <td>149511</td>\n",
       "      <td>1</td>\n",
       "      <td>3</td>\n",
       "      <td>2017</td>\n",
       "      <td>другой</td>\n",
       "      <td>16.938111</td>\n",
       "    </tr>\n",
       "    <tr>\n",
       "      <th>23698</th>\n",
       "      <td>4</td>\n",
       "      <td>1350000.0</td>\n",
       "      <td>32.30</td>\n",
       "      <td>2017-07-21T00:00:00</td>\n",
       "      <td>1</td>\n",
       "      <td>2.50</td>\n",
       "      <td>5.0</td>\n",
       "      <td>4</td>\n",
       "      <td>1</td>\n",
       "      <td>False</td>\n",
       "      <td>...</td>\n",
       "      <td>NaN</td>\n",
       "      <td>NaN</td>\n",
       "      <td>NaN</td>\n",
       "      <td>0</td>\n",
       "      <td>41795</td>\n",
       "      <td>4</td>\n",
       "      <td>7</td>\n",
       "      <td>2017</td>\n",
       "      <td>первый</td>\n",
       "      <td>12.383901</td>\n",
       "    </tr>\n",
       "  </tbody>\n",
       "</table>\n",
       "<p>23699 rows × 28 columns</p>\n",
       "</div>"
      ],
      "text/plain": [
       "       total_images  last_price  total_area first_day_exposition  rooms  \\\n",
       "0                20  13000000.0      108.00  2019-03-07T00:00:00      3   \n",
       "1                 7   3350000.0       40.40  2018-12-04T00:00:00      1   \n",
       "2                10   5196000.0       56.00  2015-08-20T00:00:00      2   \n",
       "3                 0  64900000.0      159.00  2015-07-24T00:00:00      3   \n",
       "4                 2  10000000.0      100.00  2018-06-19T00:00:00      2   \n",
       "...             ...         ...         ...                  ...    ...   \n",
       "23694             9   9700000.0      133.81  2017-03-21T00:00:00      3   \n",
       "23695            14   3100000.0       59.00  2018-01-15T00:00:00      3   \n",
       "23696            18   2500000.0       56.70  2018-02-11T00:00:00      2   \n",
       "23697            13  11475000.0       76.75  2017-03-28T00:00:00      2   \n",
       "23698             4   1350000.0       32.30  2017-07-21T00:00:00      1   \n",
       "\n",
       "       ceiling_height  floors_total living_area  floor  is_apartment  ...  \\\n",
       "0                2.70          16.0          20      8         False  ...   \n",
       "1                2.65          11.0           7      1         False  ...   \n",
       "2                2.65           5.0          10      4         False  ...   \n",
       "3                2.65          14.0           0      9         False  ...   \n",
       "4                3.03          14.0           2     13         False  ...   \n",
       "...               ...           ...         ...    ...           ...  ...   \n",
       "23694            3.70           5.0           9      3         False  ...   \n",
       "23695            2.65           5.0          14      4         False  ...   \n",
       "23696            2.65           3.0          18      1         False  ...   \n",
       "23697            3.00          17.0          13     12         False  ...   \n",
       "23698            2.50           5.0           4      1         False  ...   \n",
       "\n",
       "       parks_nearest  ponds_around3000  ponds_nearest  days_exposition  \\\n",
       "0              482.0               2.0          755.0                0   \n",
       "1                NaN               0.0            NaN               81   \n",
       "2               90.0               2.0          574.0              558   \n",
       "3               84.0               3.0          234.0              424   \n",
       "4              112.0               1.0           48.0              121   \n",
       "...              ...               ...            ...              ...   \n",
       "23694          796.0               3.0          381.0                0   \n",
       "23695            NaN               NaN            NaN               45   \n",
       "23696            NaN               NaN            NaN                0   \n",
       "23697          173.0               3.0          196.0              602   \n",
       "23698            NaN               NaN            NaN                0   \n",
       "\n",
       "      sq_m_price  first_day_exposition_weekday  first_day_exposition_month  \\\n",
       "0         120370                             3                           3   \n",
       "1          82920                             1                          12   \n",
       "2          92785                             3                           8   \n",
       "3         408176                             4                           7   \n",
       "4         100000                             1                           6   \n",
       "...          ...                           ...                         ...   \n",
       "23694      72490                             1                           3   \n",
       "23695      52542                             0                           1   \n",
       "23696      44091                             6                           2   \n",
       "23697     149511                             1                           3   \n",
       "23698      41795                             4                           7   \n",
       "\n",
       "       first_day_exposition_year  floor_category  living_total_area  \n",
       "0                           2019          другой          18.518519  \n",
       "1                           2018          первый          17.326733  \n",
       "2                           2015          другой          17.857143  \n",
       "3                           2015          другой                0.0  \n",
       "4                           2018          другой                2.0  \n",
       "...                          ...             ...                ...  \n",
       "23694                       2017          другой           6.725955  \n",
       "23695                       2018          другой          23.728814  \n",
       "23696                       2018          первый          31.746032  \n",
       "23697                       2017          другой          16.938111  \n",
       "23698                       2017          первый          12.383901  \n",
       "\n",
       "[23699 rows x 28 columns]"
      ]
     },
     "metadata": {},
     "output_type": "display_data"
    }
   ],
   "source": [
    "#соотношение жилой и общей   площади\n",
    "df['living_total_area']=df['living_area']/df['total_area']*100\n",
    "display(df)"
   ]
  },
  {
   "cell_type": "code",
   "execution_count": 23,
   "metadata": {},
   "outputs": [
    {
     "data": {
      "text/html": [
       "<div>\n",
       "<style scoped>\n",
       "    .dataframe tbody tr th:only-of-type {\n",
       "        vertical-align: middle;\n",
       "    }\n",
       "\n",
       "    .dataframe tbody tr th {\n",
       "        vertical-align: top;\n",
       "    }\n",
       "\n",
       "    .dataframe thead th {\n",
       "        text-align: right;\n",
       "    }\n",
       "</style>\n",
       "<table border=\"1\" class=\"dataframe\">\n",
       "  <thead>\n",
       "    <tr style=\"text-align: right;\">\n",
       "      <th></th>\n",
       "      <th>total_images</th>\n",
       "      <th>last_price</th>\n",
       "      <th>total_area</th>\n",
       "      <th>first_day_exposition</th>\n",
       "      <th>rooms</th>\n",
       "      <th>ceiling_height</th>\n",
       "      <th>floors_total</th>\n",
       "      <th>living_area</th>\n",
       "      <th>floor</th>\n",
       "      <th>is_apartment</th>\n",
       "      <th>...</th>\n",
       "      <th>ponds_around3000</th>\n",
       "      <th>ponds_nearest</th>\n",
       "      <th>days_exposition</th>\n",
       "      <th>sq_m_price</th>\n",
       "      <th>first_day_exposition_weekday</th>\n",
       "      <th>first_day_exposition_month</th>\n",
       "      <th>first_day_exposition_year</th>\n",
       "      <th>floor_category</th>\n",
       "      <th>living_total_area</th>\n",
       "      <th>kitchen_area_total</th>\n",
       "    </tr>\n",
       "  </thead>\n",
       "  <tbody>\n",
       "    <tr>\n",
       "      <th>0</th>\n",
       "      <td>20</td>\n",
       "      <td>13000000.0</td>\n",
       "      <td>108.00</td>\n",
       "      <td>2019-03-07T00:00:00</td>\n",
       "      <td>3</td>\n",
       "      <td>2.70</td>\n",
       "      <td>16.0</td>\n",
       "      <td>20</td>\n",
       "      <td>8</td>\n",
       "      <td>False</td>\n",
       "      <td>...</td>\n",
       "      <td>2.0</td>\n",
       "      <td>755.0</td>\n",
       "      <td>0</td>\n",
       "      <td>120370</td>\n",
       "      <td>3</td>\n",
       "      <td>3</td>\n",
       "      <td>2019</td>\n",
       "      <td>другой</td>\n",
       "      <td>18.518519</td>\n",
       "      <td>23.148148</td>\n",
       "    </tr>\n",
       "    <tr>\n",
       "      <th>1</th>\n",
       "      <td>7</td>\n",
       "      <td>3350000.0</td>\n",
       "      <td>40.40</td>\n",
       "      <td>2018-12-04T00:00:00</td>\n",
       "      <td>1</td>\n",
       "      <td>2.65</td>\n",
       "      <td>11.0</td>\n",
       "      <td>7</td>\n",
       "      <td>1</td>\n",
       "      <td>False</td>\n",
       "      <td>...</td>\n",
       "      <td>0.0</td>\n",
       "      <td>NaN</td>\n",
       "      <td>81</td>\n",
       "      <td>82920</td>\n",
       "      <td>1</td>\n",
       "      <td>12</td>\n",
       "      <td>2018</td>\n",
       "      <td>первый</td>\n",
       "      <td>17.326733</td>\n",
       "      <td>27.227723</td>\n",
       "    </tr>\n",
       "    <tr>\n",
       "      <th>2</th>\n",
       "      <td>10</td>\n",
       "      <td>5196000.0</td>\n",
       "      <td>56.00</td>\n",
       "      <td>2015-08-20T00:00:00</td>\n",
       "      <td>2</td>\n",
       "      <td>2.65</td>\n",
       "      <td>5.0</td>\n",
       "      <td>10</td>\n",
       "      <td>4</td>\n",
       "      <td>False</td>\n",
       "      <td>...</td>\n",
       "      <td>2.0</td>\n",
       "      <td>574.0</td>\n",
       "      <td>558</td>\n",
       "      <td>92785</td>\n",
       "      <td>3</td>\n",
       "      <td>8</td>\n",
       "      <td>2015</td>\n",
       "      <td>другой</td>\n",
       "      <td>17.857143</td>\n",
       "      <td>14.821429</td>\n",
       "    </tr>\n",
       "    <tr>\n",
       "      <th>3</th>\n",
       "      <td>0</td>\n",
       "      <td>64900000.0</td>\n",
       "      <td>159.00</td>\n",
       "      <td>2015-07-24T00:00:00</td>\n",
       "      <td>3</td>\n",
       "      <td>2.65</td>\n",
       "      <td>14.0</td>\n",
       "      <td>0</td>\n",
       "      <td>9</td>\n",
       "      <td>False</td>\n",
       "      <td>...</td>\n",
       "      <td>3.0</td>\n",
       "      <td>234.0</td>\n",
       "      <td>424</td>\n",
       "      <td>408176</td>\n",
       "      <td>4</td>\n",
       "      <td>7</td>\n",
       "      <td>2015</td>\n",
       "      <td>другой</td>\n",
       "      <td>0.0</td>\n",
       "      <td>0.000000</td>\n",
       "    </tr>\n",
       "    <tr>\n",
       "      <th>4</th>\n",
       "      <td>2</td>\n",
       "      <td>10000000.0</td>\n",
       "      <td>100.00</td>\n",
       "      <td>2018-06-19T00:00:00</td>\n",
       "      <td>2</td>\n",
       "      <td>3.03</td>\n",
       "      <td>14.0</td>\n",
       "      <td>2</td>\n",
       "      <td>13</td>\n",
       "      <td>False</td>\n",
       "      <td>...</td>\n",
       "      <td>1.0</td>\n",
       "      <td>48.0</td>\n",
       "      <td>121</td>\n",
       "      <td>100000</td>\n",
       "      <td>1</td>\n",
       "      <td>6</td>\n",
       "      <td>2018</td>\n",
       "      <td>другой</td>\n",
       "      <td>2.0</td>\n",
       "      <td>41.000000</td>\n",
       "    </tr>\n",
       "    <tr>\n",
       "      <th>...</th>\n",
       "      <td>...</td>\n",
       "      <td>...</td>\n",
       "      <td>...</td>\n",
       "      <td>...</td>\n",
       "      <td>...</td>\n",
       "      <td>...</td>\n",
       "      <td>...</td>\n",
       "      <td>...</td>\n",
       "      <td>...</td>\n",
       "      <td>...</td>\n",
       "      <td>...</td>\n",
       "      <td>...</td>\n",
       "      <td>...</td>\n",
       "      <td>...</td>\n",
       "      <td>...</td>\n",
       "      <td>...</td>\n",
       "      <td>...</td>\n",
       "      <td>...</td>\n",
       "      <td>...</td>\n",
       "      <td>...</td>\n",
       "      <td>...</td>\n",
       "    </tr>\n",
       "    <tr>\n",
       "      <th>23694</th>\n",
       "      <td>9</td>\n",
       "      <td>9700000.0</td>\n",
       "      <td>133.81</td>\n",
       "      <td>2017-03-21T00:00:00</td>\n",
       "      <td>3</td>\n",
       "      <td>3.70</td>\n",
       "      <td>5.0</td>\n",
       "      <td>9</td>\n",
       "      <td>3</td>\n",
       "      <td>False</td>\n",
       "      <td>...</td>\n",
       "      <td>3.0</td>\n",
       "      <td>381.0</td>\n",
       "      <td>0</td>\n",
       "      <td>72490</td>\n",
       "      <td>1</td>\n",
       "      <td>3</td>\n",
       "      <td>2017</td>\n",
       "      <td>другой</td>\n",
       "      <td>6.725955</td>\n",
       "      <td>10.335550</td>\n",
       "    </tr>\n",
       "    <tr>\n",
       "      <th>23695</th>\n",
       "      <td>14</td>\n",
       "      <td>3100000.0</td>\n",
       "      <td>59.00</td>\n",
       "      <td>2018-01-15T00:00:00</td>\n",
       "      <td>3</td>\n",
       "      <td>2.65</td>\n",
       "      <td>5.0</td>\n",
       "      <td>14</td>\n",
       "      <td>4</td>\n",
       "      <td>False</td>\n",
       "      <td>...</td>\n",
       "      <td>NaN</td>\n",
       "      <td>NaN</td>\n",
       "      <td>45</td>\n",
       "      <td>52542</td>\n",
       "      <td>0</td>\n",
       "      <td>1</td>\n",
       "      <td>2018</td>\n",
       "      <td>другой</td>\n",
       "      <td>23.728814</td>\n",
       "      <td>14.406780</td>\n",
       "    </tr>\n",
       "    <tr>\n",
       "      <th>23696</th>\n",
       "      <td>18</td>\n",
       "      <td>2500000.0</td>\n",
       "      <td>56.70</td>\n",
       "      <td>2018-02-11T00:00:00</td>\n",
       "      <td>2</td>\n",
       "      <td>2.65</td>\n",
       "      <td>3.0</td>\n",
       "      <td>18</td>\n",
       "      <td>1</td>\n",
       "      <td>False</td>\n",
       "      <td>...</td>\n",
       "      <td>NaN</td>\n",
       "      <td>NaN</td>\n",
       "      <td>0</td>\n",
       "      <td>44091</td>\n",
       "      <td>6</td>\n",
       "      <td>2</td>\n",
       "      <td>2018</td>\n",
       "      <td>первый</td>\n",
       "      <td>31.746032</td>\n",
       "      <td>0.000000</td>\n",
       "    </tr>\n",
       "    <tr>\n",
       "      <th>23697</th>\n",
       "      <td>13</td>\n",
       "      <td>11475000.0</td>\n",
       "      <td>76.75</td>\n",
       "      <td>2017-03-28T00:00:00</td>\n",
       "      <td>2</td>\n",
       "      <td>3.00</td>\n",
       "      <td>17.0</td>\n",
       "      <td>13</td>\n",
       "      <td>12</td>\n",
       "      <td>False</td>\n",
       "      <td>...</td>\n",
       "      <td>3.0</td>\n",
       "      <td>196.0</td>\n",
       "      <td>602</td>\n",
       "      <td>149511</td>\n",
       "      <td>1</td>\n",
       "      <td>3</td>\n",
       "      <td>2017</td>\n",
       "      <td>другой</td>\n",
       "      <td>16.938111</td>\n",
       "      <td>30.358306</td>\n",
       "    </tr>\n",
       "    <tr>\n",
       "      <th>23698</th>\n",
       "      <td>4</td>\n",
       "      <td>1350000.0</td>\n",
       "      <td>32.30</td>\n",
       "      <td>2017-07-21T00:00:00</td>\n",
       "      <td>1</td>\n",
       "      <td>2.50</td>\n",
       "      <td>5.0</td>\n",
       "      <td>4</td>\n",
       "      <td>1</td>\n",
       "      <td>False</td>\n",
       "      <td>...</td>\n",
       "      <td>NaN</td>\n",
       "      <td>NaN</td>\n",
       "      <td>0</td>\n",
       "      <td>41795</td>\n",
       "      <td>4</td>\n",
       "      <td>7</td>\n",
       "      <td>2017</td>\n",
       "      <td>первый</td>\n",
       "      <td>12.383901</td>\n",
       "      <td>27.863777</td>\n",
       "    </tr>\n",
       "  </tbody>\n",
       "</table>\n",
       "<p>23699 rows × 29 columns</p>\n",
       "</div>"
      ],
      "text/plain": [
       "       total_images  last_price  total_area first_day_exposition  rooms  \\\n",
       "0                20  13000000.0      108.00  2019-03-07T00:00:00      3   \n",
       "1                 7   3350000.0       40.40  2018-12-04T00:00:00      1   \n",
       "2                10   5196000.0       56.00  2015-08-20T00:00:00      2   \n",
       "3                 0  64900000.0      159.00  2015-07-24T00:00:00      3   \n",
       "4                 2  10000000.0      100.00  2018-06-19T00:00:00      2   \n",
       "...             ...         ...         ...                  ...    ...   \n",
       "23694             9   9700000.0      133.81  2017-03-21T00:00:00      3   \n",
       "23695            14   3100000.0       59.00  2018-01-15T00:00:00      3   \n",
       "23696            18   2500000.0       56.70  2018-02-11T00:00:00      2   \n",
       "23697            13  11475000.0       76.75  2017-03-28T00:00:00      2   \n",
       "23698             4   1350000.0       32.30  2017-07-21T00:00:00      1   \n",
       "\n",
       "       ceiling_height  floors_total living_area  floor  is_apartment  ...  \\\n",
       "0                2.70          16.0          20      8         False  ...   \n",
       "1                2.65          11.0           7      1         False  ...   \n",
       "2                2.65           5.0          10      4         False  ...   \n",
       "3                2.65          14.0           0      9         False  ...   \n",
       "4                3.03          14.0           2     13         False  ...   \n",
       "...               ...           ...         ...    ...           ...  ...   \n",
       "23694            3.70           5.0           9      3         False  ...   \n",
       "23695            2.65           5.0          14      4         False  ...   \n",
       "23696            2.65           3.0          18      1         False  ...   \n",
       "23697            3.00          17.0          13     12         False  ...   \n",
       "23698            2.50           5.0           4      1         False  ...   \n",
       "\n",
       "       ponds_around3000  ponds_nearest  days_exposition  sq_m_price  \\\n",
       "0                   2.0          755.0                0      120370   \n",
       "1                   0.0            NaN               81       82920   \n",
       "2                   2.0          574.0              558       92785   \n",
       "3                   3.0          234.0              424      408176   \n",
       "4                   1.0           48.0              121      100000   \n",
       "...                 ...            ...              ...         ...   \n",
       "23694               3.0          381.0                0       72490   \n",
       "23695               NaN            NaN               45       52542   \n",
       "23696               NaN            NaN                0       44091   \n",
       "23697               3.0          196.0              602      149511   \n",
       "23698               NaN            NaN                0       41795   \n",
       "\n",
       "      first_day_exposition_weekday  first_day_exposition_month  \\\n",
       "0                                3                           3   \n",
       "1                                1                          12   \n",
       "2                                3                           8   \n",
       "3                                4                           7   \n",
       "4                                1                           6   \n",
       "...                            ...                         ...   \n",
       "23694                            1                           3   \n",
       "23695                            0                           1   \n",
       "23696                            6                           2   \n",
       "23697                            1                           3   \n",
       "23698                            4                           7   \n",
       "\n",
       "       first_day_exposition_year  floor_category  living_total_area  \\\n",
       "0                           2019          другой          18.518519   \n",
       "1                           2018          первый          17.326733   \n",
       "2                           2015          другой          17.857143   \n",
       "3                           2015          другой                0.0   \n",
       "4                           2018          другой                2.0   \n",
       "...                          ...             ...                ...   \n",
       "23694                       2017          другой           6.725955   \n",
       "23695                       2018          другой          23.728814   \n",
       "23696                       2018          первый          31.746032   \n",
       "23697                       2017          другой          16.938111   \n",
       "23698                       2017          первый          12.383901   \n",
       "\n",
       "       kitchen_area_total  \n",
       "0               23.148148  \n",
       "1               27.227723  \n",
       "2               14.821429  \n",
       "3                0.000000  \n",
       "4               41.000000  \n",
       "...                   ...  \n",
       "23694           10.335550  \n",
       "23695           14.406780  \n",
       "23696            0.000000  \n",
       "23697           30.358306  \n",
       "23698           27.863777  \n",
       "\n",
       "[23699 rows x 29 columns]"
      ]
     },
     "metadata": {},
     "output_type": "display_data"
    }
   ],
   "source": [
    "#соотношение площади кухни к  общей   площади\n",
    "df['kitchen_area_total']=df['kitchen_area']/df['total_area']*100\n",
    "display(df)"
   ]
  },
  {
   "cell_type": "markdown",
   "metadata": {},
   "source": [
    "## Исследовательский анализ данных"
   ]
  },
  {
   "cell_type": "code",
   "execution_count": 24,
   "metadata": {},
   "outputs": [
    {
     "data": {
      "text/plain": [
       "0        13000000.0\n",
       "1         3350000.0\n",
       "2         5196000.0\n",
       "3        64900000.0\n",
       "4        10000000.0\n",
       "            ...    \n",
       "23694     9700000.0\n",
       "23695     3100000.0\n",
       "23696     2500000.0\n",
       "23697    11475000.0\n",
       "23698     1350000.0\n",
       "Name: last_price, Length: 23699, dtype: float64"
      ]
     },
     "metadata": {},
     "output_type": "display_data"
    },
    {
     "data": {
      "text/plain": [
       "<AxesSubplot:>"
      ]
     },
     "execution_count": 24,
     "metadata": {},
     "output_type": "execute_result"
    },
    {
     "data": {
      "image/png": "[encoded data removed]",
      "text/plain": [
       "<Figure size 432x288 with 1 Axes>"
      ]
     },
     "metadata": {
      "needs_background": "light"
     },
     "output_type": "display_data"
    }
   ],
   "source": [
    "# изучение цены продожи квартиры\n",
    "df['last_price'].value_counts()\n",
    "display(df['last_price'])\n",
    "df['last_price'].hist(bins=30 ,range=(0, 30000000))"
   ]
  },
  {
   "cell_type": "code",
   "execution_count": 25,
   "metadata": {},
   "outputs": [
    {
     "data": {
      "text/plain": [
       "<AxesSubplot:>"
      ]
     },
     "execution_count": 25,
     "metadata": {},
     "output_type": "execute_result"
    },
    {
     "data": {
      "image/png": "[encoded data removed]",
      "text/plain": [
       "<Figure size 432x288 with 1 Axes>"
      ]
     },
     "metadata": {
      "needs_background": "light"
     },
     "output_type": "display_data"
    }
   ],
   "source": [
    "#код ревьюера\n",
    "df['last_price'].hist(bins=30, range=(0, 30000000))"
   ]
  },
  {
   "cell_type": "code",
   "execution_count": 26,
   "metadata": {},
   "outputs": [
    {
     "data": {
      "text/plain": [
       "<AxesSubplot:>"
      ]
     },
     "execution_count": 26,
     "metadata": {},
     "output_type": "execute_result"
    },
    {
     "data": {
      "image/png": "[encoded data removed]",
      "text/plain": [
       "<Figure size 432x288 with 1 Axes>"
      ]
     },
     "metadata": {
      "needs_background": "light"
     },
     "output_type": "display_data"
    }
   ],
   "source": [
    "# изучение площади квартиры\n",
    "df['total_area'].value_counts()\n",
    "df['total_area'].hist(bins=30)"
   ]
  },
  {
   "cell_type": "code",
   "execution_count": 27,
   "metadata": {},
   "outputs": [
    {
     "data": {
      "text/plain": [
       "<AxesSubplot:>"
      ]
     },
     "execution_count": 27,
     "metadata": {},
     "output_type": "execute_result"
    },
    {
     "data": {
      "image/png": "[encoded data removed]",
      "text/plain": [
       "<Figure size 432x288 with 1 Axes>"
      ]
     },
     "metadata": {
      "needs_background": "light"
     },
     "output_type": "display_data"
    }
   ],
   "source": [
    "# изучение кол-ва комнат  \n",
    "df['rooms'].value_counts()\n",
    "df['rooms'].hist(bins=30)"
   ]
  },
  {
   "cell_type": "code",
   "execution_count": 28,
   "metadata": {},
   "outputs": [
    {
     "data": {
      "text/plain": [
       "<AxesSubplot:>"
      ]
     },
     "execution_count": 28,
     "metadata": {},
     "output_type": "execute_result"
    },
    {
     "data": {
      "image/png": "[encoded data removed]",
      "text/plain": [
       "<Figure size 432x288 with 1 Axes>"
      ]
     },
     "metadata": {
      "needs_background": "light"
     },
     "output_type": "display_data"
    }
   ],
   "source": [
    "# изучение высоты потолков \n",
    "df['ceiling_height'].value_counts()\n",
    "df['rooms'].hist(bins=30)"
   ]
  },
  {
   "cell_type": "code",
   "execution_count": 29,
   "metadata": {
    "scrolled": true
   },
   "outputs": [
    {
     "data": {
      "text/plain": [
       "0       3181\n",
       "45       880\n",
       "60       538\n",
       "7        234\n",
       "30       208\n",
       "        ... \n",
       "1112       1\n",
       "1080       1\n",
       "1064       1\n",
       "1032       1\n",
       "1391       1\n",
       "Name: days_exposition, Length: 1142, dtype: int64"
      ]
     },
     "execution_count": 29,
     "metadata": {},
     "output_type": "execute_result"
    }
   ],
   "source": [
    "# изучение времени продожи квартиры\n",
    "df['days_exposition'].value_counts()"
   ]
  },
  {
   "cell_type": "code",
   "execution_count": 30,
   "metadata": {
    "scrolled": true
   },
   "outputs": [
    {
     "data": {
      "text/plain": [
       "<AxesSubplot:>"
      ]
     },
     "execution_count": 30,
     "metadata": {},
     "output_type": "execute_result"
    },
    {
     "data": {
      "image/png": "[encoded data removed]",
      "text/plain": [
       "<Figure size 432x288 with 1 Axes>"
      ]
     },
     "metadata": {
      "needs_background": "light"
     },
     "output_type": "display_data"
    }
   ],
   "source": [
    "df['days_exposition'].hist(bins=30)"
   ]
  },
  {
   "cell_type": "code",
   "execution_count": 31,
   "metadata": {},
   "outputs": [
    {
     "data": {
      "text/plain": [
       "156.60884425503187"
      ]
     },
     "execution_count": 31,
     "metadata": {},
     "output_type": "execute_result"
    }
   ],
   "source": [
    "# время продожи среднее \n",
    "df['days_exposition'].mean()\n"
   ]
  },
  {
   "cell_type": "code",
   "execution_count": 32,
   "metadata": {
    "scrolled": true
   },
   "outputs": [
    {
     "data": {
      "text/plain": [
       "74.0"
      ]
     },
     "execution_count": 32,
     "metadata": {},
     "output_type": "execute_result"
    }
   ],
   "source": [
    "#  время продожи медиана\n",
    "df['days_exposition'].median()"
   ]
  },
  {
   "cell_type": "code",
   "execution_count": 33,
   "metadata": {
    "scrolled": true
   },
   "outputs": [
    {
     "data": {
      "text/html": [
       "<div>\n",
       "<style scoped>\n",
       "    .dataframe tbody tr th:only-of-type {\n",
       "        vertical-align: middle;\n",
       "    }\n",
       "\n",
       "    .dataframe tbody tr th {\n",
       "        vertical-align: top;\n",
       "    }\n",
       "\n",
       "    .dataframe thead th {\n",
       "        text-align: right;\n",
       "    }\n",
       "</style>\n",
       "<table border=\"1\" class=\"dataframe\">\n",
       "  <thead>\n",
       "    <tr style=\"text-align: right;\">\n",
       "      <th></th>\n",
       "      <th>days_exposition</th>\n",
       "    </tr>\n",
       "  </thead>\n",
       "  <tbody>\n",
       "    <tr>\n",
       "      <th>count</th>\n",
       "      <td>23699.000000</td>\n",
       "    </tr>\n",
       "    <tr>\n",
       "      <th>mean</th>\n",
       "      <td>156.608844</td>\n",
       "    </tr>\n",
       "    <tr>\n",
       "      <th>std</th>\n",
       "      <td>213.546873</td>\n",
       "    </tr>\n",
       "    <tr>\n",
       "      <th>min</th>\n",
       "      <td>0.000000</td>\n",
       "    </tr>\n",
       "    <tr>\n",
       "      <th>25%</th>\n",
       "      <td>22.000000</td>\n",
       "    </tr>\n",
       "    <tr>\n",
       "      <th>50%</th>\n",
       "      <td>74.000000</td>\n",
       "    </tr>\n",
       "    <tr>\n",
       "      <th>75%</th>\n",
       "      <td>199.000000</td>\n",
       "    </tr>\n",
       "    <tr>\n",
       "      <th>max</th>\n",
       "      <td>1580.000000</td>\n",
       "    </tr>\n",
       "  </tbody>\n",
       "</table>\n",
       "</div>"
      ],
      "text/plain": [
       "       days_exposition\n",
       "count     23699.000000\n",
       "mean        156.608844\n",
       "std         213.546873\n",
       "min           0.000000\n",
       "25%          22.000000\n",
       "50%          74.000000\n",
       "75%         199.000000\n",
       "max        1580.000000"
      ]
     },
     "execution_count": 33,
     "metadata": {},
     "output_type": "execute_result"
    }
   ],
   "source": [
    "df[['days_exposition']].describe()"
   ]
  },
  {
   "cell_type": "markdown",
   "metadata": {},
   "source": [
    "<div class=\"alert alert-info\">коммент 2\n",
    "    Анализ времени продажи квартиры:\n",
    "    \n",
    "    1.в среднем продажа занимает около 5 мес\n",
    "    \n",
    "    2 наибольшее  число квартир продается в диапазоне 200 дней ( 6.5 мес)\n",
    "    \n",
    "    3.быстрые продажи чуть более двух месяцев( по данным медианы)\n",
    "    \n",
    "    4. аномально долгие продажи, более четырех с половиной лет.\n",
    "    Это  времени, сопоставимо с длительностью исследования и позволяет предположить , что объявления забывали снять с публикации. \n",
    "    5. аномально быстрые продажи по  0 дней (кол-во-3181 , это пропущенные значения которые мы заменяли на 0)\n",
    "    \n",
    "    \n",
    "    \n",
    "    \n",
    "    \n",
    "    \n",
    "    \n",
    "    "
   ]
  },
  {
   "cell_type": "markdown",
   "metadata": {},
   "source": [
    "## Выявление , анализ и удаление аномальных значений"
   ]
  },
  {
   "cell_type": "code",
   "execution_count": 34,
   "metadata": {},
   "outputs": [
    {
     "data": {
      "text/plain": [
       "0        13000000.0\n",
       "1         3350000.0\n",
       "2         5196000.0\n",
       "3        64900000.0\n",
       "4        10000000.0\n",
       "            ...    \n",
       "23694     9700000.0\n",
       "23695     3100000.0\n",
       "23696     2500000.0\n",
       "23697    11475000.0\n",
       "23698     1350000.0\n",
       "Name: last_price, Length: 23699, dtype: float64"
      ]
     },
     "metadata": {},
     "output_type": "display_data"
    },
    {
     "data": {
      "text/html": [
       "<div>\n",
       "<style scoped>\n",
       "    .dataframe tbody tr th:only-of-type {\n",
       "        vertical-align: middle;\n",
       "    }\n",
       "\n",
       "    .dataframe tbody tr th {\n",
       "        vertical-align: top;\n",
       "    }\n",
       "\n",
       "    .dataframe thead th {\n",
       "        text-align: right;\n",
       "    }\n",
       "</style>\n",
       "<table border=\"1\" class=\"dataframe\">\n",
       "  <thead>\n",
       "    <tr style=\"text-align: right;\">\n",
       "      <th></th>\n",
       "      <th>last_price</th>\n",
       "    </tr>\n",
       "  </thead>\n",
       "  <tbody>\n",
       "    <tr>\n",
       "      <th>count</th>\n",
       "      <td>2.369900e+04</td>\n",
       "    </tr>\n",
       "    <tr>\n",
       "      <th>mean</th>\n",
       "      <td>6.541549e+06</td>\n",
       "    </tr>\n",
       "    <tr>\n",
       "      <th>std</th>\n",
       "      <td>1.088701e+07</td>\n",
       "    </tr>\n",
       "    <tr>\n",
       "      <th>min</th>\n",
       "      <td>1.219000e+04</td>\n",
       "    </tr>\n",
       "    <tr>\n",
       "      <th>25%</th>\n",
       "      <td>3.400000e+06</td>\n",
       "    </tr>\n",
       "    <tr>\n",
       "      <th>50%</th>\n",
       "      <td>4.650000e+06</td>\n",
       "    </tr>\n",
       "    <tr>\n",
       "      <th>75%</th>\n",
       "      <td>6.800000e+06</td>\n",
       "    </tr>\n",
       "    <tr>\n",
       "      <th>max</th>\n",
       "      <td>7.630000e+08</td>\n",
       "    </tr>\n",
       "  </tbody>\n",
       "</table>\n",
       "</div>"
      ],
      "text/plain": [
       "         last_price\n",
       "count  2.369900e+04\n",
       "mean   6.541549e+06\n",
       "std    1.088701e+07\n",
       "min    1.219000e+04\n",
       "25%    3.400000e+06\n",
       "50%    4.650000e+06\n",
       "75%    6.800000e+06\n",
       "max    7.630000e+08"
      ]
     },
     "execution_count": 34,
     "metadata": {},
     "output_type": "execute_result"
    },
    {
     "data": {
      "image/png": "[encoded data removed]",
      "text/plain": [
       "<Figure size 432x288 with 1 Axes>"
      ]
     },
     "metadata": {
      "needs_background": "light"
     },
     "output_type": "display_data"
    }
   ],
   "source": [
    " # изучение цены  продажи квартиры\n",
    "df['last_price'].value_counts()\n",
    "display(df['last_price'])\n",
    "plt.boxplot(x=df['last_price'])\n",
    "df[['last_price']].describe() "
   ]
  },
  {
   "cell_type": "code",
   "execution_count": 35,
   "metadata": {
    "scrolled": true
   },
   "outputs": [
    {
     "data": {
      "text/html": [
       "<div>\n",
       "<style scoped>\n",
       "    .dataframe tbody tr th:only-of-type {\n",
       "        vertical-align: middle;\n",
       "    }\n",
       "\n",
       "    .dataframe tbody tr th {\n",
       "        vertical-align: top;\n",
       "    }\n",
       "\n",
       "    .dataframe thead th {\n",
       "        text-align: right;\n",
       "    }\n",
       "</style>\n",
       "<table border=\"1\" class=\"dataframe\">\n",
       "  <thead>\n",
       "    <tr style=\"text-align: right;\">\n",
       "      <th></th>\n",
       "      <th>last_price</th>\n",
       "    </tr>\n",
       "  </thead>\n",
       "  <tbody>\n",
       "    <tr>\n",
       "      <th>count</th>\n",
       "      <td>2.369000e+04</td>\n",
       "    </tr>\n",
       "    <tr>\n",
       "      <th>mean</th>\n",
       "      <td>6.408173e+06</td>\n",
       "    </tr>\n",
       "    <tr>\n",
       "      <th>std</th>\n",
       "      <td>7.897411e+06</td>\n",
       "    </tr>\n",
       "    <tr>\n",
       "      <th>min</th>\n",
       "      <td>1.219000e+04</td>\n",
       "    </tr>\n",
       "    <tr>\n",
       "      <th>25%</th>\n",
       "      <td>3.400000e+06</td>\n",
       "    </tr>\n",
       "    <tr>\n",
       "      <th>50%</th>\n",
       "      <td>4.650000e+06</td>\n",
       "    </tr>\n",
       "    <tr>\n",
       "      <th>75%</th>\n",
       "      <td>6.790000e+06</td>\n",
       "    </tr>\n",
       "    <tr>\n",
       "      <th>max</th>\n",
       "      <td>1.908700e+08</td>\n",
       "    </tr>\n",
       "  </tbody>\n",
       "</table>\n",
       "</div>"
      ],
      "text/plain": [
       "         last_price\n",
       "count  2.369000e+04\n",
       "mean   6.408173e+06\n",
       "std    7.897411e+06\n",
       "min    1.219000e+04\n",
       "25%    3.400000e+06\n",
       "50%    4.650000e+06\n",
       "75%    6.790000e+06\n",
       "max    1.908700e+08"
      ]
     },
     "execution_count": 35,
     "metadata": {},
     "output_type": "execute_result"
    },
    {
     "data": {
      "image/png": "[encoded data removed]",
      "text/plain": [
       "<Figure size 432x288 with 1 Axes>"
      ]
     },
     "metadata": {
      "needs_background": "light"
     },
     "output_type": "display_data"
    }
   ],
   "source": [
    " # удаление аномалий и проверка \n",
    "\n",
    "df = df.loc[df['last_price'] <200000000]\n",
    "plt.boxplot(x=df['last_price'])\n",
    "df[['last_price']].describe() \n"
   ]
  },
  {
   "cell_type": "code",
   "execution_count": 36,
   "metadata": {
    "scrolled": true
   },
   "outputs": [
    {
     "data": {
      "text/plain": [
       "0        3\n",
       "1        1\n",
       "2        2\n",
       "3        3\n",
       "4        2\n",
       "        ..\n",
       "23694    3\n",
       "23695    3\n",
       "23696    2\n",
       "23697    2\n",
       "23698    1\n",
       "Name: rooms, Length: 23690, dtype: int64"
      ]
     },
     "metadata": {},
     "output_type": "display_data"
    },
    {
     "data": {
      "text/html": [
       "<div>\n",
       "<style scoped>\n",
       "    .dataframe tbody tr th:only-of-type {\n",
       "        vertical-align: middle;\n",
       "    }\n",
       "\n",
       "    .dataframe tbody tr th {\n",
       "        vertical-align: top;\n",
       "    }\n",
       "\n",
       "    .dataframe thead th {\n",
       "        text-align: right;\n",
       "    }\n",
       "</style>\n",
       "<table border=\"1\" class=\"dataframe\">\n",
       "  <thead>\n",
       "    <tr style=\"text-align: right;\">\n",
       "      <th></th>\n",
       "      <th>rooms</th>\n",
       "    </tr>\n",
       "  </thead>\n",
       "  <tbody>\n",
       "    <tr>\n",
       "      <th>count</th>\n",
       "      <td>23690.000000</td>\n",
       "    </tr>\n",
       "    <tr>\n",
       "      <th>mean</th>\n",
       "      <td>2.069143</td>\n",
       "    </tr>\n",
       "    <tr>\n",
       "      <th>std</th>\n",
       "      <td>1.074630</td>\n",
       "    </tr>\n",
       "    <tr>\n",
       "      <th>min</th>\n",
       "      <td>0.000000</td>\n",
       "    </tr>\n",
       "    <tr>\n",
       "      <th>25%</th>\n",
       "      <td>1.000000</td>\n",
       "    </tr>\n",
       "    <tr>\n",
       "      <th>50%</th>\n",
       "      <td>2.000000</td>\n",
       "    </tr>\n",
       "    <tr>\n",
       "      <th>75%</th>\n",
       "      <td>3.000000</td>\n",
       "    </tr>\n",
       "    <tr>\n",
       "      <th>max</th>\n",
       "      <td>19.000000</td>\n",
       "    </tr>\n",
       "  </tbody>\n",
       "</table>\n",
       "</div>"
      ],
      "text/plain": [
       "              rooms\n",
       "count  23690.000000\n",
       "mean       2.069143\n",
       "std        1.074630\n",
       "min        0.000000\n",
       "25%        1.000000\n",
       "50%        2.000000\n",
       "75%        3.000000\n",
       "max       19.000000"
      ]
     },
     "execution_count": 36,
     "metadata": {},
     "output_type": "execute_result"
    },
    {
     "data": {
      "image/png": "[encoded data removed]",
      "text/plain": [
       "<Figure size 432x288 with 1 Axes>"
      ]
     },
     "metadata": {
      "needs_background": "light"
     },
     "output_type": "display_data"
    }
   ],
   "source": [
    "# изучение комна\n",
    "df['rooms'].value_counts()\n",
    "display(df['rooms'])\n",
    "\n",
    "plt.boxplot(x=df['rooms'])\n",
    "df[['rooms']].describe() "
   ]
  },
  {
   "cell_type": "code",
   "execution_count": 37,
   "metadata": {},
   "outputs": [
    {
     "data": {
      "text/html": [
       "<div>\n",
       "<style scoped>\n",
       "    .dataframe tbody tr th:only-of-type {\n",
       "        vertical-align: middle;\n",
       "    }\n",
       "\n",
       "    .dataframe tbody tr th {\n",
       "        vertical-align: top;\n",
       "    }\n",
       "\n",
       "    .dataframe thead th {\n",
       "        text-align: right;\n",
       "    }\n",
       "</style>\n",
       "<table border=\"1\" class=\"dataframe\">\n",
       "  <thead>\n",
       "    <tr style=\"text-align: right;\">\n",
       "      <th></th>\n",
       "      <th>rooms</th>\n",
       "    </tr>\n",
       "  </thead>\n",
       "  <tbody>\n",
       "    <tr>\n",
       "      <th>count</th>\n",
       "      <td>23488.000000</td>\n",
       "    </tr>\n",
       "    <tr>\n",
       "      <th>mean</th>\n",
       "      <td>2.083617</td>\n",
       "    </tr>\n",
       "    <tr>\n",
       "      <th>std</th>\n",
       "      <td>1.043520</td>\n",
       "    </tr>\n",
       "    <tr>\n",
       "      <th>min</th>\n",
       "      <td>1.000000</td>\n",
       "    </tr>\n",
       "    <tr>\n",
       "      <th>25%</th>\n",
       "      <td>1.000000</td>\n",
       "    </tr>\n",
       "    <tr>\n",
       "      <th>50%</th>\n",
       "      <td>2.000000</td>\n",
       "    </tr>\n",
       "    <tr>\n",
       "      <th>75%</th>\n",
       "      <td>3.000000</td>\n",
       "    </tr>\n",
       "    <tr>\n",
       "      <th>max</th>\n",
       "      <td>11.000000</td>\n",
       "    </tr>\n",
       "  </tbody>\n",
       "</table>\n",
       "</div>"
      ],
      "text/plain": [
       "              rooms\n",
       "count  23488.000000\n",
       "mean       2.083617\n",
       "std        1.043520\n",
       "min        1.000000\n",
       "25%        1.000000\n",
       "50%        2.000000\n",
       "75%        3.000000\n",
       "max       11.000000"
      ]
     },
     "execution_count": 37,
     "metadata": {},
     "output_type": "execute_result"
    },
    {
     "data": {
      "image/png": "[encoded data removed]",
      "text/plain": [
       "<Figure size 432x288 with 1 Axes>"
      ]
     },
     "metadata": {
      "needs_background": "light"
     },
     "output_type": "display_data"
    }
   ],
   "source": [
    "# удаление аномалий и проверка \n",
    "df = df.loc[df['rooms']!=0]\n",
    "df = df.loc[df['rooms'] <12] \n",
    "plt.boxplot(x=df['rooms'])\n",
    "df[['rooms']].describe() \n",
    "\n"
   ]
  },
  {
   "cell_type": "code",
   "execution_count": 38,
   "metadata": {
    "scrolled": false
   },
   "outputs": [
    {
     "data": {
      "text/plain": [
       "0        120370\n",
       "1         82920\n",
       "2         92785\n",
       "3        408176\n",
       "4        100000\n",
       "          ...  \n",
       "23694     72490\n",
       "23695     52542\n",
       "23696     44091\n",
       "23697    149511\n",
       "23698     41795\n",
       "Name: sq_m_price, Length: 23488, dtype: int64"
      ]
     },
     "metadata": {},
     "output_type": "display_data"
    },
    {
     "data": {
      "text/html": [
       "<div>\n",
       "<style scoped>\n",
       "    .dataframe tbody tr th:only-of-type {\n",
       "        vertical-align: middle;\n",
       "    }\n",
       "\n",
       "    .dataframe tbody tr th {\n",
       "        vertical-align: top;\n",
       "    }\n",
       "\n",
       "    .dataframe thead th {\n",
       "        text-align: right;\n",
       "    }\n",
       "</style>\n",
       "<table border=\"1\" class=\"dataframe\">\n",
       "  <thead>\n",
       "    <tr style=\"text-align: right;\">\n",
       "      <th></th>\n",
       "      <th>sq_m_price</th>\n",
       "    </tr>\n",
       "  </thead>\n",
       "  <tbody>\n",
       "    <tr>\n",
       "      <th>count</th>\n",
       "      <td>23488.000000</td>\n",
       "    </tr>\n",
       "    <tr>\n",
       "      <th>mean</th>\n",
       "      <td>98998.470836</td>\n",
       "    </tr>\n",
       "    <tr>\n",
       "      <th>std</th>\n",
       "      <td>46013.913115</td>\n",
       "    </tr>\n",
       "    <tr>\n",
       "      <th>min</th>\n",
       "      <td>111.000000</td>\n",
       "    </tr>\n",
       "    <tr>\n",
       "      <th>25%</th>\n",
       "      <td>76470.000000</td>\n",
       "    </tr>\n",
       "    <tr>\n",
       "      <th>50%</th>\n",
       "      <td>94878.000000</td>\n",
       "    </tr>\n",
       "    <tr>\n",
       "      <th>75%</th>\n",
       "      <td>114037.500000</td>\n",
       "    </tr>\n",
       "    <tr>\n",
       "      <th>max</th>\n",
       "      <td>995983.000000</td>\n",
       "    </tr>\n",
       "  </tbody>\n",
       "</table>\n",
       "</div>"
      ],
      "text/plain": [
       "          sq_m_price\n",
       "count   23488.000000\n",
       "mean    98998.470836\n",
       "std     46013.913115\n",
       "min       111.000000\n",
       "25%     76470.000000\n",
       "50%     94878.000000\n",
       "75%    114037.500000\n",
       "max    995983.000000"
      ]
     },
     "execution_count": 38,
     "metadata": {},
     "output_type": "execute_result"
    },
    {
     "data": {
      "image/png": "[encoded data removed]",
      "text/plain": [
       "<Figure size 432x288 with 1 Axes>"
      ]
     },
     "metadata": {
      "needs_background": "light"
     },
     "output_type": "display_data"
    }
   ],
   "source": [
    "# изучение цены квадратного метра квартиры\n",
    "df['sq_m_price'].value_counts()\n",
    "display(df['sq_m_price'])\n",
    "plt.boxplot(x=df['sq_m_price'])\n",
    "df[['sq_m_price']].describe()"
   ]
  },
  {
   "cell_type": "code",
   "execution_count": 39,
   "metadata": {},
   "outputs": [
    {
     "data": {
      "text/html": [
       "<div>\n",
       "<style scoped>\n",
       "    .dataframe tbody tr th:only-of-type {\n",
       "        vertical-align: middle;\n",
       "    }\n",
       "\n",
       "    .dataframe tbody tr th {\n",
       "        vertical-align: top;\n",
       "    }\n",
       "\n",
       "    .dataframe thead th {\n",
       "        text-align: right;\n",
       "    }\n",
       "</style>\n",
       "<table border=\"1\" class=\"dataframe\">\n",
       "  <thead>\n",
       "    <tr style=\"text-align: right;\">\n",
       "      <th></th>\n",
       "      <th>sq_m_price</th>\n",
       "    </tr>\n",
       "  </thead>\n",
       "  <tbody>\n",
       "    <tr>\n",
       "      <th>count</th>\n",
       "      <td>23488.000000</td>\n",
       "    </tr>\n",
       "    <tr>\n",
       "      <th>mean</th>\n",
       "      <td>98998.470836</td>\n",
       "    </tr>\n",
       "    <tr>\n",
       "      <th>std</th>\n",
       "      <td>46013.913115</td>\n",
       "    </tr>\n",
       "    <tr>\n",
       "      <th>min</th>\n",
       "      <td>111.000000</td>\n",
       "    </tr>\n",
       "    <tr>\n",
       "      <th>25%</th>\n",
       "      <td>76470.000000</td>\n",
       "    </tr>\n",
       "    <tr>\n",
       "      <th>50%</th>\n",
       "      <td>94878.000000</td>\n",
       "    </tr>\n",
       "    <tr>\n",
       "      <th>75%</th>\n",
       "      <td>114037.500000</td>\n",
       "    </tr>\n",
       "    <tr>\n",
       "      <th>max</th>\n",
       "      <td>995983.000000</td>\n",
       "    </tr>\n",
       "  </tbody>\n",
       "</table>\n",
       "</div>"
      ],
      "text/plain": [
       "          sq_m_price\n",
       "count   23488.000000\n",
       "mean    98998.470836\n",
       "std     46013.913115\n",
       "min       111.000000\n",
       "25%     76470.000000\n",
       "50%     94878.000000\n",
       "75%    114037.500000\n",
       "max    995983.000000"
      ]
     },
     "execution_count": 39,
     "metadata": {},
     "output_type": "execute_result"
    },
    {
     "data": {
      "image/png": "[encoded data removed]",
      "text/plain": [
       "<Figure size 432x288 with 1 Axes>"
      ]
     },
     "metadata": {
      "needs_background": "light"
     },
     "output_type": "display_data"
    }
   ],
   "source": [
    "# удаление аномалий и проверка \n",
    "df = df.loc[df['sq_m_price']!=0]\n",
    "df = df.loc[df['sq_m_price'] <1000000]\n",
    "plt.boxplot(x=df['sq_m_price'])\n",
    "df[['sq_m_price']].describe() "
   ]
  },
  {
   "cell_type": "code",
   "execution_count": 40,
   "metadata": {
    "scrolled": true
   },
   "outputs": [
    {
     "data": {
      "text/plain": [
       "0        108.00\n",
       "1         40.40\n",
       "2         56.00\n",
       "3        159.00\n",
       "4        100.00\n",
       "          ...  \n",
       "23694    133.81\n",
       "23695     59.00\n",
       "23696     56.70\n",
       "23697     76.75\n",
       "23698     32.30\n",
       "Name: total_area, Length: 23488, dtype: float64"
      ]
     },
     "metadata": {},
     "output_type": "display_data"
    },
    {
     "data": {
      "text/html": [
       "<div>\n",
       "<style scoped>\n",
       "    .dataframe tbody tr th:only-of-type {\n",
       "        vertical-align: middle;\n",
       "    }\n",
       "\n",
       "    .dataframe tbody tr th {\n",
       "        vertical-align: top;\n",
       "    }\n",
       "\n",
       "    .dataframe thead th {\n",
       "        text-align: right;\n",
       "    }\n",
       "</style>\n",
       "<table border=\"1\" class=\"dataframe\">\n",
       "  <thead>\n",
       "    <tr style=\"text-align: right;\">\n",
       "      <th></th>\n",
       "      <th>total_area</th>\n",
       "    </tr>\n",
       "  </thead>\n",
       "  <tbody>\n",
       "    <tr>\n",
       "      <th>count</th>\n",
       "      <td>23488.000000</td>\n",
       "    </tr>\n",
       "    <tr>\n",
       "      <th>mean</th>\n",
       "      <td>60.401029</td>\n",
       "    </tr>\n",
       "    <tr>\n",
       "      <th>std</th>\n",
       "      <td>34.285080</td>\n",
       "    </tr>\n",
       "    <tr>\n",
       "      <th>min</th>\n",
       "      <td>12.000000</td>\n",
       "    </tr>\n",
       "    <tr>\n",
       "      <th>25%</th>\n",
       "      <td>40.172500</td>\n",
       "    </tr>\n",
       "    <tr>\n",
       "      <th>50%</th>\n",
       "      <td>52.000000</td>\n",
       "    </tr>\n",
       "    <tr>\n",
       "      <th>75%</th>\n",
       "      <td>70.000000</td>\n",
       "    </tr>\n",
       "    <tr>\n",
       "      <th>max</th>\n",
       "      <td>631.200000</td>\n",
       "    </tr>\n",
       "  </tbody>\n",
       "</table>\n",
       "</div>"
      ],
      "text/plain": [
       "         total_area\n",
       "count  23488.000000\n",
       "mean      60.401029\n",
       "std       34.285080\n",
       "min       12.000000\n",
       "25%       40.172500\n",
       "50%       52.000000\n",
       "75%       70.000000\n",
       "max      631.200000"
      ]
     },
     "execution_count": 40,
     "metadata": {},
     "output_type": "execute_result"
    },
    {
     "data": {
      "image/png": "[encoded data removed]",
      "text/plain": [
       "<Figure size 432x288 with 1 Axes>"
      ]
     },
     "metadata": {
      "needs_background": "light"
     },
     "output_type": "display_data"
    }
   ],
   "source": [
    "# изучение цены квадратного метра квартиры\n",
    "df['total_area'].value_counts()\n",
    "display(df['total_area'])\n",
    "plt.boxplot(x=df['total_area'])\n",
    "df[['total_area']].describe()"
   ]
  },
  {
   "cell_type": "code",
   "execution_count": 41,
   "metadata": {
    "scrolled": false
   },
   "outputs": [
    {
     "data": {
      "text/html": [
       "<div>\n",
       "<style scoped>\n",
       "    .dataframe tbody tr th:only-of-type {\n",
       "        vertical-align: middle;\n",
       "    }\n",
       "\n",
       "    .dataframe tbody tr th {\n",
       "        vertical-align: top;\n",
       "    }\n",
       "\n",
       "    .dataframe thead th {\n",
       "        text-align: right;\n",
       "    }\n",
       "</style>\n",
       "<table border=\"1\" class=\"dataframe\">\n",
       "  <thead>\n",
       "    <tr style=\"text-align: right;\">\n",
       "      <th></th>\n",
       "      <th>total_area</th>\n",
       "    </tr>\n",
       "  </thead>\n",
       "  <tbody>\n",
       "    <tr>\n",
       "      <th>count</th>\n",
       "      <td>23488.000000</td>\n",
       "    </tr>\n",
       "    <tr>\n",
       "      <th>mean</th>\n",
       "      <td>60.401029</td>\n",
       "    </tr>\n",
       "    <tr>\n",
       "      <th>std</th>\n",
       "      <td>34.285080</td>\n",
       "    </tr>\n",
       "    <tr>\n",
       "      <th>min</th>\n",
       "      <td>12.000000</td>\n",
       "    </tr>\n",
       "    <tr>\n",
       "      <th>25%</th>\n",
       "      <td>40.172500</td>\n",
       "    </tr>\n",
       "    <tr>\n",
       "      <th>50%</th>\n",
       "      <td>52.000000</td>\n",
       "    </tr>\n",
       "    <tr>\n",
       "      <th>75%</th>\n",
       "      <td>70.000000</td>\n",
       "    </tr>\n",
       "    <tr>\n",
       "      <th>max</th>\n",
       "      <td>631.200000</td>\n",
       "    </tr>\n",
       "  </tbody>\n",
       "</table>\n",
       "</div>"
      ],
      "text/plain": [
       "         total_area\n",
       "count  23488.000000\n",
       "mean      60.401029\n",
       "std       34.285080\n",
       "min       12.000000\n",
       "25%       40.172500\n",
       "50%       52.000000\n",
       "75%       70.000000\n",
       "max      631.200000"
      ]
     },
     "execution_count": 41,
     "metadata": {},
     "output_type": "execute_result"
    },
    {
     "data": {
      "image/png": "[encoded data removed]",
      "text/plain": [
       "<Figure size 432x288 with 1 Axes>"
      ]
     },
     "metadata": {
      "needs_background": "light"
     },
     "output_type": "display_data"
    }
   ],
   "source": [
    "# удаление аномалий и проверка \n",
    "df = df.loc[df['total_area']!=0]\n",
    "df = df.loc[df['total_area'] <400000]\n",
    "plt.boxplot(x=df['total_area'])\n",
    "df[['total_area']].describe() "
   ]
  },
  {
   "cell_type": "code",
   "execution_count": 88,
   "metadata": {},
   "outputs": [
    {
     "data": {
      "text/plain": [
       "631.2"
      ]
     },
     "execution_count": 88,
     "metadata": {},
     "output_type": "execute_result"
    }
   ],
   "source": [
    "#код ревьюера\n",
    "df['total_area'].max()"
   ]
  },
  {
   "cell_type": "code",
   "execution_count": 42,
   "metadata": {
    "scrolled": false
   },
   "outputs": [
    {
     "data": {
      "text/html": [
       "<div>\n",
       "<style scoped>\n",
       "    .dataframe tbody tr th:only-of-type {\n",
       "        vertical-align: middle;\n",
       "    }\n",
       "\n",
       "    .dataframe tbody tr th {\n",
       "        vertical-align: top;\n",
       "    }\n",
       "\n",
       "    .dataframe thead tr th {\n",
       "        text-align: left;\n",
       "    }\n",
       "\n",
       "    .dataframe thead tr:last-of-type th {\n",
       "        text-align: right;\n",
       "    }\n",
       "</style>\n",
       "<table border=\"1\" class=\"dataframe\">\n",
       "  <thead>\n",
       "    <tr>\n",
       "      <th></th>\n",
       "      <th>count</th>\n",
       "      <th>sum</th>\n",
       "      <th>mean</th>\n",
       "      <th>median</th>\n",
       "    </tr>\n",
       "    <tr>\n",
       "      <th></th>\n",
       "      <th>last_price</th>\n",
       "      <th>last_price</th>\n",
       "      <th>last_price</th>\n",
       "      <th>last_price</th>\n",
       "    </tr>\n",
       "    <tr>\n",
       "      <th>total_area</th>\n",
       "      <th></th>\n",
       "      <th></th>\n",
       "      <th></th>\n",
       "      <th></th>\n",
       "    </tr>\n",
       "  </thead>\n",
       "  <tbody>\n",
       "    <tr>\n",
       "      <th>12.0</th>\n",
       "      <td>1</td>\n",
       "      <td>2400000.0</td>\n",
       "      <td>2400000.0</td>\n",
       "      <td>2400000.0</td>\n",
       "    </tr>\n",
       "    <tr>\n",
       "      <th>13.0</th>\n",
       "      <td>3</td>\n",
       "      <td>7050000.0</td>\n",
       "      <td>2350000.0</td>\n",
       "      <td>1850000.0</td>\n",
       "    </tr>\n",
       "    <tr>\n",
       "      <th>13.2</th>\n",
       "      <td>1</td>\n",
       "      <td>1686000.0</td>\n",
       "      <td>1686000.0</td>\n",
       "      <td>1686000.0</td>\n",
       "    </tr>\n",
       "    <tr>\n",
       "      <th>14.0</th>\n",
       "      <td>1</td>\n",
       "      <td>1190000.0</td>\n",
       "      <td>1190000.0</td>\n",
       "      <td>1190000.0</td>\n",
       "    </tr>\n",
       "    <tr>\n",
       "      <th>15.0</th>\n",
       "      <td>2</td>\n",
       "      <td>3450000.0</td>\n",
       "      <td>1725000.0</td>\n",
       "      <td>1725000.0</td>\n",
       "    </tr>\n",
       "    <tr>\n",
       "      <th>...</th>\n",
       "      <td>...</td>\n",
       "      <td>...</td>\n",
       "      <td>...</td>\n",
       "      <td>...</td>\n",
       "    </tr>\n",
       "    <tr>\n",
       "      <th>500.0</th>\n",
       "      <td>1</td>\n",
       "      <td>150000000.0</td>\n",
       "      <td>150000000.0</td>\n",
       "      <td>150000000.0</td>\n",
       "    </tr>\n",
       "    <tr>\n",
       "      <th>507.0</th>\n",
       "      <td>1</td>\n",
       "      <td>84000000.0</td>\n",
       "      <td>84000000.0</td>\n",
       "      <td>84000000.0</td>\n",
       "    </tr>\n",
       "    <tr>\n",
       "      <th>517.0</th>\n",
       "      <td>1</td>\n",
       "      <td>50000000.0</td>\n",
       "      <td>50000000.0</td>\n",
       "      <td>50000000.0</td>\n",
       "    </tr>\n",
       "    <tr>\n",
       "      <th>631.0</th>\n",
       "      <td>1</td>\n",
       "      <td>140000000.0</td>\n",
       "      <td>140000000.0</td>\n",
       "      <td>140000000.0</td>\n",
       "    </tr>\n",
       "    <tr>\n",
       "      <th>631.2</th>\n",
       "      <td>1</td>\n",
       "      <td>140000000.0</td>\n",
       "      <td>140000000.0</td>\n",
       "      <td>140000000.0</td>\n",
       "    </tr>\n",
       "  </tbody>\n",
       "</table>\n",
       "<p>2143 rows × 4 columns</p>\n",
       "</div>"
      ],
      "text/plain": [
       "                count          sum         mean       median\n",
       "           last_price   last_price   last_price   last_price\n",
       "total_area                                                  \n",
       "12.0                1    2400000.0    2400000.0    2400000.0\n",
       "13.0                3    7050000.0    2350000.0    1850000.0\n",
       "13.2                1    1686000.0    1686000.0    1686000.0\n",
       "14.0                1    1190000.0    1190000.0    1190000.0\n",
       "15.0                2    3450000.0    1725000.0    1725000.0\n",
       "...               ...          ...          ...          ...\n",
       "500.0               1  150000000.0  150000000.0  150000000.0\n",
       "507.0               1   84000000.0   84000000.0   84000000.0\n",
       "517.0               1   50000000.0   50000000.0   50000000.0\n",
       "631.0               1  140000000.0  140000000.0  140000000.0\n",
       "631.2               1  140000000.0  140000000.0  140000000.0\n",
       "\n",
       "[2143 rows x 4 columns]"
      ]
     },
     "metadata": {},
     "output_type": "display_data"
    }
   ],
   "source": [
    "df_new_total_area = df.pivot_table(index='total_area', values='last_price', aggfunc=['count','sum','mean','median']) \n",
    "\n",
    "display(df_new_total_area)"
   ]
  },
  {
   "cell_type": "code",
   "execution_count": 43,
   "metadata": {},
   "outputs": [
    {
     "data": {
      "text/plain": [
       "<matplotlib.collections.PathCollection at 0x7f9fd2b47580>"
      ]
     },
     "execution_count": 43,
     "metadata": {},
     "output_type": "execute_result"
    },
    {
     "data": {
      "image/png": "[encoded data removed]",
      "text/plain": [
       "<Figure size 432x288 with 1 Axes>"
      ]
     },
     "metadata": {
      "needs_background": "light"
     },
     "output_type": "display_data"
    }
   ],
   "source": [
    "plt.xlabel('total_area')\n",
    "plt.ylabel('last_price')\n",
    "plt.scatter(x=df['total_area'], y=df['last_price'])\n"
   ]
  },
  {
   "cell_type": "code",
   "execution_count": 44,
   "metadata": {
    "scrolled": true
   },
   "outputs": [
    {
     "data": {
      "text/html": [
       "<div>\n",
       "<style scoped>\n",
       "    .dataframe tbody tr th:only-of-type {\n",
       "        vertical-align: middle;\n",
       "    }\n",
       "\n",
       "    .dataframe tbody tr th {\n",
       "        vertical-align: top;\n",
       "    }\n",
       "\n",
       "    .dataframe thead tr th {\n",
       "        text-align: left;\n",
       "    }\n",
       "\n",
       "    .dataframe thead tr:last-of-type th {\n",
       "        text-align: right;\n",
       "    }\n",
       "</style>\n",
       "<table border=\"1\" class=\"dataframe\">\n",
       "  <thead>\n",
       "    <tr>\n",
       "      <th></th>\n",
       "      <th>count</th>\n",
       "      <th>sum</th>\n",
       "      <th>mean</th>\n",
       "      <th>median</th>\n",
       "    </tr>\n",
       "    <tr>\n",
       "      <th></th>\n",
       "      <th>sq_m_price</th>\n",
       "      <th>sq_m_price</th>\n",
       "      <th>sq_m_price</th>\n",
       "      <th>sq_m_price</th>\n",
       "    </tr>\n",
       "    <tr>\n",
       "      <th>floor_category</th>\n",
       "      <th></th>\n",
       "      <th></th>\n",
       "      <th></th>\n",
       "      <th></th>\n",
       "    </tr>\n",
       "  </thead>\n",
       "  <tbody>\n",
       "    <tr>\n",
       "      <th>другой</th>\n",
       "      <td>17271</td>\n",
       "      <td>1783430411</td>\n",
       "      <td>103261.560477</td>\n",
       "      <td>98196</td>\n",
       "    </tr>\n",
       "    <tr>\n",
       "      <th>первый</th>\n",
       "      <td>2899</td>\n",
       "      <td>237424072</td>\n",
       "      <td>81898.610555</td>\n",
       "      <td>81218</td>\n",
       "    </tr>\n",
       "    <tr>\n",
       "      <th>последний</th>\n",
       "      <td>3318</td>\n",
       "      <td>304421600</td>\n",
       "      <td>91748.523207</td>\n",
       "      <td>87688</td>\n",
       "    </tr>\n",
       "  </tbody>\n",
       "</table>\n",
       "</div>"
      ],
      "text/plain": [
       "                    count         sum           mean     median\n",
       "               sq_m_price  sq_m_price     sq_m_price sq_m_price\n",
       "floor_category                                                 \n",
       "другой              17271  1783430411  103261.560477      98196\n",
       "первый               2899   237424072   81898.610555      81218\n",
       "последний            3318   304421600   91748.523207      87688"
      ]
     },
     "metadata": {},
     "output_type": "display_data"
    }
   ],
   "source": [
    "df_new_floor_category = df.pivot_table(index='floor_category', values='sq_m_price', aggfunc=['count','sum','mean','median']) \n",
    "\n",
    "display(df_new_floor_category)"
   ]
  },
  {
   "cell_type": "code",
   "execution_count": 45,
   "metadata": {},
   "outputs": [
    {
     "data": {
      "text/plain": [
       "MultiIndex([( 'count', 'sq_m_price'),\n",
       "            (   'sum', 'sq_m_price'),\n",
       "            (  'mean', 'sq_m_price'),\n",
       "            ('median', 'sq_m_price')],\n",
       "           )"
      ]
     },
     "execution_count": 45,
     "metadata": {},
     "output_type": "execute_result"
    }
   ],
   "source": [
    "df_new_floor_category.columns"
   ]
  },
  {
   "cell_type": "code",
   "execution_count": 46,
   "metadata": {
    "scrolled": false
   },
   "outputs": [
    {
     "data": {
      "text/plain": [
       "<AxesSubplot:title={'center':'Распределение стоимости по категории этажа'}, xlabel='floor_category'>"
      ]
     },
     "execution_count": 46,
     "metadata": {},
     "output_type": "execute_result"
    },
    {
     "data": {
      "image/png": "[encoded data removed]",
      "text/plain": [
       "<Figure size 1080x432 with 1 Axes>"
      ]
     },
     "metadata": {
      "needs_background": "light"
     },
     "output_type": "display_data"
    }
   ],
   "source": [
    "df_new_floor_category['mean', 'sq_m_price'].plot(kind='bar', \n",
    "                                      figsize=(15, 6), \n",
    "                                      title='Распределение стоимости по категории этажа', \n",
    "                                      grid=True)"
   ]
  },
  {
   "cell_type": "code",
   "execution_count": 47,
   "metadata": {},
   "outputs": [
    {
     "data": {
      "text/html": [
       "<div>\n",
       "<style scoped>\n",
       "    .dataframe tbody tr th:only-of-type {\n",
       "        vertical-align: middle;\n",
       "    }\n",
       "\n",
       "    .dataframe tbody tr th {\n",
       "        vertical-align: top;\n",
       "    }\n",
       "\n",
       "    .dataframe thead tr th {\n",
       "        text-align: left;\n",
       "    }\n",
       "\n",
       "    .dataframe thead tr:last-of-type th {\n",
       "        text-align: right;\n",
       "    }\n",
       "</style>\n",
       "<table border=\"1\" class=\"dataframe\">\n",
       "  <thead>\n",
       "    <tr>\n",
       "      <th></th>\n",
       "      <th>count</th>\n",
       "      <th>sum</th>\n",
       "      <th>mean</th>\n",
       "      <th>max</th>\n",
       "    </tr>\n",
       "    <tr>\n",
       "      <th></th>\n",
       "      <th>sq_m_price</th>\n",
       "      <th>sq_m_price</th>\n",
       "      <th>sq_m_price</th>\n",
       "      <th>sq_m_price</th>\n",
       "    </tr>\n",
       "    <tr>\n",
       "      <th>rooms</th>\n",
       "      <th></th>\n",
       "      <th></th>\n",
       "      <th></th>\n",
       "      <th></th>\n",
       "    </tr>\n",
       "  </thead>\n",
       "  <tbody>\n",
       "    <tr>\n",
       "      <th>1</th>\n",
       "      <td>8047</td>\n",
       "      <td>811281086</td>\n",
       "      <td>100817.830993</td>\n",
       "      <td>848484</td>\n",
       "    </tr>\n",
       "    <tr>\n",
       "      <th>2</th>\n",
       "      <td>7939</td>\n",
       "      <td>756641704</td>\n",
       "      <td>95306.928329</td>\n",
       "      <td>612557</td>\n",
       "    </tr>\n",
       "    <tr>\n",
       "      <th>3</th>\n",
       "      <td>5813</td>\n",
       "      <td>563097295</td>\n",
       "      <td>96868.621194</td>\n",
       "      <td>841379</td>\n",
       "    </tr>\n",
       "    <tr>\n",
       "      <th>4</th>\n",
       "      <td>1180</td>\n",
       "      <td>130190769</td>\n",
       "      <td>110331.160169</td>\n",
       "      <td>995983</td>\n",
       "    </tr>\n",
       "    <tr>\n",
       "      <th>5</th>\n",
       "      <td>325</td>\n",
       "      <td>40319716</td>\n",
       "      <td>124060.664615</td>\n",
       "      <td>658436</td>\n",
       "    </tr>\n",
       "    <tr>\n",
       "      <th>6</th>\n",
       "      <td>102</td>\n",
       "      <td>12872519</td>\n",
       "      <td>126201.166667</td>\n",
       "      <td>562770</td>\n",
       "    </tr>\n",
       "    <tr>\n",
       "      <th>7</th>\n",
       "      <td>57</td>\n",
       "      <td>7257664</td>\n",
       "      <td>127327.438596</td>\n",
       "      <td>348936</td>\n",
       "    </tr>\n",
       "    <tr>\n",
       "      <th>8</th>\n",
       "      <td>12</td>\n",
       "      <td>2215807</td>\n",
       "      <td>184650.583333</td>\n",
       "      <td>652173</td>\n",
       "    </tr>\n",
       "    <tr>\n",
       "      <th>9</th>\n",
       "      <td>8</td>\n",
       "      <td>840215</td>\n",
       "      <td>105026.875000</td>\n",
       "      <td>220000</td>\n",
       "    </tr>\n",
       "    <tr>\n",
       "      <th>10</th>\n",
       "      <td>3</td>\n",
       "      <td>294029</td>\n",
       "      <td>98009.666667</td>\n",
       "      <td>137931</td>\n",
       "    </tr>\n",
       "    <tr>\n",
       "      <th>11</th>\n",
       "      <td>2</td>\n",
       "      <td>265279</td>\n",
       "      <td>132639.500000</td>\n",
       "      <td>170015</td>\n",
       "    </tr>\n",
       "  </tbody>\n",
       "</table>\n",
       "</div>"
      ],
      "text/plain": [
       "           count        sum           mean        max\n",
       "      sq_m_price sq_m_price     sq_m_price sq_m_price\n",
       "rooms                                                \n",
       "1           8047  811281086  100817.830993     848484\n",
       "2           7939  756641704   95306.928329     612557\n",
       "3           5813  563097295   96868.621194     841379\n",
       "4           1180  130190769  110331.160169     995983\n",
       "5            325   40319716  124060.664615     658436\n",
       "6            102   12872519  126201.166667     562770\n",
       "7             57    7257664  127327.438596     348936\n",
       "8             12    2215807  184650.583333     652173\n",
       "9              8     840215  105026.875000     220000\n",
       "10             3     294029   98009.666667     137931\n",
       "11             2     265279  132639.500000     170015"
      ]
     },
     "metadata": {},
     "output_type": "display_data"
    }
   ],
   "source": [
    "df_new_rooms = df.pivot_table(index='rooms', values='sq_m_price', aggfunc=['count','sum','mean','max']) \n",
    "\n",
    "display(df_new_rooms)"
   ]
  },
  {
   "cell_type": "code",
   "execution_count": 48,
   "metadata": {},
   "outputs": [
    {
     "data": {
      "text/plain": [
       "MultiIndex([('count', 'sq_m_price'),\n",
       "            (  'sum', 'sq_m_price'),\n",
       "            ( 'mean', 'sq_m_price'),\n",
       "            (  'max', 'sq_m_price')],\n",
       "           )"
      ]
     },
     "execution_count": 48,
     "metadata": {},
     "output_type": "execute_result"
    }
   ],
   "source": [
    "df_new_rooms.columns"
   ]
  },
  {
   "cell_type": "code",
   "execution_count": 49,
   "metadata": {
    "scrolled": false
   },
   "outputs": [
    {
     "data": {
      "text/plain": [
       "<AxesSubplot:title={'center':'Распределение цены от числа комнат'}, xlabel='rooms'>"
      ]
     },
     "execution_count": 49,
     "metadata": {},
     "output_type": "execute_result"
    },
    {
     "data": {
      "image/png": "[encoded data removed]",
      "text/plain": [
       "<Figure size 1080x432 with 1 Axes>"
      ]
     },
     "metadata": {
      "needs_background": "light"
     },
     "output_type": "display_data"
    }
   ],
   "source": [
    "df_new_rooms['mean', 'sq_m_price'].plot(kind='bar', \n",
    "                                      figsize=(15, 6), \n",
    "                                      title='Распределение цены от числа комнат', \n",
    "                                      grid=True)"
   ]
  },
  {
   "cell_type": "code",
   "execution_count": 50,
   "metadata": {
    "scrolled": true
   },
   "outputs": [
    {
     "data": {
      "text/html": [
       "<div>\n",
       "<style scoped>\n",
       "    .dataframe tbody tr th:only-of-type {\n",
       "        vertical-align: middle;\n",
       "    }\n",
       "\n",
       "    .dataframe tbody tr th {\n",
       "        vertical-align: top;\n",
       "    }\n",
       "\n",
       "    .dataframe thead th {\n",
       "        text-align: right;\n",
       "    }\n",
       "</style>\n",
       "<table border=\"1\" class=\"dataframe\">\n",
       "  <thead>\n",
       "    <tr style=\"text-align: right;\">\n",
       "      <th></th>\n",
       "      <th>sq_m_price</th>\n",
       "    </tr>\n",
       "    <tr>\n",
       "      <th>cityCenters_nearest</th>\n",
       "      <th></th>\n",
       "    </tr>\n",
       "  </thead>\n",
       "  <tbody>\n",
       "    <tr>\n",
       "      <th>0.181</th>\n",
       "      <td>195591.0</td>\n",
       "    </tr>\n",
       "    <tr>\n",
       "      <th>0.208</th>\n",
       "      <td>172619.0</td>\n",
       "    </tr>\n",
       "    <tr>\n",
       "      <th>0.215</th>\n",
       "      <td>109900.0</td>\n",
       "    </tr>\n",
       "    <tr>\n",
       "      <th>0.287</th>\n",
       "      <td>88796.0</td>\n",
       "    </tr>\n",
       "    <tr>\n",
       "      <th>0.291</th>\n",
       "      <td>101321.0</td>\n",
       "    </tr>\n",
       "    <tr>\n",
       "      <th>...</th>\n",
       "      <td>...</td>\n",
       "    </tr>\n",
       "    <tr>\n",
       "      <th>64.857</th>\n",
       "      <td>67843.0</td>\n",
       "    </tr>\n",
       "    <tr>\n",
       "      <th>65.105</th>\n",
       "      <td>75862.0</td>\n",
       "    </tr>\n",
       "    <tr>\n",
       "      <th>65.764</th>\n",
       "      <td>67796.0</td>\n",
       "    </tr>\n",
       "    <tr>\n",
       "      <th>65.952</th>\n",
       "      <td>71146.0</td>\n",
       "    </tr>\n",
       "    <tr>\n",
       "      <th>65.968</th>\n",
       "      <td>81712.0</td>\n",
       "    </tr>\n",
       "  </tbody>\n",
       "</table>\n",
       "<p>7624 rows × 1 columns</p>\n",
       "</div>"
      ],
      "text/plain": [
       "                     sq_m_price\n",
       "cityCenters_nearest            \n",
       "0.181                  195591.0\n",
       "0.208                  172619.0\n",
       "0.215                  109900.0\n",
       "0.287                   88796.0\n",
       "0.291                  101321.0\n",
       "...                         ...\n",
       "64.857                  67843.0\n",
       "65.105                  75862.0\n",
       "65.764                  67796.0\n",
       "65.952                  71146.0\n",
       "65.968                  81712.0\n",
       "\n",
       "[7624 rows x 1 columns]"
      ]
     },
     "metadata": {},
     "output_type": "display_data"
    }
   ],
   "source": [
    "#зависимость стоимости цены квадратного метра от удаленности от ценра \n",
    "df_new_cityCenters_nearest = df.pivot_table(index='cityCenters_nearest', values='sq_m_price',aggfunc='mean')\n",
    "display(df_new_cityCenters_nearest)"
   ]
  },
  {
   "cell_type": "code",
   "execution_count": 51,
   "metadata": {},
   "outputs": [
    {
     "data": {
      "text/plain": [
       "<matplotlib.collections.PathCollection at 0x7f9fd28a5c40>"
      ]
     },
     "execution_count": 51,
     "metadata": {},
     "output_type": "execute_result"
    },
    {
     "data": {
      "image/png": "[encoded data removed]",
      "text/plain": [
       "<Figure size 432x288 with 1 Axes>"
      ]
     },
     "metadata": {
      "needs_background": "light"
     },
     "output_type": "display_data"
    }
   ],
   "source": [
    "plt.xlabel('cityCenters_nearest')\n",
    "plt.ylabel('sq_m_price')\n",
    "plt.scatter(x=df['cityCenters_nearest'], y=df['sq_m_price'])"
   ]
  },
  {
   "cell_type": "markdown",
   "metadata": {},
   "source": [
    "<div class=\"alert alert-info\">  Стоимость квадратного метра  в радиусе примерно 7-10 км от центра максимальная "
   ]
  },
  {
   "cell_type": "markdown",
   "metadata": {},
   "source": [
    "## Зависимость цены от времени размещения объявления"
   ]
  },
  {
   "cell_type": "code",
   "execution_count": 52,
   "metadata": {},
   "outputs": [
    {
     "data": {
      "text/html": [
       "<div>\n",
       "<style scoped>\n",
       "    .dataframe tbody tr th:only-of-type {\n",
       "        vertical-align: middle;\n",
       "    }\n",
       "\n",
       "    .dataframe tbody tr th {\n",
       "        vertical-align: top;\n",
       "    }\n",
       "\n",
       "    .dataframe thead th {\n",
       "        text-align: right;\n",
       "    }\n",
       "</style>\n",
       "<table border=\"1\" class=\"dataframe\">\n",
       "  <thead>\n",
       "    <tr style=\"text-align: right;\">\n",
       "      <th></th>\n",
       "      <th>last_price</th>\n",
       "    </tr>\n",
       "    <tr>\n",
       "      <th>first_day_exposition_weekday</th>\n",
       "      <th></th>\n",
       "    </tr>\n",
       "  </thead>\n",
       "  <tbody>\n",
       "    <tr>\n",
       "      <th>0</th>\n",
       "      <td>6.379477e+06</td>\n",
       "    </tr>\n",
       "    <tr>\n",
       "      <th>1</th>\n",
       "      <td>6.356366e+06</td>\n",
       "    </tr>\n",
       "    <tr>\n",
       "      <th>2</th>\n",
       "      <td>6.410824e+06</td>\n",
       "    </tr>\n",
       "    <tr>\n",
       "      <th>3</th>\n",
       "      <td>6.704336e+06</td>\n",
       "    </tr>\n",
       "    <tr>\n",
       "      <th>4</th>\n",
       "      <td>6.414309e+06</td>\n",
       "    </tr>\n",
       "    <tr>\n",
       "      <th>5</th>\n",
       "      <td>6.259450e+06</td>\n",
       "    </tr>\n",
       "    <tr>\n",
       "      <th>6</th>\n",
       "      <td>6.269467e+06</td>\n",
       "    </tr>\n",
       "  </tbody>\n",
       "</table>\n",
       "</div>"
      ],
      "text/plain": [
       "                                last_price\n",
       "first_day_exposition_weekday              \n",
       "0                             6.379477e+06\n",
       "1                             6.356366e+06\n",
       "2                             6.410824e+06\n",
       "3                             6.704336e+06\n",
       "4                             6.414309e+06\n",
       "5                             6.259450e+06\n",
       "6                             6.269467e+06"
      ]
     },
     "metadata": {},
     "output_type": "display_data"
    }
   ],
   "source": [
    "# таблица зависимости от дня недели\n",
    "df_new_week = df.pivot_table(index='first_day_exposition_weekday', values='last_price',aggfunc='mean')\n",
    "display(df_new_week)"
   ]
  },
  {
   "cell_type": "code",
   "execution_count": 53,
   "metadata": {
    "scrolled": true
   },
   "outputs": [
    {
     "data": {
      "text/plain": [
       "<AxesSubplot:title={'center':'Распределение цены от дня недели размещения объявления'}, xlabel='first_day_exposition_weekday'>"
      ]
     },
     "execution_count": 53,
     "metadata": {},
     "output_type": "execute_result"
    },
    {
     "data": {
      "image/png": "[encoded data removed]",
      "text/plain": [
       "<Figure size 1080x432 with 1 Axes>"
      ]
     },
     "metadata": {
      "needs_background": "light"
     },
     "output_type": "display_data"
    }
   ],
   "source": [
    "df_new_week[ 'last_price'].plot(kind='bar', \n",
    "                                      figsize=(15, 6), \n",
    "                                      title='Распределение цены от дня недели размещения объявления', \n",
    "                                      grid=True)"
   ]
  },
  {
   "cell_type": "code",
   "execution_count": 54,
   "metadata": {
    "scrolled": true
   },
   "outputs": [
    {
     "data": {
      "text/html": [
       "<div>\n",
       "<style scoped>\n",
       "    .dataframe tbody tr th:only-of-type {\n",
       "        vertical-align: middle;\n",
       "    }\n",
       "\n",
       "    .dataframe tbody tr th {\n",
       "        vertical-align: top;\n",
       "    }\n",
       "\n",
       "    .dataframe thead th {\n",
       "        text-align: right;\n",
       "    }\n",
       "</style>\n",
       "<table border=\"1\" class=\"dataframe\">\n",
       "  <thead>\n",
       "    <tr style=\"text-align: right;\">\n",
       "      <th></th>\n",
       "      <th>last_price</th>\n",
       "    </tr>\n",
       "    <tr>\n",
       "      <th>first_day_exposition_month</th>\n",
       "      <th></th>\n",
       "    </tr>\n",
       "  </thead>\n",
       "  <tbody>\n",
       "    <tr>\n",
       "      <th>1</th>\n",
       "      <td>6.702762e+06</td>\n",
       "    </tr>\n",
       "    <tr>\n",
       "      <th>2</th>\n",
       "      <td>6.319714e+06</td>\n",
       "    </tr>\n",
       "    <tr>\n",
       "      <th>3</th>\n",
       "      <td>6.256044e+06</td>\n",
       "    </tr>\n",
       "    <tr>\n",
       "      <th>4</th>\n",
       "      <td>6.420011e+06</td>\n",
       "    </tr>\n",
       "    <tr>\n",
       "      <th>5</th>\n",
       "      <td>6.444628e+06</td>\n",
       "    </tr>\n",
       "    <tr>\n",
       "      <th>6</th>\n",
       "      <td>6.303524e+06</td>\n",
       "    </tr>\n",
       "    <tr>\n",
       "      <th>7</th>\n",
       "      <td>6.638658e+06</td>\n",
       "    </tr>\n",
       "    <tr>\n",
       "      <th>8</th>\n",
       "      <td>6.393823e+06</td>\n",
       "    </tr>\n",
       "    <tr>\n",
       "      <th>9</th>\n",
       "      <td>6.489484e+06</td>\n",
       "    </tr>\n",
       "    <tr>\n",
       "      <th>10</th>\n",
       "      <td>6.259981e+06</td>\n",
       "    </tr>\n",
       "    <tr>\n",
       "      <th>11</th>\n",
       "      <td>6.502933e+06</td>\n",
       "    </tr>\n",
       "    <tr>\n",
       "      <th>12</th>\n",
       "      <td>6.605987e+06</td>\n",
       "    </tr>\n",
       "  </tbody>\n",
       "</table>\n",
       "</div>"
      ],
      "text/plain": [
       "                              last_price\n",
       "first_day_exposition_month              \n",
       "1                           6.702762e+06\n",
       "2                           6.319714e+06\n",
       "3                           6.256044e+06\n",
       "4                           6.420011e+06\n",
       "5                           6.444628e+06\n",
       "6                           6.303524e+06\n",
       "7                           6.638658e+06\n",
       "8                           6.393823e+06\n",
       "9                           6.489484e+06\n",
       "10                          6.259981e+06\n",
       "11                          6.502933e+06\n",
       "12                          6.605987e+06"
      ]
     },
     "metadata": {},
     "output_type": "display_data"
    }
   ],
   "source": [
    "# таблица зависимости от месяца\n",
    "df_new_month = df.pivot_table(index='first_day_exposition_month', values='last_price',aggfunc='mean')\n",
    "display(df_new_month)"
   ]
  },
  {
   "cell_type": "code",
   "execution_count": 55,
   "metadata": {
    "scrolled": true
   },
   "outputs": [
    {
     "data": {
      "text/plain": [
       "<AxesSubplot:title={'center':'Распределение цены от месяца размещения объявления'}, xlabel='first_day_exposition_month'>"
      ]
     },
     "execution_count": 55,
     "metadata": {},
     "output_type": "execute_result"
    },
    {
     "data": {
      "image/png": "[encoded data removed]",
      "text/plain": [
       "<Figure size 1080x432 with 1 Axes>"
      ]
     },
     "metadata": {
      "needs_background": "light"
     },
     "output_type": "display_data"
    }
   ],
   "source": [
    "df_new_month['last_price'].plot(kind='bar', \n",
    "                                      figsize=(15, 6), \n",
    "                                      title='Распределение цены от месяца размещения объявления', \n",
    "                                      grid=True)"
   ]
  },
  {
   "cell_type": "code",
   "execution_count": 56,
   "metadata": {
    "scrolled": false
   },
   "outputs": [
    {
     "data": {
      "text/html": [
       "<div>\n",
       "<style scoped>\n",
       "    .dataframe tbody tr th:only-of-type {\n",
       "        vertical-align: middle;\n",
       "    }\n",
       "\n",
       "    .dataframe tbody tr th {\n",
       "        vertical-align: top;\n",
       "    }\n",
       "\n",
       "    .dataframe thead th {\n",
       "        text-align: right;\n",
       "    }\n",
       "</style>\n",
       "<table border=\"1\" class=\"dataframe\">\n",
       "  <thead>\n",
       "    <tr style=\"text-align: right;\">\n",
       "      <th></th>\n",
       "      <th>last_price</th>\n",
       "    </tr>\n",
       "    <tr>\n",
       "      <th>first_day_exposition_year</th>\n",
       "      <th></th>\n",
       "    </tr>\n",
       "  </thead>\n",
       "  <tbody>\n",
       "    <tr>\n",
       "      <th>2014</th>\n",
       "      <td>1.208714e+07</td>\n",
       "    </tr>\n",
       "    <tr>\n",
       "      <th>2015</th>\n",
       "      <td>8.571655e+06</td>\n",
       "    </tr>\n",
       "    <tr>\n",
       "      <th>2016</th>\n",
       "      <td>6.684174e+06</td>\n",
       "    </tr>\n",
       "    <tr>\n",
       "      <th>2017</th>\n",
       "      <td>6.359066e+06</td>\n",
       "    </tr>\n",
       "    <tr>\n",
       "      <th>2018</th>\n",
       "      <td>5.928549e+06</td>\n",
       "    </tr>\n",
       "    <tr>\n",
       "      <th>2019</th>\n",
       "      <td>6.684899e+06</td>\n",
       "    </tr>\n",
       "  </tbody>\n",
       "</table>\n",
       "</div>"
      ],
      "text/plain": [
       "                             last_price\n",
       "first_day_exposition_year              \n",
       "2014                       1.208714e+07\n",
       "2015                       8.571655e+06\n",
       "2016                       6.684174e+06\n",
       "2017                       6.359066e+06\n",
       "2018                       5.928549e+06\n",
       "2019                       6.684899e+06"
      ]
     },
     "metadata": {},
     "output_type": "display_data"
    }
   ],
   "source": [
    "# таблица зависимости от года\n",
    "df_new_year = df.pivot_table(index='first_day_exposition_year', values='last_price',aggfunc='mean')\n",
    "display(df_new_year)"
   ]
  },
  {
   "cell_type": "code",
   "execution_count": 57,
   "metadata": {
    "scrolled": true
   },
   "outputs": [
    {
     "data": {
      "text/plain": [
       "<AxesSubplot:title={'center':'Распределение цены от года размещения'}, xlabel='first_day_exposition_year'>"
      ]
     },
     "execution_count": 57,
     "metadata": {},
     "output_type": "execute_result"
    },
    {
     "data": {
      "image/png": "[encoded data removed]",
      "text/plain": [
       "<Figure size 1080x432 with 1 Axes>"
      ]
     },
     "metadata": {
      "needs_background": "light"
     },
     "output_type": "display_data"
    }
   ],
   "source": [
    "df_new_year[ 'last_price'].plot(kind='bar', \n",
    "                                      figsize=(15, 6), \n",
    "                                      title='Распределение цены от года размещения', \n",
    "                                      grid=True)"
   ]
  },
  {
   "cell_type": "markdown",
   "metadata": {},
   "source": [
    "<div class=\"alert alert-info\"> \n",
    "    \n",
    "   цена в зависимости от времени размещения объявления:\n",
    "    \n",
    "    1. самые дешевые цены  выставлят в понедельник и пятницу ( начало и конец недели)\n",
    "    \n",
    "    2.самый высокий уровень цен по средам ( середина рабочей  недели)\n",
    "    \n",
    "    3.в распределении цен по месяцам: лидирует январь ( начало года).\n",
    " Самый низкий уровень цен в июне ( совпадает с началом периода отпусков ).спад октября постепенно возвращается к средним значениям на конец года\n",
    "    \n",
    "    4.анализ цены по годам: самый высокий уровень цен в 2014, когда был резкий скачек цены на рынке недвижимости .Затем в 2015 показатель снизился и с 2016 года наблюдается примерно одинаовое значение цены во всем периоде наблюдений до 2019г.\n",
    "    \n",
    "На все эти показатели, вообщем , повлиял человеческий фактор(дни, месяцы) и общая ситуация рынка недвижимости(годы) \n",
    "    \n",
    "    \n",
    "    \n",
    "    \n",
    "    \n",
    "    \n",
    "    \n",
    "    "
   ]
  },
  {
   "cell_type": "code",
   "execution_count": 58,
   "metadata": {},
   "outputs": [
    {
     "data": {
      "text/plain": [
       "Санкт-Петербург                   15597\n",
       "посёлок Мурино                      495\n",
       "посёлок Шушары                      436\n",
       "Всеволожск                          392\n",
       "Пушкин                              369\n",
       "                                  ...  \n",
       "поселок Жилпосёлок                    1\n",
       "поселок городского типа Рябово        1\n",
       "деревня Шпаньково                     1\n",
       "поселок Перово                        1\n",
       "деревня Хапо-Ое                       1\n",
       "Name: locality_name, Length: 362, dtype: int64"
      ]
     },
     "execution_count": 58,
     "metadata": {},
     "output_type": "execute_result"
    }
   ],
   "source": [
    "df['locality_name'].value_counts()"
   ]
  },
  {
   "cell_type": "code",
   "execution_count": 59,
   "metadata": {
    "scrolled": false
   },
   "outputs": [
    {
     "data": {
      "text/html": [
       "<div>\n",
       "<style scoped>\n",
       "    .dataframe tbody tr th:only-of-type {\n",
       "        vertical-align: middle;\n",
       "    }\n",
       "\n",
       "    .dataframe tbody tr th {\n",
       "        vertical-align: top;\n",
       "    }\n",
       "\n",
       "    .dataframe thead tr th {\n",
       "        text-align: left;\n",
       "    }\n",
       "</style>\n",
       "<table border=\"1\" class=\"dataframe\">\n",
       "  <thead>\n",
       "    <tr>\n",
       "      <th></th>\n",
       "      <th>locality_name</th>\n",
       "      <th>count</th>\n",
       "      <th>mean</th>\n",
       "    </tr>\n",
       "    <tr>\n",
       "      <th></th>\n",
       "      <th></th>\n",
       "      <th>sq_m_price</th>\n",
       "      <th>sq_m_price</th>\n",
       "    </tr>\n",
       "  </thead>\n",
       "  <tbody>\n",
       "    <tr>\n",
       "      <th>361</th>\n",
       "      <td>село Шум</td>\n",
       "      <td>1</td>\n",
       "      <td>33898.000000</td>\n",
       "    </tr>\n",
       "    <tr>\n",
       "      <th>360</th>\n",
       "      <td>село Старая Ладога</td>\n",
       "      <td>2</td>\n",
       "      <td>34696.500000</td>\n",
       "    </tr>\n",
       "    <tr>\n",
       "      <th>359</th>\n",
       "      <td>село Русско-Высоцкое</td>\n",
       "      <td>9</td>\n",
       "      <td>54833.222222</td>\n",
       "    </tr>\n",
       "    <tr>\n",
       "      <th>358</th>\n",
       "      <td>село Рождествено</td>\n",
       "      <td>3</td>\n",
       "      <td>37732.666667</td>\n",
       "    </tr>\n",
       "    <tr>\n",
       "      <th>357</th>\n",
       "      <td>село Путилово</td>\n",
       "      <td>2</td>\n",
       "      <td>39921.500000</td>\n",
       "    </tr>\n",
       "    <tr>\n",
       "      <th>356</th>\n",
       "      <td>село Паша</td>\n",
       "      <td>2</td>\n",
       "      <td>28120.500000</td>\n",
       "    </tr>\n",
       "    <tr>\n",
       "      <th>355</th>\n",
       "      <td>село Павлово</td>\n",
       "      <td>7</td>\n",
       "      <td>61892.428571</td>\n",
       "    </tr>\n",
       "    <tr>\n",
       "      <th>354</th>\n",
       "      <td>село Никольское</td>\n",
       "      <td>1</td>\n",
       "      <td>36697.000000</td>\n",
       "    </tr>\n",
       "    <tr>\n",
       "      <th>353</th>\n",
       "      <td>село Копорье</td>\n",
       "      <td>5</td>\n",
       "      <td>46051.000000</td>\n",
       "    </tr>\n",
       "    <tr>\n",
       "      <th>352</th>\n",
       "      <td>садовое товарищество Садко</td>\n",
       "      <td>1</td>\n",
       "      <td>32142.000000</td>\n",
       "    </tr>\n",
       "  </tbody>\n",
       "</table>\n",
       "</div>"
      ],
      "text/plain": [
       "                  locality_name      count          mean\n",
       "                                sq_m_price    sq_m_price\n",
       "361                    село Шум          1  33898.000000\n",
       "360          село Старая Ладога          2  34696.500000\n",
       "359        село Русско-Высоцкое          9  54833.222222\n",
       "358            село Рождествено          3  37732.666667\n",
       "357               село Путилово          2  39921.500000\n",
       "356                   село Паша          2  28120.500000\n",
       "355                село Павлово          7  61892.428571\n",
       "354             село Никольское          1  36697.000000\n",
       "353                село Копорье          5  46051.000000\n",
       "352  садовое товарищество Садко          1  32142.000000"
      ]
     },
     "metadata": {},
     "output_type": "display_data"
    }
   ],
   "source": [
    "df_top_10 = df.pivot_table(index='locality_name', values='sq_m_price',aggfunc=['count','mean']).reset_index()\n",
    "df_top_10= df_top_10.sort_values( by='locality_name',ascending=False)\n",
    "display(df_top_10.head (10))"
   ]
  },
  {
   "cell_type": "code",
   "execution_count": 60,
   "metadata": {},
   "outputs": [
    {
     "data": {
      "text/html": [
       "<div>\n",
       "<style scoped>\n",
       "    .dataframe tbody tr th:only-of-type {\n",
       "        vertical-align: middle;\n",
       "    }\n",
       "\n",
       "    .dataframe tbody tr th {\n",
       "        vertical-align: top;\n",
       "    }\n",
       "\n",
       "    .dataframe thead th {\n",
       "        text-align: right;\n",
       "    }\n",
       "</style>\n",
       "<table border=\"1\" class=\"dataframe\">\n",
       "  <thead>\n",
       "    <tr style=\"text-align: right;\">\n",
       "      <th></th>\n",
       "      <th>locality_name</th>\n",
       "      <th>count</th>\n",
       "      <th>mean_sq_m_price</th>\n",
       "    </tr>\n",
       "  </thead>\n",
       "  <tbody>\n",
       "    <tr>\n",
       "      <th>0</th>\n",
       "      <td>Санкт-Петербург</td>\n",
       "      <td>15597</td>\n",
       "      <td>114280.317818</td>\n",
       "    </tr>\n",
       "    <tr>\n",
       "      <th>1</th>\n",
       "      <td>посёлок Мурино</td>\n",
       "      <td>495</td>\n",
       "      <td>85031.317172</td>\n",
       "    </tr>\n",
       "    <tr>\n",
       "      <th>2</th>\n",
       "      <td>посёлок Шушары</td>\n",
       "      <td>436</td>\n",
       "      <td>78405.277523</td>\n",
       "    </tr>\n",
       "    <tr>\n",
       "      <th>3</th>\n",
       "      <td>Всеволожск</td>\n",
       "      <td>392</td>\n",
       "      <td>68617.548469</td>\n",
       "    </tr>\n",
       "    <tr>\n",
       "      <th>4</th>\n",
       "      <td>Пушкин</td>\n",
       "      <td>369</td>\n",
       "      <td>103125.373984</td>\n",
       "    </tr>\n",
       "    <tr>\n",
       "      <th>5</th>\n",
       "      <td>Колпино</td>\n",
       "      <td>338</td>\n",
       "      <td>75424.150888</td>\n",
       "    </tr>\n",
       "    <tr>\n",
       "      <th>6</th>\n",
       "      <td>посёлок Парголово</td>\n",
       "      <td>323</td>\n",
       "      <td>90289.352941</td>\n",
       "    </tr>\n",
       "    <tr>\n",
       "      <th>7</th>\n",
       "      <td>Гатчина</td>\n",
       "      <td>307</td>\n",
       "      <td>68745.693811</td>\n",
       "    </tr>\n",
       "    <tr>\n",
       "      <th>8</th>\n",
       "      <td>деревня Кудрово</td>\n",
       "      <td>283</td>\n",
       "      <td>92296.749117</td>\n",
       "    </tr>\n",
       "    <tr>\n",
       "      <th>9</th>\n",
       "      <td>Выборг</td>\n",
       "      <td>237</td>\n",
       "      <td>58141.489451</td>\n",
       "    </tr>\n",
       "  </tbody>\n",
       "</table>\n",
       "</div>"
      ],
      "text/plain": [
       "       locality_name  count  mean_sq_m_price\n",
       "0    Санкт-Петербург  15597    114280.317818\n",
       "1     посёлок Мурино    495     85031.317172\n",
       "2     посёлок Шушары    436     78405.277523\n",
       "3         Всеволожск    392     68617.548469\n",
       "4             Пушкин    369    103125.373984\n",
       "5            Колпино    338     75424.150888\n",
       "6  посёлок Парголово    323     90289.352941\n",
       "7            Гатчина    307     68745.693811\n",
       "8    деревня Кудрово    283     92296.749117\n",
       "9             Выборг    237     58141.489451"
      ]
     },
     "execution_count": 60,
     "metadata": {},
     "output_type": "execute_result"
    }
   ],
   "source": [
    "#код ревьюера\n",
    "\n",
    "df_top = df.groupby('locality_name').agg({'ceiling_height' : 'count', 'sq_m_price' : 'mean'})\n",
    "\n",
    "df_top_10 = df_top.sort_values(by='ceiling_height',ascending=False).head(10).reset_index()\n",
    "\n",
    "df_top_10.columns = ['locality_name', 'count', 'mean_sq_m_price']\n",
    "\n",
    "df_top_10"
   ]
  },
  {
   "cell_type": "code",
   "execution_count": 61,
   "metadata": {
    "scrolled": false
   },
   "outputs": [
    {
     "data": {
      "text/plain": [
       "locality_name\n",
       "Санкт-Петербург      15597\n",
       "посёлок Мурино         495\n",
       "посёлок Шушары         436\n",
       "Всеволожск             392\n",
       "Пушкин                 369\n",
       "Колпино                338\n",
       "посёлок Парголово      323\n",
       "Гатчина                307\n",
       "деревня Кудрово        283\n",
       "Выборг                 237\n",
       "Name: locality_name, dtype: int64"
      ]
     },
     "metadata": {},
     "output_type": "display_data"
    }
   ],
   "source": [
    "# одной строкой: группировка таблицы по столбцу 'locality_name', \n",
    "# подсчёт числа значений в этой группировке методом count(), \n",
    "df_top_10 = df.groupby('locality_name')['locality_name'].count()\n",
    "# сортировка получившегося Series в порядке убывания\n",
    "df_top_10= df_top_10.sort_values(ascending=False)\n",
    "display(df_top_10.head (10))"
   ]
  },
  {
   "cell_type": "code",
   "execution_count": 63,
   "metadata": {
    "scrolled": false
   },
   "outputs": [
    {
     "data": {
      "text/html": [
       "<div>\n",
       "<style scoped>\n",
       "    .dataframe tbody tr th:only-of-type {\n",
       "        vertical-align: middle;\n",
       "    }\n",
       "\n",
       "    .dataframe tbody tr th {\n",
       "        vertical-align: top;\n",
       "    }\n",
       "\n",
       "    .dataframe thead th {\n",
       "        text-align: right;\n",
       "    }\n",
       "</style>\n",
       "<table border=\"1\" class=\"dataframe\">\n",
       "  <thead>\n",
       "    <tr style=\"text-align: right;\">\n",
       "      <th></th>\n",
       "      <th>total_images</th>\n",
       "      <th>last_price</th>\n",
       "      <th>total_area</th>\n",
       "      <th>first_day_exposition</th>\n",
       "      <th>rooms</th>\n",
       "      <th>ceiling_height</th>\n",
       "      <th>floors_total</th>\n",
       "      <th>living_area</th>\n",
       "      <th>floor</th>\n",
       "      <th>is_apartment</th>\n",
       "      <th>...</th>\n",
       "      <th>ponds_around3000</th>\n",
       "      <th>ponds_nearest</th>\n",
       "      <th>days_exposition</th>\n",
       "      <th>sq_m_price</th>\n",
       "      <th>first_day_exposition_weekday</th>\n",
       "      <th>first_day_exposition_month</th>\n",
       "      <th>first_day_exposition_year</th>\n",
       "      <th>floor_category</th>\n",
       "      <th>living_total_area</th>\n",
       "      <th>kitchen_area_total</th>\n",
       "    </tr>\n",
       "  </thead>\n",
       "  <tbody>\n",
       "    <tr>\n",
       "      <th>3</th>\n",
       "      <td>0</td>\n",
       "      <td>64900000.0</td>\n",
       "      <td>159.00</td>\n",
       "      <td>2015-07-24T00:00:00</td>\n",
       "      <td>3</td>\n",
       "      <td>2.65</td>\n",
       "      <td>14.0</td>\n",
       "      <td>0</td>\n",
       "      <td>9</td>\n",
       "      <td>False</td>\n",
       "      <td>...</td>\n",
       "      <td>3.0</td>\n",
       "      <td>234.0</td>\n",
       "      <td>424</td>\n",
       "      <td>408176</td>\n",
       "      <td>4</td>\n",
       "      <td>7</td>\n",
       "      <td>2015</td>\n",
       "      <td>другой</td>\n",
       "      <td>0.0</td>\n",
       "      <td>0.000000</td>\n",
       "    </tr>\n",
       "    <tr>\n",
       "      <th>4</th>\n",
       "      <td>2</td>\n",
       "      <td>10000000.0</td>\n",
       "      <td>100.00</td>\n",
       "      <td>2018-06-19T00:00:00</td>\n",
       "      <td>2</td>\n",
       "      <td>3.03</td>\n",
       "      <td>14.0</td>\n",
       "      <td>2</td>\n",
       "      <td>13</td>\n",
       "      <td>False</td>\n",
       "      <td>...</td>\n",
       "      <td>1.0</td>\n",
       "      <td>48.0</td>\n",
       "      <td>121</td>\n",
       "      <td>100000</td>\n",
       "      <td>1</td>\n",
       "      <td>6</td>\n",
       "      <td>2018</td>\n",
       "      <td>другой</td>\n",
       "      <td>2.0</td>\n",
       "      <td>41.000000</td>\n",
       "    </tr>\n",
       "    <tr>\n",
       "      <th>21</th>\n",
       "      <td>13</td>\n",
       "      <td>3200000.0</td>\n",
       "      <td>31.60</td>\n",
       "      <td>2018-03-14T00:00:00</td>\n",
       "      <td>1</td>\n",
       "      <td>2.65</td>\n",
       "      <td>5.0</td>\n",
       "      <td>13</td>\n",
       "      <td>2</td>\n",
       "      <td>False</td>\n",
       "      <td>...</td>\n",
       "      <td>0.0</td>\n",
       "      <td>NaN</td>\n",
       "      <td>310</td>\n",
       "      <td>101265</td>\n",
       "      <td>2</td>\n",
       "      <td>3</td>\n",
       "      <td>2018</td>\n",
       "      <td>другой</td>\n",
       "      <td>41.139241</td>\n",
       "      <td>18.037975</td>\n",
       "    </tr>\n",
       "    <tr>\n",
       "      <th>24</th>\n",
       "      <td>8</td>\n",
       "      <td>6500000.0</td>\n",
       "      <td>97.20</td>\n",
       "      <td>2015-10-31T00:00:00</td>\n",
       "      <td>2</td>\n",
       "      <td>2.65</td>\n",
       "      <td>3.0</td>\n",
       "      <td>8</td>\n",
       "      <td>1</td>\n",
       "      <td>False</td>\n",
       "      <td>...</td>\n",
       "      <td>3.0</td>\n",
       "      <td>124.0</td>\n",
       "      <td>265</td>\n",
       "      <td>66872</td>\n",
       "      <td>5</td>\n",
       "      <td>10</td>\n",
       "      <td>2015</td>\n",
       "      <td>первый</td>\n",
       "      <td>8.230453</td>\n",
       "      <td>20.164609</td>\n",
       "    </tr>\n",
       "    <tr>\n",
       "      <th>35</th>\n",
       "      <td>6</td>\n",
       "      <td>15500000.0</td>\n",
       "      <td>149.00</td>\n",
       "      <td>2017-06-26T00:00:00</td>\n",
       "      <td>5</td>\n",
       "      <td>2.65</td>\n",
       "      <td>5.0</td>\n",
       "      <td>6</td>\n",
       "      <td>4</td>\n",
       "      <td>False</td>\n",
       "      <td>...</td>\n",
       "      <td>1.0</td>\n",
       "      <td>779.0</td>\n",
       "      <td>644</td>\n",
       "      <td>104026</td>\n",
       "      <td>0</td>\n",
       "      <td>6</td>\n",
       "      <td>2017</td>\n",
       "      <td>другой</td>\n",
       "      <td>4.026846</td>\n",
       "      <td>11.409396</td>\n",
       "    </tr>\n",
       "    <tr>\n",
       "      <th>...</th>\n",
       "      <td>...</td>\n",
       "      <td>...</td>\n",
       "      <td>...</td>\n",
       "      <td>...</td>\n",
       "      <td>...</td>\n",
       "      <td>...</td>\n",
       "      <td>...</td>\n",
       "      <td>...</td>\n",
       "      <td>...</td>\n",
       "      <td>...</td>\n",
       "      <td>...</td>\n",
       "      <td>...</td>\n",
       "      <td>...</td>\n",
       "      <td>...</td>\n",
       "      <td>...</td>\n",
       "      <td>...</td>\n",
       "      <td>...</td>\n",
       "      <td>...</td>\n",
       "      <td>...</td>\n",
       "      <td>...</td>\n",
       "      <td>...</td>\n",
       "    </tr>\n",
       "    <tr>\n",
       "      <th>23674</th>\n",
       "      <td>10</td>\n",
       "      <td>5950000.0</td>\n",
       "      <td>56.00</td>\n",
       "      <td>2019-03-05T00:00:00</td>\n",
       "      <td>3</td>\n",
       "      <td>2.65</td>\n",
       "      <td>8.0</td>\n",
       "      <td>10</td>\n",
       "      <td>3</td>\n",
       "      <td>False</td>\n",
       "      <td>...</td>\n",
       "      <td>2.0</td>\n",
       "      <td>303.0</td>\n",
       "      <td>0</td>\n",
       "      <td>106250</td>\n",
       "      <td>1</td>\n",
       "      <td>3</td>\n",
       "      <td>2019</td>\n",
       "      <td>другой</td>\n",
       "      <td>17.857143</td>\n",
       "      <td>15.178571</td>\n",
       "    </tr>\n",
       "    <tr>\n",
       "      <th>23681</th>\n",
       "      <td>13</td>\n",
       "      <td>5250000.0</td>\n",
       "      <td>43.00</td>\n",
       "      <td>2018-05-11T00:00:00</td>\n",
       "      <td>2</td>\n",
       "      <td>2.50</td>\n",
       "      <td>5.0</td>\n",
       "      <td>13</td>\n",
       "      <td>2</td>\n",
       "      <td>False</td>\n",
       "      <td>...</td>\n",
       "      <td>2.0</td>\n",
       "      <td>660.0</td>\n",
       "      <td>80</td>\n",
       "      <td>122093</td>\n",
       "      <td>4</td>\n",
       "      <td>5</td>\n",
       "      <td>2018</td>\n",
       "      <td>другой</td>\n",
       "      <td>30.232558</td>\n",
       "      <td>13.953488</td>\n",
       "    </tr>\n",
       "    <tr>\n",
       "      <th>23690</th>\n",
       "      <td>3</td>\n",
       "      <td>5500000.0</td>\n",
       "      <td>52.00</td>\n",
       "      <td>2018-07-19T00:00:00</td>\n",
       "      <td>2</td>\n",
       "      <td>2.65</td>\n",
       "      <td>5.0</td>\n",
       "      <td>3</td>\n",
       "      <td>2</td>\n",
       "      <td>False</td>\n",
       "      <td>...</td>\n",
       "      <td>0.0</td>\n",
       "      <td>NaN</td>\n",
       "      <td>15</td>\n",
       "      <td>105769</td>\n",
       "      <td>3</td>\n",
       "      <td>7</td>\n",
       "      <td>2018</td>\n",
       "      <td>другой</td>\n",
       "      <td>5.769231</td>\n",
       "      <td>11.538462</td>\n",
       "    </tr>\n",
       "    <tr>\n",
       "      <th>23691</th>\n",
       "      <td>11</td>\n",
       "      <td>9470000.0</td>\n",
       "      <td>72.90</td>\n",
       "      <td>2016-10-13T00:00:00</td>\n",
       "      <td>2</td>\n",
       "      <td>2.75</td>\n",
       "      <td>25.0</td>\n",
       "      <td>11</td>\n",
       "      <td>7</td>\n",
       "      <td>False</td>\n",
       "      <td>...</td>\n",
       "      <td>1.0</td>\n",
       "      <td>806.0</td>\n",
       "      <td>519</td>\n",
       "      <td>129903</td>\n",
       "      <td>3</td>\n",
       "      <td>10</td>\n",
       "      <td>2016</td>\n",
       "      <td>другой</td>\n",
       "      <td>15.089163</td>\n",
       "      <td>14.540466</td>\n",
       "    </tr>\n",
       "    <tr>\n",
       "      <th>23694</th>\n",
       "      <td>9</td>\n",
       "      <td>9700000.0</td>\n",
       "      <td>133.81</td>\n",
       "      <td>2017-03-21T00:00:00</td>\n",
       "      <td>3</td>\n",
       "      <td>3.70</td>\n",
       "      <td>5.0</td>\n",
       "      <td>9</td>\n",
       "      <td>3</td>\n",
       "      <td>False</td>\n",
       "      <td>...</td>\n",
       "      <td>3.0</td>\n",
       "      <td>381.0</td>\n",
       "      <td>0</td>\n",
       "      <td>72490</td>\n",
       "      <td>1</td>\n",
       "      <td>3</td>\n",
       "      <td>2017</td>\n",
       "      <td>другой</td>\n",
       "      <td>6.725955</td>\n",
       "      <td>10.335550</td>\n",
       "    </tr>\n",
       "  </tbody>\n",
       "</table>\n",
       "<p>5031 rows × 29 columns</p>\n",
       "</div>"
      ],
      "text/plain": [
       "       total_images  last_price  total_area first_day_exposition  rooms  \\\n",
       "3                 0  64900000.0      159.00  2015-07-24T00:00:00      3   \n",
       "4                 2  10000000.0      100.00  2018-06-19T00:00:00      2   \n",
       "21               13   3200000.0       31.60  2018-03-14T00:00:00      1   \n",
       "24                8   6500000.0       97.20  2015-10-31T00:00:00      2   \n",
       "35                6  15500000.0      149.00  2017-06-26T00:00:00      5   \n",
       "...             ...         ...         ...                  ...    ...   \n",
       "23674            10   5950000.0       56.00  2019-03-05T00:00:00      3   \n",
       "23681            13   5250000.0       43.00  2018-05-11T00:00:00      2   \n",
       "23690             3   5500000.0       52.00  2018-07-19T00:00:00      2   \n",
       "23691            11   9470000.0       72.90  2016-10-13T00:00:00      2   \n",
       "23694             9   9700000.0      133.81  2017-03-21T00:00:00      3   \n",
       "\n",
       "       ceiling_height  floors_total living_area  floor  is_apartment  ...  \\\n",
       "3                2.65          14.0           0      9         False  ...   \n",
       "4                3.03          14.0           2     13         False  ...   \n",
       "21               2.65           5.0          13      2         False  ...   \n",
       "24               2.65           3.0           8      1         False  ...   \n",
       "35               2.65           5.0           6      4         False  ...   \n",
       "...               ...           ...         ...    ...           ...  ...   \n",
       "23674            2.65           8.0          10      3         False  ...   \n",
       "23681            2.50           5.0          13      2         False  ...   \n",
       "23690            2.65           5.0           3      2         False  ...   \n",
       "23691            2.75          25.0          11      7         False  ...   \n",
       "23694            3.70           5.0           9      3         False  ...   \n",
       "\n",
       "       ponds_around3000  ponds_nearest  days_exposition  sq_m_price  \\\n",
       "3                   3.0          234.0              424      408176   \n",
       "4                   1.0           48.0              121      100000   \n",
       "21                  0.0            NaN              310      101265   \n",
       "24                  3.0          124.0              265       66872   \n",
       "35                  1.0          779.0              644      104026   \n",
       "...                 ...            ...              ...         ...   \n",
       "23674               2.0          303.0                0      106250   \n",
       "23681               2.0          660.0               80      122093   \n",
       "23690               0.0            NaN               15      105769   \n",
       "23691               1.0          806.0              519      129903   \n",
       "23694               3.0          381.0                0       72490   \n",
       "\n",
       "      first_day_exposition_weekday  first_day_exposition_month  \\\n",
       "3                                4                           7   \n",
       "4                                1                           6   \n",
       "21                               2                           3   \n",
       "24                               5                          10   \n",
       "35                               0                           6   \n",
       "...                            ...                         ...   \n",
       "23674                            1                           3   \n",
       "23681                            4                           5   \n",
       "23690                            3                           7   \n",
       "23691                            3                          10   \n",
       "23694                            1                           3   \n",
       "\n",
       "       first_day_exposition_year  floor_category  living_total_area  \\\n",
       "3                           2015          другой                0.0   \n",
       "4                           2018          другой                2.0   \n",
       "21                          2018          другой          41.139241   \n",
       "24                          2015          первый           8.230453   \n",
       "35                          2017          другой           4.026846   \n",
       "...                          ...             ...                ...   \n",
       "23674                       2019          другой          17.857143   \n",
       "23681                       2018          другой          30.232558   \n",
       "23690                       2018          другой           5.769231   \n",
       "23691                       2016          другой          15.089163   \n",
       "23694                       2017          другой           6.725955   \n",
       "\n",
       "       kitchen_area_total  \n",
       "3                0.000000  \n",
       "4               41.000000  \n",
       "21              18.037975  \n",
       "24              20.164609  \n",
       "35              11.409396  \n",
       "...                   ...  \n",
       "23674           15.178571  \n",
       "23681           13.953488  \n",
       "23690           11.538462  \n",
       "23691           14.540466  \n",
       "23694           10.335550  \n",
       "\n",
       "[5031 rows x 29 columns]"
      ]
     },
     "metadata": {},
     "output_type": "display_data"
    }
   ],
   "source": [
    "city_center_area=10\n",
    "df_centr_spb=df.query('locality_name in[\"Санкт-Петербург\"] and cityCenters_nearest<@city_center_area')\n",
    "display(df_centr_spb)\n"
   ]
  },
  {
   "cell_type": "code",
   "execution_count": 64,
   "metadata": {
    "scrolled": false
   },
   "outputs": [
    {
     "name": "stderr",
     "output_type": "stream",
     "text": [
      "/tmp/ipykernel_121/1149157246.py:2: SettingWithCopyWarning: \n",
      "A value is trying to be set on a copy of a slice from a DataFrame.\n",
      "Try using .loc[row_indexer,col_indexer] = value instead\n",
      "\n",
      "See the caveats in the documentation: https://pandas.pydata.org/pandas-docs/stable/user_guide/indexing.html#returning-a-view-versus-a-copy\n",
      "  df_centr_spb['cityCenters_km']=df['cityCenters_nearest']\n"
     ]
    },
    {
     "data": {
      "text/plain": [
       "3        6.800\n",
       "4        8.098\n",
       "21       9.722\n",
       "24       2.336\n",
       "35       3.502\n",
       "         ...  \n",
       "23674    9.217\n",
       "23681    7.262\n",
       "23690    6.263\n",
       "23691    4.489\n",
       "23694    4.232\n",
       "Name: cityCenters_km, Length: 5031, dtype: float64"
      ]
     },
     "metadata": {},
     "output_type": "display_data"
    }
   ],
   "source": [
    "# колонка cityCenters_nearest_km \n",
    "df_centr_spb['cityCenters_km']=df['cityCenters_nearest']\n",
    "display(df_centr_spb['cityCenters_km'])"
   ]
  },
  {
   "cell_type": "code",
   "execution_count": 65,
   "metadata": {},
   "outputs": [
    {
     "data": {
      "text/html": [
       "<div>\n",
       "<style scoped>\n",
       "    .dataframe tbody tr th:only-of-type {\n",
       "        vertical-align: middle;\n",
       "    }\n",
       "\n",
       "    .dataframe tbody tr th {\n",
       "        vertical-align: top;\n",
       "    }\n",
       "\n",
       "    .dataframe thead th {\n",
       "        text-align: right;\n",
       "    }\n",
       "</style>\n",
       "<table border=\"1\" class=\"dataframe\">\n",
       "  <thead>\n",
       "    <tr style=\"text-align: right;\">\n",
       "      <th></th>\n",
       "      <th>total_images</th>\n",
       "      <th>last_price</th>\n",
       "      <th>total_area</th>\n",
       "      <th>first_day_exposition</th>\n",
       "      <th>rooms</th>\n",
       "      <th>ceiling_height</th>\n",
       "      <th>floors_total</th>\n",
       "      <th>living_area</th>\n",
       "      <th>floor</th>\n",
       "      <th>is_apartment</th>\n",
       "      <th>...</th>\n",
       "      <th>ponds_nearest</th>\n",
       "      <th>days_exposition</th>\n",
       "      <th>sq_m_price</th>\n",
       "      <th>first_day_exposition_weekday</th>\n",
       "      <th>first_day_exposition_month</th>\n",
       "      <th>first_day_exposition_year</th>\n",
       "      <th>floor_category</th>\n",
       "      <th>living_total_area</th>\n",
       "      <th>kitchen_area_total</th>\n",
       "      <th>cityCenters_km</th>\n",
       "    </tr>\n",
       "  </thead>\n",
       "  <tbody>\n",
       "    <tr>\n",
       "      <th>3</th>\n",
       "      <td>0</td>\n",
       "      <td>64900000.0</td>\n",
       "      <td>159.00</td>\n",
       "      <td>2015-07-24T00:00:00</td>\n",
       "      <td>3</td>\n",
       "      <td>2.65</td>\n",
       "      <td>14.0</td>\n",
       "      <td>0</td>\n",
       "      <td>9</td>\n",
       "      <td>False</td>\n",
       "      <td>...</td>\n",
       "      <td>234.0</td>\n",
       "      <td>424</td>\n",
       "      <td>408176</td>\n",
       "      <td>4</td>\n",
       "      <td>7</td>\n",
       "      <td>2015</td>\n",
       "      <td>другой</td>\n",
       "      <td>0.0</td>\n",
       "      <td>0.000000</td>\n",
       "      <td>6.800</td>\n",
       "    </tr>\n",
       "    <tr>\n",
       "      <th>4</th>\n",
       "      <td>2</td>\n",
       "      <td>10000000.0</td>\n",
       "      <td>100.00</td>\n",
       "      <td>2018-06-19T00:00:00</td>\n",
       "      <td>2</td>\n",
       "      <td>3.03</td>\n",
       "      <td>14.0</td>\n",
       "      <td>2</td>\n",
       "      <td>13</td>\n",
       "      <td>False</td>\n",
       "      <td>...</td>\n",
       "      <td>48.0</td>\n",
       "      <td>121</td>\n",
       "      <td>100000</td>\n",
       "      <td>1</td>\n",
       "      <td>6</td>\n",
       "      <td>2018</td>\n",
       "      <td>другой</td>\n",
       "      <td>2.0</td>\n",
       "      <td>41.000000</td>\n",
       "      <td>8.098</td>\n",
       "    </tr>\n",
       "    <tr>\n",
       "      <th>21</th>\n",
       "      <td>13</td>\n",
       "      <td>3200000.0</td>\n",
       "      <td>31.60</td>\n",
       "      <td>2018-03-14T00:00:00</td>\n",
       "      <td>1</td>\n",
       "      <td>2.65</td>\n",
       "      <td>5.0</td>\n",
       "      <td>13</td>\n",
       "      <td>2</td>\n",
       "      <td>False</td>\n",
       "      <td>...</td>\n",
       "      <td>NaN</td>\n",
       "      <td>310</td>\n",
       "      <td>101265</td>\n",
       "      <td>2</td>\n",
       "      <td>3</td>\n",
       "      <td>2018</td>\n",
       "      <td>другой</td>\n",
       "      <td>41.139241</td>\n",
       "      <td>18.037975</td>\n",
       "      <td>9.722</td>\n",
       "    </tr>\n",
       "    <tr>\n",
       "      <th>24</th>\n",
       "      <td>8</td>\n",
       "      <td>6500000.0</td>\n",
       "      <td>97.20</td>\n",
       "      <td>2015-10-31T00:00:00</td>\n",
       "      <td>2</td>\n",
       "      <td>2.65</td>\n",
       "      <td>3.0</td>\n",
       "      <td>8</td>\n",
       "      <td>1</td>\n",
       "      <td>False</td>\n",
       "      <td>...</td>\n",
       "      <td>124.0</td>\n",
       "      <td>265</td>\n",
       "      <td>66872</td>\n",
       "      <td>5</td>\n",
       "      <td>10</td>\n",
       "      <td>2015</td>\n",
       "      <td>первый</td>\n",
       "      <td>8.230453</td>\n",
       "      <td>20.164609</td>\n",
       "      <td>2.336</td>\n",
       "    </tr>\n",
       "    <tr>\n",
       "      <th>35</th>\n",
       "      <td>6</td>\n",
       "      <td>15500000.0</td>\n",
       "      <td>149.00</td>\n",
       "      <td>2017-06-26T00:00:00</td>\n",
       "      <td>5</td>\n",
       "      <td>2.65</td>\n",
       "      <td>5.0</td>\n",
       "      <td>6</td>\n",
       "      <td>4</td>\n",
       "      <td>False</td>\n",
       "      <td>...</td>\n",
       "      <td>779.0</td>\n",
       "      <td>644</td>\n",
       "      <td>104026</td>\n",
       "      <td>0</td>\n",
       "      <td>6</td>\n",
       "      <td>2017</td>\n",
       "      <td>другой</td>\n",
       "      <td>4.026846</td>\n",
       "      <td>11.409396</td>\n",
       "      <td>3.502</td>\n",
       "    </tr>\n",
       "    <tr>\n",
       "      <th>...</th>\n",
       "      <td>...</td>\n",
       "      <td>...</td>\n",
       "      <td>...</td>\n",
       "      <td>...</td>\n",
       "      <td>...</td>\n",
       "      <td>...</td>\n",
       "      <td>...</td>\n",
       "      <td>...</td>\n",
       "      <td>...</td>\n",
       "      <td>...</td>\n",
       "      <td>...</td>\n",
       "      <td>...</td>\n",
       "      <td>...</td>\n",
       "      <td>...</td>\n",
       "      <td>...</td>\n",
       "      <td>...</td>\n",
       "      <td>...</td>\n",
       "      <td>...</td>\n",
       "      <td>...</td>\n",
       "      <td>...</td>\n",
       "      <td>...</td>\n",
       "    </tr>\n",
       "    <tr>\n",
       "      <th>23674</th>\n",
       "      <td>10</td>\n",
       "      <td>5950000.0</td>\n",
       "      <td>56.00</td>\n",
       "      <td>2019-03-05T00:00:00</td>\n",
       "      <td>3</td>\n",
       "      <td>2.65</td>\n",
       "      <td>8.0</td>\n",
       "      <td>10</td>\n",
       "      <td>3</td>\n",
       "      <td>False</td>\n",
       "      <td>...</td>\n",
       "      <td>303.0</td>\n",
       "      <td>0</td>\n",
       "      <td>106250</td>\n",
       "      <td>1</td>\n",
       "      <td>3</td>\n",
       "      <td>2019</td>\n",
       "      <td>другой</td>\n",
       "      <td>17.857143</td>\n",
       "      <td>15.178571</td>\n",
       "      <td>9.217</td>\n",
       "    </tr>\n",
       "    <tr>\n",
       "      <th>23681</th>\n",
       "      <td>13</td>\n",
       "      <td>5250000.0</td>\n",
       "      <td>43.00</td>\n",
       "      <td>2018-05-11T00:00:00</td>\n",
       "      <td>2</td>\n",
       "      <td>2.50</td>\n",
       "      <td>5.0</td>\n",
       "      <td>13</td>\n",
       "      <td>2</td>\n",
       "      <td>False</td>\n",
       "      <td>...</td>\n",
       "      <td>660.0</td>\n",
       "      <td>80</td>\n",
       "      <td>122093</td>\n",
       "      <td>4</td>\n",
       "      <td>5</td>\n",
       "      <td>2018</td>\n",
       "      <td>другой</td>\n",
       "      <td>30.232558</td>\n",
       "      <td>13.953488</td>\n",
       "      <td>7.262</td>\n",
       "    </tr>\n",
       "    <tr>\n",
       "      <th>23690</th>\n",
       "      <td>3</td>\n",
       "      <td>5500000.0</td>\n",
       "      <td>52.00</td>\n",
       "      <td>2018-07-19T00:00:00</td>\n",
       "      <td>2</td>\n",
       "      <td>2.65</td>\n",
       "      <td>5.0</td>\n",
       "      <td>3</td>\n",
       "      <td>2</td>\n",
       "      <td>False</td>\n",
       "      <td>...</td>\n",
       "      <td>NaN</td>\n",
       "      <td>15</td>\n",
       "      <td>105769</td>\n",
       "      <td>3</td>\n",
       "      <td>7</td>\n",
       "      <td>2018</td>\n",
       "      <td>другой</td>\n",
       "      <td>5.769231</td>\n",
       "      <td>11.538462</td>\n",
       "      <td>6.263</td>\n",
       "    </tr>\n",
       "    <tr>\n",
       "      <th>23691</th>\n",
       "      <td>11</td>\n",
       "      <td>9470000.0</td>\n",
       "      <td>72.90</td>\n",
       "      <td>2016-10-13T00:00:00</td>\n",
       "      <td>2</td>\n",
       "      <td>2.75</td>\n",
       "      <td>25.0</td>\n",
       "      <td>11</td>\n",
       "      <td>7</td>\n",
       "      <td>False</td>\n",
       "      <td>...</td>\n",
       "      <td>806.0</td>\n",
       "      <td>519</td>\n",
       "      <td>129903</td>\n",
       "      <td>3</td>\n",
       "      <td>10</td>\n",
       "      <td>2016</td>\n",
       "      <td>другой</td>\n",
       "      <td>15.089163</td>\n",
       "      <td>14.540466</td>\n",
       "      <td>4.489</td>\n",
       "    </tr>\n",
       "    <tr>\n",
       "      <th>23694</th>\n",
       "      <td>9</td>\n",
       "      <td>9700000.0</td>\n",
       "      <td>133.81</td>\n",
       "      <td>2017-03-21T00:00:00</td>\n",
       "      <td>3</td>\n",
       "      <td>3.70</td>\n",
       "      <td>5.0</td>\n",
       "      <td>9</td>\n",
       "      <td>3</td>\n",
       "      <td>False</td>\n",
       "      <td>...</td>\n",
       "      <td>381.0</td>\n",
       "      <td>0</td>\n",
       "      <td>72490</td>\n",
       "      <td>1</td>\n",
       "      <td>3</td>\n",
       "      <td>2017</td>\n",
       "      <td>другой</td>\n",
       "      <td>6.725955</td>\n",
       "      <td>10.335550</td>\n",
       "      <td>4.232</td>\n",
       "    </tr>\n",
       "  </tbody>\n",
       "</table>\n",
       "<p>5031 rows × 30 columns</p>\n",
       "</div>"
      ],
      "text/plain": [
       "       total_images  last_price  total_area first_day_exposition  rooms  \\\n",
       "3                 0  64900000.0      159.00  2015-07-24T00:00:00      3   \n",
       "4                 2  10000000.0      100.00  2018-06-19T00:00:00      2   \n",
       "21               13   3200000.0       31.60  2018-03-14T00:00:00      1   \n",
       "24                8   6500000.0       97.20  2015-10-31T00:00:00      2   \n",
       "35                6  15500000.0      149.00  2017-06-26T00:00:00      5   \n",
       "...             ...         ...         ...                  ...    ...   \n",
       "23674            10   5950000.0       56.00  2019-03-05T00:00:00      3   \n",
       "23681            13   5250000.0       43.00  2018-05-11T00:00:00      2   \n",
       "23690             3   5500000.0       52.00  2018-07-19T00:00:00      2   \n",
       "23691            11   9470000.0       72.90  2016-10-13T00:00:00      2   \n",
       "23694             9   9700000.0      133.81  2017-03-21T00:00:00      3   \n",
       "\n",
       "       ceiling_height  floors_total living_area  floor  is_apartment  ...  \\\n",
       "3                2.65          14.0           0      9         False  ...   \n",
       "4                3.03          14.0           2     13         False  ...   \n",
       "21               2.65           5.0          13      2         False  ...   \n",
       "24               2.65           3.0           8      1         False  ...   \n",
       "35               2.65           5.0           6      4         False  ...   \n",
       "...               ...           ...         ...    ...           ...  ...   \n",
       "23674            2.65           8.0          10      3         False  ...   \n",
       "23681            2.50           5.0          13      2         False  ...   \n",
       "23690            2.65           5.0           3      2         False  ...   \n",
       "23691            2.75          25.0          11      7         False  ...   \n",
       "23694            3.70           5.0           9      3         False  ...   \n",
       "\n",
       "       ponds_nearest  days_exposition  sq_m_price  \\\n",
       "3              234.0              424      408176   \n",
       "4               48.0              121      100000   \n",
       "21               NaN              310      101265   \n",
       "24             124.0              265       66872   \n",
       "35             779.0              644      104026   \n",
       "...              ...              ...         ...   \n",
       "23674          303.0                0      106250   \n",
       "23681          660.0               80      122093   \n",
       "23690            NaN               15      105769   \n",
       "23691          806.0              519      129903   \n",
       "23694          381.0                0       72490   \n",
       "\n",
       "       first_day_exposition_weekday first_day_exposition_month  \\\n",
       "3                                 4                          7   \n",
       "4                                 1                          6   \n",
       "21                                2                          3   \n",
       "24                                5                         10   \n",
       "35                                0                          6   \n",
       "...                             ...                        ...   \n",
       "23674                             1                          3   \n",
       "23681                             4                          5   \n",
       "23690                             3                          7   \n",
       "23691                             3                         10   \n",
       "23694                             1                          3   \n",
       "\n",
       "       first_day_exposition_year  floor_category  living_total_area  \\\n",
       "3                           2015          другой                0.0   \n",
       "4                           2018          другой                2.0   \n",
       "21                          2018          другой          41.139241   \n",
       "24                          2015          первый           8.230453   \n",
       "35                          2017          другой           4.026846   \n",
       "...                          ...             ...                ...   \n",
       "23674                       2019          другой          17.857143   \n",
       "23681                       2018          другой          30.232558   \n",
       "23690                       2018          другой           5.769231   \n",
       "23691                       2016          другой          15.089163   \n",
       "23694                       2017          другой           6.725955   \n",
       "\n",
       "       kitchen_area_total  cityCenters_km  \n",
       "3                0.000000           6.800  \n",
       "4               41.000000           8.098  \n",
       "21              18.037975           9.722  \n",
       "24              20.164609           2.336  \n",
       "35              11.409396           3.502  \n",
       "...                   ...             ...  \n",
       "23674           15.178571           9.217  \n",
       "23681           13.953488           7.262  \n",
       "23690           11.538462           6.263  \n",
       "23691           14.540466           4.489  \n",
       "23694           10.335550           4.232  \n",
       "\n",
       "[5031 rows x 30 columns]"
      ]
     },
     "metadata": {},
     "output_type": "display_data"
    }
   ],
   "source": [
    "display(df_centr_spb)"
   ]
  },
  {
   "cell_type": "code",
   "execution_count": 66,
   "metadata": {},
   "outputs": [
    {
     "name": "stderr",
     "output_type": "stream",
     "text": [
      "/tmp/ipykernel_121/1579582933.py:2: SettingWithCopyWarning: \n",
      "A value is trying to be set on a copy of a slice from a DataFrame.\n",
      "Try using .loc[row_indexer,col_indexer] = value instead\n",
      "\n",
      "See the caveats in the documentation: https://pandas.pydata.org/pandas-docs/stable/user_guide/indexing.html#returning-a-view-versus-a-copy\n",
      "  df_centr_spb['cityCenters_km']=df_centr_spb['cityCenters_km'].astype('int')\n"
     ]
    },
    {
     "data": {
      "text/plain": [
       "3        6\n",
       "4        8\n",
       "21       9\n",
       "24       2\n",
       "35       3\n",
       "        ..\n",
       "23674    9\n",
       "23681    7\n",
       "23690    6\n",
       "23691    4\n",
       "23694    4\n",
       "Name: cityCenters_km, Length: 5031, dtype: int64"
      ]
     },
     "metadata": {},
     "output_type": "display_data"
    }
   ],
   "source": [
    "#перевод  вещественного типа данных в колонке cityCenters_nearest_km  \n",
    "df_centr_spb['cityCenters_km']=df_centr_spb['cityCenters_km'].astype('int')\n",
    "\n",
    "display(df_centr_spb['cityCenters_km'])"
   ]
  },
  {
   "cell_type": "markdown",
   "metadata": {},
   "source": [
    "<div class=\"alert alert-info\">перевод в целочисленный "
   ]
  },
  {
   "cell_type": "code",
   "execution_count": 67,
   "metadata": {},
   "outputs": [
    {
     "data": {
      "text/plain": [
       "4    903\n",
       "5    762\n",
       "9    686\n",
       "8    665\n",
       "3    522\n",
       "6    465\n",
       "7    402\n",
       "2    303\n",
       "1    237\n",
       "0     86\n",
       "Name: cityCenters_km, dtype: int64"
      ]
     },
     "execution_count": 67,
     "metadata": {},
     "output_type": "execute_result"
    }
   ],
   "source": [
    "df_centr_spb['cityCenters_km'].value_counts()"
   ]
  },
  {
   "cell_type": "code",
   "execution_count": 68,
   "metadata": {
    "scrolled": true
   },
   "outputs": [
    {
     "data": {
      "text/html": [
       "<div>\n",
       "<style scoped>\n",
       "    .dataframe tbody tr th:only-of-type {\n",
       "        vertical-align: middle;\n",
       "    }\n",
       "\n",
       "    .dataframe tbody tr th {\n",
       "        vertical-align: top;\n",
       "    }\n",
       "\n",
       "    .dataframe thead th {\n",
       "        text-align: right;\n",
       "    }\n",
       "</style>\n",
       "<table border=\"1\" class=\"dataframe\">\n",
       "  <thead>\n",
       "    <tr style=\"text-align: right;\">\n",
       "      <th></th>\n",
       "      <th>cityCenters_km</th>\n",
       "    </tr>\n",
       "  </thead>\n",
       "  <tbody>\n",
       "    <tr>\n",
       "      <th>count</th>\n",
       "      <td>5031.000000</td>\n",
       "    </tr>\n",
       "    <tr>\n",
       "      <th>mean</th>\n",
       "      <td>5.352614</td>\n",
       "    </tr>\n",
       "    <tr>\n",
       "      <th>std</th>\n",
       "      <td>2.444959</td>\n",
       "    </tr>\n",
       "    <tr>\n",
       "      <th>min</th>\n",
       "      <td>0.000000</td>\n",
       "    </tr>\n",
       "    <tr>\n",
       "      <th>25%</th>\n",
       "      <td>4.000000</td>\n",
       "    </tr>\n",
       "    <tr>\n",
       "      <th>50%</th>\n",
       "      <td>5.000000</td>\n",
       "    </tr>\n",
       "    <tr>\n",
       "      <th>75%</th>\n",
       "      <td>8.000000</td>\n",
       "    </tr>\n",
       "    <tr>\n",
       "      <th>max</th>\n",
       "      <td>9.000000</td>\n",
       "    </tr>\n",
       "  </tbody>\n",
       "</table>\n",
       "</div>"
      ],
      "text/plain": [
       "       cityCenters_km\n",
       "count     5031.000000\n",
       "mean         5.352614\n",
       "std          2.444959\n",
       "min          0.000000\n",
       "25%          4.000000\n",
       "50%          5.000000\n",
       "75%          8.000000\n",
       "max          9.000000"
      ]
     },
     "execution_count": 68,
     "metadata": {},
     "output_type": "execute_result"
    }
   ],
   "source": [
    "df_centr_spb[['cityCenters_km']].describe()"
   ]
  },
  {
   "cell_type": "code",
   "execution_count": 69,
   "metadata": {
    "scrolled": true
   },
   "outputs": [
    {
     "data": {
      "text/html": [
       "<div>\n",
       "<style scoped>\n",
       "    .dataframe tbody tr th:only-of-type {\n",
       "        vertical-align: middle;\n",
       "    }\n",
       "\n",
       "    .dataframe tbody tr th {\n",
       "        vertical-align: top;\n",
       "    }\n",
       "\n",
       "    .dataframe thead th {\n",
       "        text-align: right;\n",
       "    }\n",
       "</style>\n",
       "<table border=\"1\" class=\"dataframe\">\n",
       "  <thead>\n",
       "    <tr style=\"text-align: right;\">\n",
       "      <th></th>\n",
       "      <th>cityCenters_km</th>\n",
       "      <th>last_price</th>\n",
       "    </tr>\n",
       "  </thead>\n",
       "  <tbody>\n",
       "    <tr>\n",
       "      <th>0</th>\n",
       "      <td>0</td>\n",
       "      <td>2.344232e+07</td>\n",
       "    </tr>\n",
       "    <tr>\n",
       "      <th>1</th>\n",
       "      <td>1</td>\n",
       "      <td>1.644205e+07</td>\n",
       "    </tr>\n",
       "    <tr>\n",
       "      <th>2</th>\n",
       "      <td>2</td>\n",
       "      <td>1.494019e+07</td>\n",
       "    </tr>\n",
       "    <tr>\n",
       "      <th>3</th>\n",
       "      <td>3</td>\n",
       "      <td>1.200622e+07</td>\n",
       "    </tr>\n",
       "    <tr>\n",
       "      <th>4</th>\n",
       "      <td>4</td>\n",
       "      <td>1.357929e+07</td>\n",
       "    </tr>\n",
       "    <tr>\n",
       "      <th>5</th>\n",
       "      <td>5</td>\n",
       "      <td>1.439679e+07</td>\n",
       "    </tr>\n",
       "    <tr>\n",
       "      <th>6</th>\n",
       "      <td>6</td>\n",
       "      <td>1.382469e+07</td>\n",
       "    </tr>\n",
       "    <tr>\n",
       "      <th>7</th>\n",
       "      <td>7</td>\n",
       "      <td>1.182523e+07</td>\n",
       "    </tr>\n",
       "    <tr>\n",
       "      <th>8</th>\n",
       "      <td>8</td>\n",
       "      <td>8.477131e+06</td>\n",
       "    </tr>\n",
       "    <tr>\n",
       "      <th>9</th>\n",
       "      <td>9</td>\n",
       "      <td>6.445347e+06</td>\n",
       "    </tr>\n",
       "  </tbody>\n",
       "</table>\n",
       "</div>"
      ],
      "text/plain": [
       "   cityCenters_km    last_price\n",
       "0               0  2.344232e+07\n",
       "1               1  1.644205e+07\n",
       "2               2  1.494019e+07\n",
       "3               3  1.200622e+07\n",
       "4               4  1.357929e+07\n",
       "5               5  1.439679e+07\n",
       "6               6  1.382469e+07\n",
       "7               7  1.182523e+07\n",
       "8               8  8.477131e+06\n",
       "9               9  6.445347e+06"
      ]
     },
     "metadata": {},
     "output_type": "display_data"
    }
   ],
   "source": [
    "# сводная таблица центра и анализ средней стоимости по километрам удаленности \n",
    "df_new_center_spb = df_centr_spb.pivot_table(index='cityCenters_km', values='last_price',aggfunc='mean').reset_index()\n",
    "display(df_new_center_spb )"
   ]
  },
  {
   "cell_type": "markdown",
   "metadata": {},
   "source": [
    "<div class=\"alert alert-info\">Центральная зона в радиусе до 10 км, цена снижается по мере удаленности "
   ]
  },
  {
   "cell_type": "code",
   "execution_count": 70,
   "metadata": {},
   "outputs": [
    {
     "data": {
      "image/png": "[encoded data removed]",
      "text/plain": [
       "<Figure size 432x288 with 1 Axes>"
      ]
     },
     "metadata": {
      "needs_background": "light"
     },
     "output_type": "display_data"
    }
   ],
   "source": [
    "df_new_center_spb.plot(x=\"cityCenters_km\", y=\"last_price\")\n",
    "    \n",
    "plt.show()"
   ]
  },
  {
   "cell_type": "markdown",
   "metadata": {},
   "source": [
    "## Анализ параметров квартир в центре"
   ]
  },
  {
   "cell_type": "code",
   "execution_count": 71,
   "metadata": {
    "scrolled": true
   },
   "outputs": [
    {
     "data": {
      "text/html": [
       "<div>\n",
       "<style scoped>\n",
       "    .dataframe tbody tr th:only-of-type {\n",
       "        vertical-align: middle;\n",
       "    }\n",
       "\n",
       "    .dataframe tbody tr th {\n",
       "        vertical-align: top;\n",
       "    }\n",
       "\n",
       "    .dataframe thead th {\n",
       "        text-align: right;\n",
       "    }\n",
       "</style>\n",
       "<table border=\"1\" class=\"dataframe\">\n",
       "  <thead>\n",
       "    <tr style=\"text-align: right;\">\n",
       "      <th></th>\n",
       "      <th>total_images</th>\n",
       "      <th>last_price</th>\n",
       "      <th>total_area</th>\n",
       "      <th>first_day_exposition</th>\n",
       "      <th>rooms</th>\n",
       "      <th>ceiling_height</th>\n",
       "      <th>floors_total</th>\n",
       "      <th>living_area</th>\n",
       "      <th>floor</th>\n",
       "      <th>is_apartment</th>\n",
       "      <th>...</th>\n",
       "      <th>ponds_nearest</th>\n",
       "      <th>days_exposition</th>\n",
       "      <th>sq_m_price</th>\n",
       "      <th>first_day_exposition_weekday</th>\n",
       "      <th>first_day_exposition_month</th>\n",
       "      <th>first_day_exposition_year</th>\n",
       "      <th>floor_category</th>\n",
       "      <th>living_total_area</th>\n",
       "      <th>kitchen_area_total</th>\n",
       "      <th>cityCenters_km</th>\n",
       "    </tr>\n",
       "  </thead>\n",
       "  <tbody>\n",
       "    <tr>\n",
       "      <th>3</th>\n",
       "      <td>0</td>\n",
       "      <td>64900000.0</td>\n",
       "      <td>159.00</td>\n",
       "      <td>2015-07-24T00:00:00</td>\n",
       "      <td>3</td>\n",
       "      <td>2.65</td>\n",
       "      <td>14.0</td>\n",
       "      <td>0</td>\n",
       "      <td>9</td>\n",
       "      <td>False</td>\n",
       "      <td>...</td>\n",
       "      <td>234.0</td>\n",
       "      <td>424</td>\n",
       "      <td>408176</td>\n",
       "      <td>4</td>\n",
       "      <td>7</td>\n",
       "      <td>2015</td>\n",
       "      <td>другой</td>\n",
       "      <td>0.0</td>\n",
       "      <td>0.000000</td>\n",
       "      <td>6</td>\n",
       "    </tr>\n",
       "    <tr>\n",
       "      <th>4</th>\n",
       "      <td>2</td>\n",
       "      <td>10000000.0</td>\n",
       "      <td>100.00</td>\n",
       "      <td>2018-06-19T00:00:00</td>\n",
       "      <td>2</td>\n",
       "      <td>3.03</td>\n",
       "      <td>14.0</td>\n",
       "      <td>2</td>\n",
       "      <td>13</td>\n",
       "      <td>False</td>\n",
       "      <td>...</td>\n",
       "      <td>48.0</td>\n",
       "      <td>121</td>\n",
       "      <td>100000</td>\n",
       "      <td>1</td>\n",
       "      <td>6</td>\n",
       "      <td>2018</td>\n",
       "      <td>другой</td>\n",
       "      <td>2.0</td>\n",
       "      <td>41.000000</td>\n",
       "      <td>8</td>\n",
       "    </tr>\n",
       "    <tr>\n",
       "      <th>24</th>\n",
       "      <td>8</td>\n",
       "      <td>6500000.0</td>\n",
       "      <td>97.20</td>\n",
       "      <td>2015-10-31T00:00:00</td>\n",
       "      <td>2</td>\n",
       "      <td>2.65</td>\n",
       "      <td>3.0</td>\n",
       "      <td>8</td>\n",
       "      <td>1</td>\n",
       "      <td>False</td>\n",
       "      <td>...</td>\n",
       "      <td>124.0</td>\n",
       "      <td>265</td>\n",
       "      <td>66872</td>\n",
       "      <td>5</td>\n",
       "      <td>10</td>\n",
       "      <td>2015</td>\n",
       "      <td>первый</td>\n",
       "      <td>8.230453</td>\n",
       "      <td>20.164609</td>\n",
       "      <td>2</td>\n",
       "    </tr>\n",
       "    <tr>\n",
       "      <th>35</th>\n",
       "      <td>6</td>\n",
       "      <td>15500000.0</td>\n",
       "      <td>149.00</td>\n",
       "      <td>2017-06-26T00:00:00</td>\n",
       "      <td>5</td>\n",
       "      <td>2.65</td>\n",
       "      <td>5.0</td>\n",
       "      <td>6</td>\n",
       "      <td>4</td>\n",
       "      <td>False</td>\n",
       "      <td>...</td>\n",
       "      <td>779.0</td>\n",
       "      <td>644</td>\n",
       "      <td>104026</td>\n",
       "      <td>0</td>\n",
       "      <td>6</td>\n",
       "      <td>2017</td>\n",
       "      <td>другой</td>\n",
       "      <td>4.026846</td>\n",
       "      <td>11.409396</td>\n",
       "      <td>3</td>\n",
       "    </tr>\n",
       "    <tr>\n",
       "      <th>51</th>\n",
       "      <td>7</td>\n",
       "      <td>45000000.0</td>\n",
       "      <td>161.00</td>\n",
       "      <td>2017-10-17T00:00:00</td>\n",
       "      <td>3</td>\n",
       "      <td>3.20</td>\n",
       "      <td>8.0</td>\n",
       "      <td>7</td>\n",
       "      <td>4</td>\n",
       "      <td>False</td>\n",
       "      <td>...</td>\n",
       "      <td>99.0</td>\n",
       "      <td>541</td>\n",
       "      <td>279503</td>\n",
       "      <td>1</td>\n",
       "      <td>10</td>\n",
       "      <td>2017</td>\n",
       "      <td>другой</td>\n",
       "      <td>4.347826</td>\n",
       "      <td>31.055901</td>\n",
       "      <td>6</td>\n",
       "    </tr>\n",
       "    <tr>\n",
       "      <th>...</th>\n",
       "      <td>...</td>\n",
       "      <td>...</td>\n",
       "      <td>...</td>\n",
       "      <td>...</td>\n",
       "      <td>...</td>\n",
       "      <td>...</td>\n",
       "      <td>...</td>\n",
       "      <td>...</td>\n",
       "      <td>...</td>\n",
       "      <td>...</td>\n",
       "      <td>...</td>\n",
       "      <td>...</td>\n",
       "      <td>...</td>\n",
       "      <td>...</td>\n",
       "      <td>...</td>\n",
       "      <td>...</td>\n",
       "      <td>...</td>\n",
       "      <td>...</td>\n",
       "      <td>...</td>\n",
       "      <td>...</td>\n",
       "      <td>...</td>\n",
       "    </tr>\n",
       "    <tr>\n",
       "      <th>23665</th>\n",
       "      <td>11</td>\n",
       "      <td>4250000.0</td>\n",
       "      <td>47.00</td>\n",
       "      <td>2016-05-20T00:00:00</td>\n",
       "      <td>1</td>\n",
       "      <td>2.65</td>\n",
       "      <td>6.0</td>\n",
       "      <td>11</td>\n",
       "      <td>1</td>\n",
       "      <td>False</td>\n",
       "      <td>...</td>\n",
       "      <td>519.0</td>\n",
       "      <td>131</td>\n",
       "      <td>90425</td>\n",
       "      <td>4</td>\n",
       "      <td>5</td>\n",
       "      <td>2016</td>\n",
       "      <td>первый</td>\n",
       "      <td>23.404255</td>\n",
       "      <td>31.063830</td>\n",
       "      <td>4</td>\n",
       "    </tr>\n",
       "    <tr>\n",
       "      <th>23681</th>\n",
       "      <td>13</td>\n",
       "      <td>5250000.0</td>\n",
       "      <td>43.00</td>\n",
       "      <td>2018-05-11T00:00:00</td>\n",
       "      <td>2</td>\n",
       "      <td>2.50</td>\n",
       "      <td>5.0</td>\n",
       "      <td>13</td>\n",
       "      <td>2</td>\n",
       "      <td>False</td>\n",
       "      <td>...</td>\n",
       "      <td>660.0</td>\n",
       "      <td>80</td>\n",
       "      <td>122093</td>\n",
       "      <td>4</td>\n",
       "      <td>5</td>\n",
       "      <td>2018</td>\n",
       "      <td>другой</td>\n",
       "      <td>30.232558</td>\n",
       "      <td>13.953488</td>\n",
       "      <td>7</td>\n",
       "    </tr>\n",
       "    <tr>\n",
       "      <th>23690</th>\n",
       "      <td>3</td>\n",
       "      <td>5500000.0</td>\n",
       "      <td>52.00</td>\n",
       "      <td>2018-07-19T00:00:00</td>\n",
       "      <td>2</td>\n",
       "      <td>2.65</td>\n",
       "      <td>5.0</td>\n",
       "      <td>3</td>\n",
       "      <td>2</td>\n",
       "      <td>False</td>\n",
       "      <td>...</td>\n",
       "      <td>NaN</td>\n",
       "      <td>15</td>\n",
       "      <td>105769</td>\n",
       "      <td>3</td>\n",
       "      <td>7</td>\n",
       "      <td>2018</td>\n",
       "      <td>другой</td>\n",
       "      <td>5.769231</td>\n",
       "      <td>11.538462</td>\n",
       "      <td>6</td>\n",
       "    </tr>\n",
       "    <tr>\n",
       "      <th>23691</th>\n",
       "      <td>11</td>\n",
       "      <td>9470000.0</td>\n",
       "      <td>72.90</td>\n",
       "      <td>2016-10-13T00:00:00</td>\n",
       "      <td>2</td>\n",
       "      <td>2.75</td>\n",
       "      <td>25.0</td>\n",
       "      <td>11</td>\n",
       "      <td>7</td>\n",
       "      <td>False</td>\n",
       "      <td>...</td>\n",
       "      <td>806.0</td>\n",
       "      <td>519</td>\n",
       "      <td>129903</td>\n",
       "      <td>3</td>\n",
       "      <td>10</td>\n",
       "      <td>2016</td>\n",
       "      <td>другой</td>\n",
       "      <td>15.089163</td>\n",
       "      <td>14.540466</td>\n",
       "      <td>4</td>\n",
       "    </tr>\n",
       "    <tr>\n",
       "      <th>23694</th>\n",
       "      <td>9</td>\n",
       "      <td>9700000.0</td>\n",
       "      <td>133.81</td>\n",
       "      <td>2017-03-21T00:00:00</td>\n",
       "      <td>3</td>\n",
       "      <td>3.70</td>\n",
       "      <td>5.0</td>\n",
       "      <td>9</td>\n",
       "      <td>3</td>\n",
       "      <td>False</td>\n",
       "      <td>...</td>\n",
       "      <td>381.0</td>\n",
       "      <td>0</td>\n",
       "      <td>72490</td>\n",
       "      <td>1</td>\n",
       "      <td>3</td>\n",
       "      <td>2017</td>\n",
       "      <td>другой</td>\n",
       "      <td>6.725955</td>\n",
       "      <td>10.335550</td>\n",
       "      <td>4</td>\n",
       "    </tr>\n",
       "  </tbody>\n",
       "</table>\n",
       "<p>4345 rows × 30 columns</p>\n",
       "</div>"
      ],
      "text/plain": [
       "       total_images  last_price  total_area first_day_exposition  rooms  \\\n",
       "3                 0  64900000.0      159.00  2015-07-24T00:00:00      3   \n",
       "4                 2  10000000.0      100.00  2018-06-19T00:00:00      2   \n",
       "24                8   6500000.0       97.20  2015-10-31T00:00:00      2   \n",
       "35                6  15500000.0      149.00  2017-06-26T00:00:00      5   \n",
       "51                7  45000000.0      161.00  2017-10-17T00:00:00      3   \n",
       "...             ...         ...         ...                  ...    ...   \n",
       "23665            11   4250000.0       47.00  2016-05-20T00:00:00      1   \n",
       "23681            13   5250000.0       43.00  2018-05-11T00:00:00      2   \n",
       "23690             3   5500000.0       52.00  2018-07-19T00:00:00      2   \n",
       "23691            11   9470000.0       72.90  2016-10-13T00:00:00      2   \n",
       "23694             9   9700000.0      133.81  2017-03-21T00:00:00      3   \n",
       "\n",
       "       ceiling_height  floors_total living_area  floor  is_apartment  ...  \\\n",
       "3                2.65          14.0           0      9         False  ...   \n",
       "4                3.03          14.0           2     13         False  ...   \n",
       "24               2.65           3.0           8      1         False  ...   \n",
       "35               2.65           5.0           6      4         False  ...   \n",
       "51               3.20           8.0           7      4         False  ...   \n",
       "...               ...           ...         ...    ...           ...  ...   \n",
       "23665            2.65           6.0          11      1         False  ...   \n",
       "23681            2.50           5.0          13      2         False  ...   \n",
       "23690            2.65           5.0           3      2         False  ...   \n",
       "23691            2.75          25.0          11      7         False  ...   \n",
       "23694            3.70           5.0           9      3         False  ...   \n",
       "\n",
       "       ponds_nearest  days_exposition  sq_m_price  \\\n",
       "3              234.0              424      408176   \n",
       "4               48.0              121      100000   \n",
       "24             124.0              265       66872   \n",
       "35             779.0              644      104026   \n",
       "51              99.0              541      279503   \n",
       "...              ...              ...         ...   \n",
       "23665          519.0              131       90425   \n",
       "23681          660.0               80      122093   \n",
       "23690            NaN               15      105769   \n",
       "23691          806.0              519      129903   \n",
       "23694          381.0                0       72490   \n",
       "\n",
       "       first_day_exposition_weekday first_day_exposition_month  \\\n",
       "3                                 4                          7   \n",
       "4                                 1                          6   \n",
       "24                                5                         10   \n",
       "35                                0                          6   \n",
       "51                                1                         10   \n",
       "...                             ...                        ...   \n",
       "23665                             4                          5   \n",
       "23681                             4                          5   \n",
       "23690                             3                          7   \n",
       "23691                             3                         10   \n",
       "23694                             1                          3   \n",
       "\n",
       "       first_day_exposition_year  floor_category  living_total_area  \\\n",
       "3                           2015          другой                0.0   \n",
       "4                           2018          другой                2.0   \n",
       "24                          2015          первый           8.230453   \n",
       "35                          2017          другой           4.026846   \n",
       "51                          2017          другой           4.347826   \n",
       "...                          ...             ...                ...   \n",
       "23665                       2016          первый          23.404255   \n",
       "23681                       2018          другой          30.232558   \n",
       "23690                       2018          другой           5.769231   \n",
       "23691                       2016          другой          15.089163   \n",
       "23694                       2017          другой           6.725955   \n",
       "\n",
       "       kitchen_area_total  cityCenters_km  \n",
       "3                0.000000               6  \n",
       "4               41.000000               8  \n",
       "24              20.164609               2  \n",
       "35              11.409396               3  \n",
       "51              31.055901               6  \n",
       "...                   ...             ...  \n",
       "23665           31.063830               4  \n",
       "23681           13.953488               7  \n",
       "23690           11.538462               6  \n",
       "23691           14.540466               4  \n",
       "23694           10.335550               4  \n",
       "\n",
       "[4345 rows x 30 columns]"
      ]
     },
     "metadata": {},
     "output_type": "display_data"
    }
   ],
   "source": [
    "city_center_new=8\n",
    "df_centr_spb_analis=df_centr_spb.query('locality_name in[\"Санкт-Петербург\"] and cityCenters_km <=@city_center_new')\n",
    "display(df_centr_spb_analis)"
   ]
  },
  {
   "cell_type": "code",
   "execution_count": 72,
   "metadata": {
    "scrolled": true
   },
   "outputs": [
    {
     "data": {
      "text/html": [
       "<div>\n",
       "<style scoped>\n",
       "    .dataframe tbody tr th:only-of-type {\n",
       "        vertical-align: middle;\n",
       "    }\n",
       "\n",
       "    .dataframe tbody tr th {\n",
       "        vertical-align: top;\n",
       "    }\n",
       "\n",
       "    .dataframe thead tr th {\n",
       "        text-align: left;\n",
       "    }\n",
       "</style>\n",
       "<table border=\"1\" class=\"dataframe\">\n",
       "  <thead>\n",
       "    <tr>\n",
       "      <th></th>\n",
       "      <th>total_area</th>\n",
       "      <th>rooms</th>\n",
       "      <th>ceiling_height</th>\n",
       "      <th>mean</th>\n",
       "    </tr>\n",
       "    <tr>\n",
       "      <th>locality_name</th>\n",
       "      <th></th>\n",
       "      <th></th>\n",
       "      <th></th>\n",
       "      <th>Санкт-Петербург</th>\n",
       "    </tr>\n",
       "  </thead>\n",
       "  <tbody>\n",
       "    <tr>\n",
       "      <th>0</th>\n",
       "      <td>12.0</td>\n",
       "      <td>1</td>\n",
       "      <td>2.55</td>\n",
       "      <td>2400000.0</td>\n",
       "    </tr>\n",
       "    <tr>\n",
       "      <th>1</th>\n",
       "      <td>13.0</td>\n",
       "      <td>1</td>\n",
       "      <td>2.65</td>\n",
       "      <td>3800000.0</td>\n",
       "    </tr>\n",
       "    <tr>\n",
       "      <th>2</th>\n",
       "      <td>13.0</td>\n",
       "      <td>1</td>\n",
       "      <td>3.40</td>\n",
       "      <td>1850000.0</td>\n",
       "    </tr>\n",
       "    <tr>\n",
       "      <th>3</th>\n",
       "      <td>13.2</td>\n",
       "      <td>1</td>\n",
       "      <td>2.65</td>\n",
       "      <td>1686000.0</td>\n",
       "    </tr>\n",
       "    <tr>\n",
       "      <th>4</th>\n",
       "      <td>17.0</td>\n",
       "      <td>1</td>\n",
       "      <td>2.75</td>\n",
       "      <td>1900000.0</td>\n",
       "    </tr>\n",
       "    <tr>\n",
       "      <th>...</th>\n",
       "      <td>...</td>\n",
       "      <td>...</td>\n",
       "      <td>...</td>\n",
       "      <td>...</td>\n",
       "    </tr>\n",
       "    <tr>\n",
       "      <th>3355</th>\n",
       "      <td>500.0</td>\n",
       "      <td>4</td>\n",
       "      <td>3.20</td>\n",
       "      <td>150000000.0</td>\n",
       "    </tr>\n",
       "    <tr>\n",
       "      <th>3356</th>\n",
       "      <td>507.0</td>\n",
       "      <td>5</td>\n",
       "      <td>4.45</td>\n",
       "      <td>84000000.0</td>\n",
       "    </tr>\n",
       "    <tr>\n",
       "      <th>3357</th>\n",
       "      <td>517.0</td>\n",
       "      <td>7</td>\n",
       "      <td>2.65</td>\n",
       "      <td>50000000.0</td>\n",
       "    </tr>\n",
       "    <tr>\n",
       "      <th>3358</th>\n",
       "      <td>631.0</td>\n",
       "      <td>7</td>\n",
       "      <td>2.65</td>\n",
       "      <td>140000000.0</td>\n",
       "    </tr>\n",
       "    <tr>\n",
       "      <th>3359</th>\n",
       "      <td>631.2</td>\n",
       "      <td>7</td>\n",
       "      <td>3.90</td>\n",
       "      <td>140000000.0</td>\n",
       "    </tr>\n",
       "  </tbody>\n",
       "</table>\n",
       "<p>3360 rows × 4 columns</p>\n",
       "</div>"
      ],
      "text/plain": [
       "              total_area rooms ceiling_height            mean\n",
       "locality_name                                 Санкт-Петербург\n",
       "0                   12.0     1           2.55       2400000.0\n",
       "1                   13.0     1           2.65       3800000.0\n",
       "2                   13.0     1           3.40       1850000.0\n",
       "3                   13.2     1           2.65       1686000.0\n",
       "4                   17.0     1           2.75       1900000.0\n",
       "...                  ...   ...            ...             ...\n",
       "3355               500.0     4           3.20     150000000.0\n",
       "3356               507.0     5           4.45      84000000.0\n",
       "3357               517.0     7           2.65      50000000.0\n",
       "3358               631.0     7           2.65     140000000.0\n",
       "3359               631.2     7           3.90     140000000.0\n",
       "\n",
       "[3360 rows x 4 columns]"
      ]
     },
     "metadata": {},
     "output_type": "display_data"
    }
   ],
   "source": [
    "#сводная таблица первичного анализа площадь,число комнат ,высота потолков\n",
    "df_centr_spb_analis_first = df_centr_spb_analis.pivot_table(index=[ \"total_area\", \"rooms\",\"ceiling_height\"],columns=[\"locality_name\"], values=\"last_price\",aggfunc=['mean']).reset_index()\n",
    "display(df_centr_spb_analis_first )"
   ]
  },
  {
   "cell_type": "markdown",
   "metadata": {},
   "source": [
    "##   Анализ факторов влияющих на стоимость квартир  в центре "
   ]
  },
  {
   "cell_type": "code",
   "execution_count": 73,
   "metadata": {
    "scrolled": true
   },
   "outputs": [
    {
     "data": {
      "text/html": [
       "<div>\n",
       "<style scoped>\n",
       "    .dataframe tbody tr th:only-of-type {\n",
       "        vertical-align: middle;\n",
       "    }\n",
       "\n",
       "    .dataframe tbody tr th {\n",
       "        vertical-align: top;\n",
       "    }\n",
       "\n",
       "    .dataframe thead tr th {\n",
       "        text-align: left;\n",
       "    }\n",
       "\n",
       "    .dataframe thead tr:last-of-type th {\n",
       "        text-align: right;\n",
       "    }\n",
       "</style>\n",
       "<table border=\"1\" class=\"dataframe\">\n",
       "  <thead>\n",
       "    <tr>\n",
       "      <th></th>\n",
       "      <th>count</th>\n",
       "      <th>sum</th>\n",
       "      <th>mean</th>\n",
       "      <th>max</th>\n",
       "    </tr>\n",
       "    <tr>\n",
       "      <th></th>\n",
       "      <th>sq_m_price</th>\n",
       "      <th>sq_m_price</th>\n",
       "      <th>sq_m_price</th>\n",
       "      <th>sq_m_price</th>\n",
       "    </tr>\n",
       "    <tr>\n",
       "      <th>rooms</th>\n",
       "      <th></th>\n",
       "      <th></th>\n",
       "      <th></th>\n",
       "      <th></th>\n",
       "    </tr>\n",
       "  </thead>\n",
       "  <tbody>\n",
       "    <tr>\n",
       "      <th>1</th>\n",
       "      <td>731</td>\n",
       "      <td>106407941</td>\n",
       "      <td>145564.898769</td>\n",
       "      <td>848484</td>\n",
       "    </tr>\n",
       "    <tr>\n",
       "      <th>2</th>\n",
       "      <td>1337</td>\n",
       "      <td>181406531</td>\n",
       "      <td>135681.773373</td>\n",
       "      <td>612557</td>\n",
       "    </tr>\n",
       "    <tr>\n",
       "      <th>3</th>\n",
       "      <td>1353</td>\n",
       "      <td>187153230</td>\n",
       "      <td>138324.634146</td>\n",
       "      <td>841379</td>\n",
       "    </tr>\n",
       "    <tr>\n",
       "      <th>4</th>\n",
       "      <td>547</td>\n",
       "      <td>76616279</td>\n",
       "      <td>140066.323583</td>\n",
       "      <td>995983</td>\n",
       "    </tr>\n",
       "    <tr>\n",
       "      <th>5</th>\n",
       "      <td>224</td>\n",
       "      <td>31583488</td>\n",
       "      <td>140997.714286</td>\n",
       "      <td>658436</td>\n",
       "    </tr>\n",
       "    <tr>\n",
       "      <th>6</th>\n",
       "      <td>83</td>\n",
       "      <td>11281635</td>\n",
       "      <td>135923.313253</td>\n",
       "      <td>562770</td>\n",
       "    </tr>\n",
       "    <tr>\n",
       "      <th>7</th>\n",
       "      <td>52</td>\n",
       "      <td>6637109</td>\n",
       "      <td>127636.711538</td>\n",
       "      <td>348936</td>\n",
       "    </tr>\n",
       "    <tr>\n",
       "      <th>8</th>\n",
       "      <td>11</td>\n",
       "      <td>2109620</td>\n",
       "      <td>191783.636364</td>\n",
       "      <td>652173</td>\n",
       "    </tr>\n",
       "    <tr>\n",
       "      <th>9</th>\n",
       "      <td>3</td>\n",
       "      <td>391587</td>\n",
       "      <td>130529.000000</td>\n",
       "      <td>220000</td>\n",
       "    </tr>\n",
       "    <tr>\n",
       "      <th>10</th>\n",
       "      <td>2</td>\n",
       "      <td>209657</td>\n",
       "      <td>104828.500000</td>\n",
       "      <td>137931</td>\n",
       "    </tr>\n",
       "    <tr>\n",
       "      <th>11</th>\n",
       "      <td>2</td>\n",
       "      <td>265279</td>\n",
       "      <td>132639.500000</td>\n",
       "      <td>170015</td>\n",
       "    </tr>\n",
       "  </tbody>\n",
       "</table>\n",
       "</div>"
      ],
      "text/plain": [
       "           count        sum           mean        max\n",
       "      sq_m_price sq_m_price     sq_m_price sq_m_price\n",
       "rooms                                                \n",
       "1            731  106407941  145564.898769     848484\n",
       "2           1337  181406531  135681.773373     612557\n",
       "3           1353  187153230  138324.634146     841379\n",
       "4            547   76616279  140066.323583     995983\n",
       "5            224   31583488  140997.714286     658436\n",
       "6             83   11281635  135923.313253     562770\n",
       "7             52    6637109  127636.711538     348936\n",
       "8             11    2109620  191783.636364     652173\n",
       "9              3     391587  130529.000000     220000\n",
       "10             2     209657  104828.500000     137931\n",
       "11             2     265279  132639.500000     170015"
      ]
     },
     "metadata": {},
     "output_type": "display_data"
    }
   ],
   "source": [
    "# сводная таблица зависимости стоимости от числа комнат \n",
    "df_rooms_spb = df_centr_spb_analis.pivot_table(index='rooms', values='sq_m_price', aggfunc=['count','sum','mean','max']) \n",
    "\n",
    "display(df_rooms_spb)"
   ]
  },
  {
   "cell_type": "code",
   "execution_count": 74,
   "metadata": {
    "scrolled": false
   },
   "outputs": [
    {
     "data": {
      "text/plain": [
       "<AxesSubplot:title={'center':'Распределение цены от числа комнат'}, xlabel='rooms'>"
      ]
     },
     "execution_count": 74,
     "metadata": {},
     "output_type": "execute_result"
    },
    {
     "data": {
      "image/png": "[encoded data removed]",
      "text/plain": [
       "<Figure size 1080x432 with 1 Axes>"
      ]
     },
     "metadata": {
      "needs_background": "light"
     },
     "output_type": "display_data"
    }
   ],
   "source": [
    "df_rooms_spb['mean', 'sq_m_price'].plot(kind='bar', \n",
    "                                      figsize=(15, 6), \n",
    "                                      title='Распределение цены от числа комнат', \n",
    "                                      grid=True)"
   ]
  },
  {
   "cell_type": "markdown",
   "metadata": {},
   "source": [
    "<div class=\"alert alert-info\"> наблюдается резкий всплеск показателя, что может быть обусловлено особенностями самого помещения отличающегося от типовой застройки. \n"
   ]
  },
  {
   "cell_type": "code",
   "execution_count": 75,
   "metadata": {
    "scrolled": true
   },
   "outputs": [
    {
     "data": {
      "text/html": [
       "<div>\n",
       "<style scoped>\n",
       "    .dataframe tbody tr th:only-of-type {\n",
       "        vertical-align: middle;\n",
       "    }\n",
       "\n",
       "    .dataframe tbody tr th {\n",
       "        vertical-align: top;\n",
       "    }\n",
       "\n",
       "    .dataframe thead tr th {\n",
       "        text-align: left;\n",
       "    }\n",
       "\n",
       "    .dataframe thead tr:last-of-type th {\n",
       "        text-align: right;\n",
       "    }\n",
       "</style>\n",
       "<table border=\"1\" class=\"dataframe\">\n",
       "  <thead>\n",
       "    <tr>\n",
       "      <th></th>\n",
       "      <th>count</th>\n",
       "      <th>mean</th>\n",
       "      <th>median</th>\n",
       "    </tr>\n",
       "    <tr>\n",
       "      <th></th>\n",
       "      <th>last_price</th>\n",
       "      <th>last_price</th>\n",
       "      <th>last_price</th>\n",
       "    </tr>\n",
       "    <tr>\n",
       "      <th>floor_category</th>\n",
       "      <th></th>\n",
       "      <th></th>\n",
       "      <th></th>\n",
       "    </tr>\n",
       "  </thead>\n",
       "  <tbody>\n",
       "    <tr>\n",
       "      <th>другой</th>\n",
       "      <td>3159</td>\n",
       "      <td>1.334605e+07</td>\n",
       "      <td>9000000.0</td>\n",
       "    </tr>\n",
       "    <tr>\n",
       "      <th>первый</th>\n",
       "      <td>460</td>\n",
       "      <td>8.809341e+06</td>\n",
       "      <td>6312500.0</td>\n",
       "    </tr>\n",
       "    <tr>\n",
       "      <th>последний</th>\n",
       "      <td>726</td>\n",
       "      <td>1.452675e+07</td>\n",
       "      <td>8945000.0</td>\n",
       "    </tr>\n",
       "  </tbody>\n",
       "</table>\n",
       "</div>"
      ],
      "text/plain": [
       "                    count          mean     median\n",
       "               last_price    last_price last_price\n",
       "floor_category                                    \n",
       "другой               3159  1.334605e+07  9000000.0\n",
       "первый                460  8.809341e+06  6312500.0\n",
       "последний             726  1.452675e+07  8945000.0"
      ]
     },
     "metadata": {},
     "output_type": "display_data"
    }
   ],
   "source": [
    "# сводная таблица зависимости стоимости от категории этажа\n",
    "df_floor_category_spb =  df_centr_spb_analis.pivot_table(index='floor_category', values='last_price', aggfunc=['count','mean','median']) \n",
    "\n",
    "display(df_floor_category_spb)"
   ]
  },
  {
   "cell_type": "code",
   "execution_count": 76,
   "metadata": {
    "scrolled": true
   },
   "outputs": [
    {
     "data": {
      "text/plain": [
       "<AxesSubplot:title={'center':'Распределение стоимости по категории этажа'}, xlabel='floor_category'>"
      ]
     },
     "execution_count": 76,
     "metadata": {},
     "output_type": "execute_result"
    },
    {
     "data": {
      "image/png": "[encoded data removed]",
      "text/plain": [
       "<Figure size 1080x432 with 1 Axes>"
      ]
     },
     "metadata": {
      "needs_background": "light"
     },
     "output_type": "display_data"
    }
   ],
   "source": [
    "df_floor_category_spb['mean', 'last_price'].plot(kind='bar', \n",
    "                                      figsize=(15, 6), \n",
    "                                      title='Распределение стоимости по категории этажа', \n",
    "                                      grid=True)"
   ]
  },
  {
   "cell_type": "code",
   "execution_count": 77,
   "metadata": {},
   "outputs": [
    {
     "data": {
      "text/html": [
       "<div>\n",
       "<style scoped>\n",
       "    .dataframe tbody tr th:only-of-type {\n",
       "        vertical-align: middle;\n",
       "    }\n",
       "\n",
       "    .dataframe tbody tr th {\n",
       "        vertical-align: top;\n",
       "    }\n",
       "\n",
       "    .dataframe thead tr th {\n",
       "        text-align: left;\n",
       "    }\n",
       "\n",
       "    .dataframe thead tr:last-of-type th {\n",
       "        text-align: right;\n",
       "    }\n",
       "</style>\n",
       "<table border=\"1\" class=\"dataframe\">\n",
       "  <thead>\n",
       "    <tr>\n",
       "      <th></th>\n",
       "      <th>count</th>\n",
       "      <th>mean</th>\n",
       "      <th>median</th>\n",
       "    </tr>\n",
       "    <tr>\n",
       "      <th></th>\n",
       "      <th>sq_m_price</th>\n",
       "      <th>sq_m_price</th>\n",
       "      <th>sq_m_price</th>\n",
       "    </tr>\n",
       "    <tr>\n",
       "      <th>floor_category</th>\n",
       "      <th></th>\n",
       "      <th></th>\n",
       "      <th></th>\n",
       "    </tr>\n",
       "  </thead>\n",
       "  <tbody>\n",
       "    <tr>\n",
       "      <th>другой</th>\n",
       "      <td>3159</td>\n",
       "      <td>142679.642608</td>\n",
       "      <td>125796.0</td>\n",
       "    </tr>\n",
       "    <tr>\n",
       "      <th>первый</th>\n",
       "      <td>460</td>\n",
       "      <td>120312.806522</td>\n",
       "      <td>106346.0</td>\n",
       "    </tr>\n",
       "    <tr>\n",
       "      <th>последний</th>\n",
       "      <td>726</td>\n",
       "      <td>134977.236915</td>\n",
       "      <td>115407.5</td>\n",
       "    </tr>\n",
       "  </tbody>\n",
       "</table>\n",
       "</div>"
      ],
      "text/plain": [
       "                    count           mean     median\n",
       "               sq_m_price     sq_m_price sq_m_price\n",
       "floor_category                                     \n",
       "другой               3159  142679.642608   125796.0\n",
       "первый                460  120312.806522   106346.0\n",
       "последний             726  134977.236915   115407.5"
      ]
     },
     "metadata": {},
     "output_type": "display_data"
    }
   ],
   "source": [
    "# сводная таблица зависимости стоимости от категории этажа\n",
    "df_floor_category_spb =  df_centr_spb_analis.pivot_table(index='floor_category', values='sq_m_price', aggfunc=['count','mean','median']) \n",
    "\n",
    "display(df_floor_category_spb)"
   ]
  },
  {
   "cell_type": "code",
   "execution_count": 78,
   "metadata": {},
   "outputs": [
    {
     "data": {
      "text/plain": [
       "<AxesSubplot:title={'center':'Распределение стоимости по категории этажа'}, xlabel='floor_category'>"
      ]
     },
     "execution_count": 78,
     "metadata": {},
     "output_type": "execute_result"
    },
    {
     "data": {
      "image/png": "[encoded data removed]",
      "text/plain": [
       "<Figure size 1080x432 with 1 Axes>"
      ]
     },
     "metadata": {
      "needs_background": "light"
     },
     "output_type": "display_data"
    }
   ],
   "source": [
    "df_floor_category_spb['mean', 'sq_m_price'].plot(kind='bar', \n",
    "                                      figsize=(15, 6), \n",
    "                                      title='Распределение стоимости по категории этажа', \n",
    "                                      grid=True)"
   ]
  },
  {
   "cell_type": "code",
   "execution_count": 79,
   "metadata": {
    "scrolled": true
   },
   "outputs": [
    {
     "data": {
      "text/html": [
       "<div>\n",
       "<style scoped>\n",
       "    .dataframe tbody tr th:only-of-type {\n",
       "        vertical-align: middle;\n",
       "    }\n",
       "\n",
       "    .dataframe tbody tr th {\n",
       "        vertical-align: top;\n",
       "    }\n",
       "\n",
       "    .dataframe thead th {\n",
       "        text-align: right;\n",
       "    }\n",
       "</style>\n",
       "<table border=\"1\" class=\"dataframe\">\n",
       "  <thead>\n",
       "    <tr style=\"text-align: right;\">\n",
       "      <th></th>\n",
       "      <th>cityCenters_km</th>\n",
       "      <th>sq_m_price</th>\n",
       "    </tr>\n",
       "  </thead>\n",
       "  <tbody>\n",
       "    <tr>\n",
       "      <th>0</th>\n",
       "      <td>0</td>\n",
       "      <td>187323.674419</td>\n",
       "    </tr>\n",
       "    <tr>\n",
       "      <th>1</th>\n",
       "      <td>1</td>\n",
       "      <td>154387.582278</td>\n",
       "    </tr>\n",
       "    <tr>\n",
       "      <th>2</th>\n",
       "      <td>2</td>\n",
       "      <td>144029.663366</td>\n",
       "    </tr>\n",
       "    <tr>\n",
       "      <th>3</th>\n",
       "      <td>3</td>\n",
       "      <td>126145.588123</td>\n",
       "    </tr>\n",
       "    <tr>\n",
       "      <th>4</th>\n",
       "      <td>4</td>\n",
       "      <td>137458.156146</td>\n",
       "    </tr>\n",
       "    <tr>\n",
       "      <th>5</th>\n",
       "      <td>5</td>\n",
       "      <td>145601.194226</td>\n",
       "    </tr>\n",
       "    <tr>\n",
       "      <th>6</th>\n",
       "      <td>6</td>\n",
       "      <td>150597.838710</td>\n",
       "    </tr>\n",
       "    <tr>\n",
       "      <th>7</th>\n",
       "      <td>7</td>\n",
       "      <td>140827.601990</td>\n",
       "    </tr>\n",
       "    <tr>\n",
       "      <th>8</th>\n",
       "      <td>8</td>\n",
       "      <td>120541.596992</td>\n",
       "    </tr>\n",
       "  </tbody>\n",
       "</table>\n",
       "</div>"
      ],
      "text/plain": [
       "   cityCenters_km     sq_m_price\n",
       "0               0  187323.674419\n",
       "1               1  154387.582278\n",
       "2               2  144029.663366\n",
       "3               3  126145.588123\n",
       "4               4  137458.156146\n",
       "5               5  145601.194226\n",
       "6               6  150597.838710\n",
       "7               7  140827.601990\n",
       "8               8  120541.596992"
      ]
     },
     "metadata": {},
     "output_type": "display_data"
    }
   ],
   "source": [
    "#зависимость стоимости цены квадратного метра от удаленности от ценра \n",
    "df_centers_nearest_spb = df_centr_spb_analis.pivot_table(index='cityCenters_km', values='sq_m_price',aggfunc='mean').reset_index()\n",
    "display(df_centers_nearest_spb)"
   ]
  },
  {
   "cell_type": "code",
   "execution_count": 80,
   "metadata": {
    "scrolled": true
   },
   "outputs": [
    {
     "data": {
      "text/plain": [
       "<matplotlib.collections.PathCollection at 0x7f9fd2e29d00>"
      ]
     },
     "execution_count": 80,
     "metadata": {},
     "output_type": "execute_result"
    },
    {
     "data": {
      "image/png": "[encoded data removed]",
      "text/plain": [
       "<Figure size 432x288 with 1 Axes>"
      ]
     },
     "metadata": {
      "needs_background": "light"
     },
     "output_type": "display_data"
    }
   ],
   "source": [
    "plt.xlabel('cityCenters_km')\n",
    "plt.ylabel('sq_m_price')\n",
    "plt.scatter(x= df_centr_spb_analis['cityCenters_km'], y= df_centr_spb_analis['sq_m_price'])"
   ]
  },
  {
   "cell_type": "code",
   "execution_count": 81,
   "metadata": {},
   "outputs": [
    {
     "data": {
      "image/png": "[encoded data removed]",
      "text/plain": [
       "<Figure size 432x288 with 1 Axes>"
      ]
     },
     "metadata": {
      "needs_background": "light"
     },
     "output_type": "display_data"
    }
   ],
   "source": [
    "df_centers_nearest_spb.plot(x=\"cityCenters_km\", y=\"sq_m_price\")\n",
    "    \n",
    "plt.show()"
   ]
  },
  {
   "cell_type": "markdown",
   "metadata": {},
   "source": [
    "## Зависимость цены в Петербурге от даты размещения объявления"
   ]
  },
  {
   "cell_type": "code",
   "execution_count": 82,
   "metadata": {},
   "outputs": [
    {
     "data": {
      "text/html": [
       "<div>\n",
       "<style scoped>\n",
       "    .dataframe tbody tr th:only-of-type {\n",
       "        vertical-align: middle;\n",
       "    }\n",
       "\n",
       "    .dataframe tbody tr th {\n",
       "        vertical-align: top;\n",
       "    }\n",
       "\n",
       "    .dataframe thead th {\n",
       "        text-align: right;\n",
       "    }\n",
       "</style>\n",
       "<table border=\"1\" class=\"dataframe\">\n",
       "  <thead>\n",
       "    <tr style=\"text-align: right;\">\n",
       "      <th></th>\n",
       "      <th>last_price</th>\n",
       "    </tr>\n",
       "    <tr>\n",
       "      <th>first_day_exposition_weekday</th>\n",
       "      <th></th>\n",
       "    </tr>\n",
       "  </thead>\n",
       "  <tbody>\n",
       "    <tr>\n",
       "      <th>0</th>\n",
       "      <td>1.290930e+07</td>\n",
       "    </tr>\n",
       "    <tr>\n",
       "      <th>1</th>\n",
       "      <td>1.257264e+07</td>\n",
       "    </tr>\n",
       "    <tr>\n",
       "      <th>2</th>\n",
       "      <td>1.260321e+07</td>\n",
       "    </tr>\n",
       "    <tr>\n",
       "      <th>3</th>\n",
       "      <td>1.349203e+07</td>\n",
       "    </tr>\n",
       "    <tr>\n",
       "      <th>4</th>\n",
       "      <td>1.335258e+07</td>\n",
       "    </tr>\n",
       "    <tr>\n",
       "      <th>5</th>\n",
       "      <td>1.296994e+07</td>\n",
       "    </tr>\n",
       "    <tr>\n",
       "      <th>6</th>\n",
       "      <td>1.401585e+07</td>\n",
       "    </tr>\n",
       "  </tbody>\n",
       "</table>\n",
       "</div>"
      ],
      "text/plain": [
       "                                last_price\n",
       "first_day_exposition_weekday              \n",
       "0                             1.290930e+07\n",
       "1                             1.257264e+07\n",
       "2                             1.260321e+07\n",
       "3                             1.349203e+07\n",
       "4                             1.335258e+07\n",
       "5                             1.296994e+07\n",
       "6                             1.401585e+07"
      ]
     },
     "metadata": {},
     "output_type": "display_data"
    }
   ],
   "source": [
    "# таблица зависимости от дня недели\n",
    "df_week_spb = df_centr_spb_analis.pivot_table(index='first_day_exposition_weekday', values='last_price',aggfunc='mean')\n",
    "display(df_week_spb )"
   ]
  },
  {
   "cell_type": "code",
   "execution_count": 83,
   "metadata": {},
   "outputs": [
    {
     "data": {
      "text/plain": [
       "<AxesSubplot:title={'center':'Распределение цены отдня недели размещения объявления'}, xlabel='first_day_exposition_weekday'>"
      ]
     },
     "execution_count": 83,
     "metadata": {},
     "output_type": "execute_result"
    },
    {
     "data": {
      "image/png": "[encoded data removed]",
      "text/plain": [
       "<Figure size 1080x432 with 1 Axes>"
      ]
     },
     "metadata": {
      "needs_background": "light"
     },
     "output_type": "display_data"
    }
   ],
   "source": [
    "df_week_spb [ 'last_price'].plot(kind='bar', \n",
    "                                      figsize=(15, 6), \n",
    "                                      title='Распределение цены отдня недели размещения объявления', \n",
    "                                      grid=True)"
   ]
  },
  {
   "cell_type": "code",
   "execution_count": 84,
   "metadata": {},
   "outputs": [
    {
     "data": {
      "text/html": [
       "<div>\n",
       "<style scoped>\n",
       "    .dataframe tbody tr th:only-of-type {\n",
       "        vertical-align: middle;\n",
       "    }\n",
       "\n",
       "    .dataframe tbody tr th {\n",
       "        vertical-align: top;\n",
       "    }\n",
       "\n",
       "    .dataframe thead th {\n",
       "        text-align: right;\n",
       "    }\n",
       "</style>\n",
       "<table border=\"1\" class=\"dataframe\">\n",
       "  <thead>\n",
       "    <tr style=\"text-align: right;\">\n",
       "      <th></th>\n",
       "      <th>last_price</th>\n",
       "    </tr>\n",
       "    <tr>\n",
       "      <th>first_day_exposition_month</th>\n",
       "      <th></th>\n",
       "    </tr>\n",
       "  </thead>\n",
       "  <tbody>\n",
       "    <tr>\n",
       "      <th>1</th>\n",
       "      <td>1.446969e+07</td>\n",
       "    </tr>\n",
       "    <tr>\n",
       "      <th>2</th>\n",
       "      <td>1.299075e+07</td>\n",
       "    </tr>\n",
       "    <tr>\n",
       "      <th>3</th>\n",
       "      <td>1.270809e+07</td>\n",
       "    </tr>\n",
       "    <tr>\n",
       "      <th>4</th>\n",
       "      <td>1.280269e+07</td>\n",
       "    </tr>\n",
       "    <tr>\n",
       "      <th>5</th>\n",
       "      <td>1.277025e+07</td>\n",
       "    </tr>\n",
       "    <tr>\n",
       "      <th>6</th>\n",
       "      <td>1.334169e+07</td>\n",
       "    </tr>\n",
       "    <tr>\n",
       "      <th>7</th>\n",
       "      <td>1.379807e+07</td>\n",
       "    </tr>\n",
       "    <tr>\n",
       "      <th>8</th>\n",
       "      <td>1.290644e+07</td>\n",
       "    </tr>\n",
       "    <tr>\n",
       "      <th>9</th>\n",
       "      <td>1.257717e+07</td>\n",
       "    </tr>\n",
       "    <tr>\n",
       "      <th>10</th>\n",
       "      <td>1.235650e+07</td>\n",
       "    </tr>\n",
       "    <tr>\n",
       "      <th>11</th>\n",
       "      <td>1.322936e+07</td>\n",
       "    </tr>\n",
       "    <tr>\n",
       "      <th>12</th>\n",
       "      <td>1.333366e+07</td>\n",
       "    </tr>\n",
       "  </tbody>\n",
       "</table>\n",
       "</div>"
      ],
      "text/plain": [
       "                              last_price\n",
       "first_day_exposition_month              \n",
       "1                           1.446969e+07\n",
       "2                           1.299075e+07\n",
       "3                           1.270809e+07\n",
       "4                           1.280269e+07\n",
       "5                           1.277025e+07\n",
       "6                           1.334169e+07\n",
       "7                           1.379807e+07\n",
       "8                           1.290644e+07\n",
       "9                           1.257717e+07\n",
       "10                          1.235650e+07\n",
       "11                          1.322936e+07\n",
       "12                          1.333366e+07"
      ]
     },
     "metadata": {},
     "output_type": "display_data"
    }
   ],
   "source": [
    "# таблица зависимости от месяца\n",
    "df_month_spb =df_centr_spb_analis.pivot_table(index='first_day_exposition_month', values='last_price',aggfunc='mean')\n",
    "display(df_month_spb)"
   ]
  },
  {
   "cell_type": "code",
   "execution_count": 85,
   "metadata": {},
   "outputs": [
    {
     "data": {
      "text/plain": [
       "<AxesSubplot:title={'center':'Распределение цены от месяца размещения объявления'}, xlabel='first_day_exposition_month'>"
      ]
     },
     "execution_count": 85,
     "metadata": {},
     "output_type": "execute_result"
    },
    {
     "data": {
      "image/png": "[encoded data removed]",
      "text/plain": [
       "<Figure size 1080x432 with 1 Axes>"
      ]
     },
     "metadata": {
      "needs_background": "light"
     },
     "output_type": "display_data"
    }
   ],
   "source": [
    "df_month_spb['last_price'].plot(kind='bar', \n",
    "                                      figsize=(15, 6), \n",
    "                                      title='Распределение цены от месяца размещения объявления', \n",
    "                                      grid=True)"
   ]
  },
  {
   "cell_type": "code",
   "execution_count": 86,
   "metadata": {},
   "outputs": [
    {
     "data": {
      "text/html": [
       "<div>\n",
       "<style scoped>\n",
       "    .dataframe tbody tr th:only-of-type {\n",
       "        vertical-align: middle;\n",
       "    }\n",
       "\n",
       "    .dataframe tbody tr th {\n",
       "        vertical-align: top;\n",
       "    }\n",
       "\n",
       "    .dataframe thead th {\n",
       "        text-align: right;\n",
       "    }\n",
       "</style>\n",
       "<table border=\"1\" class=\"dataframe\">\n",
       "  <thead>\n",
       "    <tr style=\"text-align: right;\">\n",
       "      <th></th>\n",
       "      <th>last_price</th>\n",
       "    </tr>\n",
       "    <tr>\n",
       "      <th>first_day_exposition_year</th>\n",
       "      <th></th>\n",
       "    </tr>\n",
       "  </thead>\n",
       "  <tbody>\n",
       "    <tr>\n",
       "      <th>2014</th>\n",
       "      <td>2.223947e+07</td>\n",
       "    </tr>\n",
       "    <tr>\n",
       "      <th>2015</th>\n",
       "      <td>1.609422e+07</td>\n",
       "    </tr>\n",
       "    <tr>\n",
       "      <th>2016</th>\n",
       "      <td>1.402196e+07</td>\n",
       "    </tr>\n",
       "    <tr>\n",
       "      <th>2017</th>\n",
       "      <td>1.287909e+07</td>\n",
       "    </tr>\n",
       "    <tr>\n",
       "      <th>2018</th>\n",
       "      <td>1.163871e+07</td>\n",
       "    </tr>\n",
       "    <tr>\n",
       "      <th>2019</th>\n",
       "      <td>1.339259e+07</td>\n",
       "    </tr>\n",
       "  </tbody>\n",
       "</table>\n",
       "</div>"
      ],
      "text/plain": [
       "                             last_price\n",
       "first_day_exposition_year              \n",
       "2014                       2.223947e+07\n",
       "2015                       1.609422e+07\n",
       "2016                       1.402196e+07\n",
       "2017                       1.287909e+07\n",
       "2018                       1.163871e+07\n",
       "2019                       1.339259e+07"
      ]
     },
     "metadata": {},
     "output_type": "display_data"
    }
   ],
   "source": [
    "# таблица зависимости от года\n",
    "df_year_spb = df_centr_spb_analis.pivot_table(index='first_day_exposition_year', values='last_price',aggfunc='mean')\n",
    "display(df_year_spb)"
   ]
  },
  {
   "cell_type": "code",
   "execution_count": 87,
   "metadata": {
    "scrolled": true
   },
   "outputs": [
    {
     "data": {
      "text/plain": [
       "<AxesSubplot:title={'center':'Распределение цены от года размещения'}, xlabel='first_day_exposition_year'>"
      ]
     },
     "execution_count": 87,
     "metadata": {},
     "output_type": "execute_result"
    },
    {
     "data": {
      "image/png": "[encoded data removed]",
      "text/plain": [
       "<Figure size 1080x432 with 1 Axes>"
      ]
     },
     "metadata": {
      "needs_background": "light"
     },
     "output_type": "display_data"
    }
   ],
   "source": [
    "df_year_spb[ 'last_price'].plot(kind='bar', \n",
    "                                      figsize=(15, 6), \n",
    "                                      title='Распределение цены от года размещения', \n",
    "                                      grid=True)"
   ]
  },
  {
   "cell_type": "markdown",
   "metadata": {},
   "source": [
    "## Общий вывод \n",
    "\n",
    "Проведен анализ архива объявлений о продаже квартир в Санкт-Петербурге и соседних населённых пунктах за 2014-2019гг,анализировались следующие    параметры цена квадратного метра и общая стоимость квартиры,время публикации объявления,\n",
    "этаж квартиры, общая площадь,жилая площадь, локация квартир.\n",
    "Отдельный анализ  проведен в сегменте квартир в центре  Санкт- Петербурга по аналогичным параметрам.\n",
    "\n",
    "Выводы:\n",
    "\n",
    "1.В среднем продажа квартиры занимает около 5 мес.,наибольшее  число квартир продается в диапазоне 200 дней ( 6.5 мес)\n",
    "\n",
    "2.прослеживается зависимость стоимости квартиры  от общей площади\n",
    "\n",
    "3.самая низкая стоимость квадратных метров на первом этаже(92561.0 в среднем).Затем последние этажи .Самая высокая стоимость кв.м. у квартир категории \"другой\"\n",
    "\n",
    "4.стоимость квадратного метра  в радиусе до 10 км от центра максимальная(в общей выборке)\n",
    "\n",
    "\n",
    " Также в исследовании выявлена зависимость цены квартиры  от времени размещения объявления:\n",
    " \n",
    "\n",
    "1.самые низкие цены  выставлят в понедельник и пятницу ( начало и конец недели)\n",
    "\n",
    "2.самый высокий уровень цен по средам ( середина рабочей  недели)\n",
    "\n",
    "3.в распределении цен по месяцам: лидирует январь ( начало года).\n",
    "Самый низкий уровень цен в июне ( совпадает с началом периода отпусков )\n",
    "Спад октября постепенно возвращается к средним значениям на конец года\n",
    "\n",
    "4.анализ цены по годам: \n",
    "Самый высокий уровень цен в 2014, когда был резкий скачек цены на рынке недвижимости .Затем в 2015 показатель снизился и с 2016 года наблюдается примерно одинаовое значение цены во всем периоде наблюдений до 2019г.\n",
    "На все эти показатели, вообщем , повлиял человеческий фактор(дни, месяцы) и общая ситуация рынка недвижимости(годы) \n",
    "\n",
    "\n",
    "   Анализ факторов влияющих на стоимость квартир  в центре  Санкт-Петербурга выявил, что самые дорогие квартиры в центральной зоне (от 0 до 8 км )\n",
    "   \n",
    "  Если анализировать общую стоимость квартиры  то  параметры будут несколько отличатся от общей выборки:\n",
    " - есть сегмент очень дорогих квартир на последних этажах в центре( пентхаусы?)) \n",
    " \n",
    "  - в анализе зависимости от кол-ва комнат  наблюдается резкий всплеск показателя, что может быть обусловлено особенностями        самого помещения, отличающегося от типовой застройки.\n",
    "   \n",
    " - по дате размещения объявления выводы аналогичны выводам по общей базе\n",
    " \n",
    "  \n",
    "   \n",
    "   Проведенный анализ и выявленные параметры позволят построить автоматизированную систему: она отследит аномалии и мошенническую деятельность.\n",
    "  \n",
    "\n",
    "\n",
    "\n",
    "\n",
    "\n",
    "\n"
   ]
  }
 ],
 "metadata": {
  "ExecuteTimeLog": [
   {
    "duration": 604,
    "start_time": "2022-05-04T13:48:42.633Z"
   },
   {
    "duration": 149,
    "start_time": "2022-05-04T13:53:50.383Z"
   },
   {
    "duration": 4,
    "start_time": "2022-05-04T13:55:22.091Z"
   },
   {
    "duration": 13,
    "start_time": "2022-05-04T13:56:58.825Z"
   },
   {
    "duration": 66,
    "start_time": "2022-05-04T14:07:17.009Z"
   },
   {
    "duration": 8,
    "start_time": "2022-05-04T14:25:41.841Z"
   },
   {
    "duration": 8,
    "start_time": "2022-05-04T14:26:09.723Z"
   },
   {
    "duration": 8,
    "start_time": "2022-05-04T14:26:23.825Z"
   },
   {
    "duration": 579,
    "start_time": "2022-05-04T14:26:36.024Z"
   },
   {
    "duration": 5,
    "start_time": "2022-05-04T14:26:36.605Z"
   },
   {
    "duration": 14,
    "start_time": "2022-05-04T14:26:36.611Z"
   },
   {
    "duration": 86,
    "start_time": "2022-05-04T14:26:36.628Z"
   },
   {
    "duration": 9,
    "start_time": "2022-05-04T14:26:44.842Z"
   },
   {
    "duration": 7,
    "start_time": "2022-05-04T14:27:35.209Z"
   },
   {
    "duration": 11,
    "start_time": "2022-05-04T14:27:39.263Z"
   },
   {
    "duration": 4,
    "start_time": "2022-05-04T14:28:12.799Z"
   },
   {
    "duration": 8,
    "start_time": "2022-05-04T14:29:17.112Z"
   },
   {
    "duration": 186,
    "start_time": "2022-05-04T14:31:47.852Z"
   },
   {
    "duration": 6,
    "start_time": "2022-05-04T14:32:18.878Z"
   },
   {
    "duration": 205,
    "start_time": "2022-05-04T14:33:01.826Z"
   },
   {
    "duration": 4,
    "start_time": "2022-05-04T14:40:11.418Z"
   },
   {
    "duration": 5,
    "start_time": "2022-05-04T14:41:00.597Z"
   },
   {
    "duration": 3,
    "start_time": "2022-05-04T14:41:04.802Z"
   },
   {
    "duration": 10,
    "start_time": "2022-05-04T14:41:58.581Z"
   },
   {
    "duration": 8,
    "start_time": "2022-05-04T14:42:13.842Z"
   },
   {
    "duration": 6,
    "start_time": "2022-05-04T14:56:00.916Z"
   },
   {
    "duration": 10,
    "start_time": "2022-05-04T14:56:19.499Z"
   },
   {
    "duration": 10,
    "start_time": "2022-05-04T14:56:36.585Z"
   },
   {
    "duration": 6,
    "start_time": "2022-05-04T14:58:04.654Z"
   },
   {
    "duration": 29,
    "start_time": "2022-05-04T15:00:07.895Z"
   },
   {
    "duration": 13,
    "start_time": "2022-05-04T15:01:16.079Z"
   },
   {
    "duration": 10,
    "start_time": "2022-05-04T15:03:12.944Z"
   },
   {
    "duration": 10,
    "start_time": "2022-05-04T15:03:49.366Z"
   },
   {
    "duration": 20,
    "start_time": "2022-05-04T15:04:06.919Z"
   },
   {
    "duration": 8,
    "start_time": "2022-05-04T15:06:23.338Z"
   },
   {
    "duration": 8,
    "start_time": "2022-05-04T15:06:33.012Z"
   },
   {
    "duration": 10,
    "start_time": "2022-05-04T15:07:59.103Z"
   },
   {
    "duration": 8,
    "start_time": "2022-05-04T15:09:03.539Z"
   },
   {
    "duration": 18,
    "start_time": "2022-05-04T15:09:27.525Z"
   },
   {
    "duration": 9,
    "start_time": "2022-05-04T15:14:11.130Z"
   },
   {
    "duration": 5,
    "start_time": "2022-05-04T15:14:31.538Z"
   },
   {
    "duration": 4,
    "start_time": "2022-05-04T15:14:36.077Z"
   },
   {
    "duration": 19,
    "start_time": "2022-05-04T15:14:44.964Z"
   },
   {
    "duration": 18,
    "start_time": "2022-05-04T15:19:45.047Z"
   },
   {
    "duration": 8,
    "start_time": "2022-05-04T15:21:31.107Z"
   },
   {
    "duration": 16,
    "start_time": "2022-05-04T15:21:48.708Z"
   },
   {
    "duration": 5,
    "start_time": "2022-05-04T15:25:12.808Z"
   },
   {
    "duration": 17,
    "start_time": "2022-05-04T15:31:48.530Z"
   },
   {
    "duration": 4,
    "start_time": "2022-05-04T15:36:57.121Z"
   },
   {
    "duration": 9,
    "start_time": "2022-05-04T15:37:48.686Z"
   },
   {
    "duration": 10,
    "start_time": "2022-05-04T15:39:03.381Z"
   },
   {
    "duration": 10,
    "start_time": "2022-05-04T15:49:12.070Z"
   },
   {
    "duration": 192,
    "start_time": "2022-05-04T15:50:23.071Z"
   },
   {
    "duration": 8,
    "start_time": "2022-05-04T15:50:40.038Z"
   },
   {
    "duration": 3,
    "start_time": "2022-05-04T15:53:01.674Z"
   },
   {
    "duration": 7,
    "start_time": "2022-05-04T15:54:26.784Z"
   },
   {
    "duration": 8,
    "start_time": "2022-05-04T15:54:55.754Z"
   },
   {
    "duration": 3394,
    "start_time": "2022-05-04T15:55:15.847Z"
   },
   {
    "duration": 3216,
    "start_time": "2022-05-04T15:55:20.741Z"
   },
   {
    "duration": 4133,
    "start_time": "2022-05-04T15:55:25.426Z"
   },
   {
    "duration": 3140,
    "start_time": "2022-05-04T15:55:35.571Z"
   },
   {
    "duration": 3186,
    "start_time": "2022-05-04T15:55:39.983Z"
   },
   {
    "duration": 3192,
    "start_time": "2022-05-04T15:56:13.878Z"
   },
   {
    "duration": 3473,
    "start_time": "2022-05-04T15:56:17.763Z"
   },
   {
    "duration": 536,
    "start_time": "2022-05-04T15:56:42.350Z"
   },
   {
    "duration": 15,
    "start_time": "2022-05-04T15:56:42.888Z"
   },
   {
    "duration": 3150,
    "start_time": "2022-05-04T15:56:42.905Z"
   },
   {
    "duration": 3100,
    "start_time": "2022-05-04T15:56:50.424Z"
   },
   {
    "duration": 3521,
    "start_time": "2022-05-04T15:57:30.160Z"
   },
   {
    "duration": 0,
    "start_time": "2022-05-04T15:58:06.988Z"
   },
   {
    "duration": 11,
    "start_time": "2022-05-04T15:58:59.408Z"
   },
   {
    "duration": 0,
    "start_time": "2022-05-04T15:59:09.140Z"
   },
   {
    "duration": 3409,
    "start_time": "2022-05-04T15:59:22.175Z"
   },
   {
    "duration": 3314,
    "start_time": "2022-05-04T15:59:26.914Z"
   },
   {
    "duration": 3174,
    "start_time": "2022-05-04T16:18:06.106Z"
   },
   {
    "duration": 3115,
    "start_time": "2022-05-04T16:18:09.649Z"
   },
   {
    "duration": 10,
    "start_time": "2022-05-04T16:18:33.824Z"
   },
   {
    "duration": 4527,
    "start_time": "2022-05-04T16:19:59.557Z"
   },
   {
    "duration": 3710,
    "start_time": "2022-05-04T16:20:32.963Z"
   },
   {
    "duration": 534,
    "start_time": "2022-05-04T16:20:45.863Z"
   },
   {
    "duration": 12,
    "start_time": "2022-05-04T16:20:46.400Z"
   },
   {
    "duration": 3880,
    "start_time": "2022-05-04T16:20:46.413Z"
   },
   {
    "duration": 3292,
    "start_time": "2022-05-04T16:20:53.778Z"
   },
   {
    "duration": 3196,
    "start_time": "2022-05-04T16:21:47.063Z"
   },
   {
    "duration": 3343,
    "start_time": "2022-05-04T16:22:02.628Z"
   },
   {
    "duration": 3299,
    "start_time": "2022-05-04T16:22:06.526Z"
   },
   {
    "duration": 3341,
    "start_time": "2022-05-04T16:22:17.929Z"
   },
   {
    "duration": 13,
    "start_time": "2022-05-04T16:23:41.398Z"
   },
   {
    "duration": 191,
    "start_time": "2022-05-04T16:33:47.906Z"
   },
   {
    "duration": 9,
    "start_time": "2022-05-04T16:35:51.089Z"
   },
   {
    "duration": 4792,
    "start_time": "2022-05-04T16:36:33.250Z"
   },
   {
    "duration": 3548,
    "start_time": "2022-05-04T16:37:13.642Z"
   },
   {
    "duration": 4295,
    "start_time": "2022-05-04T16:37:17.349Z"
   },
   {
    "duration": 4005,
    "start_time": "2022-05-04T16:37:25.181Z"
   },
   {
    "duration": 3427,
    "start_time": "2022-05-04T16:37:30.049Z"
   },
   {
    "duration": 82,
    "start_time": "2022-05-04T16:43:19.753Z"
   },
   {
    "duration": 40,
    "start_time": "2022-05-04T16:44:09.182Z"
   },
   {
    "duration": 10,
    "start_time": "2022-05-04T16:44:13.198Z"
   },
   {
    "duration": 43,
    "start_time": "2022-05-04T16:47:07.811Z"
   },
   {
    "duration": 213,
    "start_time": "2022-05-04T16:47:45.105Z"
   },
   {
    "duration": 284,
    "start_time": "2022-05-04T16:49:19.433Z"
   },
   {
    "duration": 9,
    "start_time": "2022-05-04T16:50:44.220Z"
   },
   {
    "duration": 63,
    "start_time": "2022-05-04T16:50:55.477Z"
   },
   {
    "duration": 11,
    "start_time": "2022-05-04T16:51:56.997Z"
   },
   {
    "duration": 69,
    "start_time": "2022-05-04T16:52:21.931Z"
   },
   {
    "duration": 51,
    "start_time": "2022-05-04T16:53:06.079Z"
   },
   {
    "duration": 92,
    "start_time": "2022-05-04T16:53:09.537Z"
   },
   {
    "duration": 57,
    "start_time": "2022-05-04T16:53:34.784Z"
   },
   {
    "duration": 9,
    "start_time": "2022-05-04T16:53:57.924Z"
   },
   {
    "duration": 10,
    "start_time": "2022-05-04T16:54:31.243Z"
   },
   {
    "duration": 10,
    "start_time": "2022-05-04T16:54:49.519Z"
   },
   {
    "duration": 51,
    "start_time": "2022-05-04T16:57:25.062Z"
   },
   {
    "duration": 56,
    "start_time": "2022-05-04T16:57:31.897Z"
   },
   {
    "duration": 81,
    "start_time": "2022-05-04T16:57:35.626Z"
   },
   {
    "duration": 72,
    "start_time": "2022-05-04T16:58:02.760Z"
   },
   {
    "duration": 8,
    "start_time": "2022-05-04T16:58:39.667Z"
   },
   {
    "duration": 66,
    "start_time": "2022-05-04T16:59:12.847Z"
   },
   {
    "duration": 8,
    "start_time": "2022-05-04T17:00:10.140Z"
   },
   {
    "duration": 9,
    "start_time": "2022-05-04T17:02:41.906Z"
   },
   {
    "duration": 57,
    "start_time": "2022-05-04T17:02:58.285Z"
   },
   {
    "duration": 10,
    "start_time": "2022-05-04T17:09:00.705Z"
   },
   {
    "duration": 98,
    "start_time": "2022-05-04T17:16:56.379Z"
   },
   {
    "duration": 7,
    "start_time": "2022-05-04T17:20:11.687Z"
   },
   {
    "duration": 837,
    "start_time": "2022-05-04T17:20:55.406Z"
   },
   {
    "duration": 71,
    "start_time": "2022-05-04T17:24:14.771Z"
   },
   {
    "duration": 648,
    "start_time": "2022-05-04T17:24:37.465Z"
   },
   {
    "duration": 21,
    "start_time": "2022-05-04T17:24:38.115Z"
   },
   {
    "duration": 3184,
    "start_time": "2022-05-04T17:24:38.138Z"
   },
   {
    "duration": 3257,
    "start_time": "2022-05-04T17:24:47.964Z"
   },
   {
    "duration": 3202,
    "start_time": "2022-05-04T17:25:35.126Z"
   },
   {
    "duration": 3491,
    "start_time": "2022-05-04T17:33:03.843Z"
   },
   {
    "duration": 3262,
    "start_time": "2022-05-04T17:33:34.736Z"
   },
   {
    "duration": 14,
    "start_time": "2022-05-04T18:09:30.883Z"
   },
   {
    "duration": 329,
    "start_time": "2022-05-04T18:11:27.082Z"
   },
   {
    "duration": 10,
    "start_time": "2022-05-04T18:11:48.710Z"
   },
   {
    "duration": 5449,
    "start_time": "2022-05-04T18:14:45.237Z"
   },
   {
    "duration": 3365,
    "start_time": "2022-05-04T18:14:51.363Z"
   },
   {
    "duration": 3446,
    "start_time": "2022-05-04T18:14:55.261Z"
   },
   {
    "duration": 3571,
    "start_time": "2022-05-04T18:15:08.363Z"
   },
   {
    "duration": 5309,
    "start_time": "2022-05-04T18:15:13.051Z"
   },
   {
    "duration": 3778,
    "start_time": "2022-05-04T18:17:27.053Z"
   },
   {
    "duration": 0,
    "start_time": "2022-05-04T18:17:37.900Z"
   },
   {
    "duration": 4059,
    "start_time": "2022-05-04T18:17:41.766Z"
   },
   {
    "duration": 3253,
    "start_time": "2022-05-04T18:18:16.267Z"
   },
   {
    "duration": 3530,
    "start_time": "2022-05-04T18:18:21.905Z"
   },
   {
    "duration": 3302,
    "start_time": "2022-05-04T18:18:52.756Z"
   },
   {
    "duration": 3419,
    "start_time": "2022-05-04T18:19:36.107Z"
   },
   {
    "duration": 7,
    "start_time": "2022-05-04T18:22:23.410Z"
   },
   {
    "duration": 8,
    "start_time": "2022-05-04T18:22:35.607Z"
   },
   {
    "duration": 262,
    "start_time": "2022-05-04T18:23:04.984Z"
   },
   {
    "duration": 3512,
    "start_time": "2022-05-04T18:23:19.535Z"
   },
   {
    "duration": 3763,
    "start_time": "2022-05-04T18:23:23.399Z"
   },
   {
    "duration": 3806,
    "start_time": "2022-05-04T18:23:28.021Z"
   },
   {
    "duration": 8,
    "start_time": "2022-05-04T18:25:04.680Z"
   },
   {
    "duration": 9,
    "start_time": "2022-05-04T18:25:24.419Z"
   },
   {
    "duration": 3273,
    "start_time": "2022-05-04T18:25:39.967Z"
   },
   {
    "duration": 670,
    "start_time": "2022-05-04T18:26:14.906Z"
   },
   {
    "duration": 14,
    "start_time": "2022-05-04T18:26:15.579Z"
   },
   {
    "duration": 3405,
    "start_time": "2022-05-04T18:26:15.595Z"
   },
   {
    "duration": 5370,
    "start_time": "2022-05-04T18:26:23.260Z"
   },
   {
    "duration": 4332,
    "start_time": "2022-05-04T18:26:40.745Z"
   },
   {
    "duration": 234,
    "start_time": "2022-05-04T18:27:00.896Z"
   },
   {
    "duration": 304,
    "start_time": "2022-05-04T18:27:57.977Z"
   },
   {
    "duration": 24,
    "start_time": "2022-05-04T18:29:01.167Z"
   },
   {
    "duration": 15,
    "start_time": "2022-05-04T18:29:08.598Z"
   },
   {
    "duration": 223,
    "start_time": "2022-05-04T18:31:54.292Z"
   },
   {
    "duration": 9,
    "start_time": "2022-05-04T18:33:12.776Z"
   },
   {
    "duration": 256,
    "start_time": "2022-05-04T18:33:30.846Z"
   },
   {
    "duration": 252,
    "start_time": "2022-05-04T18:33:37.027Z"
   },
   {
    "duration": 314,
    "start_time": "2022-05-04T18:33:50.922Z"
   },
   {
    "duration": 284,
    "start_time": "2022-05-04T18:34:25.328Z"
   },
   {
    "duration": 209,
    "start_time": "2022-05-04T18:39:25.323Z"
   },
   {
    "duration": 3474,
    "start_time": "2022-05-04T18:39:42.860Z"
   },
   {
    "duration": 0,
    "start_time": "2022-05-04T18:40:25.888Z"
   },
   {
    "duration": 0,
    "start_time": "2022-05-04T18:40:52.777Z"
   },
   {
    "duration": 3558,
    "start_time": "2022-05-04T18:41:39.047Z"
   },
   {
    "duration": 366,
    "start_time": "2022-05-04T18:43:12.244Z"
   },
   {
    "duration": 12,
    "start_time": "2022-05-04T18:45:11.564Z"
   },
   {
    "duration": 12,
    "start_time": "2022-05-04T18:45:11.738Z"
   },
   {
    "duration": 13,
    "start_time": "2022-05-04T18:45:40.853Z"
   },
   {
    "duration": 10,
    "start_time": "2022-05-04T18:45:54.313Z"
   },
   {
    "duration": 10,
    "start_time": "2022-05-04T18:46:11.385Z"
   },
   {
    "duration": 11,
    "start_time": "2022-05-04T18:46:30.193Z"
   },
   {
    "duration": 9,
    "start_time": "2022-05-04T18:46:49.376Z"
   },
   {
    "duration": 10,
    "start_time": "2022-05-04T18:47:19.642Z"
   },
   {
    "duration": 653,
    "start_time": "2022-05-04T18:47:34.298Z"
   },
   {
    "duration": 18,
    "start_time": "2022-05-04T18:47:34.954Z"
   },
   {
    "duration": 279,
    "start_time": "2022-05-04T18:47:34.974Z"
   },
   {
    "duration": 66,
    "start_time": "2022-05-04T18:57:43.905Z"
   },
   {
    "duration": 3,
    "start_time": "2022-05-04T18:58:36.517Z"
   },
   {
    "duration": 4,
    "start_time": "2022-05-04T18:58:42.427Z"
   },
   {
    "duration": 52,
    "start_time": "2022-05-04T18:59:56.826Z"
   },
   {
    "duration": 12,
    "start_time": "2022-05-04T19:06:24.659Z"
   },
   {
    "duration": 509,
    "start_time": "2022-05-05T14:44:24.657Z"
   },
   {
    "duration": 11,
    "start_time": "2022-05-05T14:44:25.168Z"
   },
   {
    "duration": 242,
    "start_time": "2022-05-05T14:44:25.181Z"
   },
   {
    "duration": 48,
    "start_time": "2022-05-05T14:44:25.425Z"
   },
   {
    "duration": 4,
    "start_time": "2022-05-05T14:49:22.346Z"
   },
   {
    "duration": 5,
    "start_time": "2022-05-05T14:50:30.161Z"
   },
   {
    "duration": 36,
    "start_time": "2022-05-05T14:55:31.472Z"
   },
   {
    "duration": 42,
    "start_time": "2022-05-05T14:57:07.187Z"
   },
   {
    "duration": 67,
    "start_time": "2022-05-05T14:58:31.657Z"
   },
   {
    "duration": 11,
    "start_time": "2022-05-05T15:05:09.918Z"
   },
   {
    "duration": 36,
    "start_time": "2022-05-05T15:05:31.667Z"
   },
   {
    "duration": 39,
    "start_time": "2022-05-05T15:06:57.288Z"
   },
   {
    "duration": 18,
    "start_time": "2022-05-05T15:16:28.304Z"
   },
   {
    "duration": 137,
    "start_time": "2022-05-05T15:23:16.029Z"
   },
   {
    "duration": 124,
    "start_time": "2022-05-05T15:23:38.238Z"
   },
   {
    "duration": 2189,
    "start_time": "2022-05-05T15:23:50.900Z"
   },
   {
    "duration": 2079,
    "start_time": "2022-05-05T15:24:37.157Z"
   },
   {
    "duration": 12,
    "start_time": "2022-05-05T15:25:02.226Z"
   },
   {
    "duration": 420,
    "start_time": "2022-05-05T15:27:09.757Z"
   },
   {
    "duration": 10,
    "start_time": "2022-05-05T15:27:10.179Z"
   },
   {
    "duration": 227,
    "start_time": "2022-05-05T15:27:10.190Z"
   },
   {
    "duration": 44,
    "start_time": "2022-05-05T15:27:10.423Z"
   },
   {
    "duration": 61,
    "start_time": "2022-05-05T15:27:10.469Z"
   },
   {
    "duration": 37,
    "start_time": "2022-05-05T15:27:10.532Z"
   },
   {
    "duration": 2109,
    "start_time": "2022-05-05T15:32:39.132Z"
   },
   {
    "duration": 2028,
    "start_time": "2022-05-05T15:33:43.204Z"
   },
   {
    "duration": 2221,
    "start_time": "2022-05-05T15:34:05.301Z"
   },
   {
    "duration": 220,
    "start_time": "2022-05-05T15:35:39.251Z"
   },
   {
    "duration": 227,
    "start_time": "2022-05-05T15:46:39.038Z"
   },
   {
    "duration": 249,
    "start_time": "2022-05-05T15:48:30.420Z"
   },
   {
    "duration": 13,
    "start_time": "2022-05-05T15:49:31.440Z"
   },
   {
    "duration": 433,
    "start_time": "2022-05-05T16:04:46.951Z"
   },
   {
    "duration": 10,
    "start_time": "2022-05-05T16:04:47.386Z"
   },
   {
    "duration": 317,
    "start_time": "2022-05-05T16:04:47.398Z"
   },
   {
    "duration": 40,
    "start_time": "2022-05-05T16:04:47.723Z"
   },
   {
    "duration": 64,
    "start_time": "2022-05-05T16:04:47.765Z"
   },
   {
    "duration": 40,
    "start_time": "2022-05-05T16:04:57.865Z"
   },
   {
    "duration": 8,
    "start_time": "2022-05-05T17:26:28.248Z"
   },
   {
    "duration": 38,
    "start_time": "2022-05-05T17:27:04.086Z"
   },
   {
    "duration": 99,
    "start_time": "2022-05-05T18:29:17.772Z"
   },
   {
    "duration": 19,
    "start_time": "2022-05-05T18:30:58.973Z"
   },
   {
    "duration": 9,
    "start_time": "2022-05-05T18:35:31.643Z"
   },
   {
    "duration": 7,
    "start_time": "2022-05-05T18:40:20.703Z"
   },
   {
    "duration": 8,
    "start_time": "2022-05-05T18:45:32.852Z"
   },
   {
    "duration": 10,
    "start_time": "2022-05-05T18:46:08.118Z"
   },
   {
    "duration": 38,
    "start_time": "2022-05-05T19:09:21.003Z"
   },
   {
    "duration": 684,
    "start_time": "2022-05-07T03:48:21.965Z"
   },
   {
    "duration": 19,
    "start_time": "2022-05-07T03:48:22.652Z"
   },
   {
    "duration": 25,
    "start_time": "2022-05-07T03:48:22.673Z"
   },
   {
    "duration": 120,
    "start_time": "2022-05-07T03:48:22.701Z"
   },
   {
    "duration": 0,
    "start_time": "2022-05-07T03:48:22.823Z"
   },
   {
    "duration": 18,
    "start_time": "2022-05-07T03:48:39.250Z"
   },
   {
    "duration": 17,
    "start_time": "2022-05-07T03:49:47.345Z"
   },
   {
    "duration": 62,
    "start_time": "2022-05-07T03:50:06.695Z"
   },
   {
    "duration": 17,
    "start_time": "2022-05-07T03:50:45.278Z"
   },
   {
    "duration": 13,
    "start_time": "2022-05-07T03:51:37.445Z"
   },
   {
    "duration": 9,
    "start_time": "2022-05-07T03:52:05.605Z"
   },
   {
    "duration": 9,
    "start_time": "2022-05-07T03:52:39.493Z"
   },
   {
    "duration": 10,
    "start_time": "2022-05-07T04:06:22.194Z"
   },
   {
    "duration": 10,
    "start_time": "2022-05-07T04:18:56.922Z"
   },
   {
    "duration": 10,
    "start_time": "2022-05-07T04:19:11.444Z"
   },
   {
    "duration": 10,
    "start_time": "2022-05-07T04:20:01.187Z"
   },
   {
    "duration": 681,
    "start_time": "2022-05-07T04:20:14.987Z"
   },
   {
    "duration": 25,
    "start_time": "2022-05-07T04:20:15.671Z"
   },
   {
    "duration": 12,
    "start_time": "2022-05-07T04:20:15.698Z"
   },
   {
    "duration": 10,
    "start_time": "2022-05-07T04:20:15.713Z"
   },
   {
    "duration": 10,
    "start_time": "2022-05-07T04:20:15.726Z"
   },
   {
    "duration": 116,
    "start_time": "2022-05-07T04:20:15.739Z"
   },
   {
    "duration": 11,
    "start_time": "2022-05-07T04:20:15.858Z"
   },
   {
    "duration": 9,
    "start_time": "2022-05-07T04:20:28.184Z"
   },
   {
    "duration": 9,
    "start_time": "2022-05-07T04:21:12.734Z"
   },
   {
    "duration": 8,
    "start_time": "2022-05-07T04:27:20.973Z"
   },
   {
    "duration": 699,
    "start_time": "2022-05-07T04:30:03.362Z"
   },
   {
    "duration": 29,
    "start_time": "2022-05-07T04:30:04.064Z"
   },
   {
    "duration": 11,
    "start_time": "2022-05-07T04:30:04.095Z"
   },
   {
    "duration": 8,
    "start_time": "2022-05-07T04:30:04.108Z"
   },
   {
    "duration": 9,
    "start_time": "2022-05-07T04:30:04.119Z"
   },
   {
    "duration": 106,
    "start_time": "2022-05-07T04:30:04.130Z"
   },
   {
    "duration": 8,
    "start_time": "2022-05-07T04:30:04.238Z"
   },
   {
    "duration": 9,
    "start_time": "2022-05-07T04:30:09.691Z"
   },
   {
    "duration": 12,
    "start_time": "2022-05-07T04:30:55.611Z"
   },
   {
    "duration": 3230,
    "start_time": "2022-05-07T04:32:52.970Z"
   },
   {
    "duration": 9,
    "start_time": "2022-05-07T04:33:23.685Z"
   },
   {
    "duration": 10,
    "start_time": "2022-05-07T04:34:31.007Z"
   },
   {
    "duration": 9,
    "start_time": "2022-05-07T04:34:36.460Z"
   },
   {
    "duration": 644,
    "start_time": "2022-05-10T15:39:36.667Z"
   },
   {
    "duration": 20,
    "start_time": "2022-05-10T15:39:37.313Z"
   },
   {
    "duration": 27,
    "start_time": "2022-05-10T15:39:37.335Z"
   },
   {
    "duration": 8,
    "start_time": "2022-05-10T15:39:37.365Z"
   },
   {
    "duration": 14,
    "start_time": "2022-05-10T15:39:37.375Z"
   },
   {
    "duration": 93,
    "start_time": "2022-05-10T15:39:37.391Z"
   },
   {
    "duration": 9,
    "start_time": "2022-05-10T15:39:37.487Z"
   },
   {
    "duration": 12,
    "start_time": "2022-05-10T15:39:37.498Z"
   },
   {
    "duration": 19,
    "start_time": "2022-05-10T15:40:51.839Z"
   },
   {
    "duration": 21,
    "start_time": "2022-05-10T15:41:00.013Z"
   },
   {
    "duration": 22,
    "start_time": "2022-05-10T15:41:57.772Z"
   },
   {
    "duration": 25,
    "start_time": "2022-05-10T15:45:01.844Z"
   },
   {
    "duration": 9,
    "start_time": "2022-05-10T15:58:26.383Z"
   },
   {
    "duration": 12,
    "start_time": "2022-05-10T15:59:15.659Z"
   },
   {
    "duration": 9,
    "start_time": "2022-05-10T16:00:14.758Z"
   },
   {
    "duration": 12,
    "start_time": "2022-05-10T16:00:36.759Z"
   },
   {
    "duration": 7,
    "start_time": "2022-05-10T16:01:19.575Z"
   },
   {
    "duration": 9,
    "start_time": "2022-05-10T16:01:39.786Z"
   },
   {
    "duration": 10,
    "start_time": "2022-05-10T16:03:08.148Z"
   },
   {
    "duration": 19,
    "start_time": "2022-05-10T16:04:19.400Z"
   },
   {
    "duration": 10,
    "start_time": "2022-05-10T16:05:44.172Z"
   },
   {
    "duration": 14,
    "start_time": "2022-05-10T16:06:45.241Z"
   },
   {
    "duration": 13,
    "start_time": "2022-05-10T16:27:14.420Z"
   },
   {
    "duration": 9,
    "start_time": "2022-05-10T16:27:40.956Z"
   },
   {
    "duration": 9,
    "start_time": "2022-05-10T16:27:50.967Z"
   },
   {
    "duration": 11,
    "start_time": "2022-05-10T16:28:40.260Z"
   },
   {
    "duration": 11,
    "start_time": "2022-05-10T16:29:19.469Z"
   },
   {
    "duration": 9,
    "start_time": "2022-05-10T16:29:37.230Z"
   },
   {
    "duration": 12,
    "start_time": "2022-05-10T16:30:05.279Z"
   },
   {
    "duration": 10,
    "start_time": "2022-05-10T16:40:01.561Z"
   },
   {
    "duration": 9,
    "start_time": "2022-05-10T16:41:07.117Z"
   },
   {
    "duration": 11,
    "start_time": "2022-05-10T16:41:21.003Z"
   },
   {
    "duration": 85,
    "start_time": "2022-05-10T17:00:22.003Z"
   },
   {
    "duration": 109,
    "start_time": "2022-05-10T17:03:44.065Z"
   },
   {
    "duration": 6,
    "start_time": "2022-05-10T17:07:39.214Z"
   },
   {
    "duration": 5,
    "start_time": "2022-05-10T17:07:44.386Z"
   },
   {
    "duration": 107,
    "start_time": "2022-05-10T17:08:17.760Z"
   },
   {
    "duration": 72,
    "start_time": "2022-05-10T17:08:32.546Z"
   },
   {
    "duration": 8,
    "start_time": "2022-05-10T17:09:47.141Z"
   },
   {
    "duration": 1177,
    "start_time": "2022-05-10T17:28:29.801Z"
   },
   {
    "duration": 112,
    "start_time": "2022-05-10T17:31:24.487Z"
   },
   {
    "duration": 15,
    "start_time": "2022-05-10T17:31:38.702Z"
   },
   {
    "duration": 14,
    "start_time": "2022-05-10T17:32:57.986Z"
   },
   {
    "duration": 14,
    "start_time": "2022-05-10T18:01:38.648Z"
   },
   {
    "duration": 10,
    "start_time": "2022-05-10T18:09:41.734Z"
   },
   {
    "duration": 12,
    "start_time": "2022-05-10T18:11:40.635Z"
   },
   {
    "duration": 8,
    "start_time": "2022-05-10T18:12:46.470Z"
   },
   {
    "duration": 12,
    "start_time": "2022-05-10T18:16:12.020Z"
   },
   {
    "duration": 17,
    "start_time": "2022-05-10T18:16:12.146Z"
   },
   {
    "duration": 8,
    "start_time": "2022-05-10T18:16:41.459Z"
   },
   {
    "duration": 13,
    "start_time": "2022-05-10T18:21:41.622Z"
   },
   {
    "duration": 17,
    "start_time": "2022-05-10T18:21:57.051Z"
   },
   {
    "duration": 53253,
    "start_time": "2022-05-10T18:23:17.079Z"
   },
   {
    "duration": 6,
    "start_time": "2022-05-10T18:24:31.727Z"
   },
   {
    "duration": 6,
    "start_time": "2022-05-10T18:28:14.394Z"
   },
   {
    "duration": 9,
    "start_time": "2022-05-10T18:28:28.296Z"
   },
   {
    "duration": 13,
    "start_time": "2022-05-10T18:29:28.817Z"
   },
   {
    "duration": 114,
    "start_time": "2022-05-10T18:30:17.509Z"
   },
   {
    "duration": 17,
    "start_time": "2022-05-10T18:30:28.443Z"
   },
   {
    "duration": 97,
    "start_time": "2022-05-10T18:34:47.992Z"
   },
   {
    "duration": 1758,
    "start_time": "2022-05-10T18:35:09.200Z"
   },
   {
    "duration": 91,
    "start_time": "2022-05-10T18:37:54.708Z"
   },
   {
    "duration": 124,
    "start_time": "2022-05-10T18:38:47.128Z"
   },
   {
    "duration": 117,
    "start_time": "2022-05-10T18:40:40.932Z"
   },
   {
    "duration": 116,
    "start_time": "2022-05-10T18:42:05.616Z"
   },
   {
    "duration": 130,
    "start_time": "2022-05-11T14:12:32.302Z"
   },
   {
    "duration": 636,
    "start_time": "2022-05-11T14:12:44.969Z"
   },
   {
    "duration": 16,
    "start_time": "2022-05-11T14:12:45.607Z"
   },
   {
    "duration": 10,
    "start_time": "2022-05-11T14:12:45.624Z"
   },
   {
    "duration": 7,
    "start_time": "2022-05-11T14:12:45.655Z"
   },
   {
    "duration": 8,
    "start_time": "2022-05-11T14:12:45.663Z"
   },
   {
    "duration": 50,
    "start_time": "2022-05-11T14:12:45.672Z"
   },
   {
    "duration": 33,
    "start_time": "2022-05-11T14:12:45.724Z"
   },
   {
    "duration": 15,
    "start_time": "2022-05-11T14:12:45.758Z"
   },
   {
    "duration": 20,
    "start_time": "2022-05-11T14:12:45.775Z"
   },
   {
    "duration": 6,
    "start_time": "2022-05-11T14:12:45.798Z"
   },
   {
    "duration": 10,
    "start_time": "2022-05-11T14:12:45.805Z"
   },
   {
    "duration": 161,
    "start_time": "2022-05-11T14:12:45.816Z"
   },
   {
    "duration": 0,
    "start_time": "2022-05-11T14:12:45.979Z"
   },
   {
    "duration": 0,
    "start_time": "2022-05-11T14:12:45.980Z"
   },
   {
    "duration": 8,
    "start_time": "2022-05-11T14:14:14.097Z"
   },
   {
    "duration": 81,
    "start_time": "2022-05-11T14:14:22.008Z"
   },
   {
    "duration": 10,
    "start_time": "2022-05-11T14:35:13.228Z"
   },
   {
    "duration": 132,
    "start_time": "2022-05-11T14:42:14.033Z"
   },
   {
    "duration": 135,
    "start_time": "2022-05-11T14:42:46.769Z"
   },
   {
    "duration": 20,
    "start_time": "2022-05-11T14:43:34.047Z"
   },
   {
    "duration": 23,
    "start_time": "2022-05-11T14:49:26.812Z"
   },
   {
    "duration": 36,
    "start_time": "2022-05-11T15:16:03.929Z"
   },
   {
    "duration": 81,
    "start_time": "2022-05-11T15:18:36.514Z"
   },
   {
    "duration": 23,
    "start_time": "2022-05-11T15:20:35.773Z"
   },
   {
    "duration": 25,
    "start_time": "2022-05-11T15:32:25.689Z"
   },
   {
    "duration": 61,
    "start_time": "2022-05-11T15:33:11.174Z"
   },
   {
    "duration": 67,
    "start_time": "2022-05-11T15:38:38.880Z"
   },
   {
    "duration": 66,
    "start_time": "2022-05-11T15:39:40.924Z"
   },
   {
    "duration": 789,
    "start_time": "2022-05-11T15:40:22.861Z"
   },
   {
    "duration": 16,
    "start_time": "2022-05-11T15:40:23.653Z"
   },
   {
    "duration": 50,
    "start_time": "2022-05-11T15:40:23.671Z"
   },
   {
    "duration": 23,
    "start_time": "2022-05-11T15:40:23.724Z"
   },
   {
    "duration": 24,
    "start_time": "2022-05-11T15:40:23.749Z"
   },
   {
    "duration": 65,
    "start_time": "2022-05-11T15:40:23.776Z"
   },
   {
    "duration": 7,
    "start_time": "2022-05-11T15:40:23.843Z"
   },
   {
    "duration": 13,
    "start_time": "2022-05-11T15:40:23.852Z"
   },
   {
    "duration": 38,
    "start_time": "2022-05-11T15:40:23.867Z"
   },
   {
    "duration": 12,
    "start_time": "2022-05-11T15:40:23.907Z"
   },
   {
    "duration": 27,
    "start_time": "2022-05-11T15:40:23.921Z"
   },
   {
    "duration": 133,
    "start_time": "2022-05-11T15:40:23.950Z"
   },
   {
    "duration": 0,
    "start_time": "2022-05-11T15:40:24.086Z"
   },
   {
    "duration": 0,
    "start_time": "2022-05-11T15:40:24.088Z"
   },
   {
    "duration": 7,
    "start_time": "2022-05-11T15:40:48.975Z"
   },
   {
    "duration": 68,
    "start_time": "2022-05-11T15:40:55.102Z"
   },
   {
    "duration": 727,
    "start_time": "2022-05-11T16:30:41.379Z"
   },
   {
    "duration": 15,
    "start_time": "2022-05-11T16:36:30.077Z"
   },
   {
    "duration": 164,
    "start_time": "2022-05-11T16:39:03.679Z"
   },
   {
    "duration": 678,
    "start_time": "2022-05-11T16:39:47.083Z"
   },
   {
    "duration": 683,
    "start_time": "2022-05-11T16:41:15.572Z"
   },
   {
    "duration": 13,
    "start_time": "2022-05-11T16:42:49.068Z"
   },
   {
    "duration": 14,
    "start_time": "2022-05-11T16:55:38.467Z"
   },
   {
    "duration": 62,
    "start_time": "2022-05-11T16:56:42.529Z"
   },
   {
    "duration": 14,
    "start_time": "2022-05-11T16:57:13.046Z"
   },
   {
    "duration": 13,
    "start_time": "2022-05-11T16:57:59.370Z"
   },
   {
    "duration": 16,
    "start_time": "2022-05-11T17:00:52.878Z"
   },
   {
    "duration": 35,
    "start_time": "2022-05-11T17:02:38.912Z"
   },
   {
    "duration": 157,
    "start_time": "2022-05-11T17:06:25.412Z"
   },
   {
    "duration": 43,
    "start_time": "2022-05-11T17:06:46.532Z"
   },
   {
    "duration": 617,
    "start_time": "2022-05-11T17:12:05.818Z"
   },
   {
    "duration": 14,
    "start_time": "2022-05-11T17:12:18.589Z"
   },
   {
    "duration": 631,
    "start_time": "2022-05-11T17:15:06.096Z"
   },
   {
    "duration": 679,
    "start_time": "2022-05-11T17:15:43.111Z"
   },
   {
    "duration": 14,
    "start_time": "2022-05-11T17:17:15.810Z"
   },
   {
    "duration": 574,
    "start_time": "2022-05-11T17:19:54.468Z"
   },
   {
    "duration": 583,
    "start_time": "2022-05-11T17:24:05.168Z"
   },
   {
    "duration": 616,
    "start_time": "2022-05-11T17:24:51.002Z"
   },
   {
    "duration": 602,
    "start_time": "2022-05-11T17:26:05.418Z"
   },
   {
    "duration": 48,
    "start_time": "2022-05-11T17:26:42.296Z"
   },
   {
    "duration": 143,
    "start_time": "2022-05-11T17:27:03.517Z"
   },
   {
    "duration": 36,
    "start_time": "2022-05-11T17:27:15.924Z"
   },
   {
    "duration": 34,
    "start_time": "2022-05-11T17:28:27.271Z"
   },
   {
    "duration": 47,
    "start_time": "2022-05-11T17:29:14.918Z"
   },
   {
    "duration": 17,
    "start_time": "2022-05-11T17:29:30.074Z"
   },
   {
    "duration": 591,
    "start_time": "2022-05-11T17:30:31.925Z"
   },
   {
    "duration": 23,
    "start_time": "2022-05-11T17:31:05.781Z"
   },
   {
    "duration": 554,
    "start_time": "2022-05-11T17:34:44.337Z"
   },
   {
    "duration": 20,
    "start_time": "2022-05-11T17:35:36.365Z"
   },
   {
    "duration": 574,
    "start_time": "2022-05-11T17:36:22.628Z"
   },
   {
    "duration": 589,
    "start_time": "2022-05-11T17:44:24.252Z"
   },
   {
    "duration": 48,
    "start_time": "2022-05-12T14:52:25.799Z"
   },
   {
    "duration": 614,
    "start_time": "2022-05-12T14:52:40.474Z"
   },
   {
    "duration": 18,
    "start_time": "2022-05-12T14:52:41.091Z"
   },
   {
    "duration": 10,
    "start_time": "2022-05-12T14:52:41.111Z"
   },
   {
    "duration": 6,
    "start_time": "2022-05-12T14:52:41.124Z"
   },
   {
    "duration": 36,
    "start_time": "2022-05-12T14:52:41.132Z"
   },
   {
    "duration": 53,
    "start_time": "2022-05-12T14:52:41.169Z"
   },
   {
    "duration": 6,
    "start_time": "2022-05-12T14:52:41.224Z"
   },
   {
    "duration": 37,
    "start_time": "2022-05-12T14:52:41.232Z"
   },
   {
    "duration": 9,
    "start_time": "2022-05-12T14:52:41.271Z"
   },
   {
    "duration": 13,
    "start_time": "2022-05-12T14:52:41.283Z"
   },
   {
    "duration": 20,
    "start_time": "2022-05-12T14:52:41.297Z"
   },
   {
    "duration": 8,
    "start_time": "2022-05-12T14:52:41.319Z"
   },
   {
    "duration": 118,
    "start_time": "2022-05-12T14:52:41.328Z"
   },
   {
    "duration": 688,
    "start_time": "2022-05-12T14:52:41.448Z"
   },
   {
    "duration": 18,
    "start_time": "2022-05-12T15:02:07.392Z"
   },
   {
    "duration": 9,
    "start_time": "2022-05-12T15:02:14.151Z"
   },
   {
    "duration": 17,
    "start_time": "2022-05-12T15:02:50.927Z"
   },
   {
    "duration": 38,
    "start_time": "2022-05-12T15:10:25.289Z"
   },
   {
    "duration": 597,
    "start_time": "2022-05-12T15:12:54.989Z"
   },
   {
    "duration": 233,
    "start_time": "2022-05-12T15:17:57.457Z"
   },
   {
    "duration": 232,
    "start_time": "2022-05-12T15:18:04.076Z"
   },
   {
    "duration": 227,
    "start_time": "2022-05-12T15:19:25.429Z"
   },
   {
    "duration": 327,
    "start_time": "2022-05-12T15:19:59.247Z"
   },
   {
    "duration": 603,
    "start_time": "2022-05-12T15:21:36.188Z"
   },
   {
    "duration": 618,
    "start_time": "2022-05-12T15:21:47.013Z"
   },
   {
    "duration": 222,
    "start_time": "2022-05-12T15:23:41.994Z"
   },
   {
    "duration": 238,
    "start_time": "2022-05-12T15:23:56.857Z"
   },
   {
    "duration": 228,
    "start_time": "2022-05-12T15:24:01.950Z"
   },
   {
    "duration": 326,
    "start_time": "2022-05-12T15:24:47.855Z"
   },
   {
    "duration": 323,
    "start_time": "2022-05-12T15:25:45.504Z"
   },
   {
    "duration": 224,
    "start_time": "2022-05-12T15:27:23.608Z"
   },
   {
    "duration": 289,
    "start_time": "2022-05-12T15:28:19.934Z"
   },
   {
    "duration": 24,
    "start_time": "2022-05-12T16:17:35.659Z"
   },
   {
    "duration": 177,
    "start_time": "2022-05-12T16:19:49.855Z"
   },
   {
    "duration": 9,
    "start_time": "2022-05-12T16:20:01.255Z"
   },
   {
    "duration": 12,
    "start_time": "2022-05-12T16:21:09.177Z"
   },
   {
    "duration": 153,
    "start_time": "2022-05-12T16:22:15.692Z"
   },
   {
    "duration": 186,
    "start_time": "2022-05-12T16:22:35.836Z"
   },
   {
    "duration": 7,
    "start_time": "2022-05-12T16:22:55.625Z"
   },
   {
    "duration": 7,
    "start_time": "2022-05-12T16:23:26.698Z"
   },
   {
    "duration": 5,
    "start_time": "2022-05-12T16:26:10.625Z"
   },
   {
    "duration": 8,
    "start_time": "2022-05-12T16:27:23.678Z"
   },
   {
    "duration": 10,
    "start_time": "2022-05-12T16:29:43.490Z"
   },
   {
    "duration": 2857,
    "start_time": "2022-05-12T16:30:08.092Z"
   },
   {
    "duration": 8,
    "start_time": "2022-05-12T16:30:31.789Z"
   },
   {
    "duration": 38,
    "start_time": "2022-05-12T16:34:02.129Z"
   },
   {
    "duration": 35,
    "start_time": "2022-05-12T16:36:43.706Z"
   },
   {
    "duration": 164,
    "start_time": "2022-05-12T16:49:01.343Z"
   },
   {
    "duration": 47,
    "start_time": "2022-05-12T16:49:12.855Z"
   },
   {
    "duration": 8,
    "start_time": "2022-05-12T16:52:32.687Z"
   },
   {
    "duration": 36,
    "start_time": "2022-05-12T16:57:34.465Z"
   },
   {
    "duration": 6,
    "start_time": "2022-05-12T17:10:27.452Z"
   },
   {
    "duration": 6,
    "start_time": "2022-05-12T17:14:19.365Z"
   },
   {
    "duration": 6,
    "start_time": "2022-05-12T17:14:44.957Z"
   },
   {
    "duration": 6,
    "start_time": "2022-05-12T17:14:50.060Z"
   },
   {
    "duration": 729,
    "start_time": "2022-05-12T17:25:46.157Z"
   },
   {
    "duration": 140,
    "start_time": "2022-05-12T17:26:16.029Z"
   },
   {
    "duration": 171,
    "start_time": "2022-05-12T17:27:38.131Z"
   },
   {
    "duration": 191,
    "start_time": "2022-05-12T17:28:35.152Z"
   },
   {
    "duration": 150,
    "start_time": "2022-05-12T17:29:26.588Z"
   },
   {
    "duration": 170,
    "start_time": "2022-05-12T17:30:29.306Z"
   },
   {
    "duration": 187,
    "start_time": "2022-05-12T17:33:29.401Z"
   },
   {
    "duration": 137,
    "start_time": "2022-05-12T17:33:47.098Z"
   },
   {
    "duration": 262,
    "start_time": "2022-05-12T17:34:00.250Z"
   },
   {
    "duration": 199,
    "start_time": "2022-05-12T17:34:20.706Z"
   },
   {
    "duration": 8,
    "start_time": "2022-05-13T14:40:00.455Z"
   },
   {
    "duration": 73,
    "start_time": "2022-05-13T14:40:09.112Z"
   },
   {
    "duration": 12,
    "start_time": "2022-05-13T14:40:51.390Z"
   },
   {
    "duration": 525,
    "start_time": "2022-05-13T14:41:11.603Z"
   },
   {
    "duration": 13,
    "start_time": "2022-05-13T14:41:12.130Z"
   },
   {
    "duration": 7,
    "start_time": "2022-05-13T14:41:12.145Z"
   },
   {
    "duration": 6,
    "start_time": "2022-05-13T14:41:12.154Z"
   },
   {
    "duration": 8,
    "start_time": "2022-05-13T14:41:12.161Z"
   },
   {
    "duration": 47,
    "start_time": "2022-05-13T14:41:12.200Z"
   },
   {
    "duration": 6,
    "start_time": "2022-05-13T14:41:12.249Z"
   },
   {
    "duration": 44,
    "start_time": "2022-05-13T14:41:12.257Z"
   },
   {
    "duration": 7,
    "start_time": "2022-05-13T14:41:12.303Z"
   },
   {
    "duration": 9,
    "start_time": "2022-05-13T14:41:12.313Z"
   },
   {
    "duration": 6,
    "start_time": "2022-05-13T14:41:12.323Z"
   },
   {
    "duration": 22,
    "start_time": "2022-05-13T14:41:12.330Z"
   },
   {
    "duration": 66,
    "start_time": "2022-05-13T14:41:12.354Z"
   },
   {
    "duration": 6,
    "start_time": "2022-05-13T14:41:12.422Z"
   },
   {
    "duration": 87,
    "start_time": "2022-05-13T14:41:12.429Z"
   },
   {
    "duration": 0,
    "start_time": "2022-05-13T14:41:12.518Z"
   },
   {
    "duration": 0,
    "start_time": "2022-05-13T14:41:12.519Z"
   },
   {
    "duration": 0,
    "start_time": "2022-05-13T14:41:12.520Z"
   },
   {
    "duration": 0,
    "start_time": "2022-05-13T14:41:12.521Z"
   },
   {
    "duration": 0,
    "start_time": "2022-05-13T14:41:12.522Z"
   },
   {
    "duration": 0,
    "start_time": "2022-05-13T14:41:12.523Z"
   },
   {
    "duration": 0,
    "start_time": "2022-05-13T14:41:12.524Z"
   },
   {
    "duration": 0,
    "start_time": "2022-05-13T14:41:12.526Z"
   },
   {
    "duration": 0,
    "start_time": "2022-05-13T14:41:12.527Z"
   },
   {
    "duration": 6,
    "start_time": "2022-05-13T14:41:44.051Z"
   },
   {
    "duration": 5,
    "start_time": "2022-05-13T14:42:07.939Z"
   },
   {
    "duration": 5,
    "start_time": "2022-05-13T14:42:25.656Z"
   },
   {
    "duration": 19,
    "start_time": "2022-05-13T14:56:34.943Z"
   },
   {
    "duration": 528,
    "start_time": "2022-05-13T14:57:30.595Z"
   },
   {
    "duration": 13,
    "start_time": "2022-05-13T14:57:31.125Z"
   },
   {
    "duration": 12,
    "start_time": "2022-05-13T14:57:31.139Z"
   },
   {
    "duration": 7,
    "start_time": "2022-05-13T14:57:31.153Z"
   },
   {
    "duration": 14,
    "start_time": "2022-05-13T14:57:31.161Z"
   },
   {
    "duration": 62,
    "start_time": "2022-05-13T14:57:31.176Z"
   },
   {
    "duration": 6,
    "start_time": "2022-05-13T14:57:31.239Z"
   },
   {
    "duration": 47,
    "start_time": "2022-05-13T14:57:31.246Z"
   },
   {
    "duration": 16,
    "start_time": "2022-05-13T14:57:31.295Z"
   },
   {
    "duration": 11,
    "start_time": "2022-05-13T14:57:31.315Z"
   },
   {
    "duration": 9,
    "start_time": "2022-05-13T14:57:31.328Z"
   },
   {
    "duration": 29,
    "start_time": "2022-05-13T14:57:31.339Z"
   },
   {
    "duration": 38,
    "start_time": "2022-05-13T14:57:31.370Z"
   },
   {
    "duration": 7,
    "start_time": "2022-05-13T14:57:31.410Z"
   },
   {
    "duration": 23,
    "start_time": "2022-05-13T14:57:31.419Z"
   },
   {
    "duration": 6,
    "start_time": "2022-05-13T14:57:31.443Z"
   },
   {
    "duration": 70,
    "start_time": "2022-05-13T14:57:31.450Z"
   },
   {
    "duration": 257,
    "start_time": "2022-05-13T14:57:31.521Z"
   },
   {
    "duration": 42,
    "start_time": "2022-05-13T14:57:31.780Z"
   },
   {
    "duration": 34,
    "start_time": "2022-05-13T14:57:31.824Z"
   },
   {
    "duration": 415,
    "start_time": "2022-05-13T14:57:31.860Z"
   },
   {
    "duration": 137,
    "start_time": "2022-05-13T14:57:32.277Z"
   },
   {
    "duration": 157,
    "start_time": "2022-05-13T14:57:32.416Z"
   },
   {
    "duration": 171,
    "start_time": "2022-05-13T14:57:32.574Z"
   },
   {
    "duration": 91,
    "start_time": "2022-05-13T14:57:32.747Z"
   },
   {
    "duration": 14,
    "start_time": "2022-05-13T14:57:41.817Z"
   },
   {
    "duration": 12,
    "start_time": "2022-05-13T14:58:27.543Z"
   },
   {
    "duration": 3153,
    "start_time": "2022-05-13T15:00:43.004Z"
   },
   {
    "duration": 3539,
    "start_time": "2022-05-13T15:01:06.953Z"
   },
   {
    "duration": 7,
    "start_time": "2022-05-13T15:02:53.703Z"
   },
   {
    "duration": 209,
    "start_time": "2022-05-13T15:04:57.767Z"
   },
   {
    "duration": 5,
    "start_time": "2022-05-13T15:08:39.769Z"
   },
   {
    "duration": 5,
    "start_time": "2022-05-13T15:14:28.194Z"
   },
   {
    "duration": 6,
    "start_time": "2022-05-13T15:15:04.707Z"
   },
   {
    "duration": 4,
    "start_time": "2022-05-13T15:15:59.912Z"
   },
   {
    "duration": 6,
    "start_time": "2022-05-13T15:16:03.532Z"
   },
   {
    "duration": 8,
    "start_time": "2022-05-13T15:25:26.772Z"
   },
   {
    "duration": 7,
    "start_time": "2022-05-13T15:28:27.420Z"
   },
   {
    "duration": 6,
    "start_time": "2022-05-13T15:29:27.382Z"
   },
   {
    "duration": 36,
    "start_time": "2022-05-13T15:39:22.777Z"
   },
   {
    "duration": 27,
    "start_time": "2022-05-13T15:46:04.744Z"
   },
   {
    "duration": 299,
    "start_time": "2022-05-13T15:50:20.730Z"
   },
   {
    "duration": 30,
    "start_time": "2022-05-13T15:50:57.881Z"
   },
   {
    "duration": 4,
    "start_time": "2022-05-13T15:52:31.276Z"
   },
   {
    "duration": 135,
    "start_time": "2022-05-13T15:54:59.638Z"
   },
   {
    "duration": 6,
    "start_time": "2022-05-13T15:57:58.295Z"
   },
   {
    "duration": 7,
    "start_time": "2022-05-13T16:04:11.253Z"
   },
   {
    "duration": 7,
    "start_time": "2022-05-13T16:04:49.571Z"
   },
   {
    "duration": 6,
    "start_time": "2022-05-13T16:05:27.130Z"
   },
   {
    "duration": 7,
    "start_time": "2022-05-13T16:07:04.738Z"
   },
   {
    "duration": 10,
    "start_time": "2022-05-13T16:08:57.985Z"
   },
   {
    "duration": 9,
    "start_time": "2022-05-13T16:09:09.658Z"
   },
   {
    "duration": 10,
    "start_time": "2022-05-13T16:11:26.292Z"
   },
   {
    "duration": 198,
    "start_time": "2022-05-13T16:12:21.903Z"
   },
   {
    "duration": 7,
    "start_time": "2022-05-13T16:12:37.704Z"
   },
   {
    "duration": 7,
    "start_time": "2022-05-13T16:13:21.906Z"
   },
   {
    "duration": 8,
    "start_time": "2022-05-13T16:13:45.345Z"
   },
   {
    "duration": 35,
    "start_time": "2022-05-13T16:14:36.010Z"
   },
   {
    "duration": 26,
    "start_time": "2022-05-13T16:14:44.847Z"
   },
   {
    "duration": 138,
    "start_time": "2022-05-13T16:14:56.939Z"
   },
   {
    "duration": 17,
    "start_time": "2022-05-13T16:19:38.252Z"
   },
   {
    "duration": 46,
    "start_time": "2022-05-13T16:20:16.273Z"
   },
   {
    "duration": 11,
    "start_time": "2022-05-13T16:21:08.088Z"
   },
   {
    "duration": 18,
    "start_time": "2022-05-13T16:21:25.366Z"
   },
   {
    "duration": 148,
    "start_time": "2022-05-13T16:22:56.339Z"
   },
   {
    "duration": 27,
    "start_time": "2022-05-13T16:26:03.840Z"
   },
   {
    "duration": 130,
    "start_time": "2022-05-13T16:28:10.328Z"
   },
   {
    "duration": 622,
    "start_time": "2022-05-13T16:36:16.236Z"
   },
   {
    "duration": 21,
    "start_time": "2022-05-13T16:36:16.861Z"
   },
   {
    "duration": 13,
    "start_time": "2022-05-13T16:36:16.902Z"
   },
   {
    "duration": 14,
    "start_time": "2022-05-13T16:36:16.917Z"
   },
   {
    "duration": 8,
    "start_time": "2022-05-13T16:36:16.934Z"
   },
   {
    "duration": 100,
    "start_time": "2022-05-13T16:36:16.944Z"
   },
   {
    "duration": 9,
    "start_time": "2022-05-13T16:36:17.046Z"
   },
   {
    "duration": 45,
    "start_time": "2022-05-13T16:36:17.057Z"
   },
   {
    "duration": 9,
    "start_time": "2022-05-13T16:36:17.106Z"
   },
   {
    "duration": 10,
    "start_time": "2022-05-13T16:36:17.117Z"
   },
   {
    "duration": 7,
    "start_time": "2022-05-13T16:36:17.129Z"
   },
   {
    "duration": 23,
    "start_time": "2022-05-13T16:36:17.138Z"
   },
   {
    "duration": 76,
    "start_time": "2022-05-13T16:36:17.163Z"
   },
   {
    "duration": 6,
    "start_time": "2022-05-13T16:36:17.241Z"
   },
   {
    "duration": 9,
    "start_time": "2022-05-13T16:36:17.249Z"
   },
   {
    "duration": 45,
    "start_time": "2022-05-13T16:36:17.259Z"
   },
   {
    "duration": 7,
    "start_time": "2022-05-13T16:36:17.306Z"
   },
   {
    "duration": 114,
    "start_time": "2022-05-13T16:36:17.315Z"
   },
   {
    "duration": 452,
    "start_time": "2022-05-13T16:36:17.431Z"
   },
   {
    "duration": 61,
    "start_time": "2022-05-13T16:36:17.885Z"
   },
   {
    "duration": 65,
    "start_time": "2022-05-13T16:36:17.948Z"
   },
   {
    "duration": 610,
    "start_time": "2022-05-13T16:36:18.015Z"
   },
   {
    "duration": 138,
    "start_time": "2022-05-13T16:36:18.627Z"
   },
   {
    "duration": 161,
    "start_time": "2022-05-13T16:36:18.766Z"
   },
   {
    "duration": 152,
    "start_time": "2022-05-13T16:36:18.929Z"
   },
   {
    "duration": 18,
    "start_time": "2022-05-13T16:36:19.083Z"
   },
   {
    "duration": 322,
    "start_time": "2022-05-13T16:36:19.106Z"
   },
   {
    "duration": 5,
    "start_time": "2022-05-13T16:36:19.430Z"
   },
   {
    "duration": 7,
    "start_time": "2022-05-13T16:36:19.438Z"
   },
   {
    "duration": 6,
    "start_time": "2022-05-13T16:36:19.447Z"
   },
   {
    "duration": 121,
    "start_time": "2022-05-13T16:36:19.455Z"
   },
   {
    "duration": 0,
    "start_time": "2022-05-13T16:36:19.577Z"
   },
   {
    "duration": 0,
    "start_time": "2022-05-13T16:36:19.579Z"
   },
   {
    "duration": 0,
    "start_time": "2022-05-13T16:36:19.579Z"
   },
   {
    "duration": 0,
    "start_time": "2022-05-13T16:36:19.581Z"
   },
   {
    "duration": 21,
    "start_time": "2022-05-13T16:36:30.314Z"
   },
   {
    "duration": 9,
    "start_time": "2022-05-13T16:36:39.978Z"
   },
   {
    "duration": 24,
    "start_time": "2022-05-13T16:37:00.057Z"
   },
   {
    "duration": 21,
    "start_time": "2022-05-13T16:38:18.303Z"
   },
   {
    "duration": 32,
    "start_time": "2022-05-13T16:38:30.449Z"
   },
   {
    "duration": 4,
    "start_time": "2022-05-13T16:38:37.823Z"
   },
   {
    "duration": 139,
    "start_time": "2022-05-13T16:38:42.616Z"
   },
   {
    "duration": 25,
    "start_time": "2022-05-13T16:40:21.882Z"
   },
   {
    "duration": 54,
    "start_time": "2022-05-13T16:41:06.120Z"
   },
   {
    "duration": 12,
    "start_time": "2022-05-13T16:41:31.680Z"
   },
   {
    "duration": 743,
    "start_time": "2022-05-13T16:45:23.337Z"
   },
   {
    "duration": 28,
    "start_time": "2022-05-13T16:45:24.083Z"
   },
   {
    "duration": 14,
    "start_time": "2022-05-13T16:45:24.113Z"
   },
   {
    "duration": 8,
    "start_time": "2022-05-13T16:45:24.130Z"
   },
   {
    "duration": 9,
    "start_time": "2022-05-13T16:45:24.140Z"
   },
   {
    "duration": 84,
    "start_time": "2022-05-13T16:45:24.150Z"
   },
   {
    "duration": 6,
    "start_time": "2022-05-13T16:45:24.236Z"
   },
   {
    "duration": 57,
    "start_time": "2022-05-13T16:45:24.244Z"
   },
   {
    "duration": 10,
    "start_time": "2022-05-13T16:45:24.303Z"
   },
   {
    "duration": 7,
    "start_time": "2022-05-13T16:45:24.316Z"
   },
   {
    "duration": 11,
    "start_time": "2022-05-13T16:45:24.325Z"
   },
   {
    "duration": 21,
    "start_time": "2022-05-13T16:45:24.338Z"
   },
   {
    "duration": 102,
    "start_time": "2022-05-13T16:45:24.361Z"
   },
   {
    "duration": 8,
    "start_time": "2022-05-13T16:45:24.465Z"
   },
   {
    "duration": 31,
    "start_time": "2022-05-13T16:45:24.475Z"
   },
   {
    "duration": 8,
    "start_time": "2022-05-13T16:45:24.508Z"
   },
   {
    "duration": 13,
    "start_time": "2022-05-13T16:45:24.518Z"
   },
   {
    "duration": 104,
    "start_time": "2022-05-13T16:45:24.533Z"
   },
   {
    "duration": 405,
    "start_time": "2022-05-13T16:45:24.640Z"
   },
   {
    "duration": 39,
    "start_time": "2022-05-13T16:45:25.047Z"
   },
   {
    "duration": 58,
    "start_time": "2022-05-13T16:45:25.101Z"
   },
   {
    "duration": 502,
    "start_time": "2022-05-13T16:45:25.161Z"
   },
   {
    "duration": 146,
    "start_time": "2022-05-13T16:45:25.665Z"
   },
   {
    "duration": 181,
    "start_time": "2022-05-13T16:45:25.813Z"
   },
   {
    "duration": 160,
    "start_time": "2022-05-13T16:45:26.000Z"
   },
   {
    "duration": 7,
    "start_time": "2022-05-13T16:45:26.162Z"
   },
   {
    "duration": 357,
    "start_time": "2022-05-13T16:45:26.170Z"
   },
   {
    "duration": 5,
    "start_time": "2022-05-13T16:45:26.532Z"
   },
   {
    "duration": 7,
    "start_time": "2022-05-13T16:45:26.539Z"
   },
   {
    "duration": 9,
    "start_time": "2022-05-13T16:45:26.548Z"
   },
   {
    "duration": 86,
    "start_time": "2022-05-13T16:45:26.559Z"
   },
   {
    "duration": 4971,
    "start_time": "2022-05-13T16:45:26.647Z"
   },
   {
    "duration": 0,
    "start_time": "2022-05-13T16:45:31.620Z"
   },
   {
    "duration": 0,
    "start_time": "2022-05-13T16:45:31.621Z"
   },
   {
    "duration": 0,
    "start_time": "2022-05-13T16:45:31.622Z"
   },
   {
    "duration": 4757,
    "start_time": "2022-05-13T16:45:35.773Z"
   },
   {
    "duration": 31,
    "start_time": "2022-05-13T16:45:46.554Z"
   },
   {
    "duration": 24,
    "start_time": "2022-05-13T16:46:01.321Z"
   },
   {
    "duration": 4841,
    "start_time": "2022-05-13T16:46:34.934Z"
   },
   {
    "duration": 27,
    "start_time": "2022-05-13T16:47:17.487Z"
   },
   {
    "duration": 708,
    "start_time": "2022-05-13T16:50:38.230Z"
   },
   {
    "duration": 21,
    "start_time": "2022-05-13T16:50:38.941Z"
   },
   {
    "duration": 14,
    "start_time": "2022-05-13T16:50:38.964Z"
   },
   {
    "duration": 23,
    "start_time": "2022-05-13T16:50:38.981Z"
   },
   {
    "duration": 9,
    "start_time": "2022-05-13T16:50:39.005Z"
   },
   {
    "duration": 45,
    "start_time": "2022-05-13T16:50:39.015Z"
   },
   {
    "duration": 41,
    "start_time": "2022-05-13T16:50:39.061Z"
   },
   {
    "duration": 20,
    "start_time": "2022-05-13T16:50:39.104Z"
   },
   {
    "duration": 6,
    "start_time": "2022-05-13T16:50:39.126Z"
   },
   {
    "duration": 7,
    "start_time": "2022-05-13T16:50:39.134Z"
   },
   {
    "duration": 5,
    "start_time": "2022-05-13T16:50:39.142Z"
   },
   {
    "duration": 55,
    "start_time": "2022-05-13T16:50:39.148Z"
   },
   {
    "duration": 69,
    "start_time": "2022-05-13T16:50:39.205Z"
   },
   {
    "duration": 7,
    "start_time": "2022-05-13T16:50:39.276Z"
   },
   {
    "duration": 9,
    "start_time": "2022-05-13T16:50:39.301Z"
   },
   {
    "duration": 8,
    "start_time": "2022-05-13T16:50:39.312Z"
   },
   {
    "duration": 8,
    "start_time": "2022-05-13T16:50:39.322Z"
   },
   {
    "duration": 84,
    "start_time": "2022-05-13T16:50:39.331Z"
   },
   {
    "duration": 250,
    "start_time": "2022-05-13T16:50:39.417Z"
   },
   {
    "duration": 44,
    "start_time": "2022-05-13T16:50:39.669Z"
   },
   {
    "duration": 31,
    "start_time": "2022-05-13T16:50:39.715Z"
   },
   {
    "duration": 455,
    "start_time": "2022-05-13T16:50:39.747Z"
   },
   {
    "duration": 137,
    "start_time": "2022-05-13T16:50:40.204Z"
   },
   {
    "duration": 159,
    "start_time": "2022-05-13T16:50:40.343Z"
   },
   {
    "duration": 202,
    "start_time": "2022-05-13T16:50:40.504Z"
   },
   {
    "duration": 7,
    "start_time": "2022-05-13T16:50:40.708Z"
   },
   {
    "duration": 159,
    "start_time": "2022-05-13T16:50:40.717Z"
   },
   {
    "duration": 4,
    "start_time": "2022-05-13T16:50:40.881Z"
   },
   {
    "duration": 17,
    "start_time": "2022-05-13T16:50:40.887Z"
   },
   {
    "duration": 7,
    "start_time": "2022-05-13T16:50:40.906Z"
   },
   {
    "duration": 30,
    "start_time": "2022-05-13T16:50:40.914Z"
   },
   {
    "duration": 508,
    "start_time": "2022-05-13T16:54:07.520Z"
   },
   {
    "duration": 14,
    "start_time": "2022-05-13T16:54:08.030Z"
   },
   {
    "duration": 10,
    "start_time": "2022-05-13T16:54:08.046Z"
   },
   {
    "duration": 33,
    "start_time": "2022-05-13T16:54:08.058Z"
   },
   {
    "duration": 8,
    "start_time": "2022-05-13T16:54:08.093Z"
   },
   {
    "duration": 55,
    "start_time": "2022-05-13T16:54:08.102Z"
   },
   {
    "duration": 7,
    "start_time": "2022-05-13T16:54:08.158Z"
   },
   {
    "duration": 43,
    "start_time": "2022-05-13T16:54:08.167Z"
   },
   {
    "duration": 15,
    "start_time": "2022-05-13T16:54:08.211Z"
   },
   {
    "duration": 18,
    "start_time": "2022-05-13T16:54:08.229Z"
   },
   {
    "duration": 19,
    "start_time": "2022-05-13T16:54:08.248Z"
   },
   {
    "duration": 44,
    "start_time": "2022-05-13T16:54:08.269Z"
   },
   {
    "duration": 67,
    "start_time": "2022-05-13T16:54:08.316Z"
   },
   {
    "duration": 8,
    "start_time": "2022-05-13T16:54:08.400Z"
   },
   {
    "duration": 7,
    "start_time": "2022-05-13T16:54:08.410Z"
   },
   {
    "duration": 8,
    "start_time": "2022-05-13T16:54:08.419Z"
   },
   {
    "duration": 7,
    "start_time": "2022-05-13T16:54:08.428Z"
   },
   {
    "duration": 93,
    "start_time": "2022-05-13T16:54:08.436Z"
   },
   {
    "duration": 264,
    "start_time": "2022-05-13T16:54:08.530Z"
   },
   {
    "duration": 36,
    "start_time": "2022-05-13T16:54:08.796Z"
   },
   {
    "duration": 36,
    "start_time": "2022-05-13T16:54:08.834Z"
   },
   {
    "duration": 454,
    "start_time": "2022-05-13T16:54:08.872Z"
   },
   {
    "duration": 151,
    "start_time": "2022-05-13T16:54:09.327Z"
   },
   {
    "duration": 163,
    "start_time": "2022-05-13T16:54:09.480Z"
   },
   {
    "duration": 162,
    "start_time": "2022-05-13T16:54:09.644Z"
   },
   {
    "duration": 6,
    "start_time": "2022-05-13T16:54:09.807Z"
   },
   {
    "duration": 210,
    "start_time": "2022-05-13T16:54:09.814Z"
   },
   {
    "duration": 5,
    "start_time": "2022-05-13T16:54:10.027Z"
   },
   {
    "duration": 14,
    "start_time": "2022-05-13T16:54:10.033Z"
   },
   {
    "duration": 8,
    "start_time": "2022-05-13T16:54:10.049Z"
   },
   {
    "duration": 60,
    "start_time": "2022-05-13T16:54:10.059Z"
   },
   {
    "duration": 171760,
    "start_time": "2022-05-13T16:56:56.217Z"
   },
   {
    "duration": 38,
    "start_time": "2022-05-13T16:59:47.979Z"
   },
   {
    "duration": 3,
    "start_time": "2022-05-13T16:59:48.019Z"
   },
   {
    "duration": 176,
    "start_time": "2022-05-13T16:59:48.024Z"
   },
   {
    "duration": 27,
    "start_time": "2022-05-13T16:59:48.202Z"
   },
   {
    "duration": 27,
    "start_time": "2022-05-13T17:01:15.270Z"
   },
   {
    "duration": 14,
    "start_time": "2022-05-13T17:07:02.351Z"
   },
   {
    "duration": 6,
    "start_time": "2022-05-13T17:53:43.011Z"
   },
   {
    "duration": 310,
    "start_time": "2022-05-13T17:55:51.483Z"
   },
   {
    "duration": 5,
    "start_time": "2022-05-13T17:58:23.431Z"
   },
   {
    "duration": 7,
    "start_time": "2022-05-13T17:58:59.342Z"
   },
   {
    "duration": 9,
    "start_time": "2022-05-13T18:00:34.698Z"
   },
   {
    "duration": 368,
    "start_time": "2022-05-13T18:10:26.979Z"
   },
   {
    "duration": 261,
    "start_time": "2022-05-13T18:10:40.118Z"
   },
   {
    "duration": 32,
    "start_time": "2022-05-13T18:21:59.323Z"
   },
   {
    "duration": 17,
    "start_time": "2022-05-13T18:23:12.517Z"
   },
   {
    "duration": 208,
    "start_time": "2022-05-13T18:24:47.084Z"
   },
   {
    "duration": 24,
    "start_time": "2022-05-13T18:25:07.288Z"
   },
   {
    "duration": 14,
    "start_time": "2022-05-13T18:28:41.623Z"
   },
   {
    "duration": 17,
    "start_time": "2022-05-13T18:30:22.951Z"
   },
   {
    "duration": 42,
    "start_time": "2022-05-13T18:30:55.683Z"
   },
   {
    "duration": 114758,
    "start_time": "2022-05-13T18:37:04.506Z"
   },
   {
    "duration": 249,
    "start_time": "2022-05-13T18:38:59.768Z"
   },
   {
    "duration": 23,
    "start_time": "2022-05-13T18:39:00.019Z"
   },
   {
    "duration": 14,
    "start_time": "2022-05-13T18:39:00.723Z"
   },
   {
    "duration": 336,
    "start_time": "2022-05-13T18:39:12.652Z"
   },
   {
    "duration": 30,
    "start_time": "2022-05-13T18:40:55.160Z"
   },
   {
    "duration": 3987,
    "start_time": "2022-05-13T18:41:58.965Z"
   },
   {
    "duration": 3576,
    "start_time": "2022-05-13T18:42:21.521Z"
   },
   {
    "duration": 5,
    "start_time": "2022-05-13T18:43:01.253Z"
   },
   {
    "duration": 208,
    "start_time": "2022-05-13T18:43:35.383Z"
   },
   {
    "duration": 3893,
    "start_time": "2022-05-13T18:46:05.132Z"
   },
   {
    "duration": 3385,
    "start_time": "2022-05-13T18:46:11.092Z"
   },
   {
    "duration": 3403,
    "start_time": "2022-05-13T18:46:24.822Z"
   },
   {
    "duration": 102016,
    "start_time": "2022-05-13T18:50:43.138Z"
   },
   {
    "duration": 36,
    "start_time": "2022-05-13T18:52:25.212Z"
   },
   {
    "duration": 229,
    "start_time": "2022-05-13T18:52:25.250Z"
   },
   {
    "duration": 3489,
    "start_time": "2022-05-13T18:58:55.048Z"
   },
   {
    "duration": 3559,
    "start_time": "2022-05-13T18:59:28.200Z"
   },
   {
    "duration": 71,
    "start_time": "2022-05-13T19:01:19.955Z"
   },
   {
    "duration": 59,
    "start_time": "2022-05-13T19:08:01.371Z"
   },
   {
    "duration": 558,
    "start_time": "2022-05-14T06:10:09.327Z"
   },
   {
    "duration": 19,
    "start_time": "2022-05-14T06:10:09.888Z"
   },
   {
    "duration": 11,
    "start_time": "2022-05-14T06:10:09.909Z"
   },
   {
    "duration": 8,
    "start_time": "2022-05-14T06:10:09.922Z"
   },
   {
    "duration": 7,
    "start_time": "2022-05-14T06:10:09.933Z"
   },
   {
    "duration": 89,
    "start_time": "2022-05-14T06:10:09.942Z"
   },
   {
    "duration": 7,
    "start_time": "2022-05-14T06:10:10.033Z"
   },
   {
    "duration": 22,
    "start_time": "2022-05-14T06:10:10.041Z"
   },
   {
    "duration": 8,
    "start_time": "2022-05-14T06:10:10.064Z"
   },
   {
    "duration": 7,
    "start_time": "2022-05-14T06:10:10.074Z"
   },
   {
    "duration": 6,
    "start_time": "2022-05-14T06:10:10.108Z"
   },
   {
    "duration": 22,
    "start_time": "2022-05-14T06:10:10.116Z"
   },
   {
    "duration": 68,
    "start_time": "2022-05-14T06:10:10.140Z"
   },
   {
    "duration": 7,
    "start_time": "2022-05-14T06:10:10.213Z"
   },
   {
    "duration": 9,
    "start_time": "2022-05-14T06:10:10.222Z"
   },
   {
    "duration": 7,
    "start_time": "2022-05-14T06:10:10.233Z"
   },
   {
    "duration": 6,
    "start_time": "2022-05-14T06:10:10.241Z"
   },
   {
    "duration": 97,
    "start_time": "2022-05-14T06:10:10.249Z"
   },
   {
    "duration": 288,
    "start_time": "2022-05-14T06:10:10.347Z"
   },
   {
    "duration": 39,
    "start_time": "2022-05-14T06:10:10.637Z"
   },
   {
    "duration": 56,
    "start_time": "2022-05-14T06:10:10.678Z"
   },
   {
    "duration": 595,
    "start_time": "2022-05-14T06:10:10.736Z"
   },
   {
    "duration": 166,
    "start_time": "2022-05-14T06:10:11.333Z"
   },
   {
    "duration": 189,
    "start_time": "2022-05-14T06:10:11.501Z"
   },
   {
    "duration": 242,
    "start_time": "2022-05-14T06:10:11.692Z"
   },
   {
    "duration": 7,
    "start_time": "2022-05-14T06:10:11.936Z"
   },
   {
    "duration": 191,
    "start_time": "2022-05-14T06:10:11.945Z"
   },
   {
    "duration": 5,
    "start_time": "2022-05-14T06:10:12.138Z"
   },
   {
    "duration": 7,
    "start_time": "2022-05-14T06:10:12.145Z"
   },
   {
    "duration": 8,
    "start_time": "2022-05-14T06:10:12.154Z"
   },
   {
    "duration": 44,
    "start_time": "2022-05-14T06:10:12.164Z"
   },
   {
    "duration": 43,
    "start_time": "2022-05-14T06:10:12.210Z"
   },
   {
    "duration": 4,
    "start_time": "2022-05-14T06:10:12.254Z"
   },
   {
    "duration": 195,
    "start_time": "2022-05-14T06:10:12.259Z"
   },
   {
    "duration": 34,
    "start_time": "2022-05-14T06:10:12.456Z"
   },
   {
    "duration": 16,
    "start_time": "2022-05-14T06:10:12.492Z"
   },
   {
    "duration": 249,
    "start_time": "2022-05-14T06:10:12.510Z"
   },
   {
    "duration": 54,
    "start_time": "2022-05-14T06:10:12.761Z"
   },
   {
    "duration": 105039,
    "start_time": "2022-05-14T06:10:12.817Z"
   },
   {
    "duration": 37,
    "start_time": "2022-05-14T06:12:40.516Z"
   },
   {
    "duration": 144,
    "start_time": "2022-05-14T06:13:32.761Z"
   },
   {
    "duration": 33,
    "start_time": "2022-05-14T06:14:06.391Z"
   },
   {
    "duration": 228,
    "start_time": "2022-05-14T06:15:57.142Z"
   },
   {
    "duration": 45,
    "start_time": "2022-05-14T06:16:57.787Z"
   },
   {
    "duration": 47,
    "start_time": "2022-05-14T06:21:20.169Z"
   },
   {
    "duration": 20,
    "start_time": "2022-05-14T06:23:06.288Z"
   },
   {
    "duration": 8,
    "start_time": "2022-05-14T06:24:53.776Z"
   },
   {
    "duration": 62,
    "start_time": "2022-05-14T06:24:53.786Z"
   },
   {
    "duration": 9,
    "start_time": "2022-05-14T06:26:39.230Z"
   },
   {
    "duration": 508,
    "start_time": "2022-05-14T06:29:42.739Z"
   },
   {
    "duration": 15,
    "start_time": "2022-05-14T06:29:43.249Z"
   },
   {
    "duration": 10,
    "start_time": "2022-05-14T06:29:43.265Z"
   },
   {
    "duration": 7,
    "start_time": "2022-05-14T06:29:43.276Z"
   },
   {
    "duration": 28,
    "start_time": "2022-05-14T06:29:43.284Z"
   },
   {
    "duration": 51,
    "start_time": "2022-05-14T06:29:43.314Z"
   },
   {
    "duration": 7,
    "start_time": "2022-05-14T06:29:43.366Z"
   },
   {
    "duration": 41,
    "start_time": "2022-05-14T06:29:43.375Z"
   },
   {
    "duration": 6,
    "start_time": "2022-05-14T06:29:43.418Z"
   },
   {
    "duration": 7,
    "start_time": "2022-05-14T06:29:43.427Z"
   },
   {
    "duration": 7,
    "start_time": "2022-05-14T06:29:43.435Z"
   },
   {
    "duration": 25,
    "start_time": "2022-05-14T06:29:43.443Z"
   },
   {
    "duration": 68,
    "start_time": "2022-05-14T06:29:43.469Z"
   },
   {
    "duration": 6,
    "start_time": "2022-05-14T06:29:43.538Z"
   },
   {
    "duration": 9,
    "start_time": "2022-05-14T06:29:43.545Z"
   },
   {
    "duration": 6,
    "start_time": "2022-05-14T06:29:43.555Z"
   },
   {
    "duration": 6,
    "start_time": "2022-05-14T06:29:43.563Z"
   },
   {
    "duration": 82,
    "start_time": "2022-05-14T06:29:43.570Z"
   },
   {
    "duration": 282,
    "start_time": "2022-05-14T06:29:43.653Z"
   },
   {
    "duration": 37,
    "start_time": "2022-05-14T06:29:43.937Z"
   },
   {
    "duration": 50,
    "start_time": "2022-05-14T06:29:43.975Z"
   },
   {
    "duration": 400,
    "start_time": "2022-05-14T06:29:44.026Z"
   },
   {
    "duration": 153,
    "start_time": "2022-05-14T06:29:44.427Z"
   },
   {
    "duration": 178,
    "start_time": "2022-05-14T06:29:44.581Z"
   },
   {
    "duration": 231,
    "start_time": "2022-05-14T06:29:44.761Z"
   },
   {
    "duration": 16,
    "start_time": "2022-05-14T06:29:44.993Z"
   },
   {
    "duration": 171,
    "start_time": "2022-05-14T06:29:45.010Z"
   },
   {
    "duration": 5,
    "start_time": "2022-05-14T06:29:45.184Z"
   },
   {
    "duration": 6,
    "start_time": "2022-05-14T06:29:45.190Z"
   },
   {
    "duration": 6,
    "start_time": "2022-05-14T06:29:45.208Z"
   },
   {
    "duration": 8,
    "start_time": "2022-05-14T06:29:45.216Z"
   },
   {
    "duration": 123,
    "start_time": "2022-05-14T06:29:45.225Z"
   },
   {
    "duration": 0,
    "start_time": "2022-05-14T06:29:45.350Z"
   },
   {
    "duration": 0,
    "start_time": "2022-05-14T06:29:45.351Z"
   },
   {
    "duration": 0,
    "start_time": "2022-05-14T06:29:45.353Z"
   },
   {
    "duration": 0,
    "start_time": "2022-05-14T06:29:45.354Z"
   },
   {
    "duration": 0,
    "start_time": "2022-05-14T06:29:45.355Z"
   },
   {
    "duration": 0,
    "start_time": "2022-05-14T06:29:45.356Z"
   },
   {
    "duration": 0,
    "start_time": "2022-05-14T06:29:45.357Z"
   },
   {
    "duration": 0,
    "start_time": "2022-05-14T06:29:45.358Z"
   },
   {
    "duration": 43,
    "start_time": "2022-05-14T06:30:33.865Z"
   },
   {
    "duration": 28366,
    "start_time": "2022-05-14T06:34:03.446Z"
   },
   {
    "duration": 1599,
    "start_time": "2022-05-14T06:36:30.218Z"
   },
   {
    "duration": 28390,
    "start_time": "2022-05-14T06:38:10.150Z"
   },
   {
    "duration": 36,
    "start_time": "2022-05-14T06:38:38.542Z"
   },
   {
    "duration": 4,
    "start_time": "2022-05-14T06:38:38.580Z"
   },
   {
    "duration": 176,
    "start_time": "2022-05-14T06:38:38.586Z"
   },
   {
    "duration": 44,
    "start_time": "2022-05-14T06:38:38.763Z"
   },
   {
    "duration": 4,
    "start_time": "2022-05-14T06:38:38.809Z"
   },
   {
    "duration": 247,
    "start_time": "2022-05-14T06:38:38.815Z"
   },
   {
    "duration": 58,
    "start_time": "2022-05-14T06:38:39.064Z"
   },
   {
    "duration": 107012,
    "start_time": "2022-05-14T06:38:39.125Z"
   },
   {
    "duration": 1775,
    "start_time": "2022-05-14T06:41:38.511Z"
   },
   {
    "duration": 27907,
    "start_time": "2022-05-14T06:42:29.827Z"
   },
   {
    "duration": 999,
    "start_time": "2022-05-14T06:43:38.969Z"
   },
   {
    "duration": 29147,
    "start_time": "2022-05-14T06:45:48.237Z"
   },
   {
    "duration": 1554,
    "start_time": "2022-05-14T06:47:44.115Z"
   },
   {
    "duration": 28693,
    "start_time": "2022-05-14T06:50:44.919Z"
   },
   {
    "duration": 1631,
    "start_time": "2022-05-14T06:53:48.875Z"
   },
   {
    "duration": 0,
    "start_time": "2022-05-14T06:53:50.508Z"
   },
   {
    "duration": 0,
    "start_time": "2022-05-14T06:53:50.509Z"
   },
   {
    "duration": 29342,
    "start_time": "2022-05-14T06:54:07.793Z"
   },
   {
    "duration": 2044,
    "start_time": "2022-05-14T06:55:42.729Z"
   },
   {
    "duration": 1883,
    "start_time": "2022-05-14T06:56:49.669Z"
   },
   {
    "duration": 40,
    "start_time": "2022-05-14T06:59:05.225Z"
   },
   {
    "duration": 109001,
    "start_time": "2022-05-14T06:59:05.267Z"
   },
   {
    "duration": 36,
    "start_time": "2022-05-14T07:08:32.388Z"
   },
   {
    "duration": 38,
    "start_time": "2022-05-14T07:08:39.308Z"
   },
   {
    "duration": 522,
    "start_time": "2022-05-14T07:09:03.956Z"
   },
   {
    "duration": 16,
    "start_time": "2022-05-14T07:09:04.480Z"
   },
   {
    "duration": 15,
    "start_time": "2022-05-14T07:09:04.498Z"
   },
   {
    "duration": 6,
    "start_time": "2022-05-14T07:09:04.515Z"
   },
   {
    "duration": 8,
    "start_time": "2022-05-14T07:09:04.523Z"
   },
   {
    "duration": 78,
    "start_time": "2022-05-14T07:09:04.533Z"
   },
   {
    "duration": 7,
    "start_time": "2022-05-14T07:09:04.613Z"
   },
   {
    "duration": 21,
    "start_time": "2022-05-14T07:09:04.622Z"
   },
   {
    "duration": 8,
    "start_time": "2022-05-14T07:09:04.645Z"
   },
   {
    "duration": 8,
    "start_time": "2022-05-14T07:09:04.655Z"
   },
   {
    "duration": 6,
    "start_time": "2022-05-14T07:09:04.664Z"
   },
   {
    "duration": 49,
    "start_time": "2022-05-14T07:09:04.672Z"
   },
   {
    "duration": 49,
    "start_time": "2022-05-14T07:09:04.723Z"
   },
   {
    "duration": 7,
    "start_time": "2022-05-14T07:09:04.773Z"
   },
   {
    "duration": 34,
    "start_time": "2022-05-14T07:09:04.781Z"
   },
   {
    "duration": 7,
    "start_time": "2022-05-14T07:09:04.817Z"
   },
   {
    "duration": 10,
    "start_time": "2022-05-14T07:09:04.825Z"
   },
   {
    "duration": 79,
    "start_time": "2022-05-14T07:09:04.837Z"
   },
   {
    "duration": 296,
    "start_time": "2022-05-14T07:09:04.918Z"
   },
   {
    "duration": 37,
    "start_time": "2022-05-14T07:09:05.216Z"
   },
   {
    "duration": 53,
    "start_time": "2022-05-14T07:09:05.255Z"
   },
   {
    "duration": 413,
    "start_time": "2022-05-14T07:09:05.310Z"
   },
   {
    "duration": 154,
    "start_time": "2022-05-14T07:09:05.725Z"
   },
   {
    "duration": 187,
    "start_time": "2022-05-14T07:09:05.881Z"
   },
   {
    "duration": 238,
    "start_time": "2022-05-14T07:09:06.069Z"
   },
   {
    "duration": 6,
    "start_time": "2022-05-14T07:09:06.309Z"
   },
   {
    "duration": 188,
    "start_time": "2022-05-14T07:09:06.317Z"
   },
   {
    "duration": 4,
    "start_time": "2022-05-14T07:09:06.510Z"
   },
   {
    "duration": 6,
    "start_time": "2022-05-14T07:09:06.516Z"
   },
   {
    "duration": 7,
    "start_time": "2022-05-14T07:09:06.523Z"
   },
   {
    "duration": 45,
    "start_time": "2022-05-14T07:09:06.532Z"
   },
   {
    "duration": 37,
    "start_time": "2022-05-14T07:09:06.607Z"
   },
   {
    "duration": 4,
    "start_time": "2022-05-14T07:09:06.646Z"
   },
   {
    "duration": 177,
    "start_time": "2022-05-14T07:09:06.651Z"
   },
   {
    "duration": 32,
    "start_time": "2022-05-14T07:09:06.830Z"
   },
   {
    "duration": 4,
    "start_time": "2022-05-14T07:09:06.864Z"
   },
   {
    "duration": 247,
    "start_time": "2022-05-14T07:09:06.870Z"
   },
   {
    "duration": 44,
    "start_time": "2022-05-14T07:09:07.119Z"
   },
   {
    "duration": 54,
    "start_time": "2022-05-14T07:09:07.165Z"
   },
   {
    "duration": 41,
    "start_time": "2022-05-14T07:09:33.250Z"
   },
   {
    "duration": 47,
    "start_time": "2022-05-14T07:10:28.352Z"
   },
   {
    "duration": 44,
    "start_time": "2022-05-14T07:13:02.651Z"
   },
   {
    "duration": 49,
    "start_time": "2022-05-14T07:14:03.855Z"
   },
   {
    "duration": 48,
    "start_time": "2022-05-14T07:15:22.592Z"
   },
   {
    "duration": 8,
    "start_time": "2022-05-14T07:18:33.876Z"
   },
   {
    "duration": 49,
    "start_time": "2022-05-14T07:27:24.135Z"
   },
   {
    "duration": 34,
    "start_time": "2022-05-14T07:31:51.744Z"
   },
   {
    "duration": 66,
    "start_time": "2022-05-14T07:35:10.114Z"
   },
   {
    "duration": 43,
    "start_time": "2022-05-14T07:47:23.781Z"
   },
   {
    "duration": 34,
    "start_time": "2022-05-14T07:48:39.849Z"
   },
   {
    "duration": 594,
    "start_time": "2022-05-14T07:52:38.906Z"
   },
   {
    "duration": 15,
    "start_time": "2022-05-14T07:52:39.507Z"
   },
   {
    "duration": 9,
    "start_time": "2022-05-14T07:52:39.524Z"
   },
   {
    "duration": 6,
    "start_time": "2022-05-14T07:52:39.535Z"
   },
   {
    "duration": 8,
    "start_time": "2022-05-14T07:52:39.544Z"
   },
   {
    "duration": 83,
    "start_time": "2022-05-14T07:52:39.554Z"
   },
   {
    "duration": 7,
    "start_time": "2022-05-14T07:52:39.638Z"
   },
   {
    "duration": 23,
    "start_time": "2022-05-14T07:52:39.647Z"
   },
   {
    "duration": 6,
    "start_time": "2022-05-14T07:52:39.672Z"
   },
   {
    "duration": 30,
    "start_time": "2022-05-14T07:52:39.680Z"
   },
   {
    "duration": 7,
    "start_time": "2022-05-14T07:52:39.712Z"
   },
   {
    "duration": 16,
    "start_time": "2022-05-14T07:52:39.721Z"
   },
   {
    "duration": 80,
    "start_time": "2022-05-14T07:52:39.739Z"
   },
   {
    "duration": 7,
    "start_time": "2022-05-14T07:52:39.822Z"
   },
   {
    "duration": 10,
    "start_time": "2022-05-14T07:52:39.831Z"
   },
   {
    "duration": 8,
    "start_time": "2022-05-14T07:52:39.843Z"
   },
   {
    "duration": 8,
    "start_time": "2022-05-14T07:52:39.853Z"
   },
   {
    "duration": 87,
    "start_time": "2022-05-14T07:52:39.863Z"
   },
   {
    "duration": 292,
    "start_time": "2022-05-14T07:52:39.952Z"
   },
   {
    "duration": 40,
    "start_time": "2022-05-14T07:52:40.245Z"
   },
   {
    "duration": 55,
    "start_time": "2022-05-14T07:52:40.286Z"
   },
   {
    "duration": 403,
    "start_time": "2022-05-14T07:52:40.343Z"
   },
   {
    "duration": 161,
    "start_time": "2022-05-14T07:52:40.748Z"
   },
   {
    "duration": 180,
    "start_time": "2022-05-14T07:52:40.911Z"
   },
   {
    "duration": 231,
    "start_time": "2022-05-14T07:52:41.093Z"
   },
   {
    "duration": 7,
    "start_time": "2022-05-14T07:52:41.327Z"
   },
   {
    "duration": 187,
    "start_time": "2022-05-14T07:52:41.336Z"
   },
   {
    "duration": 5,
    "start_time": "2022-05-14T07:52:41.525Z"
   },
   {
    "duration": 11,
    "start_time": "2022-05-14T07:52:41.532Z"
   },
   {
    "duration": 7,
    "start_time": "2022-05-14T07:52:41.546Z"
   },
   {
    "duration": 71,
    "start_time": "2022-05-14T07:52:41.555Z"
   },
   {
    "duration": 37,
    "start_time": "2022-05-14T07:52:41.628Z"
   },
   {
    "duration": 4,
    "start_time": "2022-05-14T07:52:41.666Z"
   },
   {
    "duration": 178,
    "start_time": "2022-05-14T07:52:41.672Z"
   },
   {
    "duration": 31,
    "start_time": "2022-05-14T07:52:41.851Z"
   },
   {
    "duration": 4,
    "start_time": "2022-05-14T07:52:41.884Z"
   },
   {
    "duration": 237,
    "start_time": "2022-05-14T07:52:41.908Z"
   },
   {
    "duration": 19,
    "start_time": "2022-05-14T07:52:42.147Z"
   },
   {
    "duration": 108401,
    "start_time": "2022-05-14T07:54:30.080Z"
   },
   {
    "duration": 9,
    "start_time": "2022-05-14T07:56:18.483Z"
   },
   {
    "duration": 75,
    "start_time": "2022-05-14T07:56:18.494Z"
   },
   {
    "duration": 105,
    "start_time": "2022-05-14T08:12:04.157Z"
   },
   {
    "duration": 41,
    "start_time": "2022-05-14T08:22:31.249Z"
   },
   {
    "duration": 40,
    "start_time": "2022-05-14T08:25:43.120Z"
   },
   {
    "duration": 40,
    "start_time": "2022-05-14T08:28:02.053Z"
   },
   {
    "duration": 6,
    "start_time": "2022-05-14T08:44:36.125Z"
   },
   {
    "duration": 16,
    "start_time": "2022-05-14T08:46:59.062Z"
   },
   {
    "duration": 11,
    "start_time": "2022-05-14T08:47:16.317Z"
   },
   {
    "duration": 7,
    "start_time": "2022-05-14T08:48:06.071Z"
   },
   {
    "duration": 45,
    "start_time": "2022-05-14T08:49:03.906Z"
   },
   {
    "duration": 15,
    "start_time": "2022-05-14T09:02:12.440Z"
   },
   {
    "duration": 8,
    "start_time": "2022-05-14T09:04:38.554Z"
   },
   {
    "duration": 40,
    "start_time": "2022-05-14T09:09:35.125Z"
   },
   {
    "duration": 13,
    "start_time": "2022-05-14T09:13:20.595Z"
   },
   {
    "duration": 13,
    "start_time": "2022-05-14T09:13:58.934Z"
   },
   {
    "duration": 8,
    "start_time": "2022-05-14T09:14:57.707Z"
   },
   {
    "duration": 7,
    "start_time": "2022-05-14T09:16:04.190Z"
   },
   {
    "duration": 8,
    "start_time": "2022-05-14T09:17:14.522Z"
   },
   {
    "duration": 7,
    "start_time": "2022-05-14T09:17:40.627Z"
   },
   {
    "duration": 7,
    "start_time": "2022-05-14T09:18:03.954Z"
   },
   {
    "duration": 45,
    "start_time": "2022-05-14T09:23:31.020Z"
   },
   {
    "duration": 44,
    "start_time": "2022-05-14T09:23:55.898Z"
   },
   {
    "duration": 65,
    "start_time": "2022-05-14T09:24:03.486Z"
   },
   {
    "duration": 54,
    "start_time": "2022-05-14T09:24:17.391Z"
   },
   {
    "duration": 26,
    "start_time": "2022-05-14T09:28:22.851Z"
   },
   {
    "duration": 51,
    "start_time": "2022-05-14T09:29:36.899Z"
   },
   {
    "duration": 35,
    "start_time": "2022-05-14T09:30:34.064Z"
   },
   {
    "duration": 6,
    "start_time": "2022-05-14T09:38:18.571Z"
   },
   {
    "duration": 0,
    "start_time": "2022-05-14T09:58:26.508Z"
   },
   {
    "duration": 0,
    "start_time": "2022-05-14T09:58:26.510Z"
   },
   {
    "duration": 62,
    "start_time": "2022-05-14T09:59:00.537Z"
   },
   {
    "duration": 71,
    "start_time": "2022-05-14T09:59:28.004Z"
   },
   {
    "duration": 73,
    "start_time": "2022-05-14T09:59:47.031Z"
   },
   {
    "duration": 90,
    "start_time": "2022-05-14T10:00:35.506Z"
   },
   {
    "duration": 9,
    "start_time": "2022-05-14T10:00:49.768Z"
   },
   {
    "duration": 8,
    "start_time": "2022-05-14T10:01:40.629Z"
   },
   {
    "duration": 533,
    "start_time": "2022-05-14T10:03:37.721Z"
   },
   {
    "duration": 15,
    "start_time": "2022-05-14T10:03:38.256Z"
   },
   {
    "duration": 9,
    "start_time": "2022-05-14T10:03:38.272Z"
   },
   {
    "duration": 27,
    "start_time": "2022-05-14T10:03:38.283Z"
   },
   {
    "duration": 6,
    "start_time": "2022-05-14T10:03:38.313Z"
   },
   {
    "duration": 54,
    "start_time": "2022-05-14T10:03:38.320Z"
   },
   {
    "duration": 7,
    "start_time": "2022-05-14T10:03:38.375Z"
   },
   {
    "duration": 42,
    "start_time": "2022-05-14T10:03:38.384Z"
   },
   {
    "duration": 6,
    "start_time": "2022-05-14T10:03:38.428Z"
   },
   {
    "duration": 6,
    "start_time": "2022-05-14T10:03:38.436Z"
   },
   {
    "duration": 4,
    "start_time": "2022-05-14T10:03:38.444Z"
   },
   {
    "duration": 15,
    "start_time": "2022-05-14T10:03:38.450Z"
   },
   {
    "duration": 79,
    "start_time": "2022-05-14T10:03:38.467Z"
   },
   {
    "duration": 6,
    "start_time": "2022-05-14T10:03:38.549Z"
   },
   {
    "duration": 8,
    "start_time": "2022-05-14T10:03:38.557Z"
   },
   {
    "duration": 6,
    "start_time": "2022-05-14T10:03:38.566Z"
   },
   {
    "duration": 35,
    "start_time": "2022-05-14T10:03:38.573Z"
   },
   {
    "duration": 6,
    "start_time": "2022-05-14T10:03:38.610Z"
   },
   {
    "duration": 59,
    "start_time": "2022-05-14T10:03:38.617Z"
   },
   {
    "duration": 295,
    "start_time": "2022-05-14T10:03:38.678Z"
   },
   {
    "duration": 47,
    "start_time": "2022-05-14T10:03:38.975Z"
   },
   {
    "duration": 38,
    "start_time": "2022-05-14T10:03:39.023Z"
   },
   {
    "duration": 420,
    "start_time": "2022-05-14T10:03:39.062Z"
   },
   {
    "duration": 162,
    "start_time": "2022-05-14T10:03:39.484Z"
   },
   {
    "duration": 184,
    "start_time": "2022-05-14T10:03:39.648Z"
   },
   {
    "duration": 232,
    "start_time": "2022-05-14T10:03:39.834Z"
   },
   {
    "duration": 6,
    "start_time": "2022-05-14T10:03:40.067Z"
   },
   {
    "duration": 181,
    "start_time": "2022-05-14T10:03:40.075Z"
   },
   {
    "duration": 5,
    "start_time": "2022-05-14T10:03:40.257Z"
   },
   {
    "duration": 7,
    "start_time": "2022-05-14T10:03:40.263Z"
   },
   {
    "duration": 6,
    "start_time": "2022-05-14T10:03:40.271Z"
   },
   {
    "duration": 67,
    "start_time": "2022-05-14T10:03:40.279Z"
   },
   {
    "duration": 34,
    "start_time": "2022-05-14T10:03:40.347Z"
   },
   {
    "duration": 4,
    "start_time": "2022-05-14T10:03:40.382Z"
   },
   {
    "duration": 154,
    "start_time": "2022-05-14T10:03:40.407Z"
   },
   {
    "duration": 32,
    "start_time": "2022-05-14T10:03:40.562Z"
   },
   {
    "duration": 3,
    "start_time": "2022-05-14T10:03:40.608Z"
   },
   {
    "duration": 243,
    "start_time": "2022-05-14T10:03:40.613Z"
   },
   {
    "duration": 20,
    "start_time": "2022-05-14T10:03:40.857Z"
   },
   {
    "duration": 8,
    "start_time": "2022-05-14T10:03:40.879Z"
   },
   {
    "duration": 47,
    "start_time": "2022-05-14T10:03:40.908Z"
   },
   {
    "duration": 60,
    "start_time": "2022-05-14T10:03:40.957Z"
   },
   {
    "duration": 13,
    "start_time": "2022-05-14T10:03:41.019Z"
   },
   {
    "duration": 34,
    "start_time": "2022-05-14T10:03:41.033Z"
   },
   {
    "duration": 4,
    "start_time": "2022-05-14T10:03:41.068Z"
   },
   {
    "duration": 0,
    "start_time": "2022-05-14T10:06:33.872Z"
   },
   {
    "duration": 0,
    "start_time": "2022-05-14T10:06:33.873Z"
   },
   {
    "duration": 19,
    "start_time": "2022-05-14T10:06:40.755Z"
   },
   {
    "duration": 1071,
    "start_time": "2022-05-14T10:06:50.255Z"
   },
   {
    "duration": 88647,
    "start_time": "2022-05-14T10:09:19.170Z"
   },
   {
    "duration": 1051,
    "start_time": "2022-05-14T10:11:36.812Z"
   },
   {
    "duration": 955,
    "start_time": "2022-05-14T10:13:56.266Z"
   },
   {
    "duration": 85444,
    "start_time": "2022-05-14T10:14:25.254Z"
   },
   {
    "duration": 1013,
    "start_time": "2022-05-14T10:21:48.326Z"
   },
   {
    "duration": 13,
    "start_time": "2022-05-14T10:22:16.421Z"
   },
   {
    "duration": 1101,
    "start_time": "2022-05-14T10:23:10.942Z"
   },
   {
    "duration": 15,
    "start_time": "2022-05-14T10:24:27.420Z"
   },
   {
    "duration": 18,
    "start_time": "2022-05-14T10:24:31.713Z"
   },
   {
    "duration": 1409,
    "start_time": "2022-05-14T10:24:38.396Z"
   },
   {
    "duration": 1265,
    "start_time": "2022-05-14T10:27:13.202Z"
   },
   {
    "duration": 1079,
    "start_time": "2022-05-14T10:28:06.443Z"
   },
   {
    "duration": 8,
    "start_time": "2022-05-14T10:31:50.196Z"
   },
   {
    "duration": 6,
    "start_time": "2022-05-14T10:32:27.963Z"
   },
   {
    "duration": 90149,
    "start_time": "2022-05-14T10:38:42.560Z"
   },
   {
    "duration": 44,
    "start_time": "2022-05-14T10:47:12.569Z"
   },
   {
    "duration": 9,
    "start_time": "2022-05-14T10:49:02.721Z"
   },
   {
    "duration": 40,
    "start_time": "2022-05-14T10:50:22.105Z"
   },
   {
    "duration": 18,
    "start_time": "2022-05-14T10:55:52.867Z"
   },
   {
    "duration": 7,
    "start_time": "2022-05-14T10:56:55.663Z"
   },
   {
    "duration": 1092,
    "start_time": "2022-05-14T10:58:23.500Z"
   },
   {
    "duration": 9,
    "start_time": "2022-05-14T10:59:39.200Z"
   },
   {
    "duration": 9,
    "start_time": "2022-05-14T11:00:22.717Z"
   },
   {
    "duration": 6,
    "start_time": "2022-05-14T11:00:35.746Z"
   },
   {
    "duration": 9,
    "start_time": "2022-05-14T11:01:15.557Z"
   },
   {
    "duration": 16,
    "start_time": "2022-05-14T11:02:14.585Z"
   },
   {
    "duration": 46,
    "start_time": "2022-05-14T11:05:17.535Z"
   },
   {
    "duration": 37,
    "start_time": "2022-05-14T11:06:46.667Z"
   },
   {
    "duration": 8,
    "start_time": "2022-05-14T11:09:03.332Z"
   },
   {
    "duration": 39,
    "start_time": "2022-05-14T11:09:16.451Z"
   },
   {
    "duration": 15,
    "start_time": "2022-05-14T11:10:30.548Z"
   },
   {
    "duration": 26,
    "start_time": "2022-05-14T11:10:54.508Z"
   },
   {
    "duration": 1120,
    "start_time": "2022-05-14T11:14:59.116Z"
   },
   {
    "duration": 7,
    "start_time": "2022-05-14T11:15:32.473Z"
   },
   {
    "duration": 14,
    "start_time": "2022-05-14T11:15:46.412Z"
   },
   {
    "duration": 8,
    "start_time": "2022-05-14T11:17:28.272Z"
   },
   {
    "duration": 18,
    "start_time": "2022-05-14T11:17:51.268Z"
   },
   {
    "duration": 7,
    "start_time": "2022-05-14T11:20:41.220Z"
   },
   {
    "duration": 7,
    "start_time": "2022-05-14T11:22:20.919Z"
   },
   {
    "duration": 37,
    "start_time": "2022-05-14T11:22:39.482Z"
   },
   {
    "duration": 45,
    "start_time": "2022-05-14T11:23:39.444Z"
   },
   {
    "duration": 7,
    "start_time": "2022-05-14T11:24:39.674Z"
   },
   {
    "duration": 37,
    "start_time": "2022-05-14T11:24:49.229Z"
   },
   {
    "duration": 8,
    "start_time": "2022-05-14T11:25:45.835Z"
   },
   {
    "duration": 14,
    "start_time": "2022-05-14T11:26:11.953Z"
   },
   {
    "duration": 15,
    "start_time": "2022-05-14T11:26:54.599Z"
   },
   {
    "duration": 14,
    "start_time": "2022-05-14T11:27:40.802Z"
   },
   {
    "duration": 6,
    "start_time": "2022-05-14T11:29:32.179Z"
   },
   {
    "duration": 8,
    "start_time": "2022-05-14T11:32:53.636Z"
   },
   {
    "duration": 8,
    "start_time": "2022-05-14T11:33:34.686Z"
   },
   {
    "duration": 14,
    "start_time": "2022-05-14T11:34:05.511Z"
   },
   {
    "duration": 6,
    "start_time": "2022-05-14T12:46:01.301Z"
   },
   {
    "duration": 6,
    "start_time": "2022-05-14T15:03:41.185Z"
   },
   {
    "duration": 5,
    "start_time": "2022-05-14T15:09:48.951Z"
   },
   {
    "duration": 255,
    "start_time": "2022-05-14T15:09:53.240Z"
   },
   {
    "duration": 19,
    "start_time": "2022-05-14T15:10:01.371Z"
   },
   {
    "duration": 21,
    "start_time": "2022-05-14T15:10:11.752Z"
   },
   {
    "duration": 34,
    "start_time": "2022-05-14T15:10:22.878Z"
   },
   {
    "duration": 61,
    "start_time": "2022-05-14T15:12:28.399Z"
   },
   {
    "duration": 59,
    "start_time": "2022-05-14T15:21:27.143Z"
   },
   {
    "duration": 5,
    "start_time": "2022-05-14T15:21:39.136Z"
   },
   {
    "duration": 44,
    "start_time": "2022-05-15T05:30:03.836Z"
   },
   {
    "duration": 536,
    "start_time": "2022-05-15T05:30:08.745Z"
   },
   {
    "duration": 14,
    "start_time": "2022-05-15T05:30:09.283Z"
   },
   {
    "duration": 8,
    "start_time": "2022-05-15T05:30:09.298Z"
   },
   {
    "duration": 7,
    "start_time": "2022-05-15T05:30:09.307Z"
   },
   {
    "duration": 6,
    "start_time": "2022-05-15T05:30:09.316Z"
   },
   {
    "duration": 69,
    "start_time": "2022-05-15T05:30:09.324Z"
   },
   {
    "duration": 6,
    "start_time": "2022-05-15T05:30:09.394Z"
   },
   {
    "duration": 19,
    "start_time": "2022-05-15T05:30:09.401Z"
   },
   {
    "duration": 6,
    "start_time": "2022-05-15T05:30:09.421Z"
   },
   {
    "duration": 7,
    "start_time": "2022-05-15T05:30:09.429Z"
   },
   {
    "duration": 28,
    "start_time": "2022-05-15T05:30:09.437Z"
   },
   {
    "duration": 14,
    "start_time": "2022-05-15T05:30:09.467Z"
   },
   {
    "duration": 38,
    "start_time": "2022-05-15T05:30:09.482Z"
   },
   {
    "duration": 5,
    "start_time": "2022-05-15T05:30:09.523Z"
   },
   {
    "duration": 7,
    "start_time": "2022-05-15T05:30:09.530Z"
   },
   {
    "duration": 27,
    "start_time": "2022-05-15T05:30:09.539Z"
   },
   {
    "duration": 10,
    "start_time": "2022-05-15T05:30:09.567Z"
   },
   {
    "duration": 5,
    "start_time": "2022-05-15T05:30:09.579Z"
   },
   {
    "duration": 50,
    "start_time": "2022-05-15T05:30:09.586Z"
   },
   {
    "duration": 270,
    "start_time": "2022-05-15T05:30:09.638Z"
   },
   {
    "duration": 32,
    "start_time": "2022-05-15T05:30:09.909Z"
   },
   {
    "duration": 48,
    "start_time": "2022-05-15T05:30:09.942Z"
   },
   {
    "duration": 531,
    "start_time": "2022-05-15T05:30:09.991Z"
   },
   {
    "duration": 131,
    "start_time": "2022-05-15T05:30:10.523Z"
   },
   {
    "duration": 154,
    "start_time": "2022-05-15T05:30:10.655Z"
   },
   {
    "duration": 206,
    "start_time": "2022-05-15T05:30:10.810Z"
   },
   {
    "duration": 6,
    "start_time": "2022-05-15T05:30:11.017Z"
   },
   {
    "duration": 147,
    "start_time": "2022-05-15T05:30:11.024Z"
   },
   {
    "duration": 4,
    "start_time": "2022-05-15T05:30:11.173Z"
   },
   {
    "duration": 10,
    "start_time": "2022-05-15T05:30:11.178Z"
   },
   {
    "duration": 21,
    "start_time": "2022-05-15T05:30:11.189Z"
   },
   {
    "duration": 43,
    "start_time": "2022-05-15T05:30:11.211Z"
   },
   {
    "duration": 39,
    "start_time": "2022-05-15T05:30:11.255Z"
   },
   {
    "duration": 4,
    "start_time": "2022-05-15T05:30:11.295Z"
   },
   {
    "duration": 154,
    "start_time": "2022-05-15T05:30:11.301Z"
   },
   {
    "duration": 31,
    "start_time": "2022-05-15T05:30:11.456Z"
   },
   {
    "duration": 4,
    "start_time": "2022-05-15T05:30:11.488Z"
   },
   {
    "duration": 207,
    "start_time": "2022-05-15T05:30:11.493Z"
   },
   {
    "duration": 16,
    "start_time": "2022-05-15T05:30:11.702Z"
   },
   {
    "duration": 20,
    "start_time": "2022-05-15T05:30:11.719Z"
   },
   {
    "duration": 50,
    "start_time": "2022-05-15T05:30:11.743Z"
   },
   {
    "duration": 38,
    "start_time": "2022-05-15T05:30:11.795Z"
   },
   {
    "duration": 6,
    "start_time": "2022-05-15T05:30:11.835Z"
   },
   {
    "duration": 47,
    "start_time": "2022-05-15T05:30:11.843Z"
   },
   {
    "duration": 6,
    "start_time": "2022-05-15T05:30:11.892Z"
   },
   {
    "duration": 19,
    "start_time": "2022-05-15T05:30:11.899Z"
   },
   {
    "duration": 17,
    "start_time": "2022-05-15T05:30:11.920Z"
   },
   {
    "duration": 21,
    "start_time": "2022-05-15T05:30:11.938Z"
   },
   {
    "duration": 5,
    "start_time": "2022-05-15T05:31:43.526Z"
   },
   {
    "duration": 42,
    "start_time": "2022-05-15T05:50:04.827Z"
   },
   {
    "duration": 18,
    "start_time": "2022-05-15T05:50:46.065Z"
   },
   {
    "duration": 40,
    "start_time": "2022-05-15T05:50:54.524Z"
   },
   {
    "duration": 137,
    "start_time": "2022-05-15T06:22:10.036Z"
   },
   {
    "duration": 132,
    "start_time": "2022-05-15T06:22:21.644Z"
   },
   {
    "duration": 210,
    "start_time": "2022-05-15T06:27:34.234Z"
   },
   {
    "duration": 135,
    "start_time": "2022-05-15T06:28:33.502Z"
   },
   {
    "duration": 206,
    "start_time": "2022-05-15T06:28:56.624Z"
   },
   {
    "duration": 106,
    "start_time": "2022-05-15T06:29:02.610Z"
   },
   {
    "duration": 131,
    "start_time": "2022-05-15T06:29:10.259Z"
   },
   {
    "duration": 133,
    "start_time": "2022-05-15T06:29:25.133Z"
   },
   {
    "duration": 129,
    "start_time": "2022-05-15T06:29:36.155Z"
   },
   {
    "duration": 127,
    "start_time": "2022-05-15T06:32:05.428Z"
   },
   {
    "duration": 131,
    "start_time": "2022-05-15T06:34:00.594Z"
   },
   {
    "duration": 129,
    "start_time": "2022-05-15T06:34:35.294Z"
   },
   {
    "duration": 129,
    "start_time": "2022-05-15T06:34:49.912Z"
   },
   {
    "duration": 13,
    "start_time": "2022-05-15T06:55:51.092Z"
   },
   {
    "duration": 13,
    "start_time": "2022-05-15T06:56:36.224Z"
   },
   {
    "duration": 643,
    "start_time": "2022-05-17T14:25:58.639Z"
   },
   {
    "duration": 19,
    "start_time": "2022-05-17T14:25:59.284Z"
   },
   {
    "duration": 12,
    "start_time": "2022-05-17T14:25:59.305Z"
   },
   {
    "duration": 11,
    "start_time": "2022-05-17T14:25:59.321Z"
   },
   {
    "duration": 8,
    "start_time": "2022-05-17T14:25:59.334Z"
   },
   {
    "duration": 99,
    "start_time": "2022-05-17T14:25:59.344Z"
   },
   {
    "duration": 7,
    "start_time": "2022-05-17T14:25:59.445Z"
   },
   {
    "duration": 23,
    "start_time": "2022-05-17T14:25:59.454Z"
   },
   {
    "duration": 12,
    "start_time": "2022-05-17T14:25:59.498Z"
   },
   {
    "duration": 11,
    "start_time": "2022-05-17T14:25:59.513Z"
   },
   {
    "duration": 9,
    "start_time": "2022-05-17T14:25:59.526Z"
   },
   {
    "duration": 19,
    "start_time": "2022-05-17T14:25:59.537Z"
   },
   {
    "duration": 101,
    "start_time": "2022-05-17T14:25:59.558Z"
   },
   {
    "duration": 8,
    "start_time": "2022-05-17T14:25:59.662Z"
   },
   {
    "duration": 28,
    "start_time": "2022-05-17T14:25:59.673Z"
   },
   {
    "duration": 7,
    "start_time": "2022-05-17T14:25:59.704Z"
   },
   {
    "duration": 12,
    "start_time": "2022-05-17T14:25:59.712Z"
   },
   {
    "duration": 7,
    "start_time": "2022-05-17T14:25:59.726Z"
   },
   {
    "duration": 104,
    "start_time": "2022-05-17T14:25:59.735Z"
   },
   {
    "duration": 348,
    "start_time": "2022-05-17T14:25:59.841Z"
   },
   {
    "duration": 44,
    "start_time": "2022-05-17T14:26:00.196Z"
   },
   {
    "duration": 84,
    "start_time": "2022-05-17T14:26:00.242Z"
   },
   {
    "duration": 483,
    "start_time": "2022-05-17T14:26:00.329Z"
   },
   {
    "duration": 188,
    "start_time": "2022-05-17T14:26:00.814Z"
   },
   {
    "duration": 182,
    "start_time": "2022-05-17T14:26:01.004Z"
   },
   {
    "duration": 260,
    "start_time": "2022-05-17T14:26:01.188Z"
   },
   {
    "duration": 200,
    "start_time": "2022-05-17T14:26:01.450Z"
   },
   {
    "duration": 6,
    "start_time": "2022-05-17T14:26:01.655Z"
   },
   {
    "duration": 197,
    "start_time": "2022-05-17T14:26:01.663Z"
   },
   {
    "duration": 5,
    "start_time": "2022-05-17T14:26:01.862Z"
   },
   {
    "duration": 48,
    "start_time": "2022-05-17T14:26:01.869Z"
   },
   {
    "duration": 21,
    "start_time": "2022-05-17T14:26:01.920Z"
   },
   {
    "duration": 63,
    "start_time": "2022-05-17T14:26:01.943Z"
   },
   {
    "duration": 63,
    "start_time": "2022-05-17T14:26:02.009Z"
   },
   {
    "duration": 6,
    "start_time": "2022-05-17T14:26:02.074Z"
   },
   {
    "duration": 192,
    "start_time": "2022-05-17T14:26:02.082Z"
   },
   {
    "duration": 43,
    "start_time": "2022-05-17T14:26:02.276Z"
   },
   {
    "duration": 5,
    "start_time": "2022-05-17T14:26:02.322Z"
   },
   {
    "duration": 264,
    "start_time": "2022-05-17T14:26:02.329Z"
   },
   {
    "duration": 21,
    "start_time": "2022-05-17T14:26:02.597Z"
   },
   {
    "duration": 9,
    "start_time": "2022-05-17T14:26:02.620Z"
   },
   {
    "duration": 85,
    "start_time": "2022-05-17T14:26:02.631Z"
   },
   {
    "duration": 81,
    "start_time": "2022-05-17T14:26:02.718Z"
   },
   {
    "duration": 11,
    "start_time": "2022-05-17T14:26:02.801Z"
   },
   {
    "duration": 43,
    "start_time": "2022-05-17T14:26:02.815Z"
   },
   {
    "duration": 38,
    "start_time": "2022-05-17T14:26:02.861Z"
   },
   {
    "duration": 8,
    "start_time": "2022-05-17T14:26:02.901Z"
   },
   {
    "duration": 18,
    "start_time": "2022-05-17T14:26:02.911Z"
   },
   {
    "duration": 20,
    "start_time": "2022-05-17T14:26:02.931Z"
   },
   {
    "duration": 43,
    "start_time": "2022-05-17T18:18:50.738Z"
   },
   {
    "duration": 530,
    "start_time": "2022-05-17T18:19:01.366Z"
   },
   {
    "duration": 14,
    "start_time": "2022-05-17T18:19:01.898Z"
   },
   {
    "duration": 8,
    "start_time": "2022-05-17T18:19:01.913Z"
   },
   {
    "duration": 13,
    "start_time": "2022-05-17T18:19:01.922Z"
   },
   {
    "duration": 12,
    "start_time": "2022-05-17T18:19:01.938Z"
   },
   {
    "duration": 58,
    "start_time": "2022-05-17T18:19:01.952Z"
   },
   {
    "duration": 6,
    "start_time": "2022-05-17T18:19:02.011Z"
   },
   {
    "duration": 20,
    "start_time": "2022-05-17T18:19:02.018Z"
   },
   {
    "duration": 6,
    "start_time": "2022-05-17T18:19:02.040Z"
   },
   {
    "duration": 28,
    "start_time": "2022-05-17T18:19:02.047Z"
   },
   {
    "duration": 5,
    "start_time": "2022-05-17T18:19:02.076Z"
   },
   {
    "duration": 15,
    "start_time": "2022-05-17T18:19:02.082Z"
   },
   {
    "duration": 38,
    "start_time": "2022-05-17T18:19:02.099Z"
   },
   {
    "duration": 32,
    "start_time": "2022-05-17T18:19:02.140Z"
   },
   {
    "duration": 8,
    "start_time": "2022-05-17T18:19:02.174Z"
   },
   {
    "duration": 5,
    "start_time": "2022-05-17T18:19:02.184Z"
   },
   {
    "duration": 20,
    "start_time": "2022-05-17T18:19:02.191Z"
   },
   {
    "duration": 12,
    "start_time": "2022-05-17T18:19:02.212Z"
   },
   {
    "duration": 67,
    "start_time": "2022-05-17T18:19:02.225Z"
   },
   {
    "duration": 251,
    "start_time": "2022-05-17T18:19:02.294Z"
   },
   {
    "duration": 39,
    "start_time": "2022-05-17T18:19:02.546Z"
   },
   {
    "duration": 34,
    "start_time": "2022-05-17T18:19:02.586Z"
   },
   {
    "duration": 557,
    "start_time": "2022-05-17T18:19:02.621Z"
   },
   {
    "duration": 143,
    "start_time": "2022-05-17T18:19:03.180Z"
   },
   {
    "duration": 126,
    "start_time": "2022-05-17T18:19:03.324Z"
   },
   {
    "duration": 211,
    "start_time": "2022-05-17T18:19:03.452Z"
   },
   {
    "duration": 157,
    "start_time": "2022-05-17T18:19:03.670Z"
   },
   {
    "duration": 6,
    "start_time": "2022-05-17T18:19:03.829Z"
   },
   {
    "duration": 151,
    "start_time": "2022-05-17T18:19:03.836Z"
   },
   {
    "duration": 4,
    "start_time": "2022-05-17T18:19:03.988Z"
   },
   {
    "duration": 9,
    "start_time": "2022-05-17T18:19:03.994Z"
   },
   {
    "duration": 6,
    "start_time": "2022-05-17T18:19:04.005Z"
   },
   {
    "duration": 60,
    "start_time": "2022-05-17T18:19:04.012Z"
   },
   {
    "duration": 32,
    "start_time": "2022-05-17T18:19:04.073Z"
   },
   {
    "duration": 3,
    "start_time": "2022-05-17T18:19:04.107Z"
   },
   {
    "duration": 153,
    "start_time": "2022-05-17T18:19:04.112Z"
   },
   {
    "duration": 29,
    "start_time": "2022-05-17T18:19:04.270Z"
   },
   {
    "duration": 3,
    "start_time": "2022-05-17T18:19:04.301Z"
   },
   {
    "duration": 212,
    "start_time": "2022-05-17T18:19:04.306Z"
   },
   {
    "duration": 18,
    "start_time": "2022-05-17T18:19:04.519Z"
   },
   {
    "duration": 7,
    "start_time": "2022-05-17T18:19:04.540Z"
   },
   {
    "duration": 61,
    "start_time": "2022-05-17T18:19:04.548Z"
   },
   {
    "duration": 36,
    "start_time": "2022-05-17T18:19:04.611Z"
   },
   {
    "duration": 24,
    "start_time": "2022-05-17T18:19:04.648Z"
   },
   {
    "duration": 31,
    "start_time": "2022-05-17T18:19:04.673Z"
   },
   {
    "duration": 6,
    "start_time": "2022-05-17T18:19:04.705Z"
   },
   {
    "duration": 5,
    "start_time": "2022-05-17T18:19:04.713Z"
   },
   {
    "duration": 12,
    "start_time": "2022-05-17T18:19:04.719Z"
   },
   {
    "duration": 50,
    "start_time": "2022-05-17T18:19:04.732Z"
   },
   {
    "duration": 111,
    "start_time": "2022-05-17T18:22:16.313Z"
   },
   {
    "duration": 1207,
    "start_time": "2022-05-19T16:04:11.345Z"
   },
   {
    "duration": 17,
    "start_time": "2022-05-19T16:04:12.554Z"
   },
   {
    "duration": 22,
    "start_time": "2022-05-19T16:04:12.573Z"
   },
   {
    "duration": 7,
    "start_time": "2022-05-19T16:04:12.598Z"
   },
   {
    "duration": 17,
    "start_time": "2022-05-19T16:04:12.608Z"
   },
   {
    "duration": 79,
    "start_time": "2022-05-19T16:04:12.627Z"
   },
   {
    "duration": 9,
    "start_time": "2022-05-19T16:04:12.708Z"
   },
   {
    "duration": 30,
    "start_time": "2022-05-19T16:04:12.720Z"
   },
   {
    "duration": 18,
    "start_time": "2022-05-19T16:04:12.752Z"
   },
   {
    "duration": 10,
    "start_time": "2022-05-19T16:04:12.793Z"
   },
   {
    "duration": 7,
    "start_time": "2022-05-19T16:04:12.805Z"
   },
   {
    "duration": 19,
    "start_time": "2022-05-19T16:04:12.814Z"
   },
   {
    "duration": 92,
    "start_time": "2022-05-19T16:04:12.835Z"
   },
   {
    "duration": 8,
    "start_time": "2022-05-19T16:04:12.929Z"
   },
   {
    "duration": 10,
    "start_time": "2022-05-19T16:04:12.939Z"
   },
   {
    "duration": 8,
    "start_time": "2022-05-19T16:04:12.951Z"
   },
   {
    "duration": 41,
    "start_time": "2022-05-19T16:04:12.961Z"
   },
   {
    "duration": 13,
    "start_time": "2022-05-19T16:04:13.005Z"
   },
   {
    "duration": 78,
    "start_time": "2022-05-19T16:04:13.020Z"
   },
   {
    "duration": 313,
    "start_time": "2022-05-19T16:04:13.100Z"
   },
   {
    "duration": 44,
    "start_time": "2022-05-19T16:04:13.415Z"
   },
   {
    "duration": 61,
    "start_time": "2022-05-19T16:04:13.461Z"
   },
   {
    "duration": 210,
    "start_time": "2022-05-19T16:04:13.525Z"
   },
   {
    "duration": 191,
    "start_time": "2022-05-19T16:04:13.738Z"
   },
   {
    "duration": 176,
    "start_time": "2022-05-19T16:04:13.931Z"
   },
   {
    "duration": 240,
    "start_time": "2022-05-19T16:04:14.109Z"
   },
   {
    "duration": 199,
    "start_time": "2022-05-19T16:04:14.352Z"
   },
   {
    "duration": 7,
    "start_time": "2022-05-19T16:04:14.555Z"
   },
   {
    "duration": 196,
    "start_time": "2022-05-19T16:04:14.564Z"
   },
   {
    "duration": 5,
    "start_time": "2022-05-19T16:04:14.762Z"
   },
   {
    "duration": 9,
    "start_time": "2022-05-19T16:04:14.769Z"
   },
   {
    "duration": 23,
    "start_time": "2022-05-19T16:04:14.779Z"
   },
   {
    "duration": 54,
    "start_time": "2022-05-19T16:04:14.803Z"
   },
   {
    "duration": 63,
    "start_time": "2022-05-19T16:04:14.859Z"
   },
   {
    "duration": 4,
    "start_time": "2022-05-19T16:04:14.923Z"
   },
   {
    "duration": 186,
    "start_time": "2022-05-19T16:04:14.929Z"
   },
   {
    "duration": 37,
    "start_time": "2022-05-19T16:04:15.117Z"
   },
   {
    "duration": 5,
    "start_time": "2022-05-19T16:04:15.156Z"
   },
   {
    "duration": 282,
    "start_time": "2022-05-19T16:04:15.163Z"
   },
   {
    "duration": 21,
    "start_time": "2022-05-19T16:04:15.447Z"
   },
   {
    "duration": 26,
    "start_time": "2022-05-19T16:04:15.470Z"
   },
   {
    "duration": 52,
    "start_time": "2022-05-19T16:04:15.498Z"
   },
   {
    "duration": 146,
    "start_time": "2022-05-19T16:04:15.553Z"
   },
   {
    "duration": 8,
    "start_time": "2022-05-19T16:04:15.702Z"
   },
   {
    "duration": 55,
    "start_time": "2022-05-19T16:04:15.712Z"
   },
   {
    "duration": 32,
    "start_time": "2022-05-19T16:04:15.769Z"
   },
   {
    "duration": 9,
    "start_time": "2022-05-19T16:04:15.802Z"
   },
   {
    "duration": 18,
    "start_time": "2022-05-19T16:04:15.813Z"
   },
   {
    "duration": 19,
    "start_time": "2022-05-19T16:04:15.833Z"
   },
   {
    "duration": 367,
    "start_time": "2022-05-19T16:06:35.608Z"
   },
   {
    "duration": 186,
    "start_time": "2022-05-19T16:09:16.480Z"
   },
   {
    "duration": 174,
    "start_time": "2022-05-19T16:09:56.568Z"
   },
   {
    "duration": 24,
    "start_time": "2022-05-19T16:12:01.657Z"
   },
   {
    "duration": 99,
    "start_time": "2022-05-19T16:38:44.862Z"
   },
   {
    "duration": 131,
    "start_time": "2022-05-19T16:39:01.082Z"
   },
   {
    "duration": 8,
    "start_time": "2022-05-19T16:40:00.901Z"
   },
   {
    "duration": 132,
    "start_time": "2022-05-19T16:40:33.864Z"
   },
   {
    "duration": 138,
    "start_time": "2022-05-19T16:41:37.072Z"
   },
   {
    "duration": 7,
    "start_time": "2022-05-19T16:43:51.042Z"
   },
   {
    "duration": 124,
    "start_time": "2022-05-19T16:45:22.862Z"
   },
   {
    "duration": 128,
    "start_time": "2022-05-19T16:46:36.142Z"
   },
   {
    "duration": 162,
    "start_time": "2022-05-19T16:46:58.907Z"
   },
   {
    "duration": 15,
    "start_time": "2022-05-19T16:47:38.503Z"
   },
   {
    "duration": 184,
    "start_time": "2022-05-19T16:53:39.333Z"
   },
   {
    "duration": 116,
    "start_time": "2022-05-19T16:54:15.435Z"
   },
   {
    "duration": 132,
    "start_time": "2022-05-19T16:55:29.793Z"
   },
   {
    "duration": 145,
    "start_time": "2022-05-19T16:55:54.593Z"
   },
   {
    "duration": 129,
    "start_time": "2022-05-19T16:56:23.476Z"
   },
   {
    "duration": 218,
    "start_time": "2022-05-19T16:56:56.028Z"
   },
   {
    "duration": 132,
    "start_time": "2022-05-19T16:57:25.696Z"
   },
   {
    "duration": 126,
    "start_time": "2022-05-19T16:59:49.714Z"
   },
   {
    "duration": 150,
    "start_time": "2022-05-19T17:00:06.944Z"
   },
   {
    "duration": 122,
    "start_time": "2022-05-19T17:08:38.542Z"
   },
   {
    "duration": 135,
    "start_time": "2022-05-19T17:09:39.492Z"
   },
   {
    "duration": 124,
    "start_time": "2022-05-19T17:13:23.872Z"
   },
   {
    "duration": 135,
    "start_time": "2022-05-19T17:14:32.545Z"
   },
   {
    "duration": 11,
    "start_time": "2022-05-19T17:15:33.280Z"
   },
   {
    "duration": 147,
    "start_time": "2022-05-19T17:16:06.573Z"
   },
   {
    "duration": 8,
    "start_time": "2022-05-19T17:17:50.120Z"
   },
   {
    "duration": 115,
    "start_time": "2022-05-19T17:19:07.789Z"
   },
   {
    "duration": 387,
    "start_time": "2022-05-19T17:24:45.899Z"
   },
   {
    "duration": 355,
    "start_time": "2022-05-19T17:24:50.781Z"
   },
   {
    "duration": 403,
    "start_time": "2022-05-19T17:25:41.007Z"
   },
   {
    "duration": 53,
    "start_time": "2022-05-19T17:28:25.886Z"
   },
   {
    "duration": 46,
    "start_time": "2022-05-19T17:37:02.865Z"
   },
   {
    "duration": 218,
    "start_time": "2022-05-19T17:38:34.301Z"
   },
   {
    "duration": 191,
    "start_time": "2022-05-19T17:38:53.167Z"
   },
   {
    "duration": 31,
    "start_time": "2022-05-19T17:51:36.806Z"
   },
   {
    "duration": 124,
    "start_time": "2022-05-19T17:52:16.070Z"
   },
   {
    "duration": 229,
    "start_time": "2022-05-19T18:00:24.013Z"
   },
   {
    "duration": 169,
    "start_time": "2022-05-19T18:01:04.153Z"
   },
   {
    "duration": 136,
    "start_time": "2022-05-19T18:06:54.534Z"
   },
   {
    "duration": 148,
    "start_time": "2022-05-19T18:07:24.085Z"
   },
   {
    "duration": 122,
    "start_time": "2022-05-19T18:09:29.708Z"
   },
   {
    "duration": 117,
    "start_time": "2022-05-19T18:10:04.737Z"
   },
   {
    "duration": 112,
    "start_time": "2022-05-19T18:10:17.134Z"
   },
   {
    "duration": 151,
    "start_time": "2022-05-19T18:10:30.304Z"
   },
   {
    "duration": 137,
    "start_time": "2022-05-19T18:11:10.297Z"
   },
   {
    "duration": 168,
    "start_time": "2022-05-19T18:11:20.609Z"
   },
   {
    "duration": 264,
    "start_time": "2022-05-19T18:11:47.916Z"
   },
   {
    "duration": 138,
    "start_time": "2022-05-19T18:12:05.256Z"
   },
   {
    "duration": 126,
    "start_time": "2022-05-19T18:13:01.652Z"
   },
   {
    "duration": 115,
    "start_time": "2022-05-19T18:13:07.631Z"
   },
   {
    "duration": 133,
    "start_time": "2022-05-19T18:13:37.297Z"
   },
   {
    "duration": 181,
    "start_time": "2022-05-19T18:15:34.543Z"
   },
   {
    "duration": 128,
    "start_time": "2022-05-19T18:16:42.086Z"
   },
   {
    "duration": 113,
    "start_time": "2022-05-19T18:16:54.513Z"
   },
   {
    "duration": 102,
    "start_time": "2022-05-19T18:17:20.443Z"
   },
   {
    "duration": 136,
    "start_time": "2022-05-19T18:17:24.893Z"
   },
   {
    "duration": 141,
    "start_time": "2022-05-19T18:17:38.403Z"
   },
   {
    "duration": 112,
    "start_time": "2022-05-19T18:18:05.430Z"
   },
   {
    "duration": 113,
    "start_time": "2022-05-19T18:18:26.781Z"
   },
   {
    "duration": 162,
    "start_time": "2022-05-19T18:21:20.499Z"
   },
   {
    "duration": 164,
    "start_time": "2022-05-19T18:24:14.994Z"
   },
   {
    "duration": 174,
    "start_time": "2022-05-19T18:25:22.514Z"
   },
   {
    "duration": 226,
    "start_time": "2022-05-19T18:26:14.938Z"
   },
   {
    "duration": 21,
    "start_time": "2022-05-19T18:31:35.072Z"
   },
   {
    "duration": 19,
    "start_time": "2022-05-19T18:33:02.624Z"
   },
   {
    "duration": 180,
    "start_time": "2022-05-19T18:35:00.079Z"
   },
   {
    "duration": 162,
    "start_time": "2022-05-19T18:36:10.726Z"
   },
   {
    "duration": 68,
    "start_time": "2022-05-19T18:36:30.799Z"
   },
   {
    "duration": 113,
    "start_time": "2022-05-19T18:42:23.750Z"
   },
   {
    "duration": 8,
    "start_time": "2022-05-19T18:43:00.956Z"
   },
   {
    "duration": 5,
    "start_time": "2022-05-19T18:43:07.216Z"
   },
   {
    "duration": 8,
    "start_time": "2022-05-19T18:43:26.118Z"
   },
   {
    "duration": 11,
    "start_time": "2022-05-19T18:43:58.463Z"
   },
   {
    "duration": 8,
    "start_time": "2022-05-19T18:50:04.869Z"
   },
   {
    "duration": 23,
    "start_time": "2022-05-19T18:50:26.779Z"
   },
   {
    "duration": 8,
    "start_time": "2022-05-19T18:50:41.042Z"
   },
   {
    "duration": 62,
    "start_time": "2022-05-19T18:51:38.973Z"
   },
   {
    "duration": 23,
    "start_time": "2022-05-19T18:51:59.389Z"
   },
   {
    "duration": 7,
    "start_time": "2022-05-19T18:52:06.477Z"
   },
   {
    "duration": 9,
    "start_time": "2022-05-19T18:53:24.452Z"
   },
   {
    "duration": 11,
    "start_time": "2022-05-19T18:56:06.081Z"
   },
   {
    "duration": 8,
    "start_time": "2022-05-19T18:56:24.713Z"
   },
   {
    "duration": 45,
    "start_time": "2022-05-19T18:57:33.624Z"
   },
   {
    "duration": 41,
    "start_time": "2022-05-19T18:58:11.248Z"
   },
   {
    "duration": 60,
    "start_time": "2022-05-19T18:59:54.082Z"
   },
   {
    "duration": 673,
    "start_time": "2022-05-19T19:01:57.687Z"
   },
   {
    "duration": 191,
    "start_time": "2022-05-19T19:02:41.125Z"
   },
   {
    "duration": 222,
    "start_time": "2022-05-19T19:04:17.193Z"
   },
   {
    "duration": 242,
    "start_time": "2022-05-19T19:05:38.801Z"
   },
   {
    "duration": 51,
    "start_time": "2022-05-19T19:06:30.802Z"
   },
   {
    "duration": 8,
    "start_time": "2022-05-19T19:06:48.548Z"
   },
   {
    "duration": 697,
    "start_time": "2022-05-19T19:08:47.050Z"
   },
   {
    "duration": 782,
    "start_time": "2022-05-19T19:08:59.690Z"
   },
   {
    "duration": 1054,
    "start_time": "2022-05-19T19:11:02.955Z"
   },
   {
    "duration": 759,
    "start_time": "2022-05-19T19:11:32.263Z"
   },
   {
    "duration": 881,
    "start_time": "2022-05-19T19:11:47.071Z"
   },
   {
    "duration": 14,
    "start_time": "2022-05-19T19:11:47.955Z"
   },
   {
    "duration": 25,
    "start_time": "2022-05-19T19:11:47.973Z"
   },
   {
    "duration": 6,
    "start_time": "2022-05-19T19:11:48.001Z"
   },
   {
    "duration": 16,
    "start_time": "2022-05-19T19:11:48.009Z"
   },
   {
    "duration": 82,
    "start_time": "2022-05-19T19:11:48.028Z"
   },
   {
    "duration": 7,
    "start_time": "2022-05-19T19:11:48.112Z"
   },
   {
    "duration": 27,
    "start_time": "2022-05-19T19:11:48.121Z"
   },
   {
    "duration": 7,
    "start_time": "2022-05-19T19:11:48.151Z"
   },
   {
    "duration": 34,
    "start_time": "2022-05-19T19:11:48.160Z"
   },
   {
    "duration": 8,
    "start_time": "2022-05-19T19:11:48.196Z"
   },
   {
    "duration": 24,
    "start_time": "2022-05-19T19:11:48.206Z"
   },
   {
    "duration": 68,
    "start_time": "2022-05-19T19:11:48.234Z"
   },
   {
    "duration": 306,
    "start_time": "2022-05-19T19:11:48.304Z"
   },
   {
    "duration": 7,
    "start_time": "2022-05-19T19:11:48.612Z"
   },
   {
    "duration": 10,
    "start_time": "2022-05-19T19:11:48.621Z"
   },
   {
    "duration": 11,
    "start_time": "2022-05-19T19:11:48.632Z"
   },
   {
    "duration": 8,
    "start_time": "2022-05-19T19:11:48.644Z"
   },
   {
    "duration": 10,
    "start_time": "2022-05-19T19:11:48.654Z"
   },
   {
    "duration": 91,
    "start_time": "2022-05-19T19:11:48.666Z"
   },
   {
    "duration": 322,
    "start_time": "2022-05-19T19:11:48.758Z"
   },
   {
    "duration": 61,
    "start_time": "2022-05-19T19:11:49.082Z"
   },
   {
    "duration": 69,
    "start_time": "2022-05-19T19:11:49.146Z"
   },
   {
    "duration": 379,
    "start_time": "2022-05-19T19:11:49.218Z"
   },
   {
    "duration": 313,
    "start_time": "2022-05-19T19:11:49.598Z"
   },
   {
    "duration": 290,
    "start_time": "2022-05-19T19:11:49.912Z"
   },
   {
    "duration": 204,
    "start_time": "2022-05-19T19:11:50.203Z"
   },
   {
    "duration": 187,
    "start_time": "2022-05-19T19:11:50.409Z"
   },
   {
    "duration": 6,
    "start_time": "2022-05-19T19:11:50.598Z"
   },
   {
    "duration": 207,
    "start_time": "2022-05-19T19:11:50.606Z"
   },
   {
    "duration": 5,
    "start_time": "2022-05-19T19:11:50.814Z"
   },
   {
    "duration": 14,
    "start_time": "2022-05-19T19:11:50.820Z"
   },
   {
    "duration": 21,
    "start_time": "2022-05-19T19:11:50.835Z"
   },
   {
    "duration": 146,
    "start_time": "2022-05-19T19:11:50.858Z"
   },
   {
    "duration": 128,
    "start_time": "2022-05-19T19:11:51.006Z"
   },
   {
    "duration": 204,
    "start_time": "2022-05-19T19:11:51.136Z"
   },
   {
    "duration": 116,
    "start_time": "2022-05-19T19:11:51.342Z"
   },
   {
    "duration": 120,
    "start_time": "2022-05-19T19:11:51.460Z"
   },
   {
    "duration": 143,
    "start_time": "2022-05-19T19:11:51.582Z"
   },
   {
    "duration": 121,
    "start_time": "2022-05-19T19:11:51.730Z"
   },
   {
    "duration": 123,
    "start_time": "2022-05-19T19:11:51.853Z"
   },
   {
    "duration": 46,
    "start_time": "2022-05-19T19:11:51.977Z"
   },
   {
    "duration": 163,
    "start_time": "2022-05-19T19:11:52.025Z"
   },
   {
    "duration": 35,
    "start_time": "2022-05-19T19:11:52.190Z"
   },
   {
    "duration": 5,
    "start_time": "2022-05-19T19:11:52.227Z"
   },
   {
    "duration": 180,
    "start_time": "2022-05-19T19:11:52.233Z"
   },
   {
    "duration": 33,
    "start_time": "2022-05-19T19:11:52.415Z"
   },
   {
    "duration": 4,
    "start_time": "2022-05-19T19:11:52.449Z"
   },
   {
    "duration": 200,
    "start_time": "2022-05-19T19:11:52.455Z"
   },
   {
    "duration": 18,
    "start_time": "2022-05-19T19:11:52.657Z"
   },
   {
    "duration": 171,
    "start_time": "2022-05-19T19:11:52.677Z"
   },
   {
    "duration": 7,
    "start_time": "2022-05-19T19:11:52.850Z"
   },
   {
    "duration": 51,
    "start_time": "2022-05-19T19:11:52.858Z"
   },
   {
    "duration": 7,
    "start_time": "2022-05-19T19:11:52.911Z"
   },
   {
    "duration": 234,
    "start_time": "2022-05-19T19:11:52.919Z"
   },
   {
    "duration": 0,
    "start_time": "2022-05-19T19:11:53.155Z"
   },
   {
    "duration": 0,
    "start_time": "2022-05-19T19:11:53.156Z"
   },
   {
    "duration": 0,
    "start_time": "2022-05-19T19:11:53.157Z"
   },
   {
    "duration": 0,
    "start_time": "2022-05-19T19:11:53.158Z"
   },
   {
    "duration": 0,
    "start_time": "2022-05-19T19:11:53.159Z"
   },
   {
    "duration": 0,
    "start_time": "2022-05-19T19:11:53.160Z"
   },
   {
    "duration": 0,
    "start_time": "2022-05-19T19:11:53.161Z"
   },
   {
    "duration": 0,
    "start_time": "2022-05-19T19:11:53.162Z"
   },
   {
    "duration": 151,
    "start_time": "2022-05-19T19:12:01.775Z"
   },
   {
    "duration": 37,
    "start_time": "2022-05-19T19:13:05.906Z"
   },
   {
    "duration": 43,
    "start_time": "2022-05-19T19:13:52.849Z"
   },
   {
    "duration": 46,
    "start_time": "2022-05-19T19:14:28.533Z"
   },
   {
    "duration": 8,
    "start_time": "2022-05-19T19:15:13.044Z"
   },
   {
    "duration": 41,
    "start_time": "2022-05-19T19:15:44.249Z"
   },
   {
    "duration": 44,
    "start_time": "2022-05-19T19:16:59.383Z"
   },
   {
    "duration": 40,
    "start_time": "2022-05-19T19:17:27.809Z"
   },
   {
    "duration": 40,
    "start_time": "2022-05-19T19:18:10.548Z"
   },
   {
    "duration": 44,
    "start_time": "2022-05-19T19:18:57.122Z"
   },
   {
    "duration": 39,
    "start_time": "2022-05-19T19:22:54.573Z"
   },
   {
    "duration": 47,
    "start_time": "2022-05-19T19:23:12.627Z"
   },
   {
    "duration": 39,
    "start_time": "2022-05-19T19:27:43.653Z"
   },
   {
    "duration": 8,
    "start_time": "2022-05-19T19:34:26.381Z"
   },
   {
    "duration": 41,
    "start_time": "2022-05-19T19:34:32.537Z"
   },
   {
    "duration": 8,
    "start_time": "2022-05-19T19:34:38.672Z"
   },
   {
    "duration": 7,
    "start_time": "2022-05-19T19:34:55.152Z"
   },
   {
    "duration": 19,
    "start_time": "2022-05-19T19:35:01.959Z"
   },
   {
    "duration": 42,
    "start_time": "2022-05-19T19:35:30.166Z"
   },
   {
    "duration": 19,
    "start_time": "2022-05-19T19:35:53.977Z"
   },
   {
    "duration": 15,
    "start_time": "2022-05-19T19:36:32.845Z"
   },
   {
    "duration": 971,
    "start_time": "2022-05-19T19:39:11.228Z"
   },
   {
    "duration": 18,
    "start_time": "2022-05-19T19:39:12.201Z"
   },
   {
    "duration": 10,
    "start_time": "2022-05-19T19:39:12.221Z"
   },
   {
    "duration": 8,
    "start_time": "2022-05-19T19:39:12.233Z"
   },
   {
    "duration": 11,
    "start_time": "2022-05-19T19:39:12.244Z"
   },
   {
    "duration": 93,
    "start_time": "2022-05-19T19:39:12.257Z"
   },
   {
    "duration": 7,
    "start_time": "2022-05-19T19:39:12.352Z"
   },
   {
    "duration": 41,
    "start_time": "2022-05-19T19:39:12.361Z"
   },
   {
    "duration": 9,
    "start_time": "2022-05-19T19:39:12.404Z"
   },
   {
    "duration": 11,
    "start_time": "2022-05-19T19:39:12.415Z"
   },
   {
    "duration": 8,
    "start_time": "2022-05-19T19:39:12.428Z"
   },
   {
    "duration": 20,
    "start_time": "2022-05-19T19:39:12.438Z"
   },
   {
    "duration": 91,
    "start_time": "2022-05-19T19:39:12.460Z"
   },
   {
    "duration": 330,
    "start_time": "2022-05-19T19:39:12.554Z"
   },
   {
    "duration": 13,
    "start_time": "2022-05-19T19:39:12.885Z"
   },
   {
    "duration": 22,
    "start_time": "2022-05-19T19:39:12.900Z"
   },
   {
    "duration": 13,
    "start_time": "2022-05-19T19:39:12.924Z"
   },
   {
    "duration": 17,
    "start_time": "2022-05-19T19:39:12.939Z"
   },
   {
    "duration": 16,
    "start_time": "2022-05-19T19:39:12.958Z"
   },
   {
    "duration": 82,
    "start_time": "2022-05-19T19:39:12.976Z"
   },
   {
    "duration": 311,
    "start_time": "2022-05-19T19:39:13.061Z"
   },
   {
    "duration": 53,
    "start_time": "2022-05-19T19:39:13.374Z"
   },
   {
    "duration": 44,
    "start_time": "2022-05-19T19:39:13.429Z"
   },
   {
    "duration": 206,
    "start_time": "2022-05-19T19:39:13.475Z"
   },
   {
    "duration": 187,
    "start_time": "2022-05-19T19:39:13.683Z"
   },
   {
    "duration": 169,
    "start_time": "2022-05-19T19:39:13.872Z"
   },
   {
    "duration": 206,
    "start_time": "2022-05-19T19:39:14.043Z"
   },
   {
    "duration": 220,
    "start_time": "2022-05-19T19:39:14.251Z"
   },
   {
    "duration": 9,
    "start_time": "2022-05-19T19:39:14.473Z"
   },
   {
    "duration": 204,
    "start_time": "2022-05-19T19:39:14.485Z"
   },
   {
    "duration": 7,
    "start_time": "2022-05-19T19:39:14.690Z"
   },
   {
    "duration": 8,
    "start_time": "2022-05-19T19:39:14.699Z"
   },
   {
    "duration": 27,
    "start_time": "2022-05-19T19:39:14.708Z"
   },
   {
    "duration": 159,
    "start_time": "2022-05-19T19:39:14.737Z"
   },
   {
    "duration": 146,
    "start_time": "2022-05-19T19:39:14.898Z"
   },
   {
    "duration": 212,
    "start_time": "2022-05-19T19:39:15.046Z"
   },
   {
    "duration": 136,
    "start_time": "2022-05-19T19:39:15.260Z"
   },
   {
    "duration": 129,
    "start_time": "2022-05-19T19:39:15.398Z"
   },
   {
    "duration": 140,
    "start_time": "2022-05-19T19:39:15.529Z"
   },
   {
    "duration": 150,
    "start_time": "2022-05-19T19:39:15.671Z"
   },
   {
    "duration": 137,
    "start_time": "2022-05-19T19:39:15.825Z"
   },
   {
    "duration": 55,
    "start_time": "2022-05-19T19:39:15.965Z"
   },
   {
    "duration": 177,
    "start_time": "2022-05-19T19:39:16.022Z"
   },
   {
    "duration": 34,
    "start_time": "2022-05-19T19:39:16.201Z"
   },
   {
    "duration": 5,
    "start_time": "2022-05-19T19:39:16.237Z"
   },
   {
    "duration": 190,
    "start_time": "2022-05-19T19:39:16.245Z"
   },
   {
    "duration": 35,
    "start_time": "2022-05-19T19:39:16.437Z"
   },
   {
    "duration": 23,
    "start_time": "2022-05-19T19:39:16.473Z"
   },
   {
    "duration": 189,
    "start_time": "2022-05-19T19:39:16.498Z"
   },
   {
    "duration": 22,
    "start_time": "2022-05-19T19:39:16.689Z"
   },
   {
    "duration": 197,
    "start_time": "2022-05-19T19:39:16.714Z"
   },
   {
    "duration": 7,
    "start_time": "2022-05-19T19:39:16.913Z"
   },
   {
    "duration": 52,
    "start_time": "2022-05-19T19:39:16.922Z"
   },
   {
    "duration": 25,
    "start_time": "2022-05-19T19:39:16.975Z"
   },
   {
    "duration": 47,
    "start_time": "2022-05-19T19:39:17.002Z"
   },
   {
    "duration": 8,
    "start_time": "2022-05-19T19:39:17.051Z"
   },
   {
    "duration": 66,
    "start_time": "2022-05-19T19:39:17.061Z"
   },
   {
    "duration": 9,
    "start_time": "2022-05-19T19:39:17.129Z"
   },
   {
    "duration": 10,
    "start_time": "2022-05-19T19:39:17.140Z"
   },
   {
    "duration": 17,
    "start_time": "2022-05-19T19:39:17.152Z"
   },
   {
    "duration": 18,
    "start_time": "2022-05-19T19:39:17.195Z"
   },
   {
    "duration": 792,
    "start_time": "2022-05-19T19:41:00.023Z"
   },
   {
    "duration": 618,
    "start_time": "2022-05-19T19:41:41.894Z"
   },
   {
    "duration": 190,
    "start_time": "2022-05-19T19:42:48.798Z"
   },
   {
    "duration": 8,
    "start_time": "2022-05-19T19:51:05.323Z"
   },
   {
    "duration": 8,
    "start_time": "2022-05-19T19:52:53.106Z"
   },
   {
    "duration": 9,
    "start_time": "2022-05-19T19:54:13.043Z"
   },
   {
    "duration": 8,
    "start_time": "2022-05-19T19:54:39.525Z"
   },
   {
    "duration": 6,
    "start_time": "2022-05-19T19:54:46.251Z"
   },
   {
    "duration": 21,
    "start_time": "2022-05-19T19:55:10.845Z"
   },
   {
    "duration": 17,
    "start_time": "2022-05-19T19:55:26.577Z"
   },
   {
    "duration": 482,
    "start_time": "2022-05-19T19:57:44.568Z"
   },
   {
    "duration": 602,
    "start_time": "2022-05-19T19:58:13.693Z"
   },
   {
    "duration": 173,
    "start_time": "2022-05-19T20:01:02.323Z"
   },
   {
    "duration": 745,
    "start_time": "2022-05-19T20:02:35.824Z"
   },
   {
    "duration": 131,
    "start_time": "2022-05-19T20:03:09.165Z"
   },
   {
    "duration": 159,
    "start_time": "2022-05-19T20:03:59.563Z"
   },
   {
    "duration": 10,
    "start_time": "2022-05-19T20:22:20.070Z"
   },
   {
    "duration": 19,
    "start_time": "2022-05-19T20:25:47.172Z"
   },
   {
    "duration": 67,
    "start_time": "2022-05-20T03:42:04.140Z"
   },
   {
    "duration": 1408,
    "start_time": "2022-05-20T03:42:27.178Z"
   },
   {
    "duration": 20,
    "start_time": "2022-05-20T03:42:28.588Z"
   },
   {
    "duration": 12,
    "start_time": "2022-05-20T03:42:28.610Z"
   },
   {
    "duration": 18,
    "start_time": "2022-05-20T03:42:28.624Z"
   },
   {
    "duration": 22,
    "start_time": "2022-05-20T03:42:28.645Z"
   },
   {
    "duration": 61,
    "start_time": "2022-05-20T03:42:28.669Z"
   },
   {
    "duration": 16,
    "start_time": "2022-05-20T03:42:28.732Z"
   },
   {
    "duration": 43,
    "start_time": "2022-05-20T03:42:28.750Z"
   },
   {
    "duration": 9,
    "start_time": "2022-05-20T03:42:28.795Z"
   },
   {
    "duration": 8,
    "start_time": "2022-05-20T03:42:28.806Z"
   },
   {
    "duration": 6,
    "start_time": "2022-05-20T03:42:28.815Z"
   },
   {
    "duration": 41,
    "start_time": "2022-05-20T03:42:28.823Z"
   },
   {
    "duration": 61,
    "start_time": "2022-05-20T03:42:28.867Z"
   },
   {
    "duration": 292,
    "start_time": "2022-05-20T03:42:28.930Z"
   },
   {
    "duration": 7,
    "start_time": "2022-05-20T03:42:29.223Z"
   },
   {
    "duration": 33,
    "start_time": "2022-05-20T03:42:29.232Z"
   },
   {
    "duration": 18,
    "start_time": "2022-05-20T03:42:29.267Z"
   },
   {
    "duration": 6,
    "start_time": "2022-05-20T03:42:29.287Z"
   },
   {
    "duration": 11,
    "start_time": "2022-05-20T03:42:29.294Z"
   },
   {
    "duration": 79,
    "start_time": "2022-05-20T03:42:29.307Z"
   },
   {
    "duration": 318,
    "start_time": "2022-05-20T03:42:29.387Z"
   },
   {
    "duration": 57,
    "start_time": "2022-05-20T03:42:29.706Z"
   },
   {
    "duration": 47,
    "start_time": "2022-05-20T03:42:29.765Z"
   },
   {
    "duration": 218,
    "start_time": "2022-05-20T03:42:29.814Z"
   },
   {
    "duration": 184,
    "start_time": "2022-05-20T03:42:30.033Z"
   },
   {
    "duration": 186,
    "start_time": "2022-05-20T03:42:30.220Z"
   },
   {
    "duration": 179,
    "start_time": "2022-05-20T03:42:30.408Z"
   },
   {
    "duration": 190,
    "start_time": "2022-05-20T03:42:30.588Z"
   },
   {
    "duration": 7,
    "start_time": "2022-05-20T03:42:30.780Z"
   },
   {
    "duration": 205,
    "start_time": "2022-05-20T03:42:30.789Z"
   },
   {
    "duration": 5,
    "start_time": "2022-05-20T03:42:30.996Z"
   },
   {
    "duration": 17,
    "start_time": "2022-05-20T03:42:31.002Z"
   },
   {
    "duration": 18,
    "start_time": "2022-05-20T03:42:31.021Z"
   },
   {
    "duration": 141,
    "start_time": "2022-05-20T03:42:31.041Z"
   },
   {
    "duration": 144,
    "start_time": "2022-05-20T03:42:31.184Z"
   },
   {
    "duration": 189,
    "start_time": "2022-05-20T03:42:31.329Z"
   },
   {
    "duration": 112,
    "start_time": "2022-05-20T03:42:31.519Z"
   },
   {
    "duration": 143,
    "start_time": "2022-05-20T03:42:31.632Z"
   },
   {
    "duration": 141,
    "start_time": "2022-05-20T03:42:31.778Z"
   },
   {
    "duration": 137,
    "start_time": "2022-05-20T03:42:31.921Z"
   },
   {
    "duration": 121,
    "start_time": "2022-05-20T03:42:32.063Z"
   },
   {
    "duration": 33,
    "start_time": "2022-05-20T03:42:32.186Z"
   },
   {
    "duration": 163,
    "start_time": "2022-05-20T03:42:32.221Z"
   },
   {
    "duration": 30,
    "start_time": "2022-05-20T03:42:32.386Z"
   },
   {
    "duration": 3,
    "start_time": "2022-05-20T03:42:32.417Z"
   },
   {
    "duration": 172,
    "start_time": "2022-05-20T03:42:32.422Z"
   },
   {
    "duration": 27,
    "start_time": "2022-05-20T03:42:32.596Z"
   },
   {
    "duration": 26,
    "start_time": "2022-05-20T03:42:32.624Z"
   },
   {
    "duration": 209,
    "start_time": "2022-05-20T03:42:32.651Z"
   },
   {
    "duration": 21,
    "start_time": "2022-05-20T03:42:32.866Z"
   },
   {
    "duration": 171,
    "start_time": "2022-05-20T03:42:32.888Z"
   },
   {
    "duration": 14,
    "start_time": "2022-05-20T03:42:33.063Z"
   },
   {
    "duration": 50,
    "start_time": "2022-05-20T03:42:33.079Z"
   },
   {
    "duration": 8,
    "start_time": "2022-05-20T03:42:33.131Z"
   },
   {
    "duration": 64,
    "start_time": "2022-05-20T03:42:33.152Z"
   },
   {
    "duration": 10,
    "start_time": "2022-05-20T03:42:33.217Z"
   },
   {
    "duration": 53,
    "start_time": "2022-05-20T03:42:33.228Z"
   },
   {
    "duration": 7,
    "start_time": "2022-05-20T03:42:33.283Z"
   },
   {
    "duration": 12,
    "start_time": "2022-05-20T03:42:33.292Z"
   },
   {
    "duration": 16,
    "start_time": "2022-05-20T03:42:33.305Z"
   },
   {
    "duration": 36,
    "start_time": "2022-05-20T03:42:33.323Z"
   },
   {
    "duration": 192,
    "start_time": "2022-05-20T03:42:33.361Z"
   },
   {
    "duration": 152,
    "start_time": "2022-05-20T03:43:39.731Z"
   },
   {
    "duration": 111,
    "start_time": "2022-05-20T03:44:14.918Z"
   },
   {
    "duration": 228,
    "start_time": "2022-05-20T03:45:11.059Z"
   },
   {
    "duration": 118,
    "start_time": "2022-05-20T03:46:06.077Z"
   },
   {
    "duration": 126,
    "start_time": "2022-05-20T03:47:05.057Z"
   },
   {
    "duration": 113,
    "start_time": "2022-05-20T03:48:52.769Z"
   },
   {
    "duration": 132,
    "start_time": "2022-05-20T03:54:01.728Z"
   },
   {
    "duration": 126,
    "start_time": "2022-05-20T03:54:55.889Z"
   },
   {
    "duration": 241,
    "start_time": "2022-05-20T04:04:04.069Z"
   },
   {
    "duration": 205,
    "start_time": "2022-05-20T04:55:56.764Z"
   },
   {
    "duration": 202,
    "start_time": "2022-05-20T04:59:26.584Z"
   },
   {
    "duration": 123,
    "start_time": "2022-05-20T05:00:50.726Z"
   },
   {
    "duration": 146,
    "start_time": "2022-05-20T05:01:13.957Z"
   },
   {
    "duration": 13,
    "start_time": "2022-05-20T05:03:09.740Z"
   },
   {
    "duration": 12,
    "start_time": "2022-05-20T05:03:23.457Z"
   },
   {
    "duration": 146,
    "start_time": "2022-05-20T05:03:28.576Z"
   },
   {
    "duration": 625,
    "start_time": "2022-05-20T05:03:34.089Z"
   },
   {
    "duration": 14,
    "start_time": "2022-05-20T05:08:17.246Z"
   },
   {
    "duration": 163,
    "start_time": "2022-05-20T05:09:33.414Z"
   },
   {
    "duration": 14,
    "start_time": "2022-05-20T05:14:06.120Z"
   },
   {
    "duration": 13,
    "start_time": "2022-05-20T05:14:33.883Z"
   },
   {
    "duration": 177,
    "start_time": "2022-05-20T05:15:59.805Z"
   },
   {
    "duration": 121,
    "start_time": "2022-05-20T05:17:02.934Z"
   },
   {
    "duration": 1542,
    "start_time": "2022-05-20T05:20:26.318Z"
   },
   {
    "duration": 757,
    "start_time": "2022-05-20T05:20:54.387Z"
   },
   {
    "duration": 186,
    "start_time": "2022-05-20T05:21:12.688Z"
   },
   {
    "duration": 147,
    "start_time": "2022-05-20T05:21:48.678Z"
   },
   {
    "duration": 183,
    "start_time": "2022-05-20T05:24:37.989Z"
   },
   {
    "duration": 197,
    "start_time": "2022-05-20T05:25:25.578Z"
   },
   {
    "duration": 210,
    "start_time": "2022-05-20T05:28:43.507Z"
   },
   {
    "duration": 285,
    "start_time": "2022-05-20T05:29:50.014Z"
   },
   {
    "duration": 154,
    "start_time": "2022-05-20T05:31:27.537Z"
   },
   {
    "duration": 40,
    "start_time": "2022-05-20T05:32:55.796Z"
   },
   {
    "duration": 30,
    "start_time": "2022-05-20T06:00:32.440Z"
   },
   {
    "duration": 104,
    "start_time": "2022-05-20T06:01:10.675Z"
   },
   {
    "duration": 25,
    "start_time": "2022-05-20T06:01:36.459Z"
   },
   {
    "duration": 9,
    "start_time": "2022-05-20T06:02:19.359Z"
   },
   {
    "duration": 174,
    "start_time": "2022-05-20T06:07:26.362Z"
   },
   {
    "duration": 14,
    "start_time": "2022-05-20T06:11:30.358Z"
   },
   {
    "duration": 154,
    "start_time": "2022-05-20T06:12:34.871Z"
   },
   {
    "duration": 37,
    "start_time": "2022-05-20T06:23:52.453Z"
   },
   {
    "duration": 8,
    "start_time": "2022-05-20T06:24:53.820Z"
   },
   {
    "duration": 36,
    "start_time": "2022-05-20T06:24:59.201Z"
   },
   {
    "duration": 39,
    "start_time": "2022-05-20T06:25:16.054Z"
   },
   {
    "duration": 44,
    "start_time": "2022-05-20T06:25:50.586Z"
   },
   {
    "duration": 39,
    "start_time": "2022-05-20T06:45:41.387Z"
   },
   {
    "duration": 63,
    "start_time": "2022-05-20T06:46:23.110Z"
   },
   {
    "duration": 44,
    "start_time": "2022-05-20T06:46:45.758Z"
   },
   {
    "duration": 51,
    "start_time": "2022-05-20T06:47:40.902Z"
   },
   {
    "duration": 28,
    "start_time": "2022-05-20T06:48:46.998Z"
   },
   {
    "duration": 50,
    "start_time": "2022-05-20T06:55:03.972Z"
   },
   {
    "duration": 43,
    "start_time": "2022-05-20T06:55:33.892Z"
   },
   {
    "duration": 30,
    "start_time": "2022-05-20T07:07:07.031Z"
   },
   {
    "duration": 41,
    "start_time": "2022-05-20T07:07:25.579Z"
   },
   {
    "duration": 38,
    "start_time": "2022-05-20T07:08:56.098Z"
   },
   {
    "duration": 38,
    "start_time": "2022-05-20T07:09:10.551Z"
   },
   {
    "duration": 28,
    "start_time": "2022-05-20T07:09:22.703Z"
   },
   {
    "duration": 24,
    "start_time": "2022-05-20T07:12:42.600Z"
   },
   {
    "duration": 28,
    "start_time": "2022-05-20T07:13:01.475Z"
   },
   {
    "duration": 42,
    "start_time": "2022-05-20T07:17:07.309Z"
   },
   {
    "duration": 34,
    "start_time": "2022-05-20T07:18:32.817Z"
   },
   {
    "duration": 32,
    "start_time": "2022-05-20T07:19:25.867Z"
   },
   {
    "duration": 223,
    "start_time": "2022-05-20T07:21:14.734Z"
   },
   {
    "duration": 284,
    "start_time": "2022-05-20T07:22:01.770Z"
   },
   {
    "duration": 230,
    "start_time": "2022-05-20T07:22:49.678Z"
   },
   {
    "duration": 189,
    "start_time": "2022-05-20T07:26:24.185Z"
   },
   {
    "duration": 35,
    "start_time": "2022-05-20T07:27:44.172Z"
   },
   {
    "duration": 27,
    "start_time": "2022-05-20T07:28:08.418Z"
   },
   {
    "duration": 179,
    "start_time": "2022-05-20T07:29:25.007Z"
   },
   {
    "duration": 172,
    "start_time": "2022-05-20T07:30:47.532Z"
   },
   {
    "duration": 16,
    "start_time": "2022-05-20T07:35:33.304Z"
   },
   {
    "duration": 15,
    "start_time": "2022-05-20T07:36:33.800Z"
   },
   {
    "duration": 43,
    "start_time": "2022-05-20T07:36:45.314Z"
   },
   {
    "duration": 18,
    "start_time": "2022-05-20T07:37:13.867Z"
   },
   {
    "duration": 803,
    "start_time": "2022-05-20T07:39:21.537Z"
   },
   {
    "duration": 3757,
    "start_time": "2022-05-20T07:40:08.434Z"
   },
   {
    "duration": 6917,
    "start_time": "2022-05-20T07:40:16.759Z"
   },
   {
    "duration": 1043,
    "start_time": "2022-05-20T07:41:26.604Z"
   },
   {
    "duration": 19,
    "start_time": "2022-05-20T07:41:53.497Z"
   },
   {
    "duration": 1251,
    "start_time": "2022-05-20T07:41:59.541Z"
   },
   {
    "duration": 169,
    "start_time": "2022-05-20T07:43:01.598Z"
   },
   {
    "duration": 1337,
    "start_time": "2022-05-20T07:45:24.968Z"
   },
   {
    "duration": 349,
    "start_time": "2022-05-20T07:48:57.773Z"
   },
   {
    "duration": 80,
    "start_time": "2022-05-20T07:53:15.216Z"
   },
   {
    "duration": 61,
    "start_time": "2022-05-20T07:53:56.324Z"
   },
   {
    "duration": 45,
    "start_time": "2022-05-20T07:54:32.469Z"
   },
   {
    "duration": 28,
    "start_time": "2022-05-20T07:55:18.087Z"
   },
   {
    "duration": 14,
    "start_time": "2022-05-20T07:57:38.940Z"
   },
   {
    "duration": 41,
    "start_time": "2022-05-20T07:58:09.853Z"
   },
   {
    "duration": 878,
    "start_time": "2022-05-20T07:59:16.749Z"
   },
   {
    "duration": 23,
    "start_time": "2022-05-20T07:59:32.340Z"
   },
   {
    "duration": 844,
    "start_time": "2022-05-20T07:59:38.181Z"
   },
   {
    "duration": 138,
    "start_time": "2022-05-20T08:00:07.368Z"
   },
   {
    "duration": 19,
    "start_time": "2022-05-20T08:17:14.761Z"
   },
   {
    "duration": 201,
    "start_time": "2022-05-20T08:17:20.799Z"
   },
   {
    "duration": 18,
    "start_time": "2022-05-20T08:17:51.410Z"
   },
   {
    "duration": 228,
    "start_time": "2022-05-20T08:17:58.162Z"
   },
   {
    "duration": 19,
    "start_time": "2022-05-20T08:18:18.010Z"
   },
   {
    "duration": 223,
    "start_time": "2022-05-20T08:18:21.677Z"
   },
   {
    "duration": 42,
    "start_time": "2022-05-20T08:25:33.972Z"
   },
   {
    "duration": 42,
    "start_time": "2022-05-20T08:26:13.686Z"
   },
   {
    "duration": 225,
    "start_time": "2022-05-20T09:26:54.224Z"
   },
   {
    "duration": 245,
    "start_time": "2022-05-20T09:36:41.635Z"
   },
   {
    "duration": 1296,
    "start_time": "2022-05-20T10:10:08.595Z"
   },
   {
    "duration": 21,
    "start_time": "2022-05-20T10:10:09.894Z"
   },
   {
    "duration": 32,
    "start_time": "2022-05-20T10:10:09.917Z"
   },
   {
    "duration": 17,
    "start_time": "2022-05-20T10:10:09.953Z"
   },
   {
    "duration": 36,
    "start_time": "2022-05-20T10:10:09.972Z"
   },
   {
    "duration": 78,
    "start_time": "2022-05-20T10:10:10.010Z"
   },
   {
    "duration": 11,
    "start_time": "2022-05-20T10:10:10.092Z"
   },
   {
    "duration": 47,
    "start_time": "2022-05-20T10:10:10.105Z"
   },
   {
    "duration": 15,
    "start_time": "2022-05-20T10:10:10.154Z"
   },
   {
    "duration": 26,
    "start_time": "2022-05-20T10:10:10.174Z"
   },
   {
    "duration": 7,
    "start_time": "2022-05-20T10:10:10.203Z"
   },
   {
    "duration": 21,
    "start_time": "2022-05-20T10:10:10.212Z"
   },
   {
    "duration": 63,
    "start_time": "2022-05-20T10:10:10.240Z"
   },
   {
    "duration": 374,
    "start_time": "2022-05-20T10:10:10.304Z"
   },
   {
    "duration": 9,
    "start_time": "2022-05-20T10:10:10.682Z"
   },
   {
    "duration": 11,
    "start_time": "2022-05-20T10:10:10.694Z"
   },
   {
    "duration": 12,
    "start_time": "2022-05-20T10:10:10.708Z"
   },
   {
    "duration": 36,
    "start_time": "2022-05-20T10:10:10.722Z"
   },
   {
    "duration": 22,
    "start_time": "2022-05-20T10:10:10.766Z"
   },
   {
    "duration": 82,
    "start_time": "2022-05-20T10:10:10.789Z"
   },
   {
    "duration": 412,
    "start_time": "2022-05-20T10:10:10.873Z"
   },
   {
    "duration": 78,
    "start_time": "2022-05-20T10:10:11.287Z"
   },
   {
    "duration": 46,
    "start_time": "2022-05-20T10:10:11.372Z"
   },
   {
    "duration": 228,
    "start_time": "2022-05-20T10:10:11.419Z"
   },
   {
    "duration": 204,
    "start_time": "2022-05-20T10:10:11.655Z"
   },
   {
    "duration": 177,
    "start_time": "2022-05-20T10:10:11.861Z"
   },
   {
    "duration": 335,
    "start_time": "2022-05-20T10:10:12.041Z"
   },
   {
    "duration": 312,
    "start_time": "2022-05-20T10:10:12.383Z"
   },
   {
    "duration": 9,
    "start_time": "2022-05-20T10:10:12.697Z"
   },
   {
    "duration": 254,
    "start_time": "2022-05-20T10:10:12.709Z"
   },
   {
    "duration": 6,
    "start_time": "2022-05-20T10:10:12.968Z"
   },
   {
    "duration": 12,
    "start_time": "2022-05-20T10:10:12.976Z"
   },
   {
    "duration": 18,
    "start_time": "2022-05-20T10:10:12.989Z"
   },
   {
    "duration": 222,
    "start_time": "2022-05-20T10:10:13.009Z"
   },
   {
    "duration": 173,
    "start_time": "2022-05-20T10:10:13.233Z"
   },
   {
    "duration": 228,
    "start_time": "2022-05-20T10:10:13.412Z"
   },
   {
    "duration": 141,
    "start_time": "2022-05-20T10:10:13.644Z"
   },
   {
    "duration": 139,
    "start_time": "2022-05-20T10:10:13.787Z"
   },
   {
    "duration": 155,
    "start_time": "2022-05-20T10:10:13.928Z"
   },
   {
    "duration": 135,
    "start_time": "2022-05-20T10:10:14.085Z"
   },
   {
    "duration": 178,
    "start_time": "2022-05-20T10:10:14.222Z"
   },
   {
    "duration": 57,
    "start_time": "2022-05-20T10:10:14.401Z"
   },
   {
    "duration": 174,
    "start_time": "2022-05-20T10:10:14.467Z"
   },
   {
    "duration": 49,
    "start_time": "2022-05-20T10:10:14.653Z"
   },
   {
    "duration": 4,
    "start_time": "2022-05-20T10:10:14.704Z"
   },
   {
    "duration": 209,
    "start_time": "2022-05-20T10:10:14.710Z"
   },
   {
    "duration": 58,
    "start_time": "2022-05-20T10:10:14.921Z"
   },
   {
    "duration": 9,
    "start_time": "2022-05-20T10:10:14.980Z"
   },
   {
    "duration": 271,
    "start_time": "2022-05-20T10:10:14.990Z"
   },
   {
    "duration": 22,
    "start_time": "2022-05-20T10:10:15.266Z"
   },
   {
    "duration": 201,
    "start_time": "2022-05-20T10:10:15.289Z"
   },
   {
    "duration": 14,
    "start_time": "2022-05-20T10:10:15.492Z"
   },
   {
    "duration": 224,
    "start_time": "2022-05-20T10:10:15.508Z"
   },
   {
    "duration": 28,
    "start_time": "2022-05-20T10:10:15.734Z"
   },
   {
    "duration": 238,
    "start_time": "2022-05-20T10:10:15.765Z"
   },
   {
    "duration": 25,
    "start_time": "2022-05-20T10:10:16.004Z"
   },
   {
    "duration": 186,
    "start_time": "2022-05-20T10:10:16.031Z"
   },
   {
    "duration": 7,
    "start_time": "2022-05-20T10:10:16.218Z"
   },
   {
    "duration": 47,
    "start_time": "2022-05-20T10:10:16.227Z"
   },
   {
    "duration": 17,
    "start_time": "2022-05-20T10:10:16.276Z"
   },
   {
    "duration": 148,
    "start_time": "2022-05-20T10:10:16.295Z"
   },
   {
    "duration": 13,
    "start_time": "2022-05-20T10:10:16.448Z"
   },
   {
    "duration": 43,
    "start_time": "2022-05-20T10:10:16.463Z"
   },
   {
    "duration": 7,
    "start_time": "2022-05-20T10:10:16.508Z"
   },
   {
    "duration": 10,
    "start_time": "2022-05-20T10:10:16.516Z"
   },
   {
    "duration": 16,
    "start_time": "2022-05-20T10:10:16.544Z"
   },
   {
    "duration": 26,
    "start_time": "2022-05-20T10:10:16.562Z"
   },
   {
    "duration": 183,
    "start_time": "2022-05-20T10:10:16.590Z"
   },
   {
    "duration": 41,
    "start_time": "2022-05-20T10:10:16.775Z"
   },
   {
    "duration": 63,
    "start_time": "2022-05-20T10:10:16.818Z"
   },
   {
    "duration": 40,
    "start_time": "2022-05-20T10:10:16.883Z"
   },
   {
    "duration": 266,
    "start_time": "2022-05-20T10:10:16.925Z"
   },
   {
    "duration": 32,
    "start_time": "2022-05-20T10:10:17.193Z"
   },
   {
    "duration": 209,
    "start_time": "2022-05-20T10:10:17.249Z"
   },
   {
    "duration": 16,
    "start_time": "2022-05-20T10:10:17.468Z"
   },
   {
    "duration": 183,
    "start_time": "2022-05-20T10:10:17.486Z"
   },
   {
    "duration": 5,
    "start_time": "2022-05-20T10:10:17.671Z"
   },
   {
    "duration": 0,
    "start_time": "2022-05-20T10:10:17.678Z"
   },
   {
    "duration": 0,
    "start_time": "2022-05-20T10:10:17.680Z"
   },
   {
    "duration": 0,
    "start_time": "2022-05-20T10:10:17.681Z"
   },
   {
    "duration": 0,
    "start_time": "2022-05-20T10:10:17.682Z"
   },
   {
    "duration": 0,
    "start_time": "2022-05-20T10:10:17.684Z"
   },
   {
    "duration": 0,
    "start_time": "2022-05-20T10:10:17.685Z"
   },
   {
    "duration": 15,
    "start_time": "2022-05-20T10:52:50.191Z"
   },
   {
    "duration": 229,
    "start_time": "2022-05-20T10:52:55.081Z"
   },
   {
    "duration": 16,
    "start_time": "2022-05-20T10:53:02.162Z"
   },
   {
    "duration": 280,
    "start_time": "2022-05-20T10:53:06.875Z"
   },
   {
    "duration": 23,
    "start_time": "2022-05-20T10:53:17.752Z"
   },
   {
    "duration": 255,
    "start_time": "2022-05-20T10:53:23.227Z"
   },
   {
    "duration": 40,
    "start_time": "2022-05-20T11:04:08.070Z"
   },
   {
    "duration": 52,
    "start_time": "2022-05-20T11:04:23.572Z"
   },
   {
    "duration": 64,
    "start_time": "2022-05-20T13:28:33.869Z"
   },
   {
    "duration": 809,
    "start_time": "2022-05-20T13:28:39.841Z"
   },
   {
    "duration": 16,
    "start_time": "2022-05-20T13:28:40.652Z"
   },
   {
    "duration": 13,
    "start_time": "2022-05-20T13:28:40.674Z"
   },
   {
    "duration": 9,
    "start_time": "2022-05-20T13:28:40.690Z"
   },
   {
    "duration": 13,
    "start_time": "2022-05-20T13:28:40.700Z"
   },
   {
    "duration": 52,
    "start_time": "2022-05-20T13:28:40.714Z"
   },
   {
    "duration": 15,
    "start_time": "2022-05-20T13:28:40.767Z"
   },
   {
    "duration": 26,
    "start_time": "2022-05-20T13:28:40.784Z"
   },
   {
    "duration": 7,
    "start_time": "2022-05-20T13:28:40.812Z"
   },
   {
    "duration": 10,
    "start_time": "2022-05-20T13:28:40.821Z"
   },
   {
    "duration": 6,
    "start_time": "2022-05-20T13:28:40.832Z"
   },
   {
    "duration": 14,
    "start_time": "2022-05-20T13:28:40.839Z"
   },
   {
    "duration": 56,
    "start_time": "2022-05-20T13:28:40.854Z"
   },
   {
    "duration": 265,
    "start_time": "2022-05-20T13:28:40.911Z"
   },
   {
    "duration": 7,
    "start_time": "2022-05-20T13:28:41.179Z"
   },
   {
    "duration": 13,
    "start_time": "2022-05-20T13:28:41.188Z"
   },
   {
    "duration": 5,
    "start_time": "2022-05-20T13:28:41.203Z"
   },
   {
    "duration": 7,
    "start_time": "2022-05-20T13:28:41.209Z"
   },
   {
    "duration": 6,
    "start_time": "2022-05-20T13:28:41.217Z"
   },
   {
    "duration": 89,
    "start_time": "2022-05-20T13:28:41.224Z"
   },
   {
    "duration": 286,
    "start_time": "2022-05-20T13:28:41.314Z"
   },
   {
    "duration": 36,
    "start_time": "2022-05-20T13:28:41.602Z"
   },
   {
    "duration": 53,
    "start_time": "2022-05-20T13:28:41.639Z"
   },
   {
    "duration": 172,
    "start_time": "2022-05-20T13:28:41.693Z"
   },
   {
    "duration": 156,
    "start_time": "2022-05-20T13:28:41.867Z"
   },
   {
    "duration": 146,
    "start_time": "2022-05-20T13:28:42.025Z"
   },
   {
    "duration": 172,
    "start_time": "2022-05-20T13:28:42.175Z"
   },
   {
    "duration": 168,
    "start_time": "2022-05-20T13:28:42.351Z"
   },
   {
    "duration": 5,
    "start_time": "2022-05-20T13:28:42.521Z"
   },
   {
    "duration": 169,
    "start_time": "2022-05-20T13:28:42.528Z"
   },
   {
    "duration": 4,
    "start_time": "2022-05-20T13:28:42.698Z"
   },
   {
    "duration": 11,
    "start_time": "2022-05-20T13:28:42.703Z"
   },
   {
    "duration": 19,
    "start_time": "2022-05-20T13:28:42.716Z"
   },
   {
    "duration": 203,
    "start_time": "2022-05-20T13:28:42.738Z"
   },
   {
    "duration": 181,
    "start_time": "2022-05-20T13:28:42.943Z"
   },
   {
    "duration": 221,
    "start_time": "2022-05-20T13:28:43.126Z"
   },
   {
    "duration": 120,
    "start_time": "2022-05-20T13:28:43.349Z"
   },
   {
    "duration": 120,
    "start_time": "2022-05-20T13:28:43.476Z"
   },
   {
    "duration": 149,
    "start_time": "2022-05-20T13:28:43.598Z"
   },
   {
    "duration": 110,
    "start_time": "2022-05-20T13:28:43.749Z"
   },
   {
    "duration": 137,
    "start_time": "2022-05-20T13:28:43.861Z"
   },
   {
    "duration": 4,
    "start_time": "2022-05-20T13:28:43.999Z"
   },
   {
    "duration": 55,
    "start_time": "2022-05-20T13:28:44.004Z"
   },
   {
    "duration": 169,
    "start_time": "2022-05-20T13:28:44.060Z"
   },
   {
    "duration": 46,
    "start_time": "2022-05-20T13:28:44.231Z"
   },
   {
    "duration": 11,
    "start_time": "2022-05-20T13:28:44.279Z"
   },
   {
    "duration": 183,
    "start_time": "2022-05-20T13:28:44.292Z"
   },
   {
    "duration": 36,
    "start_time": "2022-05-20T13:28:44.477Z"
   },
   {
    "duration": 4,
    "start_time": "2022-05-20T13:28:44.515Z"
   },
   {
    "duration": 229,
    "start_time": "2022-05-20T13:28:44.521Z"
   },
   {
    "duration": 30,
    "start_time": "2022-05-20T13:28:44.752Z"
   },
   {
    "duration": 173,
    "start_time": "2022-05-20T13:28:44.784Z"
   },
   {
    "duration": 22,
    "start_time": "2022-05-20T13:28:44.959Z"
   },
   {
    "duration": 186,
    "start_time": "2022-05-20T13:28:44.983Z"
   },
   {
    "duration": 19,
    "start_time": "2022-05-20T13:28:45.171Z"
   },
   {
    "duration": 205,
    "start_time": "2022-05-20T13:28:45.192Z"
   },
   {
    "duration": 11,
    "start_time": "2022-05-20T13:28:45.399Z"
   },
   {
    "duration": 154,
    "start_time": "2022-05-20T13:28:45.412Z"
   },
   {
    "duration": 8,
    "start_time": "2022-05-20T13:28:45.568Z"
   },
   {
    "duration": 53,
    "start_time": "2022-05-20T13:28:45.577Z"
   },
   {
    "duration": 6,
    "start_time": "2022-05-20T13:28:45.631Z"
   },
   {
    "duration": 150,
    "start_time": "2022-05-20T13:28:45.639Z"
   },
   {
    "duration": 7,
    "start_time": "2022-05-20T13:28:45.790Z"
   },
   {
    "duration": 38,
    "start_time": "2022-05-20T13:28:45.798Z"
   },
   {
    "duration": 6,
    "start_time": "2022-05-20T13:28:45.837Z"
   },
   {
    "duration": 34,
    "start_time": "2022-05-20T13:28:45.844Z"
   },
   {
    "duration": 54,
    "start_time": "2022-05-20T13:28:45.880Z"
   },
   {
    "duration": 34,
    "start_time": "2022-05-20T13:28:45.936Z"
   },
   {
    "duration": 148,
    "start_time": "2022-05-20T13:28:45.971Z"
   },
   {
    "duration": 34,
    "start_time": "2022-05-20T13:28:46.121Z"
   },
   {
    "duration": 45,
    "start_time": "2022-05-20T13:28:46.157Z"
   },
   {
    "duration": 29,
    "start_time": "2022-05-20T13:28:46.204Z"
   },
   {
    "duration": 194,
    "start_time": "2022-05-20T13:28:46.235Z"
   },
   {
    "duration": 24,
    "start_time": "2022-05-20T13:28:46.431Z"
   },
   {
    "duration": 176,
    "start_time": "2022-05-20T13:28:46.456Z"
   },
   {
    "duration": 14,
    "start_time": "2022-05-20T13:28:46.634Z"
   },
   {
    "duration": 182,
    "start_time": "2022-05-20T13:28:46.650Z"
   },
   {
    "duration": 16,
    "start_time": "2022-05-20T13:28:46.833Z"
   },
   {
    "duration": 210,
    "start_time": "2022-05-20T13:28:46.851Z"
   },
   {
    "duration": 18,
    "start_time": "2022-05-20T13:28:47.062Z"
   },
   {
    "duration": 186,
    "start_time": "2022-05-20T13:28:47.082Z"
   },
   {
    "duration": 15,
    "start_time": "2022-05-20T13:28:47.276Z"
   },
   {
    "duration": 177,
    "start_time": "2022-05-20T13:28:47.297Z"
   },
   {
    "duration": 779,
    "start_time": "2022-05-20T13:30:17.434Z"
   },
   {
    "duration": 14,
    "start_time": "2022-05-20T13:30:18.215Z"
   },
   {
    "duration": 8,
    "start_time": "2022-05-20T13:30:18.231Z"
   },
   {
    "duration": 6,
    "start_time": "2022-05-20T13:30:18.240Z"
   },
   {
    "duration": 28,
    "start_time": "2022-05-20T13:30:18.248Z"
   },
   {
    "duration": 49,
    "start_time": "2022-05-20T13:30:18.278Z"
   },
   {
    "duration": 7,
    "start_time": "2022-05-20T13:30:18.328Z"
   },
   {
    "duration": 40,
    "start_time": "2022-05-20T13:30:18.336Z"
   },
   {
    "duration": 9,
    "start_time": "2022-05-20T13:30:18.378Z"
   },
   {
    "duration": 9,
    "start_time": "2022-05-20T13:30:18.389Z"
   },
   {
    "duration": 5,
    "start_time": "2022-05-20T13:30:18.399Z"
   },
   {
    "duration": 15,
    "start_time": "2022-05-20T13:30:18.405Z"
   },
   {
    "duration": 61,
    "start_time": "2022-05-20T13:30:18.421Z"
   },
   {
    "duration": 269,
    "start_time": "2022-05-20T13:30:18.486Z"
   },
   {
    "duration": 6,
    "start_time": "2022-05-20T13:30:18.756Z"
   },
   {
    "duration": 15,
    "start_time": "2022-05-20T13:30:18.763Z"
   },
   {
    "duration": 12,
    "start_time": "2022-05-20T13:30:18.789Z"
   },
   {
    "duration": 11,
    "start_time": "2022-05-20T13:30:18.803Z"
   },
   {
    "duration": 8,
    "start_time": "2022-05-20T13:30:18.816Z"
   },
   {
    "duration": 71,
    "start_time": "2022-05-20T13:30:18.825Z"
   },
   {
    "duration": 283,
    "start_time": "2022-05-20T13:30:18.897Z"
   },
   {
    "duration": 40,
    "start_time": "2022-05-20T13:30:19.182Z"
   },
   {
    "duration": 35,
    "start_time": "2022-05-20T13:30:19.224Z"
   },
   {
    "duration": 185,
    "start_time": "2022-05-20T13:30:19.261Z"
   },
   {
    "duration": 159,
    "start_time": "2022-05-20T13:30:19.447Z"
   },
   {
    "duration": 147,
    "start_time": "2022-05-20T13:30:19.608Z"
   },
   {
    "duration": 201,
    "start_time": "2022-05-20T13:30:19.757Z"
   },
   {
    "duration": 192,
    "start_time": "2022-05-20T13:30:19.960Z"
   },
   {
    "duration": 8,
    "start_time": "2022-05-20T13:30:20.154Z"
   },
   {
    "duration": 197,
    "start_time": "2022-05-20T13:30:20.164Z"
   },
   {
    "duration": 5,
    "start_time": "2022-05-20T13:30:20.362Z"
   },
   {
    "duration": 19,
    "start_time": "2022-05-20T13:30:20.374Z"
   },
   {
    "duration": 29,
    "start_time": "2022-05-20T13:30:20.395Z"
   },
   {
    "duration": 110,
    "start_time": "2022-05-20T13:30:20.426Z"
   },
   {
    "duration": 120,
    "start_time": "2022-05-20T13:30:20.538Z"
   },
   {
    "duration": 3,
    "start_time": "2022-05-20T13:30:20.660Z"
   },
   {
    "duration": 171,
    "start_time": "2022-05-20T13:30:20.684Z"
   },
   {
    "duration": 101,
    "start_time": "2022-05-20T13:30:20.857Z"
   },
   {
    "duration": 99,
    "start_time": "2022-05-20T13:30:20.960Z"
   },
   {
    "duration": 135,
    "start_time": "2022-05-20T13:30:21.060Z"
   },
   {
    "duration": 104,
    "start_time": "2022-05-20T13:30:21.199Z"
   },
   {
    "duration": 107,
    "start_time": "2022-05-20T13:30:21.304Z"
   },
   {
    "duration": 3,
    "start_time": "2022-05-20T13:30:21.413Z"
   },
   {
    "duration": 35,
    "start_time": "2022-05-20T13:30:21.417Z"
   },
   {
    "duration": 154,
    "start_time": "2022-05-20T13:30:21.453Z"
   },
   {
    "duration": 27,
    "start_time": "2022-05-20T13:30:21.609Z"
   },
   {
    "duration": 4,
    "start_time": "2022-05-20T13:30:21.637Z"
   },
   {
    "duration": 167,
    "start_time": "2022-05-20T13:30:21.642Z"
   },
   {
    "duration": 27,
    "start_time": "2022-05-20T13:30:21.811Z"
   },
   {
    "duration": 4,
    "start_time": "2022-05-20T13:30:21.839Z"
   },
   {
    "duration": 203,
    "start_time": "2022-05-20T13:30:21.844Z"
   },
   {
    "duration": 15,
    "start_time": "2022-05-20T13:30:22.049Z"
   },
   {
    "duration": 159,
    "start_time": "2022-05-20T13:30:22.074Z"
   },
   {
    "duration": 17,
    "start_time": "2022-05-20T13:30:22.235Z"
   },
   {
    "duration": 181,
    "start_time": "2022-05-20T13:30:22.253Z"
   },
   {
    "duration": 12,
    "start_time": "2022-05-20T13:30:22.435Z"
   },
   {
    "duration": 201,
    "start_time": "2022-05-20T13:30:22.448Z"
   },
   {
    "duration": 12,
    "start_time": "2022-05-20T13:30:22.650Z"
   },
   {
    "duration": 185,
    "start_time": "2022-05-20T13:30:22.663Z"
   },
   {
    "duration": 6,
    "start_time": "2022-05-20T13:30:22.850Z"
   },
   {
    "duration": 36,
    "start_time": "2022-05-20T13:30:22.858Z"
   },
   {
    "duration": 11,
    "start_time": "2022-05-20T13:30:22.896Z"
   },
   {
    "duration": 140,
    "start_time": "2022-05-20T13:30:22.909Z"
   },
   {
    "duration": 8,
    "start_time": "2022-05-20T13:30:23.051Z"
   },
   {
    "duration": 46,
    "start_time": "2022-05-20T13:30:23.074Z"
   },
   {
    "duration": 6,
    "start_time": "2022-05-20T13:30:23.121Z"
   },
   {
    "duration": 6,
    "start_time": "2022-05-20T13:30:23.128Z"
   },
   {
    "duration": 13,
    "start_time": "2022-05-20T13:30:23.135Z"
   },
   {
    "duration": 26,
    "start_time": "2022-05-20T13:30:23.149Z"
   },
   {
    "duration": 146,
    "start_time": "2022-05-20T13:30:23.176Z"
   },
   {
    "duration": 34,
    "start_time": "2022-05-20T13:30:23.323Z"
   },
   {
    "duration": 41,
    "start_time": "2022-05-20T13:30:23.359Z"
   },
   {
    "duration": 25,
    "start_time": "2022-05-20T13:30:23.402Z"
   },
   {
    "duration": 187,
    "start_time": "2022-05-20T13:30:23.429Z"
   },
   {
    "duration": 23,
    "start_time": "2022-05-20T13:30:23.618Z"
   },
   {
    "duration": 161,
    "start_time": "2022-05-20T13:30:23.642Z"
   },
   {
    "duration": 13,
    "start_time": "2022-05-20T13:30:23.806Z"
   },
   {
    "duration": 151,
    "start_time": "2022-05-20T13:30:23.821Z"
   },
   {
    "duration": 18,
    "start_time": "2022-05-20T13:30:23.980Z"
   },
   {
    "duration": 170,
    "start_time": "2022-05-20T13:30:24.000Z"
   },
   {
    "duration": 17,
    "start_time": "2022-05-20T13:30:24.172Z"
   },
   {
    "duration": 182,
    "start_time": "2022-05-20T13:30:24.191Z"
   },
   {
    "duration": 15,
    "start_time": "2022-05-20T13:30:24.376Z"
   },
   {
    "duration": 160,
    "start_time": "2022-05-20T13:30:24.393Z"
   },
   {
    "duration": 16,
    "start_time": "2022-05-20T13:32:14.449Z"
   },
   {
    "duration": 11,
    "start_time": "2022-05-20T13:32:51.633Z"
   },
   {
    "duration": 859,
    "start_time": "2022-05-20T13:33:01.274Z"
   },
   {
    "duration": 13,
    "start_time": "2022-05-20T13:33:02.135Z"
   },
   {
    "duration": 15,
    "start_time": "2022-05-20T13:33:02.150Z"
   },
   {
    "duration": 21,
    "start_time": "2022-05-20T13:33:02.166Z"
   },
   {
    "duration": 20,
    "start_time": "2022-05-20T13:33:02.190Z"
   },
   {
    "duration": 66,
    "start_time": "2022-05-20T13:33:02.212Z"
   },
   {
    "duration": 10,
    "start_time": "2022-05-20T13:33:02.280Z"
   },
   {
    "duration": 28,
    "start_time": "2022-05-20T13:33:02.292Z"
   },
   {
    "duration": 9,
    "start_time": "2022-05-20T13:33:02.322Z"
   },
   {
    "duration": 14,
    "start_time": "2022-05-20T13:33:02.333Z"
   },
   {
    "duration": 7,
    "start_time": "2022-05-20T13:33:02.349Z"
   },
   {
    "duration": 25,
    "start_time": "2022-05-20T13:33:02.357Z"
   },
   {
    "duration": 51,
    "start_time": "2022-05-20T13:33:02.384Z"
   },
   {
    "duration": 275,
    "start_time": "2022-05-20T13:33:02.438Z"
   },
   {
    "duration": 6,
    "start_time": "2022-05-20T13:33:02.714Z"
   },
   {
    "duration": 10,
    "start_time": "2022-05-20T13:33:02.721Z"
   },
   {
    "duration": 10,
    "start_time": "2022-05-20T13:33:02.732Z"
   },
   {
    "duration": 13,
    "start_time": "2022-05-20T13:33:02.744Z"
   },
   {
    "duration": 39,
    "start_time": "2022-05-20T13:33:02.759Z"
   },
   {
    "duration": 72,
    "start_time": "2022-05-20T13:33:02.800Z"
   },
   {
    "duration": 315,
    "start_time": "2022-05-20T13:33:02.874Z"
   },
   {
    "duration": 36,
    "start_time": "2022-05-20T13:33:03.190Z"
   },
   {
    "duration": 49,
    "start_time": "2022-05-20T13:33:03.228Z"
   },
   {
    "duration": 172,
    "start_time": "2022-05-20T13:33:03.280Z"
   },
   {
    "duration": 153,
    "start_time": "2022-05-20T13:33:03.453Z"
   },
   {
    "duration": 142,
    "start_time": "2022-05-20T13:33:03.608Z"
   },
   {
    "duration": 178,
    "start_time": "2022-05-20T13:33:03.752Z"
   },
   {
    "duration": 171,
    "start_time": "2022-05-20T13:33:03.931Z"
   },
   {
    "duration": 6,
    "start_time": "2022-05-20T13:33:04.103Z"
   },
   {
    "duration": 171,
    "start_time": "2022-05-20T13:33:04.110Z"
   },
   {
    "duration": 8,
    "start_time": "2022-05-20T13:33:04.283Z"
   },
   {
    "duration": 11,
    "start_time": "2022-05-20T13:33:04.292Z"
   },
   {
    "duration": 20,
    "start_time": "2022-05-20T13:33:04.305Z"
   },
   {
    "duration": 122,
    "start_time": "2022-05-20T13:33:04.327Z"
   },
   {
    "duration": 25,
    "start_time": "2022-05-20T13:33:04.451Z"
   },
   {
    "duration": 134,
    "start_time": "2022-05-20T13:33:04.478Z"
   },
   {
    "duration": 11,
    "start_time": "2022-05-20T13:33:04.614Z"
   },
   {
    "duration": 191,
    "start_time": "2022-05-20T13:33:04.627Z"
   },
   {
    "duration": 105,
    "start_time": "2022-05-20T13:33:04.819Z"
   },
   {
    "duration": 98,
    "start_time": "2022-05-20T13:33:04.925Z"
   },
   {
    "duration": 122,
    "start_time": "2022-05-20T13:33:05.027Z"
   },
   {
    "duration": 106,
    "start_time": "2022-05-20T13:33:05.150Z"
   },
   {
    "duration": 104,
    "start_time": "2022-05-20T13:33:05.257Z"
   },
   {
    "duration": 12,
    "start_time": "2022-05-20T13:33:05.363Z"
   },
   {
    "duration": 37,
    "start_time": "2022-05-20T13:33:05.377Z"
   },
   {
    "duration": 146,
    "start_time": "2022-05-20T13:33:05.415Z"
   },
   {
    "duration": 40,
    "start_time": "2022-05-20T13:33:05.562Z"
   },
   {
    "duration": 4,
    "start_time": "2022-05-20T13:33:05.604Z"
   },
   {
    "duration": 151,
    "start_time": "2022-05-20T13:33:05.609Z"
   },
   {
    "duration": 42,
    "start_time": "2022-05-20T13:33:05.762Z"
   },
   {
    "duration": 4,
    "start_time": "2022-05-20T13:33:05.806Z"
   },
   {
    "duration": 203,
    "start_time": "2022-05-20T13:33:05.812Z"
   },
   {
    "duration": 16,
    "start_time": "2022-05-20T13:33:06.016Z"
   },
   {
    "duration": 169,
    "start_time": "2022-05-20T13:33:06.033Z"
   },
   {
    "duration": 12,
    "start_time": "2022-05-20T13:33:06.204Z"
   },
   {
    "duration": 201,
    "start_time": "2022-05-20T13:33:06.218Z"
   },
   {
    "duration": 12,
    "start_time": "2022-05-20T13:33:06.421Z"
   },
   {
    "duration": 201,
    "start_time": "2022-05-20T13:33:06.435Z"
   },
   {
    "duration": 11,
    "start_time": "2022-05-20T13:33:06.637Z"
   },
   {
    "duration": 251,
    "start_time": "2022-05-20T13:33:06.650Z"
   },
   {
    "duration": 7,
    "start_time": "2022-05-20T13:33:06.902Z"
   },
   {
    "duration": 28,
    "start_time": "2022-05-20T13:33:06.910Z"
   },
   {
    "duration": 5,
    "start_time": "2022-05-20T13:33:06.940Z"
   },
   {
    "duration": 57,
    "start_time": "2022-05-20T13:33:06.946Z"
   },
   {
    "duration": 6,
    "start_time": "2022-05-20T13:33:07.005Z"
   },
   {
    "duration": 33,
    "start_time": "2022-05-20T13:33:07.013Z"
   },
   {
    "duration": 5,
    "start_time": "2022-05-20T13:33:07.048Z"
   },
   {
    "duration": 32,
    "start_time": "2022-05-20T13:33:07.054Z"
   },
   {
    "duration": 30,
    "start_time": "2022-05-20T13:33:07.088Z"
   },
   {
    "duration": 13,
    "start_time": "2022-05-20T13:33:07.120Z"
   },
   {
    "duration": 133,
    "start_time": "2022-05-20T13:33:07.135Z"
   },
   {
    "duration": 41,
    "start_time": "2022-05-20T13:33:07.274Z"
   },
   {
    "duration": 27,
    "start_time": "2022-05-20T13:33:07.316Z"
   },
   {
    "duration": 51,
    "start_time": "2022-05-20T13:33:07.345Z"
   },
   {
    "duration": 192,
    "start_time": "2022-05-20T13:33:07.398Z"
   },
   {
    "duration": 25,
    "start_time": "2022-05-20T13:33:07.591Z"
   },
   {
    "duration": 158,
    "start_time": "2022-05-20T13:33:07.617Z"
   },
   {
    "duration": 17,
    "start_time": "2022-05-20T13:33:07.777Z"
   },
   {
    "duration": 155,
    "start_time": "2022-05-20T13:33:07.796Z"
   },
   {
    "duration": 12,
    "start_time": "2022-05-20T13:33:07.952Z"
   },
   {
    "duration": 165,
    "start_time": "2022-05-20T13:33:07.975Z"
   },
   {
    "duration": 12,
    "start_time": "2022-05-20T13:33:08.142Z"
   },
   {
    "duration": 186,
    "start_time": "2022-05-20T13:33:08.156Z"
   },
   {
    "duration": 11,
    "start_time": "2022-05-20T13:33:08.344Z"
   },
   {
    "duration": 163,
    "start_time": "2022-05-20T13:33:08.356Z"
   },
   {
    "duration": 4,
    "start_time": "2022-05-20T13:36:56.342Z"
   },
   {
    "duration": 91,
    "start_time": "2022-05-20T14:03:46.474Z"
   },
   {
    "duration": 9,
    "start_time": "2022-05-20T14:04:00.728Z"
   },
   {
    "duration": 13,
    "start_time": "2022-05-20T14:04:19.688Z"
   },
   {
    "duration": 8,
    "start_time": "2022-05-20T14:05:46.582Z"
   },
   {
    "duration": 14,
    "start_time": "2022-05-20T14:05:53.276Z"
   },
   {
    "duration": 32,
    "start_time": "2022-05-20T14:06:18.425Z"
   },
   {
    "duration": 12,
    "start_time": "2022-05-20T14:06:40.670Z"
   },
   {
    "duration": 16,
    "start_time": "2022-05-20T14:07:00.844Z"
   },
   {
    "duration": 13,
    "start_time": "2022-05-20T14:07:06.454Z"
   },
   {
    "duration": 12,
    "start_time": "2022-05-20T14:07:21.815Z"
   },
   {
    "duration": 12,
    "start_time": "2022-05-20T14:07:38.465Z"
   },
   {
    "duration": 13,
    "start_time": "2022-05-20T14:07:51.026Z"
   },
   {
    "duration": 17,
    "start_time": "2022-05-20T14:08:39.267Z"
   },
   {
    "duration": 6,
    "start_time": "2022-05-20T14:09:47.148Z"
   },
   {
    "duration": 3,
    "start_time": "2022-05-20T14:09:57.475Z"
   },
   {
    "duration": 4,
    "start_time": "2022-05-20T14:10:18.205Z"
   },
   {
    "duration": 15,
    "start_time": "2022-05-20T14:11:33.194Z"
   },
   {
    "duration": 10,
    "start_time": "2022-05-20T14:11:45.665Z"
   },
   {
    "duration": 3,
    "start_time": "2022-05-20T14:13:40.143Z"
   },
   {
    "duration": 71,
    "start_time": "2022-05-21T07:47:08.886Z"
   },
   {
    "duration": 1664,
    "start_time": "2022-05-21T07:47:20.315Z"
   },
   {
    "duration": 13,
    "start_time": "2022-05-21T07:47:21.981Z"
   },
   {
    "duration": 8,
    "start_time": "2022-05-21T07:47:21.995Z"
   },
   {
    "duration": 6,
    "start_time": "2022-05-21T07:47:22.004Z"
   },
   {
    "duration": 6,
    "start_time": "2022-05-21T07:47:22.012Z"
   },
   {
    "duration": 45,
    "start_time": "2022-05-21T07:47:22.019Z"
   },
   {
    "duration": 8,
    "start_time": "2022-05-21T07:47:22.065Z"
   },
   {
    "duration": 43,
    "start_time": "2022-05-21T07:47:22.074Z"
   },
   {
    "duration": 8,
    "start_time": "2022-05-21T07:47:22.118Z"
   },
   {
    "duration": 7,
    "start_time": "2022-05-21T07:47:22.128Z"
   },
   {
    "duration": 11,
    "start_time": "2022-05-21T07:47:22.137Z"
   },
   {
    "duration": 21,
    "start_time": "2022-05-21T07:47:22.150Z"
   },
   {
    "duration": 57,
    "start_time": "2022-05-21T07:47:22.173Z"
   },
   {
    "duration": 270,
    "start_time": "2022-05-21T07:47:22.233Z"
   },
   {
    "duration": 6,
    "start_time": "2022-05-21T07:47:22.504Z"
   },
   {
    "duration": 15,
    "start_time": "2022-05-21T07:47:22.511Z"
   },
   {
    "duration": 19,
    "start_time": "2022-05-21T07:47:22.528Z"
   },
   {
    "duration": 9,
    "start_time": "2022-05-21T07:47:22.548Z"
   },
   {
    "duration": 8,
    "start_time": "2022-05-21T07:47:22.559Z"
   },
   {
    "duration": 68,
    "start_time": "2022-05-21T07:47:22.568Z"
   },
   {
    "duration": 277,
    "start_time": "2022-05-21T07:47:22.637Z"
   },
   {
    "duration": 43,
    "start_time": "2022-05-21T07:47:22.915Z"
   },
   {
    "duration": 55,
    "start_time": "2022-05-21T07:47:22.960Z"
   },
   {
    "duration": 190,
    "start_time": "2022-05-21T07:47:23.017Z"
   },
   {
    "duration": 169,
    "start_time": "2022-05-21T07:47:23.209Z"
   },
   {
    "duration": 150,
    "start_time": "2022-05-21T07:47:23.379Z"
   },
   {
    "duration": 250,
    "start_time": "2022-05-21T07:47:23.531Z"
   },
   {
    "duration": 193,
    "start_time": "2022-05-21T07:47:23.783Z"
   },
   {
    "duration": 6,
    "start_time": "2022-05-21T07:47:23.977Z"
   },
   {
    "duration": 175,
    "start_time": "2022-05-21T07:47:23.984Z"
   },
   {
    "duration": 4,
    "start_time": "2022-05-21T07:47:24.160Z"
   },
   {
    "duration": 8,
    "start_time": "2022-05-21T07:47:24.166Z"
   },
   {
    "duration": 28,
    "start_time": "2022-05-21T07:47:24.175Z"
   },
   {
    "duration": 129,
    "start_time": "2022-05-21T07:47:24.204Z"
   },
   {
    "duration": 151,
    "start_time": "2022-05-21T07:47:24.335Z"
   },
   {
    "duration": 4,
    "start_time": "2022-05-21T07:47:24.488Z"
   },
   {
    "duration": 0,
    "start_time": "2022-05-21T07:47:24.502Z"
   },
   {
    "duration": 0,
    "start_time": "2022-05-21T07:47:24.564Z"
   },
   {
    "duration": 0,
    "start_time": "2022-05-21T07:47:24.565Z"
   },
   {
    "duration": 0,
    "start_time": "2022-05-21T07:47:24.566Z"
   },
   {
    "duration": 0,
    "start_time": "2022-05-21T07:47:24.567Z"
   },
   {
    "duration": 0,
    "start_time": "2022-05-21T07:47:24.568Z"
   },
   {
    "duration": 0,
    "start_time": "2022-05-21T07:47:24.569Z"
   },
   {
    "duration": 0,
    "start_time": "2022-05-21T07:47:24.570Z"
   },
   {
    "duration": 0,
    "start_time": "2022-05-21T07:47:24.571Z"
   },
   {
    "duration": 0,
    "start_time": "2022-05-21T07:47:24.572Z"
   },
   {
    "duration": 0,
    "start_time": "2022-05-21T07:47:24.573Z"
   },
   {
    "duration": 0,
    "start_time": "2022-05-21T07:47:24.574Z"
   },
   {
    "duration": 0,
    "start_time": "2022-05-21T07:47:24.602Z"
   },
   {
    "duration": 0,
    "start_time": "2022-05-21T07:47:24.603Z"
   },
   {
    "duration": 0,
    "start_time": "2022-05-21T07:47:24.604Z"
   },
   {
    "duration": 0,
    "start_time": "2022-05-21T07:47:24.605Z"
   },
   {
    "duration": 0,
    "start_time": "2022-05-21T07:47:24.606Z"
   },
   {
    "duration": 0,
    "start_time": "2022-05-21T07:47:24.608Z"
   },
   {
    "duration": 0,
    "start_time": "2022-05-21T07:47:24.609Z"
   },
   {
    "duration": 0,
    "start_time": "2022-05-21T07:47:24.610Z"
   },
   {
    "duration": 0,
    "start_time": "2022-05-21T07:47:24.612Z"
   },
   {
    "duration": 0,
    "start_time": "2022-05-21T07:47:24.613Z"
   },
   {
    "duration": 0,
    "start_time": "2022-05-21T07:47:24.615Z"
   },
   {
    "duration": 0,
    "start_time": "2022-05-21T07:47:24.616Z"
   },
   {
    "duration": 0,
    "start_time": "2022-05-21T07:47:24.617Z"
   },
   {
    "duration": 0,
    "start_time": "2022-05-21T07:47:24.619Z"
   },
   {
    "duration": 0,
    "start_time": "2022-05-21T07:47:24.620Z"
   },
   {
    "duration": 0,
    "start_time": "2022-05-21T07:47:24.622Z"
   },
   {
    "duration": 0,
    "start_time": "2022-05-21T07:47:24.623Z"
   },
   {
    "duration": 0,
    "start_time": "2022-05-21T07:47:24.625Z"
   },
   {
    "duration": 0,
    "start_time": "2022-05-21T07:47:24.626Z"
   },
   {
    "duration": 0,
    "start_time": "2022-05-21T07:47:24.627Z"
   },
   {
    "duration": 0,
    "start_time": "2022-05-21T07:47:24.629Z"
   },
   {
    "duration": 0,
    "start_time": "2022-05-21T07:47:24.630Z"
   },
   {
    "duration": 0,
    "start_time": "2022-05-21T07:47:24.632Z"
   },
   {
    "duration": 0,
    "start_time": "2022-05-21T07:47:24.633Z"
   },
   {
    "duration": 0,
    "start_time": "2022-05-21T07:47:24.634Z"
   },
   {
    "duration": 0,
    "start_time": "2022-05-21T07:47:24.636Z"
   },
   {
    "duration": 0,
    "start_time": "2022-05-21T07:47:24.639Z"
   },
   {
    "duration": 0,
    "start_time": "2022-05-21T07:47:24.703Z"
   },
   {
    "duration": 0,
    "start_time": "2022-05-21T07:47:24.704Z"
   },
   {
    "duration": 0,
    "start_time": "2022-05-21T07:47:24.706Z"
   },
   {
    "duration": 0,
    "start_time": "2022-05-21T07:47:24.707Z"
   },
   {
    "duration": 0,
    "start_time": "2022-05-21T07:47:24.708Z"
   },
   {
    "duration": 0,
    "start_time": "2022-05-21T07:47:24.710Z"
   },
   {
    "duration": 0,
    "start_time": "2022-05-21T07:47:24.711Z"
   },
   {
    "duration": 0,
    "start_time": "2022-05-21T07:47:24.713Z"
   },
   {
    "duration": 0,
    "start_time": "2022-05-21T07:47:24.714Z"
   },
   {
    "duration": 0,
    "start_time": "2022-05-21T07:47:24.715Z"
   },
   {
    "duration": 0,
    "start_time": "2022-05-21T07:47:24.716Z"
   },
   {
    "duration": 0,
    "start_time": "2022-05-21T07:47:24.718Z"
   },
   {
    "duration": 102,
    "start_time": "2022-05-21T07:48:07.883Z"
   },
   {
    "duration": 34,
    "start_time": "2022-05-21T07:53:17.917Z"
   },
   {
    "duration": 30,
    "start_time": "2022-05-21T07:59:55.811Z"
   },
   {
    "duration": 86,
    "start_time": "2022-05-21T08:00:51.479Z"
   },
   {
    "duration": 8,
    "start_time": "2022-05-21T08:00:56.803Z"
   },
   {
    "duration": 10,
    "start_time": "2022-05-21T08:01:05.689Z"
   },
   {
    "duration": 35,
    "start_time": "2022-05-21T08:01:17.531Z"
   },
   {
    "duration": 36,
    "start_time": "2022-05-21T08:01:37.326Z"
   },
   {
    "duration": 466,
    "start_time": "2022-05-21T08:01:46.411Z"
   },
   {
    "duration": 500,
    "start_time": "2022-05-21T08:01:53.415Z"
   },
   {
    "duration": 12,
    "start_time": "2022-05-21T08:01:54.859Z"
   },
   {
    "duration": 448,
    "start_time": "2022-05-21T08:02:10.083Z"
   },
   {
    "duration": 846,
    "start_time": "2022-05-21T08:02:25.707Z"
   },
   {
    "duration": 27,
    "start_time": "2022-05-21T08:02:26.556Z"
   },
   {
    "duration": 20,
    "start_time": "2022-05-21T08:02:26.585Z"
   },
   {
    "duration": 8,
    "start_time": "2022-05-21T08:02:26.606Z"
   },
   {
    "duration": 6,
    "start_time": "2022-05-21T08:02:26.617Z"
   },
   {
    "duration": 76,
    "start_time": "2022-05-21T08:02:26.626Z"
   },
   {
    "duration": 7,
    "start_time": "2022-05-21T08:02:26.704Z"
   },
   {
    "duration": 27,
    "start_time": "2022-05-21T08:02:26.713Z"
   },
   {
    "duration": 7,
    "start_time": "2022-05-21T08:02:26.741Z"
   },
   {
    "duration": 7,
    "start_time": "2022-05-21T08:02:26.749Z"
   },
   {
    "duration": 11,
    "start_time": "2022-05-21T08:02:26.757Z"
   },
   {
    "duration": 35,
    "start_time": "2022-05-21T08:02:26.770Z"
   },
   {
    "duration": 56,
    "start_time": "2022-05-21T08:02:26.807Z"
   },
   {
    "duration": 297,
    "start_time": "2022-05-21T08:02:26.866Z"
   },
   {
    "duration": 7,
    "start_time": "2022-05-21T08:02:27.165Z"
   },
   {
    "duration": 6,
    "start_time": "2022-05-21T08:02:27.174Z"
   },
   {
    "duration": 7,
    "start_time": "2022-05-21T08:02:27.202Z"
   },
   {
    "duration": 8,
    "start_time": "2022-05-21T08:02:27.211Z"
   },
   {
    "duration": 7,
    "start_time": "2022-05-21T08:02:27.220Z"
   },
   {
    "duration": 78,
    "start_time": "2022-05-21T08:02:27.228Z"
   },
   {
    "duration": 286,
    "start_time": "2022-05-21T08:02:27.307Z"
   },
   {
    "duration": 46,
    "start_time": "2022-05-21T08:02:27.595Z"
   },
   {
    "duration": 60,
    "start_time": "2022-05-21T08:02:27.643Z"
   },
   {
    "duration": 190,
    "start_time": "2022-05-21T08:02:27.705Z"
   },
   {
    "duration": 170,
    "start_time": "2022-05-21T08:02:27.896Z"
   },
   {
    "duration": 159,
    "start_time": "2022-05-21T08:02:28.068Z"
   },
   {
    "duration": 210,
    "start_time": "2022-05-21T08:02:28.229Z"
   },
   {
    "duration": 212,
    "start_time": "2022-05-21T08:02:28.441Z"
   },
   {
    "duration": 7,
    "start_time": "2022-05-21T08:02:28.655Z"
   },
   {
    "duration": 192,
    "start_time": "2022-05-21T08:02:28.664Z"
   },
   {
    "duration": 3,
    "start_time": "2022-05-21T08:02:28.858Z"
   },
   {
    "duration": 8,
    "start_time": "2022-05-21T08:02:28.863Z"
   },
   {
    "duration": 38,
    "start_time": "2022-05-21T08:02:28.873Z"
   },
   {
    "duration": 133,
    "start_time": "2022-05-21T08:02:28.913Z"
   },
   {
    "duration": 135,
    "start_time": "2022-05-21T08:02:29.047Z"
   },
   {
    "duration": 4,
    "start_time": "2022-05-21T08:02:29.184Z"
   },
   {
    "duration": 177,
    "start_time": "2022-05-21T08:02:29.202Z"
   },
   {
    "duration": 114,
    "start_time": "2022-05-21T08:02:29.381Z"
   },
   {
    "duration": 116,
    "start_time": "2022-05-21T08:02:29.501Z"
   },
   {
    "duration": 138,
    "start_time": "2022-05-21T08:02:29.619Z"
   },
   {
    "duration": 121,
    "start_time": "2022-05-21T08:02:29.761Z"
   },
   {
    "duration": 126,
    "start_time": "2022-05-21T08:02:29.883Z"
   },
   {
    "duration": 4,
    "start_time": "2022-05-21T08:02:30.012Z"
   },
   {
    "duration": 47,
    "start_time": "2022-05-21T08:02:30.017Z"
   },
   {
    "duration": 152,
    "start_time": "2022-05-21T08:02:30.066Z"
   },
   {
    "duration": 30,
    "start_time": "2022-05-21T08:02:30.220Z"
   },
   {
    "duration": 4,
    "start_time": "2022-05-21T08:02:30.251Z"
   },
   {
    "duration": 176,
    "start_time": "2022-05-21T08:02:30.256Z"
   },
   {
    "duration": 33,
    "start_time": "2022-05-21T08:02:30.433Z"
   },
   {
    "duration": 4,
    "start_time": "2022-05-21T08:02:30.468Z"
   },
   {
    "duration": 236,
    "start_time": "2022-05-21T08:02:30.474Z"
   },
   {
    "duration": 20,
    "start_time": "2022-05-21T08:02:30.712Z"
   },
   {
    "duration": 187,
    "start_time": "2022-05-21T08:02:30.734Z"
   },
   {
    "duration": 15,
    "start_time": "2022-05-21T08:02:30.922Z"
   },
   {
    "duration": 228,
    "start_time": "2022-05-21T08:02:30.939Z"
   },
   {
    "duration": 16,
    "start_time": "2022-05-21T08:02:31.170Z"
   },
   {
    "duration": 262,
    "start_time": "2022-05-21T08:02:31.189Z"
   },
   {
    "duration": 14,
    "start_time": "2022-05-21T08:02:31.453Z"
   },
   {
    "duration": 269,
    "start_time": "2022-05-21T08:02:31.469Z"
   },
   {
    "duration": 8,
    "start_time": "2022-05-21T08:02:31.740Z"
   },
   {
    "duration": 49,
    "start_time": "2022-05-21T08:02:31.750Z"
   },
   {
    "duration": 17,
    "start_time": "2022-05-21T08:02:31.801Z"
   },
   {
    "duration": 13,
    "start_time": "2022-05-21T08:02:31.820Z"
   },
   {
    "duration": 15,
    "start_time": "2022-05-21T08:02:31.835Z"
   },
   {
    "duration": 70,
    "start_time": "2022-05-21T08:02:31.852Z"
   },
   {
    "duration": 8,
    "start_time": "2022-05-21T08:02:31.925Z"
   },
   {
    "duration": 74,
    "start_time": "2022-05-21T08:02:31.934Z"
   },
   {
    "duration": 8,
    "start_time": "2022-05-21T08:02:32.010Z"
   },
   {
    "duration": 15,
    "start_time": "2022-05-21T08:02:32.020Z"
   },
   {
    "duration": 21,
    "start_time": "2022-05-21T08:02:32.037Z"
   },
   {
    "duration": 20,
    "start_time": "2022-05-21T08:02:32.060Z"
   },
   {
    "duration": 171,
    "start_time": "2022-05-21T08:02:32.082Z"
   },
   {
    "duration": 50,
    "start_time": "2022-05-21T08:02:32.254Z"
   },
   {
    "duration": 39,
    "start_time": "2022-05-21T08:02:32.305Z"
   },
   {
    "duration": 30,
    "start_time": "2022-05-21T08:02:32.346Z"
   },
   {
    "duration": 237,
    "start_time": "2022-05-21T08:02:32.378Z"
   },
   {
    "duration": 28,
    "start_time": "2022-05-21T08:02:32.617Z"
   },
   {
    "duration": 190,
    "start_time": "2022-05-21T08:02:32.647Z"
   },
   {
    "duration": 15,
    "start_time": "2022-05-21T08:02:32.839Z"
   },
   {
    "duration": 157,
    "start_time": "2022-05-21T08:02:32.857Z"
   },
   {
    "duration": 13,
    "start_time": "2022-05-21T08:02:33.016Z"
   },
   {
    "duration": 189,
    "start_time": "2022-05-21T08:02:33.030Z"
   },
   {
    "duration": 15,
    "start_time": "2022-05-21T08:02:33.221Z"
   },
   {
    "duration": 218,
    "start_time": "2022-05-21T08:02:33.238Z"
   },
   {
    "duration": 17,
    "start_time": "2022-05-21T08:02:33.458Z"
   },
   {
    "duration": 202,
    "start_time": "2022-05-21T08:02:33.477Z"
   },
   {
    "duration": 115,
    "start_time": "2022-05-22T03:48:39.890Z"
   },
   {
    "duration": 113,
    "start_time": "2022-05-22T03:49:31.169Z"
   },
   {
    "duration": 162,
    "start_time": "2022-05-22T03:49:54.431Z"
   },
   {
    "duration": 113,
    "start_time": "2022-05-22T03:51:06.969Z"
   },
   {
    "duration": 92,
    "start_time": "2022-05-22T03:54:53.747Z"
   },
   {
    "duration": 105,
    "start_time": "2022-05-22T03:55:00.266Z"
   },
   {
    "duration": 106,
    "start_time": "2022-05-22T03:55:33.462Z"
   },
   {
    "duration": 103,
    "start_time": "2022-05-22T03:55:40.772Z"
   },
   {
    "duration": 101,
    "start_time": "2022-05-22T03:57:27.973Z"
   },
   {
    "duration": 98,
    "start_time": "2022-05-22T03:58:18.206Z"
   },
   {
    "duration": 103,
    "start_time": "2022-05-22T03:59:11.433Z"
   },
   {
    "duration": 205,
    "start_time": "2022-05-22T04:01:05.131Z"
   },
   {
    "duration": 36,
    "start_time": "2022-05-22T04:04:11.301Z"
   },
   {
    "duration": 35,
    "start_time": "2022-05-22T04:05:52.926Z"
   },
   {
    "duration": 8,
    "start_time": "2022-05-22T04:06:57.107Z"
   },
   {
    "duration": 33,
    "start_time": "2022-05-22T04:07:03.568Z"
   },
   {
    "duration": 7,
    "start_time": "2022-05-22T04:07:13.218Z"
   },
   {
    "duration": 15,
    "start_time": "2022-05-22T04:13:56.499Z"
   },
   {
    "duration": 79,
    "start_time": "2022-05-22T04:23:19.027Z"
   },
   {
    "duration": 17,
    "start_time": "2022-05-22T04:24:03.067Z"
   },
   {
    "duration": 15,
    "start_time": "2022-05-22T04:24:54.268Z"
   },
   {
    "duration": 116,
    "start_time": "2022-05-22T04:30:22.827Z"
   },
   {
    "duration": 102,
    "start_time": "2022-05-22T04:31:11.867Z"
   },
   {
    "duration": 11,
    "start_time": "2022-05-22T04:35:37.013Z"
   },
   {
    "duration": 104,
    "start_time": "2022-05-22T04:36:35.214Z"
   },
   {
    "duration": 12,
    "start_time": "2022-05-22T04:43:12.206Z"
   },
   {
    "duration": 9,
    "start_time": "2022-05-22T04:44:11.726Z"
   },
   {
    "duration": 123,
    "start_time": "2022-05-22T04:44:24.825Z"
   },
   {
    "duration": 147,
    "start_time": "2022-05-22T04:44:42.926Z"
   },
   {
    "duration": 120,
    "start_time": "2022-05-22T04:46:00.127Z"
   },
   {
    "duration": 14,
    "start_time": "2022-05-22T04:49:15.882Z"
   },
   {
    "duration": 16,
    "start_time": "2022-05-22T04:50:52.802Z"
   },
   {
    "duration": 104,
    "start_time": "2022-05-22T04:53:07.631Z"
   },
   {
    "duration": 50,
    "start_time": "2022-05-22T04:58:40.308Z"
   },
   {
    "duration": 114,
    "start_time": "2022-05-22T04:58:52.486Z"
   },
   {
    "duration": 63,
    "start_time": "2022-05-22T05:02:26.246Z"
   },
   {
    "duration": 66,
    "start_time": "2022-05-22T05:02:51.528Z"
   },
   {
    "duration": 64,
    "start_time": "2022-05-22T05:03:21.587Z"
   },
   {
    "duration": 132,
    "start_time": "2022-05-22T05:03:42.920Z"
   },
   {
    "duration": 133,
    "start_time": "2022-05-22T05:26:21.050Z"
   },
   {
    "duration": 29,
    "start_time": "2022-05-22T05:29:10.547Z"
   },
   {
    "duration": 445,
    "start_time": "2022-05-22T05:29:30.758Z"
   },
   {
    "duration": 14,
    "start_time": "2022-05-22T05:30:17.558Z"
   },
   {
    "duration": 653,
    "start_time": "2022-05-22T05:30:23.123Z"
   },
   {
    "duration": 450,
    "start_time": "2022-05-22T05:30:51.820Z"
   },
   {
    "duration": 16,
    "start_time": "2022-05-22T05:31:46.272Z"
   },
   {
    "duration": 429,
    "start_time": "2022-05-22T05:31:51.978Z"
   },
   {
    "duration": 110,
    "start_time": "2022-05-22T05:32:10.942Z"
   },
   {
    "duration": 120,
    "start_time": "2022-05-22T05:37:41.934Z"
   },
   {
    "duration": 246,
    "start_time": "2022-05-22T05:37:47.076Z"
   },
   {
    "duration": 156,
    "start_time": "2022-05-22T06:58:00.531Z"
   },
   {
    "duration": 26,
    "start_time": "2022-05-22T06:59:30.764Z"
   },
   {
    "duration": 155,
    "start_time": "2022-05-22T06:59:52.007Z"
   },
   {
    "duration": 92,
    "start_time": "2022-05-22T07:30:16.891Z"
   },
   {
    "duration": 378,
    "start_time": "2022-05-22T07:32:45.733Z"
   },
   {
    "duration": 77,
    "start_time": "2022-05-22T07:33:10.212Z"
   },
   {
    "duration": 79,
    "start_time": "2022-05-22T07:36:56.582Z"
   },
   {
    "duration": 55,
    "start_time": "2022-05-22T07:38:34.640Z"
   },
   {
    "duration": 348,
    "start_time": "2022-05-22T07:41:01.862Z"
   },
   {
    "duration": 98,
    "start_time": "2022-05-22T07:41:23.340Z"
   },
   {
    "duration": 124,
    "start_time": "2022-05-22T07:43:39.604Z"
   },
   {
    "duration": 52,
    "start_time": "2022-05-22T07:44:32.857Z"
   },
   {
    "duration": 9,
    "start_time": "2022-05-22T07:44:58.036Z"
   },
   {
    "duration": 9,
    "start_time": "2022-05-22T07:45:16.752Z"
   },
   {
    "duration": 79,
    "start_time": "2022-05-22T07:46:04.501Z"
   },
   {
    "duration": 9,
    "start_time": "2022-05-22T08:53:58.906Z"
   },
   {
    "duration": 17,
    "start_time": "2022-05-22T08:54:52.121Z"
   },
   {
    "duration": 117,
    "start_time": "2022-05-22T09:06:58.756Z"
   },
   {
    "duration": 601,
    "start_time": "2022-05-22T09:08:21.157Z"
   },
   {
    "duration": 9,
    "start_time": "2022-05-22T09:09:35.485Z"
   },
   {
    "duration": 5,
    "start_time": "2022-05-22T09:11:34.025Z"
   },
   {
    "duration": 4,
    "start_time": "2022-05-22T09:12:26.005Z"
   },
   {
    "duration": 22,
    "start_time": "2022-05-22T09:14:10.971Z"
   },
   {
    "duration": 10,
    "start_time": "2022-05-22T09:14:20.853Z"
   },
   {
    "duration": 11,
    "start_time": "2022-05-22T09:16:03.208Z"
   },
   {
    "duration": 9,
    "start_time": "2022-05-22T09:17:22.792Z"
   },
   {
    "duration": 560,
    "start_time": "2022-05-22T09:24:53.932Z"
   },
   {
    "duration": 289,
    "start_time": "2022-05-22T09:25:50.051Z"
   },
   {
    "duration": 399,
    "start_time": "2022-05-22T09:31:55.020Z"
   },
   {
    "duration": 447,
    "start_time": "2022-05-22T09:34:19.468Z"
   },
   {
    "duration": 421,
    "start_time": "2022-05-22T09:38:59.619Z"
   },
   {
    "duration": 394,
    "start_time": "2022-05-22T09:39:24.286Z"
   },
   {
    "duration": 203,
    "start_time": "2022-05-22T09:40:20.176Z"
   },
   {
    "duration": 415,
    "start_time": "2022-05-22T09:45:06.175Z"
   },
   {
    "duration": 1593,
    "start_time": "2022-05-22T17:22:20.416Z"
   },
   {
    "duration": 15,
    "start_time": "2022-05-22T17:22:22.011Z"
   },
   {
    "duration": 8,
    "start_time": "2022-05-22T17:22:22.027Z"
   },
   {
    "duration": 5,
    "start_time": "2022-05-22T17:22:22.037Z"
   },
   {
    "duration": 10,
    "start_time": "2022-05-22T17:22:22.044Z"
   },
   {
    "duration": 80,
    "start_time": "2022-05-22T17:22:22.055Z"
   },
   {
    "duration": 7,
    "start_time": "2022-05-22T17:22:22.137Z"
   },
   {
    "duration": 22,
    "start_time": "2022-05-22T17:22:22.146Z"
   },
   {
    "duration": 30,
    "start_time": "2022-05-22T17:22:22.170Z"
   },
   {
    "duration": 9,
    "start_time": "2022-05-22T17:22:22.202Z"
   },
   {
    "duration": 7,
    "start_time": "2022-05-22T17:22:22.213Z"
   },
   {
    "duration": 35,
    "start_time": "2022-05-22T17:22:22.222Z"
   },
   {
    "duration": 63,
    "start_time": "2022-05-22T17:22:22.260Z"
   },
   {
    "duration": 286,
    "start_time": "2022-05-22T17:22:22.327Z"
   },
   {
    "duration": 6,
    "start_time": "2022-05-22T17:22:22.614Z"
   },
   {
    "duration": 12,
    "start_time": "2022-05-22T17:22:22.621Z"
   },
   {
    "duration": 6,
    "start_time": "2022-05-22T17:22:22.635Z"
   },
   {
    "duration": 9,
    "start_time": "2022-05-22T17:22:22.643Z"
   },
   {
    "duration": 7,
    "start_time": "2022-05-22T17:22:22.653Z"
   },
   {
    "duration": 94,
    "start_time": "2022-05-22T17:22:22.661Z"
   },
   {
    "duration": 298,
    "start_time": "2022-05-22T17:22:22.756Z"
   },
   {
    "duration": 49,
    "start_time": "2022-05-22T17:22:23.056Z"
   },
   {
    "duration": 42,
    "start_time": "2022-05-22T17:22:23.106Z"
   },
   {
    "duration": 188,
    "start_time": "2022-05-22T17:22:23.149Z"
   },
   {
    "duration": 172,
    "start_time": "2022-05-22T17:22:23.339Z"
   },
   {
    "duration": 153,
    "start_time": "2022-05-22T17:22:23.513Z"
   },
   {
    "duration": 188,
    "start_time": "2022-05-22T17:22:23.668Z"
   },
   {
    "duration": 178,
    "start_time": "2022-05-22T17:22:23.857Z"
   },
   {
    "duration": 6,
    "start_time": "2022-05-22T17:22:24.036Z"
   },
   {
    "duration": 174,
    "start_time": "2022-05-22T17:22:24.044Z"
   },
   {
    "duration": 4,
    "start_time": "2022-05-22T17:22:24.220Z"
   },
   {
    "duration": 7,
    "start_time": "2022-05-22T17:22:24.226Z"
   },
   {
    "duration": 19,
    "start_time": "2022-05-22T17:22:24.235Z"
   },
   {
    "duration": 141,
    "start_time": "2022-05-22T17:22:24.256Z"
   },
   {
    "duration": 127,
    "start_time": "2022-05-22T17:22:24.399Z"
   },
   {
    "duration": 3,
    "start_time": "2022-05-22T17:22:24.527Z"
   },
   {
    "duration": 190,
    "start_time": "2022-05-22T17:22:24.532Z"
   },
   {
    "duration": 109,
    "start_time": "2022-05-22T17:22:24.724Z"
   },
   {
    "duration": 124,
    "start_time": "2022-05-22T17:22:24.834Z"
   },
   {
    "duration": 116,
    "start_time": "2022-05-22T17:22:24.959Z"
   },
   {
    "duration": 119,
    "start_time": "2022-05-22T17:22:25.079Z"
   },
   {
    "duration": 118,
    "start_time": "2022-05-22T17:22:25.199Z"
   },
   {
    "duration": 4,
    "start_time": "2022-05-22T17:22:25.319Z"
   },
   {
    "duration": 40,
    "start_time": "2022-05-22T17:22:25.324Z"
   },
   {
    "duration": 193,
    "start_time": "2022-05-22T17:22:25.366Z"
   },
   {
    "duration": 39,
    "start_time": "2022-05-22T17:22:25.560Z"
   },
   {
    "duration": 4,
    "start_time": "2022-05-22T17:22:25.601Z"
   },
   {
    "duration": 173,
    "start_time": "2022-05-22T17:22:25.606Z"
   },
   {
    "duration": 36,
    "start_time": "2022-05-22T17:22:25.781Z"
   },
   {
    "duration": 3,
    "start_time": "2022-05-22T17:22:25.819Z"
   },
   {
    "duration": 210,
    "start_time": "2022-05-22T17:22:25.824Z"
   },
   {
    "duration": 17,
    "start_time": "2022-05-22T17:22:26.036Z"
   },
   {
    "duration": 158,
    "start_time": "2022-05-22T17:22:26.054Z"
   },
   {
    "duration": 26,
    "start_time": "2022-05-22T17:22:26.213Z"
   },
   {
    "duration": 173,
    "start_time": "2022-05-22T17:22:26.241Z"
   },
   {
    "duration": 14,
    "start_time": "2022-05-22T17:22:26.416Z"
   },
   {
    "duration": 204,
    "start_time": "2022-05-22T17:22:26.431Z"
   },
   {
    "duration": 12,
    "start_time": "2022-05-22T17:22:26.636Z"
   },
   {
    "duration": 175,
    "start_time": "2022-05-22T17:22:26.650Z"
   },
   {
    "duration": 6,
    "start_time": "2022-05-22T17:22:26.827Z"
   },
   {
    "duration": 25,
    "start_time": "2022-05-22T17:22:26.834Z"
   },
   {
    "duration": 35,
    "start_time": "2022-05-22T17:22:26.861Z"
   },
   {
    "duration": 6,
    "start_time": "2022-05-22T17:22:26.898Z"
   },
   {
    "duration": 5,
    "start_time": "2022-05-22T17:22:26.906Z"
   },
   {
    "duration": 138,
    "start_time": "2022-05-22T17:22:26.912Z"
   },
   {
    "duration": 11,
    "start_time": "2022-05-22T17:22:27.051Z"
   },
   {
    "duration": 49,
    "start_time": "2022-05-22T17:22:27.064Z"
   },
   {
    "duration": 7,
    "start_time": "2022-05-22T17:22:27.114Z"
   },
   {
    "duration": 10,
    "start_time": "2022-05-22T17:22:27.122Z"
   },
   {
    "duration": 15,
    "start_time": "2022-05-22T17:22:27.134Z"
   },
   {
    "duration": 16,
    "start_time": "2022-05-22T17:22:27.151Z"
   },
   {
    "duration": 121,
    "start_time": "2022-05-22T17:22:27.200Z"
   },
   {
    "duration": 0,
    "start_time": "2022-05-22T17:22:27.323Z"
   },
   {
    "duration": 0,
    "start_time": "2022-05-22T17:22:27.325Z"
   },
   {
    "duration": 0,
    "start_time": "2022-05-22T17:22:27.327Z"
   },
   {
    "duration": 0,
    "start_time": "2022-05-22T17:22:27.329Z"
   },
   {
    "duration": 0,
    "start_time": "2022-05-22T17:22:27.330Z"
   },
   {
    "duration": 0,
    "start_time": "2022-05-22T17:22:27.331Z"
   },
   {
    "duration": 0,
    "start_time": "2022-05-22T17:22:27.333Z"
   },
   {
    "duration": 0,
    "start_time": "2022-05-22T17:22:27.335Z"
   },
   {
    "duration": 0,
    "start_time": "2022-05-22T17:22:27.336Z"
   },
   {
    "duration": 0,
    "start_time": "2022-05-22T17:22:27.337Z"
   },
   {
    "duration": 0,
    "start_time": "2022-05-22T17:22:27.338Z"
   },
   {
    "duration": 0,
    "start_time": "2022-05-22T17:22:27.340Z"
   },
   {
    "duration": 0,
    "start_time": "2022-05-22T17:22:27.341Z"
   },
   {
    "duration": 0,
    "start_time": "2022-05-22T17:22:27.343Z"
   },
   {
    "duration": 0,
    "start_time": "2022-05-22T17:22:27.344Z"
   },
   {
    "duration": 0,
    "start_time": "2022-05-22T17:22:27.346Z"
   },
   {
    "duration": 624,
    "start_time": "2022-05-22T17:23:30.642Z"
   },
   {
    "duration": 3,
    "start_time": "2022-05-22T17:24:10.728Z"
   },
   {
    "duration": 64,
    "start_time": "2022-05-22T17:25:07.377Z"
   },
   {
    "duration": 18,
    "start_time": "2022-05-22T17:25:22.132Z"
   },
   {
    "duration": 41,
    "start_time": "2022-05-22T17:25:29.114Z"
   },
   {
    "duration": 4,
    "start_time": "2022-05-22T17:26:06.340Z"
   },
   {
    "duration": 4,
    "start_time": "2022-05-22T17:26:39.238Z"
   },
   {
    "duration": 1352,
    "start_time": "2022-05-22T17:26:46.128Z"
   },
   {
    "duration": 31,
    "start_time": "2022-05-22T17:26:47.483Z"
   },
   {
    "duration": 36,
    "start_time": "2022-05-22T17:26:47.517Z"
   },
   {
    "duration": 8,
    "start_time": "2022-05-22T17:26:47.556Z"
   },
   {
    "duration": 40,
    "start_time": "2022-05-22T17:26:47.568Z"
   },
   {
    "duration": 68,
    "start_time": "2022-05-22T17:26:47.611Z"
   },
   {
    "duration": 18,
    "start_time": "2022-05-22T17:26:47.681Z"
   },
   {
    "duration": 55,
    "start_time": "2022-05-22T17:26:47.701Z"
   },
   {
    "duration": 11,
    "start_time": "2022-05-22T17:26:47.758Z"
   },
   {
    "duration": 10,
    "start_time": "2022-05-22T17:26:47.771Z"
   },
   {
    "duration": 9,
    "start_time": "2022-05-22T17:26:47.783Z"
   },
   {
    "duration": 29,
    "start_time": "2022-05-22T17:26:47.800Z"
   },
   {
    "duration": 50,
    "start_time": "2022-05-22T17:26:47.831Z"
   },
   {
    "duration": 327,
    "start_time": "2022-05-22T17:26:47.884Z"
   },
   {
    "duration": 9,
    "start_time": "2022-05-22T17:26:48.217Z"
   },
   {
    "duration": 11,
    "start_time": "2022-05-22T17:26:48.228Z"
   },
   {
    "duration": 26,
    "start_time": "2022-05-22T17:26:48.240Z"
   },
   {
    "duration": 15,
    "start_time": "2022-05-22T17:26:48.268Z"
   },
   {
    "duration": 13,
    "start_time": "2022-05-22T17:26:48.285Z"
   },
   {
    "duration": 113,
    "start_time": "2022-05-22T17:26:48.304Z"
   },
   {
    "duration": 311,
    "start_time": "2022-05-22T17:26:48.419Z"
   },
   {
    "duration": 73,
    "start_time": "2022-05-22T17:26:48.732Z"
   },
   {
    "duration": 54,
    "start_time": "2022-05-22T17:26:48.813Z"
   },
   {
    "duration": 201,
    "start_time": "2022-05-22T17:26:48.870Z"
   },
   {
    "duration": 200,
    "start_time": "2022-05-22T17:26:49.073Z"
   },
   {
    "duration": 200,
    "start_time": "2022-05-22T17:26:49.275Z"
   },
   {
    "duration": 201,
    "start_time": "2022-05-22T17:26:49.477Z"
   },
   {
    "duration": 200,
    "start_time": "2022-05-22T17:26:49.680Z"
   },
   {
    "duration": 16,
    "start_time": "2022-05-22T17:26:49.882Z"
   },
   {
    "duration": 214,
    "start_time": "2022-05-22T17:26:49.904Z"
   },
   {
    "duration": 5,
    "start_time": "2022-05-22T17:26:50.120Z"
   },
   {
    "duration": 9,
    "start_time": "2022-05-22T17:26:50.126Z"
   },
   {
    "duration": 20,
    "start_time": "2022-05-22T17:26:50.137Z"
   },
   {
    "duration": 154,
    "start_time": "2022-05-22T17:26:50.159Z"
   },
   {
    "duration": 144,
    "start_time": "2022-05-22T17:26:50.315Z"
   },
   {
    "duration": 4,
    "start_time": "2022-05-22T17:26:50.461Z"
   },
   {
    "duration": 8,
    "start_time": "2022-05-22T17:26:50.466Z"
   },
   {
    "duration": 234,
    "start_time": "2022-05-22T17:26:50.476Z"
   },
   {
    "duration": 130,
    "start_time": "2022-05-22T17:26:50.713Z"
   },
   {
    "duration": 4,
    "start_time": "2022-05-22T17:26:50.844Z"
   },
   {
    "duration": 129,
    "start_time": "2022-05-22T17:26:50.853Z"
   },
   {
    "duration": 140,
    "start_time": "2022-05-22T17:26:50.984Z"
   },
   {
    "duration": 128,
    "start_time": "2022-05-22T17:26:51.126Z"
   },
   {
    "duration": 158,
    "start_time": "2022-05-22T17:26:51.256Z"
   },
   {
    "duration": 4,
    "start_time": "2022-05-22T17:26:51.416Z"
   },
   {
    "duration": 41,
    "start_time": "2022-05-22T17:26:51.422Z"
   },
   {
    "duration": 185,
    "start_time": "2022-05-22T17:26:51.466Z"
   },
   {
    "duration": 49,
    "start_time": "2022-05-22T17:26:51.653Z"
   },
   {
    "duration": 6,
    "start_time": "2022-05-22T17:26:51.709Z"
   },
   {
    "duration": 208,
    "start_time": "2022-05-22T17:26:51.717Z"
   },
   {
    "duration": 39,
    "start_time": "2022-05-22T17:26:51.927Z"
   },
   {
    "duration": 5,
    "start_time": "2022-05-22T17:26:51.968Z"
   },
   {
    "duration": 217,
    "start_time": "2022-05-22T17:26:51.996Z"
   },
   {
    "duration": 20,
    "start_time": "2022-05-22T17:26:52.215Z"
   },
   {
    "duration": 210,
    "start_time": "2022-05-22T17:26:52.237Z"
   },
   {
    "duration": 15,
    "start_time": "2022-05-22T17:26:52.448Z"
   },
   {
    "duration": 191,
    "start_time": "2022-05-22T17:26:52.465Z"
   },
   {
    "duration": 15,
    "start_time": "2022-05-22T17:26:52.658Z"
   },
   {
    "duration": 217,
    "start_time": "2022-05-22T17:26:52.674Z"
   },
   {
    "duration": 19,
    "start_time": "2022-05-22T17:26:52.894Z"
   },
   {
    "duration": 202,
    "start_time": "2022-05-22T17:26:52.915Z"
   },
   {
    "duration": 7,
    "start_time": "2022-05-22T17:26:53.119Z"
   },
   {
    "duration": 35,
    "start_time": "2022-05-22T17:26:53.127Z"
   },
   {
    "duration": 49,
    "start_time": "2022-05-22T17:26:53.164Z"
   },
   {
    "duration": 9,
    "start_time": "2022-05-22T17:26:53.214Z"
   },
   {
    "duration": 11,
    "start_time": "2022-05-22T17:26:53.225Z"
   },
   {
    "duration": 140,
    "start_time": "2022-05-22T17:26:53.238Z"
   },
   {
    "duration": 21,
    "start_time": "2022-05-22T17:26:53.380Z"
   },
   {
    "duration": 39,
    "start_time": "2022-05-22T17:26:53.406Z"
   },
   {
    "duration": 8,
    "start_time": "2022-05-22T17:26:53.447Z"
   },
   {
    "duration": 11,
    "start_time": "2022-05-22T17:26:53.457Z"
   },
   {
    "duration": 43,
    "start_time": "2022-05-22T17:26:53.470Z"
   },
   {
    "duration": 18,
    "start_time": "2022-05-22T17:26:53.515Z"
   },
   {
    "duration": 127,
    "start_time": "2022-05-22T17:26:53.535Z"
   },
   {
    "duration": 0,
    "start_time": "2022-05-22T17:26:53.664Z"
   },
   {
    "duration": 0,
    "start_time": "2022-05-22T17:26:53.665Z"
   },
   {
    "duration": 1,
    "start_time": "2022-05-22T17:26:53.666Z"
   },
   {
    "duration": 0,
    "start_time": "2022-05-22T17:26:53.668Z"
   },
   {
    "duration": 0,
    "start_time": "2022-05-22T17:26:53.669Z"
   },
   {
    "duration": 0,
    "start_time": "2022-05-22T17:26:53.672Z"
   },
   {
    "duration": 0,
    "start_time": "2022-05-22T17:26:53.674Z"
   },
   {
    "duration": 0,
    "start_time": "2022-05-22T17:26:53.695Z"
   },
   {
    "duration": 0,
    "start_time": "2022-05-22T17:26:53.697Z"
   },
   {
    "duration": 0,
    "start_time": "2022-05-22T17:26:53.697Z"
   },
   {
    "duration": 0,
    "start_time": "2022-05-22T17:26:53.698Z"
   },
   {
    "duration": 0,
    "start_time": "2022-05-22T17:26:53.699Z"
   },
   {
    "duration": 0,
    "start_time": "2022-05-22T17:26:53.709Z"
   },
   {
    "duration": 0,
    "start_time": "2022-05-22T17:26:53.710Z"
   },
   {
    "duration": 0,
    "start_time": "2022-05-22T17:26:53.712Z"
   },
   {
    "duration": 0,
    "start_time": "2022-05-22T17:26:53.714Z"
   },
   {
    "duration": 1092,
    "start_time": "2022-05-22T17:29:18.802Z"
   },
   {
    "duration": 17,
    "start_time": "2022-05-22T17:29:19.896Z"
   },
   {
    "duration": 18,
    "start_time": "2022-05-22T17:29:19.914Z"
   },
   {
    "duration": 10,
    "start_time": "2022-05-22T17:29:19.934Z"
   },
   {
    "duration": 21,
    "start_time": "2022-05-22T17:29:19.946Z"
   },
   {
    "duration": 64,
    "start_time": "2022-05-22T17:29:19.969Z"
   },
   {
    "duration": 8,
    "start_time": "2022-05-22T17:29:20.035Z"
   },
   {
    "duration": 32,
    "start_time": "2022-05-22T17:29:20.045Z"
   },
   {
    "duration": 23,
    "start_time": "2022-05-22T17:29:20.078Z"
   },
   {
    "duration": 19,
    "start_time": "2022-05-22T17:29:20.103Z"
   },
   {
    "duration": 10,
    "start_time": "2022-05-22T17:29:20.124Z"
   },
   {
    "duration": 27,
    "start_time": "2022-05-22T17:29:20.136Z"
   },
   {
    "duration": 55,
    "start_time": "2022-05-22T17:29:20.165Z"
   },
   {
    "duration": 296,
    "start_time": "2022-05-22T17:29:20.224Z"
   },
   {
    "duration": 7,
    "start_time": "2022-05-22T17:29:20.522Z"
   },
   {
    "duration": 8,
    "start_time": "2022-05-22T17:29:20.530Z"
   },
   {
    "duration": 7,
    "start_time": "2022-05-22T17:29:20.539Z"
   },
   {
    "duration": 10,
    "start_time": "2022-05-22T17:29:20.548Z"
   },
   {
    "duration": 38,
    "start_time": "2022-05-22T17:29:20.560Z"
   },
   {
    "duration": 69,
    "start_time": "2022-05-22T17:29:20.599Z"
   },
   {
    "duration": 297,
    "start_time": "2022-05-22T17:29:20.670Z"
   },
   {
    "duration": 51,
    "start_time": "2022-05-22T17:29:20.968Z"
   },
   {
    "duration": 48,
    "start_time": "2022-05-22T17:29:21.022Z"
   },
   {
    "duration": 209,
    "start_time": "2022-05-22T17:29:21.072Z"
   },
   {
    "duration": 174,
    "start_time": "2022-05-22T17:29:21.283Z"
   },
   {
    "duration": 165,
    "start_time": "2022-05-22T17:29:21.459Z"
   },
   {
    "duration": 197,
    "start_time": "2022-05-22T17:29:21.625Z"
   },
   {
    "duration": 194,
    "start_time": "2022-05-22T17:29:21.825Z"
   },
   {
    "duration": 7,
    "start_time": "2022-05-22T17:29:22.021Z"
   },
   {
    "duration": 191,
    "start_time": "2022-05-22T17:29:22.030Z"
   },
   {
    "duration": 5,
    "start_time": "2022-05-22T17:29:22.223Z"
   },
   {
    "duration": 7,
    "start_time": "2022-05-22T17:29:22.229Z"
   },
   {
    "duration": 19,
    "start_time": "2022-05-22T17:29:22.238Z"
   },
   {
    "duration": 152,
    "start_time": "2022-05-22T17:29:22.258Z"
   },
   {
    "duration": 132,
    "start_time": "2022-05-22T17:29:22.412Z"
   },
   {
    "duration": 4,
    "start_time": "2022-05-22T17:29:22.546Z"
   },
   {
    "duration": 6,
    "start_time": "2022-05-22T17:29:22.552Z"
   },
   {
    "duration": 205,
    "start_time": "2022-05-22T17:29:22.560Z"
   },
   {
    "duration": 117,
    "start_time": "2022-05-22T17:29:22.767Z"
   },
   {
    "duration": 128,
    "start_time": "2022-05-22T17:29:22.886Z"
   },
   {
    "duration": 120,
    "start_time": "2022-05-22T17:29:23.018Z"
   },
   {
    "duration": 115,
    "start_time": "2022-05-22T17:29:23.139Z"
   },
   {
    "duration": 121,
    "start_time": "2022-05-22T17:29:23.256Z"
   },
   {
    "duration": 4,
    "start_time": "2022-05-22T17:29:23.378Z"
   },
   {
    "duration": 49,
    "start_time": "2022-05-22T17:29:23.384Z"
   },
   {
    "duration": 160,
    "start_time": "2022-05-22T17:29:23.435Z"
   },
   {
    "duration": 33,
    "start_time": "2022-05-22T17:29:23.596Z"
   },
   {
    "duration": 5,
    "start_time": "2022-05-22T17:29:23.631Z"
   },
   {
    "duration": 175,
    "start_time": "2022-05-22T17:29:23.638Z"
   },
   {
    "duration": 32,
    "start_time": "2022-05-22T17:29:23.814Z"
   },
   {
    "duration": 11,
    "start_time": "2022-05-22T17:29:23.848Z"
   },
   {
    "duration": 213,
    "start_time": "2022-05-22T17:29:23.861Z"
   },
   {
    "duration": 24,
    "start_time": "2022-05-22T17:29:24.076Z"
   },
   {
    "duration": 173,
    "start_time": "2022-05-22T17:29:24.102Z"
   },
   {
    "duration": 24,
    "start_time": "2022-05-22T17:29:24.277Z"
   },
   {
    "duration": 185,
    "start_time": "2022-05-22T17:29:24.303Z"
   },
   {
    "duration": 13,
    "start_time": "2022-05-22T17:29:24.494Z"
   },
   {
    "duration": 211,
    "start_time": "2022-05-22T17:29:24.509Z"
   },
   {
    "duration": 13,
    "start_time": "2022-05-22T17:29:24.722Z"
   },
   {
    "duration": 189,
    "start_time": "2022-05-22T17:29:24.737Z"
   },
   {
    "duration": 6,
    "start_time": "2022-05-22T17:29:24.928Z"
   },
   {
    "duration": 30,
    "start_time": "2022-05-22T17:29:24.935Z"
   },
   {
    "duration": 37,
    "start_time": "2022-05-22T17:29:24.967Z"
   },
   {
    "duration": 7,
    "start_time": "2022-05-22T17:29:25.006Z"
   },
   {
    "duration": 9,
    "start_time": "2022-05-22T17:29:25.015Z"
   },
   {
    "duration": 149,
    "start_time": "2022-05-22T17:29:25.026Z"
   },
   {
    "duration": 8,
    "start_time": "2022-05-22T17:29:25.177Z"
   },
   {
    "duration": 44,
    "start_time": "2022-05-22T17:29:25.186Z"
   },
   {
    "duration": 7,
    "start_time": "2022-05-22T17:29:25.233Z"
   },
   {
    "duration": 7,
    "start_time": "2022-05-22T17:29:25.242Z"
   },
   {
    "duration": 13,
    "start_time": "2022-05-22T17:29:25.251Z"
   },
   {
    "duration": 42,
    "start_time": "2022-05-22T17:29:25.266Z"
   },
   {
    "duration": 115,
    "start_time": "2022-05-22T17:29:25.310Z"
   },
   {
    "duration": 0,
    "start_time": "2022-05-22T17:29:25.427Z"
   },
   {
    "duration": 0,
    "start_time": "2022-05-22T17:29:25.429Z"
   },
   {
    "duration": 0,
    "start_time": "2022-05-22T17:29:25.430Z"
   },
   {
    "duration": 0,
    "start_time": "2022-05-22T17:29:25.432Z"
   },
   {
    "duration": 0,
    "start_time": "2022-05-22T17:29:25.433Z"
   },
   {
    "duration": 0,
    "start_time": "2022-05-22T17:29:25.436Z"
   },
   {
    "duration": 0,
    "start_time": "2022-05-22T17:29:25.438Z"
   },
   {
    "duration": 0,
    "start_time": "2022-05-22T17:29:25.439Z"
   },
   {
    "duration": 0,
    "start_time": "2022-05-22T17:29:25.440Z"
   },
   {
    "duration": 0,
    "start_time": "2022-05-22T17:29:25.441Z"
   },
   {
    "duration": 0,
    "start_time": "2022-05-22T17:29:25.448Z"
   },
   {
    "duration": 0,
    "start_time": "2022-05-22T17:29:25.450Z"
   },
   {
    "duration": 0,
    "start_time": "2022-05-22T17:29:25.452Z"
   },
   {
    "duration": 0,
    "start_time": "2022-05-22T17:29:25.453Z"
   },
   {
    "duration": 0,
    "start_time": "2022-05-22T17:29:25.454Z"
   },
   {
    "duration": 0,
    "start_time": "2022-05-22T17:29:25.455Z"
   },
   {
    "duration": 109,
    "start_time": "2022-05-22T17:33:16.349Z"
   },
   {
    "duration": 893,
    "start_time": "2022-05-22T17:34:17.107Z"
   },
   {
    "duration": 16,
    "start_time": "2022-05-22T17:34:18.002Z"
   },
   {
    "duration": 9,
    "start_time": "2022-05-22T17:34:18.019Z"
   },
   {
    "duration": 7,
    "start_time": "2022-05-22T17:34:18.030Z"
   },
   {
    "duration": 11,
    "start_time": "2022-05-22T17:34:18.039Z"
   },
   {
    "duration": 80,
    "start_time": "2022-05-22T17:34:18.051Z"
   },
   {
    "duration": 8,
    "start_time": "2022-05-22T17:34:18.133Z"
   },
   {
    "duration": 24,
    "start_time": "2022-05-22T17:34:18.142Z"
   },
   {
    "duration": 9,
    "start_time": "2022-05-22T17:34:18.167Z"
   },
   {
    "duration": 9,
    "start_time": "2022-05-22T17:34:18.197Z"
   },
   {
    "duration": 7,
    "start_time": "2022-05-22T17:34:18.207Z"
   },
   {
    "duration": 25,
    "start_time": "2022-05-22T17:34:18.216Z"
   },
   {
    "duration": 67,
    "start_time": "2022-05-22T17:34:18.243Z"
   },
   {
    "duration": 310,
    "start_time": "2022-05-22T17:34:18.312Z"
   },
   {
    "duration": 8,
    "start_time": "2022-05-22T17:34:18.624Z"
   },
   {
    "duration": 15,
    "start_time": "2022-05-22T17:34:18.634Z"
   },
   {
    "duration": 7,
    "start_time": "2022-05-22T17:34:18.651Z"
   },
   {
    "duration": 7,
    "start_time": "2022-05-22T17:34:18.659Z"
   },
   {
    "duration": 28,
    "start_time": "2022-05-22T17:34:18.668Z"
   },
   {
    "duration": 74,
    "start_time": "2022-05-22T17:34:18.697Z"
   },
   {
    "duration": 322,
    "start_time": "2022-05-22T17:34:18.773Z"
   },
   {
    "duration": 44,
    "start_time": "2022-05-22T17:34:19.097Z"
   },
   {
    "duration": 58,
    "start_time": "2022-05-22T17:34:19.143Z"
   },
   {
    "duration": 185,
    "start_time": "2022-05-22T17:34:19.202Z"
   },
   {
    "duration": 162,
    "start_time": "2022-05-22T17:34:19.388Z"
   },
   {
    "duration": 178,
    "start_time": "2022-05-22T17:34:19.552Z"
   },
   {
    "duration": 196,
    "start_time": "2022-05-22T17:34:19.732Z"
   },
   {
    "duration": 188,
    "start_time": "2022-05-22T17:34:19.933Z"
   },
   {
    "duration": 6,
    "start_time": "2022-05-22T17:34:20.123Z"
   },
   {
    "duration": 184,
    "start_time": "2022-05-22T17:34:20.131Z"
   },
   {
    "duration": 4,
    "start_time": "2022-05-22T17:34:20.317Z"
   },
   {
    "duration": 8,
    "start_time": "2022-05-22T17:34:20.322Z"
   },
   {
    "duration": 19,
    "start_time": "2022-05-22T17:34:20.332Z"
   },
   {
    "duration": 143,
    "start_time": "2022-05-22T17:34:20.353Z"
   },
   {
    "duration": 139,
    "start_time": "2022-05-22T17:34:20.498Z"
   },
   {
    "duration": 219,
    "start_time": "2022-05-22T17:34:20.639Z"
   },
   {
    "duration": 113,
    "start_time": "2022-05-22T17:34:20.860Z"
   },
   {
    "duration": 130,
    "start_time": "2022-05-22T17:34:20.974Z"
   },
   {
    "duration": 133,
    "start_time": "2022-05-22T17:34:21.105Z"
   },
   {
    "duration": 123,
    "start_time": "2022-05-22T17:34:21.240Z"
   },
   {
    "duration": 119,
    "start_time": "2022-05-22T17:34:21.365Z"
   },
   {
    "duration": 12,
    "start_time": "2022-05-22T17:34:21.486Z"
   },
   {
    "duration": 38,
    "start_time": "2022-05-22T17:34:21.500Z"
   },
   {
    "duration": 186,
    "start_time": "2022-05-22T17:34:21.540Z"
   },
   {
    "duration": 34,
    "start_time": "2022-05-22T17:34:21.728Z"
   },
   {
    "duration": 4,
    "start_time": "2022-05-22T17:34:21.764Z"
   },
   {
    "duration": 186,
    "start_time": "2022-05-22T17:34:21.770Z"
   },
   {
    "duration": 46,
    "start_time": "2022-05-22T17:34:21.957Z"
   },
   {
    "duration": 4,
    "start_time": "2022-05-22T17:34:22.005Z"
   },
   {
    "duration": 208,
    "start_time": "2022-05-22T17:34:22.011Z"
   },
   {
    "duration": 22,
    "start_time": "2022-05-22T17:34:22.221Z"
   },
   {
    "duration": 173,
    "start_time": "2022-05-22T17:34:22.245Z"
   },
   {
    "duration": 14,
    "start_time": "2022-05-22T17:34:22.419Z"
   },
   {
    "duration": 182,
    "start_time": "2022-05-22T17:34:22.435Z"
   },
   {
    "duration": 14,
    "start_time": "2022-05-22T17:34:22.620Z"
   },
   {
    "duration": 224,
    "start_time": "2022-05-22T17:34:22.636Z"
   },
   {
    "duration": 14,
    "start_time": "2022-05-22T17:34:22.862Z"
   },
   {
    "duration": 200,
    "start_time": "2022-05-22T17:34:22.879Z"
   },
   {
    "duration": 14,
    "start_time": "2022-05-22T17:34:23.081Z"
   },
   {
    "duration": 45,
    "start_time": "2022-05-22T17:34:23.097Z"
   },
   {
    "duration": 15,
    "start_time": "2022-05-22T17:34:23.143Z"
   },
   {
    "duration": 22,
    "start_time": "2022-05-22T17:34:23.159Z"
   },
   {
    "duration": 6,
    "start_time": "2022-05-22T17:34:23.183Z"
   },
   {
    "duration": 150,
    "start_time": "2022-05-22T17:34:23.190Z"
   },
   {
    "duration": 7,
    "start_time": "2022-05-22T17:34:23.342Z"
   },
   {
    "duration": 69,
    "start_time": "2022-05-22T17:34:23.351Z"
   },
   {
    "duration": 8,
    "start_time": "2022-05-22T17:34:23.422Z"
   },
   {
    "duration": 16,
    "start_time": "2022-05-22T17:34:23.432Z"
   },
   {
    "duration": 25,
    "start_time": "2022-05-22T17:34:23.450Z"
   },
   {
    "duration": 30,
    "start_time": "2022-05-22T17:34:23.477Z"
   },
   {
    "duration": 114,
    "start_time": "2022-05-22T17:34:23.509Z"
   },
   {
    "duration": 0,
    "start_time": "2022-05-22T17:34:23.626Z"
   },
   {
    "duration": 0,
    "start_time": "2022-05-22T17:34:23.627Z"
   },
   {
    "duration": 0,
    "start_time": "2022-05-22T17:34:23.628Z"
   },
   {
    "duration": 0,
    "start_time": "2022-05-22T17:34:23.629Z"
   },
   {
    "duration": 0,
    "start_time": "2022-05-22T17:34:23.630Z"
   },
   {
    "duration": 0,
    "start_time": "2022-05-22T17:34:23.631Z"
   },
   {
    "duration": 0,
    "start_time": "2022-05-22T17:34:23.632Z"
   },
   {
    "duration": 0,
    "start_time": "2022-05-22T17:34:23.633Z"
   },
   {
    "duration": 0,
    "start_time": "2022-05-22T17:34:23.634Z"
   },
   {
    "duration": 0,
    "start_time": "2022-05-22T17:34:23.635Z"
   },
   {
    "duration": 0,
    "start_time": "2022-05-22T17:34:23.636Z"
   },
   {
    "duration": 0,
    "start_time": "2022-05-22T17:34:23.637Z"
   },
   {
    "duration": 0,
    "start_time": "2022-05-22T17:34:23.638Z"
   },
   {
    "duration": 0,
    "start_time": "2022-05-22T17:34:23.639Z"
   },
   {
    "duration": 0,
    "start_time": "2022-05-22T17:34:23.640Z"
   },
   {
    "duration": 0,
    "start_time": "2022-05-22T17:34:23.640Z"
   },
   {
    "duration": 19,
    "start_time": "2022-05-22T17:43:02.041Z"
   },
   {
    "duration": 161,
    "start_time": "2022-05-22T17:43:07.876Z"
   },
   {
    "duration": 60,
    "start_time": "2022-05-22T17:47:00.943Z"
   },
   {
    "duration": 50,
    "start_time": "2022-05-22T17:47:02.140Z"
   },
   {
    "duration": 940,
    "start_time": "2022-05-23T11:54:18.508Z"
   },
   {
    "duration": 16,
    "start_time": "2022-05-23T11:54:19.450Z"
   },
   {
    "duration": 9,
    "start_time": "2022-05-23T11:54:19.468Z"
   },
   {
    "duration": 23,
    "start_time": "2022-05-23T11:54:19.479Z"
   },
   {
    "duration": 9,
    "start_time": "2022-05-23T11:54:19.504Z"
   },
   {
    "duration": 59,
    "start_time": "2022-05-23T11:54:19.515Z"
   },
   {
    "duration": 11,
    "start_time": "2022-05-23T11:54:19.594Z"
   },
   {
    "duration": 29,
    "start_time": "2022-05-23T11:54:19.607Z"
   },
   {
    "duration": 7,
    "start_time": "2022-05-23T11:54:19.638Z"
   },
   {
    "duration": 11,
    "start_time": "2022-05-23T11:54:19.646Z"
   },
   {
    "duration": 6,
    "start_time": "2022-05-23T11:54:19.658Z"
   },
   {
    "duration": 39,
    "start_time": "2022-05-23T11:54:19.666Z"
   },
   {
    "duration": 52,
    "start_time": "2022-05-23T11:54:19.707Z"
   },
   {
    "duration": 333,
    "start_time": "2022-05-23T11:54:19.763Z"
   },
   {
    "duration": 12,
    "start_time": "2022-05-23T11:54:20.101Z"
   },
   {
    "duration": 16,
    "start_time": "2022-05-23T11:54:20.116Z"
   },
   {
    "duration": 9,
    "start_time": "2022-05-23T11:54:20.133Z"
   },
   {
    "duration": 9,
    "start_time": "2022-05-23T11:54:20.144Z"
   },
   {
    "duration": 7,
    "start_time": "2022-05-23T11:54:20.155Z"
   },
   {
    "duration": 110,
    "start_time": "2022-05-23T11:54:20.164Z"
   },
   {
    "duration": 310,
    "start_time": "2022-05-23T11:54:20.276Z"
   },
   {
    "duration": 52,
    "start_time": "2022-05-23T11:54:20.587Z"
   },
   {
    "duration": 55,
    "start_time": "2022-05-23T11:54:20.641Z"
   },
   {
    "duration": 195,
    "start_time": "2022-05-23T11:54:20.699Z"
   },
   {
    "duration": 183,
    "start_time": "2022-05-23T11:54:20.897Z"
   },
   {
    "duration": 179,
    "start_time": "2022-05-23T11:54:21.082Z"
   },
   {
    "duration": 199,
    "start_time": "2022-05-23T11:54:21.263Z"
   },
   {
    "duration": 219,
    "start_time": "2022-05-23T11:54:21.463Z"
   },
   {
    "duration": 13,
    "start_time": "2022-05-23T11:54:21.684Z"
   },
   {
    "duration": 199,
    "start_time": "2022-05-23T11:54:21.699Z"
   },
   {
    "duration": 12,
    "start_time": "2022-05-23T11:54:21.900Z"
   },
   {
    "duration": 29,
    "start_time": "2022-05-23T11:54:21.914Z"
   },
   {
    "duration": 38,
    "start_time": "2022-05-23T11:54:21.945Z"
   },
   {
    "duration": 130,
    "start_time": "2022-05-23T11:54:21.985Z"
   },
   {
    "duration": 144,
    "start_time": "2022-05-23T11:54:22.118Z"
   },
   {
    "duration": 213,
    "start_time": "2022-05-23T11:54:22.265Z"
   },
   {
    "duration": 116,
    "start_time": "2022-05-23T11:54:22.480Z"
   },
   {
    "duration": 135,
    "start_time": "2022-05-23T11:54:22.598Z"
   },
   {
    "duration": 127,
    "start_time": "2022-05-23T11:54:22.734Z"
   },
   {
    "duration": 125,
    "start_time": "2022-05-23T11:54:22.863Z"
   },
   {
    "duration": 137,
    "start_time": "2022-05-23T11:54:23.000Z"
   },
   {
    "duration": 37,
    "start_time": "2022-05-23T11:54:23.139Z"
   },
   {
    "duration": 175,
    "start_time": "2022-05-23T11:54:23.178Z"
   },
   {
    "duration": 41,
    "start_time": "2022-05-23T11:54:23.355Z"
   },
   {
    "duration": 6,
    "start_time": "2022-05-23T11:54:23.398Z"
   },
   {
    "duration": 180,
    "start_time": "2022-05-23T11:54:23.406Z"
   },
   {
    "duration": 38,
    "start_time": "2022-05-23T11:54:23.587Z"
   },
   {
    "duration": 4,
    "start_time": "2022-05-23T11:54:23.628Z"
   },
   {
    "duration": 228,
    "start_time": "2022-05-23T11:54:23.634Z"
   },
   {
    "duration": 18,
    "start_time": "2022-05-23T11:54:23.864Z"
   },
   {
    "duration": 178,
    "start_time": "2022-05-23T11:54:23.884Z"
   },
   {
    "duration": 12,
    "start_time": "2022-05-23T11:54:24.064Z"
   },
   {
    "duration": 196,
    "start_time": "2022-05-23T11:54:24.078Z"
   },
   {
    "duration": 20,
    "start_time": "2022-05-23T11:54:24.276Z"
   },
   {
    "duration": 213,
    "start_time": "2022-05-23T11:54:24.298Z"
   },
   {
    "duration": 17,
    "start_time": "2022-05-23T11:54:24.513Z"
   },
   {
    "duration": 200,
    "start_time": "2022-05-23T11:54:24.532Z"
   },
   {
    "duration": 6,
    "start_time": "2022-05-23T11:54:24.733Z"
   },
   {
    "duration": 34,
    "start_time": "2022-05-23T11:54:24.740Z"
   },
   {
    "duration": 28,
    "start_time": "2022-05-23T11:54:24.775Z"
   },
   {
    "duration": 12,
    "start_time": "2022-05-23T11:54:24.805Z"
   },
   {
    "duration": 5,
    "start_time": "2022-05-23T11:54:24.819Z"
   },
   {
    "duration": 141,
    "start_time": "2022-05-23T11:54:24.826Z"
   },
   {
    "duration": 7,
    "start_time": "2022-05-23T11:54:24.969Z"
   },
   {
    "duration": 40,
    "start_time": "2022-05-23T11:54:24.995Z"
   },
   {
    "duration": 7,
    "start_time": "2022-05-23T11:54:25.037Z"
   },
   {
    "duration": 26,
    "start_time": "2022-05-23T11:54:25.046Z"
   },
   {
    "duration": 26,
    "start_time": "2022-05-23T11:54:25.074Z"
   },
   {
    "duration": 35,
    "start_time": "2022-05-23T11:54:25.103Z"
   },
   {
    "duration": 170,
    "start_time": "2022-05-23T11:54:25.141Z"
   },
   {
    "duration": 39,
    "start_time": "2022-05-23T11:54:25.313Z"
   },
   {
    "duration": 46,
    "start_time": "2022-05-23T11:54:25.353Z"
   },
   {
    "duration": 41,
    "start_time": "2022-05-23T11:54:25.401Z"
   },
   {
    "duration": 234,
    "start_time": "2022-05-23T11:54:25.444Z"
   },
   {
    "duration": 37,
    "start_time": "2022-05-23T11:54:25.680Z"
   },
   {
    "duration": 171,
    "start_time": "2022-05-23T11:54:25.719Z"
   },
   {
    "duration": 30,
    "start_time": "2022-05-23T11:54:25.894Z"
   },
   {
    "duration": 173,
    "start_time": "2022-05-23T11:54:25.926Z"
   },
   {
    "duration": 22,
    "start_time": "2022-05-23T11:54:26.101Z"
   },
   {
    "duration": 171,
    "start_time": "2022-05-23T11:54:26.124Z"
   },
   {
    "duration": 16,
    "start_time": "2022-05-23T11:54:26.297Z"
   },
   {
    "duration": 197,
    "start_time": "2022-05-23T11:54:26.320Z"
   },
   {
    "duration": 14,
    "start_time": "2022-05-23T11:54:26.519Z"
   },
   {
    "duration": 220,
    "start_time": "2022-05-23T11:54:26.534Z"
   },
   {
    "duration": 13,
    "start_time": "2022-05-23T11:54:26.757Z"
   },
   {
    "duration": 195,
    "start_time": "2022-05-23T11:54:26.772Z"
   },
   {
    "duration": 58,
    "start_time": "2022-05-23T12:06:50.422Z"
   },
   {
    "duration": 66,
    "start_time": "2022-05-23T12:06:59.929Z"
   },
   {
    "duration": 103,
    "start_time": "2022-05-23T12:11:41.796Z"
   },
   {
    "duration": 37,
    "start_time": "2022-05-23T12:19:39.728Z"
   },
   {
    "duration": 10,
    "start_time": "2022-05-23T12:22:03.987Z"
   },
   {
    "duration": 36,
    "start_time": "2022-05-23T12:22:14.541Z"
   },
   {
    "duration": 950,
    "start_time": "2022-05-23T12:22:25.475Z"
   },
   {
    "duration": 803,
    "start_time": "2022-05-23T12:22:35.682Z"
   },
   {
    "duration": 8,
    "start_time": "2022-05-23T12:22:45.114Z"
   },
   {
    "duration": 10,
    "start_time": "2022-05-23T12:22:52.206Z"
   },
   {
    "duration": 57,
    "start_time": "2022-05-23T12:27:29.138Z"
   },
   {
    "duration": 52,
    "start_time": "2022-05-23T12:28:05.485Z"
   },
   {
    "duration": 171,
    "start_time": "2022-05-23T12:30:27.042Z"
   },
   {
    "duration": 1063,
    "start_time": "2022-05-23T12:32:53.876Z"
   },
   {
    "duration": 43,
    "start_time": "2022-05-23T12:33:52.214Z"
   },
   {
    "duration": 212,
    "start_time": "2022-05-23T12:34:37.444Z"
   },
   {
    "duration": 30,
    "start_time": "2022-05-23T12:35:07.028Z"
   },
   {
    "duration": 30,
    "start_time": "2022-05-23T12:35:21.519Z"
   },
   {
    "duration": 19,
    "start_time": "2022-05-23T12:35:35.360Z"
   },
   {
    "duration": 188,
    "start_time": "2022-05-23T12:35:40.287Z"
   },
   {
    "duration": 147,
    "start_time": "2022-05-23T12:36:48.526Z"
   },
   {
    "duration": 33,
    "start_time": "2022-05-23T12:37:46.830Z"
   },
   {
    "duration": 21,
    "start_time": "2022-05-23T12:38:09.556Z"
   },
   {
    "duration": 178,
    "start_time": "2022-05-23T12:38:17.066Z"
   },
   {
    "duration": 143,
    "start_time": "2022-05-23T12:38:23.611Z"
   },
   {
    "duration": 236,
    "start_time": "2022-05-23T12:40:12.055Z"
   },
   {
    "duration": 5,
    "start_time": "2022-05-23T12:50:05.775Z"
   },
   {
    "duration": 924,
    "start_time": "2022-05-23T14:34:40.860Z"
   },
   {
    "duration": 17,
    "start_time": "2022-05-23T14:34:41.787Z"
   },
   {
    "duration": 9,
    "start_time": "2022-05-23T14:34:41.806Z"
   },
   {
    "duration": 13,
    "start_time": "2022-05-23T14:34:41.817Z"
   },
   {
    "duration": 18,
    "start_time": "2022-05-23T14:34:41.838Z"
   },
   {
    "duration": 74,
    "start_time": "2022-05-23T14:34:41.859Z"
   },
   {
    "duration": 8,
    "start_time": "2022-05-23T14:34:41.940Z"
   },
   {
    "duration": 25,
    "start_time": "2022-05-23T14:34:41.949Z"
   },
   {
    "duration": 7,
    "start_time": "2022-05-23T14:34:41.976Z"
   },
   {
    "duration": 9,
    "start_time": "2022-05-23T14:34:41.986Z"
   },
   {
    "duration": 7,
    "start_time": "2022-05-23T14:34:41.997Z"
   },
   {
    "duration": 29,
    "start_time": "2022-05-23T14:34:42.006Z"
   },
   {
    "duration": 52,
    "start_time": "2022-05-23T14:34:42.038Z"
   },
   {
    "duration": 279,
    "start_time": "2022-05-23T14:34:42.092Z"
   },
   {
    "duration": 7,
    "start_time": "2022-05-23T14:34:42.373Z"
   },
   {
    "duration": 11,
    "start_time": "2022-05-23T14:34:42.382Z"
   },
   {
    "duration": 5,
    "start_time": "2022-05-23T14:34:42.395Z"
   },
   {
    "duration": 31,
    "start_time": "2022-05-23T14:34:42.402Z"
   },
   {
    "duration": 28,
    "start_time": "2022-05-23T14:34:42.437Z"
   },
   {
    "duration": 95,
    "start_time": "2022-05-23T14:34:42.468Z"
   },
   {
    "duration": 311,
    "start_time": "2022-05-23T14:34:42.565Z"
   },
   {
    "duration": 71,
    "start_time": "2022-05-23T14:34:42.878Z"
   },
   {
    "duration": 44,
    "start_time": "2022-05-23T14:34:42.951Z"
   },
   {
    "duration": 193,
    "start_time": "2022-05-23T14:34:42.998Z"
   },
   {
    "duration": 237,
    "start_time": "2022-05-23T14:34:43.193Z"
   },
   {
    "duration": 174,
    "start_time": "2022-05-23T14:34:43.435Z"
   },
   {
    "duration": 226,
    "start_time": "2022-05-23T14:34:43.611Z"
   },
   {
    "duration": 255,
    "start_time": "2022-05-23T14:34:43.842Z"
   },
   {
    "duration": 6,
    "start_time": "2022-05-23T14:34:44.099Z"
   },
   {
    "duration": 233,
    "start_time": "2022-05-23T14:34:44.107Z"
   },
   {
    "duration": 7,
    "start_time": "2022-05-23T14:34:44.341Z"
   },
   {
    "duration": 7,
    "start_time": "2022-05-23T14:34:44.350Z"
   },
   {
    "duration": 20,
    "start_time": "2022-05-23T14:34:44.359Z"
   },
   {
    "duration": 155,
    "start_time": "2022-05-23T14:34:44.380Z"
   },
   {
    "duration": 123,
    "start_time": "2022-05-23T14:34:44.537Z"
   },
   {
    "duration": 219,
    "start_time": "2022-05-23T14:34:44.662Z"
   },
   {
    "duration": 145,
    "start_time": "2022-05-23T14:34:44.882Z"
   },
   {
    "duration": 139,
    "start_time": "2022-05-23T14:34:45.033Z"
   },
   {
    "duration": 171,
    "start_time": "2022-05-23T14:34:45.174Z"
   },
   {
    "duration": 129,
    "start_time": "2022-05-23T14:34:45.347Z"
   },
   {
    "duration": 120,
    "start_time": "2022-05-23T14:34:45.478Z"
   },
   {
    "duration": 54,
    "start_time": "2022-05-23T14:34:45.600Z"
   },
   {
    "duration": 211,
    "start_time": "2022-05-23T14:34:45.656Z"
   },
   {
    "duration": 37,
    "start_time": "2022-05-23T14:34:45.869Z"
   },
   {
    "duration": 5,
    "start_time": "2022-05-23T14:34:45.908Z"
   },
   {
    "duration": 203,
    "start_time": "2022-05-23T14:34:45.914Z"
   },
   {
    "duration": 56,
    "start_time": "2022-05-23T14:34:46.119Z"
   },
   {
    "duration": 5,
    "start_time": "2022-05-23T14:34:46.178Z"
   },
   {
    "duration": 265,
    "start_time": "2022-05-23T14:34:46.185Z"
   },
   {
    "duration": 25,
    "start_time": "2022-05-23T14:34:46.452Z"
   },
   {
    "duration": 193,
    "start_time": "2022-05-23T14:34:46.479Z"
   },
   {
    "duration": 13,
    "start_time": "2022-05-23T14:34:46.675Z"
   },
   {
    "duration": 256,
    "start_time": "2022-05-23T14:34:46.690Z"
   },
   {
    "duration": 15,
    "start_time": "2022-05-23T14:34:46.947Z"
   },
   {
    "duration": 208,
    "start_time": "2022-05-23T14:34:46.964Z"
   },
   {
    "duration": 14,
    "start_time": "2022-05-23T14:34:47.173Z"
   },
   {
    "duration": 201,
    "start_time": "2022-05-23T14:34:47.188Z"
   },
   {
    "duration": 12,
    "start_time": "2022-05-23T14:34:47.390Z"
   },
   {
    "duration": 58,
    "start_time": "2022-05-23T14:34:47.404Z"
   },
   {
    "duration": 28,
    "start_time": "2022-05-23T14:34:47.464Z"
   },
   {
    "duration": 9,
    "start_time": "2022-05-23T14:34:47.495Z"
   },
   {
    "duration": 19,
    "start_time": "2022-05-23T14:34:47.506Z"
   },
   {
    "duration": 171,
    "start_time": "2022-05-23T14:34:47.529Z"
   },
   {
    "duration": 7,
    "start_time": "2022-05-23T14:34:47.702Z"
   },
   {
    "duration": 79,
    "start_time": "2022-05-23T14:34:47.711Z"
   },
   {
    "duration": 6,
    "start_time": "2022-05-23T14:34:47.793Z"
   },
   {
    "duration": 32,
    "start_time": "2022-05-23T14:34:47.800Z"
   },
   {
    "duration": 56,
    "start_time": "2022-05-23T14:34:47.833Z"
   },
   {
    "duration": 42,
    "start_time": "2022-05-23T14:34:47.891Z"
   },
   {
    "duration": 197,
    "start_time": "2022-05-23T14:34:47.942Z"
   },
   {
    "duration": 48,
    "start_time": "2022-05-23T14:34:48.142Z"
   },
   {
    "duration": 51,
    "start_time": "2022-05-23T14:34:48.193Z"
   },
   {
    "duration": 36,
    "start_time": "2022-05-23T14:34:48.248Z"
   },
   {
    "duration": 223,
    "start_time": "2022-05-23T14:34:48.287Z"
   },
   {
    "duration": 45,
    "start_time": "2022-05-23T14:34:48.511Z"
   },
   {
    "duration": 196,
    "start_time": "2022-05-23T14:34:48.558Z"
   },
   {
    "duration": 25,
    "start_time": "2022-05-23T14:34:48.755Z"
   },
   {
    "duration": 212,
    "start_time": "2022-05-23T14:34:48.782Z"
   },
   {
    "duration": 20,
    "start_time": "2022-05-23T14:34:48.998Z"
   },
   {
    "duration": 161,
    "start_time": "2022-05-23T14:34:49.020Z"
   },
   {
    "duration": 171,
    "start_time": "2022-05-23T14:34:49.184Z"
   },
   {
    "duration": 13,
    "start_time": "2022-05-23T14:34:49.361Z"
   },
   {
    "duration": 207,
    "start_time": "2022-05-23T14:34:49.376Z"
   },
   {
    "duration": 13,
    "start_time": "2022-05-23T14:34:49.585Z"
   },
   {
    "duration": 245,
    "start_time": "2022-05-23T14:34:49.599Z"
   },
   {
    "duration": 14,
    "start_time": "2022-05-23T14:34:49.848Z"
   },
   {
    "duration": 186,
    "start_time": "2022-05-23T14:34:49.864Z"
   },
   {
    "duration": 5,
    "start_time": "2022-05-23T14:57:15.779Z"
   }
  ],
  "kernelspec": {
   "display_name": "Python 3 (ipykernel)",
   "language": "python",
   "name": "python3"
  },
  "language_info": {
   "codemirror_mode": {
    "name": "ipython",
    "version": 3
   },
   "file_extension": ".py",
   "mimetype": "text/x-python",
   "name": "python",
   "nbconvert_exporter": "python",
   "pygments_lexer": "ipython3",
   "version": "3.9.12"
  },
  "toc": {
   "base_numbering": 1,
   "nav_menu": {},
   "number_sections": true,
   "sideBar": true,
   "skip_h1_title": true,
   "title_cell": "Содержание",
   "title_sidebar": "Contents",
   "toc_cell": true,
   "toc_position": {
    "height": "calc(100% - 180px)",
    "left": "10px",
    "top": "150px",
    "width": "255.587px"
   },
   "toc_section_display": true,
   "toc_window_display": true
  }
 },
 "nbformat": 4,
 "nbformat_minor": 4
}
